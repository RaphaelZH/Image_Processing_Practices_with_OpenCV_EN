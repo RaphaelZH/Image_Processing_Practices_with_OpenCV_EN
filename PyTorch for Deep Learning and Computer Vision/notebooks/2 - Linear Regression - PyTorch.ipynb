{
 "cells": [
  {
   "cell_type": "markdown",
   "id": "e1c1e7bb",
   "metadata": {},
   "source": [
    "# Importing Libraries"
   ]
  },
  {
   "cell_type": "code",
   "execution_count": 1,
   "id": "9cf99061",
   "metadata": {
    "ExecuteTime": {
     "end_time": "2022-10-27T20:07:09.934019Z",
     "start_time": "2022-10-27T20:07:08.952685Z"
    }
   },
   "outputs": [],
   "source": [
    "import torch\n",
    "from torch import nn\n",
    "\n",
    "import numpy as np\n",
    "\n",
    "import matplotlib as mpl\n",
    "import matplotlib.pyplot as plt\n",
    "\n",
    "import sys"
   ]
  },
  {
   "cell_type": "markdown",
   "id": "738e818f",
   "metadata": {},
   "source": [
    "# Configuring Visualization Parameters"
   ]
  },
  {
   "cell_type": "code",
   "execution_count": 2,
   "id": "3507ab9e",
   "metadata": {
    "ExecuteTime": {
     "end_time": "2022-10-27T20:07:09.943689Z",
     "start_time": "2022-10-27T20:07:09.935418Z"
    }
   },
   "outputs": [],
   "source": [
    "%matplotlib inline"
   ]
  },
  {
   "cell_type": "code",
   "execution_count": 3,
   "id": "0e668461",
   "metadata": {
    "ExecuteTime": {
     "end_time": "2022-10-27T20:07:09.946464Z",
     "start_time": "2022-10-27T20:07:09.944571Z"
    }
   },
   "outputs": [],
   "source": [
    "XINHUI = '#7a7374'\n",
    "XUEBAI = '#fffef9'\n",
    "YINBAI = '#f1f0ed'\n",
    "YINHUI = '#918072'\n",
    "\n",
    "figure_size = (16, 9)"
   ]
  },
  {
   "cell_type": "code",
   "execution_count": 4,
   "id": "eca9f05f",
   "metadata": {
    "ExecuteTime": {
     "end_time": "2022-10-27T20:07:09.950515Z",
     "start_time": "2022-10-27T20:07:09.948018Z"
    }
   },
   "outputs": [],
   "source": [
    "custom_params = {\n",
    "    'axes.axisbelow': True,\n",
    "    'axes.edgecolor': YINBAI,\n",
    "    'axes.facecolor': XUEBAI,\n",
    "    'axes.grid': True,\n",
    "    'axes.labelcolor': XINHUI,\n",
    "    'axes.spines.right': False,\n",
    "    'axes.spines.top': False,\n",
    "    'axes.titlecolor': XINHUI,\n",
    "    'figure.edgecolor': YINBAI,\n",
    "    'figure.facecolor': XUEBAI,\n",
    "    'grid.alpha': .8,\n",
    "    'grid.color': YINBAI,\n",
    "    'grid.linestyle': '--',\n",
    "    'grid.linewidth': 1.2,\n",
    "    'legend.edgecolor': YINHUI,\n",
    "    'patch.edgecolor': XUEBAI,\n",
    "    'patch.force_edgecolor': True,\n",
    "    'text.color': XINHUI,\n",
    "    'xtick.color': YINHUI,\n",
    "    'ytick.color': YINHUI,\n",
    "}\n",
    "\n",
    "mpl.rcParams.update(custom_params)"
   ]
  },
  {
   "cell_type": "markdown",
   "id": "c789e8b4",
   "metadata": {},
   "source": [
    "# Pre-installing Custom Functions"
   ]
  },
  {
   "cell_type": "code",
   "execution_count": 5,
   "id": "fc4df5fa",
   "metadata": {
    "ExecuteTime": {
     "end_time": "2022-10-27T20:07:09.952868Z",
     "start_time": "2022-10-27T20:07:09.951465Z"
    }
   },
   "outputs": [],
   "source": [
    "sys.path.append('../')"
   ]
  },
  {
   "cell_type": "code",
   "execution_count": 6,
   "id": "4aac1f58",
   "metadata": {
    "ExecuteTime": {
     "end_time": "2022-10-27T20:07:09.962373Z",
     "start_time": "2022-10-27T20:07:09.953908Z"
    }
   },
   "outputs": [],
   "source": [
    "from modules import *"
   ]
  },
  {
   "cell_type": "markdown",
   "id": "48c5e205",
   "metadata": {},
   "source": [
    "# Practicing in Stages\n",
    "\n",
    "## Making Predictions"
   ]
  },
  {
   "cell_type": "code",
   "execution_count": 29,
   "id": "d182c6d9",
   "metadata": {
    "ExecuteTime": {
     "end_time": "2022-10-27T20:30:32.150754Z",
     "start_time": "2022-10-27T20:30:32.141756Z"
    },
    "code_folding": [],
    "hide_input": false,
    "scrolled": false
   },
   "outputs": [
    {
     "name": "stdout",
     "output_type": "stream",
     "text": [
      "\u001b[4m\u001b[32mDefinition of the function of prediction\u001b[0m\n",
      "\n",
      "\u001b[1m\u001b[32m    +-------------------+\u001b[0m\n",
      "\u001b[1m\u001b[32m    | Definition        |\u001b[0m\n",
      "\u001b[1m\u001b[32m    +-------------------+\u001b[0m\n",
      "\u001b[1m\u001b[32m    | def forward(x):   |\u001b[0m\n",
      "\u001b[1m\u001b[32m    |     y = w * x + b |\u001b[0m\n",
      "\u001b[1m\u001b[32m    |     return y      |\u001b[0m\n",
      "\u001b[1m\u001b[32m    +-------------------+\u001b[0m\n"
     ]
    }
   ],
   "source": [
    "def forward(x):\n",
    "    y = w * x + b\n",
    "    return y\n",
    "\n",
    "\n",
    "font_color_printer(\"Definition of the function of prediction\")\n",
    "\n",
    "definition_1 = \"\"\"\n",
    "def forward(x):\n",
    "    y = w * x + b\n",
    "    return y\n",
    "\"\"\"\n",
    "\n",
    "definitions = [definition_1]\n",
    "\n",
    "definition_generator(definitions)"
   ]
  },
  {
   "cell_type": "code",
   "execution_count": 30,
   "id": "81977527",
   "metadata": {
    "ExecuteTime": {
     "end_time": "2022-10-27T20:36:55.106746Z",
     "start_time": "2022-10-27T20:36:55.092641Z"
    },
    "hide_input": false
   },
   "outputs": [
    {
     "name": "stdout",
     "output_type": "stream",
     "text": [
      "\u001b[4m\u001b[31mInitial assignment of parameters\u001b[0m\n",
      "\n",
      "\u001b[1m\u001b[31m    +-------------------------------------------+\u001b[0m\n",
      "\u001b[1m\u001b[31m    | Statement                                 |\u001b[0m\n",
      "\u001b[1m\u001b[31m    +-------------------------------------------+\u001b[0m\n",
      "\u001b[1m\u001b[31m    | w = torch.tensor(3.0, requires_grad=True) |\u001b[0m\n",
      "\u001b[1m\u001b[31m    | b = torch.tensor(1.0, requires_grad=True) |\u001b[0m\n",
      "\u001b[1m\u001b[31m    +-------------------------------------------+\u001b[0m\n",
      "\u001b[1m\u001b[31m    +----------+--------------------------------+\u001b[0m\n",
      "\u001b[1m\u001b[31m    | Variable | Value                          |\u001b[0m\n",
      "\u001b[1m\u001b[31m    +----------+--------------------------------+\u001b[0m\n",
      "\u001b[1m\u001b[31m    | w        | tensor(3., requires_grad=True) |\u001b[0m\n",
      "\u001b[1m\u001b[31m    | b        | tensor(1., requires_grad=True) |\u001b[0m\n",
      "\u001b[1m\u001b[31m    +----------+--------------------------------+\u001b[0m\n"
     ]
    }
   ],
   "source": [
    "w = torch.tensor(3.0, requires_grad=True)\n",
    "b = torch.tensor(1.0, requires_grad=True)\n",
    "\n",
    "font_color_printer(\"Initial assignment of parameters\",\n",
    "                   attrs=['underline'],\n",
    "                   end='\\n\\n')\n",
    "\n",
    "statement_1 = \"w = torch.tensor(3.0, requires_grad=True)\"\n",
    "statement_2 = \"b = torch.tensor(1.0, requires_grad=True)\"\n",
    "statements = [statement_1] + [statement_2]\n",
    "statement_generator(statements)\n",
    "\n",
    "variables = [\"w\", \"b\"]\n",
    "values = [str(w), str(b)]\n",
    "variable_generator(variables, values)"
   ]
  },
  {
   "cell_type": "code",
   "execution_count": 31,
   "id": "b3b5bfe2",
   "metadata": {
    "ExecuteTime": {
     "end_time": "2022-10-27T21:02:32.840207Z",
     "start_time": "2022-10-27T21:02:32.814682Z"
    },
    "hide_input": false
   },
   "outputs": [
    {
     "name": "stdout",
     "output_type": "stream",
     "text": [
      "\u001b[4m\u001b[30mFunction implementation of 0D tensor\u001b[0m\n",
      "\n",
      "\u001b[1m\u001b[30m    +---------------------+\u001b[0m\n",
      "\u001b[1m\u001b[30m    | Statement           |\u001b[0m\n",
      "\u001b[1m\u001b[30m    +---------------------+\u001b[0m\n",
      "\u001b[1m\u001b[30m    | x = torch.tensor(2) |\u001b[0m\n",
      "\u001b[1m\u001b[30m    +---------------------+\u001b[0m\n",
      "\u001b[1m\u001b[30m    +----------+-----------+\u001b[0m\n",
      "\u001b[1m\u001b[30m    | Variable | Value     |\u001b[0m\n",
      "\u001b[1m\u001b[30m    +----------+-----------+\u001b[0m\n",
      "\u001b[1m\u001b[30m    | x        | tensor(2) |\u001b[0m\n",
      "\u001b[1m\u001b[30m    +----------+-----------+\u001b[0m\n",
      "\u001b[1m\u001b[30m    +------------+------------------------------------+\u001b[0m\n",
      "\u001b[1m\u001b[30m    | Expression | Result                             |\u001b[0m\n",
      "\u001b[1m\u001b[30m    +------------+------------------------------------+\u001b[0m\n",
      "\u001b[1m\u001b[30m    | forward(x) | tensor(7., grad_fn=<AddBackward0>) |\u001b[0m\n",
      "\u001b[1m\u001b[30m    +------------+------------------------------------+\u001b[0m\n"
     ]
    }
   ],
   "source": [
    "x = torch.tensor(2)\n",
    "\n",
    "font_color_printer(\"Function implementation of 0D tensor\",\n",
    "                   attrs=['underline'],\n",
    "                   end='\\n\\n')\n",
    "\n",
    "statement_1 = \"x = torch.tensor(2)\"\n",
    "statements = [statement_1]\n",
    "statement_generator(statements)\n",
    "\n",
    "variables = [\"x\"]\n",
    "values = [str(x)]\n",
    "variable_generator(variables, values)\n",
    "\n",
    "expressions = [\"forward(x)\"]\n",
    "results = [str(forward(x))]\n",
    "expression_generator(expressions, results)"
   ]
  },
  {
   "cell_type": "code",
   "execution_count": 33,
   "id": "993b825a",
   "metadata": {
    "ExecuteTime": {
     "end_time": "2022-10-27T21:03:13.971324Z",
     "start_time": "2022-10-27T21:03:13.957007Z"
    },
    "hide_input": false
   },
   "outputs": [
    {
     "name": "stdout",
     "output_type": "stream",
     "text": [
      "\u001b[4m\u001b[34mFunction implementation of multi-D tensor\u001b[0m\n",
      "\n",
      "\u001b[1m\u001b[34m    +------------------------------+\u001b[0m\n",
      "\u001b[1m\u001b[34m    | Statement                    |\u001b[0m\n",
      "\u001b[1m\u001b[34m    +------------------------------+\u001b[0m\n",
      "\u001b[1m\u001b[34m    | x = torch.tensor([[4], [7]]) |\u001b[0m\n",
      "\u001b[1m\u001b[34m    +------------------------------+\u001b[0m\n",
      "\u001b[1m\u001b[34m    +----------+---------------+\u001b[0m\n",
      "\u001b[1m\u001b[34m    | Variable | Value         |\u001b[0m\n",
      "\u001b[1m\u001b[34m    +----------+---------------+\u001b[0m\n",
      "\u001b[1m\u001b[34m    | x        | tensor([[4],  |\u001b[0m\n",
      "\u001b[1m\u001b[34m    |          |         [7]]) |\u001b[0m\n",
      "\u001b[1m\u001b[34m    +----------+---------------+\u001b[0m\n",
      "\u001b[1m\u001b[34m    +------------+-----------------------------------------+\u001b[0m\n",
      "\u001b[1m\u001b[34m    | Expression | Result                                  |\u001b[0m\n",
      "\u001b[1m\u001b[34m    +------------+-----------------------------------------+\u001b[0m\n",
      "\u001b[1m\u001b[34m    | forward(x) | tensor([[13.],                          |\u001b[0m\n",
      "\u001b[1m\u001b[34m    |            |         [22.]], grad_fn=<AddBackward0>) |\u001b[0m\n",
      "\u001b[1m\u001b[34m    +------------+-----------------------------------------+\u001b[0m\n"
     ]
    }
   ],
   "source": [
    "x = torch.tensor([[4], [7]])\n",
    "\n",
    "font_color_printer(\"Function implementation of multi-D tensor\",\n",
    "                   attrs=['underline'],\n",
    "                   end='\\n\\n')\n",
    "\n",
    "statement_1 = \"x = torch.tensor([[4], [7]])\"\n",
    "statements = [statement_1]\n",
    "statement_generator(statements)\n",
    "\n",
    "variables = [\"x\"]\n",
    "values = [str(x)]\n",
    "variable_generator(variables, values)\n",
    "\n",
    "expressions = [\"forward(x)\"]\n",
    "results = [str(forward(x))]\n",
    "expression_generator(expressions, results)"
   ]
  },
  {
   "cell_type": "markdown",
   "id": "27c1b23c",
   "metadata": {},
   "source": [
    "## Linear Class"
   ]
  },
  {
   "cell_type": "code",
   "execution_count": null,
   "id": "3fc5d6f7",
   "metadata": {
    "ExecuteTime": {
     "end_time": "2022-10-27T20:07:10.278831Z",
     "start_time": "2022-10-27T20:07:10.278826Z"
    }
   },
   "outputs": [],
   "source": [
    "torch.manual_seed(1)\n",
    "model = nn.Linear(in_features=1, out_features=1)\n",
    "\n",
    "font_color_printer(\"Initialization of standard linear model\",\n",
    "                   attrs=['underline'],\n",
    "                   end='\\n\\n')\n",
    "\n",
    "table = [[\"Statement\"], [\"torch.manual_seed(1)\"],\n",
    "         [\"model = nn.Linear(in_features=1, out_features=1)\"]]\n",
    "table_list = tabulate(table,\n",
    "                      headers='firstrow',\n",
    "                      tablefmt='pretty',\n",
    "                      colalign=(\"left\", )).split('\\n')\n",
    "for line in table_list:\n",
    "    cprint('\\t'.expandtabs(4) + line, previous_color, attrs=['bold'])\n",
    "\n",
    "table = [[\"Variable\", \"Value\"], [\"model\", str(model)]]\n",
    "table_list = tabulate(table,\n",
    "                      headers='firstrow',\n",
    "                      tablefmt='pretty',\n",
    "                      colalign=(\"left\", \"left\")).split('\\n')\n",
    "for line in table_list:\n",
    "    cprint('\\t'.expandtabs(4) + line, previous_color, attrs=['bold'])\n",
    "\n",
    "table = [[\"Expression\", \"Result\"], [\"model.weight\",\n",
    "                                    str(model.weight)],\n",
    "         [\"model.bias\", model.bias]]\n",
    "table_list = tabulate(table,\n",
    "                      headers='firstrow',\n",
    "                      tablefmt='pretty',\n",
    "                      colalign=(\"left\", \"left\")).split('\\n')\n",
    "for line in table_list:\n",
    "    cprint('\\t'.expandtabs(4) + line, previous_color, attrs=['bold'])"
   ]
  },
  {
   "cell_type": "code",
   "execution_count": null,
   "id": "e189eb8a",
   "metadata": {
    "ExecuteTime": {
     "end_time": "2022-10-27T20:07:10.279538Z",
     "start_time": "2022-10-27T20:07:10.279533Z"
    }
   },
   "outputs": [],
   "source": [
    "x = torch.tensor([2.0])\n",
    "\n",
    "font_color_printer(\"Model implementation of 1D tensor\",\n",
    "                   attrs=['underline'],\n",
    "                   end='\\n\\n')\n",
    "\n",
    "table = [[\"Statement\"], [\"x = torch.tensor([2.0])\"]]\n",
    "table_list = tabulate(table,\n",
    "                      headers='firstrow',\n",
    "                      tablefmt='pretty',\n",
    "                      colalign=(\"left\", )).split('\\n')\n",
    "for line in table_list:\n",
    "    cprint('\\t'.expandtabs(4) + line, previous_color, attrs=['bold'])\n",
    "\n",
    "table = [[\"Variable\", \"Value\"], [\"x\", str(x)]]\n",
    "table_list = tabulate(table,\n",
    "                      headers='firstrow',\n",
    "                      tablefmt='pretty',\n",
    "                      colalign=(\"left\", \"left\")).split('\\n')\n",
    "for line in table_list:\n",
    "    cprint('\\t'.expandtabs(4) + line, previous_color, attrs=['bold'])\n",
    "\n",
    "table = [[\"Expression\", \"Result\"], [\"model(x)\", str(model(x))]]\n",
    "table_list = tabulate(table,\n",
    "                      headers='firstrow',\n",
    "                      tablefmt='pretty',\n",
    "                      colalign=(\"left\", \"left\")).split('\\n')\n",
    "for line in table_list:\n",
    "    cprint('\\t'.expandtabs(4) + line, previous_color, attrs=['bold'])"
   ]
  },
  {
   "cell_type": "code",
   "execution_count": null,
   "id": "50888b86",
   "metadata": {
    "ExecuteTime": {
     "end_time": "2022-10-27T20:07:10.280212Z",
     "start_time": "2022-10-27T20:07:10.280203Z"
    }
   },
   "outputs": [],
   "source": [
    "x = torch.tensor([[2.0], [3.3]])\n",
    "\n",
    "font_color_printer(\"Model implementation of multi-D tensor\",\n",
    "                   attrs=['underline'],\n",
    "                   end='\\n\\n')\n",
    "\n",
    "table = [[\"Statement\"],\n",
    "         [\"01020304050607080910111213141516171819202122232425262728293\"]]\n",
    "table_list = tabulate(table,\n",
    "                      headers='firstrow',\n",
    "                      tablefmt='pretty',\n",
    "                      colalign=(\"left\", )).split('\\n')\n",
    "for line in table_list:\n",
    "    cprint('\\t'.expandtabs(4) + line, previous_color, attrs=['bold'])\n",
    "\n",
    "table = [[\"Variable\", \"Value\"], [\"x\", str(x)]]\n",
    "table_list = tabulate(table,\n",
    "                      headers='firstrow',\n",
    "                      tablefmt='pretty',\n",
    "                      colalign=(\"left\", \"left\")).split('\\n')\n",
    "for line in table_list:\n",
    "    cprint('\\t'.expandtabs(4) + line, previous_color, attrs=['bold'])\n",
    "\n",
    "table = [[\"Expression\", \"Result\"],\n",
    "         [\"model(x)\",\n",
    "          str(\"0102030405060708091011121314151617181920212223\")]]\n",
    "table_list = tabulate(table,\n",
    "                      headers='firstrow',\n",
    "                      tablefmt='pretty',\n",
    "                      colalign=(\"left\", \"left\")).split('\\n')\n",
    "for line in table_list:\n",
    "    cprint('\\t'.expandtabs(4) + line, previous_color, attrs=['bold'])"
   ]
  },
  {
   "cell_type": "code",
   "execution_count": null,
   "id": "b39bd459",
   "metadata": {
    "ExecuteTime": {
     "end_time": "2022-10-27T20:07:10.280695Z",
     "start_time": "2022-10-27T20:07:10.280689Z"
    }
   },
   "outputs": [],
   "source": [
    "able = [[\"Expression\", \"Result\"], [\"model(x)\", str(model(x))]]\n",
    "table_list = tabulate(table,\n",
    "                      headers='firstrow',\n",
    "                      tablefmt='pretty',\n",
    "                      colalign=(\"left\", \"left\")).split('\\n')\n",
    "for line in table_list:\n",
    "    cprint('\\t'.expandtabs(4) + line, previous_color, attrs=['bold'])"
   ]
  },
  {
   "cell_type": "code",
   "execution_count": null,
   "id": "35e157a5",
   "metadata": {
    "ExecuteTime": {
     "end_time": "2022-10-27T20:07:10.281383Z",
     "start_time": "2022-10-27T20:07:10.281377Z"
    }
   },
   "outputs": [],
   "source": [
    "for i in range(1, 100):\n",
    "    if i < 10:\n",
    "        i = '0' + str(i)\n",
    "    else:\n",
    "        i = str(i)\n",
    "    print(i, end='')"
   ]
  },
  {
   "cell_type": "code",
   "execution_count": null,
   "id": "bd34707a",
   "metadata": {},
   "outputs": [],
   "source": []
  },
  {
   "cell_type": "code",
   "execution_count": null,
   "id": "c02af0d0",
   "metadata": {},
   "outputs": [],
   "source": []
  },
  {
   "cell_type": "markdown",
   "id": "2dfe48c8",
   "metadata": {},
   "source": [
    "# Custom Modules"
   ]
  },
  {
   "cell_type": "code",
   "execution_count": null,
   "id": "483dad96",
   "metadata": {
    "ExecuteTime": {
     "end_time": "2022-10-27T20:07:10.281994Z",
     "start_time": "2022-10-27T20:07:10.281989Z"
    }
   },
   "outputs": [],
   "source": [
    "class LR(nn.Module):\n",
    "\n",
    "    def __init__(self, input_size, output_size):\n",
    "        super().__init__()\n",
    "        self.linear = nn.Linear(input_size, output_size)\n",
    "\n",
    "    def forward(self, x):\n",
    "        pred = self.linear(x)\n",
    "        return pred"
   ]
  },
  {
   "cell_type": "code",
   "execution_count": null,
   "id": "265214e3",
   "metadata": {
    "ExecuteTime": {
     "end_time": "2022-10-27T20:07:10.282617Z",
     "start_time": "2022-10-27T20:07:10.282611Z"
    }
   },
   "outputs": [],
   "source": [
    "torch.manual_seed(1)\n",
    "model = LR(1, 1)\n",
    "print(list(model.parameters()))"
   ]
  },
  {
   "cell_type": "code",
   "execution_count": null,
   "id": "19f2d664",
   "metadata": {
    "ExecuteTime": {
     "end_time": "2022-10-27T20:07:10.283678Z",
     "start_time": "2022-10-27T20:07:10.283667Z"
    }
   },
   "outputs": [],
   "source": [
    "print(model.parameters())"
   ]
  },
  {
   "cell_type": "code",
   "execution_count": null,
   "id": "f535779c",
   "metadata": {
    "ExecuteTime": {
     "end_time": "2022-10-27T20:07:10.284429Z",
     "start_time": "2022-10-27T20:07:10.284423Z"
    }
   },
   "outputs": [],
   "source": [
    "x = torch.tensor([1.0])\n",
    "print(model.forward(x))"
   ]
  },
  {
   "cell_type": "code",
   "execution_count": null,
   "id": "0ad1e3ea",
   "metadata": {
    "ExecuteTime": {
     "end_time": "2022-10-27T20:07:10.285074Z",
     "start_time": "2022-10-27T20:07:10.285067Z"
    }
   },
   "outputs": [],
   "source": [
    "x = torch.tensor([[1.0], [2.0]])\n",
    "print(model.forward(x))"
   ]
  },
  {
   "cell_type": "markdown",
   "id": "2cadf66c",
   "metadata": {
    "ExecuteTime": {
     "end_time": "2022-07-21T01:19:38.272762Z",
     "start_time": "2022-07-21T01:19:38.266612Z"
    }
   },
   "source": [
    "# Creating Dataset"
   ]
  },
  {
   "cell_type": "code",
   "execution_count": null,
   "id": "2cc866b2",
   "metadata": {
    "ExecuteTime": {
     "end_time": "2022-10-27T20:07:10.285652Z",
     "start_time": "2022-10-27T20:07:10.285646Z"
    }
   },
   "outputs": [],
   "source": [
    "X = torch.randn(100, 1)\n",
    "print(X[::10])"
   ]
  },
  {
   "cell_type": "code",
   "execution_count": null,
   "id": "c4f55e72",
   "metadata": {
    "ExecuteTime": {
     "end_time": "2022-10-27T20:07:10.286180Z",
     "start_time": "2022-10-27T20:07:10.286175Z"
    }
   },
   "outputs": [],
   "source": [
    "X = torch.randn(100, 1) * 10\n",
    "y = X\n",
    "colors = calm_color_generator(1)\n",
    "plt.plot(X.numpy(), y.numpy(), 'o', c=colors[0])"
   ]
  },
  {
   "cell_type": "code",
   "execution_count": null,
   "id": "ab4a7bbc",
   "metadata": {
    "ExecuteTime": {
     "end_time": "2022-10-27T20:07:10.287171Z",
     "start_time": "2022-10-27T20:07:10.287165Z"
    },
    "scrolled": true
   },
   "outputs": [],
   "source": [
    "y = X + 3 * torch.randn(100, 1)\n",
    "colors = calm_color_generator(1)\n",
    "plt.plot(X.numpy(), y.numpy(), 'o', c=colors[0])\n",
    "plt.ylabel('y')\n",
    "plt.xlabel('X')"
   ]
  },
  {
   "cell_type": "code",
   "execution_count": null,
   "id": "990cbe78",
   "metadata": {
    "ExecuteTime": {
     "end_time": "2022-10-27T20:07:10.287799Z",
     "start_time": "2022-10-27T20:07:10.287794Z"
    }
   },
   "outputs": [],
   "source": [
    "print(model)"
   ]
  },
  {
   "cell_type": "code",
   "execution_count": null,
   "id": "88933579",
   "metadata": {
    "ExecuteTime": {
     "end_time": "2022-10-27T20:07:10.288304Z",
     "start_time": "2022-10-27T20:07:10.288299Z"
    }
   },
   "outputs": [],
   "source": [
    "[w, b] = model.parameters()\n",
    "print([w, b])"
   ]
  },
  {
   "cell_type": "code",
   "execution_count": null,
   "id": "2d2b9560",
   "metadata": {
    "ExecuteTime": {
     "end_time": "2022-10-27T20:07:10.288840Z",
     "start_time": "2022-10-27T20:07:10.288835Z"
    }
   },
   "outputs": [],
   "source": [
    "w1 = w[0][0]\n",
    "b1 = b[0]\n",
    "print(w1, b1)"
   ]
  },
  {
   "cell_type": "code",
   "execution_count": null,
   "id": "a3e68ffa",
   "metadata": {
    "ExecuteTime": {
     "end_time": "2022-10-27T20:07:10.289436Z",
     "start_time": "2022-10-27T20:07:10.289430Z"
    }
   },
   "outputs": [],
   "source": [
    "w1 = w[0][0].item()\n",
    "b1 = b[0].item()\n",
    "print(w1, b1)"
   ]
  },
  {
   "cell_type": "code",
   "execution_count": null,
   "id": "2be16880",
   "metadata": {
    "ExecuteTime": {
     "end_time": "2022-10-27T20:07:10.289863Z",
     "start_time": "2022-10-27T20:07:10.289858Z"
    }
   },
   "outputs": [],
   "source": [
    "def get_params():\n",
    "    return (w[0][0].item(), b[0].item())"
   ]
  },
  {
   "cell_type": "code",
   "execution_count": null,
   "id": "682f031b",
   "metadata": {
    "ExecuteTime": {
     "end_time": "2022-10-27T20:07:10.290463Z",
     "start_time": "2022-10-27T20:07:10.290457Z"
    }
   },
   "outputs": [],
   "source": [
    "def plot_fit(title):\n",
    "    plt.title = title\n",
    "    w1, b1 = get_params()\n",
    "    x1 = np.array([-30, 30])\n",
    "    y1 = w1 * x1 + b1\n",
    "    plt.plot(x1, y1, 'r')\n",
    "    colors = calm_color_generator(1)\n",
    "    plt.scatter(X, y, color=colors[0])\n",
    "    plt.show()"
   ]
  },
  {
   "cell_type": "code",
   "execution_count": null,
   "id": "1ea2be80",
   "metadata": {
    "ExecuteTime": {
     "end_time": "2022-10-27T20:07:10.291127Z",
     "start_time": "2022-10-27T20:07:10.291121Z"
    }
   },
   "outputs": [],
   "source": [
    "plot_fit(\"Initial Model\")"
   ]
  },
  {
   "cell_type": "markdown",
   "id": "e42ddaff",
   "metadata": {
    "ExecuteTime": {
     "end_time": "2022-07-21T02:44:23.523234Z",
     "start_time": "2022-07-21T02:44:23.514722Z"
    }
   },
   "source": [
    "# Training - Code Implementation"
   ]
  },
  {
   "cell_type": "code",
   "execution_count": null,
   "id": "b170933b",
   "metadata": {
    "ExecuteTime": {
     "end_time": "2022-10-27T20:07:10.291754Z",
     "start_time": "2022-10-27T20:07:10.291748Z"
    }
   },
   "outputs": [],
   "source": [
    "criterion = nn.MSELoss()\n",
    "optimizer = torch.optim.SGD(model.parameters(), lr=0.0002)"
   ]
  },
  {
   "cell_type": "code",
   "execution_count": null,
   "id": "ade7f23f",
   "metadata": {
    "ExecuteTime": {
     "end_time": "2022-10-27T20:07:10.292340Z",
     "start_time": "2022-10-27T20:07:10.292335Z"
    }
   },
   "outputs": [],
   "source": [
    "print(criterion)"
   ]
  },
  {
   "cell_type": "code",
   "execution_count": null,
   "id": "9c7f1c19",
   "metadata": {
    "ExecuteTime": {
     "end_time": "2022-10-27T20:07:10.292835Z",
     "start_time": "2022-10-27T20:07:10.292830Z"
    }
   },
   "outputs": [],
   "source": [
    "print(optimizer)"
   ]
  },
  {
   "cell_type": "code",
   "execution_count": null,
   "id": "a5fb9883",
   "metadata": {
    "ExecuteTime": {
     "end_time": "2022-10-27T20:07:10.293785Z",
     "start_time": "2022-10-27T20:07:10.293778Z"
    }
   },
   "outputs": [],
   "source": [
    "epochs = 100\n",
    "losses = []\n",
    "termcolors = [\n",
    "    'grey', 'red', 'green', 'yellow', 'blue', 'magenta', 'cyan', 'white'\n",
    "]\n",
    "font_colors = random.choices(termcolors, k=2)\n",
    "for i in range(epochs):\n",
    "    i += 1\n",
    "    y_pred = model.forward(X)\n",
    "    loss = criterion(y_pred, y)\n",
    "    if i == 1 or i % 10 == 0:\n",
    "        print(colored(\"epoch:\", font_colors[0], attrs=['bold']), i,\n",
    "              colored(\"loss:\", font_colors[1]), loss.item())\n",
    "        print(colored(\"weight:\", font_colors[1]),\n",
    "              list(model.parameters())[0][0][0].item(),\n",
    "              colored(\"bias:\", font_colors[1]),\n",
    "              list(model.parameters())[1][0].item())\n",
    "    losses.append(loss.item())\n",
    "    optimizer.zero_grad()\n",
    "    loss.backward()\n",
    "    optimizer.step()"
   ]
  },
  {
   "cell_type": "code",
   "execution_count": null,
   "id": "feb8435c",
   "metadata": {
    "ExecuteTime": {
     "end_time": "2022-10-27T20:07:10.294406Z",
     "start_time": "2022-10-27T20:07:10.294401Z"
    }
   },
   "outputs": [],
   "source": [
    "colors = calm_color_generator(1)\n",
    "plt.plot(range(epochs), losses, c=colors[0])\n",
    "plt.ylabel('Loss')\n",
    "plt.xlabel('Epoch')"
   ]
  },
  {
   "cell_type": "code",
   "execution_count": null,
   "id": "a99dfa85",
   "metadata": {
    "ExecuteTime": {
     "end_time": "2022-10-27T20:07:10.295105Z",
     "start_time": "2022-10-27T20:07:10.295099Z"
    }
   },
   "outputs": [],
   "source": [
    "plot_fit(\"Trained Model\")"
   ]
  }
 ],
 "metadata": {
  "hide_input": false,
  "kernelspec": {
   "display_name": "Python 3 (ipykernel)",
   "language": "python",
   "name": "python3"
  },
  "language_info": {
   "codemirror_mode": {
    "name": "ipython",
    "version": 3
   },
   "file_extension": ".py",
   "mimetype": "text/x-python",
   "name": "python",
   "nbconvert_exporter": "python",
   "pygments_lexer": "ipython3",
   "version": "3.9.12"
  },
  "latex_envs": {
   "LaTeX_envs_menu_present": true,
   "autoclose": false,
   "autocomplete": true,
   "bibliofile": "biblio.bib",
   "cite_by": "apalike",
   "current_citInitial": 1,
   "eqLabelWithNumbers": true,
   "eqNumInitial": 1,
   "hotkeys": {
    "equation": "Ctrl-E",
    "itemize": "Ctrl-I"
   },
   "labels_anchors": false,
   "latex_user_defs": false,
   "report_style_numbering": false,
   "user_envs_cfg": false
  },
  "nbTranslate": {
   "displayLangs": [
    "*"
   ],
   "hotkey": "alt-t",
   "langInMainMenu": true,
   "sourceLang": "en",
   "targetLang": "fr",
   "useGoogleTranslate": true
  },
  "toc": {
   "base_numbering": 1,
   "nav_menu": {},
   "number_sections": true,
   "sideBar": true,
   "skip_h1_title": false,
   "title_cell": "Table of Contents",
   "title_sidebar": "Contents",
   "toc_cell": false,
   "toc_position": {
    "height": "calc(100% - 180px)",
    "left": "10px",
    "top": "150px",
    "width": "345.594px"
   },
   "toc_section_display": true,
   "toc_window_display": true
  },
  "varInspector": {
   "cols": {
    "lenName": 16,
    "lenType": 16,
    "lenVar": 40
   },
   "kernels_config": {
    "python": {
     "delete_cmd_postfix": "",
     "delete_cmd_prefix": "del ",
     "library": "var_list.py",
     "varRefreshCmd": "print(var_dic_list())"
    },
    "r": {
     "delete_cmd_postfix": ") ",
     "delete_cmd_prefix": "rm(",
     "library": "var_list.r",
     "varRefreshCmd": "cat(var_dic_list()) "
    }
   },
   "types_to_exclude": [
    "module",
    "function",
    "builtin_function_or_method",
    "instance",
    "_Feature"
   ],
   "window_display": false
  }
 },
 "nbformat": 4,
 "nbformat_minor": 5
}

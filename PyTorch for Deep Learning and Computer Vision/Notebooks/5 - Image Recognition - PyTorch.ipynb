{
 "cells": [
  {
   "cell_type": "markdown",
   "id": "2e1b9143",
   "metadata": {},
   "source": [
    "# Importing Libraries"
   ]
  },
  {
   "cell_type": "code",
   "execution_count": 18,
   "id": "7c978cda",
   "metadata": {
    "ExecuteTime": {
     "end_time": "2022-12-21T22:50:25.743097Z",
     "start_time": "2022-12-21T22:50:25.733607Z"
    }
   },
   "outputs": [],
   "source": [
    "import torch\n",
    "#from torch import nn\n",
    "from torchvision import datasets, transforms\n",
    "\n",
    "import numpy as np\n",
    "\n",
    "#from sklearn import datasets\n",
    "\n",
    "import matplotlib as mpl\n",
    "#from matplotlib.colors import LinearSegmentedColormap\n",
    "#from matplotlib.patches import ConnectionPatch\n",
    "import matplotlib.pyplot as plt\n",
    "\n",
    "#import reprlib\n",
    "import sys"
   ]
  },
  {
   "cell_type": "markdown",
   "id": "136b014f",
   "metadata": {},
   "source": [
    "# Configuring Visualization Parameters"
   ]
  },
  {
   "cell_type": "code",
   "execution_count": 2,
   "id": "3f1a7198",
   "metadata": {
    "ExecuteTime": {
     "end_time": "2022-12-21T22:24:29.009676Z",
     "start_time": "2022-12-21T22:24:29.002972Z"
    }
   },
   "outputs": [],
   "source": [
    "%matplotlib inline"
   ]
  },
  {
   "cell_type": "code",
   "execution_count": 3,
   "id": "1ef17980",
   "metadata": {
    "ExecuteTime": {
     "end_time": "2022-12-21T22:24:29.012355Z",
     "start_time": "2022-12-21T22:24:29.010632Z"
    }
   },
   "outputs": [],
   "source": [
    "XINHUI = \"#7a7374\"\n",
    "XUEBAI = \"#fffef9\"\n",
    "YINBAI = \"#f1f0ed\"\n",
    "YINHUI = \"#918072\"\n",
    "\n",
    "figure_size = (16, 9)"
   ]
  },
  {
   "cell_type": "code",
   "execution_count": 4,
   "id": "b304d7dd",
   "metadata": {
    "ExecuteTime": {
     "end_time": "2022-12-21T22:24:29.016486Z",
     "start_time": "2022-12-21T22:24:29.014343Z"
    }
   },
   "outputs": [],
   "source": [
    "custom_params = {\n",
    "    \"axes.axisbelow\": True,\n",
    "    \"axes.edgecolor\": YINBAI,\n",
    "    \"axes.facecolor\": XUEBAI,\n",
    "    \"axes.grid\": True,\n",
    "    \"axes.labelcolor\": XINHUI,\n",
    "    \"axes.spines.right\": False,\n",
    "    \"axes.spines.top\": False,\n",
    "    \"axes.titlecolor\": XINHUI,\n",
    "    \"figure.edgecolor\": YINBAI,\n",
    "    \"figure.facecolor\": XUEBAI,\n",
    "    \"grid.alpha\": .8,\n",
    "    \"grid.color\": YINBAI,\n",
    "    \"grid.linestyle\": \"--\",\n",
    "    \"grid.linewidth\": 1.2,\n",
    "    \"legend.edgecolor\": YINHUI,\n",
    "    \"patch.edgecolor\": XUEBAI,\n",
    "    \"patch.force_edgecolor\": True,\n",
    "    \"text.color\": XINHUI,\n",
    "    \"xtick.color\": YINHUI,\n",
    "    \"ytick.color\": YINHUI,\n",
    "}\n",
    "\n",
    "mpl.rcParams.update(custom_params)"
   ]
  },
  {
   "cell_type": "markdown",
   "id": "3debc5ec",
   "metadata": {},
   "source": [
    "# Configuring Other Notebook Parameters"
   ]
  },
  {
   "cell_type": "code",
   "execution_count": 5,
   "id": "0db58c3a",
   "metadata": {
    "ExecuteTime": {
     "end_time": "2022-12-21T22:24:29.018792Z",
     "start_time": "2022-12-21T22:24:29.017545Z"
    }
   },
   "outputs": [],
   "source": [
    "#reprlib_rules = reprlib.Repr()\n",
    "#reprlib_rules.maxother = 250"
   ]
  },
  {
   "cell_type": "markdown",
   "id": "0f5cf2ac",
   "metadata": {},
   "source": [
    "# Pre-installing Custom Functions"
   ]
  },
  {
   "cell_type": "code",
   "execution_count": 6,
   "id": "3025f55d",
   "metadata": {
    "ExecuteTime": {
     "end_time": "2022-12-21T22:24:29.021519Z",
     "start_time": "2022-12-21T22:24:29.019688Z"
    }
   },
   "outputs": [],
   "source": [
    "sys.path.append(\"../\")"
   ]
  },
  {
   "cell_type": "code",
   "execution_count": 7,
   "id": "4bb3e3c5",
   "metadata": {
    "ExecuteTime": {
     "end_time": "2022-12-21T22:24:29.158786Z",
     "start_time": "2022-12-21T22:24:29.022506Z"
    }
   },
   "outputs": [],
   "source": [
    "from Modules import *"
   ]
  },
  {
   "cell_type": "markdown",
   "id": "ccd6370e",
   "metadata": {},
   "source": [
    "# Practicing in Stages\n",
    "\n",
    "## Image Transforms"
   ]
  },
  {
   "cell_type": "code",
   "execution_count": 8,
   "id": "924fd808",
   "metadata": {
    "ExecuteTime": {
     "end_time": "2022-12-21T22:24:29.180700Z",
     "start_time": "2022-12-21T22:24:29.159822Z"
    }
   },
   "outputs": [
    {
     "name": "stdout",
     "output_type": "stream",
     "text": [
      "\u001b[4m\u001b[36mLoading and transformation of the MNIST dataset\u001b[0m\n",
      "\n",
      "\u001b[1m\u001b[36m    +--------------------------------------------------------+\u001b[0m\n",
      "\u001b[1m\u001b[36m    | Statement                                              |\u001b[0m\n",
      "\u001b[1m\u001b[36m    +--------------------------------------------------------+\u001b[0m\n",
      "\u001b[1m\u001b[36m    | transform = transforms.Compose(                        |\u001b[0m\n",
      "\u001b[1m\u001b[36m    |     [transforms.ToTensor(),                            |\u001b[0m\n",
      "\u001b[1m\u001b[36m    |      transforms.Normalize((0.5, ), (0.5, ))])          |\u001b[0m\n",
      "\u001b[1m\u001b[36m    |                                                        |\u001b[0m\n",
      "\u001b[1m\u001b[36m    | training_dataset = datasets.MNIST(root=\"../Datasets\",  |\u001b[0m\n",
      "\u001b[1m\u001b[36m    |                                   train=True,          |\u001b[0m\n",
      "\u001b[1m\u001b[36m    |                                   download=True,       |\u001b[0m\n",
      "\u001b[1m\u001b[36m    |                                   transform=transform) |\u001b[0m\n",
      "\u001b[1m\u001b[36m    +--------------------------------------------------------+\u001b[0m\n",
      "\u001b[1m\u001b[36m    +------------------+----------------------------------------+\u001b[0m\n",
      "\u001b[1m\u001b[36m    | Variable         | Value                                  |\u001b[0m\n",
      "\u001b[1m\u001b[36m    +------------------+----------------------------------------+\u001b[0m\n",
      "\u001b[1m\u001b[36m    | transform        | Compose(                               |\u001b[0m\n",
      "\u001b[1m\u001b[36m    |                  |     ToTensor()                         |\u001b[0m\n",
      "\u001b[1m\u001b[36m    |                  |     Normalize(mean=(0.5,), std=(0.5,)) |\u001b[0m\n",
      "\u001b[1m\u001b[36m    |                  | )                                      |\u001b[0m\n",
      "\u001b[1m\u001b[36m    | training_dataset | Dataset MNIST                          |\u001b[0m\n",
      "\u001b[1m\u001b[36m    |                  |     Number of datapoints: 60000        |\u001b[0m\n",
      "\u001b[1m\u001b[36m    |                  |     Root location: ../Datasets         |\u001b[0m\n",
      "\u001b[1m\u001b[36m    |                  |     Split: Train                       |\u001b[0m\n",
      "\u001b[1m\u001b[36m    |                  |     StandardTransform                  |\u001b[0m\n",
      "\u001b[1m\u001b[36m    |                  | Transform: Compose(                    |\u001b[0m\n",
      "\u001b[1m\u001b[36m    |                  |                ToTensor()              |\u001b[0m\n",
      "\u001b[1m\u001b[36m    |                  |                Normalize(mean=(0.5,),  |\u001b[0m\n",
      "\u001b[1m\u001b[36m    |                  |         std=(0.5,))                    |\u001b[0m\n",
      "\u001b[1m\u001b[36m    |                  |            )                           |\u001b[0m\n",
      "\u001b[1m\u001b[36m    +------------------+----------------------------------------+\u001b[0m\n"
     ]
    }
   ],
   "source": [
    "transform = transforms.Compose(\n",
    "    [transforms.ToTensor(),\n",
    "     transforms.Normalize((0.5, ), (0.5, ))])\n",
    "\n",
    "training_dataset = datasets.MNIST(root=\"../Datasets\",\n",
    "                                  train=True,\n",
    "                                  download=True,\n",
    "                                  transform=transform)\n",
    "\n",
    "tabulation = Form_Generator()\n",
    "font_colors_list = tabulation.color_selector()\n",
    "\n",
    "tabulation.heading_printer(\"Loading and transformation of the MNIST dataset\")\n",
    "\n",
    "statements = [\n",
    "    \"\"\"\n",
    "transform = transforms.Compose(\n",
    "    [transforms.ToTensor(),\n",
    "     transforms.Normalize((0.5, ), (0.5, ))])\n",
    "\n",
    "training_dataset = datasets.MNIST(root=\"../Datasets\",\n",
    "                                  train=True,\n",
    "                                  download=True,\n",
    "                                  transform=transform)\n",
    "\"\"\"\n",
    "]\n",
    "tabulation.statement_generator(statements)\n",
    "\n",
    "variables = [\"transform\", \"training_dataset\"]\n",
    "values = [str(transform), str(training_dataset)]\n",
    "tabulation.variable_generator(variables, values)"
   ]
  },
  {
   "cell_type": "code",
   "execution_count": 16,
   "id": "025dcd6a",
   "metadata": {
    "ExecuteTime": {
     "end_time": "2022-12-21T22:36:32.753757Z",
     "start_time": "2022-12-21T22:36:28.224231Z"
    }
   },
   "outputs": [
    {
     "name": "stdout",
     "output_type": "stream",
     "text": [
      "\u001b[4m\u001b[32mConfiguration of the training batches\u001b[0m\n",
      "\n",
      "\u001b[1m\u001b[32m    +-------------------------------------------------------------+\u001b[0m\n",
      "\u001b[1m\u001b[32m    | Statement                                                   |\u001b[0m\n",
      "\u001b[1m\u001b[32m    +-------------------------------------------------------------+\u001b[0m\n",
      "\u001b[1m\u001b[32m    | training_loader =                                           |\u001b[0m\n",
      "\u001b[1m\u001b[32m    |     torch.utils.data.DataLoader(dataset=training_dataset,   |\u001b[0m\n",
      "\u001b[1m\u001b[32m    |                                                             |\u001b[0m\n",
      "\u001b[1m\u001b[32m    |     batch_size=100,                                         |\u001b[0m\n",
      "\u001b[1m\u001b[32m    |                                               shuffle=True) |\u001b[0m\n",
      "\u001b[1m\u001b[32m    +-------------------------------------------------------------+\u001b[0m\n",
      "\u001b[1m\u001b[32m    +------------------------------------+----------------------+\u001b[0m\n",
      "\u001b[1m\u001b[32m    | Expression                         | Result               |\u001b[0m\n",
      "\u001b[1m\u001b[32m    +------------------------------------+----------------------+\u001b[0m\n",
      "\u001b[1m\u001b[32m    | len(training_loader)               | 600                  |\u001b[0m\n",
      "\u001b[1m\u001b[32m    | list(training_loader)[0][0].shape  | torch.Size([100, 1,  |\u001b[0m\n",
      "\u001b[1m\u001b[32m    |                                    |             28, 28]) |\u001b[0m\n",
      "\u001b[1m\u001b[32m    | list(training_loader)[-1][0].shape | torch.Size([100, 1,  |\u001b[0m\n",
      "\u001b[1m\u001b[32m    |                                    |             28, 28]) |\u001b[0m\n",
      "\u001b[1m\u001b[32m    +------------------------------------+----------------------+\u001b[0m\n"
     ]
    }
   ],
   "source": [
    "training_loader = torch.utils.data.DataLoader(dataset=training_dataset,\n",
    "                                              batch_size=100,\n",
    "                                              shuffle=True)\n",
    "\n",
    "tabulation = Form_Generator()\n",
    "tabulation.heading_printer(\"Configuration of the training batches\")\n",
    "\n",
    "statements = [\n",
    "    \"\"\"\n",
    "training_loader = torch.utils.data.DataLoader(dataset=training_dataset,\n",
    "                                              batch_size=100,\n",
    "                                              shuffle=True)\n",
    "\"\"\"\n",
    "]\n",
    "tabulation.statement_generator(statements)\n",
    "\n",
    "expressions = [\n",
    "    \"len(training_loader)\", \"list(training_loader)[0][0].shape\",\n",
    "    \"list(training_loader)[-1][0].shape\"\n",
    "]\n",
    "results = [\n",
    "    str(len(training_loader)),\n",
    "    str(list(training_loader)[0][0].shape),\n",
    "    str(list(training_loader)[-1][0].shape)\n",
    "]\n",
    "tabulation.expression_generator(expressions, results, 12)"
   ]
  },
  {
   "cell_type": "code",
   "execution_count": 19,
   "id": "90c29558",
   "metadata": {
    "ExecuteTime": {
     "end_time": "2022-12-21T22:51:26.122474Z",
     "start_time": "2022-12-21T22:51:26.111643Z"
    }
   },
   "outputs": [
    {
     "name": "stdout",
     "output_type": "stream",
     "text": [
      "\u001b[4m\u001b[30mFunction definition for plotting tensor images\u001b[0m\n",
      "\n",
      "\u001b[1m\u001b[30m    +----------------------------------------------------------+\u001b[0m\n",
      "\u001b[1m\u001b[30m    | Definition                                               |\u001b[0m\n",
      "\u001b[1m\u001b[30m    +----------------------------------------------------------+\u001b[0m\n",
      "\u001b[1m\u001b[30m    | def im_convert(tensor):                                  |\u001b[0m\n",
      "\u001b[1m\u001b[30m    |     image = tensor.clone().detach().numpy()              |\u001b[0m\n",
      "\u001b[1m\u001b[30m    |     image = image.transpose(1, 2, 0)                     |\u001b[0m\n",
      "\u001b[1m\u001b[30m    |     image = image * np.array((0.5, 0.5, 0.5), (0.5, 0.5, |\u001b[0m\n",
      "\u001b[1m\u001b[30m    |     0.5))                                                |\u001b[0m\n",
      "\u001b[1m\u001b[30m    |     image = image.clip(0, 1)                             |\u001b[0m\n",
      "\u001b[1m\u001b[30m    |     return image                                         |\u001b[0m\n",
      "\u001b[1m\u001b[30m    +----------------------------------------------------------+\u001b[0m\n"
     ]
    }
   ],
   "source": [
    "def im_convert(tensor):\n",
    "    image = tensor.clone().detach().numpy()\n",
    "    image = image.transpose(1, 2, 0)\n",
    "    image = image * np.array((0.5, 0.5, 0.5), (0.5, 0.5, 0.5))\n",
    "    image = image.clip(0, 1)\n",
    "    return image\n",
    "\n",
    "\n",
    "tabulation = Form_Generator()\n",
    "tabulation.heading_printer(\"Function definition for plotting tensor images\")\n",
    "\n",
    "definitions = [\n",
    "    \"\"\"\n",
    "def im_convert(tensor):\n",
    "    image = tensor.clone().detach().numpy()\n",
    "    image = image.transpose(1, 2, 0)\n",
    "    image = image * np.array((0.5, 0.5, 0.5), (0.5, 0.5, 0.5))\n",
    "    image = image.clip(0, 1)\n",
    "    return image\n",
    "\"\"\"\n",
    "]\n",
    "tabulation.definition_generator(definitions)"
   ]
  },
  {
   "cell_type": "code",
   "execution_count": null,
   "id": "b2c36cd3",
   "metadata": {
    "ExecuteTime": {
     "end_time": "2022-12-21T22:24:38.319766Z",
     "start_time": "2022-12-21T22:24:36.030514Z"
    }
   },
   "outputs": [],
   "source": []
  },
  {
   "cell_type": "code",
   "execution_count": null,
   "id": "3641a61f",
   "metadata": {
    "ExecuteTime": {
     "end_time": "2022-12-21T22:24:38.393245Z",
     "start_time": "2022-12-21T22:24:38.320882Z"
    }
   },
   "outputs": [],
   "source": []
  },
  {
   "cell_type": "code",
   "execution_count": 13,
   "id": "1e9940af",
   "metadata": {
    "ExecuteTime": {
     "end_time": "2022-12-21T22:24:54.838974Z",
     "start_time": "2022-12-21T22:24:52.543148Z"
    }
   },
   "outputs": [
    {
     "data": {
      "text/plain": [
       "torch.Size([100, 1, 28, 28])"
      ]
     },
     "execution_count": 13,
     "metadata": {},
     "output_type": "execute_result"
    }
   ],
   "source": []
  },
  {
   "cell_type": "code",
   "execution_count": null,
   "id": "92e37f5b",
   "metadata": {
    "ExecuteTime": {
     "end_time": "2022-12-21T22:24:38.508521Z",
     "start_time": "2022-12-21T22:24:38.508515Z"
    }
   },
   "outputs": [],
   "source": [
    "len(\"torch.Size([100,\")"
   ]
  },
  {
   "cell_type": "code",
   "execution_count": null,
   "id": "a4a70903",
   "metadata": {
    "ExecuteTime": {
     "end_time": "2022-12-21T22:24:38.509057Z",
     "start_time": "2022-12-21T22:24:38.509052Z"
    }
   },
   "outputs": [],
   "source": [
    "len(\"-------------------------+\")"
   ]
  },
  {
   "cell_type": "code",
   "execution_count": null,
   "id": "e5954639",
   "metadata": {
    "ExecuteTime": {
     "end_time": "2022-12-21T22:24:38.509876Z",
     "start_time": "2022-12-21T22:24:38.509866Z"
    }
   },
   "outputs": [],
   "source": [
    "len(\"+-------------------------------------------------------------+\")"
   ]
  },
  {
   "cell_type": "code",
   "execution_count": null,
   "id": "b73beae6",
   "metadata": {},
   "outputs": [],
   "source": []
  }
 ],
 "metadata": {
  "hide_input": false,
  "kernelspec": {
   "display_name": "Python 3 (ipykernel)",
   "language": "python",
   "name": "python3"
  },
  "language_info": {
   "codemirror_mode": {
    "name": "ipython",
    "version": 3
   },
   "file_extension": ".py",
   "mimetype": "text/x-python",
   "name": "python",
   "nbconvert_exporter": "python",
   "pygments_lexer": "ipython3",
   "version": "3.9.15"
  },
  "nbTranslate": {
   "displayLangs": [
    "*"
   ],
   "hotkey": "alt-t",
   "langInMainMenu": true,
   "sourceLang": "en",
   "targetLang": "fr",
   "useGoogleTranslate": true
  },
  "toc": {
   "base_numbering": 1,
   "nav_menu": {},
   "number_sections": true,
   "sideBar": true,
   "skip_h1_title": false,
   "title_cell": "Table of Contents",
   "title_sidebar": "Contents",
   "toc_cell": false,
   "toc_position": {
    "height": "calc(100% - 180px)",
    "left": "10px",
    "top": "150px",
    "width": "345.594px"
   },
   "toc_section_display": true,
   "toc_window_display": true
  },
  "varInspector": {
   "cols": {
    "lenName": 16,
    "lenType": 16,
    "lenVar": 40
   },
   "kernels_config": {
    "python": {
     "delete_cmd_postfix": "",
     "delete_cmd_prefix": "del ",
     "library": "var_list.py",
     "varRefreshCmd": "print(var_dic_list())"
    },
    "r": {
     "delete_cmd_postfix": ") ",
     "delete_cmd_prefix": "rm(",
     "library": "var_list.r",
     "varRefreshCmd": "cat(var_dic_list()) "
    }
   },
   "types_to_exclude": [
    "module",
    "function",
    "builtin_function_or_method",
    "instance",
    "_Feature"
   ],
   "window_display": false
  }
 },
 "nbformat": 4,
 "nbformat_minor": 5
}

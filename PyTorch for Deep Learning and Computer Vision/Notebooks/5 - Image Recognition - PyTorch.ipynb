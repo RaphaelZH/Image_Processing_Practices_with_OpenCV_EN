{
 "cells": [
  {
   "cell_type": "markdown",
   "id": "8833d175",
   "metadata": {},
   "source": [
    "# Importing Libraries"
   ]
  },
  {
   "cell_type": "code",
   "execution_count": 1,
   "id": "c2d8daa8",
   "metadata": {
    "ExecuteTime": {
     "end_time": "2022-12-21T01:05:54.992282Z",
     "start_time": "2022-12-21T01:05:53.874490Z"
    }
   },
   "outputs": [],
   "source": [
    "import torch\n",
    "#from torch import nn\n",
    "from torchvision import datasets, transforms\n",
    "\n",
    "#import numpy as np\n",
    "\n",
    "#from sklearn import datasets\n",
    "\n",
    "import matplotlib as mpl\n",
    "#from matplotlib.colors import LinearSegmentedColormap\n",
    "#from matplotlib.patches import ConnectionPatch\n",
    "import matplotlib.pyplot as plt\n",
    "\n",
    "#import reprlib\n",
    "import sys"
   ]
  },
  {
   "cell_type": "markdown",
   "id": "67f80b40",
   "metadata": {},
   "source": [
    "# Configuring Visualization Parameters"
   ]
  },
  {
   "cell_type": "code",
   "execution_count": 2,
   "id": "469ee3e9",
   "metadata": {
    "ExecuteTime": {
     "end_time": "2022-12-21T01:05:55.001286Z",
     "start_time": "2022-12-21T01:05:54.993955Z"
    }
   },
   "outputs": [],
   "source": [
    "%matplotlib inline"
   ]
  },
  {
   "cell_type": "code",
   "execution_count": 3,
   "id": "513401a5",
   "metadata": {
    "ExecuteTime": {
     "end_time": "2022-12-21T01:05:55.003793Z",
     "start_time": "2022-12-21T01:05:55.002150Z"
    }
   },
   "outputs": [],
   "source": [
    "XINHUI = \"#7a7374\"\n",
    "XUEBAI = \"#fffef9\"\n",
    "YINBAI = \"#f1f0ed\"\n",
    "YINHUI = \"#918072\"\n",
    "\n",
    "figure_size = (16, 9)"
   ]
  },
  {
   "cell_type": "code",
   "execution_count": 4,
   "id": "60c96653",
   "metadata": {
    "ExecuteTime": {
     "end_time": "2022-12-21T01:05:55.007434Z",
     "start_time": "2022-12-21T01:05:55.005226Z"
    }
   },
   "outputs": [],
   "source": [
    "custom_params = {\n",
    "    \"axes.axisbelow\": True,\n",
    "    \"axes.edgecolor\": YINBAI,\n",
    "    \"axes.facecolor\": XUEBAI,\n",
    "    \"axes.grid\": True,\n",
    "    \"axes.labelcolor\": XINHUI,\n",
    "    \"axes.spines.right\": False,\n",
    "    \"axes.spines.top\": False,\n",
    "    \"axes.titlecolor\": XINHUI,\n",
    "    \"figure.edgecolor\": YINBAI,\n",
    "    \"figure.facecolor\": XUEBAI,\n",
    "    \"grid.alpha\": .8,\n",
    "    \"grid.color\": YINBAI,\n",
    "    \"grid.linestyle\": \"--\",\n",
    "    \"grid.linewidth\": 1.2,\n",
    "    \"legend.edgecolor\": YINHUI,\n",
    "    \"patch.edgecolor\": XUEBAI,\n",
    "    \"patch.force_edgecolor\": True,\n",
    "    \"text.color\": XINHUI,\n",
    "    \"xtick.color\": YINHUI,\n",
    "    \"ytick.color\": YINHUI,\n",
    "}\n",
    "\n",
    "mpl.rcParams.update(custom_params)"
   ]
  },
  {
   "cell_type": "markdown",
   "id": "d80d8fad",
   "metadata": {},
   "source": [
    "# Configuring Other Notebook Parameters"
   ]
  },
  {
   "cell_type": "code",
   "execution_count": 5,
   "id": "d145cb45",
   "metadata": {
    "ExecuteTime": {
     "end_time": "2022-12-21T01:05:55.010170Z",
     "start_time": "2022-12-21T01:05:55.008476Z"
    }
   },
   "outputs": [],
   "source": [
    "#reprlib_rules = reprlib.Repr()\n",
    "#reprlib_rules.maxother = 250"
   ]
  },
  {
   "cell_type": "markdown",
   "id": "976558c7",
   "metadata": {},
   "source": [
    "# Pre-installing Custom Functions"
   ]
  },
  {
   "cell_type": "code",
   "execution_count": 6,
   "id": "aa73819e",
   "metadata": {
    "ExecuteTime": {
     "end_time": "2022-12-21T01:05:55.014674Z",
     "start_time": "2022-12-21T01:05:55.012663Z"
    }
   },
   "outputs": [],
   "source": [
    "sys.path.append(\"../\")"
   ]
  },
  {
   "cell_type": "code",
   "execution_count": 7,
   "id": "3408a948",
   "metadata": {
    "ExecuteTime": {
     "end_time": "2022-12-21T01:05:55.183947Z",
     "start_time": "2022-12-21T01:05:55.015649Z"
    }
   },
   "outputs": [],
   "source": [
    "from Modules import *"
   ]
  },
  {
   "cell_type": "markdown",
   "id": "10c7ed88",
   "metadata": {},
   "source": [
    "# Practicing in Stages\n",
    "\n",
    "## Image Transforms"
   ]
  },
  {
   "cell_type": "code",
   "execution_count": 11,
   "id": "d6a615c1",
   "metadata": {
    "ExecuteTime": {
     "end_time": "2022-12-21T19:42:55.474381Z",
     "start_time": "2022-12-21T19:42:55.445615Z"
    }
   },
   "outputs": [
    {
     "name": "stdout",
     "output_type": "stream",
     "text": [
      "\u001b[4m\u001b[35mLoading of the MNIST dataset\u001b[0m\n",
      "\n",
      "\u001b[1m\u001b[35m    +--------------------------------------------------------+\u001b[0m\n",
      "\u001b[1m\u001b[35m    | Statement                                              |\u001b[0m\n",
      "\u001b[1m\u001b[35m    +--------------------------------------------------------+\u001b[0m\n",
      "\u001b[1m\u001b[35m    | transform = transforms.Compose(                        |\u001b[0m\n",
      "\u001b[1m\u001b[35m    |     [transforms.ToTensor(),                            |\u001b[0m\n",
      "\u001b[1m\u001b[35m    |      transforms.Normalize((0.5, ), (0.5, ))])          |\u001b[0m\n",
      "\u001b[1m\u001b[35m    |                                                        |\u001b[0m\n",
      "\u001b[1m\u001b[35m    | training_dataset = datasets.MNIST(root=\"../Datasets\",  |\u001b[0m\n",
      "\u001b[1m\u001b[35m    |                                   train=True,          |\u001b[0m\n",
      "\u001b[1m\u001b[35m    |                                   download=True,       |\u001b[0m\n",
      "\u001b[1m\u001b[35m    |                                   transform=transform) |\u001b[0m\n",
      "\u001b[1m\u001b[35m    +--------------------------------------------------------+\u001b[0m\n",
      "\u001b[1m\u001b[35m    +------------------+----------------------------------------+\u001b[0m\n",
      "\u001b[1m\u001b[35m    | Variable         | Value                                  |\u001b[0m\n",
      "\u001b[1m\u001b[35m    +------------------+----------------------------------------+\u001b[0m\n",
      "\u001b[1m\u001b[35m    | transform        | Compose(                               |\u001b[0m\n",
      "\u001b[1m\u001b[35m    |                  |     ToTensor()                         |\u001b[0m\n",
      "\u001b[1m\u001b[35m    |                  |     Normalize(mean=(0.5,), std=(0.5,)) |\u001b[0m\n",
      "\u001b[1m\u001b[35m    |                  | )                                      |\u001b[0m\n",
      "\u001b[1m\u001b[35m    | training_dataset | Dataset MNIST                          |\u001b[0m\n",
      "\u001b[1m\u001b[35m    |                  |     Number of datapoints: 60000        |\u001b[0m\n",
      "\u001b[1m\u001b[35m    |                  |     Root location: ../Datasets         |\u001b[0m\n",
      "\u001b[1m\u001b[35m    |                  |     Split: Train                       |\u001b[0m\n",
      "\u001b[1m\u001b[35m    |                  |     StandardTransform                  |\u001b[0m\n",
      "\u001b[1m\u001b[35m    |                  | Transform: Compose(                    |\u001b[0m\n",
      "\u001b[1m\u001b[35m    |                  |                ToTensor()              |\u001b[0m\n",
      "\u001b[1m\u001b[35m    |                  |                Normalize(mean=(0.5,),  |\u001b[0m\n",
      "\u001b[1m\u001b[35m    |                  |         std=(0.5,))                    |\u001b[0m\n",
      "\u001b[1m\u001b[35m    |                  |            )                           |\u001b[0m\n",
      "\u001b[1m\u001b[35m    +------------------+----------------------------------------+\u001b[0m\n"
     ]
    }
   ],
   "source": [
    "transform = transforms.Compose(\n",
    "    [transforms.ToTensor(),\n",
    "     transforms.Normalize((0.5, ), (0.5, ))])\n",
    "\n",
    "training_dataset = datasets.MNIST(root=\"../Datasets\",\n",
    "                                  train=True,\n",
    "                                  download=True,\n",
    "                                  transform=transform)\n",
    "\n",
    "tabulation = Form_Generator()\n",
    "font_colors_list = tabulation.color_selector()\n",
    "\n",
    "tabulation.heading_printer(\"Loading and transformation of the MNIST dataset\")\n",
    "\n",
    "statements = [\n",
    "    \"\"\"\n",
    "transform = transforms.Compose(\n",
    "    [transforms.ToTensor(),\n",
    "     transforms.Normalize((0.5, ), (0.5, ))])\n",
    "\n",
    "training_dataset = datasets.MNIST(root=\"../Datasets\",\n",
    "                                  train=True,\n",
    "                                  download=True,\n",
    "                                  transform=transform)\n",
    "\"\"\"\n",
    "]\n",
    "tabulation.statement_generator(statements)\n",
    "\n",
    "variables = [\"transform\", \"training_dataset\"]\n",
    "values = [str(transform), str(training_dataset)]\n",
    "tabulation.variable_generator(variables, values)"
   ]
  },
  {
   "cell_type": "code",
   "execution_count": 20,
   "id": "2000efda",
   "metadata": {
    "ExecuteTime": {
     "end_time": "2022-12-21T21:29:09.862644Z",
     "start_time": "2022-12-21T21:29:09.829153Z"
    }
   },
   "outputs": [
    {
     "name": "stdout",
     "output_type": "stream",
     "text": [
      "\u001b[4m\u001b[30mTraining batch settings\u001b[0m\n",
      "\n",
      "\u001b[1m\u001b[30m    +-------------------------------------------------------------+\u001b[0m\n",
      "\u001b[1m\u001b[30m    | Statement                                                   |\u001b[0m\n",
      "\u001b[1m\u001b[30m    +-------------------------------------------------------------+\u001b[0m\n",
      "\u001b[1m\u001b[30m    | training_loader =                                           |\u001b[0m\n",
      "\u001b[1m\u001b[30m    |     torch.utils.data.DataLoader(dataset=training_dataset,   |\u001b[0m\n",
      "\u001b[1m\u001b[30m    |                                                             |\u001b[0m\n",
      "\u001b[1m\u001b[30m    |     batch_size=100,                                         |\u001b[0m\n",
      "\u001b[1m\u001b[30m    |                                               shuffle=True) |\u001b[0m\n",
      "\u001b[1m\u001b[30m    +-------------------------------------------------------------+\u001b[0m\n"
     ]
    },
    {
     "ename": "Exception",
     "evalue": "The length of the consecutive string is longer than expected.",
     "output_type": "error",
     "traceback": [
      "\u001b[0;31m---------------------------------------------------------------------------\u001b[0m",
      "\u001b[0;31mException\u001b[0m                                 Traceback (most recent call last)",
      "Cell \u001b[0;32mIn[20], line 19\u001b[0m\n\u001b[1;32m     17\u001b[0m variables \u001b[38;5;241m=\u001b[39m [\u001b[38;5;124m\"\u001b[39m\u001b[38;5;124mtraining_loader\u001b[39m\u001b[38;5;124m\"\u001b[39m]\n\u001b[1;32m     18\u001b[0m values \u001b[38;5;241m=\u001b[39m [\u001b[38;5;28mstr\u001b[39m(training_loader)]\n\u001b[0;32m---> 19\u001b[0m \u001b[43mtabulation\u001b[49m\u001b[38;5;241;43m.\u001b[39;49m\u001b[43mvariable_generator\u001b[49m\u001b[43m(\u001b[49m\u001b[43mvariables\u001b[49m\u001b[43m,\u001b[49m\u001b[43m \u001b[49m\u001b[43mvalues\u001b[49m\u001b[43m)\u001b[49m\n",
      "File \u001b[0;32m~/Documents/GitHub/Udemy_Data_Science_Courses_Learning_Outcomes_EN/PyTorch for Deep Learning and Computer Vision/Notebooks/../Modules/Tabulation.py:137\u001b[0m, in \u001b[0;36mForm_Generator.variable_generator\u001b[0;34m(self, variables, values, expandtabs)\u001b[0m\n\u001b[1;32m    135\u001b[0m remainder \u001b[38;5;241m=\u001b[39m \u001b[38;5;28mself\u001b[39m\u001b[38;5;241m.\u001b[39madjusted_width \u001b[38;5;241m-\u001b[39m length_variable \u001b[38;5;241m-\u001b[39m \u001b[38;5;241m3\u001b[39m\n\u001b[1;32m    136\u001b[0m \u001b[38;5;28;01mfor\u001b[39;00m variable, value \u001b[38;5;129;01min\u001b[39;00m \u001b[38;5;28mzip\u001b[39m(variables, values):\n\u001b[0;32m--> 137\u001b[0m     printable_lines \u001b[38;5;241m=\u001b[39m [\n\u001b[1;32m    138\u001b[0m         \u001b[38;5;124m\"\u001b[39m\u001b[38;5;130;01m\\n\u001b[39;00m\u001b[38;5;130;01m\\t\u001b[39;00m\u001b[38;5;124m\"\u001b[39m\u001b[38;5;241m.\u001b[39mexpandtabs(expandtabs)\u001b[38;5;241m.\u001b[39mjoin(\n\u001b[1;32m    139\u001b[0m             \u001b[38;5;28mself\u001b[39m\u001b[38;5;241m.\u001b[39mstring_trimmer(line, expandtabs, remainder)\n\u001b[1;32m    140\u001b[0m         )\n\u001b[1;32m    141\u001b[0m         \u001b[38;5;28;01mfor\u001b[39;00m line \u001b[38;5;129;01min\u001b[39;00m value\u001b[38;5;241m.\u001b[39mstrip()\u001b[38;5;241m.\u001b[39msplit(\u001b[38;5;124m\"\u001b[39m\u001b[38;5;130;01m\\n\u001b[39;00m\u001b[38;5;124m\"\u001b[39m)\n\u001b[1;32m    142\u001b[0m     ]\n\u001b[1;32m    143\u001b[0m     table\u001b[38;5;241m.\u001b[39mappend([variable, \u001b[38;5;124m\"\u001b[39m\u001b[38;5;130;01m\\n\u001b[39;00m\u001b[38;5;124m\"\u001b[39m\u001b[38;5;241m.\u001b[39mjoin(printable_lines)])\n\u001b[1;32m    144\u001b[0m table_list \u001b[38;5;241m=\u001b[39m tabulate(\n\u001b[1;32m    145\u001b[0m     table, headers\u001b[38;5;241m=\u001b[39m\u001b[38;5;124m\"\u001b[39m\u001b[38;5;124mfirstrow\u001b[39m\u001b[38;5;124m\"\u001b[39m, tablefmt\u001b[38;5;241m=\u001b[39m\u001b[38;5;124m\"\u001b[39m\u001b[38;5;124mpretty\u001b[39m\u001b[38;5;124m\"\u001b[39m, colalign\u001b[38;5;241m=\u001b[39m(\u001b[38;5;124m\"\u001b[39m\u001b[38;5;124mleft\u001b[39m\u001b[38;5;124m\"\u001b[39m, \u001b[38;5;124m\"\u001b[39m\u001b[38;5;124mleft\u001b[39m\u001b[38;5;124m\"\u001b[39m)\n\u001b[1;32m    146\u001b[0m )\u001b[38;5;241m.\u001b[39msplit(\u001b[38;5;124m\"\u001b[39m\u001b[38;5;130;01m\\n\u001b[39;00m\u001b[38;5;124m\"\u001b[39m)\n",
      "File \u001b[0;32m~/Documents/GitHub/Udemy_Data_Science_Courses_Learning_Outcomes_EN/PyTorch for Deep Learning and Computer Vision/Notebooks/../Modules/Tabulation.py:139\u001b[0m, in \u001b[0;36m<listcomp>\u001b[0;34m(.0)\u001b[0m\n\u001b[1;32m    135\u001b[0m remainder \u001b[38;5;241m=\u001b[39m \u001b[38;5;28mself\u001b[39m\u001b[38;5;241m.\u001b[39madjusted_width \u001b[38;5;241m-\u001b[39m length_variable \u001b[38;5;241m-\u001b[39m \u001b[38;5;241m3\u001b[39m\n\u001b[1;32m    136\u001b[0m \u001b[38;5;28;01mfor\u001b[39;00m variable, value \u001b[38;5;129;01min\u001b[39;00m \u001b[38;5;28mzip\u001b[39m(variables, values):\n\u001b[1;32m    137\u001b[0m     printable_lines \u001b[38;5;241m=\u001b[39m [\n\u001b[1;32m    138\u001b[0m         \u001b[38;5;124m\"\u001b[39m\u001b[38;5;130;01m\\n\u001b[39;00m\u001b[38;5;130;01m\\t\u001b[39;00m\u001b[38;5;124m\"\u001b[39m\u001b[38;5;241m.\u001b[39mexpandtabs(expandtabs)\u001b[38;5;241m.\u001b[39mjoin(\n\u001b[0;32m--> 139\u001b[0m             \u001b[38;5;28;43mself\u001b[39;49m\u001b[38;5;241;43m.\u001b[39;49m\u001b[43mstring_trimmer\u001b[49m\u001b[43m(\u001b[49m\u001b[43mline\u001b[49m\u001b[43m,\u001b[49m\u001b[43m \u001b[49m\u001b[43mexpandtabs\u001b[49m\u001b[43m,\u001b[49m\u001b[43m \u001b[49m\u001b[43mremainder\u001b[49m\u001b[43m)\u001b[49m\n\u001b[1;32m    140\u001b[0m         )\n\u001b[1;32m    141\u001b[0m         \u001b[38;5;28;01mfor\u001b[39;00m line \u001b[38;5;129;01min\u001b[39;00m value\u001b[38;5;241m.\u001b[39mstrip()\u001b[38;5;241m.\u001b[39msplit(\u001b[38;5;124m\"\u001b[39m\u001b[38;5;130;01m\\n\u001b[39;00m\u001b[38;5;124m\"\u001b[39m)\n\u001b[1;32m    142\u001b[0m     ]\n\u001b[1;32m    143\u001b[0m     table\u001b[38;5;241m.\u001b[39mappend([variable, \u001b[38;5;124m\"\u001b[39m\u001b[38;5;130;01m\\n\u001b[39;00m\u001b[38;5;124m\"\u001b[39m\u001b[38;5;241m.\u001b[39mjoin(printable_lines)])\n\u001b[1;32m    144\u001b[0m table_list \u001b[38;5;241m=\u001b[39m tabulate(\n\u001b[1;32m    145\u001b[0m     table, headers\u001b[38;5;241m=\u001b[39m\u001b[38;5;124m\"\u001b[39m\u001b[38;5;124mfirstrow\u001b[39m\u001b[38;5;124m\"\u001b[39m, tablefmt\u001b[38;5;241m=\u001b[39m\u001b[38;5;124m\"\u001b[39m\u001b[38;5;124mpretty\u001b[39m\u001b[38;5;124m\"\u001b[39m, colalign\u001b[38;5;241m=\u001b[39m(\u001b[38;5;124m\"\u001b[39m\u001b[38;5;124mleft\u001b[39m\u001b[38;5;124m\"\u001b[39m, \u001b[38;5;124m\"\u001b[39m\u001b[38;5;124mleft\u001b[39m\u001b[38;5;124m\"\u001b[39m)\n\u001b[1;32m    146\u001b[0m )\u001b[38;5;241m.\u001b[39msplit(\u001b[38;5;124m\"\u001b[39m\u001b[38;5;130;01m\\n\u001b[39;00m\u001b[38;5;124m\"\u001b[39m)\n",
      "File \u001b[0;32m~/Documents/GitHub/Udemy_Data_Science_Courses_Learning_Outcomes_EN/PyTorch for Deep Learning and Computer Vision/Notebooks/../Modules/Tabulation.py:69\u001b[0m, in \u001b[0;36mForm_Generator.string_trimmer\u001b[0;34m(self, string, expandtabs, width)\u001b[0m\n\u001b[1;32m     65\u001b[0m exception \u001b[38;5;241m=\u001b[39m \u001b[38;5;167;01mException\u001b[39;00m(\n\u001b[1;32m     66\u001b[0m     \u001b[38;5;124m\"\u001b[39m\u001b[38;5;124mThe length of the consecutive string is longer than expected.\u001b[39m\u001b[38;5;124m\"\u001b[39m\n\u001b[1;32m     67\u001b[0m )\n\u001b[1;32m     68\u001b[0m \u001b[38;5;28;01mif\u001b[39;00m \u001b[38;5;28;01mTrue\u001b[39;00m \u001b[38;5;129;01min\u001b[39;00m (\u001b[38;5;28mlen\u001b[39m(i) \u001b[38;5;241m>\u001b[39m (width \u001b[38;5;241m-\u001b[39m indent) \u001b[38;5;28;01mfor\u001b[39;00m i \u001b[38;5;129;01min\u001b[39;00m string\u001b[38;5;241m.\u001b[39msplit(\u001b[38;5;124m\"\u001b[39m\u001b[38;5;124m \u001b[39m\u001b[38;5;124m\"\u001b[39m)):\n\u001b[0;32m---> 69\u001b[0m     \u001b[38;5;28;01mraise\u001b[39;00m exception\n\u001b[1;32m     70\u001b[0m \u001b[38;5;28;01mif\u001b[39;00m \u001b[38;5;28mlen\u001b[39m(string) \u001b[38;5;241m>\u001b[39m width:\n\u001b[1;32m     71\u001b[0m     printable_line \u001b[38;5;241m=\u001b[39m string\n",
      "\u001b[0;31mException\u001b[0m: The length of the consecutive string is longer than expected."
     ]
    }
   ],
   "source": [
    "training_loader = torch.utils.data.DataLoader(dataset=training_dataset,\n",
    "                                              batch_size=100,\n",
    "                                              shuffle=True)\n",
    "\n",
    "tabulation = Form_Generator()\n",
    "tabulation.heading_printer(\"Training batch settings\")\n",
    "\n",
    "statements = [\n",
    "    \"\"\"\n",
    "training_loader = torch.utils.data.DataLoader(dataset=training_dataset,\n",
    "                                              batch_size=100,\n",
    "                                              shuffle=True)\n",
    "\"\"\"\n",
    "]\n",
    "tabulation.statement_generator(statements)\n",
    "\n",
    "variables = [\"training_loader\"]\n",
    "values = [str(training_loader)]\n",
    "tabulation.variable_generator(variables, values)"
   ]
  },
  {
   "cell_type": "code",
   "execution_count": 22,
   "id": "e3806e0b",
   "metadata": {
    "ExecuteTime": {
     "end_time": "2022-12-21T21:29:41.885025Z",
     "start_time": "2022-12-21T21:29:41.879623Z"
    }
   },
   "outputs": [
    {
     "data": {
      "text/plain": [
       "62"
      ]
     },
     "execution_count": 22,
     "metadata": {},
     "output_type": "execute_result"
    }
   ],
   "source": []
  },
  {
   "cell_type": "code",
   "execution_count": null,
   "id": "204afcc9",
   "metadata": {},
   "outputs": [],
   "source": []
  },
  {
   "cell_type": "code",
   "execution_count": null,
   "id": "d0dd5e90",
   "metadata": {},
   "outputs": [],
   "source": []
  },
  {
   "cell_type": "code",
   "execution_count": null,
   "id": "eacb8a11",
   "metadata": {},
   "outputs": [],
   "source": []
  }
 ],
 "metadata": {
  "hide_input": false,
  "kernelspec": {
   "display_name": "Python 3 (ipykernel)",
   "language": "python",
   "name": "python3"
  },
  "language_info": {
   "codemirror_mode": {
    "name": "ipython",
    "version": 3
   },
   "file_extension": ".py",
   "mimetype": "text/x-python",
   "name": "python",
   "nbconvert_exporter": "python",
   "pygments_lexer": "ipython3",
   "version": "3.9.15"
  },
  "nbTranslate": {
   "displayLangs": [
    "*"
   ],
   "hotkey": "alt-t",
   "langInMainMenu": true,
   "sourceLang": "en",
   "targetLang": "fr",
   "useGoogleTranslate": true
  },
  "toc": {
   "base_numbering": 1,
   "nav_menu": {},
   "number_sections": true,
   "sideBar": true,
   "skip_h1_title": false,
   "title_cell": "Table of Contents",
   "title_sidebar": "Contents",
   "toc_cell": false,
   "toc_position": {
    "height": "calc(100% - 180px)",
    "left": "10px",
    "top": "150px",
    "width": "345.594px"
   },
   "toc_section_display": true,
   "toc_window_display": true
  },
  "varInspector": {
   "cols": {
    "lenName": 16,
    "lenType": 16,
    "lenVar": 40
   },
   "kernels_config": {
    "python": {
     "delete_cmd_postfix": "",
     "delete_cmd_prefix": "del ",
     "library": "var_list.py",
     "varRefreshCmd": "print(var_dic_list())"
    },
    "r": {
     "delete_cmd_postfix": ") ",
     "delete_cmd_prefix": "rm(",
     "library": "var_list.r",
     "varRefreshCmd": "cat(var_dic_list()) "
    }
   },
   "types_to_exclude": [
    "module",
    "function",
    "builtin_function_or_method",
    "instance",
    "_Feature"
   ],
   "window_display": false
  }
 },
 "nbformat": 4,
 "nbformat_minor": 5
}

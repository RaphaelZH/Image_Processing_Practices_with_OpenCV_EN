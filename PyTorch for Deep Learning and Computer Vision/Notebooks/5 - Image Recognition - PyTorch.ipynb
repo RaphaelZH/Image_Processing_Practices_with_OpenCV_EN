{
 "cells": [
  {
   "cell_type": "markdown",
   "id": "a969f252",
   "metadata": {},
   "source": [
    "# Importing Libraries"
   ]
  },
  {
   "cell_type": "code",
   "execution_count": 1,
   "id": "6de5d5ea",
   "metadata": {
    "ExecuteTime": {
     "end_time": "2022-12-20T21:19:19.534431Z",
     "start_time": "2022-12-20T21:19:18.404105Z"
    }
   },
   "outputs": [],
   "source": [
    "import torch\n",
    "#from torch import nn\n",
    "\n",
    "#import numpy as np\n",
    "\n",
    "#from sklearn import datasets\n",
    "\n",
    "import matplotlib as mpl\n",
    "#from matplotlib.colors import LinearSegmentedColormap\n",
    "#from matplotlib.patches import ConnectionPatch\n",
    "import matplotlib.pyplot as plt\n",
    "\n",
    "#import reprlib\n",
    "import sys"
   ]
  },
  {
   "cell_type": "markdown",
   "id": "323c7891",
   "metadata": {},
   "source": [
    "# Configuring Visualization Parameters"
   ]
  },
  {
   "cell_type": "code",
   "execution_count": 2,
   "id": "89f54ff2",
   "metadata": {
    "ExecuteTime": {
     "end_time": "2022-12-20T21:19:19.544876Z",
     "start_time": "2022-12-20T21:19:19.537411Z"
    }
   },
   "outputs": [],
   "source": [
    "%matplotlib inline"
   ]
  },
  {
   "cell_type": "code",
   "execution_count": 3,
   "id": "7ccdccb1",
   "metadata": {
    "ExecuteTime": {
     "end_time": "2022-12-20T21:19:19.548153Z",
     "start_time": "2022-12-20T21:19:19.546089Z"
    }
   },
   "outputs": [],
   "source": [
    "XINHUI = \"#7a7374\"\n",
    "XUEBAI = \"#fffef9\"\n",
    "YINBAI = \"#f1f0ed\"\n",
    "YINHUI = \"#918072\"\n",
    "\n",
    "figure_size = (16, 9)"
   ]
  },
  {
   "cell_type": "code",
   "execution_count": 4,
   "id": "4c5029bd",
   "metadata": {
    "ExecuteTime": {
     "end_time": "2022-12-20T21:19:19.552100Z",
     "start_time": "2022-12-20T21:19:19.549564Z"
    }
   },
   "outputs": [],
   "source": [
    "custom_params = {\n",
    "    \"axes.axisbelow\": True,\n",
    "    \"axes.edgecolor\": YINBAI,\n",
    "    \"axes.facecolor\": XUEBAI,\n",
    "    \"axes.grid\": True,\n",
    "    \"axes.labelcolor\": XINHUI,\n",
    "    \"axes.spines.right\": False,\n",
    "    \"axes.spines.top\": False,\n",
    "    \"axes.titlecolor\": XINHUI,\n",
    "    \"figure.edgecolor\": YINBAI,\n",
    "    \"figure.facecolor\": XUEBAI,\n",
    "    \"grid.alpha\": .8,\n",
    "    \"grid.color\": YINBAI,\n",
    "    \"grid.linestyle\": \"--\",\n",
    "    \"grid.linewidth\": 1.2,\n",
    "    \"legend.edgecolor\": YINHUI,\n",
    "    \"patch.edgecolor\": XUEBAI,\n",
    "    \"patch.force_edgecolor\": True,\n",
    "    \"text.color\": XINHUI,\n",
    "    \"xtick.color\": YINHUI,\n",
    "    \"ytick.color\": YINHUI,\n",
    "}\n",
    "\n",
    "mpl.rcParams.update(custom_params)"
   ]
  },
  {
   "cell_type": "markdown",
   "id": "19b15a1f",
   "metadata": {},
   "source": [
    "# Configuring Other Notebook Parameters"
   ]
  },
  {
   "cell_type": "code",
   "execution_count": 5,
   "id": "5817eca9",
   "metadata": {
    "ExecuteTime": {
     "end_time": "2022-12-20T21:19:19.554794Z",
     "start_time": "2022-12-20T21:19:19.553092Z"
    }
   },
   "outputs": [],
   "source": [
    "#reprlib_rules = reprlib.Repr()\n",
    "#reprlib_rules.maxother = 250"
   ]
  },
  {
   "cell_type": "markdown",
   "id": "b4ec5d83",
   "metadata": {},
   "source": [
    "# Pre-installing Custom Functions"
   ]
  },
  {
   "cell_type": "code",
   "execution_count": 6,
   "id": "c2efd6b1",
   "metadata": {
    "ExecuteTime": {
     "end_time": "2022-12-20T21:19:19.559943Z",
     "start_time": "2022-12-20T21:19:19.558361Z"
    }
   },
   "outputs": [],
   "source": [
    "sys.path.append(\"../\")"
   ]
  },
  {
   "cell_type": "code",
   "execution_count": 7,
   "id": "dc44df4d",
   "metadata": {
    "ExecuteTime": {
     "end_time": "2022-12-20T21:19:19.785841Z",
     "start_time": "2022-12-20T21:19:19.561062Z"
    }
   },
   "outputs": [],
   "source": [
    "from Modules import *"
   ]
  },
  {
   "cell_type": "markdown",
   "id": "ab1f49cc",
   "metadata": {},
   "source": [
    "# Practicing in Stages"
   ]
  },
  {
   "cell_type": "code",
   "execution_count": 8,
   "id": "1f99eb7e",
   "metadata": {
    "ExecuteTime": {
     "end_time": "2022-12-20T21:19:19.789105Z",
     "start_time": "2022-12-20T21:19:19.786888Z"
    }
   },
   "outputs": [],
   "source": [
    "string = \"\"\"\n",
    "\n",
    "RegExr was created by gskinner.com.\n",
    "\n",
    "Edit the Expression & Text to see matches. Roll over matches or the expression for details. PCRE & JavaScript flavors of RegEx are supported. Validate your expression with<>  < hgdhgjjkjbkb12 lkn dhcjvjkblkn> Tests mode <ggjk122 hlkkln \n",
    "jggkjbhkjbkb khgkgbkjbkj >.\n",
    "\n",
    "The side bar includes a Cheatsheet, full Reference, and Help. You can also Save & Share with the Community and view patterns you create or favorite <dqddqs>in My Patterns.\n",
    "\n",
    "Explore results with the Tools below. Replace & List output custom results. Details lists capture groups. Explain describes your expression in plain English.\n",
    "\"\"\""
   ]
  },
  {
   "cell_type": "code",
   "execution_count": 9,
   "id": "775816e0",
   "metadata": {
    "ExecuteTime": {
     "end_time": "2022-12-20T21:19:19.793955Z",
     "start_time": "2022-12-20T21:19:19.790301Z"
    }
   },
   "outputs": [
    {
     "name": "stdout",
     "output_type": "stream",
     "text": [
      "(210, 212)\n",
      "(214, 247)\n",
      "(259, 302)\n",
      "(453, 461)\n",
      "\n",
      "\n",
      "RegExr was created by gskinner.com.\n",
      "\n",
      "Edit the Expression & Text to see matches. Roll over matches or the expression for details. PCRE & JavaScript flavors of RegEx are supported. Validate your expression with⟨⟩  ⟨ hgdhgjjkjbkb12 lkn dhcjvjkblkn⟩ Tests mode ⟨ggjk122 hlkkln \n",
      "jggkjbhkjbkb khgkgbkjbkj ⟩.\n",
      "\n",
      "The side bar includes a Cheatsheet, full Reference, and Help. You can also Save & Share with the Community and view patterns you create or favorite ⟨dqddqs⟩in My Patterns.\n",
      "\n",
      "Explore results with the Tools below. Replace & List output custom results. Details lists capture groups. Explain describes your expression in plain English.\n",
      "\n"
     ]
    }
   ],
   "source": [
    "import re\n",
    "\n",
    "\n",
    "regex_pattern = \"\\<[\\s\\S]*?\\>\"\n",
    "\n",
    "if re.search(regex_pattern, string):\n",
    "    while re.search(regex_pattern, string):\n",
    "        \n",
    "        positions = re.search(regex_pattern, string).span()\n",
    "        print(positions)\n",
    "        \n",
    "        string = string[: positions[0]] + \"⟨\" + string[positions[0]+1:]\n",
    "        string = string[: positions[1] - 1] + \"⟩\" + string[positions[1]:]\n",
    "    print(string)\n",
    "else:\n",
    "    print(\"no\")\n"
   ]
  },
  {
   "cell_type": "code",
   "execution_count": 10,
   "id": "af4266d7",
   "metadata": {
    "ExecuteTime": {
     "end_time": "2022-12-20T21:19:19.800503Z",
     "start_time": "2022-12-20T21:19:19.796328Z"
    }
   },
   "outputs": [
    {
     "data": {
      "text/plain": [
       "'\\n\\nRegExr was created by gskinner.com.\\n\\nEdit the Expression & Text to see matches. Roll over matches or the expression for details. PCRE & JavaScript flavors of RegEx are supported. Validate your expression with⟨⟩  ⟨ hgdhgjjkjbkb12 lkn dhcjvjkblkn⟩ Tests mode ⟨ggjk122 hlkkln \\njggkjbhkjbkb khgkgbkjbkj ⟩.\\n\\nThe side bar includes a Cheatsheet, full Reference, and Help. You can also Save & Share with the Community and view patterns you create or favorite ⟨dqddqs⟩in My Patterns.\\n\\nExplore results with the Tools below. Replace & List output custom results. Details lists capture groups. Explain describes your expression in plain English.\\n'"
      ]
     },
     "execution_count": 10,
     "metadata": {},
     "output_type": "execute_result"
    }
   ],
   "source": [
    "#string =\"ffffff\"\n",
    "\n",
    "\n",
    "def sign_adjuster(string):\n",
    "    regex_pattern = \"\\<[\\s\\S]*?\\>\"\n",
    "    while re.search(regex_pattern, string):\n",
    "        positions = re.search(regex_pattern, string).span()\n",
    "        string = f\"{string[:positions[0]]}⟨{string[positions[0] + 1:]}\"\n",
    "        string = f\"{string[:positions[1] - 1]}⟩{string[positions[1]:]}\"\n",
    "    return string\n",
    "    \n",
    "a = sign_adjuster(string)\n",
    "a"
   ]
  },
  {
   "cell_type": "code",
   "execution_count": 11,
   "id": "9d2552b6",
   "metadata": {
    "ExecuteTime": {
     "end_time": "2022-12-20T21:19:19.805523Z",
     "start_time": "2022-12-20T21:19:19.801464Z"
    }
   },
   "outputs": [],
   "source": [
    "from torch import nn\n",
    "\n",
    "class LR(nn.Module):\n",
    "\n",
    "    def __init__(self, input_size, output_size):\n",
    "        super().__init__()\n",
    "        self.linear = nn.Linear(input_size, output_size)\n",
    "\n",
    "    def forward(self, x):\n",
    "        pred = self.linear(x)\n",
    "        return pred\n",
    "\n",
    "\n",
    "torch.manual_seed(1)\n",
    "model = LR(1, 1)\n",
    "\n",
    "string = str(model.parameters())"
   ]
  },
  {
   "cell_type": "code",
   "execution_count": 12,
   "id": "4e646b01",
   "metadata": {
    "ExecuteTime": {
     "end_time": "2022-12-20T21:19:19.811536Z",
     "start_time": "2022-12-20T21:19:19.806702Z"
    }
   },
   "outputs": [
    {
     "name": "stdout",
     "output_type": "stream",
     "text": [
      "\u001b[4m\u001b[31mInitialization of custom module class\u001b[0m\n",
      "\n",
      "\u001b[1m\u001b[31m    +------------------------------------------------------+\u001b[0m\n",
      "\u001b[1m\u001b[31m    | Definition                                           |\u001b[0m\n",
      "\u001b[1m\u001b[31m    +------------------------------------------------------+\u001b[0m\n",
      "\u001b[1m\u001b[31m    | class Model(nn.Module):                              |\u001b[0m\n",
      "\u001b[1m\u001b[31m    |                                                      |\u001b[0m\n",
      "\u001b[1m\u001b[31m    |     def __init__(self, input_size, H1, output_size): |\u001b[0m\n",
      "\u001b[1m\u001b[31m    |         super().__init__()                           |\u001b[0m\n",
      "\u001b[1m\u001b[31m    |         self.linear = nn.Linear(input_size, H1)      |\u001b[0m\n",
      "\u001b[1m\u001b[31m    |         self.linear2 = nn.Linear(H1, output_size)    |\u001b[0m\n",
      "\u001b[1m\u001b[31m    |                                                      |\u001b[0m\n",
      "\u001b[1m\u001b[31m    |     def forward(self, x):                            |\u001b[0m\n",
      "\u001b[1m\u001b[31m    |         x = torch.sigmoid(self.linear(x))            |\u001b[0m\n",
      "\u001b[1m\u001b[31m    |         x = torch.sigmoid(self.linear2(x))           |\u001b[0m\n",
      "\u001b[1m\u001b[31m    |         return x                                     |\u001b[0m\n",
      "\u001b[1m\u001b[31m    |                                                      |\u001b[0m\n",
      "\u001b[1m\u001b[31m    |     def predict(self, x):                            |\u001b[0m\n",
      "\u001b[1m\u001b[31m    |         pred = self.forward(x)                       |\u001b[0m\n",
      "\u001b[1m\u001b[31m    |         if pred >= 0.5:                              |\u001b[0m\n",
      "\u001b[1m\u001b[31m    |             return 1                                 |\u001b[0m\n",
      "\u001b[1m\u001b[31m    |         else:                                        |\u001b[0m\n",
      "\u001b[1m\u001b[31m    |             return 0                                 |\u001b[0m\n",
      "\u001b[1m\u001b[31m    +------------------------------------------------------+\u001b[0m\n",
      "\u001b[1m\u001b[31m    +------------------------+\u001b[0m\n",
      "\u001b[1m\u001b[31m    | Statement              |\u001b[0m\n",
      "\u001b[1m\u001b[31m    +------------------------+\u001b[0m\n",
      "\u001b[1m\u001b[31m    | torch.manual_seed(2)   |\u001b[0m\n",
      "\u001b[1m\u001b[31m    | model = Model(2, 4, 1) |\u001b[0m\n",
      "\u001b[1m\u001b[31m    +------------------------+\u001b[0m\n",
      "\u001b[1m\u001b[31m    +----------+------------------------------------+\u001b[0m\n",
      "\u001b[1m\u001b[31m    | Variable | Value                              |\u001b[0m\n",
      "\u001b[1m\u001b[31m    +----------+------------------------------------+\u001b[0m\n",
      "\u001b[1m\u001b[31m    | model    | LR(                                |\u001b[0m\n",
      "\u001b[1m\u001b[31m    |          |   (linear): Linear(in_features=1,  |\u001b[0m\n",
      "\u001b[1m\u001b[31m    |          |         out_features=1, bias=True) |\u001b[0m\n",
      "\u001b[1m\u001b[31m    |          | )                                  |\u001b[0m\n",
      "\u001b[1m\u001b[31m    +----------+------------------------------------+\u001b[0m\n",
      "\u001b[1m\u001b[31m    +--------------------------+------------------------------+\u001b[0m\n",
      "\u001b[1m\u001b[31m    | Expression               | Result                       |\u001b[0m\n",
      "\u001b[1m\u001b[31m    +--------------------------+------------------------------+\u001b[0m\n",
      "\u001b[1m\u001b[31m    | model.parameters()       | <generator object            |\u001b[0m\n",
      "\u001b[1m\u001b[31m    |                          |         Module.parameters at |\u001b[0m\n",
      "\u001b[1m\u001b[31m    |                          |         0x13f3d5970>         |\u001b[0m\n",
      "\u001b[1m\u001b[31m    | list(model.parameters()) | <                            |\u001b[0m\n",
      "\u001b[1m\u001b[31m    | aa                       | <=                           |\u001b[0m\n",
      "\u001b[1m\u001b[31m    +--------------------------+------------------------------+\u001b[0m\n"
     ]
    }
   ],
   "source": [
    "tabulation = Form_Generator()\n",
    "tabulation.heading_printer(\"Initialization of custom module class\")\n",
    "\n",
    "definitions = [\n",
    "    \"\"\"\n",
    "class Model(nn.Module):\n",
    "\n",
    "    def __init__(self, input_size, H1, output_size):\n",
    "        super().__init__()\n",
    "        self.linear = nn.Linear(input_size, H1)\n",
    "        self.linear2 = nn.Linear(H1, output_size)\n",
    "\n",
    "    def forward(self, x):\n",
    "        x = torch.sigmoid(self.linear(x))\n",
    "        x = torch.sigmoid(self.linear2(x))\n",
    "        return x\n",
    "\n",
    "    def predict(self, x):\n",
    "        pred = self.forward(x)\n",
    "        if pred >= 0.5:\n",
    "            return 1\n",
    "        else:\n",
    "            return 0\n",
    "\"\"\"\n",
    "]\n",
    "tabulation.definition_generator(definitions)\n",
    "\n",
    "statements = [\"\"\"\n",
    "torch.manual_seed(2)\n",
    "model = Model(2, 4, 1)\n",
    "\"\"\"]\n",
    "tabulation.statement_generator(statements)\n",
    "\n",
    "variables = [\"model\"]\n",
    "values = [str(model)]\n",
    "tabulation.variable_generator(variables, values)\n",
    "\n",
    "expressions = [\"model.parameters()\", \"list(model.parameters())\", \"aa\"]\n",
    "results = [str(model.parameters()), str(\"<\"), str(\"<=\")]\n",
    "tabulation.expression_generator(expressions, results)"
   ]
  },
  {
   "cell_type": "code",
   "execution_count": null,
   "id": "23b1d1e0",
   "metadata": {
    "ExecuteTime": {
     "end_time": "2022-12-20T20:53:02.996403Z",
     "start_time": "2022-12-20T20:53:02.989219Z"
    }
   },
   "outputs": [],
   "source": []
  },
  {
   "cell_type": "code",
   "execution_count": null,
   "id": "2345ed3e",
   "metadata": {
    "ExecuteTime": {
     "end_time": "2022-12-20T20:53:11.667235Z",
     "start_time": "2022-12-20T20:53:11.659678Z"
    }
   },
   "outputs": [],
   "source": []
  },
  {
   "cell_type": "code",
   "execution_count": null,
   "id": "78810044",
   "metadata": {
    "ExecuteTime": {
     "end_time": "2022-12-20T20:53:16.271782Z",
     "start_time": "2022-12-20T20:53:16.262743Z"
    }
   },
   "outputs": [],
   "source": []
  },
  {
   "cell_type": "code",
   "execution_count": null,
   "id": "3f774d2b",
   "metadata": {},
   "outputs": [],
   "source": []
  }
 ],
 "metadata": {
  "hide_input": false,
  "kernelspec": {
   "display_name": "Python 3 (ipykernel)",
   "language": "python",
   "name": "python3"
  },
  "language_info": {
   "codemirror_mode": {
    "name": "ipython",
    "version": 3
   },
   "file_extension": ".py",
   "mimetype": "text/x-python",
   "name": "python",
   "nbconvert_exporter": "python",
   "pygments_lexer": "ipython3",
   "version": "3.9.15"
  },
  "nbTranslate": {
   "displayLangs": [
    "*"
   ],
   "hotkey": "alt-t",
   "langInMainMenu": true,
   "sourceLang": "en",
   "targetLang": "fr",
   "useGoogleTranslate": true
  },
  "toc": {
   "base_numbering": 1,
   "nav_menu": {},
   "number_sections": true,
   "sideBar": true,
   "skip_h1_title": false,
   "title_cell": "Table of Contents",
   "title_sidebar": "Contents",
   "toc_cell": false,
   "toc_position": {
    "height": "calc(100% - 180px)",
    "left": "10px",
    "top": "150px",
    "width": "345.594px"
   },
   "toc_section_display": true,
   "toc_window_display": true
  },
  "varInspector": {
   "cols": {
    "lenName": 16,
    "lenType": 16,
    "lenVar": 40
   },
   "kernels_config": {
    "python": {
     "delete_cmd_postfix": "",
     "delete_cmd_prefix": "del ",
     "library": "var_list.py",
     "varRefreshCmd": "print(var_dic_list())"
    },
    "r": {
     "delete_cmd_postfix": ") ",
     "delete_cmd_prefix": "rm(",
     "library": "var_list.r",
     "varRefreshCmd": "cat(var_dic_list()) "
    }
   },
   "types_to_exclude": [
    "module",
    "function",
    "builtin_function_or_method",
    "instance",
    "_Feature"
   ],
   "window_display": false
  }
 },
 "nbformat": 4,
 "nbformat_minor": 5
}

{
 "cells": [
  {
   "cell_type": "markdown",
   "id": "0a3c108f",
   "metadata": {},
   "source": [
    "# Importing Libraries"
   ]
  },
  {
   "cell_type": "code",
   "execution_count": 1,
   "id": "2729b385",
   "metadata": {
    "ExecuteTime": {
     "end_time": "2022-12-15T23:39:00.086279Z",
     "start_time": "2022-12-15T23:38:59.207662Z"
    }
   },
   "outputs": [],
   "source": [
    "import torch\n",
    "#from torch import nn\n",
    "\n",
    "#import numpy as np\n",
    "\n",
    "#from sklearn import datasets\n",
    "\n",
    "import matplotlib as mpl\n",
    "#from matplotlib.colors import LinearSegmentedColormap\n",
    "#from matplotlib.patches import ConnectionPatch\n",
    "import matplotlib.pyplot as plt\n",
    "\n",
    "#import reprlib\n",
    "import sys"
   ]
  },
  {
   "cell_type": "markdown",
   "id": "3a9132b5",
   "metadata": {},
   "source": [
    "# Configuring Visualization Parameters"
   ]
  },
  {
   "cell_type": "code",
   "execution_count": 2,
   "id": "72abefb1",
   "metadata": {
    "ExecuteTime": {
     "end_time": "2022-12-15T23:39:00.093489Z",
     "start_time": "2022-12-15T23:39:00.087433Z"
    }
   },
   "outputs": [],
   "source": [
    "%matplotlib inline"
   ]
  },
  {
   "cell_type": "code",
   "execution_count": 3,
   "id": "28acbcf0",
   "metadata": {
    "ExecuteTime": {
     "end_time": "2022-12-15T23:39:00.095825Z",
     "start_time": "2022-12-15T23:39:00.094200Z"
    }
   },
   "outputs": [],
   "source": [
    "XINHUI = \"#7a7374\"\n",
    "XUEBAI = \"#fffef9\"\n",
    "YINBAI = \"#f1f0ed\"\n",
    "YINHUI = \"#918072\"\n",
    "\n",
    "figure_size = (16, 9)"
   ]
  },
  {
   "cell_type": "code",
   "execution_count": 4,
   "id": "717ab6f5",
   "metadata": {
    "ExecuteTime": {
     "end_time": "2022-12-15T23:39:00.099279Z",
     "start_time": "2022-12-15T23:39:00.097263Z"
    }
   },
   "outputs": [],
   "source": [
    "custom_params = {\n",
    "    \"axes.axisbelow\": True,\n",
    "    \"axes.edgecolor\": YINBAI,\n",
    "    \"axes.facecolor\": XUEBAI,\n",
    "    \"axes.grid\": True,\n",
    "    \"axes.labelcolor\": XINHUI,\n",
    "    \"axes.spines.right\": False,\n",
    "    \"axes.spines.top\": False,\n",
    "    \"axes.titlecolor\": XINHUI,\n",
    "    \"figure.edgecolor\": YINBAI,\n",
    "    \"figure.facecolor\": XUEBAI,\n",
    "    \"grid.alpha\": .8,\n",
    "    \"grid.color\": YINBAI,\n",
    "    \"grid.linestyle\": \"--\",\n",
    "    \"grid.linewidth\": 1.2,\n",
    "    \"legend.edgecolor\": YINHUI,\n",
    "    \"patch.edgecolor\": XUEBAI,\n",
    "    \"patch.force_edgecolor\": True,\n",
    "    \"text.color\": XINHUI,\n",
    "    \"xtick.color\": YINHUI,\n",
    "    \"ytick.color\": YINHUI,\n",
    "}\n",
    "\n",
    "mpl.rcParams.update(custom_params)"
   ]
  },
  {
   "cell_type": "markdown",
   "id": "cbfd2f5f",
   "metadata": {},
   "source": [
    "# Configuring Other Notebook Parameters"
   ]
  },
  {
   "cell_type": "code",
   "execution_count": 5,
   "id": "959c9e60",
   "metadata": {
    "ExecuteTime": {
     "end_time": "2022-12-15T23:39:00.101776Z",
     "start_time": "2022-12-15T23:39:00.100361Z"
    }
   },
   "outputs": [],
   "source": [
    "#reprlib_rules = reprlib.Repr()\n",
    "#reprlib_rules.maxother = 250"
   ]
  },
  {
   "cell_type": "markdown",
   "id": "1fe8e142",
   "metadata": {},
   "source": [
    "# Pre-installing Custom Functions"
   ]
  },
  {
   "cell_type": "code",
   "execution_count": 6,
   "id": "d25a24cf",
   "metadata": {
    "ExecuteTime": {
     "end_time": "2022-12-15T23:39:00.104550Z",
     "start_time": "2022-12-15T23:39:00.102563Z"
    }
   },
   "outputs": [],
   "source": [
    "sys.path.append(\"../\")"
   ]
  },
  {
   "cell_type": "code",
   "execution_count": 7,
   "id": "45868a4d",
   "metadata": {
    "ExecuteTime": {
     "end_time": "2022-12-15T23:39:00.294927Z",
     "start_time": "2022-12-15T23:39:00.105401Z"
    }
   },
   "outputs": [],
   "source": [
    "from Modules import *"
   ]
  },
  {
   "cell_type": "markdown",
   "id": "a0491a83",
   "metadata": {},
   "source": [
    "# Practicing in Stages"
   ]
  },
  {
   "cell_type": "code",
   "execution_count": 8,
   "id": "5361bdda",
   "metadata": {
    "ExecuteTime": {
     "end_time": "2022-12-15T23:39:00.297429Z",
     "start_time": "2022-12-15T23:39:00.295763Z"
    }
   },
   "outputs": [],
   "source": [
    "string = \"\"\"\n",
    "\n",
    "RegExr was created by gskinner.com.\n",
    "\n",
    "Edit the Expression & Text to see matches. Roll over matches or the expression for details. PCRE & JavaScript flavors of RegEx are supported. Validate your expression with<>  < hgdhgjjkjbkb12 lkn dhcjvjkblkn> Tests mode <ggjk122 hlkkln \n",
    "jggkjbhkjbkb khgkgbkjbkj >.\n",
    "\n",
    "The side bar includes a Cheatsheet, full Reference, and Help. You can also Save & Share with the Community and view patterns you create or favorite <dqddqs>in My Patterns.\n",
    "\n",
    "Explore results with the Tools below. Replace & List output custom results. Details lists capture groups. Explain describes your expression in plain English.\n",
    "\"\"\""
   ]
  },
  {
   "cell_type": "code",
   "execution_count": 9,
   "id": "8b988e4a",
   "metadata": {
    "ExecuteTime": {
     "end_time": "2022-12-15T23:39:00.300593Z",
     "start_time": "2022-12-15T23:39:00.298179Z"
    }
   },
   "outputs": [
    {
     "name": "stdout",
     "output_type": "stream",
     "text": [
      "no\n"
     ]
    }
   ],
   "source": [
    "import re\n",
    "\n",
    "string = \"sssss\"\n",
    "\n",
    "regex_pattern = \"\\<[\\s\\S]*?\\>\"\n",
    "\n",
    "if re.search(regex_pattern, string):\n",
    "    while re.search(regex_pattern, string):\n",
    "        positions = re.search(regex_pattern, string).span()\n",
    "        string = string[: positions[0]] + \"⟨\" + string[positions[0]+1:]\n",
    "        string = string[: positions[1] - 1] + \"⟩\" + string[positions[1]:]\n",
    "    string = string[: positions[0]] + \"⟨\" + string[positions[0]+1:]\n",
    "    string = string[: positions[1] - 1] + \"⟩\" + string[positions[1]:]\n",
    "    print(string)\n",
    "else:\n",
    "    print(\"no\")\n"
   ]
  },
  {
   "cell_type": "code",
   "execution_count": 11,
   "id": "f9ee3522",
   "metadata": {
    "ExecuteTime": {
     "end_time": "2022-12-15T23:39:17.693348Z",
     "start_time": "2022-12-15T23:39:17.682064Z"
    }
   },
   "outputs": [],
   "source": [
    "def sign_adjuster(string):\n",
    "    regex_pattern = \"\\<[\\s\\S]*?\\>\"\n",
    "    if re.search(regex_pattern, string):\n",
    "        while re.search(regex_pattern, string):\n",
    "            positions = re.search(regex_pattern, string).span()\n",
    "            string = f\"{string[:positions[0]]}⟨{string[positions[0] + 1:]}\"\n",
    "            string = f\"{string[:positions[1] - 1]}⟩{string[positions[1]:]}\"\n",
    "        string = f\"{string[:positions[0]]}⟨{string[positions[0] + 1:]}\"\n",
    "        return f\"{string[:positions[1] - 1]}⟩{string[positions[1]:]}\"\n",
    "    \n",
    "a = sign_adjuster(string)\n",
    "a"
   ]
  },
  {
   "cell_type": "code",
   "execution_count": 12,
   "id": "9559b092",
   "metadata": {
    "ExecuteTime": {
     "end_time": "2022-12-15T23:39:18.201552Z",
     "start_time": "2022-12-15T23:39:18.192274Z"
    }
   },
   "outputs": [],
   "source": [
    "from torch import nn\n",
    "\n",
    "class LR(nn.Module):\n",
    "\n",
    "    def __init__(self, input_size, output_size):\n",
    "        super().__init__()\n",
    "        self.linear = nn.Linear(input_size, output_size)\n",
    "\n",
    "    def forward(self, x):\n",
    "        pred = self.linear(x)\n",
    "        return pred\n",
    "\n",
    "\n",
    "torch.manual_seed(1)\n",
    "model = LR(1, 1)\n",
    "\n",
    "string = str(model.parameters())"
   ]
  },
  {
   "cell_type": "code",
   "execution_count": 13,
   "id": "5847c883",
   "metadata": {
    "ExecuteTime": {
     "end_time": "2022-12-15T23:39:19.145943Z",
     "start_time": "2022-12-15T23:39:19.128549Z"
    }
   },
   "outputs": [
    {
     "name": "stdout",
     "output_type": "stream",
     "text": [
      "\u001b[4m\u001b[31mInitialization of custom module class\u001b[0m\n",
      "\n",
      "\u001b[1m\u001b[31m    +------------------------------------------------------+\u001b[0m\n",
      "\u001b[1m\u001b[31m    | Definition                                           |\u001b[0m\n",
      "\u001b[1m\u001b[31m    +------------------------------------------------------+\u001b[0m\n",
      "\u001b[1m\u001b[31m    | class Model(nn.Module):                              |\u001b[0m\n",
      "\u001b[1m\u001b[31m    |                                                      |\u001b[0m\n",
      "\u001b[1m\u001b[31m    |     def __init__(self, input_size, H1, output_size): |\u001b[0m\n",
      "\u001b[1m\u001b[31m    |         super().__init__()                           |\u001b[0m\n",
      "\u001b[1m\u001b[31m    |         self.linear = nn.Linear(input_size, H1)      |\u001b[0m\n",
      "\u001b[1m\u001b[31m    |         self.linear2 = nn.Linear(H1, output_size)    |\u001b[0m\n",
      "\u001b[1m\u001b[31m    |                                                      |\u001b[0m\n",
      "\u001b[1m\u001b[31m    |     def forward(self, x):                            |\u001b[0m\n",
      "\u001b[1m\u001b[31m    |         x = torch.sigmoid(self.linear(x))            |\u001b[0m\n",
      "\u001b[1m\u001b[31m    |         x = torch.sigmoid(self.linear2(x))           |\u001b[0m\n",
      "\u001b[1m\u001b[31m    |         return x                                     |\u001b[0m\n",
      "\u001b[1m\u001b[31m    |                                                      |\u001b[0m\n",
      "\u001b[1m\u001b[31m    |     def predict(self, x):                            |\u001b[0m\n",
      "\u001b[1m\u001b[31m    |         pred = self.forward(x)                       |\u001b[0m\n",
      "\u001b[1m\u001b[31m    |         if pred >= 0.5:                              |\u001b[0m\n",
      "\u001b[1m\u001b[31m    |             return 1                                 |\u001b[0m\n",
      "\u001b[1m\u001b[31m    |         else:                                        |\u001b[0m\n",
      "\u001b[1m\u001b[31m    |             return 0                                 |\u001b[0m\n",
      "\u001b[1m\u001b[31m    +------------------------------------------------------+\u001b[0m\n",
      "\u001b[1m\u001b[31m    +------------------------+\u001b[0m\n",
      "\u001b[1m\u001b[31m    | Statement              |\u001b[0m\n",
      "\u001b[1m\u001b[31m    +------------------------+\u001b[0m\n",
      "\u001b[1m\u001b[31m    | torch.manual_seed(2)   |\u001b[0m\n",
      "\u001b[1m\u001b[31m    | model = Model(2, 4, 1) |\u001b[0m\n",
      "\u001b[1m\u001b[31m    +------------------------+\u001b[0m\n",
      "\u001b[1m\u001b[31m    +----------+------------------------------------+\u001b[0m\n",
      "\u001b[1m\u001b[31m    | Variable | Value                              |\u001b[0m\n",
      "\u001b[1m\u001b[31m    +----------+------------------------------------+\u001b[0m\n",
      "\u001b[1m\u001b[31m    | model    | LR(                                |\u001b[0m\n",
      "\u001b[1m\u001b[31m    |          |   (linear): Linear(in_features=1,  |\u001b[0m\n",
      "\u001b[1m\u001b[31m    |          |         out_features=1, bias=True) |\u001b[0m\n",
      "\u001b[1m\u001b[31m    |          | )                                  |\u001b[0m\n",
      "\u001b[1m\u001b[31m    +----------+------------------------------------+\u001b[0m\n",
      "\u001b[1m\u001b[31m    +--------------------------+------------------------------+\u001b[0m\n",
      "\u001b[1m\u001b[31m    | Expression               | Result                       |\u001b[0m\n",
      "\u001b[1m\u001b[31m    +--------------------------+------------------------------+\u001b[0m\n",
      "\u001b[1m\u001b[31m    | model.parameters()       | <generator object            |\u001b[0m\n",
      "\u001b[1m\u001b[31m    |                          |         Module.parameters at |\u001b[0m\n",
      "\u001b[1m\u001b[31m    |                          |         0x141d18890>         |\u001b[0m\n",
      "\u001b[1m\u001b[31m    | list(model.parameters()) | <                            |\u001b[0m\n",
      "\u001b[1m\u001b[31m    | aa                       | <=                           |\u001b[0m\n",
      "\u001b[1m\u001b[31m    +--------------------------+------------------------------+\u001b[0m\n"
     ]
    }
   ],
   "source": [
    "tabulation = Form_Generator()\n",
    "tabulation.heading_printer(\"Initialization of custom module class\")\n",
    "\n",
    "definitions = [\n",
    "    \"\"\"\n",
    "class Model(nn.Module):\n",
    "\n",
    "    def __init__(self, input_size, H1, output_size):\n",
    "        super().__init__()\n",
    "        self.linear = nn.Linear(input_size, H1)\n",
    "        self.linear2 = nn.Linear(H1, output_size)\n",
    "\n",
    "    def forward(self, x):\n",
    "        x = torch.sigmoid(self.linear(x))\n",
    "        x = torch.sigmoid(self.linear2(x))\n",
    "        return x\n",
    "\n",
    "    def predict(self, x):\n",
    "        pred = self.forward(x)\n",
    "        if pred >= 0.5:\n",
    "            return 1\n",
    "        else:\n",
    "            return 0\n",
    "\"\"\"\n",
    "]\n",
    "tabulation.definition_generator(definitions)\n",
    "\n",
    "statements = [\"\"\"\n",
    "torch.manual_seed(2)\n",
    "model = Model(2, 4, 1)\n",
    "\"\"\"]\n",
    "tabulation.statement_generator(statements)\n",
    "\n",
    "variables = [\"model\"]\n",
    "values = [str(model)]\n",
    "tabulation.variable_generator(variables, values)\n",
    "\n",
    "expressions = [\"model.parameters()\", \"list(model.parameters())\", \"aa\"]\n",
    "results = [str(model.parameters()), str(\"<\"), str(\"<=\")]\n",
    "tabulation.expression_generator(expressions, results)"
   ]
  },
  {
   "cell_type": "code",
   "execution_count": null,
   "id": "5ece5134",
   "metadata": {},
   "outputs": [],
   "source": []
  }
 ],
 "metadata": {
  "hide_input": false,
  "kernelspec": {
   "display_name": "Python 3 (ipykernel)",
   "language": "python",
   "name": "python3"
  },
  "language_info": {
   "codemirror_mode": {
    "name": "ipython",
    "version": 3
   },
   "file_extension": ".py",
   "mimetype": "text/x-python",
   "name": "python",
   "nbconvert_exporter": "python",
   "pygments_lexer": "ipython3",
   "version": "3.9.15"
  },
  "nbTranslate": {
   "displayLangs": [
    "*"
   ],
   "hotkey": "alt-t",
   "langInMainMenu": true,
   "sourceLang": "en",
   "targetLang": "fr",
   "useGoogleTranslate": true
  },
  "toc": {
   "base_numbering": 1,
   "nav_menu": {},
   "number_sections": true,
   "sideBar": true,
   "skip_h1_title": false,
   "title_cell": "Table of Contents",
   "title_sidebar": "Contents",
   "toc_cell": false,
   "toc_position": {
    "height": "calc(100% - 180px)",
    "left": "10px",
    "top": "150px",
    "width": "345.594px"
   },
   "toc_section_display": true,
   "toc_window_display": true
  },
  "varInspector": {
   "cols": {
    "lenName": 16,
    "lenType": 16,
    "lenVar": 40
   },
   "kernels_config": {
    "python": {
     "delete_cmd_postfix": "",
     "delete_cmd_prefix": "del ",
     "library": "var_list.py",
     "varRefreshCmd": "print(var_dic_list())"
    },
    "r": {
     "delete_cmd_postfix": ") ",
     "delete_cmd_prefix": "rm(",
     "library": "var_list.r",
     "varRefreshCmd": "cat(var_dic_list()) "
    }
   },
   "types_to_exclude": [
    "module",
    "function",
    "builtin_function_or_method",
    "instance",
    "_Feature"
   ],
   "window_display": false
  }
 },
 "nbformat": 4,
 "nbformat_minor": 5
}

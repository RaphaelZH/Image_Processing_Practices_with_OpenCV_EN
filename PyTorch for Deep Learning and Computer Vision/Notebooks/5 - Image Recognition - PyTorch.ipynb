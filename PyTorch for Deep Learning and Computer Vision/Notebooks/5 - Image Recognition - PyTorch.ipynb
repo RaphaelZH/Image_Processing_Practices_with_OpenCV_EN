{
 "cells": [
  {
   "cell_type": "markdown",
   "id": "2e46332c",
   "metadata": {},
   "source": [
    "# Importing Libraries"
   ]
  },
  {
   "cell_type": "code",
   "execution_count": 1,
   "id": "74a087ca",
   "metadata": {
    "ExecuteTime": {
     "end_time": "2022-12-21T22:15:34.741375Z",
     "start_time": "2022-12-21T22:15:33.610146Z"
    }
   },
   "outputs": [],
   "source": [
    "import torch\n",
    "#from torch import nn\n",
    "from torchvision import datasets, transforms\n",
    "\n",
    "#import numpy as np\n",
    "\n",
    "#from sklearn import datasets\n",
    "\n",
    "import matplotlib as mpl\n",
    "#from matplotlib.colors import LinearSegmentedColormap\n",
    "#from matplotlib.patches import ConnectionPatch\n",
    "import matplotlib.pyplot as plt\n",
    "\n",
    "#import reprlib\n",
    "import sys"
   ]
  },
  {
   "cell_type": "markdown",
   "id": "70f39eda",
   "metadata": {},
   "source": [
    "# Configuring Visualization Parameters"
   ]
  },
  {
   "cell_type": "code",
   "execution_count": 2,
   "id": "9eaeabaa",
   "metadata": {
    "ExecuteTime": {
     "end_time": "2022-12-21T22:15:34.750218Z",
     "start_time": "2022-12-21T22:15:34.743122Z"
    }
   },
   "outputs": [],
   "source": [
    "%matplotlib inline"
   ]
  },
  {
   "cell_type": "code",
   "execution_count": 3,
   "id": "13e86196",
   "metadata": {
    "ExecuteTime": {
     "end_time": "2022-12-21T22:15:34.754361Z",
     "start_time": "2022-12-21T22:15:34.752697Z"
    }
   },
   "outputs": [],
   "source": [
    "XINHUI = \"#7a7374\"\n",
    "XUEBAI = \"#fffef9\"\n",
    "YINBAI = \"#f1f0ed\"\n",
    "YINHUI = \"#918072\"\n",
    "\n",
    "figure_size = (16, 9)"
   ]
  },
  {
   "cell_type": "code",
   "execution_count": 4,
   "id": "ec9c7962",
   "metadata": {
    "ExecuteTime": {
     "end_time": "2022-12-21T22:15:34.757784Z",
     "start_time": "2022-12-21T22:15:34.755482Z"
    }
   },
   "outputs": [],
   "source": [
    "custom_params = {\n",
    "    \"axes.axisbelow\": True,\n",
    "    \"axes.edgecolor\": YINBAI,\n",
    "    \"axes.facecolor\": XUEBAI,\n",
    "    \"axes.grid\": True,\n",
    "    \"axes.labelcolor\": XINHUI,\n",
    "    \"axes.spines.right\": False,\n",
    "    \"axes.spines.top\": False,\n",
    "    \"axes.titlecolor\": XINHUI,\n",
    "    \"figure.edgecolor\": YINBAI,\n",
    "    \"figure.facecolor\": XUEBAI,\n",
    "    \"grid.alpha\": .8,\n",
    "    \"grid.color\": YINBAI,\n",
    "    \"grid.linestyle\": \"--\",\n",
    "    \"grid.linewidth\": 1.2,\n",
    "    \"legend.edgecolor\": YINHUI,\n",
    "    \"patch.edgecolor\": XUEBAI,\n",
    "    \"patch.force_edgecolor\": True,\n",
    "    \"text.color\": XINHUI,\n",
    "    \"xtick.color\": YINHUI,\n",
    "    \"ytick.color\": YINHUI,\n",
    "}\n",
    "\n",
    "mpl.rcParams.update(custom_params)"
   ]
  },
  {
   "cell_type": "markdown",
   "id": "1ba6ce0e",
   "metadata": {},
   "source": [
    "# Configuring Other Notebook Parameters"
   ]
  },
  {
   "cell_type": "code",
   "execution_count": 5,
   "id": "3fa2d04a",
   "metadata": {
    "ExecuteTime": {
     "end_time": "2022-12-21T22:15:34.761578Z",
     "start_time": "2022-12-21T22:15:34.760143Z"
    }
   },
   "outputs": [],
   "source": [
    "#reprlib_rules = reprlib.Repr()\n",
    "#reprlib_rules.maxother = 250"
   ]
  },
  {
   "cell_type": "markdown",
   "id": "9b6ef745",
   "metadata": {},
   "source": [
    "# Pre-installing Custom Functions"
   ]
  },
  {
   "cell_type": "code",
   "execution_count": 6,
   "id": "ce377962",
   "metadata": {
    "ExecuteTime": {
     "end_time": "2022-12-21T22:15:34.764108Z",
     "start_time": "2022-12-21T22:15:34.762535Z"
    }
   },
   "outputs": [],
   "source": [
    "sys.path.append(\"../\")"
   ]
  },
  {
   "cell_type": "code",
   "execution_count": 7,
   "id": "4106f1f5",
   "metadata": {
    "ExecuteTime": {
     "end_time": "2022-12-21T22:15:34.932417Z",
     "start_time": "2022-12-21T22:15:34.765086Z"
    }
   },
   "outputs": [],
   "source": [
    "from Modules import *"
   ]
  },
  {
   "cell_type": "markdown",
   "id": "6f308ccb",
   "metadata": {},
   "source": [
    "# Practicing in Stages\n",
    "\n",
    "## Image Transforms"
   ]
  },
  {
   "cell_type": "code",
   "execution_count": 8,
   "id": "8e4d37d7",
   "metadata": {
    "ExecuteTime": {
     "end_time": "2022-12-21T22:15:34.952320Z",
     "start_time": "2022-12-21T22:15:34.933327Z"
    }
   },
   "outputs": [
    {
     "name": "stdout",
     "output_type": "stream",
     "text": [
      "\u001b[4m\u001b[32mLoading and transformation of the MNIST dataset\u001b[0m\n",
      "\n",
      "\u001b[1m\u001b[32m    +--------------------------------------------------------+\u001b[0m\n",
      "\u001b[1m\u001b[32m    | Statement                                              |\u001b[0m\n",
      "\u001b[1m\u001b[32m    +--------------------------------------------------------+\u001b[0m\n",
      "\u001b[1m\u001b[32m    | transform = transforms.Compose(                        |\u001b[0m\n",
      "\u001b[1m\u001b[32m    |     [transforms.ToTensor(),                            |\u001b[0m\n",
      "\u001b[1m\u001b[32m    |      transforms.Normalize((0.5, ), (0.5, ))])          |\u001b[0m\n",
      "\u001b[1m\u001b[32m    |                                                        |\u001b[0m\n",
      "\u001b[1m\u001b[32m    | training_dataset = datasets.MNIST(root=\"../Datasets\",  |\u001b[0m\n",
      "\u001b[1m\u001b[32m    |                                   train=True,          |\u001b[0m\n",
      "\u001b[1m\u001b[32m    |                                   download=True,       |\u001b[0m\n",
      "\u001b[1m\u001b[32m    |                                   transform=transform) |\u001b[0m\n",
      "\u001b[1m\u001b[32m    +--------------------------------------------------------+\u001b[0m\n",
      "\u001b[1m\u001b[32m    +------------------+----------------------------------------+\u001b[0m\n",
      "\u001b[1m\u001b[32m    | Variable         | Value                                  |\u001b[0m\n",
      "\u001b[1m\u001b[32m    +------------------+----------------------------------------+\u001b[0m\n",
      "\u001b[1m\u001b[32m    | transform        | Compose(                               |\u001b[0m\n",
      "\u001b[1m\u001b[32m    |                  |     ToTensor()                         |\u001b[0m\n",
      "\u001b[1m\u001b[32m    |                  |     Normalize(mean=(0.5,), std=(0.5,)) |\u001b[0m\n",
      "\u001b[1m\u001b[32m    |                  | )                                      |\u001b[0m\n",
      "\u001b[1m\u001b[32m    | training_dataset | Dataset MNIST                          |\u001b[0m\n",
      "\u001b[1m\u001b[32m    |                  |     Number of datapoints: 60000        |\u001b[0m\n",
      "\u001b[1m\u001b[32m    |                  |     Root location: ../Datasets         |\u001b[0m\n",
      "\u001b[1m\u001b[32m    |                  |     Split: Train                       |\u001b[0m\n",
      "\u001b[1m\u001b[32m    |                  |     StandardTransform                  |\u001b[0m\n",
      "\u001b[1m\u001b[32m    |                  | Transform: Compose(                    |\u001b[0m\n",
      "\u001b[1m\u001b[32m    |                  |                ToTensor()              |\u001b[0m\n",
      "\u001b[1m\u001b[32m    |                  |                Normalize(mean=(0.5,),  |\u001b[0m\n",
      "\u001b[1m\u001b[32m    |                  |         std=(0.5,))                    |\u001b[0m\n",
      "\u001b[1m\u001b[32m    |                  |            )                           |\u001b[0m\n",
      "\u001b[1m\u001b[32m    +------------------+----------------------------------------+\u001b[0m\n"
     ]
    }
   ],
   "source": [
    "transform = transforms.Compose(\n",
    "    [transforms.ToTensor(),\n",
    "     transforms.Normalize((0.5, ), (0.5, ))])\n",
    "\n",
    "training_dataset = datasets.MNIST(root=\"../Datasets\",\n",
    "                                  train=True,\n",
    "                                  download=True,\n",
    "                                  transform=transform)\n",
    "\n",
    "tabulation = Form_Generator()\n",
    "font_colors_list = tabulation.color_selector()\n",
    "\n",
    "tabulation.heading_printer(\"Loading and transformation of the MNIST dataset\")\n",
    "\n",
    "statements = [\n",
    "    \"\"\"\n",
    "transform = transforms.Compose(\n",
    "    [transforms.ToTensor(),\n",
    "     transforms.Normalize((0.5, ), (0.5, ))])\n",
    "\n",
    "training_dataset = datasets.MNIST(root=\"../Datasets\",\n",
    "                                  train=True,\n",
    "                                  download=True,\n",
    "                                  transform=transform)\n",
    "\"\"\"\n",
    "]\n",
    "tabulation.statement_generator(statements)\n",
    "\n",
    "variables = [\"transform\", \"training_dataset\"]\n",
    "values = [str(transform), str(training_dataset)]\n",
    "tabulation.variable_generator(variables, values)"
   ]
  },
  {
   "cell_type": "code",
   "execution_count": 17,
   "id": "267d5ddb",
   "metadata": {
    "ExecuteTime": {
     "end_time": "2022-12-21T22:18:20.880323Z",
     "start_time": "2022-12-21T22:18:16.334918Z"
    }
   },
   "outputs": [
    {
     "name": "stdout",
     "output_type": "stream",
     "text": [
      "\u001b[4m\u001b[37mTraining batch settings\u001b[0m\n",
      "\n",
      "\u001b[1m\u001b[37m    +-------------------------------------------------------------+\u001b[0m\n",
      "\u001b[1m\u001b[37m    | Statement                                                   |\u001b[0m\n",
      "\u001b[1m\u001b[37m    +-------------------------------------------------------------+\u001b[0m\n",
      "\u001b[1m\u001b[37m    | training_loader =                                           |\u001b[0m\n",
      "\u001b[1m\u001b[37m    |     torch.utils.data.DataLoader(dataset=training_dataset,   |\u001b[0m\n",
      "\u001b[1m\u001b[37m    |                                                             |\u001b[0m\n",
      "\u001b[1m\u001b[37m    |     batch_size=100,                                         |\u001b[0m\n",
      "\u001b[1m\u001b[37m    |                                               shuffle=True) |\u001b[0m\n",
      "\u001b[1m\u001b[37m    +-------------------------------------------------------------+\u001b[0m\n",
      "\u001b[1m\u001b[37m    +------------------------------------+----------------------+\u001b[0m\n",
      "\u001b[1m\u001b[37m    | Expression                         | Result               |\u001b[0m\n",
      "\u001b[1m\u001b[37m    +------------------------------------+----------------------+\u001b[0m\n",
      "\u001b[1m\u001b[37m    | len(training_loader)               | 600                  |\u001b[0m\n",
      "\u001b[1m\u001b[37m    | list(training_loader)[0][0].shape  | torch.Size([100, 1,  |\u001b[0m\n",
      "\u001b[1m\u001b[37m    |                                    |             28, 28]) |\u001b[0m\n",
      "\u001b[1m\u001b[37m    | list(training_loader)[-1][0].shape | torch.Size([100, 1,  |\u001b[0m\n",
      "\u001b[1m\u001b[37m    |                                    |             28, 28]) |\u001b[0m\n",
      "\u001b[1m\u001b[37m    +------------------------------------+----------------------+\u001b[0m\n"
     ]
    }
   ],
   "source": [
    "training_loader = torch.utils.data.DataLoader(dataset=training_dataset,\n",
    "                                              batch_size=100,\n",
    "                                              shuffle=True)\n",
    "\n",
    "tabulation = Form_Generator()\n",
    "tabulation.heading_printer(\"Training batch settings\")\n",
    "\n",
    "statements = [\n",
    "    \"\"\"\n",
    "training_loader = torch.utils.data.DataLoader(dataset=training_dataset,\n",
    "                                              batch_size=100,\n",
    "                                              shuffle=True)\n",
    "\"\"\"\n",
    "]\n",
    "tabulation.statement_generator(statements)\n",
    "\n",
    "expressions = [\n",
    "    \"len(training_loader)\", \"list(training_loader)[0][0].shape\",\n",
    "    \"list(training_loader)[-1][0].shape\"\n",
    "]\n",
    "results = [\n",
    "    str(len(training_loader)),\n",
    "    str(list(training_loader)[0][0].shape),\n",
    "    str(list(training_loader)[-1][0].shape)\n",
    "]\n",
    "tabulation.expression_generator(expressions, results, 12)"
   ]
  },
  {
   "cell_type": "code",
   "execution_count": 27,
   "id": "f9cb44c3",
   "metadata": {
    "ExecuteTime": {
     "end_time": "2022-12-21T22:20:38.379237Z",
     "start_time": "2022-12-21T22:20:36.089074Z"
    }
   },
   "outputs": [
    {
     "name": "stdout",
     "output_type": "stream",
     "text": [
      "\u001b[1m\u001b[37m    +------------------------------------+------------------------+\u001b[0m\n",
      "\u001b[1m\u001b[37m    | Expression                         | Result                 |\u001b[0m\n",
      "\u001b[1m\u001b[37m    +------------------------------------+------------------------+\u001b[0m\n",
      "\u001b[1m\u001b[37m    | len(training_loader)               | 600                    |\u001b[0m\n",
      "\u001b[1m\u001b[37m    | list(training_loader)[0][0].shape  | torch.Size([100, 1,    |\u001b[0m\n",
      "\u001b[1m\u001b[37m    |                                    |  28, 28])              |\u001b[0m\n",
      "\u001b[1m\u001b[37m    | list(training_loader)[-1][0].shape | ssssssssssssssssssssss |\u001b[0m\n",
      "\u001b[1m\u001b[37m    |                                    |  sssssssssssssssssssss |\u001b[0m\n",
      "\u001b[1m\u001b[37m    +------------------------------------+------------------------+\u001b[0m\n"
     ]
    }
   ],
   "source": [
    "expressions = [\n",
    "    \"len(training_loader)\", \"list(training_loader)[0][0].shape\",\n",
    "    \"list(training_loader)[-1][0].shape\"\n",
    "]\n",
    "results = [\n",
    "    str(len(training_loader)),\n",
    "    str(list(training_loader)[0][0].shape),\n",
    "    \"ssssssssssssssssssssss sssssssssssssssssssss\"\n",
    "]\n",
    "tabulation.expression_generator(expressions, results, 1)"
   ]
  },
  {
   "cell_type": "code",
   "execution_count": 11,
   "id": "49df88c2",
   "metadata": {
    "ExecuteTime": {
     "end_time": "2022-12-21T22:15:37.252099Z",
     "start_time": "2022-12-21T22:15:34.960828Z"
    }
   },
   "outputs": [
    {
     "data": {
      "text/plain": [
       "['torch.Size([100,', '1,', '28,', '28])']"
      ]
     },
     "execution_count": 11,
     "metadata": {},
     "output_type": "execute_result"
    }
   ],
   "source": [
    "str(list(enumerate(training_loader))[-1][1][0].shape).split(\" \")"
   ]
  },
  {
   "cell_type": "code",
   "execution_count": 12,
   "id": "f5ab9bd5",
   "metadata": {
    "ExecuteTime": {
     "end_time": "2022-12-21T22:15:37.325623Z",
     "start_time": "2022-12-21T22:15:37.253171Z"
    }
   },
   "outputs": [
    {
     "ename": "TypeError",
     "evalue": "'DataLoader' object is not subscriptable",
     "output_type": "error",
     "traceback": [
      "\u001b[0;31m---------------------------------------------------------------------------\u001b[0m",
      "\u001b[0;31mTypeError\u001b[0m                                 Traceback (most recent call last)",
      "Cell \u001b[0;32mIn[12], line 1\u001b[0m\n\u001b[0;32m----> 1\u001b[0m \u001b[43mtraining_loader\u001b[49m\u001b[43m[\u001b[49m\u001b[38;5;241;43m0\u001b[39;49m\u001b[43m]\u001b[49m\n",
      "\u001b[0;31mTypeError\u001b[0m: 'DataLoader' object is not subscriptable"
     ]
    }
   ],
   "source": [
    "training_loader[0]"
   ]
  },
  {
   "cell_type": "code",
   "execution_count": null,
   "id": "20ba5c97",
   "metadata": {
    "ExecuteTime": {
     "end_time": "2022-12-21T22:15:37.422838Z",
     "start_time": "2022-12-21T22:15:37.422832Z"
    }
   },
   "outputs": [],
   "source": [
    "list(training_loader)[0][0].shape"
   ]
  },
  {
   "cell_type": "code",
   "execution_count": null,
   "id": "977aafda",
   "metadata": {
    "ExecuteTime": {
     "end_time": "2022-12-21T22:15:37.423404Z",
     "start_time": "2022-12-21T22:15:37.423398Z"
    }
   },
   "outputs": [],
   "source": [
    "len(\"torch.Size([100,\")"
   ]
  },
  {
   "cell_type": "code",
   "execution_count": null,
   "id": "1bb022bd",
   "metadata": {
    "ExecuteTime": {
     "end_time": "2022-12-21T22:15:37.424160Z",
     "start_time": "2022-12-21T22:15:37.424154Z"
    }
   },
   "outputs": [],
   "source": [
    "len(\"-------------------------+\")"
   ]
  },
  {
   "cell_type": "code",
   "execution_count": null,
   "id": "39f8b79a",
   "metadata": {
    "ExecuteTime": {
     "end_time": "2022-12-21T22:15:37.425185Z",
     "start_time": "2022-12-21T22:15:37.425177Z"
    }
   },
   "outputs": [],
   "source": [
    "len(\"+-------------------------------------------------------------+\")"
   ]
  },
  {
   "cell_type": "code",
   "execution_count": null,
   "id": "06ccfeb9",
   "metadata": {},
   "outputs": [],
   "source": []
  }
 ],
 "metadata": {
  "hide_input": false,
  "kernelspec": {
   "display_name": "Python 3 (ipykernel)",
   "language": "python",
   "name": "python3"
  },
  "language_info": {
   "codemirror_mode": {
    "name": "ipython",
    "version": 3
   },
   "file_extension": ".py",
   "mimetype": "text/x-python",
   "name": "python",
   "nbconvert_exporter": "python",
   "pygments_lexer": "ipython3",
   "version": "3.9.15"
  },
  "nbTranslate": {
   "displayLangs": [
    "*"
   ],
   "hotkey": "alt-t",
   "langInMainMenu": true,
   "sourceLang": "en",
   "targetLang": "fr",
   "useGoogleTranslate": true
  },
  "toc": {
   "base_numbering": 1,
   "nav_menu": {},
   "number_sections": true,
   "sideBar": true,
   "skip_h1_title": false,
   "title_cell": "Table of Contents",
   "title_sidebar": "Contents",
   "toc_cell": false,
   "toc_position": {
    "height": "calc(100% - 180px)",
    "left": "10px",
    "top": "150px",
    "width": "345.594px"
   },
   "toc_section_display": true,
   "toc_window_display": true
  },
  "varInspector": {
   "cols": {
    "lenName": 16,
    "lenType": 16,
    "lenVar": 40
   },
   "kernels_config": {
    "python": {
     "delete_cmd_postfix": "",
     "delete_cmd_prefix": "del ",
     "library": "var_list.py",
     "varRefreshCmd": "print(var_dic_list())"
    },
    "r": {
     "delete_cmd_postfix": ") ",
     "delete_cmd_prefix": "rm(",
     "library": "var_list.r",
     "varRefreshCmd": "cat(var_dic_list()) "
    }
   },
   "types_to_exclude": [
    "module",
    "function",
    "builtin_function_or_method",
    "instance",
    "_Feature"
   ],
   "window_display": false
  }
 },
 "nbformat": 4,
 "nbformat_minor": 5
}

{
 "cells": [
  {
   "cell_type": "markdown",
   "id": "aaaf9137",
   "metadata": {},
   "source": [
    "# Importing Libraries"
   ]
  },
  {
   "cell_type": "code",
   "execution_count": 1,
   "id": "444b4926",
   "metadata": {
    "ExecuteTime": {
     "end_time": "2023-01-12T20:31:02.357562Z",
     "start_time": "2023-01-12T20:31:01.187741Z"
    }
   },
   "outputs": [],
   "source": [
    "import torch\n",
    "from torch import nn\n",
    "import torch.nn.functional as F\n",
    "from torchvision import datasets, transforms\n",
    "\n",
    "#import numpy as np\n",
    "\n",
    "#import requests\n",
    "\n",
    "import matplotlib as mpl\n",
    "#import matplotlib.gridspec as gridspec\n",
    "import matplotlib.pyplot as plt\n",
    "#from mpl_toolkits.axes_grid1.inset_locator import inset_axes\n",
    "\n",
    "#from PIL import Image, ImageOps\n",
    "\n",
    "import reprlib\n",
    "import sys"
   ]
  },
  {
   "cell_type": "markdown",
   "id": "9f62ce0f",
   "metadata": {},
   "source": [
    "# Configuring Visualization Parameters"
   ]
  },
  {
   "cell_type": "code",
   "execution_count": 2,
   "id": "98e4893c",
   "metadata": {
    "ExecuteTime": {
     "end_time": "2023-01-12T20:31:02.366835Z",
     "start_time": "2023-01-12T20:31:02.359308Z"
    }
   },
   "outputs": [],
   "source": [
    "%matplotlib inline"
   ]
  },
  {
   "cell_type": "code",
   "execution_count": 3,
   "id": "d4c30a7d",
   "metadata": {
    "ExecuteTime": {
     "end_time": "2023-01-12T20:31:02.370863Z",
     "start_time": "2023-01-12T20:31:02.369199Z"
    }
   },
   "outputs": [],
   "source": [
    "XINHUI = \"#7a7374\"\n",
    "XUEBAI = \"#fffef9\"\n",
    "YINBAI = \"#f1f0ed\"\n",
    "YINHUI = \"#918072\"\n",
    "\n",
    "figure_size = (16, 9)"
   ]
  },
  {
   "cell_type": "code",
   "execution_count": 4,
   "id": "c96adaa6",
   "metadata": {
    "ExecuteTime": {
     "end_time": "2023-01-12T20:31:02.374077Z",
     "start_time": "2023-01-12T20:31:02.371697Z"
    }
   },
   "outputs": [],
   "source": [
    "custom_params = {\n",
    "    \"axes.axisbelow\": True,\n",
    "    \"axes.edgecolor\": YINBAI,\n",
    "    \"axes.facecolor\": XUEBAI,\n",
    "    \"axes.grid\": True,\n",
    "    \"axes.labelcolor\": XINHUI,\n",
    "    \"axes.spines.right\": False,\n",
    "    \"axes.spines.top\": False,\n",
    "    \"axes.titlecolor\": XINHUI,\n",
    "    \"figure.edgecolor\": YINBAI,\n",
    "    \"figure.facecolor\": XUEBAI,\n",
    "    \"grid.alpha\": .8,\n",
    "    \"grid.color\": YINBAI,\n",
    "    \"grid.linestyle\": \"--\",\n",
    "    \"grid.linewidth\": 1.2,\n",
    "    \"legend.edgecolor\": YINHUI,\n",
    "    \"patch.edgecolor\": XUEBAI,\n",
    "    \"patch.force_edgecolor\": True,\n",
    "    \"text.color\": XINHUI,\n",
    "    \"xtick.color\": YINHUI,\n",
    "    \"ytick.color\": YINHUI,\n",
    "}\n",
    "\n",
    "mpl.rcParams.update(custom_params)"
   ]
  },
  {
   "cell_type": "markdown",
   "id": "4d73e003",
   "metadata": {},
   "source": [
    "# Configuring Pre-configured Parameters"
   ]
  },
  {
   "cell_type": "code",
   "execution_count": 5,
   "id": "d6025b94",
   "metadata": {
    "ExecuteTime": {
     "end_time": "2023-01-12T20:31:02.378070Z",
     "start_time": "2023-01-12T20:31:02.376259Z"
    }
   },
   "outputs": [],
   "source": [
    "transform = transforms.Compose([\n",
    "    transforms.Resize((28, 28)),\n",
    "    transforms.ToTensor(),\n",
    "    transforms.Normalize((0.5, ), (0.5, ))\n",
    "])"
   ]
  },
  {
   "cell_type": "markdown",
   "id": "4fad658d",
   "metadata": {},
   "source": [
    "# Configuring Other Notebook Parameters"
   ]
  },
  {
   "cell_type": "code",
   "execution_count": 6,
   "id": "8e37712a",
   "metadata": {
    "ExecuteTime": {
     "end_time": "2023-01-12T20:31:02.380646Z",
     "start_time": "2023-01-12T20:31:02.378985Z"
    }
   },
   "outputs": [],
   "source": [
    "reprlib_rules = reprlib.Repr()\n",
    "reprlib_rules.maxother = 250"
   ]
  },
  {
   "cell_type": "markdown",
   "id": "83421c04",
   "metadata": {},
   "source": [
    "# Pre-installing Custom Functions"
   ]
  },
  {
   "cell_type": "code",
   "execution_count": 7,
   "id": "22b163a3",
   "metadata": {
    "ExecuteTime": {
     "end_time": "2023-01-12T20:31:02.383190Z",
     "start_time": "2023-01-12T20:31:02.381528Z"
    }
   },
   "outputs": [],
   "source": [
    "sys.path.append(\"../\")"
   ]
  },
  {
   "cell_type": "code",
   "execution_count": 8,
   "id": "5806d1bf",
   "metadata": {
    "ExecuteTime": {
     "end_time": "2023-01-12T20:31:02.557264Z",
     "start_time": "2023-01-12T20:31:02.384308Z"
    }
   },
   "outputs": [],
   "source": [
    "from Modules import *"
   ]
  },
  {
   "cell_type": "markdown",
   "id": "1b91066b",
   "metadata": {},
   "source": [
    "# Loading Datasets"
   ]
  },
  {
   "cell_type": "code",
   "execution_count": 9,
   "id": "144d672d",
   "metadata": {
    "ExecuteTime": {
     "end_time": "2023-01-12T20:31:02.605111Z",
     "start_time": "2023-01-12T20:31:02.558298Z"
    }
   },
   "outputs": [],
   "source": [
    "training_dataset = datasets.MNIST(root=\"../Datasets\",\n",
    "                                  train=True,\n",
    "                                  download=True,\n",
    "                                  transform=transform)\n",
    "\n",
    "validation_dataset = datasets.MNIST(root=\"../Datasets\",\n",
    "                                    train=False,\n",
    "                                    download=True,\n",
    "                                    transform=transform)"
   ]
  },
  {
   "cell_type": "code",
   "execution_count": 10,
   "id": "884a721c",
   "metadata": {
    "ExecuteTime": {
     "end_time": "2023-01-12T20:31:02.610233Z",
     "start_time": "2023-01-12T20:31:02.606615Z"
    }
   },
   "outputs": [],
   "source": [
    "training_loader = torch.utils.data.DataLoader(training_dataset,\n",
    "                                              batch_size=100,\n",
    "                                              shuffle=True)\n",
    "\n",
    "validation_loader = torch.utils.data.DataLoader(validation_dataset,\n",
    "                                                batch_size=100,\n",
    "                                                shuffle=False)"
   ]
  },
  {
   "cell_type": "markdown",
   "id": "0db3d7f5",
   "metadata": {
    "ExecuteTime": {
     "end_time": "2023-01-12T17:56:18.222325Z",
     "start_time": "2023-01-12T17:56:18.218703Z"
    }
   },
   "source": [
    "# Practicing in Stages\n",
    "\n",
    "## Neural Network Implementation with PyTorch"
   ]
  },
  {
   "cell_type": "code",
   "execution_count": 11,
   "id": "8453bbe4",
   "metadata": {
    "ExecuteTime": {
     "end_time": "2023-01-12T20:31:02.615821Z",
     "start_time": "2023-01-12T20:31:02.611256Z"
    }
   },
   "outputs": [
    {
     "name": "stdout",
     "output_type": "stream",
     "text": [
      "\u001b[4m\u001b[32mDefinition of custom convolutional neural module class\u001b[0m\n",
      "\n",
      "\u001b[1m\u001b[32m    +-----------------------------------------------+\u001b[0m\n",
      "\u001b[1m\u001b[32m    | Definition                                    |\u001b[0m\n",
      "\u001b[1m\u001b[32m    +-----------------------------------------------+\u001b[0m\n",
      "\u001b[1m\u001b[32m    | class LeNet(nn.Module):                       |\u001b[0m\n",
      "\u001b[1m\u001b[32m    |                                               |\u001b[0m\n",
      "\u001b[1m\u001b[32m    |     def __init__(self):                       |\u001b[0m\n",
      "\u001b[1m\u001b[32m    |         super().__init__()                    |\u001b[0m\n",
      "\u001b[1m\u001b[32m    |         self.conv1 = nn.Conv2d(1, 20, 5, 1)   |\u001b[0m\n",
      "\u001b[1m\u001b[32m    |         self.conv2 = nn.Conv2d(20, 50, 5, 1)  |\u001b[0m\n",
      "\u001b[1m\u001b[32m    |         self.fc1 = nn.Linear(4 * 4 * 50, 500) |\u001b[0m\n",
      "\u001b[1m\u001b[32m    |         self.fc2 = nn.Linear(500, 10)         |\u001b[0m\n",
      "\u001b[1m\u001b[32m    |                                               |\u001b[0m\n",
      "\u001b[1m\u001b[32m    |     def forward(self, x):                     |\u001b[0m\n",
      "\u001b[1m\u001b[32m    |         x = F.relu(self.conv1(x))             |\u001b[0m\n",
      "\u001b[1m\u001b[32m    |         x = F.max_pool2d(x, 2, 2)             |\u001b[0m\n",
      "\u001b[1m\u001b[32m    |         x = F.relu(self.conv2(x))             |\u001b[0m\n",
      "\u001b[1m\u001b[32m    |         x = F.max_pool2d(x, 2, 2)             |\u001b[0m\n",
      "\u001b[1m\u001b[32m    |         x = x.view(-1, 4 * 4 * 50)            |\u001b[0m\n",
      "\u001b[1m\u001b[32m    |         x = F.relu(self.fc1(x))               |\u001b[0m\n",
      "\u001b[1m\u001b[32m    |         x = self.fc2(x)                       |\u001b[0m\n",
      "\u001b[1m\u001b[32m    |         return x                              |\u001b[0m\n",
      "\u001b[1m\u001b[32m    +-----------------------------------------------+\u001b[0m\n"
     ]
    }
   ],
   "source": [
    "class LeNet(nn.Module):\n",
    "\n",
    "    def __init__(self):\n",
    "        super().__init__()\n",
    "        self.conv1 = nn.Conv2d(1, 20, 5, 1)\n",
    "        self.conv2 = nn.Conv2d(20, 50, 5, 1)\n",
    "        self.fc1 = nn.Linear(4 * 4 * 50, 500)\n",
    "        self.fc2 = nn.Linear(500, 10)\n",
    "\n",
    "    def forward(self, x):\n",
    "        x = F.relu(self.conv1(x))\n",
    "        x = F.max_pool2d(x, 2, 2)\n",
    "        x = F.relu(self.conv2(x))\n",
    "        x = F.max_pool2d(x, 2, 2)\n",
    "        x = x.view(-1, 4 * 4 * 50)\n",
    "        x = F.relu(self.fc1(x))\n",
    "        x = self.fc2(x)\n",
    "        return x\n",
    "\n",
    "\n",
    "tabulation = Form_Generator()\n",
    "tabulation.heading_printer(\n",
    "    \"Definition of custom convolutional neural module class\")\n",
    "\n",
    "definitions = [\n",
    "    \"\"\"\n",
    "class LeNet(nn.Module):\n",
    "\n",
    "    def __init__(self):\n",
    "        super().__init__()\n",
    "        self.conv1 = nn.Conv2d(1, 20, 5, 1)\n",
    "        self.conv2 = nn.Conv2d(20, 50, 5, 1)\n",
    "        self.fc1 = nn.Linear(4 * 4 * 50, 500)\n",
    "        self.fc2 = nn.Linear(500, 10)\n",
    "\n",
    "    def forward(self, x):\n",
    "        x = F.relu(self.conv1(x))\n",
    "        x = F.max_pool2d(x, 2, 2)\n",
    "        x = F.relu(self.conv2(x))\n",
    "        x = F.max_pool2d(x, 2, 2)\n",
    "        x = x.view(-1, 4 * 4 * 50)\n",
    "        x = F.relu(self.fc1(x))\n",
    "        x = self.fc2(x)\n",
    "        return x\n",
    "\"\"\"\n",
    "]\n",
    "tabulation.definition_generator(definitions)"
   ]
  },
  {
   "cell_type": "markdown",
   "id": "3bcf0642",
   "metadata": {
    "ExecuteTime": {
     "end_time": "2023-01-12T17:56:18.229179Z",
     "start_time": "2023-01-12T17:56:18.227222Z"
    }
   },
   "source": [
    "## Model Training with PyTorch"
   ]
  },
  {
   "cell_type": "code",
   "execution_count": 12,
   "id": "7b884d5b",
   "metadata": {
    "ExecuteTime": {
     "end_time": "2023-01-12T20:31:02.630018Z",
     "start_time": "2023-01-12T20:31:02.616890Z"
    }
   },
   "outputs": [
    {
     "name": "stdout",
     "output_type": "stream",
     "text": [
      "\u001b[4m\u001b[33mInitialization of custom convolutional neural module class\u001b[0m\n",
      "\n",
      "\u001b[1m\u001b[33m    +-----------------+\u001b[0m\n",
      "\u001b[1m\u001b[33m    | Statement       |\u001b[0m\n",
      "\u001b[1m\u001b[33m    +-----------------+\u001b[0m\n",
      "\u001b[1m\u001b[33m    | model = LeNet() |\u001b[0m\n",
      "\u001b[1m\u001b[33m    +-----------------+\u001b[0m\n",
      "\u001b[1m\u001b[33m    +----------+-----------------------------------------------+\u001b[0m\n",
      "\u001b[1m\u001b[33m    | Variable | Value                                         |\u001b[0m\n",
      "\u001b[1m\u001b[33m    +----------+-----------------------------------------------+\u001b[0m\n",
      "\u001b[1m\u001b[33m    | model    | LeNet(                                        |\u001b[0m\n",
      "\u001b[1m\u001b[33m    |          |   (conv1): Conv2d(1, 20, kernel_size=(5, 5),  |\u001b[0m\n",
      "\u001b[1m\u001b[33m    |          |         stride=(1, 1))                        |\u001b[0m\n",
      "\u001b[1m\u001b[33m    |          |   (conv2): Conv2d(20, 50, kernel_size=(5, 5), |\u001b[0m\n",
      "\u001b[1m\u001b[33m    |          |         stride=(1, 1))                        |\u001b[0m\n",
      "\u001b[1m\u001b[33m    |          |   (fc1): Linear(in_features=800,              |\u001b[0m\n",
      "\u001b[1m\u001b[33m    |          |         out_features=500, bias=True)          |\u001b[0m\n",
      "\u001b[1m\u001b[33m    |          |   (fc2): Linear(in_features=500,              |\u001b[0m\n",
      "\u001b[1m\u001b[33m    |          |         out_features=10, bias=True)           |\u001b[0m\n",
      "\u001b[1m\u001b[33m    |          | )                                             |\u001b[0m\n",
      "\u001b[1m\u001b[33m    +----------+-----------------------------------------------+\u001b[0m\n",
      "\u001b[1m\u001b[33m    +--------------------------+----------------------------------+\u001b[0m\n",
      "\u001b[1m\u001b[33m    | Expression               | Result                           |\u001b[0m\n",
      "\u001b[1m\u001b[33m    +--------------------------+----------------------------------+\u001b[0m\n",
      "\u001b[1m\u001b[33m    | list(model.parameters()) | [Parameter containing:           |\u001b[0m\n",
      "\u001b[1m\u001b[33m    |                          | tensor([[[[-0.1283, -0.0543,     |\u001b[0m\n",
      "\u001b[1m\u001b[33m    |                          |         0.1913, -0.1146,         |\u001b[0m\n",
      "\u001b[1m\u001b[33m    |                          |         0.1101],                 |\u001b[0m\n",
      "\u001b[1m\u001b[33m    |                          |           [-0.0794,  0.0447,     |\u001b[0m\n",
      "\u001b[1m\u001b[33m    |                          |         0.1179, -0.182...0.0223, |\u001b[0m\n",
      "\u001b[1m\u001b[33m    |                          |          0.1761, -0.0333,        |\u001b[0m\n",
      "\u001b[1m\u001b[33m    |                          |         -0.1076, -0.1173],       |\u001b[0m\n",
      "\u001b[1m\u001b[33m    |                          |           [ 0.0419,  0.0695,     |\u001b[0m\n",
      "\u001b[1m\u001b[33m    |                          |         -0.1816, -0.0571,        |\u001b[0m\n",
      "\u001b[1m\u001b[33m    |                          |         -0.1789]]]],             |\u001b[0m\n",
      "\u001b[1m\u001b[33m    |                          |         requires_grad=True),     |\u001b[0m\n",
      "\u001b[1m\u001b[33m    |                          |         Parameter containing:    |\u001b[0m\n",
      "\u001b[1m\u001b[33m    |                          | tensor([ 0.0974,  0.1578,        |\u001b[0m\n",
      "\u001b[1m\u001b[33m    |                          |         -0.0561,  0.0679,        |\u001b[0m\n",
      "\u001b[1m\u001b[33m    |                          |         0.0076,  0.1021,         |\u001b[0m\n",
      "\u001b[1m\u001b[33m    |                          |         0.0975, -0.1152,         |\u001b[0m\n",
      "\u001b[1m\u001b[33m    |                          |          0.0722,  0.0184,        |\u001b[0m\n",
      "\u001b[1m\u001b[33m    |                          |         -0.1260, -0.1922,        |\u001b[0m\n",
      "\u001b[1m\u001b[33m    |                          |         0.1251,  0.0687,         |\u001b[0m\n",
      "\u001b[1m\u001b[33m    |                          |         0.0021, -0.0831,         |\u001b[0m\n",
      "\u001b[1m\u001b[33m    |                          |          0.0809,  0.0146,        |\u001b[0m\n",
      "\u001b[1m\u001b[33m    |                          |         0.1827, -0.1758],        |\u001b[0m\n",
      "\u001b[1m\u001b[33m    |                          |         requires_grad=True),     |\u001b[0m\n",
      "\u001b[1m\u001b[33m    |                          |         Parameter containing:    |\u001b[0m\n",
      "\u001b[1m\u001b[33m    |                          | tensor([[[[-2.3425e-02,          |\u001b[0m\n",
      "\u001b[1m\u001b[33m    |                          |         3.4706e-02, -3.9556e-02, |\u001b[0m\n",
      "\u001b[1m\u001b[33m    |                          |         -1.2979e-02,             |\u001b[0m\n",
      "\u001b[1m\u001b[33m    |                          |         -1.6366e-02],            |\u001b[0m\n",
      "\u001b[1m\u001b[33m    |                          |           [ 1.1594e-02, ...02,   |\u001b[0m\n",
      "\u001b[1m\u001b[33m    |                          |         -2.1697e-02],            |\u001b[0m\n",
      "\u001b[1m\u001b[33m    |                          |           [ 2.8938e-02,          |\u001b[0m\n",
      "\u001b[1m\u001b[33m    |                          |         -2.9398e-03,             |\u001b[0m\n",
      "\u001b[1m\u001b[33m    |                          |         -2.2053e-02,             |\u001b[0m\n",
      "\u001b[1m\u001b[33m    |                          |         -2.7065e-02,             |\u001b[0m\n",
      "\u001b[1m\u001b[33m    |                          |         3.0990e-02]]]],          |\u001b[0m\n",
      "\u001b[1m\u001b[33m    |                          |        requires_grad=True),      |\u001b[0m\n",
      "\u001b[1m\u001b[33m    |                          |         Parameter containing:    |\u001b[0m\n",
      "\u001b[1m\u001b[33m    |                          | tensor([ 0.0196,  0.0050,        |\u001b[0m\n",
      "\u001b[1m\u001b[33m    |                          |         0.0025, -0.0043,         |\u001b[0m\n",
      "\u001b[1m\u001b[33m    |                          |         0.0172, -0.0198,         |\u001b[0m\n",
      "\u001b[1m\u001b[33m    |                          |         -0.0014, -0.0360,        |\u001b[0m\n",
      "\u001b[1m\u001b[33m    |                          |         -0.0185, -0.0...         |\u001b[0m\n",
      "\u001b[1m\u001b[33m    |                          |         -0.0429,  0.0145,        |\u001b[0m\n",
      "\u001b[1m\u001b[33m    |                          |         -0.0201, -0.0324,        |\u001b[0m\n",
      "\u001b[1m\u001b[33m    |                          |         0.0100,  0.0019,         |\u001b[0m\n",
      "\u001b[1m\u001b[33m    |                          |         -0.0289,  0.0179,        |\u001b[0m\n",
      "\u001b[1m\u001b[33m    |                          |          0.0412,  0.0039],       |\u001b[0m\n",
      "\u001b[1m\u001b[33m    |                          |         requires_grad=True),     |\u001b[0m\n",
      "\u001b[1m\u001b[33m    |                          |         Parameter containing:    |\u001b[0m\n",
      "\u001b[1m\u001b[33m    |                          | tensor([[ 0.0216, -0.0250,       |\u001b[0m\n",
      "\u001b[1m\u001b[33m    |                          |         0.0194,  ..., -0.0166,   |\u001b[0m\n",
      "\u001b[1m\u001b[33m    |                          |         0.0189, -0.0097],        |\u001b[0m\n",
      "\u001b[1m\u001b[33m    |                          |         [ 0.0155,  0.0129,       |\u001b[0m\n",
      "\u001b[1m\u001b[33m    |                          |         0.0...0.0182,  0.0244,   |\u001b[0m\n",
      "\u001b[1m\u001b[33m    |                          |         0.0183],                 |\u001b[0m\n",
      "\u001b[1m\u001b[33m    |                          |         [ 0.0119,  0.0353,       |\u001b[0m\n",
      "\u001b[1m\u001b[33m    |                          |         -0.0016,  ...,  0.0046,  |\u001b[0m\n",
      "\u001b[1m\u001b[33m    |                          |         0.0333,  0.0124]],       |\u001b[0m\n",
      "\u001b[1m\u001b[33m    |                          |        requires_grad=True),      |\u001b[0m\n",
      "\u001b[1m\u001b[33m    |                          |         Parameter containing:    |\u001b[0m\n",
      "\u001b[1m\u001b[33m    |                          | tensor([-3.5005e-02,             |\u001b[0m\n",
      "\u001b[1m\u001b[33m    |                          |         -1.3462e-02,             |\u001b[0m\n",
      "\u001b[1m\u001b[33m    |                          |         1.9291e-02,  1.8315e-02, |\u001b[0m\n",
      "\u001b[1m\u001b[33m    |                          |         -6.3071e-03,             |\u001b[0m\n",
      "\u001b[1m\u001b[33m    |                          |         -3.4884e-02,             |\u001b[0m\n",
      "\u001b[1m\u001b[33m    |                          |         9.4791....7252e-03,      |\u001b[0m\n",
      "\u001b[1m\u001b[33m    |                          |         -5.1191e-03,             |\u001b[0m\n",
      "\u001b[1m\u001b[33m    |                          |          3.5048e-02,             |\u001b[0m\n",
      "\u001b[1m\u001b[33m    |                          |         -9.7983e-03,             |\u001b[0m\n",
      "\u001b[1m\u001b[33m    |                          |         -1.5643e-02,             |\u001b[0m\n",
      "\u001b[1m\u001b[33m    |                          |         2.8669e-03,              |\u001b[0m\n",
      "\u001b[1m\u001b[33m    |                          |         -2.2934e-02],            |\u001b[0m\n",
      "\u001b[1m\u001b[33m    |                          |        requires_grad=True), ...] |\u001b[0m\n",
      "\u001b[1m\u001b[33m    +--------------------------+----------------------------------+\u001b[0m\n"
     ]
    }
   ],
   "source": [
    "model = LeNet()\n",
    "\n",
    "tabulation = Form_Generator()\n",
    "tabulation.heading_printer(\n",
    "    \"Initialization of custom convolutional neural module class\")\n",
    "\n",
    "statements = [\"model = LeNet()\"]\n",
    "tabulation.statement_generator(statements)\n",
    "\n",
    "variables = [\"model\"]\n",
    "values = [str(model)]\n",
    "tabulation.variable_generator(variables, values)\n",
    "\n",
    "expressions = [\"list(model.parameters())\"]\n",
    "results = [reprlib_rules.repr(list(model.parameters()))]\n",
    "tabulation.expression_generator(expressions, results)"
   ]
  },
  {
   "cell_type": "code",
   "execution_count": 29,
   "id": "3ea6eadd",
   "metadata": {
    "ExecuteTime": {
     "end_time": "2023-01-12T21:04:18.463198Z",
     "start_time": "2023-01-12T21:04:18.452313Z"
    }
   },
   "outputs": [
    {
     "name": "stdout",
     "output_type": "stream",
     "text": [
      "\u001b[4m\u001b[32m\u001b[0m\n",
      "\n",
      "\u001b[1m\u001b[32m    +---------------------------------------------------+\u001b[0m\n",
      "\u001b[1m\u001b[32m    | Statement                                         |\u001b[0m\n",
      "\u001b[1m\u001b[32m    +---------------------------------------------------+\u001b[0m\n",
      "\u001b[1m\u001b[32m    | device = torch.device(\"mps:0\" if                  |\u001b[0m\n",
      "\u001b[1m\u001b[32m    |     torch.backends.mps.is_available() else \"cpu\") |\u001b[0m\n",
      "\u001b[1m\u001b[32m    +---------------------------------------------------+\u001b[0m\n",
      "\u001b[1m\u001b[32m    +----------+-------+\u001b[0m\n",
      "\u001b[1m\u001b[32m    | Variable | Value |\u001b[0m\n",
      "\u001b[1m\u001b[32m    +----------+-------+\u001b[0m\n",
      "\u001b[1m\u001b[32m    | device   | mps:0 |\u001b[0m\n",
      "\u001b[1m\u001b[32m    +----------+-------+\u001b[0m\n",
      "\u001b[1m\u001b[32m    +--------------+--------+\u001b[0m\n",
      "\u001b[1m\u001b[32m    | Expression   | Result |\u001b[0m\n",
      "\u001b[1m\u001b[32m    +--------------+--------+\u001b[0m\n",
      "\u001b[1m\u001b[32m    | device.index | 0      |\u001b[0m\n",
      "\u001b[1m\u001b[32m    +--------------+--------+\u001b[0m\n"
     ]
    }
   ],
   "source": [
    "device = torch.device(\"mps:0\" if torch.backends.mps.is_available() else \"cpu\")\n",
    "\n",
    "tabulation = Form_Generator()\n",
    "tabulation.heading_printer(\n",
    "    \"\")\n",
    "\n",
    "statements = [\n",
    "    \"device = torch.device(\\\"mps:0\\\" if torch.backends.mps.is_available() \"\n",
    "    \"else \\\"cpu\\\")\"\n",
    "]\n",
    "tabulation.statement_generator(statements)\n",
    "\n",
    "variables = [\"device\"]\n",
    "values = [str(device)]\n",
    "tabulation.variable_generator(variables, values)\n",
    "\n",
    "expressions = [\"device.index\"]\n",
    "results = [str(device.index)]\n",
    "tabulation.expression_generator(expressions, results)"
   ]
  },
  {
   "cell_type": "code",
   "execution_count": 14,
   "id": "ab0f70b0",
   "metadata": {
    "ExecuteTime": {
     "end_time": "2023-01-12T20:31:02.648360Z",
     "start_time": "2023-01-12T20:31:02.646568Z"
    }
   },
   "outputs": [],
   "source": [
    "device = torch.device(\"mps:0\" if torch.backends.mps.is_available() else \"cpu\")"
   ]
  },
  {
   "cell_type": "code",
   "execution_count": 15,
   "id": "6d813f2d",
   "metadata": {
    "ExecuteTime": {
     "end_time": "2023-01-12T20:31:02.652493Z",
     "start_time": "2023-01-12T20:31:02.649593Z"
    }
   },
   "outputs": [
    {
     "data": {
      "text/plain": [
       "0"
      ]
     },
     "execution_count": 15,
     "metadata": {},
     "output_type": "execute_result"
    }
   ],
   "source": [
    "device.index"
   ]
  },
  {
   "cell_type": "code",
   "execution_count": 16,
   "id": "12c493c2",
   "metadata": {
    "ExecuteTime": {
     "end_time": "2023-01-12T20:31:02.655969Z",
     "start_time": "2023-01-12T20:31:02.653771Z"
    }
   },
   "outputs": [
    {
     "name": "stdout",
     "output_type": "stream",
     "text": [
      "True\n",
      "True\n"
     ]
    }
   ],
   "source": [
    "import torch\n",
    "import math\n",
    "# this ensures that the current MacOS version is at least 12.3+\n",
    "print(torch.backends.mps.is_available())\n",
    "\n",
    "# this ensures that the current current PyTorch installation was built with MPS activated.\n",
    "print(torch.backends.mps.is_built())"
   ]
  },
  {
   "cell_type": "code",
   "execution_count": 17,
   "id": "dcf2d79e",
   "metadata": {
    "ExecuteTime": {
     "end_time": "2023-01-12T20:31:02.664221Z",
     "start_time": "2023-01-12T20:31:02.659884Z"
    }
   },
   "outputs": [],
   "source": [
    "criterion = nn.CrossEntropyLoss()\n",
    "optimizer = torch.optim.Adam(model.parameters(), lr=0.0001)"
   ]
  }
 ],
 "metadata": {
  "hide_input": false,
  "kernelspec": {
   "display_name": "Python 3 (ipykernel)",
   "language": "python",
   "name": "python3"
  },
  "language_info": {
   "codemirror_mode": {
    "name": "ipython",
    "version": 3
   },
   "file_extension": ".py",
   "mimetype": "text/x-python",
   "name": "python",
   "nbconvert_exporter": "python",
   "pygments_lexer": "ipython3",
   "version": "3.9.15"
  },
  "nbTranslate": {
   "displayLangs": [
    "*"
   ],
   "hotkey": "alt-t",
   "langInMainMenu": true,
   "sourceLang": "en",
   "targetLang": "fr",
   "useGoogleTranslate": true
  },
  "toc": {
   "base_numbering": 1,
   "nav_menu": {},
   "number_sections": true,
   "sideBar": true,
   "skip_h1_title": false,
   "title_cell": "Table of Contents",
   "title_sidebar": "Contents",
   "toc_cell": false,
   "toc_position": {
    "height": "calc(100% - 180px)",
    "left": "10px",
    "top": "150px",
    "width": "345.594px"
   },
   "toc_section_display": true,
   "toc_window_display": true
  },
  "varInspector": {
   "cols": {
    "lenName": 16,
    "lenType": 16,
    "lenVar": 40
   },
   "kernels_config": {
    "python": {
     "delete_cmd_postfix": "",
     "delete_cmd_prefix": "del ",
     "library": "var_list.py",
     "varRefreshCmd": "print(var_dic_list())"
    },
    "r": {
     "delete_cmd_postfix": ") ",
     "delete_cmd_prefix": "rm(",
     "library": "var_list.r",
     "varRefreshCmd": "cat(var_dic_list()) "
    }
   },
   "types_to_exclude": [
    "module",
    "function",
    "builtin_function_or_method",
    "instance",
    "_Feature"
   ],
   "window_display": false
  }
 },
 "nbformat": 4,
 "nbformat_minor": 5
}

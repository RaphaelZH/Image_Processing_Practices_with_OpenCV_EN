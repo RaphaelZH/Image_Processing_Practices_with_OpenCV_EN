{
 "cells": [
  {
   "cell_type": "markdown",
   "id": "9f6c4e1c",
   "metadata": {},
   "source": [
    "# Importing Libraries"
   ]
  },
  {
   "cell_type": "code",
   "execution_count": 1,
   "id": "f04cab30",
   "metadata": {
    "ExecuteTime": {
     "end_time": "2022-12-07T13:24:32.879995Z",
     "start_time": "2022-12-07T13:24:31.687888Z"
    }
   },
   "outputs": [],
   "source": [
    "import torch\n",
    "from torch import nn\n",
    "\n",
    "import numpy as np\n",
    "\n",
    "from sklearn import datasets\n",
    "\n",
    "import matplotlib as mpl\n",
    "import matplotlib.pyplot as plt\n",
    "\n",
    "import reprlib\n",
    "import sys\n",
    "from termcolor import cprint"
   ]
  },
  {
   "cell_type": "markdown",
   "id": "489034ab",
   "metadata": {},
   "source": [
    "# Configuring Visualization Parameters"
   ]
  },
  {
   "cell_type": "code",
   "execution_count": 2,
   "id": "f0a37c7a",
   "metadata": {
    "ExecuteTime": {
     "end_time": "2022-12-07T13:24:32.888206Z",
     "start_time": "2022-12-07T13:24:32.881268Z"
    }
   },
   "outputs": [],
   "source": [
    "%matplotlib inline"
   ]
  },
  {
   "cell_type": "code",
   "execution_count": 3,
   "id": "851a5125",
   "metadata": {
    "ExecuteTime": {
     "end_time": "2022-12-07T13:24:32.890746Z",
     "start_time": "2022-12-07T13:24:32.889033Z"
    }
   },
   "outputs": [],
   "source": [
    "XINHUI = \"#7a7374\"\n",
    "XUEBAI = \"#fffef9\"\n",
    "YINBAI = \"#f1f0ed\"\n",
    "YINHUI = \"#918072\"\n",
    "\n",
    "figure_size = (16, 9)"
   ]
  },
  {
   "cell_type": "code",
   "execution_count": 4,
   "id": "af4127fe",
   "metadata": {
    "ExecuteTime": {
     "end_time": "2022-12-07T13:24:32.894474Z",
     "start_time": "2022-12-07T13:24:32.892259Z"
    }
   },
   "outputs": [],
   "source": [
    "custom_params = {\n",
    "    \"axes.axisbelow\": True,\n",
    "    \"axes.edgecolor\": YINBAI,\n",
    "    \"axes.facecolor\": XUEBAI,\n",
    "    \"axes.grid\": True,\n",
    "    \"axes.labelcolor\": XINHUI,\n",
    "    \"axes.spines.right\": False,\n",
    "    \"axes.spines.top\": False,\n",
    "    \"axes.titlecolor\": XINHUI,\n",
    "    \"figure.edgecolor\": YINBAI,\n",
    "    \"figure.facecolor\": XUEBAI,\n",
    "    \"grid.alpha\": .8,\n",
    "    \"grid.color\": YINBAI,\n",
    "    \"grid.linestyle\": \"--\",\n",
    "    \"grid.linewidth\": 1.2,\n",
    "    \"legend.edgecolor\": YINHUI,\n",
    "    \"patch.edgecolor\": XUEBAI,\n",
    "    \"patch.force_edgecolor\": True,\n",
    "    \"text.color\": XINHUI,\n",
    "    \"xtick.color\": YINHUI,\n",
    "    \"ytick.color\": YINHUI,\n",
    "}\n",
    "\n",
    "mpl.rcParams.update(custom_params)"
   ]
  },
  {
   "cell_type": "markdown",
   "id": "7590f2a6",
   "metadata": {},
   "source": [
    "# Configuring Other Notebook Parameters"
   ]
  },
  {
   "cell_type": "code",
   "execution_count": 5,
   "id": "41718873",
   "metadata": {
    "ExecuteTime": {
     "end_time": "2022-12-07T13:24:32.896929Z",
     "start_time": "2022-12-07T13:24:32.895300Z"
    }
   },
   "outputs": [],
   "source": [
    "reprlib_rules = reprlib.Repr()\n",
    "reprlib_rules.maxother = 250"
   ]
  },
  {
   "cell_type": "markdown",
   "id": "50c6b554",
   "metadata": {},
   "source": [
    "# Pre-installing Custom Functions"
   ]
  },
  {
   "cell_type": "code",
   "execution_count": 6,
   "id": "50f31f8e",
   "metadata": {
    "ExecuteTime": {
     "end_time": "2022-12-07T13:24:32.899602Z",
     "start_time": "2022-12-07T13:24:32.897922Z"
    }
   },
   "outputs": [],
   "source": [
    "sys.path.append(\"../\")"
   ]
  },
  {
   "cell_type": "code",
   "execution_count": 7,
   "id": "a2e2c5f4",
   "metadata": {
    "ExecuteTime": {
     "end_time": "2022-12-07T13:24:33.055947Z",
     "start_time": "2022-12-07T13:24:32.900364Z"
    }
   },
   "outputs": [],
   "source": [
    "from Modules import *"
   ]
  },
  {
   "cell_type": "markdown",
   "id": "7d56a291",
   "metadata": {},
   "source": [
    "# Practicing in Stages\n",
    "\n",
    "## Creating Dataset"
   ]
  },
  {
   "cell_type": "code",
   "execution_count": 8,
   "id": "13bfb650",
   "metadata": {
    "ExecuteTime": {
     "end_time": "2022-12-07T13:24:33.062346Z",
     "start_time": "2022-12-07T13:24:33.056930Z"
    },
    "scrolled": false
   },
   "outputs": [
    {
     "name": "stdout",
     "output_type": "stream",
     "text": [
      "\u001b[4m\u001b[37mCreation of data clusters around selected central locations\u001b[0m\n",
      "\n",
      "\u001b[1m\u001b[37m    +----------------------------------------------+\u001b[0m\n",
      "\u001b[1m\u001b[37m    | Statement                                    |\u001b[0m\n",
      "\u001b[1m\u001b[37m    +----------------------------------------------+\u001b[0m\n",
      "\u001b[1m\u001b[37m    | n_pts = 100                                  |\u001b[0m\n",
      "\u001b[1m\u001b[37m    | centers = [[-0.5, 0.5], [0.5, -0.5]]         |\u001b[0m\n",
      "\u001b[1m\u001b[37m    | X, y = datasets.make_blobs(n_samples=n_pts,  |\u001b[0m\n",
      "\u001b[1m\u001b[37m    |                            random_state=123, |\u001b[0m\n",
      "\u001b[1m\u001b[37m    |                            centers=centers,  |\u001b[0m\n",
      "\u001b[1m\u001b[37m    |                            cluster_std=0.4)  |\u001b[0m\n",
      "\u001b[1m\u001b[37m    +----------------------------------------------+\u001b[0m\n",
      "\u001b[1m\u001b[37m    +----------+--------------------------------------------------+\u001b[0m\n",
      "\u001b[1m\u001b[37m    | Variable | Value                                            |\u001b[0m\n",
      "\u001b[1m\u001b[37m    +----------+--------------------------------------------------+\u001b[0m\n",
      "\u001b[1m\u001b[37m    | X        | array([[-0.13715792, -0.07147228],               |\u001b[0m\n",
      "\u001b[1m\u001b[37m    |          |        [ 0.80437976, -0.37061246],               |\u001b[0m\n",
      "\u001b[1m\u001b[37m    |          |        [-0.60224775, -0.61943564],               |\u001b[0m\n",
      "\u001b[1m\u001b[37m    |          |        [ 0.5708769...939, -0.63299011],          |\u001b[0m\n",
      "\u001b[1m\u001b[37m    |          |        [-0.85181454,  0.61345093],               |\u001b[0m\n",
      "\u001b[1m\u001b[37m    |          |        [ 0.35807022, -0.3433663 ],               |\u001b[0m\n",
      "\u001b[1m\u001b[37m    |          |        [-1.34924014,  0.91589084]])              |\u001b[0m\n",
      "\u001b[1m\u001b[37m    | y        | array([0, 1, 0, 1, 0, 0, 1, 0, 0, 0, 0, 0, 0, 0, |\u001b[0m\n",
      "\u001b[1m\u001b[37m    |          |         0, 1, 0, 0, 1, 0, 0, 0,                  |\u001b[0m\n",
      "\u001b[1m\u001b[37m    |          |        0, 1, 1, 1, 0, 0, 1, 1, 1, 0, 1, 0, 1, 0, |\u001b[0m\n",
      "\u001b[1m\u001b[37m    |          |         1..., 0, 0,                              |\u001b[0m\n",
      "\u001b[1m\u001b[37m    |          |        1, 0, 1, 0, 1, 0, 1, 1, 0, 1, 0, 1, 1, 0, |\u001b[0m\n",
      "\u001b[1m\u001b[37m    |          |         1, 0, 0, 1, 1, 1, 1, 0,                  |\u001b[0m\n",
      "\u001b[1m\u001b[37m    |          |        0, 1, 1, 1, 1, 1, 1, 0, 1, 0, 1, 0])      |\u001b[0m\n",
      "\u001b[1m\u001b[37m    +----------+--------------------------------------------------+\u001b[0m\n"
     ]
    }
   ],
   "source": [
    "n_pts = 100\n",
    "centers = [[-0.5, 0.5], [0.5, -0.5]]\n",
    "X, y = datasets.make_blobs(n_samples=n_pts,\n",
    "                           random_state=123,\n",
    "                           centers=centers,\n",
    "                           cluster_std=0.4)\n",
    "\n",
    "tabulation = Form_Generator()\n",
    "tabulation.heading_printer(\n",
    "    \"Creation of data clusters around selected central locations\")\n",
    "\n",
    "statements = [\n",
    "    \"\"\"\n",
    "n_pts = 100\n",
    "centers = [[-0.5, 0.5], [0.5, -0.5]]\n",
    "X, y = datasets.make_blobs(n_samples=n_pts,\n",
    "                           random_state=123,\n",
    "                           centers=centers,\n",
    "                           cluster_std=0.4)\n",
    "\"\"\"\n",
    "]\n",
    "tabulation.statement_generator(statements)\n",
    "\n",
    "variables = [\"X\", \"y\"]\n",
    "values = [str(reprlib_rules.repr(X)), str(reprlib_rules.repr(y))]\n",
    "tabulation.variable_generator(variables, values)"
   ]
  },
  {
   "cell_type": "code",
   "execution_count": 9,
   "id": "76405468",
   "metadata": {
    "ExecuteTime": {
     "end_time": "2022-12-07T13:24:33.300983Z",
     "start_time": "2022-12-07T13:24:33.063237Z"
    },
    "scrolled": false
   },
   "outputs": [
    {
     "data": {
      "image/png": "[encoded data removed]",
      "text/plain": [
       "<Figure size 1600x600 with 3 Axes>"
      ]
     },
     "metadata": {},
     "output_type": "display_data"
    }
   ],
   "source": [
    "colors = calm_color_generator(4)\n",
    "plt.rcParams[\"figure.figsize\"] = (figure_size[0], figure_size[1] / 3 * 2)\n",
    "\n",
    "fig, axs = plt.subplots(nrows=2, ncols=3)\n",
    "gs = axs[0, 1].get_gridspec()\n",
    "for ax in axs[0, 1:]:\n",
    "    ax.remove()\n",
    "for ax in axs[1, 1:]:\n",
    "    ax.remove()\n",
    "axbig = fig.add_subplot(gs[:, 1:])\n",
    "\n",
    "axs[0, 0].scatter(X[y == 0, 0], X[y == 0, 1], color=colors.pop(0))\n",
    "axs[0, 0].set_title(\"Data cluster labeled \\\"0\\\"\", loc=\"center\", pad=15)\n",
    "\n",
    "axs[1, 0].scatter(X[y == 1, 0], X[y == 1, 1], color=colors.pop(0))\n",
    "axs[1, 0].set_title(\"Data cluster labeled \\\"1\\\"\", loc=\"center\", pad=15)\n",
    "\n",
    "for ax in axs.flat:\n",
    "    ax.set(xlabel=\"x\", ylabel=\"y\")\n",
    "\n",
    "axbig.scatter(X[y == 0, 0], X[y == 0, 1], color=colors.pop(0))\n",
    "axbig.scatter(X[y == 1, 0], X[y == 1, 1], color=colors.pop(0))\n",
    "axbig.set_title(\"Data clusters labeled \\\"0\\\" and \\\"1\\\"\", loc=\"center\", pad=15)\n",
    "\n",
    "axbig.set(xlabel=\"x\", ylabel=\"y\")\n",
    "\n",
    "fig.suptitle(\n",
    "    \"Visual Comparison of Data Clusters at Different Central Locations\",\n",
    "    fontsize=\"x-large\",\n",
    "    x=0.5,\n",
    "    y=0)\n",
    "\n",
    "plt.tight_layout()\n",
    "plt.show()"
   ]
  },
  {
   "cell_type": "code",
   "execution_count": 10,
   "id": "78d86b99",
   "metadata": {
    "ExecuteTime": {
     "end_time": "2022-12-07T13:24:33.308233Z",
     "start_time": "2022-12-07T13:24:33.303276Z"
    }
   },
   "outputs": [
    {
     "name": "stdout",
     "output_type": "stream",
     "text": [
      "\u001b[4m\u001b[32mDataset conversion in tensor form\u001b[0m\n",
      "\n",
      "\u001b[1m\u001b[32m    +--------------------------+\u001b[0m\n",
      "\u001b[1m\u001b[32m    | Statement                |\u001b[0m\n",
      "\u001b[1m\u001b[32m    +--------------------------+\u001b[0m\n",
      "\u001b[1m\u001b[32m    | X_data = torch.Tensor(X) |\u001b[0m\n",
      "\u001b[1m\u001b[32m    | y_data = torch.Tensor(y) |\u001b[0m\n",
      "\u001b[1m\u001b[32m    +--------------------------+\u001b[0m\n",
      "\u001b[1m\u001b[32m    +----------+--------------------------------------------------+\u001b[0m\n",
      "\u001b[1m\u001b[32m    | Variable | Value                                            |\u001b[0m\n",
      "\u001b[1m\u001b[32m    +----------+--------------------------------------------------+\u001b[0m\n",
      "\u001b[1m\u001b[32m    | X_data   | tensor([[-0.1372, -0.0715],                      |\u001b[0m\n",
      "\u001b[1m\u001b[32m    |          |         [ 0.8044, -0.3706],                      |\u001b[0m\n",
      "\u001b[1m\u001b[32m    |          |         [-0.6022, -0.6194],                      |\u001b[0m\n",
      "\u001b[1m\u001b[32m    |          |         [ 0.5709, -0.5120],                      |\u001b[0m\n",
      "\u001b[1m\u001b[32m    |          |         [ 0...,  0.2444],                        |\u001b[0m\n",
      "\u001b[1m\u001b[32m    |          |         [-0.0484, -0.6330],                      |\u001b[0m\n",
      "\u001b[1m\u001b[32m    |          |         [-0.8518,  0.6135],                      |\u001b[0m\n",
      "\u001b[1m\u001b[32m    |          |         [ 0.3581, -0.3434],                      |\u001b[0m\n",
      "\u001b[1m\u001b[32m    |          |         [-1.3492,  0.9159]])                     |\u001b[0m\n",
      "\u001b[1m\u001b[32m    | y_data   | tensor([0., 1., 0., 1., 0., 0., 1., 0., 0., 0.,  |\u001b[0m\n",
      "\u001b[1m\u001b[32m    |          |         0., 0., 0., 0., 0., 1., 0., 0.,          |\u001b[0m\n",
      "\u001b[1m\u001b[32m    |          |         1., 0., 0., 0., 0., 1., 1., 1., 0.,...   |\u001b[0m\n",
      "\u001b[1m\u001b[32m    |          |          1., 1., 0., 1., 0., 1., 1., 0., 1., 0., |\u001b[0m\n",
      "\u001b[1m\u001b[32m    |          |         0., 1., 1., 1., 1., 0., 0., 1.,          |\u001b[0m\n",
      "\u001b[1m\u001b[32m    |          |         1., 1., 1., 1., 1., 0., 1., 0., 1., 0.]) |\u001b[0m\n",
      "\u001b[1m\u001b[32m    +----------+--------------------------------------------------+\u001b[0m\n"
     ]
    }
   ],
   "source": [
    "X_data = torch.Tensor(X)\n",
    "y_data = torch.Tensor(y)\n",
    "\n",
    "tabulation = Form_Generator()\n",
    "tabulation.heading_printer(\"Dataset conversion in tensor form\")\n",
    "\n",
    "statements = [\"\"\"\n",
    "X_data = torch.Tensor(X)\n",
    "y_data = torch.Tensor(y)\n",
    "\"\"\"]\n",
    "tabulation.statement_generator(statements)\n",
    "\n",
    "variables = [\"X_data\", \"y_data\"]\n",
    "values = [str(reprlib_rules.repr(X_data)), str(reprlib_rules.repr(y_data))]\n",
    "tabulation.variable_generator(variables, values)"
   ]
  },
  {
   "cell_type": "markdown",
   "id": "37aa7c56",
   "metadata": {},
   "source": [
    "## Model Setup"
   ]
  },
  {
   "cell_type": "code",
   "execution_count": 11,
   "id": "093a43e8",
   "metadata": {
    "ExecuteTime": {
     "end_time": "2022-12-07T13:24:33.314601Z",
     "start_time": "2022-12-07T13:24:33.309157Z"
    },
    "scrolled": false
   },
   "outputs": [
    {
     "name": "stdout",
     "output_type": "stream",
     "text": [
      "\u001b[4m\u001b[30mInitialization of inherited linear class\u001b[0m\n",
      "\n",
      "\u001b[1m\u001b[30m    +----------------------------------------------------------+\u001b[0m\n",
      "\u001b[1m\u001b[30m    | Definition                                               |\u001b[0m\n",
      "\u001b[1m\u001b[30m    +----------------------------------------------------------+\u001b[0m\n",
      "\u001b[1m\u001b[30m    | class Model(nn.Module):                                  |\u001b[0m\n",
      "\u001b[1m\u001b[30m    |                                                          |\u001b[0m\n",
      "\u001b[1m\u001b[30m    |     def __init__(self, input_size, output_size):         |\u001b[0m\n",
      "\u001b[1m\u001b[30m    |         super().__init__()                               |\u001b[0m\n",
      "\u001b[1m\u001b[30m    |         self.linear = nn.Linear(input_size, output_size) |\u001b[0m\n",
      "\u001b[1m\u001b[30m    |                                                          |\u001b[0m\n",
      "\u001b[1m\u001b[30m    |     def forward(self, x):                                |\u001b[0m\n",
      "\u001b[1m\u001b[30m    |         pred = torch.sigmoid(self.linear(x))             |\u001b[0m\n",
      "\u001b[1m\u001b[30m    |         return pred                                      |\u001b[0m\n",
      "\u001b[1m\u001b[30m    +----------------------------------------------------------+\u001b[0m\n",
      "\u001b[1m\u001b[30m    +----------------------+\u001b[0m\n",
      "\u001b[1m\u001b[30m    | Statement            |\u001b[0m\n",
      "\u001b[1m\u001b[30m    +----------------------+\u001b[0m\n",
      "\u001b[1m\u001b[30m    | torch.manual_seed(2) |\u001b[0m\n",
      "\u001b[1m\u001b[30m    | model = Model(2, 1)  |\u001b[0m\n",
      "\u001b[1m\u001b[30m    +----------------------+\u001b[0m\n",
      "\u001b[1m\u001b[30m    +----------+------------------------------------+\u001b[0m\n",
      "\u001b[1m\u001b[30m    | Variable | Value                              |\u001b[0m\n",
      "\u001b[1m\u001b[30m    +----------+------------------------------------+\u001b[0m\n",
      "\u001b[1m\u001b[30m    | model    | Model(                             |\u001b[0m\n",
      "\u001b[1m\u001b[30m    |          |   (linear): Linear(in_features=2,  |\u001b[0m\n",
      "\u001b[1m\u001b[30m    |          |         out_features=1, bias=True) |\u001b[0m\n",
      "\u001b[1m\u001b[30m    |          | )                                  |\u001b[0m\n",
      "\u001b[1m\u001b[30m    +----------+------------------------------------+\u001b[0m\n",
      "\u001b[1m\u001b[30m    +--------------------------+-------------------------------+\u001b[0m\n",
      "\u001b[1m\u001b[30m    | Expression               | Result                        |\u001b[0m\n",
      "\u001b[1m\u001b[30m    +--------------------------+-------------------------------+\u001b[0m\n",
      "\u001b[1m\u001b[30m    | model.parameters()       | ⟨generator object             |\u001b[0m\n",
      "\u001b[1m\u001b[30m    |                          |         Module.parameters at  |\u001b[0m\n",
      "\u001b[1m\u001b[30m    |                          |         0x29edd1e40⟩          |\u001b[0m\n",
      "\u001b[1m\u001b[30m    | list(model.parameters()) | [Parameter containing:        |\u001b[0m\n",
      "\u001b[1m\u001b[30m    |                          | tensor([[ 0.1622, -0.1683]],  |\u001b[0m\n",
      "\u001b[1m\u001b[30m    |                          |         requires_grad=True),  |\u001b[0m\n",
      "\u001b[1m\u001b[30m    |                          |         Parameter containing: |\u001b[0m\n",
      "\u001b[1m\u001b[30m    |                          | tensor([0.1939],              |\u001b[0m\n",
      "\u001b[1m\u001b[30m    |                          |         requires_grad=True)]  |\u001b[0m\n",
      "\u001b[1m\u001b[30m    +--------------------------+-------------------------------+\u001b[0m\n"
     ]
    }
   ],
   "source": [
    "class Model(nn.Module):\n",
    "\n",
    "    def __init__(self, input_size, output_size):\n",
    "        super().__init__()\n",
    "        self.linear = nn.Linear(input_size, output_size)\n",
    "\n",
    "    def forward(self, x):\n",
    "        pred = torch.sigmoid(self.linear(x))\n",
    "        return pred\n",
    "\n",
    "\n",
    "torch.manual_seed(2)\n",
    "model = Model(2, 1)\n",
    "\n",
    "tabulation = Form_Generator()\n",
    "tabulation.heading_printer(\"Initialization of inherited linear class\")\n",
    "\n",
    "definitions = [\n",
    "    \"\"\"\n",
    "class Model(nn.Module):\n",
    "\n",
    "    def __init__(self, input_size, output_size):\n",
    "        super().__init__()\n",
    "        self.linear = nn.Linear(input_size, output_size)\n",
    "\n",
    "    def forward(self, x):\n",
    "        pred = torch.sigmoid(self.linear(x))\n",
    "        return pred\n",
    "\"\"\"\n",
    "]\n",
    "tabulation.definition_generator(definitions)\n",
    "\n",
    "statements = [\"\"\"\n",
    "torch.manual_seed(2)\n",
    "model = Model(2, 1)\n",
    "\"\"\"]\n",
    "tabulation.statement_generator(statements)\n",
    "\n",
    "variables = [\"model\"]\n",
    "values = [str(model)]\n",
    "tabulation.variable_generator(variables, values)\n",
    "\n",
    "expressions = [\"model.parameters()\", \"list(model.parameters())\"]\n",
    "results = [str(model.parameters()), str(list(model.parameters()))]\n",
    "tabulation.expression_generator(expressions, results)"
   ]
  },
  {
   "cell_type": "code",
   "execution_count": 12,
   "id": "551fcd23",
   "metadata": {
    "ExecuteTime": {
     "end_time": "2022-12-07T13:24:33.320073Z",
     "start_time": "2022-12-07T13:24:33.315491Z"
    }
   },
   "outputs": [
    {
     "name": "stdout",
     "output_type": "stream",
     "text": [
      "\u001b[4m\u001b[31mValue extraction by unpacking model parameters\u001b[0m\n",
      "\n",
      "\u001b[1m\u001b[31m    +-----------------------------+\u001b[0m\n",
      "\u001b[1m\u001b[31m    | Statement                   |\u001b[0m\n",
      "\u001b[1m\u001b[31m    +-----------------------------+\u001b[0m\n",
      "\u001b[1m\u001b[31m    | [w, b] = model.parameters() |\u001b[0m\n",
      "\u001b[1m\u001b[31m    | w1, w2 = w.view(2)          |\u001b[0m\n",
      "\u001b[1m\u001b[31m    | b1 = b[0]                   |\u001b[0m\n",
      "\u001b[1m\u001b[31m    +-----------------------------+\u001b[0m\n",
      "\u001b[1m\u001b[31m    +----------+--------------------------------------------------+\u001b[0m\n",
      "\u001b[1m\u001b[31m    | Variable | Value                                            |\u001b[0m\n",
      "\u001b[1m\u001b[31m    +----------+--------------------------------------------------+\u001b[0m\n",
      "\u001b[1m\u001b[31m    | w        | Parameter containing:                            |\u001b[0m\n",
      "\u001b[1m\u001b[31m    |          | tensor([[ 0.1622, -0.1683]], requires_grad=True) |\u001b[0m\n",
      "\u001b[1m\u001b[31m    | b        | Parameter containing:                            |\u001b[0m\n",
      "\u001b[1m\u001b[31m    |          | tensor([0.1939], requires_grad=True)             |\u001b[0m\n",
      "\u001b[1m\u001b[31m    | w1       | tensor(0.1622, grad_fn=⟨UnbindBackward0⟩)        |\u001b[0m\n",
      "\u001b[1m\u001b[31m    | w2       | tensor(-0.1683, grad_fn=⟨UnbindBackward0⟩)       |\u001b[0m\n",
      "\u001b[1m\u001b[31m    | b1       | tensor(0.1939, grad_fn=⟨SelectBackward0⟩)        |\u001b[0m\n",
      "\u001b[1m\u001b[31m    +----------+--------------------------------------------------+\u001b[0m\n",
      "\u001b[1m\u001b[31m    +------------+---------------------+\u001b[0m\n",
      "\u001b[1m\u001b[31m    | Expression | Result              |\u001b[0m\n",
      "\u001b[1m\u001b[31m    +------------+---------------------+\u001b[0m\n",
      "\u001b[1m\u001b[31m    | w1.item()  | 0.16220331192016602 |\u001b[0m\n",
      "\u001b[1m\u001b[31m    | w2.item()  | -0.1682732105255127 |\u001b[0m\n",
      "\u001b[1m\u001b[31m    | b1.item()  | 0.19390898942947388 |\u001b[0m\n",
      "\u001b[1m\u001b[31m    +------------+---------------------+\u001b[0m\n"
     ]
    }
   ],
   "source": [
    "[w, b] = model.parameters()\n",
    "w1, w2 = w.view(2)\n",
    "b1 = b[0]\n",
    "\n",
    "tabulation = Form_Generator()\n",
    "tabulation.heading_printer(\"Value extraction by unpacking model parameters\")\n",
    "\n",
    "statements = [\"\"\"\n",
    "[w, b] = model.parameters()\n",
    "w1, w2 = w.view(2)\n",
    "b1 = b[0]\n",
    "\"\"\"]\n",
    "tabulation.statement_generator(statements)\n",
    "\n",
    "variables = [\"w\", \"b\", \"w1\", \"w2\", \"b1\"]\n",
    "values = [str(w), str(b), str(w1), str(w2), str(b1)]\n",
    "tabulation.variable_generator(variables, values)\n",
    "\n",
    "expressions = [\"w1.item()\", \"w2.item()\", \"b1.item()\"]\n",
    "results = [str(w1.item()), str(w2.item()), str(b1.item())]\n",
    "tabulation.expression_generator(expressions, results)"
   ]
  },
  {
   "cell_type": "code",
   "execution_count": 13,
   "id": "4b34284b",
   "metadata": {
    "ExecuteTime": {
     "end_time": "2022-12-07T13:24:33.324828Z",
     "start_time": "2022-12-07T13:24:33.320916Z"
    }
   },
   "outputs": [
    {
     "name": "stdout",
     "output_type": "stream",
     "text": [
      "\u001b[4m\u001b[33mDefinition of visualization function\u001b[0m\n",
      "\n",
      "\u001b[1m\u001b[33m    +------------------------------------------------+\u001b[0m\n",
      "\u001b[1m\u001b[33m    | Definition                                     |\u001b[0m\n",
      "\u001b[1m\u001b[33m    +------------------------------------------------+\u001b[0m\n",
      "\u001b[1m\u001b[33m    | def get_params():                              |\u001b[0m\n",
      "\u001b[1m\u001b[33m    |     return (w1.item(), w2.item(), b[0].item()) |\u001b[0m\n",
      "\u001b[1m\u001b[33m    |                                                |\u001b[0m\n",
      "\u001b[1m\u001b[33m    |                                                |\u001b[0m\n",
      "\u001b[1m\u001b[33m    | def scatter_plot():                            |\u001b[0m\n",
      "\u001b[1m\u001b[33m    |     global colors                              |\u001b[0m\n",
      "\u001b[1m\u001b[33m    |     plt.scatter(X[y == 0, 0], X[y == 0, 1],    |\u001b[0m\n",
      "\u001b[1m\u001b[33m    |     color=colors.pop(0))                       |\u001b[0m\n",
      "\u001b[1m\u001b[33m    |     plt.scatter(X[y == 1, 0], X[y == 1, 1],    |\u001b[0m\n",
      "\u001b[1m\u001b[33m    |     color=colors.pop(0))                       |\u001b[0m\n",
      "\u001b[1m\u001b[33m    |                                                |\u001b[0m\n",
      "\u001b[1m\u001b[33m    |                                                |\u001b[0m\n",
      "\u001b[1m\u001b[33m    | def plot_fit(title):                           |\u001b[0m\n",
      "\u001b[1m\u001b[33m    |     global colors                              |\u001b[0m\n",
      "\u001b[1m\u001b[33m    |     plt.title(label=title)                     |\u001b[0m\n",
      "\u001b[1m\u001b[33m    |     w1, w2, b1 = get_params()                  |\u001b[0m\n",
      "\u001b[1m\u001b[33m    |     x1 = np.array([-2.0, 2.0])                 |\u001b[0m\n",
      "\u001b[1m\u001b[33m    |     x2 = (w1 * x1 + b1) / -w2                  |\u001b[0m\n",
      "\u001b[1m\u001b[33m    |     plt.plot(x1, x2, c=colors.pop(0))          |\u001b[0m\n",
      "\u001b[1m\u001b[33m    |     scatter_plot()                             |\u001b[0m\n",
      "\u001b[1m\u001b[33m    +------------------------------------------------+\u001b[0m\n"
     ]
    }
   ],
   "source": [
    "def get_params():\n",
    "    return (w1.item(), w2.item(), b[0].item())\n",
    "\n",
    "\n",
    "def scatter_plot():\n",
    "    global colors\n",
    "    plt.scatter(X[y == 0, 0], X[y == 0, 1], color=colors.pop(0))\n",
    "    plt.scatter(X[y == 1, 0], X[y == 1, 1], color=colors.pop(0))\n",
    "\n",
    "\n",
    "def plot_fit(title):\n",
    "    global colors\n",
    "    plt.title(label=title)\n",
    "    w1, w2, b1 = get_params()\n",
    "    x1 = np.array([-2.0, 2.0])\n",
    "    x2 = (w1 * x1 + b1) / -w2\n",
    "    plt.plot(x1, x2, c=colors.pop(0))\n",
    "    scatter_plot()\n",
    "\n",
    "\n",
    "tabulation = Form_Generator()\n",
    "tabulation.heading_printer(\"Definition of visualization function\")\n",
    "\n",
    "definitions = [\n",
    "    \"\"\"\n",
    "def get_params():\n",
    "    return (w1.item(), w2.item(), b[0].item())\n",
    "\n",
    "\n",
    "def scatter_plot():\n",
    "    global colors\n",
    "    plt.scatter(X[y == 0, 0], X[y == 0, 1], color=colors.pop(0))\n",
    "    plt.scatter(X[y == 1, 0], X[y == 1, 1], color=colors.pop(0))\n",
    "\n",
    "\n",
    "def plot_fit(title):\n",
    "    global colors\n",
    "    plt.title(label=title)\n",
    "    w1, w2, b1 = get_params()\n",
    "    x1 = np.array([-2.0, 2.0])\n",
    "    x2 = (w1 * x1 + b1) / -w2\n",
    "    plt.plot(x1, x2, c=colors.pop(0))\n",
    "    scatter_plot()\n",
    "\"\"\"\n",
    "]\n",
    "tabulation.definition_generator(definitions)"
   ]
  },
  {
   "cell_type": "code",
   "execution_count": 14,
   "id": "ccfb3122",
   "metadata": {
    "ExecuteTime": {
     "end_time": "2022-12-07T13:24:33.549366Z",
     "start_time": "2022-12-07T13:24:33.326014Z"
    }
   },
   "outputs": [
    {
     "data": {
      "image/png": "[encoded data removed]",
      "text/plain": [
       "<Figure size 1600x450 with 2 Axes>"
      ]
     },
     "metadata": {},
     "output_type": "display_data"
    }
   ],
   "source": [
    "def perpendicular_line(centers):\n",
    "    x1, y1 = centers[0]\n",
    "    x2, y2 = centers[1]\n",
    "    x_mid = (x1 + x2) / 2\n",
    "    y_mid = (y1 + y2) / 2\n",
    "    w0 = (y1 - y2) / (x1 - x2)\n",
    "    try:\n",
    "        w = -1 / w0\n",
    "    except ZeroDivisionError as error:\n",
    "        cprint(f\"Unexpected error: derived from {type(error)}, {error}.\",\n",
    "               \"red\",\n",
    "               attrs=[\"bold\", \"reverse\"])\n",
    "        cprint(f\"Attention: the slope of a vertical line is undefined.\",\n",
    "               \"red\",\n",
    "               attrs=[\"bold\", \"underline\"])\n",
    "        w0 = 0.0001\n",
    "    w = -1 / w0\n",
    "    b = y_mid - w * x_mid\n",
    "    return w, b\n",
    "\n",
    "\n",
    "colors = calm_color_generator(6)\n",
    "plt.rcParams[\"figure.figsize\"] = (figure_size[0], figure_size[1] / 2)\n",
    "\n",
    "fig, axs = plt.subplots(1, 2, sharey=True)\n",
    "\n",
    "plt.subplot(1, 2, 1)\n",
    "plot_fit(\"Initial model\")\n",
    "plt.title(axs[0].get_title(), loc=\"center\", pad=15)\n",
    "\n",
    "plt.subplot(1, 2, 2)\n",
    "x1 = np.array([-2.0, 2.0])\n",
    "w, b = perpendicular_line(centers)\n",
    "x2 = w * x1 + b\n",
    "plt.plot(x1, x2, c=colors.pop(0))\n",
    "scatter_plot()\n",
    "plt.title(label=\"Expected model\")\n",
    "\n",
    "for ax in axs.flat:\n",
    "    ax.set(xlabel=\"x\", ylabel=\"y\")\n",
    "    ax.set_ylim([-2.0, 2.0])\n",
    "    ax.label_outer()\n",
    "\n",
    "fig.suptitle(\"Visual Comparison of Initial and Expected Models\",\n",
    "             fontsize=\"x-large\",\n",
    "             x=0.5,\n",
    "             y=0)\n",
    "\n",
    "plt.tight_layout()\n",
    "plt.show()"
   ]
  },
  {
   "cell_type": "code",
   "execution_count": null,
   "id": "e54a2797",
   "metadata": {
    "ExecuteTime": {
     "end_time": "2022-12-07T13:23:13.624097Z",
     "start_time": "2022-12-07T13:23:13.622245Z"
    }
   },
   "outputs": [],
   "source": []
  },
  {
   "cell_type": "code",
   "execution_count": null,
   "id": "4cf1c02b",
   "metadata": {
    "ExecuteTime": {
     "end_time": "2022-12-07T13:23:13.627045Z",
     "start_time": "2022-12-07T13:23:13.625169Z"
    }
   },
   "outputs": [],
   "source": []
  },
  {
   "cell_type": "code",
   "execution_count": null,
   "id": "ff224056",
   "metadata": {
    "ExecuteTime": {
     "end_time": "2022-12-07T13:23:13.708077Z",
     "start_time": "2022-12-07T13:23:13.628185Z"
    }
   },
   "outputs": [],
   "source": []
  },
  {
   "cell_type": "code",
   "execution_count": null,
   "id": "04d3b635",
   "metadata": {
    "ExecuteTime": {
     "end_time": "2022-12-06T22:42:04.394398Z",
     "start_time": "2022-12-06T22:42:04.392706Z"
    }
   },
   "outputs": [],
   "source": []
  },
  {
   "cell_type": "code",
   "execution_count": null,
   "id": "9df216af",
   "metadata": {
    "ExecuteTime": {
     "end_time": "2022-12-06T22:42:04.397283Z",
     "start_time": "2022-12-06T22:42:04.395501Z"
    }
   },
   "outputs": [],
   "source": []
  },
  {
   "cell_type": "code",
   "execution_count": null,
   "id": "f9a7ebf6",
   "metadata": {
    "ExecuteTime": {
     "end_time": "2022-12-06T22:42:04.533218Z",
     "start_time": "2022-12-06T22:42:04.398298Z"
    }
   },
   "outputs": [],
   "source": []
  },
  {
   "cell_type": "code",
   "execution_count": null,
   "id": "85d26300",
   "metadata": {
    "ExecuteTime": {
     "end_time": "2022-12-06T22:42:04.559115Z",
     "start_time": "2022-12-06T22:42:04.559108Z"
    }
   },
   "outputs": [],
   "source": []
  },
  {
   "cell_type": "code",
   "execution_count": null,
   "id": "b8c10e86",
   "metadata": {
    "ExecuteTime": {
     "end_time": "2022-12-06T22:42:04.559757Z",
     "start_time": "2022-12-06T22:42:04.559752Z"
    }
   },
   "outputs": [],
   "source": []
  },
  {
   "cell_type": "markdown",
   "id": "99005cfe",
   "metadata": {},
   "source": [
    "# Model Training"
   ]
  },
  {
   "cell_type": "code",
   "execution_count": 15,
   "id": "3c313efc",
   "metadata": {
    "ExecuteTime": {
     "end_time": "2022-12-07T13:24:33.553627Z",
     "start_time": "2022-12-07T13:24:33.550677Z"
    }
   },
   "outputs": [
    {
     "name": "stdout",
     "output_type": "stream",
     "text": [
      "tensor([[-0.1372, -0.0715],\n",
      "        [-0.6259,  0.0656],\n",
      "        [-0.0984,  0.6545],\n",
      "        [ 0.5718, -1.2448],\n",
      "        [ 0.1644,  0.8229],\n",
      "        [ 0.6612,  0.0888],\n",
      "        [-0.9338, -0.0454],\n",
      "        [ 0.3923, -0.5443],\n",
      "        [ 0.7663, -0.8594],\n",
      "        [ 0.1706, -0.4479]])\n",
      "tensor([[0.],\n",
      "        [0.],\n",
      "        [0.],\n",
      "        [1.],\n",
      "        [0.],\n",
      "        [1.],\n",
      "        [0.],\n",
      "        [1.],\n",
      "        [1.],\n",
      "        [1.]])\n"
     ]
    }
   ],
   "source": [
    "X_data = torch.Tensor(X)\n",
    "y_data = torch.Tensor(y).reshape(-1, 1)\n",
    "print(X_data[::10])\n",
    "print(y_data[::10])"
   ]
  },
  {
   "cell_type": "code",
   "execution_count": 16,
   "id": "588cf8d2",
   "metadata": {
    "ExecuteTime": {
     "end_time": "2022-12-07T13:24:33.556258Z",
     "start_time": "2022-12-07T13:24:33.554492Z"
    }
   },
   "outputs": [],
   "source": [
    "criterion = nn.BCELoss()\n",
    "optimizer = torch.optim.SGD(model.parameters(), lr=0.01)"
   ]
  },
  {
   "cell_type": "code",
   "execution_count": 17,
   "id": "a97131c4",
   "metadata": {
    "ExecuteTime": {
     "end_time": "2022-12-07T13:24:33.642064Z",
     "start_time": "2022-12-07T13:24:33.557358Z"
    }
   },
   "outputs": [
    {
     "ename": "NameError",
     "evalue": "name 'random' is not defined",
     "output_type": "error",
     "traceback": [
      "\u001b[0;31m---------------------------------------------------------------------------\u001b[0m",
      "\u001b[0;31mNameError\u001b[0m                                 Traceback (most recent call last)",
      "Cell \u001b[0;32mIn [17], line 6\u001b[0m\n\u001b[1;32m      2\u001b[0m losses \u001b[38;5;241m=\u001b[39m []\n\u001b[1;32m      3\u001b[0m termcolors \u001b[38;5;241m=\u001b[39m [\n\u001b[1;32m      4\u001b[0m     \u001b[38;5;124m\"\u001b[39m\u001b[38;5;124mgrey\u001b[39m\u001b[38;5;124m\"\u001b[39m, \u001b[38;5;124m\"\u001b[39m\u001b[38;5;124mred\u001b[39m\u001b[38;5;124m\"\u001b[39m, \u001b[38;5;124m\"\u001b[39m\u001b[38;5;124mgreen\u001b[39m\u001b[38;5;124m\"\u001b[39m, \u001b[38;5;124m\"\u001b[39m\u001b[38;5;124myellow\u001b[39m\u001b[38;5;124m\"\u001b[39m, \u001b[38;5;124m\"\u001b[39m\u001b[38;5;124mblue\u001b[39m\u001b[38;5;124m\"\u001b[39m, \u001b[38;5;124m\"\u001b[39m\u001b[38;5;124mmagenta\u001b[39m\u001b[38;5;124m\"\u001b[39m, \u001b[38;5;124m\"\u001b[39m\u001b[38;5;124mcyan\u001b[39m\u001b[38;5;124m\"\u001b[39m, \u001b[38;5;124m\"\u001b[39m\u001b[38;5;124mwhite\u001b[39m\u001b[38;5;124m\"\u001b[39m\n\u001b[1;32m      5\u001b[0m ]\n\u001b[0;32m----> 6\u001b[0m font_colors \u001b[38;5;241m=\u001b[39m \u001b[43mrandom\u001b[49m\u001b[38;5;241m.\u001b[39mchoices(termcolors, k\u001b[38;5;241m=\u001b[39m\u001b[38;5;241m2\u001b[39m)\n\u001b[1;32m      7\u001b[0m \u001b[38;5;28;01mfor\u001b[39;00m i \u001b[38;5;129;01min\u001b[39;00m \u001b[38;5;28mrange\u001b[39m(epochs):\n\u001b[1;32m      8\u001b[0m     i \u001b[38;5;241m+\u001b[39m\u001b[38;5;241m=\u001b[39m \u001b[38;5;241m1\u001b[39m\n",
      "\u001b[0;31mNameError\u001b[0m: name 'random' is not defined"
     ]
    }
   ],
   "source": [
    "epochs = 1000\n",
    "losses = []\n",
    "termcolors = [\n",
    "    \"grey\", \"red\", \"green\", \"yellow\", \"blue\", \"magenta\", \"cyan\", \"white\"\n",
    "]\n",
    "font_colors = random.choices(termcolors, k=2)\n",
    "for i in range(epochs):\n",
    "    i += 1\n",
    "    y_pred = model.forward(X_data)\n",
    "    loss = criterion(y_pred, y_data)\n",
    "    if i == 1 or i % 100 == 0:\n",
    "        print(colored(\"epoch:\", font_colors[0], attrs=[\"bold\"]), i,\n",
    "              colored(\"loss:\", font_colors[1]), loss.item())\n",
    "        print(colored(\"weight:\", font_colors[1]),\n",
    "              list(model.parameters())[0][0][0].item(),\n",
    "              colored(\"bias:\", font_colors[1]),\n",
    "              list(model.parameters())[1][0].item())\n",
    "    losses.append(loss.item())\n",
    "    optimizer.zero_grad()\n",
    "    loss.backward()\n",
    "    optimizer.step()"
   ]
  },
  {
   "cell_type": "code",
   "execution_count": null,
   "id": "12139759",
   "metadata": {
    "ExecuteTime": {
     "end_time": "2022-12-07T13:24:33.734157Z",
     "start_time": "2022-12-07T13:24:33.734150Z"
    }
   },
   "outputs": [],
   "source": [
    "colors = bright_colors(1)\n",
    "plt.plot(range(epochs), losses, c=colors[0])\n",
    "plt.ylabel(\"Loss\")\n",
    "plt.xlabel(\"Epoch\")"
   ]
  },
  {
   "cell_type": "code",
   "execution_count": null,
   "id": "e5a0948d",
   "metadata": {
    "ExecuteTime": {
     "end_time": "2022-12-07T13:24:33.734880Z",
     "start_time": "2022-12-07T13:24:33.734874Z"
    }
   },
   "outputs": [],
   "source": [
    "plot_fit(\"Trained Model\")"
   ]
  },
  {
   "cell_type": "markdown",
   "id": "7d2cb0fc",
   "metadata": {},
   "source": [
    "# Model Testing"
   ]
  },
  {
   "cell_type": "code",
   "execution_count": null,
   "id": "7105db58",
   "metadata": {
    "ExecuteTime": {
     "end_time": "2022-12-07T13:24:33.735658Z",
     "start_time": "2022-12-07T13:24:33.735651Z"
    }
   },
   "outputs": [],
   "source": [
    "point1 = torch.Tensor([1.0, -1.0])\n",
    "point2 = torch.Tensor([-1.0, 1.0])\n",
    "plt.plot(point1.numpy()[0], point1.numpy()[1], \"ro\")\n",
    "plt.plot(point2.numpy()[0], point2.numpy()[1], \"ko\")\n",
    "print(\"Red point positive probability = {}\".format(\n",
    "    model.forward(point1).item()))\n",
    "print(\"Black point positive probability = {}\".format(\n",
    "    model.forward(point2).item()))\n",
    "plot_fit(\"Trained Model\")"
   ]
  },
  {
   "cell_type": "code",
   "execution_count": null,
   "id": "6314a0c7",
   "metadata": {
    "ExecuteTime": {
     "end_time": "2022-12-07T13:24:33.736458Z",
     "start_time": "2022-12-07T13:24:33.736451Z"
    }
   },
   "outputs": [],
   "source": [
    "class Model(nn.Module):\n",
    "\n",
    "    def __init__(self, input_size, output_size):\n",
    "        super().__init__()\n",
    "        self.linear = nn.Linear(input_size, output_size)\n",
    "\n",
    "    def forward(self, x):\n",
    "        pred = torch.sigmoid(self.linear(x))\n",
    "        return pred\n",
    "\n",
    "    def predict(self, x):\n",
    "        pred = self.forward(x)\n",
    "        if pred >= 0.5:\n",
    "            return 1\n",
    "        else:\n",
    "            return 0"
   ]
  },
  {
   "cell_type": "code",
   "execution_count": null,
   "id": "01ea8850",
   "metadata": {
    "ExecuteTime": {
     "end_time": "2022-12-07T13:24:33.736989Z",
     "start_time": "2022-12-07T13:24:33.736982Z"
    }
   },
   "outputs": [],
   "source": [
    "torch.manual_seed(2)\n",
    "model = Model(2, 1)\n",
    "[w, b] = model.parameters()\n",
    "w1, w2 = w.view(2)\n",
    "criterion = nn.BCELoss()\n",
    "optimizer = torch.optim.SGD(model.parameters(), lr=0.01)\n",
    "epochs = 1000\n",
    "for i in range(epochs):\n",
    "    i += 1\n",
    "    y_pred = model.forward(X_data)\n",
    "    loss = criterion(y_pred, y_data)\n",
    "    losses.append(loss.item())\n",
    "    optimizer.zero_grad()\n",
    "    loss.backward()\n",
    "    optimizer.step()"
   ]
  },
  {
   "cell_type": "code",
   "execution_count": null,
   "id": "6078567d",
   "metadata": {
    "ExecuteTime": {
     "end_time": "2022-12-07T13:24:33.737568Z",
     "start_time": "2022-12-07T13:24:33.737562Z"
    }
   },
   "outputs": [],
   "source": [
    "point1 = torch.Tensor([1.0, -1.0])\n",
    "point2 = torch.Tensor([-1.0, 1.0])\n",
    "plt.plot(point1.numpy()[0], point1.numpy()[1], \"ro\")\n",
    "plt.plot(point2.numpy()[0], point2.numpy()[1], \"ko\")\n",
    "print(\"Red point positive probability = {}\".format(\n",
    "    model.forward(point1).item()))\n",
    "print(\"Black point positive probability = {}\".format(\n",
    "    model.forward(point2).item()))\n",
    "print(\"Red point in class {}\".format(model.predict(point1)))\n",
    "print(\"Black point in class {}\".format(model.predict(point2)))\n",
    "plot_fit(\"Trained Model\")"
   ]
  }
 ],
 "metadata": {
  "hide_input": false,
  "kernelspec": {
   "display_name": "Python 3 (ipykernel)",
   "language": "python",
   "name": "python3"
  },
  "language_info": {
   "codemirror_mode": {
    "name": "ipython",
    "version": 3
   },
   "file_extension": ".py",
   "mimetype": "text/x-python",
   "name": "python",
   "nbconvert_exporter": "python",
   "pygments_lexer": "ipython3",
   "version": "3.9.13"
  },
  "latex_envs": {
   "LaTeX_envs_menu_present": true,
   "autoclose": false,
   "autocomplete": true,
   "bibliofile": "biblio.bib",
   "cite_by": "apalike",
   "current_citInitial": 1,
   "eqLabelWithNumbers": true,
   "eqNumInitial": 1,
   "hotkeys": {
    "equation": "Ctrl-E",
    "itemize": "Ctrl-I"
   },
   "labels_anchors": false,
   "latex_user_defs": false,
   "report_style_numbering": false,
   "user_envs_cfg": false
  },
  "nbTranslate": {
   "displayLangs": [
    "*"
   ],
   "hotkey": "alt-t",
   "langInMainMenu": true,
   "sourceLang": "en",
   "targetLang": "fr",
   "useGoogleTranslate": true
  },
  "toc": {
   "base_numbering": 1,
   "nav_menu": {},
   "number_sections": true,
   "sideBar": true,
   "skip_h1_title": false,
   "title_cell": "Table of Contents",
   "title_sidebar": "Contents",
   "toc_cell": false,
   "toc_position": {
    "height": "calc(100% - 180px)",
    "left": "10px",
    "top": "150px",
    "width": "345.594px"
   },
   "toc_section_display": true,
   "toc_window_display": true
  },
  "varInspector": {
   "cols": {
    "lenName": 16,
    "lenType": 16,
    "lenVar": 40
   },
   "kernels_config": {
    "python": {
     "delete_cmd_postfix": "",
     "delete_cmd_prefix": "del ",
     "library": "var_list.py",
     "varRefreshCmd": "print(var_dic_list())"
    },
    "r": {
     "delete_cmd_postfix": ") ",
     "delete_cmd_prefix": "rm(",
     "library": "var_list.r",
     "varRefreshCmd": "cat(var_dic_list()) "
    }
   },
   "types_to_exclude": [
    "module",
    "function",
    "builtin_function_or_method",
    "instance",
    "_Feature"
   ],
   "window_display": false
  }
 },
 "nbformat": 4,
 "nbformat_minor": 5
}

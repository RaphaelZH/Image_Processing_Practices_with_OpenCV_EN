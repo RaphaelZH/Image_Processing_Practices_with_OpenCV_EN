{
 "cells": [
  {
   "cell_type": "markdown",
   "id": "aaaf9137",
   "metadata": {},
   "source": [
    "# Importing Libraries"
   ]
  },
  {
   "cell_type": "code",
   "execution_count": 1,
   "id": "444b4926",
   "metadata": {
    "ExecuteTime": {
     "end_time": "2023-01-12T23:12:05.015658Z",
     "start_time": "2023-01-12T23:12:03.986247Z"
    }
   },
   "outputs": [],
   "source": [
    "import torch\n",
    "from torch import nn\n",
    "import torch.nn.functional as F\n",
    "from torchvision import datasets, transforms\n",
    "\n",
    "#import numpy as np\n",
    "\n",
    "#import requests\n",
    "\n",
    "import matplotlib as mpl\n",
    "#import matplotlib.gridspec as gridspec\n",
    "import matplotlib.pyplot as plt\n",
    "#from mpl_toolkits.axes_grid1.inset_locator import inset_axes\n",
    "\n",
    "#from PIL import Image, ImageOps\n",
    "\n",
    "import reprlib\n",
    "import sys"
   ]
  },
  {
   "cell_type": "markdown",
   "id": "9f62ce0f",
   "metadata": {},
   "source": [
    "# Configuring Visualization Parameters"
   ]
  },
  {
   "cell_type": "code",
   "execution_count": 2,
   "id": "98e4893c",
   "metadata": {
    "ExecuteTime": {
     "end_time": "2023-01-12T23:12:05.023676Z",
     "start_time": "2023-01-12T23:12:05.016978Z"
    }
   },
   "outputs": [],
   "source": [
    "%matplotlib inline"
   ]
  },
  {
   "cell_type": "code",
   "execution_count": 3,
   "id": "d4c30a7d",
   "metadata": {
    "ExecuteTime": {
     "end_time": "2023-01-12T23:12:05.026348Z",
     "start_time": "2023-01-12T23:12:05.024476Z"
    }
   },
   "outputs": [],
   "source": [
    "XINHUI = \"#7a7374\"\n",
    "XUEBAI = \"#fffef9\"\n",
    "YINBAI = \"#f1f0ed\"\n",
    "YINHUI = \"#918072\"\n",
    "\n",
    "figure_size = (16, 9)"
   ]
  },
  {
   "cell_type": "code",
   "execution_count": 4,
   "id": "c96adaa6",
   "metadata": {
    "ExecuteTime": {
     "end_time": "2023-01-12T23:12:05.030770Z",
     "start_time": "2023-01-12T23:12:05.028327Z"
    }
   },
   "outputs": [],
   "source": [
    "custom_params = {\n",
    "    \"axes.axisbelow\": True,\n",
    "    \"axes.edgecolor\": YINBAI,\n",
    "    \"axes.facecolor\": XUEBAI,\n",
    "    \"axes.grid\": True,\n",
    "    \"axes.labelcolor\": XINHUI,\n",
    "    \"axes.spines.right\": False,\n",
    "    \"axes.spines.top\": False,\n",
    "    \"axes.titlecolor\": XINHUI,\n",
    "    \"figure.edgecolor\": YINBAI,\n",
    "    \"figure.facecolor\": XUEBAI,\n",
    "    \"grid.alpha\": .8,\n",
    "    \"grid.color\": YINBAI,\n",
    "    \"grid.linestyle\": \"--\",\n",
    "    \"grid.linewidth\": 1.2,\n",
    "    \"legend.edgecolor\": YINHUI,\n",
    "    \"patch.edgecolor\": XUEBAI,\n",
    "    \"patch.force_edgecolor\": True,\n",
    "    \"text.color\": XINHUI,\n",
    "    \"xtick.color\": YINHUI,\n",
    "    \"ytick.color\": YINHUI,\n",
    "}\n",
    "\n",
    "mpl.rcParams.update(custom_params)"
   ]
  },
  {
   "cell_type": "markdown",
   "id": "8b829cf0",
   "metadata": {},
   "source": [
    "# Configuring Pre-configured Parameters"
   ]
  },
  {
   "cell_type": "code",
   "execution_count": 5,
   "id": "577e962c",
   "metadata": {
    "ExecuteTime": {
     "end_time": "2023-01-12T23:12:05.033897Z",
     "start_time": "2023-01-12T23:12:05.031942Z"
    }
   },
   "outputs": [],
   "source": [
    "transform = transforms.Compose([\n",
    "    transforms.Resize((28, 28)),\n",
    "    transforms.ToTensor(),\n",
    "    transforms.Normalize((0.5, ), (0.5, ))\n",
    "])"
   ]
  },
  {
   "cell_type": "markdown",
   "id": "4fad658d",
   "metadata": {},
   "source": [
    "# Configuring Other Notebook Parameters"
   ]
  },
  {
   "cell_type": "code",
   "execution_count": 6,
   "id": "8e37712a",
   "metadata": {
    "ExecuteTime": {
     "end_time": "2023-01-12T23:12:05.036491Z",
     "start_time": "2023-01-12T23:12:05.034930Z"
    }
   },
   "outputs": [],
   "source": [
    "reprlib_rules = reprlib.Repr()\n",
    "reprlib_rules.maxother = 250"
   ]
  },
  {
   "cell_type": "markdown",
   "id": "83421c04",
   "metadata": {},
   "source": [
    "# Pre-installing Custom Functions"
   ]
  },
  {
   "cell_type": "code",
   "execution_count": 7,
   "id": "22b163a3",
   "metadata": {
    "ExecuteTime": {
     "end_time": "2023-01-12T23:12:05.039229Z",
     "start_time": "2023-01-12T23:12:05.037506Z"
    }
   },
   "outputs": [],
   "source": [
    "sys.path.append(\"../\")"
   ]
  },
  {
   "cell_type": "code",
   "execution_count": 8,
   "id": "5806d1bf",
   "metadata": {
    "ExecuteTime": {
     "end_time": "2023-01-12T23:12:05.183803Z",
     "start_time": "2023-01-12T23:12:05.040215Z"
    }
   },
   "outputs": [],
   "source": [
    "from Modules import *"
   ]
  },
  {
   "cell_type": "markdown",
   "id": "90b9185d",
   "metadata": {},
   "source": [
    "# Loading Datasets"
   ]
  },
  {
   "cell_type": "code",
   "execution_count": 9,
   "id": "3563f416",
   "metadata": {
    "ExecuteTime": {
     "end_time": "2023-01-12T23:12:05.204723Z",
     "start_time": "2023-01-12T23:12:05.184599Z"
    }
   },
   "outputs": [],
   "source": [
    "training_dataset = datasets.MNIST(root=\"../Datasets\",\n",
    "                                  train=True,\n",
    "                                  download=True,\n",
    "                                  transform=transform)\n",
    "\n",
    "validation_dataset = datasets.MNIST(root=\"../Datasets\",\n",
    "                                    train=False,\n",
    "                                    download=True,\n",
    "                                    transform=transform)"
   ]
  },
  {
   "cell_type": "code",
   "execution_count": 10,
   "id": "e29d7aad",
   "metadata": {
    "ExecuteTime": {
     "end_time": "2023-01-12T23:12:05.209897Z",
     "start_time": "2023-01-12T23:12:05.207957Z"
    }
   },
   "outputs": [],
   "source": [
    "training_loader = torch.utils.data.DataLoader(training_dataset,\n",
    "                                              batch_size=100,\n",
    "                                              shuffle=True)\n",
    "\n",
    "validation_loader = torch.utils.data.DataLoader(validation_dataset,\n",
    "                                                batch_size=100,\n",
    "                                                shuffle=False)"
   ]
  },
  {
   "cell_type": "markdown",
   "id": "88833e7a",
   "metadata": {
    "ExecuteTime": {
     "end_time": "2023-01-12T17:56:18.222325Z",
     "start_time": "2023-01-12T17:56:18.218703Z"
    }
   },
   "source": [
    "# Practicing in Stages\n",
    "\n",
    "## Neural Network Implementation with PyTorch"
   ]
  },
  {
   "cell_type": "code",
   "execution_count": 11,
   "id": "1ba978c5",
   "metadata": {
    "ExecuteTime": {
     "end_time": "2023-01-12T23:12:05.215200Z",
     "start_time": "2023-01-12T23:12:05.211108Z"
    }
   },
   "outputs": [
    {
     "name": "stdout",
     "output_type": "stream",
     "text": [
      "\u001b[4m\u001b[31mDefinition of custom convolutional neural module class\u001b[0m\n",
      "\n",
      "\u001b[1m\u001b[31m    +-----------------------------------------------+\u001b[0m\n",
      "\u001b[1m\u001b[31m    | Definition                                    |\u001b[0m\n",
      "\u001b[1m\u001b[31m    +-----------------------------------------------+\u001b[0m\n",
      "\u001b[1m\u001b[31m    | class LeNet(nn.Module):                       |\u001b[0m\n",
      "\u001b[1m\u001b[31m    |                                               |\u001b[0m\n",
      "\u001b[1m\u001b[31m    |     def __init__(self):                       |\u001b[0m\n",
      "\u001b[1m\u001b[31m    |         super().__init__()                    |\u001b[0m\n",
      "\u001b[1m\u001b[31m    |         self.conv1 = nn.Conv2d(1, 20, 5, 1)   |\u001b[0m\n",
      "\u001b[1m\u001b[31m    |         self.conv2 = nn.Conv2d(20, 50, 5, 1)  |\u001b[0m\n",
      "\u001b[1m\u001b[31m    |         self.fc1 = nn.Linear(4 * 4 * 50, 500) |\u001b[0m\n",
      "\u001b[1m\u001b[31m    |         self.fc2 = nn.Linear(500, 10)         |\u001b[0m\n",
      "\u001b[1m\u001b[31m    |                                               |\u001b[0m\n",
      "\u001b[1m\u001b[31m    |     def forward(self, x):                     |\u001b[0m\n",
      "\u001b[1m\u001b[31m    |         x = F.relu(self.conv1(x))             |\u001b[0m\n",
      "\u001b[1m\u001b[31m    |         x = F.max_pool2d(x, 2, 2)             |\u001b[0m\n",
      "\u001b[1m\u001b[31m    |         x = F.relu(self.conv2(x))             |\u001b[0m\n",
      "\u001b[1m\u001b[31m    |         x = F.max_pool2d(x, 2, 2)             |\u001b[0m\n",
      "\u001b[1m\u001b[31m    |         x = x.view(-1, 4 * 4 * 50)            |\u001b[0m\n",
      "\u001b[1m\u001b[31m    |         x = F.relu(self.fc1(x))               |\u001b[0m\n",
      "\u001b[1m\u001b[31m    |         x = self.fc2(x)                       |\u001b[0m\n",
      "\u001b[1m\u001b[31m    |         return x                              |\u001b[0m\n",
      "\u001b[1m\u001b[31m    +-----------------------------------------------+\u001b[0m\n"
     ]
    }
   ],
   "source": [
    "class LeNet(nn.Module):\n",
    "\n",
    "    def __init__(self):\n",
    "        super().__init__()\n",
    "        self.conv1 = nn.Conv2d(1, 20, 5, 1)\n",
    "        self.conv2 = nn.Conv2d(20, 50, 5, 1)\n",
    "        self.fc1 = nn.Linear(4 * 4 * 50, 500)\n",
    "        self.fc2 = nn.Linear(500, 10)\n",
    "\n",
    "    def forward(self, x):\n",
    "        x = F.relu(self.conv1(x))\n",
    "        x = F.max_pool2d(x, 2, 2)\n",
    "        x = F.relu(self.conv2(x))\n",
    "        x = F.max_pool2d(x, 2, 2)\n",
    "        x = x.view(-1, 4 * 4 * 50)\n",
    "        x = F.relu(self.fc1(x))\n",
    "        x = self.fc2(x)\n",
    "        return x\n",
    "\n",
    "\n",
    "tabulation = Form_Generator()\n",
    "tabulation.heading_printer(\n",
    "    \"Definition of custom convolutional neural module class\")\n",
    "\n",
    "definitions = [\n",
    "    \"\"\"\n",
    "class LeNet(nn.Module):\n",
    "\n",
    "    def __init__(self):\n",
    "        super().__init__()\n",
    "        self.conv1 = nn.Conv2d(1, 20, 5, 1)\n",
    "        self.conv2 = nn.Conv2d(20, 50, 5, 1)\n",
    "        self.fc1 = nn.Linear(4 * 4 * 50, 500)\n",
    "        self.fc2 = nn.Linear(500, 10)\n",
    "\n",
    "    def forward(self, x):\n",
    "        x = F.relu(self.conv1(x))\n",
    "        x = F.max_pool2d(x, 2, 2)\n",
    "        x = F.relu(self.conv2(x))\n",
    "        x = F.max_pool2d(x, 2, 2)\n",
    "        x = x.view(-1, 4 * 4 * 50)\n",
    "        x = F.relu(self.fc1(x))\n",
    "        x = self.fc2(x)\n",
    "        return x\n",
    "\"\"\"\n",
    "]\n",
    "tabulation.definition_generator(definitions)"
   ]
  },
  {
   "cell_type": "markdown",
   "id": "26b348dc",
   "metadata": {
    "ExecuteTime": {
     "end_time": "2023-01-12T17:56:18.229179Z",
     "start_time": "2023-01-12T17:56:18.227222Z"
    }
   },
   "source": [
    "## Model Training with PyTorch"
   ]
  },
  {
   "cell_type": "code",
   "execution_count": 12,
   "id": "82093c51",
   "metadata": {
    "ExecuteTime": {
     "end_time": "2023-01-12T23:12:05.230329Z",
     "start_time": "2023-01-12T23:12:05.216133Z"
    }
   },
   "outputs": [
    {
     "name": "stdout",
     "output_type": "stream",
     "text": [
      "\u001b[4m\u001b[36mEnabling GPU training acceleration for Mac computers with Apple Silicon\u001b[0m\n",
      "\n",
      "\u001b[1m\u001b[36m    +---------------------------------------------------+\u001b[0m\n",
      "\u001b[1m\u001b[36m    | Statement                                         |\u001b[0m\n",
      "\u001b[1m\u001b[36m    +---------------------------------------------------+\u001b[0m\n",
      "\u001b[1m\u001b[36m    | device = torch.device(\"mps:0\" if                  |\u001b[0m\n",
      "\u001b[1m\u001b[36m    |     torch.backends.mps.is_available() else \"cpu\") |\u001b[0m\n",
      "\u001b[1m\u001b[36m    +---------------------------------------------------+\u001b[0m\n",
      "\u001b[1m\u001b[36m    +----------+-------+\u001b[0m\n",
      "\u001b[1m\u001b[36m    | Variable | Value |\u001b[0m\n",
      "\u001b[1m\u001b[36m    +----------+-------+\u001b[0m\n",
      "\u001b[1m\u001b[36m    | device   | mps:0 |\u001b[0m\n",
      "\u001b[1m\u001b[36m    +----------+-------+\u001b[0m\n",
      "\u001b[1m\u001b[36m    +--------------+--------+\u001b[0m\n",
      "\u001b[1m\u001b[36m    | Expression   | Result |\u001b[0m\n",
      "\u001b[1m\u001b[36m    +--------------+--------+\u001b[0m\n",
      "\u001b[1m\u001b[36m    | device.index | 0      |\u001b[0m\n",
      "\u001b[1m\u001b[36m    +--------------+--------+\u001b[0m\n"
     ]
    }
   ],
   "source": [
    "device = torch.device(\"mps:0\" if torch.backends.mps.is_available() else \"cpu\")\n",
    "\n",
    "tabulation = Form_Generator()\n",
    "tabulation.heading_printer(\n",
    "    \"Enabling GPU training acceleration for Mac computers with Apple Silicon\")\n",
    "\n",
    "statements = [\n",
    "    \"device = torch.device(\\\"mps:0\\\" if torch.backends.mps.is_available() \"\n",
    "    \"else \\\"cpu\\\")\"\n",
    "]\n",
    "tabulation.statement_generator(statements)\n",
    "\n",
    "variables = [\"device\"]\n",
    "values = [str(device)]\n",
    "tabulation.variable_generator(variables, values)\n",
    "\n",
    "expressions = [\"device.index\"]\n",
    "results = [str(device.index)]\n",
    "tabulation.expression_generator(expressions, results)"
   ]
  },
  {
   "cell_type": "code",
   "execution_count": 13,
   "id": "3a3f3699",
   "metadata": {
    "ExecuteTime": {
     "end_time": "2023-01-12T23:12:05.865553Z",
     "start_time": "2023-01-12T23:12:05.231252Z"
    }
   },
   "outputs": [
    {
     "name": "stdout",
     "output_type": "stream",
     "text": [
      "\u001b[4m\u001b[33mInitialization of custom convolutional neural module class\u001b[0m\n",
      "\n",
      "\u001b[1m\u001b[33m    +----------------------------+\u001b[0m\n",
      "\u001b[1m\u001b[33m    | Statement                  |\u001b[0m\n",
      "\u001b[1m\u001b[33m    +----------------------------+\u001b[0m\n",
      "\u001b[1m\u001b[33m    | model = LeNet().to(device) |\u001b[0m\n",
      "\u001b[1m\u001b[33m    +----------------------------+\u001b[0m\n",
      "\u001b[1m\u001b[33m    +----------+-----------------------------------------------+\u001b[0m\n",
      "\u001b[1m\u001b[33m    | Variable | Value                                         |\u001b[0m\n",
      "\u001b[1m\u001b[33m    +----------+-----------------------------------------------+\u001b[0m\n",
      "\u001b[1m\u001b[33m    | model    | LeNet(                                        |\u001b[0m\n",
      "\u001b[1m\u001b[33m    |          |   (conv1): Conv2d(1, 20, kernel_size=(5, 5),  |\u001b[0m\n",
      "\u001b[1m\u001b[33m    |          |         stride=(1, 1))                        |\u001b[0m\n",
      "\u001b[1m\u001b[33m    |          |   (conv2): Conv2d(20, 50, kernel_size=(5, 5), |\u001b[0m\n",
      "\u001b[1m\u001b[33m    |          |         stride=(1, 1))                        |\u001b[0m\n",
      "\u001b[1m\u001b[33m    |          |   (fc1): Linear(in_features=800,              |\u001b[0m\n",
      "\u001b[1m\u001b[33m    |          |         out_features=500, bias=True)          |\u001b[0m\n",
      "\u001b[1m\u001b[33m    |          |   (fc2): Linear(in_features=500,              |\u001b[0m\n",
      "\u001b[1m\u001b[33m    |          |         out_features=10, bias=True)           |\u001b[0m\n",
      "\u001b[1m\u001b[33m    |          | )                                             |\u001b[0m\n",
      "\u001b[1m\u001b[33m    +----------+-----------------------------------------------+\u001b[0m\n"
     ]
    },
    {
     "name": "stderr",
     "output_type": "stream",
     "text": [
      "/Users/haozhang/Documents/GitHub/Udemy_Data_Science_Courses_Learning_Outcomes_EN/venv-py3.9/lib/python3.9/site-packages/torch/_tensor_str.py:115: UserWarning: The operator 'aten::nonzero' is not currently supported on the MPS backend and will fall back to run on the CPU. This may have performance implications. (Triggered internally at /Users/runner/work/pytorch/pytorch/pytorch/aten/src/ATen/mps/MPSFallback.mm:11.)\n",
      "  nonzero_finite_vals = torch.masked_select(\n"
     ]
    },
    {
     "name": "stdout",
     "output_type": "stream",
     "text": [
      "\u001b[1m\u001b[33m    +--------------------------+----------------------------------+\u001b[0m\n",
      "\u001b[1m\u001b[33m    | Expression               | Result                           |\u001b[0m\n",
      "\u001b[1m\u001b[33m    +--------------------------+----------------------------------+\u001b[0m\n",
      "\u001b[1m\u001b[33m    | list(model.parameters()) | [Parameter containing:           |\u001b[0m\n",
      "\u001b[1m\u001b[33m    |                          | tensor([[[[-0.1385, -0.1869,     |\u001b[0m\n",
      "\u001b[1m\u001b[33m    |                          |         0.0521,  0.0383,         |\u001b[0m\n",
      "\u001b[1m\u001b[33m    |                          |         -0.0384],                |\u001b[0m\n",
      "\u001b[1m\u001b[33m    |                          |           [-0.1413, -0.1408,     |\u001b[0m\n",
      "\u001b[1m\u001b[33m    |                          |         -0.0990,  0.028...9,     |\u001b[0m\n",
      "\u001b[1m\u001b[33m    |                          |         0.0051, -0.1633],        |\u001b[0m\n",
      "\u001b[1m\u001b[33m    |                          |           [-0.1191, -0.0537,     |\u001b[0m\n",
      "\u001b[1m\u001b[33m    |                          |         0.1445, -0.1901,         |\u001b[0m\n",
      "\u001b[1m\u001b[33m    |                          |         -0.0526]]]],             |\u001b[0m\n",
      "\u001b[1m\u001b[33m    |                          |         device='mps:0',          |\u001b[0m\n",
      "\u001b[1m\u001b[33m    |                          |        requires_grad=True),      |\u001b[0m\n",
      "\u001b[1m\u001b[33m    |                          |         Parameter containing:    |\u001b[0m\n",
      "\u001b[1m\u001b[33m    |                          | tensor([-0.1205,  0.1110,        |\u001b[0m\n",
      "\u001b[1m\u001b[33m    |                          |         0.0823, -0.0401,         |\u001b[0m\n",
      "\u001b[1m\u001b[33m    |                          |         0.1522, -0.0338,         |\u001b[0m\n",
      "\u001b[1m\u001b[33m    |                          |         0.0957, -0.1224,         |\u001b[0m\n",
      "\u001b[1m\u001b[33m    |                          |          0.0793,  0.1...         |\u001b[0m\n",
      "\u001b[1m\u001b[33m    |                          |         -0.0112,  0.0363,        |\u001b[0m\n",
      "\u001b[1m\u001b[33m    |                          |         -0.1279, -0.1083,        |\u001b[0m\n",
      "\u001b[1m\u001b[33m    |                          |         -0.1028, -0.0129,        |\u001b[0m\n",
      "\u001b[1m\u001b[33m    |                          |         -0.0801,  0.1422],       |\u001b[0m\n",
      "\u001b[1m\u001b[33m    |                          |         device='mps:0',          |\u001b[0m\n",
      "\u001b[1m\u001b[33m    |                          |        requires_grad=True),      |\u001b[0m\n",
      "\u001b[1m\u001b[33m    |                          |         Parameter containing:    |\u001b[0m\n",
      "\u001b[1m\u001b[33m    |                          | tensor([[[[ 4.2410e-02,          |\u001b[0m\n",
      "\u001b[1m\u001b[33m    |                          |         -8.5078e-03,             |\u001b[0m\n",
      "\u001b[1m\u001b[33m    |                          |         -1.0872e-02,             |\u001b[0m\n",
      "\u001b[1m\u001b[33m    |                          |         -7.0625e-03,             |\u001b[0m\n",
      "\u001b[1m\u001b[33m    |                          |         -1.5854e-02],            |\u001b[0m\n",
      "\u001b[1m\u001b[33m    |                          |           [ 4.3062e-03, ...,     |\u001b[0m\n",
      "\u001b[1m\u001b[33m    |                          |           [-4.4213e-02,          |\u001b[0m\n",
      "\u001b[1m\u001b[33m    |                          |         2.1187e-02,  2.4606e-02, |\u001b[0m\n",
      "\u001b[1m\u001b[33m    |                          |          1.4458e-02,             |\u001b[0m\n",
      "\u001b[1m\u001b[33m    |                          |         -3.1587e-02]]]],         |\u001b[0m\n",
      "\u001b[1m\u001b[33m    |                          |        device='mps:0',           |\u001b[0m\n",
      "\u001b[1m\u001b[33m    |                          |         requires_grad=True),     |\u001b[0m\n",
      "\u001b[1m\u001b[33m    |                          |         Parameter containing:    |\u001b[0m\n",
      "\u001b[1m\u001b[33m    |                          | tensor([-0.0328, -0.0344,        |\u001b[0m\n",
      "\u001b[1m\u001b[33m    |                          |         0.0189,  0.0416,         |\u001b[0m\n",
      "\u001b[1m\u001b[33m    |                          |         -0.0024,  0.0105,        |\u001b[0m\n",
      "\u001b[1m\u001b[33m    |                          |         0.0436,  0.0127,         |\u001b[0m\n",
      "\u001b[1m\u001b[33m    |                          |          0.0307,  0.0...0.0088,  |\u001b[0m\n",
      "\u001b[1m\u001b[33m    |                          |         -0.0160,  0.0442,        |\u001b[0m\n",
      "\u001b[1m\u001b[33m    |                          |         0.0364,  0.0366,         |\u001b[0m\n",
      "\u001b[1m\u001b[33m    |                          |         -0.0265, -0.0046,        |\u001b[0m\n",
      "\u001b[1m\u001b[33m    |                          |         -0.0445,  0.0365],       |\u001b[0m\n",
      "\u001b[1m\u001b[33m    |                          |         device='mps:0',          |\u001b[0m\n",
      "\u001b[1m\u001b[33m    |                          |         requires_grad=True),     |\u001b[0m\n",
      "\u001b[1m\u001b[33m    |                          |         Parameter containing:    |\u001b[0m\n",
      "\u001b[1m\u001b[33m    |                          | tensor([[-0.0240, -0.0303,       |\u001b[0m\n",
      "\u001b[1m\u001b[33m    |                          |         0.0032,  ...,  0.0200,   |\u001b[0m\n",
      "\u001b[1m\u001b[33m    |                          |         0.0040,  0.0004],        |\u001b[0m\n",
      "\u001b[1m\u001b[33m    |                          |         [ 0.0050, -0.0053,       |\u001b[0m\n",
      "\u001b[1m\u001b[33m    |                          |         0.0...  0.0138],         |\u001b[0m\n",
      "\u001b[1m\u001b[33m    |                          |         [ 0.0297,  0.0117,       |\u001b[0m\n",
      "\u001b[1m\u001b[33m    |                          |         -0.0124,  ...,  0.0269,  |\u001b[0m\n",
      "\u001b[1m\u001b[33m    |                          |         -0.0275, -0.0151]],      |\u001b[0m\n",
      "\u001b[1m\u001b[33m    |                          |        device='mps:0',           |\u001b[0m\n",
      "\u001b[1m\u001b[33m    |                          |         requires_grad=True),     |\u001b[0m\n",
      "\u001b[1m\u001b[33m    |                          |         Parameter containing:    |\u001b[0m\n",
      "\u001b[1m\u001b[33m    |                          | tensor([-1.5824e-02,             |\u001b[0m\n",
      "\u001b[1m\u001b[33m    |                          |         -2.1391e-02,             |\u001b[0m\n",
      "\u001b[1m\u001b[33m    |                          |         2.4604e-02, -3.2020e-02, |\u001b[0m\n",
      "\u001b[1m\u001b[33m    |                          |          6.0959e-03,             |\u001b[0m\n",
      "\u001b[1m\u001b[33m    |                          |          2.0748e-02,             |\u001b[0m\n",
      "\u001b[1m\u001b[33m    |                          |         -6.4275...48e-02,        |\u001b[0m\n",
      "\u001b[1m\u001b[33m    |                          |         -1.9213e-03,             |\u001b[0m\n",
      "\u001b[1m\u001b[33m    |                          |         1.0714e-02,  3.4320e-02, |\u001b[0m\n",
      "\u001b[1m\u001b[33m    |                          |         -6.4347e-04,             |\u001b[0m\n",
      "\u001b[1m\u001b[33m    |                          |         -7.4508e-03],            |\u001b[0m\n",
      "\u001b[1m\u001b[33m    |                          |        device='mps:0',           |\u001b[0m\n",
      "\u001b[1m\u001b[33m    |                          |         requires_grad=True),     |\u001b[0m\n",
      "\u001b[1m\u001b[33m    |                          |         ...]                     |\u001b[0m\n",
      "\u001b[1m\u001b[33m    +--------------------------+----------------------------------+\u001b[0m\n"
     ]
    }
   ],
   "source": [
    "model = LeNet().to(device)\n",
    "\n",
    "tabulation = Form_Generator()\n",
    "tabulation.heading_printer(\n",
    "    \"Initialization of custom convolutional neural module class\")\n",
    "\n",
    "statements = [\"model = LeNet().to(device)\"]\n",
    "tabulation.statement_generator(statements)\n",
    "\n",
    "variables = [\"model\"]\n",
    "values = [str(model)]\n",
    "tabulation.variable_generator(variables, values)"
   ]
  },
  {
   "cell_type": "code",
   "execution_count": 14,
   "id": "76176021",
   "metadata": {
    "ExecuteTime": {
     "end_time": "2023-01-12T23:12:05.869924Z",
     "start_time": "2023-01-12T23:12:05.866676Z"
    }
   },
   "outputs": [
    {
     "name": "stdout",
     "output_type": "stream",
     "text": [
      "\u001b[4m\u001b[37mSpecific configuration settings for the training process\u001b[0m\n",
      "\n",
      "\u001b[1m\u001b[37m    +-------------------------------------------------------------+\u001b[0m\n",
      "\u001b[1m\u001b[37m    | Statement                                                   |\u001b[0m\n",
      "\u001b[1m\u001b[37m    +-------------------------------------------------------------+\u001b[0m\n",
      "\u001b[1m\u001b[37m    | criterion = nn.CrossEntropyLoss()                           |\u001b[0m\n",
      "\u001b[1m\u001b[37m    | optimizer = torch.optim.Adam(model.parameters(), lr=0.0001) |\u001b[0m\n",
      "\u001b[1m\u001b[37m    +-------------------------------------------------------------+\u001b[0m\n",
      "\u001b[1m\u001b[37m    +-----------+---------------------------+\u001b[0m\n",
      "\u001b[1m\u001b[37m    | Variable  | Value                     |\u001b[0m\n",
      "\u001b[1m\u001b[37m    +-----------+---------------------------+\u001b[0m\n",
      "\u001b[1m\u001b[37m    | criterion | CrossEntropyLoss()        |\u001b[0m\n",
      "\u001b[1m\u001b[37m    | optimizer | Adam (                    |\u001b[0m\n",
      "\u001b[1m\u001b[37m    |           | Parameter Group 0         |\u001b[0m\n",
      "\u001b[1m\u001b[37m    |           |     amsgrad: False        |\u001b[0m\n",
      "\u001b[1m\u001b[37m    |           |     betas: (0.9, 0.999)   |\u001b[0m\n",
      "\u001b[1m\u001b[37m    |           |     capturable: False     |\u001b[0m\n",
      "\u001b[1m\u001b[37m    |           |     differentiable: False |\u001b[0m\n",
      "\u001b[1m\u001b[37m    |           |     eps: 1e-08            |\u001b[0m\n",
      "\u001b[1m\u001b[37m    |           |     foreach: None         |\u001b[0m\n",
      "\u001b[1m\u001b[37m    |           |     fused: False          |\u001b[0m\n",
      "\u001b[1m\u001b[37m    |           |     lr: 0.0001            |\u001b[0m\n",
      "\u001b[1m\u001b[37m    |           |     maximize: False       |\u001b[0m\n",
      "\u001b[1m\u001b[37m    |           |     weight_decay: 0       |\u001b[0m\n",
      "\u001b[1m\u001b[37m    |           | )                         |\u001b[0m\n",
      "\u001b[1m\u001b[37m    +-----------+---------------------------+\u001b[0m\n"
     ]
    }
   ],
   "source": [
    "criterion = nn.CrossEntropyLoss()\n",
    "optimizer = torch.optim.Adam(model.parameters(), lr=0.0001)\n",
    "\n",
    "tabulation = Form_Generator()\n",
    "tabulation.heading_printer(\n",
    "    \"Specific configuration settings for the training process\")\n",
    "\n",
    "statements = [\n",
    "    \"\"\"\n",
    "criterion = nn.CrossEntropyLoss()\n",
    "optimizer = torch.optim.Adam(model.parameters(), lr=0.0001)\n",
    "\"\"\"\n",
    "]\n",
    "tabulation.statement_generator(statements)\n",
    "\n",
    "variables = [\"criterion\", \"optimizer\"]\n",
    "values = [str(criterion), str(optimizer)]\n",
    "tabulation.variable_generator(variables, values)"
   ]
  },
  {
   "cell_type": "code",
   "execution_count": 15,
   "id": "951cee22",
   "metadata": {
    "ExecuteTime": {
     "end_time": "2023-01-12T23:14:23.074075Z",
     "start_time": "2023-01-12T23:12:05.870978Z"
    }
   },
   "outputs": [
    {
     "name": "stdout",
     "output_type": "stream",
     "text": [
      "\u001b[4m\u001b[30m\u001b[0m\n",
      "\n",
      "\u001b[1m\u001b[30m    +------------------------------------------------------------+\u001b[0m\n",
      "\u001b[1m\u001b[30m    | Statement                                                  |\u001b[0m\n",
      "\u001b[1m\u001b[30m    +------------------------------------------------------------+\u001b[0m\n",
      "\u001b[1m\u001b[30m    | for e in range(epochs):                                    |\u001b[0m\n",
      "\u001b[1m\u001b[30m    |     running_loss = 0.0                                     |\u001b[0m\n",
      "\u001b[1m\u001b[30m    |     running_accu = 0                                       |\u001b[0m\n",
      "\u001b[1m\u001b[30m    |     val_running_loss = 0.0                                 |\u001b[0m\n",
      "\u001b[1m\u001b[30m    |     val_running_accu = 0                                   |\u001b[0m\n",
      "\u001b[1m\u001b[30m    |                                                            |\u001b[0m\n",
      "\u001b[1m\u001b[30m    |     for inputs, labels in training_loader:                 |\u001b[0m\n",
      "\u001b[1m\u001b[30m    |         inputs = inputs.to(device)                         |\u001b[0m\n",
      "\u001b[1m\u001b[30m    |         labels = labels.to(device)                         |\u001b[0m\n",
      "\u001b[1m\u001b[30m    |         outputs = model(inputs)                            |\u001b[0m\n",
      "\u001b[1m\u001b[30m    |         loss = criterion(outputs, labels)                  |\u001b[0m\n",
      "\u001b[1m\u001b[30m    |                                                            |\u001b[0m\n",
      "\u001b[1m\u001b[30m    |         optimizer.zero_grad()                              |\u001b[0m\n",
      "\u001b[1m\u001b[30m    |         loss.backward()                                    |\u001b[0m\n",
      "\u001b[1m\u001b[30m    |         optimizer.step()                                   |\u001b[0m\n",
      "\u001b[1m\u001b[30m    |                                                            |\u001b[0m\n",
      "\u001b[1m\u001b[30m    |         _, preds = torch.max(outputs, 1)                   |\u001b[0m\n",
      "\u001b[1m\u001b[30m    |         running_loss += loss.item()                        |\u001b[0m\n",
      "\u001b[1m\u001b[30m    |         running_accu += torch.sum(preds == labels.data)    |\u001b[0m\n",
      "\u001b[1m\u001b[30m    |                                                            |\u001b[0m\n",
      "\u001b[1m\u001b[30m    |     else:                                                  |\u001b[0m\n",
      "\u001b[1m\u001b[30m    |         with torch.no_grad():                              |\u001b[0m\n",
      "\u001b[1m\u001b[30m    |             for val_inputs, val_labels in                  |\u001b[0m\n",
      "\u001b[1m\u001b[30m    |     validation_loader:                                     |\u001b[0m\n",
      "\u001b[1m\u001b[30m    |                 val_inputs = val_inputs.to(device)         |\u001b[0m\n",
      "\u001b[1m\u001b[30m    |                 val_labels = val_labels.to(device)         |\u001b[0m\n",
      "\u001b[1m\u001b[30m    |                 val_outputs = model(val_inputs)            |\u001b[0m\n",
      "\u001b[1m\u001b[30m    |                 val_loss = criterion(val_outputs,          |\u001b[0m\n",
      "\u001b[1m\u001b[30m    |     val_labels)                                            |\u001b[0m\n",
      "\u001b[1m\u001b[30m    |                                                            |\u001b[0m\n",
      "\u001b[1m\u001b[30m    |                 _, val_preds = torch.max(val_outputs, 1)   |\u001b[0m\n",
      "\u001b[1m\u001b[30m    |                 val_running_loss += val_loss.item()        |\u001b[0m\n",
      "\u001b[1m\u001b[30m    |                 val_running_accu += torch.sum(val_preds == |\u001b[0m\n",
      "\u001b[1m\u001b[30m    |     val_labels.data)                                       |\u001b[0m\n",
      "\u001b[1m\u001b[30m    |                                                            |\u001b[0m\n",
      "\u001b[1m\u001b[30m    |         epoch_loss = running_loss / len(training_loader)   |\u001b[0m\n",
      "\u001b[1m\u001b[30m    |         epoch_accu = running_accu.float() /                |\u001b[0m\n",
      "\u001b[1m\u001b[30m    |     len(training_loader)                                   |\u001b[0m\n",
      "\u001b[1m\u001b[30m    |         running_loss_history.append(epoch_loss)            |\u001b[0m\n",
      "\u001b[1m\u001b[30m    |         running_accu_history.append(epoch_accu)            |\u001b[0m\n",
      "\u001b[1m\u001b[30m    |                                                            |\u001b[0m\n",
      "\u001b[1m\u001b[30m    |         val_epoch_loss = val_running_loss /                |\u001b[0m\n",
      "\u001b[1m\u001b[30m    |     len(validation_loader)                                 |\u001b[0m\n",
      "\u001b[1m\u001b[30m    |         val_epoch_accu = val_running_accu.float() /        |\u001b[0m\n",
      "\u001b[1m\u001b[30m    |     len(validation_loader)                                 |\u001b[0m\n",
      "\u001b[1m\u001b[30m    |         val_running_loss_history.append(val_epoch_loss)    |\u001b[0m\n",
      "\u001b[1m\u001b[30m    |         val_running_accu_history.append(val_epoch_accu)    |\u001b[0m\n",
      "\u001b[1m\u001b[30m    |                                                            |\u001b[0m\n",
      "\u001b[1m\u001b[30m    |         dataframe.updater(e + 1, epoch_loss,               |\u001b[0m\n",
      "\u001b[1m\u001b[30m    |     epoch_accu.item(), val_epoch_loss,                     |\u001b[0m\n",
      "\u001b[1m\u001b[30m    |                           val_epoch_accu.item())           |\u001b[0m\n",
      "\u001b[1m\u001b[30m    +------------------------------------------------------------+\u001b[0m\n",
      "\u001b[1m\u001b[30m    +--------------------------+-----------------------------+\u001b[0m\n",
      "\u001b[1m\u001b[30m    | Variable                 | Value                       |\u001b[0m\n",
      "\u001b[1m\u001b[30m    +--------------------------+-----------------------------+\u001b[0m\n",
      "\u001b[1m\u001b[30m    | epochs                   | 15                          |\u001b[0m\n",
      "\u001b[1m\u001b[30m    | running_loss_history     | [0.4874322454755505,        |\u001b[0m\n",
      "\u001b[1m\u001b[30m    |                          |  0.11172599809244275,       |\u001b[0m\n",
      "\u001b[1m\u001b[30m    |                          |  0.07608096518088132,       |\u001b[0m\n",
      "\u001b[1m\u001b[30m    |                          |  0.05969873013130079,       |\u001b[0m\n",
      "\u001b[1m\u001b[30m    |                          |  0.04987110760839035,       |\u001b[0m\n",
      "\u001b[1m\u001b[30m    |                          |  0.042270413466030735, ...] |\u001b[0m\n",
      "\u001b[1m\u001b[30m    | running_accu_history     | [tensor(88.4750,            |\u001b[0m\n",
      "\u001b[1m\u001b[30m    |                          |  device='mps:0'),           |\u001b[0m\n",
      "\u001b[1m\u001b[30m    |                          |  tensor(96.7667,            |\u001b[0m\n",
      "\u001b[1m\u001b[30m    |                          |  device='mps:0'),           |\u001b[0m\n",
      "\u001b[1m\u001b[30m    |                          |  tensor(97.7300,            |\u001b[0m\n",
      "\u001b[1m\u001b[30m    |                          |  device='mps:0'),           |\u001b[0m\n",
      "\u001b[1m\u001b[30m    |                          |  tensor(98.1967,            |\u001b[0m\n",
      "\u001b[1m\u001b[30m    |                          |  device='mps:0'),           |\u001b[0m\n",
      "\u001b[1m\u001b[30m    |                          |  tensor(98.5367,            |\u001b[0m\n",
      "\u001b[1m\u001b[30m    |                          |  device='mps:0'),           |\u001b[0m\n",
      "\u001b[1m\u001b[30m    |                          |  tensor(98.7150,            |\u001b[0m\n",
      "\u001b[1m\u001b[30m    |                          |  device='mps:0'), ...]      |\u001b[0m\n",
      "\u001b[1m\u001b[30m    | val_running_loss_history | [0.13191615712828933,       |\u001b[0m\n",
      "\u001b[1m\u001b[30m    |                          |  0.07839244656148367,       |\u001b[0m\n",
      "\u001b[1m\u001b[30m    |                          |  0.058417943642125464,      |\u001b[0m\n",
      "\u001b[1m\u001b[30m    |                          |  0.04946202997933142,       |\u001b[0m\n",
      "\u001b[1m\u001b[30m    |                          |  0.04233843103895197,       |\u001b[0m\n",
      "\u001b[1m\u001b[30m    |                          |  0.04408103037363617, ...]  |\u001b[0m\n",
      "\u001b[1m\u001b[30m    | val_running_accu_history | [tensor(96.4400,            |\u001b[0m\n",
      "\u001b[1m\u001b[30m    |                          |  device='mps:0'),           |\u001b[0m\n",
      "\u001b[1m\u001b[30m    |                          |  tensor(97.8100,            |\u001b[0m\n",
      "\u001b[1m\u001b[30m    |                          |  device='mps:0'),           |\u001b[0m\n",
      "\u001b[1m\u001b[30m    |                          |  tensor(98.1900,            |\u001b[0m\n",
      "\u001b[1m\u001b[30m    |                          |  device='mps:0'),           |\u001b[0m\n",
      "\u001b[1m\u001b[30m    |                          |  tensor(98.4200,            |\u001b[0m\n",
      "\u001b[1m\u001b[30m    |                          |  device='mps:0'),           |\u001b[0m\n",
      "\u001b[1m\u001b[30m    |                          |  tensor(98.6200,            |\u001b[0m\n",
      "\u001b[1m\u001b[30m    |                          |  device='mps:0'),           |\u001b[0m\n",
      "\u001b[1m\u001b[30m    |                          |  tensor(98.5100,            |\u001b[0m\n",
      "\u001b[1m\u001b[30m    |                          |  device='mps:0'), ...]      |\u001b[0m\n",
      "\u001b[1m\u001b[30m    +--------------------------+-----------------------------+\u001b[0m\n",
      "\u001b[1m\u001b[30m    +----+---------+-----------+------------+-------------------+\u001b[0m\n",
      "\u001b[1m\u001b[30m    |    |   epoch |      loss |   accuracy |   validation loss |\u001b[0m\n",
      "\u001b[1m\u001b[30m    |----+---------+-----------+------------+-------------------+\u001b[0m\n",
      "\u001b[1m\u001b[30m    |  0 |       1 | 0.487432  |    88.475  |         0.131916  |\u001b[0m\n",
      "\u001b[1m\u001b[30m    |  1 |       2 | 0.111726  |    96.7667 |         0.0783924 |\u001b[0m\n",
      "\u001b[1m\u001b[30m    |  2 |       3 | 0.076081  |    97.73   |         0.0584179 |\u001b[0m\n",
      "\u001b[1m\u001b[30m    |  3 |       4 | 0.0596987 |    98.1967 |         0.049462  |\u001b[0m\n",
      "\u001b[1m\u001b[30m    |  4 |       5 | 0.0498711 |    98.5367 |         0.0423384 |\u001b[0m\n",
      "\u001b[1m\u001b[30m    |   …|        …|          …|           …|                  …|\u001b[0m\n",
      "\u001b[1m\u001b[30m    | 10 |      11 | 0.0234146 |    99.2933 |         0.0304294 |\u001b[0m\n",
      "\u001b[1m\u001b[30m    | 11 |      12 | 0.0208903 |    99.3883 |         0.0268827 |\u001b[0m\n",
      "\u001b[1m\u001b[30m    | 12 |      13 | 0.0189275 |    99.4167 |         0.0265425 |\u001b[0m\n",
      "\u001b[1m\u001b[30m    | 13 |      14 | 0.0170807 |    99.5317 |         0.0257736 |\u001b[0m\n",
      "\u001b[1m\u001b[30m    | 14 |      15 | 0.0148828 |    99.575  |         0.0280835 |\u001b[0m\n",
      "\u001b[1m\u001b[30m    +----+---------+-----------+------------+-------------------+\u001b[0m\n",
      "\u001b[1m\u001b[30m    … +-----------------------+\u001b[0m\n",
      "\u001b[1m\u001b[30m    … |   validation accuracy |\u001b[0m\n",
      "\u001b[1m\u001b[30m    … +-----------------------|\u001b[0m\n",
      "\u001b[1m\u001b[30m    … |                 96.44 |\u001b[0m\n",
      "\u001b[1m\u001b[30m    … |                 97.81 |\u001b[0m\n",
      "\u001b[1m\u001b[30m    … |                 98.19 |\u001b[0m\n",
      "\u001b[1m\u001b[30m    … |                 98.42 |\u001b[0m\n",
      "\u001b[1m\u001b[30m    … |                 98.62 |\u001b[0m\n",
      "\u001b[1m\u001b[30m    … |                      …|\u001b[0m\n",
      "\u001b[1m\u001b[30m    … |                 98.93 |\u001b[0m\n",
      "\u001b[1m\u001b[30m    … |                 99.06 |\u001b[0m\n",
      "\u001b[1m\u001b[30m    … |                 99.08 |\u001b[0m\n",
      "\u001b[1m\u001b[30m    … |                 99.14 |\u001b[0m\n",
      "\u001b[1m\u001b[30m    … |                 99.11 |\u001b[0m\n",
      "\u001b[1m\u001b[30m    … +-----------------------+\u001b[0m\n"
     ]
    }
   ],
   "source": [
    "epochs = 15\n",
    "running_loss_history = []\n",
    "running_accu_history = []\n",
    "val_running_loss_history = []\n",
    "val_running_accu_history = []\n",
    "\n",
    "dataframe = DataFrame_Generator(\"epoch\", \"loss\", \"accuracy\", \"validation loss\",\n",
    "                                \"validation accuracy\")\n",
    "\n",
    "for e in range(epochs):\n",
    "    running_loss = 0.0\n",
    "    running_accu = 0\n",
    "    val_running_loss = 0.0\n",
    "    val_running_accu = 0\n",
    "\n",
    "    for inputs, labels in training_loader:\n",
    "        inputs = inputs.to(device)\n",
    "        labels = labels.to(device)\n",
    "        outputs = model(inputs)\n",
    "        loss = criterion(outputs, labels)\n",
    "\n",
    "        optimizer.zero_grad()\n",
    "        loss.backward()\n",
    "        optimizer.step()\n",
    "\n",
    "        _, preds = torch.max(outputs, 1)\n",
    "        running_loss += loss.item()\n",
    "        running_accu += torch.sum(preds == labels.data)\n",
    "\n",
    "    else:\n",
    "        with torch.no_grad():\n",
    "            for val_inputs, val_labels in validation_loader:\n",
    "                val_inputs = val_inputs.to(device)\n",
    "                val_labels = val_labels.to(device)\n",
    "                val_outputs = model(val_inputs)\n",
    "                val_loss = criterion(val_outputs, val_labels)\n",
    "\n",
    "                _, val_preds = torch.max(val_outputs, 1)\n",
    "                val_running_loss += val_loss.item()\n",
    "                val_running_accu += torch.sum(val_preds == val_labels.data)\n",
    "\n",
    "        epoch_loss = running_loss / len(training_loader)\n",
    "        epoch_accu = running_accu.float() / len(training_loader)\n",
    "        running_loss_history.append(epoch_loss)\n",
    "        running_accu_history.append(epoch_accu)\n",
    "\n",
    "        val_epoch_loss = val_running_loss / len(validation_loader)\n",
    "        val_epoch_accu = val_running_accu.float() / len(validation_loader)\n",
    "        val_running_loss_history.append(val_epoch_loss)\n",
    "        val_running_accu_history.append(val_epoch_accu)\n",
    "\n",
    "        dataframe.updater(e + 1, epoch_loss, epoch_accu.item(), val_epoch_loss,\n",
    "                          val_epoch_accu.item())\n",
    "\n",
    "tabulation = Form_Generator()\n",
    "tabulation.heading_printer(\"\")\n",
    "\n",
    "statements = [\n",
    "    \"\"\"\n",
    "for e in range(epochs):\n",
    "    running_loss = 0.0\n",
    "    running_accu = 0\n",
    "    val_running_loss = 0.0\n",
    "    val_running_accu = 0\n",
    "\n",
    "    for inputs, labels in training_loader:\n",
    "        inputs = inputs.to(device)\n",
    "        labels = labels.to(device)\n",
    "        outputs = model(inputs)\n",
    "        loss = criterion(outputs, labels)\n",
    "\n",
    "        optimizer.zero_grad()\n",
    "        loss.backward()\n",
    "        optimizer.step()\n",
    "\n",
    "        _, preds = torch.max(outputs, 1)\n",
    "        running_loss += loss.item()\n",
    "        running_accu += torch.sum(preds == labels.data)\n",
    "\n",
    "    else:\n",
    "        with torch.no_grad():\n",
    "            for val_inputs, val_labels in validation_loader:\n",
    "                val_inputs = val_inputs.to(device)\n",
    "                val_labels = val_labels.to(device)\n",
    "                val_outputs = model(val_inputs)\n",
    "                val_loss = criterion(val_outputs, val_labels)\n",
    "\n",
    "                _, val_preds = torch.max(val_outputs, 1)\n",
    "                val_running_loss += val_loss.item()\n",
    "                val_running_accu += torch.sum(val_preds == val_labels.data)\n",
    "\n",
    "        epoch_loss = running_loss / len(training_loader)\n",
    "        epoch_accu = running_accu.float() / len(training_loader)\n",
    "        running_loss_history.append(epoch_loss)\n",
    "        running_accu_history.append(epoch_accu)\n",
    "\n",
    "        val_epoch_loss = val_running_loss / len(validation_loader)\n",
    "        val_epoch_accu = val_running_accu.float() / len(validation_loader)\n",
    "        val_running_loss_history.append(val_epoch_loss)\n",
    "        val_running_accu_history.append(val_epoch_accu)\n",
    "\n",
    "        dataframe.updater(e + 1, epoch_loss, epoch_accu.item(), val_epoch_loss,\n",
    "                          val_epoch_accu.item())\n",
    "\"\"\"\n",
    "]\n",
    "tabulation.statement_generator(statements)\n",
    "\n",
    "variables = [\n",
    "    \"epochs\", \"running_loss_history\", \"running_accu_history\",\n",
    "    \"val_running_loss_history\", \"val_running_accu_history\"\n",
    "]\n",
    "values = [\n",
    "    str(epochs),\n",
    "    str(reprlib_rules.repr(running_loss_history)),\n",
    "    str(reprlib_rules.repr(running_accu_history)),\n",
    "    str(reprlib_rules.repr(val_running_loss_history)),\n",
    "    str(reprlib_rules.repr(val_running_accu_history))\n",
    "]\n",
    "tabulation.variable_generator(variables, values, expandtabs=1)\n",
    "\n",
    "df_table = dataframe.tabulation()\n",
    "tabulation.dataframe_generator(df_table)"
   ]
  },
  {
   "cell_type": "code",
   "execution_count": null,
   "id": "5686e629",
   "metadata": {
    "ExecuteTime": {
     "end_time": "2023-01-12T20:31:02.655969Z",
     "start_time": "2023-01-12T20:31:02.653771Z"
    }
   },
   "outputs": [],
   "source": []
  },
  {
   "cell_type": "code",
   "execution_count": null,
   "id": "7cd8f3ad",
   "metadata": {
    "ExecuteTime": {
     "end_time": "2023-01-12T20:31:02.664221Z",
     "start_time": "2023-01-12T20:31:02.659884Z"
    }
   },
   "outputs": [],
   "source": []
  }
 ],
 "metadata": {
  "hide_input": false,
  "kernelspec": {
   "display_name": "Python 3 (ipykernel)",
   "language": "python",
   "name": "python3"
  },
  "language_info": {
   "codemirror_mode": {
    "name": "ipython",
    "version": 3
   },
   "file_extension": ".py",
   "mimetype": "text/x-python",
   "name": "python",
   "nbconvert_exporter": "python",
   "pygments_lexer": "ipython3",
   "version": "3.9.15"
  },
  "nbTranslate": {
   "displayLangs": [
    "*"
   ],
   "hotkey": "alt-t",
   "langInMainMenu": true,
   "sourceLang": "en",
   "targetLang": "fr",
   "useGoogleTranslate": true
  },
  "toc": {
   "base_numbering": 1,
   "nav_menu": {},
   "number_sections": true,
   "sideBar": true,
   "skip_h1_title": false,
   "title_cell": "Table of Contents",
   "title_sidebar": "Contents",
   "toc_cell": false,
   "toc_position": {
    "height": "calc(100% - 180px)",
    "left": "10px",
    "top": "150px",
    "width": "345.594px"
   },
   "toc_section_display": true,
   "toc_window_display": true
  },
  "varInspector": {
   "cols": {
    "lenName": 16,
    "lenType": 16,
    "lenVar": 40
   },
   "kernels_config": {
    "python": {
     "delete_cmd_postfix": "",
     "delete_cmd_prefix": "del ",
     "library": "var_list.py",
     "varRefreshCmd": "print(var_dic_list())"
    },
    "r": {
     "delete_cmd_postfix": ") ",
     "delete_cmd_prefix": "rm(",
     "library": "var_list.r",
     "varRefreshCmd": "cat(var_dic_list()) "
    }
   },
   "types_to_exclude": [
    "module",
    "function",
    "builtin_function_or_method",
    "instance",
    "_Feature"
   ],
   "window_display": false
  }
 },
 "nbformat": 4,
 "nbformat_minor": 5
}

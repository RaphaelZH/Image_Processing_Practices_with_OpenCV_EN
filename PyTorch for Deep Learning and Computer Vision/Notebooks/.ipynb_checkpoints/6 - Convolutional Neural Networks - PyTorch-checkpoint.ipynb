{
 "cells": [
  {
   "cell_type": "markdown",
   "id": "aaaf9137",
   "metadata": {},
   "source": [
    "# Importing Libraries"
   ]
  },
  {
   "cell_type": "code",
   "execution_count": 1,
   "id": "444b4926",
   "metadata": {
    "ExecuteTime": {
     "end_time": "2023-01-12T19:47:47.966423Z",
     "start_time": "2023-01-12T19:47:46.872630Z"
    }
   },
   "outputs": [],
   "source": [
    "import torch\n",
    "from torch import nn\n",
    "import torch.nn.functional as F\n",
    "from torchvision import datasets, transforms\n",
    "\n",
    "#import numpy as np\n",
    "\n",
    "#import requests\n",
    "\n",
    "import matplotlib as mpl\n",
    "#import matplotlib.gridspec as gridspec\n",
    "import matplotlib.pyplot as plt\n",
    "#from mpl_toolkits.axes_grid1.inset_locator import inset_axes\n",
    "\n",
    "#from PIL import Image, ImageOps\n",
    "\n",
    "#import reprlib\n",
    "import sys"
   ]
  },
  {
   "cell_type": "markdown",
   "id": "9f62ce0f",
   "metadata": {},
   "source": [
    "# Configuring Visualization Parameters"
   ]
  },
  {
   "cell_type": "code",
   "execution_count": 2,
   "id": "98e4893c",
   "metadata": {
    "ExecuteTime": {
     "end_time": "2023-01-12T19:47:47.975150Z",
     "start_time": "2023-01-12T19:47:47.967623Z"
    }
   },
   "outputs": [],
   "source": [
    "%matplotlib inline"
   ]
  },
  {
   "cell_type": "code",
   "execution_count": 3,
   "id": "d4c30a7d",
   "metadata": {
    "ExecuteTime": {
     "end_time": "2023-01-12T19:47:47.977942Z",
     "start_time": "2023-01-12T19:47:47.976016Z"
    }
   },
   "outputs": [],
   "source": [
    "XINHUI = \"#7a7374\"\n",
    "XUEBAI = \"#fffef9\"\n",
    "YINBAI = \"#f1f0ed\"\n",
    "YINHUI = \"#918072\"\n",
    "\n",
    "figure_size = (16, 9)"
   ]
  },
  {
   "cell_type": "code",
   "execution_count": 4,
   "id": "c96adaa6",
   "metadata": {
    "ExecuteTime": {
     "end_time": "2023-01-12T19:47:47.981764Z",
     "start_time": "2023-01-12T19:47:47.979574Z"
    }
   },
   "outputs": [],
   "source": [
    "custom_params = {\n",
    "    \"axes.axisbelow\": True,\n",
    "    \"axes.edgecolor\": YINBAI,\n",
    "    \"axes.facecolor\": XUEBAI,\n",
    "    \"axes.grid\": True,\n",
    "    \"axes.labelcolor\": XINHUI,\n",
    "    \"axes.spines.right\": False,\n",
    "    \"axes.spines.top\": False,\n",
    "    \"axes.titlecolor\": XINHUI,\n",
    "    \"figure.edgecolor\": YINBAI,\n",
    "    \"figure.facecolor\": XUEBAI,\n",
    "    \"grid.alpha\": .8,\n",
    "    \"grid.color\": YINBAI,\n",
    "    \"grid.linestyle\": \"--\",\n",
    "    \"grid.linewidth\": 1.2,\n",
    "    \"legend.edgecolor\": YINHUI,\n",
    "    \"patch.edgecolor\": XUEBAI,\n",
    "    \"patch.force_edgecolor\": True,\n",
    "    \"text.color\": XINHUI,\n",
    "    \"xtick.color\": YINHUI,\n",
    "    \"ytick.color\": YINHUI,\n",
    "}\n",
    "\n",
    "mpl.rcParams.update(custom_params)"
   ]
  },
  {
   "cell_type": "markdown",
   "id": "f48a4484",
   "metadata": {},
   "source": [
    "# Configuring Pre-configured Parameters"
   ]
  },
  {
   "cell_type": "code",
   "execution_count": 5,
   "id": "2e344cf2",
   "metadata": {
    "ExecuteTime": {
     "end_time": "2023-01-12T19:47:47.984518Z",
     "start_time": "2023-01-12T19:47:47.982784Z"
    }
   },
   "outputs": [],
   "source": [
    "transform = transforms.Compose([\n",
    "    transforms.Resize((28, 28)),\n",
    "    transforms.ToTensor(),\n",
    "    transforms.Normalize((0.5, ), (0.5, ))\n",
    "])"
   ]
  },
  {
   "cell_type": "markdown",
   "id": "4fad658d",
   "metadata": {},
   "source": [
    "# Configuring Other Notebook Parameters"
   ]
  },
  {
   "cell_type": "code",
   "execution_count": 6,
   "id": "8e37712a",
   "metadata": {
    "ExecuteTime": {
     "end_time": "2023-01-12T19:47:47.987070Z",
     "start_time": "2023-01-12T19:47:47.985616Z"
    }
   },
   "outputs": [],
   "source": [
    "#reprlib_rules = reprlib.Repr()\n",
    "#reprlib_rules.maxother = 250"
   ]
  },
  {
   "cell_type": "markdown",
   "id": "83421c04",
   "metadata": {},
   "source": [
    "# Pre-installing Custom Functions"
   ]
  },
  {
   "cell_type": "code",
   "execution_count": 7,
   "id": "22b163a3",
   "metadata": {
    "ExecuteTime": {
     "end_time": "2023-01-12T19:47:47.989437Z",
     "start_time": "2023-01-12T19:47:47.987920Z"
    }
   },
   "outputs": [],
   "source": [
    "sys.path.append(\"../\")"
   ]
  },
  {
   "cell_type": "code",
   "execution_count": 8,
   "id": "5806d1bf",
   "metadata": {
    "ExecuteTime": {
     "end_time": "2023-01-12T19:47:48.153961Z",
     "start_time": "2023-01-12T19:47:47.990304Z"
    }
   },
   "outputs": [],
   "source": [
    "from Modules import *"
   ]
  },
  {
   "cell_type": "markdown",
   "id": "f2e7bffd",
   "metadata": {},
   "source": [
    "# Loading Datasets"
   ]
  },
  {
   "cell_type": "code",
   "execution_count": 9,
   "id": "f183263a",
   "metadata": {
    "ExecuteTime": {
     "end_time": "2023-01-12T19:47:48.190825Z",
     "start_time": "2023-01-12T19:47:48.154837Z"
    }
   },
   "outputs": [],
   "source": [
    "training_dataset = datasets.MNIST(root=\"../Datasets\",\n",
    "                                  train=True,\n",
    "                                  download=True,\n",
    "                                  transform=transform)\n",
    "\n",
    "validation_dataset = datasets.MNIST(root=\"../Datasets\",\n",
    "                                    train=False,\n",
    "                                    download=True,\n",
    "                                    transform=transform)"
   ]
  },
  {
   "cell_type": "code",
   "execution_count": 10,
   "id": "3f5ad1b9",
   "metadata": {
    "ExecuteTime": {
     "end_time": "2023-01-12T19:47:48.197715Z",
     "start_time": "2023-01-12T19:47:48.195373Z"
    }
   },
   "outputs": [],
   "source": [
    "training_loader = torch.utils.data.DataLoader(training_dataset,\n",
    "                                              batch_size=100,\n",
    "                                              shuffle=True)\n",
    "\n",
    "validation_loader = torch.utils.data.DataLoader(validation_dataset,\n",
    "                                                batch_size=100,\n",
    "                                                shuffle=False)"
   ]
  },
  {
   "cell_type": "markdown",
   "id": "37c255c2",
   "metadata": {
    "ExecuteTime": {
     "end_time": "2023-01-12T17:56:18.222325Z",
     "start_time": "2023-01-12T17:56:18.218703Z"
    }
   },
   "source": [
    "# Practicing in Stages\n",
    "\n",
    "## Neural Network Implementation with PyTorch"
   ]
  },
  {
   "cell_type": "code",
   "execution_count": 11,
   "id": "a494e650",
   "metadata": {
    "ExecuteTime": {
     "end_time": "2023-01-12T19:47:48.203392Z",
     "start_time": "2023-01-12T19:47:48.198865Z"
    }
   },
   "outputs": [
    {
     "name": "stdout",
     "output_type": "stream",
     "text": [
      "\u001b[4m\u001b[31mModule class definition for a convolutional neural network \u001b[0m\n",
      "\n",
      "\u001b[1m\u001b[31m    +-----------------------------------------------+\u001b[0m\n",
      "\u001b[1m\u001b[31m    | Definition                                    |\u001b[0m\n",
      "\u001b[1m\u001b[31m    +-----------------------------------------------+\u001b[0m\n",
      "\u001b[1m\u001b[31m    | class LeNet(nn.Module):                       |\u001b[0m\n",
      "\u001b[1m\u001b[31m    |                                               |\u001b[0m\n",
      "\u001b[1m\u001b[31m    |     def __init__(self):                       |\u001b[0m\n",
      "\u001b[1m\u001b[31m    |         super().__init__()                    |\u001b[0m\n",
      "\u001b[1m\u001b[31m    |         self.conv1 = nn.Conv2d(1, 20, 5, 1)   |\u001b[0m\n",
      "\u001b[1m\u001b[31m    |         self.conv2 = nn.Conv2d(20, 50, 5, 1)  |\u001b[0m\n",
      "\u001b[1m\u001b[31m    |         self.fc1 = nn.Linear(4 * 4 * 50, 500) |\u001b[0m\n",
      "\u001b[1m\u001b[31m    |         self.fc2 = nn.Linear(500, 10)         |\u001b[0m\n",
      "\u001b[1m\u001b[31m    |                                               |\u001b[0m\n",
      "\u001b[1m\u001b[31m    |     def forward(self, x):                     |\u001b[0m\n",
      "\u001b[1m\u001b[31m    |         x = F.relu(self.conv1(x))             |\u001b[0m\n",
      "\u001b[1m\u001b[31m    |         x = F.max_pool2d(x, 2, 2)             |\u001b[0m\n",
      "\u001b[1m\u001b[31m    |         x = F.relu(self.conv2(x))             |\u001b[0m\n",
      "\u001b[1m\u001b[31m    |         x = F.max_pool2d(x, 2, 2)             |\u001b[0m\n",
      "\u001b[1m\u001b[31m    |         x = x.view(-1, 4 * 4 * 50)            |\u001b[0m\n",
      "\u001b[1m\u001b[31m    |         x = F.relu(self.fc1(x))               |\u001b[0m\n",
      "\u001b[1m\u001b[31m    |         x = self.fc2(x)                       |\u001b[0m\n",
      "\u001b[1m\u001b[31m    |         return x                              |\u001b[0m\n",
      "\u001b[1m\u001b[31m    +-----------------------------------------------+\u001b[0m\n"
     ]
    }
   ],
   "source": [
    "class LeNet(nn.Module):\n",
    "\n",
    "    def __init__(self):\n",
    "        super().__init__()\n",
    "        self.conv1 = nn.Conv2d(1, 20, 5, 1)\n",
    "        self.conv2 = nn.Conv2d(20, 50, 5, 1)\n",
    "        self.fc1 = nn.Linear(4 * 4 * 50, 500)\n",
    "        self.fc2 = nn.Linear(500, 10)\n",
    "\n",
    "    def forward(self, x):\n",
    "        x = F.relu(self.conv1(x))\n",
    "        x = F.max_pool2d(x, 2, 2)\n",
    "        x = F.relu(self.conv2(x))\n",
    "        x = F.max_pool2d(x, 2, 2)\n",
    "        x = x.view(-1, 4 * 4 * 50)\n",
    "        x = F.relu(self.fc1(x))\n",
    "        x = self.fc2(x)\n",
    "        return x\n",
    "\n",
    "\n",
    "tabulation = Form_Generator()\n",
    "tabulation.heading_printer(\n",
    "    \"Module class definition for a convolutional neural network \")\n",
    "\n",
    "definitions = [\n",
    "    \"\"\"\n",
    "class LeNet(nn.Module):\n",
    "\n",
    "    def __init__(self):\n",
    "        super().__init__()\n",
    "        self.conv1 = nn.Conv2d(1, 20, 5, 1)\n",
    "        self.conv2 = nn.Conv2d(20, 50, 5, 1)\n",
    "        self.fc1 = nn.Linear(4 * 4 * 50, 500)\n",
    "        self.fc2 = nn.Linear(500, 10)\n",
    "\n",
    "    def forward(self, x):\n",
    "        x = F.relu(self.conv1(x))\n",
    "        x = F.max_pool2d(x, 2, 2)\n",
    "        x = F.relu(self.conv2(x))\n",
    "        x = F.max_pool2d(x, 2, 2)\n",
    "        x = x.view(-1, 4 * 4 * 50)\n",
    "        x = F.relu(self.fc1(x))\n",
    "        x = self.fc2(x)\n",
    "        return x\n",
    "\"\"\"\n",
    "]\n",
    "tabulation.definition_generator(definitions)"
   ]
  },
  {
   "cell_type": "code",
   "execution_count": null,
   "id": "54fa874e",
   "metadata": {
    "ExecuteTime": {
     "end_time": "2023-01-12T17:56:18.229179Z",
     "start_time": "2023-01-12T17:56:18.227222Z"
    }
   },
   "outputs": [],
   "source": []
  },
  {
   "cell_type": "code",
   "execution_count": null,
   "id": "fc5e8f13",
   "metadata": {},
   "outputs": [],
   "source": []
  }
 ],
 "metadata": {
  "hide_input": false,
  "kernelspec": {
   "display_name": "Python 3 (ipykernel)",
   "language": "python",
   "name": "python3"
  },
  "language_info": {
   "codemirror_mode": {
    "name": "ipython",
    "version": 3
   },
   "file_extension": ".py",
   "mimetype": "text/x-python",
   "name": "python",
   "nbconvert_exporter": "python",
   "pygments_lexer": "ipython3",
   "version": "3.9.15"
  },
  "nbTranslate": {
   "displayLangs": [
    "*"
   ],
   "hotkey": "alt-t",
   "langInMainMenu": true,
   "sourceLang": "en",
   "targetLang": "fr",
   "useGoogleTranslate": true
  },
  "toc": {
   "base_numbering": 1,
   "nav_menu": {},
   "number_sections": true,
   "sideBar": true,
   "skip_h1_title": false,
   "title_cell": "Table of Contents",
   "title_sidebar": "Contents",
   "toc_cell": false,
   "toc_position": {
    "height": "calc(100% - 180px)",
    "left": "10px",
    "top": "150px",
    "width": "345.594px"
   },
   "toc_section_display": true,
   "toc_window_display": true
  },
  "varInspector": {
   "cols": {
    "lenName": 16,
    "lenType": 16,
    "lenVar": 40
   },
   "kernels_config": {
    "python": {
     "delete_cmd_postfix": "",
     "delete_cmd_prefix": "del ",
     "library": "var_list.py",
     "varRefreshCmd": "print(var_dic_list())"
    },
    "r": {
     "delete_cmd_postfix": ") ",
     "delete_cmd_prefix": "rm(",
     "library": "var_list.r",
     "varRefreshCmd": "cat(var_dic_list()) "
    }
   },
   "types_to_exclude": [
    "module",
    "function",
    "builtin_function_or_method",
    "instance",
    "_Feature"
   ],
   "window_display": false
  }
 },
 "nbformat": 4,
 "nbformat_minor": 5
}

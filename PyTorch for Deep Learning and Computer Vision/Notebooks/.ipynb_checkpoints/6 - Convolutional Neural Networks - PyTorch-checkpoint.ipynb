{
 "cells": [
  {
   "cell_type": "markdown",
   "id": "aaaf9137",
   "metadata": {},
   "source": [
    "# Importing Libraries"
   ]
  },
  {
   "cell_type": "code",
   "execution_count": 1,
   "id": "444b4926",
   "metadata": {
    "ExecuteTime": {
     "end_time": "2023-01-12T20:28:00.974381Z",
     "start_time": "2023-01-12T20:27:59.796181Z"
    }
   },
   "outputs": [],
   "source": [
    "import torch\n",
    "from torch import nn\n",
    "import torch.nn.functional as F\n",
    "from torchvision import datasets, transforms\n",
    "\n",
    "#import numpy as np\n",
    "\n",
    "#import requests\n",
    "\n",
    "import matplotlib as mpl\n",
    "#import matplotlib.gridspec as gridspec\n",
    "import matplotlib.pyplot as plt\n",
    "#from mpl_toolkits.axes_grid1.inset_locator import inset_axes\n",
    "\n",
    "#from PIL import Image, ImageOps\n",
    "\n",
    "import reprlib\n",
    "import sys"
   ]
  },
  {
   "cell_type": "markdown",
   "id": "9f62ce0f",
   "metadata": {},
   "source": [
    "# Configuring Visualization Parameters"
   ]
  },
  {
   "cell_type": "code",
   "execution_count": 2,
   "id": "98e4893c",
   "metadata": {
    "ExecuteTime": {
     "end_time": "2023-01-12T20:28:00.985002Z",
     "start_time": "2023-01-12T20:28:00.977392Z"
    }
   },
   "outputs": [],
   "source": [
    "%matplotlib inline"
   ]
  },
  {
   "cell_type": "code",
   "execution_count": 3,
   "id": "d4c30a7d",
   "metadata": {
    "ExecuteTime": {
     "end_time": "2023-01-12T20:28:00.989025Z",
     "start_time": "2023-01-12T20:28:00.987137Z"
    }
   },
   "outputs": [],
   "source": [
    "XINHUI = \"#7a7374\"\n",
    "XUEBAI = \"#fffef9\"\n",
    "YINBAI = \"#f1f0ed\"\n",
    "YINHUI = \"#918072\"\n",
    "\n",
    "figure_size = (16, 9)"
   ]
  },
  {
   "cell_type": "code",
   "execution_count": 4,
   "id": "c96adaa6",
   "metadata": {
    "ExecuteTime": {
     "end_time": "2023-01-12T20:28:00.993685Z",
     "start_time": "2023-01-12T20:28:00.991378Z"
    }
   },
   "outputs": [],
   "source": [
    "custom_params = {\n",
    "    \"axes.axisbelow\": True,\n",
    "    \"axes.edgecolor\": YINBAI,\n",
    "    \"axes.facecolor\": XUEBAI,\n",
    "    \"axes.grid\": True,\n",
    "    \"axes.labelcolor\": XINHUI,\n",
    "    \"axes.spines.right\": False,\n",
    "    \"axes.spines.top\": False,\n",
    "    \"axes.titlecolor\": XINHUI,\n",
    "    \"figure.edgecolor\": YINBAI,\n",
    "    \"figure.facecolor\": XUEBAI,\n",
    "    \"grid.alpha\": .8,\n",
    "    \"grid.color\": YINBAI,\n",
    "    \"grid.linestyle\": \"--\",\n",
    "    \"grid.linewidth\": 1.2,\n",
    "    \"legend.edgecolor\": YINHUI,\n",
    "    \"patch.edgecolor\": XUEBAI,\n",
    "    \"patch.force_edgecolor\": True,\n",
    "    \"text.color\": XINHUI,\n",
    "    \"xtick.color\": YINHUI,\n",
    "    \"ytick.color\": YINHUI,\n",
    "}\n",
    "\n",
    "mpl.rcParams.update(custom_params)"
   ]
  },
  {
   "cell_type": "markdown",
   "id": "0081f48f",
   "metadata": {},
   "source": [
    "# Configuring Pre-configured Parameters"
   ]
  },
  {
   "cell_type": "code",
   "execution_count": 5,
   "id": "b33cbe58",
   "metadata": {
    "ExecuteTime": {
     "end_time": "2023-01-12T20:28:00.996371Z",
     "start_time": "2023-01-12T20:28:00.994714Z"
    }
   },
   "outputs": [],
   "source": [
    "transform = transforms.Compose([\n",
    "    transforms.Resize((28, 28)),\n",
    "    transforms.ToTensor(),\n",
    "    transforms.Normalize((0.5, ), (0.5, ))\n",
    "])"
   ]
  },
  {
   "cell_type": "markdown",
   "id": "4fad658d",
   "metadata": {},
   "source": [
    "# Configuring Other Notebook Parameters"
   ]
  },
  {
   "cell_type": "code",
   "execution_count": 6,
   "id": "8e37712a",
   "metadata": {
    "ExecuteTime": {
     "end_time": "2023-01-12T20:28:00.998847Z",
     "start_time": "2023-01-12T20:28:00.997125Z"
    }
   },
   "outputs": [],
   "source": [
    "reprlib_rules = reprlib.Repr()\n",
    "reprlib_rules.maxother = 250"
   ]
  },
  {
   "cell_type": "markdown",
   "id": "83421c04",
   "metadata": {},
   "source": [
    "# Pre-installing Custom Functions"
   ]
  },
  {
   "cell_type": "code",
   "execution_count": 7,
   "id": "22b163a3",
   "metadata": {
    "ExecuteTime": {
     "end_time": "2023-01-12T20:28:01.001907Z",
     "start_time": "2023-01-12T20:28:00.999769Z"
    }
   },
   "outputs": [],
   "source": [
    "sys.path.append(\"../\")"
   ]
  },
  {
   "cell_type": "code",
   "execution_count": 8,
   "id": "5806d1bf",
   "metadata": {
    "ExecuteTime": {
     "end_time": "2023-01-12T20:28:01.182551Z",
     "start_time": "2023-01-12T20:28:01.003209Z"
    }
   },
   "outputs": [],
   "source": [
    "from Modules import *"
   ]
  },
  {
   "cell_type": "markdown",
   "id": "a9dfaf32",
   "metadata": {},
   "source": [
    "# Loading Datasets"
   ]
  },
  {
   "cell_type": "code",
   "execution_count": 9,
   "id": "1e134f9a",
   "metadata": {
    "ExecuteTime": {
     "end_time": "2023-01-12T20:28:01.213550Z",
     "start_time": "2023-01-12T20:28:01.183549Z"
    }
   },
   "outputs": [],
   "source": [
    "training_dataset = datasets.MNIST(root=\"../Datasets\",\n",
    "                                  train=True,\n",
    "                                  download=True,\n",
    "                                  transform=transform)\n",
    "\n",
    "validation_dataset = datasets.MNIST(root=\"../Datasets\",\n",
    "                                    train=False,\n",
    "                                    download=True,\n",
    "                                    transform=transform)"
   ]
  },
  {
   "cell_type": "code",
   "execution_count": 10,
   "id": "7330ca69",
   "metadata": {
    "ExecuteTime": {
     "end_time": "2023-01-12T20:28:01.217477Z",
     "start_time": "2023-01-12T20:28:01.215457Z"
    }
   },
   "outputs": [],
   "source": [
    "training_loader = torch.utils.data.DataLoader(training_dataset,\n",
    "                                              batch_size=100,\n",
    "                                              shuffle=True)\n",
    "\n",
    "validation_loader = torch.utils.data.DataLoader(validation_dataset,\n",
    "                                                batch_size=100,\n",
    "                                                shuffle=False)"
   ]
  },
  {
   "cell_type": "markdown",
   "id": "ba625b97",
   "metadata": {
    "ExecuteTime": {
     "end_time": "2023-01-12T17:56:18.222325Z",
     "start_time": "2023-01-12T17:56:18.218703Z"
    }
   },
   "source": [
    "# Practicing in Stages\n",
    "\n",
    "## Neural Network Implementation with PyTorch"
   ]
  },
  {
   "cell_type": "code",
   "execution_count": 11,
   "id": "ff1bdb2a",
   "metadata": {
    "ExecuteTime": {
     "end_time": "2023-01-12T20:28:01.222778Z",
     "start_time": "2023-01-12T20:28:01.218457Z"
    }
   },
   "outputs": [
    {
     "name": "stdout",
     "output_type": "stream",
     "text": [
      "\u001b[4m\u001b[33mDefinition of custom convolutional neural module class\u001b[0m\n",
      "\n",
      "\u001b[1m\u001b[33m    +-----------------------------------------------+\u001b[0m\n",
      "\u001b[1m\u001b[33m    | Definition                                    |\u001b[0m\n",
      "\u001b[1m\u001b[33m    +-----------------------------------------------+\u001b[0m\n",
      "\u001b[1m\u001b[33m    | class LeNet(nn.Module):                       |\u001b[0m\n",
      "\u001b[1m\u001b[33m    |                                               |\u001b[0m\n",
      "\u001b[1m\u001b[33m    |     def __init__(self):                       |\u001b[0m\n",
      "\u001b[1m\u001b[33m    |         super().__init__()                    |\u001b[0m\n",
      "\u001b[1m\u001b[33m    |         self.conv1 = nn.Conv2d(1, 20, 5, 1)   |\u001b[0m\n",
      "\u001b[1m\u001b[33m    |         self.conv2 = nn.Conv2d(20, 50, 5, 1)  |\u001b[0m\n",
      "\u001b[1m\u001b[33m    |         self.fc1 = nn.Linear(4 * 4 * 50, 500) |\u001b[0m\n",
      "\u001b[1m\u001b[33m    |         self.fc2 = nn.Linear(500, 10)         |\u001b[0m\n",
      "\u001b[1m\u001b[33m    |                                               |\u001b[0m\n",
      "\u001b[1m\u001b[33m    |     def forward(self, x):                     |\u001b[0m\n",
      "\u001b[1m\u001b[33m    |         x = F.relu(self.conv1(x))             |\u001b[0m\n",
      "\u001b[1m\u001b[33m    |         x = F.max_pool2d(x, 2, 2)             |\u001b[0m\n",
      "\u001b[1m\u001b[33m    |         x = F.relu(self.conv2(x))             |\u001b[0m\n",
      "\u001b[1m\u001b[33m    |         x = F.max_pool2d(x, 2, 2)             |\u001b[0m\n",
      "\u001b[1m\u001b[33m    |         x = x.view(-1, 4 * 4 * 50)            |\u001b[0m\n",
      "\u001b[1m\u001b[33m    |         x = F.relu(self.fc1(x))               |\u001b[0m\n",
      "\u001b[1m\u001b[33m    |         x = self.fc2(x)                       |\u001b[0m\n",
      "\u001b[1m\u001b[33m    |         return x                              |\u001b[0m\n",
      "\u001b[1m\u001b[33m    +-----------------------------------------------+\u001b[0m\n"
     ]
    }
   ],
   "source": [
    "class LeNet(nn.Module):\n",
    "\n",
    "    def __init__(self):\n",
    "        super().__init__()\n",
    "        self.conv1 = nn.Conv2d(1, 20, 5, 1)\n",
    "        self.conv2 = nn.Conv2d(20, 50, 5, 1)\n",
    "        self.fc1 = nn.Linear(4 * 4 * 50, 500)\n",
    "        self.fc2 = nn.Linear(500, 10)\n",
    "\n",
    "    def forward(self, x):\n",
    "        x = F.relu(self.conv1(x))\n",
    "        x = F.max_pool2d(x, 2, 2)\n",
    "        x = F.relu(self.conv2(x))\n",
    "        x = F.max_pool2d(x, 2, 2)\n",
    "        x = x.view(-1, 4 * 4 * 50)\n",
    "        x = F.relu(self.fc1(x))\n",
    "        x = self.fc2(x)\n",
    "        return x\n",
    "\n",
    "\n",
    "tabulation = Form_Generator()\n",
    "tabulation.heading_printer(\n",
    "    \"Definition of custom convolutional neural module class\")\n",
    "\n",
    "definitions = [\n",
    "    \"\"\"\n",
    "class LeNet(nn.Module):\n",
    "\n",
    "    def __init__(self):\n",
    "        super().__init__()\n",
    "        self.conv1 = nn.Conv2d(1, 20, 5, 1)\n",
    "        self.conv2 = nn.Conv2d(20, 50, 5, 1)\n",
    "        self.fc1 = nn.Linear(4 * 4 * 50, 500)\n",
    "        self.fc2 = nn.Linear(500, 10)\n",
    "\n",
    "    def forward(self, x):\n",
    "        x = F.relu(self.conv1(x))\n",
    "        x = F.max_pool2d(x, 2, 2)\n",
    "        x = F.relu(self.conv2(x))\n",
    "        x = F.max_pool2d(x, 2, 2)\n",
    "        x = x.view(-1, 4 * 4 * 50)\n",
    "        x = F.relu(self.fc1(x))\n",
    "        x = self.fc2(x)\n",
    "        return x\n",
    "\"\"\"\n",
    "]\n",
    "tabulation.definition_generator(definitions)"
   ]
  },
  {
   "cell_type": "markdown",
   "id": "9117cc95",
   "metadata": {
    "ExecuteTime": {
     "end_time": "2023-01-12T17:56:18.229179Z",
     "start_time": "2023-01-12T17:56:18.227222Z"
    }
   },
   "source": [
    "## Model Training with PyTorch"
   ]
  },
  {
   "cell_type": "code",
   "execution_count": 12,
   "id": "b80ece7b",
   "metadata": {
    "ExecuteTime": {
     "end_time": "2023-01-12T20:28:01.239631Z",
     "start_time": "2023-01-12T20:28:01.223663Z"
    }
   },
   "outputs": [
    {
     "name": "stdout",
     "output_type": "stream",
     "text": [
      "\u001b[4m\u001b[30mInitialization of custom convolutional neural module class\u001b[0m\n",
      "\n",
      "\u001b[1m\u001b[30m    +-----------------+\u001b[0m\n",
      "\u001b[1m\u001b[30m    | Statement       |\u001b[0m\n",
      "\u001b[1m\u001b[30m    +-----------------+\u001b[0m\n",
      "\u001b[1m\u001b[30m    | model = LeNet() |\u001b[0m\n",
      "\u001b[1m\u001b[30m    +-----------------+\u001b[0m\n",
      "\u001b[1m\u001b[30m    +----------+-----------------------------------------------+\u001b[0m\n",
      "\u001b[1m\u001b[30m    | Variable | Value                                         |\u001b[0m\n",
      "\u001b[1m\u001b[30m    +----------+-----------------------------------------------+\u001b[0m\n",
      "\u001b[1m\u001b[30m    | model    | LeNet(                                        |\u001b[0m\n",
      "\u001b[1m\u001b[30m    |          |   (conv1): Conv2d(1, 20, kernel_size=(5, 5),  |\u001b[0m\n",
      "\u001b[1m\u001b[30m    |          |         stride=(1, 1))                        |\u001b[0m\n",
      "\u001b[1m\u001b[30m    |          |   (conv2): Conv2d(20, 50, kernel_size=(5, 5), |\u001b[0m\n",
      "\u001b[1m\u001b[30m    |          |         stride=(1, 1))                        |\u001b[0m\n",
      "\u001b[1m\u001b[30m    |          |   (fc1): Linear(in_features=800,              |\u001b[0m\n",
      "\u001b[1m\u001b[30m    |          |         out_features=500, bias=True)          |\u001b[0m\n",
      "\u001b[1m\u001b[30m    |          |   (fc2): Linear(in_features=500,              |\u001b[0m\n",
      "\u001b[1m\u001b[30m    |          |         out_features=10, bias=True)           |\u001b[0m\n",
      "\u001b[1m\u001b[30m    |          | )                                             |\u001b[0m\n",
      "\u001b[1m\u001b[30m    +----------+-----------------------------------------------+\u001b[0m\n",
      "\u001b[1m\u001b[30m    +--------------------------+----------------------------------+\u001b[0m\n",
      "\u001b[1m\u001b[30m    | Expression               | Result                           |\u001b[0m\n",
      "\u001b[1m\u001b[30m    +--------------------------+----------------------------------+\u001b[0m\n",
      "\u001b[1m\u001b[30m    | list(model.parameters()) | [Parameter containing:           |\u001b[0m\n",
      "\u001b[1m\u001b[30m    |                          | tensor([[[[-0.1860, -0.1256,     |\u001b[0m\n",
      "\u001b[1m\u001b[30m    |                          |         0.0409,  0.0875,         |\u001b[0m\n",
      "\u001b[1m\u001b[30m    |                          |         0.0985],                 |\u001b[0m\n",
      "\u001b[1m\u001b[30m    |                          |           [ 0.0373,  0.1131,     |\u001b[0m\n",
      "\u001b[1m\u001b[30m    |                          |         0.1270,  0.144...0.1647, |\u001b[0m\n",
      "\u001b[1m\u001b[30m    |                          |         -0.1201, -0.1803,        |\u001b[0m\n",
      "\u001b[1m\u001b[30m    |                          |         0.0901, -0.1380],        |\u001b[0m\n",
      "\u001b[1m\u001b[30m    |                          |           [ 0.1004,  0.0430,     |\u001b[0m\n",
      "\u001b[1m\u001b[30m    |                          |         0.0372, -0.1408,         |\u001b[0m\n",
      "\u001b[1m\u001b[30m    |                          |         0.0328]]]],              |\u001b[0m\n",
      "\u001b[1m\u001b[30m    |                          |         requires_grad=True),     |\u001b[0m\n",
      "\u001b[1m\u001b[30m    |                          |         Parameter containing:    |\u001b[0m\n",
      "\u001b[1m\u001b[30m    |                          | tensor([-0.0041,  0.1558,        |\u001b[0m\n",
      "\u001b[1m\u001b[30m    |                          |         0.1100,  0.1134,         |\u001b[0m\n",
      "\u001b[1m\u001b[30m    |                          |         0.0914,  0.0995,         |\u001b[0m\n",
      "\u001b[1m\u001b[30m    |                          |         -0.1974,  0.1970,        |\u001b[0m\n",
      "\u001b[1m\u001b[30m    |                          |         -0.0332, -0.0204,        |\u001b[0m\n",
      "\u001b[1m\u001b[30m    |                          |         -0.0535,  0.0568,        |\u001b[0m\n",
      "\u001b[1m\u001b[30m    |                          |         0.1439, -0.1347,         |\u001b[0m\n",
      "\u001b[1m\u001b[30m    |                          |         0.0311, -0.0580,         |\u001b[0m\n",
      "\u001b[1m\u001b[30m    |                          |          0.1816, -0.1092,        |\u001b[0m\n",
      "\u001b[1m\u001b[30m    |                          |         -0.1133,  0.1809],       |\u001b[0m\n",
      "\u001b[1m\u001b[30m    |                          |         requires_grad=True),     |\u001b[0m\n",
      "\u001b[1m\u001b[30m    |                          |         Parameter containing:    |\u001b[0m\n",
      "\u001b[1m\u001b[30m    |                          | tensor([[[[ 2.6275e-02,          |\u001b[0m\n",
      "\u001b[1m\u001b[30m    |                          |         2.7576e-02, -3.3494e-02, |\u001b[0m\n",
      "\u001b[1m\u001b[30m    |                          |          3.0145e-02,             |\u001b[0m\n",
      "\u001b[1m\u001b[30m    |                          |         3.4221e-02],             |\u001b[0m\n",
      "\u001b[1m\u001b[30m    |                          |           [ 2.5282e-02, ...02,   |\u001b[0m\n",
      "\u001b[1m\u001b[30m    |                          |         -1.4076e-02],            |\u001b[0m\n",
      "\u001b[1m\u001b[30m    |                          |           [-2.7352e-02,          |\u001b[0m\n",
      "\u001b[1m\u001b[30m    |                          |         -1.8910e-04,             |\u001b[0m\n",
      "\u001b[1m\u001b[30m    |                          |         2.3235e-02, -2.5975e-02, |\u001b[0m\n",
      "\u001b[1m\u001b[30m    |                          |          3.9881e-02]]]],         |\u001b[0m\n",
      "\u001b[1m\u001b[30m    |                          |        requires_grad=True),      |\u001b[0m\n",
      "\u001b[1m\u001b[30m    |                          |         Parameter containing:    |\u001b[0m\n",
      "\u001b[1m\u001b[30m    |                          | tensor([-0.0063,  0.0058,        |\u001b[0m\n",
      "\u001b[1m\u001b[30m    |                          |         0.0274, -0.0400,         |\u001b[0m\n",
      "\u001b[1m\u001b[30m    |                          |         -0.0286,  0.0207,        |\u001b[0m\n",
      "\u001b[1m\u001b[30m    |                          |         0.0121, -0.0411,         |\u001b[0m\n",
      "\u001b[1m\u001b[30m    |                          |         -0.0335, -0.0...         |\u001b[0m\n",
      "\u001b[1m\u001b[30m    |                          |         -0.0207, -0.0306,        |\u001b[0m\n",
      "\u001b[1m\u001b[30m    |                          |         -0.0053, -0.0298,        |\u001b[0m\n",
      "\u001b[1m\u001b[30m    |                          |         0.0111, -0.0258,         |\u001b[0m\n",
      "\u001b[1m\u001b[30m    |                          |         0.0002,  0.0123,         |\u001b[0m\n",
      "\u001b[1m\u001b[30m    |                          |         -0.0030, -0.0235],       |\u001b[0m\n",
      "\u001b[1m\u001b[30m    |                          |         requires_grad=True),     |\u001b[0m\n",
      "\u001b[1m\u001b[30m    |                          |         Parameter containing:    |\u001b[0m\n",
      "\u001b[1m\u001b[30m    |                          | tensor([[-0.0193, -0.0345,       |\u001b[0m\n",
      "\u001b[1m\u001b[30m    |                          |         -0.0297,  ..., -0.0129,  |\u001b[0m\n",
      "\u001b[1m\u001b[30m    |                          |         -0.0348,  0.0224],       |\u001b[0m\n",
      "\u001b[1m\u001b[30m    |                          |         [-0.0079,  0.0018,       |\u001b[0m\n",
      "\u001b[1m\u001b[30m    |                          |         0.0...0.0131, -0.0066,   |\u001b[0m\n",
      "\u001b[1m\u001b[30m    |                          |         -0.0296],                |\u001b[0m\n",
      "\u001b[1m\u001b[30m    |                          |         [-0.0246,  0.0288,       |\u001b[0m\n",
      "\u001b[1m\u001b[30m    |                          |         0.0216,  ...,  0.0183,   |\u001b[0m\n",
      "\u001b[1m\u001b[30m    |                          |         0.0185,  0.0335]],       |\u001b[0m\n",
      "\u001b[1m\u001b[30m    |                          |        requires_grad=True),      |\u001b[0m\n",
      "\u001b[1m\u001b[30m    |                          |         Parameter containing:    |\u001b[0m\n",
      "\u001b[1m\u001b[30m    |                          | tensor([ 0.0253, -0.0002,        |\u001b[0m\n",
      "\u001b[1m\u001b[30m    |                          |         -0.0199,  0.0280,        |\u001b[0m\n",
      "\u001b[1m\u001b[30m    |                          |         -0.0093,  0.0098,        |\u001b[0m\n",
      "\u001b[1m\u001b[30m    |                          |         -0.0243, -0.0157,        |\u001b[0m\n",
      "\u001b[1m\u001b[30m    |                          |          0.0237, -0.0...0236,    |\u001b[0m\n",
      "\u001b[1m\u001b[30m    |                          |         0.0074, -0.0179,         |\u001b[0m\n",
      "\u001b[1m\u001b[30m    |                          |         -0.0205, -0.0246,        |\u001b[0m\n",
      "\u001b[1m\u001b[30m    |                          |         0.0018,  0.0345,         |\u001b[0m\n",
      "\u001b[1m\u001b[30m    |                          |         -0.0093,  0.0206,        |\u001b[0m\n",
      "\u001b[1m\u001b[30m    |                          |         -0.0015,  0.0136],       |\u001b[0m\n",
      "\u001b[1m\u001b[30m    |                          |         requires_grad=True),     |\u001b[0m\n",
      "\u001b[1m\u001b[30m    |                          |         ...]                     |\u001b[0m\n",
      "\u001b[1m\u001b[30m    +--------------------------+----------------------------------+\u001b[0m\n"
     ]
    }
   ],
   "source": [
    "model = LeNet()\n",
    "\n",
    "tabulation = Form_Generator()\n",
    "#font_colors_list = tabulation.color_selector()\n",
    "tabulation.heading_printer(\n",
    "    \"Initialization of custom convolutional neural module class\")\n",
    "\n",
    "statements = [\"model = LeNet()\"]\n",
    "tabulation.statement_generator(statements)\n",
    "\n",
    "variables = [\"model\"]\n",
    "values = [str(model)]\n",
    "tabulation.variable_generator(variables, values)\n",
    "\n",
    "expressions = [\"list(model.parameters())\"]\n",
    "results = [reprlib_rules.repr(list(model.parameters()))]\n",
    "tabulation.expression_generator(expressions, results)"
   ]
  },
  {
   "cell_type": "code",
   "execution_count": 13,
   "id": "b32ece5b",
   "metadata": {
    "ExecuteTime": {
     "end_time": "2023-01-12T20:28:01.254676Z",
     "start_time": "2023-01-12T20:28:01.240586Z"
    }
   },
   "outputs": [
    {
     "name": "stdout",
     "output_type": "stream",
     "text": [
      "\u001b[4m\u001b[36mInitialization of custom convolutional neural module class\u001b[0m\n",
      "\n",
      "\u001b[1m\u001b[36m    +---------------------------------------------------+\u001b[0m\n",
      "\u001b[1m\u001b[36m    | Statement                                         |\u001b[0m\n",
      "\u001b[1m\u001b[36m    +---------------------------------------------------+\u001b[0m\n",
      "\u001b[1m\u001b[36m    | device = torch.device(\"mps:0\" if                  |\u001b[0m\n",
      "\u001b[1m\u001b[36m    |     torch.backends.mps.is_available() else \"cpu\") |\u001b[0m\n",
      "\u001b[1m\u001b[36m    +---------------------------------------------------+\u001b[0m\n",
      "\u001b[1m\u001b[36m    +----------+-------+\u001b[0m\n",
      "\u001b[1m\u001b[36m    | Variable | Value |\u001b[0m\n",
      "\u001b[1m\u001b[36m    +----------+-------+\u001b[0m\n",
      "\u001b[1m\u001b[36m    | device   | mps:0 |\u001b[0m\n",
      "\u001b[1m\u001b[36m    +----------+-------+\u001b[0m\n",
      "\u001b[1m\u001b[36m    +--------------+--------+\u001b[0m\n",
      "\u001b[1m\u001b[36m    | Expression   | Result |\u001b[0m\n",
      "\u001b[1m\u001b[36m    +--------------+--------+\u001b[0m\n",
      "\u001b[1m\u001b[36m    | device.index | 0      |\u001b[0m\n",
      "\u001b[1m\u001b[36m    +--------------+--------+\u001b[0m\n"
     ]
    }
   ],
   "source": [
    "device = torch.device(\"mps:0\" if torch.backends.mps.is_available() else \"cpu\")\n",
    "\n",
    "tabulation = Form_Generator()\n",
    "tabulation.heading_printer(\n",
    "    \"Initialization of custom convolutional neural module class\")\n",
    "\n",
    "statements = [\n",
    "    \"device = torch.device(\\\"mps:0\\\" if torch.backends.mps.is_available() else \\\"cpu\\\")\"\n",
    "]\n",
    "tabulation.statement_generator(statements)\n",
    "\n",
    "variables = [\"device\"]\n",
    "values = [str(device)]\n",
    "tabulation.variable_generator(variables, values)\n",
    "\n",
    "expressions = [\"device.index\"]\n",
    "results = [str(device.index)]\n",
    "tabulation.expression_generator(expressions, results)"
   ]
  },
  {
   "cell_type": "code",
   "execution_count": 14,
   "id": "9b99d87a",
   "metadata": {
    "ExecuteTime": {
     "end_time": "2023-01-12T20:28:01.257763Z",
     "start_time": "2023-01-12T20:28:01.255915Z"
    }
   },
   "outputs": [],
   "source": [
    "device = torch.device(\"mps:0\" if torch.backends.mps.is_available() else \"cpu\")"
   ]
  },
  {
   "cell_type": "code",
   "execution_count": 15,
   "id": "e989ce12",
   "metadata": {
    "ExecuteTime": {
     "end_time": "2023-01-12T20:28:01.261899Z",
     "start_time": "2023-01-12T20:28:01.258953Z"
    }
   },
   "outputs": [
    {
     "data": {
      "text/plain": [
       "0"
      ]
     },
     "execution_count": 15,
     "metadata": {},
     "output_type": "execute_result"
    }
   ],
   "source": [
    "device.index"
   ]
  },
  {
   "cell_type": "code",
   "execution_count": 16,
   "id": "54a109c7",
   "metadata": {
    "ExecuteTime": {
     "end_time": "2023-01-12T20:28:01.267981Z",
     "start_time": "2023-01-12T20:28:01.266000Z"
    }
   },
   "outputs": [
    {
     "name": "stdout",
     "output_type": "stream",
     "text": [
      "True\n",
      "True\n"
     ]
    }
   ],
   "source": [
    "import torch\n",
    "import math\n",
    "# this ensures that the current MacOS version is at least 12.3+\n",
    "print(torch.backends.mps.is_available())\n",
    "\n",
    "# this ensures that the current current PyTorch installation was built with MPS activated.\n",
    "print(torch.backends.mps.is_built())"
   ]
  },
  {
   "cell_type": "code",
   "execution_count": 17,
   "id": "64bb7457",
   "metadata": {
    "ExecuteTime": {
     "end_time": "2023-01-12T20:28:01.270940Z",
     "start_time": "2023-01-12T20:28:01.269201Z"
    }
   },
   "outputs": [],
   "source": [
    "criterion = nn.CrossEntropyLoss()\n",
    "optimizer = torch.optim.Adam(model.parameters(), lr=0.0001)"
   ]
  }
 ],
 "metadata": {
  "hide_input": false,
  "kernelspec": {
   "display_name": "Python 3 (ipykernel)",
   "language": "python",
   "name": "python3"
  },
  "language_info": {
   "codemirror_mode": {
    "name": "ipython",
    "version": 3
   },
   "file_extension": ".py",
   "mimetype": "text/x-python",
   "name": "python",
   "nbconvert_exporter": "python",
   "pygments_lexer": "ipython3",
   "version": "3.9.15"
  },
  "nbTranslate": {
   "displayLangs": [
    "*"
   ],
   "hotkey": "alt-t",
   "langInMainMenu": true,
   "sourceLang": "en",
   "targetLang": "fr",
   "useGoogleTranslate": true
  },
  "toc": {
   "base_numbering": 1,
   "nav_menu": {},
   "number_sections": true,
   "sideBar": true,
   "skip_h1_title": false,
   "title_cell": "Table of Contents",
   "title_sidebar": "Contents",
   "toc_cell": false,
   "toc_position": {
    "height": "calc(100% - 180px)",
    "left": "10px",
    "top": "150px",
    "width": "345.594px"
   },
   "toc_section_display": true,
   "toc_window_display": true
  },
  "varInspector": {
   "cols": {
    "lenName": 16,
    "lenType": 16,
    "lenVar": 40
   },
   "kernels_config": {
    "python": {
     "delete_cmd_postfix": "",
     "delete_cmd_prefix": "del ",
     "library": "var_list.py",
     "varRefreshCmd": "print(var_dic_list())"
    },
    "r": {
     "delete_cmd_postfix": ") ",
     "delete_cmd_prefix": "rm(",
     "library": "var_list.r",
     "varRefreshCmd": "cat(var_dic_list()) "
    }
   },
   "types_to_exclude": [
    "module",
    "function",
    "builtin_function_or_method",
    "instance",
    "_Feature"
   ],
   "window_display": false
  }
 },
 "nbformat": 4,
 "nbformat_minor": 5
}

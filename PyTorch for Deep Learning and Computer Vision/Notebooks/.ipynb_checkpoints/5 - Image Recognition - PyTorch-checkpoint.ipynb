{
 "cells": [
  {
   "cell_type": "markdown",
   "id": "d62f3b3d",
   "metadata": {},
   "source": [
    "# Importing Libraries"
   ]
  },
  {
   "cell_type": "code",
   "execution_count": 1,
   "id": "07b8fb5f",
   "metadata": {
    "ExecuteTime": {
     "end_time": "2022-12-23T23:17:24.625278Z",
     "start_time": "2022-12-23T23:17:23.541056Z"
    }
   },
   "outputs": [],
   "source": [
    "import torch\n",
    "#from torch import nn\n",
    "from torchvision import datasets, transforms\n",
    "\n",
    "import numpy as np\n",
    "\n",
    "#from sklearn import datasets\n",
    "\n",
    "import matplotlib as mpl\n",
    "#from matplotlib.colors import LinearSegmentedColormap\n",
    "#from matplotlib.patches import ConnectionPatch\n",
    "import matplotlib.pyplot as plt\n",
    "\n",
    "#import reprlib\n",
    "import sys"
   ]
  },
  {
   "cell_type": "markdown",
   "id": "589d2f14",
   "metadata": {},
   "source": [
    "# Configuring Visualization Parameters"
   ]
  },
  {
   "cell_type": "code",
   "execution_count": 2,
   "id": "2ced95ce",
   "metadata": {
    "ExecuteTime": {
     "end_time": "2022-12-23T23:17:24.637067Z",
     "start_time": "2022-12-23T23:17:24.629858Z"
    }
   },
   "outputs": [],
   "source": [
    "%matplotlib inline"
   ]
  },
  {
   "cell_type": "code",
   "execution_count": 3,
   "id": "9dd410f9",
   "metadata": {
    "ExecuteTime": {
     "end_time": "2022-12-23T23:17:24.639475Z",
     "start_time": "2022-12-23T23:17:24.637884Z"
    }
   },
   "outputs": [],
   "source": [
    "XINHUI = \"#7a7374\"\n",
    "XUEBAI = \"#fffef9\"\n",
    "YINBAI = \"#f1f0ed\"\n",
    "YINHUI = \"#918072\"\n",
    "\n",
    "figure_size = (16, 9)"
   ]
  },
  {
   "cell_type": "code",
   "execution_count": 4,
   "id": "1ed583ea",
   "metadata": {
    "ExecuteTime": {
     "end_time": "2022-12-23T23:17:24.643576Z",
     "start_time": "2022-12-23T23:17:24.641281Z"
    }
   },
   "outputs": [],
   "source": [
    "custom_params = {\n",
    "    \"axes.axisbelow\": True,\n",
    "    \"axes.edgecolor\": YINBAI,\n",
    "    \"axes.facecolor\": XUEBAI,\n",
    "    \"axes.grid\": True,\n",
    "    \"axes.labelcolor\": XINHUI,\n",
    "    \"axes.spines.right\": False,\n",
    "    \"axes.spines.top\": False,\n",
    "    \"axes.titlecolor\": XINHUI,\n",
    "    \"figure.edgecolor\": YINBAI,\n",
    "    \"figure.facecolor\": XUEBAI,\n",
    "    \"grid.alpha\": .8,\n",
    "    \"grid.color\": YINBAI,\n",
    "    \"grid.linestyle\": \"--\",\n",
    "    \"grid.linewidth\": 1.2,\n",
    "    \"legend.edgecolor\": YINHUI,\n",
    "    \"patch.edgecolor\": XUEBAI,\n",
    "    \"patch.force_edgecolor\": True,\n",
    "    \"text.color\": XINHUI,\n",
    "    \"xtick.color\": YINHUI,\n",
    "    \"ytick.color\": YINHUI,\n",
    "}\n",
    "\n",
    "mpl.rcParams.update(custom_params)"
   ]
  },
  {
   "cell_type": "markdown",
   "id": "ddc01ace",
   "metadata": {},
   "source": [
    "# Configuring Other Notebook Parameters"
   ]
  },
  {
   "cell_type": "code",
   "execution_count": 5,
   "id": "ab1ad2e3",
   "metadata": {
    "ExecuteTime": {
     "end_time": "2022-12-23T23:17:24.645822Z",
     "start_time": "2022-12-23T23:17:24.644304Z"
    }
   },
   "outputs": [],
   "source": [
    "#reprlib_rules = reprlib.Repr()\n",
    "#reprlib_rules.maxother = 250"
   ]
  },
  {
   "cell_type": "markdown",
   "id": "e08ec32d",
   "metadata": {},
   "source": [
    "# Pre-installing Custom Functions"
   ]
  },
  {
   "cell_type": "code",
   "execution_count": 6,
   "id": "a04d5565",
   "metadata": {
    "ExecuteTime": {
     "end_time": "2022-12-23T23:17:24.648442Z",
     "start_time": "2022-12-23T23:17:24.646867Z"
    }
   },
   "outputs": [],
   "source": [
    "sys.path.append(\"../\")"
   ]
  },
  {
   "cell_type": "code",
   "execution_count": 7,
   "id": "db1c0c6a",
   "metadata": {
    "ExecuteTime": {
     "end_time": "2022-12-23T23:17:24.814602Z",
     "start_time": "2022-12-23T23:17:24.650913Z"
    }
   },
   "outputs": [],
   "source": [
    "from Modules import *"
   ]
  },
  {
   "cell_type": "markdown",
   "id": "2759bbc4",
   "metadata": {},
   "source": [
    "# Practicing in Stages\n",
    "\n",
    "## Image Transforms"
   ]
  },
  {
   "cell_type": "code",
   "execution_count": 8,
   "id": "ce88455c",
   "metadata": {
    "ExecuteTime": {
     "end_time": "2022-12-23T23:17:24.836244Z",
     "start_time": "2022-12-23T23:17:24.815827Z"
    }
   },
   "outputs": [
    {
     "name": "stdout",
     "output_type": "stream",
     "text": [
      "\u001b[4m\u001b[32mLoading and transformation of the MNIST dataset\u001b[0m\n",
      "\n",
      "\u001b[1m\u001b[32m    +--------------------------------------------------------+\u001b[0m\n",
      "\u001b[1m\u001b[32m    | Statement                                              |\u001b[0m\n",
      "\u001b[1m\u001b[32m    +--------------------------------------------------------+\u001b[0m\n",
      "\u001b[1m\u001b[32m    | transform = transforms.Compose(                        |\u001b[0m\n",
      "\u001b[1m\u001b[32m    |     [transforms.ToTensor(),                            |\u001b[0m\n",
      "\u001b[1m\u001b[32m    |      transforms.Normalize((0.5, ), (0.5, ))])          |\u001b[0m\n",
      "\u001b[1m\u001b[32m    |                                                        |\u001b[0m\n",
      "\u001b[1m\u001b[32m    | training_dataset = datasets.MNIST(root=\"../Datasets\",  |\u001b[0m\n",
      "\u001b[1m\u001b[32m    |                                   train=True,          |\u001b[0m\n",
      "\u001b[1m\u001b[32m    |                                   download=True,       |\u001b[0m\n",
      "\u001b[1m\u001b[32m    |                                   transform=transform) |\u001b[0m\n",
      "\u001b[1m\u001b[32m    +--------------------------------------------------------+\u001b[0m\n",
      "\u001b[1m\u001b[32m    +------------------+----------------------------------------+\u001b[0m\n",
      "\u001b[1m\u001b[32m    | Variable         | Value                                  |\u001b[0m\n",
      "\u001b[1m\u001b[32m    +------------------+----------------------------------------+\u001b[0m\n",
      "\u001b[1m\u001b[32m    | transform        | Compose(                               |\u001b[0m\n",
      "\u001b[1m\u001b[32m    |                  |     ToTensor()                         |\u001b[0m\n",
      "\u001b[1m\u001b[32m    |                  |     Normalize(mean=(0.5,), std=(0.5,)) |\u001b[0m\n",
      "\u001b[1m\u001b[32m    |                  | )                                      |\u001b[0m\n",
      "\u001b[1m\u001b[32m    | training_dataset | Dataset MNIST                          |\u001b[0m\n",
      "\u001b[1m\u001b[32m    |                  |     Number of datapoints: 60000        |\u001b[0m\n",
      "\u001b[1m\u001b[32m    |                  |     Root location: ../Datasets         |\u001b[0m\n",
      "\u001b[1m\u001b[32m    |                  |     Split: Train                       |\u001b[0m\n",
      "\u001b[1m\u001b[32m    |                  |     StandardTransform                  |\u001b[0m\n",
      "\u001b[1m\u001b[32m    |                  | Transform: Compose(                    |\u001b[0m\n",
      "\u001b[1m\u001b[32m    |                  |                ToTensor()              |\u001b[0m\n",
      "\u001b[1m\u001b[32m    |                  |                Normalize(mean=(0.5,),  |\u001b[0m\n",
      "\u001b[1m\u001b[32m    |                  |         std=(0.5,))                    |\u001b[0m\n",
      "\u001b[1m\u001b[32m    |                  |            )                           |\u001b[0m\n",
      "\u001b[1m\u001b[32m    +------------------+----------------------------------------+\u001b[0m\n"
     ]
    }
   ],
   "source": [
    "transform = transforms.Compose(\n",
    "    [transforms.ToTensor(),\n",
    "     transforms.Normalize((0.5, ), (0.5, ))])\n",
    "\n",
    "training_dataset = datasets.MNIST(root=\"../Datasets\",\n",
    "                                  train=True,\n",
    "                                  download=True,\n",
    "                                  transform=transform)\n",
    "\n",
    "tabulation = Form_Generator()\n",
    "font_colors_list = tabulation.color_selector()\n",
    "\n",
    "tabulation.heading_printer(\"Loading and transformation of the MNIST dataset\")\n",
    "\n",
    "statements = [\n",
    "    \"\"\"\n",
    "transform = transforms.Compose(\n",
    "    [transforms.ToTensor(),\n",
    "     transforms.Normalize((0.5, ), (0.5, ))])\n",
    "\n",
    "training_dataset = datasets.MNIST(root=\"../Datasets\",\n",
    "                                  train=True,\n",
    "                                  download=True,\n",
    "                                  transform=transform)\n",
    "\"\"\"\n",
    "]\n",
    "tabulation.statement_generator(statements)\n",
    "\n",
    "variables = [\"transform\", \"training_dataset\"]\n",
    "values = [str(transform), str(training_dataset)]\n",
    "tabulation.variable_generator(variables, values)"
   ]
  },
  {
   "cell_type": "code",
   "execution_count": 9,
   "id": "35f9baa2",
   "metadata": {
    "ExecuteTime": {
     "end_time": "2022-12-23T23:17:29.285975Z",
     "start_time": "2022-12-23T23:17:24.837421Z"
    }
   },
   "outputs": [
    {
     "name": "stdout",
     "output_type": "stream",
     "text": [
      "\u001b[4m\u001b[31mConfiguration of the training batches\u001b[0m\n",
      "\n",
      "\u001b[1m\u001b[31m    +-----------------------------------------------------------+\u001b[0m\n",
      "\u001b[1m\u001b[31m    | Statement                                                 |\u001b[0m\n",
      "\u001b[1m\u001b[31m    +-----------------------------------------------------------+\u001b[0m\n",
      "\u001b[1m\u001b[31m    | training_loader =                                         |\u001b[0m\n",
      "\u001b[1m\u001b[31m    |     torch.utils.data.DataLoader(dataset=training_dataset, |\u001b[0m\n",
      "\u001b[1m\u001b[31m    |     batch_size=100,                                       |\u001b[0m\n",
      "\u001b[1m\u001b[31m    |     shuffle=True)                                         |\u001b[0m\n",
      "\u001b[1m\u001b[31m    +-----------------------------------------------------------+\u001b[0m\n",
      "\u001b[1m\u001b[31m    +--------------------------------------+----------------------+\u001b[0m\n",
      "\u001b[1m\u001b[31m    | Expression                           | Result               |\u001b[0m\n",
      "\u001b[1m\u001b[31m    +--------------------------------------+----------------------+\u001b[0m\n",
      "\u001b[1m\u001b[31m    | len(training_loader)                 | 600                  |\u001b[0m\n",
      "\u001b[1m\u001b[31m    | list(training_loader)[0][0].shape    | torch.Size([100, 1,  |\u001b[0m\n",
      "\u001b[1m\u001b[31m    |                                      |             28, 28]) |\u001b[0m\n",
      "\u001b[1m\u001b[31m    | list(training_loader)[0][1].shape    | torch.Size([100])    |\u001b[0m\n",
      "\u001b[1m\u001b[31m    | next(iter(training_loader))[0].shape | torch.Size([100, 1,  |\u001b[0m\n",
      "\u001b[1m\u001b[31m    |                                      |             28, 28]) |\u001b[0m\n",
      "\u001b[1m\u001b[31m    | next(iter(training_loader))[1].shape | torch.Size([100])    |\u001b[0m\n",
      "\u001b[1m\u001b[31m    +--------------------------------------+----------------------+\u001b[0m\n"
     ]
    }
   ],
   "source": [
    "training_loader = torch.utils.data.DataLoader(dataset=training_dataset,\n",
    "                                              batch_size=100,\n",
    "                                              shuffle=True)\n",
    "\n",
    "tabulation = Form_Generator()\n",
    "tabulation.heading_printer(\"Configuration of the training batches\")\n",
    "\n",
    "statements = [\n",
    "    \"\"\"\n",
    "training_loader = torch.utils.data.DataLoader(dataset=training_dataset,\n",
    "                                              batch_size=100,\n",
    "                                              shuffle=True)\n",
    "\"\"\"\n",
    "]\n",
    "tabulation.long_statement_generator(statements)\n",
    "\n",
    "expressions = [\n",
    "    \"len(training_loader)\", \"list(training_loader)[0][0].shape\",\n",
    "    \"list(training_loader)[0][1].shape\",\n",
    "    \"next(iter(training_loader))[0].shape\",\n",
    "    \"next(iter(training_loader))[1].shape\"\n",
    "]\n",
    "results = [\n",
    "    str(len(training_loader)),\n",
    "    str(list(training_loader)[0][0].shape),\n",
    "    str(list(training_loader)[0][1].shape),\n",
    "    str(next(iter(training_loader))[0].shape),\n",
    "    str(next(iter(training_loader))[1].shape),\n",
    "]\n",
    "tabulation.expression_generator(expressions, results, 12)"
   ]
  },
  {
   "cell_type": "code",
   "execution_count": 10,
   "id": "45684142",
   "metadata": {
    "ExecuteTime": {
     "end_time": "2022-12-23T23:17:29.289743Z",
     "start_time": "2022-12-23T23:17:29.286966Z"
    }
   },
   "outputs": [
    {
     "name": "stdout",
     "output_type": "stream",
     "text": [
      "\u001b[4m\u001b[35mFunction definition for plotting tensor images\u001b[0m\n",
      "\n",
      "\u001b[1m\u001b[35m    +-------------------------------------------------+\u001b[0m\n",
      "\u001b[1m\u001b[35m    | Definition                                      |\u001b[0m\n",
      "\u001b[1m\u001b[35m    +-------------------------------------------------+\u001b[0m\n",
      "\u001b[1m\u001b[35m    | def im_convert(tensor):                         |\u001b[0m\n",
      "\u001b[1m\u001b[35m    |     image = tensor.clone().detach().numpy()     |\u001b[0m\n",
      "\u001b[1m\u001b[35m    |     image = image.transpose(1, 2, 0)            |\u001b[0m\n",
      "\u001b[1m\u001b[35m    |     image = image * np.array((0.5, 0.5, 0.5)) + |\u001b[0m\n",
      "\u001b[1m\u001b[35m    |     np.array((0.5, 0.5, 0.5))                   |\u001b[0m\n",
      "\u001b[1m\u001b[35m    |     image = image.clip(0, 1)                    |\u001b[0m\n",
      "\u001b[1m\u001b[35m    |     return image                                |\u001b[0m\n",
      "\u001b[1m\u001b[35m    +-------------------------------------------------+\u001b[0m\n"
     ]
    }
   ],
   "source": [
    "def im_convert(tensor):\n",
    "    image = tensor.clone().detach().numpy()\n",
    "    image = image.transpose(1, 2, 0)\n",
    "    image = image * np.array((0.5, 0.5, 0.5)) + np.array((0.5, 0.5, 0.5))\n",
    "    image = image.clip(0, 1)\n",
    "    return image\n",
    "\n",
    "\n",
    "tabulation = Form_Generator()\n",
    "tabulation.heading_printer(\"Function definition for plotting tensor images\")\n",
    "\n",
    "definitions = [\n",
    "    \"\"\"\n",
    "def im_convert(tensor):\n",
    "    image = tensor.clone().detach().numpy()\n",
    "    image = image.transpose(1, 2, 0)\n",
    "    image = image * np.array((0.5, 0.5, 0.5)) + np.array((0.5, 0.5, 0.5))\n",
    "    image = image.clip(0, 1)\n",
    "    return image\n",
    "\"\"\"\n",
    "]\n",
    "tabulation.definition_generator(definitions)"
   ]
  },
  {
   "cell_type": "code",
   "execution_count": 75,
   "id": "6457caf7",
   "metadata": {
    "ExecuteTime": {
     "end_time": "2022-12-24T21:30:15.613056Z",
     "start_time": "2022-12-24T21:30:15.071756Z"
    }
   },
   "outputs": [
    {
     "data": {
      "image/png": "[encoded data removed]",
      "text/plain": [
       "<Figure size 1600x900 with 40 Axes>"
      ]
     },
     "metadata": {},
     "output_type": "display_data"
    }
   ],
   "source": [
    "def image_to_scalar_data(tensor):\n",
    "    image = tensor.clone().detach().numpy()\n",
    "    image = image.transpose(1, 2, 0)\n",
    "    image = image.reshape(image.shape[0], -1)\n",
    "    image = image * 0.5 + 0.5\n",
    "    image = image.clip(0, 1)\n",
    "    return image\n",
    "\n",
    "\n",
    "colors = calm_color_generator(20)\n",
    "fig = plt.figure(figsize=(figure_size[0], figure_size[1]))\n",
    "\n",
    "dataiter = iter(training_loader)\n",
    "images, labels = next(dataiter)\n",
    "\n",
    "for idx in np.arange(20):\n",
    "    ax = fig.add_subplot(4, 10, idx * 2 + 1, xticks=[], yticks=[])\n",
    "    plt.imshow(im_convert(images[idx]))\n",
    "    ax.set_title([labels[idx].item()],\n",
    "                 loc=\"center\",\n",
    "                 pad=15,\n",
    "                 backgroundcolor=colors[idx],\n",
    "                 color=plt.rcParams[\"axes.facecolor\"],\n",
    "                 fontweight=\"heavy\")\n",
    "\n",
    "    ax = fig.add_subplot(4, 10, (idx + 1) * 2, xticks=[], yticks=[])\n",
    "    plt.imshow(image_to_scalar_data(images[idx]), cmap=\"binary\")\n",
    "    ax.set_title([labels[idx].item()],\n",
    "                 loc=\"center\",\n",
    "                 pad=15,\n",
    "                 color=colors[idx],\n",
    "                 fontweight=\"heavy\")\n",
    "\n",
    "fig.suptitle(\"Plotting of the 20 shuffled MNIST images in the first batch\",\n",
    "             fontsize=\"x-large\",\n",
    "             x=0.5,\n",
    "             y=0)\n",
    "\n",
    "plt.tight_layout()\n",
    "plt.show()"
   ]
  },
  {
   "cell_type": "markdown",
   "id": "90cca519",
   "metadata": {},
   "source": []
  },
  {
   "cell_type": "code",
   "execution_count": null,
   "id": "e05b5ee3",
   "metadata": {
    "ExecuteTime": {
     "end_time": "2022-12-23T23:17:29.909684Z",
     "start_time": "2022-12-23T23:17:29.906885Z"
    }
   },
   "outputs": [],
   "source": []
  },
  {
   "cell_type": "code",
   "execution_count": null,
   "id": "97933cd1",
   "metadata": {
    "ExecuteTime": {
     "end_time": "2022-12-23T23:17:29.912611Z",
     "start_time": "2022-12-23T23:17:29.910590Z"
    }
   },
   "outputs": [],
   "source": []
  },
  {
   "cell_type": "code",
   "execution_count": null,
   "id": "192a0683",
   "metadata": {
    "ExecuteTime": {
     "end_time": "2022-12-23T22:48:44.027221Z",
     "start_time": "2022-12-23T22:48:44.024178Z"
    }
   },
   "outputs": [],
   "source": []
  },
  {
   "cell_type": "code",
   "execution_count": null,
   "id": "30f9d1dc",
   "metadata": {},
   "outputs": [],
   "source": []
  }
 ],
 "metadata": {
  "hide_input": false,
  "kernelspec": {
   "display_name": "Python 3 (ipykernel)",
   "language": "python",
   "name": "python3"
  },
  "language_info": {
   "codemirror_mode": {
    "name": "ipython",
    "version": 3
   },
   "file_extension": ".py",
   "mimetype": "text/x-python",
   "name": "python",
   "nbconvert_exporter": "python",
   "pygments_lexer": "ipython3",
   "version": "3.9.15"
  },
  "nbTranslate": {
   "displayLangs": [
    "*"
   ],
   "hotkey": "alt-t",
   "langInMainMenu": true,
   "sourceLang": "en",
   "targetLang": "fr",
   "useGoogleTranslate": true
  },
  "toc": {
   "base_numbering": 1,
   "nav_menu": {},
   "number_sections": true,
   "sideBar": true,
   "skip_h1_title": false,
   "title_cell": "Table of Contents",
   "title_sidebar": "Contents",
   "toc_cell": false,
   "toc_position": {
    "height": "calc(100% - 180px)",
    "left": "10px",
    "top": "150px",
    "width": "345.594px"
   },
   "toc_section_display": true,
   "toc_window_display": true
  },
  "varInspector": {
   "cols": {
    "lenName": 16,
    "lenType": 16,
    "lenVar": 40
   },
   "kernels_config": {
    "python": {
     "delete_cmd_postfix": "",
     "delete_cmd_prefix": "del ",
     "library": "var_list.py",
     "varRefreshCmd": "print(var_dic_list())"
    },
    "r": {
     "delete_cmd_postfix": ") ",
     "delete_cmd_prefix": "rm(",
     "library": "var_list.r",
     "varRefreshCmd": "cat(var_dic_list()) "
    }
   },
   "types_to_exclude": [
    "module",
    "function",
    "builtin_function_or_method",
    "instance",
    "_Feature"
   ],
   "window_display": false
  }
 },
 "nbformat": 4,
 "nbformat_minor": 5
}

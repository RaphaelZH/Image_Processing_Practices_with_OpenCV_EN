{
 "cells": [
  {
   "cell_type": "markdown",
   "id": "34368e69",
   "metadata": {},
   "source": [
    "# Importing Libraries"
   ]
  },
  {
   "cell_type": "code",
   "execution_count": 1,
   "id": "405b5cf7",
   "metadata": {
    "ExecuteTime": {
     "end_time": "2022-12-21T01:04:02.873009Z",
     "start_time": "2022-12-21T01:04:01.725126Z"
    }
   },
   "outputs": [],
   "source": [
    "import torch\n",
    "#from torch import nn\n",
    "from torchvision import datasets, transforms\n",
    "\n",
    "#import numpy as np\n",
    "\n",
    "#from sklearn import datasets\n",
    "\n",
    "import matplotlib as mpl\n",
    "#from matplotlib.colors import LinearSegmentedColormap\n",
    "#from matplotlib.patches import ConnectionPatch\n",
    "import matplotlib.pyplot as plt\n",
    "\n",
    "#import reprlib\n",
    "import sys"
   ]
  },
  {
   "cell_type": "markdown",
   "id": "561bcee6",
   "metadata": {},
   "source": [
    "# Configuring Visualization Parameters"
   ]
  },
  {
   "cell_type": "code",
   "execution_count": 2,
   "id": "14365c45",
   "metadata": {
    "ExecuteTime": {
     "end_time": "2022-12-21T01:04:02.882033Z",
     "start_time": "2022-12-21T01:04:02.874321Z"
    }
   },
   "outputs": [],
   "source": [
    "%matplotlib inline"
   ]
  },
  {
   "cell_type": "code",
   "execution_count": 3,
   "id": "d70a9c10",
   "metadata": {
    "ExecuteTime": {
     "end_time": "2022-12-21T01:04:02.884853Z",
     "start_time": "2022-12-21T01:04:02.882992Z"
    }
   },
   "outputs": [],
   "source": [
    "XINHUI = \"#7a7374\"\n",
    "XUEBAI = \"#fffef9\"\n",
    "YINBAI = \"#f1f0ed\"\n",
    "YINHUI = \"#918072\"\n",
    "\n",
    "figure_size = (16, 9)"
   ]
  },
  {
   "cell_type": "code",
   "execution_count": 4,
   "id": "6a6ed653",
   "metadata": {
    "ExecuteTime": {
     "end_time": "2022-12-21T01:04:02.888626Z",
     "start_time": "2022-12-21T01:04:02.886511Z"
    }
   },
   "outputs": [],
   "source": [
    "custom_params = {\n",
    "    \"axes.axisbelow\": True,\n",
    "    \"axes.edgecolor\": YINBAI,\n",
    "    \"axes.facecolor\": XUEBAI,\n",
    "    \"axes.grid\": True,\n",
    "    \"axes.labelcolor\": XINHUI,\n",
    "    \"axes.spines.right\": False,\n",
    "    \"axes.spines.top\": False,\n",
    "    \"axes.titlecolor\": XINHUI,\n",
    "    \"figure.edgecolor\": YINBAI,\n",
    "    \"figure.facecolor\": XUEBAI,\n",
    "    \"grid.alpha\": .8,\n",
    "    \"grid.color\": YINBAI,\n",
    "    \"grid.linestyle\": \"--\",\n",
    "    \"grid.linewidth\": 1.2,\n",
    "    \"legend.edgecolor\": YINHUI,\n",
    "    \"patch.edgecolor\": XUEBAI,\n",
    "    \"patch.force_edgecolor\": True,\n",
    "    \"text.color\": XINHUI,\n",
    "    \"xtick.color\": YINHUI,\n",
    "    \"ytick.color\": YINHUI,\n",
    "}\n",
    "\n",
    "mpl.rcParams.update(custom_params)"
   ]
  },
  {
   "cell_type": "markdown",
   "id": "04c0d383",
   "metadata": {},
   "source": [
    "# Configuring Other Notebook Parameters"
   ]
  },
  {
   "cell_type": "code",
   "execution_count": 5,
   "id": "934309d1",
   "metadata": {
    "ExecuteTime": {
     "end_time": "2022-12-21T01:04:02.891141Z",
     "start_time": "2022-12-21T01:04:02.889598Z"
    }
   },
   "outputs": [],
   "source": [
    "#reprlib_rules = reprlib.Repr()\n",
    "#reprlib_rules.maxother = 250"
   ]
  },
  {
   "cell_type": "markdown",
   "id": "ee8fa913",
   "metadata": {},
   "source": [
    "# Pre-installing Custom Functions"
   ]
  },
  {
   "cell_type": "code",
   "execution_count": 6,
   "id": "068c6097",
   "metadata": {
    "ExecuteTime": {
     "end_time": "2022-12-21T01:04:02.893680Z",
     "start_time": "2022-12-21T01:04:02.892106Z"
    }
   },
   "outputs": [],
   "source": [
    "sys.path.append(\"../\")"
   ]
  },
  {
   "cell_type": "code",
   "execution_count": 7,
   "id": "16910517",
   "metadata": {
    "ExecuteTime": {
     "end_time": "2022-12-21T01:04:03.062485Z",
     "start_time": "2022-12-21T01:04:02.894632Z"
    }
   },
   "outputs": [],
   "source": [
    "from Modules import *"
   ]
  },
  {
   "cell_type": "markdown",
   "id": "eab9f04e",
   "metadata": {},
   "source": [
    "# Practicing in Stages\n",
    "\n",
    "## Image Transforms"
   ]
  },
  {
   "cell_type": "code",
   "execution_count": 8,
   "id": "d623d9a0",
   "metadata": {
    "ExecuteTime": {
     "end_time": "2022-12-21T01:04:03.085105Z",
     "start_time": "2022-12-21T01:04:03.063532Z"
    }
   },
   "outputs": [
    {
     "name": "stdout",
     "output_type": "stream",
     "text": [
      "\u001b[4m\u001b[36mbbb\u001b[0m\n",
      "\n",
      "\u001b[1m\u001b[36m    +--------------------------------------------------------+\u001b[0m\n",
      "\u001b[1m\u001b[36m    | Statement                                              |\u001b[0m\n",
      "\u001b[1m\u001b[36m    +--------------------------------------------------------+\u001b[0m\n",
      "\u001b[1m\u001b[36m    | transform = transforms.Compose(                        |\u001b[0m\n",
      "\u001b[1m\u001b[36m    |     [transforms.ToTensor(),                            |\u001b[0m\n",
      "\u001b[1m\u001b[36m    |      transforms.Normalize((0.5, ), (0.5, ))])          |\u001b[0m\n",
      "\u001b[1m\u001b[36m    |                                                        |\u001b[0m\n",
      "\u001b[1m\u001b[36m    | training_dataset = datasets.MNIST(root=\"../Datasets\",  |\u001b[0m\n",
      "\u001b[1m\u001b[36m    |                                   train=True,          |\u001b[0m\n",
      "\u001b[1m\u001b[36m    |                                   download=True,       |\u001b[0m\n",
      "\u001b[1m\u001b[36m    |                                   transform=transform) |\u001b[0m\n",
      "\u001b[1m\u001b[36m    +--------------------------------------------------------+\u001b[0m\n",
      "\u001b[1m\u001b[36m    +------------------+----------------------------------------+\u001b[0m\n",
      "\u001b[1m\u001b[36m    | Variable         | Value                                  |\u001b[0m\n",
      "\u001b[1m\u001b[36m    +------------------+----------------------------------------+\u001b[0m\n",
      "\u001b[1m\u001b[36m    | transform        | Compose(                               |\u001b[0m\n",
      "\u001b[1m\u001b[36m    |                  |     ToTensor()                         |\u001b[0m\n",
      "\u001b[1m\u001b[36m    |                  |     Normalize(mean=(0.5,), std=(0.5,)) |\u001b[0m\n",
      "\u001b[1m\u001b[36m    |                  | )                                      |\u001b[0m\n",
      "\u001b[1m\u001b[36m    | training_dataset | Dataset MNIST                          |\u001b[0m\n",
      "\u001b[1m\u001b[36m    |                  |     Number of datapoints: 60000        |\u001b[0m\n",
      "\u001b[1m\u001b[36m    |                  |     Root location: ../Datasets         |\u001b[0m\n",
      "\u001b[1m\u001b[36m    |                  |     Split: Train                       |\u001b[0m\n",
      "\u001b[1m\u001b[36m    |                  |     StandardTransform                  |\u001b[0m\n",
      "\u001b[1m\u001b[36m    |                  | Transform: Compose(                    |\u001b[0m\n",
      "\u001b[1m\u001b[36m    |                  |                ToTensor()              |\u001b[0m\n",
      "\u001b[1m\u001b[36m    |                  |                Normalize(mean=(0.5,),  |\u001b[0m\n",
      "\u001b[1m\u001b[36m    |                  |         std=(0.5,))                    |\u001b[0m\n",
      "\u001b[1m\u001b[36m    |                  |            )                           |\u001b[0m\n",
      "\u001b[1m\u001b[36m    +------------------+----------------------------------------+\u001b[0m\n"
     ]
    }
   ],
   "source": [
    "transform = transforms.Compose(\n",
    "    [transforms.ToTensor(),\n",
    "     transforms.Normalize((0.5, ), (0.5, ))])\n",
    "\n",
    "training_dataset = datasets.MNIST(root=\"../Datasets\",\n",
    "                                  train=True,\n",
    "                                  download=True,\n",
    "                                  transform=transform)\n",
    "\n",
    "tabulation = Form_Generator()\n",
    "font_colors_list = tabulation.color_selector()\n",
    "\n",
    "tabulation.heading_printer(\"bbb\")\n",
    "\n",
    "statements = [\n",
    "    \"\"\"\n",
    "transform = transforms.Compose(\n",
    "    [transforms.ToTensor(),\n",
    "     transforms.Normalize((0.5, ), (0.5, ))])\n",
    "\n",
    "training_dataset = datasets.MNIST(root=\"../Datasets\",\n",
    "                                  train=True,\n",
    "                                  download=True,\n",
    "                                  transform=transform)\n",
    "\"\"\"\n",
    "]\n",
    "tabulation.statement_generator(statements)\n",
    "\n",
    "variables = [\"transform\", \"training_dataset\"]\n",
    "values = [str(transform), str(training_dataset)]\n",
    "tabulation.variable_generator(variables, values)"
   ]
  },
  {
   "cell_type": "code",
   "execution_count": null,
   "id": "25ff64b3",
   "metadata": {},
   "outputs": [],
   "source": []
  },
  {
   "cell_type": "code",
   "execution_count": null,
   "id": "dc930b06",
   "metadata": {},
   "outputs": [],
   "source": []
  },
  {
   "cell_type": "code",
   "execution_count": null,
   "id": "f58ff22a",
   "metadata": {},
   "outputs": [],
   "source": []
  },
  {
   "cell_type": "code",
   "execution_count": null,
   "id": "09c8d6c1",
   "metadata": {},
   "outputs": [],
   "source": []
  },
  {
   "cell_type": "code",
   "execution_count": null,
   "id": "4c63d302",
   "metadata": {},
   "outputs": [],
   "source": []
  }
 ],
 "metadata": {
  "hide_input": false,
  "kernelspec": {
   "display_name": "Python 3 (ipykernel)",
   "language": "python",
   "name": "python3"
  },
  "language_info": {
   "codemirror_mode": {
    "name": "ipython",
    "version": 3
   },
   "file_extension": ".py",
   "mimetype": "text/x-python",
   "name": "python",
   "nbconvert_exporter": "python",
   "pygments_lexer": "ipython3",
   "version": "3.9.15"
  },
  "nbTranslate": {
   "displayLangs": [
    "*"
   ],
   "hotkey": "alt-t",
   "langInMainMenu": true,
   "sourceLang": "en",
   "targetLang": "fr",
   "useGoogleTranslate": true
  },
  "toc": {
   "base_numbering": 1,
   "nav_menu": {},
   "number_sections": true,
   "sideBar": true,
   "skip_h1_title": false,
   "title_cell": "Table of Contents",
   "title_sidebar": "Contents",
   "toc_cell": false,
   "toc_position": {
    "height": "calc(100% - 180px)",
    "left": "10px",
    "top": "150px",
    "width": "345.594px"
   },
   "toc_section_display": true,
   "toc_window_display": true
  },
  "varInspector": {
   "cols": {
    "lenName": 16,
    "lenType": 16,
    "lenVar": 40
   },
   "kernels_config": {
    "python": {
     "delete_cmd_postfix": "",
     "delete_cmd_prefix": "del ",
     "library": "var_list.py",
     "varRefreshCmd": "print(var_dic_list())"
    },
    "r": {
     "delete_cmd_postfix": ") ",
     "delete_cmd_prefix": "rm(",
     "library": "var_list.r",
     "varRefreshCmd": "cat(var_dic_list()) "
    }
   },
   "types_to_exclude": [
    "module",
    "function",
    "builtin_function_or_method",
    "instance",
    "_Feature"
   ],
   "window_display": false
  }
 },
 "nbformat": 4,
 "nbformat_minor": 5
}

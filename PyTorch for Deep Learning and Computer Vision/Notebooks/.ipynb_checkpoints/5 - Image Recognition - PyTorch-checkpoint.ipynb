{
 "cells": [
  {
   "cell_type": "markdown",
   "id": "d62f3b3d",
   "metadata": {},
   "source": [
    "# Importing Libraries"
   ]
  },
  {
   "cell_type": "code",
   "execution_count": 1,
   "id": "07b8fb5f",
   "metadata": {
    "ExecuteTime": {
     "end_time": "2022-12-31T03:52:56.236418Z",
     "start_time": "2022-12-31T03:52:55.045537Z"
    }
   },
   "outputs": [],
   "source": [
    "import torch\n",
    "from torch import nn\n",
    "import torch.nn.functional as F\n",
    "from torchvision import datasets, transforms\n",
    "\n",
    "import numpy as np\n",
    "\n",
    "#from sklearn import datasets\n",
    "\n",
    "import matplotlib as mpl\n",
    "#from matplotlib.colors import LinearSegmentedColormap\n",
    "#from matplotlib.patches import ConnectionPatch\n",
    "import matplotlib.pyplot as plt\n",
    "from mpl_toolkits.axes_grid1.inset_locator import inset_axes\n",
    "\n",
    "import reprlib\n",
    "import sys"
   ]
  },
  {
   "cell_type": "markdown",
   "id": "589d2f14",
   "metadata": {},
   "source": [
    "# Configuring Visualization Parameters"
   ]
  },
  {
   "cell_type": "code",
   "execution_count": 2,
   "id": "2ced95ce",
   "metadata": {
    "ExecuteTime": {
     "end_time": "2022-12-31T03:52:56.245119Z",
     "start_time": "2022-12-31T03:52:56.237727Z"
    }
   },
   "outputs": [],
   "source": [
    "%matplotlib inline"
   ]
  },
  {
   "cell_type": "code",
   "execution_count": 3,
   "id": "9dd410f9",
   "metadata": {
    "ExecuteTime": {
     "end_time": "2022-12-31T03:52:56.247692Z",
     "start_time": "2022-12-31T03:52:56.245903Z"
    }
   },
   "outputs": [],
   "source": [
    "XINHUI = \"#7a7374\"\n",
    "XUEBAI = \"#fffef9\"\n",
    "YINBAI = \"#f1f0ed\"\n",
    "YINHUI = \"#918072\"\n",
    "\n",
    "figure_size = (16, 9)"
   ]
  },
  {
   "cell_type": "code",
   "execution_count": 4,
   "id": "1ed583ea",
   "metadata": {
    "ExecuteTime": {
     "end_time": "2022-12-31T03:52:56.251994Z",
     "start_time": "2022-12-31T03:52:56.249431Z"
    }
   },
   "outputs": [],
   "source": [
    "custom_params = {\n",
    "    \"axes.axisbelow\": True,\n",
    "    \"axes.edgecolor\": YINBAI,\n",
    "    \"axes.facecolor\": XUEBAI,\n",
    "    \"axes.grid\": True,\n",
    "    \"axes.labelcolor\": XINHUI,\n",
    "    \"axes.spines.right\": False,\n",
    "    \"axes.spines.top\": False,\n",
    "    \"axes.titlecolor\": XINHUI,\n",
    "    \"figure.edgecolor\": YINBAI,\n",
    "    \"figure.facecolor\": XUEBAI,\n",
    "    \"grid.alpha\": .8,\n",
    "    \"grid.color\": YINBAI,\n",
    "    \"grid.linestyle\": \"--\",\n",
    "    \"grid.linewidth\": 1.2,\n",
    "    \"legend.edgecolor\": YINHUI,\n",
    "    \"patch.edgecolor\": XUEBAI,\n",
    "    \"patch.force_edgecolor\": True,\n",
    "    \"text.color\": XINHUI,\n",
    "    \"xtick.color\": YINHUI,\n",
    "    \"ytick.color\": YINHUI,\n",
    "}\n",
    "\n",
    "mpl.rcParams.update(custom_params)"
   ]
  },
  {
   "cell_type": "markdown",
   "id": "ddc01ace",
   "metadata": {},
   "source": [
    "# Configuring Other Notebook Parameters"
   ]
  },
  {
   "cell_type": "code",
   "execution_count": 5,
   "id": "ab1ad2e3",
   "metadata": {
    "ExecuteTime": {
     "end_time": "2022-12-31T03:52:56.254428Z",
     "start_time": "2022-12-31T03:52:56.252833Z"
    }
   },
   "outputs": [],
   "source": [
    "reprlib_rules = reprlib.Repr()\n",
    "reprlib_rules.maxother = 250"
   ]
  },
  {
   "cell_type": "markdown",
   "id": "e08ec32d",
   "metadata": {},
   "source": [
    "# Pre-installing Custom Functions"
   ]
  },
  {
   "cell_type": "code",
   "execution_count": 6,
   "id": "a04d5565",
   "metadata": {
    "ExecuteTime": {
     "end_time": "2022-12-31T03:52:56.256771Z",
     "start_time": "2022-12-31T03:52:56.255262Z"
    }
   },
   "outputs": [],
   "source": [
    "sys.path.append(\"../\")"
   ]
  },
  {
   "cell_type": "code",
   "execution_count": 7,
   "id": "db1c0c6a",
   "metadata": {
    "ExecuteTime": {
     "end_time": "2022-12-31T03:52:56.420285Z",
     "start_time": "2022-12-31T03:52:56.257817Z"
    }
   },
   "outputs": [],
   "source": [
    "from Modules import *"
   ]
  },
  {
   "cell_type": "markdown",
   "id": "2759bbc4",
   "metadata": {},
   "source": [
    "# Practicing in Stages\n",
    "\n",
    "## Image Transforms"
   ]
  },
  {
   "cell_type": "code",
   "execution_count": 8,
   "id": "ce88455c",
   "metadata": {
    "ExecuteTime": {
     "end_time": "2022-12-31T03:52:56.456920Z",
     "start_time": "2022-12-31T03:52:56.421211Z"
    }
   },
   "outputs": [
    {
     "name": "stdout",
     "output_type": "stream",
     "text": [
      "\u001b[4m\u001b[35mLoading and transformation of the MNIST dataset\u001b[0m\n",
      "\n",
      "\u001b[1m\u001b[35m    +--------------------------------------------------------+\u001b[0m\n",
      "\u001b[1m\u001b[35m    | Statement                                              |\u001b[0m\n",
      "\u001b[1m\u001b[35m    +--------------------------------------------------------+\u001b[0m\n",
      "\u001b[1m\u001b[35m    | transform = transforms.Compose(                        |\u001b[0m\n",
      "\u001b[1m\u001b[35m    |     [transforms.ToTensor(),                            |\u001b[0m\n",
      "\u001b[1m\u001b[35m    |      transforms.Normalize((0.5, ), (0.5, ))])          |\u001b[0m\n",
      "\u001b[1m\u001b[35m    |                                                        |\u001b[0m\n",
      "\u001b[1m\u001b[35m    | training_dataset = datasets.MNIST(root=\"../Datasets\",  |\u001b[0m\n",
      "\u001b[1m\u001b[35m    |                                   train=True,          |\u001b[0m\n",
      "\u001b[1m\u001b[35m    |                                   download=True,       |\u001b[0m\n",
      "\u001b[1m\u001b[35m    |                                   transform=transform) |\u001b[0m\n",
      "\u001b[1m\u001b[35m    +--------------------------------------------------------+\u001b[0m\n",
      "\u001b[1m\u001b[35m    +------------------+----------------------------------------+\u001b[0m\n",
      "\u001b[1m\u001b[35m    | Variable         | Value                                  |\u001b[0m\n",
      "\u001b[1m\u001b[35m    +------------------+----------------------------------------+\u001b[0m\n",
      "\u001b[1m\u001b[35m    | transform        | Compose(                               |\u001b[0m\n",
      "\u001b[1m\u001b[35m    |                  |     ToTensor()                         |\u001b[0m\n",
      "\u001b[1m\u001b[35m    |                  |     Normalize(mean=(0.5,), std=(0.5,)) |\u001b[0m\n",
      "\u001b[1m\u001b[35m    |                  | )                                      |\u001b[0m\n",
      "\u001b[1m\u001b[35m    | training_dataset | Dataset MNIST                          |\u001b[0m\n",
      "\u001b[1m\u001b[35m    |                  |     Number of datapoints: 60000        |\u001b[0m\n",
      "\u001b[1m\u001b[35m    |                  |     Root location: ../Datasets         |\u001b[0m\n",
      "\u001b[1m\u001b[35m    |                  |     Split: Train                       |\u001b[0m\n",
      "\u001b[1m\u001b[35m    |                  |     StandardTransform                  |\u001b[0m\n",
      "\u001b[1m\u001b[35m    |                  | Transform: Compose(                    |\u001b[0m\n",
      "\u001b[1m\u001b[35m    |                  |                ToTensor()              |\u001b[0m\n",
      "\u001b[1m\u001b[35m    |                  |                Normalize(mean=(0.5,),  |\u001b[0m\n",
      "\u001b[1m\u001b[35m    |                  |         std=(0.5,))                    |\u001b[0m\n",
      "\u001b[1m\u001b[35m    |                  |            )                           |\u001b[0m\n",
      "\u001b[1m\u001b[35m    +------------------+----------------------------------------+\u001b[0m\n"
     ]
    }
   ],
   "source": [
    "transform = transforms.Compose(\n",
    "    [transforms.ToTensor(),\n",
    "     transforms.Normalize((0.5, ), (0.5, ))])\n",
    "\n",
    "training_dataset = datasets.MNIST(root=\"../Datasets\",\n",
    "                                  train=True,\n",
    "                                  download=True,\n",
    "                                  transform=transform)\n",
    "\n",
    "tabulation = Form_Generator()\n",
    "font_colors_list = tabulation.color_selector()\n",
    "\n",
    "tabulation.heading_printer(\"Loading and transformation of the MNIST dataset\")\n",
    "\n",
    "statements = [\n",
    "    \"\"\"\n",
    "transform = transforms.Compose(\n",
    "    [transforms.ToTensor(),\n",
    "     transforms.Normalize((0.5, ), (0.5, ))])\n",
    "\n",
    "training_dataset = datasets.MNIST(root=\"../Datasets\",\n",
    "                                  train=True,\n",
    "                                  download=True,\n",
    "                                  transform=transform)\n",
    "\"\"\"\n",
    "]\n",
    "tabulation.statement_generator(statements)\n",
    "\n",
    "variables = [\"transform\", \"training_dataset\"]\n",
    "values = [str(transform), str(training_dataset)]\n",
    "tabulation.variable_generator(variables, values)"
   ]
  },
  {
   "cell_type": "code",
   "execution_count": 9,
   "id": "35f9baa2",
   "metadata": {
    "ExecuteTime": {
     "end_time": "2022-12-31T03:53:00.941791Z",
     "start_time": "2022-12-31T03:52:56.458185Z"
    }
   },
   "outputs": [
    {
     "name": "stdout",
     "output_type": "stream",
     "text": [
      "\u001b[4m\u001b[36mConfiguration of the training batches\u001b[0m\n",
      "\n",
      "\u001b[1m\u001b[36m    +-----------------------------------------------------------+\u001b[0m\n",
      "\u001b[1m\u001b[36m    | Statement                                                 |\u001b[0m\n",
      "\u001b[1m\u001b[36m    +-----------------------------------------------------------+\u001b[0m\n",
      "\u001b[1m\u001b[36m    | training_loader =                                         |\u001b[0m\n",
      "\u001b[1m\u001b[36m    |     torch.utils.data.DataLoader(dataset=training_dataset, |\u001b[0m\n",
      "\u001b[1m\u001b[36m    |     batch_size=100,                                       |\u001b[0m\n",
      "\u001b[1m\u001b[36m    |     shuffle=True)                                         |\u001b[0m\n",
      "\u001b[1m\u001b[36m    +-----------------------------------------------------------+\u001b[0m\n",
      "\u001b[1m\u001b[36m    +--------------------------------------+----------------------+\u001b[0m\n",
      "\u001b[1m\u001b[36m    | Expression                           | Result               |\u001b[0m\n",
      "\u001b[1m\u001b[36m    +--------------------------------------+----------------------+\u001b[0m\n",
      "\u001b[1m\u001b[36m    | len(training_loader)                 | 600                  |\u001b[0m\n",
      "\u001b[1m\u001b[36m    | list(training_loader)[0][0].shape    | torch.Size([100, 1,  |\u001b[0m\n",
      "\u001b[1m\u001b[36m    |                                      |             28, 28]) |\u001b[0m\n",
      "\u001b[1m\u001b[36m    | list(training_loader)[0][1].shape    | torch.Size([100])    |\u001b[0m\n",
      "\u001b[1m\u001b[36m    | next(iter(training_loader))[0].shape | torch.Size([100, 1,  |\u001b[0m\n",
      "\u001b[1m\u001b[36m    |                                      |             28, 28]) |\u001b[0m\n",
      "\u001b[1m\u001b[36m    | next(iter(training_loader))[1].shape | torch.Size([100])    |\u001b[0m\n",
      "\u001b[1m\u001b[36m    +--------------------------------------+----------------------+\u001b[0m\n"
     ]
    }
   ],
   "source": [
    "training_loader = torch.utils.data.DataLoader(dataset=training_dataset,\n",
    "                                              batch_size=100,\n",
    "                                              shuffle=True)\n",
    "\n",
    "tabulation = Form_Generator()\n",
    "tabulation.heading_printer(\"Configuration of the training batches\")\n",
    "\n",
    "statements = [\n",
    "    \"\"\"\n",
    "training_loader = torch.utils.data.DataLoader(dataset=training_dataset,\n",
    "                                              batch_size=100,\n",
    "                                              shuffle=True)\n",
    "\"\"\"\n",
    "]\n",
    "tabulation.long_statement_generator(statements)\n",
    "\n",
    "expressions = [\n",
    "    \"len(training_loader)\", \"list(training_loader)[0][0].shape\",\n",
    "    \"list(training_loader)[0][1].shape\",\n",
    "    \"next(iter(training_loader))[0].shape\",\n",
    "    \"next(iter(training_loader))[1].shape\"\n",
    "]\n",
    "results = [\n",
    "    str(len(training_loader)),\n",
    "    str(list(training_loader)[0][0].shape),\n",
    "    str(list(training_loader)[0][1].shape),\n",
    "    str(next(iter(training_loader))[0].shape),\n",
    "    str(next(iter(training_loader))[1].shape),\n",
    "]\n",
    "tabulation.expression_generator(expressions, results, 12)"
   ]
  },
  {
   "cell_type": "code",
   "execution_count": 10,
   "id": "45684142",
   "metadata": {
    "ExecuteTime": {
     "end_time": "2022-12-31T03:53:00.947723Z",
     "start_time": "2022-12-31T03:53:00.944800Z"
    }
   },
   "outputs": [
    {
     "name": "stdout",
     "output_type": "stream",
     "text": [
      "\u001b[4m\u001b[37mFunction definition for plotting tensor images\u001b[0m\n",
      "\n",
      "\u001b[1m\u001b[37m    +-------------------------------------------------+\u001b[0m\n",
      "\u001b[1m\u001b[37m    | Definition                                      |\u001b[0m\n",
      "\u001b[1m\u001b[37m    +-------------------------------------------------+\u001b[0m\n",
      "\u001b[1m\u001b[37m    | def im_convert(tensor):                         |\u001b[0m\n",
      "\u001b[1m\u001b[37m    |     image = tensor.clone().detach().numpy()     |\u001b[0m\n",
      "\u001b[1m\u001b[37m    |     image = image.transpose(1, 2, 0)            |\u001b[0m\n",
      "\u001b[1m\u001b[37m    |     image = image * np.array((0.5, 0.5, 0.5)) + |\u001b[0m\n",
      "\u001b[1m\u001b[37m    |     np.array((0.5, 0.5, 0.5))                   |\u001b[0m\n",
      "\u001b[1m\u001b[37m    |     image = image.clip(0, 1)                    |\u001b[0m\n",
      "\u001b[1m\u001b[37m    |     return image                                |\u001b[0m\n",
      "\u001b[1m\u001b[37m    +-------------------------------------------------+\u001b[0m\n"
     ]
    }
   ],
   "source": [
    "def im_convert(tensor):\n",
    "    image = tensor.clone().detach().numpy()\n",
    "    image = image.transpose(1, 2, 0)\n",
    "    image = image * np.array((0.5, 0.5, 0.5)) + np.array((0.5, 0.5, 0.5))\n",
    "    image = image.clip(0, 1)\n",
    "    return image\n",
    "\n",
    "\n",
    "tabulation = Form_Generator()\n",
    "tabulation.heading_printer(\"Function definition for plotting tensor images\")\n",
    "\n",
    "definitions = [\n",
    "    \"\"\"\n",
    "def im_convert(tensor):\n",
    "    image = tensor.clone().detach().numpy()\n",
    "    image = image.transpose(1, 2, 0)\n",
    "    image = image * np.array((0.5, 0.5, 0.5)) + np.array((0.5, 0.5, 0.5))\n",
    "    image = image.clip(0, 1)\n",
    "    return image\n",
    "\"\"\"\n",
    "]\n",
    "\n",
    "tabulation.definition_generator(definitions)"
   ]
  },
  {
   "cell_type": "code",
   "execution_count": 11,
   "id": "6457caf7",
   "metadata": {
    "ExecuteTime": {
     "end_time": "2022-12-31T03:53:01.776517Z",
     "start_time": "2022-12-31T03:53:00.948721Z"
    }
   },
   "outputs": [
    {
     "data": {
      "image/png": "[encoded data removed]",
      "text/plain": [
       "<Figure size 1600x1200 with 60 Axes>"
      ]
     },
     "metadata": {},
     "output_type": "display_data"
    }
   ],
   "source": [
    "import matplotlib.gridspec as gridspec\n",
    "\n",
    "\n",
    "def image_to_scalar_data(tensor):\n",
    "    image = tensor.clone().detach().numpy()\n",
    "    image = image.transpose(1, 2, 0)\n",
    "    image = image.reshape(image.shape[0], -1)\n",
    "    image = image * 0.5 + 0.5\n",
    "    image = image.clip(0, 1)\n",
    "    return image\n",
    "\n",
    "\n",
    "colors = calm_color_generator(20)\n",
    "fig = plt.figure(figsize=(figure_size[0], figure_size[1] / 3 * 4),\n",
    "                 constrained_layout=True)\n",
    "gridspec = gridspec.GridSpec(nrows=4,\n",
    "                             ncols=5,\n",
    "                             figure=fig,\n",
    "                             wspace=.08,\n",
    "                             hspace=None)\n",
    "\n",
    "dataiter = iter(training_loader)\n",
    "images, labels = next(dataiter)\n",
    "\n",
    "for idx in np.arange(20):\n",
    "    ax = fig.add_subplot(gridspec[idx // 5, idx % 5],\n",
    "                         xticks=[],\n",
    "                         yticks=[],\n",
    "                         frameon=False)\n",
    "    spaces = \" \" * 24\n",
    "    ax.set_title(\"{}{}{}\".format(spaces, str(labels[idx].item()), spaces),\n",
    "                 loc=\"center\",\n",
    "                 pad=0,\n",
    "                 backgroundcolor=colors[idx],\n",
    "                 color=plt.rcParams[\"axes.facecolor\"],\n",
    "                 fontweight=\"heavy\")\n",
    "\n",
    "    axins1 = inset_axes(ax, width=\"50%\", height=\"100%\", loc=2, borderpad=0)\n",
    "    axins1.set(xticks=[], yticks=[], frame_on=False)\n",
    "    plt.imshow(im_convert(images[idx]))\n",
    "    axins1.set_xlabel(\"[verso]\",\n",
    "                      loc=\"left\",\n",
    "                      labelpad=5,\n",
    "                      color=colors[idx],\n",
    "                      fontweight=\"bold\")\n",
    "\n",
    "    axins2 = inset_axes(ax, width=\"50%\", height=\"100%\", loc=1, borderpad=0)\n",
    "    axins2.set(xticks=[], yticks=[], frame_on=False)\n",
    "    plt.imshow(image_to_scalar_data(images[idx]), cmap=\"binary\")\n",
    "    axins2.set_xlabel(\"[recto]\",\n",
    "                      loc=\"right\",\n",
    "                      labelpad=5,\n",
    "                      color=colors[idx],\n",
    "                      fontweight=\"bold\")\n",
    "\n",
    "fig.suptitle(\"Plotting of the 20 shuffled MNIST images in the first batch\",\n",
    "             fontsize=\"x-large\",\n",
    "             x=0.5,\n",
    "             y=0)\n",
    "\n",
    "plt.show()"
   ]
  },
  {
   "cell_type": "markdown",
   "id": "90cca519",
   "metadata": {},
   "source": [
    "## Neural Network Implementation"
   ]
  },
  {
   "cell_type": "code",
   "execution_count": 12,
   "id": "e05b5ee3",
   "metadata": {
    "ExecuteTime": {
     "end_time": "2022-12-31T03:53:01.787047Z",
     "start_time": "2022-12-31T03:53:01.777711Z"
    },
    "scrolled": false
   },
   "outputs": [
    {
     "name": "stdout",
     "output_type": "stream",
     "text": [
      "\u001b[4m\u001b[33mInitialization of custom neural module class\u001b[0m\n",
      "\n",
      "\u001b[1m\u001b[33m    +----------------------------------------------+\u001b[0m\n",
      "\u001b[1m\u001b[33m    | Definition                                   |\u001b[0m\n",
      "\u001b[1m\u001b[33m    +----------------------------------------------+\u001b[0m\n",
      "\u001b[1m\u001b[33m    | class Classifier(nn.Module):                 |\u001b[0m\n",
      "\u001b[1m\u001b[33m    |                                              |\u001b[0m\n",
      "\u001b[1m\u001b[33m    |     def __init__(self, D_in, H1, H2, D_out): |\u001b[0m\n",
      "\u001b[1m\u001b[33m    |         super().__init__()                   |\u001b[0m\n",
      "\u001b[1m\u001b[33m    |         self.linear1 = nn.Linear(D_in, H1)   |\u001b[0m\n",
      "\u001b[1m\u001b[33m    |         self.linear2 = nn.Linear(H1, H2)     |\u001b[0m\n",
      "\u001b[1m\u001b[33m    |         self.linear3 = nn.Linear(H2, D_out)  |\u001b[0m\n",
      "\u001b[1m\u001b[33m    |                                              |\u001b[0m\n",
      "\u001b[1m\u001b[33m    |     def forward(self, x):                    |\u001b[0m\n",
      "\u001b[1m\u001b[33m    |         x = F.relu(self.linear1(x))          |\u001b[0m\n",
      "\u001b[1m\u001b[33m    |         x = F.relu(self.linear2(x))          |\u001b[0m\n",
      "\u001b[1m\u001b[33m    |         x = self.linear3(x)                  |\u001b[0m\n",
      "\u001b[1m\u001b[33m    |         return x                             |\u001b[0m\n",
      "\u001b[1m\u001b[33m    +----------------------------------------------+\u001b[0m\n",
      "\u001b[1m\u001b[33m    +--------------------------------------+\u001b[0m\n",
      "\u001b[1m\u001b[33m    | Statement                            |\u001b[0m\n",
      "\u001b[1m\u001b[33m    +--------------------------------------+\u001b[0m\n",
      "\u001b[1m\u001b[33m    | model = Classifier(784, 125, 65, 10) |\u001b[0m\n",
      "\u001b[1m\u001b[33m    +--------------------------------------+\u001b[0m\n",
      "\u001b[1m\u001b[33m    +----------+--------------------------------------+\u001b[0m\n",
      "\u001b[1m\u001b[33m    | Variable | Value                                |\u001b[0m\n",
      "\u001b[1m\u001b[33m    +----------+--------------------------------------+\u001b[0m\n",
      "\u001b[1m\u001b[33m    | model    | Classifier(                          |\u001b[0m\n",
      "\u001b[1m\u001b[33m    |          |   (linear1): Linear(in_features=784, |\u001b[0m\n",
      "\u001b[1m\u001b[33m    |          |         out_features=125, bias=True) |\u001b[0m\n",
      "\u001b[1m\u001b[33m    |          |   (linear2): Linear(in_features=125, |\u001b[0m\n",
      "\u001b[1m\u001b[33m    |          |         out_features=65, bias=True)  |\u001b[0m\n",
      "\u001b[1m\u001b[33m    |          |   (linear3): Linear(in_features=65,  |\u001b[0m\n",
      "\u001b[1m\u001b[33m    |          |         out_features=10, bias=True)  |\u001b[0m\n",
      "\u001b[1m\u001b[33m    |          | )                                    |\u001b[0m\n",
      "\u001b[1m\u001b[33m    +----------+--------------------------------------+\u001b[0m\n",
      "\u001b[1m\u001b[33m    +--------------------------+--------------------------------+\u001b[0m\n",
      "\u001b[1m\u001b[33m    | Expression               | Result                         |\u001b[0m\n",
      "\u001b[1m\u001b[33m    +--------------------------+--------------------------------+\u001b[0m\n",
      "\u001b[1m\u001b[33m    | list(model.parameters()) | '[Parameter c...s_grad=True)]' |\u001b[0m\n",
      "\u001b[1m\u001b[33m    +--------------------------+--------------------------------+\u001b[0m\n"
     ]
    }
   ],
   "source": [
    "class Classifier(nn.Module):\n",
    "\n",
    "    def __init__(self, D_in, H1, H2, D_out):\n",
    "        super().__init__()\n",
    "        self.linear1 = nn.Linear(D_in, H1)\n",
    "        self.linear2 = nn.Linear(H1, H2)\n",
    "        self.linear3 = nn.Linear(H2, D_out)\n",
    "\n",
    "    def forward(self, x):\n",
    "        x = F.relu(self.linear1(x))\n",
    "        x = F.relu(self.linear2(x))\n",
    "        x = self.linear3(x)\n",
    "        return x\n",
    "\n",
    "\n",
    "model = Classifier(784, 125, 65, 10)\n",
    "\n",
    "tabulation = Form_Generator()\n",
    "tabulation.heading_printer(\"Initialization of custom neural module class\")\n",
    "\n",
    "definitions = [\n",
    "    \"\"\"\n",
    "class Classifier(nn.Module):\n",
    "\n",
    "    def __init__(self, D_in, H1, H2, D_out):\n",
    "        super().__init__()\n",
    "        self.linear1 = nn.Linear(D_in, H1)\n",
    "        self.linear2 = nn.Linear(H1, H2)\n",
    "        self.linear3 = nn.Linear(H2, D_out)\n",
    "\n",
    "    def forward(self, x):\n",
    "        x = F.relu(self.linear1(x))\n",
    "        x = F.relu(self.linear2(x))\n",
    "        x = self.linear3(x)\n",
    "        return x\n",
    "\"\"\"\n",
    "]\n",
    "tabulation.definition_generator(definitions)\n",
    "\n",
    "statements = [\"\"\"\n",
    "model = Classifier(784, 125, 65, 10)\n",
    "\"\"\"]\n",
    "tabulation.statement_generator(statements)\n",
    "\n",
    "variables = [\"model\"]\n",
    "values = [str(model)]\n",
    "tabulation.variable_generator(variables, values)\n",
    "\n",
    "expressions = [\"list(model.parameters())\"]\n",
    "results = [reprlib_rules.repr(str(list(model.parameters())))]\n",
    "tabulation.expression_generator(expressions, results)"
   ]
  },
  {
   "cell_type": "code",
   "execution_count": 13,
   "id": "97933cd1",
   "metadata": {
    "ExecuteTime": {
     "end_time": "2022-12-31T03:53:01.792261Z",
     "start_time": "2022-12-31T03:53:01.788302Z"
    }
   },
   "outputs": [
    {
     "name": "stdout",
     "output_type": "stream",
     "text": [
      "\u001b[4m\u001b[32mSpecific configuration settings for the training process\u001b[0m\n",
      "\n",
      "\u001b[1m\u001b[32m    +-----------------------------------------------------------+\u001b[0m\n",
      "\u001b[1m\u001b[32m    | Statement                                                 |\u001b[0m\n",
      "\u001b[1m\u001b[32m    +-----------------------------------------------------------+\u001b[0m\n",
      "\u001b[1m\u001b[32m    | criterion = nn.CrossEntropyLoss()                         |\u001b[0m\n",
      "\u001b[1m\u001b[32m    | optimizer = torch.optim.Adam(model.parameters(), lr=0.01) |\u001b[0m\n",
      "\u001b[1m\u001b[32m    +-----------------------------------------------------------+\u001b[0m\n",
      "\u001b[1m\u001b[32m    +-----------+---------------------------+\u001b[0m\n",
      "\u001b[1m\u001b[32m    | Variable  | Value                     |\u001b[0m\n",
      "\u001b[1m\u001b[32m    +-----------+---------------------------+\u001b[0m\n",
      "\u001b[1m\u001b[32m    | criterion | CrossEntropyLoss()        |\u001b[0m\n",
      "\u001b[1m\u001b[32m    | optimizer | Adam (                    |\u001b[0m\n",
      "\u001b[1m\u001b[32m    |           | Parameter Group 0         |\u001b[0m\n",
      "\u001b[1m\u001b[32m    |           |     amsgrad: False        |\u001b[0m\n",
      "\u001b[1m\u001b[32m    |           |     betas: (0.9, 0.999)   |\u001b[0m\n",
      "\u001b[1m\u001b[32m    |           |     capturable: False     |\u001b[0m\n",
      "\u001b[1m\u001b[32m    |           |     differentiable: False |\u001b[0m\n",
      "\u001b[1m\u001b[32m    |           |     eps: 1e-08            |\u001b[0m\n",
      "\u001b[1m\u001b[32m    |           |     foreach: None         |\u001b[0m\n",
      "\u001b[1m\u001b[32m    |           |     fused: False          |\u001b[0m\n",
      "\u001b[1m\u001b[32m    |           |     lr: 0.01              |\u001b[0m\n",
      "\u001b[1m\u001b[32m    |           |     maximize: False       |\u001b[0m\n",
      "\u001b[1m\u001b[32m    |           |     weight_decay: 0       |\u001b[0m\n",
      "\u001b[1m\u001b[32m    |           | )                         |\u001b[0m\n",
      "\u001b[1m\u001b[32m    +-----------+---------------------------+\u001b[0m\n"
     ]
    }
   ],
   "source": [
    "criterion = nn.CrossEntropyLoss()\n",
    "optimizer = torch.optim.Adam(model.parameters(), lr=0.01)\n",
    "\n",
    "tabulation = Form_Generator()\n",
    "tabulation.heading_printer(\n",
    "    \"Specific configuration settings for the training process\")\n",
    "\n",
    "statements = [\n",
    "    \"\"\"\n",
    "criterion = nn.CrossEntropyLoss()\n",
    "optimizer = torch.optim.Adam(model.parameters(), lr=0.01)\n",
    "\"\"\"\n",
    "]\n",
    "tabulation.statement_generator(statements)\n",
    "\n",
    "variables = [\"criterion\", \"optimizer\"]\n",
    "values = [str(criterion), str(optimizer)]\n",
    "tabulation.variable_generator(variables, values)"
   ]
  },
  {
   "cell_type": "code",
   "execution_count": 14,
   "id": "192a0683",
   "metadata": {
    "ExecuteTime": {
     "end_time": "2022-12-31T03:53:49.952765Z",
     "start_time": "2022-12-31T03:53:01.793458Z"
    }
   },
   "outputs": [
    {
     "name": "stdout",
     "output_type": "stream",
     "text": [
      "\u001b[4m\u001b[34mModel training for a specific number of epochs\u001b[0m\n",
      "\n",
      "\u001b[1m\u001b[34m    +-------------------------------------------------------------+\u001b[0m\n",
      "\u001b[1m\u001b[34m    | Statement                                                   |\u001b[0m\n",
      "\u001b[1m\u001b[34m    +-------------------------------------------------------------+\u001b[0m\n",
      "\u001b[1m\u001b[34m    | epochs = 15                                                 |\u001b[0m\n",
      "\u001b[1m\u001b[34m    | running_loss_history = []                                   |\u001b[0m\n",
      "\u001b[1m\u001b[34m    | running_accuracy_history = []                               |\u001b[0m\n",
      "\u001b[1m\u001b[34m    |                                                             |\u001b[0m\n",
      "\u001b[1m\u001b[34m    | for e in range(epochs):                                     |\u001b[0m\n",
      "\u001b[1m\u001b[34m    |     running_loss = 0.0                                      |\u001b[0m\n",
      "\u001b[1m\u001b[34m    |     running_accuracy = 0                                    |\u001b[0m\n",
      "\u001b[1m\u001b[34m    |                                                             |\u001b[0m\n",
      "\u001b[1m\u001b[34m    |     for inputs, labels in training_loader:                  |\u001b[0m\n",
      "\u001b[1m\u001b[34m    |         inputs = inputs.view(inputs.shape[0], -1)           |\u001b[0m\n",
      "\u001b[1m\u001b[34m    |         outputs = model(inputs)                             |\u001b[0m\n",
      "\u001b[1m\u001b[34m    |         loss = criterion(outputs, labels)                   |\u001b[0m\n",
      "\u001b[1m\u001b[34m    |                                                             |\u001b[0m\n",
      "\u001b[1m\u001b[34m    |         optimizer.zero_grad()                               |\u001b[0m\n",
      "\u001b[1m\u001b[34m    |         loss.backward()                                     |\u001b[0m\n",
      "\u001b[1m\u001b[34m    |         optimizer.step()                                    |\u001b[0m\n",
      "\u001b[1m\u001b[34m    |                                                             |\u001b[0m\n",
      "\u001b[1m\u001b[34m    |         _, preds = torch.max(outputs, 1)                    |\u001b[0m\n",
      "\u001b[1m\u001b[34m    |         running_loss += loss.item()                         |\u001b[0m\n",
      "\u001b[1m\u001b[34m    |         running_accuracy += torch.sum(preds == labels.data) |\u001b[0m\n",
      "\u001b[1m\u001b[34m    |                                                             |\u001b[0m\n",
      "\u001b[1m\u001b[34m    |     else:                                                   |\u001b[0m\n",
      "\u001b[1m\u001b[34m    |         epoch_loss = running_loss / len(training_loader)    |\u001b[0m\n",
      "\u001b[1m\u001b[34m    |         epoch_accuracy = running_accuracy.float() /         |\u001b[0m\n",
      "\u001b[1m\u001b[34m    |     len(training_loader)                                    |\u001b[0m\n",
      "\u001b[1m\u001b[34m    |         running_loss_history.append(epoch_loss)             |\u001b[0m\n",
      "\u001b[1m\u001b[34m    |         running_accuracy_history.append(epoch_accuracy)     |\u001b[0m\n",
      "\u001b[1m\u001b[34m    +-------------------------------------------------------------+\u001b[0m\n",
      "\u001b[1m\u001b[34m    +--------------------------+----------------------------+\u001b[0m\n",
      "\u001b[1m\u001b[34m    | Variable                 | Value                      |\u001b[0m\n",
      "\u001b[1m\u001b[34m    +--------------------------+----------------------------+\u001b[0m\n",
      "\u001b[1m\u001b[34m    | epochs                   | 15                         |\u001b[0m\n",
      "\u001b[1m\u001b[34m    | running_loss_history     | [0.37081197287887335,      |\u001b[0m\n",
      "\u001b[1m\u001b[34m    |                          |  0.2090048368771871,       |\u001b[0m\n",
      "\u001b[1m\u001b[34m    |                          |  0.18309102580572167,      |\u001b[0m\n",
      "\u001b[1m\u001b[34m    |                          |  0.18329144204035402,      |\u001b[0m\n",
      "\u001b[1m\u001b[34m    |                          |  0.1638485125421236,       |\u001b[0m\n",
      "\u001b[1m\u001b[34m    |                          |  0.15857796513785918, ...] |\u001b[0m\n",
      "\u001b[1m\u001b[34m    | running_accuracy_history | [tensor(88.5017),          |\u001b[0m\n",
      "\u001b[1m\u001b[34m    |                          |  tensor(93.7450),          |\u001b[0m\n",
      "\u001b[1m\u001b[34m    |                          |  tensor(94.7217),          |\u001b[0m\n",
      "\u001b[1m\u001b[34m    |                          |  tensor(94.7017),          |\u001b[0m\n",
      "\u001b[1m\u001b[34m    |                          |  tensor(95.3633),          |\u001b[0m\n",
      "\u001b[1m\u001b[34m    |                          |  tensor(95.5767), ...]     |\u001b[0m\n",
      "\u001b[1m\u001b[34m    +--------------------------+----------------------------+\u001b[0m\n",
      "\u001b[1m\u001b[34m    +----+-------+---------------------+---------------------+\u001b[0m\n",
      "\u001b[1m\u001b[34m    |    | epoch |        loss         |      accuracy       |\u001b[0m\n",
      "\u001b[1m\u001b[34m    +----+-------+---------------------+---------------------+\u001b[0m\n",
      "\u001b[1m\u001b[34m    | 0  |  1.0  | 0.2526378929615021  | 0.37081197287887335 |\u001b[0m\n",
      "\u001b[1m\u001b[34m    | 1  |  2.0  | 0.14060074090957642 | 0.2090048368771871  |\u001b[0m\n",
      "\u001b[1m\u001b[34m    | 2  |  3.0  | 0.18348878622055054 | 0.18309102580572167 |\u001b[0m\n",
      "\u001b[1m\u001b[34m    | 3  |  4.0  | 0.1927809715270996  | 0.18329144204035402 |\u001b[0m\n",
      "\u001b[1m\u001b[34m    | 4  |  5.0  | 0.13761630654335022 | 0.1638485125421236  |\u001b[0m\n",
      "\u001b[1m\u001b[34m    |   …|      …|                    …|                    …|\u001b[0m\n",
      "\u001b[1m\u001b[34m    | 10 | 11.0  | 0.10450107604265213 | 0.14640958867035805 |\u001b[0m\n",
      "\u001b[1m\u001b[34m    | 11 | 12.0  | 0.05807926505804062 | 0.1347998296422884  |\u001b[0m\n",
      "\u001b[1m\u001b[34m    | 12 | 13.0  | 0.2201860100030899  | 0.1391338621887068  |\u001b[0m\n",
      "\u001b[1m\u001b[34m    | 13 | 14.0  |  0.04422627389431   | 0.12921602750817934 |\u001b[0m\n",
      "\u001b[1m\u001b[34m    | 14 | 15.0  | 0.09481677412986755 | 0.12727890002230804 |\u001b[0m\n",
      "\u001b[1m\u001b[34m    +----+-------+---------------------+---------------------+\u001b[0m\n"
     ]
    }
   ],
   "source": [
    "epochs = 15\n",
    "running_loss_history = []\n",
    "running_accuracy_history = []\n",
    "\n",
    "dataframe = DataFrame_Generator(\"epoch\", \"loss\", \"accuracy\")\n",
    "\n",
    "for e in range(epochs):\n",
    "    running_loss = 0.0\n",
    "    running_accuracy = 0\n",
    "\n",
    "    for inputs, labels in training_loader:\n",
    "        inputs = inputs.view(inputs.shape[0], -1)\n",
    "        outputs = model(inputs)\n",
    "        loss = criterion(outputs, labels)\n",
    "\n",
    "        optimizer.zero_grad()\n",
    "        loss.backward()\n",
    "        optimizer.step()\n",
    "\n",
    "        _, preds = torch.max(outputs, 1)\n",
    "        running_loss += loss.item()\n",
    "        running_accuracy += torch.sum(preds == labels.data)\n",
    "\n",
    "    else:\n",
    "        epoch_loss = running_loss / len(training_loader)\n",
    "        epoch_accuracy = running_accuracy.float() / len(training_loader)\n",
    "        running_loss_history.append(epoch_loss)\n",
    "        running_accuracy_history.append(epoch_accuracy)\n",
    "        dataframe.updater(e + 1, loss.item(), epoch_loss, epoch_accuracy)\n",
    "\n",
    "tabulation = Form_Generator()\n",
    "tabulation.heading_printer(\"Model training for a specific number of epochs\")\n",
    "\n",
    "statements = [\n",
    "    \"\"\"\n",
    "epochs = 15\n",
    "running_loss_history = []\n",
    "running_accuracy_history = []\n",
    "\n",
    "for e in range(epochs):\n",
    "    running_loss = 0.0\n",
    "    running_accuracy = 0\n",
    "\n",
    "    for inputs, labels in training_loader:\n",
    "        inputs = inputs.view(inputs.shape[0], -1)\n",
    "        outputs = model(inputs)\n",
    "        loss = criterion(outputs, labels)\n",
    "\n",
    "        optimizer.zero_grad()\n",
    "        loss.backward()\n",
    "        optimizer.step()\n",
    "\n",
    "        _, preds = torch.max(outputs, 1)\n",
    "        running_loss += loss.item()\n",
    "        running_accuracy += torch.sum(preds == labels.data)\n",
    "\n",
    "    else:\n",
    "        epoch_loss = running_loss / len(training_loader)\n",
    "        epoch_accuracy = running_accuracy.float() / len(training_loader)\n",
    "        running_loss_history.append(epoch_loss)\n",
    "        running_accuracy_history.append(epoch_accuracy)\n",
    "\"\"\"\n",
    "]\n",
    "tabulation.statement_generator(statements)\n",
    "\n",
    "variables = [\"epochs\", \"running_loss_history\", \"running_accuracy_history\"]\n",
    "values = [\n",
    "    str(epochs),\n",
    "    str(reprlib_rules.repr(running_loss_history)),\n",
    "    str(reprlib_rules.repr(running_accuracy_history))\n",
    "]\n",
    "tabulation.variable_generator(variables, values, expandtabs=1)\n",
    "\n",
    "df_table = dataframe.tabulation(tablefmt=\"pretty\")\n",
    "tabulation.dataframe_generator(df_table)"
   ]
  },
  {
   "cell_type": "code",
   "execution_count": null,
   "id": "5ceaa3e5",
   "metadata": {},
   "outputs": [],
   "source": []
  },
  {
   "cell_type": "code",
   "execution_count": null,
   "id": "cf74b6c1",
   "metadata": {},
   "outputs": [],
   "source": []
  },
  {
   "cell_type": "code",
   "execution_count": null,
   "id": "998f4fa2",
   "metadata": {},
   "outputs": [],
   "source": []
  },
  {
   "cell_type": "code",
   "execution_count": null,
   "id": "5e955285",
   "metadata": {},
   "outputs": [],
   "source": []
  }
 ],
 "metadata": {
  "hide_input": false,
  "kernelspec": {
   "display_name": "Python 3 (ipykernel)",
   "language": "python",
   "name": "python3"
  },
  "language_info": {
   "codemirror_mode": {
    "name": "ipython",
    "version": 3
   },
   "file_extension": ".py",
   "mimetype": "text/x-python",
   "name": "python",
   "nbconvert_exporter": "python",
   "pygments_lexer": "ipython3",
   "version": "3.9.15"
  },
  "nbTranslate": {
   "displayLangs": [
    "*"
   ],
   "hotkey": "alt-t",
   "langInMainMenu": true,
   "sourceLang": "en",
   "targetLang": "fr",
   "useGoogleTranslate": true
  },
  "toc": {
   "base_numbering": 1,
   "nav_menu": {},
   "number_sections": true,
   "sideBar": true,
   "skip_h1_title": false,
   "title_cell": "Table of Contents",
   "title_sidebar": "Contents",
   "toc_cell": false,
   "toc_position": {
    "height": "calc(100% - 180px)",
    "left": "10px",
    "top": "150px",
    "width": "345.594px"
   },
   "toc_section_display": true,
   "toc_window_display": true
  },
  "varInspector": {
   "cols": {
    "lenName": 16,
    "lenType": 16,
    "lenVar": 40
   },
   "kernels_config": {
    "python": {
     "delete_cmd_postfix": "",
     "delete_cmd_prefix": "del ",
     "library": "var_list.py",
     "varRefreshCmd": "print(var_dic_list())"
    },
    "r": {
     "delete_cmd_postfix": ") ",
     "delete_cmd_prefix": "rm(",
     "library": "var_list.r",
     "varRefreshCmd": "cat(var_dic_list()) "
    }
   },
   "types_to_exclude": [
    "module",
    "function",
    "builtin_function_or_method",
    "instance",
    "_Feature"
   ],
   "window_display": false
  }
 },
 "nbformat": 4,
 "nbformat_minor": 5
}

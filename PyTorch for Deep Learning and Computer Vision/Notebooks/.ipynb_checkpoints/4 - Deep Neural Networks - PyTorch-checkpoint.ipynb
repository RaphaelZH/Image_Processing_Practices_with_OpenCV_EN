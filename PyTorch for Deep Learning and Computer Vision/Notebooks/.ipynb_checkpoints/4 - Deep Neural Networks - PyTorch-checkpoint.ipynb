{
 "cells": [
  {
   "cell_type": "markdown",
   "id": "446dc587",
   "metadata": {},
   "source": [
    "# Importing Libraries"
   ]
  },
  {
   "cell_type": "code",
   "execution_count": 1,
   "id": "de6a5177",
   "metadata": {
    "ExecuteTime": {
     "end_time": "2022-12-09T09:27:12.942581Z",
     "start_time": "2022-12-09T09:27:11.728098Z"
    }
   },
   "outputs": [],
   "source": [
    "import torch\n",
    "#from torch import nn\n",
    "\n",
    "import numpy as np\n",
    "\n",
    "from sklearn import datasets\n",
    "\n",
    "import matplotlib as mpl\n",
    "#from matplotlib.patches import ConnectionPatch\n",
    "import matplotlib.pyplot as plt\n",
    "\n",
    "#import reprlib\n",
    "import sys\n",
    "#from termcolor import cprint"
   ]
  },
  {
   "cell_type": "markdown",
   "id": "66eb3277",
   "metadata": {},
   "source": [
    "# Configuring Visualization Parameters"
   ]
  },
  {
   "cell_type": "code",
   "execution_count": 2,
   "id": "ea03bb63",
   "metadata": {
    "ExecuteTime": {
     "end_time": "2022-12-09T09:27:12.950885Z",
     "start_time": "2022-12-09T09:27:12.943762Z"
    }
   },
   "outputs": [],
   "source": [
    "%matplotlib inline"
   ]
  },
  {
   "cell_type": "code",
   "execution_count": 3,
   "id": "55f9eb81",
   "metadata": {
    "ExecuteTime": {
     "end_time": "2022-12-09T09:27:12.953400Z",
     "start_time": "2022-12-09T09:27:12.951781Z"
    }
   },
   "outputs": [],
   "source": [
    "XINHUI = \"#7a7374\"\n",
    "XUEBAI = \"#fffef9\"\n",
    "YINBAI = \"#f1f0ed\"\n",
    "YINHUI = \"#918072\"\n",
    "\n",
    "figure_size = (16, 9)"
   ]
  },
  {
   "cell_type": "code",
   "execution_count": 4,
   "id": "82364c90",
   "metadata": {
    "ExecuteTime": {
     "end_time": "2022-12-09T09:27:12.957072Z",
     "start_time": "2022-12-09T09:27:12.954900Z"
    }
   },
   "outputs": [],
   "source": [
    "custom_params = {\n",
    "    \"axes.axisbelow\": True,\n",
    "    \"axes.edgecolor\": YINBAI,\n",
    "    \"axes.facecolor\": XUEBAI,\n",
    "    \"axes.grid\": True,\n",
    "    \"axes.labelcolor\": XINHUI,\n",
    "    \"axes.spines.right\": False,\n",
    "    \"axes.spines.top\": False,\n",
    "    \"axes.titlecolor\": XINHUI,\n",
    "    \"figure.edgecolor\": YINBAI,\n",
    "    \"figure.facecolor\": XUEBAI,\n",
    "    \"grid.alpha\": .8,\n",
    "    \"grid.color\": YINBAI,\n",
    "    \"grid.linestyle\": \"--\",\n",
    "    \"grid.linewidth\": 1.2,\n",
    "    \"legend.edgecolor\": YINHUI,\n",
    "    \"patch.edgecolor\": XUEBAI,\n",
    "    \"patch.force_edgecolor\": True,\n",
    "    \"text.color\": XINHUI,\n",
    "    \"xtick.color\": YINHUI,\n",
    "    \"ytick.color\": YINHUI,\n",
    "}\n",
    "\n",
    "mpl.rcParams.update(custom_params)"
   ]
  },
  {
   "cell_type": "markdown",
   "id": "35649195",
   "metadata": {},
   "source": [
    "# Configuring Other Notebook Parameters"
   ]
  },
  {
   "cell_type": "code",
   "execution_count": 5,
   "id": "4acd7e9e",
   "metadata": {
    "ExecuteTime": {
     "end_time": "2022-12-09T09:27:12.959227Z",
     "start_time": "2022-12-09T09:27:12.957916Z"
    }
   },
   "outputs": [],
   "source": [
    "#reprlib_rules = reprlib.Repr()\n",
    "#reprlib_rules.maxother = 250"
   ]
  },
  {
   "cell_type": "markdown",
   "id": "c529e130",
   "metadata": {},
   "source": [
    "# Pre-installing Custom Functions"
   ]
  },
  {
   "cell_type": "code",
   "execution_count": 6,
   "id": "6a0d4a15",
   "metadata": {
    "ExecuteTime": {
     "end_time": "2022-12-09T09:27:12.961654Z",
     "start_time": "2022-12-09T09:27:12.960180Z"
    }
   },
   "outputs": [],
   "source": [
    "sys.path.append(\"../\")"
   ]
  },
  {
   "cell_type": "code",
   "execution_count": 7,
   "id": "2a260a96",
   "metadata": {
    "ExecuteTime": {
     "end_time": "2022-12-09T09:27:13.100350Z",
     "start_time": "2022-12-09T09:27:12.962472Z"
    }
   },
   "outputs": [],
   "source": [
    "from Modules import *"
   ]
  },
  {
   "cell_type": "markdown",
   "id": "c4490b81",
   "metadata": {},
   "source": [
    "# Practicing in Stages\n",
    "\n",
    "\n",
    "# Code Implementation"
   ]
  },
  {
   "cell_type": "code",
   "execution_count": 8,
   "id": "42033cbb",
   "metadata": {
    "ExecuteTime": {
     "end_time": "2022-12-09T09:27:13.103831Z",
     "start_time": "2022-12-09T09:27:13.101139Z"
    }
   },
   "outputs": [],
   "source": [
    "n_pts = 100\n",
    "centers = [[-0.5, 0.5], [0.5, -0.5]]\n",
    "X, y = datasets.make_blobs(n_samples=n_pts,\n",
    "                           random_state=123,\n",
    "                           centers=centers,\n",
    "                           cluster_std=0.4)\n",
    "X_data = torch.Tensor(X)\n",
    "y_data = torch.Tensor(y).reshape(100, 1)"
   ]
  },
  {
   "cell_type": "code",
   "execution_count": 9,
   "id": "13344802",
   "metadata": {
    "ExecuteTime": {
     "end_time": "2022-12-09T09:27:13.106421Z",
     "start_time": "2022-12-09T09:27:13.104622Z"
    }
   },
   "outputs": [],
   "source": [
    "def scatter_plot():\n",
    "    colors = bright_colors(2)\n",
    "    plt.scatter(X[y == 0, 0], X[y == 0, 1], color=colors[0])\n",
    "    plt.scatter(X[y == 1, 0], X[y == 1, 1], color=colors[1])"
   ]
  },
  {
   "cell_type": "code",
   "execution_count": 10,
   "id": "42a34c25",
   "metadata": {
    "ExecuteTime": {
     "end_time": "2022-12-09T09:27:13.220203Z",
     "start_time": "2022-12-09T09:27:13.108606Z"
    }
   },
   "outputs": [
    {
     "ename": "NameError",
     "evalue": "name 'bright_colors' is not defined",
     "output_type": "error",
     "traceback": [
      "\u001b[0;31m---------------------------------------------------------------------------\u001b[0m",
      "\u001b[0;31mNameError\u001b[0m                                 Traceback (most recent call last)",
      "Cell \u001b[0;32mIn[10], line 1\u001b[0m\n\u001b[0;32m----> 1\u001b[0m \u001b[43mscatter_plot\u001b[49m\u001b[43m(\u001b[49m\u001b[43m)\u001b[49m\n",
      "Cell \u001b[0;32mIn[9], line 2\u001b[0m, in \u001b[0;36mscatter_plot\u001b[0;34m()\u001b[0m\n\u001b[1;32m      1\u001b[0m \u001b[38;5;28;01mdef\u001b[39;00m \u001b[38;5;21mscatter_plot\u001b[39m():\n\u001b[0;32m----> 2\u001b[0m     colors \u001b[38;5;241m=\u001b[39m \u001b[43mbright_colors\u001b[49m(\u001b[38;5;241m2\u001b[39m)\n\u001b[1;32m      3\u001b[0m     plt\u001b[38;5;241m.\u001b[39mscatter(X[y \u001b[38;5;241m==\u001b[39m \u001b[38;5;241m0\u001b[39m, \u001b[38;5;241m0\u001b[39m], X[y \u001b[38;5;241m==\u001b[39m \u001b[38;5;241m0\u001b[39m, \u001b[38;5;241m1\u001b[39m], color\u001b[38;5;241m=\u001b[39mcolors[\u001b[38;5;241m0\u001b[39m])\n\u001b[1;32m      4\u001b[0m     plt\u001b[38;5;241m.\u001b[39mscatter(X[y \u001b[38;5;241m==\u001b[39m \u001b[38;5;241m1\u001b[39m, \u001b[38;5;241m0\u001b[39m], X[y \u001b[38;5;241m==\u001b[39m \u001b[38;5;241m1\u001b[39m, \u001b[38;5;241m1\u001b[39m], color\u001b[38;5;241m=\u001b[39mcolors[\u001b[38;5;241m1\u001b[39m])\n",
      "\u001b[0;31mNameError\u001b[0m: name 'bright_colors' is not defined"
     ]
    }
   ],
   "source": [
    "scatter_plot()"
   ]
  },
  {
   "cell_type": "code",
   "execution_count": null,
   "id": "e59a5f6a",
   "metadata": {
    "ExecuteTime": {
     "end_time": "2022-12-09T09:27:13.226411Z",
     "start_time": "2022-12-09T09:27:13.226404Z"
    }
   },
   "outputs": [],
   "source": [
    "n_pts = 500\n",
    "X, y = datasets.make_circles(n_samples=n_pts,\n",
    "                             random_state=123,\n",
    "                             noise=0.1,\n",
    "                             factor=0.2)\n",
    "X_data = torch.Tensor(X)\n",
    "y_data = torch.Tensor(y).reshape(500, 1)"
   ]
  },
  {
   "cell_type": "code",
   "execution_count": null,
   "id": "a1dd3788",
   "metadata": {
    "ExecuteTime": {
     "end_time": "2022-12-09T09:27:13.227064Z",
     "start_time": "2022-12-09T09:27:13.227058Z"
    }
   },
   "outputs": [],
   "source": [
    "scatter_plot()"
   ]
  },
  {
   "cell_type": "code",
   "execution_count": null,
   "id": "1a88c2a6",
   "metadata": {
    "ExecuteTime": {
     "end_time": "2022-12-09T09:27:13.227809Z",
     "start_time": "2022-12-09T09:27:13.227804Z"
    }
   },
   "outputs": [],
   "source": [
    "class Model(nn.Module):\n",
    "\n",
    "    def __init__(self, input_size, H1, output_size):\n",
    "        super().__init__()\n",
    "        self.linear = nn.Linear(input_size, H1)\n",
    "        self.linear2 = nn.Linear(H1, output_size)\n",
    "\n",
    "    def forward(self, x):\n",
    "        x = torch.sigmoid(self.linear(x))\n",
    "        x = torch.sigmoid(self.linear2(x))\n",
    "        return x\n",
    "\n",
    "    def predict(self, x):\n",
    "        pred = self.forward(x)\n",
    "        if pred >= 0.5:\n",
    "            return 1\n",
    "        else:\n",
    "            return 0"
   ]
  },
  {
   "cell_type": "code",
   "execution_count": null,
   "id": "1fb2ea11",
   "metadata": {
    "ExecuteTime": {
     "end_time": "2022-12-09T09:27:13.228360Z",
     "start_time": "2022-12-09T09:27:13.228354Z"
    }
   },
   "outputs": [],
   "source": [
    "torch.manual_seed(2)\n",
    "model = Model(2, 4, 1)\n",
    "print(list(model.parameters()))"
   ]
  },
  {
   "cell_type": "code",
   "execution_count": null,
   "id": "ed3c72a4",
   "metadata": {
    "ExecuteTime": {
     "end_time": "2022-12-09T09:27:13.229185Z",
     "start_time": "2022-12-09T09:27:13.229179Z"
    }
   },
   "outputs": [],
   "source": [
    "criterion = nn.BCELoss()\n",
    "optimizer = torch.optim.Adam(model.parameters(), lr=0.01)"
   ]
  },
  {
   "cell_type": "code",
   "execution_count": null,
   "id": "2d8785dc",
   "metadata": {
    "ExecuteTime": {
     "end_time": "2022-12-09T09:27:13.229696Z",
     "start_time": "2022-12-09T09:27:13.229690Z"
    }
   },
   "outputs": [],
   "source": [
    "epochs = 1000\n",
    "losses = []\n",
    "termcolors = [\n",
    "    \"grey\", \"red\", \"green\", \"yellow\", \"blue\", \"magenta\", \"cyan\", \"white\"\n",
    "]\n",
    "font_colors = random.choices(termcolors, k=2)\n",
    "for i in range(epochs):\n",
    "    i += 1\n",
    "    y_pred = model.forward(X_data)\n",
    "    loss = criterion(y_pred, y_data)\n",
    "    if i == 1 or i % 100 == 0:\n",
    "        print(colored(\"epoch:\", font_colors[0], attrs=[\"bold\"]), i,\n",
    "              colored(\"loss:\", font_colors[1]), loss.item())\n",
    "        print(colored(\"weight:\", font_colors[1]),\n",
    "              list(model.parameters())[0][0][0].item(),\n",
    "              colored(\"bias:\", font_colors[1]),\n",
    "              list(model.parameters())[1][0].item())\n",
    "    losses.append(loss.item())\n",
    "    optimizer.zero_grad()\n",
    "    loss.backward()\n",
    "    optimizer.step()"
   ]
  },
  {
   "cell_type": "code",
   "execution_count": null,
   "id": "452a937e",
   "metadata": {
    "ExecuteTime": {
     "end_time": "2022-12-09T09:27:13.230117Z",
     "start_time": "2022-12-09T09:27:13.230112Z"
    }
   },
   "outputs": [],
   "source": [
    "colors = bright_colors(1)\n",
    "plt.plot(range(epochs), losses, c=colors[0])\n",
    "plt.ylabel(\"Loss\")\n",
    "plt.xlabel(\"Epoch\")"
   ]
  },
  {
   "cell_type": "code",
   "execution_count": null,
   "id": "502a157d",
   "metadata": {
    "ExecuteTime": {
     "end_time": "2022-12-09T09:27:13.230606Z",
     "start_time": "2022-12-09T09:27:13.230601Z"
    }
   },
   "outputs": [],
   "source": [
    "criterion = nn.BCELoss()\n",
    "optimizer = torch.optim.Adam(model.parameters(), lr=0.1)"
   ]
  },
  {
   "cell_type": "code",
   "execution_count": null,
   "id": "83a82775",
   "metadata": {
    "ExecuteTime": {
     "end_time": "2022-12-09T09:27:13.234588Z",
     "start_time": "2022-12-09T09:27:13.234572Z"
    }
   },
   "outputs": [],
   "source": [
    "losses = []\n",
    "font_colors = random.choices(termcolors, k=2)\n",
    "for i in range(epochs):\n",
    "    i += 1\n",
    "    y_pred = model.forward(X_data)\n",
    "    loss = criterion(y_pred, y_data)\n",
    "    if i == 1 or i % 100 == 0:\n",
    "        print(colored(\"epoch:\", font_colors[0], attrs=[\"bold\"]), i,\n",
    "              colored(\"loss:\", font_colors[1]), loss.item())\n",
    "        print(colored(\"weight:\", font_colors[1]),\n",
    "              list(model.parameters())[0][0][0].item(),\n",
    "              colored(\"bias:\", font_colors[1]),\n",
    "              list(model.parameters())[1][0].item())\n",
    "    losses.append(loss.item())\n",
    "    optimizer.zero_grad()\n",
    "    loss.backward()\n",
    "    optimizer.step()"
   ]
  },
  {
   "cell_type": "code",
   "execution_count": null,
   "id": "ce4356f3",
   "metadata": {
    "ExecuteTime": {
     "end_time": "2022-12-09T09:27:13.235537Z",
     "start_time": "2022-12-09T09:27:13.235531Z"
    }
   },
   "outputs": [],
   "source": [
    "colors = bright_colors(1)\n",
    "plt.plot(range(epochs), losses, c=colors[0])\n",
    "plt.ylabel(\"Loss\")\n",
    "plt.xlabel(\"Epoch\")"
   ]
  },
  {
   "cell_type": "code",
   "execution_count": null,
   "id": "6960011c",
   "metadata": {},
   "outputs": [],
   "source": []
  },
  {
   "cell_type": "code",
   "execution_count": null,
   "id": "5c420e7b",
   "metadata": {},
   "outputs": [],
   "source": []
  },
  {
   "cell_type": "code",
   "execution_count": null,
   "id": "fd45860b",
   "metadata": {},
   "outputs": [],
   "source": []
  }
 ],
 "metadata": {
  "hide_input": false,
  "kernelspec": {
   "display_name": "Python 3 (ipykernel)",
   "language": "python",
   "name": "python3"
  },
  "language_info": {
   "codemirror_mode": {
    "name": "ipython",
    "version": 3
   },
   "file_extension": ".py",
   "mimetype": "text/x-python",
   "name": "python",
   "nbconvert_exporter": "python",
   "pygments_lexer": "ipython3",
   "version": "3.9.15"
  },
  "latex_envs": {
   "LaTeX_envs_menu_present": true,
   "autoclose": false,
   "autocomplete": true,
   "bibliofile": "biblio.bib",
   "cite_by": "apalike",
   "current_citInitial": 1,
   "eqLabelWithNumbers": true,
   "eqNumInitial": 1,
   "hotkeys": {
    "equation": "Ctrl-E",
    "itemize": "Ctrl-I"
   },
   "labels_anchors": false,
   "latex_user_defs": false,
   "report_style_numbering": false,
   "user_envs_cfg": false
  },
  "nbTranslate": {
   "displayLangs": [
    "*"
   ],
   "hotkey": "alt-t",
   "langInMainMenu": true,
   "sourceLang": "en",
   "targetLang": "fr",
   "useGoogleTranslate": true
  },
  "toc": {
   "base_numbering": 1,
   "nav_menu": {},
   "number_sections": true,
   "sideBar": true,
   "skip_h1_title": false,
   "title_cell": "Table of Contents",
   "title_sidebar": "Contents",
   "toc_cell": false,
   "toc_position": {
    "height": "calc(100% - 180px)",
    "left": "10px",
    "top": "150px",
    "width": "345.594px"
   },
   "toc_section_display": true,
   "toc_window_display": true
  },
  "varInspector": {
   "cols": {
    "lenName": 16,
    "lenType": 16,
    "lenVar": 40
   },
   "kernels_config": {
    "python": {
     "delete_cmd_postfix": "",
     "delete_cmd_prefix": "del ",
     "library": "var_list.py",
     "varRefreshCmd": "print(var_dic_list())"
    },
    "r": {
     "delete_cmd_postfix": ") ",
     "delete_cmd_prefix": "rm(",
     "library": "var_list.r",
     "varRefreshCmd": "cat(var_dic_list()) "
    }
   },
   "types_to_exclude": [
    "module",
    "function",
    "builtin_function_or_method",
    "instance",
    "_Feature"
   ],
   "window_display": false
  }
 },
 "nbformat": 4,
 "nbformat_minor": 5
}

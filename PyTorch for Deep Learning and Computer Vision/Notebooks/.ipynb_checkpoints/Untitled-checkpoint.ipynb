{
 "cells": [
  {
   "cell_type": "code",
   "execution_count": 1,
   "id": "eff09895",
   "metadata": {
    "ExecuteTime": {
     "end_time": "2022-12-12T14:05:23.219356Z",
     "start_time": "2022-12-12T14:05:22.977307Z"
    }
   },
   "outputs": [],
   "source": [
    "import pandas as pd\n",
    "import datetime"
   ]
  },
  {
   "cell_type": "code",
   "execution_count": 2,
   "id": "76847aca",
   "metadata": {
    "ExecuteTime": {
     "end_time": "2022-12-12T14:05:23.326243Z",
     "start_time": "2022-12-12T14:05:23.245658Z"
    }
   },
   "outputs": [],
   "source": [
    "df = pd.read_csv('~/Downloads/airline2.csv')"
   ]
  },
  {
   "cell_type": "code",
   "execution_count": 3,
   "id": "0975bc18",
   "metadata": {
    "ExecuteTime": {
     "end_time": "2022-12-12T14:05:23.381974Z",
     "start_time": "2022-12-12T14:05:23.327857Z"
    }
   },
   "outputs": [
    {
     "data": {
      "text/plain": [
       "0       1900-01-03\n",
       "1       1900-01-03\n",
       "2       1900-01-03\n",
       "3       1900-01-03\n",
       "4       1900-01-03\n",
       "           ...    \n",
       "99995   1900-02-22\n",
       "99996   1900-02-22\n",
       "99997   1900-02-23\n",
       "99998   1900-02-23\n",
       "99999   1900-02-23\n",
       "Name: date, Length: 100000, dtype: datetime64[ns]"
      ]
     },
     "execution_count": 3,
     "metadata": {},
     "output_type": "execute_result"
    }
   ],
   "source": [
    "df[[\"Month\", \"DayofMonth\"]] = df[[\"Month\", \"DayofMonth\"]].astype(str)\n",
    "df[\"date\"] = df[\"DayofMonth\"] +'-'+ df[\"Month\"]\n",
    "df[\"date\"] = pd.to_datetime(df[\"date\"], format=\"%d-%m\", errors=\"coerce\")\n",
    "df[\"date\"]"
   ]
  },
  {
   "cell_type": "code",
   "execution_count": 4,
   "id": "57c96fc0",
   "metadata": {
    "ExecuteTime": {
     "end_time": "2022-12-12T14:05:23.385953Z",
     "start_time": "2022-12-12T14:05:23.383185Z"
    }
   },
   "outputs": [
    {
     "data": {
      "text/plain": [
       "709"
      ]
     },
     "execution_count": 4,
     "metadata": {},
     "output_type": "execute_result"
    }
   ],
   "source": [
    "df[\"date\"].isna().sum()"
   ]
  },
  {
   "cell_type": "code",
   "execution_count": 5,
   "id": "ee75a91a",
   "metadata": {
    "ExecuteTime": {
     "end_time": "2022-12-12T14:05:23.401635Z",
     "start_time": "2022-12-12T14:05:23.386855Z"
    }
   },
   "outputs": [
    {
     "data": {
      "text/html": [
       "<div>\n",
       "<style scoped>\n",
       "    .dataframe tbody tr th:only-of-type {\n",
       "        vertical-align: middle;\n",
       "    }\n",
       "\n",
       "    .dataframe tbody tr th {\n",
       "        vertical-align: top;\n",
       "    }\n",
       "\n",
       "    .dataframe thead th {\n",
       "        text-align: right;\n",
       "    }\n",
       "</style>\n",
       "<table border=\"1\" class=\"dataframe\">\n",
       "  <thead>\n",
       "    <tr style=\"text-align: right;\">\n",
       "      <th></th>\n",
       "      <th>FlightID</th>\n",
       "      <th>Month</th>\n",
       "      <th>DayofMonth</th>\n",
       "      <th>DayOfWeek</th>\n",
       "      <th>CRSDepTime</th>\n",
       "      <th>CRSArrTime</th>\n",
       "      <th>UniqueCarrier</th>\n",
       "      <th>FlightNum</th>\n",
       "      <th>TailNum</th>\n",
       "      <th>CRSElapsedTime</th>\n",
       "      <th>Origin</th>\n",
       "      <th>Dest</th>\n",
       "      <th>Distance</th>\n",
       "      <th>date</th>\n",
       "    </tr>\n",
       "  </thead>\n",
       "  <tbody>\n",
       "    <tr>\n",
       "      <th>10804</th>\n",
       "      <td>DTPQXZFW60546</td>\n",
       "      <td>2</td>\n",
       "      <td>29</td>\n",
       "      <td>5</td>\n",
       "      <td>800</td>\n",
       "      <td>915</td>\n",
       "      <td>WN</td>\n",
       "      <td>436</td>\n",
       "      <td>N489WN</td>\n",
       "      <td>75.0</td>\n",
       "      <td>ABQ</td>\n",
       "      <td>PHX</td>\n",
       "      <td>328</td>\n",
       "      <td>NaT</td>\n",
       "    </tr>\n",
       "    <tr>\n",
       "      <th>10805</th>\n",
       "      <td>BGCDBKUB55462</td>\n",
       "      <td>2</td>\n",
       "      <td>29</td>\n",
       "      <td>5</td>\n",
       "      <td>1720</td>\n",
       "      <td>1815</td>\n",
       "      <td>WN</td>\n",
       "      <td>3506</td>\n",
       "      <td>N325SW</td>\n",
       "      <td>55.0</td>\n",
       "      <td>AUS</td>\n",
       "      <td>DAL</td>\n",
       "      <td>189</td>\n",
       "      <td>NaT</td>\n",
       "    </tr>\n",
       "    <tr>\n",
       "      <th>10806</th>\n",
       "      <td>WFYDAMMS65538</td>\n",
       "      <td>2</td>\n",
       "      <td>29</td>\n",
       "      <td>5</td>\n",
       "      <td>655</td>\n",
       "      <td>920</td>\n",
       "      <td>WN</td>\n",
       "      <td>1615</td>\n",
       "      <td>N676SW</td>\n",
       "      <td>85.0</td>\n",
       "      <td>BHM</td>\n",
       "      <td>MCO</td>\n",
       "      <td>478</td>\n",
       "      <td>NaT</td>\n",
       "    </tr>\n",
       "    <tr>\n",
       "      <th>10807</th>\n",
       "      <td>QSNEGOUB43565</td>\n",
       "      <td>2</td>\n",
       "      <td>29</td>\n",
       "      <td>5</td>\n",
       "      <td>1020</td>\n",
       "      <td>1305</td>\n",
       "      <td>WN</td>\n",
       "      <td>2701</td>\n",
       "      <td>N616SW</td>\n",
       "      <td>105.0</td>\n",
       "      <td>BNA</td>\n",
       "      <td>MCO</td>\n",
       "      <td>616</td>\n",
       "      <td>NaT</td>\n",
       "    </tr>\n",
       "    <tr>\n",
       "      <th>10808</th>\n",
       "      <td>JWGCUWHA42421</td>\n",
       "      <td>2</td>\n",
       "      <td>29</td>\n",
       "      <td>5</td>\n",
       "      <td>1215</td>\n",
       "      <td>1425</td>\n",
       "      <td>WN</td>\n",
       "      <td>100</td>\n",
       "      <td>N757LV</td>\n",
       "      <td>310.0</td>\n",
       "      <td>BUF</td>\n",
       "      <td>LAS</td>\n",
       "      <td>1987</td>\n",
       "      <td>NaT</td>\n",
       "    </tr>\n",
       "    <tr>\n",
       "      <th>...</th>\n",
       "      <td>...</td>\n",
       "      <td>...</td>\n",
       "      <td>...</td>\n",
       "      <td>...</td>\n",
       "      <td>...</td>\n",
       "      <td>...</td>\n",
       "      <td>...</td>\n",
       "      <td>...</td>\n",
       "      <td>...</td>\n",
       "      <td>...</td>\n",
       "      <td>...</td>\n",
       "      <td>...</td>\n",
       "      <td>...</td>\n",
       "      <td>...</td>\n",
       "    </tr>\n",
       "    <tr>\n",
       "      <th>99448</th>\n",
       "      <td>SBOAWFFC10289</td>\n",
       "      <td>2</td>\n",
       "      <td>29</td>\n",
       "      <td>5</td>\n",
       "      <td>920</td>\n",
       "      <td>1022</td>\n",
       "      <td>OH</td>\n",
       "      <td>5380</td>\n",
       "      <td>N814CA</td>\n",
       "      <td>62.0</td>\n",
       "      <td>CVG</td>\n",
       "      <td>TRI</td>\n",
       "      <td>216</td>\n",
       "      <td>NaT</td>\n",
       "    </tr>\n",
       "    <tr>\n",
       "      <th>99449</th>\n",
       "      <td>RWJJHVNU93100</td>\n",
       "      <td>2</td>\n",
       "      <td>29</td>\n",
       "      <td>5</td>\n",
       "      <td>1743</td>\n",
       "      <td>2023</td>\n",
       "      <td>OH</td>\n",
       "      <td>5456</td>\n",
       "      <td>N435CA</td>\n",
       "      <td>100.0</td>\n",
       "      <td>MCI</td>\n",
       "      <td>CVG</td>\n",
       "      <td>539</td>\n",
       "      <td>NaT</td>\n",
       "    </tr>\n",
       "    <tr>\n",
       "      <th>99450</th>\n",
       "      <td>BSWSJJBC37554</td>\n",
       "      <td>2</td>\n",
       "      <td>29</td>\n",
       "      <td>5</td>\n",
       "      <td>1333</td>\n",
       "      <td>1424</td>\n",
       "      <td>OH</td>\n",
       "      <td>5537</td>\n",
       "      <td>N805CA</td>\n",
       "      <td>51.0</td>\n",
       "      <td>CMH</td>\n",
       "      <td>CVG</td>\n",
       "      <td>116</td>\n",
       "      <td>NaT</td>\n",
       "    </tr>\n",
       "    <tr>\n",
       "      <th>99451</th>\n",
       "      <td>UUVJKACO76228</td>\n",
       "      <td>2</td>\n",
       "      <td>29</td>\n",
       "      <td>5</td>\n",
       "      <td>900</td>\n",
       "      <td>1049</td>\n",
       "      <td>OH</td>\n",
       "      <td>5625</td>\n",
       "      <td>N932CA</td>\n",
       "      <td>109.0</td>\n",
       "      <td>BOS</td>\n",
       "      <td>DCA</td>\n",
       "      <td>399</td>\n",
       "      <td>NaT</td>\n",
       "    </tr>\n",
       "    <tr>\n",
       "      <th>99452</th>\n",
       "      <td>SEOYMGJJ86508</td>\n",
       "      <td>2</td>\n",
       "      <td>29</td>\n",
       "      <td>5</td>\n",
       "      <td>1320</td>\n",
       "      <td>1425</td>\n",
       "      <td>OH</td>\n",
       "      <td>5698</td>\n",
       "      <td>N589SW</td>\n",
       "      <td>65.0</td>\n",
       "      <td>CVG</td>\n",
       "      <td>PIT</td>\n",
       "      <td>256</td>\n",
       "      <td>NaT</td>\n",
       "    </tr>\n",
       "  </tbody>\n",
       "</table>\n",
       "<p>709 rows × 14 columns</p>\n",
       "</div>"
      ],
      "text/plain": [
       "            FlightID Month DayofMonth  DayOfWeek  CRSDepTime  CRSArrTime  \\\n",
       "10804  DTPQXZFW60546     2         29          5         800         915   \n",
       "10805  BGCDBKUB55462     2         29          5        1720        1815   \n",
       "10806  WFYDAMMS65538     2         29          5         655         920   \n",
       "10807  QSNEGOUB43565     2         29          5        1020        1305   \n",
       "10808  JWGCUWHA42421     2         29          5        1215        1425   \n",
       "...              ...   ...        ...        ...         ...         ...   \n",
       "99448  SBOAWFFC10289     2         29          5         920        1022   \n",
       "99449  RWJJHVNU93100     2         29          5        1743        2023   \n",
       "99450  BSWSJJBC37554     2         29          5        1333        1424   \n",
       "99451  UUVJKACO76228     2         29          5         900        1049   \n",
       "99452  SEOYMGJJ86508     2         29          5        1320        1425   \n",
       "\n",
       "      UniqueCarrier  FlightNum TailNum  CRSElapsedTime Origin Dest  Distance  \\\n",
       "10804            WN        436  N489WN            75.0    ABQ  PHX       328   \n",
       "10805            WN       3506  N325SW            55.0    AUS  DAL       189   \n",
       "10806            WN       1615  N676SW            85.0    BHM  MCO       478   \n",
       "10807            WN       2701  N616SW           105.0    BNA  MCO       616   \n",
       "10808            WN        100  N757LV           310.0    BUF  LAS      1987   \n",
       "...             ...        ...     ...             ...    ...  ...       ...   \n",
       "99448            OH       5380  N814CA            62.0    CVG  TRI       216   \n",
       "99449            OH       5456  N435CA           100.0    MCI  CVG       539   \n",
       "99450            OH       5537  N805CA            51.0    CMH  CVG       116   \n",
       "99451            OH       5625  N932CA           109.0    BOS  DCA       399   \n",
       "99452            OH       5698  N589SW            65.0    CVG  PIT       256   \n",
       "\n",
       "      date  \n",
       "10804  NaT  \n",
       "10805  NaT  \n",
       "10806  NaT  \n",
       "10807  NaT  \n",
       "10808  NaT  \n",
       "...    ...  \n",
       "99448  NaT  \n",
       "99449  NaT  \n",
       "99450  NaT  \n",
       "99451  NaT  \n",
       "99452  NaT  \n",
       "\n",
       "[709 rows x 14 columns]"
      ]
     },
     "execution_count": 5,
     "metadata": {},
     "output_type": "execute_result"
    }
   ],
   "source": [
    "df[df[\"date\"].isna()]"
   ]
  },
  {
   "cell_type": "code",
   "execution_count": 6,
   "id": "fbbfa17c",
   "metadata": {
    "ExecuteTime": {
     "end_time": "2022-12-12T14:05:23.435964Z",
     "start_time": "2022-12-12T14:05:23.402546Z"
    }
   },
   "outputs": [
    {
     "data": {
      "text/plain": [
       "0       2020-01-03\n",
       "1       2020-01-03\n",
       "2       2020-01-03\n",
       "3       2020-01-03\n",
       "4       2020-01-03\n",
       "           ...    \n",
       "99995   2020-02-22\n",
       "99996   2020-02-22\n",
       "99997   2020-02-23\n",
       "99998   2020-02-23\n",
       "99999   2020-02-23\n",
       "Name: date, Length: 100000, dtype: datetime64[ns]"
      ]
     },
     "execution_count": 6,
     "metadata": {},
     "output_type": "execute_result"
    }
   ],
   "source": [
    "df[[\"Month\", \"DayofMonth\"]] = df[[\"Month\", \"DayofMonth\"]].astype(str)\n",
    "df[\"date\"] = df[\"DayofMonth\"] +\"-\"+ df[\"Month\"] + \"-2020\"\n",
    "df[\"date\"] = pd.to_datetime(df[\"date\"], format=\"%d-%m-%Y\", errors=\"coerce\")\n",
    "df[\"date\"]"
   ]
  },
  {
   "cell_type": "code",
   "execution_count": 7,
   "id": "12f5b27f",
   "metadata": {
    "ExecuteTime": {
     "end_time": "2022-12-12T14:05:23.439662Z",
     "start_time": "2022-12-12T14:05:23.436818Z"
    }
   },
   "outputs": [
    {
     "data": {
      "text/plain": [
       "0"
      ]
     },
     "execution_count": 7,
     "metadata": {},
     "output_type": "execute_result"
    }
   ],
   "source": [
    "df[\"date\"].isna().sum()"
   ]
  },
  {
   "cell_type": "code",
   "execution_count": 8,
   "id": "af59fd60",
   "metadata": {
    "ExecuteTime": {
     "end_time": "2022-12-12T14:05:23.450492Z",
     "start_time": "2022-12-12T14:05:23.440455Z"
    }
   },
   "outputs": [
    {
     "data": {
      "text/plain": [
       "10015"
      ]
     },
     "execution_count": 8,
     "metadata": {},
     "output_type": "execute_result"
    }
   ],
   "source": [
    "df[(df['date']>=\"2020-01-02\") & (df['date']<=\"2020-01-05\")]['FlightNum'].count()"
   ]
  },
  {
   "cell_type": "code",
   "execution_count": 9,
   "id": "8d43ae9e",
   "metadata": {
    "ExecuteTime": {
     "end_time": "2022-12-12T14:05:23.454235Z",
     "start_time": "2022-12-12T14:05:23.451469Z"
    }
   },
   "outputs": [],
   "source": [
    "def NombreVol(day1, month1, day2, month2):\n",
    "    df = pd.read_csv('~/Downloads/airline2.csv')\n",
    "    df[[\"Month\", \"DayofMonth\"]] = df[[\"Month\", \"DayofMonth\"]].astype(str)\n",
    "    df[\"date\"] = df[\"DayofMonth\"] +\"-\"+ df[\"Month\"] + \"-2020\"\n",
    "    df[\"date\"] = pd.to_datetime(df[\"date\"], format=\"%d-%m-%Y\", errors=\"coerce\")\n",
    "    data1 = \"2020-{}-{}\".format(day1, month1)\n",
    "    data2 = \"2020-{}-{}\".format(day2, month2)\n",
    "    vols = df[(df['date']>=data1) & (df['date']<=data2)]['FlightNum'].count()\n",
    "    if vols > 0:\n",
    "        return vols\n",
    "    else:\n",
    "        return \"Aucun vol ce jour là.\""
   ]
  },
  {
   "cell_type": "code",
   "execution_count": 10,
   "id": "57a3c730",
   "metadata": {
    "ExecuteTime": {
     "end_time": "2022-12-12T14:05:23.589933Z",
     "start_time": "2022-12-12T14:05:23.456675Z"
    }
   },
   "outputs": [
    {
     "data": {
      "text/plain": [
       "553"
      ]
     },
     "execution_count": 10,
     "metadata": {},
     "output_type": "execute_result"
    }
   ],
   "source": [
    "NombreVol(\"02\", \"01\", \"02\", \"01\")"
   ]
  },
  {
   "cell_type": "code",
   "execution_count": 11,
   "id": "d001c78a",
   "metadata": {
    "ExecuteTime": {
     "end_time": "2022-12-12T14:05:23.721848Z",
     "start_time": "2022-12-12T14:05:23.590986Z"
    }
   },
   "outputs": [
    {
     "data": {
      "text/plain": [
       "24279"
      ]
     },
     "execution_count": 11,
     "metadata": {},
     "output_type": "execute_result"
    }
   ],
   "source": [
    "NombreVol(\"02\", \"01\", \"05\", \"01\")"
   ]
  },
  {
   "cell_type": "code",
   "execution_count": null,
   "id": "252e6fa9",
   "metadata": {
    "ExecuteTime": {
     "end_time": "2022-12-12T14:02:43.408260Z",
     "start_time": "2022-12-12T14:02:43.397113Z"
    }
   },
   "outputs": [],
   "source": []
  },
  {
   "cell_type": "code",
   "execution_count": null,
   "id": "38c49f17",
   "metadata": {},
   "outputs": [],
   "source": []
  }
 ],
 "metadata": {
  "hide_input": false,
  "kernelspec": {
   "display_name": "Python 3 (ipykernel)",
   "language": "python",
   "name": "python3"
  },
  "language_info": {
   "codemirror_mode": {
    "name": "ipython",
    "version": 3
   },
   "file_extension": ".py",
   "mimetype": "text/x-python",
   "name": "python",
   "nbconvert_exporter": "python",
   "pygments_lexer": "ipython3",
   "version": "3.9.15"
  },
  "nbTranslate": {
   "displayLangs": [
    "*"
   ],
   "hotkey": "alt-t",
   "langInMainMenu": true,
   "sourceLang": "en",
   "targetLang": "fr",
   "useGoogleTranslate": true
  },
  "toc": {
   "base_numbering": 1,
   "nav_menu": {},
   "number_sections": true,
   "sideBar": true,
   "skip_h1_title": false,
   "title_cell": "Table of Contents",
   "title_sidebar": "Contents",
   "toc_cell": false,
   "toc_position": {},
   "toc_section_display": true,
   "toc_window_display": false
  },
  "varInspector": {
   "cols": {
    "lenName": 16,
    "lenType": 16,
    "lenVar": 40
   },
   "kernels_config": {
    "python": {
     "delete_cmd_postfix": "",
     "delete_cmd_prefix": "del ",
     "library": "var_list.py",
     "varRefreshCmd": "print(var_dic_list())"
    },
    "r": {
     "delete_cmd_postfix": ") ",
     "delete_cmd_prefix": "rm(",
     "library": "var_list.r",
     "varRefreshCmd": "cat(var_dic_list()) "
    }
   },
   "types_to_exclude": [
    "module",
    "function",
    "builtin_function_or_method",
    "instance",
    "_Feature"
   ],
   "window_display": false
  }
 },
 "nbformat": 4,
 "nbformat_minor": 5
}

{
 "cells": [
  {
   "cell_type": "markdown",
   "id": "9e57aa7e",
   "metadata": {},
   "source": [
    "# Importing the Libraries"
   ]
  },
  {
   "cell_type": "code",
   "execution_count": 1,
   "id": "ec8a7198",
   "metadata": {
    "ExecuteTime": {
     "end_time": "2022-08-02T21:48:27.754441Z",
     "start_time": "2022-08-02T21:48:27.071400Z"
    }
   },
   "outputs": [],
   "source": [
    "import torch\n",
    "import torch.nn as nn\n",
    "import matplotlib.pyplot as plt\n",
    "import numpy as np\n",
    "import random\n",
    "from termcolor import colored"
   ]
  },
  {
   "cell_type": "markdown",
   "id": "c5494742",
   "metadata": {},
   "source": [
    "# Making Predictions"
   ]
  },
  {
   "cell_type": "code",
   "execution_count": 2,
   "id": "3c353ace",
   "metadata": {
    "ExecuteTime": {
     "end_time": "2022-08-02T21:48:27.757510Z",
     "start_time": "2022-08-02T21:48:27.755612Z"
    }
   },
   "outputs": [],
   "source": [
    "w = torch.tensor(3.0, requires_grad=True)\n",
    "b = torch.tensor(1.0, requires_grad=True)"
   ]
  },
  {
   "cell_type": "code",
   "execution_count": 3,
   "id": "63ccadc7",
   "metadata": {
    "ExecuteTime": {
     "end_time": "2022-08-02T21:48:27.760087Z",
     "start_time": "2022-08-02T21:48:27.758424Z"
    }
   },
   "outputs": [],
   "source": [
    "def forward(x):\n",
    "    y = w * x + b\n",
    "    return y"
   ]
  },
  {
   "cell_type": "code",
   "execution_count": 4,
   "id": "50f20131",
   "metadata": {
    "ExecuteTime": {
     "end_time": "2022-08-02T21:48:27.763783Z",
     "start_time": "2022-08-02T21:48:27.761499Z"
    }
   },
   "outputs": [
    {
     "name": "stdout",
     "output_type": "stream",
     "text": [
      "tensor(7., grad_fn=<AddBackward0>)\n"
     ]
    }
   ],
   "source": [
    "x = torch.tensor(2)\n",
    "print(forward(x))"
   ]
  },
  {
   "cell_type": "code",
   "execution_count": 5,
   "id": "923ea400",
   "metadata": {
    "ExecuteTime": {
     "end_time": "2022-08-02T21:48:27.766524Z",
     "start_time": "2022-08-02T21:48:27.764517Z"
    }
   },
   "outputs": [
    {
     "name": "stdout",
     "output_type": "stream",
     "text": [
      "tensor([[13.],\n",
      "        [22.]], grad_fn=<AddBackward0>)\n"
     ]
    }
   ],
   "source": [
    "x = torch.tensor([[4], [7]])\n",
    "print(forward(x))"
   ]
  },
  {
   "cell_type": "markdown",
   "id": "7f041c18",
   "metadata": {},
   "source": [
    "# Linear Class"
   ]
  },
  {
   "cell_type": "code",
   "execution_count": 6,
   "id": "501bd996",
   "metadata": {
    "ExecuteTime": {
     "end_time": "2022-08-02T21:48:27.770011Z",
     "start_time": "2022-08-02T21:48:27.767505Z"
    }
   },
   "outputs": [
    {
     "name": "stdout",
     "output_type": "stream",
     "text": [
      "Parameter containing:\n",
      "tensor([[0.5153]], requires_grad=True) Parameter containing:\n",
      "tensor([-0.4414], requires_grad=True)\n"
     ]
    }
   ],
   "source": [
    "torch.manual_seed(1)\n",
    "model = nn.Linear(in_features=1, out_features=1)\n",
    "print(model.weight, model.bias)"
   ]
  },
  {
   "cell_type": "code",
   "execution_count": 7,
   "id": "7d35b776",
   "metadata": {
    "ExecuteTime": {
     "end_time": "2022-08-02T21:48:27.772811Z",
     "start_time": "2022-08-02T21:48:27.770830Z"
    }
   },
   "outputs": [
    {
     "name": "stdout",
     "output_type": "stream",
     "text": [
      "tensor([0.5891], grad_fn=<AddBackward0>)\n"
     ]
    }
   ],
   "source": [
    "x = torch.tensor([2.0])\n",
    "print(model(x))"
   ]
  },
  {
   "cell_type": "code",
   "execution_count": 8,
   "id": "7839543a",
   "metadata": {
    "ExecuteTime": {
     "end_time": "2022-08-02T21:48:27.775543Z",
     "start_time": "2022-08-02T21:48:27.773594Z"
    }
   },
   "outputs": [
    {
     "name": "stdout",
     "output_type": "stream",
     "text": [
      "tensor([[0.5891],\n",
      "        [1.2590]], grad_fn=<AddmmBackward0>)\n"
     ]
    }
   ],
   "source": [
    "x = torch.tensor([[2.0], [3.3]])\n",
    "print(model(x))"
   ]
  },
  {
   "cell_type": "markdown",
   "id": "b6191f7d",
   "metadata": {},
   "source": [
    "# Custom Modules"
   ]
  },
  {
   "cell_type": "code",
   "execution_count": 9,
   "id": "97b588a2",
   "metadata": {
    "ExecuteTime": {
     "end_time": "2022-08-02T21:48:27.778273Z",
     "start_time": "2022-08-02T21:48:27.776368Z"
    }
   },
   "outputs": [],
   "source": [
    "class LR(nn.Module):\n",
    "\n",
    "    def __init__(self, input_size, output_size):\n",
    "        super().__init__()\n",
    "        self.linear = nn.Linear(input_size, output_size)\n",
    "\n",
    "    def forward(self, x):\n",
    "        pred = self.linear(x)\n",
    "        return pred"
   ]
  },
  {
   "cell_type": "code",
   "execution_count": 10,
   "id": "110a7116",
   "metadata": {
    "ExecuteTime": {
     "end_time": "2022-08-02T21:48:27.782703Z",
     "start_time": "2022-08-02T21:48:27.780366Z"
    }
   },
   "outputs": [
    {
     "name": "stdout",
     "output_type": "stream",
     "text": [
      "[Parameter containing:\n",
      "tensor([[0.5153]], requires_grad=True), Parameter containing:\n",
      "tensor([-0.4414], requires_grad=True)]\n"
     ]
    }
   ],
   "source": [
    "torch.manual_seed(1)\n",
    "model = LR(1, 1)\n",
    "print(list(model.parameters()))"
   ]
  },
  {
   "cell_type": "code",
   "execution_count": 11,
   "id": "9be982f5",
   "metadata": {
    "ExecuteTime": {
     "end_time": "2022-08-02T21:48:27.785091Z",
     "start_time": "2022-08-02T21:48:27.783406Z"
    }
   },
   "outputs": [
    {
     "name": "stdout",
     "output_type": "stream",
     "text": [
      "<generator object Module.parameters at 0x11f756900>\n"
     ]
    }
   ],
   "source": [
    "print(model.parameters())"
   ]
  },
  {
   "cell_type": "code",
   "execution_count": 12,
   "id": "64c6817e",
   "metadata": {
    "ExecuteTime": {
     "end_time": "2022-08-02T21:48:27.788028Z",
     "start_time": "2022-08-02T21:48:27.785928Z"
    }
   },
   "outputs": [
    {
     "name": "stdout",
     "output_type": "stream",
     "text": [
      "tensor([0.0739], grad_fn=<AddBackward0>)\n"
     ]
    }
   ],
   "source": [
    "x = torch.tensor([1.0])\n",
    "print(model.forward(x))"
   ]
  },
  {
   "cell_type": "code",
   "execution_count": 13,
   "id": "eda98158",
   "metadata": {
    "ExecuteTime": {
     "end_time": "2022-08-02T21:48:27.791059Z",
     "start_time": "2022-08-02T21:48:27.788873Z"
    }
   },
   "outputs": [
    {
     "name": "stdout",
     "output_type": "stream",
     "text": [
      "tensor([[0.0739],\n",
      "        [0.5891]], grad_fn=<AddmmBackward0>)\n"
     ]
    }
   ],
   "source": [
    "x = torch.tensor([[1.0], [2.0]])\n",
    "print(model.forward(x))"
   ]
  },
  {
   "cell_type": "markdown",
   "id": "b7afb970",
   "metadata": {
    "ExecuteTime": {
     "end_time": "2022-07-21T01:19:38.272762Z",
     "start_time": "2022-07-21T01:19:38.266612Z"
    }
   },
   "source": [
    "# Creating Dataset"
   ]
  },
  {
   "cell_type": "code",
   "execution_count": 14,
   "id": "387e6de3",
   "metadata": {
    "ExecuteTime": {
     "end_time": "2022-08-02T21:48:27.794192Z",
     "start_time": "2022-08-02T21:48:27.792008Z"
    }
   },
   "outputs": [
    {
     "name": "stdout",
     "output_type": "stream",
     "text": [
      "tensor([[ 0.1163],\n",
      "        [ 0.7213],\n",
      "        [ 0.5636],\n",
      "        [ 1.1431],\n",
      "        [ 0.8590],\n",
      "        [ 0.7056],\n",
      "        [-0.3406],\n",
      "        [-1.2720],\n",
      "        [-1.1948],\n",
      "        [ 0.0250]])\n"
     ]
    }
   ],
   "source": [
    "X = torch.randn(10, 1)\n",
    "print(X)"
   ]
  },
  {
   "cell_type": "code",
   "execution_count": 15,
   "id": "ece49b14",
   "metadata": {
    "ExecuteTime": {
     "end_time": "2022-08-02T21:48:27.847575Z",
     "start_time": "2022-08-02T21:48:27.795372Z"
    }
   },
   "outputs": [
    {
     "data": {
      "text/plain": [
       "[<matplotlib.lines.Line2D at 0x12c127a60>]"
      ]
     },
     "execution_count": 15,
     "metadata": {},
     "output_type": "execute_result"
    },
    {
     "data": {
      "image/png": "[encoded data removed]",
      "text/plain": [
       "<Figure size 432x288 with 1 Axes>"
      ]
     },
     "metadata": {
      "needs_background": "light"
     },
     "output_type": "display_data"
    }
   ],
   "source": [
    "X = torch.randn(100, 1) * 10\n",
    "y = X\n",
    "plt.plot(X.numpy(), y.numpy(), 'o', c=np.random.rand(3))"
   ]
  },
  {
   "cell_type": "code",
   "execution_count": 16,
   "id": "03f17dd3",
   "metadata": {
    "ExecuteTime": {
     "end_time": "2022-08-02T21:48:27.892079Z",
     "start_time": "2022-08-02T21:48:27.848541Z"
    },
    "scrolled": true
   },
   "outputs": [
    {
     "data": {
      "text/plain": [
       "Text(0.5, 0, 'x')"
      ]
     },
     "execution_count": 16,
     "metadata": {},
     "output_type": "execute_result"
    },
    {
     "data": {
      "image/png": "[encoded data removed]",
      "text/plain": [
       "<Figure size 432x288 with 1 Axes>"
      ]
     },
     "metadata": {
      "needs_background": "light"
     },
     "output_type": "display_data"
    }
   ],
   "source": [
    "y = X + 3 * torch.randn(100, 1)\n",
    "plt.plot(X.numpy(), y.numpy(), 'o', c=np.random.rand(3))\n",
    "plt.ylabel('y')\n",
    "plt.xlabel('x')"
   ]
  },
  {
   "cell_type": "code",
   "execution_count": 17,
   "id": "8494ce8d",
   "metadata": {
    "ExecuteTime": {
     "end_time": "2022-08-02T21:48:27.895073Z",
     "start_time": "2022-08-02T21:48:27.893024Z"
    }
   },
   "outputs": [
    {
     "name": "stdout",
     "output_type": "stream",
     "text": [
      "LR(\n",
      "  (linear): Linear(in_features=1, out_features=1, bias=True)\n",
      ")\n"
     ]
    }
   ],
   "source": [
    "print(model)"
   ]
  },
  {
   "cell_type": "code",
   "execution_count": 18,
   "id": "03721fc1",
   "metadata": {
    "ExecuteTime": {
     "end_time": "2022-08-02T21:48:27.898472Z",
     "start_time": "2022-08-02T21:48:27.895955Z"
    }
   },
   "outputs": [
    {
     "name": "stdout",
     "output_type": "stream",
     "text": [
      "[Parameter containing:\n",
      "tensor([[0.5153]], requires_grad=True), Parameter containing:\n",
      "tensor([-0.4414], requires_grad=True)]\n"
     ]
    }
   ],
   "source": [
    "[w, b] = model.parameters()\n",
    "print([w, b])"
   ]
  },
  {
   "cell_type": "code",
   "execution_count": 19,
   "id": "50263d33",
   "metadata": {
    "ExecuteTime": {
     "end_time": "2022-08-02T21:48:27.901600Z",
     "start_time": "2022-08-02T21:48:27.899361Z"
    }
   },
   "outputs": [
    {
     "name": "stdout",
     "output_type": "stream",
     "text": [
      "tensor(0.5153, grad_fn=<SelectBackward0>) tensor(-0.4414, grad_fn=<SelectBackward0>)\n"
     ]
    }
   ],
   "source": [
    "w1 = w[0][0]\n",
    "b1 = b[0]\n",
    "print(w1, b1)"
   ]
  },
  {
   "cell_type": "code",
   "execution_count": 20,
   "id": "bc478dec",
   "metadata": {
    "ExecuteTime": {
     "end_time": "2022-08-02T21:48:27.904821Z",
     "start_time": "2022-08-02T21:48:27.902629Z"
    }
   },
   "outputs": [
    {
     "name": "stdout",
     "output_type": "stream",
     "text": [
      "0.5152631998062134 -0.44137823581695557\n"
     ]
    }
   ],
   "source": [
    "w1 = w[0][0].item()\n",
    "b1 = b[0].item()\n",
    "print(w1, b1)"
   ]
  },
  {
   "cell_type": "code",
   "execution_count": 21,
   "id": "63bfdc62",
   "metadata": {
    "ExecuteTime": {
     "end_time": "2022-08-02T21:48:27.907960Z",
     "start_time": "2022-08-02T21:48:27.906195Z"
    }
   },
   "outputs": [],
   "source": [
    "def get_params():\n",
    "    return (w[0][0].item(), b[0].item())"
   ]
  },
  {
   "cell_type": "code",
   "execution_count": 22,
   "id": "d80305a7",
   "metadata": {
    "ExecuteTime": {
     "end_time": "2022-08-02T21:48:27.910912Z",
     "start_time": "2022-08-02T21:48:27.908880Z"
    }
   },
   "outputs": [],
   "source": [
    "def plot_fit(title):\n",
    "    plt.title = title\n",
    "    w1, b1 = get_params()\n",
    "    x1 = np.array([-30, 30])\n",
    "    y1 = w1 * x1 + b1\n",
    "    plt.plot(x1, y1, 'r')\n",
    "    plt.scatter(X, y, color=np.random.rand(3))\n",
    "    plt.show()"
   ]
  },
  {
   "cell_type": "code",
   "execution_count": 23,
   "id": "025ce143",
   "metadata": {
    "ExecuteTime": {
     "end_time": "2022-08-02T21:48:27.957030Z",
     "start_time": "2022-08-02T21:48:27.911837Z"
    }
   },
   "outputs": [
    {
     "data": {
      "image/png": "[encoded data removed]",
      "text/plain": [
       "<Figure size 432x288 with 1 Axes>"
      ]
     },
     "metadata": {
      "needs_background": "light"
     },
     "output_type": "display_data"
    }
   ],
   "source": [
    "plot_fit(\"Initial Model\")"
   ]
  },
  {
   "cell_type": "markdown",
   "id": "f7a6262e",
   "metadata": {
    "ExecuteTime": {
     "end_time": "2022-07-21T02:44:23.523234Z",
     "start_time": "2022-07-21T02:44:23.514722Z"
    }
   },
   "source": [
    "# Training - Code Implementation"
   ]
  },
  {
   "cell_type": "code",
   "execution_count": 24,
   "id": "043f883d",
   "metadata": {
    "ExecuteTime": {
     "end_time": "2022-08-02T21:48:27.961998Z",
     "start_time": "2022-08-02T21:48:27.960188Z"
    }
   },
   "outputs": [],
   "source": [
    "criterion = nn.MSELoss()\n",
    "optimizer = torch.optim.SGD(model.parameters(), lr=0.001)"
   ]
  },
  {
   "cell_type": "code",
   "execution_count": 25,
   "id": "c5c7a888",
   "metadata": {
    "ExecuteTime": {
     "end_time": "2022-08-02T21:48:27.964901Z",
     "start_time": "2022-08-02T21:48:27.963037Z"
    }
   },
   "outputs": [
    {
     "name": "stdout",
     "output_type": "stream",
     "text": [
      "MSELoss()\n"
     ]
    }
   ],
   "source": [
    "print(criterion)"
   ]
  },
  {
   "cell_type": "code",
   "execution_count": 26,
   "id": "feab6b6a",
   "metadata": {
    "ExecuteTime": {
     "end_time": "2022-08-02T21:48:27.967337Z",
     "start_time": "2022-08-02T21:48:27.965742Z"
    }
   },
   "outputs": [
    {
     "name": "stdout",
     "output_type": "stream",
     "text": [
      "SGD (\n",
      "Parameter Group 0\n",
      "    dampening: 0\n",
      "    foreach: None\n",
      "    lr: 0.001\n",
      "    maximize: False\n",
      "    momentum: 0\n",
      "    nesterov: False\n",
      "    weight_decay: 0\n",
      ")\n"
     ]
    }
   ],
   "source": [
    "print(optimizer)"
   ]
  },
  {
   "cell_type": "code",
   "execution_count": 38,
   "id": "24a9bda9",
   "metadata": {
    "ExecuteTime": {
     "end_time": "2022-08-02T21:49:47.221141Z",
     "start_time": "2022-08-02T21:49:47.201754Z"
    }
   },
   "outputs": [
    {
     "name": "stdout",
     "output_type": "stream",
     "text": [
      "\u001b[1m\u001b[36mepoch:\u001b[0m 1 \u001b[36mloss:\u001b[0m 9.29307746887207\n",
      "\u001b[36mweight:\u001b[0m 1.0040624141693115 \u001b[36mbias:\u001b[0m -0.4163966774940491\n",
      "\u001b[1m\u001b[36mepoch:\u001b[0m 10 \u001b[36mloss:\u001b[0m 9.264630317687988\n",
      "\u001b[36mweight:\u001b[0m 1.0093979835510254 \u001b[36mbias:\u001b[0m -0.4145067036151886\n",
      "\u001b[1m\u001b[36mepoch:\u001b[0m 20 \u001b[36mloss:\u001b[0m 9.247184753417969\n",
      "\u001b[36mweight:\u001b[0m 1.0133920907974243 \u001b[36mbias:\u001b[0m -0.41263270378112793\n",
      "\u001b[1m\u001b[36mepoch:\u001b[0m 30 \u001b[36mloss:\u001b[0m 9.235923767089844\n",
      "\u001b[36mweight:\u001b[0m 1.0163809061050415 \u001b[36mbias:\u001b[0m -0.41077154874801636\n",
      "\u001b[1m\u001b[36mepoch:\u001b[0m 40 \u001b[36mloss:\u001b[0m 9.228140830993652\n",
      "\u001b[36mweight:\u001b[0m 1.0186165571212769 \u001b[36mbias:\u001b[0m -0.40892094373703003\n",
      "\u001b[1m\u001b[36mepoch:\u001b[0m 50 \u001b[36mloss:\u001b[0m 9.22231674194336\n",
      "\u001b[36mweight:\u001b[0m 1.0202876329421997 \u001b[36mbias:\u001b[0m -0.40707916021347046\n",
      "\u001b[1m\u001b[36mepoch:\u001b[0m 60 \u001b[36mloss:\u001b[0m 9.217597961425781\n",
      "\u001b[36mweight:\u001b[0m 1.0215357542037964 \u001b[36mbias:\u001b[0m -0.4052448570728302\n",
      "\u001b[1m\u001b[36mepoch:\u001b[0m 70 \u001b[36mloss:\u001b[0m 9.213504791259766\n",
      "\u001b[36mweight:\u001b[0m 1.0224668979644775 \u001b[36mbias:\u001b[0m -0.40341708064079285\n",
      "\u001b[1m\u001b[36mepoch:\u001b[0m 80 \u001b[36mloss:\u001b[0m 9.209771156311035\n",
      "\u001b[36mweight:\u001b[0m 1.023160457611084 \u001b[36mbias:\u001b[0m -0.4015950858592987\n",
      "\u001b[1m\u001b[36mepoch:\u001b[0m 90 \u001b[36mloss:\u001b[0m 9.206242561340332\n",
      "\u001b[36mweight:\u001b[0m 1.0236760377883911 \u001b[36mbias:\u001b[0m -0.3997783064842224\n",
      "\u001b[1m\u001b[36mepoch:\u001b[0m 100 \u001b[36mloss:\u001b[0m 9.202836990356445\n",
      "\u001b[36mweight:\u001b[0m 1.0240583419799805 \u001b[36mbias:\u001b[0m -0.3979663550853729\n"
     ]
    }
   ],
   "source": [
    "epochs = 100\n",
    "losses = []\n",
    "termcolors = [\n",
    "    \"grey\", \"red\", \"green\", \"yellow\", \"blue\", \"magenta\", \"cyan\", \"white\"\n",
    "]\n",
    "font_colors = random.choices(termcolors, k=2)\n",
    "for i in range(epochs):\n",
    "    i += 1\n",
    "    y_pred = model.forward(X)\n",
    "    loss = criterion(y_pred, y)\n",
    "    if i == 1 or i % 10 == 0:\n",
    "        print(colored(\"epoch:\", font_colors[0], attrs=['bold']), i,\n",
    "              colored(\"loss:\", font_colors[1]), loss.item())\n",
    "        print(colored(\"weight:\", font_colors[1]),\n",
    "              list(model.parameters())[0][0][0].item(),\n",
    "              colored(\"bias:\", font_colors[1]),\n",
    "              list(model.parameters())[1][0].item())\n",
    "    else:\n",
    "        continue\n",
    "    losses.append(loss)\n",
    "    optimizer.zero_grad()\n",
    "    loss.backward()\n",
    "    optimizer.step()"
   ]
  },
  {
   "cell_type": "code",
   "execution_count": null,
   "id": "c161a428",
   "metadata": {
    "ExecuteTime": {
     "end_time": "2022-08-02T14:16:17.231901Z",
     "start_time": "2022-08-02T14:16:17.229795Z"
    }
   },
   "outputs": [],
   "source": []
  },
  {
   "cell_type": "code",
   "execution_count": null,
   "id": "16e7e7eb",
   "metadata": {
    "ExecuteTime": {
     "end_time": "2022-08-02T14:16:17.234858Z",
     "start_time": "2022-08-02T14:16:17.232689Z"
    }
   },
   "outputs": [],
   "source": []
  },
  {
   "cell_type": "code",
   "execution_count": 46,
   "id": "5de7c260",
   "metadata": {
    "ExecuteTime": {
     "end_time": "2022-08-02T21:51:09.571262Z",
     "start_time": "2022-08-02T21:51:09.562321Z"
    }
   },
   "outputs": [
    {
     "name": "stdout",
     "output_type": "stream",
     "text": [
      "['red', 'grey']\n",
      "['cyan', 'white']\n",
      "['magenta', 'yellow']\n",
      "['magenta', 'grey']\n",
      "['yellow', 'magenta']\n",
      "['yellow', 'white']\n",
      "['white', 'yellow']\n",
      "['yellow', 'magenta']\n",
      "['cyan', 'blue']\n",
      "['grey', 'red']\n",
      "['grey', 'red']\n",
      "['magenta', 'blue']\n",
      "['red', 'grey']\n",
      "['red', 'white']\n",
      "['magenta', 'yellow']\n",
      "['green', 'green']\n",
      "['grey', 'white']\n",
      "['grey', 'red']\n",
      "['cyan', 'magenta']\n",
      "['yellow', 'green']\n",
      "['green', 'cyan']\n",
      "['grey', 'cyan']\n",
      "['green', 'green']\n",
      "['cyan', 'yellow']\n",
      "['yellow', 'blue']\n",
      "['grey', 'yellow']\n",
      "['red', 'magenta']\n",
      "['white', 'yellow']\n",
      "['blue', 'red']\n",
      "['red', 'yellow']\n",
      "['green', 'cyan']\n",
      "['yellow', 'cyan']\n",
      "['green', 'blue']\n",
      "['grey', 'red']\n",
      "['white', 'white']\n",
      "['grey', 'red']\n",
      "['blue', 'white']\n",
      "['white', 'green']\n",
      "['grey', 'cyan']\n",
      "['blue', 'white']\n",
      "['magenta', 'yellow']\n",
      "['grey', 'green']\n",
      "['yellow', 'red']\n",
      "['yellow', 'red']\n",
      "['white', 'white']\n",
      "['white', 'white']\n",
      "['red', 'white']\n",
      "['magenta', 'red']\n",
      "['magenta', 'cyan']\n",
      "['blue', 'white']\n",
      "['white', 'grey']\n",
      "['magenta', 'red']\n",
      "['cyan', 'yellow']\n",
      "['cyan', 'white']\n",
      "['white', 'magenta']\n",
      "['blue', 'cyan']\n",
      "['magenta', 'red']\n",
      "['green', 'cyan']\n",
      "['red', 'white']\n",
      "['magenta', 'green']\n",
      "['yellow', 'magenta']\n",
      "['yellow', 'white']\n",
      "['white', 'magenta']\n",
      "['white', 'green']\n",
      "['green', 'yellow']\n",
      "['green', 'green']\n",
      "['cyan', 'red']\n",
      "['green', 'red']\n",
      "['magenta', 'cyan']\n",
      "['magenta', 'white']\n",
      "['white', 'blue']\n",
      "['yellow', 'red']\n",
      "['blue', 'white']\n",
      "['yellow', 'blue']\n",
      "['green', 'blue']\n",
      "['blue', 'magenta']\n",
      "['green', 'grey']\n",
      "['magenta', 'yellow']\n",
      "['magenta', 'white']\n",
      "['red', 'grey']\n",
      "['white', 'grey']\n",
      "['grey', 'green']\n",
      "['yellow', 'white']\n",
      "['blue', 'white']\n",
      "['red', 'cyan']\n",
      "['blue', 'yellow']\n",
      "['green', 'red']\n",
      "['green', 'white']\n",
      "['cyan', 'magenta']\n",
      "['magenta', 'cyan']\n",
      "['green', 'grey']\n",
      "['magenta', 'blue']\n",
      "['yellow', 'green']\n",
      "['cyan', 'magenta']\n",
      "['yellow', 'red']\n",
      "['red', 'blue']\n",
      "['blue', 'green']\n",
      "['magenta', 'green']\n",
      "['grey', 'yellow']\n",
      "['green', 'red']\n"
     ]
    }
   ],
   "source": [
    "for i in range(100):\n",
    "    termcolors = [\n",
    "        \"grey\", \"red\", \"green\", \"yellow\", \"blue\", \"magenta\", \"cyan\", \"white\"\n",
    "    ]\n",
    "    colors = random.choices(termcolors, k=2)\n",
    "    print(colors)"
   ]
  },
  {
   "cell_type": "code",
   "execution_count": 43,
   "id": "a7f1ea85",
   "metadata": {
    "ExecuteTime": {
     "end_time": "2022-08-02T21:50:45.309289Z",
     "start_time": "2022-08-02T21:50:45.300473Z"
    }
   },
   "outputs": [
    {
     "data": {
      "text/plain": [
       "['grey', 'white']"
      ]
     },
     "execution_count": 43,
     "metadata": {},
     "output_type": "execute_result"
    }
   ],
   "source": [
    "colors"
   ]
  },
  {
   "cell_type": "code",
   "execution_count": null,
   "id": "72625802",
   "metadata": {
    "ExecuteTime": {
     "end_time": "2022-08-02T14:45:41.796203Z",
     "start_time": "2022-08-02T14:45:41.784151Z"
    }
   },
   "outputs": [],
   "source": []
  },
  {
   "cell_type": "code",
   "execution_count": null,
   "id": "49d1d175",
   "metadata": {},
   "outputs": [],
   "source": []
  }
 ],
 "metadata": {
  "hide_input": false,
  "kernelspec": {
   "display_name": "Python 3 (ipykernel)",
   "language": "python",
   "name": "python3"
  },
  "language_info": {
   "codemirror_mode": {
    "name": "ipython",
    "version": 3
   },
   "file_extension": ".py",
   "mimetype": "text/x-python",
   "name": "python",
   "nbconvert_exporter": "python",
   "pygments_lexer": "ipython3",
   "version": "3.9.12"
  },
  "latex_envs": {
   "LaTeX_envs_menu_present": true,
   "autoclose": false,
   "autocomplete": true,
   "bibliofile": "biblio.bib",
   "cite_by": "apalike",
   "current_citInitial": 1,
   "eqLabelWithNumbers": true,
   "eqNumInitial": 1,
   "hotkeys": {
    "equation": "Ctrl-E",
    "itemize": "Ctrl-I"
   },
   "labels_anchors": false,
   "latex_user_defs": false,
   "report_style_numbering": false,
   "user_envs_cfg": false
  },
  "nbTranslate": {
   "displayLangs": [
    "*"
   ],
   "hotkey": "alt-t",
   "langInMainMenu": true,
   "sourceLang": "en",
   "targetLang": "fr",
   "useGoogleTranslate": true
  },
  "toc": {
   "base_numbering": 1,
   "nav_menu": {},
   "number_sections": true,
   "sideBar": true,
   "skip_h1_title": false,
   "title_cell": "Table of Contents",
   "title_sidebar": "Contents",
   "toc_cell": false,
   "toc_position": {},
   "toc_section_display": true,
   "toc_window_display": true
  }
 },
 "nbformat": 4,
 "nbformat_minor": 5
}

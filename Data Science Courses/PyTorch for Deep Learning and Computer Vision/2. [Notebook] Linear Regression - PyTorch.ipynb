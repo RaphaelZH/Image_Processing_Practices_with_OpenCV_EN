{
 "cells": [
  {
   "cell_type": "markdown",
   "id": "9e57aa7e",
   "metadata": {},
   "source": [
    "# Importing the Libraries"
   ]
  },
  {
   "cell_type": "code",
   "execution_count": 1,
   "id": "ec8a7198",
   "metadata": {
    "ExecuteTime": {
     "end_time": "2022-08-01T21:49:38.599786Z",
     "start_time": "2022-08-01T21:49:37.846215Z"
    }
   },
   "outputs": [],
   "source": [
    "import torch\n",
    "import torch.nn as nn\n",
    "import matplotlib.pyplot as plt\n",
    "import numpy as np"
   ]
  },
  {
   "cell_type": "markdown",
   "id": "c5494742",
   "metadata": {},
   "source": [
    "# Making Predictions"
   ]
  },
  {
   "cell_type": "code",
   "execution_count": 2,
   "id": "3c353ace",
   "metadata": {
    "ExecuteTime": {
     "end_time": "2022-08-01T21:49:38.602898Z",
     "start_time": "2022-08-01T21:49:38.600984Z"
    }
   },
   "outputs": [],
   "source": [
    "w = torch.tensor(3.0, requires_grad=True)\n",
    "b = torch.tensor(1.0, requires_grad=True)"
   ]
  },
  {
   "cell_type": "code",
   "execution_count": 3,
   "id": "63ccadc7",
   "metadata": {
    "ExecuteTime": {
     "end_time": "2022-08-01T21:49:38.605184Z",
     "start_time": "2022-08-01T21:49:38.603740Z"
    }
   },
   "outputs": [],
   "source": [
    "def forward(x):\n",
    "    y = w * x + b\n",
    "    return y"
   ]
  },
  {
   "cell_type": "code",
   "execution_count": 4,
   "id": "50f20131",
   "metadata": {
    "ExecuteTime": {
     "end_time": "2022-08-01T21:49:38.609018Z",
     "start_time": "2022-08-01T21:49:38.606578Z"
    }
   },
   "outputs": [
    {
     "name": "stdout",
     "output_type": "stream",
     "text": [
      "tensor(7., grad_fn=<AddBackward0>)\n"
     ]
    }
   ],
   "source": [
    "x = torch.tensor(2)\n",
    "print(forward(x))"
   ]
  },
  {
   "cell_type": "code",
   "execution_count": 5,
   "id": "923ea400",
   "metadata": {
    "ExecuteTime": {
     "end_time": "2022-08-01T21:49:38.611728Z",
     "start_time": "2022-08-01T21:49:38.609772Z"
    }
   },
   "outputs": [
    {
     "name": "stdout",
     "output_type": "stream",
     "text": [
      "tensor([[13.],\n",
      "        [22.]], grad_fn=<AddBackward0>)\n"
     ]
    }
   ],
   "source": [
    "x = torch.tensor([[4], [7]])\n",
    "print(forward(x))"
   ]
  },
  {
   "cell_type": "markdown",
   "id": "7f041c18",
   "metadata": {},
   "source": [
    "# Linear Class"
   ]
  },
  {
   "cell_type": "code",
   "execution_count": 6,
   "id": "501bd996",
   "metadata": {
    "ExecuteTime": {
     "end_time": "2022-08-01T21:49:38.616864Z",
     "start_time": "2022-08-01T21:49:38.612428Z"
    }
   },
   "outputs": [
    {
     "name": "stdout",
     "output_type": "stream",
     "text": [
      "Parameter containing:\n",
      "tensor([[0.5153]], requires_grad=True) Parameter containing:\n",
      "tensor([-0.4414], requires_grad=True)\n"
     ]
    }
   ],
   "source": [
    "torch.manual_seed(1)\n",
    "model = nn.Linear(in_features=1, out_features=1)\n",
    "print(model.weight, model.bias)"
   ]
  },
  {
   "cell_type": "code",
   "execution_count": 7,
   "id": "7d35b776",
   "metadata": {
    "ExecuteTime": {
     "end_time": "2022-08-01T21:49:38.619848Z",
     "start_time": "2022-08-01T21:49:38.617653Z"
    }
   },
   "outputs": [
    {
     "name": "stdout",
     "output_type": "stream",
     "text": [
      "tensor([0.5891], grad_fn=<AddBackward0>)\n"
     ]
    }
   ],
   "source": [
    "x = torch.tensor([2.0])\n",
    "print(model(x))"
   ]
  },
  {
   "cell_type": "code",
   "execution_count": 8,
   "id": "7839543a",
   "metadata": {
    "ExecuteTime": {
     "end_time": "2022-08-01T21:49:38.623010Z",
     "start_time": "2022-08-01T21:49:38.620801Z"
    }
   },
   "outputs": [
    {
     "name": "stdout",
     "output_type": "stream",
     "text": [
      "tensor([[0.5891],\n",
      "        [1.2590]], grad_fn=<AddmmBackward0>)\n"
     ]
    }
   ],
   "source": [
    "x = torch.tensor([[2.0], [3.3]])\n",
    "print(model(x))"
   ]
  },
  {
   "cell_type": "markdown",
   "id": "b6191f7d",
   "metadata": {},
   "source": [
    "# Custom Modules"
   ]
  },
  {
   "cell_type": "code",
   "execution_count": 9,
   "id": "97b588a2",
   "metadata": {
    "ExecuteTime": {
     "end_time": "2022-08-01T21:49:38.625608Z",
     "start_time": "2022-08-01T21:49:38.623889Z"
    }
   },
   "outputs": [],
   "source": [
    "class LR(nn.Module):\n",
    "\n",
    "    def __init__(self, input_size, output_size):\n",
    "        super().__init__()\n",
    "        self.linear = nn.Linear(input_size, output_size)\n",
    "\n",
    "    def forward(self, x):\n",
    "        pred = self.linear(x)\n",
    "        return pred"
   ]
  },
  {
   "cell_type": "code",
   "execution_count": 10,
   "id": "110a7116",
   "metadata": {
    "ExecuteTime": {
     "end_time": "2022-08-01T21:49:38.630061Z",
     "start_time": "2022-08-01T21:49:38.627774Z"
    }
   },
   "outputs": [
    {
     "name": "stdout",
     "output_type": "stream",
     "text": [
      "<generator object Module.parameters at 0x12ea7fb30>\n",
      "[Parameter containing:\n",
      "tensor([[0.5153]], requires_grad=True), Parameter containing:\n",
      "tensor([-0.4414], requires_grad=True)]\n"
     ]
    }
   ],
   "source": [
    "torch.manual_seed(1)\n",
    "model = LR(1, 1)\n",
    "print(model.parameters())\n",
    "print(list(model.parameters()))"
   ]
  },
  {
   "cell_type": "code",
   "execution_count": 11,
   "id": "64c6817e",
   "metadata": {
    "ExecuteTime": {
     "end_time": "2022-08-01T21:49:38.633202Z",
     "start_time": "2022-08-01T21:49:38.631078Z"
    }
   },
   "outputs": [
    {
     "name": "stdout",
     "output_type": "stream",
     "text": [
      "tensor([0.0739], grad_fn=<AddBackward0>)\n"
     ]
    }
   ],
   "source": [
    "x = torch.tensor([1.0])\n",
    "print(model.forward(x))"
   ]
  },
  {
   "cell_type": "code",
   "execution_count": 12,
   "id": "eda98158",
   "metadata": {
    "ExecuteTime": {
     "end_time": "2022-08-01T21:49:38.636372Z",
     "start_time": "2022-08-01T21:49:38.634256Z"
    }
   },
   "outputs": [
    {
     "name": "stdout",
     "output_type": "stream",
     "text": [
      "tensor([[0.0739],\n",
      "        [0.5891]], grad_fn=<AddmmBackward0>)\n"
     ]
    }
   ],
   "source": [
    "x = torch.tensor([[1.0], [2.0]])\n",
    "print(model.forward(x))"
   ]
  },
  {
   "cell_type": "markdown",
   "id": "b7afb970",
   "metadata": {
    "ExecuteTime": {
     "end_time": "2022-07-21T01:19:38.272762Z",
     "start_time": "2022-07-21T01:19:38.266612Z"
    }
   },
   "source": [
    "# Creating Dataset"
   ]
  },
  {
   "cell_type": "code",
   "execution_count": 13,
   "id": "387e6de3",
   "metadata": {
    "ExecuteTime": {
     "end_time": "2022-08-01T21:49:38.639315Z",
     "start_time": "2022-08-01T21:49:38.637275Z"
    }
   },
   "outputs": [
    {
     "name": "stdout",
     "output_type": "stream",
     "text": [
      "tensor([[ 0.1163],\n",
      "        [ 0.7213],\n",
      "        [ 0.5636],\n",
      "        [ 1.1431],\n",
      "        [ 0.8590],\n",
      "        [ 0.7056],\n",
      "        [-0.3406],\n",
      "        [-1.2720],\n",
      "        [-1.1948],\n",
      "        [ 0.0250]])\n"
     ]
    }
   ],
   "source": [
    "X = torch.randn(10, 1)\n",
    "print(X)"
   ]
  },
  {
   "cell_type": "code",
   "execution_count": 14,
   "id": "ece49b14",
   "metadata": {
    "ExecuteTime": {
     "end_time": "2022-08-01T21:49:38.693915Z",
     "start_time": "2022-08-01T21:49:38.640029Z"
    }
   },
   "outputs": [
    {
     "data": {
      "text/plain": [
       "[<matplotlib.lines.Line2D at 0x12ec5bf10>]"
      ]
     },
     "execution_count": 14,
     "metadata": {},
     "output_type": "execute_result"
    },
    {
     "data": {
      "image/png": "[encoded data removed]",
      "text/plain": [
       "<Figure size 432x288 with 1 Axes>"
      ]
     },
     "metadata": {
      "needs_background": "light"
     },
     "output_type": "display_data"
    }
   ],
   "source": [
    "X = torch.randn(100, 1) * 10\n",
    "y = X\n",
    "plt.plot(X.numpy(), y.numpy(), 'o', c=np.random.rand(3))"
   ]
  },
  {
   "cell_type": "code",
   "execution_count": 15,
   "id": "03f17dd3",
   "metadata": {
    "ExecuteTime": {
     "end_time": "2022-08-01T21:49:38.740126Z",
     "start_time": "2022-08-01T21:49:38.695045Z"
    },
    "scrolled": true
   },
   "outputs": [
    {
     "data": {
      "text/plain": [
       "Text(0.5, 0, 'x')"
      ]
     },
     "execution_count": 15,
     "metadata": {},
     "output_type": "execute_result"
    },
    {
     "data": {
      "image/png": "[encoded data removed]",
      "text/plain": [
       "<Figure size 432x288 with 1 Axes>"
      ]
     },
     "metadata": {
      "needs_background": "light"
     },
     "output_type": "display_data"
    }
   ],
   "source": [
    "y = X + 3 * torch.randn(100, 1)\n",
    "plt.plot(X.numpy(), y.numpy(), 'o', c=np.random.rand(3))\n",
    "plt.ylabel('y')\n",
    "plt.xlabel('x')"
   ]
  },
  {
   "cell_type": "code",
   "execution_count": 16,
   "id": "8494ce8d",
   "metadata": {
    "ExecuteTime": {
     "end_time": "2022-08-01T21:49:38.743448Z",
     "start_time": "2022-08-01T21:49:38.741336Z"
    }
   },
   "outputs": [
    {
     "name": "stdout",
     "output_type": "stream",
     "text": [
      "LR(\n",
      "  (linear): Linear(in_features=1, out_features=1, bias=True)\n",
      ")\n"
     ]
    }
   ],
   "source": [
    "print(model)"
   ]
  },
  {
   "cell_type": "code",
   "execution_count": 17,
   "id": "03721fc1",
   "metadata": {
    "ExecuteTime": {
     "end_time": "2022-08-01T21:49:38.747214Z",
     "start_time": "2022-08-01T21:49:38.744522Z"
    }
   },
   "outputs": [
    {
     "name": "stdout",
     "output_type": "stream",
     "text": [
      "[Parameter containing:\n",
      "tensor([[0.5153]], requires_grad=True), Parameter containing:\n",
      "tensor([-0.4414], requires_grad=True)]\n"
     ]
    }
   ],
   "source": [
    "[w, b] = model.parameters()\n",
    "print([w, b])"
   ]
  },
  {
   "cell_type": "code",
   "execution_count": 18,
   "id": "50263d33",
   "metadata": {
    "ExecuteTime": {
     "end_time": "2022-08-01T21:49:38.750297Z",
     "start_time": "2022-08-01T21:49:38.748045Z"
    }
   },
   "outputs": [
    {
     "name": "stdout",
     "output_type": "stream",
     "text": [
      "tensor(0.5153, grad_fn=<SelectBackward0>) tensor(-0.4414, grad_fn=<SelectBackward0>)\n"
     ]
    }
   ],
   "source": [
    "w1 = w[0][0]\n",
    "b1 = b[0]\n",
    "print(w1, b1)"
   ]
  },
  {
   "cell_type": "code",
   "execution_count": 19,
   "id": "bc478dec",
   "metadata": {
    "ExecuteTime": {
     "end_time": "2022-08-01T21:49:38.753167Z",
     "start_time": "2022-08-01T21:49:38.751242Z"
    }
   },
   "outputs": [
    {
     "name": "stdout",
     "output_type": "stream",
     "text": [
      "0.5152631998062134 -0.44137823581695557\n"
     ]
    }
   ],
   "source": [
    "w1 = w[0][0].item()\n",
    "b1 = b[0].item()\n",
    "print(w1, b1)"
   ]
  },
  {
   "cell_type": "code",
   "execution_count": 20,
   "id": "63bfdc62",
   "metadata": {
    "ExecuteTime": {
     "end_time": "2022-08-01T21:49:38.755915Z",
     "start_time": "2022-08-01T21:49:38.754166Z"
    }
   },
   "outputs": [],
   "source": [
    "def get_params():\n",
    "    return (w[0][0].item(), b[0].item())"
   ]
  },
  {
   "cell_type": "code",
   "execution_count": 21,
   "id": "d80305a7",
   "metadata": {
    "ExecuteTime": {
     "end_time": "2022-08-01T21:49:38.759350Z",
     "start_time": "2022-08-01T21:49:38.757228Z"
    }
   },
   "outputs": [],
   "source": [
    "def plot_fit(title):\n",
    "    plt.title = title\n",
    "    w1, b1 = get_params()\n",
    "    x1 = np.array([-30, 30])\n",
    "    y1 = w1 * x1 + b1\n",
    "    plt.plot(x1, y1, 'r')\n",
    "    plt.scatter(X, y, color=np.random.rand(3))\n",
    "    plt.show()"
   ]
  },
  {
   "cell_type": "code",
   "execution_count": 22,
   "id": "025ce143",
   "metadata": {
    "ExecuteTime": {
     "end_time": "2022-08-01T21:49:38.804684Z",
     "start_time": "2022-08-01T21:49:38.760259Z"
    }
   },
   "outputs": [
    {
     "data": {
      "image/png": "[encoded data removed]",
      "text/plain": [
       "<Figure size 432x288 with 1 Axes>"
      ]
     },
     "metadata": {
      "needs_background": "light"
     },
     "output_type": "display_data"
    }
   ],
   "source": [
    "plot_fit(\"Initial Model\")"
   ]
  },
  {
   "cell_type": "markdown",
   "id": "f7a6262e",
   "metadata": {
    "ExecuteTime": {
     "end_time": "2022-07-21T02:44:23.523234Z",
     "start_time": "2022-07-21T02:44:23.514722Z"
    }
   },
   "source": [
    "# Training - Code Implementation"
   ]
  },
  {
   "cell_type": "code",
   "execution_count": 23,
   "id": "043f883d",
   "metadata": {
    "ExecuteTime": {
     "end_time": "2022-08-01T21:49:38.807759Z",
     "start_time": "2022-08-01T21:49:38.805530Z"
    }
   },
   "outputs": [
    {
     "name": "stdout",
     "output_type": "stream",
     "text": [
      "MSELoss()\n",
      "SGD (\n",
      "Parameter Group 0\n",
      "    dampening: 0\n",
      "    foreach: None\n",
      "    lr: 0.01\n",
      "    maximize: False\n",
      "    momentum: 0\n",
      "    nesterov: False\n",
      "    weight_decay: 0\n",
      ")\n"
     ]
    }
   ],
   "source": [
    "criterion = nn.MSELoss()\n",
    "optimizer = torch.optim.SGD(model.parameters(), lr=0.01)\n",
    "print(criterion)\n",
    "print(optimizer)"
   ]
  },
  {
   "cell_type": "code",
   "execution_count": 26,
   "id": "a31efae4",
   "metadata": {
    "ExecuteTime": {
     "end_time": "2022-08-01T21:50:56.602727Z",
     "start_time": "2022-08-01T21:50:56.584356Z"
    }
   },
   "outputs": [
    {
     "name": "stdout",
     "output_type": "stream",
     "text": [
      "epoch: 0 loss: 41.9151611328125\n",
      "epoch: 1 loss: 41.9151611328125\n",
      "epoch: 2 loss: 41.9151611328125\n",
      "epoch: 3 loss: 41.9151611328125\n",
      "epoch: 4 loss: 41.9151611328125\n",
      "epoch: 5 loss: 41.9151611328125\n",
      "epoch: 6 loss: 41.9151611328125\n",
      "epoch: 7 loss: 41.9151611328125\n",
      "epoch: 8 loss: 41.9151611328125\n",
      "epoch: 9 loss: 41.9151611328125\n",
      "epoch: 10 loss: 41.9151611328125\n",
      "epoch: 11 loss: 41.9151611328125\n",
      "epoch: 12 loss: 41.9151611328125\n",
      "epoch: 13 loss: 41.9151611328125\n",
      "epoch: 14 loss: 41.9151611328125\n",
      "epoch: 15 loss: 41.9151611328125\n",
      "epoch: 16 loss: 41.9151611328125\n",
      "epoch: 17 loss: 41.9151611328125\n",
      "epoch: 18 loss: 41.9151611328125\n",
      "epoch: 19 loss: 41.9151611328125\n",
      "epoch: 20 loss: 41.9151611328125\n",
      "epoch: 21 loss: 41.9151611328125\n",
      "epoch: 22 loss: 41.9151611328125\n",
      "epoch: 23 loss: 41.9151611328125\n",
      "epoch: 24 loss: 41.9151611328125\n",
      "epoch: 25 loss: 41.9151611328125\n",
      "epoch: 26 loss: 41.9151611328125\n",
      "epoch: 27 loss: 41.9151611328125\n",
      "epoch: 28 loss: 41.9151611328125\n",
      "epoch: 29 loss: 41.9151611328125\n",
      "epoch: 30 loss: 41.9151611328125\n",
      "epoch: 31 loss: 41.9151611328125\n",
      "epoch: 32 loss: 41.9151611328125\n",
      "epoch: 33 loss: 41.9151611328125\n",
      "epoch: 34 loss: 41.9151611328125\n",
      "epoch: 35 loss: 41.9151611328125\n",
      "epoch: 36 loss: 41.9151611328125\n",
      "epoch: 37 loss: 41.9151611328125\n",
      "epoch: 38 loss: 41.9151611328125\n",
      "epoch: 39 loss: 41.9151611328125\n",
      "epoch: 40 loss: 41.9151611328125\n",
      "epoch: 41 loss: 41.9151611328125\n",
      "epoch: 42 loss: 41.9151611328125\n",
      "epoch: 43 loss: 41.9151611328125\n",
      "epoch: 44 loss: 41.9151611328125\n",
      "epoch: 45 loss: 41.9151611328125\n",
      "epoch: 46 loss: 41.9151611328125\n",
      "epoch: 47 loss: 41.9151611328125\n",
      "epoch: 48 loss: 41.9151611328125\n",
      "epoch: 49 loss: 41.9151611328125\n",
      "epoch: 50 loss: 41.9151611328125\n",
      "epoch: 51 loss: 41.9151611328125\n",
      "epoch: 52 loss: 41.9151611328125\n",
      "epoch: 53 loss: 41.9151611328125\n",
      "epoch: 54 loss: 41.9151611328125\n",
      "epoch: 55 loss: 41.9151611328125\n",
      "epoch: 56 loss: 41.9151611328125\n",
      "epoch: 57 loss: 41.9151611328125\n",
      "epoch: 58 loss: 41.9151611328125\n",
      "epoch: 59 loss: 41.9151611328125\n",
      "epoch: 60 loss: 41.9151611328125\n",
      "epoch: 61 loss: 41.9151611328125\n",
      "epoch: 62 loss: 41.9151611328125\n",
      "epoch: 63 loss: 41.9151611328125\n",
      "epoch: 64 loss: 41.9151611328125\n",
      "epoch: 65 loss: 41.9151611328125\n",
      "epoch: 66 loss: 41.9151611328125\n",
      "epoch: 67 loss: 41.9151611328125\n",
      "epoch: 68 loss: 41.9151611328125\n",
      "epoch: 69 loss: 41.9151611328125\n",
      "epoch: 70 loss: 41.9151611328125\n",
      "epoch: 71 loss: 41.9151611328125\n",
      "epoch: 72 loss: 41.9151611328125\n",
      "epoch: 73 loss: 41.9151611328125\n",
      "epoch: 74 loss: 41.9151611328125\n",
      "epoch: 75 loss: 41.9151611328125\n",
      "epoch: 76 loss: 41.9151611328125\n",
      "epoch: 77 loss: 41.9151611328125\n",
      "epoch: 78 loss: 41.9151611328125\n",
      "epoch: 79 loss: 41.9151611328125\n",
      "epoch: 80 loss: 41.9151611328125\n",
      "epoch: 81 loss: 41.9151611328125\n",
      "epoch: 82 loss: 41.9151611328125\n",
      "epoch: 83 loss: 41.9151611328125\n",
      "epoch: 84 loss: 41.9151611328125\n",
      "epoch: 85 loss: 41.9151611328125\n",
      "epoch: 86 loss: 41.9151611328125\n",
      "epoch: 87 loss: 41.9151611328125\n",
      "epoch: 88 loss: 41.9151611328125\n",
      "epoch: 89 loss: 41.9151611328125\n",
      "epoch: 90 loss: 41.9151611328125\n",
      "epoch: 91 loss: 41.9151611328125\n",
      "epoch: 92 loss: 41.9151611328125\n",
      "epoch: 93 loss: 41.9151611328125\n",
      "epoch: 94 loss: 41.9151611328125\n",
      "epoch: 95 loss: 41.9151611328125\n",
      "epoch: 96 loss: 41.9151611328125\n",
      "epoch: 97 loss: 41.9151611328125\n",
      "epoch: 98 loss: 41.9151611328125\n",
      "epoch: 99 loss: 41.9151611328125\n"
     ]
    }
   ],
   "source": [
    "epochs = 100\n",
    "for i in range(epochs):\n",
    "    y_pred = model.forward(X)\n",
    "    loss = criterion(y_pred, y)\n",
    "    print(\"epoch:\", i, \"loss:\", loss.item())"
   ]
  },
  {
   "cell_type": "code",
   "execution_count": null,
   "id": "2b448fbb",
   "metadata": {},
   "outputs": [],
   "source": []
  }
 ],
 "metadata": {
  "hide_input": false,
  "kernelspec": {
   "display_name": "Python 3 (ipykernel)",
   "language": "python",
   "name": "python3"
  },
  "language_info": {
   "codemirror_mode": {
    "name": "ipython",
    "version": 3
   },
   "file_extension": ".py",
   "mimetype": "text/x-python",
   "name": "python",
   "nbconvert_exporter": "python",
   "pygments_lexer": "ipython3",
   "version": "3.9.12"
  },
  "latex_envs": {
   "LaTeX_envs_menu_present": true,
   "autoclose": false,
   "autocomplete": true,
   "bibliofile": "biblio.bib",
   "cite_by": "apalike",
   "current_citInitial": 1,
   "eqLabelWithNumbers": true,
   "eqNumInitial": 1,
   "hotkeys": {
    "equation": "Ctrl-E",
    "itemize": "Ctrl-I"
   },
   "labels_anchors": false,
   "latex_user_defs": false,
   "report_style_numbering": false,
   "user_envs_cfg": false
  },
  "nbTranslate": {
   "displayLangs": [
    "*"
   ],
   "hotkey": "alt-t",
   "langInMainMenu": true,
   "sourceLang": "en",
   "targetLang": "fr",
   "useGoogleTranslate": true
  },
  "toc": {
   "base_numbering": 1,
   "nav_menu": {},
   "number_sections": true,
   "sideBar": true,
   "skip_h1_title": false,
   "title_cell": "Table of Contents",
   "title_sidebar": "Contents",
   "toc_cell": false,
   "toc_position": {},
   "toc_section_display": true,
   "toc_window_display": true
  }
 },
 "nbformat": 4,
 "nbformat_minor": 5
}

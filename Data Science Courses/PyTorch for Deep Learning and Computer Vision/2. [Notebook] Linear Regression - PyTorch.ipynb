{
 "cells": [
  {
   "cell_type": "markdown",
   "id": "599c387d",
   "metadata": {},
   "source": [
    "# Importing the Libraries"
   ]
  },
  {
   "cell_type": "code",
   "execution_count": 1,
   "id": "c3463c9b",
   "metadata": {
    "ExecuteTime": {
     "end_time": "2022-07-21T02:50:15.276285Z",
     "start_time": "2022-07-21T02:50:14.537899Z"
    }
   },
   "outputs": [],
   "source": [
    "import torch\n",
    "import torch.nn as nn\n",
    "import matplotlib.pyplot as plt\n",
    "import numpy as np"
   ]
  },
  {
   "cell_type": "markdown",
   "id": "b9ec0cad",
   "metadata": {},
   "source": [
    "# Making Predictions"
   ]
  },
  {
   "cell_type": "code",
   "execution_count": 2,
   "id": "85dfffb8",
   "metadata": {
    "ExecuteTime": {
     "end_time": "2022-07-21T02:50:15.279895Z",
     "start_time": "2022-07-21T02:50:15.277627Z"
    }
   },
   "outputs": [],
   "source": [
    "w = torch.tensor(3.0, requires_grad=True)\n",
    "b = torch.tensor(1.0, requires_grad=True)"
   ]
  },
  {
   "cell_type": "code",
   "execution_count": 3,
   "id": "c59acf46",
   "metadata": {
    "ExecuteTime": {
     "end_time": "2022-07-21T02:50:15.282425Z",
     "start_time": "2022-07-21T02:50:15.280639Z"
    }
   },
   "outputs": [],
   "source": [
    "def forward(x):\n",
    "    y = w * x + b\n",
    "    return y"
   ]
  },
  {
   "cell_type": "code",
   "execution_count": 4,
   "id": "933b79b6",
   "metadata": {
    "ExecuteTime": {
     "end_time": "2022-07-21T02:50:15.286112Z",
     "start_time": "2022-07-21T02:50:15.283833Z"
    }
   },
   "outputs": [
    {
     "name": "stdout",
     "output_type": "stream",
     "text": [
      "tensor(7., grad_fn=<AddBackward0>)\n"
     ]
    }
   ],
   "source": [
    "x = torch.tensor(2)\n",
    "print(forward(x))"
   ]
  },
  {
   "cell_type": "code",
   "execution_count": 5,
   "id": "dce7996b",
   "metadata": {
    "ExecuteTime": {
     "end_time": "2022-07-21T02:50:15.289507Z",
     "start_time": "2022-07-21T02:50:15.287094Z"
    }
   },
   "outputs": [
    {
     "name": "stdout",
     "output_type": "stream",
     "text": [
      "tensor([[13.],\n",
      "        [22.]], grad_fn=<AddBackward0>)\n"
     ]
    }
   ],
   "source": [
    "x = torch.tensor([[4], [7]])\n",
    "print(forward(x))"
   ]
  },
  {
   "cell_type": "markdown",
   "id": "fe636261",
   "metadata": {},
   "source": [
    "# Linear Class"
   ]
  },
  {
   "cell_type": "code",
   "execution_count": 6,
   "id": "dca6c4fc",
   "metadata": {
    "ExecuteTime": {
     "end_time": "2022-07-21T02:50:15.293476Z",
     "start_time": "2022-07-21T02:50:15.290275Z"
    }
   },
   "outputs": [
    {
     "name": "stdout",
     "output_type": "stream",
     "text": [
      "Parameter containing:\n",
      "tensor([[0.5153]], requires_grad=True) Parameter containing:\n",
      "tensor([-0.4414], requires_grad=True)\n"
     ]
    }
   ],
   "source": [
    "torch.manual_seed(1)\n",
    "model = nn.Linear(in_features=1, out_features=1)\n",
    "print(model.weight, model.bias)"
   ]
  },
  {
   "cell_type": "code",
   "execution_count": 7,
   "id": "c74da0d1",
   "metadata": {
    "ExecuteTime": {
     "end_time": "2022-07-21T02:50:15.296543Z",
     "start_time": "2022-07-21T02:50:15.294327Z"
    }
   },
   "outputs": [
    {
     "name": "stdout",
     "output_type": "stream",
     "text": [
      "tensor([0.5891], grad_fn=<AddBackward0>)\n"
     ]
    }
   ],
   "source": [
    "x = torch.tensor([2.0])\n",
    "print(model(x))"
   ]
  },
  {
   "cell_type": "code",
   "execution_count": 8,
   "id": "9dd11882",
   "metadata": {
    "ExecuteTime": {
     "end_time": "2022-07-21T02:50:15.299827Z",
     "start_time": "2022-07-21T02:50:15.297330Z"
    }
   },
   "outputs": [
    {
     "name": "stdout",
     "output_type": "stream",
     "text": [
      "tensor([[0.5891],\n",
      "        [1.2590]], grad_fn=<AddmmBackward0>)\n"
     ]
    }
   ],
   "source": [
    "x = torch.tensor([[2.0], [3.3]])\n",
    "print(model(x))"
   ]
  },
  {
   "cell_type": "markdown",
   "id": "3c0ef130",
   "metadata": {},
   "source": [
    "# Custom Modules"
   ]
  },
  {
   "cell_type": "code",
   "execution_count": 9,
   "id": "01a5485d",
   "metadata": {
    "ExecuteTime": {
     "end_time": "2022-07-21T02:50:15.302538Z",
     "start_time": "2022-07-21T02:50:15.300714Z"
    }
   },
   "outputs": [],
   "source": [
    "class LR(nn.Module):\n",
    "\n",
    "    def __init__(self, input_size, output_size):\n",
    "        super().__init__()\n",
    "        self.linear = nn.Linear(input_size, output_size)\n",
    "\n",
    "    def forward(self, x):\n",
    "        pred = self.linear(x)\n",
    "        return pred"
   ]
  },
  {
   "cell_type": "code",
   "execution_count": 10,
   "id": "b27617de",
   "metadata": {
    "ExecuteTime": {
     "end_time": "2022-07-21T02:50:15.307149Z",
     "start_time": "2022-07-21T02:50:15.304676Z"
    }
   },
   "outputs": [
    {
     "name": "stdout",
     "output_type": "stream",
     "text": [
      "[Parameter containing:\n",
      "tensor([[0.5153]], requires_grad=True), Parameter containing:\n",
      "tensor([-0.4414], requires_grad=True)]\n"
     ]
    }
   ],
   "source": [
    "torch.manual_seed(1)\n",
    "model = LR(1, 1)\n",
    "print(list(model.parameters()))"
   ]
  },
  {
   "cell_type": "code",
   "execution_count": 11,
   "id": "aee032fd",
   "metadata": {
    "ExecuteTime": {
     "end_time": "2022-07-21T02:50:15.309823Z",
     "start_time": "2022-07-21T02:50:15.307995Z"
    }
   },
   "outputs": [
    {
     "name": "stdout",
     "output_type": "stream",
     "text": [
      "tensor([0.0739], grad_fn=<AddBackward0>)\n"
     ]
    }
   ],
   "source": [
    "x = torch.tensor([1.0])\n",
    "print(model.forward(x))"
   ]
  },
  {
   "cell_type": "code",
   "execution_count": 12,
   "id": "747d9b03",
   "metadata": {
    "ExecuteTime": {
     "end_time": "2022-07-21T02:50:15.312569Z",
     "start_time": "2022-07-21T02:50:15.310596Z"
    }
   },
   "outputs": [
    {
     "name": "stdout",
     "output_type": "stream",
     "text": [
      "tensor([[0.0739],\n",
      "        [0.5891]], grad_fn=<AddmmBackward0>)\n"
     ]
    }
   ],
   "source": [
    "x = torch.tensor([[1.0], [2.0]])\n",
    "print(model.forward(x))"
   ]
  },
  {
   "cell_type": "markdown",
   "id": "ae08369c",
   "metadata": {
    "ExecuteTime": {
     "end_time": "2022-07-21T01:19:38.272762Z",
     "start_time": "2022-07-21T01:19:38.266612Z"
    }
   },
   "source": [
    "# Creating Dataset"
   ]
  },
  {
   "cell_type": "code",
   "execution_count": 13,
   "id": "4537e62e",
   "metadata": {
    "ExecuteTime": {
     "end_time": "2022-07-21T02:50:15.315372Z",
     "start_time": "2022-07-21T02:50:15.313370Z"
    }
   },
   "outputs": [
    {
     "name": "stdout",
     "output_type": "stream",
     "text": [
      "tensor([[ 0.1163],\n",
      "        [ 0.7213],\n",
      "        [ 0.5636],\n",
      "        [ 1.1431],\n",
      "        [ 0.8590],\n",
      "        [ 0.7056],\n",
      "        [-0.3406],\n",
      "        [-1.2720],\n",
      "        [-1.1948],\n",
      "        [ 0.0250]])\n"
     ]
    }
   ],
   "source": [
    "X = torch.randn(10, 1)\n",
    "print(X)"
   ]
  },
  {
   "cell_type": "code",
   "execution_count": 14,
   "id": "42480b69",
   "metadata": {
    "ExecuteTime": {
     "end_time": "2022-07-21T02:50:15.369383Z",
     "start_time": "2022-07-21T02:50:15.316108Z"
    }
   },
   "outputs": [
    {
     "data": {
      "text/plain": [
       "[<matplotlib.lines.Line2D at 0x115f78b80>]"
      ]
     },
     "execution_count": 14,
     "metadata": {},
     "output_type": "execute_result"
    },
    {
     "data": {
      "image/png": "[encoded data removed]",
      "text/plain": [
       "<Figure size 432x288 with 1 Axes>"
      ]
     },
     "metadata": {
      "needs_background": "light"
     },
     "output_type": "display_data"
    }
   ],
   "source": [
    "X = torch.randn(100, 1) * 10\n",
    "y = X\n",
    "plt.plot(X.numpy(), y.numpy(), 'o')"
   ]
  },
  {
   "cell_type": "code",
   "execution_count": 15,
   "id": "722f9678",
   "metadata": {
    "ExecuteTime": {
     "end_time": "2022-07-21T02:50:15.413995Z",
     "start_time": "2022-07-21T02:50:15.370517Z"
    }
   },
   "outputs": [
    {
     "data": {
      "text/plain": [
       "Text(0.5, 0, 'x')"
      ]
     },
     "execution_count": 15,
     "metadata": {},
     "output_type": "execute_result"
    },
    {
     "data": {
      "image/png": "[encoded data removed]",
      "text/plain": [
       "<Figure size 432x288 with 1 Axes>"
      ]
     },
     "metadata": {
      "needs_background": "light"
     },
     "output_type": "display_data"
    }
   ],
   "source": [
    "y = X + 3 * torch.randn(100, 1)\n",
    "plt.plot(X.numpy(), y.numpy(), 'o')\n",
    "plt.ylabel('y')\n",
    "plt.xlabel('x')"
   ]
  },
  {
   "cell_type": "code",
   "execution_count": 16,
   "id": "fff44f3c",
   "metadata": {
    "ExecuteTime": {
     "end_time": "2022-07-21T02:50:15.417110Z",
     "start_time": "2022-07-21T02:50:15.414954Z"
    }
   },
   "outputs": [
    {
     "name": "stdout",
     "output_type": "stream",
     "text": [
      "LR(\n",
      "  (linear): Linear(in_features=1, out_features=1, bias=True)\n",
      ")\n"
     ]
    }
   ],
   "source": [
    "print(model)"
   ]
  },
  {
   "cell_type": "code",
   "execution_count": 17,
   "id": "8472174d",
   "metadata": {
    "ExecuteTime": {
     "end_time": "2022-07-21T02:50:15.420656Z",
     "start_time": "2022-07-21T02:50:15.418164Z"
    }
   },
   "outputs": [
    {
     "name": "stdout",
     "output_type": "stream",
     "text": [
      "[Parameter containing:\n",
      "tensor([[0.5153]], requires_grad=True), Parameter containing:\n",
      "tensor([-0.4414], requires_grad=True)]\n"
     ]
    }
   ],
   "source": [
    "[w, b] = model.parameters()\n",
    "print([w, b])"
   ]
  },
  {
   "cell_type": "code",
   "execution_count": 18,
   "id": "6196dc26",
   "metadata": {
    "ExecuteTime": {
     "end_time": "2022-07-21T02:50:15.424221Z",
     "start_time": "2022-07-21T02:50:15.421974Z"
    }
   },
   "outputs": [
    {
     "name": "stdout",
     "output_type": "stream",
     "text": [
      "tensor(0.5153, grad_fn=<SelectBackward0>) tensor(-0.4414, grad_fn=<SelectBackward0>)\n"
     ]
    }
   ],
   "source": [
    "w1 = w[0][0]\n",
    "b1 = b[0]\n",
    "print(w1, b1)"
   ]
  },
  {
   "cell_type": "code",
   "execution_count": 19,
   "id": "eeaedfb9",
   "metadata": {
    "ExecuteTime": {
     "end_time": "2022-07-21T02:50:15.426692Z",
     "start_time": "2022-07-21T02:50:15.425013Z"
    }
   },
   "outputs": [
    {
     "name": "stdout",
     "output_type": "stream",
     "text": [
      "0.5152631998062134 -0.44137823581695557\n"
     ]
    }
   ],
   "source": [
    "w1 = w[0][0].item()\n",
    "b1 = b[0].item()\n",
    "print(w1, b1)"
   ]
  },
  {
   "cell_type": "code",
   "execution_count": 20,
   "id": "6359e467",
   "metadata": {
    "ExecuteTime": {
     "end_time": "2022-07-21T02:50:15.429067Z",
     "start_time": "2022-07-21T02:50:15.427397Z"
    }
   },
   "outputs": [],
   "source": [
    "def get_params():\n",
    "    return (w[0][0].item(), b[0].item())"
   ]
  },
  {
   "cell_type": "code",
   "execution_count": 21,
   "id": "1e89ea14",
   "metadata": {
    "ExecuteTime": {
     "end_time": "2022-07-21T02:50:15.431788Z",
     "start_time": "2022-07-21T02:50:15.430041Z"
    }
   },
   "outputs": [],
   "source": [
    "def plot_fit(title):\n",
    "    plt.title = title\n",
    "    w1, b1 = get_params()\n",
    "    x1 = np.array([-30, 30])\n",
    "    y1 = w1 * x1 + b1\n",
    "    plt.plot(x1, y1, 'r')\n",
    "    plt.scatter(X, y)\n",
    "    plt.show()"
   ]
  },
  {
   "cell_type": "code",
   "execution_count": 22,
   "id": "90160974",
   "metadata": {
    "ExecuteTime": {
     "end_time": "2022-07-21T02:50:15.477497Z",
     "start_time": "2022-07-21T02:50:15.432524Z"
    }
   },
   "outputs": [
    {
     "data": {
      "image/png": "[encoded data removed]",
      "text/plain": [
       "<Figure size 432x288 with 1 Axes>"
      ]
     },
     "metadata": {
      "needs_background": "light"
     },
     "output_type": "display_data"
    }
   ],
   "source": [
    "plot_fit(\"Initial Model\")"
   ]
  },
  {
   "cell_type": "code",
   "execution_count": null,
   "id": "dd6828a1",
   "metadata": {
    "ExecuteTime": {
     "end_time": "2022-07-21T02:44:23.523234Z",
     "start_time": "2022-07-21T02:44:23.514722Z"
    }
   },
   "outputs": [],
   "source": []
  },
  {
   "cell_type": "code",
   "execution_count": null,
   "id": "ca354582",
   "metadata": {},
   "outputs": [],
   "source": []
  }
 ],
 "metadata": {
  "hide_input": false,
  "kernelspec": {
   "display_name": "Python 3 (ipykernel)",
   "language": "python",
   "name": "python3"
  },
  "language_info": {
   "codemirror_mode": {
    "name": "ipython",
    "version": 3
   },
   "file_extension": ".py",
   "mimetype": "text/x-python",
   "name": "python",
   "nbconvert_exporter": "python",
   "pygments_lexer": "ipython3",
   "version": "3.9.12"
  },
  "latex_envs": {
   "LaTeX_envs_menu_present": true,
   "autoclose": false,
   "autocomplete": true,
   "bibliofile": "biblio.bib",
   "cite_by": "apalike",
   "current_citInitial": 1,
   "eqLabelWithNumbers": true,
   "eqNumInitial": 1,
   "hotkeys": {
    "equation": "Ctrl-E",
    "itemize": "Ctrl-I"
   },
   "labels_anchors": false,
   "latex_user_defs": false,
   "report_style_numbering": false,
   "user_envs_cfg": false
  },
  "nbTranslate": {
   "displayLangs": [
    "*"
   ],
   "hotkey": "alt-t",
   "langInMainMenu": true,
   "sourceLang": "en",
   "targetLang": "fr",
   "useGoogleTranslate": true
  },
  "toc": {
   "base_numbering": 1,
   "nav_menu": {},
   "number_sections": true,
   "sideBar": true,
   "skip_h1_title": false,
   "title_cell": "Table of Contents",
   "title_sidebar": "Contents",
   "toc_cell": false,
   "toc_position": {},
   "toc_section_display": true,
   "toc_window_display": true
  }
 },
 "nbformat": 4,
 "nbformat_minor": 5
}

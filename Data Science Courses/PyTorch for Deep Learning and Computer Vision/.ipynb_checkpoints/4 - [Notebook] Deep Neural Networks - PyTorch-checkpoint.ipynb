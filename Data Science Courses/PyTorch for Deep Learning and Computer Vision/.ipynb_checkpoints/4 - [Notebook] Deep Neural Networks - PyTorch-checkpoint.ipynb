{
 "cells": [
  {
   "cell_type": "markdown",
   "id": "446dc587",
   "metadata": {},
   "source": [
    "# Importing the Libraries"
   ]
  },
  {
   "cell_type": "code",
   "execution_count": 1,
   "id": "de6a5177",
   "metadata": {
    "ExecuteTime": {
     "end_time": "2022-09-22T12:42:12.603933Z",
     "start_time": "2022-09-22T12:42:11.723276Z"
    }
   },
   "outputs": [],
   "source": [
    "import numpy as np\n",
    "import colorsys\n",
    "from sklearn import datasets\n",
    "import torch\n",
    "import matplotlib.pyplot as plt\n",
    "import torch.nn as nn\n",
    "import random\n",
    "from termcolor import colored"
   ]
  },
  {
   "cell_type": "markdown",
   "id": "c529e130",
   "metadata": {},
   "source": [
    "# Pre-installing Required Functions"
   ]
  },
  {
   "cell_type": "code",
   "execution_count": 2,
   "id": "6a0d4a15",
   "metadata": {
    "ExecuteTime": {
     "end_time": "2022-09-22T12:42:12.608636Z",
     "start_time": "2022-09-22T12:42:12.605440Z"
    }
   },
   "outputs": [],
   "source": [
    "def bright_colors(n):\n",
    "    colors = []\n",
    "    random_degree = np.random.random()\n",
    "    hue = np.repeat(random_degree / n, n)\n",
    "    hue_interval = np.linspace(0, 1, n, endpoint=False)\n",
    "    saturation = 0.875 + np.random.random() / 8.0 * np.random.choice([-1, 1])\n",
    "    lightness = 0.6 + np.random.random() / 10.0 * np.random.choice([-1, 1])\n",
    "    h = hue + hue_interval\n",
    "    s = np.repeat(saturation, n)\n",
    "    l = np.repeat(lightness, n)\n",
    "    array_hls = np.concatenate((h, l, s)).reshape(-1, n).T\n",
    "    for hls in array_hls:\n",
    "        r, g, b = [\n",
    "            int(256 * e) for e in colorsys.hls_to_rgb(hls[0], hls[1], hls[2])\n",
    "        ]\n",
    "        colors.append('#%02X%02X%02X' % (r, g, b))\n",
    "    return colors"
   ]
  },
  {
   "cell_type": "markdown",
   "id": "5d5278c2",
   "metadata": {},
   "source": [
    "# Code Implementation"
   ]
  },
  {
   "cell_type": "code",
   "execution_count": 3,
   "id": "03f853b2",
   "metadata": {
    "ExecuteTime": {
     "end_time": "2022-09-22T12:42:12.612467Z",
     "start_time": "2022-09-22T12:42:12.609731Z"
    }
   },
   "outputs": [],
   "source": [
    "n_pts = 500\n",
    "X, y = datasets.make_circles(n_samples=n_pts,\n",
    "                             random_state=123,\n",
    "                             noise=0.1,\n",
    "                             factor=0.2)\n",
    "X_data = torch.Tensor(X)\n",
    "y_data = torch.Tensor(y).reshape(500, 1)"
   ]
  },
  {
   "cell_type": "code",
   "execution_count": 4,
   "id": "5dc98264",
   "metadata": {
    "ExecuteTime": {
     "end_time": "2022-09-22T12:42:12.616102Z",
     "start_time": "2022-09-22T12:42:12.613954Z"
    }
   },
   "outputs": [],
   "source": [
    "def scatter_plot():\n",
    "    colors = bright_colors(2)\n",
    "    plt.scatter(X[y == 0, 0], X[y == 0, 1], color=colors[0])\n",
    "    plt.scatter(X[y == 1, 0], X[y == 1, 1], color=colors[1])"
   ]
  },
  {
   "cell_type": "code",
   "execution_count": 5,
   "id": "aa057dcb",
   "metadata": {
    "ExecuteTime": {
     "end_time": "2022-09-22T12:42:12.671121Z",
     "start_time": "2022-09-22T12:42:12.616866Z"
    }
   },
   "outputs": [
    {
     "data": {
      "image/png": "[encoded data removed]",
      "text/plain": [
       "<Figure size 432x288 with 1 Axes>"
      ]
     },
     "metadata": {
      "needs_background": "light"
     },
     "output_type": "display_data"
    }
   ],
   "source": [
    "scatter_plot()"
   ]
  },
  {
   "cell_type": "code",
   "execution_count": 6,
   "id": "dd5ac3e3",
   "metadata": {
    "ExecuteTime": {
     "end_time": "2022-09-22T12:42:12.674807Z",
     "start_time": "2022-09-22T12:42:12.672332Z"
    }
   },
   "outputs": [],
   "source": [
    "class Model(nn.Module):\n",
    "\n",
    "    def __init__(self, input_size, H1, output_size):\n",
    "        super().__init__()\n",
    "        self.linear = nn.Linear(input_size, H1)\n",
    "        self.linear2 = nn.Linear(H1, output_size)\n",
    "\n",
    "    def forward(self, x):\n",
    "        x = torch.sigmoid(self.linear(x))\n",
    "        x = torch.sigmoid(self.linear2(x))\n",
    "        return x\n",
    "    \n",
    "    def predict(self, x):\n",
    "        pred = self.forward(x)\n",
    "        if pred >= 0.5:\n",
    "            return 1\n",
    "        else:\n",
    "            return 0"
   ]
  },
  {
   "cell_type": "code",
   "execution_count": 7,
   "id": "0ebe0c2a",
   "metadata": {
    "ExecuteTime": {
     "end_time": "2022-09-22T12:42:12.679028Z",
     "start_time": "2022-09-22T12:42:12.675754Z"
    }
   },
   "outputs": [
    {
     "name": "stdout",
     "output_type": "stream",
     "text": [
      "[Parameter containing:\n",
      "tensor([[ 0.1622, -0.1683],\n",
      "        [ 0.1939, -0.0361],\n",
      "        [ 0.3021,  0.1683],\n",
      "        [-0.0813, -0.5717]], requires_grad=True), Parameter containing:\n",
      "tensor([ 0.1614, -0.6260,  0.0929,  0.0470], requires_grad=True), Parameter containing:\n",
      "tensor([[-0.1099,  0.4088,  0.0334,  0.2073]], requires_grad=True), Parameter containing:\n",
      "tensor([0.2116], requires_grad=True)]\n"
     ]
    }
   ],
   "source": [
    "torch.manual_seed(2)\n",
    "model = Model(2, 4, 1)\n",
    "print(list(model.parameters()))"
   ]
  },
  {
   "cell_type": "code",
   "execution_count": 8,
   "id": "3e239890",
   "metadata": {
    "ExecuteTime": {
     "end_time": "2022-09-22T12:42:12.681793Z",
     "start_time": "2022-09-22T12:42:12.680211Z"
    }
   },
   "outputs": [],
   "source": [
    "criterion = nn.BCELoss()\n",
    "optimizer = torch.optim.Adam(model.parameters(), lr=0.01)"
   ]
  },
  {
   "cell_type": "code",
   "execution_count": 9,
   "id": "814008c0",
   "metadata": {
    "ExecuteTime": {
     "end_time": "2022-09-22T12:42:12.839228Z",
     "start_time": "2022-09-22T12:42:12.682930Z"
    }
   },
   "outputs": [
    {
     "name": "stdout",
     "output_type": "stream",
     "text": [
      "\u001b[1m\u001b[34mepoch:\u001b[0m 1 \u001b[31mloss:\u001b[0m 0.7148520350456238\n",
      "\u001b[31mweight:\u001b[0m 0.16220331192016602 \u001b[31mbias:\u001b[0m 0.16144263744354248\n",
      "\u001b[1m\u001b[34mepoch:\u001b[0m 100 \u001b[31mloss:\u001b[0m 0.6905524134635925\n",
      "\u001b[31mweight:\u001b[0m -0.08897451311349869 \u001b[31mbias:\u001b[0m 0.2542650103569031\n",
      "\u001b[1m\u001b[34mepoch:\u001b[0m 200 \u001b[31mloss:\u001b[0m 0.5843154788017273\n",
      "\u001b[31mweight:\u001b[0m -2.2341766357421875 \u001b[31mbias:\u001b[0m -1.0303683280944824\n",
      "\u001b[1m\u001b[34mepoch:\u001b[0m 300 \u001b[31mloss:\u001b[0m 0.40495428442955017\n",
      "\u001b[31mweight:\u001b[0m -4.128963470458984 \u001b[31mbias:\u001b[0m -2.5931410789489746\n",
      "\u001b[1m\u001b[34mepoch:\u001b[0m 400 \u001b[31mloss:\u001b[0m 0.329036146402359\n",
      "\u001b[31mweight:\u001b[0m -3.850017547607422 \u001b[31mbias:\u001b[0m -3.071533203125\n",
      "\u001b[1m\u001b[34mepoch:\u001b[0m 500 \u001b[31mloss:\u001b[0m 0.20069846510887146\n",
      "\u001b[31mweight:\u001b[0m -1.415880799293518 \u001b[31mbias:\u001b[0m -3.24685001373291\n",
      "\u001b[1m\u001b[34mepoch:\u001b[0m 600 \u001b[31mloss:\u001b[0m 0.11464511603116989\n",
      "\u001b[31mweight:\u001b[0m 0.13244208693504333 \u001b[31mbias:\u001b[0m -3.6859917640686035\n",
      "\u001b[1m\u001b[34mepoch:\u001b[0m 700 \u001b[31mloss:\u001b[0m 0.06716477125883102\n",
      "\u001b[31mweight:\u001b[0m 0.9845765233039856 \u001b[31mbias:\u001b[0m -3.924788236618042\n",
      "\u001b[1m\u001b[34mepoch:\u001b[0m 800 \u001b[31mloss:\u001b[0m 0.048937100917100906\n",
      "\u001b[31mweight:\u001b[0m 1.3656235933303833 \u001b[31mbias:\u001b[0m -4.119219779968262\n",
      "\u001b[1m\u001b[34mepoch:\u001b[0m 900 \u001b[31mloss:\u001b[0m 0.038923293352127075\n",
      "\u001b[31mweight:\u001b[0m 1.5326251983642578 \u001b[31mbias:\u001b[0m -4.264837741851807\n",
      "\u001b[1m\u001b[34mepoch:\u001b[0m 1000 \u001b[31mloss:\u001b[0m 0.032250311225652695\n",
      "\u001b[31mweight:\u001b[0m 1.6032304763793945 \u001b[31mbias:\u001b[0m -4.386478900909424\n"
     ]
    }
   ],
   "source": [
    "epochs = 1000\n",
    "losses = []\n",
    "termcolors = [\n",
    "    'grey', 'red', 'green', 'yellow', 'blue', 'magenta', 'cyan', 'white'\n",
    "]\n",
    "font_colors = random.choices(termcolors, k=2)\n",
    "for i in range(epochs):\n",
    "    i += 1\n",
    "    y_pred = model.forward(X_data)\n",
    "    loss = criterion(y_pred, y_data)\n",
    "    if i == 1 or i % 100 == 0:\n",
    "        print(colored(\"epoch:\", font_colors[0], attrs=['bold']), i,\n",
    "              colored(\"loss:\", font_colors[1]), loss.item())\n",
    "        print(colored(\"weight:\", font_colors[1]),\n",
    "              list(model.parameters())[0][0][0].item(),\n",
    "              colored(\"bias:\", font_colors[1]),\n",
    "              list(model.parameters())[1][0].item())\n",
    "    losses.append(loss.item())\n",
    "    optimizer.zero_grad()\n",
    "    loss.backward()\n",
    "    optimizer.step()"
   ]
  },
  {
   "cell_type": "code",
   "execution_count": 10,
   "id": "a3a1c6a8",
   "metadata": {
    "ExecuteTime": {
     "end_time": "2022-09-22T12:42:12.885760Z",
     "start_time": "2022-09-22T12:42:12.841845Z"
    }
   },
   "outputs": [
    {
     "data": {
      "text/plain": [
       "Text(0.5, 0, 'Epoch')"
      ]
     },
     "execution_count": 10,
     "metadata": {},
     "output_type": "execute_result"
    },
    {
     "data": {
      "image/png": "[encoded data removed]",
      "text/plain": [
       "<Figure size 432x288 with 1 Axes>"
      ]
     },
     "metadata": {
      "needs_background": "light"
     },
     "output_type": "display_data"
    }
   ],
   "source": [
    "colors = bright_colors(1)\n",
    "plt.plot(range(epochs), losses, c=colors[0])\n",
    "plt.ylabel('Loss')\n",
    "plt.xlabel('Epoch')"
   ]
  },
  {
   "cell_type": "code",
   "execution_count": 11,
   "id": "b16654ee",
   "metadata": {
    "ExecuteTime": {
     "end_time": "2022-09-22T12:42:12.888968Z",
     "start_time": "2022-09-22T12:42:12.887061Z"
    }
   },
   "outputs": [],
   "source": [
    "criterion = nn.BCELoss()\n",
    "optimizer = torch.optim.Adam(model.parameters(), lr=0.1)"
   ]
  },
  {
   "cell_type": "code",
   "execution_count": 12,
   "id": "a616be7e",
   "metadata": {
    "ExecuteTime": {
     "end_time": "2022-09-22T12:42:13.034241Z",
     "start_time": "2022-09-22T12:42:12.889830Z"
    }
   },
   "outputs": [
    {
     "name": "stdout",
     "output_type": "stream",
     "text": [
      "\u001b[1m\u001b[34mepoch:\u001b[0m 1 \u001b[31mloss:\u001b[0m 0.03219418227672577\n",
      "\u001b[31mweight:\u001b[0m 1.6036564111709595 \u001b[31mbias:\u001b[0m -4.387608528137207\n",
      "\u001b[1m\u001b[34mepoch:\u001b[0m 100 \u001b[31mloss:\u001b[0m 0.002283715642988682\n",
      "\u001b[31mweight:\u001b[0m 2.338900089263916 \u001b[31mbias:\u001b[0m -6.544594764709473\n",
      "\u001b[1m\u001b[34mepoch:\u001b[0m 200 \u001b[31mloss:\u001b[0m 0.0008472403278574347\n",
      "\u001b[31mweight:\u001b[0m 2.574104070663452 \u001b[31mbias:\u001b[0m -7.334736347198486\n",
      "\u001b[1m\u001b[34mepoch:\u001b[0m 300 \u001b[31mloss:\u001b[0m 0.000459971692180261\n",
      "\u001b[31mweight:\u001b[0m 2.4189774990081787 \u001b[31mbias:\u001b[0m -7.791497230529785\n",
      "\u001b[1m\u001b[34mepoch:\u001b[0m 400 \u001b[31mloss:\u001b[0m 0.00030249301926232874\n",
      "\u001b[31mweight:\u001b[0m 2.70613956451416 \u001b[31mbias:\u001b[0m -8.017717361450195\n",
      "\u001b[1m\u001b[34mepoch:\u001b[0m 500 \u001b[31mloss:\u001b[0m 0.00021857795945834368\n",
      "\u001b[31mweight:\u001b[0m 3.001237392425537 \u001b[31mbias:\u001b[0m -8.163111686706543\n",
      "\u001b[1m\u001b[34mepoch:\u001b[0m 600 \u001b[31mloss:\u001b[0m 0.0001665927848080173\n",
      "\u001b[31mweight:\u001b[0m 3.2274351119995117 \u001b[31mbias:\u001b[0m -8.257955551147461\n",
      "\u001b[1m\u001b[34mepoch:\u001b[0m 700 \u001b[31mloss:\u001b[0m 0.0001304373872699216\n",
      "\u001b[31mweight:\u001b[0m 3.3936057090759277 \u001b[31mbias:\u001b[0m -8.322925567626953\n",
      "\u001b[1m\u001b[34mepoch:\u001b[0m 800 \u001b[31mloss:\u001b[0m 0.00010342337191104889\n",
      "\u001b[31mweight:\u001b[0m 3.524733781814575 \u001b[31mbias:\u001b[0m -8.356271743774414\n",
      "\u001b[1m\u001b[34mepoch:\u001b[0m 900 \u001b[31mloss:\u001b[0m 8.306376548716798e-05\n",
      "\u001b[31mweight:\u001b[0m 3.617349624633789 \u001b[31mbias:\u001b[0m -8.328813552856445\n",
      "\u001b[1m\u001b[34mepoch:\u001b[0m 1000 \u001b[31mloss:\u001b[0m 6.849171768408269e-05\n",
      "\u001b[31mweight:\u001b[0m 3.573777437210083 \u001b[31mbias:\u001b[0m -8.29146671295166\n"
     ]
    }
   ],
   "source": [
    "losses = []\n",
    "font_colors = random.choices(termcolors, k=2)\n",
    "for i in range(epochs):\n",
    "    i += 1\n",
    "    y_pred = model.forward(X_data)\n",
    "    loss = criterion(y_pred, y_data)\n",
    "    if i == 1 or i % 100 == 0:\n",
    "        print(colored(\"epoch:\", font_colors[0], attrs=['bold']), i,\n",
    "              colored(\"loss:\", font_colors[1]), loss.item())\n",
    "        print(colored(\"weight:\", font_colors[1]),\n",
    "              list(model.parameters())[0][0][0].item(),\n",
    "              colored(\"bias:\", font_colors[1]),\n",
    "              list(model.parameters())[1][0].item())\n",
    "    losses.append(loss.item())\n",
    "    optimizer.zero_grad()\n",
    "    loss.backward()\n",
    "    optimizer.step()"
   ]
  },
  {
   "cell_type": "code",
   "execution_count": 13,
   "id": "9bfff2f7",
   "metadata": {
    "ExecuteTime": {
     "end_time": "2022-09-22T12:42:13.078742Z",
     "start_time": "2022-09-22T12:42:13.035226Z"
    }
   },
   "outputs": [
    {
     "data": {
      "text/plain": [
       "Text(0.5, 0, 'Epoch')"
      ]
     },
     "execution_count": 13,
     "metadata": {},
     "output_type": "execute_result"
    },
    {
     "data": {
      "image/png": "[encoded data removed]",
      "text/plain": [
       "<Figure size 432x288 with 1 Axes>"
      ]
     },
     "metadata": {
      "needs_background": "light"
     },
     "output_type": "display_data"
    }
   ],
   "source": [
    "colors = bright_colors(1)\n",
    "plt.plot(range(epochs), losses, c=colors[0])\n",
    "plt.ylabel('Loss')\n",
    "plt.xlabel('Epoch')"
   ]
  }
 ],
 "metadata": {
  "hide_input": false,
  "kernelspec": {
   "display_name": "Python 3 (ipykernel)",
   "language": "python",
   "name": "python3"
  },
  "language_info": {
   "codemirror_mode": {
    "name": "ipython",
    "version": 3
   },
   "file_extension": ".py",
   "mimetype": "text/x-python",
   "name": "python",
   "nbconvert_exporter": "python",
   "pygments_lexer": "ipython3",
   "version": "3.9.12"
  },
  "latex_envs": {
   "LaTeX_envs_menu_present": true,
   "autoclose": false,
   "autocomplete": true,
   "bibliofile": "biblio.bib",
   "cite_by": "apalike",
   "current_citInitial": 1,
   "eqLabelWithNumbers": true,
   "eqNumInitial": 1,
   "hotkeys": {
    "equation": "Ctrl-E",
    "itemize": "Ctrl-I"
   },
   "labels_anchors": false,
   "latex_user_defs": false,
   "report_style_numbering": false,
   "user_envs_cfg": false
  },
  "nbTranslate": {
   "displayLangs": [
    "*"
   ],
   "hotkey": "alt-t",
   "langInMainMenu": true,
   "sourceLang": "en",
   "targetLang": "fr",
   "useGoogleTranslate": true
  },
  "toc": {
   "base_numbering": 1,
   "nav_menu": {},
   "number_sections": true,
   "sideBar": true,
   "skip_h1_title": false,
   "title_cell": "Table of Contents",
   "title_sidebar": "Contents",
   "toc_cell": false,
   "toc_position": {},
   "toc_section_display": true,
   "toc_window_display": false
  }
 },
 "nbformat": 4,
 "nbformat_minor": 5
}

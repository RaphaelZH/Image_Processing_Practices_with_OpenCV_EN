{
 "cells": [
  {
   "cell_type": "markdown",
   "id": "9e57aa7e",
   "metadata": {},
   "source": [
    "# Importing Libraries"
   ]
  },
  {
   "cell_type": "code",
   "execution_count": 1,
   "id": "ec8a7198",
   "metadata": {
    "ExecuteTime": {
     "end_time": "2022-09-05T02:08:46.125637Z",
     "start_time": "2022-09-05T02:08:45.442658Z"
    }
   },
   "outputs": [],
   "source": [
    "import numpy as np\n",
    "import colorsys\n",
    "import torch\n",
    "import torch.nn as nn\n",
    "import matplotlib.pyplot as plt\n",
    "import random\n",
    "from termcolor import colored"
   ]
  },
  {
   "cell_type": "markdown",
   "id": "f8338a25",
   "metadata": {},
   "source": [
    "# Pre-installing Required Functions"
   ]
  },
  {
   "cell_type": "code",
   "execution_count": 2,
   "id": "13597912",
   "metadata": {
    "ExecuteTime": {
     "end_time": "2022-09-05T02:08:46.129983Z",
     "start_time": "2022-09-05T02:08:46.126993Z"
    }
   },
   "outputs": [],
   "source": [
    "def bright_colors(n):\n",
    "    colors = []\n",
    "    hue = np.random.random()\n",
    "    saturation = 0.5 + np.random.random() / 2.0\n",
    "    lightness = 0.4 + np.random.random() / 5.0\n",
    "    h = []\n",
    "    for i in range(n):\n",
    "        h.append(hue / n + 1 / n * i)\n",
    "    h = np.array(h)\n",
    "    s = np.repeat(saturation, n)\n",
    "    l = np.repeat(lightness, n)\n",
    "    array_hls = np.concatenate((h, l, s)).reshape(-1, n).T\n",
    "    for hls in array_hls:\n",
    "        r, g, b = [\n",
    "            int(256 * e) for e in colorsys.hls_to_rgb(hls[0], hls[1], hls[2])\n",
    "        ]\n",
    "        colors.append('#%02X%02X%02X' % (r, g, b))\n",
    "    return colors"
   ]
  },
  {
   "cell_type": "markdown",
   "id": "c5494742",
   "metadata": {},
   "source": [
    "# Making Predictions"
   ]
  },
  {
   "cell_type": "code",
   "execution_count": 3,
   "id": "3c353ace",
   "metadata": {
    "ExecuteTime": {
     "end_time": "2022-09-05T02:08:46.132842Z",
     "start_time": "2022-09-05T02:08:46.130930Z"
    }
   },
   "outputs": [],
   "source": [
    "w = torch.tensor(3.0, requires_grad=True)\n",
    "b = torch.tensor(1.0, requires_grad=True)"
   ]
  },
  {
   "cell_type": "code",
   "execution_count": 4,
   "id": "63ccadc7",
   "metadata": {
    "ExecuteTime": {
     "end_time": "2022-09-05T02:08:46.136027Z",
     "start_time": "2022-09-05T02:08:46.134432Z"
    }
   },
   "outputs": [],
   "source": [
    "def forward(x):\n",
    "    y = w * x + b\n",
    "    return y"
   ]
  },
  {
   "cell_type": "code",
   "execution_count": 5,
   "id": "50f20131",
   "metadata": {
    "ExecuteTime": {
     "end_time": "2022-09-05T02:08:46.139519Z",
     "start_time": "2022-09-05T02:08:46.136865Z"
    }
   },
   "outputs": [
    {
     "name": "stdout",
     "output_type": "stream",
     "text": [
      "tensor(7., grad_fn=<AddBackward0>)\n"
     ]
    }
   ],
   "source": [
    "x = torch.tensor(2)\n",
    "print(forward(x))"
   ]
  },
  {
   "cell_type": "code",
   "execution_count": 6,
   "id": "923ea400",
   "metadata": {
    "ExecuteTime": {
     "end_time": "2022-09-05T02:08:46.142498Z",
     "start_time": "2022-09-05T02:08:46.140421Z"
    }
   },
   "outputs": [
    {
     "name": "stdout",
     "output_type": "stream",
     "text": [
      "tensor([[13.],\n",
      "        [22.]], grad_fn=<AddBackward0>)\n"
     ]
    }
   ],
   "source": [
    "x = torch.tensor([[4], [7]])\n",
    "print(forward(x))"
   ]
  },
  {
   "cell_type": "markdown",
   "id": "7f041c18",
   "metadata": {},
   "source": [
    "# Linear Class"
   ]
  },
  {
   "cell_type": "code",
   "execution_count": 7,
   "id": "501bd996",
   "metadata": {
    "ExecuteTime": {
     "end_time": "2022-09-05T02:08:46.145910Z",
     "start_time": "2022-09-05T02:08:46.143205Z"
    }
   },
   "outputs": [
    {
     "name": "stdout",
     "output_type": "stream",
     "text": [
      "Parameter containing:\n",
      "tensor([[0.5153]], requires_grad=True) Parameter containing:\n",
      "tensor([-0.4414], requires_grad=True)\n"
     ]
    }
   ],
   "source": [
    "torch.manual_seed(1)\n",
    "model = nn.Linear(in_features=1, out_features=1)\n",
    "print(model.weight, model.bias)"
   ]
  },
  {
   "cell_type": "code",
   "execution_count": 8,
   "id": "7d35b776",
   "metadata": {
    "ExecuteTime": {
     "end_time": "2022-09-05T02:08:46.148528Z",
     "start_time": "2022-09-05T02:08:46.146700Z"
    }
   },
   "outputs": [
    {
     "name": "stdout",
     "output_type": "stream",
     "text": [
      "tensor([0.5891], grad_fn=<AddBackward0>)\n"
     ]
    }
   ],
   "source": [
    "x = torch.tensor([2.0])\n",
    "print(model(x))"
   ]
  },
  {
   "cell_type": "code",
   "execution_count": 9,
   "id": "7839543a",
   "metadata": {
    "ExecuteTime": {
     "end_time": "2022-09-05T02:08:46.151701Z",
     "start_time": "2022-09-05T02:08:46.149385Z"
    }
   },
   "outputs": [
    {
     "name": "stdout",
     "output_type": "stream",
     "text": [
      "tensor([[0.5891],\n",
      "        [1.2590]], grad_fn=<AddmmBackward0>)\n"
     ]
    }
   ],
   "source": [
    "x = torch.tensor([[2.0], [3.3]])\n",
    "print(model(x))"
   ]
  },
  {
   "cell_type": "markdown",
   "id": "b6191f7d",
   "metadata": {},
   "source": [
    "# Custom Modules"
   ]
  },
  {
   "cell_type": "code",
   "execution_count": 10,
   "id": "97b588a2",
   "metadata": {
    "ExecuteTime": {
     "end_time": "2022-09-05T02:08:46.156098Z",
     "start_time": "2022-09-05T02:08:46.154144Z"
    }
   },
   "outputs": [],
   "source": [
    "class LR(nn.Module):\n",
    "\n",
    "    def __init__(self, input_size, output_size):\n",
    "        super().__init__()\n",
    "        self.linear = nn.Linear(input_size, output_size)\n",
    "\n",
    "    def forward(self, x):\n",
    "        pred = self.linear(x)\n",
    "        return pred"
   ]
  },
  {
   "cell_type": "code",
   "execution_count": 11,
   "id": "110a7116",
   "metadata": {
    "ExecuteTime": {
     "end_time": "2022-09-05T02:08:46.159156Z",
     "start_time": "2022-09-05T02:08:46.156826Z"
    }
   },
   "outputs": [
    {
     "name": "stdout",
     "output_type": "stream",
     "text": [
      "[Parameter containing:\n",
      "tensor([[0.5153]], requires_grad=True), Parameter containing:\n",
      "tensor([-0.4414], requires_grad=True)]\n"
     ]
    }
   ],
   "source": [
    "torch.manual_seed(1)\n",
    "model = LR(1, 1)\n",
    "print(list(model.parameters()))"
   ]
  },
  {
   "cell_type": "code",
   "execution_count": 12,
   "id": "9be982f5",
   "metadata": {
    "ExecuteTime": {
     "end_time": "2022-09-05T02:08:46.161443Z",
     "start_time": "2022-09-05T02:08:46.159878Z"
    }
   },
   "outputs": [
    {
     "name": "stdout",
     "output_type": "stream",
     "text": [
      "<generator object Module.parameters at 0x1378aa120>\n"
     ]
    }
   ],
   "source": [
    "print(model.parameters())"
   ]
  },
  {
   "cell_type": "code",
   "execution_count": 13,
   "id": "64c6817e",
   "metadata": {
    "ExecuteTime": {
     "end_time": "2022-09-05T02:08:46.165092Z",
     "start_time": "2022-09-05T02:08:46.162428Z"
    }
   },
   "outputs": [
    {
     "name": "stdout",
     "output_type": "stream",
     "text": [
      "tensor([0.0739], grad_fn=<AddBackward0>)\n"
     ]
    }
   ],
   "source": [
    "x = torch.tensor([1.0])\n",
    "print(model.forward(x))"
   ]
  },
  {
   "cell_type": "code",
   "execution_count": 14,
   "id": "eda98158",
   "metadata": {
    "ExecuteTime": {
     "end_time": "2022-09-05T02:08:46.168380Z",
     "start_time": "2022-09-05T02:08:46.166245Z"
    }
   },
   "outputs": [
    {
     "name": "stdout",
     "output_type": "stream",
     "text": [
      "tensor([[0.0739],\n",
      "        [0.5891]], grad_fn=<AddmmBackward0>)\n"
     ]
    }
   ],
   "source": [
    "x = torch.tensor([[1.0], [2.0]])\n",
    "print(model.forward(x))"
   ]
  },
  {
   "cell_type": "markdown",
   "id": "b7afb970",
   "metadata": {
    "ExecuteTime": {
     "end_time": "2022-07-21T01:19:38.272762Z",
     "start_time": "2022-07-21T01:19:38.266612Z"
    }
   },
   "source": [
    "# Creating Dataset"
   ]
  },
  {
   "cell_type": "code",
   "execution_count": 15,
   "id": "387e6de3",
   "metadata": {
    "ExecuteTime": {
     "end_time": "2022-09-05T02:08:46.171109Z",
     "start_time": "2022-09-05T02:08:46.169156Z"
    }
   },
   "outputs": [
    {
     "name": "stdout",
     "output_type": "stream",
     "text": [
      "tensor([[-0.6540],\n",
      "        [-0.2223],\n",
      "        [-0.6629],\n",
      "        [-0.7984],\n",
      "        [-0.1578],\n",
      "        [ 0.7626],\n",
      "        [-3.3312],\n",
      "        [ 0.9837],\n",
      "        [-0.6540],\n",
      "        [ 1.2466]])\n"
     ]
    }
   ],
   "source": [
    "X = torch.randn(100, 1)\n",
    "print(X[::10])"
   ]
  },
  {
   "cell_type": "code",
   "execution_count": 16,
   "id": "ece49b14",
   "metadata": {
    "ExecuteTime": {
     "end_time": "2022-09-05T02:08:46.225368Z",
     "start_time": "2022-09-05T02:08:46.171924Z"
    }
   },
   "outputs": [
    {
     "data": {
      "text/plain": [
       "[<matplotlib.lines.Line2D at 0x137933610>]"
      ]
     },
     "execution_count": 16,
     "metadata": {},
     "output_type": "execute_result"
    },
    {
     "data": {
      "image/png": "[encoded data removed]",
      "text/plain": [
       "<Figure size 432x288 with 1 Axes>"
      ]
     },
     "metadata": {
      "needs_background": "light"
     },
     "output_type": "display_data"
    }
   ],
   "source": [
    "X = torch.randn(100, 1) * 10\n",
    "y = X\n",
    "colors = bright_colors(1)\n",
    "plt.plot(X.numpy(), y.numpy(), 'o', c=colors[0])"
   ]
  },
  {
   "cell_type": "code",
   "execution_count": 17,
   "id": "03f17dd3",
   "metadata": {
    "ExecuteTime": {
     "end_time": "2022-09-05T02:08:46.269629Z",
     "start_time": "2022-09-05T02:08:46.226295Z"
    },
    "scrolled": true
   },
   "outputs": [
    {
     "data": {
      "text/plain": [
       "Text(0.5, 0, 'X')"
      ]
     },
     "execution_count": 17,
     "metadata": {},
     "output_type": "execute_result"
    },
    {
     "data": {
      "image/png": "[encoded data removed]",
      "text/plain": [
       "<Figure size 432x288 with 1 Axes>"
      ]
     },
     "metadata": {
      "needs_background": "light"
     },
     "output_type": "display_data"
    }
   ],
   "source": [
    "y = X + 3 * torch.randn(100, 1)\n",
    "colors = bright_colors(1)\n",
    "plt.plot(X.numpy(), y.numpy(), 'o', c=colors[0])\n",
    "plt.ylabel('y')\n",
    "plt.xlabel('X')"
   ]
  },
  {
   "cell_type": "code",
   "execution_count": 18,
   "id": "8494ce8d",
   "metadata": {
    "ExecuteTime": {
     "end_time": "2022-09-05T02:08:46.272526Z",
     "start_time": "2022-09-05T02:08:46.270657Z"
    }
   },
   "outputs": [
    {
     "name": "stdout",
     "output_type": "stream",
     "text": [
      "LR(\n",
      "  (linear): Linear(in_features=1, out_features=1, bias=True)\n",
      ")\n"
     ]
    }
   ],
   "source": [
    "print(model)"
   ]
  },
  {
   "cell_type": "code",
   "execution_count": 19,
   "id": "03721fc1",
   "metadata": {
    "ExecuteTime": {
     "end_time": "2022-09-05T02:08:46.275768Z",
     "start_time": "2022-09-05T02:08:46.273347Z"
    }
   },
   "outputs": [
    {
     "name": "stdout",
     "output_type": "stream",
     "text": [
      "[Parameter containing:\n",
      "tensor([[0.5153]], requires_grad=True), Parameter containing:\n",
      "tensor([-0.4414], requires_grad=True)]\n"
     ]
    }
   ],
   "source": [
    "[w, b] = model.parameters()\n",
    "print([w, b])"
   ]
  },
  {
   "cell_type": "code",
   "execution_count": 20,
   "id": "50263d33",
   "metadata": {
    "ExecuteTime": {
     "end_time": "2022-09-05T02:08:46.278772Z",
     "start_time": "2022-09-05T02:08:46.276475Z"
    }
   },
   "outputs": [
    {
     "name": "stdout",
     "output_type": "stream",
     "text": [
      "tensor(0.5153, grad_fn=<SelectBackward0>) tensor(-0.4414, grad_fn=<SelectBackward0>)\n"
     ]
    }
   ],
   "source": [
    "w1 = w[0][0]\n",
    "b1 = b[0]\n",
    "print(w1, b1)"
   ]
  },
  {
   "cell_type": "code",
   "execution_count": 21,
   "id": "bc478dec",
   "metadata": {
    "ExecuteTime": {
     "end_time": "2022-09-05T02:08:46.281280Z",
     "start_time": "2022-09-05T02:08:46.279421Z"
    }
   },
   "outputs": [
    {
     "name": "stdout",
     "output_type": "stream",
     "text": [
      "0.5152631998062134 -0.44137823581695557\n"
     ]
    }
   ],
   "source": [
    "w1 = w[0][0].item()\n",
    "b1 = b[0].item()\n",
    "print(w1, b1)"
   ]
  },
  {
   "cell_type": "code",
   "execution_count": 22,
   "id": "63bfdc62",
   "metadata": {
    "ExecuteTime": {
     "end_time": "2022-09-05T02:08:46.283700Z",
     "start_time": "2022-09-05T02:08:46.282249Z"
    }
   },
   "outputs": [],
   "source": [
    "def get_params():\n",
    "    return (w[0][0].item(), b[0].item())"
   ]
  },
  {
   "cell_type": "code",
   "execution_count": 23,
   "id": "d80305a7",
   "metadata": {
    "ExecuteTime": {
     "end_time": "2022-09-05T02:08:46.286708Z",
     "start_time": "2022-09-05T02:08:46.284638Z"
    }
   },
   "outputs": [],
   "source": [
    "def plot_fit(title):\n",
    "    plt.title = title\n",
    "    w1, b1 = get_params()\n",
    "    x1 = np.array([-30, 30])\n",
    "    y1 = w1 * x1 + b1\n",
    "    plt.plot(x1, y1, 'r')\n",
    "    colors = bright_colors(1)\n",
    "    plt.scatter(X, y, color=colors[0])\n",
    "    plt.show()"
   ]
  },
  {
   "cell_type": "code",
   "execution_count": 24,
   "id": "025ce143",
   "metadata": {
    "ExecuteTime": {
     "end_time": "2022-09-05T02:08:46.330264Z",
     "start_time": "2022-09-05T02:08:46.287347Z"
    }
   },
   "outputs": [
    {
     "data": {
      "image/png": "[encoded data removed]",
      "text/plain": [
       "<Figure size 432x288 with 1 Axes>"
      ]
     },
     "metadata": {
      "needs_background": "light"
     },
     "output_type": "display_data"
    }
   ],
   "source": [
    "plot_fit(\"Initial Model\")"
   ]
  },
  {
   "cell_type": "markdown",
   "id": "f7a6262e",
   "metadata": {
    "ExecuteTime": {
     "end_time": "2022-07-21T02:44:23.523234Z",
     "start_time": "2022-07-21T02:44:23.514722Z"
    }
   },
   "source": [
    "# Training - Code Implementation"
   ]
  },
  {
   "cell_type": "code",
   "execution_count": 25,
   "id": "043f883d",
   "metadata": {
    "ExecuteTime": {
     "end_time": "2022-09-05T02:08:46.333230Z",
     "start_time": "2022-09-05T02:08:46.331587Z"
    }
   },
   "outputs": [],
   "source": [
    "criterion = nn.MSELoss()\n",
    "optimizer = torch.optim.SGD(model.parameters(), lr=0.0002)"
   ]
  },
  {
   "cell_type": "code",
   "execution_count": 26,
   "id": "c5c7a888",
   "metadata": {
    "ExecuteTime": {
     "end_time": "2022-09-05T02:08:46.335815Z",
     "start_time": "2022-09-05T02:08:46.334092Z"
    }
   },
   "outputs": [
    {
     "name": "stdout",
     "output_type": "stream",
     "text": [
      "MSELoss()\n"
     ]
    }
   ],
   "source": [
    "print(criterion)"
   ]
  },
  {
   "cell_type": "code",
   "execution_count": 27,
   "id": "feab6b6a",
   "metadata": {
    "ExecuteTime": {
     "end_time": "2022-09-05T02:08:46.338104Z",
     "start_time": "2022-09-05T02:08:46.336675Z"
    }
   },
   "outputs": [
    {
     "name": "stdout",
     "output_type": "stream",
     "text": [
      "SGD (\n",
      "Parameter Group 0\n",
      "    dampening: 0\n",
      "    foreach: None\n",
      "    lr: 0.0002\n",
      "    maximize: False\n",
      "    momentum: 0\n",
      "    nesterov: False\n",
      "    weight_decay: 0\n",
      ")\n"
     ]
    }
   ],
   "source": [
    "print(optimizer)"
   ]
  },
  {
   "cell_type": "code",
   "execution_count": 28,
   "id": "24a9bda9",
   "metadata": {
    "ExecuteTime": {
     "end_time": "2022-09-05T02:08:46.364121Z",
     "start_time": "2022-09-05T02:08:46.341675Z"
    }
   },
   "outputs": [
    {
     "name": "stdout",
     "output_type": "stream",
     "text": [
      "\u001b[1m\u001b[36mepoch:\u001b[0m 1 \u001b[31mloss:\u001b[0m 31.370759963989258\n",
      "\u001b[31mweight:\u001b[0m 0.5152631998062134 \u001b[31mbias:\u001b[0m -0.44137823581695557\n",
      "\u001b[1m\u001b[36mepoch:\u001b[0m 10 \u001b[31mloss:\u001b[0m 19.787769317626953\n",
      "\u001b[31mweight:\u001b[0m 0.6603131890296936 \u001b[31mbias:\u001b[0m -0.43947920203208923\n",
      "\u001b[1m\u001b[36mepoch:\u001b[0m 20 \u001b[31mloss:\u001b[0m 13.570121765136719\n",
      "\u001b[31mweight:\u001b[0m 0.7721915245056152 \u001b[31mbias:\u001b[0m -0.4372389316558838\n",
      "\u001b[1m\u001b[36mepoch:\u001b[0m 30 \u001b[31mloss:\u001b[0m 10.692390441894531\n",
      "\u001b[31mweight:\u001b[0m 0.8482838273048401 \u001b[31mbias:\u001b[0m -0.43490734696388245\n",
      "\u001b[1m\u001b[36mepoch:\u001b[0m 40 \u001b[31mloss:\u001b[0m 9.35955810546875\n",
      "\u001b[31mweight:\u001b[0m 0.9000375866889954 \u001b[31mbias:\u001b[0m -0.4325169026851654\n",
      "\u001b[1m\u001b[36mepoch:\u001b[0m 50 \u001b[31mloss:\u001b[0m 8.741348266601562\n",
      "\u001b[31mweight:\u001b[0m 0.9352383017539978 \u001b[31mbias:\u001b[0m -0.43008965253829956\n",
      "\u001b[1m\u001b[36mepoch:\u001b[0m 60 \u001b[31mloss:\u001b[0m 8.453701972961426\n",
      "\u001b[31mweight:\u001b[0m 0.9591810703277588 \u001b[31mbias:\u001b[0m -0.42764049768447876\n",
      "\u001b[1m\u001b[36mepoch:\u001b[0m 70 \u001b[31mloss:\u001b[0m 8.31897258758545\n",
      "\u001b[31mweight:\u001b[0m 0.9754672646522522 \u001b[31mbias:\u001b[0m -0.4251796305179596\n",
      "\u001b[1m\u001b[36mepoch:\u001b[0m 80 \u001b[31mloss:\u001b[0m 8.254988670349121\n",
      "\u001b[31mweight:\u001b[0m 0.9865458011627197 \u001b[31mbias:\u001b[0m -0.4227140545845032\n",
      "\u001b[1m\u001b[36mepoch:\u001b[0m 90 \u001b[31mloss:\u001b[0m 8.223743438720703\n",
      "\u001b[31mweight:\u001b[0m 0.9940826296806335 \u001b[31mbias:\u001b[0m -0.4202483892440796\n",
      "\u001b[1m\u001b[36mepoch:\u001b[0m 100 \u001b[31mloss:\u001b[0m 8.207653045654297\n",
      "\u001b[31mweight:\u001b[0m 0.9992108345031738 \u001b[31mbias:\u001b[0m -0.41778576374053955\n"
     ]
    }
   ],
   "source": [
    "epochs = 100\n",
    "losses = []\n",
    "termcolors = [\n",
    "    'grey', 'red', 'green', 'yellow', 'blue', 'magenta', 'cyan', 'white'\n",
    "]\n",
    "font_colors = random.choices(termcolors, k=2)\n",
    "for i in range(epochs):\n",
    "    i += 1\n",
    "    y_pred = model.forward(X)\n",
    "    loss = criterion(y_pred, y)\n",
    "    if i == 1 or i % 10 == 0:\n",
    "        print(colored(\"epoch:\", font_colors[0], attrs=['bold']), i,\n",
    "              colored(\"loss:\", font_colors[1]), loss.item())\n",
    "        print(colored(\"weight:\", font_colors[1]),\n",
    "              list(model.parameters())[0][0][0].item(),\n",
    "              colored(\"bias:\", font_colors[1]),\n",
    "              list(model.parameters())[1][0].item())\n",
    "    losses.append(loss.item())\n",
    "    optimizer.zero_grad()\n",
    "    loss.backward()\n",
    "    optimizer.step()"
   ]
  },
  {
   "cell_type": "code",
   "execution_count": 29,
   "id": "c161a428",
   "metadata": {
    "ExecuteTime": {
     "end_time": "2022-09-05T02:08:46.404711Z",
     "start_time": "2022-09-05T02:08:46.365084Z"
    }
   },
   "outputs": [
    {
     "data": {
      "text/plain": [
       "Text(0.5, 0, 'Epoch')"
      ]
     },
     "execution_count": 29,
     "metadata": {},
     "output_type": "execute_result"
    },
    {
     "data": {
      "image/png": "[encoded data removed]",
      "text/plain": [
       "<Figure size 432x288 with 1 Axes>"
      ]
     },
     "metadata": {
      "needs_background": "light"
     },
     "output_type": "display_data"
    }
   ],
   "source": [
    "colors = bright_colors(1)\n",
    "plt.plot(range(epochs), losses, c=colors[0])\n",
    "plt.ylabel('Loss')\n",
    "plt.xlabel('Epoch')"
   ]
  },
  {
   "cell_type": "code",
   "execution_count": 30,
   "id": "16e7e7eb",
   "metadata": {
    "ExecuteTime": {
     "end_time": "2022-09-05T02:08:46.479811Z",
     "start_time": "2022-09-05T02:08:46.406138Z"
    }
   },
   "outputs": [
    {
     "data": {
      "image/png": "[encoded data removed]",
      "text/plain": [
       "<Figure size 432x288 with 1 Axes>"
      ]
     },
     "metadata": {
      "needs_background": "light"
     },
     "output_type": "display_data"
    }
   ],
   "source": [
    "plot_fit(\"Trained Model\")"
   ]
  }
 ],
 "metadata": {
  "hide_input": false,
  "kernelspec": {
   "display_name": "Python 3 (ipykernel)",
   "language": "python",
   "name": "python3"
  },
  "language_info": {
   "codemirror_mode": {
    "name": "ipython",
    "version": 3
   },
   "file_extension": ".py",
   "mimetype": "text/x-python",
   "name": "python",
   "nbconvert_exporter": "python",
   "pygments_lexer": "ipython3",
   "version": "3.9.12"
  },
  "latex_envs": {
   "LaTeX_envs_menu_present": true,
   "autoclose": false,
   "autocomplete": true,
   "bibliofile": "biblio.bib",
   "cite_by": "apalike",
   "current_citInitial": 1,
   "eqLabelWithNumbers": true,
   "eqNumInitial": 1,
   "hotkeys": {
    "equation": "Ctrl-E",
    "itemize": "Ctrl-I"
   },
   "labels_anchors": false,
   "latex_user_defs": false,
   "report_style_numbering": false,
   "user_envs_cfg": false
  },
  "nbTranslate": {
   "displayLangs": [
    "*"
   ],
   "hotkey": "alt-t",
   "langInMainMenu": true,
   "sourceLang": "en",
   "targetLang": "fr",
   "useGoogleTranslate": true
  },
  "toc": {
   "base_numbering": 1,
   "nav_menu": {},
   "number_sections": true,
   "sideBar": true,
   "skip_h1_title": false,
   "title_cell": "Table of Contents",
   "title_sidebar": "Contents",
   "toc_cell": false,
   "toc_position": {},
   "toc_section_display": true,
   "toc_window_display": true
  }
 },
 "nbformat": 4,
 "nbformat_minor": 5
}

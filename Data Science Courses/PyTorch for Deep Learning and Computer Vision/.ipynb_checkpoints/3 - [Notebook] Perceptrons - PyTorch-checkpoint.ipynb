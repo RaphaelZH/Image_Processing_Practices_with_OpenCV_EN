{
 "cells": [
  {
   "cell_type": "markdown",
   "id": "9f6c4e1c",
   "metadata": {},
   "source": [
    "# Importing the Libraries"
   ]
  },
  {
   "cell_type": "code",
   "execution_count": 1,
   "id": "f04cab30",
   "metadata": {
    "ExecuteTime": {
     "end_time": "2022-08-10T00:39:36.549041Z",
     "start_time": "2022-08-10T00:39:35.627832Z"
    }
   },
   "outputs": [],
   "source": [
    "from sklearn import datasets\n",
    "import matplotlib.pyplot as plt\n",
    "import numpy as np\n",
    "import torch\n",
    "import torch.nn as nn"
   ]
  },
  {
   "cell_type": "markdown",
   "id": "7d56a291",
   "metadata": {},
   "source": [
    "# Creating Dataset"
   ]
  },
  {
   "cell_type": "code",
   "execution_count": 2,
   "id": "13bfb650",
   "metadata": {
    "ExecuteTime": {
     "end_time": "2022-08-10T00:39:36.553593Z",
     "start_time": "2022-08-10T00:39:36.550348Z"
    },
    "scrolled": true
   },
   "outputs": [
    {
     "name": "stdout",
     "output_type": "stream",
     "text": [
      "[[-0.13715792 -0.07147228]\n",
      " [-0.62590326  0.06563904]\n",
      " [-0.09837844  0.65447456]\n",
      " [ 0.57181979 -1.24479028]\n",
      " [ 0.164381    0.82292327]\n",
      " [ 0.66123438  0.08877175]\n",
      " [-0.93382716 -0.04538862]\n",
      " [ 0.3922826  -0.54434029]\n",
      " [ 0.76626138 -0.85936918]\n",
      " [ 0.17062744 -0.44791402]]\n",
      "[0 0 0 1 0 1 0 1 1 1]\n"
     ]
    }
   ],
   "source": [
    "n_pts = 100\n",
    "centers = [[-0.5, 0.5], [0.5, -0.5]]\n",
    "X, y = datasets.make_blobs(n_samples=n_pts,\n",
    "                           random_state=123,\n",
    "                           centers=centers,\n",
    "                           cluster_std=0.4)\n",
    "print(X[::10])\n",
    "print(y[::10])"
   ]
  },
  {
   "cell_type": "code",
   "execution_count": 3,
   "id": "a497f57a",
   "metadata": {
    "ExecuteTime": {
     "end_time": "2022-08-10T00:39:36.557141Z",
     "start_time": "2022-08-10T00:39:36.554862Z"
    }
   },
   "outputs": [
    {
     "name": "stdout",
     "output_type": "stream",
     "text": [
      "-0.1371579216798795 -0.07147228009038764\n",
      "[ True  True]\n"
     ]
    }
   ],
   "source": [
    "print(X[y == y[0], 0][0], X[y == y[0], 1][0])\n",
    "print([X[y == y[0], 0][0], X[y == y[0], 1][0]] == X[0])"
   ]
  },
  {
   "cell_type": "code",
   "execution_count": 4,
   "id": "5d820213",
   "metadata": {
    "ExecuteTime": {
     "end_time": "2022-08-10T00:39:36.617041Z",
     "start_time": "2022-08-10T00:39:36.558581Z"
    }
   },
   "outputs": [
    {
     "data": {
      "text/plain": [
       "<matplotlib.collections.PathCollection at 0x15e835310>"
      ]
     },
     "execution_count": 4,
     "metadata": {},
     "output_type": "execute_result"
    },
    {
     "data": {
      "image/png": "[encoded data removed]",
      "text/plain": [
       "<Figure size 432x288 with 1 Axes>"
      ]
     },
     "metadata": {
      "needs_background": "light"
     },
     "output_type": "display_data"
    }
   ],
   "source": [
    "plt.scatter(X[y == 0, 0], X[y == 0, 1], color=np.random.rand(3))"
   ]
  },
  {
   "cell_type": "code",
   "execution_count": 5,
   "id": "77d294db",
   "metadata": {
    "ExecuteTime": {
     "end_time": "2022-08-10T00:39:36.662619Z",
     "start_time": "2022-08-10T00:39:36.618125Z"
    }
   },
   "outputs": [
    {
     "data": {
      "text/plain": [
       "<matplotlib.collections.PathCollection at 0x15e9888e0>"
      ]
     },
     "execution_count": 5,
     "metadata": {},
     "output_type": "execute_result"
    },
    {
     "data": {
      "image/png": "[encoded data removed]",
      "text/plain": [
       "<Figure size 432x288 with 1 Axes>"
      ]
     },
     "metadata": {
      "needs_background": "light"
     },
     "output_type": "display_data"
    }
   ],
   "source": [
    "plt.scatter(X[y == 1, 0], X[y == 1, 1], color=np.random.rand(3))"
   ]
  },
  {
   "cell_type": "code",
   "execution_count": 6,
   "id": "d0098c14",
   "metadata": {
    "ExecuteTime": {
     "end_time": "2022-08-10T00:39:36.713819Z",
     "start_time": "2022-08-10T00:39:36.663924Z"
    }
   },
   "outputs": [
    {
     "data": {
      "text/plain": [
       "<matplotlib.collections.PathCollection at 0x15e9f6ca0>"
      ]
     },
     "execution_count": 6,
     "metadata": {},
     "output_type": "execute_result"
    },
    {
     "data": {
      "image/png": "[encoded data removed]",
      "text/plain": [
       "<Figure size 432x288 with 1 Axes>"
      ]
     },
     "metadata": {
      "needs_background": "light"
     },
     "output_type": "display_data"
    }
   ],
   "source": [
    "plt.scatter(X[y == 0, 0], X[y == 0, 1], color=np.random.rand(3))\n",
    "plt.scatter(X[y == 1, 0], X[y == 1, 1], color=np.random.rand(3))"
   ]
  },
  {
   "cell_type": "code",
   "execution_count": 7,
   "id": "78d86b99",
   "metadata": {
    "ExecuteTime": {
     "end_time": "2022-08-10T00:39:36.718226Z",
     "start_time": "2022-08-10T00:39:36.714891Z"
    }
   },
   "outputs": [
    {
     "name": "stdout",
     "output_type": "stream",
     "text": [
      "tensor([[-0.1372, -0.0715],\n",
      "        [-0.6259,  0.0656],\n",
      "        [-0.0984,  0.6545],\n",
      "        [ 0.5718, -1.2448],\n",
      "        [ 0.1644,  0.8229],\n",
      "        [ 0.6612,  0.0888],\n",
      "        [-0.9338, -0.0454],\n",
      "        [ 0.3923, -0.5443],\n",
      "        [ 0.7663, -0.8594],\n",
      "        [ 0.1706, -0.4479]])\n",
      "tensor([0., 0., 0., 1., 0., 1., 0., 1., 1., 1.])\n"
     ]
    }
   ],
   "source": [
    "X_data = torch.Tensor(X)\n",
    "y_data = torch.Tensor(y)\n",
    "print(X_data[::10])\n",
    "print(y_data[::10])"
   ]
  },
  {
   "cell_type": "markdown",
   "id": "fca3e648",
   "metadata": {},
   "source": [
    "# Model Setup"
   ]
  },
  {
   "cell_type": "code",
   "execution_count": 9,
   "id": "fc85476f",
   "metadata": {
    "ExecuteTime": {
     "end_time": "2022-08-10T00:59:59.134036Z",
     "start_time": "2022-08-10T00:59:59.126383Z"
    }
   },
   "outputs": [],
   "source": [
    "class Model(nn.Module):\n",
    "\n",
    "    def __init__(self, input_size, output_size):\n",
    "        super().__init__()\n",
    "        self.linear = nn.Linear(input_size, output_size)\n",
    "\n",
    "    def forward(self, x):\n",
    "        pred = torch.sigmoid(self.linear(x))\n",
    "        return pred"
   ]
  },
  {
   "cell_type": "code",
   "execution_count": 12,
   "id": "b7c78d40",
   "metadata": {
    "ExecuteTime": {
     "end_time": "2022-08-10T01:02:01.073825Z",
     "start_time": "2022-08-10T01:02:01.059000Z"
    }
   },
   "outputs": [
    {
     "name": "stdout",
     "output_type": "stream",
     "text": [
      "[Parameter containing:\n",
      "tensor([[ 0.1622, -0.1683]], requires_grad=True), Parameter containing:\n",
      "tensor([0.1939], requires_grad=True)]\n"
     ]
    }
   ],
   "source": [
    "torch.manual_seed(2)\n",
    "model = Model(2, 1)\n",
    "print(list(model.parameters()))"
   ]
  },
  {
   "cell_type": "code",
   "execution_count": 13,
   "id": "f43bbb1b",
   "metadata": {
    "ExecuteTime": {
     "end_time": "2022-08-10T09:15:38.698707Z",
     "start_time": "2022-08-10T09:15:38.688341Z"
    }
   },
   "outputs": [
    {
     "name": "stdout",
     "output_type": "stream",
     "text": [
      "[Parameter containing:\n",
      "tensor([[ 0.1622, -0.1683]], requires_grad=True), Parameter containing:\n",
      "tensor([0.1939], requires_grad=True)]\n"
     ]
    }
   ],
   "source": [
    "[w, b] = model.parameters()\n",
    "print([w, b])"
   ]
  },
  {
   "cell_type": "code",
   "execution_count": 18,
   "id": "462998d0",
   "metadata": {
    "ExecuteTime": {
     "end_time": "2022-08-10T09:18:11.730582Z",
     "start_time": "2022-08-10T09:18:11.720227Z"
    }
   },
   "outputs": [
    {
     "name": "stdout",
     "output_type": "stream",
     "text": [
      "tensor(0.1622, grad_fn=<UnbindBackward0>) tensor(-0.1683, grad_fn=<UnbindBackward0>) tensor(0.1939, grad_fn=<SelectBackward0>)\n"
     ]
    }
   ],
   "source": [
    "w1, w2 = w.view(2)\n",
    "b1 = b[0]\n",
    "print(w1, w2, b1)"
   ]
  },
  {
   "cell_type": "code",
   "execution_count": 19,
   "id": "c3fcf2b7",
   "metadata": {
    "ExecuteTime": {
     "end_time": "2022-08-10T09:19:03.558929Z",
     "start_time": "2022-08-10T09:19:03.551666Z"
    }
   },
   "outputs": [
    {
     "name": "stdout",
     "output_type": "stream",
     "text": [
      "0.16220331192016602 -0.1682732105255127 0.19390898942947388\n"
     ]
    }
   ],
   "source": [
    "print(w1.item(), w2.item(), b1.item())"
   ]
  },
  {
   "cell_type": "code",
   "execution_count": 20,
   "id": "a3b82aa8",
   "metadata": {
    "ExecuteTime": {
     "end_time": "2022-08-10T09:21:42.311977Z",
     "start_time": "2022-08-10T09:21:42.304846Z"
    }
   },
   "outputs": [],
   "source": [
    "def get_params():\n",
    "    return (w1.item(), w2.item(), b[0].item())"
   ]
  },
  {
   "cell_type": "code",
   "execution_count": null,
   "id": "228911da",
   "metadata": {},
   "outputs": [],
   "source": [
    "def plot_fit(title):\n",
    "    plt.title = title\n",
    "    "
   ]
  },
  {
   "cell_type": "code",
   "execution_count": null,
   "id": "af723c9b",
   "metadata": {},
   "outputs": [],
   "source": []
  }
 ],
 "metadata": {
  "hide_input": false,
  "kernelspec": {
   "display_name": "Python 3 (ipykernel)",
   "language": "python",
   "name": "python3"
  },
  "language_info": {
   "codemirror_mode": {
    "name": "ipython",
    "version": 3
   },
   "file_extension": ".py",
   "mimetype": "text/x-python",
   "name": "python",
   "nbconvert_exporter": "python",
   "pygments_lexer": "ipython3",
   "version": "3.9.12"
  },
  "latex_envs": {
   "LaTeX_envs_menu_present": true,
   "autoclose": false,
   "autocomplete": true,
   "bibliofile": "biblio.bib",
   "cite_by": "apalike",
   "current_citInitial": 1,
   "eqLabelWithNumbers": true,
   "eqNumInitial": 1,
   "hotkeys": {
    "equation": "Ctrl-E",
    "itemize": "Ctrl-I"
   },
   "labels_anchors": false,
   "latex_user_defs": false,
   "report_style_numbering": false,
   "user_envs_cfg": false
  },
  "nbTranslate": {
   "displayLangs": [
    "*"
   ],
   "hotkey": "alt-t",
   "langInMainMenu": true,
   "sourceLang": "en",
   "targetLang": "fr",
   "useGoogleTranslate": true
  },
  "toc": {
   "base_numbering": 1,
   "nav_menu": {},
   "number_sections": true,
   "sideBar": true,
   "skip_h1_title": false,
   "title_cell": "Table of Contents",
   "title_sidebar": "Contents",
   "toc_cell": false,
   "toc_position": {},
   "toc_section_display": true,
   "toc_window_display": true
  }
 },
 "nbformat": 4,
 "nbformat_minor": 5
}

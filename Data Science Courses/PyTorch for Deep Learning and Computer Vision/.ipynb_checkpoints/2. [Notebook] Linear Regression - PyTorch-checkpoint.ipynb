{
 "cells": [
  {
   "cell_type": "markdown",
   "id": "84472c25",
   "metadata": {},
   "source": [
    "# Importing the Libraries"
   ]
  },
  {
   "cell_type": "code",
   "execution_count": 1,
   "id": "0695c6e2",
   "metadata": {
    "ExecuteTime": {
     "end_time": "2022-07-20T17:54:29.720098Z",
     "start_time": "2022-07-20T17:54:29.303819Z"
    }
   },
   "outputs": [],
   "source": [
    "import torch\n",
    "from torch.nn import Linear"
   ]
  },
  {
   "cell_type": "markdown",
   "id": "2a60016d",
   "metadata": {},
   "source": [
    "# Making Predictions"
   ]
  },
  {
   "cell_type": "code",
   "execution_count": 2,
   "id": "c91d33fb",
   "metadata": {
    "ExecuteTime": {
     "end_time": "2022-07-20T17:54:29.740399Z",
     "start_time": "2022-07-20T17:54:29.734460Z"
    }
   },
   "outputs": [],
   "source": [
    "w = torch.tensor(3.0, requires_grad=True)\n",
    "b = torch.tensor(1.0, requires_grad=True)"
   ]
  },
  {
   "cell_type": "code",
   "execution_count": 3,
   "id": "da8c56e9",
   "metadata": {
    "ExecuteTime": {
     "end_time": "2022-07-20T17:54:29.750707Z",
     "start_time": "2022-07-20T17:54:29.743229Z"
    }
   },
   "outputs": [],
   "source": [
    "def forward(x):\n",
    "    y = w * x + b\n",
    "    return y"
   ]
  },
  {
   "cell_type": "code",
   "execution_count": 4,
   "id": "1746fb3f",
   "metadata": {
    "ExecuteTime": {
     "end_time": "2022-07-20T17:54:29.760185Z",
     "start_time": "2022-07-20T17:54:29.755801Z"
    }
   },
   "outputs": [
    {
     "name": "stdout",
     "output_type": "stream",
     "text": [
      "tensor(7., grad_fn=<AddBackward0>)\n"
     ]
    }
   ],
   "source": [
    "x = torch.tensor(2)\n",
    "print(forward(x))"
   ]
  },
  {
   "cell_type": "code",
   "execution_count": 5,
   "id": "e4c31d7d",
   "metadata": {
    "ExecuteTime": {
     "end_time": "2022-07-20T17:54:29.768249Z",
     "start_time": "2022-07-20T17:54:29.763780Z"
    }
   },
   "outputs": [
    {
     "name": "stdout",
     "output_type": "stream",
     "text": [
      "tensor([[13.],\n",
      "        [22.]], grad_fn=<AddBackward0>)\n"
     ]
    }
   ],
   "source": [
    "x = torch.tensor([[4], [7]])\n",
    "print(forward(x))"
   ]
  },
  {
   "cell_type": "markdown",
   "id": "d69b2719",
   "metadata": {},
   "source": [
    "# Linear Class"
   ]
  },
  {
   "cell_type": "code",
   "execution_count": 6,
   "id": "9cc35ccd",
   "metadata": {
    "ExecuteTime": {
     "end_time": "2022-07-20T17:54:29.772032Z",
     "start_time": "2022-07-20T17:54:29.769255Z"
    }
   },
   "outputs": [
    {
     "name": "stdout",
     "output_type": "stream",
     "text": [
      "Parameter containing:\n",
      "tensor([[0.5153]], requires_grad=True) Parameter containing:\n",
      "tensor([-0.4414], requires_grad=True)\n"
     ]
    }
   ],
   "source": [
    "torch.manual_seed(1)\n",
    "model = Linear(in_features = 1, out_features = 1)\n",
    "print(model.weight, model.bias)"
   ]
  },
  {
   "cell_type": "code",
   "execution_count": null,
   "id": "a29ce387",
   "metadata": {},
   "outputs": [],
   "source": []
  },
  {
   "cell_type": "code",
   "execution_count": null,
   "id": "58418f65",
   "metadata": {},
   "outputs": [],
   "source": []
  }
 ],
 "metadata": {
  "hide_input": false,
  "kernelspec": {
   "display_name": "Python 3 (ipykernel)",
   "language": "python",
   "name": "python3"
  },
  "language_info": {
   "codemirror_mode": {
    "name": "ipython",
    "version": 3
   },
   "file_extension": ".py",
   "mimetype": "text/x-python",
   "name": "python",
   "nbconvert_exporter": "python",
   "pygments_lexer": "ipython3",
   "version": "3.9.12"
  },
  "latex_envs": {
   "LaTeX_envs_menu_present": true,
   "autoclose": false,
   "autocomplete": true,
   "bibliofile": "biblio.bib",
   "cite_by": "apalike",
   "current_citInitial": 1,
   "eqLabelWithNumbers": true,
   "eqNumInitial": 1,
   "hotkeys": {
    "equation": "Ctrl-E",
    "itemize": "Ctrl-I"
   },
   "labels_anchors": false,
   "latex_user_defs": false,
   "report_style_numbering": false,
   "user_envs_cfg": false
  },
  "nbTranslate": {
   "displayLangs": [
    "*"
   ],
   "hotkey": "alt-t",
   "langInMainMenu": true,
   "sourceLang": "en",
   "targetLang": "fr",
   "useGoogleTranslate": true
  },
  "toc": {
   "base_numbering": 1,
   "nav_menu": {},
   "number_sections": true,
   "sideBar": true,
   "skip_h1_title": false,
   "title_cell": "Table of Contents",
   "title_sidebar": "Contents",
   "toc_cell": false,
   "toc_position": {},
   "toc_section_display": true,
   "toc_window_display": false
  }
 },
 "nbformat": 4,
 "nbformat_minor": 5
}

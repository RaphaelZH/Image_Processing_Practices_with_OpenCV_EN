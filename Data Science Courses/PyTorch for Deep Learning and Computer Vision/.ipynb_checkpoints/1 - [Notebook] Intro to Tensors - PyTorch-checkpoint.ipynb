{
 "cells": [
  {
   "cell_type": "markdown",
   "id": "38a7fe70",
   "metadata": {},
   "source": [
    "# Importing Libraries"
   ]
  },
  {
   "cell_type": "code",
   "execution_count": 1,
   "id": "c141e947",
   "metadata": {
    "ExecuteTime": {
     "end_time": "2022-09-01T21:12:03.244468Z",
     "start_time": "2022-09-01T21:12:02.592165Z"
    }
   },
   "outputs": [],
   "source": [
    "import numpy as np\n",
    "import torch\n",
    "import matplotlib.pyplot as plt"
   ]
  },
  {
   "cell_type": "markdown",
   "id": "7fc4fbe3",
   "metadata": {},
   "source": [
    "# Pre-installing Required Functions"
   ]
  },
  {
   "cell_type": "code",
   "execution_count": 2,
   "id": "ad46b82b",
   "metadata": {
    "ExecuteTime": {
     "end_time": "2022-09-01T21:12:03.247979Z",
     "start_time": "2022-09-01T21:12:03.245771Z"
    }
   },
   "outputs": [],
   "source": [
    "color_generator = lambda n: list(\n",
    "    map(lambda i: \"#\" + \"%06X\" % np.random.randint(0, 0xFFFFFF), range(n)))"
   ]
  },
  {
   "cell_type": "markdown",
   "id": "8cd6fa88",
   "metadata": {},
   "source": [
    "# 1 Dimensional Tensors"
   ]
  },
  {
   "cell_type": "code",
   "execution_count": 3,
   "id": "0152cded",
   "metadata": {
    "ExecuteTime": {
     "end_time": "2022-09-01T21:12:03.251648Z",
     "start_time": "2022-09-01T21:12:03.249189Z"
    }
   },
   "outputs": [
    {
     "name": "stdout",
     "output_type": "stream",
     "text": [
      "tensor([1, 2, 3, 4, 5, 6])\n",
      "torch.int64\n",
      "torch.LongTensor\n"
     ]
    }
   ],
   "source": [
    "v = torch.tensor([1, 2, 3, 4, 5, 6])\n",
    "print(v)\n",
    "print(v.dtype)\n",
    "print(v.type())"
   ]
  },
  {
   "cell_type": "code",
   "execution_count": 4,
   "id": "87033e2e",
   "metadata": {
    "ExecuteTime": {
     "end_time": "2022-09-01T21:12:03.255033Z",
     "start_time": "2022-09-01T21:12:03.252943Z"
    }
   },
   "outputs": [
    {
     "name": "stdout",
     "output_type": "stream",
     "text": [
      "tensor(1)\n",
      "tensor([2, 3, 4, 5])\n",
      "tensor(6)\n"
     ]
    }
   ],
   "source": [
    "print(v[0])\n",
    "print(v[1:-1])\n",
    "print(v[-1])"
   ]
  },
  {
   "cell_type": "code",
   "execution_count": 5,
   "id": "64f06149",
   "metadata": {
    "ExecuteTime": {
     "end_time": "2022-09-01T21:12:03.257987Z",
     "start_time": "2022-09-01T21:12:03.255750Z"
    }
   },
   "outputs": [
    {
     "name": "stdout",
     "output_type": "stream",
     "text": [
      "tensor([1., 2., 3., 4., 5., 6.])\n",
      "torch.float32\n",
      "torch.FloatTensor\n"
     ]
    }
   ],
   "source": [
    "f = torch.FloatTensor([1, 2, 3, 4, 5, 6])\n",
    "print(f)\n",
    "print(f.dtype)\n",
    "print(f.type())"
   ]
  },
  {
   "cell_type": "code",
   "execution_count": 6,
   "id": "0fac75c0",
   "metadata": {
    "ExecuteTime": {
     "end_time": "2022-09-01T21:12:03.260407Z",
     "start_time": "2022-09-01T21:12:03.258710Z"
    }
   },
   "outputs": [
    {
     "name": "stdout",
     "output_type": "stream",
     "text": [
      "tensor([[1],\n",
      "        [2],\n",
      "        [3],\n",
      "        [4],\n",
      "        [5],\n",
      "        [6]])\n"
     ]
    }
   ],
   "source": [
    "print(v.view(6, 1))"
   ]
  },
  {
   "cell_type": "code",
   "execution_count": 7,
   "id": "a9b4fa2e",
   "metadata": {
    "ExecuteTime": {
     "end_time": "2022-09-01T21:12:03.262848Z",
     "start_time": "2022-09-01T21:12:03.261238Z"
    }
   },
   "outputs": [
    {
     "name": "stdout",
     "output_type": "stream",
     "text": [
      "tensor([[1, 2],\n",
      "        [3, 4],\n",
      "        [5, 6]])\n"
     ]
    }
   ],
   "source": [
    "print(v.view(3, 2))"
   ]
  },
  {
   "cell_type": "code",
   "execution_count": 8,
   "id": "9eaff7ad",
   "metadata": {
    "ExecuteTime": {
     "end_time": "2022-09-01T21:12:03.265164Z",
     "start_time": "2022-09-01T21:12:03.263478Z"
    }
   },
   "outputs": [
    {
     "name": "stdout",
     "output_type": "stream",
     "text": [
      "tensor([[1, 2],\n",
      "        [3, 4],\n",
      "        [5, 6]])\n"
     ]
    }
   ],
   "source": [
    "print(v.view(3, -1))"
   ]
  },
  {
   "cell_type": "code",
   "execution_count": 9,
   "id": "dca87da3",
   "metadata": {
    "ExecuteTime": {
     "end_time": "2022-09-01T21:12:03.267978Z",
     "start_time": "2022-09-01T21:12:03.265976Z"
    }
   },
   "outputs": [
    {
     "name": "stdout",
     "output_type": "stream",
     "text": [
      "tensor([1, 2, 3, 4, 5, 6])\n",
      "torch.LongTensor\n"
     ]
    }
   ],
   "source": [
    "a = np.array([1, 2, 3, 4, 5, 6])\n",
    "tensor_cnv = torch.from_numpy(a)\n",
    "print(tensor_cnv)\n",
    "print(tensor_cnv.type())"
   ]
  },
  {
   "cell_type": "code",
   "execution_count": 10,
   "id": "dc117667",
   "metadata": {
    "ExecuteTime": {
     "end_time": "2022-09-01T21:12:03.271643Z",
     "start_time": "2022-09-01T21:12:03.269987Z"
    }
   },
   "outputs": [
    {
     "name": "stdout",
     "output_type": "stream",
     "text": [
      "[1 2 3 4 5 6]\n",
      "<class 'numpy.ndarray'>\n"
     ]
    }
   ],
   "source": [
    "numpy_cnv = tensor_cnv.numpy()\n",
    "print(numpy_cnv)\n",
    "print(type(numpy_cnv))"
   ]
  },
  {
   "cell_type": "markdown",
   "id": "b486bb0a",
   "metadata": {},
   "source": [
    "# Vector Operations"
   ]
  },
  {
   "cell_type": "code",
   "execution_count": 11,
   "id": "50782444",
   "metadata": {
    "ExecuteTime": {
     "end_time": "2022-09-01T21:12:03.274549Z",
     "start_time": "2022-09-01T21:12:03.272320Z"
    }
   },
   "outputs": [
    {
     "name": "stdout",
     "output_type": "stream",
     "text": [
      "tensor([2, 4, 6])\n",
      "tensor([1, 4, 9])\n",
      "tensor([ 5, 10, 15])\n"
     ]
    }
   ],
   "source": [
    "t_one = torch.tensor([1, 2, 3])\n",
    "t_two = torch.tensor([1, 2, 3])\n",
    "print(t_one + t_two)\n",
    "print(t_one * t_two)\n",
    "print(t_one * 5)"
   ]
  },
  {
   "cell_type": "code",
   "execution_count": 12,
   "id": "0b840aea",
   "metadata": {
    "ExecuteTime": {
     "end_time": "2022-09-01T21:12:03.277084Z",
     "start_time": "2022-09-01T21:12:03.275213Z"
    }
   },
   "outputs": [
    {
     "name": "stdout",
     "output_type": "stream",
     "text": [
      "tensor(14)\n"
     ]
    }
   ],
   "source": [
    "dot_product = torch.dot(t_one, t_two)\n",
    "print(dot_product)"
   ]
  },
  {
   "cell_type": "code",
   "execution_count": 13,
   "id": "07d36773",
   "metadata": {
    "ExecuteTime": {
     "end_time": "2022-09-01T21:12:03.280138Z",
     "start_time": "2022-09-01T21:12:03.277941Z"
    }
   },
   "outputs": [
    {
     "name": "stdout",
     "output_type": "stream",
     "text": [
      "tensor([ 0.0000,  2.5000,  5.0000,  7.5000, 10.0000])\n",
      "tensor([1.0000e+00, 1.2182e+01, 1.4841e+02, 1.8080e+03, 2.2026e+04])\n"
     ]
    }
   ],
   "source": [
    "x = torch.linspace(0, 10, 5)\n",
    "y = torch.exp(x)\n",
    "print(x)\n",
    "print(y)"
   ]
  },
  {
   "cell_type": "code",
   "execution_count": 14,
   "id": "a87db616",
   "metadata": {
    "ExecuteTime": {
     "end_time": "2022-09-01T21:12:03.330201Z",
     "start_time": "2022-09-01T21:12:03.280982Z"
    }
   },
   "outputs": [
    {
     "data": {
      "text/plain": [
       "[<matplotlib.lines.Line2D at 0x126ddb9d0>]"
      ]
     },
     "execution_count": 14,
     "metadata": {},
     "output_type": "execute_result"
    },
    {
     "data": {
      "image/png": "[encoded data removed]",
      "text/plain": [
       "<Figure size 432x288 with 1 Axes>"
      ]
     },
     "metadata": {
      "needs_background": "light"
     },
     "output_type": "display_data"
    }
   ],
   "source": [
    "colors = color_generator(1)\n",
    "plt.plot(x.numpy(), y.numpy(), c=colors[0])"
   ]
  },
  {
   "cell_type": "code",
   "execution_count": 15,
   "id": "b6e4c53f",
   "metadata": {
    "ExecuteTime": {
     "end_time": "2022-09-01T21:12:03.371991Z",
     "start_time": "2022-09-01T21:12:03.331042Z"
    }
   },
   "outputs": [
    {
     "data": {
      "text/plain": [
       "[<matplotlib.lines.Line2D at 0x126ed6ac0>]"
      ]
     },
     "execution_count": 15,
     "metadata": {},
     "output_type": "execute_result"
    },
    {
     "data": {
      "image/png": "[encoded data removed]",
      "text/plain": [
       "<Figure size 432x288 with 1 Axes>"
      ]
     },
     "metadata": {
      "needs_background": "light"
     },
     "output_type": "display_data"
    }
   ],
   "source": [
    "x = torch.linspace(0, 10, 100)\n",
    "y = torch.exp(x)\n",
    "colors = color_generator(1)\n",
    "plt.plot(x.numpy(), y.numpy(), c=colors[0])"
   ]
  },
  {
   "cell_type": "code",
   "execution_count": 16,
   "id": "2652775f",
   "metadata": {
    "ExecuteTime": {
     "end_time": "2022-09-01T21:12:03.419558Z",
     "start_time": "2022-09-01T21:12:03.372995Z"
    }
   },
   "outputs": [
    {
     "data": {
      "text/plain": [
       "[<matplotlib.lines.Line2D at 0x126f4a0d0>]"
      ]
     },
     "execution_count": 16,
     "metadata": {},
     "output_type": "execute_result"
    },
    {
     "data": {
      "image/png": "[encoded data removed]",
      "text/plain": [
       "<Figure size 432x288 with 1 Axes>"
      ]
     },
     "metadata": {
      "needs_background": "light"
     },
     "output_type": "display_data"
    }
   ],
   "source": [
    "y = torch.sin(x)\n",
    "colors = color_generator(1)\n",
    "plt.plot(x.numpy(), y.numpy(), c=colors[0])"
   ]
  },
  {
   "cell_type": "markdown",
   "id": "46c585e1",
   "metadata": {},
   "source": [
    "# 2 Dimensional Tensors"
   ]
  },
  {
   "cell_type": "code",
   "execution_count": 17,
   "id": "5d7e26bb",
   "metadata": {
    "ExecuteTime": {
     "end_time": "2022-09-01T21:12:03.423493Z",
     "start_time": "2022-09-01T21:12:03.420863Z"
    }
   },
   "outputs": [
    {
     "name": "stdout",
     "output_type": "stream",
     "text": [
      "tensor([2, 3, 4, 5, 6])\n"
     ]
    }
   ],
   "source": [
    "one_d = torch.arange(2, 7)\n",
    "print(one_d)"
   ]
  },
  {
   "cell_type": "code",
   "execution_count": 18,
   "id": "1f0767bb",
   "metadata": {
    "ExecuteTime": {
     "end_time": "2022-09-01T21:12:03.426932Z",
     "start_time": "2022-09-01T21:12:03.424578Z"
    }
   },
   "outputs": [
    {
     "name": "stdout",
     "output_type": "stream",
     "text": [
      "tensor([2, 4, 6])\n"
     ]
    }
   ],
   "source": [
    "one_d = torch.arange(2, 7, 2)\n",
    "print(one_d)"
   ]
  },
  {
   "cell_type": "code",
   "execution_count": 19,
   "id": "122749b3",
   "metadata": {
    "ExecuteTime": {
     "end_time": "2022-09-01T21:12:03.430336Z",
     "start_time": "2022-09-01T21:12:03.427988Z"
    }
   },
   "outputs": [
    {
     "name": "stdout",
     "output_type": "stream",
     "text": [
      "tensor([0, 1, 2, 3, 4, 5, 6, 7, 8])\n",
      "1\n"
     ]
    }
   ],
   "source": [
    "one_d = torch.arange(0, 9)\n",
    "print(one_d)\n",
    "print(one_d.dim())"
   ]
  },
  {
   "cell_type": "code",
   "execution_count": 20,
   "id": "36b6e479",
   "metadata": {
    "ExecuteTime": {
     "end_time": "2022-09-01T21:12:03.433569Z",
     "start_time": "2022-09-01T21:12:03.431249Z"
    }
   },
   "outputs": [
    {
     "name": "stdout",
     "output_type": "stream",
     "text": [
      "tensor([[0, 1, 2],\n",
      "        [3, 4, 5],\n",
      "        [6, 7, 8]])\n",
      "2\n"
     ]
    }
   ],
   "source": [
    "two_d = one_d.view(3, 3)\n",
    "print(two_d)\n",
    "print(two_d.dim())"
   ]
  },
  {
   "cell_type": "code",
   "execution_count": 21,
   "id": "d9bcd570",
   "metadata": {
    "ExecuteTime": {
     "end_time": "2022-09-01T21:12:03.437036Z",
     "start_time": "2022-09-01T21:12:03.434400Z"
    }
   },
   "outputs": [
    {
     "name": "stdout",
     "output_type": "stream",
     "text": [
      "tensor([0, 1, 2])\n",
      "tensor([0, 3, 6])\n",
      "tensor(0)\n",
      "tensor(5)\n"
     ]
    }
   ],
   "source": [
    "print(two_d[0])\n",
    "print(two_d[:, 0])\n",
    "print(two_d[0, 0])\n",
    "print(two_d[1, 2])"
   ]
  },
  {
   "cell_type": "code",
   "execution_count": 22,
   "id": "671e2a2a",
   "metadata": {
    "ExecuteTime": {
     "end_time": "2022-09-01T21:12:03.440307Z",
     "start_time": "2022-09-01T21:12:03.438065Z"
    }
   },
   "outputs": [
    {
     "name": "stdout",
     "output_type": "stream",
     "text": [
      "tensor([[[ 0,  1,  2],\n",
      "         [ 3,  4,  5],\n",
      "         [ 6,  7,  8]],\n",
      "\n",
      "        [[ 9, 10, 11],\n",
      "         [12, 13, 14],\n",
      "         [15, 16, 17]]])\n"
     ]
    }
   ],
   "source": [
    "three_d = torch.arange(18).view(2, 3, 3)\n",
    "print(three_d)"
   ]
  },
  {
   "cell_type": "code",
   "execution_count": 23,
   "id": "c95b629a",
   "metadata": {
    "ExecuteTime": {
     "end_time": "2022-09-01T21:12:03.443760Z",
     "start_time": "2022-09-01T21:12:03.441552Z"
    }
   },
   "outputs": [
    {
     "name": "stdout",
     "output_type": "stream",
     "text": [
      "tensor([[[ 0,  1,  2],\n",
      "         [ 3,  4,  5]],\n",
      "\n",
      "        [[ 6,  7,  8],\n",
      "         [ 9, 10, 11]],\n",
      "\n",
      "        [[12, 13, 14],\n",
      "         [15, 16, 17]]])\n"
     ]
    }
   ],
   "source": [
    "three_d = torch.arange(18).view(3, 2, 3)\n",
    "print(three_d)"
   ]
  },
  {
   "cell_type": "code",
   "execution_count": 24,
   "id": "e1c11f4e",
   "metadata": {
    "ExecuteTime": {
     "end_time": "2022-09-01T21:12:03.446551Z",
     "start_time": "2022-09-01T21:12:03.444625Z"
    }
   },
   "outputs": [
    {
     "name": "stdout",
     "output_type": "stream",
     "text": [
      "tensor([[[ 0,  1],\n",
      "         [ 2,  3],\n",
      "         [ 4,  5]],\n",
      "\n",
      "        [[ 6,  7],\n",
      "         [ 8,  9],\n",
      "         [10, 11]],\n",
      "\n",
      "        [[12, 13],\n",
      "         [14, 15],\n",
      "         [16, 17]]])\n"
     ]
    }
   ],
   "source": [
    "three_d = torch.arange(18).view(3, 3, 2)\n",
    "print(three_d)"
   ]
  },
  {
   "cell_type": "code",
   "execution_count": 25,
   "id": "e5a72399",
   "metadata": {
    "ExecuteTime": {
     "end_time": "2022-09-01T21:12:03.449340Z",
     "start_time": "2022-09-01T21:12:03.447466Z"
    }
   },
   "outputs": [
    {
     "name": "stdout",
     "output_type": "stream",
     "text": [
      "tensor([[[ 0,  1,  2,  3],\n",
      "         [ 4,  5,  6,  7],\n",
      "         [ 8,  9, 10, 11]],\n",
      "\n",
      "        [[12, 13, 14, 15],\n",
      "         [16, 17, 18, 19],\n",
      "         [20, 21, 22, 23]],\n",
      "\n",
      "        [[24, 25, 26, 27],\n",
      "         [28, 29, 30, 31],\n",
      "         [32, 33, 34, 35]]])\n"
     ]
    }
   ],
   "source": [
    "three_d = torch.arange(36).view(3, 3, 4)\n",
    "print(three_d)"
   ]
  },
  {
   "cell_type": "markdown",
   "id": "a3cdd36c",
   "metadata": {},
   "source": [
    "# Slicing 3D Tensors"
   ]
  },
  {
   "cell_type": "code",
   "execution_count": 26,
   "id": "a52007a8",
   "metadata": {
    "ExecuteTime": {
     "end_time": "2022-09-01T21:12:03.451937Z",
     "start_time": "2022-09-01T21:12:03.450085Z"
    }
   },
   "outputs": [
    {
     "name": "stdout",
     "output_type": "stream",
     "text": [
      "tensor([[[ 0,  1,  2],\n",
      "         [ 3,  4,  5]],\n",
      "\n",
      "        [[ 6,  7,  8],\n",
      "         [ 9, 10, 11]],\n",
      "\n",
      "        [[12, 13, 14],\n",
      "         [15, 16, 17]]])\n"
     ]
    }
   ],
   "source": [
    "three_d = torch.arange(18).view(3, 2, 3)\n",
    "print(three_d)"
   ]
  },
  {
   "cell_type": "code",
   "execution_count": 27,
   "id": "3c91fd5e",
   "metadata": {
    "ExecuteTime": {
     "end_time": "2022-09-01T21:12:03.454784Z",
     "start_time": "2022-09-01T21:12:03.452673Z"
    }
   },
   "outputs": [
    {
     "name": "stdout",
     "output_type": "stream",
     "text": [
      "tensor(10)\n"
     ]
    }
   ],
   "source": [
    "print(three_d[1, 1, 1])"
   ]
  },
  {
   "cell_type": "code",
   "execution_count": 28,
   "id": "3e83e705",
   "metadata": {
    "ExecuteTime": {
     "end_time": "2022-09-01T21:12:03.461181Z",
     "start_time": "2022-09-01T21:12:03.459150Z"
    }
   },
   "outputs": [
    {
     "name": "stdout",
     "output_type": "stream",
     "text": [
      "tensor([[ 7,  8],\n",
      "        [10, 11]])\n"
     ]
    }
   ],
   "source": [
    "print(three_d[1, 0:2, 1:3])"
   ]
  },
  {
   "cell_type": "code",
   "execution_count": 29,
   "id": "080fddf2",
   "metadata": {
    "ExecuteTime": {
     "end_time": "2022-09-01T21:12:03.464081Z",
     "start_time": "2022-09-01T21:12:03.462006Z"
    }
   },
   "outputs": [
    {
     "name": "stdout",
     "output_type": "stream",
     "text": [
      "tensor([[ 6,  7,  8],\n",
      "        [ 9, 10, 11]])\n"
     ]
    }
   ],
   "source": [
    "print(three_d[1, 0:2, 0:3])"
   ]
  },
  {
   "cell_type": "code",
   "execution_count": 30,
   "id": "87b4687c",
   "metadata": {
    "ExecuteTime": {
     "end_time": "2022-09-01T21:12:03.467092Z",
     "start_time": "2022-09-01T21:12:03.464972Z"
    }
   },
   "outputs": [
    {
     "name": "stdout",
     "output_type": "stream",
     "text": [
      "tensor([[ 6,  7,  8],\n",
      "        [ 9, 10, 11]])\n"
     ]
    }
   ],
   "source": [
    "print(three_d[1, :, :])"
   ]
  },
  {
   "cell_type": "markdown",
   "id": "22daeca9",
   "metadata": {},
   "source": [
    "# Matrix Multiplication"
   ]
  },
  {
   "cell_type": "code",
   "execution_count": 31,
   "id": "89c0a7cf",
   "metadata": {
    "ExecuteTime": {
     "end_time": "2022-09-01T21:12:03.469912Z",
     "start_time": "2022-09-01T21:12:03.467998Z"
    }
   },
   "outputs": [
    {
     "name": "stdout",
     "output_type": "stream",
     "text": [
      "tensor([[0, 3, 5],\n",
      "        [5, 5, 2]])\n"
     ]
    }
   ],
   "source": [
    "mat_a = torch.tensor([0, 3, 5, 5, 5, 2]).view(2, 3)\n",
    "print(mat_a)"
   ]
  },
  {
   "cell_type": "code",
   "execution_count": 32,
   "id": "222c3bb2",
   "metadata": {
    "ExecuteTime": {
     "end_time": "2022-09-01T21:12:03.472513Z",
     "start_time": "2022-09-01T21:12:03.470724Z"
    }
   },
   "outputs": [
    {
     "name": "stdout",
     "output_type": "stream",
     "text": [
      "tensor([[ 3,  4],\n",
      "        [ 3, -2],\n",
      "        [ 4, -2]])\n"
     ]
    }
   ],
   "source": [
    "mat_b = torch.tensor([3, 4, 3, -2, 4, -2]).view(3, 2)\n",
    "print(mat_b)"
   ]
  },
  {
   "cell_type": "code",
   "execution_count": 33,
   "id": "91e4e6c0",
   "metadata": {
    "ExecuteTime": {
     "end_time": "2022-09-01T21:12:03.475626Z",
     "start_time": "2022-09-01T21:12:03.473661Z"
    }
   },
   "outputs": [
    {
     "name": "stdout",
     "output_type": "stream",
     "text": [
      "tensor([[ 29, -16],\n",
      "        [ 38,   6]])\n"
     ]
    }
   ],
   "source": [
    "print(torch.matmul(mat_a, mat_b))"
   ]
  },
  {
   "cell_type": "code",
   "execution_count": 34,
   "id": "71ac47af",
   "metadata": {
    "ExecuteTime": {
     "end_time": "2022-09-01T21:12:03.478090Z",
     "start_time": "2022-09-01T21:12:03.476346Z"
    }
   },
   "outputs": [
    {
     "name": "stdout",
     "output_type": "stream",
     "text": [
      "tensor([[ 29, -16],\n",
      "        [ 38,   6]])\n"
     ]
    }
   ],
   "source": [
    "print(mat_a @ mat_b)"
   ]
  },
  {
   "cell_type": "markdown",
   "id": "838a8fc2",
   "metadata": {},
   "source": [
    "# Gradient with PyTorch"
   ]
  },
  {
   "cell_type": "code",
   "execution_count": 35,
   "id": "bac10dab",
   "metadata": {
    "ExecuteTime": {
     "end_time": "2022-09-01T21:12:03.480874Z",
     "start_time": "2022-09-01T21:12:03.478862Z"
    }
   },
   "outputs": [
    {
     "name": "stdout",
     "output_type": "stream",
     "text": [
      "tensor(2.)\n"
     ]
    }
   ],
   "source": [
    "x = torch.tensor(2.0)\n",
    "print(x)"
   ]
  },
  {
   "cell_type": "code",
   "execution_count": 36,
   "id": "4a05f209",
   "metadata": {
    "ExecuteTime": {
     "end_time": "2022-09-01T21:12:03.483735Z",
     "start_time": "2022-09-01T21:12:03.481533Z"
    }
   },
   "outputs": [
    {
     "name": "stdout",
     "output_type": "stream",
     "text": [
      "tensor(2., requires_grad=True)\n"
     ]
    }
   ],
   "source": [
    "x = torch.tensor(2.0, requires_grad=True)\n",
    "print(x)"
   ]
  },
  {
   "cell_type": "code",
   "execution_count": 37,
   "id": "d5935855",
   "metadata": {
    "ExecuteTime": {
     "end_time": "2022-09-01T21:12:03.496120Z",
     "start_time": "2022-09-01T21:12:03.484714Z"
    }
   },
   "outputs": [
    {
     "name": "stdout",
     "output_type": "stream",
     "text": [
      "tensor(330.)\n"
     ]
    }
   ],
   "source": [
    "y = 9 * x**4 + 2 * x**3 + 3 * x**2 + 6 * x + 1\n",
    "y.backward()\n",
    "print(x.grad)"
   ]
  },
  {
   "cell_type": "code",
   "execution_count": 38,
   "id": "96ff0389",
   "metadata": {
    "ExecuteTime": {
     "end_time": "2022-09-01T21:12:03.499647Z",
     "start_time": "2022-09-01T21:12:03.496856Z"
    }
   },
   "outputs": [
    {
     "name": "stdout",
     "output_type": "stream",
     "text": [
      "tensor(2.)\n",
      "tensor(12.)\n"
     ]
    }
   ],
   "source": [
    "x = torch.tensor(1.0, requires_grad=True)\n",
    "z = torch.tensor(2.0, requires_grad=True)\n",
    "y = x**2 + z**3\n",
    "y.backward()\n",
    "print(x.grad)\n",
    "print(z.grad)"
   ]
  }
 ],
 "metadata": {
  "hide_input": false,
  "kernelspec": {
   "display_name": "Python 3 (ipykernel)",
   "language": "python",
   "name": "python3"
  },
  "language_info": {
   "codemirror_mode": {
    "name": "ipython",
    "version": 3
   },
   "file_extension": ".py",
   "mimetype": "text/x-python",
   "name": "python",
   "nbconvert_exporter": "python",
   "pygments_lexer": "ipython3",
   "version": "3.9.12"
  },
  "latex_envs": {
   "LaTeX_envs_menu_present": true,
   "autoclose": false,
   "autocomplete": true,
   "bibliofile": "biblio.bib",
   "cite_by": "apalike",
   "current_citInitial": 1,
   "eqLabelWithNumbers": true,
   "eqNumInitial": 1,
   "hotkeys": {
    "equation": "Ctrl-E",
    "itemize": "Ctrl-I"
   },
   "labels_anchors": false,
   "latex_user_defs": false,
   "report_style_numbering": false,
   "user_envs_cfg": false
  },
  "nbTranslate": {
   "displayLangs": [
    "*"
   ],
   "hotkey": "alt-t",
   "langInMainMenu": true,
   "sourceLang": "en",
   "targetLang": "fr",
   "useGoogleTranslate": true
  },
  "toc": {
   "base_numbering": 1,
   "nav_menu": {},
   "number_sections": true,
   "sideBar": true,
   "skip_h1_title": false,
   "title_cell": "Table of Contents",
   "title_sidebar": "Contents",
   "toc_cell": false,
   "toc_position": {},
   "toc_section_display": true,
   "toc_window_display": true
  }
 },
 "nbformat": 4,
 "nbformat_minor": 5
}

{
 "cells": [
  {
   "cell_type": "markdown",
   "id": "9e57aa7e",
   "metadata": {},
   "source": [
    "# Importing Libraries"
   ]
  },
  {
   "cell_type": "code",
   "execution_count": 1,
   "id": "ec8a7198",
   "metadata": {
    "ExecuteTime": {
     "end_time": "2022-09-01T21:03:03.154296Z",
     "start_time": "2022-09-01T21:03:02.427354Z"
    }
   },
   "outputs": [],
   "source": [
    "import numpy as np\n",
    "import torch\n",
    "import torch.nn as nn\n",
    "import matplotlib.pyplot as plt\n",
    "import random\n",
    "from termcolor import colored"
   ]
  },
  {
   "cell_type": "markdown",
   "id": "957329fc",
   "metadata": {},
   "source": [
    "# Pre-installing Required Functions"
   ]
  },
  {
   "cell_type": "code",
   "execution_count": 2,
   "id": "064ad32d",
   "metadata": {
    "ExecuteTime": {
     "end_time": "2022-09-01T21:03:03.157863Z",
     "start_time": "2022-09-01T21:03:03.155814Z"
    }
   },
   "outputs": [],
   "source": [
    "color_generator = lambda n: list(\n",
    "    map(lambda i: \"#\" + \"%06X\" % np.random.randint(0, 0xFFFFFF), range(n)))"
   ]
  },
  {
   "cell_type": "markdown",
   "id": "c5494742",
   "metadata": {},
   "source": [
    "# Making Predictions"
   ]
  },
  {
   "cell_type": "code",
   "execution_count": 3,
   "id": "3c353ace",
   "metadata": {
    "ExecuteTime": {
     "end_time": "2022-09-01T21:03:03.160660Z",
     "start_time": "2022-09-01T21:03:03.158733Z"
    }
   },
   "outputs": [],
   "source": [
    "w = torch.tensor(3.0, requires_grad=True)\n",
    "b = torch.tensor(1.0, requires_grad=True)"
   ]
  },
  {
   "cell_type": "code",
   "execution_count": 4,
   "id": "63ccadc7",
   "metadata": {
    "ExecuteTime": {
     "end_time": "2022-09-01T21:03:03.163661Z",
     "start_time": "2022-09-01T21:03:03.162154Z"
    }
   },
   "outputs": [],
   "source": [
    "def forward(x):\n",
    "    y = w * x + b\n",
    "    return y"
   ]
  },
  {
   "cell_type": "code",
   "execution_count": 5,
   "id": "50f20131",
   "metadata": {
    "ExecuteTime": {
     "end_time": "2022-09-01T21:03:03.167135Z",
     "start_time": "2022-09-01T21:03:03.164631Z"
    }
   },
   "outputs": [
    {
     "name": "stdout",
     "output_type": "stream",
     "text": [
      "tensor(7., grad_fn=<AddBackward0>)\n"
     ]
    }
   ],
   "source": [
    "x = torch.tensor(2)\n",
    "print(forward(x))"
   ]
  },
  {
   "cell_type": "code",
   "execution_count": 6,
   "id": "923ea400",
   "metadata": {
    "ExecuteTime": {
     "end_time": "2022-09-01T21:03:03.170031Z",
     "start_time": "2022-09-01T21:03:03.167977Z"
    }
   },
   "outputs": [
    {
     "name": "stdout",
     "output_type": "stream",
     "text": [
      "tensor([[13.],\n",
      "        [22.]], grad_fn=<AddBackward0>)\n"
     ]
    }
   ],
   "source": [
    "x = torch.tensor([[4], [7]])\n",
    "print(forward(x))"
   ]
  },
  {
   "cell_type": "markdown",
   "id": "7f041c18",
   "metadata": {},
   "source": [
    "# Linear Class"
   ]
  },
  {
   "cell_type": "code",
   "execution_count": 7,
   "id": "501bd996",
   "metadata": {
    "ExecuteTime": {
     "end_time": "2022-09-01T21:03:03.173837Z",
     "start_time": "2022-09-01T21:03:03.170834Z"
    }
   },
   "outputs": [
    {
     "name": "stdout",
     "output_type": "stream",
     "text": [
      "Parameter containing:\n",
      "tensor([[0.5153]], requires_grad=True) Parameter containing:\n",
      "tensor([-0.4414], requires_grad=True)\n"
     ]
    }
   ],
   "source": [
    "torch.manual_seed(1)\n",
    "model = nn.Linear(in_features=1, out_features=1)\n",
    "print(model.weight, model.bias)"
   ]
  },
  {
   "cell_type": "code",
   "execution_count": 8,
   "id": "7d35b776",
   "metadata": {
    "ExecuteTime": {
     "end_time": "2022-09-01T21:03:03.176875Z",
     "start_time": "2022-09-01T21:03:03.174820Z"
    }
   },
   "outputs": [
    {
     "name": "stdout",
     "output_type": "stream",
     "text": [
      "tensor([0.5891], grad_fn=<AddBackward0>)\n"
     ]
    }
   ],
   "source": [
    "x = torch.tensor([2.0])\n",
    "print(model(x))"
   ]
  },
  {
   "cell_type": "code",
   "execution_count": 9,
   "id": "7839543a",
   "metadata": {
    "ExecuteTime": {
     "end_time": "2022-09-01T21:03:03.179728Z",
     "start_time": "2022-09-01T21:03:03.177679Z"
    }
   },
   "outputs": [
    {
     "name": "stdout",
     "output_type": "stream",
     "text": [
      "tensor([[0.5891],\n",
      "        [1.2590]], grad_fn=<AddmmBackward0>)\n"
     ]
    }
   ],
   "source": [
    "x = torch.tensor([[2.0], [3.3]])\n",
    "print(model(x))"
   ]
  },
  {
   "cell_type": "markdown",
   "id": "b6191f7d",
   "metadata": {},
   "source": [
    "# Custom Modules"
   ]
  },
  {
   "cell_type": "code",
   "execution_count": 10,
   "id": "97b588a2",
   "metadata": {
    "ExecuteTime": {
     "end_time": "2022-09-01T21:03:03.183909Z",
     "start_time": "2022-09-01T21:03:03.181929Z"
    }
   },
   "outputs": [],
   "source": [
    "class LR(nn.Module):\n",
    "\n",
    "    def __init__(self, input_size, output_size):\n",
    "        super().__init__()\n",
    "        self.linear = nn.Linear(input_size, output_size)\n",
    "\n",
    "    def forward(self, x):\n",
    "        pred = self.linear(x)\n",
    "        return pred"
   ]
  },
  {
   "cell_type": "code",
   "execution_count": 11,
   "id": "110a7116",
   "metadata": {
    "ExecuteTime": {
     "end_time": "2022-09-01T21:03:03.187042Z",
     "start_time": "2022-09-01T21:03:03.184766Z"
    }
   },
   "outputs": [
    {
     "name": "stdout",
     "output_type": "stream",
     "text": [
      "[Parameter containing:\n",
      "tensor([[0.5153]], requires_grad=True), Parameter containing:\n",
      "tensor([-0.4414], requires_grad=True)]\n"
     ]
    }
   ],
   "source": [
    "torch.manual_seed(1)\n",
    "model = LR(1, 1)\n",
    "print(list(model.parameters()))"
   ]
  },
  {
   "cell_type": "code",
   "execution_count": 12,
   "id": "9be982f5",
   "metadata": {
    "ExecuteTime": {
     "end_time": "2022-09-01T21:03:03.189112Z",
     "start_time": "2022-09-01T21:03:03.187692Z"
    }
   },
   "outputs": [
    {
     "name": "stdout",
     "output_type": "stream",
     "text": [
      "<generator object Module.parameters at 0x123317ba0>\n"
     ]
    }
   ],
   "source": [
    "print(model.parameters())"
   ]
  },
  {
   "cell_type": "code",
   "execution_count": 13,
   "id": "64c6817e",
   "metadata": {
    "ExecuteTime": {
     "end_time": "2022-09-01T21:03:03.192069Z",
     "start_time": "2022-09-01T21:03:03.189829Z"
    }
   },
   "outputs": [
    {
     "name": "stdout",
     "output_type": "stream",
     "text": [
      "tensor([0.0739], grad_fn=<AddBackward0>)\n"
     ]
    }
   ],
   "source": [
    "x = torch.tensor([1.0])\n",
    "print(model.forward(x))"
   ]
  },
  {
   "cell_type": "code",
   "execution_count": 14,
   "id": "eda98158",
   "metadata": {
    "ExecuteTime": {
     "end_time": "2022-09-01T21:03:03.194882Z",
     "start_time": "2022-09-01T21:03:03.192835Z"
    }
   },
   "outputs": [
    {
     "name": "stdout",
     "output_type": "stream",
     "text": [
      "tensor([[0.0739],\n",
      "        [0.5891]], grad_fn=<AddmmBackward0>)\n"
     ]
    }
   ],
   "source": [
    "x = torch.tensor([[1.0], [2.0]])\n",
    "print(model.forward(x))"
   ]
  },
  {
   "cell_type": "markdown",
   "id": "b7afb970",
   "metadata": {
    "ExecuteTime": {
     "end_time": "2022-07-21T01:19:38.272762Z",
     "start_time": "2022-07-21T01:19:38.266612Z"
    }
   },
   "source": [
    "# Creating Dataset"
   ]
  },
  {
   "cell_type": "code",
   "execution_count": 15,
   "id": "387e6de3",
   "metadata": {
    "ExecuteTime": {
     "end_time": "2022-09-01T21:03:03.197577Z",
     "start_time": "2022-09-01T21:03:03.195685Z"
    }
   },
   "outputs": [
    {
     "name": "stdout",
     "output_type": "stream",
     "text": [
      "tensor([[-0.6540],\n",
      "        [-0.2223],\n",
      "        [-0.6629],\n",
      "        [-0.7984],\n",
      "        [-0.1578],\n",
      "        [ 0.7626],\n",
      "        [-3.3312],\n",
      "        [ 0.9837],\n",
      "        [-0.6540],\n",
      "        [ 1.2466]])\n"
     ]
    }
   ],
   "source": [
    "X = torch.randn(100, 1)\n",
    "print(X[::10])"
   ]
  },
  {
   "cell_type": "code",
   "execution_count": 16,
   "id": "ece49b14",
   "metadata": {
    "ExecuteTime": {
     "end_time": "2022-09-01T21:03:03.249874Z",
     "start_time": "2022-09-01T21:03:03.198316Z"
    }
   },
   "outputs": [
    {
     "data": {
      "text/plain": [
       "[<matplotlib.lines.Line2D at 0x1233b14f0>]"
      ]
     },
     "execution_count": 16,
     "metadata": {},
     "output_type": "execute_result"
    },
    {
     "data": {
      "image/png": "[encoded data removed]",
      "text/plain": [
       "<Figure size 432x288 with 1 Axes>"
      ]
     },
     "metadata": {
      "needs_background": "light"
     },
     "output_type": "display_data"
    }
   ],
   "source": [
    "X = torch.randn(100, 1) * 10\n",
    "y = X\n",
    "plt.plot(X.numpy(), y.numpy(), 'o', c=color_generator(1)[0])"
   ]
  },
  {
   "cell_type": "code",
   "execution_count": 17,
   "id": "03f17dd3",
   "metadata": {
    "ExecuteTime": {
     "end_time": "2022-09-01T21:03:03.294213Z",
     "start_time": "2022-09-01T21:03:03.250841Z"
    },
    "scrolled": true
   },
   "outputs": [
    {
     "data": {
      "text/plain": [
       "Text(0.5, 0, 'X')"
      ]
     },
     "execution_count": 17,
     "metadata": {},
     "output_type": "execute_result"
    },
    {
     "data": {
      "image/png": "[encoded data removed]",
      "text/plain": [
       "<Figure size 432x288 with 1 Axes>"
      ]
     },
     "metadata": {
      "needs_background": "light"
     },
     "output_type": "display_data"
    }
   ],
   "source": [
    "y = X + 3 * torch.randn(100, 1)\n",
    "plt.plot(X.numpy(), y.numpy(), 'o', c=color_generator(1)[0])\n",
    "plt.ylabel('y')\n",
    "plt.xlabel('X')"
   ]
  },
  {
   "cell_type": "code",
   "execution_count": 18,
   "id": "8494ce8d",
   "metadata": {
    "ExecuteTime": {
     "end_time": "2022-09-01T21:03:03.297082Z",
     "start_time": "2022-09-01T21:03:03.295184Z"
    }
   },
   "outputs": [
    {
     "name": "stdout",
     "output_type": "stream",
     "text": [
      "LR(\n",
      "  (linear): Linear(in_features=1, out_features=1, bias=True)\n",
      ")\n"
     ]
    }
   ],
   "source": [
    "print(model)"
   ]
  },
  {
   "cell_type": "code",
   "execution_count": 19,
   "id": "03721fc1",
   "metadata": {
    "ExecuteTime": {
     "end_time": "2022-09-01T21:03:03.300076Z",
     "start_time": "2022-09-01T21:03:03.297791Z"
    }
   },
   "outputs": [
    {
     "name": "stdout",
     "output_type": "stream",
     "text": [
      "[Parameter containing:\n",
      "tensor([[0.5153]], requires_grad=True), Parameter containing:\n",
      "tensor([-0.4414], requires_grad=True)]\n"
     ]
    }
   ],
   "source": [
    "[w, b] = model.parameters()\n",
    "print([w, b])"
   ]
  },
  {
   "cell_type": "code",
   "execution_count": 20,
   "id": "50263d33",
   "metadata": {
    "ExecuteTime": {
     "end_time": "2022-09-01T21:03:03.302920Z",
     "start_time": "2022-09-01T21:03:03.300745Z"
    }
   },
   "outputs": [
    {
     "name": "stdout",
     "output_type": "stream",
     "text": [
      "tensor(0.5153, grad_fn=<SelectBackward0>) tensor(-0.4414, grad_fn=<SelectBackward0>)\n"
     ]
    }
   ],
   "source": [
    "w1 = w[0][0]\n",
    "b1 = b[0]\n",
    "print(w1, b1)"
   ]
  },
  {
   "cell_type": "code",
   "execution_count": 21,
   "id": "bc478dec",
   "metadata": {
    "ExecuteTime": {
     "end_time": "2022-09-01T21:03:03.305260Z",
     "start_time": "2022-09-01T21:03:03.303576Z"
    }
   },
   "outputs": [
    {
     "name": "stdout",
     "output_type": "stream",
     "text": [
      "0.5152631998062134 -0.44137823581695557\n"
     ]
    }
   ],
   "source": [
    "w1 = w[0][0].item()\n",
    "b1 = b[0].item()\n",
    "print(w1, b1)"
   ]
  },
  {
   "cell_type": "code",
   "execution_count": 22,
   "id": "63bfdc62",
   "metadata": {
    "ExecuteTime": {
     "end_time": "2022-09-01T21:03:03.307737Z",
     "start_time": "2022-09-01T21:03:03.306110Z"
    }
   },
   "outputs": [],
   "source": [
    "def get_params():\n",
    "    return (w[0][0].item(), b[0].item())"
   ]
  },
  {
   "cell_type": "code",
   "execution_count": 23,
   "id": "d80305a7",
   "metadata": {
    "ExecuteTime": {
     "end_time": "2022-09-01T21:03:03.311257Z",
     "start_time": "2022-09-01T21:03:03.309027Z"
    }
   },
   "outputs": [],
   "source": [
    "def plot_fit(title):\n",
    "    plt.title = title\n",
    "    w1, b1 = get_params()\n",
    "    x1 = np.array([-30, 30])\n",
    "    y1 = w1 * x1 + b1\n",
    "    plt.plot(x1, y1, 'r')\n",
    "    plt.scatter(X, y, color=color_generator(1)[0])\n",
    "    plt.show()"
   ]
  },
  {
   "cell_type": "code",
   "execution_count": 24,
   "id": "025ce143",
   "metadata": {
    "ExecuteTime": {
     "end_time": "2022-09-01T21:03:03.364294Z",
     "start_time": "2022-09-01T21:03:03.312393Z"
    }
   },
   "outputs": [
    {
     "data": {
      "image/png": "[encoded data removed]",
      "text/plain": [
       "<Figure size 432x288 with 1 Axes>"
      ]
     },
     "metadata": {
      "needs_background": "light"
     },
     "output_type": "display_data"
    }
   ],
   "source": [
    "plot_fit(\"Initial Model\")"
   ]
  },
  {
   "cell_type": "markdown",
   "id": "f7a6262e",
   "metadata": {
    "ExecuteTime": {
     "end_time": "2022-07-21T02:44:23.523234Z",
     "start_time": "2022-07-21T02:44:23.514722Z"
    }
   },
   "source": [
    "# Training - Code Implementation"
   ]
  },
  {
   "cell_type": "code",
   "execution_count": 25,
   "id": "043f883d",
   "metadata": {
    "ExecuteTime": {
     "end_time": "2022-09-01T21:03:03.369058Z",
     "start_time": "2022-09-01T21:03:03.366994Z"
    }
   },
   "outputs": [],
   "source": [
    "criterion = nn.MSELoss()\n",
    "optimizer = torch.optim.SGD(model.parameters(), lr=0.0002)"
   ]
  },
  {
   "cell_type": "code",
   "execution_count": 26,
   "id": "c5c7a888",
   "metadata": {
    "ExecuteTime": {
     "end_time": "2022-09-01T21:03:03.372556Z",
     "start_time": "2022-09-01T21:03:03.370954Z"
    }
   },
   "outputs": [
    {
     "name": "stdout",
     "output_type": "stream",
     "text": [
      "MSELoss()\n"
     ]
    }
   ],
   "source": [
    "print(criterion)"
   ]
  },
  {
   "cell_type": "code",
   "execution_count": 27,
   "id": "feab6b6a",
   "metadata": {
    "ExecuteTime": {
     "end_time": "2022-09-01T21:03:03.375043Z",
     "start_time": "2022-09-01T21:03:03.373452Z"
    }
   },
   "outputs": [
    {
     "name": "stdout",
     "output_type": "stream",
     "text": [
      "SGD (\n",
      "Parameter Group 0\n",
      "    dampening: 0\n",
      "    foreach: None\n",
      "    lr: 0.0002\n",
      "    maximize: False\n",
      "    momentum: 0\n",
      "    nesterov: False\n",
      "    weight_decay: 0\n",
      ")\n"
     ]
    }
   ],
   "source": [
    "print(optimizer)"
   ]
  },
  {
   "cell_type": "code",
   "execution_count": 28,
   "id": "24a9bda9",
   "metadata": {
    "ExecuteTime": {
     "end_time": "2022-09-01T21:03:03.404353Z",
     "start_time": "2022-09-01T21:03:03.378926Z"
    }
   },
   "outputs": [
    {
     "name": "stdout",
     "output_type": "stream",
     "text": [
      "\u001b[1m\u001b[33mepoch:\u001b[0m 1 \u001b[37mloss:\u001b[0m 31.370759963989258\n",
      "\u001b[37mweight:\u001b[0m 0.5152631998062134 \u001b[37mbias:\u001b[0m -0.44137823581695557\n",
      "\u001b[1m\u001b[33mepoch:\u001b[0m 10 \u001b[37mloss:\u001b[0m 19.787769317626953\n",
      "\u001b[37mweight:\u001b[0m 0.6603131890296936 \u001b[37mbias:\u001b[0m -0.43947920203208923\n",
      "\u001b[1m\u001b[33mepoch:\u001b[0m 20 \u001b[37mloss:\u001b[0m 13.570121765136719\n",
      "\u001b[37mweight:\u001b[0m 0.7721915245056152 \u001b[37mbias:\u001b[0m -0.4372389316558838\n",
      "\u001b[1m\u001b[33mepoch:\u001b[0m 30 \u001b[37mloss:\u001b[0m 10.692390441894531\n",
      "\u001b[37mweight:\u001b[0m 0.8482838273048401 \u001b[37mbias:\u001b[0m -0.43490734696388245\n",
      "\u001b[1m\u001b[33mepoch:\u001b[0m 40 \u001b[37mloss:\u001b[0m 9.35955810546875\n",
      "\u001b[37mweight:\u001b[0m 0.9000375866889954 \u001b[37mbias:\u001b[0m -0.4325169026851654\n",
      "\u001b[1m\u001b[33mepoch:\u001b[0m 50 \u001b[37mloss:\u001b[0m 8.741348266601562\n",
      "\u001b[37mweight:\u001b[0m 0.9352383017539978 \u001b[37mbias:\u001b[0m -0.43008965253829956\n",
      "\u001b[1m\u001b[33mepoch:\u001b[0m 60 \u001b[37mloss:\u001b[0m 8.453701972961426\n",
      "\u001b[37mweight:\u001b[0m 0.9591810703277588 \u001b[37mbias:\u001b[0m -0.42764049768447876\n",
      "\u001b[1m\u001b[33mepoch:\u001b[0m 70 \u001b[37mloss:\u001b[0m 8.31897258758545\n",
      "\u001b[37mweight:\u001b[0m 0.9754672646522522 \u001b[37mbias:\u001b[0m -0.4251796305179596\n",
      "\u001b[1m\u001b[33mepoch:\u001b[0m 80 \u001b[37mloss:\u001b[0m 8.254988670349121\n",
      "\u001b[37mweight:\u001b[0m 0.9865458011627197 \u001b[37mbias:\u001b[0m -0.4227140545845032\n",
      "\u001b[1m\u001b[33mepoch:\u001b[0m 90 \u001b[37mloss:\u001b[0m 8.223743438720703\n",
      "\u001b[37mweight:\u001b[0m 0.9940826296806335 \u001b[37mbias:\u001b[0m -0.4202483892440796\n",
      "\u001b[1m\u001b[33mepoch:\u001b[0m 100 \u001b[37mloss:\u001b[0m 8.207653045654297\n",
      "\u001b[37mweight:\u001b[0m 0.9992108345031738 \u001b[37mbias:\u001b[0m -0.41778576374053955\n"
     ]
    }
   ],
   "source": [
    "epochs = 100\n",
    "losses = []\n",
    "termcolors = [\n",
    "    'grey', 'red', 'green', 'yellow', 'blue', 'magenta', 'cyan', 'white'\n",
    "]\n",
    "font_colors = random.choices(termcolors, k=2)\n",
    "for i in range(epochs):\n",
    "    i += 1\n",
    "    y_pred = model.forward(X)\n",
    "    loss = criterion(y_pred, y)\n",
    "    if i == 1 or i % 10 == 0:\n",
    "        print(colored(\"epoch:\", font_colors[0], attrs=['bold']), i,\n",
    "              colored(\"loss:\", font_colors[1]), loss.item())\n",
    "        print(colored(\"weight:\", font_colors[1]),\n",
    "              list(model.parameters())[0][0][0].item(),\n",
    "              colored(\"bias:\", font_colors[1]),\n",
    "              list(model.parameters())[1][0].item())\n",
    "    losses.append(loss.item())\n",
    "    optimizer.zero_grad()\n",
    "    loss.backward()\n",
    "    optimizer.step()"
   ]
  },
  {
   "cell_type": "code",
   "execution_count": 29,
   "id": "c161a428",
   "metadata": {
    "ExecuteTime": {
     "end_time": "2022-09-01T21:03:03.450482Z",
     "start_time": "2022-09-01T21:03:03.405976Z"
    }
   },
   "outputs": [
    {
     "data": {
      "text/plain": [
       "Text(0.5, 0, 'Epoch')"
      ]
     },
     "execution_count": 29,
     "metadata": {},
     "output_type": "execute_result"
    },
    {
     "data": {
      "image/png": "[encoded data removed]",
      "text/plain": [
       "<Figure size 432x288 with 1 Axes>"
      ]
     },
     "metadata": {
      "needs_background": "light"
     },
     "output_type": "display_data"
    }
   ],
   "source": [
    "plt.plot(range(epochs), losses, c=color_generator(1)[0])\n",
    "plt.ylabel('Loss')\n",
    "plt.xlabel('Epoch')"
   ]
  },
  {
   "cell_type": "code",
   "execution_count": 30,
   "id": "16e7e7eb",
   "metadata": {
    "ExecuteTime": {
     "end_time": "2022-09-01T21:03:03.525687Z",
     "start_time": "2022-09-01T21:03:03.451522Z"
    }
   },
   "outputs": [
    {
     "data": {
      "image/png": "[encoded data removed]",
      "text/plain": [
       "<Figure size 432x288 with 1 Axes>"
      ]
     },
     "metadata": {
      "needs_background": "light"
     },
     "output_type": "display_data"
    }
   ],
   "source": [
    "plot_fit(\"Trained Model\")"
   ]
  }
 ],
 "metadata": {
  "hide_input": false,
  "kernelspec": {
   "display_name": "Python 3 (ipykernel)",
   "language": "python",
   "name": "python3"
  },
  "language_info": {
   "codemirror_mode": {
    "name": "ipython",
    "version": 3
   },
   "file_extension": ".py",
   "mimetype": "text/x-python",
   "name": "python",
   "nbconvert_exporter": "python",
   "pygments_lexer": "ipython3",
   "version": "3.9.12"
  },
  "latex_envs": {
   "LaTeX_envs_menu_present": true,
   "autoclose": false,
   "autocomplete": true,
   "bibliofile": "biblio.bib",
   "cite_by": "apalike",
   "current_citInitial": 1,
   "eqLabelWithNumbers": true,
   "eqNumInitial": 1,
   "hotkeys": {
    "equation": "Ctrl-E",
    "itemize": "Ctrl-I"
   },
   "labels_anchors": false,
   "latex_user_defs": false,
   "report_style_numbering": false,
   "user_envs_cfg": false
  },
  "nbTranslate": {
   "displayLangs": [
    "*"
   ],
   "hotkey": "alt-t",
   "langInMainMenu": true,
   "sourceLang": "en",
   "targetLang": "fr",
   "useGoogleTranslate": true
  },
  "toc": {
   "base_numbering": 1,
   "nav_menu": {},
   "number_sections": true,
   "sideBar": true,
   "skip_h1_title": false,
   "title_cell": "Table of Contents",
   "title_sidebar": "Contents",
   "toc_cell": false,
   "toc_position": {},
   "toc_section_display": true,
   "toc_window_display": true
  }
 },
 "nbformat": 4,
 "nbformat_minor": 5
}

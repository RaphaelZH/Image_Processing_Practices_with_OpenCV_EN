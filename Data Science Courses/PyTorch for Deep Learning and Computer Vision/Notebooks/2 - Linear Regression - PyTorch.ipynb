{
 "cells": [
  {
   "cell_type": "markdown",
   "id": "5fdb7bb7",
   "metadata": {},
   "source": [
    "# Importing Libraries"
   ]
  },
  {
   "cell_type": "code",
   "execution_count": 1,
   "id": "07cd4ffb",
   "metadata": {
    "ExecuteTime": {
     "end_time": "2022-12-01T23:28:04.180873Z",
     "start_time": "2022-12-01T23:28:03.199466Z"
    }
   },
   "outputs": [],
   "source": [
    "import torch\n",
    "from torch import nn\n",
    "\n",
    "import numpy as np\n",
    "\n",
    "import matplotlib as mpl\n",
    "import matplotlib.pyplot as plt\n",
    "\n",
    "import reprlib\n",
    "import sys"
   ]
  },
  {
   "cell_type": "markdown",
   "id": "5094fde5",
   "metadata": {},
   "source": [
    "# Configuring Visualization Parameters"
   ]
  },
  {
   "cell_type": "code",
   "execution_count": 2,
   "id": "d6dd7c45",
   "metadata": {
    "ExecuteTime": {
     "end_time": "2022-12-01T23:28:04.188929Z",
     "start_time": "2022-12-01T23:28:04.182142Z"
    }
   },
   "outputs": [],
   "source": [
    "%matplotlib inline"
   ]
  },
  {
   "cell_type": "code",
   "execution_count": 3,
   "id": "5d4894ab",
   "metadata": {
    "ExecuteTime": {
     "end_time": "2022-12-01T23:28:04.191224Z",
     "start_time": "2022-12-01T23:28:04.189706Z"
    }
   },
   "outputs": [],
   "source": [
    "XINHUI = \"#7a7374\"\n",
    "XUEBAI = \"#fffef9\"\n",
    "YINBAI = \"#f1f0ed\"\n",
    "YINHUI = \"#918072\"\n",
    "\n",
    "figure_size = (16, 9)"
   ]
  },
  {
   "cell_type": "code",
   "execution_count": 4,
   "id": "6f7198a8",
   "metadata": {
    "ExecuteTime": {
     "end_time": "2022-12-01T23:28:04.194554Z",
     "start_time": "2022-12-01T23:28:04.192603Z"
    }
   },
   "outputs": [],
   "source": [
    "custom_params = {\n",
    "    \"axes.axisbelow\": True,\n",
    "    \"axes.edgecolor\": YINBAI,\n",
    "    \"axes.facecolor\": XUEBAI,\n",
    "    \"axes.grid\": True,\n",
    "    \"axes.labelcolor\": XINHUI,\n",
    "    \"axes.spines.right\": False,\n",
    "    \"axes.spines.top\": False,\n",
    "    \"axes.titlecolor\": XINHUI,\n",
    "    \"figure.edgecolor\": YINBAI,\n",
    "    \"figure.facecolor\": XUEBAI,\n",
    "    \"grid.alpha\": .8,\n",
    "    \"grid.color\": YINBAI,\n",
    "    \"grid.linestyle\": \"--\",\n",
    "    \"grid.linewidth\": 1.2,\n",
    "    \"legend.edgecolor\": YINHUI,\n",
    "    \"patch.edgecolor\": XUEBAI,\n",
    "    \"patch.force_edgecolor\": True,\n",
    "    \"text.color\": XINHUI,\n",
    "    \"xtick.color\": YINHUI,\n",
    "    \"ytick.color\": YINHUI,\n",
    "}\n",
    "\n",
    "mpl.rcParams.update(custom_params)"
   ]
  },
  {
   "cell_type": "markdown",
   "id": "e39283da",
   "metadata": {},
   "source": [
    "# Configuring Other Notebook Parameters"
   ]
  },
  {
   "cell_type": "code",
   "execution_count": 5,
   "id": "1721c976",
   "metadata": {
    "ExecuteTime": {
     "end_time": "2022-12-01T23:28:04.196842Z",
     "start_time": "2022-12-01T23:28:04.195473Z"
    }
   },
   "outputs": [],
   "source": [
    "reprlib_rules = reprlib.Repr()\n",
    "reprlib_rules.maxother = 250"
   ]
  },
  {
   "cell_type": "markdown",
   "id": "77cdea15",
   "metadata": {},
   "source": [
    "# Pre-installing Custom Functions"
   ]
  },
  {
   "cell_type": "code",
   "execution_count": 6,
   "id": "1f6ac6d5",
   "metadata": {
    "ExecuteTime": {
     "end_time": "2022-12-01T23:28:04.199199Z",
     "start_time": "2022-12-01T23:28:04.197657Z"
    }
   },
   "outputs": [],
   "source": [
    "sys.path.append(\"../\")"
   ]
  },
  {
   "cell_type": "code",
   "execution_count": 7,
   "id": "ab3f4e6c",
   "metadata": {
    "ExecuteTime": {
     "end_time": "2022-12-01T23:28:04.441187Z",
     "start_time": "2022-12-01T23:28:04.200122Z"
    }
   },
   "outputs": [],
   "source": [
    "from Modules import *"
   ]
  },
  {
   "cell_type": "markdown",
   "id": "00dd6868",
   "metadata": {},
   "source": [
    "# Practicing in Stages\n",
    "\n",
    "## Making Predictions"
   ]
  },
  {
   "cell_type": "code",
   "execution_count": 8,
   "id": "002025a7",
   "metadata": {
    "ExecuteTime": {
     "end_time": "2022-12-01T23:28:04.445563Z",
     "start_time": "2022-12-01T23:28:04.442313Z"
    },
    "code_folding": [],
    "hide_input": false,
    "scrolled": false
   },
   "outputs": [
    {
     "name": "stdout",
     "output_type": "stream",
     "text": [
      "\u001b[4m\u001b[30mDefinition of prediction function\u001b[0m\n",
      "\n",
      "\u001b[1m\u001b[30m    +-------------------+\u001b[0m\n",
      "\u001b[1m\u001b[30m    | Definition        |\u001b[0m\n",
      "\u001b[1m\u001b[30m    +-------------------+\u001b[0m\n",
      "\u001b[1m\u001b[30m    | def forward(x):   |\u001b[0m\n",
      "\u001b[1m\u001b[30m    |     y = w * x + b |\u001b[0m\n",
      "\u001b[1m\u001b[30m    |     return y      |\u001b[0m\n",
      "\u001b[1m\u001b[30m    +-------------------+\u001b[0m\n"
     ]
    }
   ],
   "source": [
    "def forward(x):\n",
    "    y = w * x + b\n",
    "    return y\n",
    "\n",
    "\n",
    "tabulation = Form_Generator()\n",
    "tabulation.heading_printer(\"Definition of prediction function\")\n",
    "\n",
    "definition = \"\"\"\n",
    "def forward(x):\n",
    "    y = w * x + b\n",
    "    return y\n",
    "\"\"\"\n",
    "definitions = [definition]\n",
    "tabulation.definition_generator(definitions)"
   ]
  },
  {
   "cell_type": "code",
   "execution_count": 9,
   "id": "6b34b014",
   "metadata": {
    "ExecuteTime": {
     "end_time": "2022-12-01T23:28:04.450468Z",
     "start_time": "2022-12-01T23:28:04.446606Z"
    },
    "hide_input": false
   },
   "outputs": [
    {
     "name": "stdout",
     "output_type": "stream",
     "text": [
      "\u001b[4m\u001b[34mInitial assignment of parameters\u001b[0m\n",
      "\n",
      "\u001b[1m\u001b[34m    +-------------------------------------------+\u001b[0m\n",
      "\u001b[1m\u001b[34m    | Statement                                 |\u001b[0m\n",
      "\u001b[1m\u001b[34m    +-------------------------------------------+\u001b[0m\n",
      "\u001b[1m\u001b[34m    | w = torch.tensor(3.0, requires_grad=True) |\u001b[0m\n",
      "\u001b[1m\u001b[34m    | b = torch.tensor(1.0, requires_grad=True) |\u001b[0m\n",
      "\u001b[1m\u001b[34m    +-------------------------------------------+\u001b[0m\n",
      "\u001b[1m\u001b[34m    +----------+--------------------------------+\u001b[0m\n",
      "\u001b[1m\u001b[34m    | Variable | Value                          |\u001b[0m\n",
      "\u001b[1m\u001b[34m    +----------+--------------------------------+\u001b[0m\n",
      "\u001b[1m\u001b[34m    | w        | tensor(3., requires_grad=True) |\u001b[0m\n",
      "\u001b[1m\u001b[34m    | b        | tensor(1., requires_grad=True) |\u001b[0m\n",
      "\u001b[1m\u001b[34m    +----------+--------------------------------+\u001b[0m\n"
     ]
    }
   ],
   "source": [
    "w = torch.tensor(3.0, requires_grad=True)\n",
    "b = torch.tensor(1.0, requires_grad=True)\n",
    "\n",
    "tabulation = Form_Generator()\n",
    "tabulation.heading_printer(\"Initial assignment of parameters\")\n",
    "\n",
    "statement_1 = \"w = torch.tensor(3.0, requires_grad=True)\"\n",
    "statement_2 = \"b = torch.tensor(1.0, requires_grad=True)\"\n",
    "statements = [statement_1] + [statement_2]\n",
    "tabulation.statement_generator(statements)\n",
    "\n",
    "variables = [\"w\", \"b\"]\n",
    "values = [str(w), str(b)]\n",
    "tabulation.variable_generator(variables, values)"
   ]
  },
  {
   "cell_type": "code",
   "execution_count": 10,
   "id": "a3e6732f",
   "metadata": {
    "ExecuteTime": {
     "end_time": "2022-12-01T23:28:04.456010Z",
     "start_time": "2022-12-01T23:28:04.452737Z"
    },
    "hide_input": false
   },
   "outputs": [
    {
     "name": "stdout",
     "output_type": "stream",
     "text": [
      "\u001b[4m\u001b[31mFunction implementation with 0D tensor\u001b[0m\n",
      "\n",
      "\u001b[1m\u001b[31m    +---------------------+\u001b[0m\n",
      "\u001b[1m\u001b[31m    | Statement           |\u001b[0m\n",
      "\u001b[1m\u001b[31m    +---------------------+\u001b[0m\n",
      "\u001b[1m\u001b[31m    | x = torch.tensor(2) |\u001b[0m\n",
      "\u001b[1m\u001b[31m    +---------------------+\u001b[0m\n",
      "\u001b[1m\u001b[31m    +----------+-----------+\u001b[0m\n",
      "\u001b[1m\u001b[31m    | Variable | Value     |\u001b[0m\n",
      "\u001b[1m\u001b[31m    +----------+-----------+\u001b[0m\n",
      "\u001b[1m\u001b[31m    | x        | tensor(2) |\u001b[0m\n",
      "\u001b[1m\u001b[31m    +----------+-----------+\u001b[0m\n",
      "\u001b[1m\u001b[31m    +------------+------------------------------------+\u001b[0m\n",
      "\u001b[1m\u001b[31m    | Expression | Result                             |\u001b[0m\n",
      "\u001b[1m\u001b[31m    +------------+------------------------------------+\u001b[0m\n",
      "\u001b[1m\u001b[31m    | forward(x) | tensor(7., grad_fn=⟨AddBackward0⟩) |\u001b[0m\n",
      "\u001b[1m\u001b[31m    +------------+------------------------------------+\u001b[0m\n"
     ]
    }
   ],
   "source": [
    "x = torch.tensor(2)\n",
    "\n",
    "tabulation = Form_Generator()\n",
    "tabulation.heading_printer(\"Function implementation with 0D tensor\")\n",
    "\n",
    "statement_1 = \"x = torch.tensor(2)\"\n",
    "statements = [statement_1]\n",
    "tabulation.statement_generator(statements)\n",
    "\n",
    "variables = [\"x\"]\n",
    "values = [str(x)]\n",
    "tabulation.variable_generator(variables, values)\n",
    "\n",
    "expressions = [\"forward(x)\"]\n",
    "results = [str(forward(x))]\n",
    "tabulation.expression_generator(expressions, results)"
   ]
  },
  {
   "cell_type": "code",
   "execution_count": 11,
   "id": "5e292920",
   "metadata": {
    "ExecuteTime": {
     "end_time": "2022-12-01T23:28:04.477109Z",
     "start_time": "2022-12-01T23:28:04.457186Z"
    },
    "hide_input": false
   },
   "outputs": [
    {
     "name": "stdout",
     "output_type": "stream",
     "text": [
      "\u001b[4m\u001b[35mFunction implementation with multi-D tensor\u001b[0m\n",
      "\n",
      "\u001b[1m\u001b[35m    +------------------------------+\u001b[0m\n",
      "\u001b[1m\u001b[35m    | Statement                    |\u001b[0m\n",
      "\u001b[1m\u001b[35m    +------------------------------+\u001b[0m\n",
      "\u001b[1m\u001b[35m    | x = torch.tensor([[4], [7]]) |\u001b[0m\n",
      "\u001b[1m\u001b[35m    +------------------------------+\u001b[0m\n",
      "\u001b[1m\u001b[35m    +----------+---------------+\u001b[0m\n",
      "\u001b[1m\u001b[35m    | Variable | Value         |\u001b[0m\n",
      "\u001b[1m\u001b[35m    +----------+---------------+\u001b[0m\n",
      "\u001b[1m\u001b[35m    | x        | tensor([[4],  |\u001b[0m\n",
      "\u001b[1m\u001b[35m    |          |         [7]]) |\u001b[0m\n",
      "\u001b[1m\u001b[35m    +----------+---------------+\u001b[0m\n",
      "\u001b[1m\u001b[35m    +------------+-----------------------------------------+\u001b[0m\n",
      "\u001b[1m\u001b[35m    | Expression | Result                                  |\u001b[0m\n",
      "\u001b[1m\u001b[35m    +------------+-----------------------------------------+\u001b[0m\n",
      "\u001b[1m\u001b[35m    | forward(x) | tensor([[13.],                          |\u001b[0m\n",
      "\u001b[1m\u001b[35m    |            |         [22.]], grad_fn=⟨AddBackward0⟩) |\u001b[0m\n",
      "\u001b[1m\u001b[35m    +------------+-----------------------------------------+\u001b[0m\n"
     ]
    }
   ],
   "source": [
    "x = torch.tensor([[4], [7]])\n",
    "\n",
    "tabulation = Form_Generator()\n",
    "tabulation.heading_printer(\"Function implementation with multi-D tensor\")\n",
    "\n",
    "statement_1 = \"x = torch.tensor([[4], [7]])\"\n",
    "statements = [statement_1]\n",
    "tabulation.statement_generator(statements)\n",
    "\n",
    "variables = [\"x\"]\n",
    "values = [str(x)]\n",
    "tabulation.variable_generator(variables, values)\n",
    "\n",
    "expressions = [\"forward(x)\"]\n",
    "results = [str(forward(x))]\n",
    "tabulation.expression_generator(expressions, results)"
   ]
  },
  {
   "cell_type": "markdown",
   "id": "010e1216",
   "metadata": {},
   "source": [
    "## Linear Class"
   ]
  },
  {
   "cell_type": "code",
   "execution_count": 12,
   "id": "06a3a62c",
   "metadata": {
    "ExecuteTime": {
     "end_time": "2022-12-01T23:28:04.489064Z",
     "start_time": "2022-12-01T23:28:04.482085Z"
    }
   },
   "outputs": [
    {
     "name": "stdout",
     "output_type": "stream",
     "text": [
      "\u001b[4m\u001b[32mInitialization of standard linear model\u001b[0m\n",
      "\n",
      "\u001b[1m\u001b[32m    +--------------------------------------------------+\u001b[0m\n",
      "\u001b[1m\u001b[32m    | Statement                                        |\u001b[0m\n",
      "\u001b[1m\u001b[32m    +--------------------------------------------------+\u001b[0m\n",
      "\u001b[1m\u001b[32m    | torch.manual_seed(1)                             |\u001b[0m\n",
      "\u001b[1m\u001b[32m    | model = nn.Linear(in_features=1, out_features=1) |\u001b[0m\n",
      "\u001b[1m\u001b[32m    +--------------------------------------------------+\u001b[0m\n",
      "\u001b[1m\u001b[32m    +----------+--------------------------------------------------+\u001b[0m\n",
      "\u001b[1m\u001b[32m    | Variable | Value                                            |\u001b[0m\n",
      "\u001b[1m\u001b[32m    +----------+--------------------------------------------------+\u001b[0m\n",
      "\u001b[1m\u001b[32m    | model    | Linear(in_features=1, out_features=1, bias=True) |\u001b[0m\n",
      "\u001b[1m\u001b[32m    +----------+--------------------------------------------------+\u001b[0m\n",
      "\u001b[1m\u001b[32m    +--------------+----------------------------------------+\u001b[0m\n",
      "\u001b[1m\u001b[32m    | Expression   | Result                                 |\u001b[0m\n",
      "\u001b[1m\u001b[32m    +--------------+----------------------------------------+\u001b[0m\n",
      "\u001b[1m\u001b[32m    | model.weight | Parameter containing:                  |\u001b[0m\n",
      "\u001b[1m\u001b[32m    |              | tensor([[0.5153]], requires_grad=True) |\u001b[0m\n",
      "\u001b[1m\u001b[32m    | model.bias   | Parameter containing:                  |\u001b[0m\n",
      "\u001b[1m\u001b[32m    |              | tensor([-0.4414], requires_grad=True)  |\u001b[0m\n",
      "\u001b[1m\u001b[32m    +--------------+----------------------------------------+\u001b[0m\n"
     ]
    }
   ],
   "source": [
    "torch.manual_seed(1)\n",
    "model = nn.Linear(in_features=1, out_features=1)\n",
    "\n",
    "tabulation = Form_Generator()\n",
    "tabulation.heading_printer(\"Initialization of standard linear model\")\n",
    "\n",
    "statement_1 = \"torch.manual_seed(1)\"\n",
    "statement_2 = \"model = nn.Linear(in_features=1, out_features=1)\"\n",
    "statements = [statement_1] + [statement_2]\n",
    "tabulation.statement_generator(statements)\n",
    "\n",
    "variables = [\"model\"]\n",
    "values = [str(model)]\n",
    "tabulation.variable_generator(variables, values)\n",
    "\n",
    "expressions = [\"model.weight\", \"model.bias\"]\n",
    "results = [str(model.weight), str(model.bias)]\n",
    "tabulation.expression_generator(expressions, results)"
   ]
  },
  {
   "cell_type": "code",
   "execution_count": 13,
   "id": "664fbcd2",
   "metadata": {
    "ExecuteTime": {
     "end_time": "2022-12-01T23:28:04.494500Z",
     "start_time": "2022-12-01T23:28:04.490118Z"
    }
   },
   "outputs": [
    {
     "name": "stdout",
     "output_type": "stream",
     "text": [
      "\u001b[4m\u001b[36mModel implementation with 1D tensor\u001b[0m\n",
      "\n",
      "\u001b[1m\u001b[36m    +-------------------------+\u001b[0m\n",
      "\u001b[1m\u001b[36m    | Statement               |\u001b[0m\n",
      "\u001b[1m\u001b[36m    +-------------------------+\u001b[0m\n",
      "\u001b[1m\u001b[36m    | x = torch.tensor([2.0]) |\u001b[0m\n",
      "\u001b[1m\u001b[36m    +-------------------------+\u001b[0m\n",
      "\u001b[1m\u001b[36m    +----------+--------------+\u001b[0m\n",
      "\u001b[1m\u001b[36m    | Variable | Value        |\u001b[0m\n",
      "\u001b[1m\u001b[36m    +----------+--------------+\u001b[0m\n",
      "\u001b[1m\u001b[36m    | x        | tensor([2.]) |\u001b[0m\n",
      "\u001b[1m\u001b[36m    +----------+--------------+\u001b[0m\n",
      "\u001b[1m\u001b[36m    +------------+------------------------------------------+\u001b[0m\n",
      "\u001b[1m\u001b[36m    | Expression | Result                                   |\u001b[0m\n",
      "\u001b[1m\u001b[36m    +------------+------------------------------------------+\u001b[0m\n",
      "\u001b[1m\u001b[36m    | model(x)   | tensor([0.5891], grad_fn=⟨AddBackward0⟩) |\u001b[0m\n",
      "\u001b[1m\u001b[36m    +------------+------------------------------------------+\u001b[0m\n"
     ]
    }
   ],
   "source": [
    "x = torch.tensor([2.0])\n",
    "\n",
    "tabulation = Form_Generator()\n",
    "tabulation.heading_printer(\"Model implementation with 1D tensor\")\n",
    "\n",
    "statement_1 = \"x = torch.tensor([2.0])\"\n",
    "statements = [statement_1]\n",
    "tabulation.statement_generator(statements)\n",
    "\n",
    "variables = [\"x\"]\n",
    "values = [str(x)]\n",
    "tabulation.variable_generator(variables, values)\n",
    "\n",
    "expressions = [\"model(x)\"]\n",
    "results = [str(model(x))]\n",
    "tabulation.expression_generator(expressions, results)"
   ]
  },
  {
   "cell_type": "code",
   "execution_count": 14,
   "id": "ab5dcc5b",
   "metadata": {
    "ExecuteTime": {
     "end_time": "2022-12-01T23:28:04.500218Z",
     "start_time": "2022-12-01T23:28:04.496112Z"
    }
   },
   "outputs": [
    {
     "name": "stdout",
     "output_type": "stream",
     "text": [
      "\u001b[4m\u001b[37mModel implementation with multi-D tensor\u001b[0m\n",
      "\n",
      "\u001b[1m\u001b[37m    +----------------------------------+\u001b[0m\n",
      "\u001b[1m\u001b[37m    | Statement                        |\u001b[0m\n",
      "\u001b[1m\u001b[37m    +----------------------------------+\u001b[0m\n",
      "\u001b[1m\u001b[37m    | x = torch.tensor([[2.0], [3.3]]) |\u001b[0m\n",
      "\u001b[1m\u001b[37m    +----------------------------------+\u001b[0m\n",
      "\u001b[1m\u001b[37m    +----------+--------------------+\u001b[0m\n",
      "\u001b[1m\u001b[37m    | Variable | Value              |\u001b[0m\n",
      "\u001b[1m\u001b[37m    +----------+--------------------+\u001b[0m\n",
      "\u001b[1m\u001b[37m    | x        | tensor([[2.0000],  |\u001b[0m\n",
      "\u001b[1m\u001b[37m    |          |         [3.3000]]) |\u001b[0m\n",
      "\u001b[1m\u001b[37m    +----------+--------------------+\u001b[0m\n",
      "\u001b[1m\u001b[37m    +------------+----------------------------------------------+\u001b[0m\n",
      "\u001b[1m\u001b[37m    | Expression | Result                                       |\u001b[0m\n",
      "\u001b[1m\u001b[37m    +------------+----------------------------------------------+\u001b[0m\n",
      "\u001b[1m\u001b[37m    | model(x)   | tensor([[0.5891],                            |\u001b[0m\n",
      "\u001b[1m\u001b[37m    |            |         [1.2590]], grad_fn=⟨AddmmBackward0⟩) |\u001b[0m\n",
      "\u001b[1m\u001b[37m    +------------+----------------------------------------------+\u001b[0m\n"
     ]
    }
   ],
   "source": [
    "x = torch.tensor([[2.0], [3.3]])\n",
    "\n",
    "tabulation = Form_Generator()\n",
    "tabulation.heading_printer(\"Model implementation with multi-D tensor\")\n",
    "\n",
    "statement_1 = \"x = torch.tensor([[2.0], [3.3]])\"\n",
    "statements = [statement_1]\n",
    "tabulation.statement_generator(statements)\n",
    "\n",
    "variables = [\"x\"]\n",
    "values = [str(x)]\n",
    "tabulation.variable_generator(variables, values)\n",
    "\n",
    "expressions = [\"model(x)\"]\n",
    "results = [str(model(x))]\n",
    "tabulation.expression_generator(expressions, results)"
   ]
  },
  {
   "cell_type": "markdown",
   "id": "985eeeb1",
   "metadata": {},
   "source": [
    "## Custom Modules"
   ]
  },
  {
   "cell_type": "code",
   "execution_count": 15,
   "id": "b4957565",
   "metadata": {
    "ExecuteTime": {
     "end_time": "2022-12-01T23:28:04.506577Z",
     "start_time": "2022-12-01T23:28:04.501507Z"
    }
   },
   "outputs": [
    {
     "name": "stdout",
     "output_type": "stream",
     "text": [
      "\u001b[4m\u001b[33mInitialization of inherited linear classes\u001b[0m\n",
      "\n",
      "\u001b[1m\u001b[33m    +----------------------------------------------------------+\u001b[0m\n",
      "\u001b[1m\u001b[33m    | Definition                                               |\u001b[0m\n",
      "\u001b[1m\u001b[33m    +----------------------------------------------------------+\u001b[0m\n",
      "\u001b[1m\u001b[33m    | class LR(nn.Module):                                     |\u001b[0m\n",
      "\u001b[1m\u001b[33m    |                                                          |\u001b[0m\n",
      "\u001b[1m\u001b[33m    |     def __init__(self, input_size, output_size):         |\u001b[0m\n",
      "\u001b[1m\u001b[33m    |         super().__init__()                               |\u001b[0m\n",
      "\u001b[1m\u001b[33m    |         self.linear = nn.Linear(input_size, output_size) |\u001b[0m\n",
      "\u001b[1m\u001b[33m    |                                                          |\u001b[0m\n",
      "\u001b[1m\u001b[33m    |     def forward(self, x):                                |\u001b[0m\n",
      "\u001b[1m\u001b[33m    |         pred = self.linear(x)                            |\u001b[0m\n",
      "\u001b[1m\u001b[33m    |         return pred                                      |\u001b[0m\n",
      "\u001b[1m\u001b[33m    +----------------------------------------------------------+\u001b[0m\n",
      "\u001b[1m\u001b[33m    +----------------------+\u001b[0m\n",
      "\u001b[1m\u001b[33m    | Statement            |\u001b[0m\n",
      "\u001b[1m\u001b[33m    +----------------------+\u001b[0m\n",
      "\u001b[1m\u001b[33m    | torch.manual_seed(1) |\u001b[0m\n",
      "\u001b[1m\u001b[33m    | model = LR(1, 1)     |\u001b[0m\n",
      "\u001b[1m\u001b[33m    +----------------------+\u001b[0m\n",
      "\u001b[1m\u001b[33m    +----------+--------------------------------------------------+\u001b[0m\n",
      "\u001b[1m\u001b[33m    | Variable | Value                                            |\u001b[0m\n",
      "\u001b[1m\u001b[33m    +----------+--------------------------------------------------+\u001b[0m\n",
      "\u001b[1m\u001b[33m    | model    | Linear(in_features=1, out_features=1, bias=True) |\u001b[0m\n",
      "\u001b[1m\u001b[33m    +----------+--------------------------------------------------+\u001b[0m\n",
      "\u001b[1m\u001b[33m    +--------------------------+-------------------------------+\u001b[0m\n",
      "\u001b[1m\u001b[33m    | Expression               | Result                        |\u001b[0m\n",
      "\u001b[1m\u001b[33m    +--------------------------+-------------------------------+\u001b[0m\n",
      "\u001b[1m\u001b[33m    | model.parameters()       | ⟨generator object             |\u001b[0m\n",
      "\u001b[1m\u001b[33m    |                          |         Module.parameters at  |\u001b[0m\n",
      "\u001b[1m\u001b[33m    |                          |         0x15c9b4ba0⟩          |\u001b[0m\n",
      "\u001b[1m\u001b[33m    | list(model.parameters()) | [Parameter containing:        |\u001b[0m\n",
      "\u001b[1m\u001b[33m    |                          | tensor([[0.5153]],            |\u001b[0m\n",
      "\u001b[1m\u001b[33m    |                          |         requires_grad=True),  |\u001b[0m\n",
      "\u001b[1m\u001b[33m    |                          |         Parameter containing: |\u001b[0m\n",
      "\u001b[1m\u001b[33m    |                          | tensor([-0.4414],             |\u001b[0m\n",
      "\u001b[1m\u001b[33m    |                          |         requires_grad=True)]  |\u001b[0m\n",
      "\u001b[1m\u001b[33m    +--------------------------+-------------------------------+\u001b[0m\n"
     ]
    }
   ],
   "source": [
    "class LR(nn.Module):\n",
    "\n",
    "    def __init__(self, input_size, output_size):\n",
    "        super().__init__()\n",
    "        self.linear = nn.Linear(input_size, output_size)\n",
    "\n",
    "    def forward(self, x):\n",
    "        pred = self.linear(x)\n",
    "        return pred\n",
    "\n",
    "\n",
    "tabulation = Form_Generator()\n",
    "tabulation.heading_printer(\"Initialization of inherited linear classes\")\n",
    "\n",
    "definition = \"\"\"\n",
    "class LR(nn.Module):\n",
    "\n",
    "    def __init__(self, input_size, output_size):\n",
    "        super().__init__()\n",
    "        self.linear = nn.Linear(input_size, output_size)\n",
    "\n",
    "    def forward(self, x):\n",
    "        pred = self.linear(x)\n",
    "        return pred\n",
    "\"\"\"\n",
    "\n",
    "definitions = [definition]\n",
    "tabulation.definition_generator(definitions)\n",
    "\n",
    "statement_1 = \"torch.manual_seed(1)\"\n",
    "statement_2 = \"model = LR(1, 1)\"\n",
    "statements = [statement_1] + [statement_2]\n",
    "tabulation.statement_generator(statements)\n",
    "\n",
    "variables = [\"model\"]\n",
    "values = [str(model)]\n",
    "tabulation.variable_generator(variables, values)\n",
    "\n",
    "expressions = [\"model.parameters()\", \"list(model.parameters())\"]\n",
    "results = [str(model.parameters()), str(list(model.parameters()))]\n",
    "tabulation.expression_generator(expressions, results)"
   ]
  },
  {
   "cell_type": "code",
   "execution_count": 16,
   "id": "6ba13ce1",
   "metadata": {
    "ExecuteTime": {
     "end_time": "2022-12-01T23:28:04.511605Z",
     "start_time": "2022-12-01T23:28:04.507652Z"
    }
   },
   "outputs": [
    {
     "name": "stdout",
     "output_type": "stream",
     "text": [
      "\u001b[4m\u001b[31mImplementation of custom model with 1D tensor\u001b[0m\n",
      "\n",
      "\u001b[1m\u001b[31m    +-------------------------+\u001b[0m\n",
      "\u001b[1m\u001b[31m    | Statement               |\u001b[0m\n",
      "\u001b[1m\u001b[31m    +-------------------------+\u001b[0m\n",
      "\u001b[1m\u001b[31m    | x = torch.tensor([1.0]) |\u001b[0m\n",
      "\u001b[1m\u001b[31m    +-------------------------+\u001b[0m\n",
      "\u001b[1m\u001b[31m    +----------+--------------+\u001b[0m\n",
      "\u001b[1m\u001b[31m    | Variable | Value        |\u001b[0m\n",
      "\u001b[1m\u001b[31m    +----------+--------------+\u001b[0m\n",
      "\u001b[1m\u001b[31m    | x        | tensor([1.]) |\u001b[0m\n",
      "\u001b[1m\u001b[31m    +----------+--------------+\u001b[0m\n",
      "\u001b[1m\u001b[31m    +------------------+------------------------------------------+\u001b[0m\n",
      "\u001b[1m\u001b[31m    | Expression       | Result                                   |\u001b[0m\n",
      "\u001b[1m\u001b[31m    +------------------+------------------------------------------+\u001b[0m\n",
      "\u001b[1m\u001b[31m    | model.forward(x) | tensor([0.0739], grad_fn=⟨AddBackward0⟩) |\u001b[0m\n",
      "\u001b[1m\u001b[31m    +------------------+------------------------------------------+\u001b[0m\n"
     ]
    }
   ],
   "source": [
    "x = torch.tensor([1.0])\n",
    "\n",
    "tabulation = Form_Generator()\n",
    "tabulation.heading_printer(\"Implementation of custom model with 1D tensor\")\n",
    "\n",
    "statement_1 = \"x = torch.tensor([1.0])\"\n",
    "statements = [statement_1]\n",
    "tabulation.statement_generator(statements)\n",
    "\n",
    "variables = [\"x\"]\n",
    "values = [str(x)]\n",
    "tabulation.variable_generator(variables, values)\n",
    "\n",
    "expressions = [\"model.forward(x)\"]\n",
    "results = [str(model.forward(x))]\n",
    "tabulation.expression_generator(expressions, results)"
   ]
  },
  {
   "cell_type": "code",
   "execution_count": 17,
   "id": "a7551e0d",
   "metadata": {
    "ExecuteTime": {
     "end_time": "2022-12-01T23:28:04.515812Z",
     "start_time": "2022-12-01T23:28:04.512555Z"
    }
   },
   "outputs": [
    {
     "name": "stdout",
     "output_type": "stream",
     "text": [
      "\u001b[4m\u001b[34mImplementation of custom model with multi-D tensor\u001b[0m\n",
      "\n",
      "\u001b[1m\u001b[34m    +----------------------------------+\u001b[0m\n",
      "\u001b[1m\u001b[34m    | Statement                        |\u001b[0m\n",
      "\u001b[1m\u001b[34m    +----------------------------------+\u001b[0m\n",
      "\u001b[1m\u001b[34m    | x = torch.tensor([[1.0], [2.0]]) |\u001b[0m\n",
      "\u001b[1m\u001b[34m    +----------------------------------+\u001b[0m\n",
      "\u001b[1m\u001b[34m    +----------+----------------+\u001b[0m\n",
      "\u001b[1m\u001b[34m    | Variable | Value          |\u001b[0m\n",
      "\u001b[1m\u001b[34m    +----------+----------------+\u001b[0m\n",
      "\u001b[1m\u001b[34m    | x        | tensor([[1.],  |\u001b[0m\n",
      "\u001b[1m\u001b[34m    |          |         [2.]]) |\u001b[0m\n",
      "\u001b[1m\u001b[34m    +----------+----------------+\u001b[0m\n",
      "\u001b[1m\u001b[34m    +------------------+-----------------------------------+\u001b[0m\n",
      "\u001b[1m\u001b[34m    | Expression       | Result                            |\u001b[0m\n",
      "\u001b[1m\u001b[34m    +------------------+-----------------------------------+\u001b[0m\n",
      "\u001b[1m\u001b[34m    | model.forward(x) | tensor([[0.0739],                 |\u001b[0m\n",
      "\u001b[1m\u001b[34m    |                  |         [0.5891]],                |\u001b[0m\n",
      "\u001b[1m\u001b[34m    |                  |         grad_fn=⟨AddmmBackward0⟩) |\u001b[0m\n",
      "\u001b[1m\u001b[34m    +------------------+-----------------------------------+\u001b[0m\n"
     ]
    }
   ],
   "source": [
    "x = torch.tensor([[1.0], [2.0]])\n",
    "\n",
    "tabulation = Form_Generator()\n",
    "tabulation.heading_printer(\n",
    "    \"Implementation of custom model with multi-D tensor\")\n",
    "\n",
    "statement_1 = \"x = torch.tensor([[1.0], [2.0]])\"\n",
    "statements = [statement_1]\n",
    "tabulation.statement_generator(statements)\n",
    "\n",
    "variables = [\"x\"]\n",
    "values = [str(x)]\n",
    "tabulation.variable_generator(variables, values)\n",
    "\n",
    "expressions = [\"model.forward(x)\"]\n",
    "results = [str(model.forward(x))]\n",
    "tabulation.expression_generator(expressions, results)"
   ]
  },
  {
   "cell_type": "markdown",
   "id": "3bf733a9",
   "metadata": {
    "ExecuteTime": {
     "end_time": "2022-07-21T01:19:38.272762Z",
     "start_time": "2022-07-21T01:19:38.266612Z"
    }
   },
   "source": [
    "## Creating Dataset"
   ]
  },
  {
   "cell_type": "code",
   "execution_count": 18,
   "id": "9b67b4ce",
   "metadata": {
    "ExecuteTime": {
     "end_time": "2022-12-01T23:28:04.521799Z",
     "start_time": "2022-12-01T23:28:04.517083Z"
    },
    "scrolled": false
   },
   "outputs": [
    {
     "name": "stdout",
     "output_type": "stream",
     "text": [
      "\u001b[4m\u001b[30mCreation of normally distributed data with random numbers\u001b[0m\n",
      "\n",
      "\u001b[1m\u001b[30m    +-------------------------+\u001b[0m\n",
      "\u001b[1m\u001b[30m    | Statement               |\u001b[0m\n",
      "\u001b[1m\u001b[30m    +-------------------------+\u001b[0m\n",
      "\u001b[1m\u001b[30m    | X = torch.randn(100, 1) |\u001b[0m\n",
      "\u001b[1m\u001b[30m    +-------------------------+\u001b[0m\n",
      "\u001b[1m\u001b[30m    +----------+-----------------------+\u001b[0m\n",
      "\u001b[1m\u001b[30m    | Variable | Value                 |\u001b[0m\n",
      "\u001b[1m\u001b[30m    +----------+-----------------------+\u001b[0m\n",
      "\u001b[1m\u001b[30m    | X        | tensor([[-0.6540],    |\u001b[0m\n",
      "\u001b[1m\u001b[30m    |          |         [-1.6095],    |\u001b[0m\n",
      "\u001b[1m\u001b[30m    |          |         [-0.1002],    |\u001b[0m\n",
      "\u001b[1m\u001b[30m    |          |         [-0.6092],    |\u001b[0m\n",
      "\u001b[1m\u001b[30m    |          |         [-0.9798],    |\u001b[0m\n",
      "\u001b[1m\u001b[30m    |          |         [-1.6091],    |\u001b[0m\n",
      "\u001b[1m\u001b[30m    |          |         [...-1.1334], |\u001b[0m\n",
      "\u001b[1m\u001b[30m    |          |         [-0.1010],    |\u001b[0m\n",
      "\u001b[1m\u001b[30m    |          |         [ 0.3434],    |\u001b[0m\n",
      "\u001b[1m\u001b[30m    |          |         [-1.0703],    |\u001b[0m\n",
      "\u001b[1m\u001b[30m    |          |         [-0.8743],    |\u001b[0m\n",
      "\u001b[1m\u001b[30m    |          |         [-1.4648],    |\u001b[0m\n",
      "\u001b[1m\u001b[30m    |          |         [-1.2629]])   |\u001b[0m\n",
      "\u001b[1m\u001b[30m    +----------+-----------------------+\u001b[0m\n",
      "\u001b[1m\u001b[30m    +------------+----------------------+\u001b[0m\n",
      "\u001b[1m\u001b[30m    | Expression | Result               |\u001b[0m\n",
      "\u001b[1m\u001b[30m    +------------+----------------------+\u001b[0m\n",
      "\u001b[1m\u001b[30m    | X.size()   | torch.Size([100, 1]) |\u001b[0m\n",
      "\u001b[1m\u001b[30m    | X[0]       | tensor([-0.6540])    |\u001b[0m\n",
      "\u001b[1m\u001b[30m    | X[-1]      | tensor([-1.2629])    |\u001b[0m\n",
      "\u001b[1m\u001b[30m    +------------+----------------------+\u001b[0m\n"
     ]
    }
   ],
   "source": [
    "X = torch.randn(100, 1)\n",
    "\n",
    "tabulation = Form_Generator()\n",
    "tabulation.heading_printer(\n",
    "    \"Creation of normally distributed data with random numbers\")\n",
    "\n",
    "statement_1 = \"X = torch.randn(100, 1)\"\n",
    "statements = [statement_1]\n",
    "tabulation.statement_generator(statements)\n",
    "\n",
    "variables = [\"X\"]\n",
    "values = [str(reprlib_rules.repr(X))]\n",
    "tabulation.variable_generator(variables, values)\n",
    "\n",
    "expressions = [\"X.size()\", \"X[0]\", \"X[-1]\"]\n",
    "results = [str(X.size()), str(X[0]), str(X[-1])]\n",
    "tabulation.expression_generator(expressions, results)"
   ]
  },
  {
   "cell_type": "code",
   "execution_count": 19,
   "id": "d54f9a3d",
   "metadata": {
    "ExecuteTime": {
     "end_time": "2022-12-01T23:28:04.676165Z",
     "start_time": "2022-12-01T23:28:04.522848Z"
    }
   },
   "outputs": [
    {
     "data": {
      "image/png": "[encoded data removed]",
      "text/plain": [
       "<Figure size 1600x450 with 2 Axes>"
      ]
     },
     "metadata": {},
     "output_type": "display_data"
    }
   ],
   "source": [
    "colors = calm_color_generator(2)\n",
    "plt.rcParams[\"figure.figsize\"] = (figure_size[0], figure_size[1] / 2)\n",
    "\n",
    "fig, axs = plt.subplots(1, 2, sharey=True)\n",
    "\n",
    "X = torch.randn(100, 1) * 10\n",
    "y = X\n",
    "axs[0].plot(X.numpy(), y.numpy(), \"o\", c=colors.pop(0))\n",
    "axs[0].set_title(\"Normally distributed data without bias\",\n",
    "                 loc=\"center\",\n",
    "                 pad=15)\n",
    "\n",
    "y = X + 3 * torch.randn(100, 1)\n",
    "axs[1].plot(X.numpy(), y.numpy(), \"o\", c=colors.pop(0))\n",
    "axs[1].set_title(\"Normally distributed data with bias\", loc=\"center\", pad=15)\n",
    "\n",
    "for ax in axs.flat:\n",
    "    ax.set(xlabel=\"X\", ylabel=\"y\")\n",
    "    ax.label_outer()\n",
    "\n",
    "fig.suptitle(\"Visual Comparison of Normally Distributed Data\",\n",
    "             fontsize=\"x-large\",\n",
    "             x=0.5,\n",
    "             y=0)\n",
    "\n",
    "plt.tight_layout()\n",
    "plt.show()"
   ]
  },
  {
   "cell_type": "code",
   "execution_count": 20,
   "id": "1a46733b",
   "metadata": {
    "ExecuteTime": {
     "end_time": "2022-12-01T23:28:04.680950Z",
     "start_time": "2022-12-01T23:28:04.677187Z"
    }
   },
   "outputs": [
    {
     "name": "stdout",
     "output_type": "stream",
     "text": [
      "\u001b[4m\u001b[36mModel parameter unpacking\u001b[0m\n",
      "\n",
      "\u001b[1m\u001b[36m    +---------------------------+\u001b[0m\n",
      "\u001b[1m\u001b[36m    | Statement                 |\u001b[0m\n",
      "\u001b[1m\u001b[36m    +---------------------------+\u001b[0m\n",
      "\u001b[1m\u001b[36m    | w, b = model.parameters() |\u001b[0m\n",
      "\u001b[1m\u001b[36m    | w1 = w[0][0]              |\u001b[0m\n",
      "\u001b[1m\u001b[36m    | b1 = b[0]                 |\u001b[0m\n",
      "\u001b[1m\u001b[36m    +---------------------------+\u001b[0m\n",
      "\u001b[1m\u001b[36m    +----------+--------------------------------------------+\u001b[0m\n",
      "\u001b[1m\u001b[36m    | Variable | Value                                      |\u001b[0m\n",
      "\u001b[1m\u001b[36m    +----------+--------------------------------------------+\u001b[0m\n",
      "\u001b[1m\u001b[36m    | w        | Parameter containing:                      |\u001b[0m\n",
      "\u001b[1m\u001b[36m    |          | tensor([[0.5153]], requires_grad=True)     |\u001b[0m\n",
      "\u001b[1m\u001b[36m    | b        | Parameter containing:                      |\u001b[0m\n",
      "\u001b[1m\u001b[36m    |          | tensor([-0.4414], requires_grad=True)      |\u001b[0m\n",
      "\u001b[1m\u001b[36m    | w1       | tensor(0.5153, grad_fn=⟨SelectBackward0⟩)  |\u001b[0m\n",
      "\u001b[1m\u001b[36m    | b1       | tensor(-0.4414, grad_fn=⟨SelectBackward0⟩) |\u001b[0m\n",
      "\u001b[1m\u001b[36m    +----------+--------------------------------------------+\u001b[0m\n"
     ]
    }
   ],
   "source": [
    "w, b = model.parameters()\n",
    "w1 = w[0][0]\n",
    "b1 = b[0]\n",
    "\n",
    "tabulation = Form_Generator()\n",
    "tabulation.heading_printer(\"Model parameter unpacking\")\n",
    "\n",
    "statement_1 = \"w, b = model.parameters()\"\n",
    "statement_2 = \"w1 = w[0][0]\"\n",
    "statement_3 = \"b1 = b[0]\"\n",
    "statements = [statement_1] + [statement_2] + [statement_3]\n",
    "tabulation.statement_generator(statements)\n",
    "\n",
    "variables = [\"w\", \"b\", \"w1\", \"b1\"]\n",
    "values = [str(w), str(b), str(w1), str(b1)]\n",
    "tabulation.variable_generator(variables, values)"
   ]
  },
  {
   "cell_type": "code",
   "execution_count": 21,
   "id": "7bcec66b",
   "metadata": {
    "ExecuteTime": {
     "end_time": "2022-12-01T23:28:04.684708Z",
     "start_time": "2022-12-01T23:28:04.681996Z"
    }
   },
   "outputs": [
    {
     "name": "stdout",
     "output_type": "stream",
     "text": [
      "\u001b[4m\u001b[33mValue extraction by unpacking model parameters\u001b[0m\n",
      "\n",
      "\u001b[1m\u001b[33m    +---------------------+\u001b[0m\n",
      "\u001b[1m\u001b[33m    | Statement           |\u001b[0m\n",
      "\u001b[1m\u001b[33m    +---------------------+\u001b[0m\n",
      "\u001b[1m\u001b[33m    | w1 = w[0][0].item() |\u001b[0m\n",
      "\u001b[1m\u001b[33m    | b1 = b[0].item()    |\u001b[0m\n",
      "\u001b[1m\u001b[33m    +---------------------+\u001b[0m\n",
      "\u001b[1m\u001b[33m    +----------+----------------------+\u001b[0m\n",
      "\u001b[1m\u001b[33m    | Variable | Value                |\u001b[0m\n",
      "\u001b[1m\u001b[33m    +----------+----------------------+\u001b[0m\n",
      "\u001b[1m\u001b[33m    | w1       | 0.5152631998062134   |\u001b[0m\n",
      "\u001b[1m\u001b[33m    | b1       | -0.44137823581695557 |\u001b[0m\n",
      "\u001b[1m\u001b[33m    +----------+----------------------+\u001b[0m\n"
     ]
    }
   ],
   "source": [
    "w1 = w[0][0].item()\n",
    "b1 = b[0].item()\n",
    "\n",
    "tabulation = Form_Generator()\n",
    "tabulation.heading_printer(\"Value extraction by unpacking model parameters\")\n",
    "\n",
    "statement_1 = \"w1 = w[0][0].item()\"\n",
    "statement_2 = \"b1 = b[0].item()\"\n",
    "statements = [statement_1] + [statement_2]\n",
    "tabulation.statement_generator(statements)\n",
    "\n",
    "variables = [\"w1\", \"b1\"]\n",
    "values = [str(w1), str(b1)]\n",
    "tabulation.variable_generator(variables, values)"
   ]
  },
  {
   "cell_type": "code",
   "execution_count": 22,
   "id": "a6c9fc67",
   "metadata": {
    "ExecuteTime": {
     "end_time": "2022-12-01T23:28:04.688365Z",
     "start_time": "2022-12-01T23:28:04.685549Z"
    }
   },
   "outputs": [
    {
     "name": "stdout",
     "output_type": "stream",
     "text": [
      "\u001b[4m\u001b[35mDefinition of visualization function\u001b[0m\n",
      "\n",
      "\u001b[1m\u001b[35m    +------------------------------------------+\u001b[0m\n",
      "\u001b[1m\u001b[35m    | Definition                               |\u001b[0m\n",
      "\u001b[1m\u001b[35m    +------------------------------------------+\u001b[0m\n",
      "\u001b[1m\u001b[35m    | def get_params():                        |\u001b[0m\n",
      "\u001b[1m\u001b[35m    |     return (w[0][0].item(), b[0].item()) |\u001b[0m\n",
      "\u001b[1m\u001b[35m    |                                          |\u001b[0m\n",
      "\u001b[1m\u001b[35m    |                                          |\u001b[0m\n",
      "\u001b[1m\u001b[35m    | def plot_fit(title):                     |\u001b[0m\n",
      "\u001b[1m\u001b[35m    |     global colors                        |\u001b[0m\n",
      "\u001b[1m\u001b[35m    |     plt.title(label=title)               |\u001b[0m\n",
      "\u001b[1m\u001b[35m    |     w1, b1 = get_params()                |\u001b[0m\n",
      "\u001b[1m\u001b[35m    |     X1 = np.array([-30, 30])             |\u001b[0m\n",
      "\u001b[1m\u001b[35m    |     y1 = w1 * X1 + b1                    |\u001b[0m\n",
      "\u001b[1m\u001b[35m    |     plt.plot(X1, y1, c=colors.pop(0))    |\u001b[0m\n",
      "\u001b[1m\u001b[35m    |     plt.scatter(X, y, c=colors.pop(0))   |\u001b[0m\n",
      "\u001b[1m\u001b[35m    +------------------------------------------+\u001b[0m\n"
     ]
    }
   ],
   "source": [
    "def get_params():\n",
    "    return (w[0][0].item(), b[0].item())\n",
    "\n",
    "\n",
    "def plot_fit(title):\n",
    "    global colors\n",
    "    plt.title(label=title)\n",
    "    w1, b1 = get_params()\n",
    "    X1 = np.array([-30, 30])\n",
    "    y1 = w1 * X1 + b1\n",
    "    plt.plot(X1, y1, c=colors.pop(0))\n",
    "    plt.scatter(X, y, c=colors.pop(0))\n",
    "\n",
    "\n",
    "tabulation = Form_Generator()\n",
    "tabulation.heading_printer(\"Definition of visualization function\")\n",
    "\n",
    "definition = \"\"\"\n",
    "def get_params():\n",
    "    return (w[0][0].item(), b[0].item())\n",
    "\n",
    "\n",
    "def plot_fit(title):\n",
    "    global colors\n",
    "    plt.title(label=title)\n",
    "    w1, b1 = get_params()\n",
    "    X1 = np.array([-30, 30])\n",
    "    y1 = w1 * X1 + b1\n",
    "    plt.plot(X1, y1, c=colors.pop(0))\n",
    "    plt.scatter(X, y, c=colors.pop(0))\n",
    "\"\"\"\n",
    "\n",
    "definitions = [definition]\n",
    "tabulation.definition_generator(definitions)"
   ]
  },
  {
   "cell_type": "code",
   "execution_count": 23,
   "id": "48d45bfd",
   "metadata": {
    "ExecuteTime": {
     "end_time": "2022-12-01T23:28:04.764975Z",
     "start_time": "2022-12-01T23:28:04.689194Z"
    },
    "scrolled": false
   },
   "outputs": [
    {
     "data": {
      "image/png": "[encoded data removed]",
      "text/plain": [
       "<Figure size 800x450 with 1 Axes>"
      ]
     },
     "metadata": {},
     "output_type": "display_data"
    }
   ],
   "source": [
    "colors = calm_color_generator(2)\n",
    "plt.rcParams[\"figure.figsize\"] = (figure_size[0] / 2, figure_size[1] / 2)\n",
    "\n",
    "plot_fit(\"Initial Model\")\n",
    "plt.title(plt.gca().get_title(), loc=\"center\", pad=15)\n",
    "\n",
    "plt.xlabel(\"X\")\n",
    "plt.ylabel(\"y\")\n",
    "\n",
    "plt.show()"
   ]
  },
  {
   "cell_type": "code",
   "execution_count": 24,
   "id": "f24b45ba",
   "metadata": {
    "ExecuteTime": {
     "end_time": "2022-12-01T23:28:04.908779Z",
     "start_time": "2022-12-01T23:28:04.766084Z"
    }
   },
   "outputs": [
    {
     "data": {
      "image/png": "[encoded data removed]",
      "text/plain": [
       "<Figure size 1600x450 with 2 Axes>"
      ]
     },
     "metadata": {},
     "output_type": "display_data"
    }
   ],
   "source": [
    "colors = calm_color_generator(4)\n",
    "plt.rcParams[\"figure.figsize\"] = (figure_size[0], figure_size[1] / 2)\n",
    "\n",
    "fig, axs = plt.subplots(1, 2, sharey=True)\n",
    "\n",
    "y = X + 3 * torch.randn(100, 1)\n",
    "plt.subplot(1, 2, 1)\n",
    "plot_fit(\"Initial model\")\n",
    "plt.title(axs[0].get_title(), loc=\"center\", pad=15)\n",
    "\n",
    "plt.subplot(1, 2, 2)\n",
    "X1 = np.array([-30, 30])\n",
    "y1 = X1 + 3 * np.random.randn(2)\n",
    "plt.plot(X1, y1, c=colors.pop(0))\n",
    "plt.scatter(X, y, c=colors.pop(0))\n",
    "plt.title(label=\"Ideal model\")\n",
    "\n",
    "for ax in axs.flat:\n",
    "    ax.set(xlabel=\"X\", ylabel=\"y\")\n",
    "    ax.label_outer()\n",
    "\n",
    "fig.suptitle(\"Visual Comparison of Prediction Models\",\n",
    "             fontsize=\"x-large\",\n",
    "             x=0.5,\n",
    "             y=0)\n",
    "\n",
    "plt.tight_layout()\n",
    "plt.show()"
   ]
  },
  {
   "cell_type": "markdown",
   "id": "dace8ef2",
   "metadata": {
    "ExecuteTime": {
     "end_time": "2022-07-21T02:44:23.523234Z",
     "start_time": "2022-07-21T02:44:23.514722Z"
    }
   },
   "source": [
    "## Training - Code Implementation"
   ]
  },
  {
   "cell_type": "code",
   "execution_count": 25,
   "id": "4719057f",
   "metadata": {
    "ExecuteTime": {
     "end_time": "2022-12-01T23:28:04.913026Z",
     "start_time": "2022-12-01T23:28:04.910017Z"
    }
   },
   "outputs": [
    {
     "name": "stdout",
     "output_type": "stream",
     "text": [
      "\u001b[4m\u001b[37mSpecific configuration settings for the training process\u001b[0m\n",
      "\n",
      "\u001b[1m\u001b[37m    +-----------------------------------------------------------+\u001b[0m\n",
      "\u001b[1m\u001b[37m    | Statement                                                 |\u001b[0m\n",
      "\u001b[1m\u001b[37m    +-----------------------------------------------------------+\u001b[0m\n",
      "\u001b[1m\u001b[37m    | criterion = nn.MSELoss()                                  |\u001b[0m\n",
      "\u001b[1m\u001b[37m    | optimizer = torch.optim.SGD(model.parameters(), lr=0.01)) |\u001b[0m\n",
      "\u001b[1m\u001b[37m    +-----------------------------------------------------------+\u001b[0m\n",
      "\u001b[1m\u001b[37m    +-----------+---------------------------+\u001b[0m\n",
      "\u001b[1m\u001b[37m    | Variable  | Value                     |\u001b[0m\n",
      "\u001b[1m\u001b[37m    +-----------+---------------------------+\u001b[0m\n",
      "\u001b[1m\u001b[37m    | criterion | MSELoss()                 |\u001b[0m\n",
      "\u001b[1m\u001b[37m    | optimizer | SGD (                     |\u001b[0m\n",
      "\u001b[1m\u001b[37m    |           | Parameter Group 0         |\u001b[0m\n",
      "\u001b[1m\u001b[37m    |           |     dampening: 0          |\u001b[0m\n",
      "\u001b[1m\u001b[37m    |           |     differentiable: False |\u001b[0m\n",
      "\u001b[1m\u001b[37m    |           |     foreach: None         |\u001b[0m\n",
      "\u001b[1m\u001b[37m    |           |     lr: 0.01              |\u001b[0m\n",
      "\u001b[1m\u001b[37m    |           |     maximize: False       |\u001b[0m\n",
      "\u001b[1m\u001b[37m    |           |     momentum: 0           |\u001b[0m\n",
      "\u001b[1m\u001b[37m    |           |     nesterov: False       |\u001b[0m\n",
      "\u001b[1m\u001b[37m    |           |     weight_decay: 0       |\u001b[0m\n",
      "\u001b[1m\u001b[37m    |           | )                         |\u001b[0m\n",
      "\u001b[1m\u001b[37m    +-----------+---------------------------+\u001b[0m\n"
     ]
    }
   ],
   "source": [
    "criterion = nn.MSELoss()\n",
    "optimizer = torch.optim.SGD(model.parameters(), lr=0.01)\n",
    "\n",
    "tabulation = Form_Generator()\n",
    "tabulation.heading_printer(\n",
    "    \"Specific configuration settings for the training process\")\n",
    "\n",
    "statement_1 = \"criterion = nn.MSELoss()\"\n",
    "statement_2 = \"optimizer = torch.optim.SGD(model.parameters(), lr=0.01))\"\n",
    "statements = [statement_1] + [statement_2]\n",
    "tabulation.statement_generator(statements)\n",
    "\n",
    "variables = [\"criterion\", \"optimizer\"]\n",
    "values = [str(criterion), str(optimizer)]\n",
    "tabulation.variable_generator(variables, values)"
   ]
  },
  {
   "cell_type": "code",
   "execution_count": null,
   "id": "97ccdb67",
   "metadata": {},
   "outputs": [],
   "source": []
  },
  {
   "cell_type": "markdown",
   "id": "33902cb9",
   "metadata": {
    "ExecuteTime": {
     "end_time": "2022-11-19T22:49:05.144651Z",
     "start_time": "2022-11-19T22:49:05.126533Z"
    }
   },
   "source": [
    "epochs = 100\n",
    "losses = []\n",
    "\n",
    "for i in range(epochs):\n",
    "    y_pred = model.forward(X)\n",
    "    loss = criterion(y_pred, y)\n",
    "    print(\"epoch:\", i, \"loss:\", loss.item(), model.parameters()[0][0][0], model.parameters()[1][0])\n",
    "\n",
    "    #losses.append(loss)\n",
    "    losses.append(loss.item())\n",
    "    optimizer.zero_grad()\n",
    "    loss.backward()\n",
    "    optimizer.step()"
   ]
  },
  {
   "cell_type": "code",
   "execution_count": null,
   "id": "ec188755",
   "metadata": {
    "ExecuteTime": {
     "end_time": "2022-11-27T23:43:27.509344Z",
     "start_time": "2022-11-27T23:43:27.503107Z"
    }
   },
   "outputs": [],
   "source": []
  },
  {
   "cell_type": "code",
   "execution_count": null,
   "id": "8e823919",
   "metadata": {},
   "outputs": [],
   "source": []
  },
  {
   "cell_type": "code",
   "execution_count": null,
   "id": "6db5bc14",
   "metadata": {},
   "outputs": [],
   "source": []
  },
  {
   "cell_type": "code",
   "execution_count": 26,
   "id": "2bd4c164",
   "metadata": {
    "ExecuteTime": {
     "end_time": "2022-12-01T23:28:04.945837Z",
     "start_time": "2022-12-01T23:28:04.913894Z"
    }
   },
   "outputs": [
    {
     "name": "stdout",
     "output_type": "stream",
     "text": [
      "\u001b[4m\u001b[32mSpecific configuration settings for the training process\u001b[0m\n",
      "\n",
      "\u001b[1m\u001b[32m    +---------------------------------+\u001b[0m\n",
      "\u001b[1m\u001b[32m    | Statement                       |\u001b[0m\n",
      "\u001b[1m\u001b[32m    +---------------------------------+\u001b[0m\n",
      "\u001b[1m\u001b[32m    | epochs = 100                    |\u001b[0m\n",
      "\u001b[1m\u001b[32m    | losses = []                     |\u001b[0m\n",
      "\u001b[1m\u001b[32m    |                                 |\u001b[0m\n",
      "\u001b[1m\u001b[32m    | for i in range(epochs):         |\u001b[0m\n",
      "\u001b[1m\u001b[32m    |     y_pred = model.forward(X)   |\u001b[0m\n",
      "\u001b[1m\u001b[32m    |     loss = criterion(y_pred, y) |\u001b[0m\n",
      "\u001b[1m\u001b[32m    |     losses.append(loss.item())  |\u001b[0m\n",
      "\u001b[1m\u001b[32m    |     optimizer.zero_grad()       |\u001b[0m\n",
      "\u001b[1m\u001b[32m    |     loss.backward()             |\u001b[0m\n",
      "\u001b[1m\u001b[32m    |     optimizer.step()            |\u001b[0m\n",
      "\u001b[1m\u001b[32m    +---------------------------------+\u001b[0m\n",
      "\u001b[1m\u001b[32m    +----------+-----------------------------------------------+\u001b[0m\n",
      "\u001b[1m\u001b[32m    | Variable | Value                                         |\u001b[0m\n",
      "\u001b[1m\u001b[32m    +----------+-----------------------------------------------+\u001b[0m\n",
      "\u001b[1m\u001b[32m    | X        | [27.121740341186523, 23.542339324951172,      |\u001b[0m\n",
      "\u001b[1m\u001b[32m    |          |  20.701984405517578, 18.448076248168945,      |\u001b[0m\n",
      "\u001b[1m\u001b[32m    |          |  16.659536361694336, 15.240273475646973, ...] |\u001b[0m\n",
      "\u001b[1m\u001b[32m    +----------+-----------------------------------------------+\u001b[0m\n",
      "\u001b[1m\u001b[32m    +----+-------+--------------------+--------------------+\u001b[0m\n",
      "\u001b[1m\u001b[32m    |    | epoch |        loss        |         w          |\u001b[0m\n",
      "\u001b[1m\u001b[32m    +----+-------+--------------------+--------------------+\u001b[0m\n",
      "\u001b[1m\u001b[32m    | 0  |  0.0  | 27.121740341186523 | 0.5152631998062134 |\u001b[0m\n",
      "\u001b[1m\u001b[32m    | 1  |  1.0  | 23.542339324951172 | 1.3249003887176514 |\u001b[0m\n",
      "\u001b[1m\u001b[32m    | 2  |  2.0  | 20.701984405517578 | 0.6036710739135742 |\u001b[0m\n",
      "\u001b[1m\u001b[32m    | 3  |  3.0  | 18.448076248168945 |  1.24613356590271  |\u001b[0m\n",
      "\u001b[1m\u001b[32m    | 4  |  4.0  | 16.659536361694336 | 0.6738234162330627 |\u001b[0m\n",
      "\u001b[1m\u001b[32m    |   …|      …|                   …|                   …|\u001b[0m\n",
      "\u001b[1m\u001b[32m    | 95 | 95.0  | 9.783275604248047  | 0.9433185458183289 |\u001b[0m\n",
      "\u001b[1m\u001b[32m    | 96 | 96.0  | 9.783271789550781  | 0.9433043003082275 |\u001b[0m\n",
      "\u001b[1m\u001b[32m    | 97 | 97.0  | 9.783268928527832  | 0.9433160424232483 |\u001b[0m\n",
      "\u001b[1m\u001b[32m    | 98 | 98.0  | 9.783266067504883  | 0.9433045983314514 |\u001b[0m\n",
      "\u001b[1m\u001b[32m    | 99 | 99.0  | 9.783263206481934  | 0.9433138370513916 |\u001b[0m\n",
      "\u001b[1m\u001b[32m    +----+-------+--------------------+--------------------+\u001b[0m\n"
     ]
    },
    {
     "data": {
      "text/html": [
       "<div>\n",
       "<style scoped>\n",
       "    .dataframe tbody tr th:only-of-type {\n",
       "        vertical-align: middle;\n",
       "    }\n",
       "\n",
       "    .dataframe tbody tr th {\n",
       "        vertical-align: top;\n",
       "    }\n",
       "\n",
       "    .dataframe thead th {\n",
       "        text-align: right;\n",
       "    }\n",
       "</style>\n",
       "<table border=\"1\" class=\"dataframe\">\n",
       "  <thead>\n",
       "    <tr style=\"text-align: right;\">\n",
       "      <th></th>\n",
       "      <th>epoch</th>\n",
       "      <th>loss</th>\n",
       "      <th>w</th>\n",
       "      <th>b</th>\n",
       "    </tr>\n",
       "  </thead>\n",
       "  <tbody>\n",
       "    <tr>\n",
       "      <th>0</th>\n",
       "      <td>0</td>\n",
       "      <td>27.121740</td>\n",
       "      <td>0.515263</td>\n",
       "      <td>-0.441378</td>\n",
       "    </tr>\n",
       "    <tr>\n",
       "      <th>1</th>\n",
       "      <td>1</td>\n",
       "      <td>23.542339</td>\n",
       "      <td>1.324900</td>\n",
       "      <td>-0.444936</td>\n",
       "    </tr>\n",
       "    <tr>\n",
       "      <th>2</th>\n",
       "      <td>2</td>\n",
       "      <td>20.701984</td>\n",
       "      <td>0.603671</td>\n",
       "      <td>-0.444124</td>\n",
       "    </tr>\n",
       "    <tr>\n",
       "      <th>3</th>\n",
       "      <td>3</td>\n",
       "      <td>18.448076</td>\n",
       "      <td>1.246134</td>\n",
       "      <td>-0.447158</td>\n",
       "    </tr>\n",
       "    <tr>\n",
       "      <th>4</th>\n",
       "      <td>4</td>\n",
       "      <td>16.659536</td>\n",
       "      <td>0.673823</td>\n",
       "      <td>-0.446720</td>\n",
       "    </tr>\n",
       "    <tr>\n",
       "      <th>...</th>\n",
       "      <td>...</td>\n",
       "      <td>...</td>\n",
       "      <td>...</td>\n",
       "      <td>...</td>\n",
       "    </tr>\n",
       "    <tr>\n",
       "      <th>95</th>\n",
       "      <td>95</td>\n",
       "      <td>9.783276</td>\n",
       "      <td>0.943319</td>\n",
       "      <td>-0.496390</td>\n",
       "    </tr>\n",
       "    <tr>\n",
       "      <th>96</th>\n",
       "      <td>96</td>\n",
       "      <td>9.783272</td>\n",
       "      <td>0.943304</td>\n",
       "      <td>-0.496575</td>\n",
       "    </tr>\n",
       "    <tr>\n",
       "      <th>97</th>\n",
       "      <td>97</td>\n",
       "      <td>9.783269</td>\n",
       "      <td>0.943316</td>\n",
       "      <td>-0.496756</td>\n",
       "    </tr>\n",
       "    <tr>\n",
       "      <th>98</th>\n",
       "      <td>98</td>\n",
       "      <td>9.783266</td>\n",
       "      <td>0.943305</td>\n",
       "      <td>-0.496934</td>\n",
       "    </tr>\n",
       "    <tr>\n",
       "      <th>99</th>\n",
       "      <td>99</td>\n",
       "      <td>9.783263</td>\n",
       "      <td>0.943314</td>\n",
       "      <td>-0.497108</td>\n",
       "    </tr>\n",
       "  </tbody>\n",
       "</table>\n",
       "<p>100 rows × 4 columns</p>\n",
       "</div>"
      ],
      "text/plain": [
       "    epoch       loss         w         b\n",
       "0       0  27.121740  0.515263 -0.441378\n",
       "1       1  23.542339  1.324900 -0.444936\n",
       "2       2  20.701984  0.603671 -0.444124\n",
       "3       3  18.448076  1.246134 -0.447158\n",
       "4       4  16.659536  0.673823 -0.446720\n",
       "..    ...        ...       ...       ...\n",
       "95     95   9.783276  0.943319 -0.496390\n",
       "96     96   9.783272  0.943304 -0.496575\n",
       "97     97   9.783269  0.943316 -0.496756\n",
       "98     98   9.783266  0.943305 -0.496934\n",
       "99     99   9.783263  0.943314 -0.497108\n",
       "\n",
       "[100 rows x 4 columns]"
      ]
     },
     "execution_count": 26,
     "metadata": {},
     "output_type": "execute_result"
    }
   ],
   "source": [
    "epochs = 100\n",
    "losses = []\n",
    "\n",
    "dataframe = DataFrame_Generator(\"epoch\", \"loss\", \"w\", \"b\")\n",
    "\n",
    "for i in range(epochs):\n",
    "    y_pred = model.forward(X)\n",
    "    loss = criterion(y_pred, y)\n",
    "    losses.append(loss.item())\n",
    "    dataframe.updater(i, loss.item(),\n",
    "                      list(model.parameters())[0][0][0].item(),\n",
    "                      list(model.parameters())[1][0].item())\n",
    "    optimizer.zero_grad()\n",
    "    loss.backward()\n",
    "    optimizer.step()\n",
    "\n",
    "tabulation = Form_Generator()\n",
    "tabulation.heading_printer(\n",
    "    \"Specific configuration settings for the training process\")\n",
    "\n",
    "statements = \"\"\"\n",
    "epochs = 100\n",
    "losses = []\n",
    "\n",
    "for i in range(epochs):\n",
    "    y_pred = model.forward(X)\n",
    "    loss = criterion(y_pred, y)\n",
    "    losses.append(loss.item())\n",
    "    optimizer.zero_grad()\n",
    "    loss.backward()\n",
    "    optimizer.step()\n",
    "\"\"\"\n",
    "statements = [statements]\n",
    "tabulation.statement_generator(statements)\n",
    "\n",
    "variables = [\"X\"]\n",
    "values = [str(reprlib_rules.repr(losses))]\n",
    "tabulation.variable_generator(variables, values, expandtabs=1)\n",
    "\n",
    "df_table = dataframe.tabulation(tablefmt=\"pretty\")\n",
    "tabulation.dataframe_generator(df_table)\n",
    "\n",
    "df_table\n",
    "\n",
    "df = dataframe.converter()\n",
    "df"
   ]
  },
  {
   "cell_type": "code",
   "execution_count": 27,
   "id": "52b07905",
   "metadata": {
    "ExecuteTime": {
     "end_time": "2022-12-01T23:28:04.949297Z",
     "start_time": "2022-12-01T23:28:04.946727Z"
    }
   },
   "outputs": [
    {
     "data": {
      "text/plain": [
       "['', '----', '-------', '-------------------', '--------------------', '']"
      ]
     },
     "execution_count": 27,
     "metadata": {},
     "output_type": "execute_result"
    }
   ],
   "source": [
    "'+----+-------+-------------------+--------------------+'.strip(\"|\").split(\"+\")"
   ]
  },
  {
   "cell_type": "markdown",
   "id": "26e68470",
   "metadata": {
    "ExecuteTime": {
     "end_time": "2022-11-28T18:36:39.442402Z",
     "start_time": "2022-11-28T18:36:39.435935Z"
    }
   },
   "source": [
    "from tabulate import tabulate\n",
    "\n",
    "\n",
    "def dataframe_tabulation(df, tablefmt):\n",
    "    if tablefmt in [\"outline\", \"pretty\", \"psql\"]:\n",
    "        return tabulate(df, headers=\"keys\",tablefmt=tablefmt).split(\"\\n\")\n",
    "    exception = Exception(\"This table format is not supported.\")\n",
    "    raise exception\n",
    "\n",
    "\n",
    "def replacement(string):\n",
    "    return string.replace(string, \" \" * (len(string) - 1) + \"…\")\n",
    "\n",
    "\n",
    "def display_restrictions(df, tablefmt):\n",
    "    table_lists = dataframe_tabulation(df, tablefmt=tablefmt)\n",
    "    if len(table_lists) > 14:\n",
    "        table_lists = table_lists[:9] + table_lists[-6:]\n",
    "        replacement_target = table_lists[8].strip(\"|\").split(\"|\")\n",
    "        for i in range(len(replacement_target)):\n",
    "            replacement_target[i] = replacement(replacement_target[i])\n",
    "        table_lists[8] = \"|\" + \"|\".join(replacement_target) + \"|\"\n",
    "    return table_lists\n",
    "\n",
    "\n",
    "def list_splitter(table_lists, i):\n",
    "    global border_line, interval_line\n",
    "    if i in [0, len(table_lists) - 1]:\n",
    "        border_line = \"+\"\n",
    "        interval_line = \"+\"\n",
    "        return table_lists[i].strip(\"+\").split(\"+\")\n",
    "    elif i == 2:\n",
    "        if table_lists[i].strip(\"|\").split(\"+\") == \"\":\n",
    "            border_line = \"+\"\n",
    "            interval_line = \"+\"\n",
    "            return table_lists[i].strip(\"+\").split(\"+\")\n",
    "        else:\n",
    "            border_line = \"|\"\n",
    "            interval_line = \"+\"\n",
    "            return table_lists[i].strip(\"|\").split(\"+\")\n",
    "    else:\n",
    "        border_line = \"|\"\n",
    "        interval_line = \"|\"\n",
    "        return table_lists[i].strip(\"|\").split(\"|\")\n",
    "\n",
    "\n",
    "def list_splicer(table_lists, i):\n",
    "    split_list = list_splitter(table_lists, i)\n",
    "    new_string = border_line\n",
    "    cumulative_length = len(new_string)\n",
    "    reassembled_list = []\n",
    "    reassembling = 0\n",
    "    for i in range(len(split_list)):\n",
    "        cumulative_length += (len(split_list[i]) + 1)\n",
    "        if cumulative_length <= 63:\n",
    "            if i == len(split_list) - 1:\n",
    "                new_string += (split_list[i] + border_line)\n",
    "            else:\n",
    "                new_string += (split_list[i] + interval_line)\n",
    "        else:\n",
    "            reassembled_list.append(new_string)\n",
    "            new_string = f\"… {interval_line}\"\n",
    "            cumulative_length = len(new_string)\n",
    "            reassembling += 1\n",
    "    return reassembled_list\n",
    "\n",
    "\n",
    "def table_rebuilder(df, tablefmt):\n",
    "    global table_lists\n",
    "    table_lists = display_restrictions(df, tablefmt=tablefmt)\n",
    "    return [list_splicer(table_lists, i) for i in range(len(table_lists))]\n",
    "\n",
    "\n",
    "def table_converter(df, tablefmt=\"psql\"):\n",
    "    table = table_rebuilder(df, tablefmt=tablefmt)\n",
    "    return [table[j][i] for i, j in itertools.product(range(len(table[0])), range(len(table)))]"
   ]
  },
  {
   "cell_type": "code",
   "execution_count": 28,
   "id": "b5e61720",
   "metadata": {
    "ExecuteTime": {
     "end_time": "2022-12-01T23:28:05.036339Z",
     "start_time": "2022-12-01T23:28:04.954390Z"
    }
   },
   "outputs": [
    {
     "data": {
      "text/plain": [
       "Text(0.5, 0, 'Epoch')"
      ]
     },
     "execution_count": 28,
     "metadata": {},
     "output_type": "execute_result"
    },
    {
     "data": {
      "image/png": "[encoded data removed]",
      "text/plain": [
       "<Figure size 1600x450 with 1 Axes>"
      ]
     },
     "metadata": {},
     "output_type": "display_data"
    }
   ],
   "source": [
    "colors = calm_color_generator(1)\n",
    "plt.plot(range(epochs), losses, c=colors[0])\n",
    "plt.ylabel(\"Loss\")\n",
    "plt.xlabel(\"Epoch\")"
   ]
  },
  {
   "cell_type": "code",
   "execution_count": 29,
   "id": "9b55a6b1",
   "metadata": {
    "ExecuteTime": {
     "end_time": "2022-12-01T23:28:05.038974Z",
     "start_time": "2022-12-01T23:28:05.037363Z"
    }
   },
   "outputs": [],
   "source": [
    "import random\n",
    "\n",
    "from termcolor import colored"
   ]
  },
  {
   "cell_type": "code",
   "execution_count": 30,
   "id": "9567255f",
   "metadata": {
    "ExecuteTime": {
     "end_time": "2022-12-01T23:28:05.049196Z",
     "start_time": "2022-12-01T23:28:05.039695Z"
    }
   },
   "outputs": [
    {
     "name": "stdout",
     "output_type": "stream",
     "text": [
      "\u001b[1m\u001b[31mepoch:\u001b[0m 1 \u001b[35mloss:\u001b[0m 9.783260345458984\n",
      "\u001b[35mweight:\u001b[0m 0.9433046579360962 \u001b[35mbias:\u001b[0m -0.49727922677993774\n",
      "\u001b[1m\u001b[31mepoch:\u001b[0m 10 \u001b[35mloss:\u001b[0m 9.783238410949707\n",
      "\u001b[35mweight:\u001b[0m 0.9433062672615051 \u001b[35mbias:\u001b[0m -0.4986708462238312\n",
      "\u001b[1m\u001b[31mepoch:\u001b[0m 20 \u001b[35mloss:\u001b[0m 9.783222198486328\n",
      "\u001b[35mweight:\u001b[0m 0.9433016777038574 \u001b[35mbias:\u001b[0m -0.49994760751724243\n",
      "\u001b[1m\u001b[31mepoch:\u001b[0m 30 \u001b[35mloss:\u001b[0m 9.783211708068848\n",
      "\u001b[35mweight:\u001b[0m 0.9432983994483948 \u001b[35mbias:\u001b[0m -0.5009909868240356\n",
      "\u001b[1m\u001b[31mepoch:\u001b[0m 40 \u001b[35mloss:\u001b[0m 9.783205032348633\n",
      "\u001b[35mweight:\u001b[0m 0.9432958960533142 \u001b[35mbias:\u001b[0m -0.5018436908721924\n",
      "\u001b[1m\u001b[31mepoch:\u001b[0m 50 \u001b[35mloss:\u001b[0m 9.783199310302734\n",
      "\u001b[35mweight:\u001b[0m 0.9432938098907471 \u001b[35mbias:\u001b[0m -0.5025404095649719\n",
      "\u001b[1m\u001b[31mepoch:\u001b[0m 60 \u001b[35mloss:\u001b[0m 9.783196449279785\n",
      "\u001b[35mweight:\u001b[0m 0.9432922601699829 \u001b[35mbias:\u001b[0m -0.5031098127365112\n",
      "\u001b[1m\u001b[31mepoch:\u001b[0m 70 \u001b[35mloss:\u001b[0m 9.783194541931152\n",
      "\u001b[35mweight:\u001b[0m 0.9432908296585083 \u001b[35mbias:\u001b[0m -0.5035750865936279\n",
      "\u001b[1m\u001b[31mepoch:\u001b[0m 80 \u001b[35mloss:\u001b[0m 9.783193588256836\n",
      "\u001b[35mweight:\u001b[0m 0.9432898163795471 \u001b[35mbias:\u001b[0m -0.5039554834365845\n",
      "\u001b[1m\u001b[31mepoch:\u001b[0m 90 \u001b[35mloss:\u001b[0m 9.783191680908203\n",
      "\u001b[35mweight:\u001b[0m 0.9432889223098755 \u001b[35mbias:\u001b[0m -0.5042662024497986\n",
      "\u001b[1m\u001b[31mepoch:\u001b[0m 100 \u001b[35mloss:\u001b[0m 9.783191680908203\n",
      "\u001b[35mweight:\u001b[0m 0.9432882070541382 \u001b[35mbias:\u001b[0m -0.504520058631897\n"
     ]
    }
   ],
   "source": [
    "epochs = 100\n",
    "losses = []\n",
    "termcolors = [\n",
    "    \"grey\", \"red\", \"green\", \"yellow\", \"blue\", \"magenta\", \"cyan\", \"white\"\n",
    "]\n",
    "font_colors = random.choices(termcolors, k=2)\n",
    "for i in range(epochs):\n",
    "    i += 1\n",
    "    y_pred = model.forward(X)\n",
    "    loss = criterion(y_pred, y)\n",
    "    if i == 1 or i % 10 == 0:\n",
    "        print(colored(\"epoch:\", font_colors[0], attrs=[\"bold\"]), i,\n",
    "              colored(\"loss:\", font_colors[1]), loss.item())\n",
    "        print(colored(\"weight:\", font_colors[1]),\n",
    "              list(model.parameters())[0][0][0].item(),\n",
    "              colored(\"bias:\", font_colors[1]),\n",
    "              list(model.parameters())[1][0].item())\n",
    "    losses.append(loss.item())\n",
    "    optimizer.zero_grad()\n",
    "    loss.backward()\n",
    "    optimizer.step()"
   ]
  },
  {
   "cell_type": "code",
   "execution_count": 31,
   "id": "0870e46b",
   "metadata": {
    "ExecuteTime": {
     "end_time": "2022-12-01T23:28:05.122817Z",
     "start_time": "2022-12-01T23:28:05.050460Z"
    }
   },
   "outputs": [
    {
     "data": {
      "image/png": "[encoded data removed]",
      "text/plain": [
       "<Figure size 800x450 with 1 Axes>"
      ]
     },
     "metadata": {},
     "output_type": "display_data"
    }
   ],
   "source": [
    "colors = calm_color_generator(2)\n",
    "plt.rcParams[\"figure.figsize\"] = (figure_size[0] / 2, figure_size[1] / 2)\n",
    "\n",
    "plot_fit(\"Trained Model\")\n",
    "plt.title(plt.gca().get_title(), loc=\"center\", pad=15)\n",
    "\n",
    "plt.xlabel(\"X\")\n",
    "plt.ylabel(\"y\")\n",
    "\n",
    "plt.show()"
   ]
  },
  {
   "cell_type": "code",
   "execution_count": 32,
   "id": "72eb659a",
   "metadata": {
    "ExecuteTime": {
     "end_time": "2022-12-01T23:28:05.127024Z",
     "start_time": "2022-12-01T23:28:05.123946Z"
    }
   },
   "outputs": [
    {
     "data": {
      "text/plain": [
       "Parameter containing:\n",
       "tensor([-0.5045], requires_grad=True)"
      ]
     },
     "execution_count": 32,
     "metadata": {},
     "output_type": "execute_result"
    }
   ],
   "source": [
    "w, b = model.parameters()\n",
    "\n",
    "w\n",
    "b"
   ]
  },
  {
   "cell_type": "code",
   "execution_count": 33,
   "id": "2e2a1603",
   "metadata": {
    "ExecuteTime": {
     "end_time": "2022-12-01T23:28:05.130473Z",
     "start_time": "2022-12-01T23:28:05.127962Z"
    }
   },
   "outputs": [
    {
     "name": "stdout",
     "output_type": "stream",
     "text": [
      "tensor([[0.4387],\n",
      "        [1.3820]], grad_fn=⟨AddBackward0⟩)\n"
     ]
    }
   ],
   "source": [
    "print(str(forward(x)).replace(\"<\", \"⟨\").replace(\">\", \"⟩\"))"
   ]
  },
  {
   "cell_type": "code",
   "execution_count": 34,
   "id": "604619ab",
   "metadata": {
    "ExecuteTime": {
     "end_time": "2022-12-01T23:28:05.133134Z",
     "start_time": "2022-12-01T23:28:05.131461Z"
    }
   },
   "outputs": [
    {
     "name": "stdout",
     "output_type": "stream",
     "text": [
      "⟨class 'torch.Tensor'⟩\n"
     ]
    }
   ],
   "source": [
    "print(str(type(x)).replace(\"<\", \"⟨\").replace(\">\", \"⟩\"))"
   ]
  },
  {
   "cell_type": "code",
   "execution_count": 35,
   "id": "48b306d0",
   "metadata": {
    "ExecuteTime": {
     "end_time": "2022-12-01T23:28:05.135978Z",
     "start_time": "2022-12-01T23:28:05.134083Z"
    }
   },
   "outputs": [
    {
     "name": "stdout",
     "output_type": "stream",
     "text": [
      "⟨class 'torch.Tensor'⟩\n"
     ]
    }
   ],
   "source": [
    "print(str(type(x)).replace(\"<\", \"⟨\").replace(\">\", \"⟩\"))"
   ]
  },
  {
   "cell_type": "code",
   "execution_count": 36,
   "id": "f2edf1f1",
   "metadata": {
    "ExecuteTime": {
     "end_time": "2022-12-01T23:28:05.139495Z",
     "start_time": "2022-12-01T23:28:05.136988Z"
    }
   },
   "outputs": [
    {
     "data": {
      "text/plain": [
       "6"
      ]
     },
     "execution_count": 36,
     "metadata": {},
     "output_type": "execute_result"
    }
   ],
   "source": [
    "len(\"⟨a, b⟩\")"
   ]
  },
  {
   "cell_type": "code",
   "execution_count": 37,
   "id": "4c940e9c",
   "metadata": {
    "ExecuteTime": {
     "end_time": "2022-12-01T23:28:05.141854Z",
     "start_time": "2022-12-01T23:28:05.140324Z"
    }
   },
   "outputs": [
    {
     "name": "stdout",
     "output_type": "stream",
     "text": [
      "no\n"
     ]
    }
   ],
   "source": [
    "if \"<\" == \"⟨\":\n",
    "    print(\"yes\")\n",
    "else:\n",
    "    print(\"no\")"
   ]
  },
  {
   "cell_type": "code",
   "execution_count": 38,
   "id": "176a3ebd",
   "metadata": {
    "ExecuteTime": {
     "end_time": "2022-12-01T23:28:05.144800Z",
     "start_time": "2022-12-01T23:28:05.142514Z"
    }
   },
   "outputs": [
    {
     "name": "stdout",
     "output_type": "stream",
     "text": [
      "\u001b[4m\u001b[35m\u001b[0m\n",
      "\n",
      "\u001b[1m\u001b[35m    +------------------------------------------------+\u001b[0m\n",
      "\u001b[1m\u001b[35m    | Statement                                      |\u001b[0m\n",
      "\u001b[1m\u001b[35m    +------------------------------------------------+\u001b[0m\n",
      "\u001b[1m\u001b[35m    | --------------- ------------------------------ |\u001b[0m\n",
      "\u001b[1m\u001b[35m    |     hhhhhhhhhhhhhhhhhhhhhhhhhhhhhhhhhhhhhh     |\u001b[0m\n",
      "\u001b[1m\u001b[35m    +------------------------------------------------+\u001b[0m\n"
     ]
    }
   ],
   "source": [
    "tabulation = Form_Generator()\n",
    "tabulation.heading_printer(\"\")\n",
    "\n",
    "statement = \"-\"*15 + \" \" + \"-\"*30 + \" \" + \"h\" * 38\n",
    "tabulation.statement_generator([statement])\n",
    "\n"
   ]
  },
  {
   "cell_type": "code",
   "execution_count": 40,
   "id": "79365fb8",
   "metadata": {
    "ExecuteTime": {
     "end_time": "2022-12-01T23:28:13.704092Z",
     "start_time": "2022-12-01T23:28:13.696835Z"
    }
   },
   "outputs": [
    {
     "name": "stdout",
     "output_type": "stream",
     "text": [
      "\u001b[1m\u001b[35m    +-------------------------------------------------------------+\u001b[0m\n",
      "\u001b[1m\u001b[35m    | Statement                                                   |\u001b[0m\n",
      "\u001b[1m\u001b[35m    +-------------------------------------------------------------+\u001b[0m\n",
      "\u001b[1m\u001b[35m    | ------ ------                                               |\u001b[0m\n",
      "\u001b[1m\u001b[35m    |     hhhhhhhhhhhhhhhhhhhhhhhhhhhhhhhhhhhhhhhhhhhhhhhhhhhhhhh |\u001b[0m\n",
      "\u001b[1m\u001b[35m    +-------------------------------------------------------------+\u001b[0m\n"
     ]
    },
    {
     "data": {
      "text/plain": [
       "False"
      ]
     },
     "execution_count": 40,
     "metadata": {},
     "output_type": "execute_result"
    }
   ],
   "source": [
    "statement = \"-\"*6 + \" \" + \"-\"*6 + \" \" + \"h\" * 55\n",
    "tabulation.statement_generator([statement])"
   ]
  },
  {
   "cell_type": "code",
   "execution_count": null,
   "id": "c6a2ded2",
   "metadata": {
    "ExecuteTime": {
     "end_time": "2022-12-01T23:28:05.356771Z",
     "start_time": "2022-12-01T23:28:05.356764Z"
    }
   },
   "outputs": [],
   "source": [
    "\n",
    "\"-----------------------------------------------------------\".find(' ')"
   ]
  },
  {
   "cell_type": "code",
   "execution_count": null,
   "id": "d1c06f3d",
   "metadata": {
    "ExecuteTime": {
     "end_time": "2022-12-01T23:28:05.357419Z",
     "start_time": "2022-12-01T23:28:05.357413Z"
    }
   },
   "outputs": [],
   "source": [
    "len(\"-----------------------------------------------------------\"[: None])"
   ]
  },
  {
   "cell_type": "code",
   "execution_count": null,
   "id": "44265f1e",
   "metadata": {
    "ExecuteTime": {
     "end_time": "2022-12-01T23:28:05.357962Z",
     "start_time": "2022-12-01T23:28:05.357956Z"
    }
   },
   "outputs": [],
   "source": [
    "'------------------------------------------------------------ '.rfind(\" \")"
   ]
  },
  {
   "cell_type": "code",
   "execution_count": null,
   "id": "0e59ae48",
   "metadata": {
    "ExecuteTime": {
     "end_time": "2022-12-01T23:28:05.359048Z",
     "start_time": "2022-12-01T23:28:05.359042Z"
    }
   },
   "outputs": [],
   "source": [
    "'------------------------------------------------------------ '.find(' ')"
   ]
  },
  {
   "cell_type": "code",
   "execution_count": null,
   "id": "cea6aee6",
   "metadata": {
    "ExecuteTime": {
     "end_time": "2022-12-01T23:28:05.359801Z",
     "start_time": "2022-12-01T23:28:05.359795Z"
    }
   },
   "outputs": [],
   "source": [
    "len('------------------------------------------------------------ '[: ])"
   ]
  },
  {
   "cell_type": "code",
   "execution_count": null,
   "id": "a2a16322",
   "metadata": {},
   "outputs": [],
   "source": []
  }
 ],
 "metadata": {
  "hide_input": false,
  "kernelspec": {
   "display_name": "Python 3 (ipykernel)",
   "language": "python",
   "name": "python3"
  },
  "language_info": {
   "codemirror_mode": {
    "name": "ipython",
    "version": 3
   },
   "file_extension": ".py",
   "mimetype": "text/x-python",
   "name": "python",
   "nbconvert_exporter": "python",
   "pygments_lexer": "ipython3",
   "version": "3.9.13"
  },
  "latex_envs": {
   "LaTeX_envs_menu_present": true,
   "autoclose": false,
   "autocomplete": true,
   "bibliofile": "biblio.bib",
   "cite_by": "apalike",
   "current_citInitial": 1,
   "eqLabelWithNumbers": true,
   "eqNumInitial": 1,
   "hotkeys": {
    "equation": "Ctrl-E",
    "itemize": "Ctrl-I"
   },
   "labels_anchors": false,
   "latex_user_defs": false,
   "report_style_numbering": false,
   "user_envs_cfg": false
  },
  "nbTranslate": {
   "displayLangs": [
    "*"
   ],
   "hotkey": "alt-t",
   "langInMainMenu": true,
   "sourceLang": "en",
   "targetLang": "fr",
   "useGoogleTranslate": true
  },
  "toc": {
   "base_numbering": 1,
   "nav_menu": {},
   "number_sections": true,
   "sideBar": true,
   "skip_h1_title": false,
   "title_cell": "Table of Contents",
   "title_sidebar": "Contents",
   "toc_cell": false,
   "toc_position": {
    "height": "calc(100% - 180px)",
    "left": "10px",
    "top": "150px",
    "width": "345.594px"
   },
   "toc_section_display": true,
   "toc_window_display": true
  },
  "varInspector": {
   "cols": {
    "lenName": 16,
    "lenType": 16,
    "lenVar": 40
   },
   "kernels_config": {
    "python": {
     "delete_cmd_postfix": "",
     "delete_cmd_prefix": "del ",
     "library": "var_list.py",
     "varRefreshCmd": "print(var_dic_list())"
    },
    "r": {
     "delete_cmd_postfix": ") ",
     "delete_cmd_prefix": "rm(",
     "library": "var_list.r",
     "varRefreshCmd": "cat(var_dic_list()) "
    }
   },
   "types_to_exclude": [
    "module",
    "function",
    "builtin_function_or_method",
    "instance",
    "_Feature"
   ],
   "window_display": false
  },
  "vscode": {
   "interpreter": {
    "hash": "4df6db6ee61ecce594abe4a5126666f3650dd9429b0086e59af8e3f897fc7111"
   }
  }
 },
 "nbformat": 4,
 "nbformat_minor": 5
}

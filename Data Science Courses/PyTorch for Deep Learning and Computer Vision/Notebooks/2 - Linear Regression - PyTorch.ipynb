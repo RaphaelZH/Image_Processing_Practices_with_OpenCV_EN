{
 "cells": [
  {
   "cell_type": "markdown",
   "id": "5fdb7bb7",
   "metadata": {},
   "source": [
    "# Importing Libraries"
   ]
  },
  {
   "cell_type": "code",
   "execution_count": 1,
   "id": "07cd4ffb",
   "metadata": {
    "ExecuteTime": {
     "end_time": "2022-11-04T22:30:08.053045Z",
     "start_time": "2022-11-04T22:30:07.225961Z"
    }
   },
   "outputs": [],
   "source": [
    "import torch\n",
    "from torch import nn\n",
    "\n",
    "import numpy as np\n",
    "\n",
    "import matplotlib as mpl\n",
    "import matplotlib.pyplot as plt\n",
    "\n",
    "import sys"
   ]
  },
  {
   "cell_type": "markdown",
   "id": "5094fde5",
   "metadata": {},
   "source": [
    "# Configuring Visualization Parameters"
   ]
  },
  {
   "cell_type": "code",
   "execution_count": 2,
   "id": "d6dd7c45",
   "metadata": {
    "ExecuteTime": {
     "end_time": "2022-11-04T22:30:08.061615Z",
     "start_time": "2022-11-04T22:30:08.054313Z"
    }
   },
   "outputs": [],
   "source": [
    "%matplotlib inline"
   ]
  },
  {
   "cell_type": "code",
   "execution_count": 3,
   "id": "5d4894ab",
   "metadata": {
    "ExecuteTime": {
     "end_time": "2022-11-04T22:30:08.063928Z",
     "start_time": "2022-11-04T22:30:08.062364Z"
    }
   },
   "outputs": [],
   "source": [
    "XINHUI = '#7a7374'\n",
    "XUEBAI = '#fffef9'\n",
    "YINBAI = '#f1f0ed'\n",
    "YINHUI = '#918072'\n",
    "\n",
    "figure_size = (16, 9)"
   ]
  },
  {
   "cell_type": "code",
   "execution_count": 4,
   "id": "6f7198a8",
   "metadata": {
    "ExecuteTime": {
     "end_time": "2022-11-04T22:30:08.067569Z",
     "start_time": "2022-11-04T22:30:08.065397Z"
    }
   },
   "outputs": [],
   "source": [
    "custom_params = {\n",
    "    'axes.axisbelow': True,\n",
    "    'axes.edgecolor': YINBAI,\n",
    "    'axes.facecolor': XUEBAI,\n",
    "    'axes.grid': True,\n",
    "    'axes.labelcolor': XINHUI,\n",
    "    'axes.spines.right': False,\n",
    "    'axes.spines.top': False,\n",
    "    'axes.titlecolor': XINHUI,\n",
    "    'figure.edgecolor': YINBAI,\n",
    "    'figure.facecolor': XUEBAI,\n",
    "    'grid.alpha': .8,\n",
    "    'grid.color': YINBAI,\n",
    "    'grid.linestyle': '--',\n",
    "    'grid.linewidth': 1.2,\n",
    "    'legend.edgecolor': YINHUI,\n",
    "    'patch.edgecolor': XUEBAI,\n",
    "    'patch.force_edgecolor': True,\n",
    "    'text.color': XINHUI,\n",
    "    'xtick.color': YINHUI,\n",
    "    'ytick.color': YINHUI,\n",
    "}\n",
    "\n",
    "mpl.rcParams.update(custom_params)"
   ]
  },
  {
   "cell_type": "markdown",
   "id": "77cdea15",
   "metadata": {},
   "source": [
    "# Pre-installing Custom Functions"
   ]
  },
  {
   "cell_type": "code",
   "execution_count": 5,
   "id": "1f6ac6d5",
   "metadata": {
    "ExecuteTime": {
     "end_time": "2022-11-04T22:30:08.069789Z",
     "start_time": "2022-11-04T22:30:08.068297Z"
    }
   },
   "outputs": [],
   "source": [
    "sys.path.append('../')"
   ]
  },
  {
   "cell_type": "code",
   "execution_count": 6,
   "id": "ab3f4e6c",
   "metadata": {
    "ExecuteTime": {
     "end_time": "2022-11-04T22:30:08.076495Z",
     "start_time": "2022-11-04T22:30:08.070615Z"
    }
   },
   "outputs": [],
   "source": [
    "from Modules import *"
   ]
  },
  {
   "cell_type": "markdown",
   "id": "00dd6868",
   "metadata": {},
   "source": [
    "# Practicing in Stages\n",
    "\n",
    "## Making Predictions"
   ]
  },
  {
   "cell_type": "code",
   "execution_count": 7,
   "id": "002025a7",
   "metadata": {
    "ExecuteTime": {
     "end_time": "2022-11-04T22:30:08.079772Z",
     "start_time": "2022-11-04T22:30:08.077401Z"
    },
    "code_folding": [],
    "hide_input": false,
    "scrolled": false
   },
   "outputs": [
    {
     "name": "stdout",
     "output_type": "stream",
     "text": [
      "\u001b[4m\u001b[33mDefinition of the function of prediction\u001b[0m\n",
      "\n",
      "\u001b[1m\u001b[33m    +----------------------------------------------+\u001b[0m\n",
      "\u001b[1m\u001b[33m    | Definition                                   |\u001b[0m\n",
      "\u001b[1m\u001b[33m    +==============================================+\u001b[0m\n",
      "\u001b[1m\u001b[33m    | def forward(x):    y = w * x + b    return y |\u001b[0m\n",
      "\u001b[1m\u001b[33m    +----------------------------------------------+\u001b[0m\n"
     ]
    }
   ],
   "source": [
    "def forward(x):\n",
    "    y = w * x + b\n",
    "    return y\n",
    "\n",
    "\n",
    "tabulation = Form_Generator()\n",
    "tabulation.heading_printer(\"Definition of the function of prediction\")\n",
    "\n",
    "definition_1 = \"\"\"\n",
    "def forward(x):\n",
    "    y = w * x + b\n",
    "    return y\n",
    "\"\"\"\n",
    "definitions = [definition_1]\n",
    "tabulation.definition_generator(definitions)"
   ]
  },
  {
   "cell_type": "code",
   "execution_count": 8,
   "id": "6b34b014",
   "metadata": {
    "ExecuteTime": {
     "end_time": "2022-11-04T22:30:08.084155Z",
     "start_time": "2022-11-04T22:30:08.080445Z"
    },
    "hide_input": false
   },
   "outputs": [
    {
     "name": "stdout",
     "output_type": "stream",
     "text": [
      "\u001b[4m\u001b[36mInitial assignment of parameters\u001b[0m\n",
      "\n",
      "\u001b[1m\u001b[36m    +-------------------------------------------+\u001b[0m\n",
      "\u001b[1m\u001b[36m    | Statement                                 |\u001b[0m\n",
      "\u001b[1m\u001b[36m    +===========================================+\u001b[0m\n",
      "\u001b[1m\u001b[36m    | w = torch.tensor(3.0, requires_grad=True) |\u001b[0m\n",
      "\u001b[1m\u001b[36m    +-------------------------------------------+\u001b[0m\n",
      "\u001b[1m\u001b[36m    | b = torch.tensor(1.0, requires_grad=True) |\u001b[0m\n",
      "\u001b[1m\u001b[36m    +-------------------------------------------+\u001b[0m\n",
      "\u001b[1m\u001b[36m    +----------+--------------------------------+\u001b[0m\n",
      "\u001b[1m\u001b[36m    | Variable | Value                          |\u001b[0m\n",
      "\u001b[1m\u001b[36m    +----------+--------------------------------+\u001b[0m\n",
      "\u001b[1m\u001b[36m    | w        | tensor(3., requires_grad=True) |\u001b[0m\n",
      "\u001b[1m\u001b[36m    | b        | tensor(1., requires_grad=True) |\u001b[0m\n",
      "\u001b[1m\u001b[36m    +----------+--------------------------------+\u001b[0m\n"
     ]
    }
   ],
   "source": [
    "w = torch.tensor(3.0, requires_grad=True)\n",
    "b = torch.tensor(1.0, requires_grad=True)\n",
    "\n",
    "tabulation = Form_Generator()\n",
    "tabulation.heading_printer(\"Initial assignment of parameters\")\n",
    "\n",
    "statement_1 = \"w = torch.tensor(3.0, requires_grad=True)\"\n",
    "statement_2 = \"b = torch.tensor(1.0, requires_grad=True)\"\n",
    "statements = [statement_1] + [statement_2]\n",
    "tabulation.statement_generator(statements)\n",
    "\n",
    "variables = [\"w\", \"b\"]\n",
    "values = [str(w), str(b)]\n",
    "tabulation.variable_generator(variables, values)"
   ]
  },
  {
   "cell_type": "code",
   "execution_count": 9,
   "id": "a3e6732f",
   "metadata": {
    "ExecuteTime": {
     "end_time": "2022-11-04T22:30:08.087924Z",
     "start_time": "2022-11-04T22:30:08.084948Z"
    },
    "hide_input": false
   },
   "outputs": [
    {
     "name": "stdout",
     "output_type": "stream",
     "text": [
      "\u001b[4m\u001b[35mFunction implementation with 0D tensor\u001b[0m\n",
      "\n",
      "\u001b[1m\u001b[35m    +---------------------+\u001b[0m\n",
      "\u001b[1m\u001b[35m    | Statement           |\u001b[0m\n",
      "\u001b[1m\u001b[35m    +=====================+\u001b[0m\n",
      "\u001b[1m\u001b[35m    | x = torch.tensor(2) |\u001b[0m\n",
      "\u001b[1m\u001b[35m    +---------------------+\u001b[0m\n",
      "\u001b[1m\u001b[35m    +----------+-----------+\u001b[0m\n",
      "\u001b[1m\u001b[35m    | Variable | Value     |\u001b[0m\n",
      "\u001b[1m\u001b[35m    +----------+-----------+\u001b[0m\n",
      "\u001b[1m\u001b[35m    | x        | tensor(2) |\u001b[0m\n",
      "\u001b[1m\u001b[35m    +----------+-----------+\u001b[0m\n",
      "\u001b[1m\u001b[35m    +------------+------------------------------------+\u001b[0m\n",
      "\u001b[1m\u001b[35m    | Expression | Result                             |\u001b[0m\n",
      "\u001b[1m\u001b[35m    +------------+------------------------------------+\u001b[0m\n",
      "\u001b[1m\u001b[35m    | forward(x) | tensor(7., grad_fn=<AddBackward0>) |\u001b[0m\n",
      "\u001b[1m\u001b[35m    +------------+------------------------------------+\u001b[0m\n"
     ]
    }
   ],
   "source": [
    "x = torch.tensor(2)\n",
    "\n",
    "tabulation = Form_Generator()\n",
    "tabulation.heading_printer(\"Function implementation with 0D tensor\")\n",
    "\n",
    "statement_1 = \"x = torch.tensor(2)\"\n",
    "statements = [statement_1]\n",
    "tabulation.statement_generator(statements)\n",
    "\n",
    "variables = [\"x\"]\n",
    "values = [str(x)]\n",
    "tabulation.variable_generator(variables, values)\n",
    "\n",
    "expressions = [\"forward(x)\"]\n",
    "results = [str(forward(x))]\n",
    "tabulation.expression_generator(expressions, results)"
   ]
  },
  {
   "cell_type": "code",
   "execution_count": 10,
   "id": "5e292920",
   "metadata": {
    "ExecuteTime": {
     "end_time": "2022-11-04T22:30:08.094294Z",
     "start_time": "2022-11-04T22:30:08.090479Z"
    },
    "hide_input": false
   },
   "outputs": [
    {
     "name": "stdout",
     "output_type": "stream",
     "text": [
      "\u001b[4m\u001b[30mFunction implementation with multi-D tensor\u001b[0m\n",
      "\n",
      "\u001b[1m\u001b[30m    +------------------------------+\u001b[0m\n",
      "\u001b[1m\u001b[30m    | Statement                    |\u001b[0m\n",
      "\u001b[1m\u001b[30m    +==============================+\u001b[0m\n",
      "\u001b[1m\u001b[30m    | x = torch.tensor([[4], [7]]) |\u001b[0m\n",
      "\u001b[1m\u001b[30m    +------------------------------+\u001b[0m\n",
      "\u001b[1m\u001b[30m    +----------+---------------+\u001b[0m\n",
      "\u001b[1m\u001b[30m    | Variable | Value         |\u001b[0m\n",
      "\u001b[1m\u001b[30m    +----------+---------------+\u001b[0m\n",
      "\u001b[1m\u001b[30m    | x        | tensor([[4],  |\u001b[0m\n",
      "\u001b[1m\u001b[30m    |          |         [7]]) |\u001b[0m\n",
      "\u001b[1m\u001b[30m    +----------+---------------+\u001b[0m\n",
      "\u001b[1m\u001b[30m    +------------+-----------------------------------------+\u001b[0m\n",
      "\u001b[1m\u001b[30m    | Expression | Result                                  |\u001b[0m\n",
      "\u001b[1m\u001b[30m    +------------+-----------------------------------------+\u001b[0m\n",
      "\u001b[1m\u001b[30m    | forward(x) | tensor([[13.],                          |\u001b[0m\n",
      "\u001b[1m\u001b[30m    |            |         [22.]], grad_fn=<AddBackward0>) |\u001b[0m\n",
      "\u001b[1m\u001b[30m    +------------+-----------------------------------------+\u001b[0m\n"
     ]
    }
   ],
   "source": [
    "x = torch.tensor([[4], [7]])\n",
    "\n",
    "tabulation = Form_Generator()\n",
    "tabulation.heading_printer(\"Function implementation with multi-D tensor\")\n",
    "\n",
    "statement_1 = \"x = torch.tensor([[4], [7]])\"\n",
    "statements = [statement_1]\n",
    "tabulation.statement_generator(statements)\n",
    "\n",
    "variables = [\"x\"]\n",
    "values = [str(x)]\n",
    "tabulation.variable_generator(variables, values)\n",
    "\n",
    "expressions = [\"forward(x)\"]\n",
    "results = [str(forward(x))]\n",
    "tabulation.expression_generator(expressions, results)"
   ]
  },
  {
   "cell_type": "markdown",
   "id": "010e1216",
   "metadata": {},
   "source": [
    "## Linear Class"
   ]
  },
  {
   "cell_type": "code",
   "execution_count": 11,
   "id": "06a3a62c",
   "metadata": {
    "ExecuteTime": {
     "end_time": "2022-11-04T22:30:08.098932Z",
     "start_time": "2022-11-04T22:30:08.095100Z"
    }
   },
   "outputs": [
    {
     "name": "stdout",
     "output_type": "stream",
     "text": [
      "\u001b[4m\u001b[32mInitialization of standard linear model\u001b[0m\n",
      "\n",
      "\u001b[1m\u001b[32m    +--------------------------------------------------+\u001b[0m\n",
      "\u001b[1m\u001b[32m    | Statement                                        |\u001b[0m\n",
      "\u001b[1m\u001b[32m    +==================================================+\u001b[0m\n",
      "\u001b[1m\u001b[32m    | torch.manual_seed(1)                             |\u001b[0m\n",
      "\u001b[1m\u001b[32m    +--------------------------------------------------+\u001b[0m\n",
      "\u001b[1m\u001b[32m    | model = nn.Linear(in_features=1, out_features=1) |\u001b[0m\n",
      "\u001b[1m\u001b[32m    +--------------------------------------------------+\u001b[0m\n",
      "\u001b[1m\u001b[32m    +----------+--------------------------------------------------+\u001b[0m\n",
      "\u001b[1m\u001b[32m    | Variable | Value                                            |\u001b[0m\n",
      "\u001b[1m\u001b[32m    +----------+--------------------------------------------------+\u001b[0m\n",
      "\u001b[1m\u001b[32m    | model    | Linear(in_features=1, out_features=1, bias=True) |\u001b[0m\n",
      "\u001b[1m\u001b[32m    +----------+--------------------------------------------------+\u001b[0m\n",
      "\u001b[1m\u001b[32m    +--------------+----------------------------------------+\u001b[0m\n",
      "\u001b[1m\u001b[32m    | Expression   | Result                                 |\u001b[0m\n",
      "\u001b[1m\u001b[32m    +--------------+----------------------------------------+\u001b[0m\n",
      "\u001b[1m\u001b[32m    | model.weight | Parameter containing:                  |\u001b[0m\n",
      "\u001b[1m\u001b[32m    |              | tensor([[0.5153]], requires_grad=True) |\u001b[0m\n",
      "\u001b[1m\u001b[32m    | model.bias   | Parameter containing:                  |\u001b[0m\n",
      "\u001b[1m\u001b[32m    |              | tensor([-0.4414], requires_grad=True)  |\u001b[0m\n",
      "\u001b[1m\u001b[32m    +--------------+----------------------------------------+\u001b[0m\n"
     ]
    }
   ],
   "source": [
    "torch.manual_seed(1)\n",
    "model = nn.Linear(in_features=1, out_features=1)\n",
    "\n",
    "tabulation = Form_Generator()\n",
    "tabulation.heading_printer(\"Initialization of standard linear model\")\n",
    "\n",
    "statement_1 = \"torch.manual_seed(1)\"\n",
    "statement_2 = \"model = nn.Linear(in_features=1, out_features=1)\"\n",
    "statements = [statement_1] + [statement_2]\n",
    "tabulation.statement_generator(statements)\n",
    "\n",
    "variables = [\"model\"]\n",
    "values = [str(model)]\n",
    "tabulation.variable_generator(variables, values)\n",
    "\n",
    "expressions = [\"model.weight\", \"model.bias\"]\n",
    "results = [str(model.weight), str(model.bias)]\n",
    "tabulation.expression_generator(expressions, results)"
   ]
  },
  {
   "cell_type": "code",
   "execution_count": 12,
   "id": "664fbcd2",
   "metadata": {
    "ExecuteTime": {
     "end_time": "2022-11-04T22:30:08.102757Z",
     "start_time": "2022-11-04T22:30:08.099917Z"
    }
   },
   "outputs": [
    {
     "name": "stdout",
     "output_type": "stream",
     "text": [
      "\u001b[4m\u001b[31mModel implementation with 1D tensor\u001b[0m\n",
      "\n",
      "\u001b[1m\u001b[31m    +-------------------------+\u001b[0m\n",
      "\u001b[1m\u001b[31m    | Statement               |\u001b[0m\n",
      "\u001b[1m\u001b[31m    +=========================+\u001b[0m\n",
      "\u001b[1m\u001b[31m    | x = torch.tensor([2.0]) |\u001b[0m\n",
      "\u001b[1m\u001b[31m    +-------------------------+\u001b[0m\n",
      "\u001b[1m\u001b[31m    +----------+--------------+\u001b[0m\n",
      "\u001b[1m\u001b[31m    | Variable | Value        |\u001b[0m\n",
      "\u001b[1m\u001b[31m    +----------+--------------+\u001b[0m\n",
      "\u001b[1m\u001b[31m    | x        | tensor([2.]) |\u001b[0m\n",
      "\u001b[1m\u001b[31m    +----------+--------------+\u001b[0m\n",
      "\u001b[1m\u001b[31m    +------------+------------------------------------------+\u001b[0m\n",
      "\u001b[1m\u001b[31m    | Expression | Result                                   |\u001b[0m\n",
      "\u001b[1m\u001b[31m    +------------+------------------------------------------+\u001b[0m\n",
      "\u001b[1m\u001b[31m    | model(x)   | tensor([0.5891], grad_fn=<AddBackward0>) |\u001b[0m\n",
      "\u001b[1m\u001b[31m    +------------+------------------------------------------+\u001b[0m\n"
     ]
    }
   ],
   "source": [
    "x = torch.tensor([2.0])\n",
    "\n",
    "tabulation = Form_Generator()\n",
    "tabulation.heading_printer(\"Model implementation with 1D tensor\")\n",
    "\n",
    "statement_1 = \"x = torch.tensor([2.0])\"\n",
    "statements = [statement_1]\n",
    "tabulation.statement_generator(statements)\n",
    "\n",
    "variables = [\"x\"]\n",
    "values = [str(x)]\n",
    "tabulation.variable_generator(variables, values)\n",
    "\n",
    "expressions = [\"model(x)\"]\n",
    "results = [str(model(x))]\n",
    "tabulation.expression_generator(expressions, results)"
   ]
  },
  {
   "cell_type": "code",
   "execution_count": 13,
   "id": "ab5dcc5b",
   "metadata": {
    "ExecuteTime": {
     "end_time": "2022-11-04T22:30:08.106894Z",
     "start_time": "2022-11-04T22:30:08.103452Z"
    }
   },
   "outputs": [
    {
     "name": "stdout",
     "output_type": "stream",
     "text": [
      "\u001b[4m\u001b[37mFunction implementation with multi-D tensor\u001b[0m\n",
      "\n",
      "\u001b[1m\u001b[37m    +----------------------------------+\u001b[0m\n",
      "\u001b[1m\u001b[37m    | Statement                        |\u001b[0m\n",
      "\u001b[1m\u001b[37m    +==================================+\u001b[0m\n",
      "\u001b[1m\u001b[37m    | x = torch.tensor([[2.0], [3.3]]) |\u001b[0m\n",
      "\u001b[1m\u001b[37m    +----------------------------------+\u001b[0m\n",
      "\u001b[1m\u001b[37m    +----------+--------------------+\u001b[0m\n",
      "\u001b[1m\u001b[37m    | Variable | Value              |\u001b[0m\n",
      "\u001b[1m\u001b[37m    +----------+--------------------+\u001b[0m\n",
      "\u001b[1m\u001b[37m    | x        | tensor([[2.0000],  |\u001b[0m\n",
      "\u001b[1m\u001b[37m    |          |         [3.3000]]) |\u001b[0m\n",
      "\u001b[1m\u001b[37m    +----------+--------------------+\u001b[0m\n",
      "\u001b[1m\u001b[37m    +------------+----------------------------------------------+\u001b[0m\n",
      "\u001b[1m\u001b[37m    | Expression | Result                                       |\u001b[0m\n",
      "\u001b[1m\u001b[37m    +------------+----------------------------------------------+\u001b[0m\n",
      "\u001b[1m\u001b[37m    | model(x)   | tensor([[0.5891],                            |\u001b[0m\n",
      "\u001b[1m\u001b[37m    |            |         [1.2590]], grad_fn=<AddmmBackward0>) |\u001b[0m\n",
      "\u001b[1m\u001b[37m    +------------+----------------------------------------------+\u001b[0m\n"
     ]
    }
   ],
   "source": [
    "x = torch.tensor([[2.0], [3.3]])\n",
    "\n",
    "tabulation = Form_Generator()\n",
    "tabulation.heading_printer(\"Function implementation with multi-D tensor\")\n",
    "\n",
    "statement_1 = \"x = torch.tensor([[2.0], [3.3]])\"\n",
    "statements = [statement_1]\n",
    "tabulation.statement_generator(statements)\n",
    "\n",
    "variables = [\"x\"]\n",
    "values = [str(x)]\n",
    "tabulation.variable_generator(variables, values)\n",
    "\n",
    "expressions = [\"model(x)\"]\n",
    "results = [str(model(x))]\n",
    "tabulation.expression_generator(expressions, results)"
   ]
  },
  {
   "cell_type": "markdown",
   "id": "985eeeb1",
   "metadata": {},
   "source": [
    "## Custom Modules"
   ]
  },
  {
   "cell_type": "code",
   "execution_count": 14,
   "id": "b4957565",
   "metadata": {
    "ExecuteTime": {
     "end_time": "2022-11-04T22:30:08.109871Z",
     "start_time": "2022-11-04T22:30:08.108039Z"
    }
   },
   "outputs": [],
   "source": [
    "class LR(nn.Module):\n",
    "\n",
    "    def __init__(self, input_size, output_size):\n",
    "        super().__init__()\n",
    "        self.linear = nn.Linear(input_size, output_size)\n",
    "\n",
    "    def forward(self, x):\n",
    "        pred = self.linear(x)\n",
    "        return pred"
   ]
  },
  {
   "cell_type": "code",
   "execution_count": null,
   "id": "dc932daa",
   "metadata": {},
   "outputs": [],
   "source": []
  },
  {
   "cell_type": "code",
   "execution_count": null,
   "id": "d22fc334",
   "metadata": {},
   "outputs": [],
   "source": []
  },
  {
   "cell_type": "code",
   "execution_count": null,
   "id": "65276a10",
   "metadata": {},
   "outputs": [],
   "source": []
  },
  {
   "cell_type": "code",
   "execution_count": null,
   "id": "263e7273",
   "metadata": {},
   "outputs": [],
   "source": []
  },
  {
   "cell_type": "code",
   "execution_count": 15,
   "id": "2faf07a5",
   "metadata": {
    "ExecuteTime": {
     "end_time": "2022-11-04T22:30:08.112731Z",
     "start_time": "2022-11-04T22:30:08.110676Z"
    }
   },
   "outputs": [
    {
     "name": "stdout",
     "output_type": "stream",
     "text": [
      "\u001b[1m\u001b[37m    +-------------------------------------------------------------+\u001b[0m\n",
      "\u001b[1m\u001b[37m    | Statement                                                   |\u001b[0m\n",
      "\u001b[1m\u001b[37m    +=============================================================+\u001b[0m\n",
      "\u001b[1m\u001b[37m    | 123456789900123456789012345                                 |\u001b[0m\n",
      "\u001b[1m\u001b[37m    |     67891              2345678901234jjjjjjjjj 5678903456789 |\u001b[0m\n",
      "\u001b[1m\u001b[37m    |         4567894567895 678945678945678345678                 |\u001b[0m\n",
      "\u001b[1m\u001b[37m    +-------------------------------------------------------------+\u001b[0m\n"
     ]
    }
   ],
   "source": [
    "results = [\n",
    "    \"123456789900123456789012345\\n\\t67891              2345678901234jjjjjjjjj 5678903456789\\n\\t\\t4567894567895 678945678945678345678\"\n",
    "]\n",
    "\n",
    "\n",
    "tabulation.statement_generator(results)"
   ]
  },
  {
   "cell_type": "code",
   "execution_count": 16,
   "id": "16e8726a",
   "metadata": {
    "ExecuteTime": {
     "end_time": "2022-11-04T22:30:08.115574Z",
     "start_time": "2022-11-04T22:30:08.113467Z"
    }
   },
   "outputs": [
    {
     "name": "stdout",
     "output_type": "stream",
     "text": [
      "\u001b[1m\u001b[37m    +-------------+\u001b[0m\n",
      "\u001b[1m\u001b[37m    | Statement   |\u001b[0m\n",
      "\u001b[1m\u001b[37m    +=============+\u001b[0m\n",
      "\u001b[1m\u001b[37m    | def ddd():  |\u001b[0m\n",
      "\u001b[1m\u001b[37m    |     ddddf   |\u001b[0m\n",
      "\u001b[1m\u001b[37m    |     dddff   |\u001b[0m\n",
      "\u001b[1m\u001b[37m    |     dsffqf  |\u001b[0m\n",
      "\u001b[1m\u001b[37m    +-------------+\u001b[0m\n"
     ]
    }
   ],
   "source": [
    "results = [\n",
    "\"\"\"\n",
    "def ddd():\\n\\tddddf\\n\\tdddff\\n\\tdsffqf\n",
    "\"\"\"\n",
    "]\n",
    "tabulation.statement_generator(results)"
   ]
  },
  {
   "cell_type": "code",
   "execution_count": 17,
   "id": "8d66a781",
   "metadata": {
    "ExecuteTime": {
     "end_time": "2022-11-04T22:30:08.121777Z",
     "start_time": "2022-11-04T22:30:08.116717Z"
    }
   },
   "outputs": [
    {
     "name": "stdout",
     "output_type": "stream",
     "text": [
      "\u001b[1m\u001b[31m    +------------+\u001b[0m\n",
      "\u001b[1m\u001b[31m    | Statement  |\u001b[0m\n",
      "\u001b[1m\u001b[31m    +------------+\u001b[0m\n",
      "\u001b[1m\u001b[31m    | def ddd(): |\u001b[0m\n",
      "\u001b[1m\u001b[31m    |     ddddf  |\u001b[0m\n",
      "\u001b[1m\u001b[31m    |     dddff  |\u001b[0m\n",
      "\u001b[1m\u001b[31m    |     dsffqf |\u001b[0m\n",
      "\u001b[1m\u001b[31m    +------------+\u001b[0m\n",
      "\n",
      "def ddd():\n",
      "    ddddf\n",
      "    dddff\n",
      "    dsffqf\n",
      "\n"
     ]
    }
   ],
   "source": [
    "import re\n",
    "from tabulate import tabulate\n",
    "from termcolor import cprint\n",
    "\n",
    "def tabulator_replacement(string, expandtabs):\n",
    "    if len(re.findall(r'\\t', string)) > 0:\n",
    "        string = re.sub(r'\\t', ' ' * expandtabs, string)\n",
    "    return string\n",
    "\n",
    "def string_trimmer(string, expandtabs):\n",
    "    printable_lines = []\n",
    "    string = tabulator_replacement(string, expandtabs)\n",
    "    printable_line = string\n",
    "    if len(string) > 59:\n",
    "        printable_line = string\n",
    "        while len(printable_line) > 59:\n",
    "            while printable_line.rfind(\" \") > 59:\n",
    "                printable_line = printable_line[: printable_line.rfind(\" \")]\n",
    "            printable_line = printable_line[: printable_line.rfind(\" \")]\n",
    "            printable_lines.append(printable_line)\n",
    "            string = string[len(printable_line) + 1 :]\n",
    "            printable_line = string\n",
    "    printable_lines.append(printable_line)\n",
    "    return printable_lines\n",
    "\n",
    "\n",
    "def statement_generator(statements):\n",
    "    table = [[\"Statement\"]]\n",
    "    for statement in statements:\n",
    "        printable_statement = string_trimmer(statement, 4)\n",
    "        table.append([\"\\n\\t\".expandtabs(8).join(printable_statement)])\n",
    "        \n",
    "    '''\n",
    "    for statement in statements:\n",
    "        if len(statement) > self.adjusted_width:\n",
    "            printable_statement = \"\"\n",
    "            printable_line = statement\n",
    "            while len(statement) > self.adjusted_width:\n",
    "                while printable_line.rfind(\" \") > self.adjusted_width:\n",
    "                    printable_line = printable_line[: printable_line.rfind(\" \")]\n",
    "                printable_line = printable_line[: printable_line.rfind(\" \")]\n",
    "                printable_statement += printable_line + \"\\n\\t\".expandtabs(8)\n",
    "                statement = statement[len(printable_line) + 1 :]\n",
    "                printable_line = statement\n",
    "            printable_statement += printable_line\n",
    "            table.append([printable_statement])\n",
    "        else:\n",
    "            table.append([statement])\n",
    "    '''\n",
    "    table_list = tabulate(\n",
    "        table, headers=\"firstrow\", tablefmt=\"pretty\", colalign=(\"left\",)\n",
    "    ).split(\"\\n\")\n",
    "    for line in table_list:\n",
    "        cprint(\"\\t\".expandtabs(4) + line, 'red', attrs=[\"bold\"])\n",
    "        \n",
    "statement_generator(results)\n",
    "\n",
    "\n",
    "def tabulator_replacement(string, expandtabs):\n",
    "    if len(re.findall(r'\\t', string)) > 0:\n",
    "        string = re.sub(r'\\t', ' ' * expandtabs, string)\n",
    "    return string\n",
    "\n",
    "for i in results:\n",
    "    print(tabulator_replacement(i, 4))"
   ]
  },
  {
   "cell_type": "code",
   "execution_count": null,
   "id": "a7551e0d",
   "metadata": {
    "ExecuteTime": {
     "end_time": "2022-11-04T14:35:05.700286Z",
     "start_time": "2022-11-04T14:35:05.690093Z"
    }
   },
   "outputs": [],
   "source": []
  },
  {
   "cell_type": "code",
   "execution_count": null,
   "id": "dadb67ac",
   "metadata": {},
   "outputs": [],
   "source": []
  },
  {
   "cell_type": "code",
   "execution_count": 18,
   "id": "a0ac0921",
   "metadata": {
    "ExecuteTime": {
     "end_time": "2022-11-04T22:30:08.125542Z",
     "start_time": "2022-11-04T22:30:08.122653Z"
    }
   },
   "outputs": [
    {
     "name": "stdout",
     "output_type": "stream",
     "text": [
      "[Parameter containing:\n",
      "tensor([[0.5153]], requires_grad=True), Parameter containing:\n",
      "tensor([-0.4414], requires_grad=True)]\n"
     ]
    }
   ],
   "source": [
    "torch.manual_seed(1)\n",
    "model = LR(1, 1)\n",
    "print(list(model.parameters()))"
   ]
  },
  {
   "cell_type": "code",
   "execution_count": 19,
   "id": "7a70c45f",
   "metadata": {
    "ExecuteTime": {
     "end_time": "2022-11-04T22:30:08.128390Z",
     "start_time": "2022-11-04T22:30:08.126684Z"
    }
   },
   "outputs": [
    {
     "name": "stdout",
     "output_type": "stream",
     "text": [
      "<generator object Module.parameters at 0x12b4a8d60>\n"
     ]
    }
   ],
   "source": [
    "print(model.parameters())"
   ]
  },
  {
   "cell_type": "code",
   "execution_count": 20,
   "id": "e6d2df4e",
   "metadata": {
    "ExecuteTime": {
     "end_time": "2022-11-04T22:30:08.131650Z",
     "start_time": "2022-11-04T22:30:08.129315Z"
    }
   },
   "outputs": [
    {
     "name": "stdout",
     "output_type": "stream",
     "text": [
      "tensor([0.0739], grad_fn=<AddBackward0>)\n"
     ]
    }
   ],
   "source": [
    "x = torch.tensor([1.0])\n",
    "print(model.forward(x))"
   ]
  },
  {
   "cell_type": "code",
   "execution_count": 21,
   "id": "f822cfc3",
   "metadata": {
    "ExecuteTime": {
     "end_time": "2022-11-04T22:30:08.134877Z",
     "start_time": "2022-11-04T22:30:08.132477Z"
    }
   },
   "outputs": [
    {
     "name": "stdout",
     "output_type": "stream",
     "text": [
      "tensor([[0.0739],\n",
      "        [0.5891]], grad_fn=<AddmmBackward0>)\n"
     ]
    }
   ],
   "source": [
    "x = torch.tensor([[1.0], [2.0]])\n",
    "print(model.forward(x))"
   ]
  },
  {
   "cell_type": "markdown",
   "id": "3bf733a9",
   "metadata": {
    "ExecuteTime": {
     "end_time": "2022-07-21T01:19:38.272762Z",
     "start_time": "2022-07-21T01:19:38.266612Z"
    }
   },
   "source": [
    "# Creating Dataset"
   ]
  },
  {
   "cell_type": "code",
   "execution_count": 22,
   "id": "68815fd3",
   "metadata": {
    "ExecuteTime": {
     "end_time": "2022-11-04T22:30:08.138050Z",
     "start_time": "2022-11-04T22:30:08.135840Z"
    }
   },
   "outputs": [
    {
     "name": "stdout",
     "output_type": "stream",
     "text": [
      "tensor([[-0.6540],\n",
      "        [-0.2223],\n",
      "        [-0.6629],\n",
      "        [-0.7984],\n",
      "        [-0.1578],\n",
      "        [ 0.7626],\n",
      "        [-3.3312],\n",
      "        [ 0.9837],\n",
      "        [-0.6540],\n",
      "        [ 1.2466]])\n"
     ]
    }
   ],
   "source": [
    "X = torch.randn(100, 1)\n",
    "print(X[::10])"
   ]
  },
  {
   "cell_type": "code",
   "execution_count": 23,
   "id": "8b9fc095",
   "metadata": {
    "ExecuteTime": {
     "end_time": "2022-11-04T22:30:08.207710Z",
     "start_time": "2022-11-04T22:30:08.138894Z"
    }
   },
   "outputs": [
    {
     "data": {
      "text/plain": [
       "[<matplotlib.lines.Line2D at 0x12b52d9d0>]"
      ]
     },
     "execution_count": 23,
     "metadata": {},
     "output_type": "execute_result"
    },
    {
     "data": {
      "image/png": "[encoded data removed]",
      "text/plain": [
       "<Figure size 640x480 with 1 Axes>"
      ]
     },
     "metadata": {},
     "output_type": "display_data"
    }
   ],
   "source": [
    "X = torch.randn(100, 1) * 10\n",
    "y = X\n",
    "colors = calm_color_generator(1)\n",
    "plt.plot(X.numpy(), y.numpy(), 'o', c=colors[0])"
   ]
  },
  {
   "cell_type": "code",
   "execution_count": 24,
   "id": "baf07829",
   "metadata": {
    "ExecuteTime": {
     "end_time": "2022-11-04T22:30:08.277875Z",
     "start_time": "2022-11-04T22:30:08.208842Z"
    },
    "scrolled": false
   },
   "outputs": [
    {
     "data": {
      "text/plain": [
       "Text(0.5, 0, 'X')"
      ]
     },
     "execution_count": 24,
     "metadata": {},
     "output_type": "execute_result"
    },
    {
     "data": {
      "image/png": "[encoded data removed]",
      "text/plain": [
       "<Figure size 640x480 with 1 Axes>"
      ]
     },
     "metadata": {},
     "output_type": "display_data"
    }
   ],
   "source": [
    "y = X + 3 * torch.randn(100, 1)\n",
    "colors = calm_color_generator(1)\n",
    "plt.plot(X.numpy(), y.numpy(), 'o', c=colors[0])\n",
    "plt.ylabel('y')\n",
    "plt.xlabel('X')"
   ]
  },
  {
   "cell_type": "code",
   "execution_count": 25,
   "id": "418e8267",
   "metadata": {
    "ExecuteTime": {
     "end_time": "2022-11-04T22:30:08.286327Z",
     "start_time": "2022-11-04T22:30:08.283479Z"
    }
   },
   "outputs": [
    {
     "name": "stdout",
     "output_type": "stream",
     "text": [
      "LR(\n",
      "  (linear): Linear(in_features=1, out_features=1, bias=True)\n",
      ")\n"
     ]
    }
   ],
   "source": [
    "print(model)"
   ]
  },
  {
   "cell_type": "code",
   "execution_count": 26,
   "id": "7bcec66b",
   "metadata": {
    "ExecuteTime": {
     "end_time": "2022-11-04T22:30:08.289879Z",
     "start_time": "2022-11-04T22:30:08.287659Z"
    }
   },
   "outputs": [
    {
     "name": "stdout",
     "output_type": "stream",
     "text": [
      "[Parameter containing:\n",
      "tensor([[0.5153]], requires_grad=True), Parameter containing:\n",
      "tensor([-0.4414], requires_grad=True)]\n"
     ]
    }
   ],
   "source": [
    "[w, b] = model.parameters()\n",
    "print([w, b])"
   ]
  },
  {
   "cell_type": "code",
   "execution_count": 27,
   "id": "1c171492",
   "metadata": {
    "ExecuteTime": {
     "end_time": "2022-11-04T22:30:08.292986Z",
     "start_time": "2022-11-04T22:30:08.290885Z"
    }
   },
   "outputs": [
    {
     "name": "stdout",
     "output_type": "stream",
     "text": [
      "tensor(0.5153, grad_fn=<SelectBackward0>) tensor(-0.4414, grad_fn=<SelectBackward0>)\n"
     ]
    }
   ],
   "source": [
    "w1 = w[0][0]\n",
    "b1 = b[0]\n",
    "print(w1, b1)"
   ]
  },
  {
   "cell_type": "code",
   "execution_count": 28,
   "id": "ed02849e",
   "metadata": {
    "ExecuteTime": {
     "end_time": "2022-11-04T22:30:08.300254Z",
     "start_time": "2022-11-04T22:30:08.297936Z"
    }
   },
   "outputs": [
    {
     "name": "stdout",
     "output_type": "stream",
     "text": [
      "0.5152631998062134 -0.44137823581695557\n"
     ]
    }
   ],
   "source": [
    "w1 = w[0][0].item()\n",
    "b1 = b[0].item()\n",
    "print(w1, b1)"
   ]
  },
  {
   "cell_type": "code",
   "execution_count": 29,
   "id": "1db89a2c",
   "metadata": {
    "ExecuteTime": {
     "end_time": "2022-11-04T22:30:08.302805Z",
     "start_time": "2022-11-04T22:30:08.301195Z"
    }
   },
   "outputs": [],
   "source": [
    "def get_params():\n",
    "    return (w[0][0].item(), b[0].item())"
   ]
  },
  {
   "cell_type": "code",
   "execution_count": 30,
   "id": "2ac7bb19",
   "metadata": {
    "ExecuteTime": {
     "end_time": "2022-11-04T22:30:08.305520Z",
     "start_time": "2022-11-04T22:30:08.303558Z"
    }
   },
   "outputs": [],
   "source": [
    "def plot_fit(title):\n",
    "    plt.title = title\n",
    "    w1, b1 = get_params()\n",
    "    x1 = np.array([-30, 30])\n",
    "    y1 = w1 * x1 + b1\n",
    "    plt.plot(x1, y1, 'r')\n",
    "    colors = calm_color_generator(1)\n",
    "    plt.scatter(X, y, color=colors[0])\n",
    "    plt.show()"
   ]
  },
  {
   "cell_type": "code",
   "execution_count": 31,
   "id": "48d45bfd",
   "metadata": {
    "ExecuteTime": {
     "end_time": "2022-11-04T22:30:08.367268Z",
     "start_time": "2022-11-04T22:30:08.306491Z"
    }
   },
   "outputs": [
    {
     "data": {
      "image/png": "[encoded data removed]",
      "text/plain": [
       "<Figure size 640x480 with 1 Axes>"
      ]
     },
     "metadata": {},
     "output_type": "display_data"
    }
   ],
   "source": [
    "plot_fit(\"Initial Model\")"
   ]
  },
  {
   "cell_type": "markdown",
   "id": "dace8ef2",
   "metadata": {
    "ExecuteTime": {
     "end_time": "2022-07-21T02:44:23.523234Z",
     "start_time": "2022-07-21T02:44:23.514722Z"
    }
   },
   "source": [
    "# Training - Code Implementation"
   ]
  },
  {
   "cell_type": "code",
   "execution_count": 32,
   "id": "44b28709",
   "metadata": {
    "ExecuteTime": {
     "end_time": "2022-11-04T22:30:08.370573Z",
     "start_time": "2022-11-04T22:30:08.368294Z"
    }
   },
   "outputs": [],
   "source": [
    "criterion = nn.MSELoss()\n",
    "optimizer = torch.optim.SGD(model.parameters(), lr=0.0002)"
   ]
  },
  {
   "cell_type": "code",
   "execution_count": 33,
   "id": "bffc2d3d",
   "metadata": {
    "ExecuteTime": {
     "end_time": "2022-11-04T22:30:08.373859Z",
     "start_time": "2022-11-04T22:30:08.371829Z"
    }
   },
   "outputs": [
    {
     "name": "stdout",
     "output_type": "stream",
     "text": [
      "MSELoss()\n"
     ]
    }
   ],
   "source": [
    "print(criterion)"
   ]
  },
  {
   "cell_type": "code",
   "execution_count": 34,
   "id": "9b55a6b1",
   "metadata": {
    "ExecuteTime": {
     "end_time": "2022-11-04T22:30:08.376873Z",
     "start_time": "2022-11-04T22:30:08.374948Z"
    }
   },
   "outputs": [
    {
     "name": "stdout",
     "output_type": "stream",
     "text": [
      "SGD (\n",
      "Parameter Group 0\n",
      "    dampening: 0\n",
      "    differentiable: False\n",
      "    foreach: None\n",
      "    lr: 0.0002\n",
      "    maximize: False\n",
      "    momentum: 0\n",
      "    nesterov: False\n",
      "    weight_decay: 0\n",
      ")\n"
     ]
    }
   ],
   "source": [
    "print(optimizer)"
   ]
  },
  {
   "cell_type": "code",
   "execution_count": 35,
   "id": "9567255f",
   "metadata": {
    "ExecuteTime": {
     "end_time": "2022-11-04T22:30:08.502625Z",
     "start_time": "2022-11-04T22:30:08.378075Z"
    }
   },
   "outputs": [
    {
     "ename": "NameError",
     "evalue": "name 'random' is not defined",
     "output_type": "error",
     "traceback": [
      "\u001b[0;31m---------------------------------------------------------------------------\u001b[0m",
      "\u001b[0;31mNameError\u001b[0m                                 Traceback (most recent call last)",
      "Cell \u001b[0;32mIn [35], line 6\u001b[0m\n\u001b[1;32m      2\u001b[0m losses \u001b[38;5;241m=\u001b[39m []\n\u001b[1;32m      3\u001b[0m termcolors \u001b[38;5;241m=\u001b[39m [\n\u001b[1;32m      4\u001b[0m     \u001b[38;5;124m'\u001b[39m\u001b[38;5;124mgrey\u001b[39m\u001b[38;5;124m'\u001b[39m, \u001b[38;5;124m'\u001b[39m\u001b[38;5;124mred\u001b[39m\u001b[38;5;124m'\u001b[39m, \u001b[38;5;124m'\u001b[39m\u001b[38;5;124mgreen\u001b[39m\u001b[38;5;124m'\u001b[39m, \u001b[38;5;124m'\u001b[39m\u001b[38;5;124myellow\u001b[39m\u001b[38;5;124m'\u001b[39m, \u001b[38;5;124m'\u001b[39m\u001b[38;5;124mblue\u001b[39m\u001b[38;5;124m'\u001b[39m, \u001b[38;5;124m'\u001b[39m\u001b[38;5;124mmagenta\u001b[39m\u001b[38;5;124m'\u001b[39m, \u001b[38;5;124m'\u001b[39m\u001b[38;5;124mcyan\u001b[39m\u001b[38;5;124m'\u001b[39m, \u001b[38;5;124m'\u001b[39m\u001b[38;5;124mwhite\u001b[39m\u001b[38;5;124m'\u001b[39m\n\u001b[1;32m      5\u001b[0m ]\n\u001b[0;32m----> 6\u001b[0m font_colors \u001b[38;5;241m=\u001b[39m \u001b[43mrandom\u001b[49m\u001b[38;5;241m.\u001b[39mchoices(termcolors, k\u001b[38;5;241m=\u001b[39m\u001b[38;5;241m2\u001b[39m)\n\u001b[1;32m      7\u001b[0m \u001b[38;5;28;01mfor\u001b[39;00m i \u001b[38;5;129;01min\u001b[39;00m \u001b[38;5;28mrange\u001b[39m(epochs):\n\u001b[1;32m      8\u001b[0m     i \u001b[38;5;241m+\u001b[39m\u001b[38;5;241m=\u001b[39m \u001b[38;5;241m1\u001b[39m\n",
      "\u001b[0;31mNameError\u001b[0m: name 'random' is not defined"
     ]
    }
   ],
   "source": [
    "epochs = 100\n",
    "losses = []\n",
    "termcolors = [\n",
    "    'grey', 'red', 'green', 'yellow', 'blue', 'magenta', 'cyan', 'white'\n",
    "]\n",
    "font_colors = random.choices(termcolors, k=2)\n",
    "for i in range(epochs):\n",
    "    i += 1\n",
    "    y_pred = model.forward(X)\n",
    "    loss = criterion(y_pred, y)\n",
    "    if i == 1 or i % 10 == 0:\n",
    "        print(colored(\"epoch:\", font_colors[0], attrs=['bold']), i,\n",
    "              colored(\"loss:\", font_colors[1]), loss.item())\n",
    "        print(colored(\"weight:\", font_colors[1]),\n",
    "              list(model.parameters())[0][0][0].item(),\n",
    "              colored(\"bias:\", font_colors[1]),\n",
    "              list(model.parameters())[1][0].item())\n",
    "    losses.append(loss.item())\n",
    "    optimizer.zero_grad()\n",
    "    loss.backward()\n",
    "    optimizer.step()"
   ]
  },
  {
   "cell_type": "code",
   "execution_count": null,
   "id": "b5e61720",
   "metadata": {
    "ExecuteTime": {
     "end_time": "2022-11-04T22:30:08.582553Z",
     "start_time": "2022-11-04T22:30:08.582546Z"
    }
   },
   "outputs": [],
   "source": [
    "colors = calm_color_generator(1)\n",
    "plt.plot(range(epochs), losses, c=colors[0])\n",
    "plt.ylabel('Loss')\n",
    "plt.xlabel('Epoch')"
   ]
  },
  {
   "cell_type": "code",
   "execution_count": null,
   "id": "0870e46b",
   "metadata": {
    "ExecuteTime": {
     "end_time": "2022-11-04T22:30:08.583444Z",
     "start_time": "2022-11-04T22:30:08.583437Z"
    }
   },
   "outputs": [],
   "source": [
    "plot_fit(\"Trained Model\")"
   ]
  }
 ],
 "metadata": {
  "hide_input": false,
  "kernelspec": {
   "display_name": "Python 3 (ipykernel)",
   "language": "python",
   "name": "python3"
  },
  "language_info": {
   "codemirror_mode": {
    "name": "ipython",
    "version": 3
   },
   "file_extension": ".py",
   "mimetype": "text/x-python",
   "name": "python",
   "nbconvert_exporter": "python",
   "pygments_lexer": "ipython3",
   "version": "3.9.13"
  },
  "latex_envs": {
   "LaTeX_envs_menu_present": true,
   "autoclose": false,
   "autocomplete": true,
   "bibliofile": "biblio.bib",
   "cite_by": "apalike",
   "current_citInitial": 1,
   "eqLabelWithNumbers": true,
   "eqNumInitial": 1,
   "hotkeys": {
    "equation": "Ctrl-E",
    "itemize": "Ctrl-I"
   },
   "labels_anchors": false,
   "latex_user_defs": false,
   "report_style_numbering": false,
   "user_envs_cfg": false
  },
  "nbTranslate": {
   "displayLangs": [
    "*"
   ],
   "hotkey": "alt-t",
   "langInMainMenu": true,
   "sourceLang": "en",
   "targetLang": "fr",
   "useGoogleTranslate": true
  },
  "toc": {
   "base_numbering": 1,
   "nav_menu": {},
   "number_sections": true,
   "sideBar": true,
   "skip_h1_title": false,
   "title_cell": "Table of Contents",
   "title_sidebar": "Contents",
   "toc_cell": false,
   "toc_position": {
    "height": "calc(100% - 180px)",
    "left": "10px",
    "top": "150px",
    "width": "345.594px"
   },
   "toc_section_display": true,
   "toc_window_display": true
  },
  "varInspector": {
   "cols": {
    "lenName": 16,
    "lenType": 16,
    "lenVar": 40
   },
   "kernels_config": {
    "python": {
     "delete_cmd_postfix": "",
     "delete_cmd_prefix": "del ",
     "library": "var_list.py",
     "varRefreshCmd": "print(var_dic_list())"
    },
    "r": {
     "delete_cmd_postfix": ") ",
     "delete_cmd_prefix": "rm(",
     "library": "var_list.r",
     "varRefreshCmd": "cat(var_dic_list()) "
    }
   },
   "types_to_exclude": [
    "module",
    "function",
    "builtin_function_or_method",
    "instance",
    "_Feature"
   ],
   "window_display": false
  },
  "vscode": {
   "interpreter": {
    "hash": "4df6db6ee61ecce594abe4a5126666f3650dd9429b0086e59af8e3f897fc7111"
   }
  }
 },
 "nbformat": 4,
 "nbformat_minor": 5
}

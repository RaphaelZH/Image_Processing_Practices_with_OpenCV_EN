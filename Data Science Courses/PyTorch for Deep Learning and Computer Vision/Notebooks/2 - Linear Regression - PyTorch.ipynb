{
 "cells": [
  {
   "cell_type": "markdown",
   "id": "5fdb7bb7",
   "metadata": {},
   "source": [
    "# Importing Libraries"
   ]
  },
  {
   "cell_type": "code",
   "execution_count": 1,
   "id": "07cd4ffb",
   "metadata": {
    "ExecuteTime": {
     "end_time": "2022-11-18T21:39:44.982998Z",
     "start_time": "2022-11-18T21:39:44.120920Z"
    }
   },
   "outputs": [],
   "source": [
    "import torch\n",
    "from torch import nn\n",
    "\n",
    "import numpy as np\n",
    "\n",
    "import matplotlib as mpl\n",
    "import matplotlib.pyplot as plt\n",
    "\n",
    "import reprlib\n",
    "import sys"
   ]
  },
  {
   "cell_type": "markdown",
   "id": "5094fde5",
   "metadata": {},
   "source": [
    "# Configuring Visualization Parameters"
   ]
  },
  {
   "cell_type": "code",
   "execution_count": 2,
   "id": "d6dd7c45",
   "metadata": {
    "ExecuteTime": {
     "end_time": "2022-11-18T21:39:44.991785Z",
     "start_time": "2022-11-18T21:39:44.984536Z"
    }
   },
   "outputs": [],
   "source": [
    "%matplotlib inline"
   ]
  },
  {
   "cell_type": "code",
   "execution_count": 3,
   "id": "5d4894ab",
   "metadata": {
    "ExecuteTime": {
     "end_time": "2022-11-18T21:39:44.994894Z",
     "start_time": "2022-11-18T21:39:44.992948Z"
    }
   },
   "outputs": [],
   "source": [
    "XINHUI = \"#7a7374\"\n",
    "XUEBAI = \"#fffef9\"\n",
    "YINBAI = \"#f1f0ed\"\n",
    "YINHUI = \"#918072\"\n",
    "\n",
    "figure_size = (16, 9)"
   ]
  },
  {
   "cell_type": "code",
   "execution_count": 4,
   "id": "6f7198a8",
   "metadata": {
    "ExecuteTime": {
     "end_time": "2022-11-18T21:39:44.999711Z",
     "start_time": "2022-11-18T21:39:44.997011Z"
    }
   },
   "outputs": [],
   "source": [
    "custom_params = {\n",
    "    \"axes.axisbelow\": True,\n",
    "    \"axes.edgecolor\": YINBAI,\n",
    "    \"axes.facecolor\": XUEBAI,\n",
    "    \"axes.grid\": True,\n",
    "    \"axes.labelcolor\": XINHUI,\n",
    "    \"axes.spines.right\": False,\n",
    "    \"axes.spines.top\": False,\n",
    "    \"axes.titlecolor\": XINHUI,\n",
    "    \"figure.edgecolor\": YINBAI,\n",
    "    \"figure.facecolor\": XUEBAI,\n",
    "    \"grid.alpha\": .8,\n",
    "    \"grid.color\": YINBAI,\n",
    "    \"grid.linestyle\": \"--\",\n",
    "    \"grid.linewidth\": 1.2,\n",
    "    \"legend.edgecolor\": YINHUI,\n",
    "    \"patch.edgecolor\": XUEBAI,\n",
    "    \"patch.force_edgecolor\": True,\n",
    "    \"text.color\": XINHUI,\n",
    "    \"xtick.color\": YINHUI,\n",
    "    \"ytick.color\": YINHUI,\n",
    "}\n",
    "\n",
    "mpl.rcParams.update(custom_params)"
   ]
  },
  {
   "cell_type": "markdown",
   "id": "e39283da",
   "metadata": {},
   "source": [
    "# Configuring Other Notebook Parameters"
   ]
  },
  {
   "cell_type": "code",
   "execution_count": 5,
   "id": "1721c976",
   "metadata": {
    "ExecuteTime": {
     "end_time": "2022-11-18T21:39:45.002647Z",
     "start_time": "2022-11-18T21:39:45.000939Z"
    }
   },
   "outputs": [],
   "source": [
    "reprlib_rules = reprlib.Repr()\n",
    "reprlib_rules.maxother = 250"
   ]
  },
  {
   "cell_type": "markdown",
   "id": "77cdea15",
   "metadata": {},
   "source": [
    "# Pre-installing Custom Functions"
   ]
  },
  {
   "cell_type": "code",
   "execution_count": 6,
   "id": "1f6ac6d5",
   "metadata": {
    "ExecuteTime": {
     "end_time": "2022-11-18T21:39:45.005789Z",
     "start_time": "2022-11-18T21:39:45.003753Z"
    }
   },
   "outputs": [],
   "source": [
    "sys.path.append(\"../\")"
   ]
  },
  {
   "cell_type": "code",
   "execution_count": 7,
   "id": "ab3f4e6c",
   "metadata": {
    "ExecuteTime": {
     "end_time": "2022-11-18T21:39:45.012720Z",
     "start_time": "2022-11-18T21:39:45.007043Z"
    }
   },
   "outputs": [],
   "source": [
    "from Modules import *"
   ]
  },
  {
   "cell_type": "markdown",
   "id": "00dd6868",
   "metadata": {},
   "source": [
    "# Practicing in Stages\n",
    "\n",
    "## Making Predictions"
   ]
  },
  {
   "cell_type": "code",
   "execution_count": 8,
   "id": "002025a7",
   "metadata": {
    "ExecuteTime": {
     "end_time": "2022-11-18T21:39:45.017212Z",
     "start_time": "2022-11-18T21:39:45.014024Z"
    },
    "code_folding": [],
    "hide_input": false,
    "scrolled": false
   },
   "outputs": [
    {
     "name": "stdout",
     "output_type": "stream",
     "text": [
      "\u001b[4m\u001b[34mDefinition of prediction function\u001b[0m\n",
      "\n",
      "\u001b[1m\u001b[34m    +-------------------+\u001b[0m\n",
      "\u001b[1m\u001b[34m    | Definition        |\u001b[0m\n",
      "\u001b[1m\u001b[34m    +-------------------+\u001b[0m\n",
      "\u001b[1m\u001b[34m    | def forward(x):   |\u001b[0m\n",
      "\u001b[1m\u001b[34m    |     y = w * x + b |\u001b[0m\n",
      "\u001b[1m\u001b[34m    |     return y      |\u001b[0m\n",
      "\u001b[1m\u001b[34m    +-------------------+\u001b[0m\n"
     ]
    }
   ],
   "source": [
    "def forward(x):\n",
    "    y = w * x + b\n",
    "    return y\n",
    "\n",
    "\n",
    "tabulation = Form_Generator()\n",
    "tabulation.heading_printer(\"Definition of prediction function\")\n",
    "\n",
    "definition = \"\"\"\n",
    "def forward(x):\n",
    "    y = w * x + b\n",
    "    return y\n",
    "\"\"\"\n",
    "definitions = [definition]\n",
    "tabulation.definition_generator(definitions)"
   ]
  },
  {
   "cell_type": "code",
   "execution_count": 9,
   "id": "6b34b014",
   "metadata": {
    "ExecuteTime": {
     "end_time": "2022-11-18T21:39:45.023418Z",
     "start_time": "2022-11-18T21:39:45.018801Z"
    },
    "hide_input": false
   },
   "outputs": [
    {
     "name": "stdout",
     "output_type": "stream",
     "text": [
      "\u001b[4m\u001b[31mInitial assignment of parameters\u001b[0m\n",
      "\n",
      "\u001b[1m\u001b[31m    +-------------------------------------------+\u001b[0m\n",
      "\u001b[1m\u001b[31m    | Statement                                 |\u001b[0m\n",
      "\u001b[1m\u001b[31m    +-------------------------------------------+\u001b[0m\n",
      "\u001b[1m\u001b[31m    | w = torch.tensor(3.0, requires_grad=True) |\u001b[0m\n",
      "\u001b[1m\u001b[31m    | b = torch.tensor(1.0, requires_grad=True) |\u001b[0m\n",
      "\u001b[1m\u001b[31m    +-------------------------------------------+\u001b[0m\n",
      "\u001b[1m\u001b[31m    +----------+--------------------------------+\u001b[0m\n",
      "\u001b[1m\u001b[31m    | Variable | Value                          |\u001b[0m\n",
      "\u001b[1m\u001b[31m    +----------+--------------------------------+\u001b[0m\n",
      "\u001b[1m\u001b[31m    | w        | tensor(3., requires_grad=True) |\u001b[0m\n",
      "\u001b[1m\u001b[31m    | b        | tensor(1., requires_grad=True) |\u001b[0m\n",
      "\u001b[1m\u001b[31m    +----------+--------------------------------+\u001b[0m\n"
     ]
    }
   ],
   "source": [
    "w = torch.tensor(3.0, requires_grad=True)\n",
    "b = torch.tensor(1.0, requires_grad=True)\n",
    "\n",
    "tabulation = Form_Generator()\n",
    "tabulation.heading_printer(\"Initial assignment of parameters\")\n",
    "\n",
    "statement_1 = \"w = torch.tensor(3.0, requires_grad=True)\"\n",
    "statement_2 = \"b = torch.tensor(1.0, requires_grad=True)\"\n",
    "statements = [statement_1] + [statement_2]\n",
    "tabulation.statement_generator(statements)\n",
    "\n",
    "variables = [\"w\", \"b\"]\n",
    "values = [str(w), str(b)]\n",
    "tabulation.variable_generator(variables, values)"
   ]
  },
  {
   "cell_type": "code",
   "execution_count": 10,
   "id": "a3e6732f",
   "metadata": {
    "ExecuteTime": {
     "end_time": "2022-11-18T21:39:45.030846Z",
     "start_time": "2022-11-18T21:39:45.026364Z"
    },
    "hide_input": false
   },
   "outputs": [
    {
     "name": "stdout",
     "output_type": "stream",
     "text": [
      "\u001b[4m\u001b[30mFunction implementation with 0D tensor\u001b[0m\n",
      "\n",
      "\u001b[1m\u001b[30m    +---------------------+\u001b[0m\n",
      "\u001b[1m\u001b[30m    | Statement           |\u001b[0m\n",
      "\u001b[1m\u001b[30m    +---------------------+\u001b[0m\n",
      "\u001b[1m\u001b[30m    | x = torch.tensor(2) |\u001b[0m\n",
      "\u001b[1m\u001b[30m    +---------------------+\u001b[0m\n",
      "\u001b[1m\u001b[30m    +----------+-----------+\u001b[0m\n",
      "\u001b[1m\u001b[30m    | Variable | Value     |\u001b[0m\n",
      "\u001b[1m\u001b[30m    +----------+-----------+\u001b[0m\n",
      "\u001b[1m\u001b[30m    | x        | tensor(2) |\u001b[0m\n",
      "\u001b[1m\u001b[30m    +----------+-----------+\u001b[0m\n",
      "\u001b[1m\u001b[30m    +------------+------------------------------------+\u001b[0m\n",
      "\u001b[1m\u001b[30m    | Expression | Result                             |\u001b[0m\n",
      "\u001b[1m\u001b[30m    +------------+------------------------------------+\u001b[0m\n",
      "\u001b[1m\u001b[30m    | forward(x) | tensor(7., grad_fn=<AddBackward0>) |\u001b[0m\n",
      "\u001b[1m\u001b[30m    +------------+------------------------------------+\u001b[0m\n"
     ]
    }
   ],
   "source": [
    "x = torch.tensor(2)\n",
    "\n",
    "tabulation = Form_Generator()\n",
    "tabulation.heading_printer(\"Function implementation with 0D tensor\")\n",
    "\n",
    "statement_1 = \"x = torch.tensor(2)\"\n",
    "statements = [statement_1]\n",
    "tabulation.statement_generator(statements)\n",
    "\n",
    "variables = [\"x\"]\n",
    "values = [str(x)]\n",
    "tabulation.variable_generator(variables, values)\n",
    "\n",
    "expressions = [\"forward(x)\"]\n",
    "results = [str(forward(x))]\n",
    "tabulation.expression_generator(expressions, results)"
   ]
  },
  {
   "cell_type": "code",
   "execution_count": 11,
   "id": "5e292920",
   "metadata": {
    "ExecuteTime": {
     "end_time": "2022-11-18T21:39:45.036639Z",
     "start_time": "2022-11-18T21:39:45.032150Z"
    },
    "hide_input": false
   },
   "outputs": [
    {
     "name": "stdout",
     "output_type": "stream",
     "text": [
      "\u001b[4m\u001b[36mFunction implementation with multi-D tensor\u001b[0m\n",
      "\n",
      "\u001b[1m\u001b[36m    +------------------------------+\u001b[0m\n",
      "\u001b[1m\u001b[36m    | Statement                    |\u001b[0m\n",
      "\u001b[1m\u001b[36m    +------------------------------+\u001b[0m\n",
      "\u001b[1m\u001b[36m    | x = torch.tensor([[4], [7]]) |\u001b[0m\n",
      "\u001b[1m\u001b[36m    +------------------------------+\u001b[0m\n",
      "\u001b[1m\u001b[36m    +----------+---------------+\u001b[0m\n",
      "\u001b[1m\u001b[36m    | Variable | Value         |\u001b[0m\n",
      "\u001b[1m\u001b[36m    +----------+---------------+\u001b[0m\n",
      "\u001b[1m\u001b[36m    | x        | tensor([[4],  |\u001b[0m\n",
      "\u001b[1m\u001b[36m    |          |         [7]]) |\u001b[0m\n",
      "\u001b[1m\u001b[36m    +----------+---------------+\u001b[0m\n",
      "\u001b[1m\u001b[36m    +------------+-----------------------------------------+\u001b[0m\n",
      "\u001b[1m\u001b[36m    | Expression | Result                                  |\u001b[0m\n",
      "\u001b[1m\u001b[36m    +------------+-----------------------------------------+\u001b[0m\n",
      "\u001b[1m\u001b[36m    | forward(x) | tensor([[13.],                          |\u001b[0m\n",
      "\u001b[1m\u001b[36m    |            |         [22.]], grad_fn=<AddBackward0>) |\u001b[0m\n",
      "\u001b[1m\u001b[36m    +------------+-----------------------------------------+\u001b[0m\n"
     ]
    }
   ],
   "source": [
    "x = torch.tensor([[4], [7]])\n",
    "\n",
    "tabulation = Form_Generator()\n",
    "tabulation.heading_printer(\"Function implementation with multi-D tensor\")\n",
    "\n",
    "statement_1 = \"x = torch.tensor([[4], [7]])\"\n",
    "statements = [statement_1]\n",
    "tabulation.statement_generator(statements)\n",
    "\n",
    "variables = [\"x\"]\n",
    "values = [str(x)]\n",
    "tabulation.variable_generator(variables, values)\n",
    "\n",
    "expressions = [\"forward(x)\"]\n",
    "results = [str(forward(x))]\n",
    "tabulation.expression_generator(expressions, results)"
   ]
  },
  {
   "cell_type": "markdown",
   "id": "010e1216",
   "metadata": {},
   "source": [
    "## Linear Class"
   ]
  },
  {
   "cell_type": "code",
   "execution_count": 12,
   "id": "06a3a62c",
   "metadata": {
    "ExecuteTime": {
     "end_time": "2022-11-18T21:39:45.043214Z",
     "start_time": "2022-11-18T21:39:45.038112Z"
    }
   },
   "outputs": [
    {
     "name": "stdout",
     "output_type": "stream",
     "text": [
      "\u001b[4m\u001b[32mInitialization of standard linear model\u001b[0m\n",
      "\n",
      "\u001b[1m\u001b[32m    +--------------------------------------------------+\u001b[0m\n",
      "\u001b[1m\u001b[32m    | Statement                                        |\u001b[0m\n",
      "\u001b[1m\u001b[32m    +--------------------------------------------------+\u001b[0m\n",
      "\u001b[1m\u001b[32m    | torch.manual_seed(1)                             |\u001b[0m\n",
      "\u001b[1m\u001b[32m    | model = nn.Linear(in_features=1, out_features=1) |\u001b[0m\n",
      "\u001b[1m\u001b[32m    +--------------------------------------------------+\u001b[0m\n",
      "\u001b[1m\u001b[32m    +----------+--------------------------------------------------+\u001b[0m\n",
      "\u001b[1m\u001b[32m    | Variable | Value                                            |\u001b[0m\n",
      "\u001b[1m\u001b[32m    +----------+--------------------------------------------------+\u001b[0m\n",
      "\u001b[1m\u001b[32m    | model    | Linear(in_features=1, out_features=1, bias=True) |\u001b[0m\n",
      "\u001b[1m\u001b[32m    +----------+--------------------------------------------------+\u001b[0m\n",
      "\u001b[1m\u001b[32m    +--------------+----------------------------------------+\u001b[0m\n",
      "\u001b[1m\u001b[32m    | Expression   | Result                                 |\u001b[0m\n",
      "\u001b[1m\u001b[32m    +--------------+----------------------------------------+\u001b[0m\n",
      "\u001b[1m\u001b[32m    | model.weight | Parameter containing:                  |\u001b[0m\n",
      "\u001b[1m\u001b[32m    |              | tensor([[0.5153]], requires_grad=True) |\u001b[0m\n",
      "\u001b[1m\u001b[32m    | model.bias   | Parameter containing:                  |\u001b[0m\n",
      "\u001b[1m\u001b[32m    |              | tensor([-0.4414], requires_grad=True)  |\u001b[0m\n",
      "\u001b[1m\u001b[32m    +--------------+----------------------------------------+\u001b[0m\n"
     ]
    }
   ],
   "source": [
    "torch.manual_seed(1)\n",
    "model = nn.Linear(in_features=1, out_features=1)\n",
    "\n",
    "tabulation = Form_Generator()\n",
    "tabulation.heading_printer(\"Initialization of standard linear model\")\n",
    "\n",
    "statement_1 = \"torch.manual_seed(1)\"\n",
    "statement_2 = \"model = nn.Linear(in_features=1, out_features=1)\"\n",
    "statements = [statement_1] + [statement_2]\n",
    "tabulation.statement_generator(statements)\n",
    "\n",
    "variables = [\"model\"]\n",
    "values = [str(model)]\n",
    "tabulation.variable_generator(variables, values)\n",
    "\n",
    "expressions = [\"model.weight\", \"model.bias\"]\n",
    "results = [str(model.weight), str(model.bias)]\n",
    "tabulation.expression_generator(expressions, results)"
   ]
  },
  {
   "cell_type": "code",
   "execution_count": 13,
   "id": "664fbcd2",
   "metadata": {
    "ExecuteTime": {
     "end_time": "2022-11-18T21:39:45.048602Z",
     "start_time": "2022-11-18T21:39:45.044487Z"
    }
   },
   "outputs": [
    {
     "name": "stdout",
     "output_type": "stream",
     "text": [
      "\u001b[4m\u001b[37mModel implementation with 1D tensor\u001b[0m\n",
      "\n",
      "\u001b[1m\u001b[37m    +-------------------------+\u001b[0m\n",
      "\u001b[1m\u001b[37m    | Statement               |\u001b[0m\n",
      "\u001b[1m\u001b[37m    +-------------------------+\u001b[0m\n",
      "\u001b[1m\u001b[37m    | x = torch.tensor([2.0]) |\u001b[0m\n",
      "\u001b[1m\u001b[37m    +-------------------------+\u001b[0m\n",
      "\u001b[1m\u001b[37m    +----------+--------------+\u001b[0m\n",
      "\u001b[1m\u001b[37m    | Variable | Value        |\u001b[0m\n",
      "\u001b[1m\u001b[37m    +----------+--------------+\u001b[0m\n",
      "\u001b[1m\u001b[37m    | x        | tensor([2.]) |\u001b[0m\n",
      "\u001b[1m\u001b[37m    +----------+--------------+\u001b[0m\n",
      "\u001b[1m\u001b[37m    +------------+------------------------------------------+\u001b[0m\n",
      "\u001b[1m\u001b[37m    | Expression | Result                                   |\u001b[0m\n",
      "\u001b[1m\u001b[37m    +------------+------------------------------------------+\u001b[0m\n",
      "\u001b[1m\u001b[37m    | model(x)   | tensor([0.5891], grad_fn=<AddBackward0>) |\u001b[0m\n",
      "\u001b[1m\u001b[37m    +------------+------------------------------------------+\u001b[0m\n"
     ]
    }
   ],
   "source": [
    "x = torch.tensor([2.0])\n",
    "\n",
    "tabulation = Form_Generator()\n",
    "tabulation.heading_printer(\"Model implementation with 1D tensor\")\n",
    "\n",
    "statement_1 = \"x = torch.tensor([2.0])\"\n",
    "statements = [statement_1]\n",
    "tabulation.statement_generator(statements)\n",
    "\n",
    "variables = [\"x\"]\n",
    "values = [str(x)]\n",
    "tabulation.variable_generator(variables, values)\n",
    "\n",
    "expressions = [\"model(x)\"]\n",
    "results = [str(model(x))]\n",
    "tabulation.expression_generator(expressions, results)"
   ]
  },
  {
   "cell_type": "code",
   "execution_count": 14,
   "id": "ab5dcc5b",
   "metadata": {
    "ExecuteTime": {
     "end_time": "2022-11-18T21:39:45.054508Z",
     "start_time": "2022-11-18T21:39:45.049841Z"
    }
   },
   "outputs": [
    {
     "name": "stdout",
     "output_type": "stream",
     "text": [
      "\u001b[4m\u001b[33mModel implementation with multi-D tensor\u001b[0m\n",
      "\n",
      "\u001b[1m\u001b[33m    +----------------------------------+\u001b[0m\n",
      "\u001b[1m\u001b[33m    | Statement                        |\u001b[0m\n",
      "\u001b[1m\u001b[33m    +----------------------------------+\u001b[0m\n",
      "\u001b[1m\u001b[33m    | x = torch.tensor([[2.0], [3.3]]) |\u001b[0m\n",
      "\u001b[1m\u001b[33m    +----------------------------------+\u001b[0m\n",
      "\u001b[1m\u001b[33m    +----------+--------------------+\u001b[0m\n",
      "\u001b[1m\u001b[33m    | Variable | Value              |\u001b[0m\n",
      "\u001b[1m\u001b[33m    +----------+--------------------+\u001b[0m\n",
      "\u001b[1m\u001b[33m    | x        | tensor([[2.0000],  |\u001b[0m\n",
      "\u001b[1m\u001b[33m    |          |         [3.3000]]) |\u001b[0m\n",
      "\u001b[1m\u001b[33m    +----------+--------------------+\u001b[0m\n",
      "\u001b[1m\u001b[33m    +------------+----------------------------------------------+\u001b[0m\n",
      "\u001b[1m\u001b[33m    | Expression | Result                                       |\u001b[0m\n",
      "\u001b[1m\u001b[33m    +------------+----------------------------------------------+\u001b[0m\n",
      "\u001b[1m\u001b[33m    | model(x)   | tensor([[0.5891],                            |\u001b[0m\n",
      "\u001b[1m\u001b[33m    |            |         [1.2590]], grad_fn=<AddmmBackward0>) |\u001b[0m\n",
      "\u001b[1m\u001b[33m    +------------+----------------------------------------------+\u001b[0m\n"
     ]
    }
   ],
   "source": [
    "x = torch.tensor([[2.0], [3.3]])\n",
    "\n",
    "tabulation = Form_Generator()\n",
    "tabulation.heading_printer(\"Model implementation with multi-D tensor\")\n",
    "\n",
    "statement_1 = \"x = torch.tensor([[2.0], [3.3]])\"\n",
    "statements = [statement_1]\n",
    "tabulation.statement_generator(statements)\n",
    "\n",
    "variables = [\"x\"]\n",
    "values = [str(x)]\n",
    "tabulation.variable_generator(variables, values)\n",
    "\n",
    "expressions = [\"model(x)\"]\n",
    "results = [str(model(x))]\n",
    "tabulation.expression_generator(expressions, results)"
   ]
  },
  {
   "cell_type": "markdown",
   "id": "985eeeb1",
   "metadata": {},
   "source": [
    "## Custom Modules"
   ]
  },
  {
   "cell_type": "code",
   "execution_count": 15,
   "id": "b4957565",
   "metadata": {
    "ExecuteTime": {
     "end_time": "2022-11-18T21:39:45.060967Z",
     "start_time": "2022-11-18T21:39:45.055863Z"
    }
   },
   "outputs": [
    {
     "name": "stdout",
     "output_type": "stream",
     "text": [
      "\u001b[4m\u001b[35mInitialization of inherited linear classes\u001b[0m\n",
      "\n",
      "\u001b[1m\u001b[35m    +----------------------------------------------------------+\u001b[0m\n",
      "\u001b[1m\u001b[35m    | Definition                                               |\u001b[0m\n",
      "\u001b[1m\u001b[35m    +----------------------------------------------------------+\u001b[0m\n",
      "\u001b[1m\u001b[35m    | class LR(nn.Module):                                     |\u001b[0m\n",
      "\u001b[1m\u001b[35m    |                                                          |\u001b[0m\n",
      "\u001b[1m\u001b[35m    |     def __init__(self, input_size, output_size):         |\u001b[0m\n",
      "\u001b[1m\u001b[35m    |         super().__init__()                               |\u001b[0m\n",
      "\u001b[1m\u001b[35m    |         self.linear = nn.Linear(input_size, output_size) |\u001b[0m\n",
      "\u001b[1m\u001b[35m    |                                                          |\u001b[0m\n",
      "\u001b[1m\u001b[35m    |     def forward(self, x):                                |\u001b[0m\n",
      "\u001b[1m\u001b[35m    |         pred = self.linear(x)                            |\u001b[0m\n",
      "\u001b[1m\u001b[35m    |         return pred                                      |\u001b[0m\n",
      "\u001b[1m\u001b[35m    +----------------------------------------------------------+\u001b[0m\n",
      "\u001b[1m\u001b[35m    +----------------------+\u001b[0m\n",
      "\u001b[1m\u001b[35m    | Statement            |\u001b[0m\n",
      "\u001b[1m\u001b[35m    +----------------------+\u001b[0m\n",
      "\u001b[1m\u001b[35m    | torch.manual_seed(1) |\u001b[0m\n",
      "\u001b[1m\u001b[35m    | model = LR(1, 1)     |\u001b[0m\n",
      "\u001b[1m\u001b[35m    +----------------------+\u001b[0m\n",
      "\u001b[1m\u001b[35m    +----------+--------------------------------------------------+\u001b[0m\n",
      "\u001b[1m\u001b[35m    | Variable | Value                                            |\u001b[0m\n",
      "\u001b[1m\u001b[35m    +----------+--------------------------------------------------+\u001b[0m\n",
      "\u001b[1m\u001b[35m    | model    | Linear(in_features=1, out_features=1, bias=True) |\u001b[0m\n",
      "\u001b[1m\u001b[35m    +----------+--------------------------------------------------+\u001b[0m\n",
      "\u001b[1m\u001b[35m    +--------------------------+-------------------------------+\u001b[0m\n",
      "\u001b[1m\u001b[35m    | Expression               | Result                        |\u001b[0m\n",
      "\u001b[1m\u001b[35m    +--------------------------+-------------------------------+\u001b[0m\n",
      "\u001b[1m\u001b[35m    | model.parameters()       | <generator object             |\u001b[0m\n",
      "\u001b[1m\u001b[35m    |                          |         Module.parameters at  |\u001b[0m\n",
      "\u001b[1m\u001b[35m    |                          |         0x138534c10>          |\u001b[0m\n",
      "\u001b[1m\u001b[35m    | list(model.parameters()) | [Parameter containing:        |\u001b[0m\n",
      "\u001b[1m\u001b[35m    |                          | tensor([[0.5153]],            |\u001b[0m\n",
      "\u001b[1m\u001b[35m    |                          |         requires_grad=True),  |\u001b[0m\n",
      "\u001b[1m\u001b[35m    |                          |         Parameter containing: |\u001b[0m\n",
      "\u001b[1m\u001b[35m    |                          | tensor([-0.4414],             |\u001b[0m\n",
      "\u001b[1m\u001b[35m    |                          |         requires_grad=True)]  |\u001b[0m\n",
      "\u001b[1m\u001b[35m    +--------------------------+-------------------------------+\u001b[0m\n"
     ]
    }
   ],
   "source": [
    "class LR(nn.Module):\n",
    "\n",
    "    def __init__(self, input_size, output_size):\n",
    "        super().__init__()\n",
    "        self.linear = nn.Linear(input_size, output_size)\n",
    "\n",
    "    def forward(self, x):\n",
    "        pred = self.linear(x)\n",
    "        return pred\n",
    "\n",
    "\n",
    "tabulation = Form_Generator()\n",
    "tabulation.heading_printer(\"Initialization of inherited linear classes\")\n",
    "\n",
    "definition = \"\"\"\n",
    "class LR(nn.Module):\n",
    "\n",
    "    def __init__(self, input_size, output_size):\n",
    "        super().__init__()\n",
    "        self.linear = nn.Linear(input_size, output_size)\n",
    "\n",
    "    def forward(self, x):\n",
    "        pred = self.linear(x)\n",
    "        return pred\n",
    "\"\"\"\n",
    "\n",
    "definitions = [definition]\n",
    "tabulation.definition_generator(definitions)\n",
    "\n",
    "statement_1 = \"torch.manual_seed(1)\"\n",
    "statement_2 = \"model = LR(1, 1)\"\n",
    "statements = [statement_1] + [statement_2]\n",
    "tabulation.statement_generator(statements)\n",
    "\n",
    "variables = [\"model\"]\n",
    "values = [str(model)]\n",
    "tabulation.variable_generator(variables, values)\n",
    "\n",
    "expressions = [\"model.parameters()\", \"list(model.parameters())\"]\n",
    "results = [str(model.parameters()), str(list(model.parameters()))]\n",
    "tabulation.expression_generator(expressions, results)"
   ]
  },
  {
   "cell_type": "code",
   "execution_count": 16,
   "id": "6ba13ce1",
   "metadata": {
    "ExecuteTime": {
     "end_time": "2022-11-18T21:39:45.066176Z",
     "start_time": "2022-11-18T21:39:45.062159Z"
    }
   },
   "outputs": [
    {
     "name": "stdout",
     "output_type": "stream",
     "text": [
      "\u001b[4m\u001b[37mImplementation of custom model with 1D tensor\u001b[0m\n",
      "\n",
      "\u001b[1m\u001b[37m    +-------------------------+\u001b[0m\n",
      "\u001b[1m\u001b[37m    | Statement               |\u001b[0m\n",
      "\u001b[1m\u001b[37m    +-------------------------+\u001b[0m\n",
      "\u001b[1m\u001b[37m    | x = torch.tensor([1.0]) |\u001b[0m\n",
      "\u001b[1m\u001b[37m    +-------------------------+\u001b[0m\n",
      "\u001b[1m\u001b[37m    +----------+--------------+\u001b[0m\n",
      "\u001b[1m\u001b[37m    | Variable | Value        |\u001b[0m\n",
      "\u001b[1m\u001b[37m    +----------+--------------+\u001b[0m\n",
      "\u001b[1m\u001b[37m    | x        | tensor([1.]) |\u001b[0m\n",
      "\u001b[1m\u001b[37m    +----------+--------------+\u001b[0m\n",
      "\u001b[1m\u001b[37m    +------------------+------------------------------------------+\u001b[0m\n",
      "\u001b[1m\u001b[37m    | Expression       | Result                                   |\u001b[0m\n",
      "\u001b[1m\u001b[37m    +------------------+------------------------------------------+\u001b[0m\n",
      "\u001b[1m\u001b[37m    | model.forward(x) | tensor([0.0739], grad_fn=<AddBackward0>) |\u001b[0m\n",
      "\u001b[1m\u001b[37m    +------------------+------------------------------------------+\u001b[0m\n"
     ]
    }
   ],
   "source": [
    "x = torch.tensor([1.0])\n",
    "\n",
    "tabulation = Form_Generator()\n",
    "tabulation.heading_printer(\"Implementation of custom model with 1D tensor\")\n",
    "\n",
    "statement_1 = \"x = torch.tensor([1.0])\"\n",
    "statements = [statement_1]\n",
    "tabulation.statement_generator(statements)\n",
    "\n",
    "variables = [\"x\"]\n",
    "values = [str(x)]\n",
    "tabulation.variable_generator(variables, values)\n",
    "\n",
    "expressions = [\"model.forward(x)\"]\n",
    "results = [str(model.forward(x))]\n",
    "tabulation.expression_generator(expressions, results)"
   ]
  },
  {
   "cell_type": "code",
   "execution_count": 17,
   "id": "a7551e0d",
   "metadata": {
    "ExecuteTime": {
     "end_time": "2022-11-18T21:39:45.071686Z",
     "start_time": "2022-11-18T21:39:45.067520Z"
    }
   },
   "outputs": [
    {
     "name": "stdout",
     "output_type": "stream",
     "text": [
      "\u001b[4m\u001b[32mImplementation of custom model with multi-D tensor\u001b[0m\n",
      "\n",
      "\u001b[1m\u001b[32m    +----------------------------------+\u001b[0m\n",
      "\u001b[1m\u001b[32m    | Statement                        |\u001b[0m\n",
      "\u001b[1m\u001b[32m    +----------------------------------+\u001b[0m\n",
      "\u001b[1m\u001b[32m    | x = torch.tensor([[1.0], [2.0]]) |\u001b[0m\n",
      "\u001b[1m\u001b[32m    +----------------------------------+\u001b[0m\n",
      "\u001b[1m\u001b[32m    +----------+----------------+\u001b[0m\n",
      "\u001b[1m\u001b[32m    | Variable | Value          |\u001b[0m\n",
      "\u001b[1m\u001b[32m    +----------+----------------+\u001b[0m\n",
      "\u001b[1m\u001b[32m    | x        | tensor([[1.],  |\u001b[0m\n",
      "\u001b[1m\u001b[32m    |          |         [2.]]) |\u001b[0m\n",
      "\u001b[1m\u001b[32m    +----------+----------------+\u001b[0m\n",
      "\u001b[1m\u001b[32m    +------------------+-----------------------------------+\u001b[0m\n",
      "\u001b[1m\u001b[32m    | Expression       | Result                            |\u001b[0m\n",
      "\u001b[1m\u001b[32m    +------------------+-----------------------------------+\u001b[0m\n",
      "\u001b[1m\u001b[32m    | model.forward(x) | tensor([[0.0739],                 |\u001b[0m\n",
      "\u001b[1m\u001b[32m    |                  |         [0.5891]],                |\u001b[0m\n",
      "\u001b[1m\u001b[32m    |                  |         grad_fn=<AddmmBackward0>) |\u001b[0m\n",
      "\u001b[1m\u001b[32m    +------------------+-----------------------------------+\u001b[0m\n"
     ]
    }
   ],
   "source": [
    "x = torch.tensor([[1.0], [2.0]])\n",
    "\n",
    "tabulation = Form_Generator()\n",
    "tabulation.heading_printer(\n",
    "    \"Implementation of custom model with multi-D tensor\")\n",
    "\n",
    "statement_1 = \"x = torch.tensor([[1.0], [2.0]])\"\n",
    "statements = [statement_1]\n",
    "tabulation.statement_generator(statements)\n",
    "\n",
    "variables = [\"x\"]\n",
    "values = [str(x)]\n",
    "tabulation.variable_generator(variables, values)\n",
    "\n",
    "expressions = [\"model.forward(x)\"]\n",
    "results = [str(model.forward(x))]\n",
    "tabulation.expression_generator(expressions, results)"
   ]
  },
  {
   "cell_type": "markdown",
   "id": "3bf733a9",
   "metadata": {
    "ExecuteTime": {
     "end_time": "2022-07-21T01:19:38.272762Z",
     "start_time": "2022-07-21T01:19:38.266612Z"
    }
   },
   "source": [
    "## Creating Dataset"
   ]
  },
  {
   "cell_type": "code",
   "execution_count": 18,
   "id": "9b67b4ce",
   "metadata": {
    "ExecuteTime": {
     "end_time": "2022-11-18T21:39:45.078052Z",
     "start_time": "2022-11-18T21:39:45.072781Z"
    },
    "scrolled": false
   },
   "outputs": [
    {
     "name": "stdout",
     "output_type": "stream",
     "text": [
      "\u001b[4m\u001b[31mCreation of normally distributed data with random numbers\u001b[0m\n",
      "\n",
      "\u001b[1m\u001b[31m    +-------------------------+\u001b[0m\n",
      "\u001b[1m\u001b[31m    | Statement               |\u001b[0m\n",
      "\u001b[1m\u001b[31m    +-------------------------+\u001b[0m\n",
      "\u001b[1m\u001b[31m    | X = torch.randn(100, 1) |\u001b[0m\n",
      "\u001b[1m\u001b[31m    +-------------------------+\u001b[0m\n",
      "\u001b[1m\u001b[31m    +----------+-----------------------+\u001b[0m\n",
      "\u001b[1m\u001b[31m    | Variable | Value                 |\u001b[0m\n",
      "\u001b[1m\u001b[31m    +----------+-----------------------+\u001b[0m\n",
      "\u001b[1m\u001b[31m    | X        | tensor([[-0.6540],    |\u001b[0m\n",
      "\u001b[1m\u001b[31m    |          |         [-1.6095],    |\u001b[0m\n",
      "\u001b[1m\u001b[31m    |          |         [-0.1002],    |\u001b[0m\n",
      "\u001b[1m\u001b[31m    |          |         [-0.6092],    |\u001b[0m\n",
      "\u001b[1m\u001b[31m    |          |         [-0.9798],    |\u001b[0m\n",
      "\u001b[1m\u001b[31m    |          |         [-1.6091],    |\u001b[0m\n",
      "\u001b[1m\u001b[31m    |          |         [...-1.1334], |\u001b[0m\n",
      "\u001b[1m\u001b[31m    |          |         [-0.1010],    |\u001b[0m\n",
      "\u001b[1m\u001b[31m    |          |         [ 0.3434],    |\u001b[0m\n",
      "\u001b[1m\u001b[31m    |          |         [-1.0703],    |\u001b[0m\n",
      "\u001b[1m\u001b[31m    |          |         [-0.8743],    |\u001b[0m\n",
      "\u001b[1m\u001b[31m    |          |         [-1.4648],    |\u001b[0m\n",
      "\u001b[1m\u001b[31m    |          |         [-1.2629]])   |\u001b[0m\n",
      "\u001b[1m\u001b[31m    +----------+-----------------------+\u001b[0m\n",
      "\u001b[1m\u001b[31m    +------------+----------------------+\u001b[0m\n",
      "\u001b[1m\u001b[31m    | Expression | Result               |\u001b[0m\n",
      "\u001b[1m\u001b[31m    +------------+----------------------+\u001b[0m\n",
      "\u001b[1m\u001b[31m    | X.size()   | torch.Size([100, 1]) |\u001b[0m\n",
      "\u001b[1m\u001b[31m    | X[0]       | tensor([-0.6540])    |\u001b[0m\n",
      "\u001b[1m\u001b[31m    | X[-1]      | tensor([-1.2629])    |\u001b[0m\n",
      "\u001b[1m\u001b[31m    +------------+----------------------+\u001b[0m\n"
     ]
    }
   ],
   "source": [
    "X = torch.randn(100, 1)\n",
    "\n",
    "tabulation = Form_Generator()\n",
    "tabulation.heading_printer(\n",
    "    \"Creation of normally distributed data with random numbers\")\n",
    "\n",
    "statement_1 = \"X = torch.randn(100, 1)\"\n",
    "statements = [statement_1]\n",
    "tabulation.statement_generator(statements)\n",
    "\n",
    "variables = [\"X\"]\n",
    "values = [str(reprlib_rules.repr(X))]\n",
    "tabulation.variable_generator(variables, values)\n",
    "\n",
    "expressions = [\"X.size()\", \"X[0]\", \"X[-1]\"]\n",
    "results = [str(X.size()), str(X[0]), str(X[-1])]\n",
    "tabulation.expression_generator(expressions, results)"
   ]
  },
  {
   "cell_type": "code",
   "execution_count": 19,
   "id": "d54f9a3d",
   "metadata": {
    "ExecuteTime": {
     "end_time": "2022-11-18T21:39:45.240006Z",
     "start_time": "2022-11-18T21:39:45.079322Z"
    }
   },
   "outputs": [
    {
     "data": {
      "image/png": "[encoded data removed]",
      "text/plain": [
       "<Figure size 1600x450 with 2 Axes>"
      ]
     },
     "metadata": {},
     "output_type": "display_data"
    }
   ],
   "source": [
    "colors = calm_color_generator(2)\n",
    "plt.rcParams[\"figure.figsize\"] = (figure_size[0], figure_size[1] / 2)\n",
    "\n",
    "fig, axs = plt.subplots(1, 2, sharey=True)\n",
    "\n",
    "X = torch.randn(100, 1) * 10\n",
    "y = X\n",
    "axs[0].plot(X.numpy(), y.numpy(), \"o\", c=colors.pop(0))\n",
    "axs[0].set_title(\"Normally distributed data without bias\",\n",
    "                 loc=\"center\",\n",
    "                 pad=15)\n",
    "\n",
    "y = X + 3 * torch.randn(100, 1)\n",
    "axs[1].plot(X.numpy(), y.numpy(), \"o\", c=colors.pop(0))\n",
    "axs[1].set_title(\"Normally distributed data with bias\", loc=\"center\", pad=15)\n",
    "\n",
    "for ax in axs.flat:\n",
    "    ax.set(xlabel=\"X\", ylabel=\"y\")\n",
    "    ax.label_outer()\n",
    "\n",
    "fig.suptitle(\"Visual Comparison of Normally Distributed Data\",\n",
    "             fontsize=\"x-large\",\n",
    "             x=0.5,\n",
    "             y=0)\n",
    "\n",
    "plt.tight_layout()\n",
    "plt.show()"
   ]
  },
  {
   "cell_type": "code",
   "execution_count": 20,
   "id": "1a46733b",
   "metadata": {
    "ExecuteTime": {
     "end_time": "2022-11-18T21:39:45.246409Z",
     "start_time": "2022-11-18T21:39:45.241458Z"
    }
   },
   "outputs": [
    {
     "name": "stdout",
     "output_type": "stream",
     "text": [
      "\u001b[4m\u001b[35mModel parameter unpacking\u001b[0m\n",
      "\n",
      "\u001b[1m\u001b[35m    +---------------------------+\u001b[0m\n",
      "\u001b[1m\u001b[35m    | Statement                 |\u001b[0m\n",
      "\u001b[1m\u001b[35m    +---------------------------+\u001b[0m\n",
      "\u001b[1m\u001b[35m    | w, b = model.parameters() |\u001b[0m\n",
      "\u001b[1m\u001b[35m    | w1 = w[0][0]              |\u001b[0m\n",
      "\u001b[1m\u001b[35m    | b1 = b[0]                 |\u001b[0m\n",
      "\u001b[1m\u001b[35m    +---------------------------+\u001b[0m\n",
      "\u001b[1m\u001b[35m    +----------+--------------------------------------------+\u001b[0m\n",
      "\u001b[1m\u001b[35m    | Variable | Value                                      |\u001b[0m\n",
      "\u001b[1m\u001b[35m    +----------+--------------------------------------------+\u001b[0m\n",
      "\u001b[1m\u001b[35m    | w        | Parameter containing:                      |\u001b[0m\n",
      "\u001b[1m\u001b[35m    |          | tensor([[0.5153]], requires_grad=True)     |\u001b[0m\n",
      "\u001b[1m\u001b[35m    | b        | Parameter containing:                      |\u001b[0m\n",
      "\u001b[1m\u001b[35m    |          | tensor([-0.4414], requires_grad=True)      |\u001b[0m\n",
      "\u001b[1m\u001b[35m    | w1       | tensor(0.5153, grad_fn=<SelectBackward0>)  |\u001b[0m\n",
      "\u001b[1m\u001b[35m    | b1       | tensor(-0.4414, grad_fn=<SelectBackward0>) |\u001b[0m\n",
      "\u001b[1m\u001b[35m    +----------+--------------------------------------------+\u001b[0m\n"
     ]
    }
   ],
   "source": [
    "w, b = model.parameters()\n",
    "w1 = w[0][0]\n",
    "b1 = b[0]\n",
    "\n",
    "tabulation = Form_Generator()\n",
    "tabulation.heading_printer(\"Model parameter unpacking\")\n",
    "\n",
    "statement_1 = \"w, b = model.parameters()\"\n",
    "statement_2 = \"w1 = w[0][0]\"\n",
    "statement_3 = \"b1 = b[0]\"\n",
    "statements = [statement_1] + [statement_2] + [statement_3]\n",
    "tabulation.statement_generator(statements)\n",
    "\n",
    "variables = [\"w\", \"b\", \"w1\", \"b1\"]\n",
    "values = [str(w), str(b), str(w1), str(b1)]\n",
    "tabulation.variable_generator(variables, values)"
   ]
  },
  {
   "cell_type": "code",
   "execution_count": 21,
   "id": "7bcec66b",
   "metadata": {
    "ExecuteTime": {
     "end_time": "2022-11-18T21:39:45.251231Z",
     "start_time": "2022-11-18T21:39:45.248030Z"
    }
   },
   "outputs": [
    {
     "name": "stdout",
     "output_type": "stream",
     "text": [
      "\u001b[4m\u001b[36mValue extraction by unpacking model parameters\u001b[0m\n",
      "\n",
      "\u001b[1m\u001b[36m    +---------------------+\u001b[0m\n",
      "\u001b[1m\u001b[36m    | Statement           |\u001b[0m\n",
      "\u001b[1m\u001b[36m    +---------------------+\u001b[0m\n",
      "\u001b[1m\u001b[36m    | w1 = w[0][0].item() |\u001b[0m\n",
      "\u001b[1m\u001b[36m    | b1 = b[0].item()    |\u001b[0m\n",
      "\u001b[1m\u001b[36m    +---------------------+\u001b[0m\n",
      "\u001b[1m\u001b[36m    +----------+----------------------+\u001b[0m\n",
      "\u001b[1m\u001b[36m    | Variable | Value                |\u001b[0m\n",
      "\u001b[1m\u001b[36m    +----------+----------------------+\u001b[0m\n",
      "\u001b[1m\u001b[36m    | w1       | 0.5152631998062134   |\u001b[0m\n",
      "\u001b[1m\u001b[36m    | b1       | -0.44137823581695557 |\u001b[0m\n",
      "\u001b[1m\u001b[36m    +----------+----------------------+\u001b[0m\n"
     ]
    }
   ],
   "source": [
    "w1 = w[0][0].item()\n",
    "b1 = b[0].item()\n",
    "\n",
    "tabulation = Form_Generator()\n",
    "tabulation.heading_printer(\"Value extraction by unpacking model parameters\")\n",
    "\n",
    "statement_1 = \"w1 = w[0][0].item()\"\n",
    "statement_2 = \"b1 = b[0].item()\"\n",
    "statements = [statement_1] + [statement_2]\n",
    "tabulation.statement_generator(statements)\n",
    "\n",
    "variables = [\"w1\", \"b1\"]\n",
    "values = [str(w1), str(b1)]\n",
    "tabulation.variable_generator(variables, values)"
   ]
  },
  {
   "cell_type": "code",
   "execution_count": 22,
   "id": "a6c9fc67",
   "metadata": {
    "ExecuteTime": {
     "end_time": "2022-11-18T21:39:45.256866Z",
     "start_time": "2022-11-18T21:39:45.252680Z"
    }
   },
   "outputs": [
    {
     "name": "stdout",
     "output_type": "stream",
     "text": [
      "\u001b[4m\u001b[30mDefinition of visualization function\u001b[0m\n",
      "\n",
      "\u001b[1m\u001b[30m    +------------------------------------------+\u001b[0m\n",
      "\u001b[1m\u001b[30m    | Definition                               |\u001b[0m\n",
      "\u001b[1m\u001b[30m    +------------------------------------------+\u001b[0m\n",
      "\u001b[1m\u001b[30m    | def get_params():                        |\u001b[0m\n",
      "\u001b[1m\u001b[30m    |     return (w[0][0].item(), b[0].item()) |\u001b[0m\n",
      "\u001b[1m\u001b[30m    |                                          |\u001b[0m\n",
      "\u001b[1m\u001b[30m    |                                          |\u001b[0m\n",
      "\u001b[1m\u001b[30m    | def plot_fit(title):                     |\u001b[0m\n",
      "\u001b[1m\u001b[30m    |     global colors                        |\u001b[0m\n",
      "\u001b[1m\u001b[30m    |     plt.title(label=title)               |\u001b[0m\n",
      "\u001b[1m\u001b[30m    |     w1, b1 = get_params()                |\u001b[0m\n",
      "\u001b[1m\u001b[30m    |     X1 = np.array([-30, 30])             |\u001b[0m\n",
      "\u001b[1m\u001b[30m    |     y1 = w1 * X1 + b1                    |\u001b[0m\n",
      "\u001b[1m\u001b[30m    |     plt.plot(X1, y1, c=colors.pop(0))    |\u001b[0m\n",
      "\u001b[1m\u001b[30m    |     plt.scatter(X, y, c=colors.pop(0))   |\u001b[0m\n",
      "\u001b[1m\u001b[30m    +------------------------------------------+\u001b[0m\n"
     ]
    }
   ],
   "source": [
    "def get_params():\n",
    "    return (w[0][0].item(), b[0].item())\n",
    "\n",
    "\n",
    "def plot_fit(title):\n",
    "    global colors\n",
    "    plt.title(label=title)\n",
    "    w1, b1 = get_params()\n",
    "    X1 = np.array([-30, 30])\n",
    "    y1 = w1 * X1 + b1\n",
    "    plt.plot(X1, y1, c=colors.pop(0))\n",
    "    plt.scatter(X, y, c=colors.pop(0))\n",
    "\n",
    "\n",
    "tabulation = Form_Generator()\n",
    "tabulation.heading_printer(\"Definition of visualization function\")\n",
    "\n",
    "definition = \"\"\"\n",
    "def get_params():\n",
    "    return (w[0][0].item(), b[0].item())\n",
    "\n",
    "\n",
    "def plot_fit(title):\n",
    "    global colors\n",
    "    plt.title(label=title)\n",
    "    w1, b1 = get_params()\n",
    "    X1 = np.array([-30, 30])\n",
    "    y1 = w1 * X1 + b1\n",
    "    plt.plot(X1, y1, c=colors.pop(0))\n",
    "    plt.scatter(X, y, c=colors.pop(0))\n",
    "\"\"\"\n",
    "\n",
    "definitions = [definition]\n",
    "tabulation.definition_generator(definitions)"
   ]
  },
  {
   "cell_type": "code",
   "execution_count": 23,
   "id": "48d45bfd",
   "metadata": {
    "ExecuteTime": {
     "end_time": "2022-11-18T21:39:45.329841Z",
     "start_time": "2022-11-18T21:39:45.257708Z"
    },
    "scrolled": false
   },
   "outputs": [
    {
     "data": {
      "image/png": "[encoded data removed]",
      "text/plain": [
       "<Figure size 800x450 with 1 Axes>"
      ]
     },
     "metadata": {},
     "output_type": "display_data"
    }
   ],
   "source": [
    "colors = calm_color_generator(2)\n",
    "plt.rcParams[\"figure.figsize\"] = (figure_size[0] / 2, figure_size[1] / 2)\n",
    "\n",
    "plot_fit(\"Initial Model\")\n",
    "plt.title(plt.gca().get_title(), loc=\"center\", pad=15)\n",
    "\n",
    "plt.xlabel(\"X\")\n",
    "plt.ylabel(\"y\")\n",
    "\n",
    "plt.show()"
   ]
  },
  {
   "cell_type": "code",
   "execution_count": 24,
   "id": "f24b45ba",
   "metadata": {
    "ExecuteTime": {
     "end_time": "2022-11-18T21:39:45.468784Z",
     "start_time": "2022-11-18T21:39:45.330791Z"
    }
   },
   "outputs": [
    {
     "data": {
      "image/png": "[encoded data removed]",
      "text/plain": [
       "<Figure size 1600x450 with 2 Axes>"
      ]
     },
     "metadata": {},
     "output_type": "display_data"
    }
   ],
   "source": [
    "colors = calm_color_generator(4)\n",
    "plt.rcParams[\"figure.figsize\"] = (figure_size[0], figure_size[1] / 2)\n",
    "\n",
    "fig, axs = plt.subplots(1, 2, sharey=True)\n",
    "\n",
    "y = X + 3 * torch.randn(100, 1)\n",
    "plt.subplot(1, 2, 1)\n",
    "plot_fit(\"Initial model\")\n",
    "plt.title(axs[0].get_title(), loc=\"center\", pad=15)\n",
    "\n",
    "plt.subplot(1, 2, 2)\n",
    "X1 = np.array([-30, 30])\n",
    "y1 = X1 + 3 * np.random.randn(2)\n",
    "plt.plot(X1, y1, c=colors.pop(0))\n",
    "plt.scatter(X, y, c=colors.pop(0))\n",
    "plt.title(label=\"Ideal model\")\n",
    "\n",
    "for ax in axs.flat:\n",
    "    ax.set(xlabel=\"X\", ylabel=\"y\")\n",
    "    ax.label_outer()\n",
    "\n",
    "fig.suptitle(\"Visual Comparison of Prediction Models\",\n",
    "             fontsize=\"x-large\",\n",
    "             x=0.5,\n",
    "             y=0)\n",
    "\n",
    "plt.tight_layout()\n",
    "plt.show()"
   ]
  },
  {
   "cell_type": "markdown",
   "id": "dace8ef2",
   "metadata": {
    "ExecuteTime": {
     "end_time": "2022-07-21T02:44:23.523234Z",
     "start_time": "2022-07-21T02:44:23.514722Z"
    }
   },
   "source": [
    "## Training - Code Implementation"
   ]
  },
  {
   "cell_type": "code",
   "execution_count": 25,
   "id": "4719057f",
   "metadata": {
    "ExecuteTime": {
     "end_time": "2022-11-18T21:39:45.472812Z",
     "start_time": "2022-11-18T21:39:45.469919Z"
    }
   },
   "outputs": [
    {
     "name": "stdout",
     "output_type": "stream",
     "text": [
      "\u001b[4m\u001b[33mSpecific configuration settings for the training process\u001b[0m\n",
      "\n",
      "\u001b[1m\u001b[33m    +------------------------------------------------------------+\u001b[0m\n",
      "\u001b[1m\u001b[33m    | Statement                                                  |\u001b[0m\n",
      "\u001b[1m\u001b[33m    +------------------------------------------------------------+\u001b[0m\n",
      "\u001b[1m\u001b[33m    | criterion = nn.MSELoss()                                   |\u001b[0m\n",
      "\u001b[1m\u001b[33m    | optimizer = torch.optim.SGD(model.parameters(), lr=0.0002) |\u001b[0m\n",
      "\u001b[1m\u001b[33m    +------------------------------------------------------------+\u001b[0m\n",
      "\u001b[1m\u001b[33m    +-----------+---------------------------+\u001b[0m\n",
      "\u001b[1m\u001b[33m    | Variable  | Value                     |\u001b[0m\n",
      "\u001b[1m\u001b[33m    +-----------+---------------------------+\u001b[0m\n",
      "\u001b[1m\u001b[33m    | criterion | MSELoss()                 |\u001b[0m\n",
      "\u001b[1m\u001b[33m    | optimizer | SGD (                     |\u001b[0m\n",
      "\u001b[1m\u001b[33m    |           | Parameter Group 0         |\u001b[0m\n",
      "\u001b[1m\u001b[33m    |           |     dampening: 0          |\u001b[0m\n",
      "\u001b[1m\u001b[33m    |           |     differentiable: False |\u001b[0m\n",
      "\u001b[1m\u001b[33m    |           |     foreach: None         |\u001b[0m\n",
      "\u001b[1m\u001b[33m    |           |     lr: 0.0002            |\u001b[0m\n",
      "\u001b[1m\u001b[33m    |           |     maximize: False       |\u001b[0m\n",
      "\u001b[1m\u001b[33m    |           |     momentum: 0           |\u001b[0m\n",
      "\u001b[1m\u001b[33m    |           |     nesterov: False       |\u001b[0m\n",
      "\u001b[1m\u001b[33m    |           |     weight_decay: 0       |\u001b[0m\n",
      "\u001b[1m\u001b[33m    |           | )                         |\u001b[0m\n",
      "\u001b[1m\u001b[33m    +-----------+---------------------------+\u001b[0m\n"
     ]
    }
   ],
   "source": [
    "criterion = nn.MSELoss()\n",
    "optimizer = torch.optim.SGD(model.parameters(), lr=0.0002)\n",
    "\n",
    "tabulation = Form_Generator()\n",
    "tabulation.heading_printer(\n",
    "    \"Specific configuration settings for the training process\")\n",
    "\n",
    "statement_1 = \"criterion = nn.MSELoss()\"\n",
    "statement_2 = \"optimizer = torch.optim.SGD(model.parameters(), lr=0.0002)\"\n",
    "statements = [statement_1] + [statement_2]\n",
    "tabulation.statement_generator(statements)\n",
    "\n",
    "variables = [\"criterion\", \"optimizer\"]\n",
    "values = [str(criterion), str(optimizer)]\n",
    "tabulation.variable_generator(variables, values)"
   ]
  },
  {
   "cell_type": "code",
   "execution_count": null,
   "id": "9c331c24",
   "metadata": {
    "ExecuteTime": {
     "end_time": "2022-11-10T19:12:23.756111Z",
     "start_time": "2022-11-10T19:12:23.745233Z"
    }
   },
   "outputs": [],
   "source": []
  },
  {
   "cell_type": "code",
   "execution_count": 26,
   "id": "2261f02c",
   "metadata": {
    "ExecuteTime": {
     "end_time": "2022-11-18T21:39:45.492686Z",
     "start_time": "2022-11-18T21:39:45.473593Z"
    }
   },
   "outputs": [
    {
     "name": "stdout",
     "output_type": "stream",
     "text": [
      "epoch: 0 loss: 27.121740341186523\n",
      "epoch: 1 loss: 25.835481643676758\n",
      "epoch: 2 loss: 24.644662857055664\n",
      "epoch: 3 loss: 23.542203903198242\n",
      "epoch: 4 loss: 22.521547317504883\n",
      "epoch: 5 loss: 21.576627731323242\n",
      "epoch: 6 loss: 20.701824188232422\n",
      "epoch: 7 loss: 19.89193344116211\n",
      "epoch: 8 loss: 19.142135620117188\n",
      "epoch: 9 loss: 18.447975158691406\n",
      "epoch: 10 loss: 17.805322647094727\n",
      "epoch: 11 loss: 17.21035385131836\n",
      "epoch: 12 loss: 16.659536361694336\n",
      "epoch: 13 loss: 16.149585723876953\n",
      "epoch: 14 loss: 15.677475929260254\n",
      "epoch: 15 loss: 15.240396499633789\n",
      "epoch: 16 loss: 14.835749626159668\n",
      "epoch: 17 loss: 14.461128234863281\n",
      "epoch: 18 loss: 14.114301681518555\n",
      "epoch: 19 loss: 13.793212890625\n",
      "epoch: 20 loss: 13.495948791503906\n",
      "epoch: 21 loss: 13.220743179321289\n",
      "epoch: 22 loss: 12.965958595275879\n",
      "epoch: 23 loss: 12.730076789855957\n",
      "epoch: 24 loss: 12.511699676513672\n",
      "epoch: 25 loss: 12.309523582458496\n",
      "epoch: 26 loss: 12.122353553771973\n",
      "epoch: 27 loss: 11.94906997680664\n",
      "epoch: 28 loss: 11.788640975952148\n",
      "epoch: 29 loss: 11.640119552612305\n",
      "epoch: 30 loss: 11.502616882324219\n",
      "epoch: 31 loss: 11.375316619873047\n",
      "epoch: 32 loss: 11.257462501525879\n",
      "epoch: 33 loss: 11.148350715637207\n",
      "epoch: 34 loss: 11.047338485717773\n",
      "epoch: 35 loss: 10.953819274902344\n",
      "epoch: 36 loss: 10.867239952087402\n",
      "epoch: 37 loss: 10.787086486816406\n",
      "epoch: 38 loss: 10.71287727355957\n",
      "epoch: 39 loss: 10.644176483154297\n",
      "epoch: 40 loss: 10.580571174621582\n",
      "epoch: 41 loss: 10.521685600280762\n",
      "epoch: 42 loss: 10.467171669006348\n",
      "epoch: 43 loss: 10.416701316833496\n",
      "epoch: 44 loss: 10.369976043701172\n",
      "epoch: 45 loss: 10.326717376708984\n",
      "epoch: 46 loss: 10.286665916442871\n",
      "epoch: 47 loss: 10.249588966369629\n",
      "epoch: 48 loss: 10.215262413024902\n",
      "epoch: 49 loss: 10.183483123779297\n",
      "epoch: 50 loss: 10.154060363769531\n",
      "epoch: 51 loss: 10.12682056427002\n",
      "epoch: 52 loss: 10.101602554321289\n",
      "epoch: 53 loss: 10.078255653381348\n",
      "epoch: 54 loss: 10.056640625\n",
      "epoch: 55 loss: 10.036628723144531\n",
      "epoch: 56 loss: 10.018102645874023\n",
      "epoch: 57 loss: 10.00094985961914\n",
      "epoch: 58 loss: 9.985071182250977\n",
      "epoch: 59 loss: 9.970369338989258\n",
      "epoch: 60 loss: 9.956759452819824\n",
      "epoch: 61 loss: 9.944158554077148\n",
      "epoch: 62 loss: 9.932491302490234\n",
      "epoch: 63 loss: 9.921690940856934\n",
      "epoch: 64 loss: 9.911690711975098\n",
      "epoch: 65 loss: 9.902432441711426\n",
      "epoch: 66 loss: 9.893860816955566\n",
      "epoch: 67 loss: 9.885926246643066\n",
      "epoch: 68 loss: 9.878580093383789\n",
      "epoch: 69 loss: 9.871779441833496\n",
      "epoch: 70 loss: 9.865480422973633\n",
      "epoch: 71 loss: 9.859650611877441\n",
      "epoch: 72 loss: 9.854252815246582\n",
      "epoch: 73 loss: 9.849254608154297\n",
      "epoch: 74 loss: 9.844627380371094\n",
      "epoch: 75 loss: 9.840344429016113\n",
      "epoch: 76 loss: 9.836377143859863\n",
      "epoch: 77 loss: 9.832706451416016\n",
      "epoch: 78 loss: 9.829305648803711\n",
      "epoch: 79 loss: 9.826157569885254\n",
      "epoch: 80 loss: 9.823243141174316\n",
      "epoch: 81 loss: 9.820545196533203\n",
      "epoch: 82 loss: 9.818046569824219\n",
      "epoch: 83 loss: 9.815732955932617\n",
      "epoch: 84 loss: 9.813591003417969\n",
      "epoch: 85 loss: 9.81160831451416\n",
      "epoch: 86 loss: 9.809771537780762\n",
      "epoch: 87 loss: 9.808072090148926\n",
      "epoch: 88 loss: 9.806497573852539\n",
      "epoch: 89 loss: 9.80504035949707\n",
      "epoch: 90 loss: 9.803689956665039\n",
      "epoch: 91 loss: 9.802441596984863\n",
      "epoch: 92 loss: 9.801283836364746\n",
      "epoch: 93 loss: 9.800212860107422\n",
      "epoch: 94 loss: 9.799219131469727\n",
      "epoch: 95 loss: 9.798299789428711\n",
      "epoch: 96 loss: 9.797450065612793\n",
      "epoch: 97 loss: 9.796662330627441\n",
      "epoch: 98 loss: 9.795931816101074\n",
      "epoch: 99 loss: 9.795256614685059\n"
     ]
    }
   ],
   "source": [
    "epochs = 100\n",
    "losses = []\n",
    "\n",
    "for i in range(epochs):\n",
    "    y_pred = model.forward(X)\n",
    "    loss = criterion(y_pred, y)\n",
    "    print(\"epoch:\", i, \"loss:\", loss.item())\n",
    "    \n",
    "    \n",
    "    #losses.append(loss)\n",
    "    losses.append(loss.item())\n",
    "    optimizer.zero_grad()\n",
    "    loss.backward()\n",
    "    optimizer.step()"
   ]
  },
  {
   "cell_type": "code",
   "execution_count": 27,
   "id": "f6171492",
   "metadata": {
    "ExecuteTime": {
     "end_time": "2022-11-18T21:39:45.496644Z",
     "start_time": "2022-11-18T21:39:45.493677Z"
    }
   },
   "outputs": [
    {
     "data": {
      "text/plain": [
       "[27.121740341186523,\n",
       " 25.835481643676758,\n",
       " 24.644662857055664,\n",
       " 23.542203903198242,\n",
       " 22.521547317504883,\n",
       " 21.576627731323242,\n",
       " 20.701824188232422,\n",
       " 19.89193344116211,\n",
       " 19.142135620117188,\n",
       " 18.447975158691406,\n",
       " 17.805322647094727,\n",
       " 17.21035385131836,\n",
       " 16.659536361694336,\n",
       " 16.149585723876953,\n",
       " 15.677475929260254,\n",
       " 15.240396499633789,\n",
       " 14.835749626159668,\n",
       " 14.461128234863281,\n",
       " 14.114301681518555,\n",
       " 13.793212890625,\n",
       " 13.495948791503906,\n",
       " 13.220743179321289,\n",
       " 12.965958595275879,\n",
       " 12.730076789855957,\n",
       " 12.511699676513672,\n",
       " 12.309523582458496,\n",
       " 12.122353553771973,\n",
       " 11.94906997680664,\n",
       " 11.788640975952148,\n",
       " 11.640119552612305,\n",
       " 11.502616882324219,\n",
       " 11.375316619873047,\n",
       " 11.257462501525879,\n",
       " 11.148350715637207,\n",
       " 11.047338485717773,\n",
       " 10.953819274902344,\n",
       " 10.867239952087402,\n",
       " 10.787086486816406,\n",
       " 10.71287727355957,\n",
       " 10.644176483154297,\n",
       " 10.580571174621582,\n",
       " 10.521685600280762,\n",
       " 10.467171669006348,\n",
       " 10.416701316833496,\n",
       " 10.369976043701172,\n",
       " 10.326717376708984,\n",
       " 10.286665916442871,\n",
       " 10.249588966369629,\n",
       " 10.215262413024902,\n",
       " 10.183483123779297,\n",
       " 10.154060363769531,\n",
       " 10.12682056427002,\n",
       " 10.101602554321289,\n",
       " 10.078255653381348,\n",
       " 10.056640625,\n",
       " 10.036628723144531,\n",
       " 10.018102645874023,\n",
       " 10.00094985961914,\n",
       " 9.985071182250977,\n",
       " 9.970369338989258,\n",
       " 9.956759452819824,\n",
       " 9.944158554077148,\n",
       " 9.932491302490234,\n",
       " 9.921690940856934,\n",
       " 9.911690711975098,\n",
       " 9.902432441711426,\n",
       " 9.893860816955566,\n",
       " 9.885926246643066,\n",
       " 9.878580093383789,\n",
       " 9.871779441833496,\n",
       " 9.865480422973633,\n",
       " 9.859650611877441,\n",
       " 9.854252815246582,\n",
       " 9.849254608154297,\n",
       " 9.844627380371094,\n",
       " 9.840344429016113,\n",
       " 9.836377143859863,\n",
       " 9.832706451416016,\n",
       " 9.829305648803711,\n",
       " 9.826157569885254,\n",
       " 9.823243141174316,\n",
       " 9.820545196533203,\n",
       " 9.818046569824219,\n",
       " 9.815732955932617,\n",
       " 9.813591003417969,\n",
       " 9.81160831451416,\n",
       " 9.809771537780762,\n",
       " 9.808072090148926,\n",
       " 9.806497573852539,\n",
       " 9.80504035949707,\n",
       " 9.803689956665039,\n",
       " 9.802441596984863,\n",
       " 9.801283836364746,\n",
       " 9.800212860107422,\n",
       " 9.799219131469727,\n",
       " 9.798299789428711,\n",
       " 9.797450065612793,\n",
       " 9.796662330627441,\n",
       " 9.795931816101074,\n",
       " 9.795256614685059]"
      ]
     },
     "execution_count": 27,
     "metadata": {},
     "output_type": "execute_result"
    }
   ],
   "source": [
    "losses"
   ]
  },
  {
   "cell_type": "code",
   "execution_count": null,
   "id": "44b28709",
   "metadata": {
    "ExecuteTime": {
     "end_time": "2022-11-17T22:47:46.166697Z",
     "start_time": "2022-11-17T22:47:46.166690Z"
    }
   },
   "outputs": [],
   "source": []
  },
  {
   "cell_type": "code",
   "execution_count": null,
   "id": "bffc2d3d",
   "metadata": {
    "ExecuteTime": {
     "end_time": "2022-11-17T22:47:46.167578Z",
     "start_time": "2022-11-17T22:47:46.167569Z"
    }
   },
   "outputs": [],
   "source": []
  },
  {
   "cell_type": "code",
   "execution_count": 28,
   "id": "b5e61720",
   "metadata": {
    "ExecuteTime": {
     "end_time": "2022-11-18T21:39:45.619520Z",
     "start_time": "2022-11-18T21:39:45.501892Z"
    }
   },
   "outputs": [
    {
     "data": {
      "text/plain": [
       "Text(0.5, 0, 'Epoch')"
      ]
     },
     "execution_count": 28,
     "metadata": {},
     "output_type": "execute_result"
    },
    {
     "data": {
      "image/png": "[encoded data removed]",
      "text/plain": [
       "<Figure size 1600x450 with 1 Axes>"
      ]
     },
     "metadata": {},
     "output_type": "display_data"
    }
   ],
   "source": [
    "colors = calm_color_generator(1)\n",
    "plt.plot(range(epochs), losses, c=colors[0])\n",
    "plt.ylabel(\"Loss\")\n",
    "plt.xlabel(\"Epoch\")"
   ]
  },
  {
   "cell_type": "code",
   "execution_count": 29,
   "id": "9b55a6b1",
   "metadata": {
    "ExecuteTime": {
     "end_time": "2022-11-18T21:39:45.622171Z",
     "start_time": "2022-11-18T21:39:45.620504Z"
    }
   },
   "outputs": [],
   "source": [
    "import random\n",
    "\n",
    "from termcolor import colored"
   ]
  },
  {
   "cell_type": "code",
   "execution_count": 30,
   "id": "9567255f",
   "metadata": {
    "ExecuteTime": {
     "end_time": "2022-11-18T21:39:45.632451Z",
     "start_time": "2022-11-18T21:39:45.622968Z"
    }
   },
   "outputs": [
    {
     "name": "stdout",
     "output_type": "stream",
     "text": [
      "\u001b[1m\u001b[33mepoch:\u001b[0m 1 \u001b[30mloss:\u001b[0m 9.79463005065918\n",
      "\u001b[30mweight:\u001b[0m 0.9343898296356201 \u001b[30mbias:\u001b[0m -0.4450388252735138\n",
      "\u001b[1m\u001b[33mepoch:\u001b[0m 10 \u001b[30mloss:\u001b[0m 9.790715217590332\n",
      "\u001b[30mweight:\u001b[0m 0.9370473027229309 \u001b[30mbias:\u001b[0m -0.44526398181915283\n",
      "\u001b[1m\u001b[33mepoch:\u001b[0m 20 \u001b[30mloss:\u001b[0m 9.788599967956543\n",
      "\u001b[30mweight:\u001b[0m 0.9390966892242432 \u001b[30mbias:\u001b[0m -0.4455106556415558\n",
      "\u001b[1m\u001b[33mepoch:\u001b[0m 30 \u001b[30mloss:\u001b[0m 9.787605285644531\n",
      "\u001b[30mweight:\u001b[0m 0.9404903650283813 \u001b[30mbias:\u001b[0m -0.4457544982433319\n",
      "\u001b[1m\u001b[33mepoch:\u001b[0m 40 \u001b[30mloss:\u001b[0m 9.787130355834961\n",
      "\u001b[30mweight:\u001b[0m 0.9414380192756653 \u001b[30mbias:\u001b[0m -0.44599613547325134\n",
      "\u001b[1m\u001b[33mepoch:\u001b[0m 50 \u001b[30mloss:\u001b[0m 9.786894798278809\n",
      "\u001b[30mweight:\u001b[0m 0.9420823454856873 \u001b[30mbias:\u001b[0m -0.4462359547615051\n",
      "\u001b[1m\u001b[33mepoch:\u001b[0m 60 \u001b[30mloss:\u001b[0m 9.786771774291992\n",
      "\u001b[30mweight:\u001b[0m 0.9425203204154968 \u001b[30mbias:\u001b[0m -0.44647422432899475\n",
      "\u001b[1m\u001b[33mepoch:\u001b[0m 70 \u001b[30mloss:\u001b[0m 9.786700248718262\n",
      "\u001b[30mweight:\u001b[0m 0.9428180456161499 \u001b[30mbias:\u001b[0m -0.4467111825942993\n",
      "\u001b[1m\u001b[33mepoch:\u001b[0m 80 \u001b[30mloss:\u001b[0m 9.786651611328125\n",
      "\u001b[30mweight:\u001b[0m 0.9430201649665833 \u001b[30mbias:\u001b[0m -0.446946918964386\n",
      "\u001b[1m\u001b[33mepoch:\u001b[0m 90 \u001b[30mloss:\u001b[0m 9.786613464355469\n",
      "\u001b[30mweight:\u001b[0m 0.9431574940681458 \u001b[30mbias:\u001b[0m -0.4471815526485443\n",
      "\u001b[1m\u001b[33mepoch:\u001b[0m 100 \u001b[30mloss:\u001b[0m 9.786582946777344\n",
      "\u001b[30mweight:\u001b[0m 0.9432506561279297 \u001b[30mbias:\u001b[0m -0.4474151134490967\n"
     ]
    }
   ],
   "source": [
    "epochs = 100\n",
    "losses = []\n",
    "termcolors = [\n",
    "    \"grey\", \"red\", \"green\", \"yellow\", \"blue\", \"magenta\", \"cyan\", \"white\"\n",
    "]\n",
    "font_colors = random.choices(termcolors, k=2)\n",
    "for i in range(epochs):\n",
    "    i += 1\n",
    "    y_pred = model.forward(X)\n",
    "    loss = criterion(y_pred, y)\n",
    "    if i == 1 or i % 10 == 0:\n",
    "        print(colored(\"epoch:\", font_colors[0], attrs=[\"bold\"]), i,\n",
    "              colored(\"loss:\", font_colors[1]), loss.item())\n",
    "        print(colored(\"weight:\", font_colors[1]),\n",
    "              list(model.parameters())[0][0][0].item(),\n",
    "              colored(\"bias:\", font_colors[1]),\n",
    "              list(model.parameters())[1][0].item())\n",
    "    losses.append(loss.item())\n",
    "    optimizer.zero_grad()\n",
    "    loss.backward()\n",
    "    optimizer.step()"
   ]
  },
  {
   "cell_type": "code",
   "execution_count": 31,
   "id": "0870e46b",
   "metadata": {
    "ExecuteTime": {
     "end_time": "2022-11-18T21:39:45.723656Z",
     "start_time": "2022-11-18T21:39:45.633468Z"
    }
   },
   "outputs": [
    {
     "data": {
      "image/png": "[encoded data removed]",
      "text/plain": [
       "<Figure size 1600x450 with 1 Axes>"
      ]
     },
     "metadata": {},
     "output_type": "display_data"
    }
   ],
   "source": [
    "colors = calm_color_generator(2)\n",
    "plot_fit(\"Trained Model\")"
   ]
  },
  {
   "cell_type": "code",
   "execution_count": null,
   "id": "d063ea85",
   "metadata": {},
   "outputs": [],
   "source": []
  }
 ],
 "metadata": {
  "hide_input": false,
  "kernelspec": {
   "display_name": "Python 3 (ipykernel)",
   "language": "python",
   "name": "python3"
  },
  "language_info": {
   "codemirror_mode": {
    "name": "ipython",
    "version": 3
   },
   "file_extension": ".py",
   "mimetype": "text/x-python",
   "name": "python",
   "nbconvert_exporter": "python",
   "pygments_lexer": "ipython3",
   "version": "3.9.13"
  },
  "latex_envs": {
   "LaTeX_envs_menu_present": true,
   "autoclose": false,
   "autocomplete": true,
   "bibliofile": "biblio.bib",
   "cite_by": "apalike",
   "current_citInitial": 1,
   "eqLabelWithNumbers": true,
   "eqNumInitial": 1,
   "hotkeys": {
    "equation": "Ctrl-E",
    "itemize": "Ctrl-I"
   },
   "labels_anchors": false,
   "latex_user_defs": false,
   "report_style_numbering": false,
   "user_envs_cfg": false
  },
  "nbTranslate": {
   "displayLangs": [
    "*"
   ],
   "hotkey": "alt-t",
   "langInMainMenu": true,
   "sourceLang": "en",
   "targetLang": "fr",
   "useGoogleTranslate": true
  },
  "toc": {
   "base_numbering": 1,
   "nav_menu": {},
   "number_sections": true,
   "sideBar": true,
   "skip_h1_title": false,
   "title_cell": "Table of Contents",
   "title_sidebar": "Contents",
   "toc_cell": false,
   "toc_position": {
    "height": "calc(100% - 180px)",
    "left": "10px",
    "top": "150px",
    "width": "345.594px"
   },
   "toc_section_display": true,
   "toc_window_display": true
  },
  "varInspector": {
   "cols": {
    "lenName": 16,
    "lenType": 16,
    "lenVar": 40
   },
   "kernels_config": {
    "python": {
     "delete_cmd_postfix": "",
     "delete_cmd_prefix": "del ",
     "library": "var_list.py",
     "varRefreshCmd": "print(var_dic_list())"
    },
    "r": {
     "delete_cmd_postfix": ") ",
     "delete_cmd_prefix": "rm(",
     "library": "var_list.r",
     "varRefreshCmd": "cat(var_dic_list()) "
    }
   },
   "types_to_exclude": [
    "module",
    "function",
    "builtin_function_or_method",
    "instance",
    "_Feature"
   ],
   "window_display": false
  },
  "vscode": {
   "interpreter": {
    "hash": "4df6db6ee61ecce594abe4a5126666f3650dd9429b0086e59af8e3f897fc7111"
   }
  }
 },
 "nbformat": 4,
 "nbformat_minor": 5
}

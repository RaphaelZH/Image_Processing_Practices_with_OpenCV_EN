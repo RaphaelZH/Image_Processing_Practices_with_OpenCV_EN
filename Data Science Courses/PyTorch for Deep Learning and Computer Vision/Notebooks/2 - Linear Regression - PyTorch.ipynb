{
 "cells": [
  {
   "cell_type": "markdown",
   "id": "5fdb7bb7",
   "metadata": {},
   "source": [
    "# Importing Libraries"
   ]
  },
  {
   "cell_type": "code",
   "execution_count": 1,
   "id": "07cd4ffb",
   "metadata": {
    "ExecuteTime": {
     "end_time": "2022-11-20T21:32:36.781541Z",
     "start_time": "2022-11-20T21:32:35.800344Z"
    }
   },
   "outputs": [],
   "source": [
    "import torch\n",
    "from torch import nn\n",
    "\n",
    "import numpy as np\n",
    "\n",
    "import matplotlib as mpl\n",
    "import matplotlib.pyplot as plt\n",
    "\n",
    "import reprlib\n",
    "import sys"
   ]
  },
  {
   "cell_type": "markdown",
   "id": "5094fde5",
   "metadata": {},
   "source": [
    "# Configuring Visualization Parameters"
   ]
  },
  {
   "cell_type": "code",
   "execution_count": 2,
   "id": "d6dd7c45",
   "metadata": {
    "ExecuteTime": {
     "end_time": "2022-11-20T21:32:36.790877Z",
     "start_time": "2022-11-20T21:32:36.782816Z"
    }
   },
   "outputs": [],
   "source": [
    "%matplotlib inline"
   ]
  },
  {
   "cell_type": "code",
   "execution_count": 3,
   "id": "5d4894ab",
   "metadata": {
    "ExecuteTime": {
     "end_time": "2022-11-20T21:32:36.793269Z",
     "start_time": "2022-11-20T21:32:36.791710Z"
    }
   },
   "outputs": [],
   "source": [
    "XINHUI = \"#7a7374\"\n",
    "XUEBAI = \"#fffef9\"\n",
    "YINBAI = \"#f1f0ed\"\n",
    "YINHUI = \"#918072\"\n",
    "\n",
    "figure_size = (16, 9)"
   ]
  },
  {
   "cell_type": "code",
   "execution_count": 4,
   "id": "6f7198a8",
   "metadata": {
    "ExecuteTime": {
     "end_time": "2022-11-20T21:32:36.797021Z",
     "start_time": "2022-11-20T21:32:36.794852Z"
    }
   },
   "outputs": [],
   "source": [
    "custom_params = {\n",
    "    \"axes.axisbelow\": True,\n",
    "    \"axes.edgecolor\": YINBAI,\n",
    "    \"axes.facecolor\": XUEBAI,\n",
    "    \"axes.grid\": True,\n",
    "    \"axes.labelcolor\": XINHUI,\n",
    "    \"axes.spines.right\": False,\n",
    "    \"axes.spines.top\": False,\n",
    "    \"axes.titlecolor\": XINHUI,\n",
    "    \"figure.edgecolor\": YINBAI,\n",
    "    \"figure.facecolor\": XUEBAI,\n",
    "    \"grid.alpha\": .8,\n",
    "    \"grid.color\": YINBAI,\n",
    "    \"grid.linestyle\": \"--\",\n",
    "    \"grid.linewidth\": 1.2,\n",
    "    \"legend.edgecolor\": YINHUI,\n",
    "    \"patch.edgecolor\": XUEBAI,\n",
    "    \"patch.force_edgecolor\": True,\n",
    "    \"text.color\": XINHUI,\n",
    "    \"xtick.color\": YINHUI,\n",
    "    \"ytick.color\": YINHUI,\n",
    "}\n",
    "\n",
    "mpl.rcParams.update(custom_params)"
   ]
  },
  {
   "cell_type": "markdown",
   "id": "e39283da",
   "metadata": {},
   "source": [
    "# Configuring Other Notebook Parameters"
   ]
  },
  {
   "cell_type": "code",
   "execution_count": 5,
   "id": "1721c976",
   "metadata": {
    "ExecuteTime": {
     "end_time": "2022-11-20T21:32:36.799532Z",
     "start_time": "2022-11-20T21:32:36.797911Z"
    }
   },
   "outputs": [],
   "source": [
    "reprlib_rules = reprlib.Repr()\n",
    "reprlib_rules.maxother = 250"
   ]
  },
  {
   "cell_type": "markdown",
   "id": "77cdea15",
   "metadata": {},
   "source": [
    "# Pre-installing Custom Functions"
   ]
  },
  {
   "cell_type": "code",
   "execution_count": 6,
   "id": "1f6ac6d5",
   "metadata": {
    "ExecuteTime": {
     "end_time": "2022-11-20T21:32:36.801820Z",
     "start_time": "2022-11-20T21:32:36.800438Z"
    }
   },
   "outputs": [],
   "source": [
    "sys.path.append(\"../\")"
   ]
  },
  {
   "cell_type": "code",
   "execution_count": 7,
   "id": "ab3f4e6c",
   "metadata": {
    "ExecuteTime": {
     "end_time": "2022-11-20T21:32:36.808887Z",
     "start_time": "2022-11-20T21:32:36.802771Z"
    }
   },
   "outputs": [],
   "source": [
    "from Modules import *"
   ]
  },
  {
   "cell_type": "markdown",
   "id": "00dd6868",
   "metadata": {},
   "source": [
    "# Practicing in Stages\n",
    "\n",
    "## Making Predictions"
   ]
  },
  {
   "cell_type": "code",
   "execution_count": 8,
   "id": "002025a7",
   "metadata": {
    "ExecuteTime": {
     "end_time": "2022-11-20T21:32:36.812601Z",
     "start_time": "2022-11-20T21:32:36.809798Z"
    },
    "code_folding": [],
    "hide_input": false,
    "scrolled": false
   },
   "outputs": [
    {
     "name": "stdout",
     "output_type": "stream",
     "text": [
      "\u001b[4m\u001b[31mDefinition of prediction function\u001b[0m\n",
      "\n",
      "\u001b[1m\u001b[31m    +-------------------+\u001b[0m\n",
      "\u001b[1m\u001b[31m    | Definition        |\u001b[0m\n",
      "\u001b[1m\u001b[31m    +-------------------+\u001b[0m\n",
      "\u001b[1m\u001b[31m    | def forward(x):   |\u001b[0m\n",
      "\u001b[1m\u001b[31m    |     y = w * x + b |\u001b[0m\n",
      "\u001b[1m\u001b[31m    |     return y      |\u001b[0m\n",
      "\u001b[1m\u001b[31m    +-------------------+\u001b[0m\n"
     ]
    }
   ],
   "source": [
    "def forward(x):\n",
    "    y = w * x + b\n",
    "    return y\n",
    "\n",
    "\n",
    "tabulation = Form_Generator()\n",
    "tabulation.heading_printer(\"Definition of prediction function\")\n",
    "\n",
    "definition = \"\"\"\n",
    "def forward(x):\n",
    "    y = w * x + b\n",
    "    return y\n",
    "\"\"\"\n",
    "definitions = [definition]\n",
    "tabulation.definition_generator(definitions)"
   ]
  },
  {
   "cell_type": "code",
   "execution_count": 9,
   "id": "6b34b014",
   "metadata": {
    "ExecuteTime": {
     "end_time": "2022-11-20T21:32:36.817211Z",
     "start_time": "2022-11-20T21:32:36.813429Z"
    },
    "hide_input": false
   },
   "outputs": [
    {
     "name": "stdout",
     "output_type": "stream",
     "text": [
      "\u001b[4m\u001b[35mInitial assignment of parameters\u001b[0m\n",
      "\n",
      "\u001b[1m\u001b[35m    +-------------------------------------------+\u001b[0m\n",
      "\u001b[1m\u001b[35m    | Statement                                 |\u001b[0m\n",
      "\u001b[1m\u001b[35m    +-------------------------------------------+\u001b[0m\n",
      "\u001b[1m\u001b[35m    | w = torch.tensor(3.0, requires_grad=True) |\u001b[0m\n",
      "\u001b[1m\u001b[35m    | b = torch.tensor(1.0, requires_grad=True) |\u001b[0m\n",
      "\u001b[1m\u001b[35m    +-------------------------------------------+\u001b[0m\n",
      "\u001b[1m\u001b[35m    +----------+--------------------------------+\u001b[0m\n",
      "\u001b[1m\u001b[35m    | Variable | Value                          |\u001b[0m\n",
      "\u001b[1m\u001b[35m    +----------+--------------------------------+\u001b[0m\n",
      "\u001b[1m\u001b[35m    | w        | tensor(3., requires_grad=True) |\u001b[0m\n",
      "\u001b[1m\u001b[35m    | b        | tensor(1., requires_grad=True) |\u001b[0m\n",
      "\u001b[1m\u001b[35m    +----------+--------------------------------+\u001b[0m\n"
     ]
    }
   ],
   "source": [
    "w = torch.tensor(3.0, requires_grad=True)\n",
    "b = torch.tensor(1.0, requires_grad=True)\n",
    "\n",
    "tabulation = Form_Generator()\n",
    "tabulation.heading_printer(\"Initial assignment of parameters\")\n",
    "\n",
    "statement_1 = \"w = torch.tensor(3.0, requires_grad=True)\"\n",
    "statement_2 = \"b = torch.tensor(1.0, requires_grad=True)\"\n",
    "statements = [statement_1] + [statement_2]\n",
    "tabulation.statement_generator(statements)\n",
    "\n",
    "variables = [\"w\", \"b\"]\n",
    "values = [str(w), str(b)]\n",
    "tabulation.variable_generator(variables, values)"
   ]
  },
  {
   "cell_type": "code",
   "execution_count": 10,
   "id": "a3e6732f",
   "metadata": {
    "ExecuteTime": {
     "end_time": "2022-11-20T21:32:36.822631Z",
     "start_time": "2022-11-20T21:32:36.819344Z"
    },
    "hide_input": false
   },
   "outputs": [
    {
     "name": "stdout",
     "output_type": "stream",
     "text": [
      "\u001b[4m\u001b[32mFunction implementation with 0D tensor\u001b[0m\n",
      "\n",
      "\u001b[1m\u001b[32m    +---------------------+\u001b[0m\n",
      "\u001b[1m\u001b[32m    | Statement           |\u001b[0m\n",
      "\u001b[1m\u001b[32m    +---------------------+\u001b[0m\n",
      "\u001b[1m\u001b[32m    | x = torch.tensor(2) |\u001b[0m\n",
      "\u001b[1m\u001b[32m    +---------------------+\u001b[0m\n",
      "\u001b[1m\u001b[32m    +----------+-----------+\u001b[0m\n",
      "\u001b[1m\u001b[32m    | Variable | Value     |\u001b[0m\n",
      "\u001b[1m\u001b[32m    +----------+-----------+\u001b[0m\n",
      "\u001b[1m\u001b[32m    | x        | tensor(2) |\u001b[0m\n",
      "\u001b[1m\u001b[32m    +----------+-----------+\u001b[0m\n",
      "\u001b[1m\u001b[32m    +------------+------------------------------------+\u001b[0m\n",
      "\u001b[1m\u001b[32m    | Expression | Result                             |\u001b[0m\n",
      "\u001b[1m\u001b[32m    +------------+------------------------------------+\u001b[0m\n",
      "\u001b[1m\u001b[32m    | forward(x) | tensor(7., grad_fn=<AddBackward0>) |\u001b[0m\n",
      "\u001b[1m\u001b[32m    +------------+------------------------------------+\u001b[0m\n"
     ]
    }
   ],
   "source": [
    "x = torch.tensor(2)\n",
    "\n",
    "tabulation = Form_Generator()\n",
    "tabulation.heading_printer(\"Function implementation with 0D tensor\")\n",
    "\n",
    "statement_1 = \"x = torch.tensor(2)\"\n",
    "statements = [statement_1]\n",
    "tabulation.statement_generator(statements)\n",
    "\n",
    "variables = [\"x\"]\n",
    "values = [str(x)]\n",
    "tabulation.variable_generator(variables, values)\n",
    "\n",
    "expressions = [\"forward(x)\"]\n",
    "results = [str(forward(x))]\n",
    "tabulation.expression_generator(expressions, results)"
   ]
  },
  {
   "cell_type": "code",
   "execution_count": 11,
   "id": "5e292920",
   "metadata": {
    "ExecuteTime": {
     "end_time": "2022-11-20T21:32:36.826979Z",
     "start_time": "2022-11-20T21:32:36.823401Z"
    },
    "hide_input": false
   },
   "outputs": [
    {
     "name": "stdout",
     "output_type": "stream",
     "text": [
      "\u001b[4m\u001b[30mFunction implementation with multi-D tensor\u001b[0m\n",
      "\n",
      "\u001b[1m\u001b[30m    +------------------------------+\u001b[0m\n",
      "\u001b[1m\u001b[30m    | Statement                    |\u001b[0m\n",
      "\u001b[1m\u001b[30m    +------------------------------+\u001b[0m\n",
      "\u001b[1m\u001b[30m    | x = torch.tensor([[4], [7]]) |\u001b[0m\n",
      "\u001b[1m\u001b[30m    +------------------------------+\u001b[0m\n",
      "\u001b[1m\u001b[30m    +----------+---------------+\u001b[0m\n",
      "\u001b[1m\u001b[30m    | Variable | Value         |\u001b[0m\n",
      "\u001b[1m\u001b[30m    +----------+---------------+\u001b[0m\n",
      "\u001b[1m\u001b[30m    | x        | tensor([[4],  |\u001b[0m\n",
      "\u001b[1m\u001b[30m    |          |         [7]]) |\u001b[0m\n",
      "\u001b[1m\u001b[30m    +----------+---------------+\u001b[0m\n",
      "\u001b[1m\u001b[30m    +------------+-----------------------------------------+\u001b[0m\n",
      "\u001b[1m\u001b[30m    | Expression | Result                                  |\u001b[0m\n",
      "\u001b[1m\u001b[30m    +------------+-----------------------------------------+\u001b[0m\n",
      "\u001b[1m\u001b[30m    | forward(x) | tensor([[13.],                          |\u001b[0m\n",
      "\u001b[1m\u001b[30m    |            |         [22.]], grad_fn=<AddBackward0>) |\u001b[0m\n",
      "\u001b[1m\u001b[30m    +------------+-----------------------------------------+\u001b[0m\n"
     ]
    }
   ],
   "source": [
    "x = torch.tensor([[4], [7]])\n",
    "\n",
    "tabulation = Form_Generator()\n",
    "tabulation.heading_printer(\"Function implementation with multi-D tensor\")\n",
    "\n",
    "statement_1 = \"x = torch.tensor([[4], [7]])\"\n",
    "statements = [statement_1]\n",
    "tabulation.statement_generator(statements)\n",
    "\n",
    "variables = [\"x\"]\n",
    "values = [str(x)]\n",
    "tabulation.variable_generator(variables, values)\n",
    "\n",
    "expressions = [\"forward(x)\"]\n",
    "results = [str(forward(x))]\n",
    "tabulation.expression_generator(expressions, results)"
   ]
  },
  {
   "cell_type": "markdown",
   "id": "010e1216",
   "metadata": {},
   "source": [
    "## Linear Class"
   ]
  },
  {
   "cell_type": "code",
   "execution_count": 12,
   "id": "06a3a62c",
   "metadata": {
    "ExecuteTime": {
     "end_time": "2022-11-20T21:32:36.832341Z",
     "start_time": "2022-11-20T21:32:36.827929Z"
    }
   },
   "outputs": [
    {
     "name": "stdout",
     "output_type": "stream",
     "text": [
      "\u001b[4m\u001b[33mInitialization of standard linear model\u001b[0m\n",
      "\n",
      "\u001b[1m\u001b[33m    +--------------------------------------------------+\u001b[0m\n",
      "\u001b[1m\u001b[33m    | Statement                                        |\u001b[0m\n",
      "\u001b[1m\u001b[33m    +--------------------------------------------------+\u001b[0m\n",
      "\u001b[1m\u001b[33m    | torch.manual_seed(1)                             |\u001b[0m\n",
      "\u001b[1m\u001b[33m    | model = nn.Linear(in_features=1, out_features=1) |\u001b[0m\n",
      "\u001b[1m\u001b[33m    +--------------------------------------------------+\u001b[0m\n",
      "\u001b[1m\u001b[33m    +----------+--------------------------------------------------+\u001b[0m\n",
      "\u001b[1m\u001b[33m    | Variable | Value                                            |\u001b[0m\n",
      "\u001b[1m\u001b[33m    +----------+--------------------------------------------------+\u001b[0m\n",
      "\u001b[1m\u001b[33m    | model    | Linear(in_features=1, out_features=1, bias=True) |\u001b[0m\n",
      "\u001b[1m\u001b[33m    +----------+--------------------------------------------------+\u001b[0m\n",
      "\u001b[1m\u001b[33m    +--------------+----------------------------------------+\u001b[0m\n",
      "\u001b[1m\u001b[33m    | Expression   | Result                                 |\u001b[0m\n",
      "\u001b[1m\u001b[33m    +--------------+----------------------------------------+\u001b[0m\n",
      "\u001b[1m\u001b[33m    | model.weight | Parameter containing:                  |\u001b[0m\n",
      "\u001b[1m\u001b[33m    |              | tensor([[0.5153]], requires_grad=True) |\u001b[0m\n",
      "\u001b[1m\u001b[33m    | model.bias   | Parameter containing:                  |\u001b[0m\n",
      "\u001b[1m\u001b[33m    |              | tensor([-0.4414], requires_grad=True)  |\u001b[0m\n",
      "\u001b[1m\u001b[33m    +--------------+----------------------------------------+\u001b[0m\n"
     ]
    }
   ],
   "source": [
    "torch.manual_seed(1)\n",
    "model = nn.Linear(in_features=1, out_features=1)\n",
    "\n",
    "tabulation = Form_Generator()\n",
    "tabulation.heading_printer(\"Initialization of standard linear model\")\n",
    "\n",
    "statement_1 = \"torch.manual_seed(1)\"\n",
    "statement_2 = \"model = nn.Linear(in_features=1, out_features=1)\"\n",
    "statements = [statement_1] + [statement_2]\n",
    "tabulation.statement_generator(statements)\n",
    "\n",
    "variables = [\"model\"]\n",
    "values = [str(model)]\n",
    "tabulation.variable_generator(variables, values)\n",
    "\n",
    "expressions = [\"model.weight\", \"model.bias\"]\n",
    "results = [str(model.weight), str(model.bias)]\n",
    "tabulation.expression_generator(expressions, results)"
   ]
  },
  {
   "cell_type": "code",
   "execution_count": 13,
   "id": "664fbcd2",
   "metadata": {
    "ExecuteTime": {
     "end_time": "2022-11-20T21:32:36.836570Z",
     "start_time": "2022-11-20T21:32:36.833230Z"
    }
   },
   "outputs": [
    {
     "name": "stdout",
     "output_type": "stream",
     "text": [
      "\u001b[4m\u001b[34mModel implementation with 1D tensor\u001b[0m\n",
      "\n",
      "\u001b[1m\u001b[34m    +-------------------------+\u001b[0m\n",
      "\u001b[1m\u001b[34m    | Statement               |\u001b[0m\n",
      "\u001b[1m\u001b[34m    +-------------------------+\u001b[0m\n",
      "\u001b[1m\u001b[34m    | x = torch.tensor([2.0]) |\u001b[0m\n",
      "\u001b[1m\u001b[34m    +-------------------------+\u001b[0m\n",
      "\u001b[1m\u001b[34m    +----------+--------------+\u001b[0m\n",
      "\u001b[1m\u001b[34m    | Variable | Value        |\u001b[0m\n",
      "\u001b[1m\u001b[34m    +----------+--------------+\u001b[0m\n",
      "\u001b[1m\u001b[34m    | x        | tensor([2.]) |\u001b[0m\n",
      "\u001b[1m\u001b[34m    +----------+--------------+\u001b[0m\n",
      "\u001b[1m\u001b[34m    +------------+------------------------------------------+\u001b[0m\n",
      "\u001b[1m\u001b[34m    | Expression | Result                                   |\u001b[0m\n",
      "\u001b[1m\u001b[34m    +------------+------------------------------------------+\u001b[0m\n",
      "\u001b[1m\u001b[34m    | model(x)   | tensor([0.5891], grad_fn=<AddBackward0>) |\u001b[0m\n",
      "\u001b[1m\u001b[34m    +------------+------------------------------------------+\u001b[0m\n"
     ]
    }
   ],
   "source": [
    "x = torch.tensor([2.0])\n",
    "\n",
    "tabulation = Form_Generator()\n",
    "tabulation.heading_printer(\"Model implementation with 1D tensor\")\n",
    "\n",
    "statement_1 = \"x = torch.tensor([2.0])\"\n",
    "statements = [statement_1]\n",
    "tabulation.statement_generator(statements)\n",
    "\n",
    "variables = [\"x\"]\n",
    "values = [str(x)]\n",
    "tabulation.variable_generator(variables, values)\n",
    "\n",
    "expressions = [\"model(x)\"]\n",
    "results = [str(model(x))]\n",
    "tabulation.expression_generator(expressions, results)"
   ]
  },
  {
   "cell_type": "code",
   "execution_count": 14,
   "id": "ab5dcc5b",
   "metadata": {
    "ExecuteTime": {
     "end_time": "2022-11-20T21:32:36.840433Z",
     "start_time": "2022-11-20T21:32:36.837435Z"
    }
   },
   "outputs": [
    {
     "name": "stdout",
     "output_type": "stream",
     "text": [
      "\u001b[4m\u001b[36mModel implementation with multi-D tensor\u001b[0m\n",
      "\n",
      "\u001b[1m\u001b[36m    +----------------------------------+\u001b[0m\n",
      "\u001b[1m\u001b[36m    | Statement                        |\u001b[0m\n",
      "\u001b[1m\u001b[36m    +----------------------------------+\u001b[0m\n",
      "\u001b[1m\u001b[36m    | x = torch.tensor([[2.0], [3.3]]) |\u001b[0m\n",
      "\u001b[1m\u001b[36m    +----------------------------------+\u001b[0m\n",
      "\u001b[1m\u001b[36m    +----------+--------------------+\u001b[0m\n",
      "\u001b[1m\u001b[36m    | Variable | Value              |\u001b[0m\n",
      "\u001b[1m\u001b[36m    +----------+--------------------+\u001b[0m\n",
      "\u001b[1m\u001b[36m    | x        | tensor([[2.0000],  |\u001b[0m\n",
      "\u001b[1m\u001b[36m    |          |         [3.3000]]) |\u001b[0m\n",
      "\u001b[1m\u001b[36m    +----------+--------------------+\u001b[0m\n",
      "\u001b[1m\u001b[36m    +------------+----------------------------------------------+\u001b[0m\n",
      "\u001b[1m\u001b[36m    | Expression | Result                                       |\u001b[0m\n",
      "\u001b[1m\u001b[36m    +------------+----------------------------------------------+\u001b[0m\n",
      "\u001b[1m\u001b[36m    | model(x)   | tensor([[0.5891],                            |\u001b[0m\n",
      "\u001b[1m\u001b[36m    |            |         [1.2590]], grad_fn=<AddmmBackward0>) |\u001b[0m\n",
      "\u001b[1m\u001b[36m    +------------+----------------------------------------------+\u001b[0m\n"
     ]
    }
   ],
   "source": [
    "x = torch.tensor([[2.0], [3.3]])\n",
    "\n",
    "tabulation = Form_Generator()\n",
    "tabulation.heading_printer(\"Model implementation with multi-D tensor\")\n",
    "\n",
    "statement_1 = \"x = torch.tensor([[2.0], [3.3]])\"\n",
    "statements = [statement_1]\n",
    "tabulation.statement_generator(statements)\n",
    "\n",
    "variables = [\"x\"]\n",
    "values = [str(x)]\n",
    "tabulation.variable_generator(variables, values)\n",
    "\n",
    "expressions = [\"model(x)\"]\n",
    "results = [str(model(x))]\n",
    "tabulation.expression_generator(expressions, results)"
   ]
  },
  {
   "cell_type": "markdown",
   "id": "985eeeb1",
   "metadata": {},
   "source": [
    "## Custom Modules"
   ]
  },
  {
   "cell_type": "code",
   "execution_count": 15,
   "id": "b4957565",
   "metadata": {
    "ExecuteTime": {
     "end_time": "2022-11-20T21:32:36.845446Z",
     "start_time": "2022-11-20T21:32:36.841257Z"
    }
   },
   "outputs": [
    {
     "name": "stdout",
     "output_type": "stream",
     "text": [
      "\u001b[4m\u001b[37mInitialization of inherited linear classes\u001b[0m\n",
      "\n",
      "\u001b[1m\u001b[37m    +----------------------------------------------------------+\u001b[0m\n",
      "\u001b[1m\u001b[37m    | Definition                                               |\u001b[0m\n",
      "\u001b[1m\u001b[37m    +----------------------------------------------------------+\u001b[0m\n",
      "\u001b[1m\u001b[37m    | class LR(nn.Module):                                     |\u001b[0m\n",
      "\u001b[1m\u001b[37m    |                                                          |\u001b[0m\n",
      "\u001b[1m\u001b[37m    |     def __init__(self, input_size, output_size):         |\u001b[0m\n",
      "\u001b[1m\u001b[37m    |         super().__init__()                               |\u001b[0m\n",
      "\u001b[1m\u001b[37m    |         self.linear = nn.Linear(input_size, output_size) |\u001b[0m\n",
      "\u001b[1m\u001b[37m    |                                                          |\u001b[0m\n",
      "\u001b[1m\u001b[37m    |     def forward(self, x):                                |\u001b[0m\n",
      "\u001b[1m\u001b[37m    |         pred = self.linear(x)                            |\u001b[0m\n",
      "\u001b[1m\u001b[37m    |         return pred                                      |\u001b[0m\n",
      "\u001b[1m\u001b[37m    +----------------------------------------------------------+\u001b[0m\n",
      "\u001b[1m\u001b[37m    +----------------------+\u001b[0m\n",
      "\u001b[1m\u001b[37m    | Statement            |\u001b[0m\n",
      "\u001b[1m\u001b[37m    +----------------------+\u001b[0m\n",
      "\u001b[1m\u001b[37m    | torch.manual_seed(1) |\u001b[0m\n",
      "\u001b[1m\u001b[37m    | model = LR(1, 1)     |\u001b[0m\n",
      "\u001b[1m\u001b[37m    +----------------------+\u001b[0m\n",
      "\u001b[1m\u001b[37m    +----------+--------------------------------------------------+\u001b[0m\n",
      "\u001b[1m\u001b[37m    | Variable | Value                                            |\u001b[0m\n",
      "\u001b[1m\u001b[37m    +----------+--------------------------------------------------+\u001b[0m\n",
      "\u001b[1m\u001b[37m    | model    | Linear(in_features=1, out_features=1, bias=True) |\u001b[0m\n",
      "\u001b[1m\u001b[37m    +----------+--------------------------------------------------+\u001b[0m\n",
      "\u001b[1m\u001b[37m    +--------------------------+-------------------------------+\u001b[0m\n",
      "\u001b[1m\u001b[37m    | Expression               | Result                        |\u001b[0m\n",
      "\u001b[1m\u001b[37m    +--------------------------+-------------------------------+\u001b[0m\n",
      "\u001b[1m\u001b[37m    | model.parameters()       | <generator object             |\u001b[0m\n",
      "\u001b[1m\u001b[37m    |                          |         Module.parameters at  |\u001b[0m\n",
      "\u001b[1m\u001b[37m    |                          |         0x11fdbccf0>          |\u001b[0m\n",
      "\u001b[1m\u001b[37m    | list(model.parameters()) | [Parameter containing:        |\u001b[0m\n",
      "\u001b[1m\u001b[37m    |                          | tensor([[0.5153]],            |\u001b[0m\n",
      "\u001b[1m\u001b[37m    |                          |         requires_grad=True),  |\u001b[0m\n",
      "\u001b[1m\u001b[37m    |                          |         Parameter containing: |\u001b[0m\n",
      "\u001b[1m\u001b[37m    |                          | tensor([-0.4414],             |\u001b[0m\n",
      "\u001b[1m\u001b[37m    |                          |         requires_grad=True)]  |\u001b[0m\n",
      "\u001b[1m\u001b[37m    +--------------------------+-------------------------------+\u001b[0m\n"
     ]
    }
   ],
   "source": [
    "class LR(nn.Module):\n",
    "\n",
    "    def __init__(self, input_size, output_size):\n",
    "        super().__init__()\n",
    "        self.linear = nn.Linear(input_size, output_size)\n",
    "\n",
    "    def forward(self, x):\n",
    "        pred = self.linear(x)\n",
    "        return pred\n",
    "\n",
    "\n",
    "tabulation = Form_Generator()\n",
    "tabulation.heading_printer(\"Initialization of inherited linear classes\")\n",
    "\n",
    "definition = \"\"\"\n",
    "class LR(nn.Module):\n",
    "\n",
    "    def __init__(self, input_size, output_size):\n",
    "        super().__init__()\n",
    "        self.linear = nn.Linear(input_size, output_size)\n",
    "\n",
    "    def forward(self, x):\n",
    "        pred = self.linear(x)\n",
    "        return pred\n",
    "\"\"\"\n",
    "\n",
    "definitions = [definition]\n",
    "tabulation.definition_generator(definitions)\n",
    "\n",
    "statement_1 = \"torch.manual_seed(1)\"\n",
    "statement_2 = \"model = LR(1, 1)\"\n",
    "statements = [statement_1] + [statement_2]\n",
    "tabulation.statement_generator(statements)\n",
    "\n",
    "variables = [\"model\"]\n",
    "values = [str(model)]\n",
    "tabulation.variable_generator(variables, values)\n",
    "\n",
    "expressions = [\"model.parameters()\", \"list(model.parameters())\"]\n",
    "results = [str(model.parameters()), str(list(model.parameters()))]\n",
    "tabulation.expression_generator(expressions, results)"
   ]
  },
  {
   "cell_type": "code",
   "execution_count": 16,
   "id": "6ba13ce1",
   "metadata": {
    "ExecuteTime": {
     "end_time": "2022-11-20T21:32:36.849611Z",
     "start_time": "2022-11-20T21:32:36.846372Z"
    }
   },
   "outputs": [
    {
     "name": "stdout",
     "output_type": "stream",
     "text": [
      "\u001b[4m\u001b[32mImplementation of custom model with 1D tensor\u001b[0m\n",
      "\n",
      "\u001b[1m\u001b[32m    +-------------------------+\u001b[0m\n",
      "\u001b[1m\u001b[32m    | Statement               |\u001b[0m\n",
      "\u001b[1m\u001b[32m    +-------------------------+\u001b[0m\n",
      "\u001b[1m\u001b[32m    | x = torch.tensor([1.0]) |\u001b[0m\n",
      "\u001b[1m\u001b[32m    +-------------------------+\u001b[0m\n",
      "\u001b[1m\u001b[32m    +----------+--------------+\u001b[0m\n",
      "\u001b[1m\u001b[32m    | Variable | Value        |\u001b[0m\n",
      "\u001b[1m\u001b[32m    +----------+--------------+\u001b[0m\n",
      "\u001b[1m\u001b[32m    | x        | tensor([1.]) |\u001b[0m\n",
      "\u001b[1m\u001b[32m    +----------+--------------+\u001b[0m\n",
      "\u001b[1m\u001b[32m    +------------------+------------------------------------------+\u001b[0m\n",
      "\u001b[1m\u001b[32m    | Expression       | Result                                   |\u001b[0m\n",
      "\u001b[1m\u001b[32m    +------------------+------------------------------------------+\u001b[0m\n",
      "\u001b[1m\u001b[32m    | model.forward(x) | tensor([0.0739], grad_fn=<AddBackward0>) |\u001b[0m\n",
      "\u001b[1m\u001b[32m    +------------------+------------------------------------------+\u001b[0m\n"
     ]
    }
   ],
   "source": [
    "x = torch.tensor([1.0])\n",
    "\n",
    "tabulation = Form_Generator()\n",
    "tabulation.heading_printer(\"Implementation of custom model with 1D tensor\")\n",
    "\n",
    "statement_1 = \"x = torch.tensor([1.0])\"\n",
    "statements = [statement_1]\n",
    "tabulation.statement_generator(statements)\n",
    "\n",
    "variables = [\"x\"]\n",
    "values = [str(x)]\n",
    "tabulation.variable_generator(variables, values)\n",
    "\n",
    "expressions = [\"model.forward(x)\"]\n",
    "results = [str(model.forward(x))]\n",
    "tabulation.expression_generator(expressions, results)"
   ]
  },
  {
   "cell_type": "code",
   "execution_count": 17,
   "id": "a7551e0d",
   "metadata": {
    "ExecuteTime": {
     "end_time": "2022-11-20T21:32:36.853932Z",
     "start_time": "2022-11-20T21:32:36.850646Z"
    }
   },
   "outputs": [
    {
     "name": "stdout",
     "output_type": "stream",
     "text": [
      "\u001b[4m\u001b[31mImplementation of custom model with multi-D tensor\u001b[0m\n",
      "\n",
      "\u001b[1m\u001b[31m    +----------------------------------+\u001b[0m\n",
      "\u001b[1m\u001b[31m    | Statement                        |\u001b[0m\n",
      "\u001b[1m\u001b[31m    +----------------------------------+\u001b[0m\n",
      "\u001b[1m\u001b[31m    | x = torch.tensor([[1.0], [2.0]]) |\u001b[0m\n",
      "\u001b[1m\u001b[31m    +----------------------------------+\u001b[0m\n",
      "\u001b[1m\u001b[31m    +----------+----------------+\u001b[0m\n",
      "\u001b[1m\u001b[31m    | Variable | Value          |\u001b[0m\n",
      "\u001b[1m\u001b[31m    +----------+----------------+\u001b[0m\n",
      "\u001b[1m\u001b[31m    | x        | tensor([[1.],  |\u001b[0m\n",
      "\u001b[1m\u001b[31m    |          |         [2.]]) |\u001b[0m\n",
      "\u001b[1m\u001b[31m    +----------+----------------+\u001b[0m\n",
      "\u001b[1m\u001b[31m    +------------------+-----------------------------------+\u001b[0m\n",
      "\u001b[1m\u001b[31m    | Expression       | Result                            |\u001b[0m\n",
      "\u001b[1m\u001b[31m    +------------------+-----------------------------------+\u001b[0m\n",
      "\u001b[1m\u001b[31m    | model.forward(x) | tensor([[0.0739],                 |\u001b[0m\n",
      "\u001b[1m\u001b[31m    |                  |         [0.5891]],                |\u001b[0m\n",
      "\u001b[1m\u001b[31m    |                  |         grad_fn=<AddmmBackward0>) |\u001b[0m\n",
      "\u001b[1m\u001b[31m    +------------------+-----------------------------------+\u001b[0m\n"
     ]
    }
   ],
   "source": [
    "x = torch.tensor([[1.0], [2.0]])\n",
    "\n",
    "tabulation = Form_Generator()\n",
    "tabulation.heading_printer(\n",
    "    \"Implementation of custom model with multi-D tensor\")\n",
    "\n",
    "statement_1 = \"x = torch.tensor([[1.0], [2.0]])\"\n",
    "statements = [statement_1]\n",
    "tabulation.statement_generator(statements)\n",
    "\n",
    "variables = [\"x\"]\n",
    "values = [str(x)]\n",
    "tabulation.variable_generator(variables, values)\n",
    "\n",
    "expressions = [\"model.forward(x)\"]\n",
    "results = [str(model.forward(x))]\n",
    "tabulation.expression_generator(expressions, results)"
   ]
  },
  {
   "cell_type": "markdown",
   "id": "3bf733a9",
   "metadata": {
    "ExecuteTime": {
     "end_time": "2022-07-21T01:19:38.272762Z",
     "start_time": "2022-07-21T01:19:38.266612Z"
    }
   },
   "source": [
    "## Creating Dataset"
   ]
  },
  {
   "cell_type": "code",
   "execution_count": 18,
   "id": "9b67b4ce",
   "metadata": {
    "ExecuteTime": {
     "end_time": "2022-11-20T21:32:36.859051Z",
     "start_time": "2022-11-20T21:32:36.854793Z"
    },
    "scrolled": false
   },
   "outputs": [
    {
     "name": "stdout",
     "output_type": "stream",
     "text": [
      "\u001b[4m\u001b[36mCreation of normally distributed data with random numbers\u001b[0m\n",
      "\n",
      "\u001b[1m\u001b[36m    +-------------------------+\u001b[0m\n",
      "\u001b[1m\u001b[36m    | Statement               |\u001b[0m\n",
      "\u001b[1m\u001b[36m    +-------------------------+\u001b[0m\n",
      "\u001b[1m\u001b[36m    | X = torch.randn(100, 1) |\u001b[0m\n",
      "\u001b[1m\u001b[36m    +-------------------------+\u001b[0m\n",
      "\u001b[1m\u001b[36m    +----------+-----------------------+\u001b[0m\n",
      "\u001b[1m\u001b[36m    | Variable | Value                 |\u001b[0m\n",
      "\u001b[1m\u001b[36m    +----------+-----------------------+\u001b[0m\n",
      "\u001b[1m\u001b[36m    | X        | tensor([[-0.6540],    |\u001b[0m\n",
      "\u001b[1m\u001b[36m    |          |         [-1.6095],    |\u001b[0m\n",
      "\u001b[1m\u001b[36m    |          |         [-0.1002],    |\u001b[0m\n",
      "\u001b[1m\u001b[36m    |          |         [-0.6092],    |\u001b[0m\n",
      "\u001b[1m\u001b[36m    |          |         [-0.9798],    |\u001b[0m\n",
      "\u001b[1m\u001b[36m    |          |         [-1.6091],    |\u001b[0m\n",
      "\u001b[1m\u001b[36m    |          |         [...-1.1334], |\u001b[0m\n",
      "\u001b[1m\u001b[36m    |          |         [-0.1010],    |\u001b[0m\n",
      "\u001b[1m\u001b[36m    |          |         [ 0.3434],    |\u001b[0m\n",
      "\u001b[1m\u001b[36m    |          |         [-1.0703],    |\u001b[0m\n",
      "\u001b[1m\u001b[36m    |          |         [-0.8743],    |\u001b[0m\n",
      "\u001b[1m\u001b[36m    |          |         [-1.4648],    |\u001b[0m\n",
      "\u001b[1m\u001b[36m    |          |         [-1.2629]])   |\u001b[0m\n",
      "\u001b[1m\u001b[36m    +----------+-----------------------+\u001b[0m\n",
      "\u001b[1m\u001b[36m    +------------+----------------------+\u001b[0m\n",
      "\u001b[1m\u001b[36m    | Expression | Result               |\u001b[0m\n",
      "\u001b[1m\u001b[36m    +------------+----------------------+\u001b[0m\n",
      "\u001b[1m\u001b[36m    | X.size()   | torch.Size([100, 1]) |\u001b[0m\n",
      "\u001b[1m\u001b[36m    | X[0]       | tensor([-0.6540])    |\u001b[0m\n",
      "\u001b[1m\u001b[36m    | X[-1]      | tensor([-1.2629])    |\u001b[0m\n",
      "\u001b[1m\u001b[36m    +------------+----------------------+\u001b[0m\n"
     ]
    }
   ],
   "source": [
    "X = torch.randn(100, 1)\n",
    "\n",
    "tabulation = Form_Generator()\n",
    "tabulation.heading_printer(\n",
    "    \"Creation of normally distributed data with random numbers\")\n",
    "\n",
    "statement_1 = \"X = torch.randn(100, 1)\"\n",
    "statements = [statement_1]\n",
    "tabulation.statement_generator(statements)\n",
    "\n",
    "variables = [\"X\"]\n",
    "values = [str(reprlib_rules.repr(X))]\n",
    "tabulation.variable_generator(variables, values)\n",
    "\n",
    "expressions = [\"X.size()\", \"X[0]\", \"X[-1]\"]\n",
    "results = [str(X.size()), str(X[0]), str(X[-1])]\n",
    "tabulation.expression_generator(expressions, results)"
   ]
  },
  {
   "cell_type": "code",
   "execution_count": 19,
   "id": "d54f9a3d",
   "metadata": {
    "ExecuteTime": {
     "end_time": "2022-11-20T21:32:37.007483Z",
     "start_time": "2022-11-20T21:32:36.859874Z"
    }
   },
   "outputs": [
    {
     "data": {
      "image/png": "[encoded data removed]",
      "text/plain": [
       "<Figure size 1600x450 with 2 Axes>"
      ]
     },
     "metadata": {},
     "output_type": "display_data"
    }
   ],
   "source": [
    "colors = calm_color_generator(2)\n",
    "plt.rcParams[\"figure.figsize\"] = (figure_size[0], figure_size[1] / 2)\n",
    "\n",
    "fig, axs = plt.subplots(1, 2, sharey=True)\n",
    "\n",
    "X = torch.randn(100, 1) * 10\n",
    "y = X\n",
    "axs[0].plot(X.numpy(), y.numpy(), \"o\", c=colors.pop(0))\n",
    "axs[0].set_title(\"Normally distributed data without bias\",\n",
    "                 loc=\"center\",\n",
    "                 pad=15)\n",
    "\n",
    "y = X + 3 * torch.randn(100, 1)\n",
    "axs[1].plot(X.numpy(), y.numpy(), \"o\", c=colors.pop(0))\n",
    "axs[1].set_title(\"Normally distributed data with bias\", loc=\"center\", pad=15)\n",
    "\n",
    "for ax in axs.flat:\n",
    "    ax.set(xlabel=\"X\", ylabel=\"y\")\n",
    "    ax.label_outer()\n",
    "\n",
    "fig.suptitle(\"Visual Comparison of Normally Distributed Data\",\n",
    "             fontsize=\"x-large\",\n",
    "             x=0.5,\n",
    "             y=0)\n",
    "\n",
    "plt.tight_layout()\n",
    "plt.show()"
   ]
  },
  {
   "cell_type": "code",
   "execution_count": 20,
   "id": "1a46733b",
   "metadata": {
    "ExecuteTime": {
     "end_time": "2022-11-20T21:32:37.013269Z",
     "start_time": "2022-11-20T21:32:37.008608Z"
    }
   },
   "outputs": [
    {
     "name": "stdout",
     "output_type": "stream",
     "text": [
      "\u001b[4m\u001b[30mModel parameter unpacking\u001b[0m\n",
      "\n",
      "\u001b[1m\u001b[30m    +---------------------------+\u001b[0m\n",
      "\u001b[1m\u001b[30m    | Statement                 |\u001b[0m\n",
      "\u001b[1m\u001b[30m    +---------------------------+\u001b[0m\n",
      "\u001b[1m\u001b[30m    | w, b = model.parameters() |\u001b[0m\n",
      "\u001b[1m\u001b[30m    | w1 = w[0][0]              |\u001b[0m\n",
      "\u001b[1m\u001b[30m    | b1 = b[0]                 |\u001b[0m\n",
      "\u001b[1m\u001b[30m    +---------------------------+\u001b[0m\n",
      "\u001b[1m\u001b[30m    +----------+--------------------------------------------+\u001b[0m\n",
      "\u001b[1m\u001b[30m    | Variable | Value                                      |\u001b[0m\n",
      "\u001b[1m\u001b[30m    +----------+--------------------------------------------+\u001b[0m\n",
      "\u001b[1m\u001b[30m    | w        | Parameter containing:                      |\u001b[0m\n",
      "\u001b[1m\u001b[30m    |          | tensor([[0.5153]], requires_grad=True)     |\u001b[0m\n",
      "\u001b[1m\u001b[30m    | b        | Parameter containing:                      |\u001b[0m\n",
      "\u001b[1m\u001b[30m    |          | tensor([-0.4414], requires_grad=True)      |\u001b[0m\n",
      "\u001b[1m\u001b[30m    | w1       | tensor(0.5153, grad_fn=<SelectBackward0>)  |\u001b[0m\n",
      "\u001b[1m\u001b[30m    | b1       | tensor(-0.4414, grad_fn=<SelectBackward0>) |\u001b[0m\n",
      "\u001b[1m\u001b[30m    +----------+--------------------------------------------+\u001b[0m\n"
     ]
    }
   ],
   "source": [
    "w, b = model.parameters()\n",
    "w1 = w[0][0]\n",
    "b1 = b[0]\n",
    "\n",
    "tabulation = Form_Generator()\n",
    "tabulation.heading_printer(\"Model parameter unpacking\")\n",
    "\n",
    "statement_1 = \"w, b = model.parameters()\"\n",
    "statement_2 = \"w1 = w[0][0]\"\n",
    "statement_3 = \"b1 = b[0]\"\n",
    "statements = [statement_1] + [statement_2] + [statement_3]\n",
    "tabulation.statement_generator(statements)\n",
    "\n",
    "variables = [\"w\", \"b\", \"w1\", \"b1\"]\n",
    "values = [str(w), str(b), str(w1), str(b1)]\n",
    "tabulation.variable_generator(variables, values)"
   ]
  },
  {
   "cell_type": "code",
   "execution_count": 21,
   "id": "7bcec66b",
   "metadata": {
    "ExecuteTime": {
     "end_time": "2022-11-20T21:32:37.016645Z",
     "start_time": "2022-11-20T21:32:37.013946Z"
    }
   },
   "outputs": [
    {
     "name": "stdout",
     "output_type": "stream",
     "text": [
      "\u001b[4m\u001b[34mValue extraction by unpacking model parameters\u001b[0m\n",
      "\n",
      "\u001b[1m\u001b[34m    +---------------------+\u001b[0m\n",
      "\u001b[1m\u001b[34m    | Statement           |\u001b[0m\n",
      "\u001b[1m\u001b[34m    +---------------------+\u001b[0m\n",
      "\u001b[1m\u001b[34m    | w1 = w[0][0].item() |\u001b[0m\n",
      "\u001b[1m\u001b[34m    | b1 = b[0].item()    |\u001b[0m\n",
      "\u001b[1m\u001b[34m    +---------------------+\u001b[0m\n",
      "\u001b[1m\u001b[34m    +----------+----------------------+\u001b[0m\n",
      "\u001b[1m\u001b[34m    | Variable | Value                |\u001b[0m\n",
      "\u001b[1m\u001b[34m    +----------+----------------------+\u001b[0m\n",
      "\u001b[1m\u001b[34m    | w1       | 0.5152631998062134   |\u001b[0m\n",
      "\u001b[1m\u001b[34m    | b1       | -0.44137823581695557 |\u001b[0m\n",
      "\u001b[1m\u001b[34m    +----------+----------------------+\u001b[0m\n"
     ]
    }
   ],
   "source": [
    "w1 = w[0][0].item()\n",
    "b1 = b[0].item()\n",
    "\n",
    "tabulation = Form_Generator()\n",
    "tabulation.heading_printer(\"Value extraction by unpacking model parameters\")\n",
    "\n",
    "statement_1 = \"w1 = w[0][0].item()\"\n",
    "statement_2 = \"b1 = b[0].item()\"\n",
    "statements = [statement_1] + [statement_2]\n",
    "tabulation.statement_generator(statements)\n",
    "\n",
    "variables = [\"w1\", \"b1\"]\n",
    "values = [str(w1), str(b1)]\n",
    "tabulation.variable_generator(variables, values)"
   ]
  },
  {
   "cell_type": "code",
   "execution_count": 22,
   "id": "a6c9fc67",
   "metadata": {
    "ExecuteTime": {
     "end_time": "2022-11-20T21:32:37.021048Z",
     "start_time": "2022-11-20T21:32:37.017365Z"
    }
   },
   "outputs": [
    {
     "name": "stdout",
     "output_type": "stream",
     "text": [
      "\u001b[4m\u001b[33mDefinition of visualization function\u001b[0m\n",
      "\n",
      "\u001b[1m\u001b[33m    +------------------------------------------+\u001b[0m\n",
      "\u001b[1m\u001b[33m    | Definition                               |\u001b[0m\n",
      "\u001b[1m\u001b[33m    +------------------------------------------+\u001b[0m\n",
      "\u001b[1m\u001b[33m    | def get_params():                        |\u001b[0m\n",
      "\u001b[1m\u001b[33m    |     return (w[0][0].item(), b[0].item()) |\u001b[0m\n",
      "\u001b[1m\u001b[33m    |                                          |\u001b[0m\n",
      "\u001b[1m\u001b[33m    |                                          |\u001b[0m\n",
      "\u001b[1m\u001b[33m    | def plot_fit(title):                     |\u001b[0m\n",
      "\u001b[1m\u001b[33m    |     global colors                        |\u001b[0m\n",
      "\u001b[1m\u001b[33m    |     plt.title(label=title)               |\u001b[0m\n",
      "\u001b[1m\u001b[33m    |     w1, b1 = get_params()                |\u001b[0m\n",
      "\u001b[1m\u001b[33m    |     X1 = np.array([-30, 30])             |\u001b[0m\n",
      "\u001b[1m\u001b[33m    |     y1 = w1 * X1 + b1                    |\u001b[0m\n",
      "\u001b[1m\u001b[33m    |     plt.plot(X1, y1, c=colors.pop(0))    |\u001b[0m\n",
      "\u001b[1m\u001b[33m    |     plt.scatter(X, y, c=colors.pop(0))   |\u001b[0m\n",
      "\u001b[1m\u001b[33m    +------------------------------------------+\u001b[0m\n"
     ]
    }
   ],
   "source": [
    "def get_params():\n",
    "    return (w[0][0].item(), b[0].item())\n",
    "\n",
    "\n",
    "def plot_fit(title):\n",
    "    global colors\n",
    "    plt.title(label=title)\n",
    "    w1, b1 = get_params()\n",
    "    X1 = np.array([-30, 30])\n",
    "    y1 = w1 * X1 + b1\n",
    "    plt.plot(X1, y1, c=colors.pop(0))\n",
    "    plt.scatter(X, y, c=colors.pop(0))\n",
    "\n",
    "\n",
    "tabulation = Form_Generator()\n",
    "tabulation.heading_printer(\"Definition of visualization function\")\n",
    "\n",
    "definition = \"\"\"\n",
    "def get_params():\n",
    "    return (w[0][0].item(), b[0].item())\n",
    "\n",
    "\n",
    "def plot_fit(title):\n",
    "    global colors\n",
    "    plt.title(label=title)\n",
    "    w1, b1 = get_params()\n",
    "    X1 = np.array([-30, 30])\n",
    "    y1 = w1 * X1 + b1\n",
    "    plt.plot(X1, y1, c=colors.pop(0))\n",
    "    plt.scatter(X, y, c=colors.pop(0))\n",
    "\"\"\"\n",
    "\n",
    "definitions = [definition]\n",
    "tabulation.definition_generator(definitions)"
   ]
  },
  {
   "cell_type": "code",
   "execution_count": 23,
   "id": "48d45bfd",
   "metadata": {
    "ExecuteTime": {
     "end_time": "2022-11-20T21:32:37.093839Z",
     "start_time": "2022-11-20T21:32:37.022017Z"
    },
    "scrolled": false
   },
   "outputs": [
    {
     "data": {
      "image/png": "[encoded data removed]",
      "text/plain": [
       "<Figure size 800x450 with 1 Axes>"
      ]
     },
     "metadata": {},
     "output_type": "display_data"
    }
   ],
   "source": [
    "colors = calm_color_generator(2)\n",
    "plt.rcParams[\"figure.figsize\"] = (figure_size[0] / 2, figure_size[1] / 2)\n",
    "\n",
    "plot_fit(\"Initial Model\")\n",
    "plt.title(plt.gca().get_title(), loc=\"center\", pad=15)\n",
    "\n",
    "plt.xlabel(\"X\")\n",
    "plt.ylabel(\"y\")\n",
    "\n",
    "plt.show()"
   ]
  },
  {
   "cell_type": "code",
   "execution_count": 24,
   "id": "f24b45ba",
   "metadata": {
    "ExecuteTime": {
     "end_time": "2022-11-20T21:32:37.244191Z",
     "start_time": "2022-11-20T21:32:37.095014Z"
    }
   },
   "outputs": [
    {
     "data": {
      "image/png": "[encoded data removed]",
      "text/plain": [
       "<Figure size 1600x450 with 2 Axes>"
      ]
     },
     "metadata": {},
     "output_type": "display_data"
    }
   ],
   "source": [
    "colors = calm_color_generator(4)\n",
    "plt.rcParams[\"figure.figsize\"] = (figure_size[0], figure_size[1] / 2)\n",
    "\n",
    "fig, axs = plt.subplots(1, 2, sharey=True)\n",
    "\n",
    "y = X + 3 * torch.randn(100, 1)\n",
    "plt.subplot(1, 2, 1)\n",
    "plot_fit(\"Initial model\")\n",
    "plt.title(axs[0].get_title(), loc=\"center\", pad=15)\n",
    "\n",
    "plt.subplot(1, 2, 2)\n",
    "X1 = np.array([-30, 30])\n",
    "y1 = X1 + 3 * np.random.randn(2)\n",
    "plt.plot(X1, y1, c=colors.pop(0))\n",
    "plt.scatter(X, y, c=colors.pop(0))\n",
    "plt.title(label=\"Ideal model\")\n",
    "\n",
    "for ax in axs.flat:\n",
    "    ax.set(xlabel=\"X\", ylabel=\"y\")\n",
    "    ax.label_outer()\n",
    "\n",
    "fig.suptitle(\"Visual Comparison of Prediction Models\",\n",
    "             fontsize=\"x-large\",\n",
    "             x=0.5,\n",
    "             y=0)\n",
    "\n",
    "plt.tight_layout()\n",
    "plt.show()"
   ]
  },
  {
   "cell_type": "markdown",
   "id": "dace8ef2",
   "metadata": {
    "ExecuteTime": {
     "end_time": "2022-07-21T02:44:23.523234Z",
     "start_time": "2022-07-21T02:44:23.514722Z"
    }
   },
   "source": [
    "## Training - Code Implementation"
   ]
  },
  {
   "cell_type": "code",
   "execution_count": 25,
   "id": "4719057f",
   "metadata": {
    "ExecuteTime": {
     "end_time": "2022-11-20T21:32:37.248600Z",
     "start_time": "2022-11-20T21:32:37.245429Z"
    }
   },
   "outputs": [
    {
     "name": "stdout",
     "output_type": "stream",
     "text": [
      "\u001b[4m\u001b[35mSpecific configuration settings for the training process\u001b[0m\n",
      "\n",
      "\u001b[1m\u001b[35m    +-----------------------------------------------------------+\u001b[0m\n",
      "\u001b[1m\u001b[35m    | Statement                                                 |\u001b[0m\n",
      "\u001b[1m\u001b[35m    +-----------------------------------------------------------+\u001b[0m\n",
      "\u001b[1m\u001b[35m    | criterion = nn.MSELoss()                                  |\u001b[0m\n",
      "\u001b[1m\u001b[35m    | optimizer = torch.optim.SGD(model.parameters(), lr=0.01)) |\u001b[0m\n",
      "\u001b[1m\u001b[35m    +-----------------------------------------------------------+\u001b[0m\n",
      "\u001b[1m\u001b[35m    +-----------+---------------------------+\u001b[0m\n",
      "\u001b[1m\u001b[35m    | Variable  | Value                     |\u001b[0m\n",
      "\u001b[1m\u001b[35m    +-----------+---------------------------+\u001b[0m\n",
      "\u001b[1m\u001b[35m    | criterion | MSELoss()                 |\u001b[0m\n",
      "\u001b[1m\u001b[35m    | optimizer | SGD (                     |\u001b[0m\n",
      "\u001b[1m\u001b[35m    |           | Parameter Group 0         |\u001b[0m\n",
      "\u001b[1m\u001b[35m    |           |     dampening: 0          |\u001b[0m\n",
      "\u001b[1m\u001b[35m    |           |     differentiable: False |\u001b[0m\n",
      "\u001b[1m\u001b[35m    |           |     foreach: None         |\u001b[0m\n",
      "\u001b[1m\u001b[35m    |           |     lr: 0.01              |\u001b[0m\n",
      "\u001b[1m\u001b[35m    |           |     maximize: False       |\u001b[0m\n",
      "\u001b[1m\u001b[35m    |           |     momentum: 0           |\u001b[0m\n",
      "\u001b[1m\u001b[35m    |           |     nesterov: False       |\u001b[0m\n",
      "\u001b[1m\u001b[35m    |           |     weight_decay: 0       |\u001b[0m\n",
      "\u001b[1m\u001b[35m    |           | )                         |\u001b[0m\n",
      "\u001b[1m\u001b[35m    +-----------+---------------------------+\u001b[0m\n"
     ]
    }
   ],
   "source": [
    "criterion = nn.MSELoss()\n",
    "optimizer = torch.optim.SGD(model.parameters(), lr=0.01)\n",
    "\n",
    "tabulation = Form_Generator()\n",
    "tabulation.heading_printer(\n",
    "    \"Specific configuration settings for the training process\")\n",
    "\n",
    "statement_1 = \"criterion = nn.MSELoss()\"\n",
    "statement_2 = \"optimizer = torch.optim.SGD(model.parameters(), lr=0.01))\"\n",
    "statements = [statement_1] + [statement_2]\n",
    "tabulation.statement_generator(statements)\n",
    "\n",
    "variables = [\"criterion\", \"optimizer\"]\n",
    "values = [str(criterion), str(optimizer)]\n",
    "tabulation.variable_generator(variables, values)"
   ]
  },
  {
   "cell_type": "code",
   "execution_count": null,
   "id": "9c331c24",
   "metadata": {
    "ExecuteTime": {
     "end_time": "2022-11-10T19:12:23.756111Z",
     "start_time": "2022-11-10T19:12:23.745233Z"
    }
   },
   "outputs": [],
   "source": []
  },
  {
   "cell_type": "code",
   "execution_count": null,
   "id": "e3dc11da",
   "metadata": {},
   "outputs": [],
   "source": []
  },
  {
   "cell_type": "markdown",
   "id": "d0f5ba3b",
   "metadata": {
    "ExecuteTime": {
     "end_time": "2022-11-19T22:49:05.144651Z",
     "start_time": "2022-11-19T22:49:05.126533Z"
    }
   },
   "source": [
    "epochs = 100\n",
    "losses = []\n",
    "\n",
    "for i in range(epochs):\n",
    "    y_pred = model.forward(X)\n",
    "    loss = criterion(y_pred, y)\n",
    "    print(\"epoch:\", i, \"loss:\", loss.item(), model.parameters()[0][0][0], model.parameters()[1][0])\n",
    "\n",
    "    #losses.append(loss)\n",
    "    losses.append(loss.item())\n",
    "    optimizer.zero_grad()\n",
    "    loss.backward()\n",
    "    optimizer.step()"
   ]
  },
  {
   "cell_type": "code",
   "execution_count": 26,
   "id": "f6171492",
   "metadata": {
    "ExecuteTime": {
     "end_time": "2022-11-20T21:32:37.480010Z",
     "start_time": "2022-11-20T21:32:37.249465Z"
    }
   },
   "outputs": [],
   "source": [
    "import pandas as pd"
   ]
  },
  {
   "cell_type": "code",
   "execution_count": 27,
   "id": "506ea81c",
   "metadata": {
    "ExecuteTime": {
     "end_time": "2022-11-20T21:32:37.483269Z",
     "start_time": "2022-11-20T21:32:37.480877Z"
    }
   },
   "outputs": [],
   "source": [
    "class DataFrame_Generator:\n",
    "\n",
    "    def __init__(self, *args):\n",
    "        self.col_name = []\n",
    "        self.dict = {}\n",
    "        for i in args:\n",
    "            self.col_name.append(i)\n",
    "            self.dict.update({str(i): []})\n",
    "\n",
    "    def updater(self, *args):\n",
    "        for i, j in zip(self.col_name, args):\n",
    "            self.dict[i].append(j)\n",
    "\n",
    "    def converter(self):\n",
    "        return pd.DataFrame.from_dict(self.dict)"
   ]
  },
  {
   "cell_type": "code",
   "execution_count": 28,
   "id": "44b28709",
   "metadata": {
    "ExecuteTime": {
     "end_time": "2022-11-20T21:32:37.512249Z",
     "start_time": "2022-11-20T21:32:37.488588Z"
    }
   },
   "outputs": [
    {
     "data": {
      "text/html": [
       "<div>\n",
       "<style scoped>\n",
       "    .dataframe tbody tr th:only-of-type {\n",
       "        vertical-align: middle;\n",
       "    }\n",
       "\n",
       "    .dataframe tbody tr th {\n",
       "        vertical-align: top;\n",
       "    }\n",
       "\n",
       "    .dataframe thead th {\n",
       "        text-align: right;\n",
       "    }\n",
       "</style>\n",
       "<table border=\"1\" class=\"dataframe\">\n",
       "  <thead>\n",
       "    <tr style=\"text-align: right;\">\n",
       "      <th></th>\n",
       "      <th>epoch</th>\n",
       "      <th>loss</th>\n",
       "      <th>w</th>\n",
       "      <th>b</th>\n",
       "    </tr>\n",
       "  </thead>\n",
       "  <tbody>\n",
       "    <tr>\n",
       "      <th>0</th>\n",
       "      <td>1</td>\n",
       "      <td>27.121740</td>\n",
       "      <td>0.515263</td>\n",
       "      <td>-0.441378</td>\n",
       "    </tr>\n",
       "    <tr>\n",
       "      <th>1</th>\n",
       "      <td>2</td>\n",
       "      <td>23.542339</td>\n",
       "      <td>1.324900</td>\n",
       "      <td>-0.444936</td>\n",
       "    </tr>\n",
       "    <tr>\n",
       "      <th>2</th>\n",
       "      <td>3</td>\n",
       "      <td>20.701984</td>\n",
       "      <td>0.603671</td>\n",
       "      <td>-0.444124</td>\n",
       "    </tr>\n",
       "    <tr>\n",
       "      <th>3</th>\n",
       "      <td>4</td>\n",
       "      <td>18.448076</td>\n",
       "      <td>1.246134</td>\n",
       "      <td>-0.447158</td>\n",
       "    </tr>\n",
       "    <tr>\n",
       "      <th>4</th>\n",
       "      <td>5</td>\n",
       "      <td>16.659536</td>\n",
       "      <td>0.673823</td>\n",
       "      <td>-0.446720</td>\n",
       "    </tr>\n",
       "    <tr>\n",
       "      <th>...</th>\n",
       "      <td>...</td>\n",
       "      <td>...</td>\n",
       "      <td>...</td>\n",
       "      <td>...</td>\n",
       "    </tr>\n",
       "    <tr>\n",
       "      <th>95</th>\n",
       "      <td>96</td>\n",
       "      <td>9.783276</td>\n",
       "      <td>0.943319</td>\n",
       "      <td>-0.496390</td>\n",
       "    </tr>\n",
       "    <tr>\n",
       "      <th>96</th>\n",
       "      <td>97</td>\n",
       "      <td>9.783272</td>\n",
       "      <td>0.943304</td>\n",
       "      <td>-0.496575</td>\n",
       "    </tr>\n",
       "    <tr>\n",
       "      <th>97</th>\n",
       "      <td>98</td>\n",
       "      <td>9.783269</td>\n",
       "      <td>0.943316</td>\n",
       "      <td>-0.496756</td>\n",
       "    </tr>\n",
       "    <tr>\n",
       "      <th>98</th>\n",
       "      <td>99</td>\n",
       "      <td>9.783266</td>\n",
       "      <td>0.943305</td>\n",
       "      <td>-0.496934</td>\n",
       "    </tr>\n",
       "    <tr>\n",
       "      <th>99</th>\n",
       "      <td>100</td>\n",
       "      <td>9.783263</td>\n",
       "      <td>0.943314</td>\n",
       "      <td>-0.497108</td>\n",
       "    </tr>\n",
       "  </tbody>\n",
       "</table>\n",
       "<p>100 rows × 4 columns</p>\n",
       "</div>"
      ],
      "text/plain": [
       "    epoch       loss         w         b\n",
       "0       1  27.121740  0.515263 -0.441378\n",
       "1       2  23.542339  1.324900 -0.444936\n",
       "2       3  20.701984  0.603671 -0.444124\n",
       "3       4  18.448076  1.246134 -0.447158\n",
       "4       5  16.659536  0.673823 -0.446720\n",
       "..    ...        ...       ...       ...\n",
       "95     96   9.783276  0.943319 -0.496390\n",
       "96     97   9.783272  0.943304 -0.496575\n",
       "97     98   9.783269  0.943316 -0.496756\n",
       "98     99   9.783266  0.943305 -0.496934\n",
       "99    100   9.783263  0.943314 -0.497108\n",
       "\n",
       "[100 rows x 4 columns]"
      ]
     },
     "execution_count": 28,
     "metadata": {},
     "output_type": "execute_result"
    }
   ],
   "source": [
    "epochs = 100\n",
    "losses = []\n",
    "\n",
    "generator = DataFrame_Generator(\"epoch\", \"loss\", \"w\", \"b\")\n",
    "\n",
    "for i in range(epochs):\n",
    "    y_pred = model.forward(X)\n",
    "    loss = criterion(y_pred, y)\n",
    "    generator.updater(i + 1, loss.item(),\n",
    "                      list(model.parameters())[0][0][0].item(),\n",
    "                      list(model.parameters())[1][0].item())\n",
    "\n",
    "    losses.append(loss.item())\n",
    "    optimizer.zero_grad()\n",
    "    loss.backward()\n",
    "    optimizer.step()\n",
    "\n",
    "df = generator.converter()\n",
    "df"
   ]
  },
  {
   "cell_type": "code",
   "execution_count": 29,
   "id": "073a185e",
   "metadata": {
    "ExecuteTime": {
     "end_time": "2022-11-20T21:32:37.554626Z",
     "start_time": "2022-11-20T21:32:37.513042Z"
    }
   },
   "outputs": [
    {
     "data": {
      "text/html": [
       "<style type=\"text/css\">\n",
       "#T_80526_row0_col0, #T_80526_row0_col1, #T_80526_row0_col2, #T_80526_row1_col0, #T_80526_row1_col1, #T_80526_row1_col2, #T_80526_row2_col0, #T_80526_row2_col1, #T_80526_row2_col2, #T_80526_row3_col0, #T_80526_row3_col1, #T_80526_row3_col2, #T_80526_row4_col0, #T_80526_row4_col1, #T_80526_row4_col2, #T_80526_row5_col0, #T_80526_row5_col1, #T_80526_row5_col2, #T_80526_row6_col0, #T_80526_row6_col1, #T_80526_row6_col2, #T_80526_row7_col0, #T_80526_row7_col1, #T_80526_row7_col2, #T_80526_row8_col0, #T_80526_row8_col1, #T_80526_row8_col2, #T_80526_row9_col0, #T_80526_row9_col1, #T_80526_row9_col2, #T_80526_row10_col0, #T_80526_row10_col1, #T_80526_row10_col2, #T_80526_row11_col0, #T_80526_row11_col1, #T_80526_row11_col2, #T_80526_row12_col0, #T_80526_row12_col1, #T_80526_row12_col2, #T_80526_row13_col0, #T_80526_row13_col1, #T_80526_row13_col2, #T_80526_row14_col0, #T_80526_row14_col1, #T_80526_row14_col2, #T_80526_row15_col0, #T_80526_row15_col1, #T_80526_row15_col2, #T_80526_row16_col0, #T_80526_row16_col1, #T_80526_row16_col2, #T_80526_row17_col0, #T_80526_row17_col1, #T_80526_row17_col2, #T_80526_row18_col0, #T_80526_row18_col1, #T_80526_row18_col2, #T_80526_row19_col0, #T_80526_row19_col1, #T_80526_row19_col2, #T_80526_row20_col0, #T_80526_row20_col1, #T_80526_row20_col2, #T_80526_row21_col0, #T_80526_row21_col1, #T_80526_row21_col2, #T_80526_row22_col0, #T_80526_row22_col1, #T_80526_row22_col2, #T_80526_row23_col0, #T_80526_row23_col1, #T_80526_row23_col2, #T_80526_row24_col0, #T_80526_row24_col1, #T_80526_row24_col2, #T_80526_row25_col0, #T_80526_row25_col1, #T_80526_row25_col2, #T_80526_row26_col0, #T_80526_row26_col1, #T_80526_row26_col2, #T_80526_row27_col0, #T_80526_row27_col1, #T_80526_row27_col2, #T_80526_row28_col0, #T_80526_row28_col1, #T_80526_row28_col2, #T_80526_row29_col0, #T_80526_row29_col1, #T_80526_row29_col2, #T_80526_row30_col0, #T_80526_row30_col1, #T_80526_row30_col2, #T_80526_row31_col0, #T_80526_row31_col1, #T_80526_row31_col2, #T_80526_row32_col0, #T_80526_row32_col1, #T_80526_row32_col2, #T_80526_row33_col0, #T_80526_row33_col1, #T_80526_row33_col2, #T_80526_row34_col0, #T_80526_row34_col1, #T_80526_row34_col2, #T_80526_row35_col0, #T_80526_row35_col1, #T_80526_row35_col2, #T_80526_row36_col0, #T_80526_row36_col1, #T_80526_row36_col2, #T_80526_row37_col0, #T_80526_row37_col1, #T_80526_row37_col2, #T_80526_row38_col0, #T_80526_row38_col1, #T_80526_row38_col2, #T_80526_row39_col0, #T_80526_row39_col1, #T_80526_row39_col2, #T_80526_row40_col0, #T_80526_row40_col1, #T_80526_row40_col2, #T_80526_row41_col0, #T_80526_row41_col1, #T_80526_row41_col2, #T_80526_row42_col0, #T_80526_row42_col1, #T_80526_row42_col2, #T_80526_row43_col0, #T_80526_row43_col1, #T_80526_row43_col2, #T_80526_row44_col0, #T_80526_row44_col1, #T_80526_row44_col2, #T_80526_row45_col0, #T_80526_row45_col1, #T_80526_row45_col2, #T_80526_row46_col0, #T_80526_row46_col1, #T_80526_row46_col2, #T_80526_row47_col0, #T_80526_row47_col1, #T_80526_row47_col2, #T_80526_row48_col0, #T_80526_row48_col1, #T_80526_row48_col2, #T_80526_row49_col0, #T_80526_row49_col1, #T_80526_row49_col2, #T_80526_row50_col0, #T_80526_row50_col1, #T_80526_row50_col2, #T_80526_row51_col0, #T_80526_row51_col1, #T_80526_row51_col2, #T_80526_row52_col0, #T_80526_row52_col1, #T_80526_row52_col2, #T_80526_row53_col0, #T_80526_row53_col1, #T_80526_row53_col2, #T_80526_row54_col0, #T_80526_row54_col1, #T_80526_row54_col2, #T_80526_row55_col0, #T_80526_row55_col1, #T_80526_row55_col2, #T_80526_row56_col0, #T_80526_row56_col1, #T_80526_row56_col2, #T_80526_row57_col0, #T_80526_row57_col1, #T_80526_row57_col2, #T_80526_row58_col0, #T_80526_row58_col1, #T_80526_row58_col2, #T_80526_row59_col0, #T_80526_row59_col1, #T_80526_row59_col2, #T_80526_row60_col0, #T_80526_row60_col1, #T_80526_row60_col2, #T_80526_row61_col0, #T_80526_row61_col1, #T_80526_row61_col2, #T_80526_row62_col0, #T_80526_row62_col1, #T_80526_row62_col2, #T_80526_row63_col0, #T_80526_row63_col1, #T_80526_row63_col2, #T_80526_row64_col0, #T_80526_row64_col1, #T_80526_row64_col2, #T_80526_row65_col0, #T_80526_row65_col1, #T_80526_row65_col2, #T_80526_row66_col0, #T_80526_row66_col1, #T_80526_row66_col2, #T_80526_row67_col0, #T_80526_row67_col1, #T_80526_row67_col2, #T_80526_row68_col0, #T_80526_row68_col1, #T_80526_row68_col2, #T_80526_row69_col0, #T_80526_row69_col1, #T_80526_row69_col2, #T_80526_row70_col0, #T_80526_row70_col1, #T_80526_row70_col2, #T_80526_row71_col0, #T_80526_row71_col1, #T_80526_row71_col2, #T_80526_row72_col0, #T_80526_row72_col1, #T_80526_row72_col2, #T_80526_row73_col0, #T_80526_row73_col1, #T_80526_row73_col2, #T_80526_row74_col0, #T_80526_row74_col1, #T_80526_row74_col2, #T_80526_row75_col0, #T_80526_row75_col1, #T_80526_row75_col2, #T_80526_row76_col0, #T_80526_row76_col1, #T_80526_row76_col2, #T_80526_row77_col0, #T_80526_row77_col1, #T_80526_row77_col2, #T_80526_row78_col0, #T_80526_row78_col1, #T_80526_row78_col2, #T_80526_row79_col0, #T_80526_row79_col1, #T_80526_row79_col2, #T_80526_row80_col0, #T_80526_row80_col1, #T_80526_row80_col2, #T_80526_row81_col0, #T_80526_row81_col1, #T_80526_row81_col2, #T_80526_row82_col0, #T_80526_row82_col1, #T_80526_row82_col2, #T_80526_row83_col0, #T_80526_row83_col1, #T_80526_row83_col2, #T_80526_row84_col0, #T_80526_row84_col1, #T_80526_row84_col2, #T_80526_row85_col0, #T_80526_row85_col1, #T_80526_row85_col2, #T_80526_row86_col0, #T_80526_row86_col1, #T_80526_row86_col2, #T_80526_row87_col0, #T_80526_row87_col1, #T_80526_row87_col2, #T_80526_row88_col0, #T_80526_row88_col1, #T_80526_row88_col2, #T_80526_row89_col0, #T_80526_row89_col1, #T_80526_row89_col2, #T_80526_row90_col0, #T_80526_row90_col1, #T_80526_row90_col2, #T_80526_row91_col0, #T_80526_row91_col1, #T_80526_row91_col2, #T_80526_row92_col0, #T_80526_row92_col1, #T_80526_row92_col2, #T_80526_row93_col0, #T_80526_row93_col1, #T_80526_row93_col2, #T_80526_row94_col0, #T_80526_row94_col1, #T_80526_row94_col2, #T_80526_row95_col0, #T_80526_row95_col1, #T_80526_row95_col2, #T_80526_row96_col0, #T_80526_row96_col1, #T_80526_row96_col2, #T_80526_row97_col0, #T_80526_row97_col1, #T_80526_row97_col2, #T_80526_row98_col0, #T_80526_row98_col1, #T_80526_row98_col2, #T_80526_row99_col0, #T_80526_row99_col1, #T_80526_row99_col2 {\n",
       "  background-color: red;\n",
       "}\n",
       "#T_80526_row0_col3, #T_80526_row1_col3, #T_80526_row2_col3, #T_80526_row3_col3, #T_80526_row4_col3, #T_80526_row5_col3, #T_80526_row6_col3, #T_80526_row7_col3, #T_80526_row8_col3, #T_80526_row9_col3, #T_80526_row10_col3, #T_80526_row11_col3, #T_80526_row12_col3, #T_80526_row13_col3, #T_80526_row14_col3, #T_80526_row15_col3, #T_80526_row16_col3, #T_80526_row17_col3, #T_80526_row18_col3, #T_80526_row19_col3, #T_80526_row20_col3, #T_80526_row21_col3, #T_80526_row22_col3, #T_80526_row23_col3, #T_80526_row24_col3, #T_80526_row25_col3, #T_80526_row26_col3, #T_80526_row27_col3, #T_80526_row28_col3, #T_80526_row29_col3, #T_80526_row30_col3, #T_80526_row31_col3, #T_80526_row32_col3, #T_80526_row33_col3, #T_80526_row34_col3, #T_80526_row35_col3, #T_80526_row36_col3, #T_80526_row37_col3, #T_80526_row38_col3, #T_80526_row39_col3, #T_80526_row40_col3, #T_80526_row41_col3, #T_80526_row42_col3, #T_80526_row43_col3, #T_80526_row44_col3, #T_80526_row45_col3, #T_80526_row46_col3, #T_80526_row47_col3, #T_80526_row48_col3, #T_80526_row49_col3, #T_80526_row50_col3, #T_80526_row51_col3, #T_80526_row52_col3, #T_80526_row53_col3, #T_80526_row54_col3, #T_80526_row55_col3, #T_80526_row56_col3, #T_80526_row57_col3, #T_80526_row58_col3, #T_80526_row59_col3, #T_80526_row60_col3, #T_80526_row61_col3, #T_80526_row62_col3, #T_80526_row63_col3, #T_80526_row64_col3, #T_80526_row65_col3, #T_80526_row66_col3, #T_80526_row67_col3, #T_80526_row68_col3, #T_80526_row69_col3, #T_80526_row70_col3, #T_80526_row71_col3, #T_80526_row72_col3, #T_80526_row73_col3, #T_80526_row74_col3, #T_80526_row75_col3, #T_80526_row76_col3, #T_80526_row77_col3, #T_80526_row78_col3, #T_80526_row79_col3, #T_80526_row80_col3, #T_80526_row81_col3, #T_80526_row82_col3, #T_80526_row83_col3, #T_80526_row84_col3, #T_80526_row85_col3, #T_80526_row86_col3, #T_80526_row87_col3, #T_80526_row88_col3, #T_80526_row89_col3, #T_80526_row90_col3, #T_80526_row91_col3, #T_80526_row92_col3, #T_80526_row93_col3, #T_80526_row94_col3, #T_80526_row95_col3, #T_80526_row96_col3, #T_80526_row97_col3, #T_80526_row98_col3, #T_80526_row99_col3 {\n",
       "  background-color: white;\n",
       "}\n",
       "</style>\n",
       "<table id=\"T_80526\">\n",
       "  <thead>\n",
       "    <tr>\n",
       "      <th class=\"blank level0\" >&nbsp;</th>\n",
       "      <th id=\"T_80526_level0_col0\" class=\"col_heading level0 col0\" >epoch</th>\n",
       "      <th id=\"T_80526_level0_col1\" class=\"col_heading level0 col1\" >loss</th>\n",
       "      <th id=\"T_80526_level0_col2\" class=\"col_heading level0 col2\" >w</th>\n",
       "      <th id=\"T_80526_level0_col3\" class=\"col_heading level0 col3\" >b</th>\n",
       "    </tr>\n",
       "  </thead>\n",
       "  <tbody>\n",
       "    <tr>\n",
       "      <th id=\"T_80526_level0_row0\" class=\"row_heading level0 row0\" >0</th>\n",
       "      <td id=\"T_80526_row0_col0\" class=\"data row0 col0\" >1</td>\n",
       "      <td id=\"T_80526_row0_col1\" class=\"data row0 col1\" >27.121740</td>\n",
       "      <td id=\"T_80526_row0_col2\" class=\"data row0 col2\" >0.515263</td>\n",
       "      <td id=\"T_80526_row0_col3\" class=\"data row0 col3\" >-0.441378</td>\n",
       "    </tr>\n",
       "    <tr>\n",
       "      <th id=\"T_80526_level0_row1\" class=\"row_heading level0 row1\" >1</th>\n",
       "      <td id=\"T_80526_row1_col0\" class=\"data row1 col0\" >2</td>\n",
       "      <td id=\"T_80526_row1_col1\" class=\"data row1 col1\" >23.542339</td>\n",
       "      <td id=\"T_80526_row1_col2\" class=\"data row1 col2\" >1.324900</td>\n",
       "      <td id=\"T_80526_row1_col3\" class=\"data row1 col3\" >-0.444936</td>\n",
       "    </tr>\n",
       "    <tr>\n",
       "      <th id=\"T_80526_level0_row2\" class=\"row_heading level0 row2\" >2</th>\n",
       "      <td id=\"T_80526_row2_col0\" class=\"data row2 col0\" >3</td>\n",
       "      <td id=\"T_80526_row2_col1\" class=\"data row2 col1\" >20.701984</td>\n",
       "      <td id=\"T_80526_row2_col2\" class=\"data row2 col2\" >0.603671</td>\n",
       "      <td id=\"T_80526_row2_col3\" class=\"data row2 col3\" >-0.444124</td>\n",
       "    </tr>\n",
       "    <tr>"
      ],
      "text/plain": [
       "<pandas.io.formats.style.Styler at 0x13d553ee0>"
      ]
     },
     "execution_count": 29,
     "metadata": {},
     "output_type": "execute_result"
    },
    {
     "data": {
      "text/html": [
       "<b>limit_output extension: Maximum message size of 10000 exceeded with 47194 characters</b>"
      ]
     },
     "metadata": {},
     "output_type": "display_data"
    }
   ],
   "source": [
    "df.style.applymap(lambda x: \"background-color: red\"\n",
    "                  if x > 0 else \"background-color: white\")"
   ]
  },
  {
   "cell_type": "code",
   "execution_count": null,
   "id": "88623872",
   "metadata": {
    "ExecuteTime": {
     "end_time": "2022-11-20T20:31:13.344021Z",
     "start_time": "2022-11-20T20:31:13.327977Z"
    }
   },
   "outputs": [],
   "source": []
  },
  {
   "cell_type": "code",
   "execution_count": null,
   "id": "bffc2d3d",
   "metadata": {
    "ExecuteTime": {
     "end_time": "2022-11-20T00:43:34.046981Z",
     "start_time": "2022-11-20T00:43:34.044628Z"
    }
   },
   "outputs": [],
   "source": []
  },
  {
   "cell_type": "code",
   "execution_count": 30,
   "id": "b5e61720",
   "metadata": {
    "ExecuteTime": {
     "end_time": "2022-11-20T21:32:37.638337Z",
     "start_time": "2022-11-20T21:32:37.555615Z"
    }
   },
   "outputs": [
    {
     "data": {
      "text/plain": [
       "Text(0.5, 0, 'Epoch')"
      ]
     },
     "execution_count": 30,
     "metadata": {},
     "output_type": "execute_result"
    },
    {
     "data": {
      "image/png": "[encoded data removed]",
      "text/plain": [
       "<Figure size 1600x450 with 1 Axes>"
      ]
     },
     "metadata": {},
     "output_type": "display_data"
    }
   ],
   "source": [
    "colors = calm_color_generator(1)\n",
    "plt.plot(range(epochs), losses, c=colors[0])\n",
    "plt.ylabel(\"Loss\")\n",
    "plt.xlabel(\"Epoch\")"
   ]
  },
  {
   "cell_type": "code",
   "execution_count": 31,
   "id": "9b55a6b1",
   "metadata": {
    "ExecuteTime": {
     "end_time": "2022-11-20T21:32:37.640744Z",
     "start_time": "2022-11-20T21:32:37.639188Z"
    }
   },
   "outputs": [],
   "source": [
    "import random\n",
    "\n",
    "from termcolor import colored"
   ]
  },
  {
   "cell_type": "code",
   "execution_count": 32,
   "id": "9567255f",
   "metadata": {
    "ExecuteTime": {
     "end_time": "2022-11-20T21:32:37.651383Z",
     "start_time": "2022-11-20T21:32:37.641575Z"
    }
   },
   "outputs": [
    {
     "name": "stdout",
     "output_type": "stream",
     "text": [
      "\u001b[1m\u001b[33mepoch:\u001b[0m 1 \u001b[37mloss:\u001b[0m 9.783260345458984\n",
      "\u001b[37mweight:\u001b[0m 0.9433046579360962 \u001b[37mbias:\u001b[0m -0.49727922677993774\n",
      "\u001b[1m\u001b[33mepoch:\u001b[0m 10 \u001b[37mloss:\u001b[0m 9.783238410949707\n",
      "\u001b[37mweight:\u001b[0m 0.9433062672615051 \u001b[37mbias:\u001b[0m -0.4986708462238312\n",
      "\u001b[1m\u001b[33mepoch:\u001b[0m 20 \u001b[37mloss:\u001b[0m 9.783222198486328\n",
      "\u001b[37mweight:\u001b[0m 0.9433016777038574 \u001b[37mbias:\u001b[0m -0.49994760751724243\n",
      "\u001b[1m\u001b[33mepoch:\u001b[0m 30 \u001b[37mloss:\u001b[0m 9.783211708068848\n",
      "\u001b[37mweight:\u001b[0m 0.9432983994483948 \u001b[37mbias:\u001b[0m -0.5009909868240356\n",
      "\u001b[1m\u001b[33mepoch:\u001b[0m 40 \u001b[37mloss:\u001b[0m 9.783205032348633\n",
      "\u001b[37mweight:\u001b[0m 0.9432958960533142 \u001b[37mbias:\u001b[0m -0.5018436908721924\n",
      "\u001b[1m\u001b[33mepoch:\u001b[0m 50 \u001b[37mloss:\u001b[0m 9.783199310302734\n",
      "\u001b[37mweight:\u001b[0m 0.9432938098907471 \u001b[37mbias:\u001b[0m -0.5025404095649719\n",
      "\u001b[1m\u001b[33mepoch:\u001b[0m 60 \u001b[37mloss:\u001b[0m 9.783196449279785\n",
      "\u001b[37mweight:\u001b[0m 0.9432922601699829 \u001b[37mbias:\u001b[0m -0.5031098127365112\n",
      "\u001b[1m\u001b[33mepoch:\u001b[0m 70 \u001b[37mloss:\u001b[0m 9.783194541931152\n",
      "\u001b[37mweight:\u001b[0m 0.9432908296585083 \u001b[37mbias:\u001b[0m -0.5035750865936279\n",
      "\u001b[1m\u001b[33mepoch:\u001b[0m 80 \u001b[37mloss:\u001b[0m 9.783193588256836\n",
      "\u001b[37mweight:\u001b[0m 0.9432898163795471 \u001b[37mbias:\u001b[0m -0.5039554834365845\n",
      "\u001b[1m\u001b[33mepoch:\u001b[0m 90 \u001b[37mloss:\u001b[0m 9.783191680908203\n",
      "\u001b[37mweight:\u001b[0m 0.9432889223098755 \u001b[37mbias:\u001b[0m -0.5042662024497986\n",
      "\u001b[1m\u001b[33mepoch:\u001b[0m 100 \u001b[37mloss:\u001b[0m 9.783191680908203\n",
      "\u001b[37mweight:\u001b[0m 0.9432882070541382 \u001b[37mbias:\u001b[0m -0.504520058631897\n"
     ]
    }
   ],
   "source": [
    "epochs = 100\n",
    "losses = []\n",
    "termcolors = [\n",
    "    \"grey\", \"red\", \"green\", \"yellow\", \"blue\", \"magenta\", \"cyan\", \"white\"\n",
    "]\n",
    "font_colors = random.choices(termcolors, k=2)\n",
    "for i in range(epochs):\n",
    "    i += 1\n",
    "    y_pred = model.forward(X)\n",
    "    loss = criterion(y_pred, y)\n",
    "    if i == 1 or i % 10 == 0:\n",
    "        print(colored(\"epoch:\", font_colors[0], attrs=[\"bold\"]), i,\n",
    "              colored(\"loss:\", font_colors[1]), loss.item())\n",
    "        print(colored(\"weight:\", font_colors[1]),\n",
    "              list(model.parameters())[0][0][0].item(),\n",
    "              colored(\"bias:\", font_colors[1]),\n",
    "              list(model.parameters())[1][0].item())\n",
    "    losses.append(loss.item())\n",
    "    optimizer.zero_grad()\n",
    "    loss.backward()\n",
    "    optimizer.step()"
   ]
  },
  {
   "cell_type": "code",
   "execution_count": 33,
   "id": "0870e46b",
   "metadata": {
    "ExecuteTime": {
     "end_time": "2022-11-20T21:32:37.724458Z",
     "start_time": "2022-11-20T21:32:37.652571Z"
    }
   },
   "outputs": [
    {
     "data": {
      "image/png": "[encoded data removed]",
      "text/plain": [
       "<Figure size 800x450 with 1 Axes>"
      ]
     },
     "metadata": {},
     "output_type": "display_data"
    }
   ],
   "source": [
    "colors = calm_color_generator(2)\n",
    "plt.rcParams[\"figure.figsize\"] = (figure_size[0] / 2, figure_size[1] / 2)\n",
    "\n",
    "plot_fit(\"Trained Model\")\n",
    "plt.title(plt.gca().get_title(), loc=\"center\", pad=15)\n",
    "\n",
    "plt.xlabel(\"X\")\n",
    "plt.ylabel(\"y\")\n",
    "\n",
    "plt.show()"
   ]
  },
  {
   "cell_type": "code",
   "execution_count": null,
   "id": "96e66762",
   "metadata": {},
   "outputs": [],
   "source": []
  }
 ],
 "metadata": {
  "hide_input": false,
  "kernelspec": {
   "display_name": "Python 3 (ipykernel)",
   "language": "python",
   "name": "python3"
  },
  "language_info": {
   "codemirror_mode": {
    "name": "ipython",
    "version": 3
   },
   "file_extension": ".py",
   "mimetype": "text/x-python",
   "name": "python",
   "nbconvert_exporter": "python",
   "pygments_lexer": "ipython3",
   "version": "3.9.13"
  },
  "latex_envs": {
   "LaTeX_envs_menu_present": true,
   "autoclose": false,
   "autocomplete": true,
   "bibliofile": "biblio.bib",
   "cite_by": "apalike",
   "current_citInitial": 1,
   "eqLabelWithNumbers": true,
   "eqNumInitial": 1,
   "hotkeys": {
    "equation": "Ctrl-E",
    "itemize": "Ctrl-I"
   },
   "labels_anchors": false,
   "latex_user_defs": false,
   "report_style_numbering": false,
   "user_envs_cfg": false
  },
  "nbTranslate": {
   "displayLangs": [
    "*"
   ],
   "hotkey": "alt-t",
   "langInMainMenu": true,
   "sourceLang": "en",
   "targetLang": "fr",
   "useGoogleTranslate": true
  },
  "toc": {
   "base_numbering": 1,
   "nav_menu": {},
   "number_sections": true,
   "sideBar": true,
   "skip_h1_title": false,
   "title_cell": "Table of Contents",
   "title_sidebar": "Contents",
   "toc_cell": false,
   "toc_position": {
    "height": "calc(100% - 180px)",
    "left": "10px",
    "top": "150px",
    "width": "345.594px"
   },
   "toc_section_display": true,
   "toc_window_display": true
  },
  "varInspector": {
   "cols": {
    "lenName": 16,
    "lenType": 16,
    "lenVar": 40
   },
   "kernels_config": {
    "python": {
     "delete_cmd_postfix": "",
     "delete_cmd_prefix": "del ",
     "library": "var_list.py",
     "varRefreshCmd": "print(var_dic_list())"
    },
    "r": {
     "delete_cmd_postfix": ") ",
     "delete_cmd_prefix": "rm(",
     "library": "var_list.r",
     "varRefreshCmd": "cat(var_dic_list()) "
    }
   },
   "types_to_exclude": [
    "module",
    "function",
    "builtin_function_or_method",
    "instance",
    "_Feature"
   ],
   "window_display": false
  },
  "vscode": {
   "interpreter": {
    "hash": "4df6db6ee61ecce594abe4a5126666f3650dd9429b0086e59af8e3f897fc7111"
   }
  }
 },
 "nbformat": 4,
 "nbformat_minor": 5
}

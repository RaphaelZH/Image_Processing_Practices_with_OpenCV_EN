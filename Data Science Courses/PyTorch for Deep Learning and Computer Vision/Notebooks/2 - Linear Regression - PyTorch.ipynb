{
 "cells": [
  {
   "cell_type": "markdown",
   "id": "5fdb7bb7",
   "metadata": {},
   "source": [
    "# Importing Libraries"
   ]
  },
  {
   "cell_type": "code",
   "execution_count": 1,
   "id": "07cd4ffb",
   "metadata": {
    "ExecuteTime": {
     "end_time": "2022-12-03T14:09:52.613652Z",
     "start_time": "2022-12-03T14:09:51.807252Z"
    }
   },
   "outputs": [],
   "source": [
    "import torch\n",
    "from torch import nn\n",
    "\n",
    "import numpy as np\n",
    "\n",
    "import matplotlib as mpl\n",
    "import matplotlib.pyplot as plt\n",
    "\n",
    "import reprlib\n",
    "import sys"
   ]
  },
  {
   "cell_type": "markdown",
   "id": "5094fde5",
   "metadata": {},
   "source": [
    "# Configuring Visualization Parameters"
   ]
  },
  {
   "cell_type": "code",
   "execution_count": 2,
   "id": "d6dd7c45",
   "metadata": {
    "ExecuteTime": {
     "end_time": "2022-12-03T14:09:52.621894Z",
     "start_time": "2022-12-03T14:09:52.614887Z"
    }
   },
   "outputs": [],
   "source": [
    "%matplotlib inline"
   ]
  },
  {
   "cell_type": "code",
   "execution_count": 3,
   "id": "5d4894ab",
   "metadata": {
    "ExecuteTime": {
     "end_time": "2022-12-03T14:09:52.624318Z",
     "start_time": "2022-12-03T14:09:52.622645Z"
    }
   },
   "outputs": [],
   "source": [
    "XINHUI = \"#7a7374\"\n",
    "XUEBAI = \"#fffef9\"\n",
    "YINBAI = \"#f1f0ed\"\n",
    "YINHUI = \"#918072\"\n",
    "\n",
    "figure_size = (16, 9)"
   ]
  },
  {
   "cell_type": "code",
   "execution_count": 4,
   "id": "6f7198a8",
   "metadata": {
    "ExecuteTime": {
     "end_time": "2022-12-03T14:09:52.628017Z",
     "start_time": "2022-12-03T14:09:52.625801Z"
    }
   },
   "outputs": [],
   "source": [
    "custom_params = {\n",
    "    \"axes.axisbelow\": True,\n",
    "    \"axes.edgecolor\": YINBAI,\n",
    "    \"axes.facecolor\": XUEBAI,\n",
    "    \"axes.grid\": True,\n",
    "    \"axes.labelcolor\": XINHUI,\n",
    "    \"axes.spines.right\": False,\n",
    "    \"axes.spines.top\": False,\n",
    "    \"axes.titlecolor\": XINHUI,\n",
    "    \"figure.edgecolor\": YINBAI,\n",
    "    \"figure.facecolor\": XUEBAI,\n",
    "    \"grid.alpha\": .8,\n",
    "    \"grid.color\": YINBAI,\n",
    "    \"grid.linestyle\": \"--\",\n",
    "    \"grid.linewidth\": 1.2,\n",
    "    \"legend.edgecolor\": YINHUI,\n",
    "    \"patch.edgecolor\": XUEBAI,\n",
    "    \"patch.force_edgecolor\": True,\n",
    "    \"text.color\": XINHUI,\n",
    "    \"xtick.color\": YINHUI,\n",
    "    \"ytick.color\": YINHUI,\n",
    "}\n",
    "\n",
    "mpl.rcParams.update(custom_params)"
   ]
  },
  {
   "cell_type": "markdown",
   "id": "e39283da",
   "metadata": {},
   "source": [
    "# Configuring Other Notebook Parameters"
   ]
  },
  {
   "cell_type": "code",
   "execution_count": 5,
   "id": "1721c976",
   "metadata": {
    "ExecuteTime": {
     "end_time": "2022-12-03T14:09:52.630442Z",
     "start_time": "2022-12-03T14:09:52.628795Z"
    }
   },
   "outputs": [],
   "source": [
    "reprlib_rules = reprlib.Repr()\n",
    "reprlib_rules.maxother = 250"
   ]
  },
  {
   "cell_type": "markdown",
   "id": "77cdea15",
   "metadata": {},
   "source": [
    "# Pre-installing Custom Functions"
   ]
  },
  {
   "cell_type": "code",
   "execution_count": 6,
   "id": "1f6ac6d5",
   "metadata": {
    "ExecuteTime": {
     "end_time": "2022-12-03T14:09:52.636715Z",
     "start_time": "2022-12-03T14:09:52.631591Z"
    }
   },
   "outputs": [],
   "source": [
    "sys.path.append(\"../\")"
   ]
  },
  {
   "cell_type": "code",
   "execution_count": 7,
   "id": "ab3f4e6c",
   "metadata": {
    "ExecuteTime": {
     "end_time": "2022-12-03T14:09:52.835737Z",
     "start_time": "2022-12-03T14:09:52.643895Z"
    }
   },
   "outputs": [],
   "source": [
    "from Modules import *"
   ]
  },
  {
   "cell_type": "markdown",
   "id": "00dd6868",
   "metadata": {},
   "source": [
    "# Practicing in Stages\n",
    "\n",
    "## Making Predictions"
   ]
  },
  {
   "cell_type": "code",
   "execution_count": 8,
   "id": "002025a7",
   "metadata": {
    "ExecuteTime": {
     "end_time": "2022-12-03T14:09:52.839758Z",
     "start_time": "2022-12-03T14:09:52.836686Z"
    },
    "code_folding": [],
    "hide_input": false,
    "scrolled": false
   },
   "outputs": [
    {
     "name": "stdout",
     "output_type": "stream",
     "text": [
      "\u001b[4m\u001b[32mDefinition of prediction function\u001b[0m\n",
      "\n",
      "\u001b[1m\u001b[32m    +-------------------+\u001b[0m\n",
      "\u001b[1m\u001b[32m    | Definition        |\u001b[0m\n",
      "\u001b[1m\u001b[32m    +-------------------+\u001b[0m\n",
      "\u001b[1m\u001b[32m    | def forward(x):   |\u001b[0m\n",
      "\u001b[1m\u001b[32m    |     y = w * x + b |\u001b[0m\n",
      "\u001b[1m\u001b[32m    |     return y      |\u001b[0m\n",
      "\u001b[1m\u001b[32m    +-------------------+\u001b[0m\n"
     ]
    }
   ],
   "source": [
    "def forward(x):\n",
    "    y = w * x + b\n",
    "    return y\n",
    "\n",
    "\n",
    "tabulation = Form_Generator()\n",
    "tabulation.heading_printer(\"Definition of prediction function\")\n",
    "\n",
    "definitions = [\"\"\"\n",
    "def forward(x):\n",
    "    y = w * x + b\n",
    "    return y\n",
    "\"\"\"]\n",
    "tabulation.definition_generator(definitions)"
   ]
  },
  {
   "cell_type": "code",
   "execution_count": 9,
   "id": "6b34b014",
   "metadata": {
    "ExecuteTime": {
     "end_time": "2022-12-03T14:09:52.844307Z",
     "start_time": "2022-12-03T14:09:52.840701Z"
    },
    "hide_input": false
   },
   "outputs": [
    {
     "name": "stdout",
     "output_type": "stream",
     "text": [
      "\u001b[4m\u001b[35mInitial assignment of parameters\u001b[0m\n",
      "\n",
      "\u001b[1m\u001b[35m    +-------------------------------------------+\u001b[0m\n",
      "\u001b[1m\u001b[35m    | Statement                                 |\u001b[0m\n",
      "\u001b[1m\u001b[35m    +-------------------------------------------+\u001b[0m\n",
      "\u001b[1m\u001b[35m    | w = torch.tensor(3.0, requires_grad=True) |\u001b[0m\n",
      "\u001b[1m\u001b[35m    | b = torch.tensor(1.0, requires_grad=True) |\u001b[0m\n",
      "\u001b[1m\u001b[35m    +-------------------------------------------+\u001b[0m\n",
      "\u001b[1m\u001b[35m    +----------+--------------------------------+\u001b[0m\n",
      "\u001b[1m\u001b[35m    | Variable | Value                          |\u001b[0m\n",
      "\u001b[1m\u001b[35m    +----------+--------------------------------+\u001b[0m\n",
      "\u001b[1m\u001b[35m    | w        | tensor(3., requires_grad=True) |\u001b[0m\n",
      "\u001b[1m\u001b[35m    | b        | tensor(1., requires_grad=True) |\u001b[0m\n",
      "\u001b[1m\u001b[35m    +----------+--------------------------------+\u001b[0m\n"
     ]
    }
   ],
   "source": [
    "w = torch.tensor(3.0, requires_grad=True)\n",
    "b = torch.tensor(1.0, requires_grad=True)\n",
    "\n",
    "tabulation = Form_Generator()\n",
    "tabulation.heading_printer(\"Initial assignment of parameters\")\n",
    "\n",
    "statements = [\n",
    "    \"\"\"\n",
    "w = torch.tensor(3.0, requires_grad=True)\n",
    "b = torch.tensor(1.0, requires_grad=True)\n",
    "\"\"\"\n",
    "]\n",
    "tabulation.statement_generator(statements)\n",
    "\n",
    "variables = [\"w\", \"b\"]\n",
    "values = [str(w), str(b)]\n",
    "tabulation.variable_generator(variables, values)"
   ]
  },
  {
   "cell_type": "code",
   "execution_count": 10,
   "id": "a3e6732f",
   "metadata": {
    "ExecuteTime": {
     "end_time": "2022-12-03T14:09:52.849831Z",
     "start_time": "2022-12-03T14:09:52.846686Z"
    },
    "hide_input": false
   },
   "outputs": [
    {
     "name": "stdout",
     "output_type": "stream",
     "text": [
      "\u001b[4m\u001b[37mFunction implementation with 0D tensor\u001b[0m\n",
      "\n",
      "\u001b[1m\u001b[37m    +---------------------+\u001b[0m\n",
      "\u001b[1m\u001b[37m    | Statement           |\u001b[0m\n",
      "\u001b[1m\u001b[37m    +---------------------+\u001b[0m\n",
      "\u001b[1m\u001b[37m    | x = torch.tensor(2) |\u001b[0m\n",
      "\u001b[1m\u001b[37m    +---------------------+\u001b[0m\n",
      "\u001b[1m\u001b[37m    +----------+-----------+\u001b[0m\n",
      "\u001b[1m\u001b[37m    | Variable | Value     |\u001b[0m\n",
      "\u001b[1m\u001b[37m    +----------+-----------+\u001b[0m\n",
      "\u001b[1m\u001b[37m    | x        | tensor(2) |\u001b[0m\n",
      "\u001b[1m\u001b[37m    +----------+-----------+\u001b[0m\n",
      "\u001b[1m\u001b[37m    +------------+------------------------------------+\u001b[0m\n",
      "\u001b[1m\u001b[37m    | Expression | Result                             |\u001b[0m\n",
      "\u001b[1m\u001b[37m    +------------+------------------------------------+\u001b[0m\n",
      "\u001b[1m\u001b[37m    | forward(x) | tensor(7., grad_fn=⟨AddBackward0⟩) |\u001b[0m\n",
      "\u001b[1m\u001b[37m    +------------+------------------------------------+\u001b[0m\n"
     ]
    }
   ],
   "source": [
    "x = torch.tensor(2)\n",
    "\n",
    "tabulation = Form_Generator()\n",
    "tabulation.heading_printer(\"Function implementation with 0D tensor\")\n",
    "\n",
    "statements = [\"x = torch.tensor(2)\"]\n",
    "tabulation.statement_generator(statements)\n",
    "\n",
    "variables = [\"x\"]\n",
    "values = [str(x)]\n",
    "tabulation.variable_generator(variables, values)\n",
    "\n",
    "expressions = [\"forward(x)\"]\n",
    "results = [str(forward(x))]\n",
    "tabulation.expression_generator(expressions, results)"
   ]
  },
  {
   "cell_type": "code",
   "execution_count": 11,
   "id": "5e292920",
   "metadata": {
    "ExecuteTime": {
     "end_time": "2022-12-03T14:09:52.854100Z",
     "start_time": "2022-12-03T14:09:52.850721Z"
    },
    "hide_input": false
   },
   "outputs": [
    {
     "name": "stdout",
     "output_type": "stream",
     "text": [
      "\u001b[4m\u001b[31mFunction implementation with multi-D tensor\u001b[0m\n",
      "\n",
      "\u001b[1m\u001b[31m    +------------------------------+\u001b[0m\n",
      "\u001b[1m\u001b[31m    | Statement                    |\u001b[0m\n",
      "\u001b[1m\u001b[31m    +------------------------------+\u001b[0m\n",
      "\u001b[1m\u001b[31m    | x = torch.tensor([[4], [7]]) |\u001b[0m\n",
      "\u001b[1m\u001b[31m    +------------------------------+\u001b[0m\n",
      "\u001b[1m\u001b[31m    +----------+---------------+\u001b[0m\n",
      "\u001b[1m\u001b[31m    | Variable | Value         |\u001b[0m\n",
      "\u001b[1m\u001b[31m    +----------+---------------+\u001b[0m\n",
      "\u001b[1m\u001b[31m    | x        | tensor([[4],  |\u001b[0m\n",
      "\u001b[1m\u001b[31m    |          |         [7]]) |\u001b[0m\n",
      "\u001b[1m\u001b[31m    +----------+---------------+\u001b[0m\n",
      "\u001b[1m\u001b[31m    +------------+-----------------------------------------+\u001b[0m\n",
      "\u001b[1m\u001b[31m    | Expression | Result                                  |\u001b[0m\n",
      "\u001b[1m\u001b[31m    +------------+-----------------------------------------+\u001b[0m\n",
      "\u001b[1m\u001b[31m    | forward(x) | tensor([[13.],                          |\u001b[0m\n",
      "\u001b[1m\u001b[31m    |            |         [22.]], grad_fn=⟨AddBackward0⟩) |\u001b[0m\n",
      "\u001b[1m\u001b[31m    +------------+-----------------------------------------+\u001b[0m\n"
     ]
    }
   ],
   "source": [
    "x = torch.tensor([[4], [7]])\n",
    "\n",
    "tabulation = Form_Generator()\n",
    "tabulation.heading_printer(\"Function implementation with multi-D tensor\")\n",
    "\n",
    "statements = [\"x = torch.tensor([[4], [7]])\"]\n",
    "tabulation.statement_generator(statements)\n",
    "\n",
    "variables = [\"x\"]\n",
    "values = [str(x)]\n",
    "tabulation.variable_generator(variables, values)\n",
    "\n",
    "expressions = [\"forward(x)\"]\n",
    "results = [str(forward(x))]\n",
    "tabulation.expression_generator(expressions, results)"
   ]
  },
  {
   "cell_type": "markdown",
   "id": "010e1216",
   "metadata": {},
   "source": [
    "## Linear Class"
   ]
  },
  {
   "cell_type": "code",
   "execution_count": 12,
   "id": "06a3a62c",
   "metadata": {
    "ExecuteTime": {
     "end_time": "2022-12-03T14:09:52.858483Z",
     "start_time": "2022-12-03T14:09:52.854878Z"
    }
   },
   "outputs": [
    {
     "name": "stdout",
     "output_type": "stream",
     "text": [
      "\u001b[4m\u001b[34mInitialization of standard linear model\u001b[0m\n",
      "\n",
      "\u001b[1m\u001b[34m    +--------------------------------------------------+\u001b[0m\n",
      "\u001b[1m\u001b[34m    | Statement                                        |\u001b[0m\n",
      "\u001b[1m\u001b[34m    +--------------------------------------------------+\u001b[0m\n",
      "\u001b[1m\u001b[34m    | torch.manual_seed(1)                             |\u001b[0m\n",
      "\u001b[1m\u001b[34m    | model = nn.Linear(in_features=1, out_features=1) |\u001b[0m\n",
      "\u001b[1m\u001b[34m    +--------------------------------------------------+\u001b[0m\n",
      "\u001b[1m\u001b[34m    +----------+--------------------------------------------------+\u001b[0m\n",
      "\u001b[1m\u001b[34m    | Variable | Value                                            |\u001b[0m\n",
      "\u001b[1m\u001b[34m    +----------+--------------------------------------------------+\u001b[0m\n",
      "\u001b[1m\u001b[34m    | model    | Linear(in_features=1, out_features=1, bias=True) |\u001b[0m\n",
      "\u001b[1m\u001b[34m    +----------+--------------------------------------------------+\u001b[0m\n",
      "\u001b[1m\u001b[34m    +--------------+----------------------------------------+\u001b[0m\n",
      "\u001b[1m\u001b[34m    | Expression   | Result                                 |\u001b[0m\n",
      "\u001b[1m\u001b[34m    +--------------+----------------------------------------+\u001b[0m\n",
      "\u001b[1m\u001b[34m    | model.weight | Parameter containing:                  |\u001b[0m\n",
      "\u001b[1m\u001b[34m    |              | tensor([[0.5153]], requires_grad=True) |\u001b[0m\n",
      "\u001b[1m\u001b[34m    | model.bias   | Parameter containing:                  |\u001b[0m\n",
      "\u001b[1m\u001b[34m    |              | tensor([-0.4414], requires_grad=True)  |\u001b[0m\n",
      "\u001b[1m\u001b[34m    +--------------+----------------------------------------+\u001b[0m\n"
     ]
    }
   ],
   "source": [
    "torch.manual_seed(1)\n",
    "model = nn.Linear(in_features=1, out_features=1)\n",
    "\n",
    "tabulation = Form_Generator()\n",
    "tabulation.heading_printer(\"Initialization of standard linear model\")\n",
    "\n",
    "statements = [\n",
    "    \"\"\"\n",
    "torch.manual_seed(1)\n",
    "model = nn.Linear(in_features=1, out_features=1)\n",
    "\"\"\"\n",
    "]\n",
    "tabulation.statement_generator(statements)\n",
    "\n",
    "variables = [\"model\"]\n",
    "values = [str(model)]\n",
    "tabulation.variable_generator(variables, values)\n",
    "\n",
    "expressions = [\"model.weight\", \"model.bias\"]\n",
    "results = [str(model.weight), str(model.bias)]\n",
    "tabulation.expression_generator(expressions, results)"
   ]
  },
  {
   "cell_type": "code",
   "execution_count": 13,
   "id": "664fbcd2",
   "metadata": {
    "ExecuteTime": {
     "end_time": "2022-12-03T14:09:52.862642Z",
     "start_time": "2022-12-03T14:09:52.859492Z"
    }
   },
   "outputs": [
    {
     "name": "stdout",
     "output_type": "stream",
     "text": [
      "\u001b[4m\u001b[36mModel implementation with 1D tensor\u001b[0m\n",
      "\n",
      "\u001b[1m\u001b[36m    +-------------------------+\u001b[0m\n",
      "\u001b[1m\u001b[36m    | Statement               |\u001b[0m\n",
      "\u001b[1m\u001b[36m    +-------------------------+\u001b[0m\n",
      "\u001b[1m\u001b[36m    | x = torch.tensor([2.0]) |\u001b[0m\n",
      "\u001b[1m\u001b[36m    +-------------------------+\u001b[0m\n",
      "\u001b[1m\u001b[36m    +----------+--------------+\u001b[0m\n",
      "\u001b[1m\u001b[36m    | Variable | Value        |\u001b[0m\n",
      "\u001b[1m\u001b[36m    +----------+--------------+\u001b[0m\n",
      "\u001b[1m\u001b[36m    | x        | tensor([2.]) |\u001b[0m\n",
      "\u001b[1m\u001b[36m    +----------+--------------+\u001b[0m\n",
      "\u001b[1m\u001b[36m    +------------+------------------------------------------+\u001b[0m\n",
      "\u001b[1m\u001b[36m    | Expression | Result                                   |\u001b[0m\n",
      "\u001b[1m\u001b[36m    +------------+------------------------------------------+\u001b[0m\n",
      "\u001b[1m\u001b[36m    | model(x)   | tensor([0.5891], grad_fn=⟨AddBackward0⟩) |\u001b[0m\n",
      "\u001b[1m\u001b[36m    +------------+------------------------------------------+\u001b[0m\n"
     ]
    }
   ],
   "source": [
    "x = torch.tensor([2.0])\n",
    "\n",
    "tabulation = Form_Generator()\n",
    "tabulation.heading_printer(\"Model implementation with 1D tensor\")\n",
    "\n",
    "statements = [\"x = torch.tensor([2.0])\"]\n",
    "tabulation.statement_generator(statements)\n",
    "\n",
    "variables = [\"x\"]\n",
    "values = [str(x)]\n",
    "tabulation.variable_generator(variables, values)\n",
    "\n",
    "expressions = [\"model(x)\"]\n",
    "results = [str(model(x))]\n",
    "tabulation.expression_generator(expressions, results)"
   ]
  },
  {
   "cell_type": "code",
   "execution_count": 14,
   "id": "ab5dcc5b",
   "metadata": {
    "ExecuteTime": {
     "end_time": "2022-12-03T14:09:52.867448Z",
     "start_time": "2022-12-03T14:09:52.863716Z"
    }
   },
   "outputs": [
    {
     "name": "stdout",
     "output_type": "stream",
     "text": [
      "\u001b[4m\u001b[30mModel implementation with multi-D tensor\u001b[0m\n",
      "\n",
      "\u001b[1m\u001b[30m    +----------------------------------+\u001b[0m\n",
      "\u001b[1m\u001b[30m    | Statement                        |\u001b[0m\n",
      "\u001b[1m\u001b[30m    +----------------------------------+\u001b[0m\n",
      "\u001b[1m\u001b[30m    | x = torch.tensor([[2.0], [3.3]]) |\u001b[0m\n",
      "\u001b[1m\u001b[30m    +----------------------------------+\u001b[0m\n",
      "\u001b[1m\u001b[30m    +----------+--------------------+\u001b[0m\n",
      "\u001b[1m\u001b[30m    | Variable | Value              |\u001b[0m\n",
      "\u001b[1m\u001b[30m    +----------+--------------------+\u001b[0m\n",
      "\u001b[1m\u001b[30m    | x        | tensor([[2.0000],  |\u001b[0m\n",
      "\u001b[1m\u001b[30m    |          |         [3.3000]]) |\u001b[0m\n",
      "\u001b[1m\u001b[30m    +----------+--------------------+\u001b[0m\n",
      "\u001b[1m\u001b[30m    +------------+----------------------------------------------+\u001b[0m\n",
      "\u001b[1m\u001b[30m    | Expression | Result                                       |\u001b[0m\n",
      "\u001b[1m\u001b[30m    +------------+----------------------------------------------+\u001b[0m\n",
      "\u001b[1m\u001b[30m    | model(x)   | tensor([[0.5891],                            |\u001b[0m\n",
      "\u001b[1m\u001b[30m    |            |         [1.2590]], grad_fn=⟨AddmmBackward0⟩) |\u001b[0m\n",
      "\u001b[1m\u001b[30m    +------------+----------------------------------------------+\u001b[0m\n"
     ]
    }
   ],
   "source": [
    "x = torch.tensor([[2.0], [3.3]])\n",
    "\n",
    "tabulation = Form_Generator()\n",
    "tabulation.heading_printer(\"Model implementation with multi-D tensor\")\n",
    "\n",
    "statements = [\"x = torch.tensor([[2.0], [3.3]])\"]\n",
    "tabulation.statement_generator(statements)\n",
    "\n",
    "variables = [\"x\"]\n",
    "values = [str(x)]\n",
    "tabulation.variable_generator(variables, values)\n",
    "\n",
    "expressions = [\"model(x)\"]\n",
    "results = [str(model(x))]\n",
    "tabulation.expression_generator(expressions, results)"
   ]
  },
  {
   "cell_type": "markdown",
   "id": "985eeeb1",
   "metadata": {},
   "source": [
    "## Custom Modules"
   ]
  },
  {
   "cell_type": "code",
   "execution_count": 15,
   "id": "b4957565",
   "metadata": {
    "ExecuteTime": {
     "end_time": "2022-12-03T14:09:52.873821Z",
     "start_time": "2022-12-03T14:09:52.868488Z"
    }
   },
   "outputs": [
    {
     "name": "stdout",
     "output_type": "stream",
     "text": [
      "\u001b[4m\u001b[33mInitialization of inherited linear classes\u001b[0m\n",
      "\n",
      "\u001b[1m\u001b[33m    +----------------------------------------------------------+\u001b[0m\n",
      "\u001b[1m\u001b[33m    | Definition                                               |\u001b[0m\n",
      "\u001b[1m\u001b[33m    +----------------------------------------------------------+\u001b[0m\n",
      "\u001b[1m\u001b[33m    | class LR(nn.Module):                                     |\u001b[0m\n",
      "\u001b[1m\u001b[33m    |                                                          |\u001b[0m\n",
      "\u001b[1m\u001b[33m    |     def __init__(self, input_size, output_size):         |\u001b[0m\n",
      "\u001b[1m\u001b[33m    |         super().__init__()                               |\u001b[0m\n",
      "\u001b[1m\u001b[33m    |         self.linear = nn.Linear(input_size, output_size) |\u001b[0m\n",
      "\u001b[1m\u001b[33m    |                                                          |\u001b[0m\n",
      "\u001b[1m\u001b[33m    |     def forward(self, x):                                |\u001b[0m\n",
      "\u001b[1m\u001b[33m    |         pred = self.linear(x)                            |\u001b[0m\n",
      "\u001b[1m\u001b[33m    |         return pred                                      |\u001b[0m\n",
      "\u001b[1m\u001b[33m    +----------------------------------------------------------+\u001b[0m\n",
      "\u001b[1m\u001b[33m    +----------------------+\u001b[0m\n",
      "\u001b[1m\u001b[33m    | Statement            |\u001b[0m\n",
      "\u001b[1m\u001b[33m    +----------------------+\u001b[0m\n",
      "\u001b[1m\u001b[33m    | torch.manual_seed(1) |\u001b[0m\n",
      "\u001b[1m\u001b[33m    | model = LR(1, 1)     |\u001b[0m\n",
      "\u001b[1m\u001b[33m    +----------------------+\u001b[0m\n",
      "\u001b[1m\u001b[33m    +----------+------------------------------------+\u001b[0m\n",
      "\u001b[1m\u001b[33m    | Variable | Value                              |\u001b[0m\n",
      "\u001b[1m\u001b[33m    +----------+------------------------------------+\u001b[0m\n",
      "\u001b[1m\u001b[33m    | model    | LR(                                |\u001b[0m\n",
      "\u001b[1m\u001b[33m    |          |   (linear): Linear(in_features=1,  |\u001b[0m\n",
      "\u001b[1m\u001b[33m    |          |         out_features=1, bias=True) |\u001b[0m\n",
      "\u001b[1m\u001b[33m    |          | )                                  |\u001b[0m\n",
      "\u001b[1m\u001b[33m    +----------+------------------------------------+\u001b[0m\n",
      "\u001b[1m\u001b[33m    +--------------------------+-------------------------------+\u001b[0m\n",
      "\u001b[1m\u001b[33m    | Expression               | Result                        |\u001b[0m\n",
      "\u001b[1m\u001b[33m    +--------------------------+-------------------------------+\u001b[0m\n",
      "\u001b[1m\u001b[33m    | model.parameters()       | ⟨generator object             |\u001b[0m\n",
      "\u001b[1m\u001b[33m    |                          |         Module.parameters at  |\u001b[0m\n",
      "\u001b[1m\u001b[33m    |                          |         0x14af46ba0⟩          |\u001b[0m\n",
      "\u001b[1m\u001b[33m    | list(model.parameters()) | [Parameter containing:        |\u001b[0m\n",
      "\u001b[1m\u001b[33m    |                          | tensor([[0.5153]],            |\u001b[0m\n",
      "\u001b[1m\u001b[33m    |                          |         requires_grad=True),  |\u001b[0m\n",
      "\u001b[1m\u001b[33m    |                          |         Parameter containing: |\u001b[0m\n",
      "\u001b[1m\u001b[33m    |                          | tensor([-0.4414],             |\u001b[0m\n",
      "\u001b[1m\u001b[33m    |                          |         requires_grad=True)]  |\u001b[0m\n",
      "\u001b[1m\u001b[33m    +--------------------------+-------------------------------+\u001b[0m\n"
     ]
    }
   ],
   "source": [
    "class LR(nn.Module):\n",
    "\n",
    "    def __init__(self, input_size, output_size):\n",
    "        super().__init__()\n",
    "        self.linear = nn.Linear(input_size, output_size)\n",
    "\n",
    "    def forward(self, x):\n",
    "        pred = self.linear(x)\n",
    "        return pred\n",
    "\n",
    "\n",
    "torch.manual_seed(1)\n",
    "model = LR(1, 1)\n",
    "\n",
    "tabulation = Form_Generator()\n",
    "tabulation.heading_printer(\"Initialization of inherited linear classes\")\n",
    "\n",
    "definitions = [\n",
    "    \"\"\"\n",
    "class LR(nn.Module):\n",
    "\n",
    "    def __init__(self, input_size, output_size):\n",
    "        super().__init__()\n",
    "        self.linear = nn.Linear(input_size, output_size)\n",
    "\n",
    "    def forward(self, x):\n",
    "        pred = self.linear(x)\n",
    "        return pred\n",
    "\"\"\"\n",
    "]\n",
    "tabulation.definition_generator(definitions)\n",
    "\n",
    "statements = [\"\"\"\n",
    "torch.manual_seed(1)\n",
    "model = LR(1, 1)\n",
    "\"\"\"]\n",
    "tabulation.statement_generator(statements)\n",
    "\n",
    "variables = [\"model\"]\n",
    "values = [str(model)]\n",
    "tabulation.variable_generator(variables, values)\n",
    "\n",
    "expressions = [\"model.parameters()\", \"list(model.parameters())\"]\n",
    "results = [str(model.parameters()), str(list(model.parameters()))]\n",
    "tabulation.expression_generator(expressions, results)"
   ]
  },
  {
   "cell_type": "code",
   "execution_count": 16,
   "id": "6ba13ce1",
   "metadata": {
    "ExecuteTime": {
     "end_time": "2022-12-03T14:09:52.878639Z",
     "start_time": "2022-12-03T14:09:52.874882Z"
    }
   },
   "outputs": [
    {
     "name": "stdout",
     "output_type": "stream",
     "text": [
      "\u001b[4m\u001b[36mImplementation of custom model with 1D tensor\u001b[0m\n",
      "\n",
      "\u001b[1m\u001b[36m    +-------------------------+\u001b[0m\n",
      "\u001b[1m\u001b[36m    | Statement               |\u001b[0m\n",
      "\u001b[1m\u001b[36m    +-------------------------+\u001b[0m\n",
      "\u001b[1m\u001b[36m    | x = torch.tensor([1.0]) |\u001b[0m\n",
      "\u001b[1m\u001b[36m    +-------------------------+\u001b[0m\n",
      "\u001b[1m\u001b[36m    +----------+--------------+\u001b[0m\n",
      "\u001b[1m\u001b[36m    | Variable | Value        |\u001b[0m\n",
      "\u001b[1m\u001b[36m    +----------+--------------+\u001b[0m\n",
      "\u001b[1m\u001b[36m    | x        | tensor([1.]) |\u001b[0m\n",
      "\u001b[1m\u001b[36m    +----------+--------------+\u001b[0m\n",
      "\u001b[1m\u001b[36m    +------------------+------------------------------------------+\u001b[0m\n",
      "\u001b[1m\u001b[36m    | Expression       | Result                                   |\u001b[0m\n",
      "\u001b[1m\u001b[36m    +------------------+------------------------------------------+\u001b[0m\n",
      "\u001b[1m\u001b[36m    | model.forward(x) | tensor([0.0739], grad_fn=⟨AddBackward0⟩) |\u001b[0m\n",
      "\u001b[1m\u001b[36m    +------------------+------------------------------------------+\u001b[0m\n"
     ]
    }
   ],
   "source": [
    "x = torch.tensor([1.0])\n",
    "\n",
    "tabulation = Form_Generator()\n",
    "tabulation.heading_printer(\"Implementation of custom model with 1D tensor\")\n",
    "\n",
    "statements = [\"x = torch.tensor([1.0])\"]\n",
    "tabulation.statement_generator(statements)\n",
    "\n",
    "variables = [\"x\"]\n",
    "values = [str(x)]\n",
    "tabulation.variable_generator(variables, values)\n",
    "\n",
    "expressions = [\"model.forward(x)\"]\n",
    "results = [str(model.forward(x))]\n",
    "tabulation.expression_generator(expressions, results)"
   ]
  },
  {
   "cell_type": "code",
   "execution_count": 17,
   "id": "a7551e0d",
   "metadata": {
    "ExecuteTime": {
     "end_time": "2022-12-03T14:09:52.883175Z",
     "start_time": "2022-12-03T14:09:52.879728Z"
    }
   },
   "outputs": [
    {
     "name": "stdout",
     "output_type": "stream",
     "text": [
      "\u001b[4m\u001b[30mImplementation of custom model with multi-D tensor\u001b[0m\n",
      "\n",
      "\u001b[1m\u001b[30m    +----------------------------------+\u001b[0m\n",
      "\u001b[1m\u001b[30m    | Statement                        |\u001b[0m\n",
      "\u001b[1m\u001b[30m    +----------------------------------+\u001b[0m\n",
      "\u001b[1m\u001b[30m    | x = torch.tensor([[1.0], [2.0]]) |\u001b[0m\n",
      "\u001b[1m\u001b[30m    +----------------------------------+\u001b[0m\n",
      "\u001b[1m\u001b[30m    +----------+----------------+\u001b[0m\n",
      "\u001b[1m\u001b[30m    | Variable | Value          |\u001b[0m\n",
      "\u001b[1m\u001b[30m    +----------+----------------+\u001b[0m\n",
      "\u001b[1m\u001b[30m    | x        | tensor([[1.],  |\u001b[0m\n",
      "\u001b[1m\u001b[30m    |          |         [2.]]) |\u001b[0m\n",
      "\u001b[1m\u001b[30m    +----------+----------------+\u001b[0m\n",
      "\u001b[1m\u001b[30m    +------------------+-----------------------------------+\u001b[0m\n",
      "\u001b[1m\u001b[30m    | Expression       | Result                            |\u001b[0m\n",
      "\u001b[1m\u001b[30m    +------------------+-----------------------------------+\u001b[0m\n",
      "\u001b[1m\u001b[30m    | model.forward(x) | tensor([[0.0739],                 |\u001b[0m\n",
      "\u001b[1m\u001b[30m    |                  |         [0.5891]],                |\u001b[0m\n",
      "\u001b[1m\u001b[30m    |                  |         grad_fn=⟨AddmmBackward0⟩) |\u001b[0m\n",
      "\u001b[1m\u001b[30m    +------------------+-----------------------------------+\u001b[0m\n"
     ]
    }
   ],
   "source": [
    "x = torch.tensor([[1.0], [2.0]])\n",
    "\n",
    "tabulation = Form_Generator()\n",
    "tabulation.heading_printer(\n",
    "    \"Implementation of custom model with multi-D tensor\")\n",
    "\n",
    "statements = [\"x = torch.tensor([[1.0], [2.0]])\"]\n",
    "tabulation.statement_generator(statements)\n",
    "\n",
    "variables = [\"x\"]\n",
    "values = [str(x)]\n",
    "tabulation.variable_generator(variables, values)\n",
    "\n",
    "expressions = [\"model.forward(x)\"]\n",
    "results = [str(model.forward(x))]\n",
    "tabulation.expression_generator(expressions, results)"
   ]
  },
  {
   "cell_type": "markdown",
   "id": "3bf733a9",
   "metadata": {
    "ExecuteTime": {
     "end_time": "2022-07-21T01:19:38.272762Z",
     "start_time": "2022-07-21T01:19:38.266612Z"
    }
   },
   "source": [
    "## Creating Dataset"
   ]
  },
  {
   "cell_type": "code",
   "execution_count": 18,
   "id": "9b67b4ce",
   "metadata": {
    "ExecuteTime": {
     "end_time": "2022-12-03T14:09:52.888869Z",
     "start_time": "2022-12-03T14:09:52.884436Z"
    },
    "scrolled": false
   },
   "outputs": [
    {
     "name": "stdout",
     "output_type": "stream",
     "text": [
      "\u001b[4m\u001b[31mCreation of normally distributed data with random numbers\u001b[0m\n",
      "\n",
      "\u001b[1m\u001b[31m    +-------------------------+\u001b[0m\n",
      "\u001b[1m\u001b[31m    | Statement               |\u001b[0m\n",
      "\u001b[1m\u001b[31m    +-------------------------+\u001b[0m\n",
      "\u001b[1m\u001b[31m    | X = torch.randn(100, 1) |\u001b[0m\n",
      "\u001b[1m\u001b[31m    +-------------------------+\u001b[0m\n",
      "\u001b[1m\u001b[31m    +----------+-----------------------+\u001b[0m\n",
      "\u001b[1m\u001b[31m    | Variable | Value                 |\u001b[0m\n",
      "\u001b[1m\u001b[31m    +----------+-----------------------+\u001b[0m\n",
      "\u001b[1m\u001b[31m    | X        | tensor([[-0.6540],    |\u001b[0m\n",
      "\u001b[1m\u001b[31m    |          |         [-1.6095],    |\u001b[0m\n",
      "\u001b[1m\u001b[31m    |          |         [-0.1002],    |\u001b[0m\n",
      "\u001b[1m\u001b[31m    |          |         [-0.6092],    |\u001b[0m\n",
      "\u001b[1m\u001b[31m    |          |         [-0.9798],    |\u001b[0m\n",
      "\u001b[1m\u001b[31m    |          |         [-1.6091],    |\u001b[0m\n",
      "\u001b[1m\u001b[31m    |          |         [...-1.1334], |\u001b[0m\n",
      "\u001b[1m\u001b[31m    |          |         [-0.1010],    |\u001b[0m\n",
      "\u001b[1m\u001b[31m    |          |         [ 0.3434],    |\u001b[0m\n",
      "\u001b[1m\u001b[31m    |          |         [-1.0703],    |\u001b[0m\n",
      "\u001b[1m\u001b[31m    |          |         [-0.8743],    |\u001b[0m\n",
      "\u001b[1m\u001b[31m    |          |         [-1.4648],    |\u001b[0m\n",
      "\u001b[1m\u001b[31m    |          |         [-1.2629]])   |\u001b[0m\n",
      "\u001b[1m\u001b[31m    +----------+-----------------------+\u001b[0m\n",
      "\u001b[1m\u001b[31m    +------------+----------------------+\u001b[0m\n",
      "\u001b[1m\u001b[31m    | Expression | Result               |\u001b[0m\n",
      "\u001b[1m\u001b[31m    +------------+----------------------+\u001b[0m\n",
      "\u001b[1m\u001b[31m    | X.size()   | torch.Size([100, 1]) |\u001b[0m\n",
      "\u001b[1m\u001b[31m    | X[0]       | tensor([-0.6540])    |\u001b[0m\n",
      "\u001b[1m\u001b[31m    | X[-1]      | tensor([-1.2629])    |\u001b[0m\n",
      "\u001b[1m\u001b[31m    +------------+----------------------+\u001b[0m\n"
     ]
    }
   ],
   "source": [
    "X = torch.randn(100, 1)\n",
    "\n",
    "tabulation = Form_Generator()\n",
    "tabulation.heading_printer(\n",
    "    \"Creation of normally distributed data with random numbers\")\n",
    "\n",
    "statements = [\"X = torch.randn(100, 1)\"]\n",
    "tabulation.statement_generator(statements)\n",
    "\n",
    "variables = [\"X\"]\n",
    "values = [str(reprlib_rules.repr(X))]\n",
    "tabulation.variable_generator(variables, values)\n",
    "\n",
    "expressions = [\"X.size()\", \"X[0]\", \"X[-1]\"]\n",
    "results = [str(X.size()), str(X[0]), str(X[-1])]\n",
    "tabulation.expression_generator(expressions, results)"
   ]
  },
  {
   "cell_type": "code",
   "execution_count": 19,
   "id": "d54f9a3d",
   "metadata": {
    "ExecuteTime": {
     "end_time": "2022-12-03T14:09:53.038017Z",
     "start_time": "2022-12-03T14:09:52.889822Z"
    }
   },
   "outputs": [
    {
     "data": {
      "image/png": "[encoded data removed]",
      "text/plain": [
       "<Figure size 1600x450 with 2 Axes>"
      ]
     },
     "metadata": {},
     "output_type": "display_data"
    }
   ],
   "source": [
    "colors = calm_color_generator(2)\n",
    "plt.rcParams[\"figure.figsize\"] = (figure_size[0], figure_size[1] / 2)\n",
    "\n",
    "fig, axs = plt.subplots(1, 2, sharey=True)\n",
    "\n",
    "X = torch.randn(100, 1) * 10\n",
    "y = X\n",
    "axs[0].plot(X.numpy(), y.numpy(), \"o\", c=colors.pop(0))\n",
    "axs[0].set_title(\"Normally distributed data without bias\",\n",
    "                 loc=\"center\",\n",
    "                 pad=15)\n",
    "\n",
    "y = X + 3 * torch.randn(100, 1)\n",
    "axs[1].plot(X.numpy(), y.numpy(), \"o\", c=colors.pop(0))\n",
    "axs[1].set_title(\"Normally distributed data with bias\", loc=\"center\", pad=15)\n",
    "\n",
    "for ax in axs.flat:\n",
    "    ax.set(xlabel=\"X\", ylabel=\"y\")\n",
    "    ax.label_outer()\n",
    "\n",
    "fig.suptitle(\"Visual Comparison of Normally Distributed Data\",\n",
    "             fontsize=\"x-large\",\n",
    "             x=0.5,\n",
    "             y=0)\n",
    "\n",
    "plt.tight_layout()\n",
    "plt.show()"
   ]
  },
  {
   "cell_type": "code",
   "execution_count": 20,
   "id": "1a46733b",
   "metadata": {
    "ExecuteTime": {
     "end_time": "2022-12-03T14:09:53.043707Z",
     "start_time": "2022-12-03T14:09:53.038943Z"
    }
   },
   "outputs": [
    {
     "name": "stdout",
     "output_type": "stream",
     "text": [
      "\u001b[4m\u001b[35mModel parameter unpacking\u001b[0m\n",
      "\n",
      "\u001b[1m\u001b[35m    +---------------------------+\u001b[0m\n",
      "\u001b[1m\u001b[35m    | Statement                 |\u001b[0m\n",
      "\u001b[1m\u001b[35m    +---------------------------+\u001b[0m\n",
      "\u001b[1m\u001b[35m    | w, b = model.parameters() |\u001b[0m\n",
      "\u001b[1m\u001b[35m    | w1 = w[0][0]              |\u001b[0m\n",
      "\u001b[1m\u001b[35m    | b1 = b[0]                 |\u001b[0m\n",
      "\u001b[1m\u001b[35m    +---------------------------+\u001b[0m\n",
      "\u001b[1m\u001b[35m    +----------+--------------------------------------------+\u001b[0m\n",
      "\u001b[1m\u001b[35m    | Variable | Value                                      |\u001b[0m\n",
      "\u001b[1m\u001b[35m    +----------+--------------------------------------------+\u001b[0m\n",
      "\u001b[1m\u001b[35m    | w        | Parameter containing:                      |\u001b[0m\n",
      "\u001b[1m\u001b[35m    |          | tensor([[0.5153]], requires_grad=True)     |\u001b[0m\n",
      "\u001b[1m\u001b[35m    | b        | Parameter containing:                      |\u001b[0m\n",
      "\u001b[1m\u001b[35m    |          | tensor([-0.4414], requires_grad=True)      |\u001b[0m\n",
      "\u001b[1m\u001b[35m    | w1       | tensor(0.5153, grad_fn=⟨SelectBackward0⟩)  |\u001b[0m\n",
      "\u001b[1m\u001b[35m    | b1       | tensor(-0.4414, grad_fn=⟨SelectBackward0⟩) |\u001b[0m\n",
      "\u001b[1m\u001b[35m    +----------+--------------------------------------------+\u001b[0m\n"
     ]
    }
   ],
   "source": [
    "w, b = model.parameters()\n",
    "w1 = w[0][0]\n",
    "b1 = b[0]\n",
    "\n",
    "tabulation = Form_Generator()\n",
    "tabulation.heading_printer(\"Model parameter unpacking\")\n",
    "\n",
    "statements = [\"\"\"\n",
    "w, b = model.parameters()\n",
    "w1 = w[0][0]\n",
    "b1 = b[0]\n",
    "\"\"\"]\n",
    "tabulation.statement_generator(statements)\n",
    "\n",
    "variables = [\"w\", \"b\", \"w1\", \"b1\"]\n",
    "values = [str(w), str(b), str(w1), str(b1)]\n",
    "tabulation.variable_generator(variables, values)"
   ]
  },
  {
   "cell_type": "code",
   "execution_count": 21,
   "id": "7bcec66b",
   "metadata": {
    "ExecuteTime": {
     "end_time": "2022-12-03T14:09:53.047777Z",
     "start_time": "2022-12-03T14:09:53.044695Z"
    }
   },
   "outputs": [
    {
     "name": "stdout",
     "output_type": "stream",
     "text": [
      "\u001b[4m\u001b[34mValue extraction by unpacking model parameters\u001b[0m\n",
      "\n",
      "\u001b[1m\u001b[34m    +---------------------+\u001b[0m\n",
      "\u001b[1m\u001b[34m    | Statement           |\u001b[0m\n",
      "\u001b[1m\u001b[34m    +---------------------+\u001b[0m\n",
      "\u001b[1m\u001b[34m    | w1 = w[0][0].item() |\u001b[0m\n",
      "\u001b[1m\u001b[34m    | b1 = b[0].item()    |\u001b[0m\n",
      "\u001b[1m\u001b[34m    +---------------------+\u001b[0m\n",
      "\u001b[1m\u001b[34m    +----------+----------------------+\u001b[0m\n",
      "\u001b[1m\u001b[34m    | Variable | Value                |\u001b[0m\n",
      "\u001b[1m\u001b[34m    +----------+----------------------+\u001b[0m\n",
      "\u001b[1m\u001b[34m    | w1       | 0.5152631998062134   |\u001b[0m\n",
      "\u001b[1m\u001b[34m    | b1       | -0.44137823581695557 |\u001b[0m\n",
      "\u001b[1m\u001b[34m    +----------+----------------------+\u001b[0m\n"
     ]
    }
   ],
   "source": [
    "w1 = w[0][0].item()\n",
    "b1 = b[0].item()\n",
    "\n",
    "tabulation = Form_Generator()\n",
    "tabulation.heading_printer(\"Value extraction by unpacking model parameters\")\n",
    "\n",
    "statements = [\"\"\"\n",
    "w1 = w[0][0].item()\n",
    "b1 = b[0].item()\n",
    "\"\"\"]\n",
    "tabulation.statement_generator(statements)\n",
    "\n",
    "variables = [\"w1\", \"b1\"]\n",
    "values = [str(w1), str(b1)]\n",
    "tabulation.variable_generator(variables, values)"
   ]
  },
  {
   "cell_type": "code",
   "execution_count": 22,
   "id": "a6c9fc67",
   "metadata": {
    "ExecuteTime": {
     "end_time": "2022-12-03T14:09:53.052086Z",
     "start_time": "2022-12-03T14:09:53.048739Z"
    },
    "scrolled": true
   },
   "outputs": [
    {
     "name": "stdout",
     "output_type": "stream",
     "text": [
      "\u001b[4m\u001b[37mDefinition of visualization function\u001b[0m\n",
      "\n",
      "\u001b[1m\u001b[37m    +------------------------------------------+\u001b[0m\n",
      "\u001b[1m\u001b[37m    | Definition                               |\u001b[0m\n",
      "\u001b[1m\u001b[37m    +------------------------------------------+\u001b[0m\n",
      "\u001b[1m\u001b[37m    | def get_params():                        |\u001b[0m\n",
      "\u001b[1m\u001b[37m    |     return (w[0][0].item(), b[0].item()) |\u001b[0m\n",
      "\u001b[1m\u001b[37m    |                                          |\u001b[0m\n",
      "\u001b[1m\u001b[37m    |                                          |\u001b[0m\n",
      "\u001b[1m\u001b[37m    | def plot_fit(title):                     |\u001b[0m\n",
      "\u001b[1m\u001b[37m    |     global colors                        |\u001b[0m\n",
      "\u001b[1m\u001b[37m    |     plt.title(label=title)               |\u001b[0m\n",
      "\u001b[1m\u001b[37m    |     w1, b1 = get_params()                |\u001b[0m\n",
      "\u001b[1m\u001b[37m    |     X1 = np.array([-30, 30])             |\u001b[0m\n",
      "\u001b[1m\u001b[37m    |     y1 = w1 * X1 + b1                    |\u001b[0m\n",
      "\u001b[1m\u001b[37m    |     plt.plot(X1, y1, c=colors.pop(0))    |\u001b[0m\n",
      "\u001b[1m\u001b[37m    |     plt.scatter(X, y, c=colors.pop(0))   |\u001b[0m\n",
      "\u001b[1m\u001b[37m    +------------------------------------------+\u001b[0m\n"
     ]
    }
   ],
   "source": [
    "def get_params():\n",
    "    return (w[0][0].item(), b[0].item())\n",
    "\n",
    "\n",
    "def plot_fit(title):\n",
    "    global colors\n",
    "    plt.title(label=title)\n",
    "    w1, b1 = get_params()\n",
    "    X1 = np.array([-30, 30])\n",
    "    y1 = w1 * X1 + b1\n",
    "    plt.plot(X1, y1, c=colors.pop(0))\n",
    "    plt.scatter(X, y, c=colors.pop(0))\n",
    "\n",
    "\n",
    "tabulation = Form_Generator()\n",
    "tabulation.heading_printer(\"Definition of visualization function\")\n",
    "\n",
    "definitions = [\n",
    "    \"\"\"\n",
    "def get_params():\n",
    "    return (w[0][0].item(), b[0].item())\n",
    "\n",
    "\n",
    "def plot_fit(title):\n",
    "    global colors\n",
    "    plt.title(label=title)\n",
    "    w1, b1 = get_params()\n",
    "    X1 = np.array([-30, 30])\n",
    "    y1 = w1 * X1 + b1\n",
    "    plt.plot(X1, y1, c=colors.pop(0))\n",
    "    plt.scatter(X, y, c=colors.pop(0))\n",
    "\"\"\"\n",
    "]\n",
    "tabulation.definition_generator(definitions)"
   ]
  },
  {
   "cell_type": "code",
   "execution_count": 23,
   "id": "f24b45ba",
   "metadata": {
    "ExecuteTime": {
     "end_time": "2022-12-03T14:09:53.200218Z",
     "start_time": "2022-12-03T14:09:53.053157Z"
    }
   },
   "outputs": [
    {
     "data": {
      "image/png": "[encoded data removed]",
      "text/plain": [
       "<Figure size 1600x450 with 2 Axes>"
      ]
     },
     "metadata": {},
     "output_type": "display_data"
    }
   ],
   "source": [
    "colors = calm_color_generator(4)\n",
    "plt.rcParams[\"figure.figsize\"] = (figure_size[0], figure_size[1] / 2)\n",
    "\n",
    "fig, axs = plt.subplots(1, 2, sharey=True)\n",
    "\n",
    "plt.subplot(1, 2, 1)\n",
    "plot_fit(\"Initial model\")\n",
    "plt.title(axs[0].get_title(), loc=\"center\", pad=15)\n",
    "\n",
    "plt.subplot(1, 2, 2)\n",
    "X1 = np.array([-30, 30])\n",
    "y1 = X1 + 3 * np.random.randn(2)\n",
    "plt.plot(X1, y1, c=colors.pop(0))\n",
    "plt.scatter(X, y, c=colors.pop(0))\n",
    "plt.title(label=\"Ideal model\")\n",
    "\n",
    "for ax in axs.flat:\n",
    "    ax.set(xlabel=\"X\", ylabel=\"y\")\n",
    "    ax.label_outer()\n",
    "\n",
    "fig.suptitle(\"Visual Comparison of Prediction Models\",\n",
    "             fontsize=\"x-large\",\n",
    "             x=0.5,\n",
    "             y=0)\n",
    "\n",
    "plt.tight_layout()\n",
    "plt.show()"
   ]
  },
  {
   "cell_type": "markdown",
   "id": "dace8ef2",
   "metadata": {
    "ExecuteTime": {
     "end_time": "2022-07-21T02:44:23.523234Z",
     "start_time": "2022-07-21T02:44:23.514722Z"
    }
   },
   "source": [
    "## Training - Code Implementation"
   ]
  },
  {
   "cell_type": "code",
   "execution_count": 24,
   "id": "4719057f",
   "metadata": {
    "ExecuteTime": {
     "end_time": "2022-12-03T14:09:53.204295Z",
     "start_time": "2022-12-03T14:09:53.201411Z"
    }
   },
   "outputs": [
    {
     "name": "stdout",
     "output_type": "stream",
     "text": [
      "\u001b[4m\u001b[32mSpecific configuration settings for the training process\u001b[0m\n",
      "\n",
      "\u001b[1m\u001b[32m    +----------------------------------------------------------+\u001b[0m\n",
      "\u001b[1m\u001b[32m    | Statement                                                |\u001b[0m\n",
      "\u001b[1m\u001b[32m    +----------------------------------------------------------+\u001b[0m\n",
      "\u001b[1m\u001b[32m    | criterion = nn.MSELoss()                                 |\u001b[0m\n",
      "\u001b[1m\u001b[32m    | optimizer = torch.optim.SGD(model.parameters(), lr=0.01) |\u001b[0m\n",
      "\u001b[1m\u001b[32m    +----------------------------------------------------------+\u001b[0m\n",
      "\u001b[1m\u001b[32m    +-----------+---------------------------+\u001b[0m\n",
      "\u001b[1m\u001b[32m    | Variable  | Value                     |\u001b[0m\n",
      "\u001b[1m\u001b[32m    +-----------+---------------------------+\u001b[0m\n",
      "\u001b[1m\u001b[32m    | criterion | MSELoss()                 |\u001b[0m\n",
      "\u001b[1m\u001b[32m    | optimizer | SGD (                     |\u001b[0m\n",
      "\u001b[1m\u001b[32m    |           | Parameter Group 0         |\u001b[0m\n",
      "\u001b[1m\u001b[32m    |           |     dampening: 0          |\u001b[0m\n",
      "\u001b[1m\u001b[32m    |           |     differentiable: False |\u001b[0m\n",
      "\u001b[1m\u001b[32m    |           |     foreach: None         |\u001b[0m\n",
      "\u001b[1m\u001b[32m    |           |     lr: 0.01              |\u001b[0m\n",
      "\u001b[1m\u001b[32m    |           |     maximize: False       |\u001b[0m\n",
      "\u001b[1m\u001b[32m    |           |     momentum: 0           |\u001b[0m\n",
      "\u001b[1m\u001b[32m    |           |     nesterov: False       |\u001b[0m\n",
      "\u001b[1m\u001b[32m    |           |     weight_decay: 0       |\u001b[0m\n",
      "\u001b[1m\u001b[32m    |           | )                         |\u001b[0m\n",
      "\u001b[1m\u001b[32m    +-----------+---------------------------+\u001b[0m\n"
     ]
    }
   ],
   "source": [
    "criterion = nn.MSELoss()\n",
    "optimizer = torch.optim.SGD(model.parameters(), lr=0.01)\n",
    "\n",
    "tabulation = Form_Generator()\n",
    "tabulation.heading_printer(\n",
    "    \"Specific configuration settings for the training process\")\n",
    "\n",
    "statements = [\n",
    "    \"\"\"\n",
    "criterion = nn.MSELoss()\n",
    "optimizer = torch.optim.SGD(model.parameters(), lr=0.01)\n",
    "\"\"\"\n",
    "]\n",
    "tabulation.statement_generator(statements)\n",
    "\n",
    "variables = [\"criterion\", \"optimizer\"]\n",
    "values = [str(criterion), str(optimizer)]\n",
    "tabulation.variable_generator(variables, values)"
   ]
  },
  {
   "cell_type": "code",
   "execution_count": 25,
   "id": "2bd4c164",
   "metadata": {
    "ExecuteTime": {
     "end_time": "2022-12-03T14:09:53.231848Z",
     "start_time": "2022-12-03T14:09:53.205286Z"
    },
    "scrolled": false
   },
   "outputs": [
    {
     "name": "stdout",
     "output_type": "stream",
     "text": [
      "\u001b[4m\u001b[33mModel training for a specific number of epochs\u001b[0m\n",
      "\n",
      "\u001b[1m\u001b[33m    +---------------------------------+\u001b[0m\n",
      "\u001b[1m\u001b[33m    | Statement                       |\u001b[0m\n",
      "\u001b[1m\u001b[33m    +---------------------------------+\u001b[0m\n",
      "\u001b[1m\u001b[33m    | epochs = 100                    |\u001b[0m\n",
      "\u001b[1m\u001b[33m    | losses = []                     |\u001b[0m\n",
      "\u001b[1m\u001b[33m    |                                 |\u001b[0m\n",
      "\u001b[1m\u001b[33m    | for i in range(epochs):         |\u001b[0m\n",
      "\u001b[1m\u001b[33m    |     y_pred = model.forward(X)   |\u001b[0m\n",
      "\u001b[1m\u001b[33m    |     loss = criterion(y_pred, y) |\u001b[0m\n",
      "\u001b[1m\u001b[33m    |     losses.append(loss.item())  |\u001b[0m\n",
      "\u001b[1m\u001b[33m    |     optimizer.zero_grad()       |\u001b[0m\n",
      "\u001b[1m\u001b[33m    |     loss.backward()             |\u001b[0m\n",
      "\u001b[1m\u001b[33m    |     optimizer.step()            |\u001b[0m\n",
      "\u001b[1m\u001b[33m    +---------------------------------+\u001b[0m\n",
      "\u001b[1m\u001b[33m    +----------+----------------------------------------------+\u001b[0m\n",
      "\u001b[1m\u001b[33m    | Variable | Value                                        |\u001b[0m\n",
      "\u001b[1m\u001b[33m    +----------+----------------------------------------------+\u001b[0m\n",
      "\u001b[1m\u001b[33m    | X        | [31.370759963989258, 26.575855255126953,     |\u001b[0m\n",
      "\u001b[1m\u001b[33m    |          |  22.768278121948242, 19.744253158569336,     |\u001b[0m\n",
      "\u001b[1m\u001b[33m    |          |  17.342121124267578, 15.43355941772461, ...] |\u001b[0m\n",
      "\u001b[1m\u001b[33m    +----------+----------------------------------------------+\u001b[0m\n",
      "\u001b[1m\u001b[33m    +----+---------+----------+----------+-------------+\u001b[0m\n",
      "\u001b[1m\u001b[33m    |    |   epoch |     loss |        w |           b |\u001b[0m\n",
      "\u001b[1m\u001b[33m    |----+---------+----------+----------+-------------|\u001b[0m\n",
      "\u001b[1m\u001b[33m    |  0 |       1 | 31.3708  | 0.515263 | -0.441378   |\u001b[0m\n",
      "\u001b[1m\u001b[33m    |  1 |       2 | 26.5759  | 1.4508   | -0.431175   |\u001b[0m\n",
      "\u001b[1m\u001b[33m    |  2 |       3 | 22.7683  | 0.617495 | -0.41621    |\u001b[0m\n",
      "\u001b[1m\u001b[33m    |  3 |       4 | 19.7443  | 1.35987  | -0.405968   |\u001b[0m\n",
      "\u001b[1m\u001b[33m    |  4 |       5 | 17.3421  | 0.698629 | -0.39199    |\u001b[0m\n",
      "\u001b[1m\u001b[33m    |   …|        …|         …|         …|            …|\u001b[0m\n",
      "\u001b[1m\u001b[33m    | 95 |      96 |  7.82325 | 1.01159  |  0.106043   |\u001b[0m\n",
      "\u001b[1m\u001b[33m    | 96 |      97 |  7.8229  | 1.01158  |  0.107933   |\u001b[0m\n",
      "\u001b[1m\u001b[33m    | 97 |      98 |  7.82256 | 1.0116   |  0.109784   |\u001b[0m\n",
      "\u001b[1m\u001b[33m    | 98 |      99 |  7.82224 | 1.0116   |  0.111598   |\u001b[0m\n",
      "\u001b[1m\u001b[33m    | 99 |     100 |  7.82192 | 1.01161  |  0.113376   |\u001b[0m\n",
      "\u001b[1m\u001b[33m    +----+---------+----------+----------+-------------+\u001b[0m\n"
     ]
    }
   ],
   "source": [
    "epochs = 100\n",
    "losses = []\n",
    "\n",
    "dataframe = DataFrame_Generator(\"epoch\", \"loss\", \"w\", \"b\")\n",
    "\n",
    "for i in range(epochs):\n",
    "    y_pred = model.forward(X)\n",
    "    loss = criterion(y_pred, y)\n",
    "    losses.append(loss.item())\n",
    "    dataframe.updater(i + 1, loss.item(),\n",
    "                      list(model.parameters())[0][0][0].item(),\n",
    "                      list(model.parameters())[1][0].item())\n",
    "    optimizer.zero_grad()\n",
    "    loss.backward()\n",
    "    optimizer.step()\n",
    "\n",
    "tabulation = Form_Generator()\n",
    "tabulation.heading_printer(\"Model training for a specific number of epochs\")\n",
    "\n",
    "statements = \"\"\"\n",
    "epochs = 100\n",
    "losses = []\n",
    "\n",
    "for i in range(epochs):\n",
    "    y_pred = model.forward(X)\n",
    "    loss = criterion(y_pred, y)\n",
    "    losses.append(loss.item())\n",
    "    optimizer.zero_grad()\n",
    "    loss.backward()\n",
    "    optimizer.step()\n",
    "\"\"\"\n",
    "statements = [statements]\n",
    "tabulation.statement_generator(statements)\n",
    "\n",
    "variables = [\"X\"]\n",
    "values = [str(reprlib_rules.repr(losses))]\n",
    "tabulation.variable_generator(variables, values, expandtabs=1)\n",
    "\n",
    "df_table = dataframe.tabulation()\n",
    "tabulation.dataframe_generator(df_table)"
   ]
  },
  {
   "cell_type": "code",
   "execution_count": 26,
   "id": "56767e9d",
   "metadata": {
    "ExecuteTime": {
     "end_time": "2022-12-03T14:09:53.289318Z",
     "start_time": "2022-12-03T14:09:53.233008Z"
    }
   },
   "outputs": [
    {
     "data": {
      "image/png": "[encoded data removed]",
      "text/plain": [
       "<Figure size 800x450 with 1 Axes>"
      ]
     },
     "metadata": {},
     "output_type": "display_data"
    }
   ],
   "source": [
    "colors = calm_color_generator(1)\n",
    "plt.rcParams[\"figure.figsize\"] = (figure_size[0] / 2, figure_size[1] / 2)\n",
    "\n",
    "plt.plot(range(epochs), losses, c=colors[0])\n",
    "plt.ylabel(\"loss\")\n",
    "plt.xlabel(\"epoch\")\n",
    "\n",
    "plt.show()"
   ]
  },
  {
   "cell_type": "code",
   "execution_count": null,
   "id": "76cfa08b",
   "metadata": {},
   "outputs": [],
   "source": []
  },
  {
   "cell_type": "code",
   "execution_count": 27,
   "id": "b5e61720",
   "metadata": {
    "ExecuteTime": {
     "end_time": "2022-12-03T14:09:53.352059Z",
     "start_time": "2022-12-03T14:09:53.290380Z"
    }
   },
   "outputs": [
    {
     "data": {
      "text/plain": [
       "Text(0.5, 0, 'Epoch')"
      ]
     },
     "execution_count": 27,
     "metadata": {},
     "output_type": "execute_result"
    },
    {
     "data": {
      "image/png": "[encoded data removed]",
      "text/plain": [
       "<Figure size 800x450 with 1 Axes>"
      ]
     },
     "metadata": {},
     "output_type": "display_data"
    }
   ],
   "source": [
    "colors = calm_color_generator(1)\n",
    "plt.plot(range(epochs), losses, c=colors[0])\n",
    "plt.ylabel(\"Loss\")\n",
    "plt.xlabel(\"Epoch\")"
   ]
  },
  {
   "cell_type": "code",
   "execution_count": 52,
   "id": "9b55a6b1",
   "metadata": {
    "ExecuteTime": {
     "end_time": "2022-12-03T20:36:58.134319Z",
     "start_time": "2022-12-03T20:36:58.102164Z"
    }
   },
   "outputs": [
    {
     "data": {
      "text/plain": [
       "[7.814383506774902,\n",
       " 7.8143839836120605,\n",
       " 7.814383506774902,\n",
       " 7.814383029937744,\n",
       " 7.814383029937744,\n",
       " 7.814383029937744,\n",
       " 7.814382553100586,\n",
       " 7.8143815994262695,\n",
       " 7.8143815994262695,\n",
       " 7.8143815994262695,\n",
       " 7.8143815994262695,\n",
       " 7.814381122589111,\n",
       " 7.814381122589111,\n",
       " 7.814381122589111,\n",
       " 7.814379692077637,\n",
       " 7.814380645751953,\n",
       " 7.814379692077637,\n",
       " 7.8143792152404785,\n",
       " 7.8143792152404785,\n",
       " 7.814379692077637,\n",
       " 7.81437873840332,\n",
       " 7.81437873840332,\n",
       " 7.8143792152404785,\n",
       " 7.814377307891846,\n",
       " 7.81437873840332,\n",
       " 7.814378261566162,\n",
       " 7.814377307891846,\n",
       " 7.814377307891846,\n",
       " 7.814377307891846,\n",
       " 7.8143768310546875,\n",
       " 7.814377307891846,\n",
       " 7.8143768310546875,\n",
       " 7.8143768310546875,\n",
       " 7.8143768310546875,\n",
       " 7.814375400543213,\n",
       " 7.814376354217529,\n",
       " 7.814374923706055,\n",
       " 7.814375400543213,\n",
       " 7.814376354217529,\n",
       " 7.8143744468688965,\n",
       " 7.814374923706055,\n",
       " 7.814374923706055,\n",
       " 7.8143744468688965,\n",
       " 7.8143744468688965,\n",
       " 7.814373970031738,\n",
       " 7.814373970031738,\n",
       " 7.814373970031738,\n",
       " 7.814373970031738,\n",
       " 7.814373970031738,\n",
       " 7.814373970031738,\n",
       " 7.814373016357422,\n",
       " 7.814372539520264,\n",
       " 7.814372539520264,\n",
       " 7.8143720626831055,\n",
       " 7.814372539520264,\n",
       " 7.814372539520264,\n",
       " 7.814371109008789,\n",
       " 7.8143720626831055,\n",
       " 7.8143720626831055,\n",
       " 7.814371109008789,\n",
       " 7.814371109008789,\n",
       " 7.814370632171631,\n",
       " 7.814371109008789,\n",
       " 7.814371109008789,\n",
       " 7.814371109008789,\n",
       " 7.814370155334473,\n",
       " 7.814370155334473,\n",
       " 7.814370155334473,\n",
       " 7.814370155334473,\n",
       " 7.8143696784973145,\n",
       " 7.8143696784973145,\n",
       " 7.814368724822998,\n",
       " 7.814368724822998,\n",
       " 7.814368724822998,\n",
       " 7.8143696784973145,\n",
       " 7.81436824798584,\n",
       " 7.81436824798584,\n",
       " 7.81436824798584,\n",
       " 7.81436824798584,\n",
       " 7.81436824798584,\n",
       " 7.814367771148682,\n",
       " 7.814367771148682,\n",
       " 7.81436824798584,\n",
       " 7.814367294311523,\n",
       " 7.814367771148682,\n",
       " 7.814367294311523,\n",
       " 7.814366340637207,\n",
       " 7.814367294311523,\n",
       " 7.814365863800049,\n",
       " 7.814366340637207,\n",
       " 7.814365863800049,\n",
       " 7.814366340637207,\n",
       " 7.814365863800049,\n",
       " 7.814365863800049,\n",
       " 7.814365386962891,\n",
       " 7.814365386962891,\n",
       " 7.814365386962891,\n",
       " 7.814365386962891,\n",
       " 7.814365386962891,\n",
       " 7.814363956451416]"
      ]
     },
     "execution_count": 52,
     "metadata": {},
     "output_type": "execute_result"
    }
   ],
   "source": [
    "def loss_value_calculator(criterion=nn.MSELoss(), s=torch.optim.SGD, lr=0.01, epochs=100):\n",
    "    criterion = criterion\n",
    "    optimizer = s(model.parameters(), lr)\n",
    "\n",
    "    epochs = epochs\n",
    "    losses = []\n",
    "\n",
    "    for i in range(epochs):\n",
    "        y_pred = model.forward(X)\n",
    "        loss = criterion(y_pred, y)\n",
    "        losses.append(loss.item())\n",
    "        optimizer.zero_grad()\n",
    "        loss.backward()\n",
    "        optimizer.step()\n",
    "\n",
    "    return losses\n",
    "\n",
    "\n",
    "loss_value_calculator(lr=0.001)"
   ]
  },
  {
   "cell_type": "code",
   "execution_count": null,
   "id": "9567255f",
   "metadata": {
    "ExecuteTime": {
     "end_time": "2022-12-03T14:09:53.369981Z",
     "start_time": "2022-12-03T14:09:53.360306Z"
    }
   },
   "outputs": [],
   "source": []
  },
  {
   "cell_type": "code",
   "execution_count": 30,
   "id": "0870e46b",
   "metadata": {
    "ExecuteTime": {
     "end_time": "2022-12-03T14:09:53.441434Z",
     "start_time": "2022-12-03T14:09:53.370957Z"
    }
   },
   "outputs": [
    {
     "data": {
      "image/png": "[encoded data removed]",
      "text/plain": [
       "<Figure size 800x450 with 1 Axes>"
      ]
     },
     "metadata": {},
     "output_type": "display_data"
    }
   ],
   "source": [
    "colors = calm_color_generator(2)\n",
    "plt.rcParams[\"figure.figsize\"] = (figure_size[0] / 2, figure_size[1] / 2)\n",
    "\n",
    "plot_fit(\"Trained Model\")\n",
    "plt.title(plt.gca().get_title(), loc=\"center\", pad=15)\n",
    "\n",
    "plt.xlabel(\"X\")\n",
    "plt.ylabel(\"y\")\n",
    "\n",
    "plt.show()"
   ]
  },
  {
   "cell_type": "code",
   "execution_count": 31,
   "id": "72eb659a",
   "metadata": {
    "ExecuteTime": {
     "end_time": "2022-12-03T14:09:53.445593Z",
     "start_time": "2022-12-03T14:09:53.442585Z"
    }
   },
   "outputs": [
    {
     "data": {
      "text/plain": [
       "Parameter containing:\n",
       "tensor([0.1892], requires_grad=True)"
      ]
     },
     "execution_count": 31,
     "metadata": {},
     "output_type": "execute_result"
    }
   ],
   "source": [
    "w, b = model.parameters()\n",
    "\n",
    "w\n",
    "b"
   ]
  },
  {
   "cell_type": "code",
   "execution_count": 32,
   "id": "2e2a1603",
   "metadata": {
    "ExecuteTime": {
     "end_time": "2022-12-03T14:09:53.449177Z",
     "start_time": "2022-12-03T14:09:53.446620Z"
    }
   },
   "outputs": [
    {
     "name": "stdout",
     "output_type": "stream",
     "text": [
      "tensor([[1.2010],\n",
      "        [2.2129]], grad_fn=⟨AddBackward0⟩)\n"
     ]
    }
   ],
   "source": [
    "print(str(forward(x)).replace(\"<\", \"⟨\").replace(\">\", \"⟩\"))"
   ]
  },
  {
   "cell_type": "code",
   "execution_count": 33,
   "id": "604619ab",
   "metadata": {
    "ExecuteTime": {
     "end_time": "2022-12-03T14:09:53.452369Z",
     "start_time": "2022-12-03T14:09:53.450283Z"
    }
   },
   "outputs": [
    {
     "name": "stdout",
     "output_type": "stream",
     "text": [
      "⟨class 'torch.Tensor'⟩\n"
     ]
    }
   ],
   "source": [
    "print(str(type(x)).replace(\"<\", \"⟨\").replace(\">\", \"⟩\"))"
   ]
  },
  {
   "cell_type": "code",
   "execution_count": 34,
   "id": "48b306d0",
   "metadata": {
    "ExecuteTime": {
     "end_time": "2022-12-03T14:09:53.455457Z",
     "start_time": "2022-12-03T14:09:53.453470Z"
    }
   },
   "outputs": [
    {
     "name": "stdout",
     "output_type": "stream",
     "text": [
      "⟨class 'torch.Tensor'⟩\n"
     ]
    }
   ],
   "source": [
    "print(str(type(x)).replace(\"<\", \"⟨\").replace(\">\", \"⟩\"))"
   ]
  },
  {
   "cell_type": "code",
   "execution_count": 35,
   "id": "f2edf1f1",
   "metadata": {
    "ExecuteTime": {
     "end_time": "2022-12-03T14:09:53.458951Z",
     "start_time": "2022-12-03T14:09:53.456454Z"
    }
   },
   "outputs": [
    {
     "data": {
      "text/plain": [
       "6"
      ]
     },
     "execution_count": 35,
     "metadata": {},
     "output_type": "execute_result"
    }
   ],
   "source": [
    "len(\"⟨a, b⟩\")"
   ]
  },
  {
   "cell_type": "code",
   "execution_count": 36,
   "id": "4c940e9c",
   "metadata": {
    "ExecuteTime": {
     "end_time": "2022-12-03T14:09:53.462151Z",
     "start_time": "2022-12-03T14:09:53.460112Z"
    }
   },
   "outputs": [
    {
     "name": "stdout",
     "output_type": "stream",
     "text": [
      "no\n"
     ]
    }
   ],
   "source": [
    "if \"<\" == \"⟨\":\n",
    "    print(\"yes\")\n",
    "else:\n",
    "    print(\"no\")"
   ]
  },
  {
   "cell_type": "code",
   "execution_count": 37,
   "id": "176a3ebd",
   "metadata": {
    "ExecuteTime": {
     "end_time": "2022-12-03T14:09:53.465556Z",
     "start_time": "2022-12-03T14:09:53.463288Z"
    }
   },
   "outputs": [
    {
     "name": "stdout",
     "output_type": "stream",
     "text": [
      "\u001b[4m\u001b[36m\u001b[0m\n",
      "\n",
      "\u001b[1m\u001b[36m    +------------------------------------------------+\u001b[0m\n",
      "\u001b[1m\u001b[36m    | Statement                                      |\u001b[0m\n",
      "\u001b[1m\u001b[36m    +------------------------------------------------+\u001b[0m\n",
      "\u001b[1m\u001b[36m    | --------------- ------------------------------ |\u001b[0m\n",
      "\u001b[1m\u001b[36m    |     hhhhhhhhhhhhhhhhhhhhhhhhhhhhhhhhhhhhhh     |\u001b[0m\n",
      "\u001b[1m\u001b[36m    +------------------------------------------------+\u001b[0m\n"
     ]
    }
   ],
   "source": [
    "tabulation = Form_Generator()\n",
    "tabulation.heading_printer(\"\")\n",
    "\n",
    "statement = \"-\" * 15 + \" \" + \"-\" * 30 + \" \" + \"h\" * 38\n",
    "tabulation.statement_generator([statement])"
   ]
  },
  {
   "cell_type": "code",
   "execution_count": 38,
   "id": "39ee076d",
   "metadata": {
    "ExecuteTime": {
     "end_time": "2022-12-03T14:09:53.468596Z",
     "start_time": "2022-12-03T14:09:53.466518Z"
    }
   },
   "outputs": [
    {
     "name": "stdout",
     "output_type": "stream",
     "text": [
      "\u001b[1m\u001b[36m    +-------------------------------------------------------------+\u001b[0m\n",
      "\u001b[1m\u001b[36m    | Statement                                                   |\u001b[0m\n",
      "\u001b[1m\u001b[36m    +-------------------------------------------------------------+\u001b[0m\n",
      "\u001b[1m\u001b[36m    | ------ ------                                               |\u001b[0m\n",
      "\u001b[1m\u001b[36m    |     hhhhhhhhhhhhhhhhhhhhhhhhhhhhhhhhhhhhhhhhhhhhhhhhhhhhhhh |\u001b[0m\n",
      "\u001b[1m\u001b[36m    +-------------------------------------------------------------+\u001b[0m\n"
     ]
    }
   ],
   "source": [
    "statement = \"-\" * 6 + \" \" + \"-\" * 6 + \" \" + \"h\" * 55\n",
    "tabulation.statement_generator([statement])"
   ]
  },
  {
   "cell_type": "code",
   "execution_count": 39,
   "id": "c6a2ded2",
   "metadata": {
    "ExecuteTime": {
     "end_time": "2022-12-03T14:09:53.476294Z",
     "start_time": "2022-12-03T14:09:53.469596Z"
    }
   },
   "outputs": [
    {
     "data": {
      "text/plain": [
       "-1"
      ]
     },
     "execution_count": 39,
     "metadata": {},
     "output_type": "execute_result"
    }
   ],
   "source": [
    "\"-----------------------------------------------------------\".find(' ')"
   ]
  },
  {
   "cell_type": "code",
   "execution_count": 40,
   "id": "d1c06f3d",
   "metadata": {
    "ExecuteTime": {
     "end_time": "2022-12-03T14:09:53.480120Z",
     "start_time": "2022-12-03T14:09:53.477684Z"
    }
   },
   "outputs": [
    {
     "data": {
      "text/plain": [
       "59"
      ]
     },
     "execution_count": 40,
     "metadata": {},
     "output_type": "execute_result"
    }
   ],
   "source": [
    "len(\"-----------------------------------------------------------\"[:None])"
   ]
  },
  {
   "cell_type": "code",
   "execution_count": 41,
   "id": "44265f1e",
   "metadata": {
    "ExecuteTime": {
     "end_time": "2022-12-03T14:09:53.483541Z",
     "start_time": "2022-12-03T14:09:53.481123Z"
    }
   },
   "outputs": [
    {
     "data": {
      "text/plain": [
       "60"
      ]
     },
     "execution_count": 41,
     "metadata": {},
     "output_type": "execute_result"
    }
   ],
   "source": [
    "'------------------------------------------------------------ '.rfind(\" \")"
   ]
  },
  {
   "cell_type": "code",
   "execution_count": 42,
   "id": "0e59ae48",
   "metadata": {
    "ExecuteTime": {
     "end_time": "2022-12-03T14:09:53.487205Z",
     "start_time": "2022-12-03T14:09:53.484606Z"
    }
   },
   "outputs": [
    {
     "data": {
      "text/plain": [
       "60"
      ]
     },
     "execution_count": 42,
     "metadata": {},
     "output_type": "execute_result"
    }
   ],
   "source": [
    "'------------------------------------------------------------ '.find(' ')"
   ]
  },
  {
   "cell_type": "code",
   "execution_count": 43,
   "id": "cea6aee6",
   "metadata": {
    "ExecuteTime": {
     "end_time": "2022-12-03T14:09:53.490748Z",
     "start_time": "2022-12-03T14:09:53.488572Z"
    }
   },
   "outputs": [
    {
     "data": {
      "text/plain": [
       "61"
      ]
     },
     "execution_count": 43,
     "metadata": {},
     "output_type": "execute_result"
    }
   ],
   "source": [
    "len('------------------------------------------------------------ '[:])"
   ]
  },
  {
   "cell_type": "raw",
   "id": "c8d01e91",
   "metadata": {},
   "source": []
  }
 ],
 "metadata": {
  "hide_input": false,
  "kernelspec": {
   "display_name": "Python 3 (ipykernel)",
   "language": "python",
   "name": "python3"
  },
  "language_info": {
   "codemirror_mode": {
    "name": "ipython",
    "version": 3
   },
   "file_extension": ".py",
   "mimetype": "text/x-python",
   "name": "python",
   "nbconvert_exporter": "python",
   "pygments_lexer": "ipython3",
   "version": "3.9.13"
  },
  "latex_envs": {
   "LaTeX_envs_menu_present": true,
   "autoclose": false,
   "autocomplete": true,
   "bibliofile": "biblio.bib",
   "cite_by": "apalike",
   "current_citInitial": 1,
   "eqLabelWithNumbers": true,
   "eqNumInitial": 1,
   "hotkeys": {
    "equation": "Ctrl-E",
    "itemize": "Ctrl-I"
   },
   "labels_anchors": false,
   "latex_user_defs": false,
   "report_style_numbering": false,
   "user_envs_cfg": false
  },
  "nbTranslate": {
   "displayLangs": [
    "*"
   ],
   "hotkey": "alt-t",
   "langInMainMenu": true,
   "sourceLang": "en",
   "targetLang": "fr",
   "useGoogleTranslate": true
  },
  "toc": {
   "base_numbering": 1,
   "nav_menu": {},
   "number_sections": true,
   "sideBar": true,
   "skip_h1_title": false,
   "title_cell": "Table of Contents",
   "title_sidebar": "Contents",
   "toc_cell": false,
   "toc_position": {
    "height": "calc(100% - 180px)",
    "left": "10px",
    "top": "150px",
    "width": "345.594px"
   },
   "toc_section_display": true,
   "toc_window_display": true
  },
  "varInspector": {
   "cols": {
    "lenName": 16,
    "lenType": 16,
    "lenVar": 40
   },
   "kernels_config": {
    "python": {
     "delete_cmd_postfix": "",
     "delete_cmd_prefix": "del ",
     "library": "var_list.py",
     "varRefreshCmd": "print(var_dic_list())"
    },
    "r": {
     "delete_cmd_postfix": ") ",
     "delete_cmd_prefix": "rm(",
     "library": "var_list.r",
     "varRefreshCmd": "cat(var_dic_list()) "
    }
   },
   "types_to_exclude": [
    "module",
    "function",
    "builtin_function_or_method",
    "instance",
    "_Feature"
   ],
   "window_display": false
  },
  "vscode": {
   "interpreter": {
    "hash": "4df6db6ee61ecce594abe4a5126666f3650dd9429b0086e59af8e3f897fc7111"
   }
  }
 },
 "nbformat": 4,
 "nbformat_minor": 5
}

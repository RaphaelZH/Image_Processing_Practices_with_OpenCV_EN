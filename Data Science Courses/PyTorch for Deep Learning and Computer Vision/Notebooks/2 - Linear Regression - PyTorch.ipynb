{
 "cells": [
  {
   "cell_type": "markdown",
   "id": "dff66058",
   "metadata": {},
   "source": [
    "# Importing Libraries"
   ]
  },
  {
   "cell_type": "code",
   "execution_count": 1,
   "id": "8c1c6273",
   "metadata": {
    "ExecuteTime": {
     "end_time": "2022-10-23T22:24:29.843439Z",
     "start_time": "2022-10-23T22:24:28.792604Z"
    }
   },
   "outputs": [],
   "source": [
    "import torch\n",
    "from torch import nn\n",
    "\n",
    "import numpy as np\n",
    "\n",
    "import matplotlib as mpl\n",
    "import matplotlib.pyplot as plt\n",
    "\n",
    "import colorsys\n",
    "import random\n",
    "from tabulate import tabulate\n",
    "from termcolor import cprint"
   ]
  },
  {
   "cell_type": "markdown",
   "id": "bac25367",
   "metadata": {},
   "source": [
    "# Configuring Visualization Parameters"
   ]
  },
  {
   "cell_type": "code",
   "execution_count": 2,
   "id": "84f03ddb",
   "metadata": {
    "ExecuteTime": {
     "end_time": "2022-10-23T22:24:29.851474Z",
     "start_time": "2022-10-23T22:24:29.844621Z"
    }
   },
   "outputs": [],
   "source": [
    "%matplotlib inline"
   ]
  },
  {
   "cell_type": "code",
   "execution_count": 3,
   "id": "dfa1db2f",
   "metadata": {
    "ExecuteTime": {
     "end_time": "2022-10-23T22:24:29.854116Z",
     "start_time": "2022-10-23T22:24:29.852417Z"
    }
   },
   "outputs": [],
   "source": [
    "XINHUI = '#7a7374'\n",
    "XUEBAI = '#fffef9'\n",
    "YINBAI = '#f1f0ed'\n",
    "YINHUI = '#918072'\n",
    "\n",
    "figure_size = (16, 9)"
   ]
  },
  {
   "cell_type": "code",
   "execution_count": 4,
   "id": "23538f72",
   "metadata": {
    "ExecuteTime": {
     "end_time": "2022-10-23T22:24:29.858102Z",
     "start_time": "2022-10-23T22:24:29.855767Z"
    }
   },
   "outputs": [],
   "source": [
    "custom_params = {\n",
    "    'axes.axisbelow': True,\n",
    "    'axes.edgecolor': YINBAI,\n",
    "    'axes.facecolor': XUEBAI,\n",
    "    'axes.grid': True,\n",
    "    'axes.labelcolor': XINHUI,\n",
    "    'axes.spines.right': False,\n",
    "    'axes.spines.top': False,\n",
    "    'axes.titlecolor': XINHUI,\n",
    "    'figure.edgecolor': YINBAI,\n",
    "    'figure.facecolor': XUEBAI,\n",
    "    'grid.alpha': .8,\n",
    "    'grid.color': YINBAI,\n",
    "    'grid.linestyle': '--',\n",
    "    'grid.linewidth': 1.2,\n",
    "    'legend.edgecolor': YINHUI,\n",
    "    'patch.edgecolor': XUEBAI,\n",
    "    'patch.force_edgecolor': True,\n",
    "    'text.color': XINHUI,\n",
    "    'xtick.color': YINHUI,\n",
    "    'ytick.color': YINHUI,\n",
    "}\n",
    "\n",
    "mpl.rcParams.update(custom_params)"
   ]
  },
  {
   "cell_type": "markdown",
   "id": "3aa2b578",
   "metadata": {},
   "source": [
    "# Pre-installing Required Functions"
   ]
  },
  {
   "cell_type": "code",
   "execution_count": 5,
   "id": "e4e7bdf6",
   "metadata": {
    "ExecuteTime": {
     "end_time": "2022-10-23T22:24:29.861017Z",
     "start_time": "2022-10-23T22:24:29.858951Z"
    }
   },
   "outputs": [],
   "source": [
    "def list_head_checker(list_1, list_2):\n",
    "    for i in range(len(list_2)):\n",
    "        if list_1[-1] == list_2[0]:\n",
    "            head, list_2 = list_2[0], list_2[1:]\n",
    "            list_2.append(head)\n",
    "        else:\n",
    "            break\n",
    "    return list_2"
   ]
  },
  {
   "cell_type": "code",
   "execution_count": 6,
   "id": "0f8bdb9e",
   "metadata": {
    "ExecuteTime": {
     "end_time": "2022-10-23T22:24:29.863898Z",
     "start_time": "2022-10-23T22:24:29.861848Z"
    }
   },
   "outputs": [],
   "source": [
    "def list_connector(list_1, list_2):\n",
    "    if list_1 != []:\n",
    "        list_2 = list_head_checker(list_1, list_2)\n",
    "    list_1 += list_2\n",
    "    return list_1"
   ]
  },
  {
   "cell_type": "code",
   "execution_count": 7,
   "id": "6886b9fa",
   "metadata": {
    "ExecuteTime": {
     "end_time": "2022-10-23T22:24:29.867835Z",
     "start_time": "2022-10-23T22:24:29.864832Z"
    }
   },
   "outputs": [],
   "source": [
    "def color_list_generator(n=100):\n",
    "    termcolors = [\n",
    "        'grey', 'red', 'green', 'yellow', 'blue', 'magenta', 'cyan', 'white'\n",
    "    ]\n",
    "    global font_colors_list\n",
    "    font_colors_list = []\n",
    "    for i in range(((n - 1) // 8 + 1)):\n",
    "        if n <= 8:\n",
    "            random_list = random.sample(termcolors, k=n)\n",
    "            list_connector(font_colors_list, random_list)\n",
    "        else:\n",
    "            if i < ((n - 1) // 8):\n",
    "                random_list = random.sample(termcolors, k=8)\n",
    "                list_connector(font_colors_list, random_list)\n",
    "            else:\n",
    "                k = n % 8\n",
    "                if k == 0:\n",
    "                    random_list = random.sample(termcolors, k=8)\n",
    "                    list_connector(font_colors_list, random_list)\n",
    "                elif k == 1:\n",
    "                    random_list = random.sample(termcolors, k=2)\n",
    "                    font_colors_list = list_connector(font_colors_list,\n",
    "                                                      random_list)[:-1]\n",
    "                else:\n",
    "                    random_list = random.sample(termcolors, k=k)\n",
    "                    list_connector(font_colors_list, random_list)"
   ]
  },
  {
   "cell_type": "code",
   "execution_count": 8,
   "id": "9899221b",
   "metadata": {
    "ExecuteTime": {
     "end_time": "2022-10-23T22:24:29.870771Z",
     "start_time": "2022-10-23T22:24:29.868704Z"
    }
   },
   "outputs": [],
   "source": [
    "def font_color_printer(string, *args, **kwargs):\n",
    "    global font_colors_list, previous_color\n",
    "    try:\n",
    "        font_colors_list\n",
    "    except NameError:\n",
    "        color_list_generator()\n",
    "    if font_colors_list == []:\n",
    "        color_list_generator()\n",
    "    previous_color = font_colors_list.pop(0)\n",
    "    return cprint(string, previous_color, *args, **kwargs)"
   ]
  },
  {
   "cell_type": "code",
   "execution_count": 9,
   "id": "40e907ce",
   "metadata": {
    "ExecuteTime": {
     "end_time": "2022-10-23T22:24:29.874961Z",
     "start_time": "2022-10-23T22:24:29.871676Z"
    }
   },
   "outputs": [],
   "source": [
    "def calm_color_generator(n):\n",
    "    colors = []\n",
    "    hue = np.repeat(np.random.random(), n)\n",
    "    hue_interval = np.linspace(0, 1, n, endpoint=False)\n",
    "    saturation = 0.6 + np.random.random() / 5.0 * np.random.choice([-1, 1])\n",
    "    lightness = 0.5 + np.random.random() / 10.0 * np.random.choice([-1, 1])\n",
    "    h = hue + hue_interval\n",
    "    h = np.where(h > 1, h - 1, h)\n",
    "    s = np.repeat(saturation, n)\n",
    "    l = np.repeat(lightness, n)\n",
    "    array_hls = np.concatenate((h, l, s)).reshape(-1, n).T\n",
    "    for hls in array_hls:\n",
    "        r, g, b = [\n",
    "            int(256 * e) for e in colorsys.hls_to_rgb(hls[0], hls[1], hls[2])\n",
    "        ]\n",
    "        colors.append('#%02X%02X%02X' % (r, g, b))\n",
    "    return colors"
   ]
  },
  {
   "cell_type": "markdown",
   "id": "65235c37",
   "metadata": {},
   "source": [
    "# Practicing in Stages\n",
    "\n",
    "## Making Predictions"
   ]
  },
  {
   "cell_type": "code",
   "execution_count": 10,
   "id": "629cce72",
   "metadata": {
    "ExecuteTime": {
     "end_time": "2022-10-23T22:24:29.880361Z",
     "start_time": "2022-10-23T22:24:29.877323Z"
    },
    "hide_input": false
   },
   "outputs": [
    {
     "name": "stdout",
     "output_type": "stream",
     "text": [
      "\u001b[4m\u001b[30mDefinition of the function of prediction\u001b[0m\n",
      "\n",
      "\u001b[1m\u001b[30m    +-------------------+\u001b[0m\n",
      "\u001b[1m\u001b[30m    | Definition        |\u001b[0m\n",
      "\u001b[1m\u001b[30m    +-------------------+\u001b[0m\n",
      "\u001b[1m\u001b[30m    | def forward(x):   |\u001b[0m\n",
      "\u001b[1m\u001b[30m    |     y = w * x + b |\u001b[0m\n",
      "\u001b[1m\u001b[30m    |     return y      |\u001b[0m\n",
      "\u001b[1m\u001b[30m    +-------------------+\u001b[0m\n"
     ]
    }
   ],
   "source": [
    "def forward(x):\n",
    "    y = w * x + b\n",
    "    return y\n",
    "\n",
    "\n",
    "font_color_printer(\"Definition of the function of prediction\",\n",
    "                   attrs=['underline'],\n",
    "                   end='\\n\\n')\n",
    "\n",
    "table = [[\"Definition\"],\n",
    "         [\"def forward(x):\\n\\ty = w * x + b\\n\\treturn y\".expandtabs(4)]]\n",
    "table_list = tabulate(table,\n",
    "                      headers='firstrow',\n",
    "                      tablefmt='pretty',\n",
    "                      colalign=(\"left\", )).split('\\n')\n",
    "for line in table_list:\n",
    "    cprint('\\t'.expandtabs(4) + line, previous_color, attrs=['bold'])"
   ]
  },
  {
   "cell_type": "code",
   "execution_count": 11,
   "id": "043e0a64",
   "metadata": {
    "ExecuteTime": {
     "end_time": "2022-10-23T22:24:29.887051Z",
     "start_time": "2022-10-23T22:24:29.881275Z"
    },
    "hide_input": false
   },
   "outputs": [
    {
     "name": "stdout",
     "output_type": "stream",
     "text": [
      "\u001b[4m\u001b[35mInitial assignment of parameters\u001b[0m\n",
      "\n",
      "\u001b[1m\u001b[35m    +-------------------------------------------+\u001b[0m\n",
      "\u001b[1m\u001b[35m    | Statement                                 |\u001b[0m\n",
      "\u001b[1m\u001b[35m    +-------------------------------------------+\u001b[0m\n",
      "\u001b[1m\u001b[35m    | w = torch.tensor(3.0, requires_grad=True) |\u001b[0m\n",
      "\u001b[1m\u001b[35m    | b = torch.tensor(1.0, requires_grad=True) |\u001b[0m\n",
      "\u001b[1m\u001b[35m    +-------------------------------------------+\u001b[0m\n",
      "\u001b[1m\u001b[35m    +----------+--------------------------------+\u001b[0m\n",
      "\u001b[1m\u001b[35m    | Variable | Value                          |\u001b[0m\n",
      "\u001b[1m\u001b[35m    +----------+--------------------------------+\u001b[0m\n",
      "\u001b[1m\u001b[35m    | w        | tensor(3., requires_grad=True) |\u001b[0m\n",
      "\u001b[1m\u001b[35m    | b        | tensor(1., requires_grad=True) |\u001b[0m\n",
      "\u001b[1m\u001b[35m    +----------+--------------------------------+\u001b[0m\n"
     ]
    }
   ],
   "source": [
    "w = torch.tensor(3.0, requires_grad=True)\n",
    "b = torch.tensor(1.0, requires_grad=True)\n",
    "\n",
    "font_color_printer(\"Initial assignment of parameters\",\n",
    "                   attrs=['underline'],\n",
    "                   end='\\n\\n')\n",
    "\n",
    "table = [[\"Statement\"], [\"w = torch.tensor(3.0, requires_grad=True)\"],\n",
    "         [\"b = torch.tensor(1.0, requires_grad=True)\"]]\n",
    "table_list = tabulate(table,\n",
    "                      headers='firstrow',\n",
    "                      tablefmt='pretty',\n",
    "                      colalign=(\"left\", )).split('\\n')\n",
    "for line in table_list:\n",
    "    cprint('\\t'.expandtabs(4) + line, previous_color, attrs=['bold'])\n",
    "\n",
    "table = [[\"Variable\", \"Value\"], [\"w\", str(w)], [\"b\", str(b)]]\n",
    "table_list = tabulate(table,\n",
    "                      headers='firstrow',\n",
    "                      tablefmt='pretty',\n",
    "                      colalign=(\"left\", \"left\")).split('\\n')\n",
    "for line in table_list:\n",
    "    cprint('\\t'.expandtabs(4) + line, previous_color, attrs=['bold'])"
   ]
  },
  {
   "cell_type": "code",
   "execution_count": 12,
   "id": "74e6806b",
   "metadata": {
    "ExecuteTime": {
     "end_time": "2022-10-23T22:24:29.892130Z",
     "start_time": "2022-10-23T22:24:29.887824Z"
    },
    "hide_input": false
   },
   "outputs": [
    {
     "name": "stdout",
     "output_type": "stream",
     "text": [
      "\u001b[4m\u001b[34mFunction implementation of 0D tensor\u001b[0m\n",
      "\n",
      "\u001b[1m\u001b[34m    +---------------------+\u001b[0m\n",
      "\u001b[1m\u001b[34m    | Statement           |\u001b[0m\n",
      "\u001b[1m\u001b[34m    +---------------------+\u001b[0m\n",
      "\u001b[1m\u001b[34m    | x = torch.tensor(2) |\u001b[0m\n",
      "\u001b[1m\u001b[34m    +---------------------+\u001b[0m\n",
      "\u001b[1m\u001b[34m    +----------+-----------+\u001b[0m\n",
      "\u001b[1m\u001b[34m    | Variable | Value     |\u001b[0m\n",
      "\u001b[1m\u001b[34m    +----------+-----------+\u001b[0m\n",
      "\u001b[1m\u001b[34m    | x        | tensor(2) |\u001b[0m\n",
      "\u001b[1m\u001b[34m    +----------+-----------+\u001b[0m\n",
      "\u001b[1m\u001b[34m    +------------+------------------------------------+\u001b[0m\n",
      "\u001b[1m\u001b[34m    | Expression | Result                             |\u001b[0m\n",
      "\u001b[1m\u001b[34m    +------------+------------------------------------+\u001b[0m\n",
      "\u001b[1m\u001b[34m    | forward(x) | tensor(7., grad_fn=<AddBackward0>) |\u001b[0m\n",
      "\u001b[1m\u001b[34m    +------------+------------------------------------+\u001b[0m\n"
     ]
    }
   ],
   "source": [
    "x = torch.tensor(2)\n",
    "\n",
    "font_color_printer(\"Function implementation of 0D tensor\",\n",
    "                   attrs=['underline'],\n",
    "                   end='\\n\\n')\n",
    "\n",
    "table = [[\"Statement\"], [\"x = torch.tensor(2)\"]]\n",
    "table_list = tabulate(table,\n",
    "                      headers='firstrow',\n",
    "                      tablefmt='pretty',\n",
    "                      colalign=(\"left\", )).split('\\n')\n",
    "for line in table_list:\n",
    "    cprint('\\t'.expandtabs(4) + line, previous_color, attrs=['bold'])\n",
    "\n",
    "table = [[\"Variable\", \"Value\"], [\"x\", str(x)]]\n",
    "table_list = tabulate(table,\n",
    "                      headers='firstrow',\n",
    "                      tablefmt='pretty',\n",
    "                      colalign=(\"left\", \"left\")).split('\\n')\n",
    "for line in table_list:\n",
    "    cprint('\\t'.expandtabs(4) + line, previous_color, attrs=['bold'])\n",
    "\n",
    "table = [[\"Expression\", \"Result\"], [\"forward(x)\", str(forward(x))]]\n",
    "table_list = tabulate(table,\n",
    "                      headers='firstrow',\n",
    "                      tablefmt='pretty',\n",
    "                      colalign=(\"left\", \"left\")).split('\\n')\n",
    "for line in table_list:\n",
    "    cprint('\\t'.expandtabs(4) + line, previous_color, attrs=['bold'])"
   ]
  },
  {
   "cell_type": "code",
   "execution_count": 13,
   "id": "3bdf0d95",
   "metadata": {
    "ExecuteTime": {
     "end_time": "2022-10-23T22:24:29.897304Z",
     "start_time": "2022-10-23T22:24:29.893001Z"
    },
    "hide_input": false
   },
   "outputs": [
    {
     "name": "stdout",
     "output_type": "stream",
     "text": [
      "\u001b[4m\u001b[33mFunction implementation of multi-D tensor\u001b[0m\n",
      "\n",
      "\u001b[1m\u001b[33m    +------------------------------+\u001b[0m\n",
      "\u001b[1m\u001b[33m    | Statement                    |\u001b[0m\n",
      "\u001b[1m\u001b[33m    +------------------------------+\u001b[0m\n",
      "\u001b[1m\u001b[33m    | x = torch.tensor([[4], [7]]) |\u001b[0m\n",
      "\u001b[1m\u001b[33m    +------------------------------+\u001b[0m\n",
      "\u001b[1m\u001b[33m    +----------+---------------+\u001b[0m\n",
      "\u001b[1m\u001b[33m    | Variable | Value         |\u001b[0m\n",
      "\u001b[1m\u001b[33m    +----------+---------------+\u001b[0m\n",
      "\u001b[1m\u001b[33m    | x        | tensor([[4],  |\u001b[0m\n",
      "\u001b[1m\u001b[33m    |          |         [7]]) |\u001b[0m\n",
      "\u001b[1m\u001b[33m    +----------+---------------+\u001b[0m\n",
      "\u001b[1m\u001b[33m    +------------+-----------------------------------------+\u001b[0m\n",
      "\u001b[1m\u001b[33m    | Expression | Result                                  |\u001b[0m\n",
      "\u001b[1m\u001b[33m    +------------+-----------------------------------------+\u001b[0m\n",
      "\u001b[1m\u001b[33m    | forward(x) | tensor([[13.],                          |\u001b[0m\n",
      "\u001b[1m\u001b[33m    |            |         [22.]], grad_fn=<AddBackward0>) |\u001b[0m\n",
      "\u001b[1m\u001b[33m    +------------+-----------------------------------------+\u001b[0m\n"
     ]
    }
   ],
   "source": [
    "x = torch.tensor([[4], [7]])\n",
    "\n",
    "font_color_printer(\"Function implementation of multi-D tensor\",\n",
    "                   attrs=['underline'],\n",
    "                   end='\\n\\n')\n",
    "\n",
    "table = [[\"Statement\"], [\"x = torch.tensor([[4], [7]])\"]]\n",
    "table_list = tabulate(table,\n",
    "                      headers='firstrow',\n",
    "                      tablefmt='pretty',\n",
    "                      colalign=(\"left\", )).split('\\n')\n",
    "for line in table_list:\n",
    "    cprint('\\t'.expandtabs(4) + line, previous_color, attrs=['bold'])\n",
    "\n",
    "table = [[\"Variable\", \"Value\"], [\"x\", str(x)]]\n",
    "table_list = tabulate(table,\n",
    "                      headers='firstrow',\n",
    "                      tablefmt='pretty',\n",
    "                      colalign=(\"left\", \"left\")).split('\\n')\n",
    "for line in table_list:\n",
    "    cprint('\\t'.expandtabs(4) + line, previous_color, attrs=['bold'])\n",
    "\n",
    "table = [[\"Expression\", \"Result\"], [\"forward(x)\", str(forward(x))]]\n",
    "table_list = tabulate(table,\n",
    "                      headers='firstrow',\n",
    "                      tablefmt='pretty',\n",
    "                      colalign=(\"left\", \"left\")).split('\\n')\n",
    "for line in table_list:\n",
    "    cprint('\\t'.expandtabs(4) + line, previous_color, attrs=['bold'])"
   ]
  },
  {
   "cell_type": "markdown",
   "id": "45f7d2c5",
   "metadata": {},
   "source": [
    "## Linear Class"
   ]
  },
  {
   "cell_type": "code",
   "execution_count": 14,
   "id": "7ca38b88",
   "metadata": {
    "ExecuteTime": {
     "end_time": "2022-10-23T22:24:29.905525Z",
     "start_time": "2022-10-23T22:24:29.898516Z"
    }
   },
   "outputs": [
    {
     "name": "stdout",
     "output_type": "stream",
     "text": [
      "\u001b[4m\u001b[31mInitialization of standard linear model\u001b[0m\n",
      "\n",
      "\u001b[1m\u001b[31m    +--------------------------------------------------+\u001b[0m\n",
      "\u001b[1m\u001b[31m    | Statement                                        |\u001b[0m\n",
      "\u001b[1m\u001b[31m    +--------------------------------------------------+\u001b[0m\n",
      "\u001b[1m\u001b[31m    | torch.manual_seed(1)                             |\u001b[0m\n",
      "\u001b[1m\u001b[31m    | model = nn.Linear(in_features=1, out_features=1) |\u001b[0m\n",
      "\u001b[1m\u001b[31m    +--------------------------------------------------+\u001b[0m\n",
      "\u001b[1m\u001b[31m    +----------+--------------------------------------------------+\u001b[0m\n",
      "\u001b[1m\u001b[31m    | Variable | Value                                            |\u001b[0m\n",
      "\u001b[1m\u001b[31m    +----------+--------------------------------------------------+\u001b[0m\n",
      "\u001b[1m\u001b[31m    | model    | Linear(in_features=1, out_features=1, bias=True) |\u001b[0m\n",
      "\u001b[1m\u001b[31m    +----------+--------------------------------------------------+\u001b[0m\n",
      "\u001b[1m\u001b[31m    +--------------+----------------------------------------+\u001b[0m\n",
      "\u001b[1m\u001b[31m    | Expression   | Result                                 |\u001b[0m\n",
      "\u001b[1m\u001b[31m    +--------------+----------------------------------------+\u001b[0m\n",
      "\u001b[1m\u001b[31m    | model.weight | Parameter containing:                  |\u001b[0m\n",
      "\u001b[1m\u001b[31m    |              | tensor([[0.5153]], requires_grad=True) |\u001b[0m\n",
      "\u001b[1m\u001b[31m    | model.bias   | Parameter containing:                  |\u001b[0m\n",
      "\u001b[1m\u001b[31m    |              | tensor([-0.4414], requires_grad=True)  |\u001b[0m\n",
      "\u001b[1m\u001b[31m    +--------------+----------------------------------------+\u001b[0m\n"
     ]
    }
   ],
   "source": [
    "torch.manual_seed(1)\n",
    "model = nn.Linear(in_features=1, out_features=1)\n",
    "\n",
    "font_color_printer(\"Initialization of standard linear model\",\n",
    "                   attrs=['underline'],\n",
    "                   end='\\n\\n')\n",
    "\n",
    "table = [[\"Statement\"], [\"torch.manual_seed(1)\"],\n",
    "         [\"model = nn.Linear(in_features=1, out_features=1)\"]]\n",
    "table_list = tabulate(table,\n",
    "                      headers='firstrow',\n",
    "                      tablefmt='pretty',\n",
    "                      colalign=(\"left\", )).split('\\n')\n",
    "for line in table_list:\n",
    "    cprint('\\t'.expandtabs(4) + line, previous_color, attrs=['bold'])\n",
    "\n",
    "table = [[\"Variable\", \"Value\"], [\"model\", str(model)]]\n",
    "table_list = tabulate(table,\n",
    "                      headers='firstrow',\n",
    "                      tablefmt='pretty',\n",
    "                      colalign=(\"left\", \"left\")).split('\\n')\n",
    "for line in table_list:\n",
    "    cprint('\\t'.expandtabs(4) + line, previous_color, attrs=['bold'])\n",
    "\n",
    "table = [[\"Expression\", \"Result\"], [\"model.weight\",\n",
    "                                    str(model.weight)],\n",
    "         [\"model.bias\", model.bias]]\n",
    "table_list = tabulate(table,\n",
    "                      headers='firstrow',\n",
    "                      tablefmt='pretty',\n",
    "                      colalign=(\"left\", \"left\")).split('\\n')\n",
    "for line in table_list:\n",
    "    cprint('\\t'.expandtabs(4) + line, previous_color, attrs=['bold'])"
   ]
  },
  {
   "cell_type": "code",
   "execution_count": 15,
   "id": "d3299367",
   "metadata": {
    "ExecuteTime": {
     "end_time": "2022-10-23T22:24:29.911542Z",
     "start_time": "2022-10-23T22:24:29.906337Z"
    }
   },
   "outputs": [
    {
     "name": "stdout",
     "output_type": "stream",
     "text": [
      "\u001b[4m\u001b[32mModel implementation of 1D tensor\u001b[0m\n",
      "\n",
      "\u001b[1m\u001b[32m    +-------------------------+\u001b[0m\n",
      "\u001b[1m\u001b[32m    | Statement               |\u001b[0m\n",
      "\u001b[1m\u001b[32m    +-------------------------+\u001b[0m\n",
      "\u001b[1m\u001b[32m    | x = torch.tensor([2.0]) |\u001b[0m\n",
      "\u001b[1m\u001b[32m    +-------------------------+\u001b[0m\n",
      "\u001b[1m\u001b[32m    +----------+--------------+\u001b[0m\n",
      "\u001b[1m\u001b[32m    | Variable | Value        |\u001b[0m\n",
      "\u001b[1m\u001b[32m    +----------+--------------+\u001b[0m\n",
      "\u001b[1m\u001b[32m    | x        | tensor([2.]) |\u001b[0m\n",
      "\u001b[1m\u001b[32m    +----------+--------------+\u001b[0m\n",
      "\u001b[1m\u001b[32m    +------------+------------------------------------------+\u001b[0m\n",
      "\u001b[1m\u001b[32m    | Expression | Result                                   |\u001b[0m\n",
      "\u001b[1m\u001b[32m    +------------+------------------------------------------+\u001b[0m\n",
      "\u001b[1m\u001b[32m    | model(x)   | tensor([0.5891], grad_fn=<AddBackward0>) |\u001b[0m\n",
      "\u001b[1m\u001b[32m    +------------+------------------------------------------+\u001b[0m\n"
     ]
    }
   ],
   "source": [
    "x = torch.tensor([2.0])\n",
    "\n",
    "font_color_printer(\"Model implementation of 1D tensor\",\n",
    "                   attrs=['underline'],\n",
    "                   end='\\n\\n')\n",
    "\n",
    "table = [[\"Statement\"], [\"x = torch.tensor([2.0])\"]]\n",
    "table_list = tabulate(table,\n",
    "                      headers='firstrow',\n",
    "                      tablefmt='pretty',\n",
    "                      colalign=(\"left\", )).split('\\n')\n",
    "for line in table_list:\n",
    "    cprint('\\t'.expandtabs(4) + line, previous_color, attrs=['bold'])\n",
    "\n",
    "table = [[\"Variable\", \"Value\"], [\"x\", str(x)]]\n",
    "table_list = tabulate(table,\n",
    "                      headers='firstrow',\n",
    "                      tablefmt='pretty',\n",
    "                      colalign=(\"left\", \"left\")).split('\\n')\n",
    "for line in table_list:\n",
    "    cprint('\\t'.expandtabs(4) + line, previous_color, attrs=['bold'])\n",
    "\n",
    "table = [[\"Expression\", \"Result\"], [\"model(x)\", str(model(x))]]\n",
    "table_list = tabulate(table,\n",
    "                      headers='firstrow',\n",
    "                      tablefmt='pretty',\n",
    "                      colalign=(\"left\", \"left\")).split('\\n')\n",
    "for line in table_list:\n",
    "    cprint('\\t'.expandtabs(4) + line, previous_color, attrs=['bold'])"
   ]
  },
  {
   "cell_type": "code",
   "execution_count": 51,
   "id": "edbbd4b9",
   "metadata": {
    "ExecuteTime": {
     "end_time": "2022-10-23T22:52:54.298988Z",
     "start_time": "2022-10-23T22:52:54.282881Z"
    }
   },
   "outputs": [
    {
     "name": "stdout",
     "output_type": "stream",
     "text": [
      "\u001b[4m\u001b[33mModel implementation of multi-D tensor\u001b[0m\n",
      "\n",
      "\u001b[1m\u001b[33m    +-------------------------------------------------------------+\u001b[0m\n",
      "\u001b[1m\u001b[33m    | Statement                                                   |\u001b[0m\n",
      "\u001b[1m\u001b[33m    +-------------------------------------------------------------+\u001b[0m\n",
      "\u001b[1m\u001b[33m    | 01020304050607080910111213141516171819202122232425262728293 |\u001b[0m\n",
      "\u001b[1m\u001b[33m    +-------------------------------------------------------------+\u001b[0m\n",
      "\u001b[1m\u001b[33m    +----------+--------------------+\u001b[0m\n",
      "\u001b[1m\u001b[33m    | Variable | Value              |\u001b[0m\n",
      "\u001b[1m\u001b[33m    +----------+--------------------+\u001b[0m\n",
      "\u001b[1m\u001b[33m    | x        | tensor([[2.0000],  |\u001b[0m\n",
      "\u001b[1m\u001b[33m    |          |         [3.3000]]) |\u001b[0m\n",
      "\u001b[1m\u001b[33m    +----------+--------------------+\u001b[0m\n",
      "\u001b[1m\u001b[33m    +------------+------------------------------------------------+\u001b[0m\n",
      "\u001b[1m\u001b[33m    | Expression | Result                                         |\u001b[0m\n",
      "\u001b[1m\u001b[33m    +------------+------------------------------------------------+\u001b[0m\n",
      "\u001b[1m\u001b[33m    | model(x)   | 0102030405060708091011121314151617181920212223 |\u001b[0m\n",
      "\u001b[1m\u001b[33m    +------------+------------------------------------------------+\u001b[0m\n"
     ]
    }
   ],
   "source": [
    "x = torch.tensor([[2.0], [3.3]])\n",
    "\n",
    "font_color_printer(\"Model implementation of multi-D tensor\",\n",
    "                   attrs=['underline'],\n",
    "                   end='\\n\\n')\n",
    "\n",
    "table = [[\"Statement\"],\n",
    "         [\"01020304050607080910111213141516171819202122232425262728293\"]]\n",
    "table_list = tabulate(table,\n",
    "                      headers='firstrow',\n",
    "                      tablefmt='pretty',\n",
    "                      colalign=(\"left\", )).split('\\n')\n",
    "for line in table_list:\n",
    "    cprint('\\t'.expandtabs(4) + line, previous_color, attrs=['bold'])\n",
    "\n",
    "table = [[\"Variable\", \"Value\"], [\"x\", str(x)]]\n",
    "table_list = tabulate(table,\n",
    "                      headers='firstrow',\n",
    "                      tablefmt='pretty',\n",
    "                      colalign=(\"left\", \"left\")).split('\\n')\n",
    "for line in table_list:\n",
    "    cprint('\\t'.expandtabs(4) + line, previous_color, attrs=['bold'])\n",
    "\n",
    "table = [[\"Expression\", \"Result\"],\n",
    "         [\"model(x)\",\n",
    "          str(\"0102030405060708091011121314151617181920212223\")]]\n",
    "table_list = tabulate(table,\n",
    "                      headers='firstrow',\n",
    "                      tablefmt='pretty',\n",
    "                      colalign=(\"left\", \"left\")).split('\\n')\n",
    "for line in table_list:\n",
    "    cprint('\\t'.expandtabs(4) + line, previous_color, attrs=['bold'])"
   ]
  },
  {
   "cell_type": "code",
   "execution_count": null,
   "id": "948d9f0f",
   "metadata": {},
   "outputs": [],
   "source": [
    "able = [[\"Expression\", \"Result\"], [\"model(x)\", str(model(x))]]\n",
    "table_list = tabulate(table,\n",
    "                      headers='firstrow',\n",
    "                      tablefmt='pretty',\n",
    "                      colalign=(\"left\", \"left\")).split('\\n')\n",
    "for line in table_list:\n",
    "    cprint('\\t'.expandtabs(4) + line, previous_color, attrs=['bold'])"
   ]
  },
  {
   "cell_type": "code",
   "execution_count": 39,
   "id": "56c70b10",
   "metadata": {
    "ExecuteTime": {
     "end_time": "2022-10-23T22:32:12.027607Z",
     "start_time": "2022-10-23T22:32:12.017548Z"
    }
   },
   "outputs": [
    {
     "name": "stdout",
     "output_type": "stream",
     "text": [
      "010203040506070809101112131415161718192021222324252627282930313233343536373839404142434445464748495051525354555657585960616263646566676869707172737475767778798081828384858687888990919293949596979899"
     ]
    }
   ],
   "source": [
    "for i in range(1, 100):\n",
    "    if i < 10:\n",
    "        i = '0' + str(i)\n",
    "    else:\n",
    "        i = str(i)\n",
    "    print(i, end='')"
   ]
  },
  {
   "cell_type": "code",
   "execution_count": null,
   "id": "e5b3ada8",
   "metadata": {},
   "outputs": [],
   "source": []
  },
  {
   "cell_type": "code",
   "execution_count": null,
   "id": "2800ab46",
   "metadata": {},
   "outputs": [],
   "source": []
  },
  {
   "cell_type": "markdown",
   "id": "7808fb8b",
   "metadata": {},
   "source": [
    "# Custom Modules"
   ]
  },
  {
   "cell_type": "code",
   "execution_count": 17,
   "id": "0fbb084e",
   "metadata": {
    "ExecuteTime": {
     "end_time": "2022-10-23T22:24:29.920471Z",
     "start_time": "2022-10-23T22:24:29.918395Z"
    }
   },
   "outputs": [],
   "source": [
    "class LR(nn.Module):\n",
    "\n",
    "    def __init__(self, input_size, output_size):\n",
    "        super().__init__()\n",
    "        self.linear = nn.Linear(input_size, output_size)\n",
    "\n",
    "    def forward(self, x):\n",
    "        pred = self.linear(x)\n",
    "        return pred"
   ]
  },
  {
   "cell_type": "code",
   "execution_count": 18,
   "id": "bacc1001",
   "metadata": {
    "ExecuteTime": {
     "end_time": "2022-10-23T22:24:29.924421Z",
     "start_time": "2022-10-23T22:24:29.921304Z"
    }
   },
   "outputs": [
    {
     "name": "stdout",
     "output_type": "stream",
     "text": [
      "[Parameter containing:\n",
      "tensor([[0.5153]], requires_grad=True), Parameter containing:\n",
      "tensor([-0.4414], requires_grad=True)]\n"
     ]
    }
   ],
   "source": [
    "torch.manual_seed(1)\n",
    "model = LR(1, 1)\n",
    "print(list(model.parameters()))"
   ]
  },
  {
   "cell_type": "code",
   "execution_count": 19,
   "id": "ae3c3e65",
   "metadata": {
    "ExecuteTime": {
     "end_time": "2022-10-23T22:24:29.926964Z",
     "start_time": "2022-10-23T22:24:29.925226Z"
    }
   },
   "outputs": [
    {
     "name": "stdout",
     "output_type": "stream",
     "text": [
      "<generator object Module.parameters at 0x15bf28970>\n"
     ]
    }
   ],
   "source": [
    "print(model.parameters())"
   ]
  },
  {
   "cell_type": "code",
   "execution_count": 20,
   "id": "231715a1",
   "metadata": {
    "ExecuteTime": {
     "end_time": "2022-10-23T22:24:29.930743Z",
     "start_time": "2022-10-23T22:24:29.928311Z"
    }
   },
   "outputs": [
    {
     "name": "stdout",
     "output_type": "stream",
     "text": [
      "tensor([0.0739], grad_fn=<AddBackward0>)\n"
     ]
    }
   ],
   "source": [
    "x = torch.tensor([1.0])\n",
    "print(model.forward(x))"
   ]
  },
  {
   "cell_type": "code",
   "execution_count": 21,
   "id": "6cc9fe7e",
   "metadata": {
    "ExecuteTime": {
     "end_time": "2022-10-23T22:24:29.934362Z",
     "start_time": "2022-10-23T22:24:29.931649Z"
    }
   },
   "outputs": [
    {
     "name": "stdout",
     "output_type": "stream",
     "text": [
      "tensor([[0.0739],\n",
      "        [0.5891]], grad_fn=<AddmmBackward0>)\n"
     ]
    }
   ],
   "source": [
    "x = torch.tensor([[1.0], [2.0]])\n",
    "print(model.forward(x))"
   ]
  },
  {
   "cell_type": "markdown",
   "id": "af3c32c1",
   "metadata": {
    "ExecuteTime": {
     "end_time": "2022-07-21T01:19:38.272762Z",
     "start_time": "2022-07-21T01:19:38.266612Z"
    }
   },
   "source": [
    "# Creating Dataset"
   ]
  },
  {
   "cell_type": "code",
   "execution_count": 22,
   "id": "00994cfd",
   "metadata": {
    "ExecuteTime": {
     "end_time": "2022-10-23T22:24:29.938124Z",
     "start_time": "2022-10-23T22:24:29.935331Z"
    }
   },
   "outputs": [
    {
     "name": "stdout",
     "output_type": "stream",
     "text": [
      "tensor([[-0.6540],\n",
      "        [-0.2223],\n",
      "        [-0.6629],\n",
      "        [-0.7984],\n",
      "        [-0.1578],\n",
      "        [ 0.7626],\n",
      "        [-3.3312],\n",
      "        [ 0.9837],\n",
      "        [-0.6540],\n",
      "        [ 1.2466]])\n"
     ]
    }
   ],
   "source": [
    "X = torch.randn(100, 1)\n",
    "print(X[::10])"
   ]
  },
  {
   "cell_type": "code",
   "execution_count": 23,
   "id": "853d5d63",
   "metadata": {
    "ExecuteTime": {
     "end_time": "2022-10-23T22:24:30.016679Z",
     "start_time": "2022-10-23T22:24:29.939306Z"
    }
   },
   "outputs": [
    {
     "data": {
      "text/plain": [
       "[<matplotlib.lines.Line2D at 0x15c8571f0>]"
      ]
     },
     "execution_count": 23,
     "metadata": {},
     "output_type": "execute_result"
    },
    {
     "data": {
      "image/png": "[encoded data removed]",
      "text/plain": [
       "<Figure size 640x480 with 1 Axes>"
      ]
     },
     "metadata": {},
     "output_type": "display_data"
    }
   ],
   "source": [
    "X = torch.randn(100, 1) * 10\n",
    "y = X\n",
    "colors = calm_color_generator(1)\n",
    "plt.plot(X.numpy(), y.numpy(), 'o', c=colors[0])"
   ]
  },
  {
   "cell_type": "code",
   "execution_count": 24,
   "id": "61506e97",
   "metadata": {
    "ExecuteTime": {
     "end_time": "2022-10-23T22:24:30.085909Z",
     "start_time": "2022-10-23T22:24:30.017881Z"
    },
    "scrolled": true
   },
   "outputs": [
    {
     "data": {
      "text/plain": [
       "Text(0.5, 0, 'X')"
      ]
     },
     "execution_count": 24,
     "metadata": {},
     "output_type": "execute_result"
    },
    {
     "data": {
      "image/png": "[encoded data removed]",
      "text/plain": [
       "<Figure size 640x480 with 1 Axes>"
      ]
     },
     "metadata": {},
     "output_type": "display_data"
    }
   ],
   "source": [
    "y = X + 3 * torch.randn(100, 1)\n",
    "colors = calm_color_generator(1)\n",
    "plt.plot(X.numpy(), y.numpy(), 'o', c=colors[0])\n",
    "plt.ylabel('y')\n",
    "plt.xlabel('X')"
   ]
  },
  {
   "cell_type": "code",
   "execution_count": 25,
   "id": "fcf1e03e",
   "metadata": {
    "ExecuteTime": {
     "end_time": "2022-10-23T22:24:30.089153Z",
     "start_time": "2022-10-23T22:24:30.087103Z"
    }
   },
   "outputs": [
    {
     "name": "stdout",
     "output_type": "stream",
     "text": [
      "LR(\n",
      "  (linear): Linear(in_features=1, out_features=1, bias=True)\n",
      ")\n"
     ]
    }
   ],
   "source": [
    "print(model)"
   ]
  },
  {
   "cell_type": "code",
   "execution_count": 26,
   "id": "7f437861",
   "metadata": {
    "ExecuteTime": {
     "end_time": "2022-10-23T22:24:30.092809Z",
     "start_time": "2022-10-23T22:24:30.090272Z"
    }
   },
   "outputs": [
    {
     "name": "stdout",
     "output_type": "stream",
     "text": [
      "[Parameter containing:\n",
      "tensor([[0.5153]], requires_grad=True), Parameter containing:\n",
      "tensor([-0.4414], requires_grad=True)]\n"
     ]
    }
   ],
   "source": [
    "[w, b] = model.parameters()\n",
    "print([w, b])"
   ]
  },
  {
   "cell_type": "code",
   "execution_count": 27,
   "id": "ed429138",
   "metadata": {
    "ExecuteTime": {
     "end_time": "2022-10-23T22:24:30.096798Z",
     "start_time": "2022-10-23T22:24:30.093612Z"
    }
   },
   "outputs": [
    {
     "name": "stdout",
     "output_type": "stream",
     "text": [
      "tensor(0.5153, grad_fn=<SelectBackward0>) tensor(-0.4414, grad_fn=<SelectBackward0>)\n"
     ]
    }
   ],
   "source": [
    "w1 = w[0][0]\n",
    "b1 = b[0]\n",
    "print(w1, b1)"
   ]
  },
  {
   "cell_type": "code",
   "execution_count": 28,
   "id": "9c410847",
   "metadata": {
    "ExecuteTime": {
     "end_time": "2022-10-23T22:24:30.107363Z",
     "start_time": "2022-10-23T22:24:30.105015Z"
    }
   },
   "outputs": [
    {
     "name": "stdout",
     "output_type": "stream",
     "text": [
      "0.5152631998062134 -0.44137823581695557\n"
     ]
    }
   ],
   "source": [
    "w1 = w[0][0].item()\n",
    "b1 = b[0].item()\n",
    "print(w1, b1)"
   ]
  },
  {
   "cell_type": "code",
   "execution_count": 29,
   "id": "c0c20fa9",
   "metadata": {
    "ExecuteTime": {
     "end_time": "2022-10-23T22:24:30.110967Z",
     "start_time": "2022-10-23T22:24:30.108893Z"
    }
   },
   "outputs": [],
   "source": [
    "def get_params():\n",
    "    return (w[0][0].item(), b[0].item())"
   ]
  },
  {
   "cell_type": "code",
   "execution_count": 30,
   "id": "d6a48edf",
   "metadata": {
    "ExecuteTime": {
     "end_time": "2022-10-23T22:24:30.114640Z",
     "start_time": "2022-10-23T22:24:30.112243Z"
    }
   },
   "outputs": [],
   "source": [
    "def plot_fit(title):\n",
    "    plt.title = title\n",
    "    w1, b1 = get_params()\n",
    "    x1 = np.array([-30, 30])\n",
    "    y1 = w1 * x1 + b1\n",
    "    plt.plot(x1, y1, 'r')\n",
    "    colors = calm_color_generator(1)\n",
    "    plt.scatter(X, y, color=colors[0])\n",
    "    plt.show()"
   ]
  },
  {
   "cell_type": "code",
   "execution_count": 31,
   "id": "0b0c25af",
   "metadata": {
    "ExecuteTime": {
     "end_time": "2022-10-23T22:24:30.176038Z",
     "start_time": "2022-10-23T22:24:30.115825Z"
    }
   },
   "outputs": [
    {
     "data": {
      "image/png": "[encoded data removed]",
      "text/plain": [
       "<Figure size 640x480 with 1 Axes>"
      ]
     },
     "metadata": {},
     "output_type": "display_data"
    }
   ],
   "source": [
    "plot_fit(\"Initial Model\")"
   ]
  },
  {
   "cell_type": "markdown",
   "id": "9c1945e1",
   "metadata": {
    "ExecuteTime": {
     "end_time": "2022-07-21T02:44:23.523234Z",
     "start_time": "2022-07-21T02:44:23.514722Z"
    }
   },
   "source": [
    "# Training - Code Implementation"
   ]
  },
  {
   "cell_type": "code",
   "execution_count": 32,
   "id": "6fa47cc8",
   "metadata": {
    "ExecuteTime": {
     "end_time": "2022-10-23T22:24:30.179160Z",
     "start_time": "2022-10-23T22:24:30.177087Z"
    }
   },
   "outputs": [],
   "source": [
    "criterion = nn.MSELoss()\n",
    "optimizer = torch.optim.SGD(model.parameters(), lr=0.0002)"
   ]
  },
  {
   "cell_type": "code",
   "execution_count": 33,
   "id": "1326959e",
   "metadata": {
    "ExecuteTime": {
     "end_time": "2022-10-23T22:24:30.181968Z",
     "start_time": "2022-10-23T22:24:30.180035Z"
    }
   },
   "outputs": [
    {
     "name": "stdout",
     "output_type": "stream",
     "text": [
      "MSELoss()\n"
     ]
    }
   ],
   "source": [
    "print(criterion)"
   ]
  },
  {
   "cell_type": "code",
   "execution_count": 34,
   "id": "8e82e118",
   "metadata": {
    "ExecuteTime": {
     "end_time": "2022-10-23T22:24:30.184611Z",
     "start_time": "2022-10-23T22:24:30.182833Z"
    }
   },
   "outputs": [
    {
     "name": "stdout",
     "output_type": "stream",
     "text": [
      "SGD (\n",
      "Parameter Group 0\n",
      "    dampening: 0\n",
      "    differentiable: False\n",
      "    foreach: None\n",
      "    lr: 0.0002\n",
      "    maximize: False\n",
      "    momentum: 0\n",
      "    nesterov: False\n",
      "    weight_decay: 0\n",
      ")\n"
     ]
    }
   ],
   "source": [
    "print(optimizer)"
   ]
  },
  {
   "cell_type": "code",
   "execution_count": 35,
   "id": "c30f8eb5",
   "metadata": {
    "ExecuteTime": {
     "end_time": "2022-10-23T22:24:30.452250Z",
     "start_time": "2022-10-23T22:24:30.185708Z"
    }
   },
   "outputs": [
    {
     "ename": "NameError",
     "evalue": "name 'colored' is not defined",
     "output_type": "error",
     "traceback": [
      "\u001b[0;31m---------------------------------------------------------------------------\u001b[0m",
      "\u001b[0;31mNameError\u001b[0m                                 Traceback (most recent call last)",
      "Cell \u001b[0;32mIn [35], line 12\u001b[0m\n\u001b[1;32m     10\u001b[0m loss \u001b[38;5;241m=\u001b[39m criterion(y_pred, y)\n\u001b[1;32m     11\u001b[0m \u001b[38;5;28;01mif\u001b[39;00m i \u001b[38;5;241m==\u001b[39m \u001b[38;5;241m1\u001b[39m \u001b[38;5;129;01mor\u001b[39;00m i \u001b[38;5;241m%\u001b[39m \u001b[38;5;241m10\u001b[39m \u001b[38;5;241m==\u001b[39m \u001b[38;5;241m0\u001b[39m:\n\u001b[0;32m---> 12\u001b[0m     \u001b[38;5;28mprint\u001b[39m(\u001b[43mcolored\u001b[49m(\u001b[38;5;124m\"\u001b[39m\u001b[38;5;124mepoch:\u001b[39m\u001b[38;5;124m\"\u001b[39m, font_colors[\u001b[38;5;241m0\u001b[39m], attrs\u001b[38;5;241m=\u001b[39m[\u001b[38;5;124m'\u001b[39m\u001b[38;5;124mbold\u001b[39m\u001b[38;5;124m'\u001b[39m]), i,\n\u001b[1;32m     13\u001b[0m           colored(\u001b[38;5;124m\"\u001b[39m\u001b[38;5;124mloss:\u001b[39m\u001b[38;5;124m\"\u001b[39m, font_colors[\u001b[38;5;241m1\u001b[39m]), loss\u001b[38;5;241m.\u001b[39mitem())\n\u001b[1;32m     14\u001b[0m     \u001b[38;5;28mprint\u001b[39m(colored(\u001b[38;5;124m\"\u001b[39m\u001b[38;5;124mweight:\u001b[39m\u001b[38;5;124m\"\u001b[39m, font_colors[\u001b[38;5;241m1\u001b[39m]),\n\u001b[1;32m     15\u001b[0m           \u001b[38;5;28mlist\u001b[39m(model\u001b[38;5;241m.\u001b[39mparameters())[\u001b[38;5;241m0\u001b[39m][\u001b[38;5;241m0\u001b[39m][\u001b[38;5;241m0\u001b[39m]\u001b[38;5;241m.\u001b[39mitem(),\n\u001b[1;32m     16\u001b[0m           colored(\u001b[38;5;124m\"\u001b[39m\u001b[38;5;124mbias:\u001b[39m\u001b[38;5;124m\"\u001b[39m, font_colors[\u001b[38;5;241m1\u001b[39m]),\n\u001b[1;32m     17\u001b[0m           \u001b[38;5;28mlist\u001b[39m(model\u001b[38;5;241m.\u001b[39mparameters())[\u001b[38;5;241m1\u001b[39m][\u001b[38;5;241m0\u001b[39m]\u001b[38;5;241m.\u001b[39mitem())\n\u001b[1;32m     18\u001b[0m losses\u001b[38;5;241m.\u001b[39mappend(loss\u001b[38;5;241m.\u001b[39mitem())\n",
      "\u001b[0;31mNameError\u001b[0m: name 'colored' is not defined"
     ]
    }
   ],
   "source": [
    "epochs = 100\n",
    "losses = []\n",
    "termcolors = [\n",
    "    'grey', 'red', 'green', 'yellow', 'blue', 'magenta', 'cyan', 'white'\n",
    "]\n",
    "font_colors = random.choices(termcolors, k=2)\n",
    "for i in range(epochs):\n",
    "    i += 1\n",
    "    y_pred = model.forward(X)\n",
    "    loss = criterion(y_pred, y)\n",
    "    if i == 1 or i % 10 == 0:\n",
    "        print(colored(\"epoch:\", font_colors[0], attrs=['bold']), i,\n",
    "              colored(\"loss:\", font_colors[1]), loss.item())\n",
    "        print(colored(\"weight:\", font_colors[1]),\n",
    "              list(model.parameters())[0][0][0].item(),\n",
    "              colored(\"bias:\", font_colors[1]),\n",
    "              list(model.parameters())[1][0].item())\n",
    "    losses.append(loss.item())\n",
    "    optimizer.zero_grad()\n",
    "    loss.backward()\n",
    "    optimizer.step()"
   ]
  },
  {
   "cell_type": "code",
   "execution_count": null,
   "id": "9e30bf28",
   "metadata": {
    "ExecuteTime": {
     "end_time": "2022-10-23T22:24:30.461371Z",
     "start_time": "2022-10-23T22:24:30.461365Z"
    }
   },
   "outputs": [],
   "source": [
    "colors = calm_color_generator(1)\n",
    "plt.plot(range(epochs), losses, c=colors[0])\n",
    "plt.ylabel('Loss')\n",
    "plt.xlabel('Epoch')"
   ]
  },
  {
   "cell_type": "code",
   "execution_count": null,
   "id": "5f020fb6",
   "metadata": {
    "ExecuteTime": {
     "end_time": "2022-10-23T22:24:30.462223Z",
     "start_time": "2022-10-23T22:24:30.462207Z"
    }
   },
   "outputs": [],
   "source": [
    "plot_fit(\"Trained Model\")"
   ]
  }
 ],
 "metadata": {
  "hide_input": false,
  "kernelspec": {
   "display_name": "Python 3 (ipykernel)",
   "language": "python",
   "name": "python3"
  },
  "language_info": {
   "codemirror_mode": {
    "name": "ipython",
    "version": 3
   },
   "file_extension": ".py",
   "mimetype": "text/x-python",
   "name": "python",
   "nbconvert_exporter": "python",
   "pygments_lexer": "ipython3",
   "version": "3.9.12"
  },
  "latex_envs": {
   "LaTeX_envs_menu_present": true,
   "autoclose": false,
   "autocomplete": true,
   "bibliofile": "biblio.bib",
   "cite_by": "apalike",
   "current_citInitial": 1,
   "eqLabelWithNumbers": true,
   "eqNumInitial": 1,
   "hotkeys": {
    "equation": "Ctrl-E",
    "itemize": "Ctrl-I"
   },
   "labels_anchors": false,
   "latex_user_defs": false,
   "report_style_numbering": false,
   "user_envs_cfg": false
  },
  "nbTranslate": {
   "displayLangs": [
    "*"
   ],
   "hotkey": "alt-t",
   "langInMainMenu": true,
   "sourceLang": "en",
   "targetLang": "fr",
   "useGoogleTranslate": true
  },
  "toc": {
   "base_numbering": 1,
   "nav_menu": {},
   "number_sections": true,
   "sideBar": true,
   "skip_h1_title": false,
   "title_cell": "Table of Contents",
   "title_sidebar": "Contents",
   "toc_cell": false,
   "toc_position": {
    "height": "calc(100% - 180px)",
    "left": "10px",
    "top": "150px",
    "width": "345.594px"
   },
   "toc_section_display": true,
   "toc_window_display": true
  },
  "varInspector": {
   "cols": {
    "lenName": 16,
    "lenType": 16,
    "lenVar": 40
   },
   "kernels_config": {
    "python": {
     "delete_cmd_postfix": "",
     "delete_cmd_prefix": "del ",
     "library": "var_list.py",
     "varRefreshCmd": "print(var_dic_list())"
    },
    "r": {
     "delete_cmd_postfix": ") ",
     "delete_cmd_prefix": "rm(",
     "library": "var_list.r",
     "varRefreshCmd": "cat(var_dic_list()) "
    }
   },
   "types_to_exclude": [
    "module",
    "function",
    "builtin_function_or_method",
    "instance",
    "_Feature"
   ],
   "window_display": false
  }
 },
 "nbformat": 4,
 "nbformat_minor": 5
}

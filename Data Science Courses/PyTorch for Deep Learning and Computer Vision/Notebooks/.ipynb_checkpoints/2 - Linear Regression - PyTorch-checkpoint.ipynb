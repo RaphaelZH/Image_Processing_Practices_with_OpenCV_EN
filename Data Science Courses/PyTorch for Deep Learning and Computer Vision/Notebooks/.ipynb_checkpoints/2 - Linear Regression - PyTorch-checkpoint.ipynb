{
 "cells": [
  {
   "cell_type": "markdown",
   "id": "5fdb7bb7",
   "metadata": {},
   "source": [
    "# Importing Libraries"
   ]
  },
  {
   "cell_type": "code",
   "execution_count": 1,
   "id": "07cd4ffb",
   "metadata": {
    "ExecuteTime": {
     "end_time": "2022-11-04T14:31:34.538699Z",
     "start_time": "2022-11-04T14:31:33.553501Z"
    }
   },
   "outputs": [],
   "source": [
    "import torch\n",
    "from torch import nn\n",
    "\n",
    "import numpy as np\n",
    "\n",
    "import matplotlib as mpl\n",
    "import matplotlib.pyplot as plt\n",
    "\n",
    "import sys"
   ]
  },
  {
   "cell_type": "markdown",
   "id": "5094fde5",
   "metadata": {},
   "source": [
    "# Configuring Visualization Parameters"
   ]
  },
  {
   "cell_type": "code",
   "execution_count": 2,
   "id": "d6dd7c45",
   "metadata": {
    "ExecuteTime": {
     "end_time": "2022-11-04T14:31:34.547624Z",
     "start_time": "2022-11-04T14:31:34.539858Z"
    }
   },
   "outputs": [],
   "source": [
    "%matplotlib inline"
   ]
  },
  {
   "cell_type": "code",
   "execution_count": 3,
   "id": "5d4894ab",
   "metadata": {
    "ExecuteTime": {
     "end_time": "2022-11-04T14:31:34.550067Z",
     "start_time": "2022-11-04T14:31:34.548453Z"
    }
   },
   "outputs": [],
   "source": [
    "XINHUI = '#7a7374'\n",
    "XUEBAI = '#fffef9'\n",
    "YINBAI = '#f1f0ed'\n",
    "YINHUI = '#918072'\n",
    "\n",
    "figure_size = (16, 9)"
   ]
  },
  {
   "cell_type": "code",
   "execution_count": 4,
   "id": "6f7198a8",
   "metadata": {
    "ExecuteTime": {
     "end_time": "2022-11-04T14:31:34.553570Z",
     "start_time": "2022-11-04T14:31:34.551479Z"
    }
   },
   "outputs": [],
   "source": [
    "custom_params = {\n",
    "    'axes.axisbelow': True,\n",
    "    'axes.edgecolor': YINBAI,\n",
    "    'axes.facecolor': XUEBAI,\n",
    "    'axes.grid': True,\n",
    "    'axes.labelcolor': XINHUI,\n",
    "    'axes.spines.right': False,\n",
    "    'axes.spines.top': False,\n",
    "    'axes.titlecolor': XINHUI,\n",
    "    'figure.edgecolor': YINBAI,\n",
    "    'figure.facecolor': XUEBAI,\n",
    "    'grid.alpha': .8,\n",
    "    'grid.color': YINBAI,\n",
    "    'grid.linestyle': '--',\n",
    "    'grid.linewidth': 1.2,\n",
    "    'legend.edgecolor': YINHUI,\n",
    "    'patch.edgecolor': XUEBAI,\n",
    "    'patch.force_edgecolor': True,\n",
    "    'text.color': XINHUI,\n",
    "    'xtick.color': YINHUI,\n",
    "    'ytick.color': YINHUI,\n",
    "}\n",
    "\n",
    "mpl.rcParams.update(custom_params)"
   ]
  },
  {
   "cell_type": "markdown",
   "id": "77cdea15",
   "metadata": {},
   "source": [
    "# Pre-installing Custom Functions"
   ]
  },
  {
   "cell_type": "code",
   "execution_count": 5,
   "id": "1f6ac6d5",
   "metadata": {
    "ExecuteTime": {
     "end_time": "2022-11-04T14:31:34.555969Z",
     "start_time": "2022-11-04T14:31:34.554348Z"
    }
   },
   "outputs": [],
   "source": [
    "sys.path.append('../')"
   ]
  },
  {
   "cell_type": "code",
   "execution_count": 6,
   "id": "ab3f4e6c",
   "metadata": {
    "ExecuteTime": {
     "end_time": "2022-11-04T14:31:34.566197Z",
     "start_time": "2022-11-04T14:31:34.556672Z"
    }
   },
   "outputs": [],
   "source": [
    "from Modules import *"
   ]
  },
  {
   "cell_type": "markdown",
   "id": "00dd6868",
   "metadata": {},
   "source": [
    "# Practicing in Stages\n",
    "\n",
    "## Making Predictions"
   ]
  },
  {
   "cell_type": "code",
   "execution_count": 7,
   "id": "002025a7",
   "metadata": {
    "ExecuteTime": {
     "end_time": "2022-11-04T14:31:34.569757Z",
     "start_time": "2022-11-04T14:31:34.566876Z"
    },
    "code_folding": [],
    "hide_input": false,
    "scrolled": false
   },
   "outputs": [
    {
     "name": "stdout",
     "output_type": "stream",
     "text": [
      "\u001b[4m\u001b[35mDefinition of the function of prediction\u001b[0m\n",
      "\n",
      "\u001b[1m\u001b[35m    +-------------------+\u001b[0m\n",
      "\u001b[1m\u001b[35m    | Definition        |\u001b[0m\n",
      "\u001b[1m\u001b[35m    +-------------------+\u001b[0m\n",
      "\u001b[1m\u001b[35m    | def forward(x):   |\u001b[0m\n",
      "\u001b[1m\u001b[35m    |     y = w * x + b |\u001b[0m\n",
      "\u001b[1m\u001b[35m    |     return y      |\u001b[0m\n",
      "\u001b[1m\u001b[35m    +-------------------+\u001b[0m\n"
     ]
    }
   ],
   "source": [
    "def forward(x):\n",
    "    y = w * x + b\n",
    "    return y\n",
    "\n",
    "\n",
    "tabulation = Form_Generator()\n",
    "tabulation.heading_printer(\"Definition of the function of prediction\")\n",
    "\n",
    "definition_1 = \"\"\"\n",
    "def forward(x):\n",
    "    y = w * x + b\n",
    "    return y\n",
    "\"\"\"\n",
    "definitions = [definition_1]\n",
    "tabulation.definition_generator(definitions)"
   ]
  },
  {
   "cell_type": "code",
   "execution_count": 8,
   "id": "6b34b014",
   "metadata": {
    "ExecuteTime": {
     "end_time": "2022-11-04T14:31:34.574575Z",
     "start_time": "2022-11-04T14:31:34.570774Z"
    },
    "hide_input": false
   },
   "outputs": [
    {
     "name": "stdout",
     "output_type": "stream",
     "text": [
      "\u001b[4m\u001b[30mInitial assignment of parameters\u001b[0m\n",
      "\n",
      "\u001b[1m\u001b[30m    +-------------------------------------------+\u001b[0m\n",
      "\u001b[1m\u001b[30m    | Statement                                 |\u001b[0m\n",
      "\u001b[1m\u001b[30m    +-------------------------------------------+\u001b[0m\n",
      "\u001b[1m\u001b[30m    | w = torch.tensor(3.0, requires_grad=True) |\u001b[0m\n",
      "\u001b[1m\u001b[30m    | b = torch.tensor(1.0, requires_grad=True) |\u001b[0m\n",
      "\u001b[1m\u001b[30m    +-------------------------------------------+\u001b[0m\n",
      "\u001b[1m\u001b[30m    +----------+--------------------------------+\u001b[0m\n",
      "\u001b[1m\u001b[30m    | Variable | Value                          |\u001b[0m\n",
      "\u001b[1m\u001b[30m    +----------+--------------------------------+\u001b[0m\n",
      "\u001b[1m\u001b[30m    | w        | tensor(3., requires_grad=True) |\u001b[0m\n",
      "\u001b[1m\u001b[30m    | b        | tensor(1., requires_grad=True) |\u001b[0m\n",
      "\u001b[1m\u001b[30m    +----------+--------------------------------+\u001b[0m\n"
     ]
    }
   ],
   "source": [
    "w = torch.tensor(3.0, requires_grad=True)\n",
    "b = torch.tensor(1.0, requires_grad=True)\n",
    "\n",
    "tabulation = Form_Generator()\n",
    "tabulation.heading_printer(\"Initial assignment of parameters\")\n",
    "\n",
    "statement_1 = \"w = torch.tensor(3.0, requires_grad=True)\"\n",
    "statement_2 = \"b = torch.tensor(1.0, requires_grad=True)\"\n",
    "statements = [statement_1] + [statement_2]\n",
    "tabulation.statement_generator(statements)\n",
    "\n",
    "variables = [\"w\", \"b\"]\n",
    "values = [str(w), str(b)]\n",
    "tabulation.variable_generator(variables, values)"
   ]
  },
  {
   "cell_type": "code",
   "execution_count": 9,
   "id": "a3e6732f",
   "metadata": {
    "ExecuteTime": {
     "end_time": "2022-11-04T14:31:34.578766Z",
     "start_time": "2022-11-04T14:31:34.575466Z"
    },
    "hide_input": false
   },
   "outputs": [
    {
     "name": "stdout",
     "output_type": "stream",
     "text": [
      "\u001b[4m\u001b[34mFunction implementation with 0D tensor\u001b[0m\n",
      "\n",
      "\u001b[1m\u001b[34m    +---------------------+\u001b[0m\n",
      "\u001b[1m\u001b[34m    | Statement           |\u001b[0m\n",
      "\u001b[1m\u001b[34m    +---------------------+\u001b[0m\n",
      "\u001b[1m\u001b[34m    | x = torch.tensor(2) |\u001b[0m\n",
      "\u001b[1m\u001b[34m    +---------------------+\u001b[0m\n",
      "\u001b[1m\u001b[34m    +----------+-----------+\u001b[0m\n",
      "\u001b[1m\u001b[34m    | Variable | Value     |\u001b[0m\n",
      "\u001b[1m\u001b[34m    +----------+-----------+\u001b[0m\n",
      "\u001b[1m\u001b[34m    | x        | tensor(2) |\u001b[0m\n",
      "\u001b[1m\u001b[34m    +----------+-----------+\u001b[0m\n",
      "\u001b[1m\u001b[34m    +------------+------------------------------------+\u001b[0m\n",
      "\u001b[1m\u001b[34m    | Expression | Result                             |\u001b[0m\n",
      "\u001b[1m\u001b[34m    +------------+------------------------------------+\u001b[0m\n",
      "\u001b[1m\u001b[34m    | forward(x) | tensor(7., grad_fn=<AddBackward0>) |\u001b[0m\n",
      "\u001b[1m\u001b[34m    +------------+------------------------------------+\u001b[0m\n"
     ]
    }
   ],
   "source": [
    "x = torch.tensor(2)\n",
    "\n",
    "tabulation = Form_Generator()\n",
    "tabulation.heading_printer(\"Function implementation with 0D tensor\")\n",
    "\n",
    "statement_1 = \"x = torch.tensor(2)\"\n",
    "statements = [statement_1]\n",
    "tabulation.statement_generator(statements)\n",
    "\n",
    "variables = [\"x\"]\n",
    "values = [str(x)]\n",
    "tabulation.variable_generator(variables, values)\n",
    "\n",
    "expressions = [\"forward(x)\"]\n",
    "results = [str(forward(x))]\n",
    "tabulation.expression_generator(expressions, results)"
   ]
  },
  {
   "cell_type": "code",
   "execution_count": 10,
   "id": "5e292920",
   "metadata": {
    "ExecuteTime": {
     "end_time": "2022-11-04T14:31:34.584649Z",
     "start_time": "2022-11-04T14:31:34.581067Z"
    },
    "hide_input": false
   },
   "outputs": [
    {
     "name": "stdout",
     "output_type": "stream",
     "text": [
      "\u001b[4m\u001b[37mFunction implementation with multi-D tensor\u001b[0m\n",
      "\n",
      "\u001b[1m\u001b[37m    +------------------------------+\u001b[0m\n",
      "\u001b[1m\u001b[37m    | Statement                    |\u001b[0m\n",
      "\u001b[1m\u001b[37m    +------------------------------+\u001b[0m\n",
      "\u001b[1m\u001b[37m    | x = torch.tensor([[4], [7]]) |\u001b[0m\n",
      "\u001b[1m\u001b[37m    +------------------------------+\u001b[0m\n",
      "\u001b[1m\u001b[37m    +----------+---------------+\u001b[0m\n",
      "\u001b[1m\u001b[37m    | Variable | Value         |\u001b[0m\n",
      "\u001b[1m\u001b[37m    +----------+---------------+\u001b[0m\n",
      "\u001b[1m\u001b[37m    | x        | tensor([[4],  |\u001b[0m\n",
      "\u001b[1m\u001b[37m    |          |         [7]]) |\u001b[0m\n",
      "\u001b[1m\u001b[37m    +----------+---------------+\u001b[0m\n",
      "\u001b[1m\u001b[37m    +------------+-----------------------------------------+\u001b[0m\n",
      "\u001b[1m\u001b[37m    | Expression | Result                                  |\u001b[0m\n",
      "\u001b[1m\u001b[37m    +------------+-----------------------------------------+\u001b[0m\n",
      "\u001b[1m\u001b[37m    | forward(x) | tensor([[13.],                          |\u001b[0m\n",
      "\u001b[1m\u001b[37m    |            |         [22.]], grad_fn=<AddBackward0>) |\u001b[0m\n",
      "\u001b[1m\u001b[37m    +------------+-----------------------------------------+\u001b[0m\n"
     ]
    }
   ],
   "source": [
    "x = torch.tensor([[4], [7]])\n",
    "\n",
    "tabulation = Form_Generator()\n",
    "tabulation.heading_printer(\"Function implementation with multi-D tensor\")\n",
    "\n",
    "statement_1 = \"x = torch.tensor([[4], [7]])\"\n",
    "statements = [statement_1]\n",
    "tabulation.statement_generator(statements)\n",
    "\n",
    "variables = [\"x\"]\n",
    "values = [str(x)]\n",
    "tabulation.variable_generator(variables, values)\n",
    "\n",
    "expressions = [\"forward(x)\"]\n",
    "results = [str(forward(x))]\n",
    "tabulation.expression_generator(expressions, results)"
   ]
  },
  {
   "cell_type": "markdown",
   "id": "010e1216",
   "metadata": {},
   "source": [
    "## Linear Class"
   ]
  },
  {
   "cell_type": "code",
   "execution_count": 11,
   "id": "06a3a62c",
   "metadata": {
    "ExecuteTime": {
     "end_time": "2022-11-04T14:31:34.590678Z",
     "start_time": "2022-11-04T14:31:34.585786Z"
    }
   },
   "outputs": [
    {
     "name": "stdout",
     "output_type": "stream",
     "text": [
      "\u001b[4m\u001b[33mInitialization of standard linear model\u001b[0m\n",
      "\n",
      "\u001b[1m\u001b[33m    +--------------------------------------------------+\u001b[0m\n",
      "\u001b[1m\u001b[33m    | Statement                                        |\u001b[0m\n",
      "\u001b[1m\u001b[33m    +--------------------------------------------------+\u001b[0m\n",
      "\u001b[1m\u001b[33m    | torch.manual_seed(1)                             |\u001b[0m\n",
      "\u001b[1m\u001b[33m    | model = nn.Linear(in_features=1, out_features=1) |\u001b[0m\n",
      "\u001b[1m\u001b[33m    +--------------------------------------------------+\u001b[0m\n",
      "\u001b[1m\u001b[33m    +----------+--------------------------------------------------+\u001b[0m\n",
      "\u001b[1m\u001b[33m    | Variable | Value                                            |\u001b[0m\n",
      "\u001b[1m\u001b[33m    +----------+--------------------------------------------------+\u001b[0m\n",
      "\u001b[1m\u001b[33m    | model    | Linear(in_features=1, out_features=1, bias=True) |\u001b[0m\n",
      "\u001b[1m\u001b[33m    +----------+--------------------------------------------------+\u001b[0m\n",
      "\u001b[1m\u001b[33m    +--------------+----------------------------------------+\u001b[0m\n",
      "\u001b[1m\u001b[33m    | Expression   | Result                                 |\u001b[0m\n",
      "\u001b[1m\u001b[33m    +--------------+----------------------------------------+\u001b[0m\n",
      "\u001b[1m\u001b[33m    | model.weight | Parameter containing:                  |\u001b[0m\n",
      "\u001b[1m\u001b[33m    |              | tensor([[0.5153]], requires_grad=True) |\u001b[0m\n",
      "\u001b[1m\u001b[33m    | model.bias   | Parameter containing:                  |\u001b[0m\n",
      "\u001b[1m\u001b[33m    |              | tensor([-0.4414], requires_grad=True)  |\u001b[0m\n",
      "\u001b[1m\u001b[33m    +--------------+----------------------------------------+\u001b[0m\n"
     ]
    }
   ],
   "source": [
    "torch.manual_seed(1)\n",
    "model = nn.Linear(in_features=1, out_features=1)\n",
    "\n",
    "tabulation = Form_Generator()\n",
    "tabulation.heading_printer(\"Initialization of standard linear model\")\n",
    "\n",
    "statement_1 = \"torch.manual_seed(1)\"\n",
    "statement_2 = \"model = nn.Linear(in_features=1, out_features=1)\"\n",
    "statements = [statement_1] + [statement_2]\n",
    "tabulation.statement_generator(statements)\n",
    "\n",
    "variables = [\"model\"]\n",
    "values = [str(model)]\n",
    "tabulation.variable_generator(variables, values)\n",
    "\n",
    "expressions = [\"model.weight\", \"model.bias\"]\n",
    "results = [str(model.weight), str(model.bias)]\n",
    "tabulation.expression_generator(expressions, results)"
   ]
  },
  {
   "cell_type": "code",
   "execution_count": 12,
   "id": "664fbcd2",
   "metadata": {
    "ExecuteTime": {
     "end_time": "2022-11-04T14:31:34.594330Z",
     "start_time": "2022-11-04T14:31:34.591556Z"
    }
   },
   "outputs": [
    {
     "name": "stdout",
     "output_type": "stream",
     "text": [
      "\u001b[4m\u001b[36mModel implementation with 1D tensor\u001b[0m\n",
      "\n",
      "\u001b[1m\u001b[36m    +-------------------------+\u001b[0m\n",
      "\u001b[1m\u001b[36m    | Statement               |\u001b[0m\n",
      "\u001b[1m\u001b[36m    +-------------------------+\u001b[0m\n",
      "\u001b[1m\u001b[36m    | x = torch.tensor([2.0]) |\u001b[0m\n",
      "\u001b[1m\u001b[36m    +-------------------------+\u001b[0m\n",
      "\u001b[1m\u001b[36m    +----------+--------------+\u001b[0m\n",
      "\u001b[1m\u001b[36m    | Variable | Value        |\u001b[0m\n",
      "\u001b[1m\u001b[36m    +----------+--------------+\u001b[0m\n",
      "\u001b[1m\u001b[36m    | x        | tensor([2.]) |\u001b[0m\n",
      "\u001b[1m\u001b[36m    +----------+--------------+\u001b[0m\n",
      "\u001b[1m\u001b[36m    +------------+------------------------------------------+\u001b[0m\n",
      "\u001b[1m\u001b[36m    | Expression | Result                                   |\u001b[0m\n",
      "\u001b[1m\u001b[36m    +------------+------------------------------------------+\u001b[0m\n",
      "\u001b[1m\u001b[36m    | model(x)   | tensor([0.5891], grad_fn=<AddBackward0>) |\u001b[0m\n",
      "\u001b[1m\u001b[36m    +------------+------------------------------------------+\u001b[0m\n"
     ]
    }
   ],
   "source": [
    "x = torch.tensor([2.0])\n",
    "\n",
    "tabulation = Form_Generator()\n",
    "tabulation.heading_printer(\"Model implementation with 1D tensor\")\n",
    "\n",
    "statement_1 = \"x = torch.tensor([2.0])\"\n",
    "statements = [statement_1]\n",
    "tabulation.statement_generator(statements)\n",
    "\n",
    "variables = [\"x\"]\n",
    "values = [str(x)]\n",
    "tabulation.variable_generator(variables, values)\n",
    "\n",
    "expressions = [\"model(x)\"]\n",
    "results = [str(model(x))]\n",
    "tabulation.expression_generator(expressions, results)"
   ]
  },
  {
   "cell_type": "code",
   "execution_count": 13,
   "id": "ab5dcc5b",
   "metadata": {
    "ExecuteTime": {
     "end_time": "2022-11-04T14:31:34.598297Z",
     "start_time": "2022-11-04T14:31:34.595172Z"
    }
   },
   "outputs": [
    {
     "name": "stdout",
     "output_type": "stream",
     "text": [
      "\u001b[4m\u001b[32mFunction implementation with multi-D tensor\u001b[0m\n",
      "\n",
      "\u001b[1m\u001b[32m    +----------------------------------+\u001b[0m\n",
      "\u001b[1m\u001b[32m    | Statement                        |\u001b[0m\n",
      "\u001b[1m\u001b[32m    +----------------------------------+\u001b[0m\n",
      "\u001b[1m\u001b[32m    | x = torch.tensor([[2.0], [3.3]]) |\u001b[0m\n",
      "\u001b[1m\u001b[32m    +----------------------------------+\u001b[0m\n",
      "\u001b[1m\u001b[32m    +----------+--------------------+\u001b[0m\n",
      "\u001b[1m\u001b[32m    | Variable | Value              |\u001b[0m\n",
      "\u001b[1m\u001b[32m    +----------+--------------------+\u001b[0m\n",
      "\u001b[1m\u001b[32m    | x        | tensor([[2.0000],  |\u001b[0m\n",
      "\u001b[1m\u001b[32m    |          |         [3.3000]]) |\u001b[0m\n",
      "\u001b[1m\u001b[32m    +----------+--------------------+\u001b[0m\n",
      "\u001b[1m\u001b[32m    +------------+----------------------------------------------+\u001b[0m\n",
      "\u001b[1m\u001b[32m    | Expression | Result                                       |\u001b[0m\n",
      "\u001b[1m\u001b[32m    +------------+----------------------------------------------+\u001b[0m\n",
      "\u001b[1m\u001b[32m    | model(x)   | tensor([[0.5891],                            |\u001b[0m\n",
      "\u001b[1m\u001b[32m    |            |         [1.2590]], grad_fn=<AddmmBackward0>) |\u001b[0m\n",
      "\u001b[1m\u001b[32m    +------------+----------------------------------------------+\u001b[0m\n"
     ]
    }
   ],
   "source": [
    "x = torch.tensor([[2.0], [3.3]])\n",
    "\n",
    "tabulation = Form_Generator()\n",
    "tabulation.heading_printer(\"Function implementation with multi-D tensor\")\n",
    "\n",
    "statement_1 = \"x = torch.tensor([[2.0], [3.3]])\"\n",
    "statements = [statement_1]\n",
    "tabulation.statement_generator(statements)\n",
    "\n",
    "variables = [\"x\"]\n",
    "values = [str(x)]\n",
    "tabulation.variable_generator(variables, values)\n",
    "\n",
    "expressions = [\"model(x)\"]\n",
    "results = [str(model(x))]\n",
    "tabulation.expression_generator(expressions, results)"
   ]
  },
  {
   "cell_type": "markdown",
   "id": "985eeeb1",
   "metadata": {},
   "source": [
    "## Custom Modules"
   ]
  },
  {
   "cell_type": "code",
   "execution_count": 14,
   "id": "b4957565",
   "metadata": {
    "ExecuteTime": {
     "end_time": "2022-11-04T14:31:34.601045Z",
     "start_time": "2022-11-04T14:31:34.599284Z"
    }
   },
   "outputs": [],
   "source": [
    "class LR(nn.Module):\n",
    "\n",
    "    def __init__(self, input_size, output_size):\n",
    "        super().__init__()\n",
    "        self.linear = nn.Linear(input_size, output_size)\n",
    "\n",
    "    def forward(self, x):\n",
    "        pred = self.linear(x)\n",
    "        return pred"
   ]
  },
  {
   "cell_type": "code",
   "execution_count": 38,
   "id": "2faf07a5",
   "metadata": {
    "ExecuteTime": {
     "end_time": "2022-11-04T14:32:56.975160Z",
     "start_time": "2022-11-04T14:32:56.966357Z"
    }
   },
   "outputs": [
    {
     "name": "stdout",
     "output_type": "stream",
     "text": [
      "\u001b[1m\u001b[32m    +----------+--------------------------------------+\u001b[0m\n",
      "\u001b[1m\u001b[32m    | Variable | Value                                |\u001b[0m\n",
      "\u001b[1m\u001b[32m    +----------+--------------------------------------+\u001b[0m\n",
      "\u001b[1m\u001b[32m    | model(x) | 123456789900123456789012345          |\u001b[0m\n",
      "\u001b[1m\u001b[32m    |          |         67891                        |\u001b[0m\n",
      "\u001b[1m\u001b[32m    |          | 2345678901234jjjjjjjjj 5678903456789 |\u001b[0m\n",
      "\u001b[1m\u001b[32m    |          |                 4567894567895        |\u001b[0m\n",
      "\u001b[1m\u001b[32m    |          | 678945678945678345678                |\u001b[0m\n",
      "\u001b[1m\u001b[32m    +----------+--------------------------------------+\u001b[0m\n"
     ]
    }
   ],
   "source": [
    "results = [\n",
    "    \"123456789900123456789012345\\n\\t67891              2345678901234jjjjjjjjj 5678903456789\\n\\t\\t4567894567895 678945678945678345678\"\n",
    "]\n",
    "tabulation.variable_generator(expressions, results)"
   ]
  },
  {
   "cell_type": "code",
   "execution_count": 52,
   "id": "16e8726a",
   "metadata": {
    "ExecuteTime": {
     "end_time": "2022-11-04T14:35:15.607503Z",
     "start_time": "2022-11-04T14:35:15.594760Z"
    }
   },
   "outputs": [
    {
     "name": "stdout",
     "output_type": "stream",
     "text": [
      "\u001b[1m\u001b[32m    +------------------------------------------------------------+\u001b[0m\n",
      "\u001b[1m\u001b[32m    | Statement                                                  |\u001b[0m\n",
      "\u001b[1m\u001b[32m    +------------------------------------------------------------+\u001b[0m\n",
      "\u001b[1m\u001b[32m    | 12345678990012345678901234567891   dfezfdsqsd              |\u001b[0m\n",
      "\u001b[1m\u001b[32m    |         2345678901234jjjjjjjjj 5678903456789 4567894567895 |\u001b[0m\n",
      "\u001b[1m\u001b[32m    |         678945678945678345678                              |\u001b[0m\n",
      "\u001b[1m\u001b[32m    | dfhgjhkjblknl,l,lm                                         |\u001b[0m\n",
      "\u001b[1m\u001b[32m    | hcjhvjhbjknlknlm,lm,kbvghjvg                               |\u001b[0m\n",
      "\u001b[1m\u001b[32m    +------------------------------------------------------------+\u001b[0m\n"
     ]
    }
   ],
   "source": [
    "results = [\n",
    "    \"12345678990012345678901234567891   dfezfdsqsd           2345678901234jjjjjjjjj 5678903456789 4567894567895 678945678945678345678\",\n",
    "    \"dfhgjhkjblknl,l,lm\", \"hcjhvjhbjknlknlm,lm,kbvghjvg\"\n",
    "]\n",
    "tabulation.statement_generator(results)"
   ]
  },
  {
   "cell_type": "code",
   "execution_count": 47,
   "id": "23ae30b2",
   "metadata": {
    "ExecuteTime": {
     "end_time": "2022-11-04T14:34:20.498271Z",
     "start_time": "2022-11-04T14:34:20.482204Z"
    }
   },
   "outputs": [
    {
     "name": "stdout",
     "output_type": "stream",
     "text": [
      "[['123456789900123456789012345\\n\\t67891              2345678901234jjjjjjjjj 5678903456789\\n\\t\\t4567894567895 678945678945678345678']]\n",
      "\u001b[1m\u001b[31m    +----------------------------------------------+\u001b[0m\n",
      "\u001b[1m\u001b[31m    | Statement                                    |\u001b[0m\n",
      "\u001b[1m\u001b[31m    +----------------------------------------------+\u001b[0m\n",
      "\u001b[1m\u001b[31m    | 123456789900123456789012345                  |\u001b[0m\n",
      "\u001b[1m\u001b[31m    | \t67891                                                           |\u001b[0m\n",
      "\u001b[1m\u001b[31m    |         2345678901234jjjjjjjjj 5678903456789 |\u001b[0m\n",
      "\u001b[1m\u001b[31m    | \t\t4567894567895                                              |\u001b[0m\n",
      "\u001b[1m\u001b[31m    |         678945678945678345678                |\u001b[0m\n",
      "\u001b[1m\u001b[31m    +----------------------------------------------+\u001b[0m\n"
     ]
    }
   ],
   "source": [
    "import re\n",
    "from tabulate import tabulate\n",
    "from termcolor import cprint\n",
    "\n",
    "\n",
    "\n",
    "def string_trimmer(string):\n",
    "    printable_lines = []\n",
    "    printable_line = string\n",
    "    if len(string) > 59:\n",
    "        printable_line = string\n",
    "        while len(printable_line) > 59:\n",
    "            while printable_line.rfind(\" \") > 59:\n",
    "                printable_line = printable_line[: printable_line.rfind(\" \")]\n",
    "            printable_line = printable_line[: printable_line.rfind(\" \")]\n",
    "            printable_lines.append(printable_line)\n",
    "            string = string[len(printable_line) + 1 :]\n",
    "            printable_line = string\n",
    "    printable_lines.append(printable_line)\n",
    "    return printable_lines\n",
    "\n",
    "print(string_trimmer(results))\n",
    "\n",
    "\n",
    "\n",
    "def statement_generator(statements):\n",
    "    table = [[\"Statement\"]]\n",
    "    for statement in statements:\n",
    "        printable_statement = string_trimmer(statement)\n",
    "        table.append([\"\\n\\t\".expandtabs(8).join(printable_statement)])\n",
    "        \n",
    "    '''\n",
    "    for statement in statements:\n",
    "        if len(statement) > self.adjusted_width:\n",
    "            printable_statement = \"\"\n",
    "            printable_line = statement\n",
    "            while len(statement) > self.adjusted_width:\n",
    "                while printable_line.rfind(\" \") > self.adjusted_width:\n",
    "                    printable_line = printable_line[: printable_line.rfind(\" \")]\n",
    "                printable_line = printable_line[: printable_line.rfind(\" \")]\n",
    "                printable_statement += printable_line + \"\\n\\t\".expandtabs(8)\n",
    "                statement = statement[len(printable_line) + 1 :]\n",
    "                printable_line = statement\n",
    "            printable_statement += printable_line\n",
    "            table.append([printable_statement])\n",
    "        else:\n",
    "            table.append([statement])\n",
    "    '''\n",
    "    table_list = tabulate(\n",
    "        table, headers=\"firstrow\", tablefmt=\"pretty\", colalign=(\"left\",)\n",
    "    ).split(\"\\n\")\n",
    "    for line in table_list:\n",
    "        cprint(\"\\t\".expandtabs(4) + line, 'red', attrs=[\"bold\"])\n",
    "        \n",
    "statement_generator(results)"
   ]
  },
  {
   "cell_type": "code",
   "execution_count": null,
   "id": "a7551e0d",
   "metadata": {
    "ExecuteTime": {
     "end_time": "2022-11-04T14:35:05.700286Z",
     "start_time": "2022-11-04T14:35:05.690093Z"
    }
   },
   "outputs": [],
   "source": []
  },
  {
   "cell_type": "code",
   "execution_count": null,
   "id": "c3915561",
   "metadata": {},
   "outputs": [],
   "source": []
  },
  {
   "cell_type": "code",
   "execution_count": 19,
   "id": "a0ac0921",
   "metadata": {
    "ExecuteTime": {
     "end_time": "2022-11-04T14:31:34.619431Z",
     "start_time": "2022-11-04T14:31:34.616687Z"
    }
   },
   "outputs": [
    {
     "name": "stdout",
     "output_type": "stream",
     "text": [
      "[Parameter containing:\n",
      "tensor([[0.5153]], requires_grad=True), Parameter containing:\n",
      "tensor([-0.4414], requires_grad=True)]\n"
     ]
    }
   ],
   "source": [
    "torch.manual_seed(1)\n",
    "model = LR(1, 1)\n",
    "print(list(model.parameters()))"
   ]
  },
  {
   "cell_type": "code",
   "execution_count": 20,
   "id": "7a70c45f",
   "metadata": {
    "ExecuteTime": {
     "end_time": "2022-11-04T14:31:34.622117Z",
     "start_time": "2022-11-04T14:31:34.620398Z"
    }
   },
   "outputs": [
    {
     "name": "stdout",
     "output_type": "stream",
     "text": [
      "<generator object Module.parameters at 0x13ec6f660>\n"
     ]
    }
   ],
   "source": [
    "print(model.parameters())"
   ]
  },
  {
   "cell_type": "code",
   "execution_count": 21,
   "id": "e6d2df4e",
   "metadata": {
    "ExecuteTime": {
     "end_time": "2022-11-04T14:31:34.625153Z",
     "start_time": "2022-11-04T14:31:34.623212Z"
    }
   },
   "outputs": [
    {
     "name": "stdout",
     "output_type": "stream",
     "text": [
      "tensor([0.0739], grad_fn=<AddBackward0>)\n"
     ]
    }
   ],
   "source": [
    "x = torch.tensor([1.0])\n",
    "print(model.forward(x))"
   ]
  },
  {
   "cell_type": "code",
   "execution_count": 22,
   "id": "f822cfc3",
   "metadata": {
    "ExecuteTime": {
     "end_time": "2022-11-04T14:31:34.628218Z",
     "start_time": "2022-11-04T14:31:34.626064Z"
    }
   },
   "outputs": [
    {
     "name": "stdout",
     "output_type": "stream",
     "text": [
      "tensor([[0.0739],\n",
      "        [0.5891]], grad_fn=<AddmmBackward0>)\n"
     ]
    }
   ],
   "source": [
    "x = torch.tensor([[1.0], [2.0]])\n",
    "print(model.forward(x))"
   ]
  },
  {
   "cell_type": "markdown",
   "id": "3bf733a9",
   "metadata": {
    "ExecuteTime": {
     "end_time": "2022-07-21T01:19:38.272762Z",
     "start_time": "2022-07-21T01:19:38.266612Z"
    }
   },
   "source": [
    "# Creating Dataset"
   ]
  },
  {
   "cell_type": "code",
   "execution_count": 23,
   "id": "68815fd3",
   "metadata": {
    "ExecuteTime": {
     "end_time": "2022-11-04T14:31:34.631940Z",
     "start_time": "2022-11-04T14:31:34.629151Z"
    }
   },
   "outputs": [
    {
     "name": "stdout",
     "output_type": "stream",
     "text": [
      "tensor([[-0.6540],\n",
      "        [-0.2223],\n",
      "        [-0.6629],\n",
      "        [-0.7984],\n",
      "        [-0.1578],\n",
      "        [ 0.7626],\n",
      "        [-3.3312],\n",
      "        [ 0.9837],\n",
      "        [-0.6540],\n",
      "        [ 1.2466]])\n"
     ]
    }
   ],
   "source": [
    "X = torch.randn(100, 1)\n",
    "print(X[::10])"
   ]
  },
  {
   "cell_type": "code",
   "execution_count": 24,
   "id": "8b9fc095",
   "metadata": {
    "ExecuteTime": {
     "end_time": "2022-11-04T14:31:34.704198Z",
     "start_time": "2022-11-04T14:31:34.633185Z"
    }
   },
   "outputs": [
    {
     "data": {
      "text/plain": [
       "[<matplotlib.lines.Line2D at 0x13ece9820>]"
      ]
     },
     "execution_count": 24,
     "metadata": {},
     "output_type": "execute_result"
    },
    {
     "data": {
      "image/png": "[encoded data removed]",
      "text/plain": [
       "<Figure size 640x480 with 1 Axes>"
      ]
     },
     "metadata": {},
     "output_type": "display_data"
    }
   ],
   "source": [
    "X = torch.randn(100, 1) * 10\n",
    "y = X\n",
    "colors = calm_color_generator(1)\n",
    "plt.plot(X.numpy(), y.numpy(), 'o', c=colors[0])"
   ]
  },
  {
   "cell_type": "code",
   "execution_count": 25,
   "id": "baf07829",
   "metadata": {
    "ExecuteTime": {
     "end_time": "2022-11-04T14:31:34.769795Z",
     "start_time": "2022-11-04T14:31:34.705203Z"
    },
    "scrolled": false
   },
   "outputs": [
    {
     "data": {
      "text/plain": [
       "Text(0.5, 0, 'X')"
      ]
     },
     "execution_count": 25,
     "metadata": {},
     "output_type": "execute_result"
    },
    {
     "data": {
      "image/png": "[encoded data removed]",
      "text/plain": [
       "<Figure size 640x480 with 1 Axes>"
      ]
     },
     "metadata": {},
     "output_type": "display_data"
    }
   ],
   "source": [
    "y = X + 3 * torch.randn(100, 1)\n",
    "colors = calm_color_generator(1)\n",
    "plt.plot(X.numpy(), y.numpy(), 'o', c=colors[0])\n",
    "plt.ylabel('y')\n",
    "plt.xlabel('X')"
   ]
  },
  {
   "cell_type": "code",
   "execution_count": 26,
   "id": "418e8267",
   "metadata": {
    "ExecuteTime": {
     "end_time": "2022-11-04T14:31:34.772867Z",
     "start_time": "2022-11-04T14:31:34.770812Z"
    }
   },
   "outputs": [
    {
     "name": "stdout",
     "output_type": "stream",
     "text": [
      "LR(\n",
      "  (linear): Linear(in_features=1, out_features=1, bias=True)\n",
      ")\n"
     ]
    }
   ],
   "source": [
    "print(model)"
   ]
  },
  {
   "cell_type": "code",
   "execution_count": 27,
   "id": "7bcec66b",
   "metadata": {
    "ExecuteTime": {
     "end_time": "2022-11-04T14:31:34.776106Z",
     "start_time": "2022-11-04T14:31:34.773578Z"
    }
   },
   "outputs": [
    {
     "name": "stdout",
     "output_type": "stream",
     "text": [
      "[Parameter containing:\n",
      "tensor([[0.5153]], requires_grad=True), Parameter containing:\n",
      "tensor([-0.4414], requires_grad=True)]\n"
     ]
    }
   ],
   "source": [
    "[w, b] = model.parameters()\n",
    "print([w, b])"
   ]
  },
  {
   "cell_type": "code",
   "execution_count": 28,
   "id": "1c171492",
   "metadata": {
    "ExecuteTime": {
     "end_time": "2022-11-04T14:31:34.783837Z",
     "start_time": "2022-11-04T14:31:34.781243Z"
    }
   },
   "outputs": [
    {
     "name": "stdout",
     "output_type": "stream",
     "text": [
      "tensor(0.5153, grad_fn=<SelectBackward0>) tensor(-0.4414, grad_fn=<SelectBackward0>)\n"
     ]
    }
   ],
   "source": [
    "w1 = w[0][0]\n",
    "b1 = b[0]\n",
    "print(w1, b1)"
   ]
  },
  {
   "cell_type": "code",
   "execution_count": 29,
   "id": "ed02849e",
   "metadata": {
    "ExecuteTime": {
     "end_time": "2022-11-04T14:31:34.786891Z",
     "start_time": "2022-11-04T14:31:34.784935Z"
    }
   },
   "outputs": [
    {
     "name": "stdout",
     "output_type": "stream",
     "text": [
      "0.5152631998062134 -0.44137823581695557\n"
     ]
    }
   ],
   "source": [
    "w1 = w[0][0].item()\n",
    "b1 = b[0].item()\n",
    "print(w1, b1)"
   ]
  },
  {
   "cell_type": "code",
   "execution_count": 30,
   "id": "1db89a2c",
   "metadata": {
    "ExecuteTime": {
     "end_time": "2022-11-04T14:31:34.789290Z",
     "start_time": "2022-11-04T14:31:34.787808Z"
    }
   },
   "outputs": [],
   "source": [
    "def get_params():\n",
    "    return (w[0][0].item(), b[0].item())"
   ]
  },
  {
   "cell_type": "code",
   "execution_count": 31,
   "id": "2ac7bb19",
   "metadata": {
    "ExecuteTime": {
     "end_time": "2022-11-04T14:31:34.792067Z",
     "start_time": "2022-11-04T14:31:34.790019Z"
    }
   },
   "outputs": [],
   "source": [
    "def plot_fit(title):\n",
    "    plt.title = title\n",
    "    w1, b1 = get_params()\n",
    "    x1 = np.array([-30, 30])\n",
    "    y1 = w1 * x1 + b1\n",
    "    plt.plot(x1, y1, 'r')\n",
    "    colors = calm_color_generator(1)\n",
    "    plt.scatter(X, y, color=colors[0])\n",
    "    plt.show()"
   ]
  },
  {
   "cell_type": "code",
   "execution_count": 32,
   "id": "48d45bfd",
   "metadata": {
    "ExecuteTime": {
     "end_time": "2022-11-04T14:31:34.850140Z",
     "start_time": "2022-11-04T14:31:34.792903Z"
    }
   },
   "outputs": [
    {
     "data": {
      "image/png": "[encoded data removed]",
      "text/plain": [
       "<Figure size 640x480 with 1 Axes>"
      ]
     },
     "metadata": {},
     "output_type": "display_data"
    }
   ],
   "source": [
    "plot_fit(\"Initial Model\")"
   ]
  },
  {
   "cell_type": "markdown",
   "id": "dace8ef2",
   "metadata": {
    "ExecuteTime": {
     "end_time": "2022-07-21T02:44:23.523234Z",
     "start_time": "2022-07-21T02:44:23.514722Z"
    }
   },
   "source": [
    "# Training - Code Implementation"
   ]
  },
  {
   "cell_type": "code",
   "execution_count": 33,
   "id": "44b28709",
   "metadata": {
    "ExecuteTime": {
     "end_time": "2022-11-04T14:31:34.853257Z",
     "start_time": "2022-11-04T14:31:34.851211Z"
    }
   },
   "outputs": [],
   "source": [
    "criterion = nn.MSELoss()\n",
    "optimizer = torch.optim.SGD(model.parameters(), lr=0.0002)"
   ]
  },
  {
   "cell_type": "code",
   "execution_count": 34,
   "id": "bffc2d3d",
   "metadata": {
    "ExecuteTime": {
     "end_time": "2022-11-04T14:31:34.856191Z",
     "start_time": "2022-11-04T14:31:34.854397Z"
    }
   },
   "outputs": [
    {
     "name": "stdout",
     "output_type": "stream",
     "text": [
      "MSELoss()\n"
     ]
    }
   ],
   "source": [
    "print(criterion)"
   ]
  },
  {
   "cell_type": "code",
   "execution_count": 35,
   "id": "9b55a6b1",
   "metadata": {
    "ExecuteTime": {
     "end_time": "2022-11-04T14:31:34.858944Z",
     "start_time": "2022-11-04T14:31:34.857180Z"
    }
   },
   "outputs": [
    {
     "name": "stdout",
     "output_type": "stream",
     "text": [
      "SGD (\n",
      "Parameter Group 0\n",
      "    dampening: 0\n",
      "    differentiable: False\n",
      "    foreach: None\n",
      "    lr: 0.0002\n",
      "    maximize: False\n",
      "    momentum: 0\n",
      "    nesterov: False\n",
      "    weight_decay: 0\n",
      ")\n"
     ]
    }
   ],
   "source": [
    "print(optimizer)"
   ]
  },
  {
   "cell_type": "code",
   "execution_count": 36,
   "id": "9567255f",
   "metadata": {
    "ExecuteTime": {
     "end_time": "2022-11-04T14:31:34.982327Z",
     "start_time": "2022-11-04T14:31:34.860525Z"
    }
   },
   "outputs": [
    {
     "ename": "NameError",
     "evalue": "name 'random' is not defined",
     "output_type": "error",
     "traceback": [
      "\u001b[0;31m---------------------------------------------------------------------------\u001b[0m",
      "\u001b[0;31mNameError\u001b[0m                                 Traceback (most recent call last)",
      "Cell \u001b[0;32mIn [36], line 6\u001b[0m\n\u001b[1;32m      2\u001b[0m losses \u001b[38;5;241m=\u001b[39m []\n\u001b[1;32m      3\u001b[0m termcolors \u001b[38;5;241m=\u001b[39m [\n\u001b[1;32m      4\u001b[0m     \u001b[38;5;124m'\u001b[39m\u001b[38;5;124mgrey\u001b[39m\u001b[38;5;124m'\u001b[39m, \u001b[38;5;124m'\u001b[39m\u001b[38;5;124mred\u001b[39m\u001b[38;5;124m'\u001b[39m, \u001b[38;5;124m'\u001b[39m\u001b[38;5;124mgreen\u001b[39m\u001b[38;5;124m'\u001b[39m, \u001b[38;5;124m'\u001b[39m\u001b[38;5;124myellow\u001b[39m\u001b[38;5;124m'\u001b[39m, \u001b[38;5;124m'\u001b[39m\u001b[38;5;124mblue\u001b[39m\u001b[38;5;124m'\u001b[39m, \u001b[38;5;124m'\u001b[39m\u001b[38;5;124mmagenta\u001b[39m\u001b[38;5;124m'\u001b[39m, \u001b[38;5;124m'\u001b[39m\u001b[38;5;124mcyan\u001b[39m\u001b[38;5;124m'\u001b[39m, \u001b[38;5;124m'\u001b[39m\u001b[38;5;124mwhite\u001b[39m\u001b[38;5;124m'\u001b[39m\n\u001b[1;32m      5\u001b[0m ]\n\u001b[0;32m----> 6\u001b[0m font_colors \u001b[38;5;241m=\u001b[39m \u001b[43mrandom\u001b[49m\u001b[38;5;241m.\u001b[39mchoices(termcolors, k\u001b[38;5;241m=\u001b[39m\u001b[38;5;241m2\u001b[39m)\n\u001b[1;32m      7\u001b[0m \u001b[38;5;28;01mfor\u001b[39;00m i \u001b[38;5;129;01min\u001b[39;00m \u001b[38;5;28mrange\u001b[39m(epochs):\n\u001b[1;32m      8\u001b[0m     i \u001b[38;5;241m+\u001b[39m\u001b[38;5;241m=\u001b[39m \u001b[38;5;241m1\u001b[39m\n",
      "\u001b[0;31mNameError\u001b[0m: name 'random' is not defined"
     ]
    }
   ],
   "source": [
    "epochs = 100\n",
    "losses = []\n",
    "termcolors = [\n",
    "    'grey', 'red', 'green', 'yellow', 'blue', 'magenta', 'cyan', 'white'\n",
    "]\n",
    "font_colors = random.choices(termcolors, k=2)\n",
    "for i in range(epochs):\n",
    "    i += 1\n",
    "    y_pred = model.forward(X)\n",
    "    loss = criterion(y_pred, y)\n",
    "    if i == 1 or i % 10 == 0:\n",
    "        print(colored(\"epoch:\", font_colors[0], attrs=['bold']), i,\n",
    "              colored(\"loss:\", font_colors[1]), loss.item())\n",
    "        print(colored(\"weight:\", font_colors[1]),\n",
    "              list(model.parameters())[0][0][0].item(),\n",
    "              colored(\"bias:\", font_colors[1]),\n",
    "              list(model.parameters())[1][0].item())\n",
    "    losses.append(loss.item())\n",
    "    optimizer.zero_grad()\n",
    "    loss.backward()\n",
    "    optimizer.step()"
   ]
  },
  {
   "cell_type": "code",
   "execution_count": null,
   "id": "b5e61720",
   "metadata": {
    "ExecuteTime": {
     "end_time": "2022-11-04T14:31:34.996461Z",
     "start_time": "2022-11-04T14:31:34.996453Z"
    }
   },
   "outputs": [],
   "source": [
    "colors = calm_color_generator(1)\n",
    "plt.plot(range(epochs), losses, c=colors[0])\n",
    "plt.ylabel('Loss')\n",
    "plt.xlabel('Epoch')"
   ]
  },
  {
   "cell_type": "code",
   "execution_count": null,
   "id": "0870e46b",
   "metadata": {
    "ExecuteTime": {
     "end_time": "2022-11-04T14:31:34.996999Z",
     "start_time": "2022-11-04T14:31:34.996993Z"
    }
   },
   "outputs": [],
   "source": [
    "plot_fit(\"Trained Model\")"
   ]
  }
 ],
 "metadata": {
  "hide_input": false,
  "kernelspec": {
   "display_name": "Python 3 (ipykernel)",
   "language": "python",
   "name": "python3"
  },
  "language_info": {
   "codemirror_mode": {
    "name": "ipython",
    "version": 3
   },
   "file_extension": ".py",
   "mimetype": "text/x-python",
   "name": "python",
   "nbconvert_exporter": "python",
   "pygments_lexer": "ipython3",
   "version": "3.9.13"
  },
  "latex_envs": {
   "LaTeX_envs_menu_present": true,
   "autoclose": false,
   "autocomplete": true,
   "bibliofile": "biblio.bib",
   "cite_by": "apalike",
   "current_citInitial": 1,
   "eqLabelWithNumbers": true,
   "eqNumInitial": 1,
   "hotkeys": {
    "equation": "Ctrl-E",
    "itemize": "Ctrl-I"
   },
   "labels_anchors": false,
   "latex_user_defs": false,
   "report_style_numbering": false,
   "user_envs_cfg": false
  },
  "nbTranslate": {
   "displayLangs": [
    "*"
   ],
   "hotkey": "alt-t",
   "langInMainMenu": true,
   "sourceLang": "en",
   "targetLang": "fr",
   "useGoogleTranslate": true
  },
  "toc": {
   "base_numbering": 1,
   "nav_menu": {},
   "number_sections": true,
   "sideBar": true,
   "skip_h1_title": false,
   "title_cell": "Table of Contents",
   "title_sidebar": "Contents",
   "toc_cell": false,
   "toc_position": {
    "height": "calc(100% - 180px)",
    "left": "10px",
    "top": "150px",
    "width": "345.594px"
   },
   "toc_section_display": true,
   "toc_window_display": true
  },
  "varInspector": {
   "cols": {
    "lenName": 16,
    "lenType": 16,
    "lenVar": 40
   },
   "kernels_config": {
    "python": {
     "delete_cmd_postfix": "",
     "delete_cmd_prefix": "del ",
     "library": "var_list.py",
     "varRefreshCmd": "print(var_dic_list())"
    },
    "r": {
     "delete_cmd_postfix": ") ",
     "delete_cmd_prefix": "rm(",
     "library": "var_list.r",
     "varRefreshCmd": "cat(var_dic_list()) "
    }
   },
   "types_to_exclude": [
    "module",
    "function",
    "builtin_function_or_method",
    "instance",
    "_Feature"
   ],
   "window_display": false
  },
  "vscode": {
   "interpreter": {
    "hash": "4df6db6ee61ecce594abe4a5126666f3650dd9429b0086e59af8e3f897fc7111"
   }
  }
 },
 "nbformat": 4,
 "nbformat_minor": 5
}

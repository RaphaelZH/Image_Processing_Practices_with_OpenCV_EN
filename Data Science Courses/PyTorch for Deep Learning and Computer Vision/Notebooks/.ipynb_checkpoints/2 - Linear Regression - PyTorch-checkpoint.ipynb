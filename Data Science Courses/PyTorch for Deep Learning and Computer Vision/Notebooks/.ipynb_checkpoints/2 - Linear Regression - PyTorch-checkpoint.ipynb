{
 "cells": [
  {
   "cell_type": "markdown",
   "id": "5fdb7bb7",
   "metadata": {},
   "source": [
    "# Importing Libraries"
   ]
  },
  {
   "cell_type": "code",
   "execution_count": 1,
   "id": "07cd4ffb",
   "metadata": {
    "ExecuteTime": {
     "end_time": "2022-11-07T23:38:09.127047Z",
     "start_time": "2022-11-07T23:38:08.281293Z"
    }
   },
   "outputs": [],
   "source": [
    "import torch\n",
    "from torch import nn\n",
    "\n",
    "import numpy as np\n",
    "\n",
    "import matplotlib as mpl\n",
    "import matplotlib.pyplot as plt\n",
    "\n",
    "import sys"
   ]
  },
  {
   "cell_type": "markdown",
   "id": "5094fde5",
   "metadata": {},
   "source": [
    "# Configuring Visualization Parameters"
   ]
  },
  {
   "cell_type": "code",
   "execution_count": 2,
   "id": "d6dd7c45",
   "metadata": {
    "ExecuteTime": {
     "end_time": "2022-11-07T23:38:09.136054Z",
     "start_time": "2022-11-07T23:38:09.128338Z"
    }
   },
   "outputs": [],
   "source": [
    "%matplotlib inline"
   ]
  },
  {
   "cell_type": "code",
   "execution_count": 3,
   "id": "5d4894ab",
   "metadata": {
    "ExecuteTime": {
     "end_time": "2022-11-07T23:38:09.138726Z",
     "start_time": "2022-11-07T23:38:09.136866Z"
    }
   },
   "outputs": [],
   "source": [
    "XINHUI = \"#7a7374\"\n",
    "XUEBAI = \"#fffef9\"\n",
    "YINBAI = \"#f1f0ed\"\n",
    "YINHUI = \"#918072\"\n",
    "\n",
    "figure_size = (16, 9)"
   ]
  },
  {
   "cell_type": "code",
   "execution_count": 4,
   "id": "6f7198a8",
   "metadata": {
    "ExecuteTime": {
     "end_time": "2022-11-07T23:38:09.142932Z",
     "start_time": "2022-11-07T23:38:09.140528Z"
    }
   },
   "outputs": [],
   "source": [
    "custom_params = {\n",
    "    \"axes.axisbelow\": True,\n",
    "    \"axes.edgecolor\": YINBAI,\n",
    "    \"axes.facecolor\": XUEBAI,\n",
    "    \"axes.grid\": True,\n",
    "    \"axes.labelcolor\": XINHUI,\n",
    "    \"axes.spines.right\": False,\n",
    "    \"axes.spines.top\": False,\n",
    "    \"axes.titlecolor\": XINHUI,\n",
    "    \"figure.edgecolor\": YINBAI,\n",
    "    \"figure.facecolor\": XUEBAI,\n",
    "    \"grid.alpha\": .8,\n",
    "    \"grid.color\": YINBAI,\n",
    "    \"grid.linestyle\": \"--\",\n",
    "    \"grid.linewidth\": 1.2,\n",
    "    \"legend.edgecolor\": YINHUI,\n",
    "    \"patch.edgecolor\": XUEBAI,\n",
    "    \"patch.force_edgecolor\": True,\n",
    "    \"text.color\": XINHUI,\n",
    "    \"xtick.color\": YINHUI,\n",
    "    \"ytick.color\": YINHUI,\n",
    "}\n",
    "\n",
    "mpl.rcParams.update(custom_params)"
   ]
  },
  {
   "cell_type": "markdown",
   "id": "77cdea15",
   "metadata": {},
   "source": [
    "# Pre-installing Custom Functions"
   ]
  },
  {
   "cell_type": "code",
   "execution_count": 5,
   "id": "1f6ac6d5",
   "metadata": {
    "ExecuteTime": {
     "end_time": "2022-11-07T23:38:09.145513Z",
     "start_time": "2022-11-07T23:38:09.144059Z"
    }
   },
   "outputs": [],
   "source": [
    "sys.path.append(\"../\")"
   ]
  },
  {
   "cell_type": "code",
   "execution_count": 6,
   "id": "ab3f4e6c",
   "metadata": {
    "ExecuteTime": {
     "end_time": "2022-11-07T23:38:09.152239Z",
     "start_time": "2022-11-07T23:38:09.146479Z"
    }
   },
   "outputs": [],
   "source": [
    "from Modules import *"
   ]
  },
  {
   "cell_type": "markdown",
   "id": "00dd6868",
   "metadata": {},
   "source": [
    "# Practicing in Stages\n",
    "\n",
    "## Making Predictions"
   ]
  },
  {
   "cell_type": "code",
   "execution_count": 7,
   "id": "002025a7",
   "metadata": {
    "ExecuteTime": {
     "end_time": "2022-11-07T23:38:09.155772Z",
     "start_time": "2022-11-07T23:38:09.153065Z"
    },
    "code_folding": [],
    "hide_input": false,
    "scrolled": false
   },
   "outputs": [
    {
     "name": "stdout",
     "output_type": "stream",
     "text": [
      "\u001b[4m\u001b[35mDefinition of the function of prediction\u001b[0m\n",
      "\n",
      "\u001b[1m\u001b[35m    +-------------------+\u001b[0m\n",
      "\u001b[1m\u001b[35m    | Definition        |\u001b[0m\n",
      "\u001b[1m\u001b[35m    +===================+\u001b[0m\n",
      "\u001b[1m\u001b[35m    | def forward(x):   |\u001b[0m\n",
      "\u001b[1m\u001b[35m    |     y = w * x + b |\u001b[0m\n",
      "\u001b[1m\u001b[35m    |     return y      |\u001b[0m\n",
      "\u001b[1m\u001b[35m    +-------------------+\u001b[0m\n"
     ]
    }
   ],
   "source": [
    "def forward(x):\n",
    "    y = w * x + b\n",
    "    return y\n",
    "\n",
    "\n",
    "tabulation = Form_Generator()\n",
    "tabulation.heading_printer(\"Definition of the function of prediction\")\n",
    "\n",
    "definition_1 = \"\"\"\n",
    "def forward(x):\n",
    "    y = w * x + b\n",
    "    return y\n",
    "\"\"\"\n",
    "definitions = [definition_1]\n",
    "tabulation.definition_generator(definitions)"
   ]
  },
  {
   "cell_type": "code",
   "execution_count": 8,
   "id": "6b34b014",
   "metadata": {
    "ExecuteTime": {
     "end_time": "2022-11-07T23:38:09.159812Z",
     "start_time": "2022-11-07T23:38:09.156623Z"
    },
    "hide_input": false
   },
   "outputs": [
    {
     "name": "stdout",
     "output_type": "stream",
     "text": [
      "\u001b[4m\u001b[30mInitial assignment of parameters\u001b[0m\n",
      "\n",
      "\u001b[1m\u001b[30m    +-------------------------------------------+\u001b[0m\n",
      "\u001b[1m\u001b[30m    | Statement                                 |\u001b[0m\n",
      "\u001b[1m\u001b[30m    +===========================================+\u001b[0m\n",
      "\u001b[1m\u001b[30m    | w = torch.tensor(3.0, requires_grad=True) |\u001b[0m\n",
      "\u001b[1m\u001b[30m    +-------------------------------------------+\u001b[0m\n",
      "\u001b[1m\u001b[30m    | b = torch.tensor(1.0, requires_grad=True) |\u001b[0m\n",
      "\u001b[1m\u001b[30m    +-------------------------------------------+\u001b[0m\n",
      "\u001b[1m\u001b[30m    +----------+--------------------------------+\u001b[0m\n",
      "\u001b[1m\u001b[30m    | Variable | Value                          |\u001b[0m\n",
      "\u001b[1m\u001b[30m    +----------+--------------------------------+\u001b[0m\n",
      "\u001b[1m\u001b[30m    | w        | tensor(3., requires_grad=True) |\u001b[0m\n",
      "\u001b[1m\u001b[30m    | b        | tensor(1., requires_grad=True) |\u001b[0m\n",
      "\u001b[1m\u001b[30m    +----------+--------------------------------+\u001b[0m\n"
     ]
    }
   ],
   "source": [
    "w = torch.tensor(3.0, requires_grad=True)\n",
    "b = torch.tensor(1.0, requires_grad=True)\n",
    "\n",
    "tabulation = Form_Generator()\n",
    "tabulation.heading_printer(\"Initial assignment of parameters\")\n",
    "\n",
    "statement_1 = \"w = torch.tensor(3.0, requires_grad=True)\"\n",
    "statement_2 = \"b = torch.tensor(1.0, requires_grad=True)\"\n",
    "statements = [statement_1] + [statement_2]\n",
    "tabulation.statement_generator(statements)\n",
    "\n",
    "variables = [\"w\", \"b\"]\n",
    "values = [str(w), str(b)]\n",
    "tabulation.variable_generator(variables, values)"
   ]
  },
  {
   "cell_type": "code",
   "execution_count": 9,
   "id": "a3e6732f",
   "metadata": {
    "ExecuteTime": {
     "end_time": "2022-11-07T23:38:09.163691Z",
     "start_time": "2022-11-07T23:38:09.160615Z"
    },
    "hide_input": false
   },
   "outputs": [
    {
     "name": "stdout",
     "output_type": "stream",
     "text": [
      "\u001b[4m\u001b[33mFunction implementation with 0D tensor\u001b[0m\n",
      "\n",
      "\u001b[1m\u001b[33m    +---------------------+\u001b[0m\n",
      "\u001b[1m\u001b[33m    | Statement           |\u001b[0m\n",
      "\u001b[1m\u001b[33m    +=====================+\u001b[0m\n",
      "\u001b[1m\u001b[33m    | x = torch.tensor(2) |\u001b[0m\n",
      "\u001b[1m\u001b[33m    +---------------------+\u001b[0m\n",
      "\u001b[1m\u001b[33m    +----------+-----------+\u001b[0m\n",
      "\u001b[1m\u001b[33m    | Variable | Value     |\u001b[0m\n",
      "\u001b[1m\u001b[33m    +----------+-----------+\u001b[0m\n",
      "\u001b[1m\u001b[33m    | x        | tensor(2) |\u001b[0m\n",
      "\u001b[1m\u001b[33m    +----------+-----------+\u001b[0m\n",
      "\u001b[1m\u001b[33m    +------------+------------------------------------+\u001b[0m\n",
      "\u001b[1m\u001b[33m    | Expression | Result                             |\u001b[0m\n",
      "\u001b[1m\u001b[33m    +------------+------------------------------------+\u001b[0m\n",
      "\u001b[1m\u001b[33m    | forward(x) | tensor(7., grad_fn=<AddBackward0>) |\u001b[0m\n",
      "\u001b[1m\u001b[33m    +------------+------------------------------------+\u001b[0m\n"
     ]
    }
   ],
   "source": [
    "x = torch.tensor(2)\n",
    "\n",
    "tabulation = Form_Generator()\n",
    "tabulation.heading_printer(\"Function implementation with 0D tensor\")\n",
    "\n",
    "statement_1 = \"x = torch.tensor(2)\"\n",
    "statements = [statement_1]\n",
    "tabulation.statement_generator(statements)\n",
    "\n",
    "variables = [\"x\"]\n",
    "values = [str(x)]\n",
    "tabulation.variable_generator(variables, values)\n",
    "\n",
    "expressions = [\"forward(x)\"]\n",
    "results = [str(forward(x))]\n",
    "tabulation.expression_generator(expressions, results)"
   ]
  },
  {
   "cell_type": "code",
   "execution_count": 10,
   "id": "5e292920",
   "metadata": {
    "ExecuteTime": {
     "end_time": "2022-11-07T23:38:09.169012Z",
     "start_time": "2022-11-07T23:38:09.165851Z"
    },
    "hide_input": false
   },
   "outputs": [
    {
     "name": "stdout",
     "output_type": "stream",
     "text": [
      "\u001b[4m\u001b[32mFunction implementation with multi-D tensor\u001b[0m\n",
      "\n",
      "\u001b[1m\u001b[32m    +------------------------------+\u001b[0m\n",
      "\u001b[1m\u001b[32m    | Statement                    |\u001b[0m\n",
      "\u001b[1m\u001b[32m    +==============================+\u001b[0m\n",
      "\u001b[1m\u001b[32m    | x = torch.tensor([[4], [7]]) |\u001b[0m\n",
      "\u001b[1m\u001b[32m    +------------------------------+\u001b[0m\n",
      "\u001b[1m\u001b[32m    +----------+---------------+\u001b[0m\n",
      "\u001b[1m\u001b[32m    | Variable | Value         |\u001b[0m\n",
      "\u001b[1m\u001b[32m    +----------+---------------+\u001b[0m\n",
      "\u001b[1m\u001b[32m    | x        | tensor([[4],  |\u001b[0m\n",
      "\u001b[1m\u001b[32m    |          |         [7]]) |\u001b[0m\n",
      "\u001b[1m\u001b[32m    +----------+---------------+\u001b[0m\n",
      "\u001b[1m\u001b[32m    +------------+-----------------------------------------+\u001b[0m\n",
      "\u001b[1m\u001b[32m    | Expression | Result                                  |\u001b[0m\n",
      "\u001b[1m\u001b[32m    +------------+-----------------------------------------+\u001b[0m\n",
      "\u001b[1m\u001b[32m    | forward(x) | tensor([[13.],                          |\u001b[0m\n",
      "\u001b[1m\u001b[32m    |            |         [22.]], grad_fn=<AddBackward0>) |\u001b[0m\n",
      "\u001b[1m\u001b[32m    +------------+-----------------------------------------+\u001b[0m\n"
     ]
    }
   ],
   "source": [
    "x = torch.tensor([[4], [7]])\n",
    "\n",
    "tabulation = Form_Generator()\n",
    "tabulation.heading_printer(\"Function implementation with multi-D tensor\")\n",
    "\n",
    "statement_1 = \"x = torch.tensor([[4], [7]])\"\n",
    "statements = [statement_1]\n",
    "tabulation.statement_generator(statements)\n",
    "\n",
    "variables = [\"x\"]\n",
    "values = [str(x)]\n",
    "tabulation.variable_generator(variables, values)\n",
    "\n",
    "expressions = [\"forward(x)\"]\n",
    "results = [str(forward(x))]\n",
    "tabulation.expression_generator(expressions, results)"
   ]
  },
  {
   "cell_type": "markdown",
   "id": "010e1216",
   "metadata": {},
   "source": [
    "## Linear Class"
   ]
  },
  {
   "cell_type": "code",
   "execution_count": 11,
   "id": "06a3a62c",
   "metadata": {
    "ExecuteTime": {
     "end_time": "2022-11-07T23:38:09.173802Z",
     "start_time": "2022-11-07T23:38:09.169909Z"
    }
   },
   "outputs": [
    {
     "name": "stdout",
     "output_type": "stream",
     "text": [
      "\u001b[4m\u001b[31mInitialization of standard linear model\u001b[0m\n",
      "\n",
      "\u001b[1m\u001b[31m    +--------------------------------------------------+\u001b[0m\n",
      "\u001b[1m\u001b[31m    | Statement                                        |\u001b[0m\n",
      "\u001b[1m\u001b[31m    +==================================================+\u001b[0m\n",
      "\u001b[1m\u001b[31m    | torch.manual_seed(1)                             |\u001b[0m\n",
      "\u001b[1m\u001b[31m    +--------------------------------------------------+\u001b[0m\n",
      "\u001b[1m\u001b[31m    | model = nn.Linear(in_features=1, out_features=1) |\u001b[0m\n",
      "\u001b[1m\u001b[31m    +--------------------------------------------------+\u001b[0m\n",
      "\u001b[1m\u001b[31m    +----------+--------------------------------------------------+\u001b[0m\n",
      "\u001b[1m\u001b[31m    | Variable | Value                                            |\u001b[0m\n",
      "\u001b[1m\u001b[31m    +----------+--------------------------------------------------+\u001b[0m\n",
      "\u001b[1m\u001b[31m    | model    | Linear(in_features=1, out_features=1, bias=True) |\u001b[0m\n",
      "\u001b[1m\u001b[31m    +----------+--------------------------------------------------+\u001b[0m\n",
      "\u001b[1m\u001b[31m    +--------------+----------------------------------------+\u001b[0m\n",
      "\u001b[1m\u001b[31m    | Expression   | Result                                 |\u001b[0m\n",
      "\u001b[1m\u001b[31m    +--------------+----------------------------------------+\u001b[0m\n",
      "\u001b[1m\u001b[31m    | model.weight | Parameter containing:                  |\u001b[0m\n",
      "\u001b[1m\u001b[31m    |              | tensor([[0.5153]], requires_grad=True) |\u001b[0m\n",
      "\u001b[1m\u001b[31m    | model.bias   | Parameter containing:                  |\u001b[0m\n",
      "\u001b[1m\u001b[31m    |              | tensor([-0.4414], requires_grad=True)  |\u001b[0m\n",
      "\u001b[1m\u001b[31m    +--------------+----------------------------------------+\u001b[0m\n"
     ]
    }
   ],
   "source": [
    "torch.manual_seed(1)\n",
    "model = nn.Linear(in_features=1, out_features=1)\n",
    "\n",
    "tabulation = Form_Generator()\n",
    "tabulation.heading_printer(\"Initialization of standard linear model\")\n",
    "\n",
    "statement_1 = \"torch.manual_seed(1)\"\n",
    "statement_2 = \"model = nn.Linear(in_features=1, out_features=1)\"\n",
    "statements = [statement_1] + [statement_2]\n",
    "tabulation.statement_generator(statements)\n",
    "\n",
    "variables = [\"model\"]\n",
    "values = [str(model)]\n",
    "tabulation.variable_generator(variables, values)\n",
    "\n",
    "expressions = [\"model.weight\", \"model.bias\"]\n",
    "results = [str(model.weight), str(model.bias)]\n",
    "tabulation.expression_generator(expressions, results)"
   ]
  },
  {
   "cell_type": "code",
   "execution_count": 12,
   "id": "664fbcd2",
   "metadata": {
    "ExecuteTime": {
     "end_time": "2022-11-07T23:38:09.177551Z",
     "start_time": "2022-11-07T23:38:09.174556Z"
    }
   },
   "outputs": [
    {
     "name": "stdout",
     "output_type": "stream",
     "text": [
      "\u001b[4m\u001b[36mModel implementation with 1D tensor\u001b[0m\n",
      "\n",
      "\u001b[1m\u001b[36m    +-------------------------+\u001b[0m\n",
      "\u001b[1m\u001b[36m    | Statement               |\u001b[0m\n",
      "\u001b[1m\u001b[36m    +=========================+\u001b[0m\n",
      "\u001b[1m\u001b[36m    | x = torch.tensor([2.0]) |\u001b[0m\n",
      "\u001b[1m\u001b[36m    +-------------------------+\u001b[0m\n",
      "\u001b[1m\u001b[36m    +----------+--------------+\u001b[0m\n",
      "\u001b[1m\u001b[36m    | Variable | Value        |\u001b[0m\n",
      "\u001b[1m\u001b[36m    +----------+--------------+\u001b[0m\n",
      "\u001b[1m\u001b[36m    | x        | tensor([2.]) |\u001b[0m\n",
      "\u001b[1m\u001b[36m    +----------+--------------+\u001b[0m\n",
      "\u001b[1m\u001b[36m    +------------+------------------------------------------+\u001b[0m\n",
      "\u001b[1m\u001b[36m    | Expression | Result                                   |\u001b[0m\n",
      "\u001b[1m\u001b[36m    +------------+------------------------------------------+\u001b[0m\n",
      "\u001b[1m\u001b[36m    | model(x)   | tensor([0.5891], grad_fn=<AddBackward0>) |\u001b[0m\n",
      "\u001b[1m\u001b[36m    +------------+------------------------------------------+\u001b[0m\n"
     ]
    }
   ],
   "source": [
    "x = torch.tensor([2.0])\n",
    "\n",
    "tabulation = Form_Generator()\n",
    "tabulation.heading_printer(\"Model implementation with 1D tensor\")\n",
    "\n",
    "statement_1 = \"x = torch.tensor([2.0])\"\n",
    "statements = [statement_1]\n",
    "tabulation.statement_generator(statements)\n",
    "\n",
    "variables = [\"x\"]\n",
    "values = [str(x)]\n",
    "tabulation.variable_generator(variables, values)\n",
    "\n",
    "expressions = [\"model(x)\"]\n",
    "results = [str(model(x))]\n",
    "tabulation.expression_generator(expressions, results)"
   ]
  },
  {
   "cell_type": "code",
   "execution_count": 13,
   "id": "ab5dcc5b",
   "metadata": {
    "ExecuteTime": {
     "end_time": "2022-11-07T23:38:09.181514Z",
     "start_time": "2022-11-07T23:38:09.178158Z"
    }
   },
   "outputs": [
    {
     "name": "stdout",
     "output_type": "stream",
     "text": [
      "\u001b[4m\u001b[34mFunction implementation with multi-D tensor\u001b[0m\n",
      "\n",
      "\u001b[1m\u001b[34m    +----------------------------------+\u001b[0m\n",
      "\u001b[1m\u001b[34m    | Statement                        |\u001b[0m\n",
      "\u001b[1m\u001b[34m    +==================================+\u001b[0m\n",
      "\u001b[1m\u001b[34m    | x = torch.tensor([[2.0], [3.3]]) |\u001b[0m\n",
      "\u001b[1m\u001b[34m    +----------------------------------+\u001b[0m\n",
      "\u001b[1m\u001b[34m    +----------+--------------------+\u001b[0m\n",
      "\u001b[1m\u001b[34m    | Variable | Value              |\u001b[0m\n",
      "\u001b[1m\u001b[34m    +----------+--------------------+\u001b[0m\n",
      "\u001b[1m\u001b[34m    | x        | tensor([[2.0000],  |\u001b[0m\n",
      "\u001b[1m\u001b[34m    |          |         [3.3000]]) |\u001b[0m\n",
      "\u001b[1m\u001b[34m    +----------+--------------------+\u001b[0m\n",
      "\u001b[1m\u001b[34m    +------------+----------------------------------------------+\u001b[0m\n",
      "\u001b[1m\u001b[34m    | Expression | Result                                       |\u001b[0m\n",
      "\u001b[1m\u001b[34m    +------------+----------------------------------------------+\u001b[0m\n",
      "\u001b[1m\u001b[34m    | model(x)   | tensor([[0.5891],                            |\u001b[0m\n",
      "\u001b[1m\u001b[34m    |            |         [1.2590]], grad_fn=<AddmmBackward0>) |\u001b[0m\n",
      "\u001b[1m\u001b[34m    +------------+----------------------------------------------+\u001b[0m\n"
     ]
    }
   ],
   "source": [
    "x = torch.tensor([[2.0], [3.3]])\n",
    "\n",
    "tabulation = Form_Generator()\n",
    "tabulation.heading_printer(\"Function implementation with multi-D tensor\")\n",
    "\n",
    "statement_1 = \"x = torch.tensor([[2.0], [3.3]])\"\n",
    "statements = [statement_1]\n",
    "tabulation.statement_generator(statements)\n",
    "\n",
    "variables = [\"x\"]\n",
    "values = [str(x)]\n",
    "tabulation.variable_generator(variables, values)\n",
    "\n",
    "expressions = [\"model(x)\"]\n",
    "results = [str(model(x))]\n",
    "tabulation.expression_generator(expressions, results)"
   ]
  },
  {
   "cell_type": "markdown",
   "id": "985eeeb1",
   "metadata": {},
   "source": [
    "## Custom Modules"
   ]
  },
  {
   "cell_type": "code",
   "execution_count": 14,
   "id": "b4957565",
   "metadata": {
    "ExecuteTime": {
     "end_time": "2022-11-07T23:38:09.185831Z",
     "start_time": "2022-11-07T23:38:09.182283Z"
    }
   },
   "outputs": [
    {
     "name": "stdout",
     "output_type": "stream",
     "text": [
      "\u001b[4m\u001b[37mInitialization of an inherited linear class\u001b[0m\n",
      "\n",
      "\u001b[1m\u001b[37m    +----------------------------------------------------------+\u001b[0m\n",
      "\u001b[1m\u001b[37m    | Definition                                               |\u001b[0m\n",
      "\u001b[1m\u001b[37m    +==========================================================+\u001b[0m\n",
      "\u001b[1m\u001b[37m    | class LR(nn.Module):                                     |\u001b[0m\n",
      "\u001b[1m\u001b[37m    |                                                          |\u001b[0m\n",
      "\u001b[1m\u001b[37m    |     def __init__(self, input_size, output_size):         |\u001b[0m\n",
      "\u001b[1m\u001b[37m    |         super().__init__()                               |\u001b[0m\n",
      "\u001b[1m\u001b[37m    |         self.linear = nn.Linear(input_size, output_size) |\u001b[0m\n",
      "\u001b[1m\u001b[37m    |                                                          |\u001b[0m\n",
      "\u001b[1m\u001b[37m    |     def forward(self, x):                                |\u001b[0m\n",
      "\u001b[1m\u001b[37m    |         pred = self.linear(x)                            |\u001b[0m\n",
      "\u001b[1m\u001b[37m    |         return pred                                      |\u001b[0m\n",
      "\u001b[1m\u001b[37m    +----------------------------------------------------------+\u001b[0m\n",
      "\u001b[1m\u001b[37m    +----------------------+\u001b[0m\n",
      "\u001b[1m\u001b[37m    | Statement            |\u001b[0m\n",
      "\u001b[1m\u001b[37m    +======================+\u001b[0m\n",
      "\u001b[1m\u001b[37m    | torch.manual_seed(1) |\u001b[0m\n",
      "\u001b[1m\u001b[37m    +----------------------+\u001b[0m\n",
      "\u001b[1m\u001b[37m    | model = LR(1, 1)     |\u001b[0m\n",
      "\u001b[1m\u001b[37m    +----------------------+\u001b[0m\n",
      "\u001b[1m\u001b[37m    +--------------------------+-------------------------------+\u001b[0m\n",
      "\u001b[1m\u001b[37m    | Expression               | Result                        |\u001b[0m\n",
      "\u001b[1m\u001b[37m    +--------------------------+-------------------------------+\u001b[0m\n",
      "\u001b[1m\u001b[37m    | list(model.parameters()) | [Parameter containing:        |\u001b[0m\n",
      "\u001b[1m\u001b[37m    |                          | tensor([[0.5153]],            |\u001b[0m\n",
      "\u001b[1m\u001b[37m    |                          |         requires_grad=True),  |\u001b[0m\n",
      "\u001b[1m\u001b[37m    |                          |         Parameter containing: |\u001b[0m\n",
      "\u001b[1m\u001b[37m    |                          | tensor([-0.4414],             |\u001b[0m\n",
      "\u001b[1m\u001b[37m    |                          |         requires_grad=True)]  |\u001b[0m\n",
      "\u001b[1m\u001b[37m    +--------------------------+-------------------------------+\u001b[0m\n"
     ]
    }
   ],
   "source": [
    "class LR(nn.Module):\n",
    "\n",
    "    def __init__(self, input_size, output_size):\n",
    "        super().__init__()\n",
    "        self.linear = nn.Linear(input_size, output_size)\n",
    "\n",
    "    def forward(self, x):\n",
    "        pred = self.linear(x)\n",
    "        return pred\n",
    "    \n",
    "tabulation = Form_Generator()\n",
    "tabulation.heading_printer(\"Initialization of an inherited linear class\")\n",
    "\n",
    "definition_1 = \"\"\"\n",
    "class LR(nn.Module):\n",
    "\n",
    "    def __init__(self, input_size, output_size):\n",
    "        super().__init__()\n",
    "        self.linear = nn.Linear(input_size, output_size)\n",
    "\n",
    "    def forward(self, x):\n",
    "        pred = self.linear(x)\n",
    "        return pred\n",
    "\"\"\"\n",
    "\n",
    "definitions = [definition_1]\n",
    "tabulation.definition_generator(definitions)\n",
    "\n",
    "\n",
    "statement_1 = \"torch.manual_seed(1)\"\n",
    "statement_2 = \"model = LR(1, 1)\"\n",
    "statements = [statement_1] + [statement_2]\n",
    "tabulation.statement_generator(statements)\n",
    "\n",
    "expressions = [\"list(model.parameters())\"]\n",
    "results = [str(list(model.parameters()))]\n",
    "tabulation.expression_generator(expressions, results)"
   ]
  },
  {
   "cell_type": "code",
   "execution_count": 15,
   "id": "ccbf12ed",
   "metadata": {
    "ExecuteTime": {
     "end_time": "2022-11-07T23:38:09.188165Z",
     "start_time": "2022-11-07T23:38:09.186688Z"
    }
   },
   "outputs": [
    {
     "name": "stdout",
     "output_type": "stream",
     "text": [
      "+----------------------------------------------------------+\n",
      "+----------------------------------------------------------+=\n",
      "+----------------------------------------------------------+==\n",
      "+----------------------------------------------------------+===\n"
     ]
    }
   ],
   "source": [
    "print('+----------------------------------------------------------+')\n",
    "print('+----------------------------------------------------------+=')\n",
    "print('+----------------------------------------------------------+==')\n",
    "print('+----------------------------------------------------------+===')"
   ]
  },
  {
   "cell_type": "code",
   "execution_count": 16,
   "id": "940fac79",
   "metadata": {
    "ExecuteTime": {
     "end_time": "2022-11-07T23:38:09.191311Z",
     "start_time": "2022-11-07T23:38:09.188956Z"
    }
   },
   "outputs": [
    {
     "data": {
      "text/plain": [
       "60"
      ]
     },
     "execution_count": 16,
     "metadata": {},
     "output_type": "execute_result"
    }
   ],
   "source": [
    "len('+----------------------------------------------------------+')"
   ]
  },
  {
   "cell_type": "code",
   "execution_count": 17,
   "id": "0bbfe2f8",
   "metadata": {
    "ExecuteTime": {
     "end_time": "2022-11-07T23:38:09.194042Z",
     "start_time": "2022-11-07T23:38:09.192098Z"
    }
   },
   "outputs": [
    {
     "data": {
      "text/plain": [
       "24"
      ]
     },
     "execution_count": 17,
     "metadata": {},
     "output_type": "execute_result"
    }
   ],
   "source": [
    "len('list(model.parameters())')"
   ]
  },
  {
   "cell_type": "code",
   "execution_count": 18,
   "id": "2faf07a5",
   "metadata": {
    "ExecuteTime": {
     "end_time": "2022-11-07T23:38:09.197368Z",
     "start_time": "2022-11-07T23:38:09.195182Z"
    }
   },
   "outputs": [
    {
     "data": {
      "text/plain": [
       "58"
      ]
     },
     "execution_count": 18,
     "metadata": {},
     "output_type": "execute_result"
    }
   ],
   "source": [
    "len('+----------+---------------------------------------------+')"
   ]
  },
  {
   "cell_type": "code",
   "execution_count": null,
   "id": "16e8726a",
   "metadata": {
    "ExecuteTime": {
     "end_time": "2022-11-07T21:58:48.383719Z",
     "start_time": "2022-11-07T21:58:48.381875Z"
    }
   },
   "outputs": [],
   "source": []
  },
  {
   "cell_type": "code",
   "execution_count": null,
   "id": "08d42483",
   "metadata": {
    "ExecuteTime": {
     "end_time": "2022-11-07T21:58:48.389100Z",
     "start_time": "2022-11-07T21:58:48.384531Z"
    }
   },
   "outputs": [],
   "source": []
  },
  {
   "cell_type": "code",
   "execution_count": null,
   "id": "a7551e0d",
   "metadata": {
    "ExecuteTime": {
     "end_time": "2022-11-04T14:35:05.700286Z",
     "start_time": "2022-11-04T14:35:05.690093Z"
    }
   },
   "outputs": [],
   "source": []
  },
  {
   "cell_type": "code",
   "execution_count": null,
   "id": "f81793b8",
   "metadata": {},
   "outputs": [],
   "source": []
  },
  {
   "cell_type": "code",
   "execution_count": 19,
   "id": "a0ac0921",
   "metadata": {
    "ExecuteTime": {
     "end_time": "2022-11-07T23:38:09.201684Z",
     "start_time": "2022-11-07T23:38:09.198662Z"
    }
   },
   "outputs": [
    {
     "name": "stdout",
     "output_type": "stream",
     "text": [
      "[Parameter containing:\n",
      "tensor([[0.5153]], requires_grad=True), Parameter containing:\n",
      "tensor([-0.4414], requires_grad=True)]\n"
     ]
    },
    {
     "data": {
      "text/plain": [
       "<generator object Module.parameters at 0x12fb2beb0>"
      ]
     },
     "execution_count": 19,
     "metadata": {},
     "output_type": "execute_result"
    }
   ],
   "source": [
    "torch.manual_seed(1)\n",
    "model = LR(1, 1)\n",
    "print(list(model.parameters()))\n",
    "model.parameters()"
   ]
  },
  {
   "cell_type": "code",
   "execution_count": 20,
   "id": "7a70c45f",
   "metadata": {
    "ExecuteTime": {
     "end_time": "2022-11-07T23:38:09.204118Z",
     "start_time": "2022-11-07T23:38:09.202587Z"
    }
   },
   "outputs": [
    {
     "name": "stdout",
     "output_type": "stream",
     "text": [
      "<generator object Module.parameters at 0x12fb2bcf0>\n"
     ]
    }
   ],
   "source": [
    "print(model.parameters())"
   ]
  },
  {
   "cell_type": "code",
   "execution_count": 21,
   "id": "e6d2df4e",
   "metadata": {
    "ExecuteTime": {
     "end_time": "2022-11-07T23:38:09.207589Z",
     "start_time": "2022-11-07T23:38:09.205028Z"
    }
   },
   "outputs": [
    {
     "name": "stdout",
     "output_type": "stream",
     "text": [
      "tensor([0.0739], grad_fn=<AddBackward0>)\n"
     ]
    }
   ],
   "source": [
    "x = torch.tensor([1.0])\n",
    "print(model.forward(x))"
   ]
  },
  {
   "cell_type": "code",
   "execution_count": 22,
   "id": "f822cfc3",
   "metadata": {
    "ExecuteTime": {
     "end_time": "2022-11-07T23:38:09.210668Z",
     "start_time": "2022-11-07T23:38:09.208433Z"
    }
   },
   "outputs": [
    {
     "name": "stdout",
     "output_type": "stream",
     "text": [
      "tensor([[0.0739],\n",
      "        [0.5891]], grad_fn=<AddmmBackward0>)\n"
     ]
    }
   ],
   "source": [
    "x = torch.tensor([[1.0], [2.0]])\n",
    "print(model.forward(x))"
   ]
  },
  {
   "cell_type": "markdown",
   "id": "3bf733a9",
   "metadata": {
    "ExecuteTime": {
     "end_time": "2022-07-21T01:19:38.272762Z",
     "start_time": "2022-07-21T01:19:38.266612Z"
    }
   },
   "source": [
    "# Creating Dataset"
   ]
  },
  {
   "cell_type": "code",
   "execution_count": 23,
   "id": "68815fd3",
   "metadata": {
    "ExecuteTime": {
     "end_time": "2022-11-07T23:38:09.213824Z",
     "start_time": "2022-11-07T23:38:09.211632Z"
    }
   },
   "outputs": [
    {
     "name": "stdout",
     "output_type": "stream",
     "text": [
      "tensor([[-0.6540],\n",
      "        [-0.2223],\n",
      "        [-0.6629],\n",
      "        [-0.7984],\n",
      "        [-0.1578],\n",
      "        [ 0.7626],\n",
      "        [-3.3312],\n",
      "        [ 0.9837],\n",
      "        [-0.6540],\n",
      "        [ 1.2466]])\n"
     ]
    }
   ],
   "source": [
    "X = torch.randn(100, 1)\n",
    "print(X[::10])"
   ]
  },
  {
   "cell_type": "code",
   "execution_count": 24,
   "id": "8b9fc095",
   "metadata": {
    "ExecuteTime": {
     "end_time": "2022-11-07T23:38:09.281010Z",
     "start_time": "2022-11-07T23:38:09.214865Z"
    }
   },
   "outputs": [
    {
     "data": {
      "text/plain": [
       "[<matplotlib.lines.Line2D at 0x12fbaac40>]"
      ]
     },
     "execution_count": 24,
     "metadata": {},
     "output_type": "execute_result"
    },
    {
     "data": {
      "image/png": "[encoded data removed]",
      "text/plain": [
       "<Figure size 640x480 with 1 Axes>"
      ]
     },
     "metadata": {},
     "output_type": "display_data"
    }
   ],
   "source": [
    "X = torch.randn(100, 1) * 10\n",
    "y = X\n",
    "colors = calm_color_generator(1)\n",
    "plt.plot(X.numpy(), y.numpy(), \"o\", c=colors[0])"
   ]
  },
  {
   "cell_type": "code",
   "execution_count": 25,
   "id": "baf07829",
   "metadata": {
    "ExecuteTime": {
     "end_time": "2022-11-07T23:38:09.350464Z",
     "start_time": "2022-11-07T23:38:09.282191Z"
    },
    "scrolled": false
   },
   "outputs": [
    {
     "data": {
      "text/plain": [
       "Text(0.5, 0, 'X')"
      ]
     },
     "execution_count": 25,
     "metadata": {},
     "output_type": "execute_result"
    },
    {
     "data": {
      "image/png": "[encoded data removed]",
      "text/plain": [
       "<Figure size 640x480 with 1 Axes>"
      ]
     },
     "metadata": {},
     "output_type": "display_data"
    }
   ],
   "source": [
    "y = X + 3 * torch.randn(100, 1)\n",
    "colors = calm_color_generator(1)\n",
    "plt.plot(X.numpy(), y.numpy(), \"o\", c=colors[0])\n",
    "plt.ylabel(\"y\")\n",
    "plt.xlabel(\"X\")"
   ]
  },
  {
   "cell_type": "code",
   "execution_count": 26,
   "id": "418e8267",
   "metadata": {
    "ExecuteTime": {
     "end_time": "2022-11-07T23:38:09.353301Z",
     "start_time": "2022-11-07T23:38:09.351465Z"
    }
   },
   "outputs": [
    {
     "name": "stdout",
     "output_type": "stream",
     "text": [
      "LR(\n",
      "  (linear): Linear(in_features=1, out_features=1, bias=True)\n",
      ")\n"
     ]
    }
   ],
   "source": [
    "print(model)"
   ]
  },
  {
   "cell_type": "code",
   "execution_count": 27,
   "id": "7bcec66b",
   "metadata": {
    "ExecuteTime": {
     "end_time": "2022-11-07T23:38:09.356595Z",
     "start_time": "2022-11-07T23:38:09.354155Z"
    }
   },
   "outputs": [
    {
     "name": "stdout",
     "output_type": "stream",
     "text": [
      "[Parameter containing:\n",
      "tensor([[0.5153]], requires_grad=True), Parameter containing:\n",
      "tensor([-0.4414], requires_grad=True)]\n"
     ]
    }
   ],
   "source": [
    "[w, b] = model.parameters()\n",
    "print([w, b])"
   ]
  },
  {
   "cell_type": "code",
   "execution_count": 28,
   "id": "1c171492",
   "metadata": {
    "ExecuteTime": {
     "end_time": "2022-11-07T23:38:09.364442Z",
     "start_time": "2022-11-07T23:38:09.361773Z"
    }
   },
   "outputs": [
    {
     "name": "stdout",
     "output_type": "stream",
     "text": [
      "tensor(0.5153, grad_fn=<SelectBackward0>) tensor(-0.4414, grad_fn=<SelectBackward0>)\n"
     ]
    }
   ],
   "source": [
    "w1 = w[0][0]\n",
    "b1 = b[0]\n",
    "print(w1, b1)"
   ]
  },
  {
   "cell_type": "code",
   "execution_count": 29,
   "id": "ed02849e",
   "metadata": {
    "ExecuteTime": {
     "end_time": "2022-11-07T23:38:09.367550Z",
     "start_time": "2022-11-07T23:38:09.365441Z"
    }
   },
   "outputs": [
    {
     "name": "stdout",
     "output_type": "stream",
     "text": [
      "0.5152631998062134 -0.44137823581695557\n"
     ]
    }
   ],
   "source": [
    "w1 = w[0][0].item()\n",
    "b1 = b[0].item()\n",
    "print(w1, b1)"
   ]
  },
  {
   "cell_type": "code",
   "execution_count": 30,
   "id": "1db89a2c",
   "metadata": {
    "ExecuteTime": {
     "end_time": "2022-11-07T23:38:09.370323Z",
     "start_time": "2022-11-07T23:38:09.368624Z"
    }
   },
   "outputs": [],
   "source": [
    "def get_params():\n",
    "    return (w[0][0].item(), b[0].item())"
   ]
  },
  {
   "cell_type": "code",
   "execution_count": 31,
   "id": "2ac7bb19",
   "metadata": {
    "ExecuteTime": {
     "end_time": "2022-11-07T23:38:09.373098Z",
     "start_time": "2022-11-07T23:38:09.371278Z"
    }
   },
   "outputs": [],
   "source": [
    "def plot_fit(title):\n",
    "    plt.title = title\n",
    "    w1, b1 = get_params()\n",
    "    x1 = np.array([-30, 30])\n",
    "    y1 = w1 * x1 + b1\n",
    "    plt.plot(x1, y1, \"r\")\n",
    "    colors = calm_color_generator(1)\n",
    "    plt.scatter(X, y, color=colors[0])\n",
    "    plt.show()"
   ]
  },
  {
   "cell_type": "code",
   "execution_count": 32,
   "id": "48d45bfd",
   "metadata": {
    "ExecuteTime": {
     "end_time": "2022-11-07T23:38:09.433982Z",
     "start_time": "2022-11-07T23:38:09.374096Z"
    }
   },
   "outputs": [
    {
     "data": {
      "image/png": "[encoded data removed]",
      "text/plain": [
       "<Figure size 640x480 with 1 Axes>"
      ]
     },
     "metadata": {},
     "output_type": "display_data"
    }
   ],
   "source": [
    "plot_fit(\"Initial Model\")"
   ]
  },
  {
   "cell_type": "markdown",
   "id": "dace8ef2",
   "metadata": {
    "ExecuteTime": {
     "end_time": "2022-07-21T02:44:23.523234Z",
     "start_time": "2022-07-21T02:44:23.514722Z"
    }
   },
   "source": [
    "# Training - Code Implementation"
   ]
  },
  {
   "cell_type": "code",
   "execution_count": 33,
   "id": "44b28709",
   "metadata": {
    "ExecuteTime": {
     "end_time": "2022-11-07T23:38:09.436873Z",
     "start_time": "2022-11-07T23:38:09.435000Z"
    }
   },
   "outputs": [],
   "source": [
    "criterion = nn.MSELoss()\n",
    "optimizer = torch.optim.SGD(model.parameters(), lr=0.0002)"
   ]
  },
  {
   "cell_type": "code",
   "execution_count": 34,
   "id": "bffc2d3d",
   "metadata": {
    "ExecuteTime": {
     "end_time": "2022-11-07T23:38:09.439623Z",
     "start_time": "2022-11-07T23:38:09.437829Z"
    }
   },
   "outputs": [
    {
     "name": "stdout",
     "output_type": "stream",
     "text": [
      "MSELoss()\n"
     ]
    }
   ],
   "source": [
    "print(criterion)"
   ]
  },
  {
   "cell_type": "code",
   "execution_count": 35,
   "id": "9b55a6b1",
   "metadata": {
    "ExecuteTime": {
     "end_time": "2022-11-07T23:38:09.442061Z",
     "start_time": "2022-11-07T23:38:09.440506Z"
    }
   },
   "outputs": [
    {
     "name": "stdout",
     "output_type": "stream",
     "text": [
      "SGD (\n",
      "Parameter Group 0\n",
      "    dampening: 0\n",
      "    differentiable: False\n",
      "    foreach: None\n",
      "    lr: 0.0002\n",
      "    maximize: False\n",
      "    momentum: 0\n",
      "    nesterov: False\n",
      "    weight_decay: 0\n",
      ")\n"
     ]
    }
   ],
   "source": [
    "print(optimizer)"
   ]
  },
  {
   "cell_type": "code",
   "execution_count": 36,
   "id": "9567255f",
   "metadata": {
    "ExecuteTime": {
     "end_time": "2022-11-07T23:38:09.569058Z",
     "start_time": "2022-11-07T23:38:09.442925Z"
    }
   },
   "outputs": [
    {
     "ename": "NameError",
     "evalue": "name 'random' is not defined",
     "output_type": "error",
     "traceback": [
      "\u001b[0;31m---------------------------------------------------------------------------\u001b[0m",
      "\u001b[0;31mNameError\u001b[0m                                 Traceback (most recent call last)",
      "Cell \u001b[0;32mIn [36], line 6\u001b[0m\n\u001b[1;32m      2\u001b[0m losses \u001b[38;5;241m=\u001b[39m []\n\u001b[1;32m      3\u001b[0m termcolors \u001b[38;5;241m=\u001b[39m [\n\u001b[1;32m      4\u001b[0m     \u001b[38;5;124m\"\u001b[39m\u001b[38;5;124mgrey\u001b[39m\u001b[38;5;124m\"\u001b[39m, \u001b[38;5;124m\"\u001b[39m\u001b[38;5;124mred\u001b[39m\u001b[38;5;124m\"\u001b[39m, \u001b[38;5;124m\"\u001b[39m\u001b[38;5;124mgreen\u001b[39m\u001b[38;5;124m\"\u001b[39m, \u001b[38;5;124m\"\u001b[39m\u001b[38;5;124myellow\u001b[39m\u001b[38;5;124m\"\u001b[39m, \u001b[38;5;124m\"\u001b[39m\u001b[38;5;124mblue\u001b[39m\u001b[38;5;124m\"\u001b[39m, \u001b[38;5;124m\"\u001b[39m\u001b[38;5;124mmagenta\u001b[39m\u001b[38;5;124m\"\u001b[39m, \u001b[38;5;124m\"\u001b[39m\u001b[38;5;124mcyan\u001b[39m\u001b[38;5;124m\"\u001b[39m, \u001b[38;5;124m\"\u001b[39m\u001b[38;5;124mwhite\u001b[39m\u001b[38;5;124m\"\u001b[39m\n\u001b[1;32m      5\u001b[0m ]\n\u001b[0;32m----> 6\u001b[0m font_colors \u001b[38;5;241m=\u001b[39m \u001b[43mrandom\u001b[49m\u001b[38;5;241m.\u001b[39mchoices(termcolors, k\u001b[38;5;241m=\u001b[39m\u001b[38;5;241m2\u001b[39m)\n\u001b[1;32m      7\u001b[0m \u001b[38;5;28;01mfor\u001b[39;00m i \u001b[38;5;129;01min\u001b[39;00m \u001b[38;5;28mrange\u001b[39m(epochs):\n\u001b[1;32m      8\u001b[0m     i \u001b[38;5;241m+\u001b[39m\u001b[38;5;241m=\u001b[39m \u001b[38;5;241m1\u001b[39m\n",
      "\u001b[0;31mNameError\u001b[0m: name 'random' is not defined"
     ]
    }
   ],
   "source": [
    "epochs = 100\n",
    "losses = []\n",
    "termcolors = [\n",
    "    \"grey\", \"red\", \"green\", \"yellow\", \"blue\", \"magenta\", \"cyan\", \"white\"\n",
    "]\n",
    "font_colors = random.choices(termcolors, k=2)\n",
    "for i in range(epochs):\n",
    "    i += 1\n",
    "    y_pred = model.forward(X)\n",
    "    loss = criterion(y_pred, y)\n",
    "    if i == 1 or i % 10 == 0:\n",
    "        print(colored(\"epoch:\", font_colors[0], attrs=[\"bold\"]), i,\n",
    "              colored(\"loss:\", font_colors[1]), loss.item())\n",
    "        print(colored(\"weight:\", font_colors[1]),\n",
    "              list(model.parameters())[0][0][0].item(),\n",
    "              colored(\"bias:\", font_colors[1]),\n",
    "              list(model.parameters())[1][0].item())\n",
    "    losses.append(loss.item())\n",
    "    optimizer.zero_grad()\n",
    "    loss.backward()\n",
    "    optimizer.step()"
   ]
  },
  {
   "cell_type": "code",
   "execution_count": null,
   "id": "b5e61720",
   "metadata": {
    "ExecuteTime": {
     "end_time": "2022-11-07T23:38:09.756464Z",
     "start_time": "2022-11-07T23:38:09.756458Z"
    }
   },
   "outputs": [],
   "source": [
    "colors = calm_color_generator(1)\n",
    "plt.plot(range(epochs), losses, c=colors[0])\n",
    "plt.ylabel(\"Loss\")\n",
    "plt.xlabel(\"Epoch\")"
   ]
  },
  {
   "cell_type": "code",
   "execution_count": null,
   "id": "0870e46b",
   "metadata": {
    "ExecuteTime": {
     "end_time": "2022-11-07T23:38:09.757065Z",
     "start_time": "2022-11-07T23:38:09.757059Z"
    }
   },
   "outputs": [],
   "source": [
    "plot_fit(\"Trained Model\")"
   ]
  }
 ],
 "metadata": {
  "hide_input": false,
  "kernelspec": {
   "display_name": "Python 3 (ipykernel)",
   "language": "python",
   "name": "python3"
  },
  "language_info": {
   "codemirror_mode": {
    "name": "ipython",
    "version": 3
   },
   "file_extension": ".py",
   "mimetype": "text/x-python",
   "name": "python",
   "nbconvert_exporter": "python",
   "pygments_lexer": "ipython3",
   "version": "3.9.13"
  },
  "latex_envs": {
   "LaTeX_envs_menu_present": true,
   "autoclose": false,
   "autocomplete": true,
   "bibliofile": "biblio.bib",
   "cite_by": "apalike",
   "current_citInitial": 1,
   "eqLabelWithNumbers": true,
   "eqNumInitial": 1,
   "hotkeys": {
    "equation": "Ctrl-E",
    "itemize": "Ctrl-I"
   },
   "labels_anchors": false,
   "latex_user_defs": false,
   "report_style_numbering": false,
   "user_envs_cfg": false
  },
  "nbTranslate": {
   "displayLangs": [
    "*"
   ],
   "hotkey": "alt-t",
   "langInMainMenu": true,
   "sourceLang": "en",
   "targetLang": "fr",
   "useGoogleTranslate": true
  },
  "toc": {
   "base_numbering": 1,
   "nav_menu": {},
   "number_sections": true,
   "sideBar": true,
   "skip_h1_title": false,
   "title_cell": "Table of Contents",
   "title_sidebar": "Contents",
   "toc_cell": false,
   "toc_position": {
    "height": "calc(100% - 180px)",
    "left": "10px",
    "top": "150px",
    "width": "345.594px"
   },
   "toc_section_display": true,
   "toc_window_display": true
  },
  "varInspector": {
   "cols": {
    "lenName": 16,
    "lenType": 16,
    "lenVar": 40
   },
   "kernels_config": {
    "python": {
     "delete_cmd_postfix": "",
     "delete_cmd_prefix": "del ",
     "library": "var_list.py",
     "varRefreshCmd": "print(var_dic_list())"
    },
    "r": {
     "delete_cmd_postfix": ") ",
     "delete_cmd_prefix": "rm(",
     "library": "var_list.r",
     "varRefreshCmd": "cat(var_dic_list()) "
    }
   },
   "types_to_exclude": [
    "module",
    "function",
    "builtin_function_or_method",
    "instance",
    "_Feature"
   ],
   "window_display": false
  },
  "vscode": {
   "interpreter": {
    "hash": "4df6db6ee61ecce594abe4a5126666f3650dd9429b0086e59af8e3f897fc7111"
   }
  }
 },
 "nbformat": 4,
 "nbformat_minor": 5
}

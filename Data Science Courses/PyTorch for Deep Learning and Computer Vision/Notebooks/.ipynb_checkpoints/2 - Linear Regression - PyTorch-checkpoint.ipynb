{
 "cells": [
  {
   "cell_type": "markdown",
   "id": "5fdb7bb7",
   "metadata": {},
   "source": [
    "# Importing Libraries"
   ]
  },
  {
   "cell_type": "code",
   "execution_count": 1,
   "id": "07cd4ffb",
   "metadata": {
    "ExecuteTime": {
     "end_time": "2022-11-10T12:39:42.808552Z",
     "start_time": "2022-11-10T12:39:41.761457Z"
    }
   },
   "outputs": [],
   "source": [
    "import torch\n",
    "from torch import nn\n",
    "\n",
    "import numpy as np\n",
    "\n",
    "import matplotlib as mpl\n",
    "import matplotlib.pyplot as plt\n",
    "\n",
    "import reprlib\n",
    "import sys"
   ]
  },
  {
   "cell_type": "markdown",
   "id": "5094fde5",
   "metadata": {},
   "source": [
    "# Configuring Visualization Parameters"
   ]
  },
  {
   "cell_type": "code",
   "execution_count": 2,
   "id": "d6dd7c45",
   "metadata": {
    "ExecuteTime": {
     "end_time": "2022-11-10T12:39:42.819172Z",
     "start_time": "2022-11-10T12:39:42.810438Z"
    }
   },
   "outputs": [],
   "source": [
    "%matplotlib inline"
   ]
  },
  {
   "cell_type": "code",
   "execution_count": 3,
   "id": "5d4894ab",
   "metadata": {
    "ExecuteTime": {
     "end_time": "2022-11-10T12:39:42.822359Z",
     "start_time": "2022-11-10T12:39:42.820425Z"
    }
   },
   "outputs": [],
   "source": [
    "XINHUI = \"#7a7374\"\n",
    "XUEBAI = \"#fffef9\"\n",
    "YINBAI = \"#f1f0ed\"\n",
    "YINHUI = \"#918072\"\n",
    "\n",
    "figure_size = (16, 9)"
   ]
  },
  {
   "cell_type": "code",
   "execution_count": 4,
   "id": "6f7198a8",
   "metadata": {
    "ExecuteTime": {
     "end_time": "2022-11-10T12:39:42.826391Z",
     "start_time": "2022-11-10T12:39:42.824066Z"
    }
   },
   "outputs": [],
   "source": [
    "custom_params = {\n",
    "    \"axes.axisbelow\": True,\n",
    "    \"axes.edgecolor\": YINBAI,\n",
    "    \"axes.facecolor\": XUEBAI,\n",
    "    \"axes.grid\": True,\n",
    "    \"axes.labelcolor\": XINHUI,\n",
    "    \"axes.spines.right\": False,\n",
    "    \"axes.spines.top\": False,\n",
    "    \"axes.titlecolor\": XINHUI,\n",
    "    \"figure.edgecolor\": YINBAI,\n",
    "    \"figure.facecolor\": XUEBAI,\n",
    "    \"grid.alpha\": .8,\n",
    "    \"grid.color\": YINBAI,\n",
    "    \"grid.linestyle\": \"--\",\n",
    "    \"grid.linewidth\": 1.2,\n",
    "    \"legend.edgecolor\": YINHUI,\n",
    "    \"patch.edgecolor\": XUEBAI,\n",
    "    \"patch.force_edgecolor\": True,\n",
    "    \"text.color\": XINHUI,\n",
    "    \"xtick.color\": YINHUI,\n",
    "    \"ytick.color\": YINHUI,\n",
    "}\n",
    "\n",
    "mpl.rcParams.update(custom_params)"
   ]
  },
  {
   "cell_type": "markdown",
   "id": "74528575",
   "metadata": {},
   "source": [
    "# Configuring Other Notebook Parameters"
   ]
  },
  {
   "cell_type": "code",
   "execution_count": 5,
   "id": "293c1f3b",
   "metadata": {
    "ExecuteTime": {
     "end_time": "2022-11-10T12:39:42.829067Z",
     "start_time": "2022-11-10T12:39:42.827257Z"
    }
   },
   "outputs": [],
   "source": [
    "reprlib_rules = reprlib.Repr()\n",
    "reprlib_rules.maxother = 250"
   ]
  },
  {
   "cell_type": "markdown",
   "id": "77cdea15",
   "metadata": {},
   "source": [
    "# Pre-installing Custom Functions"
   ]
  },
  {
   "cell_type": "code",
   "execution_count": 6,
   "id": "1f6ac6d5",
   "metadata": {
    "ExecuteTime": {
     "end_time": "2022-11-10T12:39:42.831431Z",
     "start_time": "2022-11-10T12:39:42.830001Z"
    }
   },
   "outputs": [],
   "source": [
    "sys.path.append(\"../\")"
   ]
  },
  {
   "cell_type": "code",
   "execution_count": 7,
   "id": "ab3f4e6c",
   "metadata": {
    "ExecuteTime": {
     "end_time": "2022-11-10T12:39:42.839243Z",
     "start_time": "2022-11-10T12:39:42.832456Z"
    }
   },
   "outputs": [],
   "source": [
    "from Modules import *"
   ]
  },
  {
   "cell_type": "markdown",
   "id": "00dd6868",
   "metadata": {},
   "source": [
    "# Practicing in Stages\n",
    "\n",
    "## Making Predictions"
   ]
  },
  {
   "cell_type": "code",
   "execution_count": 8,
   "id": "002025a7",
   "metadata": {
    "ExecuteTime": {
     "end_time": "2022-11-10T12:39:42.843277Z",
     "start_time": "2022-11-10T12:39:42.840320Z"
    },
    "code_folding": [],
    "hide_input": false,
    "scrolled": false
   },
   "outputs": [
    {
     "name": "stdout",
     "output_type": "stream",
     "text": [
      "\u001b[4m\u001b[33mDefinition of prediction function\u001b[0m\n",
      "\n",
      "\u001b[1m\u001b[33m    +-------------------+\u001b[0m\n",
      "\u001b[1m\u001b[33m    | Definition        |\u001b[0m\n",
      "\u001b[1m\u001b[33m    +-------------------+\u001b[0m\n",
      "\u001b[1m\u001b[33m    | def forward(x):   |\u001b[0m\n",
      "\u001b[1m\u001b[33m    |     y = w * x + b |\u001b[0m\n",
      "\u001b[1m\u001b[33m    |     return y      |\u001b[0m\n",
      "\u001b[1m\u001b[33m    +-------------------+\u001b[0m\n"
     ]
    }
   ],
   "source": [
    "def forward(x):\n",
    "    y = w * x + b\n",
    "    return y\n",
    "\n",
    "\n",
    "tabulation = Form_Generator()\n",
    "tabulation.heading_printer(\"Definition of prediction function\")\n",
    "\n",
    "definition = \"\"\"\n",
    "def forward(x):\n",
    "    y = w * x + b\n",
    "    return y\n",
    "\"\"\"\n",
    "definitions = [definition]\n",
    "tabulation.definition_generator(definitions)"
   ]
  },
  {
   "cell_type": "code",
   "execution_count": 9,
   "id": "6b34b014",
   "metadata": {
    "ExecuteTime": {
     "end_time": "2022-11-10T12:39:42.853222Z",
     "start_time": "2022-11-10T12:39:42.844520Z"
    },
    "hide_input": false
   },
   "outputs": [
    {
     "name": "stdout",
     "output_type": "stream",
     "text": [
      "\u001b[4m\u001b[34mInitial assignment of parameters\u001b[0m\n",
      "\n",
      "\u001b[1m\u001b[34m    +-------------------------------------------+\u001b[0m\n",
      "\u001b[1m\u001b[34m    | Statement                                 |\u001b[0m\n",
      "\u001b[1m\u001b[34m    +-------------------------------------------+\u001b[0m\n",
      "\u001b[1m\u001b[34m    | w = torch.tensor(3.0, requires_grad=True) |\u001b[0m\n",
      "\u001b[1m\u001b[34m    | b = torch.tensor(1.0, requires_grad=True) |\u001b[0m\n",
      "\u001b[1m\u001b[34m    +-------------------------------------------+\u001b[0m\n",
      "\u001b[1m\u001b[34m    +----------+--------------------------------+\u001b[0m\n",
      "\u001b[1m\u001b[34m    | Variable | Value                          |\u001b[0m\n",
      "\u001b[1m\u001b[34m    +----------+--------------------------------+\u001b[0m\n",
      "\u001b[1m\u001b[34m    | w        | tensor(3., requires_grad=True) |\u001b[0m\n",
      "\u001b[1m\u001b[34m    | b        | tensor(1., requires_grad=True) |\u001b[0m\n",
      "\u001b[1m\u001b[34m    +----------+--------------------------------+\u001b[0m\n"
     ]
    }
   ],
   "source": [
    "w = torch.tensor(3.0, requires_grad=True)\n",
    "b = torch.tensor(1.0, requires_grad=True)\n",
    "\n",
    "tabulation = Form_Generator()\n",
    "tabulation.heading_printer(\"Initial assignment of parameters\")\n",
    "\n",
    "statement_1 = \"w = torch.tensor(3.0, requires_grad=True)\"\n",
    "statement_2 = \"b = torch.tensor(1.0, requires_grad=True)\"\n",
    "statements = [statement_1] + [statement_2]\n",
    "tabulation.statement_generator(statements)\n",
    "\n",
    "variables = [\"w\", \"b\"]\n",
    "values = [str(w), str(b)]\n",
    "tabulation.variable_generator(variables, values)"
   ]
  },
  {
   "cell_type": "code",
   "execution_count": 10,
   "id": "a3e6732f",
   "metadata": {
    "ExecuteTime": {
     "end_time": "2022-11-10T12:39:42.875147Z",
     "start_time": "2022-11-10T12:39:42.870069Z"
    },
    "hide_input": false
   },
   "outputs": [
    {
     "name": "stdout",
     "output_type": "stream",
     "text": [
      "\u001b[4m\u001b[31mFunction implementation with 0D tensor\u001b[0m\n",
      "\n",
      "\u001b[1m\u001b[31m    +---------------------+\u001b[0m\n",
      "\u001b[1m\u001b[31m    | Statement           |\u001b[0m\n",
      "\u001b[1m\u001b[31m    +---------------------+\u001b[0m\n",
      "\u001b[1m\u001b[31m    | x = torch.tensor(2) |\u001b[0m\n",
      "\u001b[1m\u001b[31m    +---------------------+\u001b[0m\n",
      "\u001b[1m\u001b[31m    +----------+-----------+\u001b[0m\n",
      "\u001b[1m\u001b[31m    | Variable | Value     |\u001b[0m\n",
      "\u001b[1m\u001b[31m    +----------+-----------+\u001b[0m\n",
      "\u001b[1m\u001b[31m    | x        | tensor(2) |\u001b[0m\n",
      "\u001b[1m\u001b[31m    +----------+-----------+\u001b[0m\n",
      "\u001b[1m\u001b[31m    +------------+------------------------------------+\u001b[0m\n",
      "\u001b[1m\u001b[31m    | Expression | Result                             |\u001b[0m\n",
      "\u001b[1m\u001b[31m    +------------+------------------------------------+\u001b[0m\n",
      "\u001b[1m\u001b[31m    | forward(x) | tensor(7., grad_fn=<AddBackward0>) |\u001b[0m\n",
      "\u001b[1m\u001b[31m    +------------+------------------------------------+\u001b[0m\n"
     ]
    }
   ],
   "source": [
    "x = torch.tensor(2)\n",
    "\n",
    "tabulation = Form_Generator()\n",
    "tabulation.heading_printer(\"Function implementation with 0D tensor\")\n",
    "\n",
    "statement_1 = \"x = torch.tensor(2)\"\n",
    "statements = [statement_1]\n",
    "tabulation.statement_generator(statements)\n",
    "\n",
    "variables = [\"x\"]\n",
    "values = [str(x)]\n",
    "tabulation.variable_generator(variables, values)\n",
    "\n",
    "expressions = [\"forward(x)\"]\n",
    "results = [str(forward(x))]\n",
    "tabulation.expression_generator(expressions, results)"
   ]
  },
  {
   "cell_type": "code",
   "execution_count": 11,
   "id": "5e292920",
   "metadata": {
    "ExecuteTime": {
     "end_time": "2022-11-10T12:39:42.879733Z",
     "start_time": "2022-11-10T12:39:42.876083Z"
    },
    "hide_input": false
   },
   "outputs": [
    {
     "name": "stdout",
     "output_type": "stream",
     "text": [
      "\u001b[4m\u001b[30mFunction implementation with multi-D tensor\u001b[0m\n",
      "\n",
      "\u001b[1m\u001b[30m    +------------------------------+\u001b[0m\n",
      "\u001b[1m\u001b[30m    | Statement                    |\u001b[0m\n",
      "\u001b[1m\u001b[30m    +------------------------------+\u001b[0m\n",
      "\u001b[1m\u001b[30m    | x = torch.tensor([[4], [7]]) |\u001b[0m\n",
      "\u001b[1m\u001b[30m    +------------------------------+\u001b[0m\n",
      "\u001b[1m\u001b[30m    +----------+---------------+\u001b[0m\n",
      "\u001b[1m\u001b[30m    | Variable | Value         |\u001b[0m\n",
      "\u001b[1m\u001b[30m    +----------+---------------+\u001b[0m\n",
      "\u001b[1m\u001b[30m    | x        | tensor([[4],  |\u001b[0m\n",
      "\u001b[1m\u001b[30m    |          |         [7]]) |\u001b[0m\n",
      "\u001b[1m\u001b[30m    +----------+---------------+\u001b[0m\n",
      "\u001b[1m\u001b[30m    +------------+-----------------------------------------+\u001b[0m\n",
      "\u001b[1m\u001b[30m    | Expression | Result                                  |\u001b[0m\n",
      "\u001b[1m\u001b[30m    +------------+-----------------------------------------+\u001b[0m\n",
      "\u001b[1m\u001b[30m    | forward(x) | tensor([[13.],                          |\u001b[0m\n",
      "\u001b[1m\u001b[30m    |            |         [22.]], grad_fn=<AddBackward0>) |\u001b[0m\n",
      "\u001b[1m\u001b[30m    +------------+-----------------------------------------+\u001b[0m\n"
     ]
    }
   ],
   "source": [
    "x = torch.tensor([[4], [7]])\n",
    "\n",
    "tabulation = Form_Generator()\n",
    "tabulation.heading_printer(\"Function implementation with multi-D tensor\")\n",
    "\n",
    "statement_1 = \"x = torch.tensor([[4], [7]])\"\n",
    "statements = [statement_1]\n",
    "tabulation.statement_generator(statements)\n",
    "\n",
    "variables = [\"x\"]\n",
    "values = [str(x)]\n",
    "tabulation.variable_generator(variables, values)\n",
    "\n",
    "expressions = [\"forward(x)\"]\n",
    "results = [str(forward(x))]\n",
    "tabulation.expression_generator(expressions, results)"
   ]
  },
  {
   "cell_type": "markdown",
   "id": "010e1216",
   "metadata": {},
   "source": [
    "## Linear Class"
   ]
  },
  {
   "cell_type": "code",
   "execution_count": 12,
   "id": "06a3a62c",
   "metadata": {
    "ExecuteTime": {
     "end_time": "2022-11-10T12:39:42.885584Z",
     "start_time": "2022-11-10T12:39:42.880637Z"
    }
   },
   "outputs": [
    {
     "name": "stdout",
     "output_type": "stream",
     "text": [
      "\u001b[4m\u001b[36mInitialization of standard linear model\u001b[0m\n",
      "\n",
      "\u001b[1m\u001b[36m    +--------------------------------------------------+\u001b[0m\n",
      "\u001b[1m\u001b[36m    | Statement                                        |\u001b[0m\n",
      "\u001b[1m\u001b[36m    +--------------------------------------------------+\u001b[0m\n",
      "\u001b[1m\u001b[36m    | torch.manual_seed(1)                             |\u001b[0m\n",
      "\u001b[1m\u001b[36m    | model = nn.Linear(in_features=1, out_features=1) |\u001b[0m\n",
      "\u001b[1m\u001b[36m    +--------------------------------------------------+\u001b[0m\n",
      "\u001b[1m\u001b[36m    +----------+--------------------------------------------------+\u001b[0m\n",
      "\u001b[1m\u001b[36m    | Variable | Value                                            |\u001b[0m\n",
      "\u001b[1m\u001b[36m    +----------+--------------------------------------------------+\u001b[0m\n",
      "\u001b[1m\u001b[36m    | model    | Linear(in_features=1, out_features=1, bias=True) |\u001b[0m\n",
      "\u001b[1m\u001b[36m    +----------+--------------------------------------------------+\u001b[0m\n",
      "\u001b[1m\u001b[36m    +--------------+----------------------------------------+\u001b[0m\n",
      "\u001b[1m\u001b[36m    | Expression   | Result                                 |\u001b[0m\n",
      "\u001b[1m\u001b[36m    +--------------+----------------------------------------+\u001b[0m\n",
      "\u001b[1m\u001b[36m    | model.weight | Parameter containing:                  |\u001b[0m\n",
      "\u001b[1m\u001b[36m    |              | tensor([[0.5153]], requires_grad=True) |\u001b[0m\n",
      "\u001b[1m\u001b[36m    | model.bias   | Parameter containing:                  |\u001b[0m\n",
      "\u001b[1m\u001b[36m    |              | tensor([-0.4414], requires_grad=True)  |\u001b[0m\n",
      "\u001b[1m\u001b[36m    +--------------+----------------------------------------+\u001b[0m\n"
     ]
    }
   ],
   "source": [
    "torch.manual_seed(1)\n",
    "model = nn.Linear(in_features=1, out_features=1)\n",
    "\n",
    "tabulation = Form_Generator()\n",
    "tabulation.heading_printer(\"Initialization of standard linear model\")\n",
    "\n",
    "statement_1 = \"torch.manual_seed(1)\"\n",
    "statement_2 = \"model = nn.Linear(in_features=1, out_features=1)\"\n",
    "statements = [statement_1] + [statement_2]\n",
    "tabulation.statement_generator(statements)\n",
    "\n",
    "variables = [\"model\"]\n",
    "values = [str(model)]\n",
    "tabulation.variable_generator(variables, values)\n",
    "\n",
    "expressions = [\"model.weight\", \"model.bias\"]\n",
    "results = [str(model.weight), str(model.bias)]\n",
    "tabulation.expression_generator(expressions, results)"
   ]
  },
  {
   "cell_type": "code",
   "execution_count": 13,
   "id": "664fbcd2",
   "metadata": {
    "ExecuteTime": {
     "end_time": "2022-11-10T12:39:42.890058Z",
     "start_time": "2022-11-10T12:39:42.886397Z"
    }
   },
   "outputs": [
    {
     "name": "stdout",
     "output_type": "stream",
     "text": [
      "\u001b[4m\u001b[32mModel implementation with 1D tensor\u001b[0m\n",
      "\n",
      "\u001b[1m\u001b[32m    +-------------------------+\u001b[0m\n",
      "\u001b[1m\u001b[32m    | Statement               |\u001b[0m\n",
      "\u001b[1m\u001b[32m    +-------------------------+\u001b[0m\n",
      "\u001b[1m\u001b[32m    | x = torch.tensor([2.0]) |\u001b[0m\n",
      "\u001b[1m\u001b[32m    +-------------------------+\u001b[0m\n",
      "\u001b[1m\u001b[32m    +----------+--------------+\u001b[0m\n",
      "\u001b[1m\u001b[32m    | Variable | Value        |\u001b[0m\n",
      "\u001b[1m\u001b[32m    +----------+--------------+\u001b[0m\n",
      "\u001b[1m\u001b[32m    | x        | tensor([2.]) |\u001b[0m\n",
      "\u001b[1m\u001b[32m    +----------+--------------+\u001b[0m\n",
      "\u001b[1m\u001b[32m    +------------+------------------------------------------+\u001b[0m\n",
      "\u001b[1m\u001b[32m    | Expression | Result                                   |\u001b[0m\n",
      "\u001b[1m\u001b[32m    +------------+------------------------------------------+\u001b[0m\n",
      "\u001b[1m\u001b[32m    | model(x)   | tensor([0.5891], grad_fn=<AddBackward0>) |\u001b[0m\n",
      "\u001b[1m\u001b[32m    +------------+------------------------------------------+\u001b[0m\n"
     ]
    }
   ],
   "source": [
    "x = torch.tensor([2.0])\n",
    "\n",
    "tabulation = Form_Generator()\n",
    "tabulation.heading_printer(\"Model implementation with 1D tensor\")\n",
    "\n",
    "statement_1 = \"x = torch.tensor([2.0])\"\n",
    "statements = [statement_1]\n",
    "tabulation.statement_generator(statements)\n",
    "\n",
    "variables = [\"x\"]\n",
    "values = [str(x)]\n",
    "tabulation.variable_generator(variables, values)\n",
    "\n",
    "expressions = [\"model(x)\"]\n",
    "results = [str(model(x))]\n",
    "tabulation.expression_generator(expressions, results)"
   ]
  },
  {
   "cell_type": "code",
   "execution_count": 14,
   "id": "ab5dcc5b",
   "metadata": {
    "ExecuteTime": {
     "end_time": "2022-11-10T12:39:42.894685Z",
     "start_time": "2022-11-10T12:39:42.891270Z"
    }
   },
   "outputs": [
    {
     "name": "stdout",
     "output_type": "stream",
     "text": [
      "\u001b[4m\u001b[37mModel implementation with multi-D tensor\u001b[0m\n",
      "\n",
      "\u001b[1m\u001b[37m    +----------------------------------+\u001b[0m\n",
      "\u001b[1m\u001b[37m    | Statement                        |\u001b[0m\n",
      "\u001b[1m\u001b[37m    +----------------------------------+\u001b[0m\n",
      "\u001b[1m\u001b[37m    | x = torch.tensor([[2.0], [3.3]]) |\u001b[0m\n",
      "\u001b[1m\u001b[37m    +----------------------------------+\u001b[0m\n",
      "\u001b[1m\u001b[37m    +----------+--------------------+\u001b[0m\n",
      "\u001b[1m\u001b[37m    | Variable | Value              |\u001b[0m\n",
      "\u001b[1m\u001b[37m    +----------+--------------------+\u001b[0m\n",
      "\u001b[1m\u001b[37m    | x        | tensor([[2.0000],  |\u001b[0m\n",
      "\u001b[1m\u001b[37m    |          |         [3.3000]]) |\u001b[0m\n",
      "\u001b[1m\u001b[37m    +----------+--------------------+\u001b[0m\n",
      "\u001b[1m\u001b[37m    +------------+----------------------------------------------+\u001b[0m\n",
      "\u001b[1m\u001b[37m    | Expression | Result                                       |\u001b[0m\n",
      "\u001b[1m\u001b[37m    +------------+----------------------------------------------+\u001b[0m\n",
      "\u001b[1m\u001b[37m    | model(x)   | tensor([[0.5891],                            |\u001b[0m\n",
      "\u001b[1m\u001b[37m    |            |         [1.2590]], grad_fn=<AddmmBackward0>) |\u001b[0m\n",
      "\u001b[1m\u001b[37m    +------------+----------------------------------------------+\u001b[0m\n"
     ]
    }
   ],
   "source": [
    "x = torch.tensor([[2.0], [3.3]])\n",
    "\n",
    "tabulation = Form_Generator()\n",
    "tabulation.heading_printer(\"Model implementation with multi-D tensor\")\n",
    "\n",
    "statement_1 = \"x = torch.tensor([[2.0], [3.3]])\"\n",
    "statements = [statement_1]\n",
    "tabulation.statement_generator(statements)\n",
    "\n",
    "variables = [\"x\"]\n",
    "values = [str(x)]\n",
    "tabulation.variable_generator(variables, values)\n",
    "\n",
    "expressions = [\"model(x)\"]\n",
    "results = [str(model(x))]\n",
    "tabulation.expression_generator(expressions, results)"
   ]
  },
  {
   "cell_type": "markdown",
   "id": "985eeeb1",
   "metadata": {},
   "source": [
    "## Custom Modules"
   ]
  },
  {
   "cell_type": "code",
   "execution_count": 15,
   "id": "b4957565",
   "metadata": {
    "ExecuteTime": {
     "end_time": "2022-11-10T12:39:42.900521Z",
     "start_time": "2022-11-10T12:39:42.895924Z"
    }
   },
   "outputs": [
    {
     "name": "stdout",
     "output_type": "stream",
     "text": [
      "\u001b[4m\u001b[35mInitialization of inherited linear classes\u001b[0m\n",
      "\n",
      "\u001b[1m\u001b[35m    +----------------------------------------------------------+\u001b[0m\n",
      "\u001b[1m\u001b[35m    | Definition                                               |\u001b[0m\n",
      "\u001b[1m\u001b[35m    +----------------------------------------------------------+\u001b[0m\n",
      "\u001b[1m\u001b[35m    | class LR(nn.Module):                                     |\u001b[0m\n",
      "\u001b[1m\u001b[35m    |                                                          |\u001b[0m\n",
      "\u001b[1m\u001b[35m    |     def __init__(self, input_size, output_size):         |\u001b[0m\n",
      "\u001b[1m\u001b[35m    |         super().__init__()                               |\u001b[0m\n",
      "\u001b[1m\u001b[35m    |         self.linear = nn.Linear(input_size, output_size) |\u001b[0m\n",
      "\u001b[1m\u001b[35m    |                                                          |\u001b[0m\n",
      "\u001b[1m\u001b[35m    |     def forward(self, x):                                |\u001b[0m\n",
      "\u001b[1m\u001b[35m    |         pred = self.linear(x)                            |\u001b[0m\n",
      "\u001b[1m\u001b[35m    |         return pred                                      |\u001b[0m\n",
      "\u001b[1m\u001b[35m    +----------------------------------------------------------+\u001b[0m\n",
      "\u001b[1m\u001b[35m    +----------------------+\u001b[0m\n",
      "\u001b[1m\u001b[35m    | Statement            |\u001b[0m\n",
      "\u001b[1m\u001b[35m    +----------------------+\u001b[0m\n",
      "\u001b[1m\u001b[35m    | torch.manual_seed(1) |\u001b[0m\n",
      "\u001b[1m\u001b[35m    | model = LR(1, 1)     |\u001b[0m\n",
      "\u001b[1m\u001b[35m    +----------------------+\u001b[0m\n",
      "\u001b[1m\u001b[35m    +----------+--------------------------------------------------+\u001b[0m\n",
      "\u001b[1m\u001b[35m    | Variable | Value                                            |\u001b[0m\n",
      "\u001b[1m\u001b[35m    +----------+--------------------------------------------------+\u001b[0m\n",
      "\u001b[1m\u001b[35m    | model    | Linear(in_features=1, out_features=1, bias=True) |\u001b[0m\n",
      "\u001b[1m\u001b[35m    +----------+--------------------------------------------------+\u001b[0m\n",
      "\u001b[1m\u001b[35m    +--------------------------+-------------------------------+\u001b[0m\n",
      "\u001b[1m\u001b[35m    | Expression               | Result                        |\u001b[0m\n",
      "\u001b[1m\u001b[35m    +--------------------------+-------------------------------+\u001b[0m\n",
      "\u001b[1m\u001b[35m    | model.parameters()       | <generator object             |\u001b[0m\n",
      "\u001b[1m\u001b[35m    |                          |         Module.parameters at  |\u001b[0m\n",
      "\u001b[1m\u001b[35m    |                          |         0x17f033dd0>          |\u001b[0m\n",
      "\u001b[1m\u001b[35m    | list(model.parameters()) | [Parameter containing:        |\u001b[0m\n",
      "\u001b[1m\u001b[35m    |                          | tensor([[0.5153]],            |\u001b[0m\n",
      "\u001b[1m\u001b[35m    |                          |         requires_grad=True),  |\u001b[0m\n",
      "\u001b[1m\u001b[35m    |                          |         Parameter containing: |\u001b[0m\n",
      "\u001b[1m\u001b[35m    |                          | tensor([-0.4414],             |\u001b[0m\n",
      "\u001b[1m\u001b[35m    |                          |         requires_grad=True)]  |\u001b[0m\n",
      "\u001b[1m\u001b[35m    +--------------------------+-------------------------------+\u001b[0m\n"
     ]
    }
   ],
   "source": [
    "class LR(nn.Module):\n",
    "\n",
    "    def __init__(self, input_size, output_size):\n",
    "        super().__init__()\n",
    "        self.linear = nn.Linear(input_size, output_size)\n",
    "\n",
    "    def forward(self, x):\n",
    "        pred = self.linear(x)\n",
    "        return pred\n",
    "\n",
    "\n",
    "tabulation = Form_Generator()\n",
    "tabulation.heading_printer(\"Initialization of inherited linear classes\")\n",
    "\n",
    "definition = \"\"\"\n",
    "class LR(nn.Module):\n",
    "\n",
    "    def __init__(self, input_size, output_size):\n",
    "        super().__init__()\n",
    "        self.linear = nn.Linear(input_size, output_size)\n",
    "\n",
    "    def forward(self, x):\n",
    "        pred = self.linear(x)\n",
    "        return pred\n",
    "\"\"\"\n",
    "\n",
    "definitions = [definition]\n",
    "tabulation.definition_generator(definitions)\n",
    "\n",
    "statement_1 = \"torch.manual_seed(1)\"\n",
    "statement_2 = \"model = LR(1, 1)\"\n",
    "statements = [statement_1] + [statement_2]\n",
    "tabulation.statement_generator(statements)\n",
    "\n",
    "variables = [\"model\"]\n",
    "values = [str(model)]\n",
    "tabulation.variable_generator(variables, values)\n",
    "\n",
    "expressions = [\"model.parameters()\", \"list(model.parameters())\"]\n",
    "results = [str(model.parameters()), str(list(model.parameters()))]\n",
    "tabulation.expression_generator(expressions, results)"
   ]
  },
  {
   "cell_type": "code",
   "execution_count": 16,
   "id": "6ba13ce1",
   "metadata": {
    "ExecuteTime": {
     "end_time": "2022-11-10T12:39:42.905241Z",
     "start_time": "2022-11-10T12:39:42.901544Z"
    }
   },
   "outputs": [
    {
     "name": "stdout",
     "output_type": "stream",
     "text": [
      "\u001b[4m\u001b[31mImplementation of custom model with 1D tensor\u001b[0m\n",
      "\n",
      "\u001b[1m\u001b[31m    +-------------------------+\u001b[0m\n",
      "\u001b[1m\u001b[31m    | Statement               |\u001b[0m\n",
      "\u001b[1m\u001b[31m    +-------------------------+\u001b[0m\n",
      "\u001b[1m\u001b[31m    | x = torch.tensor([1.0]) |\u001b[0m\n",
      "\u001b[1m\u001b[31m    +-------------------------+\u001b[0m\n",
      "\u001b[1m\u001b[31m    +----------+--------------+\u001b[0m\n",
      "\u001b[1m\u001b[31m    | Variable | Value        |\u001b[0m\n",
      "\u001b[1m\u001b[31m    +----------+--------------+\u001b[0m\n",
      "\u001b[1m\u001b[31m    | x        | tensor([1.]) |\u001b[0m\n",
      "\u001b[1m\u001b[31m    +----------+--------------+\u001b[0m\n",
      "\u001b[1m\u001b[31m    +------------------+------------------------------------------+\u001b[0m\n",
      "\u001b[1m\u001b[31m    | Expression       | Result                                   |\u001b[0m\n",
      "\u001b[1m\u001b[31m    +------------------+------------------------------------------+\u001b[0m\n",
      "\u001b[1m\u001b[31m    | model.forward(x) | tensor([0.0739], grad_fn=<AddBackward0>) |\u001b[0m\n",
      "\u001b[1m\u001b[31m    +------------------+------------------------------------------+\u001b[0m\n"
     ]
    }
   ],
   "source": [
    "x = torch.tensor([1.0])\n",
    "\n",
    "tabulation = Form_Generator()\n",
    "tabulation.heading_printer(\"Implementation of custom model with 1D tensor\")\n",
    "\n",
    "statement_1 = \"x = torch.tensor([1.0])\"\n",
    "statements = [statement_1]\n",
    "tabulation.statement_generator(statements)\n",
    "\n",
    "variables = [\"x\"]\n",
    "values = [str(x)]\n",
    "tabulation.variable_generator(variables, values)\n",
    "\n",
    "expressions = [\"model.forward(x)\"]\n",
    "results = [str(model.forward(x))]\n",
    "tabulation.expression_generator(expressions, results)"
   ]
  },
  {
   "cell_type": "code",
   "execution_count": 17,
   "id": "a7551e0d",
   "metadata": {
    "ExecuteTime": {
     "end_time": "2022-11-10T12:39:42.909556Z",
     "start_time": "2022-11-10T12:39:42.906336Z"
    }
   },
   "outputs": [
    {
     "name": "stdout",
     "output_type": "stream",
     "text": [
      "\u001b[4m\u001b[37mImplementation of custom model with multi-D tensor\u001b[0m\n",
      "\n",
      "\u001b[1m\u001b[37m    +----------------------------------+\u001b[0m\n",
      "\u001b[1m\u001b[37m    | Statement                        |\u001b[0m\n",
      "\u001b[1m\u001b[37m    +----------------------------------+\u001b[0m\n",
      "\u001b[1m\u001b[37m    | x = torch.tensor([[1.0], [2.0]]) |\u001b[0m\n",
      "\u001b[1m\u001b[37m    +----------------------------------+\u001b[0m\n",
      "\u001b[1m\u001b[37m    +----------+----------------+\u001b[0m\n",
      "\u001b[1m\u001b[37m    | Variable | Value          |\u001b[0m\n",
      "\u001b[1m\u001b[37m    +----------+----------------+\u001b[0m\n",
      "\u001b[1m\u001b[37m    | x        | tensor([[1.],  |\u001b[0m\n",
      "\u001b[1m\u001b[37m    |          |         [2.]]) |\u001b[0m\n",
      "\u001b[1m\u001b[37m    +----------+----------------+\u001b[0m\n",
      "\u001b[1m\u001b[37m    +------------------+-----------------------------------+\u001b[0m\n",
      "\u001b[1m\u001b[37m    | Expression       | Result                            |\u001b[0m\n",
      "\u001b[1m\u001b[37m    +------------------+-----------------------------------+\u001b[0m\n",
      "\u001b[1m\u001b[37m    | model.forward(x) | tensor([[0.0739],                 |\u001b[0m\n",
      "\u001b[1m\u001b[37m    |                  |         [0.5891]],                |\u001b[0m\n",
      "\u001b[1m\u001b[37m    |                  |         grad_fn=<AddmmBackward0>) |\u001b[0m\n",
      "\u001b[1m\u001b[37m    +------------------+-----------------------------------+\u001b[0m\n"
     ]
    }
   ],
   "source": [
    "x = torch.tensor([[1.0], [2.0]])\n",
    "\n",
    "tabulation = Form_Generator()\n",
    "tabulation.heading_printer(\n",
    "    \"Implementation of custom model with multi-D tensor\")\n",
    "\n",
    "statement_1 = \"x = torch.tensor([[1.0], [2.0]])\"\n",
    "statements = [statement_1]\n",
    "tabulation.statement_generator(statements)\n",
    "\n",
    "variables = [\"x\"]\n",
    "values = [str(x)]\n",
    "tabulation.variable_generator(variables, values)\n",
    "\n",
    "expressions = [\"model.forward(x)\"]\n",
    "results = [str(model.forward(x))]\n",
    "tabulation.expression_generator(expressions, results)"
   ]
  },
  {
   "cell_type": "markdown",
   "id": "3bf733a9",
   "metadata": {
    "ExecuteTime": {
     "end_time": "2022-07-21T01:19:38.272762Z",
     "start_time": "2022-07-21T01:19:38.266612Z"
    }
   },
   "source": [
    "## Creating Dataset"
   ]
  },
  {
   "cell_type": "code",
   "execution_count": 18,
   "id": "9b67b4ce",
   "metadata": {
    "ExecuteTime": {
     "end_time": "2022-11-10T12:39:42.914967Z",
     "start_time": "2022-11-10T12:39:42.910334Z"
    },
    "scrolled": false
   },
   "outputs": [
    {
     "name": "stdout",
     "output_type": "stream",
     "text": [
      "\u001b[4m\u001b[32mCreation of normally distributed data with random numbers\u001b[0m\n",
      "\n",
      "\u001b[1m\u001b[32m    +-------------------------+\u001b[0m\n",
      "\u001b[1m\u001b[32m    | Statement               |\u001b[0m\n",
      "\u001b[1m\u001b[32m    +-------------------------+\u001b[0m\n",
      "\u001b[1m\u001b[32m    | X = torch.randn(100, 1) |\u001b[0m\n",
      "\u001b[1m\u001b[32m    +-------------------------+\u001b[0m\n",
      "\u001b[1m\u001b[32m    +----------+-----------------------+\u001b[0m\n",
      "\u001b[1m\u001b[32m    | Variable | Value                 |\u001b[0m\n",
      "\u001b[1m\u001b[32m    +----------+-----------------------+\u001b[0m\n",
      "\u001b[1m\u001b[32m    | X        | tensor([[-0.6540],    |\u001b[0m\n",
      "\u001b[1m\u001b[32m    |          |         [-1.6095],    |\u001b[0m\n",
      "\u001b[1m\u001b[32m    |          |         [-0.1002],    |\u001b[0m\n",
      "\u001b[1m\u001b[32m    |          |         [-0.6092],    |\u001b[0m\n",
      "\u001b[1m\u001b[32m    |          |         [-0.9798],    |\u001b[0m\n",
      "\u001b[1m\u001b[32m    |          |         [-1.6091],    |\u001b[0m\n",
      "\u001b[1m\u001b[32m    |          |         [...-1.1334], |\u001b[0m\n",
      "\u001b[1m\u001b[32m    |          |         [-0.1010],    |\u001b[0m\n",
      "\u001b[1m\u001b[32m    |          |         [ 0.3434],    |\u001b[0m\n",
      "\u001b[1m\u001b[32m    |          |         [-1.0703],    |\u001b[0m\n",
      "\u001b[1m\u001b[32m    |          |         [-0.8743],    |\u001b[0m\n",
      "\u001b[1m\u001b[32m    |          |         [-1.4648],    |\u001b[0m\n",
      "\u001b[1m\u001b[32m    |          |         [-1.2629]])   |\u001b[0m\n",
      "\u001b[1m\u001b[32m    +----------+-----------------------+\u001b[0m\n",
      "\u001b[1m\u001b[32m    +------------+----------------------+\u001b[0m\n",
      "\u001b[1m\u001b[32m    | Expression | Result               |\u001b[0m\n",
      "\u001b[1m\u001b[32m    +------------+----------------------+\u001b[0m\n",
      "\u001b[1m\u001b[32m    | X.size()   | torch.Size([100, 1]) |\u001b[0m\n",
      "\u001b[1m\u001b[32m    | X[0]       | tensor([-0.6540])    |\u001b[0m\n",
      "\u001b[1m\u001b[32m    | X[-1]      | tensor([-1.2629])    |\u001b[0m\n",
      "\u001b[1m\u001b[32m    +------------+----------------------+\u001b[0m\n"
     ]
    }
   ],
   "source": [
    "X = torch.randn(100, 1)\n",
    "\n",
    "tabulation = Form_Generator()\n",
    "tabulation.heading_printer(\n",
    "    \"Creation of normally distributed data with random numbers\")\n",
    "\n",
    "statement_1 = \"X = torch.randn(100, 1)\"\n",
    "statements = [statement_1]\n",
    "tabulation.statement_generator(statements)\n",
    "\n",
    "variables = [\"X\"]\n",
    "values = [str(reprlib_rules.repr(X))]\n",
    "tabulation.variable_generator(variables, values)\n",
    "\n",
    "expressions = [\"X.size()\", \"X[0]\", \"X[-1]\"]\n",
    "results = [str(X.size()), str(X[0]), str(X[-1])]\n",
    "tabulation.expression_generator(expressions, results)"
   ]
  },
  {
   "cell_type": "code",
   "execution_count": 19,
   "id": "d54f9a3d",
   "metadata": {
    "ExecuteTime": {
     "end_time": "2022-11-10T12:39:43.066085Z",
     "start_time": "2022-11-10T12:39:42.916122Z"
    }
   },
   "outputs": [
    {
     "data": {
      "image/png": "[encoded data removed]",
      "text/plain": [
       "<Figure size 1600x450 with 2 Axes>"
      ]
     },
     "metadata": {},
     "output_type": "display_data"
    }
   ],
   "source": [
    "colors = calm_color_generator(2)\n",
    "plt.rcParams[\"figure.figsize\"] = (figure_size[0], figure_size[1] / 2)\n",
    "\n",
    "fig, axs = plt.subplots(1, 2, sharey=True)\n",
    "\n",
    "X = torch.randn(100, 1) * 10\n",
    "y = X\n",
    "axs[0].plot(X.numpy(), y.numpy(), \"o\", c=colors.pop(0))\n",
    "axs[0].set_title(\"Normally distributed data without bias\",\n",
    "                 loc=\"center\",\n",
    "                 pad=15)\n",
    "\n",
    "y = X + 3 * torch.randn(100, 1)\n",
    "axs[1].plot(X.numpy(), y.numpy(), \"o\", c=colors.pop(0))\n",
    "axs[1].set_title(\"Normally distributed data with bias\", loc=\"center\", pad=15)\n",
    "\n",
    "for ax in axs.flat:\n",
    "    ax.set(xlabel=\"X\", ylabel=\"y\")\n",
    "    ax.label_outer()\n",
    "\n",
    "fig.suptitle(\"Visual Comparison of Normally Distributed Data\",\n",
    "             fontsize=\"x-large\",\n",
    "             x=0.5,\n",
    "             y=0)\n",
    "\n",
    "plt.tight_layout()\n",
    "plt.show()"
   ]
  },
  {
   "cell_type": "code",
   "execution_count": 20,
   "id": "1a46733b",
   "metadata": {
    "ExecuteTime": {
     "end_time": "2022-11-10T12:39:43.071074Z",
     "start_time": "2022-11-10T12:39:43.067231Z"
    }
   },
   "outputs": [
    {
     "name": "stdout",
     "output_type": "stream",
     "text": [
      "\u001b[4m\u001b[34mModel parameter unpacking\u001b[0m\n",
      "\n",
      "\u001b[1m\u001b[34m    +---------------------------+\u001b[0m\n",
      "\u001b[1m\u001b[34m    | Statement                 |\u001b[0m\n",
      "\u001b[1m\u001b[34m    +---------------------------+\u001b[0m\n",
      "\u001b[1m\u001b[34m    | w, b = model.parameters() |\u001b[0m\n",
      "\u001b[1m\u001b[34m    | w1 = w[0][0]              |\u001b[0m\n",
      "\u001b[1m\u001b[34m    | b1 = b[0]                 |\u001b[0m\n",
      "\u001b[1m\u001b[34m    +---------------------------+\u001b[0m\n",
      "\u001b[1m\u001b[34m    +----------+--------------------------------------------+\u001b[0m\n",
      "\u001b[1m\u001b[34m    | Variable | Value                                      |\u001b[0m\n",
      "\u001b[1m\u001b[34m    +----------+--------------------------------------------+\u001b[0m\n",
      "\u001b[1m\u001b[34m    | w        | Parameter containing:                      |\u001b[0m\n",
      "\u001b[1m\u001b[34m    |          | tensor([[0.5153]], requires_grad=True)     |\u001b[0m\n",
      "\u001b[1m\u001b[34m    | b        | Parameter containing:                      |\u001b[0m\n",
      "\u001b[1m\u001b[34m    |          | tensor([-0.4414], requires_grad=True)      |\u001b[0m\n",
      "\u001b[1m\u001b[34m    | w1       | tensor(0.5153, grad_fn=<SelectBackward0>)  |\u001b[0m\n",
      "\u001b[1m\u001b[34m    | b1       | tensor(-0.4414, grad_fn=<SelectBackward0>) |\u001b[0m\n",
      "\u001b[1m\u001b[34m    +----------+--------------------------------------------+\u001b[0m\n"
     ]
    }
   ],
   "source": [
    "w, b = model.parameters()\n",
    "w1 = w[0][0]\n",
    "b1 = b[0]\n",
    "\n",
    "tabulation = Form_Generator()\n",
    "tabulation.heading_printer(\"Model parameter unpacking\")\n",
    "\n",
    "statement_1 = \"w, b = model.parameters()\"\n",
    "statement_2 = \"w1 = w[0][0]\"\n",
    "statement_3 = \"b1 = b[0]\"\n",
    "statements = [statement_1] + [statement_2] + [statement_3]\n",
    "tabulation.statement_generator(statements)\n",
    "\n",
    "variables = [\"w\", \"b\", \"w1\", \"b1\"]\n",
    "values = [str(w), str(b), str(w1), str(b1)]\n",
    "tabulation.variable_generator(variables, values)"
   ]
  },
  {
   "cell_type": "code",
   "execution_count": 21,
   "id": "7bcec66b",
   "metadata": {
    "ExecuteTime": {
     "end_time": "2022-11-10T12:39:43.074697Z",
     "start_time": "2022-11-10T12:39:43.072001Z"
    }
   },
   "outputs": [
    {
     "name": "stdout",
     "output_type": "stream",
     "text": [
      "\u001b[4m\u001b[36mValue extraction by unpacking model parameters\u001b[0m\n",
      "\n",
      "\u001b[1m\u001b[36m    +---------------------+\u001b[0m\n",
      "\u001b[1m\u001b[36m    | Statement           |\u001b[0m\n",
      "\u001b[1m\u001b[36m    +---------------------+\u001b[0m\n",
      "\u001b[1m\u001b[36m    | w1 = w[0][0].item() |\u001b[0m\n",
      "\u001b[1m\u001b[36m    | b1 = b[0].item()    |\u001b[0m\n",
      "\u001b[1m\u001b[36m    +---------------------+\u001b[0m\n",
      "\u001b[1m\u001b[36m    +----------+----------------------+\u001b[0m\n",
      "\u001b[1m\u001b[36m    | Variable | Value                |\u001b[0m\n",
      "\u001b[1m\u001b[36m    +----------+----------------------+\u001b[0m\n",
      "\u001b[1m\u001b[36m    | w1       | 0.5152631998062134   |\u001b[0m\n",
      "\u001b[1m\u001b[36m    | b1       | -0.44137823581695557 |\u001b[0m\n",
      "\u001b[1m\u001b[36m    +----------+----------------------+\u001b[0m\n"
     ]
    }
   ],
   "source": [
    "w1 = w[0][0].item()\n",
    "b1 = b[0].item()\n",
    "\n",
    "tabulation = Form_Generator()\n",
    "tabulation.heading_printer(\"Value extraction by unpacking model parameters\")\n",
    "\n",
    "statement_1 = \"w1 = w[0][0].item()\"\n",
    "statement_2 = \"b1 = b[0].item()\"\n",
    "statements = [statement_1] + [statement_2]\n",
    "tabulation.statement_generator(statements)\n",
    "\n",
    "variables = [\"w1\", \"b1\"]\n",
    "values = [str(w1), str(b1)]\n",
    "tabulation.variable_generator(variables, values)"
   ]
  },
  {
   "cell_type": "code",
   "execution_count": 22,
   "id": "7695c2c2",
   "metadata": {
    "ExecuteTime": {
     "end_time": "2022-11-10T12:39:43.079608Z",
     "start_time": "2022-11-10T12:39:43.075869Z"
    }
   },
   "outputs": [
    {
     "name": "stdout",
     "output_type": "stream",
     "text": [
      "\u001b[4m\u001b[33mDefinition of visualization function\u001b[0m\n",
      "\n",
      "\u001b[1m\u001b[33m    +------------------------------------------+\u001b[0m\n",
      "\u001b[1m\u001b[33m    | Definition                               |\u001b[0m\n",
      "\u001b[1m\u001b[33m    +------------------------------------------+\u001b[0m\n",
      "\u001b[1m\u001b[33m    | def get_params():                        |\u001b[0m\n",
      "\u001b[1m\u001b[33m    |     return (w[0][0].item(), b[0].item()) |\u001b[0m\n",
      "\u001b[1m\u001b[33m    |                                          |\u001b[0m\n",
      "\u001b[1m\u001b[33m    |                                          |\u001b[0m\n",
      "\u001b[1m\u001b[33m    | def plot_fit(title):                     |\u001b[0m\n",
      "\u001b[1m\u001b[33m    |     global colors                        |\u001b[0m\n",
      "\u001b[1m\u001b[33m    |     plt.title(label=title)               |\u001b[0m\n",
      "\u001b[1m\u001b[33m    |     w1, b1 = get_params()                |\u001b[0m\n",
      "\u001b[1m\u001b[33m    |     X1 = np.array([-30, 30])             |\u001b[0m\n",
      "\u001b[1m\u001b[33m    |     y1 = w1 * X1 + b1                    |\u001b[0m\n",
      "\u001b[1m\u001b[33m    |     plt.plot(X1, y1, c=colors.pop(0))    |\u001b[0m\n",
      "\u001b[1m\u001b[33m    |     plt.scatter(X, y, c=colors.pop(0))   |\u001b[0m\n",
      "\u001b[1m\u001b[33m    +------------------------------------------+\u001b[0m\n"
     ]
    }
   ],
   "source": [
    "def get_params():\n",
    "    return (w[0][0].item(), b[0].item())\n",
    "\n",
    "\n",
    "def plot_fit(title):\n",
    "    global colors\n",
    "    plt.title(label=title)\n",
    "    w1, b1 = get_params()\n",
    "    X1 = np.array([-30, 30])\n",
    "    y1 = w1 * X1 + b1\n",
    "    plt.plot(X1, y1, c=colors.pop(0))\n",
    "    plt.scatter(X, y, c=colors.pop(0))\n",
    "\n",
    "\n",
    "tabulation = Form_Generator()\n",
    "tabulation.heading_printer(\"Definition of visualization function\")\n",
    "\n",
    "definition = \"\"\"\n",
    "def get_params():\n",
    "    return (w[0][0].item(), b[0].item())\n",
    "\n",
    "\n",
    "def plot_fit(title):\n",
    "    global colors\n",
    "    plt.title(label=title)\n",
    "    w1, b1 = get_params()\n",
    "    X1 = np.array([-30, 30])\n",
    "    y1 = w1 * X1 + b1\n",
    "    plt.plot(X1, y1, c=colors.pop(0))\n",
    "    plt.scatter(X, y, c=colors.pop(0))\n",
    "\"\"\"\n",
    "\n",
    "definitions = [definition]\n",
    "tabulation.definition_generator(definitions)"
   ]
  },
  {
   "cell_type": "code",
   "execution_count": 30,
   "id": "48d45bfd",
   "metadata": {
    "ExecuteTime": {
     "end_time": "2022-11-10T12:41:55.569834Z",
     "start_time": "2022-11-10T12:41:55.460529Z"
    },
    "scrolled": false
   },
   "outputs": [
    {
     "ename": "AttributeError",
     "evalue": "module 'matplotlib.pyplot' has no attribute 'set'",
     "output_type": "error",
     "traceback": [
      "\u001b[0;31m---------------------------------------------------------------------------\u001b[0m",
      "\u001b[0;31mAttributeError\u001b[0m                            Traceback (most recent call last)",
      "Cell \u001b[0;32mIn [30], line 7\u001b[0m\n\u001b[1;32m      4\u001b[0m plot_fit(\u001b[38;5;124m\"\u001b[39m\u001b[38;5;124mInitial Model\u001b[39m\u001b[38;5;124m\"\u001b[39m)\n\u001b[1;32m      5\u001b[0m plt\u001b[38;5;241m.\u001b[39mtitle(plt\u001b[38;5;241m.\u001b[39mgca()\u001b[38;5;241m.\u001b[39mget_title(), loc\u001b[38;5;241m=\u001b[39m\u001b[38;5;124m\"\u001b[39m\u001b[38;5;124mcenter\u001b[39m\u001b[38;5;124m\"\u001b[39m, pad\u001b[38;5;241m=\u001b[39m\u001b[38;5;241m15\u001b[39m)\n\u001b[0;32m----> 7\u001b[0m \u001b[43mplt\u001b[49m\u001b[38;5;241;43m.\u001b[39;49m\u001b[43mset\u001b[49m(xlabel\u001b[38;5;241m=\u001b[39m\u001b[38;5;124m\"\u001b[39m\u001b[38;5;124mX\u001b[39m\u001b[38;5;124m\"\u001b[39m, ylabel\u001b[38;5;241m=\u001b[39m\u001b[38;5;124m\"\u001b[39m\u001b[38;5;124my\u001b[39m\u001b[38;5;124m\"\u001b[39m)\n\u001b[1;32m      9\u001b[0m plt\u001b[38;5;241m.\u001b[39mshow()\n",
      "\u001b[0;31mAttributeError\u001b[0m: module 'matplotlib.pyplot' has no attribute 'set'"
     ]
    },
    {
     "data": {
      "image/png": "[encoded data removed]",
      "text/plain": [
       "<Figure size 800x450 with 1 Axes>"
      ]
     },
     "metadata": {},
     "output_type": "display_data"
    }
   ],
   "source": [
    "colors = calm_color_generator(2)\n",
    "plt.rcParams[\"figure.figsize\"] = (figure_size[0] / 2, figure_size[1] / 2)\n",
    "\n",
    "plot_fit(\"Initial Model\")\n",
    "plt.title(plt.gca().get_title(), loc=\"center\", pad=15)\n",
    "\n",
    "plt.set(xlabel=\"X\", ylabel=\"y\")\n",
    "\n",
    "plt.show()"
   ]
  },
  {
   "cell_type": "code",
   "execution_count": 29,
   "id": "c0b9324c",
   "metadata": {
    "ExecuteTime": {
     "end_time": "2022-11-10T12:41:12.383487Z",
     "start_time": "2022-11-10T12:41:12.219859Z"
    }
   },
   "outputs": [
    {
     "data": {
      "image/png": "[encoded data removed]",
      "text/plain": [
       "<Figure size 1600x450 with 2 Axes>"
      ]
     },
     "metadata": {},
     "output_type": "display_data"
    }
   ],
   "source": [
    "colors = calm_color_generator(4)\n",
    "plt.rcParams[\"figure.figsize\"] = (figure_size[0], figure_size[1] / 2)\n",
    "\n",
    "fig, axs = plt.subplots(1, 2, sharey=True)\n",
    "\n",
    "y = X + 3 * torch.randn(100, 1)\n",
    "plt.subplot(1, 2, 1)\n",
    "plot_fit(\"Initial model\")\n",
    "plt.title(axs[0].get_title(), loc=\"center\", pad=15)\n",
    "\n",
    "plt.subplot(1, 2, 2)\n",
    "X1 = np.array([X.min(), X.max()])\n",
    "y1 = np.array([y.min(), y.max()])\n",
    "plt.plot(X1, y1, c=colors.pop(0))\n",
    "plt.scatter(X, y, c=colors.pop(0))\n",
    "plt.title(label=\"Ideal model\")\n",
    "\n",
    "for ax in axs.flat:\n",
    "    ax.set(xlabel=\"X\", ylabel=\"y\")\n",
    "    ax.label_outer()\n",
    "\n",
    "fig.suptitle(\"Visual Comparison of Prediction Models\",\n",
    "             fontsize=\"x-large\",\n",
    "             x=0.5,\n",
    "             y=0)\n",
    "\n",
    "plt.tight_layout()\n",
    "plt.show()"
   ]
  },
  {
   "cell_type": "markdown",
   "id": "dace8ef2",
   "metadata": {
    "ExecuteTime": {
     "end_time": "2022-07-21T02:44:23.523234Z",
     "start_time": "2022-07-21T02:44:23.514722Z"
    }
   },
   "source": [
    "# Training - Code Implementation"
   ]
  },
  {
   "cell_type": "code",
   "execution_count": 25,
   "id": "44b28709",
   "metadata": {
    "ExecuteTime": {
     "end_time": "2022-11-10T12:39:43.299939Z",
     "start_time": "2022-11-10T12:39:43.297942Z"
    }
   },
   "outputs": [],
   "source": [
    "criterion = nn.MSELoss()\n",
    "optimizer = torch.optim.SGD(model.parameters(), lr=0.0002)"
   ]
  },
  {
   "cell_type": "code",
   "execution_count": 26,
   "id": "bffc2d3d",
   "metadata": {
    "ExecuteTime": {
     "end_time": "2022-11-10T12:39:43.302372Z",
     "start_time": "2022-11-10T12:39:43.300724Z"
    }
   },
   "outputs": [
    {
     "name": "stdout",
     "output_type": "stream",
     "text": [
      "MSELoss()\n"
     ]
    }
   ],
   "source": [
    "print(criterion)"
   ]
  },
  {
   "cell_type": "code",
   "execution_count": 27,
   "id": "9b55a6b1",
   "metadata": {
    "ExecuteTime": {
     "end_time": "2022-11-10T12:39:43.304698Z",
     "start_time": "2022-11-10T12:39:43.303238Z"
    }
   },
   "outputs": [
    {
     "name": "stdout",
     "output_type": "stream",
     "text": [
      "SGD (\n",
      "Parameter Group 0\n",
      "    dampening: 0\n",
      "    differentiable: False\n",
      "    foreach: None\n",
      "    lr: 0.0002\n",
      "    maximize: False\n",
      "    momentum: 0\n",
      "    nesterov: False\n",
      "    weight_decay: 0\n",
      ")\n"
     ]
    }
   ],
   "source": [
    "print(optimizer)"
   ]
  },
  {
   "cell_type": "code",
   "execution_count": 28,
   "id": "9567255f",
   "metadata": {
    "ExecuteTime": {
     "end_time": "2022-11-10T12:39:43.440226Z",
     "start_time": "2022-11-10T12:39:43.310236Z"
    }
   },
   "outputs": [
    {
     "ename": "NameError",
     "evalue": "name 'random' is not defined",
     "output_type": "error",
     "traceback": [
      "\u001b[0;31m---------------------------------------------------------------------------\u001b[0m",
      "\u001b[0;31mNameError\u001b[0m                                 Traceback (most recent call last)",
      "Cell \u001b[0;32mIn [28], line 6\u001b[0m\n\u001b[1;32m      2\u001b[0m losses \u001b[38;5;241m=\u001b[39m []\n\u001b[1;32m      3\u001b[0m termcolors \u001b[38;5;241m=\u001b[39m [\n\u001b[1;32m      4\u001b[0m     \u001b[38;5;124m\"\u001b[39m\u001b[38;5;124mgrey\u001b[39m\u001b[38;5;124m\"\u001b[39m, \u001b[38;5;124m\"\u001b[39m\u001b[38;5;124mred\u001b[39m\u001b[38;5;124m\"\u001b[39m, \u001b[38;5;124m\"\u001b[39m\u001b[38;5;124mgreen\u001b[39m\u001b[38;5;124m\"\u001b[39m, \u001b[38;5;124m\"\u001b[39m\u001b[38;5;124myellow\u001b[39m\u001b[38;5;124m\"\u001b[39m, \u001b[38;5;124m\"\u001b[39m\u001b[38;5;124mblue\u001b[39m\u001b[38;5;124m\"\u001b[39m, \u001b[38;5;124m\"\u001b[39m\u001b[38;5;124mmagenta\u001b[39m\u001b[38;5;124m\"\u001b[39m, \u001b[38;5;124m\"\u001b[39m\u001b[38;5;124mcyan\u001b[39m\u001b[38;5;124m\"\u001b[39m, \u001b[38;5;124m\"\u001b[39m\u001b[38;5;124mwhite\u001b[39m\u001b[38;5;124m\"\u001b[39m\n\u001b[1;32m      5\u001b[0m ]\n\u001b[0;32m----> 6\u001b[0m font_colors \u001b[38;5;241m=\u001b[39m \u001b[43mrandom\u001b[49m\u001b[38;5;241m.\u001b[39mchoices(termcolors, k\u001b[38;5;241m=\u001b[39m\u001b[38;5;241m2\u001b[39m)\n\u001b[1;32m      7\u001b[0m \u001b[38;5;28;01mfor\u001b[39;00m i \u001b[38;5;129;01min\u001b[39;00m \u001b[38;5;28mrange\u001b[39m(epochs):\n\u001b[1;32m      8\u001b[0m     i \u001b[38;5;241m+\u001b[39m\u001b[38;5;241m=\u001b[39m \u001b[38;5;241m1\u001b[39m\n",
      "\u001b[0;31mNameError\u001b[0m: name 'random' is not defined"
     ]
    }
   ],
   "source": [
    "epochs = 100\n",
    "losses = []\n",
    "termcolors = [\n",
    "    \"grey\", \"red\", \"green\", \"yellow\", \"blue\", \"magenta\", \"cyan\", \"white\"\n",
    "]\n",
    "font_colors = random.choices(termcolors, k=2)\n",
    "for i in range(epochs):\n",
    "    i += 1\n",
    "    y_pred = model.forward(X)\n",
    "    loss = criterion(y_pred, y)\n",
    "    if i == 1 or i % 10 == 0:\n",
    "        print(colored(\"epoch:\", font_colors[0], attrs=[\"bold\"]), i,\n",
    "              colored(\"loss:\", font_colors[1]), loss.item())\n",
    "        print(colored(\"weight:\", font_colors[1]),\n",
    "              list(model.parameters())[0][0][0].item(),\n",
    "              colored(\"bias:\", font_colors[1]),\n",
    "              list(model.parameters())[1][0].item())\n",
    "    losses.append(loss.item())\n",
    "    optimizer.zero_grad()\n",
    "    loss.backward()\n",
    "    optimizer.step()"
   ]
  },
  {
   "cell_type": "code",
   "execution_count": null,
   "id": "b5e61720",
   "metadata": {
    "ExecuteTime": {
     "end_time": "2022-11-10T12:39:43.873573Z",
     "start_time": "2022-11-10T12:39:43.873567Z"
    }
   },
   "outputs": [],
   "source": [
    "colors = calm_color_generator(1)\n",
    "plt.plot(range(epochs), losses, c=colors[0])\n",
    "plt.ylabel(\"Loss\")\n",
    "plt.xlabel(\"Epoch\")"
   ]
  },
  {
   "cell_type": "code",
   "execution_count": null,
   "id": "0870e46b",
   "metadata": {
    "ExecuteTime": {
     "end_time": "2022-11-10T12:39:43.874216Z",
     "start_time": "2022-11-10T12:39:43.874210Z"
    }
   },
   "outputs": [],
   "source": [
    "plot_fit(\"Trained Model\")"
   ]
  }
 ],
 "metadata": {
  "hide_input": false,
  "kernelspec": {
   "display_name": "Python 3 (ipykernel)",
   "language": "python",
   "name": "python3"
  },
  "language_info": {
   "codemirror_mode": {
    "name": "ipython",
    "version": 3
   },
   "file_extension": ".py",
   "mimetype": "text/x-python",
   "name": "python",
   "nbconvert_exporter": "python",
   "pygments_lexer": "ipython3",
   "version": "3.9.13"
  },
  "latex_envs": {
   "LaTeX_envs_menu_present": true,
   "autoclose": false,
   "autocomplete": true,
   "bibliofile": "biblio.bib",
   "cite_by": "apalike",
   "current_citInitial": 1,
   "eqLabelWithNumbers": true,
   "eqNumInitial": 1,
   "hotkeys": {
    "equation": "Ctrl-E",
    "itemize": "Ctrl-I"
   },
   "labels_anchors": false,
   "latex_user_defs": false,
   "report_style_numbering": false,
   "user_envs_cfg": false
  },
  "nbTranslate": {
   "displayLangs": [
    "*"
   ],
   "hotkey": "alt-t",
   "langInMainMenu": true,
   "sourceLang": "en",
   "targetLang": "fr",
   "useGoogleTranslate": true
  },
  "toc": {
   "base_numbering": 1,
   "nav_menu": {},
   "number_sections": true,
   "sideBar": true,
   "skip_h1_title": false,
   "title_cell": "Table of Contents",
   "title_sidebar": "Contents",
   "toc_cell": false,
   "toc_position": {
    "height": "calc(100% - 180px)",
    "left": "10px",
    "top": "150px",
    "width": "345.594px"
   },
   "toc_section_display": true,
   "toc_window_display": true
  },
  "varInspector": {
   "cols": {
    "lenName": 16,
    "lenType": 16,
    "lenVar": 40
   },
   "kernels_config": {
    "python": {
     "delete_cmd_postfix": "",
     "delete_cmd_prefix": "del ",
     "library": "var_list.py",
     "varRefreshCmd": "print(var_dic_list())"
    },
    "r": {
     "delete_cmd_postfix": ") ",
     "delete_cmd_prefix": "rm(",
     "library": "var_list.r",
     "varRefreshCmd": "cat(var_dic_list()) "
    }
   },
   "types_to_exclude": [
    "module",
    "function",
    "builtin_function_or_method",
    "instance",
    "_Feature"
   ],
   "window_display": false
  },
  "vscode": {
   "interpreter": {
    "hash": "4df6db6ee61ecce594abe4a5126666f3650dd9429b0086e59af8e3f897fc7111"
   }
  }
 },
 "nbformat": 4,
 "nbformat_minor": 5
}

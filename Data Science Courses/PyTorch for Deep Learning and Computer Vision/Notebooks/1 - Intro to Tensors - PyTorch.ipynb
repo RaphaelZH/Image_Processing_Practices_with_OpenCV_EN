{
 "cells": [
  {
   "cell_type": "markdown",
   "id": "a3414267",
   "metadata": {
    "hide_input": false
   },
   "source": [
    "# Importing Libraries"
   ]
  },
  {
   "cell_type": "code",
   "execution_count": 1,
   "id": "f180ba4e",
   "metadata": {
    "ExecuteTime": {
     "end_time": "2022-11-04T15:10:44.889526Z",
     "start_time": "2022-11-04T15:10:44.101876Z"
    },
    "hide_input": false
   },
   "outputs": [],
   "source": [
    "import torch\n",
    "\n",
    "import numpy as np\n",
    "\n",
    "import matplotlib as mpl\n",
    "import matplotlib.pyplot as plt\n",
    "\n",
    "import sys"
   ]
  },
  {
   "cell_type": "markdown",
   "id": "be31ad1b",
   "metadata": {},
   "source": [
    "# Configuring Visualization Parameters"
   ]
  },
  {
   "cell_type": "code",
   "execution_count": 2,
   "id": "06b9b4d6",
   "metadata": {
    "ExecuteTime": {
     "end_time": "2022-11-04T15:10:44.898416Z",
     "start_time": "2022-11-04T15:10:44.891332Z"
    },
    "hide_input": false
   },
   "outputs": [],
   "source": [
    "%matplotlib inline"
   ]
  },
  {
   "cell_type": "code",
   "execution_count": 3,
   "id": "83ba15ab",
   "metadata": {
    "ExecuteTime": {
     "end_time": "2022-11-04T15:10:44.901193Z",
     "start_time": "2022-11-04T15:10:44.899299Z"
    }
   },
   "outputs": [],
   "source": [
    "XINHUI = '#7a7374'\n",
    "XUEBAI = '#fffef9'\n",
    "YINBAI = '#f1f0ed'\n",
    "YINHUI = '#918072'\n",
    "\n",
    "figure_size = (16, 9)"
   ]
  },
  {
   "cell_type": "code",
   "execution_count": 4,
   "id": "de31803f",
   "metadata": {
    "ExecuteTime": {
     "end_time": "2022-11-04T15:10:44.904760Z",
     "start_time": "2022-11-04T15:10:44.902638Z"
    }
   },
   "outputs": [],
   "source": [
    "custom_params = {\n",
    "    'axes.axisbelow': True,\n",
    "    'axes.edgecolor': YINBAI,\n",
    "    'axes.facecolor': XUEBAI,\n",
    "    'axes.grid': True,\n",
    "    'axes.labelcolor': XINHUI,\n",
    "    'axes.spines.right': False,\n",
    "    'axes.spines.top': False,\n",
    "    'axes.titlecolor': XINHUI,\n",
    "    'figure.edgecolor': YINBAI,\n",
    "    'figure.facecolor': XUEBAI,\n",
    "    'grid.alpha': .8,\n",
    "    'grid.color': YINBAI,\n",
    "    'grid.linestyle': '--',\n",
    "    'grid.linewidth': 1.2,\n",
    "    'legend.edgecolor': YINHUI,\n",
    "    'patch.edgecolor': XUEBAI,\n",
    "    'patch.force_edgecolor': True,\n",
    "    'text.color': XINHUI,\n",
    "    'xtick.color': YINHUI,\n",
    "    'ytick.color': YINHUI,\n",
    "}\n",
    "\n",
    "mpl.rcParams.update(custom_params)"
   ]
  },
  {
   "cell_type": "markdown",
   "id": "b3f31405",
   "metadata": {},
   "source": [
    "# Pre-installing Custom Functions"
   ]
  },
  {
   "cell_type": "code",
   "execution_count": 5,
   "id": "d55fa0bc",
   "metadata": {
    "ExecuteTime": {
     "end_time": "2022-11-04T15:10:44.907419Z",
     "start_time": "2022-11-04T15:10:44.905851Z"
    }
   },
   "outputs": [],
   "source": [
    "sys.path.append('../')"
   ]
  },
  {
   "cell_type": "code",
   "execution_count": 6,
   "id": "5491b492",
   "metadata": {
    "ExecuteTime": {
     "end_time": "2022-11-04T15:10:44.911078Z",
     "start_time": "2022-11-04T15:10:44.908088Z"
    }
   },
   "outputs": [
    {
     "ename": "IndentationError",
     "evalue": "expected an indented block (Tabulation.py, line 42)",
     "output_type": "error",
     "traceback": [
      "Traceback \u001b[0;36m(most recent call last)\u001b[0m:\n",
      "\u001b[0m  File \u001b[1;32m~/Documents/GitHub/Udemy_Course_Learning_Outcomes_EN/venv-python3.9/lib/python3.9/site-packages/IPython/core/interactiveshell.py:3433\u001b[0m in \u001b[1;35mrun_code\u001b[0m\n    exec(code_obj, self.user_global_ns, self.user_ns)\u001b[0m\n",
      "\u001b[0m  Cell \u001b[1;32mIn [6], line 1\u001b[0m\n    from Modules import *\u001b[0m\n",
      "\u001b[0;36m  File \u001b[0;32m~/Documents/GitHub/Udemy_Course_Learning_Outcomes_EN/Data Science Courses/PyTorch for Deep Learning and Computer Vision/Notebooks/../Modules/__init__.py:2\u001b[0;36m\n\u001b[0;31m    from .Tabulation import *\u001b[0;36m\n",
      "\u001b[0;36m  File \u001b[0;32m~/Documents/GitHub/Udemy_Course_Learning_Outcomes_EN/Data Science Courses/PyTorch for Deep Learning and Computer Vision/Notebooks/../Modules/Tabulation.py:42\u001b[0;36m\u001b[0m\n\u001b[0;31m    def statement_generator(self, statements):\u001b[0m\n\u001b[0m    ^\u001b[0m\n\u001b[0;31mIndentationError\u001b[0m\u001b[0;31m:\u001b[0m expected an indented block\n"
     ]
    }
   ],
   "source": [
    "from Modules import *"
   ]
  },
  {
   "cell_type": "markdown",
   "id": "79c37e21",
   "metadata": {},
   "source": [
    "# Practicing in Stages\n",
    "\n",
    "## 1 Dimensional Tensors"
   ]
  },
  {
   "cell_type": "code",
   "execution_count": null,
   "id": "5451bd43",
   "metadata": {
    "ExecuteTime": {
     "end_time": "2022-11-04T15:10:44.914836Z",
     "start_time": "2022-11-04T15:10:44.914829Z"
    },
    "hide_input": false,
    "scrolled": true
   },
   "outputs": [],
   "source": [
    "v = torch.tensor([1, 2, 3, 4, 5, 6])\n",
    "\n",
    "tabulation = Form_Generator()\n",
    "tabulation.heading_printer(\"Default one-dimensional tensor\")\n",
    "\n",
    "statement_1 = \"v = torch.tensor([1, 2, 3, 4, 5, 6])\"\n",
    "statements = [statement_1]\n",
    "tabulation.statement_generator(statements)\n",
    "\n",
    "variables = [\"v\"]\n",
    "values = [str(v)]\n",
    "tabulation.variable_generator(variables, values)"
   ]
  },
  {
   "cell_type": "code",
   "execution_count": null,
   "id": "21bf37af",
   "metadata": {
    "ExecuteTime": {
     "end_time": "2022-11-04T15:10:44.915402Z",
     "start_time": "2022-11-04T15:10:44.915397Z"
    },
    "hide_input": false,
    "scrolled": true
   },
   "outputs": [],
   "source": [
    "tabulation = Form_Generator()\n",
    "tabulation.heading_printer(\"Basic information of default 1D tensor\")\n",
    "\n",
    "expressions = [\"v.dtype\", \"v.type()\", \"type(v)\", \"v.size()\"]\n",
    "results = [str(v.dtype), str(v.type()), str(type(v)), str(v.size())]\n",
    "tabulation.expression_generator(expressions, results)"
   ]
  },
  {
   "cell_type": "code",
   "execution_count": null,
   "id": "70f57438",
   "metadata": {
    "ExecuteTime": {
     "end_time": "2022-11-04T15:10:44.915908Z",
     "start_time": "2022-11-04T15:10:44.915902Z"
    },
    "hide_input": false,
    "scrolled": true
   },
   "outputs": [],
   "source": [
    "tabulation = Form_Generator()\n",
    "tabulation.heading_printer(\"Element selection of 1D tensor\")\n",
    "\n",
    "expressions = [\"v[0]\", \"v[-1]\"]\n",
    "results = [str(v[0]), str(v[-1])]\n",
    "tabulation.expression_generator(expressions, results)"
   ]
  },
  {
   "cell_type": "code",
   "execution_count": null,
   "id": "161d362e",
   "metadata": {
    "ExecuteTime": {
     "end_time": "2022-11-04T15:10:44.916391Z",
     "start_time": "2022-11-04T15:10:44.916385Z"
    },
    "hide_input": false,
    "scrolled": true
   },
   "outputs": [],
   "source": [
    "tabulation = Form_Generator()\n",
    "tabulation.heading_printer(\"Segment slicing of 1D tensor\")\n",
    "\n",
    "expressions = [\"v[1:-1]\", \"v[1::2]\"]\n",
    "results = [str(v[1:-1]), str(v[1::2])]\n",
    "tabulation.expression_generator(expressions, results)"
   ]
  },
  {
   "cell_type": "code",
   "execution_count": null,
   "id": "e98a3ec7",
   "metadata": {
    "ExecuteTime": {
     "end_time": "2022-11-04T15:10:44.916907Z",
     "start_time": "2022-11-04T15:10:44.916902Z"
    },
    "hide_input": false,
    "scrolled": true
   },
   "outputs": [],
   "source": [
    "f = torch.FloatTensor([1, 2, 3, 4, 5, 6])\n",
    "\n",
    "tabulation = Form_Generator()\n",
    "tabulation.heading_printer(\"Float one-dimensional tensor\")\n",
    "\n",
    "statement_1 = \"f = torch.FloatTensor([1, 2, 3, 4, 5, 6])\"\n",
    "statements = [statement_1]\n",
    "tabulation.statement_generator(statements)\n",
    "\n",
    "variables = [\"f\"]\n",
    "values = [str(f)]\n",
    "tabulation.variable_generator(variables, values)"
   ]
  },
  {
   "cell_type": "code",
   "execution_count": null,
   "id": "712d9b5f",
   "metadata": {
    "ExecuteTime": {
     "end_time": "2022-11-04T15:10:44.917508Z",
     "start_time": "2022-11-04T15:10:44.917501Z"
    },
    "hide_input": false
   },
   "outputs": [],
   "source": [
    "tabulation = Form_Generator()\n",
    "tabulation.heading_printer(\"Basic information of float 1D tensor\")\n",
    "\n",
    "expressions = [\"f.dtype\", \"f.type()\", \"type(f)\", \"f.size()\"]\n",
    "results = [str(f.dtype), str(f.type()), str(type(f)), str(f.size())]\n",
    "tabulation.expression_generator(expressions, results)"
   ]
  },
  {
   "cell_type": "code",
   "execution_count": null,
   "id": "1ea29818",
   "metadata": {
    "ExecuteTime": {
     "end_time": "2022-11-04T15:10:44.917962Z",
     "start_time": "2022-11-04T15:10:44.917957Z"
    },
    "hide_input": false
   },
   "outputs": [],
   "source": [
    "tabulation = Form_Generator()\n",
    "tabulation.heading_printer(\"Reshaping of 1D tensor\")\n",
    "\n",
    "expressions = [\n",
    "    \"v.view(6)\", \"v.view(1, 6)\", \"v.view(6, 1)\", \"v.view(3, 2)\",\n",
    "    \"v.view(3, -1)\"\n",
    "]\n",
    "results = [\n",
    "    str(v.view(6)),\n",
    "    str(v.view(1, 6)),\n",
    "    str(v.view(6, 1)),\n",
    "    str(v.view(3, 2)),\n",
    "    str(v.view(3, -1))\n",
    "]\n",
    "tabulation.expression_generator(expressions, results)"
   ]
  },
  {
   "cell_type": "code",
   "execution_count": null,
   "id": "556196c0",
   "metadata": {
    "ExecuteTime": {
     "end_time": "2022-11-04T15:10:44.918578Z",
     "start_time": "2022-11-04T15:10:44.918573Z"
    },
    "hide_input": false,
    "scrolled": false
   },
   "outputs": [],
   "source": [
    "a = np.array([1, 2, 3, 4, 5, 6])\n",
    "tensor_cnv = torch.from_numpy(a)\n",
    "numpy_cnv = tensor_cnv.numpy()\n",
    "\n",
    "tabulation = Form_Generator()\n",
    "tabulation.heading_printer(\"Conversion between array and tensor\")\n",
    "\n",
    "statement_1 = \"a = np.array([1, 2, 3, 4, 5, 6])\"\n",
    "statement_2 = \"tensor_cnv = torch.from_numpy(a)\"\n",
    "statement_3 = \"numpy_cnv = tensor_cnv.numpy()\"\n",
    "statements = [statement_1] + [statement_2] + [statement_3]\n",
    "tabulation.statement_generator(statements)\n",
    "\n",
    "variables = [\"a\", \"tensor_cnv\", \"numpy_cnv\"]\n",
    "values = [str(a), str(tensor_cnv), str(numpy_cnv)]\n",
    "tabulation.variable_generator(variables, values)\n",
    "\n",
    "expressions = [\n",
    "    \"tensor_cnv.dtype\", \"tensor_cnv.type()\", \"type(tensor_cnv)\",\n",
    "    \"numpy_cnv.dtype\", \"type(numpy_cnv)\"\n",
    "]\n",
    "results = [\n",
    "    str(tensor_cnv.dtype),\n",
    "    str(tensor_cnv.type()),\n",
    "    str(type(tensor_cnv)),\n",
    "    str(numpy_cnv.dtype),\n",
    "    str(type(numpy_cnv))\n",
    "]\n",
    "tabulation.expression_generator(expressions, results)"
   ]
  },
  {
   "cell_type": "markdown",
   "id": "a3b406bf",
   "metadata": {},
   "source": [
    "## Vector Operations"
   ]
  },
  {
   "cell_type": "code",
   "execution_count": null,
   "id": "106b1697",
   "metadata": {
    "ExecuteTime": {
     "end_time": "2022-11-04T15:10:44.919088Z",
     "start_time": "2022-11-04T15:10:44.919083Z"
    }
   },
   "outputs": [],
   "source": [
    "t_one = torch.tensor([1, 2, 3])\n",
    "t_two = torch.tensor([1, 2, 3])\n",
    "\n",
    "tabulation = Form_Generator()\n",
    "tabulation.heading_printer(\"Original tensors\")\n",
    "\n",
    "statement_1 = \"t_one = torch.tensor([1, 2, 3])\"\n",
    "statement_2 = \"t_two = torch.tensor([1, 2, 3])\"\n",
    "statements = [statement_1] + [statement_2]\n",
    "tabulation.statement_generator(statements)\n",
    "\n",
    "variables = [\"t_one\", \"t_two\"]\n",
    "values = [str(t_one), str(t_two)]\n",
    "tabulation.variable_generator(variables, values)"
   ]
  },
  {
   "cell_type": "code",
   "execution_count": null,
   "id": "cc1136ef",
   "metadata": {
    "ExecuteTime": {
     "end_time": "2022-11-04T15:10:44.919534Z",
     "start_time": "2022-11-04T15:10:44.919529Z"
    }
   },
   "outputs": [],
   "source": [
    "tabulation = Form_Generator()\n",
    "tabulation.heading_printer(\"Simple operations\")\n",
    "\n",
    "expressions = [\n",
    "    \"t_one + t_two\", \"t_one - t_two\", \"t_one * t_two\", \"t_one / t_two\",\n",
    "    \"t_one * 5\"\n",
    "]\n",
    "results = [\n",
    "    str(t_one + t_two),\n",
    "    str(t_one - t_two),\n",
    "    str(t_one * t_two),\n",
    "    str(t_one / t_two),\n",
    "    str(t_one * 5)\n",
    "]\n",
    "tabulation.expression_generator(expressions, results)"
   ]
  },
  {
   "cell_type": "code",
   "execution_count": null,
   "id": "61b8080c",
   "metadata": {
    "ExecuteTime": {
     "end_time": "2022-11-04T15:10:44.919982Z",
     "start_time": "2022-11-04T15:10:44.919977Z"
    }
   },
   "outputs": [],
   "source": [
    "dot_product = torch.dot(t_one, t_two)\n",
    "\n",
    "tabulation = Form_Generator()\n",
    "tabulation.heading_printer(\"Dot product of tensors\")\n",
    "\n",
    "statement_1 = \"dot_product = torch.dot(t_one, t_two)\"\n",
    "statements = [statement_1]\n",
    "tabulation.statement_generator(statements)\n",
    "\n",
    "variables = [\"dot_product\"]\n",
    "values = [str(dot_product)]\n",
    "tabulation.variable_generator(variables, values)"
   ]
  },
  {
   "cell_type": "code",
   "execution_count": null,
   "id": "aad1fef4",
   "metadata": {
    "ExecuteTime": {
     "end_time": "2022-11-04T15:10:44.920342Z",
     "start_time": "2022-11-04T15:10:44.920337Z"
    }
   },
   "outputs": [],
   "source": [
    "x = torch.linspace(0, 10, 5)\n",
    "\n",
    "tabulation = Form_Generator()\n",
    "tabulation.heading_printer(\"Creating arithmetic sequence in 1D tensor\")\n",
    "\n",
    "statement_1 = \"x = torch.linspace(0, 10, 5)\"\n",
    "statements = [statement_1]\n",
    "tabulation.statement_generator(statements)\n",
    "\n",
    "variables = [\"x\"]\n",
    "values = [str(x)]\n",
    "tabulation.variable_generator(variables, values)"
   ]
  },
  {
   "cell_type": "code",
   "execution_count": null,
   "id": "58513447",
   "metadata": {
    "ExecuteTime": {
     "end_time": "2022-11-04T15:10:44.920927Z",
     "start_time": "2022-11-04T15:10:44.920922Z"
    }
   },
   "outputs": [],
   "source": [
    "y = torch.exp(x)\n",
    "\n",
    "tabulation = Form_Generator()\n",
    "tabulation.heading_printer(\"Exponentiation of tensor elements\")\n",
    "\n",
    "statement_1 = \"y = torch.exp(x)\"\n",
    "statements = [statement_1]\n",
    "tabulation.statement_generator(statements)\n",
    "\n",
    "variables = [\"y\"]\n",
    "values = [str(y)]\n",
    "tabulation.variable_generator(variables, values)"
   ]
  },
  {
   "cell_type": "code",
   "execution_count": null,
   "id": "47f4512a",
   "metadata": {
    "ExecuteTime": {
     "end_time": "2022-11-04T15:10:44.921441Z",
     "start_time": "2022-11-04T15:10:44.921436Z"
    }
   },
   "outputs": [],
   "source": [
    "colors = calm_color_generator(2)\n",
    "plt.rcParams['figure.figsize'] = (figure_size[0], figure_size[1] / 2)\n",
    "\n",
    "fig, axs = plt.subplots(1, 2, sharey=True)\n",
    "\n",
    "x_1 = torch.linspace(0, 10, 5)\n",
    "y_1 = torch.exp(x_1)\n",
    "axs[0].plot(x_1.numpy(), y_1.numpy(), c=colors.pop(0))\n",
    "axs[0].set_title(\"Arithmetic sequence of 5 elements\", loc='center', pad=15)\n",
    "\n",
    "x_2 = torch.linspace(0, 10, 100)\n",
    "y_2 = torch.exp(x_2)\n",
    "axs[1].plot(x_2.numpy(), y_2.numpy(), c=colors.pop(0))\n",
    "axs[1].set_title(\"Arithmetic sequence of 100 elements\", loc='center', pad=15)\n",
    "\n",
    "for ax in axs.flat:\n",
    "    ax.set(xlabel=\"arithmetic sequence\", ylabel=\"result of exponentiation\")\n",
    "    ax.tick_params(axis='y', labelrotation=90)\n",
    "    ax.label_outer()\n",
    "\n",
    "fig.suptitle(\"Visual Comparison of Exponentiation\",\n",
    "             fontsize='x-large',\n",
    "             x=0.5,\n",
    "             y=0)\n",
    "\n",
    "plt.tight_layout()\n",
    "plt.show()"
   ]
  },
  {
   "cell_type": "code",
   "execution_count": null,
   "id": "c22d66b9",
   "metadata": {
    "ExecuteTime": {
     "end_time": "2022-11-04T15:10:44.922039Z",
     "start_time": "2022-11-04T15:10:44.922034Z"
    }
   },
   "outputs": [],
   "source": [
    "def csc(x):\n",
    "    return 1 / torch.sin(x)\n",
    "\n",
    "\n",
    "def sec(x):\n",
    "    return 1 / torch.cos(x)\n",
    "\n",
    "\n",
    "def cot(x):\n",
    "    return 1 / torch.tan(x)\n",
    "\n",
    "\n",
    "colors = calm_color_generator(6)\n",
    "plt.rcParams['figure.figsize'] = (figure_size[0], figure_size[1] / 2 * 3)\n",
    "\n",
    "value_list_1 = [0, torch.pi, 2 * torch.pi, 3 * torch.pi]\n",
    "value_list_2 = [i - .5 * torch.pi for i in value_list_1][1:]\n",
    "color_list_1 = calm_color_generator(4)\n",
    "color_list_2 = calm_color_generator(3)\n",
    "label_list_1 = ['0 π', '1 π', '2 π', '3 π']\n",
    "label_list_2 = ['0.5 π', '1.5 π', '2.5 π']\n",
    "\n",
    "fig, axs = plt.subplots(3, 2, sharex=True)\n",
    "\n",
    "x = torch.linspace(0, 10, 100)\n",
    "y_1 = torch.sin(x)\n",
    "axs[0, 0].plot(x.numpy(), y_1.numpy(), c=colors.pop(0))\n",
    "axs[0, 0].set_title(\"sine = opposite / hypotenuse\", loc='center', pad=15)\n",
    "\n",
    "y_2 = csc(x)\n",
    "axs[0, 1].plot(x.numpy(), y_2.numpy(), c=colors.pop(0))\n",
    "axs[0, 1].set_title(\"cosecant = hypotenuse / opposite\", loc='center', pad=15)\n",
    "\n",
    "y_3 = torch.cos(x)\n",
    "axs[1, 0].plot(x.numpy(), y_3.numpy(), c=colors.pop(0))\n",
    "axs[1, 0].set_title(\"cosine = adjacent / hypotenuse\", loc='center', pad=15)\n",
    "\n",
    "y_4 = sec(x)\n",
    "axs[1, 1].plot(x.numpy(), y_4.numpy(), c=colors.pop(0))\n",
    "axs[1, 1].set_title(\"secant = hypotenuse / adjacent\", loc='center', pad=15)\n",
    "\n",
    "y_5 = torch.tan(x)\n",
    "axs[2, 0].plot(x.numpy(), y_5.numpy(), c=colors.pop(0))\n",
    "axs[2, 0].set_title(\"tangent = opposite / adjacent\", loc='center', pad=15)\n",
    "\n",
    "y_6 = cot(x)\n",
    "axs[2, 1].plot(x.numpy(), y_6.numpy(), c=colors.pop(0))\n",
    "axs[2, 1].set_title(\"cotangent = adjacent / opposite\", loc='center', pad=15)\n",
    "\n",
    "for ax in axs.flat:\n",
    "    ax.set(xlabel=\"arithmetic sequence\", ylabel='result of trigonometry')\n",
    "    for x, c, label in zip(value_list_1, color_list_1, label_list_1):\n",
    "        ax.axvline(x=x,\n",
    "                   c=c,\n",
    "                   label=label,\n",
    "                   alpha=.2,\n",
    "                   linestyle='--',\n",
    "                   linewidth=3)\n",
    "    for x, c, label in zip(value_list_2, color_list_2, label_list_2):\n",
    "        ax.axvline(x=x, c=c, label=label, alpha=.2, linestyle=':', linewidth=3)\n",
    "\n",
    "fig.suptitle('Visual Comparison of Trigonometry',\n",
    "             fontsize='x-large',\n",
    "             x=0.5,\n",
    "             y=0)\n",
    "\n",
    "plt.legend(loc='lower right', borderpad=1, ncol=2)\n",
    "plt.tight_layout()\n",
    "plt.show()"
   ]
  },
  {
   "cell_type": "markdown",
   "id": "456a11d9",
   "metadata": {},
   "source": [
    "## 2 Dimensional Tensors"
   ]
  },
  {
   "cell_type": "code",
   "execution_count": null,
   "id": "93ad29d3",
   "metadata": {
    "ExecuteTime": {
     "end_time": "2022-11-04T15:10:44.922596Z",
     "start_time": "2022-11-04T15:10:44.922591Z"
    }
   },
   "outputs": [],
   "source": [
    "one_d = torch.arange(2, 7)\n",
    "\n",
    "tabulation = Form_Generator()\n",
    "tabulation.heading_printer(\"Creation of 1D tensor from defined interval\")\n",
    "\n",
    "statement_1 = \"one_d = torch.arange(2, 7)\"\n",
    "statements = [statement_1]\n",
    "tabulation.statement_generator(statements)\n",
    "\n",
    "variables = [\"one_d\"]\n",
    "values = [str(one_d)]\n",
    "tabulation.variable_generator(variables, values)"
   ]
  },
  {
   "cell_type": "code",
   "execution_count": null,
   "id": "3bdf5948",
   "metadata": {
    "ExecuteTime": {
     "end_time": "2022-11-04T15:10:44.923165Z",
     "start_time": "2022-11-04T15:10:44.923160Z"
    }
   },
   "outputs": [],
   "source": [
    "one_d = torch.arange(2, 7, 2)\n",
    "\n",
    "tabulation = Form_Generator()\n",
    "tabulation.heading_printer(\n",
    "    \"Creation of 1D tensor from defined interval and difference\")\n",
    "\n",
    "statement_1 = \"one_d = torch.arange(2, 7, 2)\"\n",
    "statements = [statement_1]\n",
    "tabulation.statement_generator(statements)\n",
    "\n",
    "variables = [\"one_d\"]\n",
    "values = [str(one_d)]\n",
    "tabulation.variable_generator(variables, values)"
   ]
  },
  {
   "cell_type": "code",
   "execution_count": null,
   "id": "c0ad5673",
   "metadata": {
    "ExecuteTime": {
     "end_time": "2022-11-04T15:10:44.923691Z",
     "start_time": "2022-11-04T15:10:44.923686Z"
    }
   },
   "outputs": [],
   "source": [
    "one_d = torch.arange(0, 9)\n",
    "two_d = one_d.view(3, 3)\n",
    "\n",
    "tabulation = Form_Generator()\n",
    "tabulation.heading_printer(\"Creation of 2D tensor from 1D tensor\")\n",
    "\n",
    "statement_1 = \"one_d = torch.arange(0, 9)\"\n",
    "statement_2 = \"two_d = one_d.view(3, 3)\"\n",
    "statements = [statement_1] + [statement_2]\n",
    "tabulation.statement_generator(statements)\n",
    "\n",
    "variables = [\"one_d\", \"two_d\"]\n",
    "values = [str(one_d), str(two_d)]\n",
    "tabulation.variable_generator(variables, values)\n",
    "\n",
    "expressions = [\"one_d.dim()\", \"two_d.dim()\"]\n",
    "results = [str(one_d.dim()), str(two_d.dim())]\n",
    "tabulation.expression_generator(expressions, results)"
   ]
  },
  {
   "cell_type": "code",
   "execution_count": null,
   "id": "9d5c54f1",
   "metadata": {
    "ExecuteTime": {
     "end_time": "2022-11-04T15:10:44.924230Z",
     "start_time": "2022-11-04T15:10:44.924224Z"
    }
   },
   "outputs": [],
   "source": [
    "tabulation = Form_Generator()\n",
    "tabulation.heading_printer(\"Element selection of 2D tensor\")\n",
    "\n",
    "expressions = [\"two_d[0, 0]\", \"two_d[1, 2]\", \"two_d[-2, -1]\"]\n",
    "results = [str(two_d[0, 0]), str(two_d[1, 2]), str(two_d[-2, -1])]\n",
    "tabulation.expression_generator(expressions, results)"
   ]
  },
  {
   "cell_type": "code",
   "execution_count": null,
   "id": "6769a7fd",
   "metadata": {
    "ExecuteTime": {
     "end_time": "2022-11-04T15:10:44.924746Z",
     "start_time": "2022-11-04T15:10:44.924741Z"
    }
   },
   "outputs": [],
   "source": [
    "tabulation = Form_Generator()\n",
    "tabulation.heading_printer(\"Segment slicing of 2D tensor\")\n",
    "\n",
    "expressions = [\n",
    "    \"two_d[0]\", \"two_d[0, ]\", \"two_d[:, 0]\", \"two_d[:-1, ]\", \"two_d[:, ::2]\"\n",
    "]\n",
    "results = [\n",
    "    str(two_d[0]),\n",
    "    str(two_d[0, ]),\n",
    "    str(two_d[:, 0]),\n",
    "    str(two_d[:-1, ]),\n",
    "    str(two_d[:, ::2])\n",
    "]\n",
    "tabulation.expression_generator(expressions, results)"
   ]
  },
  {
   "cell_type": "code",
   "execution_count": null,
   "id": "697f12ac",
   "metadata": {
    "ExecuteTime": {
     "end_time": "2022-11-04T15:10:44.925184Z",
     "start_time": "2022-11-04T15:10:44.925179Z"
    }
   },
   "outputs": [],
   "source": [
    "three_d_1 = torch.arange(18).view(2, 3, 3)\n",
    "three_d_2 = torch.arange(18).view(3, 2, 3)\n",
    "three_d_3 = torch.arange(18).view(3, 3, 2)\n",
    "\n",
    "tabulation = Form_Generator()\n",
    "tabulation.heading_printer(\"Creation of 3D tensor from 1D tensor\")\n",
    "\n",
    "statement_1 = \"three_d_1 = torch.arange(18).view(2, 3, 3)\"\n",
    "statement_2 = \"three_d_2 = torch.arange(18).view(3, 2, 3)\"\n",
    "statement_3 = \"three_d_3 = torch.arange(18).view(3, 3, 2)\"\n",
    "statements = [statement_1] + [statement_2] + [statement_3]\n",
    "tabulation.statement_generator(statements)\n",
    "\n",
    "variables = [\"three_d_1\", \"three_d_2\", \"three_d_3\"]\n",
    "values = [str(three_d_1), str(three_d_2), str(three_d_3)]\n",
    "tabulation.variable_generator(variables, values)\n",
    "\n",
    "expressions = [\n",
    "    \"three_d_2.size()\", \"three_d_2.size(dim=0)\", \"three_d_2.size(dim=1)\",\n",
    "    \"three_d_2.size(dim=2)\", \"three_d_2.dim()\"\n",
    "]\n",
    "results = [\n",
    "    str(three_d_2.size()),\n",
    "    str(three_d_2.size(dim=0)),\n",
    "    str(three_d_2.size(dim=1)),\n",
    "    str(three_d_2.size(dim=2)),\n",
    "    str(three_d_2.dim()),\n",
    "]\n",
    "tabulation.expression_generator(expressions, results)"
   ]
  },
  {
   "cell_type": "markdown",
   "id": "e06e0781",
   "metadata": {},
   "source": [
    "## Slicing 3D Tensors"
   ]
  },
  {
   "cell_type": "code",
   "execution_count": null,
   "id": "bc0a47d6",
   "metadata": {
    "ExecuteTime": {
     "end_time": "2022-11-04T15:10:44.925698Z",
     "start_time": "2022-11-04T15:10:44.925693Z"
    }
   },
   "outputs": [],
   "source": [
    "tabulation = Form_Generator()\n",
    "tabulation.heading_printer(\"Element selection of 3D tensor\")\n",
    "\n",
    "expressions = [\n",
    "    \"three_d_1[1, 1, 1]\", \"three_d_2[1, 1, 1]\", \"three_d_3[1, 1, 1]\"\n",
    "]\n",
    "results = [\n",
    "    str(three_d_1[1, 1, 1]),\n",
    "    str(three_d_2[1, 1, 1]),\n",
    "    str(three_d_3[1, 1, 1])\n",
    "]\n",
    "tabulation.expression_generator(expressions, results)"
   ]
  },
  {
   "cell_type": "code",
   "execution_count": null,
   "id": "82dd6946",
   "metadata": {
    "ExecuteTime": {
     "end_time": "2022-11-04T15:10:44.926207Z",
     "start_time": "2022-11-04T15:10:44.926202Z"
    }
   },
   "outputs": [],
   "source": [
    "tabulation = Form_Generator()\n",
    "tabulation.heading_printer(\"Segment slicing of 3D tensor\")\n",
    "\n",
    "expressions = [\n",
    "    \"three_d_2[1]\", \"three_d_2[1, :, :]\", \"three_d_2[:, :-1, :]\",\n",
    "    \"three_d_2[:, :, ::2]\"\n",
    "]\n",
    "results = [\n",
    "    str(three_d_2[1]),\n",
    "    str(three_d_2[1, :, :]),\n",
    "    str(three_d_2[:, :-1, :]),\n",
    "    str(three_d_2[:, :, ::2])\n",
    "]\n",
    "tabulation.expression_generator(expressions, results)"
   ]
  },
  {
   "cell_type": "markdown",
   "id": "7031e274",
   "metadata": {},
   "source": [
    "## Matrix Multiplication"
   ]
  },
  {
   "cell_type": "code",
   "execution_count": null,
   "id": "2262df4b",
   "metadata": {
    "ExecuteTime": {
     "end_time": "2022-11-04T15:10:44.926934Z",
     "start_time": "2022-11-04T15:10:44.926929Z"
    }
   },
   "outputs": [],
   "source": [
    "mat_a = torch.tensor([0, 3, 5, 5, 5, 2]).view(2, 3)\n",
    "mat_b = torch.tensor([3, 4, 3, -2, 4, -2]).view(3, 2)\n",
    "\n",
    "tabulation = Form_Generator()\n",
    "tabulation.heading_printer(\"Matrix multiplication of tensors\")\n",
    "\n",
    "statement_1 = \"mat_a = torch.tensor([0, 3, 5, 5, 5, 2]).view(2, 3)\"\n",
    "statement_2 = \"mat_b = torch.tensor([3, 4, 3, -2, 4, -2]).view(3, 2)\"\n",
    "statements = [statement_1] + [statement_2]\n",
    "tabulation.statement_generator(statements)\n",
    "\n",
    "variables = [\"mat_a\", \"mat_b\"]\n",
    "values = [str(mat_a), str(mat_b)]\n",
    "tabulation.variable_generator(variables, values)\n",
    "\n",
    "expressions = [\"torch.matmul(mat_a, mat_b)\", \"mat_a @ mat_b\"]\n",
    "results = [str(torch.matmul(mat_a, mat_b)), str(mat_a @ mat_b)]\n",
    "tabulation.expression_generator(expressions, results)"
   ]
  },
  {
   "cell_type": "markdown",
   "id": "fa079f32",
   "metadata": {},
   "source": [
    "## Gradient with PyTorch"
   ]
  },
  {
   "cell_type": "code",
   "execution_count": null,
   "id": "8ce04990",
   "metadata": {
    "ExecuteTime": {
     "end_time": "2022-11-04T15:10:44.927460Z",
     "start_time": "2022-11-04T15:10:44.927454Z"
    }
   },
   "outputs": [],
   "source": [
    "x = torch.tensor(2.0, requires_grad=True)\n",
    "y = 9 * x**4 + 2 * x**3 + 3 * x**2 + 6 * x + 1\n",
    "y.backward()\n",
    "\n",
    "tabulation = Form_Generator()\n",
    "tabulation.heading_printer(\"Calculation of total derivative\")\n",
    "\n",
    "statement_1 = \"x = torch.tensor(2.0, requires_grad=True)\"\n",
    "statement_2 = \"y = 9 * x**4 + 2 * x**3 + 3 * x**2 + 6 * x + 1\"\n",
    "statement_3 = \"y.backward()\"\n",
    "statements = [statement_1] + [statement_2] + [statement_3]\n",
    "tabulation.statement_generator(statements)\n",
    "\n",
    "variables = [\"x\", \"y\"]\n",
    "values = [str(x), str(y)]\n",
    "tabulation.variable_generator(variables, values)\n",
    "\n",
    "expressions = [\"x.grad\"]\n",
    "results = [str(x.grad)]\n",
    "tabulation.expression_generator(expressions, results)"
   ]
  },
  {
   "cell_type": "code",
   "execution_count": null,
   "id": "6f4fd9fb",
   "metadata": {
    "ExecuteTime": {
     "end_time": "2022-11-04T15:10:44.928198Z",
     "start_time": "2022-11-04T15:10:44.928193Z"
    }
   },
   "outputs": [],
   "source": [
    "x = torch.tensor(1.0, requires_grad=True)\n",
    "z = torch.tensor(2.0, requires_grad=True)\n",
    "y = x**2 + z**3\n",
    "y.backward()\n",
    "\n",
    "tabulation = Form_Generator()\n",
    "tabulation.heading_printer(\"Calculation of partial derivative\")\n",
    "\n",
    "statement_1 = \"x = torch.tensor(1.0, requires_grad=True)\"\n",
    "statement_2 = \"z = torch.tensor(2.0, requires_grad=True)\"\n",
    "statement_3 = \"y = x**2 + z**3\"\n",
    "statement_4 = \"y.backward()\"\n",
    "statements = [statement_1] + [statement_2] + [statement_3] + [statement_4]\n",
    "tabulation.statement_generator(statements)\n",
    "\n",
    "variables = [\"x\", \"z\", \"y\"]\n",
    "values = [str(x), str(z), str(y)]\n",
    "tabulation.variable_generator(variables, values)\n",
    "\n",
    "expressions = [\"x.grad\", \"z.grad\"]\n",
    "results = [str(x.grad), str(z.grad)]\n",
    "tabulation.expression_generator(expressions, results)"
   ]
  }
 ],
 "metadata": {
  "hide_input": false,
  "kernelspec": {
   "display_name": "Python 3 (ipykernel)",
   "language": "python",
   "name": "python3"
  },
  "language_info": {
   "codemirror_mode": {
    "name": "ipython",
    "version": 3
   },
   "file_extension": ".py",
   "mimetype": "text/x-python",
   "name": "python",
   "nbconvert_exporter": "python",
   "pygments_lexer": "ipython3",
   "version": "3.9.13"
  },
  "latex_envs": {
   "LaTeX_envs_menu_present": true,
   "autoclose": false,
   "autocomplete": true,
   "bibliofile": "biblio.bib",
   "cite_by": "apalike",
   "current_citInitial": 1,
   "eqLabelWithNumbers": true,
   "eqNumInitial": 1,
   "hotkeys": {
    "equation": "Ctrl-E",
    "itemize": "Ctrl-I"
   },
   "labels_anchors": false,
   "latex_user_defs": false,
   "report_style_numbering": false,
   "user_envs_cfg": false
  },
  "nbTranslate": {
   "displayLangs": [
    "*"
   ],
   "hotkey": "alt-t",
   "langInMainMenu": true,
   "sourceLang": "en",
   "targetLang": "fr",
   "useGoogleTranslate": true
  },
  "toc": {
   "base_numbering": 1,
   "nav_menu": {},
   "number_sections": true,
   "sideBar": true,
   "skip_h1_title": false,
   "title_cell": "Table of Contents",
   "title_sidebar": "Contents",
   "toc_cell": false,
   "toc_position": {
    "height": "716px",
    "left": "51px",
    "top": "180px",
    "width": "345.594px"
   },
   "toc_section_display": false,
   "toc_window_display": true
  },
  "varInspector": {
   "cols": {
    "lenName": 16,
    "lenType": 16,
    "lenVar": 40
   },
   "kernels_config": {
    "python": {
     "delete_cmd_postfix": "",
     "delete_cmd_prefix": "del ",
     "library": "var_list.py",
     "varRefreshCmd": "print(var_dic_list())"
    },
    "r": {
     "delete_cmd_postfix": ") ",
     "delete_cmd_prefix": "rm(",
     "library": "var_list.r",
     "varRefreshCmd": "cat(var_dic_list()) "
    }
   },
   "types_to_exclude": [
    "module",
    "function",
    "builtin_function_or_method",
    "instance",
    "_Feature"
   ],
   "window_display": false
  },
  "vscode": {
   "interpreter": {
    "hash": "4df6db6ee61ecce594abe4a5126666f3650dd9429b0086e59af8e3f897fc7111"
   }
  }
 },
 "nbformat": 4,
 "nbformat_minor": 5
}

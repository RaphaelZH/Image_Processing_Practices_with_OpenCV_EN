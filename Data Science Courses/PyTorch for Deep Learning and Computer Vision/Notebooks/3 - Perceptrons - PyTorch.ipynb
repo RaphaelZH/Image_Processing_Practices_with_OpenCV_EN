{
 "cells": [
  {
   "cell_type": "markdown",
   "id": "9f6c4e1c",
   "metadata": {},
   "source": [
    "# Importing Libraries"
   ]
  },
  {
   "cell_type": "code",
   "execution_count": 1,
   "id": "f04cab30",
   "metadata": {
    "ExecuteTime": {
     "end_time": "2022-12-06T22:42:03.941629Z",
     "start_time": "2022-12-06T22:42:02.686514Z"
    }
   },
   "outputs": [],
   "source": [
    "import torch\n",
    "from torch import nn\n",
    "\n",
    "#import numpy as np\n",
    "\n",
    "from sklearn import datasets\n",
    "\n",
    "import matplotlib as mpl\n",
    "import matplotlib.pyplot as plt\n",
    "\n",
    "import reprlib\n",
    "import sys"
   ]
  },
  {
   "cell_type": "markdown",
   "id": "489034ab",
   "metadata": {},
   "source": [
    "# Configuring Visualization Parameters"
   ]
  },
  {
   "cell_type": "code",
   "execution_count": 2,
   "id": "60d0de65",
   "metadata": {
    "ExecuteTime": {
     "end_time": "2022-12-06T22:42:03.952409Z",
     "start_time": "2022-12-06T22:42:03.944308Z"
    }
   },
   "outputs": [],
   "source": [
    "%matplotlib inline"
   ]
  },
  {
   "cell_type": "code",
   "execution_count": 3,
   "id": "851a5125",
   "metadata": {
    "ExecuteTime": {
     "end_time": "2022-12-06T22:42:03.956672Z",
     "start_time": "2022-12-06T22:42:03.955067Z"
    }
   },
   "outputs": [],
   "source": [
    "XINHUI = \"#7a7374\"\n",
    "XUEBAI = \"#fffef9\"\n",
    "YINBAI = \"#f1f0ed\"\n",
    "YINHUI = \"#918072\"\n",
    "\n",
    "figure_size = (16, 9)"
   ]
  },
  {
   "cell_type": "code",
   "execution_count": 4,
   "id": "45aebb9a",
   "metadata": {
    "ExecuteTime": {
     "end_time": "2022-12-06T22:42:03.959932Z",
     "start_time": "2022-12-06T22:42:03.957536Z"
    }
   },
   "outputs": [],
   "source": [
    "custom_params = {\n",
    "    \"axes.axisbelow\": True,\n",
    "    \"axes.edgecolor\": YINBAI,\n",
    "    \"axes.facecolor\": XUEBAI,\n",
    "    \"axes.grid\": True,\n",
    "    \"axes.labelcolor\": XINHUI,\n",
    "    \"axes.spines.right\": False,\n",
    "    \"axes.spines.top\": False,\n",
    "    \"axes.titlecolor\": XINHUI,\n",
    "    \"figure.edgecolor\": YINBAI,\n",
    "    \"figure.facecolor\": XUEBAI,\n",
    "    \"grid.alpha\": .8,\n",
    "    \"grid.color\": YINBAI,\n",
    "    \"grid.linestyle\": \"--\",\n",
    "    \"grid.linewidth\": 1.2,\n",
    "    \"legend.edgecolor\": YINHUI,\n",
    "    \"patch.edgecolor\": XUEBAI,\n",
    "    \"patch.force_edgecolor\": True,\n",
    "    \"text.color\": XINHUI,\n",
    "    \"xtick.color\": YINHUI,\n",
    "    \"ytick.color\": YINHUI,\n",
    "}\n",
    "\n",
    "mpl.rcParams.update(custom_params)"
   ]
  },
  {
   "cell_type": "markdown",
   "id": "9789139b",
   "metadata": {},
   "source": [
    "# Configuring Other Notebook Parameters"
   ]
  },
  {
   "cell_type": "code",
   "execution_count": 5,
   "id": "5d13b5a9",
   "metadata": {
    "ExecuteTime": {
     "end_time": "2022-12-06T22:42:03.962737Z",
     "start_time": "2022-12-06T22:42:03.960884Z"
    }
   },
   "outputs": [],
   "source": [
    "reprlib_rules = reprlib.Repr()\n",
    "reprlib_rules.maxother = 250"
   ]
  },
  {
   "cell_type": "markdown",
   "id": "0534ade7",
   "metadata": {},
   "source": [
    "# Pre-installing Custom Functions"
   ]
  },
  {
   "cell_type": "code",
   "execution_count": 6,
   "id": "456e917c",
   "metadata": {
    "ExecuteTime": {
     "end_time": "2022-12-06T22:42:03.965211Z",
     "start_time": "2022-12-06T22:42:03.963665Z"
    }
   },
   "outputs": [],
   "source": [
    "sys.path.append(\"../\")"
   ]
  },
  {
   "cell_type": "code",
   "execution_count": 7,
   "id": "0c37e4f3",
   "metadata": {
    "ExecuteTime": {
     "end_time": "2022-12-06T22:42:04.122192Z",
     "start_time": "2022-12-06T22:42:03.966190Z"
    }
   },
   "outputs": [],
   "source": [
    "from Modules import *"
   ]
  },
  {
   "cell_type": "markdown",
   "id": "7d56a291",
   "metadata": {},
   "source": [
    "# Practicing in Stages\n",
    "\n",
    "## Creating Dataset"
   ]
  },
  {
   "cell_type": "code",
   "execution_count": 8,
   "id": "13bfb650",
   "metadata": {
    "ExecuteTime": {
     "end_time": "2022-12-06T22:42:04.130056Z",
     "start_time": "2022-12-06T22:42:04.124668Z"
    },
    "scrolled": false
   },
   "outputs": [
    {
     "name": "stdout",
     "output_type": "stream",
     "text": [
      "\u001b[4m\u001b[35mCreation of data clusters around selected central locations\u001b[0m\n",
      "\n",
      "\u001b[1m\u001b[35m    +----------------------------------------------+\u001b[0m\n",
      "\u001b[1m\u001b[35m    | Statement                                    |\u001b[0m\n",
      "\u001b[1m\u001b[35m    +----------------------------------------------+\u001b[0m\n",
      "\u001b[1m\u001b[35m    | n_pts = 100                                  |\u001b[0m\n",
      "\u001b[1m\u001b[35m    | centers = [[-0.5, 0.5], [0.5, -0.5]]         |\u001b[0m\n",
      "\u001b[1m\u001b[35m    | X, y = datasets.make_blobs(n_samples=n_pts,  |\u001b[0m\n",
      "\u001b[1m\u001b[35m    |                            random_state=123, |\u001b[0m\n",
      "\u001b[1m\u001b[35m    |                            centers=centers,  |\u001b[0m\n",
      "\u001b[1m\u001b[35m    |                            cluster_std=0.4)  |\u001b[0m\n",
      "\u001b[1m\u001b[35m    +----------------------------------------------+\u001b[0m\n",
      "\u001b[1m\u001b[35m    +----------+--------------------------------------------------+\u001b[0m\n",
      "\u001b[1m\u001b[35m    | Variable | Value                                            |\u001b[0m\n",
      "\u001b[1m\u001b[35m    +----------+--------------------------------------------------+\u001b[0m\n",
      "\u001b[1m\u001b[35m    | X        | array([[-0.13715792, -0.07147228],               |\u001b[0m\n",
      "\u001b[1m\u001b[35m    |          |        [ 0.80437976, -0.37061246],               |\u001b[0m\n",
      "\u001b[1m\u001b[35m    |          |        [-0.60224775, -0.61943564],               |\u001b[0m\n",
      "\u001b[1m\u001b[35m    |          |        [ 0.5708769...939, -0.63299011],          |\u001b[0m\n",
      "\u001b[1m\u001b[35m    |          |        [-0.85181454,  0.61345093],               |\u001b[0m\n",
      "\u001b[1m\u001b[35m    |          |        [ 0.35807022, -0.3433663 ],               |\u001b[0m\n",
      "\u001b[1m\u001b[35m    |          |        [-1.34924014,  0.91589084]])              |\u001b[0m\n",
      "\u001b[1m\u001b[35m    | y        | array([0, 1, 0, 1, 0, 0, 1, 0, 0, 0, 0, 0, 0, 0, |\u001b[0m\n",
      "\u001b[1m\u001b[35m    |          |         0, 1, 0, 0, 1, 0, 0, 0,                  |\u001b[0m\n",
      "\u001b[1m\u001b[35m    |          |        0, 1, 1, 1, 0, 0, 1, 1, 1, 0, 1, 0, 1, 0, |\u001b[0m\n",
      "\u001b[1m\u001b[35m    |          |         1..., 0, 0,                              |\u001b[0m\n",
      "\u001b[1m\u001b[35m    |          |        1, 0, 1, 0, 1, 0, 1, 1, 0, 1, 0, 1, 1, 0, |\u001b[0m\n",
      "\u001b[1m\u001b[35m    |          |         1, 0, 0, 1, 1, 1, 1, 0,                  |\u001b[0m\n",
      "\u001b[1m\u001b[35m    |          |        0, 1, 1, 1, 1, 1, 1, 0, 1, 0, 1, 0])      |\u001b[0m\n",
      "\u001b[1m\u001b[35m    +----------+--------------------------------------------------+\u001b[0m\n"
     ]
    }
   ],
   "source": [
    "n_pts = 100\n",
    "centers = [[-0.5, 0.5], [0.5, -0.5]]\n",
    "X, y = datasets.make_blobs(n_samples=n_pts,\n",
    "                           random_state=123,\n",
    "                           centers=centers,\n",
    "                           cluster_std=0.4)\n",
    "\n",
    "tabulation = Form_Generator()\n",
    "tabulation.heading_printer(\n",
    "    \"Creation of data clusters around selected central locations\")\n",
    "\n",
    "statements = [\n",
    "    \"\"\"\n",
    "n_pts = 100\n",
    "centers = [[-0.5, 0.5], [0.5, -0.5]]\n",
    "X, y = datasets.make_blobs(n_samples=n_pts,\n",
    "                           random_state=123,\n",
    "                           centers=centers,\n",
    "                           cluster_std=0.4)\n",
    "\"\"\"\n",
    "]\n",
    "tabulation.statement_generator(statements)\n",
    "\n",
    "variables = [\"X\", \"y\"]\n",
    "values = [str(reprlib_rules.repr(X)), str(reprlib_rules.repr(y))]\n",
    "tabulation.variable_generator(variables, values)"
   ]
  },
  {
   "cell_type": "code",
   "execution_count": 9,
   "id": "b4f8e329",
   "metadata": {
    "ExecuteTime": {
     "end_time": "2022-12-06T22:42:04.365773Z",
     "start_time": "2022-12-06T22:42:04.130970Z"
    },
    "scrolled": false
   },
   "outputs": [
    {
     "data": {
      "image/png": "[encoded data removed]",
      "text/plain": [
       "<Figure size 1600x600 with 3 Axes>"
      ]
     },
     "metadata": {},
     "output_type": "display_data"
    }
   ],
   "source": [
    "colors = calm_color_generator(4)\n",
    "plt.rcParams[\"figure.figsize\"] = (figure_size[0], figure_size[1] / 3 * 2)\n",
    "\n",
    "fig, axs = plt.subplots(nrows=2, ncols=3)\n",
    "gs = axs[0, 1].get_gridspec()\n",
    "for ax in axs[0, 1:]:\n",
    "    ax.remove()\n",
    "for ax in axs[1, 1:]:\n",
    "    ax.remove()\n",
    "axbig = fig.add_subplot(gs[:, 1:])\n",
    "\n",
    "axs[0, 0].scatter(X[y == 0, 0], X[y == 0, 1], color=colors.pop(0))\n",
    "axs[0, 0].set_title(\"Data cluster labeled \\\"0\\\"\", loc=\"center\", pad=15)\n",
    "\n",
    "axs[1, 0].scatter(X[y == 1, 0], X[y == 1, 1], color=colors.pop(0))\n",
    "axs[1, 0].set_title(\"Data cluster labeled \\\"1\\\"\", loc=\"center\", pad=15)\n",
    "\n",
    "for ax in axs.flat:\n",
    "    ax.set(xlabel=\"x\", ylabel=\"y\")\n",
    "\n",
    "axbig.scatter(X[y == 0, 0], X[y == 0, 1], color=colors.pop(0))\n",
    "axbig.scatter(X[y == 1, 0], X[y == 1, 1], color=colors.pop(0))\n",
    "axbig.set_title(\"Data clusters labeled \\\"0\\\" and \\\"1\\\"\", loc=\"center\", pad=15)\n",
    "\n",
    "axbig.set(xlabel=\"x\", ylabel=\"y\")\n",
    "\n",
    "fig.suptitle(\n",
    "    \"Visual Comparison of Data Clusters at Different Central Locations\",\n",
    "    fontsize=\"x-large\",\n",
    "    x=0.5,\n",
    "    y=0)\n",
    "\n",
    "plt.tight_layout()\n",
    "plt.show()"
   ]
  },
  {
   "cell_type": "code",
   "execution_count": 10,
   "id": "78d86b99",
   "metadata": {
    "ExecuteTime": {
     "end_time": "2022-12-06T22:42:04.371534Z",
     "start_time": "2022-12-06T22:42:04.366869Z"
    }
   },
   "outputs": [
    {
     "name": "stdout",
     "output_type": "stream",
     "text": [
      "\u001b[4m\u001b[30mDataset conversion in tensor form\u001b[0m\n",
      "\n",
      "\u001b[1m\u001b[30m    +--------------------------+\u001b[0m\n",
      "\u001b[1m\u001b[30m    | Statement                |\u001b[0m\n",
      "\u001b[1m\u001b[30m    +--------------------------+\u001b[0m\n",
      "\u001b[1m\u001b[30m    | X_data = torch.Tensor(X) |\u001b[0m\n",
      "\u001b[1m\u001b[30m    | y_data = torch.Tensor(y) |\u001b[0m\n",
      "\u001b[1m\u001b[30m    +--------------------------+\u001b[0m\n",
      "\u001b[1m\u001b[30m    +----------+--------------------------------------------------+\u001b[0m\n",
      "\u001b[1m\u001b[30m    | Variable | Value                                            |\u001b[0m\n",
      "\u001b[1m\u001b[30m    +----------+--------------------------------------------------+\u001b[0m\n",
      "\u001b[1m\u001b[30m    | X_data   | tensor([[-0.1372, -0.0715],                      |\u001b[0m\n",
      "\u001b[1m\u001b[30m    |          |         [ 0.8044, -0.3706],                      |\u001b[0m\n",
      "\u001b[1m\u001b[30m    |          |         [-0.6022, -0.6194],                      |\u001b[0m\n",
      "\u001b[1m\u001b[30m    |          |         [ 0.5709, -0.5120],                      |\u001b[0m\n",
      "\u001b[1m\u001b[30m    |          |         [ 0...,  0.2444],                        |\u001b[0m\n",
      "\u001b[1m\u001b[30m    |          |         [-0.0484, -0.6330],                      |\u001b[0m\n",
      "\u001b[1m\u001b[30m    |          |         [-0.8518,  0.6135],                      |\u001b[0m\n",
      "\u001b[1m\u001b[30m    |          |         [ 0.3581, -0.3434],                      |\u001b[0m\n",
      "\u001b[1m\u001b[30m    |          |         [-1.3492,  0.9159]])                     |\u001b[0m\n",
      "\u001b[1m\u001b[30m    | y_data   | tensor([0., 1., 0., 1., 0., 0., 1., 0., 0., 0.,  |\u001b[0m\n",
      "\u001b[1m\u001b[30m    |          |         0., 0., 0., 0., 0., 1., 0., 0.,          |\u001b[0m\n",
      "\u001b[1m\u001b[30m    |          |         1., 0., 0., 0., 0., 1., 1., 1., 0.,...   |\u001b[0m\n",
      "\u001b[1m\u001b[30m    |          |          1., 1., 0., 1., 0., 1., 1., 0., 1., 0., |\u001b[0m\n",
      "\u001b[1m\u001b[30m    |          |         0., 1., 1., 1., 1., 0., 0., 1.,          |\u001b[0m\n",
      "\u001b[1m\u001b[30m    |          |         1., 1., 1., 1., 1., 0., 1., 0., 1., 0.]) |\u001b[0m\n",
      "\u001b[1m\u001b[30m    +----------+--------------------------------------------------+\u001b[0m\n"
     ]
    }
   ],
   "source": [
    "X_data = torch.Tensor(X)\n",
    "y_data = torch.Tensor(y)\n",
    "\n",
    "tabulation = Form_Generator()\n",
    "tabulation.heading_printer(\"Dataset conversion in tensor form\")\n",
    "\n",
    "statements = [\"\"\"\n",
    "X_data = torch.Tensor(X)\n",
    "y_data = torch.Tensor(y)\n",
    "\"\"\"]\n",
    "tabulation.statement_generator(statements)\n",
    "\n",
    "variables = [\"X_data\", \"y_data\"]\n",
    "values = [str(reprlib_rules.repr(X_data)), str(reprlib_rules.repr(y_data))]\n",
    "tabulation.variable_generator(variables, values)"
   ]
  },
  {
   "cell_type": "markdown",
   "id": "37aa7c56",
   "metadata": {},
   "source": [
    "## Model Setup"
   ]
  },
  {
   "cell_type": "code",
   "execution_count": 11,
   "id": "093a43e8",
   "metadata": {
    "ExecuteTime": {
     "end_time": "2022-12-06T22:42:04.377780Z",
     "start_time": "2022-12-06T22:42:04.372397Z"
    },
    "scrolled": false
   },
   "outputs": [
    {
     "name": "stdout",
     "output_type": "stream",
     "text": [
      "\u001b[4m\u001b[36mInitialization of inherited linear class\u001b[0m\n",
      "\n",
      "\u001b[1m\u001b[36m    +----------------------------------------------------------+\u001b[0m\n",
      "\u001b[1m\u001b[36m    | Definition                                               |\u001b[0m\n",
      "\u001b[1m\u001b[36m    +----------------------------------------------------------+\u001b[0m\n",
      "\u001b[1m\u001b[36m    | class Model(nn.Module):                                  |\u001b[0m\n",
      "\u001b[1m\u001b[36m    |                                                          |\u001b[0m\n",
      "\u001b[1m\u001b[36m    |     def __init__(self, input_size, output_size):         |\u001b[0m\n",
      "\u001b[1m\u001b[36m    |         super().__init__()                               |\u001b[0m\n",
      "\u001b[1m\u001b[36m    |         self.linear = nn.Linear(input_size, output_size) |\u001b[0m\n",
      "\u001b[1m\u001b[36m    |                                                          |\u001b[0m\n",
      "\u001b[1m\u001b[36m    |     def forward(self, x):                                |\u001b[0m\n",
      "\u001b[1m\u001b[36m    |         pred = torch.sigmoid(self.linear(x))             |\u001b[0m\n",
      "\u001b[1m\u001b[36m    |         return pred                                      |\u001b[0m\n",
      "\u001b[1m\u001b[36m    +----------------------------------------------------------+\u001b[0m\n",
      "\u001b[1m\u001b[36m    +----------------------+\u001b[0m\n",
      "\u001b[1m\u001b[36m    | Statement            |\u001b[0m\n",
      "\u001b[1m\u001b[36m    +----------------------+\u001b[0m\n",
      "\u001b[1m\u001b[36m    | torch.manual_seed(2) |\u001b[0m\n",
      "\u001b[1m\u001b[36m    | model = Model(2, 1)  |\u001b[0m\n",
      "\u001b[1m\u001b[36m    +----------------------+\u001b[0m\n",
      "\u001b[1m\u001b[36m    +----------+------------------------------------+\u001b[0m\n",
      "\u001b[1m\u001b[36m    | Variable | Value                              |\u001b[0m\n",
      "\u001b[1m\u001b[36m    +----------+------------------------------------+\u001b[0m\n",
      "\u001b[1m\u001b[36m    | model    | Model(                             |\u001b[0m\n",
      "\u001b[1m\u001b[36m    |          |   (linear): Linear(in_features=2,  |\u001b[0m\n",
      "\u001b[1m\u001b[36m    |          |         out_features=1, bias=True) |\u001b[0m\n",
      "\u001b[1m\u001b[36m    |          | )                                  |\u001b[0m\n",
      "\u001b[1m\u001b[36m    +----------+------------------------------------+\u001b[0m\n",
      "\u001b[1m\u001b[36m    +--------------------------+-------------------------------+\u001b[0m\n",
      "\u001b[1m\u001b[36m    | Expression               | Result                        |\u001b[0m\n",
      "\u001b[1m\u001b[36m    +--------------------------+-------------------------------+\u001b[0m\n",
      "\u001b[1m\u001b[36m    | model.parameters()       | ⟨generator object             |\u001b[0m\n",
      "\u001b[1m\u001b[36m    |                          |         Module.parameters at  |\u001b[0m\n",
      "\u001b[1m\u001b[36m    |                          |         0x177d4ae40⟩          |\u001b[0m\n",
      "\u001b[1m\u001b[36m    | list(model.parameters()) | [Parameter containing:        |\u001b[0m\n",
      "\u001b[1m\u001b[36m    |                          | tensor([[ 0.1622, -0.1683]],  |\u001b[0m\n",
      "\u001b[1m\u001b[36m    |                          |         requires_grad=True),  |\u001b[0m\n",
      "\u001b[1m\u001b[36m    |                          |         Parameter containing: |\u001b[0m\n",
      "\u001b[1m\u001b[36m    |                          | tensor([0.1939],              |\u001b[0m\n",
      "\u001b[1m\u001b[36m    |                          |         requires_grad=True)]  |\u001b[0m\n",
      "\u001b[1m\u001b[36m    +--------------------------+-------------------------------+\u001b[0m\n"
     ]
    }
   ],
   "source": [
    "class Model(nn.Module):\n",
    "\n",
    "    def __init__(self, input_size, output_size):\n",
    "        super().__init__()\n",
    "        self.linear = nn.Linear(input_size, output_size)\n",
    "\n",
    "    def forward(self, x):\n",
    "        pred = torch.sigmoid(self.linear(x))\n",
    "        return pred\n",
    "\n",
    "torch.manual_seed(2)\n",
    "model = Model(2, 1)\n",
    "\n",
    "tabulation = Form_Generator()\n",
    "tabulation.heading_printer(\"Initialization of inherited linear class\")\n",
    "\n",
    "definitions = [\n",
    "    \"\"\"\n",
    "class Model(nn.Module):\n",
    "\n",
    "    def __init__(self, input_size, output_size):\n",
    "        super().__init__()\n",
    "        self.linear = nn.Linear(input_size, output_size)\n",
    "\n",
    "    def forward(self, x):\n",
    "        pred = torch.sigmoid(self.linear(x))\n",
    "        return pred\n",
    "\"\"\"\n",
    "]\n",
    "tabulation.definition_generator(definitions)\n",
    "\n",
    "statements = [\"\"\"\n",
    "torch.manual_seed(2)\n",
    "model = Model(2, 1)\n",
    "\"\"\"]\n",
    "tabulation.statement_generator(statements)\n",
    "\n",
    "variables = [\"model\"]\n",
    "values = [str(model)]\n",
    "tabulation.variable_generator(variables, values)\n",
    "\n",
    "expressions = [\"model.parameters()\", \"list(model.parameters())\"]\n",
    "results = [str(model.parameters()), str(list(model.parameters()))]\n",
    "tabulation.expression_generator(expressions, results)"
   ]
  },
  {
   "cell_type": "code",
   "execution_count": null,
   "id": "2a4fdde3",
   "metadata": {},
   "outputs": [],
   "source": []
  },
  {
   "cell_type": "code",
   "execution_count": 12,
   "id": "4b34284b",
   "metadata": {
    "ExecuteTime": {
     "end_time": "2022-12-06T22:42:04.381336Z",
     "start_time": "2022-12-06T22:42:04.378785Z"
    }
   },
   "outputs": [
    {
     "name": "stdout",
     "output_type": "stream",
     "text": [
      "[Parameter containing:\n",
      "tensor([[ 0.1622, -0.1683]], requires_grad=True), Parameter containing:\n",
      "tensor([0.1939], requires_grad=True)]\n"
     ]
    }
   ],
   "source": [
    "torch.manual_seed(2)\n",
    "model = Model(2, 1)\n",
    "print(list(model.parameters()))"
   ]
  },
  {
   "cell_type": "code",
   "execution_count": 13,
   "id": "e54a2797",
   "metadata": {
    "ExecuteTime": {
     "end_time": "2022-12-06T22:42:04.385034Z",
     "start_time": "2022-12-06T22:42:04.382500Z"
    }
   },
   "outputs": [
    {
     "name": "stdout",
     "output_type": "stream",
     "text": [
      "[Parameter containing:\n",
      "tensor([[ 0.1622, -0.1683]], requires_grad=True), Parameter containing:\n",
      "tensor([0.1939], requires_grad=True)]\n"
     ]
    }
   ],
   "source": [
    "[w, b] = model.parameters()\n",
    "print([w, b])"
   ]
  },
  {
   "cell_type": "code",
   "execution_count": 14,
   "id": "4cf1c02b",
   "metadata": {
    "ExecuteTime": {
     "end_time": "2022-12-06T22:42:04.388754Z",
     "start_time": "2022-12-06T22:42:04.385970Z"
    }
   },
   "outputs": [
    {
     "name": "stdout",
     "output_type": "stream",
     "text": [
      "tensor(0.1622, grad_fn=<UnbindBackward0>) tensor(-0.1683, grad_fn=<UnbindBackward0>) tensor(0.1939, grad_fn=<SelectBackward0>)\n"
     ]
    }
   ],
   "source": [
    "w1, w2 = w.view(2)\n",
    "b1 = b[0]\n",
    "print(w1, w2, b1)"
   ]
  },
  {
   "cell_type": "code",
   "execution_count": 15,
   "id": "ff224056",
   "metadata": {
    "ExecuteTime": {
     "end_time": "2022-12-06T22:42:04.391515Z",
     "start_time": "2022-12-06T22:42:04.389567Z"
    }
   },
   "outputs": [
    {
     "name": "stdout",
     "output_type": "stream",
     "text": [
      "0.16220331192016602 -0.1682732105255127 0.19390898942947388\n"
     ]
    }
   ],
   "source": [
    "print(w1.item(), w2.item(), b1.item())"
   ]
  },
  {
   "cell_type": "code",
   "execution_count": 16,
   "id": "04d3b635",
   "metadata": {
    "ExecuteTime": {
     "end_time": "2022-12-06T22:42:04.394398Z",
     "start_time": "2022-12-06T22:42:04.392706Z"
    }
   },
   "outputs": [],
   "source": [
    "def get_params():\n",
    "    return (w1.item(), w2.item(), b[0].item())"
   ]
  },
  {
   "cell_type": "code",
   "execution_count": 17,
   "id": "9df216af",
   "metadata": {
    "ExecuteTime": {
     "end_time": "2022-12-06T22:42:04.397283Z",
     "start_time": "2022-12-06T22:42:04.395501Z"
    }
   },
   "outputs": [],
   "source": [
    "def scatter_plot():\n",
    "    colors = bright_colors(2)\n",
    "    plt.scatter(X[y == 0, 0], X[y == 0, 1], color=colors[0])\n",
    "    plt.scatter(X[y == 1, 0], X[y == 1, 1], color=colors[1])"
   ]
  },
  {
   "cell_type": "code",
   "execution_count": 18,
   "id": "f9a7ebf6",
   "metadata": {
    "ExecuteTime": {
     "end_time": "2022-12-06T22:42:04.533218Z",
     "start_time": "2022-12-06T22:42:04.398298Z"
    }
   },
   "outputs": [
    {
     "ename": "NameError",
     "evalue": "name 'bright_colors' is not defined",
     "output_type": "error",
     "traceback": [
      "\u001b[0;31m---------------------------------------------------------------------------\u001b[0m",
      "\u001b[0;31mNameError\u001b[0m                                 Traceback (most recent call last)",
      "Cell \u001b[0;32mIn [18], line 1\u001b[0m\n\u001b[0;32m----> 1\u001b[0m \u001b[43mscatter_plot\u001b[49m\u001b[43m(\u001b[49m\u001b[43m)\u001b[49m\n",
      "Cell \u001b[0;32mIn [17], line 2\u001b[0m, in \u001b[0;36mscatter_plot\u001b[0;34m()\u001b[0m\n\u001b[1;32m      1\u001b[0m \u001b[38;5;28;01mdef\u001b[39;00m \u001b[38;5;21mscatter_plot\u001b[39m():\n\u001b[0;32m----> 2\u001b[0m     colors \u001b[38;5;241m=\u001b[39m \u001b[43mbright_colors\u001b[49m(\u001b[38;5;241m2\u001b[39m)\n\u001b[1;32m      3\u001b[0m     plt\u001b[38;5;241m.\u001b[39mscatter(X[y \u001b[38;5;241m==\u001b[39m \u001b[38;5;241m0\u001b[39m, \u001b[38;5;241m0\u001b[39m], X[y \u001b[38;5;241m==\u001b[39m \u001b[38;5;241m0\u001b[39m, \u001b[38;5;241m1\u001b[39m], color\u001b[38;5;241m=\u001b[39mcolors[\u001b[38;5;241m0\u001b[39m])\n\u001b[1;32m      4\u001b[0m     plt\u001b[38;5;241m.\u001b[39mscatter(X[y \u001b[38;5;241m==\u001b[39m \u001b[38;5;241m1\u001b[39m, \u001b[38;5;241m0\u001b[39m], X[y \u001b[38;5;241m==\u001b[39m \u001b[38;5;241m1\u001b[39m, \u001b[38;5;241m1\u001b[39m], color\u001b[38;5;241m=\u001b[39mcolors[\u001b[38;5;241m1\u001b[39m])\n",
      "\u001b[0;31mNameError\u001b[0m: name 'bright_colors' is not defined"
     ]
    }
   ],
   "source": [
    "scatter_plot()"
   ]
  },
  {
   "cell_type": "code",
   "execution_count": null,
   "id": "85d26300",
   "metadata": {
    "ExecuteTime": {
     "end_time": "2022-12-06T22:42:04.559115Z",
     "start_time": "2022-12-06T22:42:04.559108Z"
    }
   },
   "outputs": [],
   "source": [
    "def plot_fit(title):\n",
    "    plt.title = title\n",
    "    w1, w2, b1 = get_params()\n",
    "    x1 = np.array([-2.0, 2.0])\n",
    "    # 0 = w1 * x1 + w2 * x2 + b1\n",
    "    x2 = (w1 * x1 + b1) / -w2\n",
    "    plt.plot(x1, x2, \"r\")\n",
    "    scatter_plot()"
   ]
  },
  {
   "cell_type": "code",
   "execution_count": null,
   "id": "b8c10e86",
   "metadata": {
    "ExecuteTime": {
     "end_time": "2022-12-06T22:42:04.559757Z",
     "start_time": "2022-12-06T22:42:04.559752Z"
    }
   },
   "outputs": [],
   "source": [
    "plot_fit(\"Initial Model\")"
   ]
  },
  {
   "cell_type": "markdown",
   "id": "99005cfe",
   "metadata": {},
   "source": [
    "# Model Training"
   ]
  },
  {
   "cell_type": "code",
   "execution_count": null,
   "id": "3c313efc",
   "metadata": {
    "ExecuteTime": {
     "end_time": "2022-12-06T22:42:04.560734Z",
     "start_time": "2022-12-06T22:42:04.560728Z"
    }
   },
   "outputs": [],
   "source": [
    "X_data = torch.Tensor(X)\n",
    "y_data = torch.Tensor(y).reshape(-1, 1)\n",
    "print(X_data[::10])\n",
    "print(y_data[::10])"
   ]
  },
  {
   "cell_type": "code",
   "execution_count": null,
   "id": "588cf8d2",
   "metadata": {
    "ExecuteTime": {
     "end_time": "2022-12-06T22:42:04.561522Z",
     "start_time": "2022-12-06T22:42:04.561514Z"
    }
   },
   "outputs": [],
   "source": [
    "criterion = nn.BCELoss()\n",
    "optimizer = torch.optim.SGD(model.parameters(), lr=0.01)"
   ]
  },
  {
   "cell_type": "code",
   "execution_count": null,
   "id": "a97131c4",
   "metadata": {
    "ExecuteTime": {
     "end_time": "2022-12-06T22:42:04.562090Z",
     "start_time": "2022-12-06T22:42:04.562084Z"
    }
   },
   "outputs": [],
   "source": [
    "epochs = 1000\n",
    "losses = []\n",
    "termcolors = [\n",
    "    \"grey\", \"red\", \"green\", \"yellow\", \"blue\", \"magenta\", \"cyan\", \"white\"\n",
    "]\n",
    "font_colors = random.choices(termcolors, k=2)\n",
    "for i in range(epochs):\n",
    "    i += 1\n",
    "    y_pred = model.forward(X_data)\n",
    "    loss = criterion(y_pred, y_data)\n",
    "    if i == 1 or i % 100 == 0:\n",
    "        print(colored(\"epoch:\", font_colors[0], attrs=[\"bold\"]), i,\n",
    "              colored(\"loss:\", font_colors[1]), loss.item())\n",
    "        print(colored(\"weight:\", font_colors[1]),\n",
    "              list(model.parameters())[0][0][0].item(),\n",
    "              colored(\"bias:\", font_colors[1]),\n",
    "              list(model.parameters())[1][0].item())\n",
    "    losses.append(loss.item())\n",
    "    optimizer.zero_grad()\n",
    "    loss.backward()\n",
    "    optimizer.step()"
   ]
  },
  {
   "cell_type": "code",
   "execution_count": null,
   "id": "12139759",
   "metadata": {
    "ExecuteTime": {
     "end_time": "2022-12-06T22:42:04.562772Z",
     "start_time": "2022-12-06T22:42:04.562765Z"
    }
   },
   "outputs": [],
   "source": [
    "colors = bright_colors(1)\n",
    "plt.plot(range(epochs), losses, c=colors[0])\n",
    "plt.ylabel(\"Loss\")\n",
    "plt.xlabel(\"Epoch\")"
   ]
  },
  {
   "cell_type": "code",
   "execution_count": null,
   "id": "e5a0948d",
   "metadata": {
    "ExecuteTime": {
     "end_time": "2022-12-06T22:42:04.563354Z",
     "start_time": "2022-12-06T22:42:04.563349Z"
    }
   },
   "outputs": [],
   "source": [
    "plot_fit(\"Trained Model\")"
   ]
  },
  {
   "cell_type": "markdown",
   "id": "7d2cb0fc",
   "metadata": {},
   "source": [
    "# Model Testing"
   ]
  },
  {
   "cell_type": "code",
   "execution_count": null,
   "id": "7105db58",
   "metadata": {
    "ExecuteTime": {
     "end_time": "2022-12-06T22:42:04.563973Z",
     "start_time": "2022-12-06T22:42:04.563967Z"
    }
   },
   "outputs": [],
   "source": [
    "point1 = torch.Tensor([1.0, -1.0])\n",
    "point2 = torch.Tensor([-1.0, 1.0])\n",
    "plt.plot(point1.numpy()[0], point1.numpy()[1], \"ro\")\n",
    "plt.plot(point2.numpy()[0], point2.numpy()[1], \"ko\")\n",
    "print(\"Red point positive probability = {}\".format(\n",
    "    model.forward(point1).item()))\n",
    "print(\"Black point positive probability = {}\".format(\n",
    "    model.forward(point2).item()))\n",
    "plot_fit(\"Trained Model\")"
   ]
  },
  {
   "cell_type": "code",
   "execution_count": null,
   "id": "6314a0c7",
   "metadata": {
    "ExecuteTime": {
     "end_time": "2022-12-06T22:42:04.564363Z",
     "start_time": "2022-12-06T22:42:04.564358Z"
    }
   },
   "outputs": [],
   "source": [
    "class Model(nn.Module):\n",
    "\n",
    "    def __init__(self, input_size, output_size):\n",
    "        super().__init__()\n",
    "        self.linear = nn.Linear(input_size, output_size)\n",
    "\n",
    "    def forward(self, x):\n",
    "        pred = torch.sigmoid(self.linear(x))\n",
    "        return pred\n",
    "\n",
    "    def predict(self, x):\n",
    "        pred = self.forward(x)\n",
    "        if pred >= 0.5:\n",
    "            return 1\n",
    "        else:\n",
    "            return 0"
   ]
  },
  {
   "cell_type": "code",
   "execution_count": null,
   "id": "01ea8850",
   "metadata": {
    "ExecuteTime": {
     "end_time": "2022-12-06T22:42:04.565202Z",
     "start_time": "2022-12-06T22:42:04.565195Z"
    }
   },
   "outputs": [],
   "source": [
    "torch.manual_seed(2)\n",
    "model = Model(2, 1)\n",
    "[w, b] = model.parameters()\n",
    "w1, w2 = w.view(2)\n",
    "criterion = nn.BCELoss()\n",
    "optimizer = torch.optim.SGD(model.parameters(), lr=0.01)\n",
    "epochs = 1000\n",
    "for i in range(epochs):\n",
    "    i += 1\n",
    "    y_pred = model.forward(X_data)\n",
    "    loss = criterion(y_pred, y_data)\n",
    "    losses.append(loss.item())\n",
    "    optimizer.zero_grad()\n",
    "    loss.backward()\n",
    "    optimizer.step()"
   ]
  },
  {
   "cell_type": "code",
   "execution_count": null,
   "id": "6078567d",
   "metadata": {
    "ExecuteTime": {
     "end_time": "2022-12-06T22:42:04.565858Z",
     "start_time": "2022-12-06T22:42:04.565852Z"
    }
   },
   "outputs": [],
   "source": [
    "point1 = torch.Tensor([1.0, -1.0])\n",
    "point2 = torch.Tensor([-1.0, 1.0])\n",
    "plt.plot(point1.numpy()[0], point1.numpy()[1], \"ro\")\n",
    "plt.plot(point2.numpy()[0], point2.numpy()[1], \"ko\")\n",
    "print(\"Red point positive probability = {}\".format(\n",
    "    model.forward(point1).item()))\n",
    "print(\"Black point positive probability = {}\".format(\n",
    "    model.forward(point2).item()))\n",
    "print(\"Red point in class {}\".format(model.predict(point1)))\n",
    "print(\"Black point in class {}\".format(model.predict(point2)))\n",
    "plot_fit(\"Trained Model\")"
   ]
  }
 ],
 "metadata": {
  "hide_input": false,
  "kernelspec": {
   "display_name": "Python 3 (ipykernel)",
   "language": "python",
   "name": "python3"
  },
  "language_info": {
   "codemirror_mode": {
    "name": "ipython",
    "version": 3
   },
   "file_extension": ".py",
   "mimetype": "text/x-python",
   "name": "python",
   "nbconvert_exporter": "python",
   "pygments_lexer": "ipython3",
   "version": "3.9.13"
  },
  "latex_envs": {
   "LaTeX_envs_menu_present": true,
   "autoclose": false,
   "autocomplete": true,
   "bibliofile": "biblio.bib",
   "cite_by": "apalike",
   "current_citInitial": 1,
   "eqLabelWithNumbers": true,
   "eqNumInitial": 1,
   "hotkeys": {
    "equation": "Ctrl-E",
    "itemize": "Ctrl-I"
   },
   "labels_anchors": false,
   "latex_user_defs": false,
   "report_style_numbering": false,
   "user_envs_cfg": false
  },
  "nbTranslate": {
   "displayLangs": [
    "*"
   ],
   "hotkey": "alt-t",
   "langInMainMenu": true,
   "sourceLang": "en",
   "targetLang": "fr",
   "useGoogleTranslate": true
  },
  "toc": {
   "base_numbering": 1,
   "nav_menu": {},
   "number_sections": true,
   "sideBar": true,
   "skip_h1_title": false,
   "title_cell": "Table of Contents",
   "title_sidebar": "Contents",
   "toc_cell": false,
   "toc_position": {},
   "toc_section_display": true,
   "toc_window_display": true
  },
  "varInspector": {
   "cols": {
    "lenName": 16,
    "lenType": 16,
    "lenVar": 40
   },
   "kernels_config": {
    "python": {
     "delete_cmd_postfix": "",
     "delete_cmd_prefix": "del ",
     "library": "var_list.py",
     "varRefreshCmd": "print(var_dic_list())"
    },
    "r": {
     "delete_cmd_postfix": ") ",
     "delete_cmd_prefix": "rm(",
     "library": "var_list.r",
     "varRefreshCmd": "cat(var_dic_list()) "
    }
   },
   "types_to_exclude": [
    "module",
    "function",
    "builtin_function_or_method",
    "instance",
    "_Feature"
   ],
   "window_display": false
  }
 },
 "nbformat": 4,
 "nbformat_minor": 5
}

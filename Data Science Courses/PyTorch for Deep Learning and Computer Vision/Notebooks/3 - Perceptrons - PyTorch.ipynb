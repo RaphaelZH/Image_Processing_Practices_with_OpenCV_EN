{
 "cells": [
  {
   "cell_type": "markdown",
   "id": "9f6c4e1c",
   "metadata": {},
   "source": [
    "# Importing Libraries"
   ]
  },
  {
   "cell_type": "code",
   "execution_count": 1,
   "id": "f04cab30",
   "metadata": {
    "ExecuteTime": {
     "end_time": "2022-12-06T03:32:42.600025Z",
     "start_time": "2022-12-06T03:32:41.266895Z"
    }
   },
   "outputs": [],
   "source": [
    "import torch\n",
    "#from torch import nn\n",
    "\n",
    "#import numpy as np\n",
    "\n",
    "from sklearn import datasets\n",
    "\n",
    "import matplotlib as mpl\n",
    "import matplotlib.pyplot as plt\n",
    "\n",
    "import reprlib\n",
    "import sys"
   ]
  },
  {
   "cell_type": "markdown",
   "id": "489034ab",
   "metadata": {},
   "source": [
    "# Configuring Visualization Parameters"
   ]
  },
  {
   "cell_type": "code",
   "execution_count": 2,
   "id": "f3b64134",
   "metadata": {
    "ExecuteTime": {
     "end_time": "2022-12-06T03:32:42.608613Z",
     "start_time": "2022-12-06T03:32:42.601269Z"
    }
   },
   "outputs": [],
   "source": [
    "%matplotlib inline"
   ]
  },
  {
   "cell_type": "code",
   "execution_count": 3,
   "id": "851a5125",
   "metadata": {
    "ExecuteTime": {
     "end_time": "2022-12-06T03:32:42.610897Z",
     "start_time": "2022-12-06T03:32:42.609427Z"
    }
   },
   "outputs": [],
   "source": [
    "XINHUI = \"#7a7374\"\n",
    "XUEBAI = \"#fffef9\"\n",
    "YINBAI = \"#f1f0ed\"\n",
    "YINHUI = \"#918072\"\n",
    "\n",
    "figure_size = (16, 9)"
   ]
  },
  {
   "cell_type": "code",
   "execution_count": 4,
   "id": "de55e855",
   "metadata": {
    "ExecuteTime": {
     "end_time": "2022-12-06T03:32:42.614656Z",
     "start_time": "2022-12-06T03:32:42.612411Z"
    }
   },
   "outputs": [],
   "source": [
    "custom_params = {\n",
    "    \"axes.axisbelow\": True,\n",
    "    \"axes.edgecolor\": YINBAI,\n",
    "    \"axes.facecolor\": XUEBAI,\n",
    "    \"axes.grid\": True,\n",
    "    \"axes.labelcolor\": XINHUI,\n",
    "    \"axes.spines.right\": False,\n",
    "    \"axes.spines.top\": False,\n",
    "    \"axes.titlecolor\": XINHUI,\n",
    "    \"figure.edgecolor\": YINBAI,\n",
    "    \"figure.facecolor\": XUEBAI,\n",
    "    \"grid.alpha\": .8,\n",
    "    \"grid.color\": YINBAI,\n",
    "    \"grid.linestyle\": \"--\",\n",
    "    \"grid.linewidth\": 1.2,\n",
    "    \"legend.edgecolor\": YINHUI,\n",
    "    \"patch.edgecolor\": XUEBAI,\n",
    "    \"patch.force_edgecolor\": True,\n",
    "    \"text.color\": XINHUI,\n",
    "    \"xtick.color\": YINHUI,\n",
    "    \"ytick.color\": YINHUI,\n",
    "}\n",
    "\n",
    "mpl.rcParams.update(custom_params)"
   ]
  },
  {
   "cell_type": "markdown",
   "id": "f418a107",
   "metadata": {},
   "source": [
    "# Configuring Other Notebook Parameters"
   ]
  },
  {
   "cell_type": "code",
   "execution_count": 5,
   "id": "5f0f196c",
   "metadata": {
    "ExecuteTime": {
     "end_time": "2022-12-06T03:32:42.617246Z",
     "start_time": "2022-12-06T03:32:42.615756Z"
    }
   },
   "outputs": [],
   "source": [
    "reprlib_rules = reprlib.Repr()\n",
    "reprlib_rules.maxother = 250"
   ]
  },
  {
   "cell_type": "markdown",
   "id": "fef6d704",
   "metadata": {},
   "source": [
    "# Pre-installing Custom Functions"
   ]
  },
  {
   "cell_type": "code",
   "execution_count": 6,
   "id": "b32e65a5",
   "metadata": {
    "ExecuteTime": {
     "end_time": "2022-12-06T03:32:42.620217Z",
     "start_time": "2022-12-06T03:32:42.618535Z"
    }
   },
   "outputs": [],
   "source": [
    "sys.path.append(\"../\")"
   ]
  },
  {
   "cell_type": "code",
   "execution_count": 7,
   "id": "921226b8",
   "metadata": {
    "ExecuteTime": {
     "end_time": "2022-12-06T03:32:42.806857Z",
     "start_time": "2022-12-06T03:32:42.621221Z"
    }
   },
   "outputs": [],
   "source": [
    "from Modules import *"
   ]
  },
  {
   "cell_type": "markdown",
   "id": "7d56a291",
   "metadata": {},
   "source": [
    "# Practicing in Stages\n",
    "\n",
    "## Creating Dataset"
   ]
  },
  {
   "cell_type": "code",
   "execution_count": 8,
   "id": "13bfb650",
   "metadata": {
    "ExecuteTime": {
     "end_time": "2022-12-06T03:32:42.813193Z",
     "start_time": "2022-12-06T03:32:42.807863Z"
    },
    "scrolled": false
   },
   "outputs": [
    {
     "name": "stdout",
     "output_type": "stream",
     "text": [
      "\u001b[4m\u001b[32mCreation of data clusters around selected central locations\u001b[0m\n",
      "\n",
      "\u001b[1m\u001b[32m    +----------------------------------------------+\u001b[0m\n",
      "\u001b[1m\u001b[32m    | Statement                                    |\u001b[0m\n",
      "\u001b[1m\u001b[32m    +----------------------------------------------+\u001b[0m\n",
      "\u001b[1m\u001b[32m    | n_pts = 100                                  |\u001b[0m\n",
      "\u001b[1m\u001b[32m    | centers = [[-0.5, 0.5], [0.5, -0.5]]         |\u001b[0m\n",
      "\u001b[1m\u001b[32m    | X, y = datasets.make_blobs(n_samples=n_pts,  |\u001b[0m\n",
      "\u001b[1m\u001b[32m    |                            random_state=123, |\u001b[0m\n",
      "\u001b[1m\u001b[32m    |                            centers=centers,  |\u001b[0m\n",
      "\u001b[1m\u001b[32m    |                            cluster_std=0.4)  |\u001b[0m\n",
      "\u001b[1m\u001b[32m    +----------------------------------------------+\u001b[0m\n",
      "\u001b[1m\u001b[32m    +----------+--------------------------------------------------+\u001b[0m\n",
      "\u001b[1m\u001b[32m    | Variable | Value                                            |\u001b[0m\n",
      "\u001b[1m\u001b[32m    +----------+--------------------------------------------------+\u001b[0m\n",
      "\u001b[1m\u001b[32m    | X        | array([[-0.13715792, -0.07147228],               |\u001b[0m\n",
      "\u001b[1m\u001b[32m    |          |        [ 0.80437976, -0.37061246],               |\u001b[0m\n",
      "\u001b[1m\u001b[32m    |          |        [-0.60224775, -0.61943564],               |\u001b[0m\n",
      "\u001b[1m\u001b[32m    |          |        [ 0.5708769...939, -0.63299011],          |\u001b[0m\n",
      "\u001b[1m\u001b[32m    |          |        [-0.85181454,  0.61345093],               |\u001b[0m\n",
      "\u001b[1m\u001b[32m    |          |        [ 0.35807022, -0.3433663 ],               |\u001b[0m\n",
      "\u001b[1m\u001b[32m    |          |        [-1.34924014,  0.91589084]])              |\u001b[0m\n",
      "\u001b[1m\u001b[32m    | y        | array([0, 1, 0, 1, 0, 0, 1, 0, 0, 0, 0, 0, 0, 0, |\u001b[0m\n",
      "\u001b[1m\u001b[32m    |          |         0, 1, 0, 0, 1, 0, 0, 0,                  |\u001b[0m\n",
      "\u001b[1m\u001b[32m    |          |        0, 1, 1, 1, 0, 0, 1, 1, 1, 0, 1, 0, 1, 0, |\u001b[0m\n",
      "\u001b[1m\u001b[32m    |          |         1..., 0, 0,                              |\u001b[0m\n",
      "\u001b[1m\u001b[32m    |          |        1, 0, 1, 0, 1, 0, 1, 1, 0, 1, 0, 1, 1, 0, |\u001b[0m\n",
      "\u001b[1m\u001b[32m    |          |         1, 0, 0, 1, 1, 1, 1, 0,                  |\u001b[0m\n",
      "\u001b[1m\u001b[32m    |          |        0, 1, 1, 1, 1, 1, 1, 0, 1, 0, 1, 0])      |\u001b[0m\n",
      "\u001b[1m\u001b[32m    +----------+--------------------------------------------------+\u001b[0m\n"
     ]
    }
   ],
   "source": [
    "n_pts = 100\n",
    "centers = [[-0.5, 0.5], [0.5, -0.5]]\n",
    "X, y = datasets.make_blobs(n_samples=n_pts,\n",
    "                           random_state=123,\n",
    "                           centers=centers,\n",
    "                           cluster_std=0.4)\n",
    "\n",
    "tabulation = Form_Generator()\n",
    "tabulation.heading_printer(\n",
    "    \"Creation of data clusters around selected central locations\")\n",
    "\n",
    "statements = [\n",
    "    \"\"\"\n",
    "n_pts = 100\n",
    "centers = [[-0.5, 0.5], [0.5, -0.5]]\n",
    "X, y = datasets.make_blobs(n_samples=n_pts,\n",
    "                           random_state=123,\n",
    "                           centers=centers,\n",
    "                           cluster_std=0.4)\n",
    "\"\"\"\n",
    "]\n",
    "tabulation.statement_generator(statements)\n",
    "\n",
    "variables = [\"X\", \"y\"]\n",
    "values = [str(reprlib_rules.repr(X)), str(reprlib_rules.repr(y))]\n",
    "tabulation.variable_generator(variables, values)"
   ]
  },
  {
   "cell_type": "code",
   "execution_count": 9,
   "id": "841e20cc",
   "metadata": {
    "ExecuteTime": {
     "end_time": "2022-12-06T03:32:43.048855Z",
     "start_time": "2022-12-06T03:32:42.814013Z"
    },
    "scrolled": false
   },
   "outputs": [
    {
     "data": {
      "image/png": "[encoded data removed]",
      "text/plain": [
       "<Figure size 1600x600 with 3 Axes>"
      ]
     },
     "metadata": {},
     "output_type": "display_data"
    }
   ],
   "source": [
    "colors = calm_color_generator(4)\n",
    "plt.rcParams[\"figure.figsize\"] = (figure_size[0], figure_size[1] / 3 * 2)\n",
    "\n",
    "fig, axs = plt.subplots(nrows=2, ncols=3)\n",
    "gs = axs[0, 1].get_gridspec()\n",
    "for ax in axs[0, 1:]:\n",
    "    ax.remove()\n",
    "for ax in axs[1, 1:]:\n",
    "    ax.remove()\n",
    "axbig = fig.add_subplot(gs[:, 1:])\n",
    "\n",
    "axs[0, 0].scatter(X[y == 0, 0], X[y == 0, 1], color=colors.pop(0))\n",
    "axs[0, 0].set_title(\"Data cluster labeled \\\"0\\\"\", loc=\"center\", pad=15)\n",
    "\n",
    "axs[1, 0].scatter(X[y == 1, 0], X[y == 1, 1], color=colors.pop(0))\n",
    "axs[1, 0].set_title(\"Data cluster labeled \\\"1\\\"\", loc=\"center\", pad=15)\n",
    "\n",
    "for ax in axs.flat:\n",
    "    ax.set(xlabel=\"x\", ylabel=\"y\")\n",
    "\n",
    "axbig.scatter(X[y == 0, 0], X[y == 0, 1], color=colors.pop(0))\n",
    "axbig.scatter(X[y == 1, 0], X[y == 1, 1], color=colors.pop(0))\n",
    "axbig.set_title(\"Data clusters labeled \\\"0\\\" and \\\"1\\\"\", loc=\"center\", pad=15)\n",
    "\n",
    "axbig.set(xlabel=\"x\", ylabel=\"y\")\n",
    "\n",
    "fig.suptitle(\n",
    "    \"Visual Comparison of Data Clusters at Different Central Locations\",\n",
    "    fontsize=\"x-large\",\n",
    "    x=0.5,\n",
    "    y=0)\n",
    "\n",
    "plt.tight_layout()\n",
    "plt.show()"
   ]
  },
  {
   "cell_type": "code",
   "execution_count": 10,
   "id": "78d86b99",
   "metadata": {
    "ExecuteTime": {
     "end_time": "2022-12-06T03:32:43.056013Z",
     "start_time": "2022-12-06T03:32:43.051277Z"
    }
   },
   "outputs": [
    {
     "name": "stdout",
     "output_type": "stream",
     "text": [
      "\u001b[4m\u001b[35mDataset conversion in tensor form\u001b[0m\n",
      "\n",
      "\u001b[1m\u001b[35m    +--------------------------+\u001b[0m\n",
      "\u001b[1m\u001b[35m    | Statement                |\u001b[0m\n",
      "\u001b[1m\u001b[35m    +--------------------------+\u001b[0m\n",
      "\u001b[1m\u001b[35m    | X_data = torch.Tensor(X) |\u001b[0m\n",
      "\u001b[1m\u001b[35m    | y_data = torch.Tensor(y) |\u001b[0m\n",
      "\u001b[1m\u001b[35m    +--------------------------+\u001b[0m\n",
      "\u001b[1m\u001b[35m    +----------+--------------------------------------------------+\u001b[0m\n",
      "\u001b[1m\u001b[35m    | Variable | Value                                            |\u001b[0m\n",
      "\u001b[1m\u001b[35m    +----------+--------------------------------------------------+\u001b[0m\n",
      "\u001b[1m\u001b[35m    | X_data   | tensor([[-0.1372, -0.0715],                      |\u001b[0m\n",
      "\u001b[1m\u001b[35m    |          |         [ 0.8044, -0.3706],                      |\u001b[0m\n",
      "\u001b[1m\u001b[35m    |          |         [-0.6022, -0.6194],                      |\u001b[0m\n",
      "\u001b[1m\u001b[35m    |          |         [ 0.5709, -0.5120],                      |\u001b[0m\n",
      "\u001b[1m\u001b[35m    |          |         [ 0...,  0.2444],                        |\u001b[0m\n",
      "\u001b[1m\u001b[35m    |          |         [-0.0484, -0.6330],                      |\u001b[0m\n",
      "\u001b[1m\u001b[35m    |          |         [-0.8518,  0.6135],                      |\u001b[0m\n",
      "\u001b[1m\u001b[35m    |          |         [ 0.3581, -0.3434],                      |\u001b[0m\n",
      "\u001b[1m\u001b[35m    |          |         [-1.3492,  0.9159]])                     |\u001b[0m\n",
      "\u001b[1m\u001b[35m    | y_data   | tensor([0., 1., 0., 1., 0., 0., 1., 0., 0., 0.,  |\u001b[0m\n",
      "\u001b[1m\u001b[35m    |          |         0., 0., 0., 0., 0., 1., 0., 0.,          |\u001b[0m\n",
      "\u001b[1m\u001b[35m    |          |         1., 0., 0., 0., 0., 1., 1., 1., 0.,...   |\u001b[0m\n",
      "\u001b[1m\u001b[35m    |          |          1., 1., 0., 1., 0., 1., 1., 0., 1., 0., |\u001b[0m\n",
      "\u001b[1m\u001b[35m    |          |         0., 1., 1., 1., 1., 0., 0., 1.,          |\u001b[0m\n",
      "\u001b[1m\u001b[35m    |          |         1., 1., 1., 1., 1., 0., 1., 0., 1., 0.]) |\u001b[0m\n",
      "\u001b[1m\u001b[35m    +----------+--------------------------------------------------+\u001b[0m\n"
     ]
    }
   ],
   "source": [
    "X_data = torch.Tensor(X)\n",
    "y_data = torch.Tensor(y)\n",
    "\n",
    "tabulation = Form_Generator()\n",
    "tabulation.heading_printer(\"Dataset conversion in tensor form\")\n",
    "\n",
    "statements = [\"\"\"\n",
    "X_data = torch.Tensor(X)\n",
    "y_data = torch.Tensor(y)\n",
    "\"\"\"]\n",
    "tabulation.statement_generator(statements)\n",
    "\n",
    "variables = [\"X_data\", \"y_data\"]\n",
    "values = [str(reprlib_rules.repr(X_data)), str(reprlib_rules.repr(y_data))]\n",
    "tabulation.variable_generator(variables, values)"
   ]
  },
  {
   "cell_type": "markdown",
   "id": "37aa7c56",
   "metadata": {},
   "source": [
    "# Model Setup"
   ]
  },
  {
   "cell_type": "code",
   "execution_count": 11,
   "id": "093a43e8",
   "metadata": {
    "ExecuteTime": {
     "end_time": "2022-12-06T03:32:43.181795Z",
     "start_time": "2022-12-06T03:32:43.056748Z"
    }
   },
   "outputs": [
    {
     "ename": "NameError",
     "evalue": "name 'nn' is not defined",
     "output_type": "error",
     "traceback": [
      "\u001b[0;31m---------------------------------------------------------------------------\u001b[0m",
      "\u001b[0;31mNameError\u001b[0m                                 Traceback (most recent call last)",
      "Cell \u001b[0;32mIn [11], line 1\u001b[0m\n\u001b[0;32m----> 1\u001b[0m \u001b[38;5;28;01mclass\u001b[39;00m \u001b[38;5;21;01mModel\u001b[39;00m(\u001b[43mnn\u001b[49m\u001b[38;5;241m.\u001b[39mModule):\n\u001b[1;32m      3\u001b[0m     \u001b[38;5;28;01mdef\u001b[39;00m \u001b[38;5;21m__init__\u001b[39m(\u001b[38;5;28mself\u001b[39m, input_size, output_size):\n\u001b[1;32m      4\u001b[0m         \u001b[38;5;28msuper\u001b[39m()\u001b[38;5;241m.\u001b[39m\u001b[38;5;21m__init__\u001b[39m()\n",
      "\u001b[0;31mNameError\u001b[0m: name 'nn' is not defined"
     ]
    }
   ],
   "source": [
    "class Model(nn.Module):\n",
    "\n",
    "    def __init__(self, input_size, output_size):\n",
    "        super().__init__()\n",
    "        self.linear = nn.Linear(input_size, output_size)\n",
    "\n",
    "    def forward(self, x):\n",
    "        pred = torch.sigmoid(self.linear(x))\n",
    "        return pred"
   ]
  },
  {
   "cell_type": "code",
   "execution_count": null,
   "id": "4b34284b",
   "metadata": {
    "ExecuteTime": {
     "end_time": "2022-12-06T03:32:43.196828Z",
     "start_time": "2022-12-06T03:32:43.196822Z"
    }
   },
   "outputs": [],
   "source": [
    "torch.manual_seed(2)\n",
    "model = Model(2, 1)\n",
    "print(list(model.parameters()))"
   ]
  },
  {
   "cell_type": "code",
   "execution_count": null,
   "id": "e54a2797",
   "metadata": {
    "ExecuteTime": {
     "end_time": "2022-12-06T03:32:43.197430Z",
     "start_time": "2022-12-06T03:32:43.197425Z"
    }
   },
   "outputs": [],
   "source": [
    "[w, b] = model.parameters()\n",
    "print([w, b])"
   ]
  },
  {
   "cell_type": "code",
   "execution_count": null,
   "id": "4cf1c02b",
   "metadata": {
    "ExecuteTime": {
     "end_time": "2022-12-06T03:32:43.198127Z",
     "start_time": "2022-12-06T03:32:43.198121Z"
    }
   },
   "outputs": [],
   "source": [
    "w1, w2 = w.view(2)\n",
    "b1 = b[0]\n",
    "print(w1, w2, b1)"
   ]
  },
  {
   "cell_type": "code",
   "execution_count": null,
   "id": "ff224056",
   "metadata": {
    "ExecuteTime": {
     "end_time": "2022-12-06T03:32:43.199116Z",
     "start_time": "2022-12-06T03:32:43.199110Z"
    }
   },
   "outputs": [],
   "source": [
    "print(w1.item(), w2.item(), b1.item())"
   ]
  },
  {
   "cell_type": "code",
   "execution_count": null,
   "id": "04d3b635",
   "metadata": {
    "ExecuteTime": {
     "end_time": "2022-12-06T03:32:43.199873Z",
     "start_time": "2022-12-06T03:32:43.199866Z"
    }
   },
   "outputs": [],
   "source": [
    "def get_params():\n",
    "    return (w1.item(), w2.item(), b[0].item())"
   ]
  },
  {
   "cell_type": "code",
   "execution_count": null,
   "id": "9df216af",
   "metadata": {
    "ExecuteTime": {
     "end_time": "2022-12-06T03:32:43.201137Z",
     "start_time": "2022-12-06T03:32:43.201130Z"
    }
   },
   "outputs": [],
   "source": [
    "def scatter_plot():\n",
    "    colors = bright_colors(2)\n",
    "    plt.scatter(X[y == 0, 0], X[y == 0, 1], color=colors[0])\n",
    "    plt.scatter(X[y == 1, 0], X[y == 1, 1], color=colors[1])"
   ]
  },
  {
   "cell_type": "code",
   "execution_count": null,
   "id": "f9a7ebf6",
   "metadata": {
    "ExecuteTime": {
     "end_time": "2022-12-06T03:32:43.201816Z",
     "start_time": "2022-12-06T03:32:43.201809Z"
    }
   },
   "outputs": [],
   "source": [
    "scatter_plot()"
   ]
  },
  {
   "cell_type": "code",
   "execution_count": null,
   "id": "85d26300",
   "metadata": {
    "ExecuteTime": {
     "end_time": "2022-12-06T03:32:43.202745Z",
     "start_time": "2022-12-06T03:32:43.202739Z"
    }
   },
   "outputs": [],
   "source": [
    "def plot_fit(title):\n",
    "    plt.title = title\n",
    "    w1, w2, b1 = get_params()\n",
    "    x1 = np.array([-2.0, 2.0])\n",
    "    # 0 = w1 * x1 + w2 * x2 + b1\n",
    "    x2 = (w1 * x1 + b1) / -w2\n",
    "    plt.plot(x1, x2, \"r\")\n",
    "    scatter_plot()"
   ]
  },
  {
   "cell_type": "code",
   "execution_count": null,
   "id": "b8c10e86",
   "metadata": {
    "ExecuteTime": {
     "end_time": "2022-12-06T03:32:43.203404Z",
     "start_time": "2022-12-06T03:32:43.203398Z"
    }
   },
   "outputs": [],
   "source": [
    "plot_fit(\"Initial Model\")"
   ]
  },
  {
   "cell_type": "markdown",
   "id": "99005cfe",
   "metadata": {},
   "source": [
    "# Model Training"
   ]
  },
  {
   "cell_type": "code",
   "execution_count": null,
   "id": "3c313efc",
   "metadata": {
    "ExecuteTime": {
     "end_time": "2022-12-06T03:32:43.204083Z",
     "start_time": "2022-12-06T03:32:43.204077Z"
    }
   },
   "outputs": [],
   "source": [
    "X_data = torch.Tensor(X)\n",
    "y_data = torch.Tensor(y).reshape(-1, 1)\n",
    "print(X_data[::10])\n",
    "print(y_data[::10])"
   ]
  },
  {
   "cell_type": "code",
   "execution_count": null,
   "id": "588cf8d2",
   "metadata": {
    "ExecuteTime": {
     "end_time": "2022-12-06T03:32:43.204862Z",
     "start_time": "2022-12-06T03:32:43.204856Z"
    }
   },
   "outputs": [],
   "source": [
    "criterion = nn.BCELoss()\n",
    "optimizer = torch.optim.SGD(model.parameters(), lr=0.01)"
   ]
  },
  {
   "cell_type": "code",
   "execution_count": null,
   "id": "a97131c4",
   "metadata": {
    "ExecuteTime": {
     "end_time": "2022-12-06T03:32:43.205351Z",
     "start_time": "2022-12-06T03:32:43.205345Z"
    }
   },
   "outputs": [],
   "source": [
    "epochs = 1000\n",
    "losses = []\n",
    "termcolors = [\n",
    "    \"grey\", \"red\", \"green\", \"yellow\", \"blue\", \"magenta\", \"cyan\", \"white\"\n",
    "]\n",
    "font_colors = random.choices(termcolors, k=2)\n",
    "for i in range(epochs):\n",
    "    i += 1\n",
    "    y_pred = model.forward(X_data)\n",
    "    loss = criterion(y_pred, y_data)\n",
    "    if i == 1 or i % 100 == 0:\n",
    "        print(colored(\"epoch:\", font_colors[0], attrs=[\"bold\"]), i,\n",
    "              colored(\"loss:\", font_colors[1]), loss.item())\n",
    "        print(colored(\"weight:\", font_colors[1]),\n",
    "              list(model.parameters())[0][0][0].item(),\n",
    "              colored(\"bias:\", font_colors[1]),\n",
    "              list(model.parameters())[1][0].item())\n",
    "    losses.append(loss.item())\n",
    "    optimizer.zero_grad()\n",
    "    loss.backward()\n",
    "    optimizer.step()"
   ]
  },
  {
   "cell_type": "code",
   "execution_count": null,
   "id": "12139759",
   "metadata": {
    "ExecuteTime": {
     "end_time": "2022-12-06T03:32:43.205902Z",
     "start_time": "2022-12-06T03:32:43.205896Z"
    }
   },
   "outputs": [],
   "source": [
    "colors = bright_colors(1)\n",
    "plt.plot(range(epochs), losses, c=colors[0])\n",
    "plt.ylabel(\"Loss\")\n",
    "plt.xlabel(\"Epoch\")"
   ]
  },
  {
   "cell_type": "code",
   "execution_count": null,
   "id": "e5a0948d",
   "metadata": {
    "ExecuteTime": {
     "end_time": "2022-12-06T03:32:43.206645Z",
     "start_time": "2022-12-06T03:32:43.206638Z"
    }
   },
   "outputs": [],
   "source": [
    "plot_fit(\"Trained Model\")"
   ]
  },
  {
   "cell_type": "markdown",
   "id": "7d2cb0fc",
   "metadata": {},
   "source": [
    "# Model Testing"
   ]
  },
  {
   "cell_type": "code",
   "execution_count": null,
   "id": "7105db58",
   "metadata": {
    "ExecuteTime": {
     "end_time": "2022-12-06T03:32:43.207351Z",
     "start_time": "2022-12-06T03:32:43.207345Z"
    }
   },
   "outputs": [],
   "source": [
    "point1 = torch.Tensor([1.0, -1.0])\n",
    "point2 = torch.Tensor([-1.0, 1.0])\n",
    "plt.plot(point1.numpy()[0], point1.numpy()[1], \"ro\")\n",
    "plt.plot(point2.numpy()[0], point2.numpy()[1], \"ko\")\n",
    "print(\"Red point positive probability = {}\".format(\n",
    "    model.forward(point1).item()))\n",
    "print(\"Black point positive probability = {}\".format(\n",
    "    model.forward(point2).item()))\n",
    "plot_fit(\"Trained Model\")"
   ]
  },
  {
   "cell_type": "code",
   "execution_count": null,
   "id": "6314a0c7",
   "metadata": {
    "ExecuteTime": {
     "end_time": "2022-12-06T03:32:43.208405Z",
     "start_time": "2022-12-06T03:32:43.208399Z"
    }
   },
   "outputs": [],
   "source": [
    "class Model(nn.Module):\n",
    "\n",
    "    def __init__(self, input_size, output_size):\n",
    "        super().__init__()\n",
    "        self.linear = nn.Linear(input_size, output_size)\n",
    "\n",
    "    def forward(self, x):\n",
    "        pred = torch.sigmoid(self.linear(x))\n",
    "        return pred\n",
    "\n",
    "    def predict(self, x):\n",
    "        pred = self.forward(x)\n",
    "        if pred >= 0.5:\n",
    "            return 1\n",
    "        else:\n",
    "            return 0"
   ]
  },
  {
   "cell_type": "code",
   "execution_count": null,
   "id": "01ea8850",
   "metadata": {
    "ExecuteTime": {
     "end_time": "2022-12-06T03:32:43.208925Z",
     "start_time": "2022-12-06T03:32:43.208919Z"
    }
   },
   "outputs": [],
   "source": [
    "torch.manual_seed(2)\n",
    "model = Model(2, 1)\n",
    "[w, b] = model.parameters()\n",
    "w1, w2 = w.view(2)\n",
    "criterion = nn.BCELoss()\n",
    "optimizer = torch.optim.SGD(model.parameters(), lr=0.01)\n",
    "epochs = 1000\n",
    "for i in range(epochs):\n",
    "    i += 1\n",
    "    y_pred = model.forward(X_data)\n",
    "    loss = criterion(y_pred, y_data)\n",
    "    losses.append(loss.item())\n",
    "    optimizer.zero_grad()\n",
    "    loss.backward()\n",
    "    optimizer.step()"
   ]
  },
  {
   "cell_type": "code",
   "execution_count": null,
   "id": "6078567d",
   "metadata": {
    "ExecuteTime": {
     "end_time": "2022-12-06T03:32:43.209654Z",
     "start_time": "2022-12-06T03:32:43.209647Z"
    }
   },
   "outputs": [],
   "source": [
    "point1 = torch.Tensor([1.0, -1.0])\n",
    "point2 = torch.Tensor([-1.0, 1.0])\n",
    "plt.plot(point1.numpy()[0], point1.numpy()[1], \"ro\")\n",
    "plt.plot(point2.numpy()[0], point2.numpy()[1], \"ko\")\n",
    "print(\"Red point positive probability = {}\".format(\n",
    "    model.forward(point1).item()))\n",
    "print(\"Black point positive probability = {}\".format(\n",
    "    model.forward(point2).item()))\n",
    "print(\"Red point in class {}\".format(model.predict(point1)))\n",
    "print(\"Black point in class {}\".format(model.predict(point2)))\n",
    "plot_fit(\"Trained Model\")"
   ]
  }
 ],
 "metadata": {
  "hide_input": false,
  "kernelspec": {
   "display_name": "Python 3 (ipykernel)",
   "language": "python",
   "name": "python3"
  },
  "language_info": {
   "codemirror_mode": {
    "name": "ipython",
    "version": 3
   },
   "file_extension": ".py",
   "mimetype": "text/x-python",
   "name": "python",
   "nbconvert_exporter": "python",
   "pygments_lexer": "ipython3",
   "version": "3.9.13"
  },
  "latex_envs": {
   "LaTeX_envs_menu_present": true,
   "autoclose": false,
   "autocomplete": true,
   "bibliofile": "biblio.bib",
   "cite_by": "apalike",
   "current_citInitial": 1,
   "eqLabelWithNumbers": true,
   "eqNumInitial": 1,
   "hotkeys": {
    "equation": "Ctrl-E",
    "itemize": "Ctrl-I"
   },
   "labels_anchors": false,
   "latex_user_defs": false,
   "report_style_numbering": false,
   "user_envs_cfg": false
  },
  "nbTranslate": {
   "displayLangs": [
    "*"
   ],
   "hotkey": "alt-t",
   "langInMainMenu": true,
   "sourceLang": "en",
   "targetLang": "fr",
   "useGoogleTranslate": true
  },
  "toc": {
   "base_numbering": 1,
   "nav_menu": {},
   "number_sections": true,
   "sideBar": true,
   "skip_h1_title": false,
   "title_cell": "Table of Contents",
   "title_sidebar": "Contents",
   "toc_cell": false,
   "toc_position": {},
   "toc_section_display": true,
   "toc_window_display": true
  },
  "varInspector": {
   "cols": {
    "lenName": 16,
    "lenType": 16,
    "lenVar": 40
   },
   "kernels_config": {
    "python": {
     "delete_cmd_postfix": "",
     "delete_cmd_prefix": "del ",
     "library": "var_list.py",
     "varRefreshCmd": "print(var_dic_list())"
    },
    "r": {
     "delete_cmd_postfix": ") ",
     "delete_cmd_prefix": "rm(",
     "library": "var_list.r",
     "varRefreshCmd": "cat(var_dic_list()) "
    }
   },
   "types_to_exclude": [
    "module",
    "function",
    "builtin_function_or_method",
    "instance",
    "_Feature"
   ],
   "window_display": false
  }
 },
 "nbformat": 4,
 "nbformat_minor": 5
}

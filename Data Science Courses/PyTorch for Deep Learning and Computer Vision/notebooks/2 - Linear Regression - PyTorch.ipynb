{
 "cells": [
  {
   "cell_type": "markdown",
   "id": "f55f38b8",
   "metadata": {},
   "source": [
    "# Importing Libraries"
   ]
  },
  {
   "cell_type": "code",
   "execution_count": 1,
   "id": "7a53a7fb",
   "metadata": {
    "ExecuteTime": {
     "end_time": "2022-11-03T02:02:33.964837Z",
     "start_time": "2022-11-03T02:02:30.013504Z"
    }
   },
   "outputs": [],
   "source": [
    "import torch\n",
    "from torch import nn\n",
    "\n",
    "import numpy as np\n",
    "\n",
    "import matplotlib as mpl\n",
    "import matplotlib.pyplot as plt\n",
    "\n",
    "import sys"
   ]
  },
  {
   "cell_type": "markdown",
   "id": "99ffe2ca",
   "metadata": {},
   "source": [
    "# Configuring Visualization Parameters"
   ]
  },
  {
   "cell_type": "code",
   "execution_count": 2,
   "id": "dfb5e36c",
   "metadata": {
    "ExecuteTime": {
     "end_time": "2022-11-03T02:02:34.018971Z",
     "start_time": "2022-11-03T02:02:33.965982Z"
    }
   },
   "outputs": [],
   "source": [
    "%matplotlib inline"
   ]
  },
  {
   "cell_type": "code",
   "execution_count": 3,
   "id": "5daaca1f",
   "metadata": {
    "ExecuteTime": {
     "end_time": "2022-11-03T02:02:34.021596Z",
     "start_time": "2022-11-03T02:02:34.019900Z"
    }
   },
   "outputs": [],
   "source": [
    "XINHUI = '#7a7374'\n",
    "XUEBAI = '#fffef9'\n",
    "YINBAI = '#f1f0ed'\n",
    "YINHUI = '#918072'\n",
    "\n",
    "figure_size = (16, 9)"
   ]
  },
  {
   "cell_type": "code",
   "execution_count": 4,
   "id": "ae7dafc3",
   "metadata": {
    "ExecuteTime": {
     "end_time": "2022-11-03T02:02:34.025648Z",
     "start_time": "2022-11-03T02:02:34.023179Z"
    }
   },
   "outputs": [],
   "source": [
    "custom_params = {\n",
    "    'axes.axisbelow': True,\n",
    "    'axes.edgecolor': YINBAI,\n",
    "    'axes.facecolor': XUEBAI,\n",
    "    'axes.grid': True,\n",
    "    'axes.labelcolor': XINHUI,\n",
    "    'axes.spines.right': False,\n",
    "    'axes.spines.top': False,\n",
    "    'axes.titlecolor': XINHUI,\n",
    "    'figure.edgecolor': YINBAI,\n",
    "    'figure.facecolor': XUEBAI,\n",
    "    'grid.alpha': .8,\n",
    "    'grid.color': YINBAI,\n",
    "    'grid.linestyle': '--',\n",
    "    'grid.linewidth': 1.2,\n",
    "    'legend.edgecolor': YINHUI,\n",
    "    'patch.edgecolor': XUEBAI,\n",
    "    'patch.force_edgecolor': True,\n",
    "    'text.color': XINHUI,\n",
    "    'xtick.color': YINHUI,\n",
    "    'ytick.color': YINHUI,\n",
    "}\n",
    "\n",
    "mpl.rcParams.update(custom_params)"
   ]
  },
  {
   "cell_type": "markdown",
   "id": "18a1e571",
   "metadata": {},
   "source": [
    "# Pre-installing Custom Functions"
   ]
  },
  {
   "cell_type": "code",
   "execution_count": 5,
   "id": "f696b714",
   "metadata": {
    "ExecuteTime": {
     "end_time": "2022-11-03T02:02:34.028144Z",
     "start_time": "2022-11-03T02:02:34.026629Z"
    }
   },
   "outputs": [],
   "source": [
    "sys.path.append('../')"
   ]
  },
  {
   "cell_type": "code",
   "execution_count": 6,
   "id": "0e7eea36",
   "metadata": {
    "ExecuteTime": {
     "end_time": "2022-11-03T02:02:34.035719Z",
     "start_time": "2022-11-03T02:02:34.028886Z"
    }
   },
   "outputs": [],
   "source": [
    "from modules import *"
   ]
  },
  {
   "cell_type": "markdown",
   "id": "94d5b597",
   "metadata": {},
   "source": [
    "# Practicing in Stages\n",
    "\n",
    "## Making Predictions"
   ]
  },
  {
   "cell_type": "code",
   "execution_count": 7,
   "id": "b4e16e28",
   "metadata": {
    "ExecuteTime": {
     "end_time": "2022-11-03T02:02:34.039348Z",
     "start_time": "2022-11-03T02:02:34.036464Z"
    },
    "code_folding": [],
    "hide_input": false,
    "scrolled": false
   },
   "outputs": [
    {
     "name": "stdout",
     "output_type": "stream",
     "text": [
      "\u001b[4m\u001b[36mDefinition of the function of prediction\u001b[0m\n",
      "\n",
      "\u001b[1m\u001b[36m    +-------------------+\u001b[0m\n",
      "\u001b[1m\u001b[36m    | Definition        |\u001b[0m\n",
      "\u001b[1m\u001b[36m    +-------------------+\u001b[0m\n",
      "\u001b[1m\u001b[36m    | def forward(x):   |\u001b[0m\n",
      "\u001b[1m\u001b[36m    |     y = w * x + b |\u001b[0m\n",
      "\u001b[1m\u001b[36m    |     return y      |\u001b[0m\n",
      "\u001b[1m\u001b[36m    +-------------------+\u001b[0m\n"
     ]
    }
   ],
   "source": [
    "def forward(x):\n",
    "    y = w * x + b\n",
    "    return y\n",
    "\n",
    "\n",
    "tabulation = FormGenerator()\n",
    "tabulation.heading_printer(\"Definition of the function of prediction\")\n",
    "\n",
    "definition_1 = \"\"\"\n",
    "def forward(x):\n",
    "    y = w * x + b\n",
    "    return y\n",
    "\"\"\"\n",
    "definitions = [definition_1]\n",
    "tabulation.definition_generator(definitions)"
   ]
  },
  {
   "cell_type": "code",
   "execution_count": 8,
   "id": "fe756398",
   "metadata": {
    "ExecuteTime": {
     "end_time": "2022-11-03T02:02:34.045026Z",
     "start_time": "2022-11-03T02:02:34.040056Z"
    },
    "hide_input": false
   },
   "outputs": [
    {
     "name": "stdout",
     "output_type": "stream",
     "text": [
      "\u001b[4m\u001b[35mInitial assignment of parameters\u001b[0m\n",
      "\n",
      "\u001b[1m\u001b[35m    +-------------------------------------------+\u001b[0m\n",
      "\u001b[1m\u001b[35m    | Statement                                 |\u001b[0m\n",
      "\u001b[1m\u001b[35m    +-------------------------------------------+\u001b[0m\n",
      "\u001b[1m\u001b[35m    | w = torch.tensor(3.0, requires_grad=True) |\u001b[0m\n",
      "\u001b[1m\u001b[35m    | b = torch.tensor(1.0, requires_grad=True) |\u001b[0m\n",
      "\u001b[1m\u001b[35m    +-------------------------------------------+\u001b[0m\n",
      "\u001b[1m\u001b[35m    +----------+--------------------------------+\u001b[0m\n",
      "\u001b[1m\u001b[35m    | Variable | Value                          |\u001b[0m\n",
      "\u001b[1m\u001b[35m    +----------+--------------------------------+\u001b[0m\n",
      "\u001b[1m\u001b[35m    | w        | tensor(3., requires_grad=True) |\u001b[0m\n",
      "\u001b[1m\u001b[35m    | b        | tensor(1., requires_grad=True) |\u001b[0m\n",
      "\u001b[1m\u001b[35m    +----------+--------------------------------+\u001b[0m\n"
     ]
    }
   ],
   "source": [
    "w = torch.tensor(3.0, requires_grad=True)\n",
    "b = torch.tensor(1.0, requires_grad=True)\n",
    "\n",
    "tabulation = FormGenerator()\n",
    "tabulation.heading_printer(\"Initial assignment of parameters\")\n",
    "\n",
    "statement_1 = \"w = torch.tensor(3.0, requires_grad=True)\"\n",
    "statement_2 = \"b = torch.tensor(1.0, requires_grad=True)\"\n",
    "statements = [statement_1] + [statement_2]\n",
    "tabulation.statement_generator(statements)\n",
    "\n",
    "variables = [\"w\", \"b\"]\n",
    "values = [str(w), str(b)]\n",
    "tabulation.variable_generator(variables, values)"
   ]
  },
  {
   "cell_type": "code",
   "execution_count": 9,
   "id": "4cfd5a4e",
   "metadata": {
    "ExecuteTime": {
     "end_time": "2022-11-03T02:02:34.049322Z",
     "start_time": "2022-11-03T02:02:34.045859Z"
    },
    "hide_input": false
   },
   "outputs": [
    {
     "name": "stdout",
     "output_type": "stream",
     "text": [
      "\u001b[4m\u001b[30mFunction implementation with 0D tensor\u001b[0m\n",
      "\n",
      "\u001b[1m\u001b[30m    +---------------------+\u001b[0m\n",
      "\u001b[1m\u001b[30m    | Statement           |\u001b[0m\n",
      "\u001b[1m\u001b[30m    +---------------------+\u001b[0m\n",
      "\u001b[1m\u001b[30m    | x = torch.tensor(2) |\u001b[0m\n",
      "\u001b[1m\u001b[30m    +---------------------+\u001b[0m\n",
      "\u001b[1m\u001b[30m    +----------+-----------+\u001b[0m\n",
      "\u001b[1m\u001b[30m    | Variable | Value     |\u001b[0m\n",
      "\u001b[1m\u001b[30m    +----------+-----------+\u001b[0m\n",
      "\u001b[1m\u001b[30m    | x        | tensor(2) |\u001b[0m\n",
      "\u001b[1m\u001b[30m    +----------+-----------+\u001b[0m\n",
      "\u001b[1m\u001b[30m    +------------+------------------------------------+\u001b[0m\n",
      "\u001b[1m\u001b[30m    | Expression | Result                             |\u001b[0m\n",
      "\u001b[1m\u001b[30m    +------------+------------------------------------+\u001b[0m\n",
      "\u001b[1m\u001b[30m    | forward(x) | tensor(7., grad_fn=<AddBackward0>) |\u001b[0m\n",
      "\u001b[1m\u001b[30m    +------------+------------------------------------+\u001b[0m\n"
     ]
    }
   ],
   "source": [
    "x = torch.tensor(2)\n",
    "\n",
    "tabulation = FormGenerator()\n",
    "tabulation.heading_printer(\"Function implementation with 0D tensor\")\n",
    "\n",
    "statement_1 = \"x = torch.tensor(2)\"\n",
    "statements = [statement_1]\n",
    "tabulation.statement_generator(statements)\n",
    "\n",
    "variables = [\"x\"]\n",
    "values = [str(x)]\n",
    "tabulation.variable_generator(variables, values)\n",
    "\n",
    "expressions = [\"forward(x)\"]\n",
    "results = [str(forward(x))]\n",
    "tabulation.expression_generator(expressions, results)"
   ]
  },
  {
   "cell_type": "code",
   "execution_count": 10,
   "id": "d6b7794a",
   "metadata": {
    "ExecuteTime": {
     "end_time": "2022-11-03T02:02:34.055634Z",
     "start_time": "2022-11-03T02:02:34.051905Z"
    },
    "hide_input": false
   },
   "outputs": [
    {
     "name": "stdout",
     "output_type": "stream",
     "text": [
      "\u001b[4m\u001b[37mFunction implementation with multi-D tensor\u001b[0m\n",
      "\n",
      "\u001b[1m\u001b[37m    +------------------------------+\u001b[0m\n",
      "\u001b[1m\u001b[37m    | Statement                    |\u001b[0m\n",
      "\u001b[1m\u001b[37m    +------------------------------+\u001b[0m\n",
      "\u001b[1m\u001b[37m    | x = torch.tensor([[4], [7]]) |\u001b[0m\n",
      "\u001b[1m\u001b[37m    +------------------------------+\u001b[0m\n",
      "\u001b[1m\u001b[37m    +----------+---------------+\u001b[0m\n",
      "\u001b[1m\u001b[37m    | Variable | Value         |\u001b[0m\n",
      "\u001b[1m\u001b[37m    +----------+---------------+\u001b[0m\n",
      "\u001b[1m\u001b[37m    | x        | tensor([[4],  |\u001b[0m\n",
      "\u001b[1m\u001b[37m    |          |         [7]]) |\u001b[0m\n",
      "\u001b[1m\u001b[37m    +----------+---------------+\u001b[0m\n",
      "\u001b[1m\u001b[37m    +------------+-----------------------------------------+\u001b[0m\n",
      "\u001b[1m\u001b[37m    | Expression | Result                                  |\u001b[0m\n",
      "\u001b[1m\u001b[37m    +------------+-----------------------------------------+\u001b[0m\n",
      "\u001b[1m\u001b[37m    | forward(x) | tensor([[13.],                          |\u001b[0m\n",
      "\u001b[1m\u001b[37m    |            |         [22.]], grad_fn=<AddBackward0>) |\u001b[0m\n",
      "\u001b[1m\u001b[37m    +------------+-----------------------------------------+\u001b[0m\n"
     ]
    }
   ],
   "source": [
    "x = torch.tensor([[4], [7]])\n",
    "\n",
    "tabulation = FormGenerator()\n",
    "tabulation.heading_printer(\"Function implementation with multi-D tensor\")\n",
    "\n",
    "statement_1 = \"x = torch.tensor([[4], [7]])\"\n",
    "statements = [statement_1]\n",
    "tabulation.statement_generator(statements)\n",
    "\n",
    "variables = [\"x\"]\n",
    "values = [str(x)]\n",
    "tabulation.variable_generator(variables, values)\n",
    "\n",
    "expressions = [\"forward(x)\"]\n",
    "results = [str(forward(x))]\n",
    "tabulation.expression_generator(expressions, results)"
   ]
  },
  {
   "cell_type": "markdown",
   "id": "199a0606",
   "metadata": {},
   "source": [
    "## Linear Class"
   ]
  },
  {
   "cell_type": "code",
   "execution_count": 11,
   "id": "217149f9",
   "metadata": {
    "ExecuteTime": {
     "end_time": "2022-11-03T02:02:34.061817Z",
     "start_time": "2022-11-03T02:02:34.056385Z"
    }
   },
   "outputs": [
    {
     "name": "stdout",
     "output_type": "stream",
     "text": [
      "\u001b[4m\u001b[34mInitialization of standard linear model\u001b[0m\n",
      "\n",
      "\u001b[1m\u001b[34m    +--------------------------------------------------+\u001b[0m\n",
      "\u001b[1m\u001b[34m    | Statement                                        |\u001b[0m\n",
      "\u001b[1m\u001b[34m    +--------------------------------------------------+\u001b[0m\n",
      "\u001b[1m\u001b[34m    | torch.manual_seed(1)                             |\u001b[0m\n",
      "\u001b[1m\u001b[34m    | model = nn.Linear(in_features=1, out_features=1) |\u001b[0m\n",
      "\u001b[1m\u001b[34m    +--------------------------------------------------+\u001b[0m\n",
      "\u001b[1m\u001b[34m    +----------+--------------------------------------------------+\u001b[0m\n",
      "\u001b[1m\u001b[34m    | Variable | Value                                            |\u001b[0m\n",
      "\u001b[1m\u001b[34m    +----------+--------------------------------------------------+\u001b[0m\n",
      "\u001b[1m\u001b[34m    | model    | Linear(in_features=1, out_features=1, bias=True) |\u001b[0m\n",
      "\u001b[1m\u001b[34m    +----------+--------------------------------------------------+\u001b[0m\n",
      "\u001b[1m\u001b[34m    +--------------+----------------------------------------+\u001b[0m\n",
      "\u001b[1m\u001b[34m    | Expression   | Result                                 |\u001b[0m\n",
      "\u001b[1m\u001b[34m    +--------------+----------------------------------------+\u001b[0m\n",
      "\u001b[1m\u001b[34m    | model.weight | Parameter containing:                  |\u001b[0m\n",
      "\u001b[1m\u001b[34m    |              | tensor([[0.5153]], requires_grad=True) |\u001b[0m\n",
      "\u001b[1m\u001b[34m    | model.bias   | Parameter containing:                  |\u001b[0m\n",
      "\u001b[1m\u001b[34m    |              | tensor([-0.4414], requires_grad=True)  |\u001b[0m\n",
      "\u001b[1m\u001b[34m    +--------------+----------------------------------------+\u001b[0m\n"
     ]
    }
   ],
   "source": [
    "torch.manual_seed(1)\n",
    "model = nn.Linear(in_features=1, out_features=1)\n",
    "\n",
    "tabulation = FormGenerator()\n",
    "tabulation.heading_printer(\"Initialization of standard linear model\")\n",
    "\n",
    "statement_1 = \"torch.manual_seed(1)\"\n",
    "statement_2 = \"model = nn.Linear(in_features=1, out_features=1)\"\n",
    "statements = [statement_1] + [statement_2]\n",
    "tabulation.statement_generator(statements)\n",
    "\n",
    "variables = [\"model\"]\n",
    "values = [str(model)]\n",
    "tabulation.variable_generator(variables, values)\n",
    "\n",
    "expressions = [\"model.weight\", \"model.bias\"]\n",
    "results = [str(model.weight), str(model.bias)]\n",
    "tabulation.expression_generator(expressions, results)"
   ]
  },
  {
   "cell_type": "code",
   "execution_count": 12,
   "id": "8a98856f",
   "metadata": {
    "ExecuteTime": {
     "end_time": "2022-11-03T02:02:34.067007Z",
     "start_time": "2022-11-03T02:02:34.063076Z"
    }
   },
   "outputs": [
    {
     "name": "stdout",
     "output_type": "stream",
     "text": [
      "\u001b[4m\u001b[32mModel implementation with 1D tensor\u001b[0m\n",
      "\n",
      "\u001b[1m\u001b[32m    +-------------------------+\u001b[0m\n",
      "\u001b[1m\u001b[32m    | Statement               |\u001b[0m\n",
      "\u001b[1m\u001b[32m    +-------------------------+\u001b[0m\n",
      "\u001b[1m\u001b[32m    | x = torch.tensor([2.0]) |\u001b[0m\n",
      "\u001b[1m\u001b[32m    +-------------------------+\u001b[0m\n",
      "\u001b[1m\u001b[32m    +----------+--------------+\u001b[0m\n",
      "\u001b[1m\u001b[32m    | Variable | Value        |\u001b[0m\n",
      "\u001b[1m\u001b[32m    +----------+--------------+\u001b[0m\n",
      "\u001b[1m\u001b[32m    | x        | tensor([2.]) |\u001b[0m\n",
      "\u001b[1m\u001b[32m    +----------+--------------+\u001b[0m\n",
      "\u001b[1m\u001b[32m    +------------+------------------------------------------+\u001b[0m\n",
      "\u001b[1m\u001b[32m    | Expression | Result                                   |\u001b[0m\n",
      "\u001b[1m\u001b[32m    +------------+------------------------------------------+\u001b[0m\n",
      "\u001b[1m\u001b[32m    | model(x)   | tensor([0.5891], grad_fn=<AddBackward0>) |\u001b[0m\n",
      "\u001b[1m\u001b[32m    +------------+------------------------------------------+\u001b[0m\n"
     ]
    }
   ],
   "source": [
    "x = torch.tensor([2.0])\n",
    "\n",
    "tabulation = FormGenerator()\n",
    "tabulation.heading_printer(\"Model implementation with 1D tensor\")\n",
    "\n",
    "statement_1 = \"x = torch.tensor([2.0])\"\n",
    "statements = [statement_1]\n",
    "tabulation.statement_generator(statements)\n",
    "\n",
    "variables = [\"x\"]\n",
    "values = [str(x)]\n",
    "tabulation.variable_generator(variables, values)\n",
    "\n",
    "expressions = [\"model(x)\"]\n",
    "results = [str(model(x))]\n",
    "tabulation.expression_generator(expressions, results)"
   ]
  },
  {
   "cell_type": "code",
   "execution_count": 13,
   "id": "ecaf971b",
   "metadata": {
    "ExecuteTime": {
     "end_time": "2022-11-03T02:02:34.072046Z",
     "start_time": "2022-11-03T02:02:34.068016Z"
    }
   },
   "outputs": [
    {
     "name": "stdout",
     "output_type": "stream",
     "text": [
      "\u001b[4m\u001b[31mFunction implementation with multi-D tensor\u001b[0m\n",
      "\n",
      "\u001b[1m\u001b[31m    +----------------------------------+\u001b[0m\n",
      "\u001b[1m\u001b[31m    | Statement                        |\u001b[0m\n",
      "\u001b[1m\u001b[31m    +----------------------------------+\u001b[0m\n",
      "\u001b[1m\u001b[31m    | x = torch.tensor([[2.0], [3.3]]) |\u001b[0m\n",
      "\u001b[1m\u001b[31m    +----------------------------------+\u001b[0m\n",
      "\u001b[1m\u001b[31m    +----------+--------------------+\u001b[0m\n",
      "\u001b[1m\u001b[31m    | Variable | Value              |\u001b[0m\n",
      "\u001b[1m\u001b[31m    +----------+--------------------+\u001b[0m\n",
      "\u001b[1m\u001b[31m    | x        | tensor([[2.0000],  |\u001b[0m\n",
      "\u001b[1m\u001b[31m    |          |         [3.3000]]) |\u001b[0m\n",
      "\u001b[1m\u001b[31m    +----------+--------------------+\u001b[0m\n",
      "\u001b[1m\u001b[31m    +------------+----------------------------------------------+\u001b[0m\n",
      "\u001b[1m\u001b[31m    | Expression | Result                                       |\u001b[0m\n",
      "\u001b[1m\u001b[31m    +------------+----------------------------------------------+\u001b[0m\n",
      "\u001b[1m\u001b[31m    | model(x)   | tensor([[0.5891],                            |\u001b[0m\n",
      "\u001b[1m\u001b[31m    |            |         [1.2590]], grad_fn=<AddmmBackward0>) |\u001b[0m\n",
      "\u001b[1m\u001b[31m    +------------+----------------------------------------------+\u001b[0m\n"
     ]
    }
   ],
   "source": [
    "x = torch.tensor([[2.0], [3.3]])\n",
    "\n",
    "tabulation = FormGenerator()\n",
    "tabulation.heading_printer(\"Function implementation with multi-D tensor\")\n",
    "\n",
    "statement_1 = \"x = torch.tensor([[2.0], [3.3]])\"\n",
    "statements = [statement_1]\n",
    "tabulation.statement_generator(statements)\n",
    "\n",
    "variables = [\"x\"]\n",
    "values = [str(x)]\n",
    "tabulation.variable_generator(variables, values)\n",
    "\n",
    "expressions = [\"model(x)\"]\n",
    "results = [str(model(x))]\n",
    "tabulation.expression_generator(expressions, results)"
   ]
  },
  {
   "cell_type": "markdown",
   "id": "606976ad",
   "metadata": {},
   "source": [
    "## Custom Modules"
   ]
  },
  {
   "cell_type": "code",
   "execution_count": 14,
   "id": "bf7276d1",
   "metadata": {
    "ExecuteTime": {
     "end_time": "2022-11-03T02:02:34.074805Z",
     "start_time": "2022-11-03T02:02:34.072812Z"
    }
   },
   "outputs": [],
   "source": [
    "class LR(nn.Module):\n",
    "\n",
    "    def __init__(self, input_size, output_size):\n",
    "        super().__init__()\n",
    "        self.linear = nn.Linear(input_size, output_size)\n",
    "\n",
    "    def forward(self, x):\n",
    "        pred = self.linear(x)\n",
    "        return pred"
   ]
  },
  {
   "cell_type": "code",
   "execution_count": 15,
   "id": "201fc81f",
   "metadata": {
    "ExecuteTime": {
     "end_time": "2022-11-03T02:02:34.077433Z",
     "start_time": "2022-11-03T02:02:34.075718Z"
    }
   },
   "outputs": [
    {
     "name": "stdout",
     "output_type": "stream",
     "text": [
      "\u001b[1m\u001b[31m    +----------+--------------------------------------+\u001b[0m\n",
      "\u001b[1m\u001b[31m    | Variable | Value                                |\u001b[0m\n",
      "\u001b[1m\u001b[31m    +----------+--------------------------------------+\u001b[0m\n",
      "\u001b[1m\u001b[31m    | model(x) | 123456789900123456789012345          |\u001b[0m\n",
      "\u001b[1m\u001b[31m    |          |         67891                        |\u001b[0m\n",
      "\u001b[1m\u001b[31m    |          | 2345678901234jjjjjjjjj 5678903456789 |\u001b[0m\n",
      "\u001b[1m\u001b[31m    |          |                 4567894567895        |\u001b[0m\n",
      "\u001b[1m\u001b[31m    |          | 678945678945678345678                |\u001b[0m\n",
      "\u001b[1m\u001b[31m    +----------+--------------------------------------+\u001b[0m\n"
     ]
    }
   ],
   "source": [
    "results = [\n",
    "    \"123456789900123456789012345\\n\\t67891              2345678901234jjjjjjjjj 5678903456789\\n\\t\\t4567894567895 678945678945678345678\"\n",
    "]\n",
    "tabulation.variable_generator(expressions, results)"
   ]
  },
  {
   "cell_type": "code",
   "execution_count": 16,
   "id": "b36ec1a3",
   "metadata": {
    "ExecuteTime": {
     "end_time": "2022-11-03T02:02:34.079894Z",
     "start_time": "2022-11-03T02:02:34.078203Z"
    }
   },
   "outputs": [
    {
     "name": "stdout",
     "output_type": "stream",
     "text": [
      "0\n",
      "8\n",
      "8\n"
     ]
    }
   ],
   "source": [
    "results = \"123456789900123456789012345\\n\\t67891              2345678901234 5678903456789\\n\\t4567894567895 678945678945678345678\"\n",
    "\n",
    "for i in results.split('\\n'):\n",
    "    print(len(re.findall(r'\\t', i)) * 8)"
   ]
  },
  {
   "cell_type": "code",
   "execution_count": null,
   "id": "a928633e",
   "metadata": {},
   "outputs": [],
   "source": [
    "import re\n",
    "from tabulate import tabulate\n",
    "from termcolor import cprint\n",
    "\n",
    "from .random_colors import color_list_generator\n",
    "\n",
    "\n",
    "class FormGenerator():\n",
    "\n",
    "    def __init__(self):\n",
    "        self.adjusted_width = 59\n",
    "\n",
    "    def heading_printer(self, heading):\n",
    "        self.heading = heading\n",
    "        global font_colors_list\n",
    "        try:\n",
    "            font_colors_list\n",
    "        except NameError:\n",
    "            font_colors_list = color_list_generator()\n",
    "        if font_colors_list == []:\n",
    "            font_colors_list = color_list_generator()\n",
    "        self.previous_color = font_colors_list.pop(0)\n",
    "        cprint(self.heading,\n",
    "               self.previous_color,\n",
    "               attrs=['underline'],\n",
    "               end='\\n\\n')\n",
    "\n",
    "    def expression_generator(self, expressions, results):\n",
    "        table = [[\"Expression\", \"Result\"]]\n",
    "        max_length = len(max(expressions, key=len))\n",
    "        if len(\"Expression\") >= max_length:\n",
    "            length_expression = len(\"Expression\")\n",
    "        else:\n",
    "            length_expression = max_length\n",
    "        remainder = self.adjusted_width - length_expression - 3\n",
    "        for expression, result in zip(expressions, results):\n",
    "            if len(result) > remainder:\n",
    "                if re.search(r'\\n', str(result)):\n",
    "                    start = 0\n",
    "                    printable_result = \"\"\n",
    "                    string_list = []\n",
    "                    for match in re.finditer(r'\\n', str(result)):\n",
    "                        nested_string = str(result)[start:match.span()[0]]\n",
    "                        string_list.append(nested_string)\n",
    "                        start = match.span()[1]\n",
    "                    string_list.append(str(result)[start:])\n",
    "                    for nested_string in string_list:\n",
    "                        if len(nested_string) + len(\n",
    "                                re.findall(r'\\t',\n",
    "                                           nested_string)) * 8 > remainder:\n",
    "                            printable_string = \"\"\n",
    "                            printable_line = nested_string\n",
    "                            while len(printable_line) + len(\n",
    "                                    re.findall(r'\\t', printable_line)\n",
    "                            ) * 8 > remainder:\n",
    "                                while printable_line.rfind(' ') + len(\n",
    "                                        re.findall(r'\\t', printable_line)\n",
    "                                ) * 8 > remainder:\n",
    "                                    printable_line = printable_line[:\n",
    "                                                                    printable_line\n",
    "                                                                    .rfind(' '\n",
    "                                                                           )]\n",
    "                                else:\n",
    "                                    printable_line = printable_line[:\n",
    "                                                                    printable_line\n",
    "                                                                    .rfind(' '\n",
    "                                                                           )]\n",
    "                                printable_string += printable_line.expandtabs(\n",
    "                                    8) + \"\\n\"\n",
    "                                nested_string = nested_string[\n",
    "                                    len(printable_line) + 1:]\n",
    "                                printable_line = nested_string.expandtabs(8)\n",
    "                            else:\n",
    "                                printable_string += printable_line.expandtabs(\n",
    "                                    8)\n",
    "                                printable_result += printable_string.expandtabs(\n",
    "                                    8) + \"\\n\"\n",
    "                        else:\n",
    "                            printable_result += nested_string + \"\\n\"\n",
    "                    table.append([expression, printable_result.strip(\"\\n\")])\n",
    "                else:\n",
    "                    printable_result = \"\"\n",
    "                    printable_line = result\n",
    "                    while len(result) > remainder:\n",
    "                        while printable_line.rfind(' ') > remainder:\n",
    "                            printable_line = printable_line[:printable_line.\n",
    "                                                            rfind(' ')]\n",
    "                        else:\n",
    "                            printable_line = printable_line[:printable_line.\n",
    "                                                            rfind(' ')]\n",
    "                        printable_result += printable_line + \"\\n\"\n",
    "                        result = result[len(printable_line) + 1:]\n",
    "                        printable_line = result\n",
    "                    else:\n",
    "                        printable_result += printable_line\n",
    "                        table.append([expression, printable_result])\n",
    "            else:\n",
    "                table.append([expression, result])\n",
    "        table_list = tabulate(table,\n",
    "                              headers='firstrow',\n",
    "                              tablefmt='pretty',\n",
    "                              colalign=(\"left\", \"left\")).split('\\n')\n",
    "        for line in table_list:\n",
    "            cprint('\\t'.expandtabs(4) + line,\n",
    "                   self.previous_color,\n",
    "                   attrs=['bold'])\n",
    "\n",
    "    def definition_generator(self, definitions):\n",
    "        table = [[\"Definition\"]]\n",
    "        for definition in definitions:\n",
    "            printable_definition = \"\"\n",
    "            for line in definition.strip().split(\"\\n\"):\n",
    "                if len(line) > self.adjusted_width:\n",
    "                    printable_lines = \"\"\n",
    "                    printable_line = line\n",
    "                    while len(line) > self.adjusted_width:\n",
    "                        while printable_line.rfind(' ') > self.adjusted_width:\n",
    "                            printable_line = printable_line[:printable_line.\n",
    "                                                            rfind(' ')]\n",
    "                        else:\n",
    "                            printable_line = printable_line[:printable_line.\n",
    "                                                            rfind(' ')]\n",
    "                        printable_lines += printable_line + \\\n",
    "                            \"\\n\\t\".expandtabs(8)\n",
    "                        line = line[len(printable_line) + 1:]\n",
    "                        printable_line = line\n",
    "                    else:\n",
    "                        printable_lines += printable_line\n",
    "                        printable_definition += printable_lines + \"\\n\"\n",
    "                else:\n",
    "                    printable_definition += line + \"\\n\"\n",
    "            table.append([printable_definition.strip(\"\\n\")])\n",
    "        table_list = tabulate(table,\n",
    "                              headers='firstrow',\n",
    "                              tablefmt='pretty',\n",
    "                              colalign=('left', )).split('\\n')\n",
    "        for line in table_list:\n",
    "            cprint('\\t'.expandtabs(4) + line,\n",
    "                   self.previous_color,\n",
    "                   attrs=['bold'])\n",
    "\n",
    "    def statement_generator(self, statements):\n",
    "        table = [[\"Statement\"]]\n",
    "        for statement in statements:\n",
    "            if len(statement) > self.adjusted_width:\n",
    "                printable_statement = \"\"\n",
    "                printable_line = statement\n",
    "                while len(statement) > self.adjusted_width:\n",
    "                    while printable_line.rfind(' ') > self.adjusted_width:\n",
    "                        printable_line = printable_line[:printable_line.\n",
    "                                                        rfind(' ')]\n",
    "                    else:\n",
    "                        printable_line = printable_line[:printable_line.\n",
    "                                                        rfind(' ')]\n",
    "                    printable_statement += printable_line + \\\n",
    "                        \"\\n\\t\".expandtabs(8)\n",
    "                    statement = statement[len(printable_line) + 1:]\n",
    "                    printable_line = statement\n",
    "                else:\n",
    "                    printable_statement += printable_line\n",
    "                    table.append([printable_statement])\n",
    "            else:\n",
    "                table.append([statement])\n",
    "        table_list = tabulate(table,\n",
    "                              headers='firstrow',\n",
    "                              tablefmt='pretty',\n",
    "                              colalign=('left', )).split('\\n')\n",
    "        for line in table_list:\n",
    "            cprint('\\t'.expandtabs(4) + line,\n",
    "                   self.previous_color,\n",
    "                   attrs=['bold'])\n",
    "\n",
    "    def variable_generator(self, variables, values):\n",
    "        table = [[\"Variable\", \"Value\"]]\n",
    "        max_length = len(max(variables, key=len))\n",
    "        if len(\"Variable\") >= max_length:\n",
    "            length_variable = len(\"Variable\")\n",
    "        else:\n",
    "            length_variable = max_length\n",
    "        remainder = self.adjusted_width - length_variable - 3\n",
    "        for variable, value in zip(variables, values):\n",
    "            if len(value) > remainder:\n",
    "                if re.search(r'\\n', str(value)):\n",
    "                    start = 0\n",
    "                    printable_value = \"\"\n",
    "                    string_list = []\n",
    "                    for match in re.finditer(r'\\n', str(value)):\n",
    "                        nested_string = str(value)[start:match.span()[0]]\n",
    "                        string_list.append(nested_string)\n",
    "                        start = match.span()[1]\n",
    "                    string_list.append(str(value)[start:])\n",
    "                    for nested_string in string_list:\n",
    "                        if len(nested_string) + len(\n",
    "                                re.findall(r'\\t',\n",
    "                                           nested_string)) * 8 > remainder:\n",
    "                            printable_string = \"\"\n",
    "                            printable_line = nested_string\n",
    "                            while len(printable_line) + len(\n",
    "                                    re.findall(r'\\t', printable_line)\n",
    "                            ) * 8 > remainder:\n",
    "                                while printable_line.rfind(' ') + len(\n",
    "                                        re.findall(r'\\t', printable_line)\n",
    "                                ) * 8 > remainder:\n",
    "                                    printable_line = printable_line[:\n",
    "                                                                    printable_line\n",
    "                                                                    .rfind(' '\n",
    "                                                                           )]\n",
    "                                else:\n",
    "                                    printable_line = printable_line[:\n",
    "                                                                    printable_line\n",
    "                                                                    .rfind(' '\n",
    "                                                                           )]\n",
    "                                printable_string += printable_line.expandtabs(\n",
    "                                    8) + \"\\n\"\n",
    "                                nested_string = nested_string[\n",
    "                                    len(printable_line) + 1:]\n",
    "                                printable_line = nested_string.expandtabs(8)\n",
    "                            else:\n",
    "                                printable_string += printable_line.expandtabs(\n",
    "                                    8)\n",
    "                                printable_value += printable_string.expandtabs(\n",
    "                                    8) + \"\\n\"\n",
    "                        else:\n",
    "                            printable_value += nested_string + \"\\n\"\n",
    "                    table.append([variable, printable_value.strip(\"\\n\")])\n",
    "                else:\n",
    "                    printable_value = \"\"\n",
    "                    printable_line = value\n",
    "                    while len(value) > remainder:\n",
    "                        while printable_line.rfind(' ') > remainder:\n",
    "                            printable_line = printable_line[:printable_line.\n",
    "                                                            rfind(' ')]\n",
    "                        else:\n",
    "                            printable_line = printable_line[:printable_line.\n",
    "                                                            rfind(' ')]\n",
    "                        printable_value += printable_line + \"\\n\"\n",
    "                        value = value[len(printable_line) + 1:]\n",
    "                        printable_line = value\n",
    "                    else:\n",
    "                        printable_value += printable_line\n",
    "                        table.append([variable, printable_value])\n",
    "            else:\n",
    "                table.append([variable, value])\n",
    "        table_list = tabulate(table,\n",
    "                              headers='firstrow',\n",
    "                              tablefmt='pretty',\n",
    "                              colalign=(\"left\", \"left\")).split('\\n')\n",
    "        for line in table_list:\n",
    "            cprint('\\t'.expandtabs(4) + line,\n",
    "                   self.previous_color,\n",
    "                   attrs=['bold'])"
   ]
  },
  {
   "cell_type": "code",
   "execution_count": 17,
   "id": "fefd0b3b",
   "metadata": {
    "ExecuteTime": {
     "end_time": "2022-11-03T02:02:34.083470Z",
     "start_time": "2022-11-03T02:02:34.080589Z"
    }
   },
   "outputs": [
    {
     "name": "stdout",
     "output_type": "stream",
     "text": [
      "[Parameter containing:\n",
      "tensor([[0.5153]], requires_grad=True), Parameter containing:\n",
      "tensor([-0.4414], requires_grad=True)]\n"
     ]
    }
   ],
   "source": [
    "torch.manual_seed(1)\n",
    "model = LR(1, 1)\n",
    "print(list(model.parameters()))"
   ]
  },
  {
   "cell_type": "code",
   "execution_count": 18,
   "id": "f101d992",
   "metadata": {
    "ExecuteTime": {
     "end_time": "2022-11-03T02:02:34.085786Z",
     "start_time": "2022-11-03T02:02:34.084348Z"
    }
   },
   "outputs": [
    {
     "name": "stdout",
     "output_type": "stream",
     "text": [
      "<generator object Module.parameters at 0x15639c900>\n"
     ]
    }
   ],
   "source": [
    "print(model.parameters())"
   ]
  },
  {
   "cell_type": "code",
   "execution_count": 19,
   "id": "dc7574b7",
   "metadata": {
    "ExecuteTime": {
     "end_time": "2022-11-03T02:02:34.088720Z",
     "start_time": "2022-11-03T02:02:34.086465Z"
    }
   },
   "outputs": [
    {
     "name": "stdout",
     "output_type": "stream",
     "text": [
      "tensor([0.0739], grad_fn=<AddBackward0>)\n"
     ]
    }
   ],
   "source": [
    "x = torch.tensor([1.0])\n",
    "print(model.forward(x))"
   ]
  },
  {
   "cell_type": "code",
   "execution_count": 20,
   "id": "e3cf9b14",
   "metadata": {
    "ExecuteTime": {
     "end_time": "2022-11-03T02:02:34.091985Z",
     "start_time": "2022-11-03T02:02:34.089636Z"
    }
   },
   "outputs": [
    {
     "name": "stdout",
     "output_type": "stream",
     "text": [
      "tensor([[0.0739],\n",
      "        [0.5891]], grad_fn=<AddmmBackward0>)\n"
     ]
    }
   ],
   "source": [
    "x = torch.tensor([[1.0], [2.0]])\n",
    "print(model.forward(x))"
   ]
  },
  {
   "cell_type": "markdown",
   "id": "127e2bbc",
   "metadata": {
    "ExecuteTime": {
     "end_time": "2022-07-21T01:19:38.272762Z",
     "start_time": "2022-07-21T01:19:38.266612Z"
    }
   },
   "source": [
    "# Creating Dataset"
   ]
  },
  {
   "cell_type": "code",
   "execution_count": 21,
   "id": "868eaa8b",
   "metadata": {
    "ExecuteTime": {
     "end_time": "2022-11-03T02:02:34.094722Z",
     "start_time": "2022-11-03T02:02:34.092753Z"
    }
   },
   "outputs": [
    {
     "name": "stdout",
     "output_type": "stream",
     "text": [
      "tensor([[-0.6540],\n",
      "        [-0.2223],\n",
      "        [-0.6629],\n",
      "        [-0.7984],\n",
      "        [-0.1578],\n",
      "        [ 0.7626],\n",
      "        [-3.3312],\n",
      "        [ 0.9837],\n",
      "        [-0.6540],\n",
      "        [ 1.2466]])\n"
     ]
    }
   ],
   "source": [
    "X = torch.randn(100, 1)\n",
    "print(X[::10])"
   ]
  },
  {
   "cell_type": "code",
   "execution_count": 22,
   "id": "54b36cd9",
   "metadata": {
    "ExecuteTime": {
     "end_time": "2022-11-03T02:02:34.168674Z",
     "start_time": "2022-11-03T02:02:34.095546Z"
    }
   },
   "outputs": [
    {
     "data": {
      "text/plain": [
       "[<matplotlib.lines.Line2D at 0x156648580>]"
      ]
     },
     "execution_count": 22,
     "metadata": {},
     "output_type": "execute_result"
    },
    {
     "data": {
      "image/png": "[encoded data removed]",
      "text/plain": [
       "<Figure size 640x480 with 1 Axes>"
      ]
     },
     "metadata": {},
     "output_type": "display_data"
    }
   ],
   "source": [
    "X = torch.randn(100, 1) * 10\n",
    "y = X\n",
    "colors = calm_color_generator(1)\n",
    "plt.plot(X.numpy(), y.numpy(), 'o', c=colors[0])"
   ]
  },
  {
   "cell_type": "code",
   "execution_count": 23,
   "id": "c16dfeb1",
   "metadata": {
    "ExecuteTime": {
     "end_time": "2022-11-03T02:02:34.235146Z",
     "start_time": "2022-11-03T02:02:34.169541Z"
    },
    "scrolled": false
   },
   "outputs": [
    {
     "data": {
      "text/plain": [
       "Text(0.5, 0, 'X')"
      ]
     },
     "execution_count": 23,
     "metadata": {},
     "output_type": "execute_result"
    },
    {
     "data": {
      "image/png": "[encoded data removed]",
      "text/plain": [
       "<Figure size 640x480 with 1 Axes>"
      ]
     },
     "metadata": {},
     "output_type": "display_data"
    }
   ],
   "source": [
    "y = X + 3 * torch.randn(100, 1)\n",
    "colors = calm_color_generator(1)\n",
    "plt.plot(X.numpy(), y.numpy(), 'o', c=colors[0])\n",
    "plt.ylabel('y')\n",
    "plt.xlabel('X')"
   ]
  },
  {
   "cell_type": "code",
   "execution_count": 24,
   "id": "7818c59f",
   "metadata": {
    "ExecuteTime": {
     "end_time": "2022-11-03T02:02:34.238256Z",
     "start_time": "2022-11-03T02:02:34.236339Z"
    }
   },
   "outputs": [
    {
     "name": "stdout",
     "output_type": "stream",
     "text": [
      "LR(\n",
      "  (linear): Linear(in_features=1, out_features=1, bias=True)\n",
      ")\n"
     ]
    }
   ],
   "source": [
    "print(model)"
   ]
  },
  {
   "cell_type": "code",
   "execution_count": 25,
   "id": "5f4f0d80",
   "metadata": {
    "ExecuteTime": {
     "end_time": "2022-11-03T02:02:34.258724Z",
     "start_time": "2022-11-03T02:02:34.239303Z"
    }
   },
   "outputs": [
    {
     "name": "stdout",
     "output_type": "stream",
     "text": [
      "[Parameter containing:\n",
      "tensor([[0.5153]], requires_grad=True), Parameter containing:\n",
      "tensor([-0.4414], requires_grad=True)]\n"
     ]
    }
   ],
   "source": [
    "[w, b] = model.parameters()\n",
    "print([w, b])"
   ]
  },
  {
   "cell_type": "code",
   "execution_count": 26,
   "id": "64c96b23",
   "metadata": {
    "ExecuteTime": {
     "end_time": "2022-11-03T02:02:34.265140Z",
     "start_time": "2022-11-03T02:02:34.261643Z"
    }
   },
   "outputs": [
    {
     "name": "stdout",
     "output_type": "stream",
     "text": [
      "tensor(0.5153, grad_fn=<SelectBackward0>) tensor(-0.4414, grad_fn=<SelectBackward0>)\n"
     ]
    }
   ],
   "source": [
    "w1 = w[0][0]\n",
    "b1 = b[0]\n",
    "print(w1, b1)"
   ]
  },
  {
   "cell_type": "code",
   "execution_count": 27,
   "id": "626f170f",
   "metadata": {
    "ExecuteTime": {
     "end_time": "2022-11-03T02:02:34.267857Z",
     "start_time": "2022-11-03T02:02:34.265970Z"
    }
   },
   "outputs": [
    {
     "name": "stdout",
     "output_type": "stream",
     "text": [
      "0.5152631998062134 -0.44137823581695557\n"
     ]
    }
   ],
   "source": [
    "w1 = w[0][0].item()\n",
    "b1 = b[0].item()\n",
    "print(w1, b1)"
   ]
  },
  {
   "cell_type": "code",
   "execution_count": 28,
   "id": "53c6b64c",
   "metadata": {
    "ExecuteTime": {
     "end_time": "2022-11-03T02:02:34.277941Z",
     "start_time": "2022-11-03T02:02:34.275531Z"
    }
   },
   "outputs": [],
   "source": [
    "def get_params():\n",
    "    return (w[0][0].item(), b[0].item())"
   ]
  },
  {
   "cell_type": "code",
   "execution_count": 29,
   "id": "845f54a1",
   "metadata": {
    "ExecuteTime": {
     "end_time": "2022-11-03T02:02:34.281279Z",
     "start_time": "2022-11-03T02:02:34.278824Z"
    }
   },
   "outputs": [],
   "source": [
    "def plot_fit(title):\n",
    "    plt.title = title\n",
    "    w1, b1 = get_params()\n",
    "    x1 = np.array([-30, 30])\n",
    "    y1 = w1 * x1 + b1\n",
    "    plt.plot(x1, y1, 'r')\n",
    "    colors = calm_color_generator(1)\n",
    "    plt.scatter(X, y, color=colors[0])\n",
    "    plt.show()"
   ]
  },
  {
   "cell_type": "code",
   "execution_count": 30,
   "id": "07ab6f09",
   "metadata": {
    "ExecuteTime": {
     "end_time": "2022-11-03T02:02:34.338678Z",
     "start_time": "2022-11-03T02:02:34.282013Z"
    }
   },
   "outputs": [
    {
     "data": {
      "image/png": "[encoded data removed]",
      "text/plain": [
       "<Figure size 640x480 with 1 Axes>"
      ]
     },
     "metadata": {},
     "output_type": "display_data"
    }
   ],
   "source": [
    "plot_fit(\"Initial Model\")"
   ]
  },
  {
   "cell_type": "markdown",
   "id": "b43f97da",
   "metadata": {
    "ExecuteTime": {
     "end_time": "2022-07-21T02:44:23.523234Z",
     "start_time": "2022-07-21T02:44:23.514722Z"
    }
   },
   "source": [
    "# Training - Code Implementation"
   ]
  },
  {
   "cell_type": "code",
   "execution_count": 31,
   "id": "a697366f",
   "metadata": {
    "ExecuteTime": {
     "end_time": "2022-11-03T02:02:34.341510Z",
     "start_time": "2022-11-03T02:02:34.339605Z"
    }
   },
   "outputs": [],
   "source": [
    "criterion = nn.MSELoss()\n",
    "optimizer = torch.optim.SGD(model.parameters(), lr=0.0002)"
   ]
  },
  {
   "cell_type": "code",
   "execution_count": 32,
   "id": "f3477c84",
   "metadata": {
    "ExecuteTime": {
     "end_time": "2022-11-03T02:02:34.344365Z",
     "start_time": "2022-11-03T02:02:34.342408Z"
    }
   },
   "outputs": [
    {
     "name": "stdout",
     "output_type": "stream",
     "text": [
      "MSELoss()\n"
     ]
    }
   ],
   "source": [
    "print(criterion)"
   ]
  },
  {
   "cell_type": "code",
   "execution_count": 33,
   "id": "4cd78d23",
   "metadata": {
    "ExecuteTime": {
     "end_time": "2022-11-03T02:02:34.346720Z",
     "start_time": "2022-11-03T02:02:34.344989Z"
    }
   },
   "outputs": [
    {
     "name": "stdout",
     "output_type": "stream",
     "text": [
      "SGD (\n",
      "Parameter Group 0\n",
      "    dampening: 0\n",
      "    differentiable: False\n",
      "    foreach: None\n",
      "    lr: 0.0002\n",
      "    maximize: False\n",
      "    momentum: 0\n",
      "    nesterov: False\n",
      "    weight_decay: 0\n",
      ")\n"
     ]
    }
   ],
   "source": [
    "print(optimizer)"
   ]
  },
  {
   "cell_type": "code",
   "execution_count": 34,
   "id": "2a17955e",
   "metadata": {
    "ExecuteTime": {
     "end_time": "2022-11-03T02:02:34.611024Z",
     "start_time": "2022-11-03T02:02:34.348462Z"
    }
   },
   "outputs": [
    {
     "ename": "NameError",
     "evalue": "name 'random' is not defined",
     "output_type": "error",
     "traceback": [
      "\u001b[0;31m---------------------------------------------------------------------------\u001b[0m",
      "\u001b[0;31mNameError\u001b[0m                                 Traceback (most recent call last)",
      "Cell \u001b[0;32mIn [34], line 6\u001b[0m\n\u001b[1;32m      2\u001b[0m losses \u001b[38;5;241m=\u001b[39m []\n\u001b[1;32m      3\u001b[0m termcolors \u001b[38;5;241m=\u001b[39m [\n\u001b[1;32m      4\u001b[0m     \u001b[38;5;124m'\u001b[39m\u001b[38;5;124mgrey\u001b[39m\u001b[38;5;124m'\u001b[39m, \u001b[38;5;124m'\u001b[39m\u001b[38;5;124mred\u001b[39m\u001b[38;5;124m'\u001b[39m, \u001b[38;5;124m'\u001b[39m\u001b[38;5;124mgreen\u001b[39m\u001b[38;5;124m'\u001b[39m, \u001b[38;5;124m'\u001b[39m\u001b[38;5;124myellow\u001b[39m\u001b[38;5;124m'\u001b[39m, \u001b[38;5;124m'\u001b[39m\u001b[38;5;124mblue\u001b[39m\u001b[38;5;124m'\u001b[39m, \u001b[38;5;124m'\u001b[39m\u001b[38;5;124mmagenta\u001b[39m\u001b[38;5;124m'\u001b[39m, \u001b[38;5;124m'\u001b[39m\u001b[38;5;124mcyan\u001b[39m\u001b[38;5;124m'\u001b[39m, \u001b[38;5;124m'\u001b[39m\u001b[38;5;124mwhite\u001b[39m\u001b[38;5;124m'\u001b[39m\n\u001b[1;32m      5\u001b[0m ]\n\u001b[0;32m----> 6\u001b[0m font_colors \u001b[38;5;241m=\u001b[39m \u001b[43mrandom\u001b[49m\u001b[38;5;241m.\u001b[39mchoices(termcolors, k\u001b[38;5;241m=\u001b[39m\u001b[38;5;241m2\u001b[39m)\n\u001b[1;32m      7\u001b[0m \u001b[38;5;28;01mfor\u001b[39;00m i \u001b[38;5;129;01min\u001b[39;00m \u001b[38;5;28mrange\u001b[39m(epochs):\n\u001b[1;32m      8\u001b[0m     i \u001b[38;5;241m+\u001b[39m\u001b[38;5;241m=\u001b[39m \u001b[38;5;241m1\u001b[39m\n",
      "\u001b[0;31mNameError\u001b[0m: name 'random' is not defined"
     ]
    }
   ],
   "source": [
    "epochs = 100\n",
    "losses = []\n",
    "termcolors = [\n",
    "    'grey', 'red', 'green', 'yellow', 'blue', 'magenta', 'cyan', 'white'\n",
    "]\n",
    "font_colors = random.choices(termcolors, k=2)\n",
    "for i in range(epochs):\n",
    "    i += 1\n",
    "    y_pred = model.forward(X)\n",
    "    loss = criterion(y_pred, y)\n",
    "    if i == 1 or i % 10 == 0:\n",
    "        print(colored(\"epoch:\", font_colors[0], attrs=['bold']), i,\n",
    "              colored(\"loss:\", font_colors[1]), loss.item())\n",
    "        print(colored(\"weight:\", font_colors[1]),\n",
    "              list(model.parameters())[0][0][0].item(),\n",
    "              colored(\"bias:\", font_colors[1]),\n",
    "              list(model.parameters())[1][0].item())\n",
    "    losses.append(loss.item())\n",
    "    optimizer.zero_grad()\n",
    "    loss.backward()\n",
    "    optimizer.step()"
   ]
  },
  {
   "cell_type": "code",
   "execution_count": null,
   "id": "8784da6b",
   "metadata": {
    "ExecuteTime": {
     "end_time": "2022-11-03T02:02:34.614865Z",
     "start_time": "2022-11-03T02:02:34.614859Z"
    }
   },
   "outputs": [],
   "source": [
    "colors = calm_color_generator(1)\n",
    "plt.plot(range(epochs), losses, c=colors[0])\n",
    "plt.ylabel('Loss')\n",
    "plt.xlabel('Epoch')"
   ]
  },
  {
   "cell_type": "code",
   "execution_count": null,
   "id": "82f9d54a",
   "metadata": {
    "ExecuteTime": {
     "end_time": "2022-11-03T02:02:34.615541Z",
     "start_time": "2022-11-03T02:02:34.615536Z"
    }
   },
   "outputs": [],
   "source": [
    "plot_fit(\"Trained Model\")"
   ]
  }
 ],
 "metadata": {
  "hide_input": false,
  "kernelspec": {
   "display_name": "Python 3 (ipykernel)",
   "language": "python",
   "name": "python3"
  },
  "language_info": {
   "codemirror_mode": {
    "name": "ipython",
    "version": 3
   },
   "file_extension": ".py",
   "mimetype": "text/x-python",
   "name": "python",
   "nbconvert_exporter": "python",
   "pygments_lexer": "ipython3",
   "version": "3.9.12"
  },
  "latex_envs": {
   "LaTeX_envs_menu_present": true,
   "autoclose": false,
   "autocomplete": true,
   "bibliofile": "biblio.bib",
   "cite_by": "apalike",
   "current_citInitial": 1,
   "eqLabelWithNumbers": true,
   "eqNumInitial": 1,
   "hotkeys": {
    "equation": "Ctrl-E",
    "itemize": "Ctrl-I"
   },
   "labels_anchors": false,
   "latex_user_defs": false,
   "report_style_numbering": false,
   "user_envs_cfg": false
  },
  "nbTranslate": {
   "displayLangs": [
    "*"
   ],
   "hotkey": "alt-t",
   "langInMainMenu": true,
   "sourceLang": "en",
   "targetLang": "fr",
   "useGoogleTranslate": true
  },
  "toc": {
   "base_numbering": 1,
   "nav_menu": {},
   "number_sections": true,
   "sideBar": true,
   "skip_h1_title": false,
   "title_cell": "Table of Contents",
   "title_sidebar": "Contents",
   "toc_cell": false,
   "toc_position": {
    "height": "calc(100% - 180px)",
    "left": "10px",
    "top": "150px",
    "width": "345.594px"
   },
   "toc_section_display": true,
   "toc_window_display": true
  },
  "varInspector": {
   "cols": {
    "lenName": 16,
    "lenType": 16,
    "lenVar": 40
   },
   "kernels_config": {
    "python": {
     "delete_cmd_postfix": "",
     "delete_cmd_prefix": "del ",
     "library": "var_list.py",
     "varRefreshCmd": "print(var_dic_list())"
    },
    "r": {
     "delete_cmd_postfix": ") ",
     "delete_cmd_prefix": "rm(",
     "library": "var_list.r",
     "varRefreshCmd": "cat(var_dic_list()) "
    }
   },
   "types_to_exclude": [
    "module",
    "function",
    "builtin_function_or_method",
    "instance",
    "_Feature"
   ],
   "window_display": false
  }
 },
 "nbformat": 4,
 "nbformat_minor": 5
}

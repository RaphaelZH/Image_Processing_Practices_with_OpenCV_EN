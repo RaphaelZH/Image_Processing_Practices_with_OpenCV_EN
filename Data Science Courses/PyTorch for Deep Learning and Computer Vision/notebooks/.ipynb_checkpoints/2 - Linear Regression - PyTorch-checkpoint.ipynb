{
 "cells": [
  {
   "cell_type": "markdown",
   "id": "32ccaaec",
   "metadata": {},
   "source": [
    "# Importing Libraries"
   ]
  },
  {
   "cell_type": "code",
   "execution_count": 1,
   "id": "f6fbb399",
   "metadata": {
    "ExecuteTime": {
     "end_time": "2022-10-26T20:21:33.373434Z",
     "start_time": "2022-10-26T20:21:32.588151Z"
    }
   },
   "outputs": [],
   "source": [
    "import torch\n",
    "from torch import nn\n",
    "\n",
    "import numpy as np\n",
    "\n",
    "import matplotlib as mpl\n",
    "import matplotlib.pyplot as plt\n",
    "\n",
    "import sys"
   ]
  },
  {
   "cell_type": "markdown",
   "id": "f4e482a2",
   "metadata": {},
   "source": [
    "# Configuring Visualization Parameters"
   ]
  },
  {
   "cell_type": "code",
   "execution_count": 2,
   "id": "33474d22",
   "metadata": {
    "ExecuteTime": {
     "end_time": "2022-10-26T20:21:33.381178Z",
     "start_time": "2022-10-26T20:21:33.374786Z"
    }
   },
   "outputs": [],
   "source": [
    "%matplotlib inline"
   ]
  },
  {
   "cell_type": "code",
   "execution_count": 3,
   "id": "b406a797",
   "metadata": {
    "ExecuteTime": {
     "end_time": "2022-10-26T20:21:33.385193Z",
     "start_time": "2022-10-26T20:21:33.383567Z"
    }
   },
   "outputs": [],
   "source": [
    "XINHUI = '#7a7374'\n",
    "XUEBAI = '#fffef9'\n",
    "YINBAI = '#f1f0ed'\n",
    "YINHUI = '#918072'\n",
    "\n",
    "figure_size = (16, 9)"
   ]
  },
  {
   "cell_type": "code",
   "execution_count": 4,
   "id": "cd9db2ff",
   "metadata": {
    "ExecuteTime": {
     "end_time": "2022-10-26T20:21:33.388193Z",
     "start_time": "2022-10-26T20:21:33.385870Z"
    }
   },
   "outputs": [],
   "source": [
    "custom_params = {\n",
    "    'axes.axisbelow': True,\n",
    "    'axes.edgecolor': YINBAI,\n",
    "    'axes.facecolor': XUEBAI,\n",
    "    'axes.grid': True,\n",
    "    'axes.labelcolor': XINHUI,\n",
    "    'axes.spines.right': False,\n",
    "    'axes.spines.top': False,\n",
    "    'axes.titlecolor': XINHUI,\n",
    "    'figure.edgecolor': YINBAI,\n",
    "    'figure.facecolor': XUEBAI,\n",
    "    'grid.alpha': .8,\n",
    "    'grid.color': YINBAI,\n",
    "    'grid.linestyle': '--',\n",
    "    'grid.linewidth': 1.2,\n",
    "    'legend.edgecolor': YINHUI,\n",
    "    'patch.edgecolor': XUEBAI,\n",
    "    'patch.force_edgecolor': True,\n",
    "    'text.color': XINHUI,\n",
    "    'xtick.color': YINHUI,\n",
    "    'ytick.color': YINHUI,\n",
    "}\n",
    "\n",
    "mpl.rcParams.update(custom_params)"
   ]
  },
  {
   "cell_type": "markdown",
   "id": "f7fa8cbf",
   "metadata": {},
   "source": [
    "# Pre-installing Custom Functions"
   ]
  },
  {
   "cell_type": "code",
   "execution_count": 5,
   "id": "21e52598",
   "metadata": {
    "ExecuteTime": {
     "end_time": "2022-10-26T20:21:33.390355Z",
     "start_time": "2022-10-26T20:21:33.388842Z"
    }
   },
   "outputs": [],
   "source": [
    "sys.path.append('../')"
   ]
  },
  {
   "cell_type": "code",
   "execution_count": 6,
   "id": "95596278",
   "metadata": {
    "ExecuteTime": {
     "end_time": "2022-10-26T20:21:33.396062Z",
     "start_time": "2022-10-26T20:21:33.391173Z"
    }
   },
   "outputs": [],
   "source": [
    "from modules import *"
   ]
  },
  {
   "cell_type": "code",
   "execution_count": 7,
   "id": "8b089856",
   "metadata": {
    "ExecuteTime": {
     "end_time": "2022-10-26T20:21:33.398390Z",
     "start_time": "2022-10-26T20:21:33.396925Z"
    }
   },
   "outputs": [],
   "source": [
    "import random\n",
    "import re\n",
    "from tabulate import tabulate\n",
    "from termcolor import cprint"
   ]
  },
  {
   "cell_type": "code",
   "execution_count": 8,
   "id": "12e97943",
   "metadata": {
    "ExecuteTime": {
     "end_time": "2022-10-26T20:21:33.402279Z",
     "start_time": "2022-10-26T20:21:33.399299Z"
    }
   },
   "outputs": [],
   "source": [
    "def definition_generator(definitions):\n",
    "    global adjusted_width, previous_color\n",
    "    table = [[\"Definition\"]]\n",
    "    for definition in definitions:\n",
    "        if len(definition) > adjusted_width:\n",
    "            printable_definition = \"\"\n",
    "            printable_line = definition\n",
    "            while len(definition) > adjusted_width:\n",
    "                while printable_line.rfind(' ') > adjusted_width:\n",
    "                    printable_line = printable_line[:printable_line.rfind(' ')]\n",
    "                else:\n",
    "                    printable_line = printable_line[:printable_line.rfind(' ')]\n",
    "                printable_definition += printable_line + \"\\n\"\n",
    "                definition = definition[len(printable_line) + 1:]\n",
    "                printable_line = definition\n",
    "            else:\n",
    "                printable_definition += printable_line\n",
    "                table.append([printable_definition])\n",
    "        else:\n",
    "            table.append([definition])\n",
    "    table_list = tabulate(table,\n",
    "                          headers='firstrow',\n",
    "                          tablefmt='pretty',\n",
    "                          colalign=('left', )).split('\\n')\n",
    "    for line in table_list:\n",
    "        cprint('\\t'.expandtabs(4) + line, previous_color, attrs=['bold'])"
   ]
  },
  {
   "cell_type": "markdown",
   "id": "d0915bc8",
   "metadata": {},
   "source": [
    "# Practicing in Stages\n",
    "\n",
    "## Making Predictions"
   ]
  },
  {
   "cell_type": "code",
   "execution_count": 10,
   "id": "f50b4ddc",
   "metadata": {
    "ExecuteTime": {
     "end_time": "2022-10-26T20:24:04.065164Z",
     "start_time": "2022-10-26T20:24:04.055154Z"
    },
    "hide_input": false
   },
   "outputs": [
    {
     "name": "stdout",
     "output_type": "stream",
     "text": [
      "\u001b[4m\u001b[35mDefinition of the function of prediction\u001b[0m\n",
      "\n"
     ]
    }
   ],
   "source": [
    "def forward(x):\n",
    "    y = w * x + b\n",
    "    return y\n",
    "\n",
    "\n",
    "font_color_printer(\"Definition of the function of prediction\")\n",
    "\n",
    "table = [[\"Definition\"],\n",
    "         [\"def forward(x):\\n\\ty = w * x + b\\n\\treturn y\".expandtabs(4)]]\n",
    "table_list = tabulate(table,\n",
    "                      headers='firstrow',\n",
    "                      tablefmt='pretty',\n",
    "                      colalign=(\"left\", )).split('\\n')\n",
    "#for line in table_list:\n",
    "    #cprint('\\t'.expandtabs(4) + line, previous_color, attrs=['bold'])"
   ]
  },
  {
   "cell_type": "code",
   "execution_count": null,
   "id": "fb03759b",
   "metadata": {
    "ExecuteTime": {
     "end_time": "2022-10-26T20:21:33.663184Z",
     "start_time": "2022-10-26T20:21:33.663177Z"
    },
    "hide_input": false
   },
   "outputs": [],
   "source": [
    "w = torch.tensor(3.0, requires_grad=True)\n",
    "b = torch.tensor(1.0, requires_grad=True)\n",
    "\n",
    "font_color_printer(\"Initial assignment of parameters\",\n",
    "                   attrs=['underline'],\n",
    "                   end='\\n\\n')\n",
    "\n",
    "table = [[\"Statement\"], [\"w = torch.tensor(3.0, requires_grad=True)\"],\n",
    "         [\"b = torch.tensor(1.0, requires_grad=True)\"]]\n",
    "table_list = tabulate(table,\n",
    "                      headers='firstrow',\n",
    "                      tablefmt='pretty',\n",
    "                      colalign=(\"left\", )).split('\\n')\n",
    "for line in table_list:\n",
    "    cprint('\\t'.expandtabs(4) + line, previous_color, attrs=['bold'])\n",
    "\n",
    "table = [[\"Variable\", \"Value\"], [\"w\", str(w)], [\"b\", str(b)]]\n",
    "table_list = tabulate(table,\n",
    "                      headers='firstrow',\n",
    "                      tablefmt='pretty',\n",
    "                      colalign=(\"left\", \"left\")).split('\\n')\n",
    "for line in table_list:\n",
    "    cprint('\\t'.expandtabs(4) + line, previous_color, attrs=['bold'])"
   ]
  },
  {
   "cell_type": "code",
   "execution_count": null,
   "id": "20c53dc0",
   "metadata": {
    "ExecuteTime": {
     "end_time": "2022-10-26T20:21:33.663739Z",
     "start_time": "2022-10-26T20:21:33.663733Z"
    },
    "hide_input": false
   },
   "outputs": [],
   "source": [
    "x = torch.tensor(2)\n",
    "\n",
    "font_color_printer(\"Function implementation of 0D tensor\",\n",
    "                   attrs=['underline'],\n",
    "                   end='\\n\\n')\n",
    "\n",
    "table = [[\"Statement\"], [\"x = torch.tensor(2)\"]]\n",
    "table_list = tabulate(table,\n",
    "                      headers='firstrow',\n",
    "                      tablefmt='pretty',\n",
    "                      colalign=(\"left\", )).split('\\n')\n",
    "for line in table_list:\n",
    "    cprint('\\t'.expandtabs(4) + line, previous_color, attrs=['bold'])\n",
    "\n",
    "table = [[\"Variable\", \"Value\"], [\"x\", str(x)]]\n",
    "table_list = tabulate(table,\n",
    "                      headers='firstrow',\n",
    "                      tablefmt='pretty',\n",
    "                      colalign=(\"left\", \"left\")).split('\\n')\n",
    "for line in table_list:\n",
    "    cprint('\\t'.expandtabs(4) + line, previous_color, attrs=['bold'])\n",
    "\n",
    "table = [[\"Expression\", \"Result\"], [\"forward(x)\", str(forward(x))]]\n",
    "table_list = tabulate(table,\n",
    "                      headers='firstrow',\n",
    "                      tablefmt='pretty',\n",
    "                      colalign=(\"left\", \"left\")).split('\\n')\n",
    "for line in table_list:\n",
    "    cprint('\\t'.expandtabs(4) + line, previous_color, attrs=['bold'])"
   ]
  },
  {
   "cell_type": "code",
   "execution_count": null,
   "id": "14a3ba0a",
   "metadata": {
    "ExecuteTime": {
     "end_time": "2022-10-26T20:21:33.664208Z",
     "start_time": "2022-10-26T20:21:33.664203Z"
    },
    "hide_input": false
   },
   "outputs": [],
   "source": [
    "x = torch.tensor([[4], [7]])\n",
    "\n",
    "font_color_printer(\"Function implementation of multi-D tensor\",\n",
    "                   attrs=['underline'],\n",
    "                   end='\\n\\n')\n",
    "\n",
    "table = [[\"Statement\"], [\"x = torch.tensor([[4], [7]])\"]]\n",
    "table_list = tabulate(table,\n",
    "                      headers='firstrow',\n",
    "                      tablefmt='pretty',\n",
    "                      colalign=(\"left\", )).split('\\n')\n",
    "for line in table_list:\n",
    "    cprint('\\t'.expandtabs(4) + line, previous_color, attrs=['bold'])\n",
    "\n",
    "table = [[\"Variable\", \"Value\"], [\"x\", str(x)]]\n",
    "table_list = tabulate(table,\n",
    "                      headers='firstrow',\n",
    "                      tablefmt='pretty',\n",
    "                      colalign=(\"left\", \"left\")).split('\\n')\n",
    "for line in table_list:\n",
    "    cprint('\\t'.expandtabs(4) + line, previous_color, attrs=['bold'])\n",
    "\n",
    "table = [[\"Expression\", \"Result\"], [\"forward(x)\", str(forward(x))]]\n",
    "table_list = tabulate(table,\n",
    "                      headers='firstrow',\n",
    "                      tablefmt='pretty',\n",
    "                      colalign=(\"left\", \"left\")).split('\\n')\n",
    "for line in table_list:\n",
    "    cprint('\\t'.expandtabs(4) + line, previous_color, attrs=['bold'])"
   ]
  },
  {
   "cell_type": "markdown",
   "id": "420ec72e",
   "metadata": {},
   "source": [
    "## Linear Class"
   ]
  },
  {
   "cell_type": "code",
   "execution_count": null,
   "id": "7f65e594",
   "metadata": {
    "ExecuteTime": {
     "end_time": "2022-10-26T20:21:33.664697Z",
     "start_time": "2022-10-26T20:21:33.664691Z"
    }
   },
   "outputs": [],
   "source": [
    "torch.manual_seed(1)\n",
    "model = nn.Linear(in_features=1, out_features=1)\n",
    "\n",
    "font_color_printer(\"Initialization of standard linear model\",\n",
    "                   attrs=['underline'],\n",
    "                   end='\\n\\n')\n",
    "\n",
    "table = [[\"Statement\"], [\"torch.manual_seed(1)\"],\n",
    "         [\"model = nn.Linear(in_features=1, out_features=1)\"]]\n",
    "table_list = tabulate(table,\n",
    "                      headers='firstrow',\n",
    "                      tablefmt='pretty',\n",
    "                      colalign=(\"left\", )).split('\\n')\n",
    "for line in table_list:\n",
    "    cprint('\\t'.expandtabs(4) + line, previous_color, attrs=['bold'])\n",
    "\n",
    "table = [[\"Variable\", \"Value\"], [\"model\", str(model)]]\n",
    "table_list = tabulate(table,\n",
    "                      headers='firstrow',\n",
    "                      tablefmt='pretty',\n",
    "                      colalign=(\"left\", \"left\")).split('\\n')\n",
    "for line in table_list:\n",
    "    cprint('\\t'.expandtabs(4) + line, previous_color, attrs=['bold'])\n",
    "\n",
    "table = [[\"Expression\", \"Result\"], [\"model.weight\",\n",
    "                                    str(model.weight)],\n",
    "         [\"model.bias\", model.bias]]\n",
    "table_list = tabulate(table,\n",
    "                      headers='firstrow',\n",
    "                      tablefmt='pretty',\n",
    "                      colalign=(\"left\", \"left\")).split('\\n')\n",
    "for line in table_list:\n",
    "    cprint('\\t'.expandtabs(4) + line, previous_color, attrs=['bold'])"
   ]
  },
  {
   "cell_type": "code",
   "execution_count": null,
   "id": "d0b4c438",
   "metadata": {
    "ExecuteTime": {
     "end_time": "2022-10-26T20:21:33.665243Z",
     "start_time": "2022-10-26T20:21:33.665237Z"
    }
   },
   "outputs": [],
   "source": [
    "x = torch.tensor([2.0])\n",
    "\n",
    "font_color_printer(\"Model implementation of 1D tensor\",\n",
    "                   attrs=['underline'],\n",
    "                   end='\\n\\n')\n",
    "\n",
    "table = [[\"Statement\"], [\"x = torch.tensor([2.0])\"]]\n",
    "table_list = tabulate(table,\n",
    "                      headers='firstrow',\n",
    "                      tablefmt='pretty',\n",
    "                      colalign=(\"left\", )).split('\\n')\n",
    "for line in table_list:\n",
    "    cprint('\\t'.expandtabs(4) + line, previous_color, attrs=['bold'])\n",
    "\n",
    "table = [[\"Variable\", \"Value\"], [\"x\", str(x)]]\n",
    "table_list = tabulate(table,\n",
    "                      headers='firstrow',\n",
    "                      tablefmt='pretty',\n",
    "                      colalign=(\"left\", \"left\")).split('\\n')\n",
    "for line in table_list:\n",
    "    cprint('\\t'.expandtabs(4) + line, previous_color, attrs=['bold'])\n",
    "\n",
    "table = [[\"Expression\", \"Result\"], [\"model(x)\", str(model(x))]]\n",
    "table_list = tabulate(table,\n",
    "                      headers='firstrow',\n",
    "                      tablefmt='pretty',\n",
    "                      colalign=(\"left\", \"left\")).split('\\n')\n",
    "for line in table_list:\n",
    "    cprint('\\t'.expandtabs(4) + line, previous_color, attrs=['bold'])"
   ]
  },
  {
   "cell_type": "code",
   "execution_count": null,
   "id": "648a5449",
   "metadata": {
    "ExecuteTime": {
     "end_time": "2022-10-26T20:21:33.666139Z",
     "start_time": "2022-10-26T20:21:33.666127Z"
    }
   },
   "outputs": [],
   "source": [
    "x = torch.tensor([[2.0], [3.3]])\n",
    "\n",
    "font_color_printer(\"Model implementation of multi-D tensor\",\n",
    "                   attrs=['underline'],\n",
    "                   end='\\n\\n')\n",
    "\n",
    "table = [[\"Statement\"],\n",
    "         [\"01020304050607080910111213141516171819202122232425262728293\"]]\n",
    "table_list = tabulate(table,\n",
    "                      headers='firstrow',\n",
    "                      tablefmt='pretty',\n",
    "                      colalign=(\"left\", )).split('\\n')\n",
    "for line in table_list:\n",
    "    cprint('\\t'.expandtabs(4) + line, previous_color, attrs=['bold'])\n",
    "\n",
    "table = [[\"Variable\", \"Value\"], [\"x\", str(x)]]\n",
    "table_list = tabulate(table,\n",
    "                      headers='firstrow',\n",
    "                      tablefmt='pretty',\n",
    "                      colalign=(\"left\", \"left\")).split('\\n')\n",
    "for line in table_list:\n",
    "    cprint('\\t'.expandtabs(4) + line, previous_color, attrs=['bold'])\n",
    "\n",
    "table = [[\"Expression\", \"Result\"],\n",
    "         [\"model(x)\",\n",
    "          str(\"0102030405060708091011121314151617181920212223\")]]\n",
    "table_list = tabulate(table,\n",
    "                      headers='firstrow',\n",
    "                      tablefmt='pretty',\n",
    "                      colalign=(\"left\", \"left\")).split('\\n')\n",
    "for line in table_list:\n",
    "    cprint('\\t'.expandtabs(4) + line, previous_color, attrs=['bold'])"
   ]
  },
  {
   "cell_type": "code",
   "execution_count": null,
   "id": "3d87a648",
   "metadata": {
    "ExecuteTime": {
     "end_time": "2022-10-26T20:21:33.666790Z",
     "start_time": "2022-10-26T20:21:33.666784Z"
    }
   },
   "outputs": [],
   "source": [
    "able = [[\"Expression\", \"Result\"], [\"model(x)\", str(model(x))]]\n",
    "table_list = tabulate(table,\n",
    "                      headers='firstrow',\n",
    "                      tablefmt='pretty',\n",
    "                      colalign=(\"left\", \"left\")).split('\\n')\n",
    "for line in table_list:\n",
    "    cprint('\\t'.expandtabs(4) + line, previous_color, attrs=['bold'])"
   ]
  },
  {
   "cell_type": "code",
   "execution_count": null,
   "id": "7ebbb287",
   "metadata": {
    "ExecuteTime": {
     "end_time": "2022-10-26T20:21:33.667841Z",
     "start_time": "2022-10-26T20:21:33.667836Z"
    }
   },
   "outputs": [],
   "source": [
    "for i in range(1, 100):\n",
    "    if i < 10:\n",
    "        i = '0' + str(i)\n",
    "    else:\n",
    "        i = str(i)\n",
    "    print(i, end='')"
   ]
  },
  {
   "cell_type": "code",
   "execution_count": null,
   "id": "ad434b8e",
   "metadata": {},
   "outputs": [],
   "source": []
  },
  {
   "cell_type": "code",
   "execution_count": null,
   "id": "cad508fa",
   "metadata": {},
   "outputs": [],
   "source": []
  },
  {
   "cell_type": "markdown",
   "id": "e2ca674f",
   "metadata": {},
   "source": [
    "# Custom Modules"
   ]
  },
  {
   "cell_type": "code",
   "execution_count": null,
   "id": "648dcfb7",
   "metadata": {
    "ExecuteTime": {
     "end_time": "2022-10-26T20:21:33.668485Z",
     "start_time": "2022-10-26T20:21:33.668479Z"
    }
   },
   "outputs": [],
   "source": [
    "class LR(nn.Module):\n",
    "\n",
    "    def __init__(self, input_size, output_size):\n",
    "        super().__init__()\n",
    "        self.linear = nn.Linear(input_size, output_size)\n",
    "\n",
    "    def forward(self, x):\n",
    "        pred = self.linear(x)\n",
    "        return pred"
   ]
  },
  {
   "cell_type": "code",
   "execution_count": null,
   "id": "2f83f90a",
   "metadata": {
    "ExecuteTime": {
     "end_time": "2022-10-26T20:21:33.669532Z",
     "start_time": "2022-10-26T20:21:33.669525Z"
    }
   },
   "outputs": [],
   "source": [
    "torch.manual_seed(1)\n",
    "model = LR(1, 1)\n",
    "print(list(model.parameters()))"
   ]
  },
  {
   "cell_type": "code",
   "execution_count": null,
   "id": "d72d1735",
   "metadata": {
    "ExecuteTime": {
     "end_time": "2022-10-26T20:21:33.670036Z",
     "start_time": "2022-10-26T20:21:33.670029Z"
    }
   },
   "outputs": [],
   "source": [
    "print(model.parameters())"
   ]
  },
  {
   "cell_type": "code",
   "execution_count": null,
   "id": "8573692a",
   "metadata": {
    "ExecuteTime": {
     "end_time": "2022-10-26T20:21:33.670752Z",
     "start_time": "2022-10-26T20:21:33.670746Z"
    }
   },
   "outputs": [],
   "source": [
    "x = torch.tensor([1.0])\n",
    "print(model.forward(x))"
   ]
  },
  {
   "cell_type": "code",
   "execution_count": null,
   "id": "01688911",
   "metadata": {
    "ExecuteTime": {
     "end_time": "2022-10-26T20:21:33.671351Z",
     "start_time": "2022-10-26T20:21:33.671346Z"
    }
   },
   "outputs": [],
   "source": [
    "x = torch.tensor([[1.0], [2.0]])\n",
    "print(model.forward(x))"
   ]
  },
  {
   "cell_type": "markdown",
   "id": "f017bc05",
   "metadata": {
    "ExecuteTime": {
     "end_time": "2022-07-21T01:19:38.272762Z",
     "start_time": "2022-07-21T01:19:38.266612Z"
    }
   },
   "source": [
    "# Creating Dataset"
   ]
  },
  {
   "cell_type": "code",
   "execution_count": null,
   "id": "fbd15f64",
   "metadata": {
    "ExecuteTime": {
     "end_time": "2022-10-26T20:21:33.672070Z",
     "start_time": "2022-10-26T20:21:33.672064Z"
    }
   },
   "outputs": [],
   "source": [
    "X = torch.randn(100, 1)\n",
    "print(X[::10])"
   ]
  },
  {
   "cell_type": "code",
   "execution_count": null,
   "id": "7fabc2e4",
   "metadata": {
    "ExecuteTime": {
     "end_time": "2022-10-26T20:21:33.672679Z",
     "start_time": "2022-10-26T20:21:33.672673Z"
    }
   },
   "outputs": [],
   "source": [
    "X = torch.randn(100, 1) * 10\n",
    "y = X\n",
    "colors = calm_color_generator(1)\n",
    "plt.plot(X.numpy(), y.numpy(), 'o', c=colors[0])"
   ]
  },
  {
   "cell_type": "code",
   "execution_count": null,
   "id": "d5063415",
   "metadata": {
    "ExecuteTime": {
     "end_time": "2022-10-26T20:21:33.673099Z",
     "start_time": "2022-10-26T20:21:33.673094Z"
    },
    "scrolled": true
   },
   "outputs": [],
   "source": [
    "y = X + 3 * torch.randn(100, 1)\n",
    "colors = calm_color_generator(1)\n",
    "plt.plot(X.numpy(), y.numpy(), 'o', c=colors[0])\n",
    "plt.ylabel('y')\n",
    "plt.xlabel('X')"
   ]
  },
  {
   "cell_type": "code",
   "execution_count": null,
   "id": "7862125e",
   "metadata": {
    "ExecuteTime": {
     "end_time": "2022-10-26T20:21:33.673699Z",
     "start_time": "2022-10-26T20:21:33.673693Z"
    }
   },
   "outputs": [],
   "source": [
    "print(model)"
   ]
  },
  {
   "cell_type": "code",
   "execution_count": null,
   "id": "5f1fce6a",
   "metadata": {
    "ExecuteTime": {
     "end_time": "2022-10-26T20:21:33.674417Z",
     "start_time": "2022-10-26T20:21:33.674411Z"
    }
   },
   "outputs": [],
   "source": [
    "[w, b] = model.parameters()\n",
    "print([w, b])"
   ]
  },
  {
   "cell_type": "code",
   "execution_count": null,
   "id": "7e429329",
   "metadata": {
    "ExecuteTime": {
     "end_time": "2022-10-26T20:21:33.675067Z",
     "start_time": "2022-10-26T20:21:33.675063Z"
    }
   },
   "outputs": [],
   "source": [
    "w1 = w[0][0]\n",
    "b1 = b[0]\n",
    "print(w1, b1)"
   ]
  },
  {
   "cell_type": "code",
   "execution_count": null,
   "id": "ccf7605c",
   "metadata": {
    "ExecuteTime": {
     "end_time": "2022-10-26T20:21:33.675920Z",
     "start_time": "2022-10-26T20:21:33.675912Z"
    }
   },
   "outputs": [],
   "source": [
    "w1 = w[0][0].item()\n",
    "b1 = b[0].item()\n",
    "print(w1, b1)"
   ]
  },
  {
   "cell_type": "code",
   "execution_count": null,
   "id": "d38d9fdd",
   "metadata": {
    "ExecuteTime": {
     "end_time": "2022-10-26T20:21:33.676648Z",
     "start_time": "2022-10-26T20:21:33.676642Z"
    }
   },
   "outputs": [],
   "source": [
    "def get_params():\n",
    "    return (w[0][0].item(), b[0].item())"
   ]
  },
  {
   "cell_type": "code",
   "execution_count": null,
   "id": "dc1a370b",
   "metadata": {
    "ExecuteTime": {
     "end_time": "2022-10-26T20:21:33.677321Z",
     "start_time": "2022-10-26T20:21:33.677316Z"
    }
   },
   "outputs": [],
   "source": [
    "def plot_fit(title):\n",
    "    plt.title = title\n",
    "    w1, b1 = get_params()\n",
    "    x1 = np.array([-30, 30])\n",
    "    y1 = w1 * x1 + b1\n",
    "    plt.plot(x1, y1, 'r')\n",
    "    colors = calm_color_generator(1)\n",
    "    plt.scatter(X, y, color=colors[0])\n",
    "    plt.show()"
   ]
  },
  {
   "cell_type": "code",
   "execution_count": null,
   "id": "58472629",
   "metadata": {
    "ExecuteTime": {
     "end_time": "2022-10-26T20:21:33.677780Z",
     "start_time": "2022-10-26T20:21:33.677774Z"
    }
   },
   "outputs": [],
   "source": [
    "plot_fit(\"Initial Model\")"
   ]
  },
  {
   "cell_type": "markdown",
   "id": "50fd2294",
   "metadata": {
    "ExecuteTime": {
     "end_time": "2022-07-21T02:44:23.523234Z",
     "start_time": "2022-07-21T02:44:23.514722Z"
    }
   },
   "source": [
    "# Training - Code Implementation"
   ]
  },
  {
   "cell_type": "code",
   "execution_count": null,
   "id": "a13db958",
   "metadata": {
    "ExecuteTime": {
     "end_time": "2022-10-26T20:21:33.678302Z",
     "start_time": "2022-10-26T20:21:33.678297Z"
    }
   },
   "outputs": [],
   "source": [
    "criterion = nn.MSELoss()\n",
    "optimizer = torch.optim.SGD(model.parameters(), lr=0.0002)"
   ]
  },
  {
   "cell_type": "code",
   "execution_count": null,
   "id": "b4f93c06",
   "metadata": {
    "ExecuteTime": {
     "end_time": "2022-10-26T20:21:33.679174Z",
     "start_time": "2022-10-26T20:21:33.679166Z"
    }
   },
   "outputs": [],
   "source": [
    "print(criterion)"
   ]
  },
  {
   "cell_type": "code",
   "execution_count": null,
   "id": "ba1e8daf",
   "metadata": {
    "ExecuteTime": {
     "end_time": "2022-10-26T20:21:33.679746Z",
     "start_time": "2022-10-26T20:21:33.679740Z"
    }
   },
   "outputs": [],
   "source": [
    "print(optimizer)"
   ]
  },
  {
   "cell_type": "code",
   "execution_count": null,
   "id": "c3feff0a",
   "metadata": {
    "ExecuteTime": {
     "end_time": "2022-10-26T20:21:33.680682Z",
     "start_time": "2022-10-26T20:21:33.680676Z"
    }
   },
   "outputs": [],
   "source": [
    "epochs = 100\n",
    "losses = []\n",
    "termcolors = [\n",
    "    'grey', 'red', 'green', 'yellow', 'blue', 'magenta', 'cyan', 'white'\n",
    "]\n",
    "font_colors = random.choices(termcolors, k=2)\n",
    "for i in range(epochs):\n",
    "    i += 1\n",
    "    y_pred = model.forward(X)\n",
    "    loss = criterion(y_pred, y)\n",
    "    if i == 1 or i % 10 == 0:\n",
    "        print(colored(\"epoch:\", font_colors[0], attrs=['bold']), i,\n",
    "              colored(\"loss:\", font_colors[1]), loss.item())\n",
    "        print(colored(\"weight:\", font_colors[1]),\n",
    "              list(model.parameters())[0][0][0].item(),\n",
    "              colored(\"bias:\", font_colors[1]),\n",
    "              list(model.parameters())[1][0].item())\n",
    "    losses.append(loss.item())\n",
    "    optimizer.zero_grad()\n",
    "    loss.backward()\n",
    "    optimizer.step()"
   ]
  },
  {
   "cell_type": "code",
   "execution_count": null,
   "id": "11f14de2",
   "metadata": {
    "ExecuteTime": {
     "end_time": "2022-10-26T20:21:33.681183Z",
     "start_time": "2022-10-26T20:21:33.681177Z"
    }
   },
   "outputs": [],
   "source": [
    "colors = calm_color_generator(1)\n",
    "plt.plot(range(epochs), losses, c=colors[0])\n",
    "plt.ylabel('Loss')\n",
    "plt.xlabel('Epoch')"
   ]
  },
  {
   "cell_type": "code",
   "execution_count": null,
   "id": "ef8e45f1",
   "metadata": {
    "ExecuteTime": {
     "end_time": "2022-10-26T20:21:33.681838Z",
     "start_time": "2022-10-26T20:21:33.681834Z"
    }
   },
   "outputs": [],
   "source": [
    "plot_fit(\"Trained Model\")"
   ]
  }
 ],
 "metadata": {
  "hide_input": false,
  "kernelspec": {
   "display_name": "Python 3 (ipykernel)",
   "language": "python",
   "name": "python3"
  },
  "language_info": {
   "codemirror_mode": {
    "name": "ipython",
    "version": 3
   },
   "file_extension": ".py",
   "mimetype": "text/x-python",
   "name": "python",
   "nbconvert_exporter": "python",
   "pygments_lexer": "ipython3",
   "version": "3.9.12"
  },
  "latex_envs": {
   "LaTeX_envs_menu_present": true,
   "autoclose": false,
   "autocomplete": true,
   "bibliofile": "biblio.bib",
   "cite_by": "apalike",
   "current_citInitial": 1,
   "eqLabelWithNumbers": true,
   "eqNumInitial": 1,
   "hotkeys": {
    "equation": "Ctrl-E",
    "itemize": "Ctrl-I"
   },
   "labels_anchors": false,
   "latex_user_defs": false,
   "report_style_numbering": false,
   "user_envs_cfg": false
  },
  "nbTranslate": {
   "displayLangs": [
    "*"
   ],
   "hotkey": "alt-t",
   "langInMainMenu": true,
   "sourceLang": "en",
   "targetLang": "fr",
   "useGoogleTranslate": true
  },
  "toc": {
   "base_numbering": 1,
   "nav_menu": {},
   "number_sections": true,
   "sideBar": true,
   "skip_h1_title": false,
   "title_cell": "Table of Contents",
   "title_sidebar": "Contents",
   "toc_cell": false,
   "toc_position": {
    "height": "calc(100% - 180px)",
    "left": "10px",
    "top": "150px",
    "width": "345.594px"
   },
   "toc_section_display": true,
   "toc_window_display": true
  },
  "varInspector": {
   "cols": {
    "lenName": 16,
    "lenType": 16,
    "lenVar": 40
   },
   "kernels_config": {
    "python": {
     "delete_cmd_postfix": "",
     "delete_cmd_prefix": "del ",
     "library": "var_list.py",
     "varRefreshCmd": "print(var_dic_list())"
    },
    "r": {
     "delete_cmd_postfix": ") ",
     "delete_cmd_prefix": "rm(",
     "library": "var_list.r",
     "varRefreshCmd": "cat(var_dic_list()) "
    }
   },
   "types_to_exclude": [
    "module",
    "function",
    "builtin_function_or_method",
    "instance",
    "_Feature"
   ],
   "window_display": false
  }
 },
 "nbformat": 4,
 "nbformat_minor": 5
}

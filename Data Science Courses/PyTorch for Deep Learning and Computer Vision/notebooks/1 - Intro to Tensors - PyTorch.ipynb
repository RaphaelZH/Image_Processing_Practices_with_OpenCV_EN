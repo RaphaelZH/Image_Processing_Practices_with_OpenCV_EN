{
 "cells": [
  {
   "cell_type": "markdown",
   "id": "7dbb1703",
   "metadata": {
    "hide_input": false
   },
   "source": [
    "# Importing Libraries"
   ]
  },
  {
   "cell_type": "code",
   "execution_count": 1,
   "id": "7174aabd",
   "metadata": {
    "ExecuteTime": {
     "end_time": "2022-11-01T12:11:22.551198Z",
     "start_time": "2022-11-01T12:11:21.364782Z"
    },
    "hide_input": false
   },
   "outputs": [],
   "source": [
    "import torch\n",
    "\n",
    "import numpy as np\n",
    "\n",
    "import matplotlib as mpl\n",
    "import matplotlib.pyplot as plt\n",
    "\n",
    "import sys"
   ]
  },
  {
   "cell_type": "markdown",
   "id": "1905d678",
   "metadata": {},
   "source": [
    "# Configuring Visualization Parameters"
   ]
  },
  {
   "cell_type": "code",
   "execution_count": 2,
   "id": "af71b099",
   "metadata": {
    "ExecuteTime": {
     "end_time": "2022-11-01T12:11:22.560699Z",
     "start_time": "2022-11-01T12:11:22.552678Z"
    },
    "hide_input": false
   },
   "outputs": [],
   "source": [
    "%matplotlib inline"
   ]
  },
  {
   "cell_type": "code",
   "execution_count": 3,
   "id": "55ec3a15",
   "metadata": {
    "ExecuteTime": {
     "end_time": "2022-11-01T12:11:22.563323Z",
     "start_time": "2022-11-01T12:11:22.561685Z"
    }
   },
   "outputs": [],
   "source": [
    "XINHUI = '#7a7374'\n",
    "XUEBAI = '#fffef9'\n",
    "YINBAI = '#f1f0ed'\n",
    "YINHUI = '#918072'\n",
    "\n",
    "figure_size = (16, 9)"
   ]
  },
  {
   "cell_type": "code",
   "execution_count": 4,
   "id": "facdcdc4",
   "metadata": {
    "ExecuteTime": {
     "end_time": "2022-11-01T12:11:22.566830Z",
     "start_time": "2022-11-01T12:11:22.564620Z"
    }
   },
   "outputs": [],
   "source": [
    "custom_params = {\n",
    "    'axes.axisbelow': True,\n",
    "    'axes.edgecolor': YINBAI,\n",
    "    'axes.facecolor': XUEBAI,\n",
    "    'axes.grid': True,\n",
    "    'axes.labelcolor': XINHUI,\n",
    "    'axes.spines.right': False,\n",
    "    'axes.spines.top': False,\n",
    "    'axes.titlecolor': XINHUI,\n",
    "    'figure.edgecolor': YINBAI,\n",
    "    'figure.facecolor': XUEBAI,\n",
    "    'grid.alpha': .8,\n",
    "    'grid.color': YINBAI,\n",
    "    'grid.linestyle': '--',\n",
    "    'grid.linewidth': 1.2,\n",
    "    'legend.edgecolor': YINHUI,\n",
    "    'patch.edgecolor': XUEBAI,\n",
    "    'patch.force_edgecolor': True,\n",
    "    'text.color': XINHUI,\n",
    "    'xtick.color': YINHUI,\n",
    "    'ytick.color': YINHUI,\n",
    "}\n",
    "\n",
    "mpl.rcParams.update(custom_params)"
   ]
  },
  {
   "cell_type": "markdown",
   "id": "d8a4b16a",
   "metadata": {},
   "source": [
    "# Pre-installing Custom Functions"
   ]
  },
  {
   "cell_type": "code",
   "execution_count": 5,
   "id": "7e19a020",
   "metadata": {
    "ExecuteTime": {
     "end_time": "2022-11-01T12:11:22.570061Z",
     "start_time": "2022-11-01T12:11:22.567645Z"
    }
   },
   "outputs": [],
   "source": [
    "sys.path.append('../')"
   ]
  },
  {
   "cell_type": "code",
   "execution_count": 6,
   "id": "9ff136e5",
   "metadata": {
    "ExecuteTime": {
     "end_time": "2022-11-01T12:11:22.580238Z",
     "start_time": "2022-11-01T12:11:22.570869Z"
    }
   },
   "outputs": [],
   "source": [
    "from modules import *"
   ]
  },
  {
   "cell_type": "code",
   "execution_count": 10,
   "id": "90c6ca10",
   "metadata": {
    "ExecuteTime": {
     "end_time": "2022-11-01T12:11:44.387488Z",
     "start_time": "2022-11-01T12:11:44.378668Z"
    }
   },
   "outputs": [
    {
     "name": "stdout",
     "output_type": "stream",
     "text": [
      "\u001b[4m\u001b[33maa\u001b[0m\n",
      "\n",
      "\u001b[1m\u001b[33m    +----------+-------+\u001b[0m\n",
      "\u001b[1m\u001b[33m    | Variable | Value |\u001b[0m\n",
      "\u001b[1m\u001b[33m    +----------+-------+\u001b[0m\n",
      "\u001b[1m\u001b[33m    | g        | d     |\u001b[0m\n",
      "\u001b[1m\u001b[33m    +----------+-------+\u001b[0m\n",
      "\u001b[4m\u001b[37maa\u001b[0m\n",
      "\n",
      "\u001b[1m\u001b[37m    +------------+--------+\u001b[0m\n",
      "\u001b[1m\u001b[37m    | Expression | Result |\u001b[0m\n",
      "\u001b[1m\u001b[37m    +------------+--------+\u001b[0m\n",
      "\u001b[1m\u001b[37m    | g          | d      |\u001b[0m\n",
      "\u001b[1m\u001b[37m    +------------+--------+\u001b[0m\n"
     ]
    },
    {
     "data": {
      "text/plain": [
       "<modules.tabulation.FormGenerator at 0x17ff949d0>"
      ]
     },
     "execution_count": 10,
     "metadata": {},
     "output_type": "execute_result"
    }
   ],
   "source": [
    "form = FormGenerator(\"aa\", \"V\", \"g\", \"d\")\n",
    "FormGenerator(\"aa\", \"e\", \"g\", \"d\")"
   ]
  },
  {
   "cell_type": "code",
   "execution_count": 8,
   "id": "228dfc57",
   "metadata": {
    "ExecuteTime": {
     "end_time": "2022-11-01T12:11:22.586935Z",
     "start_time": "2022-11-01T12:11:22.584211Z"
    }
   },
   "outputs": [
    {
     "data": {
      "text/plain": [
       "<modules.tabulation.FormGenerator at 0x1515870d0>"
      ]
     },
     "execution_count": 8,
     "metadata": {},
     "output_type": "execute_result"
    }
   ],
   "source": [
    "form"
   ]
  },
  {
   "cell_type": "markdown",
   "id": "f566f715",
   "metadata": {},
   "source": [
    "# Practicing in Stages\n",
    "\n",
    "## 1 Dimensional Tensors"
   ]
  },
  {
   "cell_type": "code",
   "execution_count": 9,
   "id": "85640f47",
   "metadata": {
    "ExecuteTime": {
     "end_time": "2022-11-01T12:11:22.848568Z",
     "start_time": "2022-11-01T12:11:22.587768Z"
    },
    "hide_input": false,
    "scrolled": true
   },
   "outputs": [
    {
     "ename": "NameError",
     "evalue": "name 'font_color_printer' is not defined",
     "output_type": "error",
     "traceback": [
      "\u001b[0;31m---------------------------------------------------------------------------\u001b[0m",
      "\u001b[0;31mNameError\u001b[0m                                 Traceback (most recent call last)",
      "Cell \u001b[0;32mIn [9], line 3\u001b[0m\n\u001b[1;32m      1\u001b[0m v \u001b[38;5;241m=\u001b[39m torch\u001b[38;5;241m.\u001b[39mtensor([\u001b[38;5;241m1\u001b[39m, \u001b[38;5;241m2\u001b[39m, \u001b[38;5;241m3\u001b[39m, \u001b[38;5;241m4\u001b[39m, \u001b[38;5;241m5\u001b[39m, \u001b[38;5;241m6\u001b[39m])\n\u001b[0;32m----> 3\u001b[0m \u001b[43mfont_color_printer\u001b[49m(\u001b[38;5;124m\"\u001b[39m\u001b[38;5;124mDefault one-dimensional tensor\u001b[39m\u001b[38;5;124m\"\u001b[39m)\n\u001b[1;32m      5\u001b[0m statement_1 \u001b[38;5;241m=\u001b[39m \u001b[38;5;124m\"\u001b[39m\u001b[38;5;124mv = torch.tensor([1, 2, 3, 4, 5, 6])\u001b[39m\u001b[38;5;124m\"\u001b[39m\n\u001b[1;32m      6\u001b[0m statements \u001b[38;5;241m=\u001b[39m [statement_1]\n",
      "\u001b[0;31mNameError\u001b[0m: name 'font_color_printer' is not defined"
     ]
    }
   ],
   "source": [
    "v = torch.tensor([1, 2, 3, 4, 5, 6])\n",
    "\n",
    "font_color_printer(\"Default one-dimensional tensor\")\n",
    "\n",
    "statement_1 = \"v = torch.tensor([1, 2, 3, 4, 5, 6])\"\n",
    "statements = [statement_1]\n",
    "statement_generator(statements)\n",
    "\n",
    "variables = [\"v\"]\n",
    "values = [str(v)]\n",
    "variable_generator(variables, values)"
   ]
  },
  {
   "cell_type": "code",
   "execution_count": null,
   "id": "e974077e",
   "metadata": {
    "ExecuteTime": {
     "end_time": "2022-11-01T12:11:22.999292Z",
     "start_time": "2022-11-01T12:11:22.999285Z"
    },
    "hide_input": false,
    "scrolled": true
   },
   "outputs": [],
   "source": [
    "font_color_printer(\"Basic information of default 1D tensor\")\n",
    "\n",
    "expressions = [\"v.dtype\", \"v.type()\", \"type(v)\", \"v.size()\"]\n",
    "results = [str(v.dtype), str(v.type()), str(type(v)), str(v.size())]\n",
    "expression_generator(expressions, results)"
   ]
  },
  {
   "cell_type": "code",
   "execution_count": null,
   "id": "094c2952",
   "metadata": {
    "ExecuteTime": {
     "end_time": "2022-11-01T12:11:22.999913Z",
     "start_time": "2022-11-01T12:11:22.999907Z"
    },
    "hide_input": false,
    "scrolled": true
   },
   "outputs": [],
   "source": [
    "font_color_printer(\"Element selection of 1D tensor\")\n",
    "\n",
    "expressions = [\"v[0]\", \"v[-1]\"]\n",
    "results = [str(v[0]), str(v[-1])]\n",
    "expression_generator(expressions, results)"
   ]
  },
  {
   "cell_type": "code",
   "execution_count": null,
   "id": "075355f9",
   "metadata": {
    "ExecuteTime": {
     "end_time": "2022-11-01T12:11:23.000523Z",
     "start_time": "2022-11-01T12:11:23.000517Z"
    },
    "hide_input": false,
    "scrolled": true
   },
   "outputs": [],
   "source": [
    "font_color_printer(\"Segment slicing of 1D tensor\")\n",
    "\n",
    "expressions = [\"v[1:-1]\", \"v[1::2]\"]\n",
    "results = [str(v[1:-1]), str(v[1::2])]\n",
    "expression_generator(expressions, results)"
   ]
  },
  {
   "cell_type": "code",
   "execution_count": null,
   "id": "ccf0a001",
   "metadata": {
    "ExecuteTime": {
     "end_time": "2022-11-01T12:11:23.001256Z",
     "start_time": "2022-11-01T12:11:23.001250Z"
    },
    "hide_input": false,
    "scrolled": true
   },
   "outputs": [],
   "source": [
    "f = torch.FloatTensor([1, 2, 3, 4, 5, 6])\n",
    "\n",
    "font_color_printer(\"Float one-dimensional tensor\")\n",
    "\n",
    "statement_1 = \"f = torch.FloatTensor([1, 2, 3, 4, 5, 6])\"\n",
    "statements = [statement_1]\n",
    "statement_generator(statements)\n",
    "\n",
    "variables = [\"f\"]\n",
    "values = [str(f)]\n",
    "variable_generator(variables, values)"
   ]
  },
  {
   "cell_type": "code",
   "execution_count": null,
   "id": "1a5f919f",
   "metadata": {
    "ExecuteTime": {
     "end_time": "2022-11-01T12:11:23.001994Z",
     "start_time": "2022-11-01T12:11:23.001986Z"
    },
    "hide_input": false
   },
   "outputs": [],
   "source": [
    "font_color_printer(\"Basic information of float 1D tensor\")\n",
    "\n",
    "expressions = [\"f.dtype\", \"f.type()\", \"type(f)\", \"f.size()\"]\n",
    "results = [str(f.dtype), str(f.type()), str(type(f)), str(f.size())]\n",
    "expression_generator(expressions, results)"
   ]
  },
  {
   "cell_type": "code",
   "execution_count": null,
   "id": "3b8eed62",
   "metadata": {
    "ExecuteTime": {
     "end_time": "2022-11-01T12:11:23.002973Z",
     "start_time": "2022-11-01T12:11:23.002967Z"
    },
    "hide_input": false
   },
   "outputs": [],
   "source": [
    "font_color_printer(\"Reshaping of 1D tensor\")\n",
    "\n",
    "expressions = [\n",
    "    \"v.view(6)\", \"v.view(1, 6)\", \"v.view(6, 1)\", \"v.view(3, 2)\",\n",
    "    \"v.view(3, -1)\"\n",
    "]\n",
    "results = [\n",
    "    str(v.view(6)),\n",
    "    str(v.view(1, 6)),\n",
    "    str(v.view(6, 1)),\n",
    "    str(v.view(3, 2)),\n",
    "    str(v.view(3, -1))\n",
    "]\n",
    "expression_generator(expressions, results)"
   ]
  },
  {
   "cell_type": "code",
   "execution_count": null,
   "id": "395dce44",
   "metadata": {
    "ExecuteTime": {
     "end_time": "2022-11-01T12:11:23.003421Z",
     "start_time": "2022-11-01T12:11:23.003415Z"
    },
    "hide_input": false,
    "scrolled": false
   },
   "outputs": [],
   "source": [
    "a = np.array([1, 2, 3, 4, 5, 6])\n",
    "tensor_cnv = torch.from_numpy(a)\n",
    "numpy_cnv = tensor_cnv.numpy()\n",
    "\n",
    "font_color_printer(\"Conversion between array and tensor\")\n",
    "\n",
    "statement_1 = \"a = np.array([1, 2, 3, 4, 5, 6])\"\n",
    "statement_2 = \"tensor_cnv = torch.from_numpy(a)\"\n",
    "statement_3 = \"numpy_cnv = tensor_cnv.numpy()\"\n",
    "statements = [statement_1] + [statement_2] + [statement_3]\n",
    "statement_generator(statements)\n",
    "\n",
    "variables = [\"a\", \"tensor_cnv\", \"numpy_cnv\"]\n",
    "values = [str(a), str(tensor_cnv), str(numpy_cnv)]\n",
    "variable_generator(variables, values)\n",
    "\n",
    "expressions = [\n",
    "    \"tensor_cnv.dtype\", \"tensor_cnv.type()\", \"type(tensor_cnv)\",\n",
    "    \"numpy_cnv.dtype\", \"type(numpy_cnv)\"\n",
    "]\n",
    "results = [\n",
    "    str(tensor_cnv.dtype),\n",
    "    str(tensor_cnv.type()),\n",
    "    str(type(tensor_cnv)),\n",
    "    str(numpy_cnv.dtype),\n",
    "    str(type(numpy_cnv))\n",
    "]\n",
    "expression_generator(expressions, results)"
   ]
  },
  {
   "cell_type": "markdown",
   "id": "d08ef56c",
   "metadata": {},
   "source": [
    "## Vector Operations"
   ]
  },
  {
   "cell_type": "code",
   "execution_count": null,
   "id": "ccd63ad3",
   "metadata": {
    "ExecuteTime": {
     "end_time": "2022-11-01T12:11:23.003866Z",
     "start_time": "2022-11-01T12:11:23.003861Z"
    }
   },
   "outputs": [],
   "source": [
    "t_one = torch.tensor([1, 2, 3])\n",
    "t_two = torch.tensor([1, 2, 3])\n",
    "\n",
    "font_color_printer(\"Original tensors\")\n",
    "\n",
    "statement_1 = \"t_one = torch.tensor([1, 2, 3])\"\n",
    "statement_2 = \"t_two = torch.tensor([1, 2, 3])\"\n",
    "statements = [statement_1] + [statement_2]\n",
    "statement_generator(statements)\n",
    "\n",
    "variables = [\"t_one\", \"t_two\"]\n",
    "values = [str(t_one), str(t_two)]\n",
    "variable_generator(variables, values)"
   ]
  },
  {
   "cell_type": "code",
   "execution_count": null,
   "id": "15d8133c",
   "metadata": {
    "ExecuteTime": {
     "end_time": "2022-11-01T12:11:23.004668Z",
     "start_time": "2022-11-01T12:11:23.004662Z"
    }
   },
   "outputs": [],
   "source": [
    "font_color_printer(\"Simple operations\")\n",
    "\n",
    "expressions = [\n",
    "    \"t_one + t_two\", \"t_one - t_two\", \"t_one * t_two\", \"t_one / t_two\",\n",
    "    \"t_one * 5\"\n",
    "]\n",
    "results = [\n",
    "    str(t_one + t_two),\n",
    "    str(t_one - t_two),\n",
    "    str(t_one * t_two),\n",
    "    str(t_one / t_two),\n",
    "    str(t_one * 5)\n",
    "]\n",
    "expression_generator(expressions, results)"
   ]
  },
  {
   "cell_type": "code",
   "execution_count": null,
   "id": "dca9e03e",
   "metadata": {
    "ExecuteTime": {
     "end_time": "2022-11-01T12:11:23.005334Z",
     "start_time": "2022-11-01T12:11:23.005328Z"
    }
   },
   "outputs": [],
   "source": [
    "dot_product = torch.dot(t_one, t_two)\n",
    "\n",
    "font_color_printer(\"Dot product of tensors\")\n",
    "\n",
    "statement_1 = \"dot_product = torch.dot(t_one, t_two)\"\n",
    "statements = [statement_1]\n",
    "statement_generator(statements)\n",
    "\n",
    "variables = [\"dot_product\"]\n",
    "values = [str(dot_product)]\n",
    "variable_generator(variables, values)"
   ]
  },
  {
   "cell_type": "code",
   "execution_count": null,
   "id": "9bf8b97a",
   "metadata": {
    "ExecuteTime": {
     "end_time": "2022-11-01T12:11:23.006088Z",
     "start_time": "2022-11-01T12:11:23.006083Z"
    }
   },
   "outputs": [],
   "source": [
    "x = torch.linspace(0, 10, 5)\n",
    "\n",
    "font_color_printer(\"Creating arithmetic sequence in 1D tensor\")\n",
    "\n",
    "statement_1 = \"x = torch.linspace(0, 10, 5)\"\n",
    "statements = [statement_1]\n",
    "statement_generator(statements)\n",
    "\n",
    "variables = [\"x\"]\n",
    "values = [str(x)]\n",
    "variable_generator(variables, values)"
   ]
  },
  {
   "cell_type": "code",
   "execution_count": null,
   "id": "67c4b9d8",
   "metadata": {
    "ExecuteTime": {
     "end_time": "2022-11-01T12:11:23.006774Z",
     "start_time": "2022-11-01T12:11:23.006769Z"
    }
   },
   "outputs": [],
   "source": [
    "y = torch.exp(x)\n",
    "\n",
    "font_color_printer(\"Exponentiation of tensor elements\")\n",
    "\n",
    "statement_1 = \"y = torch.exp(x)\"\n",
    "statements = [statement_1]\n",
    "statement_generator(statements)\n",
    "\n",
    "variables = [\"y\"]\n",
    "values = [str(y)]\n",
    "variable_generator(variables, values)"
   ]
  },
  {
   "cell_type": "code",
   "execution_count": null,
   "id": "fad25fae",
   "metadata": {
    "ExecuteTime": {
     "end_time": "2022-11-01T12:11:23.007495Z",
     "start_time": "2022-11-01T12:11:23.007490Z"
    }
   },
   "outputs": [],
   "source": [
    "colors = calm_color_generator(2)\n",
    "plt.rcParams['figure.figsize'] = (figure_size[0], figure_size[1] / 2)\n",
    "\n",
    "fig, axs = plt.subplots(1, 2, sharey=True)\n",
    "\n",
    "x_1 = torch.linspace(0, 10, 5)\n",
    "y_1 = torch.exp(x_1)\n",
    "axs[0].plot(x_1.numpy(), y_1.numpy(), c=colors.pop(0))\n",
    "axs[0].set_title(\"Arithmetic sequence of 5 elements\", loc='center', pad=15)\n",
    "\n",
    "x_2 = torch.linspace(0, 10, 100)\n",
    "y_2 = torch.exp(x_2)\n",
    "axs[1].plot(x_2.numpy(), y_2.numpy(), c=colors.pop(0))\n",
    "axs[1].set_title(\"Arithmetic sequence of 100 elements\", loc='center', pad=15)\n",
    "\n",
    "for ax in axs.flat:\n",
    "    ax.set(xlabel=\"arithmetic sequence\", ylabel=\"result of exponentiation\")\n",
    "    ax.tick_params(axis='y', labelrotation=90)\n",
    "    ax.label_outer()\n",
    "\n",
    "fig.suptitle(\"Visual Comparison of Exponentiation\",\n",
    "             fontsize='x-large',\n",
    "             x=0.5,\n",
    "             y=0)\n",
    "\n",
    "plt.tight_layout()\n",
    "plt.show()"
   ]
  },
  {
   "cell_type": "code",
   "execution_count": null,
   "id": "45b9661a",
   "metadata": {
    "ExecuteTime": {
     "end_time": "2022-11-01T12:11:23.008076Z",
     "start_time": "2022-11-01T12:11:23.008070Z"
    }
   },
   "outputs": [],
   "source": [
    "def csc(x):\n",
    "    return 1 / torch.sin(x)\n",
    "\n",
    "\n",
    "def sec(x):\n",
    "    return 1 / torch.cos(x)\n",
    "\n",
    "\n",
    "def cot(x):\n",
    "    return 1 / torch.tan(x)\n",
    "\n",
    "\n",
    "colors = calm_color_generator(6)\n",
    "plt.rcParams['figure.figsize'] = (figure_size[0], figure_size[1] / 2 * 3)\n",
    "\n",
    "value_list_1 = [0, torch.pi, 2 * torch.pi, 3 * torch.pi]\n",
    "value_list_2 = [i - .5 * torch.pi for i in value_list_1][1:]\n",
    "color_list_1 = calm_color_generator(4)\n",
    "color_list_2 = calm_color_generator(3)\n",
    "label_list_1 = ['0 π', '1 π', '2 π', '3 π']\n",
    "label_list_2 = ['0.5 π', '1.5 π', '2.5 π']\n",
    "\n",
    "fig, axs = plt.subplots(3, 2, sharex=True)\n",
    "\n",
    "x = torch.linspace(0, 10, 100)\n",
    "y_1 = torch.sin(x)\n",
    "axs[0, 0].plot(x.numpy(), y_1.numpy(), c=colors.pop(0))\n",
    "axs[0, 0].set_title(\"sine = opposite / hypotenuse\", loc='center', pad=15)\n",
    "\n",
    "y_2 = csc(x)\n",
    "axs[0, 1].plot(x.numpy(), y_2.numpy(), c=colors.pop(0))\n",
    "axs[0, 1].set_title(\"cosecant = hypotenuse / opposite\", loc='center', pad=15)\n",
    "\n",
    "y_3 = torch.cos(x)\n",
    "axs[1, 0].plot(x.numpy(), y_3.numpy(), c=colors.pop(0))\n",
    "axs[1, 0].set_title(\"cosine = adjacent / hypotenuse\", loc='center', pad=15)\n",
    "\n",
    "y_4 = sec(x)\n",
    "axs[1, 1].plot(x.numpy(), y_4.numpy(), c=colors.pop(0))\n",
    "axs[1, 1].set_title(\"secant = hypotenuse / adjacent\", loc='center', pad=15)\n",
    "\n",
    "y_5 = torch.tan(x)\n",
    "axs[2, 0].plot(x.numpy(), y_5.numpy(), c=colors.pop(0))\n",
    "axs[2, 0].set_title(\"tangent = opposite / adjacent\", loc='center', pad=15)\n",
    "\n",
    "y_6 = cot(x)\n",
    "axs[2, 1].plot(x.numpy(), y_6.numpy(), c=colors.pop(0))\n",
    "axs[2, 1].set_title(\"cotangent = adjacent / opposite\", loc='center', pad=15)\n",
    "\n",
    "for ax in axs.flat:\n",
    "    ax.set(xlabel=\"arithmetic sequence\", ylabel='result of trigonometry')\n",
    "    for x, c, label in zip(value_list_1, color_list_1, label_list_1):\n",
    "        ax.axvline(x=x,\n",
    "                   c=c,\n",
    "                   label=label,\n",
    "                   alpha=.2,\n",
    "                   linestyle='--',\n",
    "                   linewidth=3)\n",
    "    for x, c, label in zip(value_list_2, color_list_2, label_list_2):\n",
    "        ax.axvline(x=x, c=c, label=label, alpha=.2, linestyle=':', linewidth=3)\n",
    "\n",
    "fig.suptitle('Visual Comparison of Trigonometry',\n",
    "             fontsize='x-large',\n",
    "             x=0.5,\n",
    "             y=0)\n",
    "\n",
    "plt.legend(loc='lower right', borderpad=1, ncol=2)\n",
    "plt.tight_layout()\n",
    "plt.show()"
   ]
  },
  {
   "cell_type": "markdown",
   "id": "5816eadf",
   "metadata": {},
   "source": [
    "## 2 Dimensional Tensors"
   ]
  },
  {
   "cell_type": "code",
   "execution_count": null,
   "id": "f937ef6f",
   "metadata": {
    "ExecuteTime": {
     "end_time": "2022-11-01T12:11:23.009080Z",
     "start_time": "2022-11-01T12:11:23.009064Z"
    }
   },
   "outputs": [],
   "source": [
    "one_d = torch.arange(2, 7)\n",
    "\n",
    "font_color_printer(\"Creation of 1D tensor from defined interval\")\n",
    "\n",
    "statement_1 = \"one_d = torch.arange(2, 7)\"\n",
    "statements = [statement_1]\n",
    "statement_generator(statements)\n",
    "\n",
    "variables = [\"one_d\"]\n",
    "values = [str(one_d)]\n",
    "variable_generator(variables, values)"
   ]
  },
  {
   "cell_type": "code",
   "execution_count": null,
   "id": "99eba0e3",
   "metadata": {
    "ExecuteTime": {
     "end_time": "2022-11-01T12:11:23.009676Z",
     "start_time": "2022-11-01T12:11:23.009671Z"
    }
   },
   "outputs": [],
   "source": [
    "one_d = torch.arange(2, 7, 2)\n",
    "\n",
    "font_color_printer(\n",
    "    \"Creation of 1D tensor from defined interval and difference\")\n",
    "\n",
    "statement_1 = \"one_d = torch.arange(2, 7, 2)\"\n",
    "statements = [statement_1]\n",
    "statement_generator(statements)\n",
    "\n",
    "variables = [\"one_d\"]\n",
    "values = [str(one_d)]\n",
    "variable_generator(variables, values)"
   ]
  },
  {
   "cell_type": "code",
   "execution_count": null,
   "id": "258d4da2",
   "metadata": {
    "ExecuteTime": {
     "end_time": "2022-11-01T12:11:23.010151Z",
     "start_time": "2022-11-01T12:11:23.010145Z"
    }
   },
   "outputs": [],
   "source": [
    "one_d = torch.arange(0, 9)\n",
    "two_d = one_d.view(3, 3)\n",
    "\n",
    "font_color_printer(\"Creation of 2D tensor from 1D tensor\")\n",
    "\n",
    "statement_1 = \"one_d = torch.arange(0, 9)\"\n",
    "statement_2 = \"two_d = one_d.view(3, 3)\"\n",
    "statements = [statement_1] + [statement_2]\n",
    "statement_generator(statements)\n",
    "\n",
    "variables = [\"one_d\", \"two_d\"]\n",
    "values = [str(one_d), str(two_d)]\n",
    "variable_generator(variables, values)\n",
    "\n",
    "expressions = [\"one_d.dim()\", \"two_d.dim()\"]\n",
    "results = [str(one_d.dim()), str(two_d.dim())]\n",
    "expression_generator(expressions, results)"
   ]
  },
  {
   "cell_type": "code",
   "execution_count": null,
   "id": "03439b1e",
   "metadata": {
    "ExecuteTime": {
     "end_time": "2022-11-01T12:11:23.010833Z",
     "start_time": "2022-11-01T12:11:23.010827Z"
    }
   },
   "outputs": [],
   "source": [
    "font_color_printer(\"Element selection of 2D tensor\")\n",
    "\n",
    "expressions = [\"two_d[0, 0]\", \"two_d[1, 2]\", \"two_d[-2, -1]\"]\n",
    "results = [str(two_d[0, 0]), str(two_d[1, 2]), str(two_d[-2, -1])]\n",
    "expression_generator(expressions, results)"
   ]
  },
  {
   "cell_type": "code",
   "execution_count": null,
   "id": "a4ad689c",
   "metadata": {
    "ExecuteTime": {
     "end_time": "2022-11-01T12:11:23.011453Z",
     "start_time": "2022-11-01T12:11:23.011447Z"
    }
   },
   "outputs": [],
   "source": [
    "font_color_printer(\"Segment slicing of 2D tensor\")\n",
    "\n",
    "expressions = [\n",
    "    \"two_d[0]\", \"two_d[0, ]\", \"two_d[:, 0]\", \"two_d[:-1, ]\", \"two_d[:, ::2]\"\n",
    "]\n",
    "results = [\n",
    "    str(two_d[0]),\n",
    "    str(two_d[0, ]),\n",
    "    str(two_d[:, 0]),\n",
    "    str(two_d[:-1, ]),\n",
    "    str(two_d[:, ::2])\n",
    "]\n",
    "expression_generator(expressions, results)"
   ]
  },
  {
   "cell_type": "code",
   "execution_count": null,
   "id": "a2a340c2",
   "metadata": {
    "ExecuteTime": {
     "end_time": "2022-11-01T12:11:23.012628Z",
     "start_time": "2022-11-01T12:11:23.012621Z"
    }
   },
   "outputs": [],
   "source": [
    "three_d_1 = torch.arange(18).view(2, 3, 3)\n",
    "three_d_2 = torch.arange(18).view(3, 2, 3)\n",
    "three_d_3 = torch.arange(18).view(3, 3, 2)\n",
    "\n",
    "font_color_printer(\"Creation of 3D tensor from 1D tensor\")\n",
    "\n",
    "statement_1 = \"three_d_1 = torch.arange(18).view(2, 3, 3)\"\n",
    "statement_2 = \"three_d_2 = torch.arange(18).view(3, 2, 3)\"\n",
    "statement_3 = \"three_d_3 = torch.arange(18).view(3, 3, 2)\"\n",
    "statements = [statement_1] + [statement_2] + [statement_3]\n",
    "statement_generator(statements)\n",
    "\n",
    "variables = [\"three_d_1\", \"three_d_2\", \"three_d_3\"]\n",
    "values = [str(three_d_1), str(three_d_2), str(three_d_3)]\n",
    "variable_generator(variables, values)\n",
    "\n",
    "expressions = [\n",
    "    \"three_d_2.size()\", \"three_d_2.size(dim=0)\", \"three_d_2.size(dim=1)\",\n",
    "    \"three_d_2.size(dim=2)\", \"three_d_2.dim()\"\n",
    "]\n",
    "results = [\n",
    "    str(three_d_2.size()),\n",
    "    str(three_d_2.size(dim=0)),\n",
    "    str(three_d_2.size(dim=1)),\n",
    "    str(three_d_2.size(dim=2)),\n",
    "    str(three_d_2.dim()),\n",
    "]\n",
    "expression_generator(expressions, results)"
   ]
  },
  {
   "cell_type": "markdown",
   "id": "d2f57f35",
   "metadata": {},
   "source": [
    "## Slicing 3D Tensors"
   ]
  },
  {
   "cell_type": "code",
   "execution_count": null,
   "id": "c26b3683",
   "metadata": {
    "ExecuteTime": {
     "end_time": "2022-11-01T12:11:23.013205Z",
     "start_time": "2022-11-01T12:11:23.013199Z"
    }
   },
   "outputs": [],
   "source": [
    "font_color_printer(\"Element selection of 3D tensor\")\n",
    "\n",
    "expressions = [\n",
    "    \"three_d_1[1, 1, 1]\", \"three_d_2[1, 1, 1]\", \"three_d_3[1, 1, 1]\"\n",
    "]\n",
    "results = [\n",
    "    str(three_d_1[1, 1, 1]),\n",
    "    str(three_d_2[1, 1, 1]),\n",
    "    str(three_d_3[1, 1, 1])\n",
    "]\n",
    "expression_generator(expressions, results)"
   ]
  },
  {
   "cell_type": "code",
   "execution_count": null,
   "id": "94e79bb5",
   "metadata": {
    "ExecuteTime": {
     "end_time": "2022-11-01T12:11:23.013824Z",
     "start_time": "2022-11-01T12:11:23.013818Z"
    }
   },
   "outputs": [],
   "source": [
    "font_color_printer(\"Segment slicing of 3D tensor\")\n",
    "\n",
    "expressions = [\n",
    "    \"three_d_2[1]\", \"three_d_2[1, :, :]\", \"three_d_2[:, :-1, :]\",\n",
    "    \"three_d_2[:, :, ::2]\"\n",
    "]\n",
    "results = [\n",
    "    str(three_d_2[1]),\n",
    "    str(three_d_2[1, :, :]),\n",
    "    str(three_d_2[:, :-1, :]),\n",
    "    str(three_d_2[:, :, ::2])\n",
    "]\n",
    "expression_generator(expressions, results)"
   ]
  },
  {
   "cell_type": "markdown",
   "id": "eb87c657",
   "metadata": {},
   "source": [
    "## Matrix Multiplication"
   ]
  },
  {
   "cell_type": "code",
   "execution_count": null,
   "id": "88426db3",
   "metadata": {
    "ExecuteTime": {
     "end_time": "2022-11-01T12:11:23.014332Z",
     "start_time": "2022-11-01T12:11:23.014326Z"
    }
   },
   "outputs": [],
   "source": [
    "mat_a = torch.tensor([0, 3, 5, 5, 5, 2]).view(2, 3)\n",
    "mat_b = torch.tensor([3, 4, 3, -2, 4, -2]).view(3, 2)\n",
    "\n",
    "font_color_printer(\"Matrix multiplication of tensors\")\n",
    "\n",
    "statement_1 = \"mat_a = torch.tensor([0, 3, 5, 5, 5, 2]).view(2, 3)\"\n",
    "statement_2 = \"mat_b = torch.tensor([3, 4, 3, -2, 4, -2]).view(3, 2)\"\n",
    "statements = [statement_1] + [statement_2]\n",
    "statement_generator(statements)\n",
    "\n",
    "variables = [\"mat_a\", \"mat_b\"]\n",
    "values = [str(mat_a), str(mat_b)]\n",
    "variable_generator(variables, values)\n",
    "\n",
    "expressions = [\"torch.matmul(mat_a, mat_b)\", \"mat_a @ mat_b\"]\n",
    "results = [str(torch.matmul(mat_a, mat_b)), str(mat_a @ mat_b)]\n",
    "expression_generator(expressions, results)"
   ]
  },
  {
   "cell_type": "markdown",
   "id": "8897dad0",
   "metadata": {},
   "source": [
    "## Gradient with PyTorch"
   ]
  },
  {
   "cell_type": "code",
   "execution_count": null,
   "id": "63c9f9f3",
   "metadata": {
    "ExecuteTime": {
     "end_time": "2022-11-01T12:11:23.014790Z",
     "start_time": "2022-11-01T12:11:23.014784Z"
    }
   },
   "outputs": [],
   "source": [
    "x = torch.tensor(2.0, requires_grad=True)\n",
    "y = 9 * x**4 + 2 * x**3 + 3 * x**2 + 6 * x + 1\n",
    "y.backward()\n",
    "\n",
    "font_color_printer(\"Calculation of total derivative\")\n",
    "\n",
    "statement_1 = \"x = torch.tensor(2.0, requires_grad=True)\"\n",
    "statement_2 = \"y = 9 * x**4 + 2 * x**3 + 3 * x**2 + 6 * x + 1\"\n",
    "statement_3 = \"y.backward()\"\n",
    "statements = [statement_1] + [statement_2] + [statement_3]\n",
    "statement_generator(statements)\n",
    "\n",
    "variables = [\"x\", \"y\"]\n",
    "values = [str(x), str(y)]\n",
    "variable_generator(variables, values)\n",
    "\n",
    "expressions = [\"x.grad\"]\n",
    "results = [str(x.grad)]\n",
    "expression_generator(expressions, results)"
   ]
  },
  {
   "cell_type": "code",
   "execution_count": null,
   "id": "1a9b8a40",
   "metadata": {
    "ExecuteTime": {
     "end_time": "2022-11-01T12:11:23.015672Z",
     "start_time": "2022-11-01T12:11:23.015665Z"
    }
   },
   "outputs": [],
   "source": [
    "x = torch.tensor(1.0, requires_grad=True)\n",
    "z = torch.tensor(2.0, requires_grad=True)\n",
    "y = x**2 + z**3\n",
    "y.backward()\n",
    "\n",
    "font_color_printer(\"Calculation of partial derivative\")\n",
    "\n",
    "statement_1 = \"x = torch.tensor(1.0, requires_grad=True)\"\n",
    "statement_2 = \"z = torch.tensor(2.0, requires_grad=True)\"\n",
    "statement_3 = \"y = x**2 + z**3\"\n",
    "statement_4 = \"y.backward()\"\n",
    "statements = [statement_1] + [statement_2] + [statement_3] + [statement_4]\n",
    "statement_generator(statements)\n",
    "\n",
    "variables = [\"x\", \"z\", \"y\"]\n",
    "values = [str(x), str(z), str(y)]\n",
    "variable_generator(variables, values)\n",
    "\n",
    "expressions = [\"x.grad\", \"z.grad\"]\n",
    "results = [str(x.grad), str(z.grad)]\n",
    "expression_generator(expressions, results)"
   ]
  },
  {
   "cell_type": "code",
   "execution_count": null,
   "id": "5947df81",
   "metadata": {
    "ExecuteTime": {
     "end_time": "2022-11-01T12:11:23.016259Z",
     "start_time": "2022-11-01T12:11:23.016254Z"
    }
   },
   "outputs": [],
   "source": [
    "def a(string):\n",
    "    if string == \"s\" or \"S\":\n",
    "            print(\"s\")\n",
    "    elif string == \"l\":\n",
    "            print(\"l\")\n",
    "            \n",
    "\n",
    "a(\"S\")"
   ]
  },
  {
   "cell_type": "code",
   "execution_count": null,
   "id": "2f148cea",
   "metadata": {
    "ExecuteTime": {
     "end_time": "2022-11-01T12:11:23.016788Z",
     "start_time": "2022-11-01T12:11:23.016782Z"
    }
   },
   "outputs": [],
   "source": [
    "cprint(\"Please check that the selection of the form type is correct.\", 'red', attrs=['blink', 'reverse'])"
   ]
  },
  {
   "cell_type": "code",
   "execution_count": null,
   "id": "d94519c9",
   "metadata": {
    "ExecuteTime": {
     "end_time": "2022-11-01T12:11:23.017304Z",
     "start_time": "2022-11-01T12:11:23.017298Z"
    }
   },
   "outputs": [],
   "source": [
    "def f(x):\n",
    "    match x:\n",
    "        case 'a':\n",
    "            return 1\n",
    "        case 'b':\n",
    "            return 2\n",
    "        case _:\n",
    "            return 0   # 0 is the default case if x is not found"
   ]
  },
  {
   "cell_type": "code",
   "execution_count": null,
   "id": "dca4f61e",
   "metadata": {},
   "outputs": [],
   "source": []
  }
 ],
 "metadata": {
  "hide_input": false,
  "kernelspec": {
   "display_name": "Python 3 (ipykernel)",
   "language": "python",
   "name": "python3"
  },
  "language_info": {
   "codemirror_mode": {
    "name": "ipython",
    "version": 3
   },
   "file_extension": ".py",
   "mimetype": "text/x-python",
   "name": "python",
   "nbconvert_exporter": "python",
   "pygments_lexer": "ipython3",
   "version": "3.9.12"
  },
  "latex_envs": {
   "LaTeX_envs_menu_present": true,
   "autoclose": false,
   "autocomplete": true,
   "bibliofile": "biblio.bib",
   "cite_by": "apalike",
   "current_citInitial": 1,
   "eqLabelWithNumbers": true,
   "eqNumInitial": 1,
   "hotkeys": {
    "equation": "Ctrl-E",
    "itemize": "Ctrl-I"
   },
   "labels_anchors": false,
   "latex_user_defs": false,
   "report_style_numbering": false,
   "user_envs_cfg": false
  },
  "nbTranslate": {
   "displayLangs": [
    "*"
   ],
   "hotkey": "alt-t",
   "langInMainMenu": true,
   "sourceLang": "en",
   "targetLang": "fr",
   "useGoogleTranslate": true
  },
  "toc": {
   "base_numbering": 1,
   "nav_menu": {},
   "number_sections": true,
   "sideBar": true,
   "skip_h1_title": false,
   "title_cell": "Table of Contents",
   "title_sidebar": "Contents",
   "toc_cell": false,
   "toc_position": {
    "height": "716px",
    "left": "51px",
    "top": "180px",
    "width": "345.594px"
   },
   "toc_section_display": false,
   "toc_window_display": true
  },
  "varInspector": {
   "cols": {
    "lenName": 16,
    "lenType": 16,
    "lenVar": 40
   },
   "kernels_config": {
    "python": {
     "delete_cmd_postfix": "",
     "delete_cmd_prefix": "del ",
     "library": "var_list.py",
     "varRefreshCmd": "print(var_dic_list())"
    },
    "r": {
     "delete_cmd_postfix": ") ",
     "delete_cmd_prefix": "rm(",
     "library": "var_list.r",
     "varRefreshCmd": "cat(var_dic_list()) "
    }
   },
   "types_to_exclude": [
    "module",
    "function",
    "builtin_function_or_method",
    "instance",
    "_Feature"
   ],
   "window_display": false
  }
 },
 "nbformat": 4,
 "nbformat_minor": 5
}

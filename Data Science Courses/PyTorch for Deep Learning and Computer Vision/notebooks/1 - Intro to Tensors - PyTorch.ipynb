{
 "cells": [
  {
   "cell_type": "markdown",
   "id": "5e1d7850",
   "metadata": {
    "hide_input": false
   },
   "source": [
    "# Importing Libraries"
   ]
  },
  {
   "cell_type": "code",
   "execution_count": 1,
   "id": "85d4a488",
   "metadata": {
    "ExecuteTime": {
     "end_time": "2022-11-01T09:08:48.242763Z",
     "start_time": "2022-11-01T09:08:47.423254Z"
    },
    "hide_input": false
   },
   "outputs": [],
   "source": [
    "import torch\n",
    "\n",
    "import numpy as np\n",
    "\n",
    "import matplotlib as mpl\n",
    "import matplotlib.pyplot as plt\n",
    "\n",
    "import sys"
   ]
  },
  {
   "cell_type": "markdown",
   "id": "a0cac004",
   "metadata": {},
   "source": [
    "# Configuring Visualization Parameters"
   ]
  },
  {
   "cell_type": "code",
   "execution_count": 2,
   "id": "2da3774e",
   "metadata": {
    "ExecuteTime": {
     "end_time": "2022-11-01T09:08:48.250278Z",
     "start_time": "2022-11-01T09:08:48.244063Z"
    },
    "hide_input": false
   },
   "outputs": [],
   "source": [
    "%matplotlib inline"
   ]
  },
  {
   "cell_type": "code",
   "execution_count": 3,
   "id": "11baf2d5",
   "metadata": {
    "ExecuteTime": {
     "end_time": "2022-11-01T09:08:48.252463Z",
     "start_time": "2022-11-01T09:08:48.251104Z"
    }
   },
   "outputs": [],
   "source": [
    "XINHUI = '#7a7374'\n",
    "XUEBAI = '#fffef9'\n",
    "YINBAI = '#f1f0ed'\n",
    "YINHUI = '#918072'\n",
    "\n",
    "figure_size = (16, 9)"
   ]
  },
  {
   "cell_type": "code",
   "execution_count": 4,
   "id": "779ab663",
   "metadata": {
    "ExecuteTime": {
     "end_time": "2022-11-01T09:08:48.255777Z",
     "start_time": "2022-11-01T09:08:48.253713Z"
    }
   },
   "outputs": [],
   "source": [
    "custom_params = {\n",
    "    'axes.axisbelow': True,\n",
    "    'axes.edgecolor': YINBAI,\n",
    "    'axes.facecolor': XUEBAI,\n",
    "    'axes.grid': True,\n",
    "    'axes.labelcolor': XINHUI,\n",
    "    'axes.spines.right': False,\n",
    "    'axes.spines.top': False,\n",
    "    'axes.titlecolor': XINHUI,\n",
    "    'figure.edgecolor': YINBAI,\n",
    "    'figure.facecolor': XUEBAI,\n",
    "    'grid.alpha': .8,\n",
    "    'grid.color': YINBAI,\n",
    "    'grid.linestyle': '--',\n",
    "    'grid.linewidth': 1.2,\n",
    "    'legend.edgecolor': YINHUI,\n",
    "    'patch.edgecolor': XUEBAI,\n",
    "    'patch.force_edgecolor': True,\n",
    "    'text.color': XINHUI,\n",
    "    'xtick.color': YINHUI,\n",
    "    'ytick.color': YINHUI,\n",
    "}\n",
    "\n",
    "mpl.rcParams.update(custom_params)"
   ]
  },
  {
   "cell_type": "markdown",
   "id": "8fdff65d",
   "metadata": {},
   "source": [
    "# Pre-installing Custom Functions"
   ]
  },
  {
   "cell_type": "code",
   "execution_count": 5,
   "id": "71a356fd",
   "metadata": {
    "ExecuteTime": {
     "end_time": "2022-11-01T09:08:48.258060Z",
     "start_time": "2022-11-01T09:08:48.256614Z"
    }
   },
   "outputs": [],
   "source": [
    "sys.path.append('../')"
   ]
  },
  {
   "cell_type": "code",
   "execution_count": 6,
   "id": "277e5906",
   "metadata": {
    "ExecuteTime": {
     "end_time": "2022-11-01T09:08:48.264916Z",
     "start_time": "2022-11-01T09:08:48.258757Z"
    }
   },
   "outputs": [],
   "source": [
    "from modules import *"
   ]
  },
  {
   "cell_type": "code",
   "execution_count": 15,
   "id": "612356e3",
   "metadata": {
    "ExecuteTime": {
     "end_time": "2022-11-01T09:09:32.249380Z",
     "start_time": "2022-11-01T09:09:32.240899Z"
    }
   },
   "outputs": [
    {
     "name": "stdout",
     "output_type": "stream",
     "text": [
      "\u001b[4m\u001b[34maa\u001b[0m\n",
      "\n",
      "\u001b[1m\u001b[34m    +------------+\u001b[0m\n",
      "\u001b[1m\u001b[34m    | Definition |\u001b[0m\n",
      "\u001b[1m\u001b[34m    +------------+\u001b[0m\n",
      "\u001b[1m\u001b[34m    | g          |\u001b[0m\n",
      "\u001b[1m\u001b[34m    +------------+\u001b[0m\n"
     ]
    }
   ],
   "source": [
    "A = Form_Generator(\"aa\", \"d\", \"g\")"
   ]
  },
  {
   "cell_type": "code",
   "execution_count": 8,
   "id": "ff76482e",
   "metadata": {
    "ExecuteTime": {
     "end_time": "2022-11-01T09:08:48.270750Z",
     "start_time": "2022-11-01T09:08:48.268144Z"
    }
   },
   "outputs": [
    {
     "data": {
      "text/plain": [
       "list"
      ]
     },
     "execution_count": 8,
     "metadata": {},
     "output_type": "execute_result"
    }
   ],
   "source": [
    "list_1 = [\"1\", \"2\", \"3\"]\n",
    "list_2 = [\"a\", \"b\", \"c\"]\n",
    "\n",
    "type([list_1, list_2])"
   ]
  },
  {
   "cell_type": "markdown",
   "id": "3cbb5986",
   "metadata": {},
   "source": [
    "# Practicing in Stages\n",
    "\n",
    "## 1 Dimensional Tensors"
   ]
  },
  {
   "cell_type": "code",
   "execution_count": 9,
   "id": "fa3e2a85",
   "metadata": {
    "ExecuteTime": {
     "end_time": "2022-11-01T09:08:48.530883Z",
     "start_time": "2022-11-01T09:08:48.271494Z"
    },
    "hide_input": false,
    "scrolled": true
   },
   "outputs": [
    {
     "ename": "NameError",
     "evalue": "name 'font_color_printer' is not defined",
     "output_type": "error",
     "traceback": [
      "\u001b[0;31m---------------------------------------------------------------------------\u001b[0m",
      "\u001b[0;31mNameError\u001b[0m                                 Traceback (most recent call last)",
      "Cell \u001b[0;32mIn [9], line 3\u001b[0m\n\u001b[1;32m      1\u001b[0m v \u001b[38;5;241m=\u001b[39m torch\u001b[38;5;241m.\u001b[39mtensor([\u001b[38;5;241m1\u001b[39m, \u001b[38;5;241m2\u001b[39m, \u001b[38;5;241m3\u001b[39m, \u001b[38;5;241m4\u001b[39m, \u001b[38;5;241m5\u001b[39m, \u001b[38;5;241m6\u001b[39m])\n\u001b[0;32m----> 3\u001b[0m \u001b[43mfont_color_printer\u001b[49m(\u001b[38;5;124m\"\u001b[39m\u001b[38;5;124mDefault one-dimensional tensor\u001b[39m\u001b[38;5;124m\"\u001b[39m)\n\u001b[1;32m      5\u001b[0m statement_1 \u001b[38;5;241m=\u001b[39m \u001b[38;5;124m\"\u001b[39m\u001b[38;5;124mv = torch.tensor([1, 2, 3, 4, 5, 6])\u001b[39m\u001b[38;5;124m\"\u001b[39m\n\u001b[1;32m      6\u001b[0m statements \u001b[38;5;241m=\u001b[39m [statement_1]\n",
      "\u001b[0;31mNameError\u001b[0m: name 'font_color_printer' is not defined"
     ]
    }
   ],
   "source": [
    "v = torch.tensor([1, 2, 3, 4, 5, 6])\n",
    "\n",
    "font_color_printer(\"Default one-dimensional tensor\")\n",
    "\n",
    "statement_1 = \"v = torch.tensor([1, 2, 3, 4, 5, 6])\"\n",
    "statements = [statement_1]\n",
    "statement_generator(statements)\n",
    "\n",
    "variables = [\"v\"]\n",
    "values = [str(v)]\n",
    "variable_generator(variables, values)"
   ]
  },
  {
   "cell_type": "code",
   "execution_count": null,
   "id": "259095ef",
   "metadata": {
    "ExecuteTime": {
     "end_time": "2022-11-01T09:08:48.638675Z",
     "start_time": "2022-11-01T09:08:48.638668Z"
    },
    "hide_input": false,
    "scrolled": true
   },
   "outputs": [],
   "source": [
    "font_color_printer(\"Basic information of default 1D tensor\")\n",
    "\n",
    "expressions = [\"v.dtype\", \"v.type()\", \"type(v)\", \"v.size()\"]\n",
    "results = [str(v.dtype), str(v.type()), str(type(v)), str(v.size())]\n",
    "expression_generator(expressions, results)"
   ]
  },
  {
   "cell_type": "code",
   "execution_count": null,
   "id": "4eb2aace",
   "metadata": {
    "ExecuteTime": {
     "end_time": "2022-11-01T09:08:48.639521Z",
     "start_time": "2022-11-01T09:08:48.639515Z"
    },
    "hide_input": false,
    "scrolled": true
   },
   "outputs": [],
   "source": [
    "font_color_printer(\"Element selection of 1D tensor\")\n",
    "\n",
    "expressions = [\"v[0]\", \"v[-1]\"]\n",
    "results = [str(v[0]), str(v[-1])]\n",
    "expression_generator(expressions, results)"
   ]
  },
  {
   "cell_type": "code",
   "execution_count": null,
   "id": "1c7ef1d4",
   "metadata": {
    "ExecuteTime": {
     "end_time": "2022-11-01T09:08:48.640178Z",
     "start_time": "2022-11-01T09:08:48.640172Z"
    },
    "hide_input": false,
    "scrolled": true
   },
   "outputs": [],
   "source": [
    "font_color_printer(\"Segment slicing of 1D tensor\")\n",
    "\n",
    "expressions = [\"v[1:-1]\", \"v[1::2]\"]\n",
    "results = [str(v[1:-1]), str(v[1::2])]\n",
    "expression_generator(expressions, results)"
   ]
  },
  {
   "cell_type": "code",
   "execution_count": null,
   "id": "af97e716",
   "metadata": {
    "ExecuteTime": {
     "end_time": "2022-11-01T09:08:48.640809Z",
     "start_time": "2022-11-01T09:08:48.640799Z"
    },
    "hide_input": false,
    "scrolled": true
   },
   "outputs": [],
   "source": [
    "f = torch.FloatTensor([1, 2, 3, 4, 5, 6])\n",
    "\n",
    "font_color_printer(\"Float one-dimensional tensor\")\n",
    "\n",
    "statement_1 = \"f = torch.FloatTensor([1, 2, 3, 4, 5, 6])\"\n",
    "statements = [statement_1]\n",
    "statement_generator(statements)\n",
    "\n",
    "variables = [\"f\"]\n",
    "values = [str(f)]\n",
    "variable_generator(variables, values)"
   ]
  },
  {
   "cell_type": "code",
   "execution_count": null,
   "id": "43091f1f",
   "metadata": {
    "ExecuteTime": {
     "end_time": "2022-11-01T09:08:48.641716Z",
     "start_time": "2022-11-01T09:08:48.641704Z"
    },
    "hide_input": false
   },
   "outputs": [],
   "source": [
    "font_color_printer(\"Basic information of float 1D tensor\")\n",
    "\n",
    "expressions = [\"f.dtype\", \"f.type()\", \"type(f)\", \"f.size()\"]\n",
    "results = [str(f.dtype), str(f.type()), str(type(f)), str(f.size())]\n",
    "expression_generator(expressions, results)"
   ]
  },
  {
   "cell_type": "code",
   "execution_count": null,
   "id": "3ae86895",
   "metadata": {
    "ExecuteTime": {
     "end_time": "2022-11-01T09:08:48.642437Z",
     "start_time": "2022-11-01T09:08:48.642432Z"
    },
    "hide_input": false
   },
   "outputs": [],
   "source": [
    "font_color_printer(\"Reshaping of 1D tensor\")\n",
    "\n",
    "expressions = [\n",
    "    \"v.view(6)\", \"v.view(1, 6)\", \"v.view(6, 1)\", \"v.view(3, 2)\",\n",
    "    \"v.view(3, -1)\"\n",
    "]\n",
    "results = [\n",
    "    str(v.view(6)),\n",
    "    str(v.view(1, 6)),\n",
    "    str(v.view(6, 1)),\n",
    "    str(v.view(3, 2)),\n",
    "    str(v.view(3, -1))\n",
    "]\n",
    "expression_generator(expressions, results)"
   ]
  },
  {
   "cell_type": "code",
   "execution_count": null,
   "id": "efde3776",
   "metadata": {
    "ExecuteTime": {
     "end_time": "2022-11-01T09:08:48.642822Z",
     "start_time": "2022-11-01T09:08:48.642817Z"
    },
    "hide_input": false,
    "scrolled": false
   },
   "outputs": [],
   "source": [
    "a = np.array([1, 2, 3, 4, 5, 6])\n",
    "tensor_cnv = torch.from_numpy(a)\n",
    "numpy_cnv = tensor_cnv.numpy()\n",
    "\n",
    "font_color_printer(\"Conversion between array and tensor\")\n",
    "\n",
    "statement_1 = \"a = np.array([1, 2, 3, 4, 5, 6])\"\n",
    "statement_2 = \"tensor_cnv = torch.from_numpy(a)\"\n",
    "statement_3 = \"numpy_cnv = tensor_cnv.numpy()\"\n",
    "statements = [statement_1] + [statement_2] + [statement_3]\n",
    "statement_generator(statements)\n",
    "\n",
    "variables = [\"a\", \"tensor_cnv\", \"numpy_cnv\"]\n",
    "values = [str(a), str(tensor_cnv), str(numpy_cnv)]\n",
    "variable_generator(variables, values)\n",
    "\n",
    "expressions = [\n",
    "    \"tensor_cnv.dtype\", \"tensor_cnv.type()\", \"type(tensor_cnv)\",\n",
    "    \"numpy_cnv.dtype\", \"type(numpy_cnv)\"\n",
    "]\n",
    "results = [\n",
    "    str(tensor_cnv.dtype),\n",
    "    str(tensor_cnv.type()),\n",
    "    str(type(tensor_cnv)),\n",
    "    str(numpy_cnv.dtype),\n",
    "    str(type(numpy_cnv))\n",
    "]\n",
    "expression_generator(expressions, results)"
   ]
  },
  {
   "cell_type": "markdown",
   "id": "e6d5135d",
   "metadata": {},
   "source": [
    "## Vector Operations"
   ]
  },
  {
   "cell_type": "code",
   "execution_count": null,
   "id": "306e9f8c",
   "metadata": {
    "ExecuteTime": {
     "end_time": "2022-11-01T09:08:48.643296Z",
     "start_time": "2022-11-01T09:08:48.643291Z"
    }
   },
   "outputs": [],
   "source": [
    "t_one = torch.tensor([1, 2, 3])\n",
    "t_two = torch.tensor([1, 2, 3])\n",
    "\n",
    "font_color_printer(\"Original tensors\")\n",
    "\n",
    "statement_1 = \"t_one = torch.tensor([1, 2, 3])\"\n",
    "statement_2 = \"t_two = torch.tensor([1, 2, 3])\"\n",
    "statements = [statement_1] + [statement_2]\n",
    "statement_generator(statements)\n",
    "\n",
    "variables = [\"t_one\", \"t_two\"]\n",
    "values = [str(t_one), str(t_two)]\n",
    "variable_generator(variables, values)"
   ]
  },
  {
   "cell_type": "code",
   "execution_count": null,
   "id": "dadc8db6",
   "metadata": {
    "ExecuteTime": {
     "end_time": "2022-11-01T09:08:48.643982Z",
     "start_time": "2022-11-01T09:08:48.643972Z"
    }
   },
   "outputs": [],
   "source": [
    "font_color_printer(\"Simple operations\")\n",
    "\n",
    "expressions = [\n",
    "    \"t_one + t_two\", \"t_one - t_two\", \"t_one * t_two\", \"t_one / t_two\",\n",
    "    \"t_one * 5\"\n",
    "]\n",
    "results = [\n",
    "    str(t_one + t_two),\n",
    "    str(t_one - t_two),\n",
    "    str(t_one * t_two),\n",
    "    str(t_one / t_two),\n",
    "    str(t_one * 5)\n",
    "]\n",
    "expression_generator(expressions, results)"
   ]
  },
  {
   "cell_type": "code",
   "execution_count": null,
   "id": "eb4d1e8f",
   "metadata": {
    "ExecuteTime": {
     "end_time": "2022-11-01T09:08:48.644482Z",
     "start_time": "2022-11-01T09:08:48.644476Z"
    }
   },
   "outputs": [],
   "source": [
    "dot_product = torch.dot(t_one, t_two)\n",
    "\n",
    "font_color_printer(\"Dot product of tensors\")\n",
    "\n",
    "statement_1 = \"dot_product = torch.dot(t_one, t_two)\"\n",
    "statements = [statement_1]\n",
    "statement_generator(statements)\n",
    "\n",
    "variables = [\"dot_product\"]\n",
    "values = [str(dot_product)]\n",
    "variable_generator(variables, values)"
   ]
  },
  {
   "cell_type": "code",
   "execution_count": null,
   "id": "5aadd52c",
   "metadata": {
    "ExecuteTime": {
     "end_time": "2022-11-01T09:08:48.645255Z",
     "start_time": "2022-11-01T09:08:48.645249Z"
    }
   },
   "outputs": [],
   "source": [
    "x = torch.linspace(0, 10, 5)\n",
    "\n",
    "font_color_printer(\"Creating arithmetic sequence in 1D tensor\")\n",
    "\n",
    "statement_1 = \"x = torch.linspace(0, 10, 5)\"\n",
    "statements = [statement_1]\n",
    "statement_generator(statements)\n",
    "\n",
    "variables = [\"x\"]\n",
    "values = [str(x)]\n",
    "variable_generator(variables, values)"
   ]
  },
  {
   "cell_type": "code",
   "execution_count": null,
   "id": "9cfbba9b",
   "metadata": {
    "ExecuteTime": {
     "end_time": "2022-11-01T09:08:48.646498Z",
     "start_time": "2022-11-01T09:08:48.646492Z"
    }
   },
   "outputs": [],
   "source": [
    "y = torch.exp(x)\n",
    "\n",
    "font_color_printer(\"Exponentiation of tensor elements\")\n",
    "\n",
    "statement_1 = \"y = torch.exp(x)\"\n",
    "statements = [statement_1]\n",
    "statement_generator(statements)\n",
    "\n",
    "variables = [\"y\"]\n",
    "values = [str(y)]\n",
    "variable_generator(variables, values)"
   ]
  },
  {
   "cell_type": "code",
   "execution_count": null,
   "id": "9a6a068c",
   "metadata": {
    "ExecuteTime": {
     "end_time": "2022-11-01T09:08:48.647045Z",
     "start_time": "2022-11-01T09:08:48.647040Z"
    }
   },
   "outputs": [],
   "source": [
    "colors = calm_color_generator(2)\n",
    "plt.rcParams['figure.figsize'] = (figure_size[0], figure_size[1] / 2)\n",
    "\n",
    "fig, axs = plt.subplots(1, 2, sharey=True)\n",
    "\n",
    "x_1 = torch.linspace(0, 10, 5)\n",
    "y_1 = torch.exp(x_1)\n",
    "axs[0].plot(x_1.numpy(), y_1.numpy(), c=colors.pop(0))\n",
    "axs[0].set_title(\"Arithmetic sequence of 5 elements\", loc='center', pad=15)\n",
    "\n",
    "x_2 = torch.linspace(0, 10, 100)\n",
    "y_2 = torch.exp(x_2)\n",
    "axs[1].plot(x_2.numpy(), y_2.numpy(), c=colors.pop(0))\n",
    "axs[1].set_title(\"Arithmetic sequence of 100 elements\", loc='center', pad=15)\n",
    "\n",
    "for ax in axs.flat:\n",
    "    ax.set(xlabel=\"arithmetic sequence\", ylabel=\"result of exponentiation\")\n",
    "    ax.tick_params(axis='y', labelrotation=90)\n",
    "    ax.label_outer()\n",
    "\n",
    "fig.suptitle(\"Visual Comparison of Exponentiation\",\n",
    "             fontsize='x-large',\n",
    "             x=0.5,\n",
    "             y=0)\n",
    "\n",
    "plt.tight_layout()\n",
    "plt.show()"
   ]
  },
  {
   "cell_type": "code",
   "execution_count": null,
   "id": "e367a4d4",
   "metadata": {
    "ExecuteTime": {
     "end_time": "2022-11-01T09:08:48.647870Z",
     "start_time": "2022-11-01T09:08:48.647862Z"
    }
   },
   "outputs": [],
   "source": [
    "def csc(x):\n",
    "    return 1 / torch.sin(x)\n",
    "\n",
    "\n",
    "def sec(x):\n",
    "    return 1 / torch.cos(x)\n",
    "\n",
    "\n",
    "def cot(x):\n",
    "    return 1 / torch.tan(x)\n",
    "\n",
    "\n",
    "colors = calm_color_generator(6)\n",
    "plt.rcParams['figure.figsize'] = (figure_size[0], figure_size[1] / 2 * 3)\n",
    "\n",
    "value_list_1 = [0, torch.pi, 2 * torch.pi, 3 * torch.pi]\n",
    "value_list_2 = [i - .5 * torch.pi for i in value_list_1][1:]\n",
    "color_list_1 = calm_color_generator(4)\n",
    "color_list_2 = calm_color_generator(3)\n",
    "label_list_1 = ['0 π', '1 π', '2 π', '3 π']\n",
    "label_list_2 = ['0.5 π', '1.5 π', '2.5 π']\n",
    "\n",
    "fig, axs = plt.subplots(3, 2, sharex=True)\n",
    "\n",
    "x = torch.linspace(0, 10, 100)\n",
    "y_1 = torch.sin(x)\n",
    "axs[0, 0].plot(x.numpy(), y_1.numpy(), c=colors.pop(0))\n",
    "axs[0, 0].set_title(\"sine = opposite / hypotenuse\", loc='center', pad=15)\n",
    "\n",
    "y_2 = csc(x)\n",
    "axs[0, 1].plot(x.numpy(), y_2.numpy(), c=colors.pop(0))\n",
    "axs[0, 1].set_title(\"cosecant = hypotenuse / opposite\", loc='center', pad=15)\n",
    "\n",
    "y_3 = torch.cos(x)\n",
    "axs[1, 0].plot(x.numpy(), y_3.numpy(), c=colors.pop(0))\n",
    "axs[1, 0].set_title(\"cosine = adjacent / hypotenuse\", loc='center', pad=15)\n",
    "\n",
    "y_4 = sec(x)\n",
    "axs[1, 1].plot(x.numpy(), y_4.numpy(), c=colors.pop(0))\n",
    "axs[1, 1].set_title(\"secant = hypotenuse / adjacent\", loc='center', pad=15)\n",
    "\n",
    "y_5 = torch.tan(x)\n",
    "axs[2, 0].plot(x.numpy(), y_5.numpy(), c=colors.pop(0))\n",
    "axs[2, 0].set_title(\"tangent = opposite / adjacent\", loc='center', pad=15)\n",
    "\n",
    "y_6 = cot(x)\n",
    "axs[2, 1].plot(x.numpy(), y_6.numpy(), c=colors.pop(0))\n",
    "axs[2, 1].set_title(\"cotangent = adjacent / opposite\", loc='center', pad=15)\n",
    "\n",
    "for ax in axs.flat:\n",
    "    ax.set(xlabel=\"arithmetic sequence\", ylabel='result of trigonometry')\n",
    "    for x, c, label in zip(value_list_1, color_list_1, label_list_1):\n",
    "        ax.axvline(x=x,\n",
    "                   c=c,\n",
    "                   label=label,\n",
    "                   alpha=.2,\n",
    "                   linestyle='--',\n",
    "                   linewidth=3)\n",
    "    for x, c, label in zip(value_list_2, color_list_2, label_list_2):\n",
    "        ax.axvline(x=x, c=c, label=label, alpha=.2, linestyle=':', linewidth=3)\n",
    "\n",
    "fig.suptitle('Visual Comparison of Trigonometry',\n",
    "             fontsize='x-large',\n",
    "             x=0.5,\n",
    "             y=0)\n",
    "\n",
    "plt.legend(loc='lower right', borderpad=1, ncol=2)\n",
    "plt.tight_layout()\n",
    "plt.show()"
   ]
  },
  {
   "cell_type": "markdown",
   "id": "0e92df69",
   "metadata": {},
   "source": [
    "## 2 Dimensional Tensors"
   ]
  },
  {
   "cell_type": "code",
   "execution_count": null,
   "id": "1b15b7ff",
   "metadata": {
    "ExecuteTime": {
     "end_time": "2022-11-01T09:08:48.648358Z",
     "start_time": "2022-11-01T09:08:48.648353Z"
    }
   },
   "outputs": [],
   "source": [
    "one_d = torch.arange(2, 7)\n",
    "\n",
    "font_color_printer(\"Creation of 1D tensor from defined interval\")\n",
    "\n",
    "statement_1 = \"one_d = torch.arange(2, 7)\"\n",
    "statements = [statement_1]\n",
    "statement_generator(statements)\n",
    "\n",
    "variables = [\"one_d\"]\n",
    "values = [str(one_d)]\n",
    "variable_generator(variables, values)"
   ]
  },
  {
   "cell_type": "code",
   "execution_count": null,
   "id": "1bf7592a",
   "metadata": {
    "ExecuteTime": {
     "end_time": "2022-11-01T09:08:48.648986Z",
     "start_time": "2022-11-01T09:08:48.648981Z"
    }
   },
   "outputs": [],
   "source": [
    "one_d = torch.arange(2, 7, 2)\n",
    "\n",
    "font_color_printer(\n",
    "    \"Creation of 1D tensor from defined interval and difference\")\n",
    "\n",
    "statement_1 = \"one_d = torch.arange(2, 7, 2)\"\n",
    "statements = [statement_1]\n",
    "statement_generator(statements)\n",
    "\n",
    "variables = [\"one_d\"]\n",
    "values = [str(one_d)]\n",
    "variable_generator(variables, values)"
   ]
  },
  {
   "cell_type": "code",
   "execution_count": null,
   "id": "3668a7d6",
   "metadata": {
    "ExecuteTime": {
     "end_time": "2022-11-01T09:08:48.649496Z",
     "start_time": "2022-11-01T09:08:48.649491Z"
    }
   },
   "outputs": [],
   "source": [
    "one_d = torch.arange(0, 9)\n",
    "two_d = one_d.view(3, 3)\n",
    "\n",
    "font_color_printer(\"Creation of 2D tensor from 1D tensor\")\n",
    "\n",
    "statement_1 = \"one_d = torch.arange(0, 9)\"\n",
    "statement_2 = \"two_d = one_d.view(3, 3)\"\n",
    "statements = [statement_1] + [statement_2]\n",
    "statement_generator(statements)\n",
    "\n",
    "variables = [\"one_d\", \"two_d\"]\n",
    "values = [str(one_d), str(two_d)]\n",
    "variable_generator(variables, values)\n",
    "\n",
    "expressions = [\"one_d.dim()\", \"two_d.dim()\"]\n",
    "results = [str(one_d.dim()), str(two_d.dim())]\n",
    "expression_generator(expressions, results)"
   ]
  },
  {
   "cell_type": "code",
   "execution_count": null,
   "id": "aac1be82",
   "metadata": {
    "ExecuteTime": {
     "end_time": "2022-11-01T09:08:48.649939Z",
     "start_time": "2022-11-01T09:08:48.649934Z"
    }
   },
   "outputs": [],
   "source": [
    "font_color_printer(\"Element selection of 2D tensor\")\n",
    "\n",
    "expressions = [\"two_d[0, 0]\", \"two_d[1, 2]\", \"two_d[-2, -1]\"]\n",
    "results = [str(two_d[0, 0]), str(two_d[1, 2]), str(two_d[-2, -1])]\n",
    "expression_generator(expressions, results)"
   ]
  },
  {
   "cell_type": "code",
   "execution_count": null,
   "id": "124c078d",
   "metadata": {
    "ExecuteTime": {
     "end_time": "2022-11-01T09:08:48.650361Z",
     "start_time": "2022-11-01T09:08:48.650356Z"
    }
   },
   "outputs": [],
   "source": [
    "font_color_printer(\"Segment slicing of 2D tensor\")\n",
    "\n",
    "expressions = [\n",
    "    \"two_d[0]\", \"two_d[0, ]\", \"two_d[:, 0]\", \"two_d[:-1, ]\", \"two_d[:, ::2]\"\n",
    "]\n",
    "results = [\n",
    "    str(two_d[0]),\n",
    "    str(two_d[0, ]),\n",
    "    str(two_d[:, 0]),\n",
    "    str(two_d[:-1, ]),\n",
    "    str(two_d[:, ::2])\n",
    "]\n",
    "expression_generator(expressions, results)"
   ]
  },
  {
   "cell_type": "code",
   "execution_count": null,
   "id": "987e5d10",
   "metadata": {
    "ExecuteTime": {
     "end_time": "2022-11-01T09:08:48.650907Z",
     "start_time": "2022-11-01T09:08:48.650895Z"
    }
   },
   "outputs": [],
   "source": [
    "three_d_1 = torch.arange(18).view(2, 3, 3)\n",
    "three_d_2 = torch.arange(18).view(3, 2, 3)\n",
    "three_d_3 = torch.arange(18).view(3, 3, 2)\n",
    "\n",
    "font_color_printer(\"Creation of 3D tensor from 1D tensor\")\n",
    "\n",
    "statement_1 = \"three_d_1 = torch.arange(18).view(2, 3, 3)\"\n",
    "statement_2 = \"three_d_2 = torch.arange(18).view(3, 2, 3)\"\n",
    "statement_3 = \"three_d_3 = torch.arange(18).view(3, 3, 2)\"\n",
    "statements = [statement_1] + [statement_2] + [statement_3]\n",
    "statement_generator(statements)\n",
    "\n",
    "variables = [\"three_d_1\", \"three_d_2\", \"three_d_3\"]\n",
    "values = [str(three_d_1), str(three_d_2), str(three_d_3)]\n",
    "variable_generator(variables, values)\n",
    "\n",
    "expressions = [\n",
    "    \"three_d_2.size()\", \"three_d_2.size(dim=0)\", \"three_d_2.size(dim=1)\",\n",
    "    \"three_d_2.size(dim=2)\", \"three_d_2.dim()\"\n",
    "]\n",
    "results = [\n",
    "    str(three_d_2.size()),\n",
    "    str(three_d_2.size(dim=0)),\n",
    "    str(three_d_2.size(dim=1)),\n",
    "    str(three_d_2.size(dim=2)),\n",
    "    str(three_d_2.dim()),\n",
    "]\n",
    "expression_generator(expressions, results)"
   ]
  },
  {
   "cell_type": "markdown",
   "id": "94096b68",
   "metadata": {},
   "source": [
    "## Slicing 3D Tensors"
   ]
  },
  {
   "cell_type": "code",
   "execution_count": null,
   "id": "ba2c8b95",
   "metadata": {
    "ExecuteTime": {
     "end_time": "2022-11-01T09:08:48.651590Z",
     "start_time": "2022-11-01T09:08:48.651585Z"
    }
   },
   "outputs": [],
   "source": [
    "font_color_printer(\"Element selection of 3D tensor\")\n",
    "\n",
    "expressions = [\n",
    "    \"three_d_1[1, 1, 1]\", \"three_d_2[1, 1, 1]\", \"three_d_3[1, 1, 1]\"\n",
    "]\n",
    "results = [\n",
    "    str(three_d_1[1, 1, 1]),\n",
    "    str(three_d_2[1, 1, 1]),\n",
    "    str(three_d_3[1, 1, 1])\n",
    "]\n",
    "expression_generator(expressions, results)"
   ]
  },
  {
   "cell_type": "code",
   "execution_count": null,
   "id": "7cc1b92f",
   "metadata": {
    "ExecuteTime": {
     "end_time": "2022-11-01T09:08:48.652308Z",
     "start_time": "2022-11-01T09:08:48.652301Z"
    }
   },
   "outputs": [],
   "source": [
    "font_color_printer(\"Segment slicing of 3D tensor\")\n",
    "\n",
    "expressions = [\n",
    "    \"three_d_2[1]\", \"three_d_2[1, :, :]\", \"three_d_2[:, :-1, :]\",\n",
    "    \"three_d_2[:, :, ::2]\"\n",
    "]\n",
    "results = [\n",
    "    str(three_d_2[1]),\n",
    "    str(three_d_2[1, :, :]),\n",
    "    str(three_d_2[:, :-1, :]),\n",
    "    str(three_d_2[:, :, ::2])\n",
    "]\n",
    "expression_generator(expressions, results)"
   ]
  },
  {
   "cell_type": "markdown",
   "id": "37accc47",
   "metadata": {},
   "source": [
    "## Matrix Multiplication"
   ]
  },
  {
   "cell_type": "code",
   "execution_count": null,
   "id": "9b3b6a07",
   "metadata": {
    "ExecuteTime": {
     "end_time": "2022-11-01T09:08:48.653113Z",
     "start_time": "2022-11-01T09:08:48.653108Z"
    }
   },
   "outputs": [],
   "source": [
    "mat_a = torch.tensor([0, 3, 5, 5, 5, 2]).view(2, 3)\n",
    "mat_b = torch.tensor([3, 4, 3, -2, 4, -2]).view(3, 2)\n",
    "\n",
    "font_color_printer(\"Matrix multiplication of tensors\")\n",
    "\n",
    "statement_1 = \"mat_a = torch.tensor([0, 3, 5, 5, 5, 2]).view(2, 3)\"\n",
    "statement_2 = \"mat_b = torch.tensor([3, 4, 3, -2, 4, -2]).view(3, 2)\"\n",
    "statements = [statement_1] + [statement_2]\n",
    "statement_generator(statements)\n",
    "\n",
    "variables = [\"mat_a\", \"mat_b\"]\n",
    "values = [str(mat_a), str(mat_b)]\n",
    "variable_generator(variables, values)\n",
    "\n",
    "expressions = [\"torch.matmul(mat_a, mat_b)\", \"mat_a @ mat_b\"]\n",
    "results = [str(torch.matmul(mat_a, mat_b)), str(mat_a @ mat_b)]\n",
    "expression_generator(expressions, results)"
   ]
  },
  {
   "cell_type": "markdown",
   "id": "76419495",
   "metadata": {},
   "source": [
    "## Gradient with PyTorch"
   ]
  },
  {
   "cell_type": "code",
   "execution_count": null,
   "id": "78eca609",
   "metadata": {
    "ExecuteTime": {
     "end_time": "2022-11-01T09:08:48.653958Z",
     "start_time": "2022-11-01T09:08:48.653952Z"
    }
   },
   "outputs": [],
   "source": [
    "x = torch.tensor(2.0, requires_grad=True)\n",
    "y = 9 * x**4 + 2 * x**3 + 3 * x**2 + 6 * x + 1\n",
    "y.backward()\n",
    "\n",
    "font_color_printer(\"Calculation of total derivative\")\n",
    "\n",
    "statement_1 = \"x = torch.tensor(2.0, requires_grad=True)\"\n",
    "statement_2 = \"y = 9 * x**4 + 2 * x**3 + 3 * x**2 + 6 * x + 1\"\n",
    "statement_3 = \"y.backward()\"\n",
    "statements = [statement_1] + [statement_2] + [statement_3]\n",
    "statement_generator(statements)\n",
    "\n",
    "variables = [\"x\", \"y\"]\n",
    "values = [str(x), str(y)]\n",
    "variable_generator(variables, values)\n",
    "\n",
    "expressions = [\"x.grad\"]\n",
    "results = [str(x.grad)]\n",
    "expression_generator(expressions, results)"
   ]
  },
  {
   "cell_type": "code",
   "execution_count": null,
   "id": "e10b735a",
   "metadata": {
    "ExecuteTime": {
     "end_time": "2022-11-01T09:08:48.654628Z",
     "start_time": "2022-11-01T09:08:48.654622Z"
    }
   },
   "outputs": [],
   "source": [
    "x = torch.tensor(1.0, requires_grad=True)\n",
    "z = torch.tensor(2.0, requires_grad=True)\n",
    "y = x**2 + z**3\n",
    "y.backward()\n",
    "\n",
    "font_color_printer(\"Calculation of partial derivative\")\n",
    "\n",
    "statement_1 = \"x = torch.tensor(1.0, requires_grad=True)\"\n",
    "statement_2 = \"z = torch.tensor(2.0, requires_grad=True)\"\n",
    "statement_3 = \"y = x**2 + z**3\"\n",
    "statement_4 = \"y.backward()\"\n",
    "statements = [statement_1] + [statement_2] + [statement_3] + [statement_4]\n",
    "statement_generator(statements)\n",
    "\n",
    "variables = [\"x\", \"z\", \"y\"]\n",
    "values = [str(x), str(z), str(y)]\n",
    "variable_generator(variables, values)\n",
    "\n",
    "expressions = [\"x.grad\", \"z.grad\"]\n",
    "results = [str(x.grad), str(z.grad)]\n",
    "expression_generator(expressions, results)"
   ]
  },
  {
   "cell_type": "code",
   "execution_count": null,
   "id": "37405397",
   "metadata": {
    "ExecuteTime": {
     "end_time": "2022-11-01T09:08:48.655080Z",
     "start_time": "2022-11-01T09:08:48.655075Z"
    }
   },
   "outputs": [],
   "source": [
    "def a(string):\n",
    "    if string == \"s\" or \"S\":\n",
    "            print(\"s\")\n",
    "    elif string == \"l\":\n",
    "            print(\"l\")\n",
    "            \n",
    "\n",
    "a(\"S\")"
   ]
  },
  {
   "cell_type": "code",
   "execution_count": null,
   "id": "afb20f48",
   "metadata": {
    "ExecuteTime": {
     "end_time": "2022-11-01T09:08:48.655511Z",
     "start_time": "2022-11-01T09:08:48.655506Z"
    }
   },
   "outputs": [],
   "source": [
    "cprint(\"Please check that the selection of the form type is correct.\", 'red', attrs=['blink', 'reverse'])"
   ]
  },
  {
   "cell_type": "code",
   "execution_count": null,
   "id": "2845b7b3",
   "metadata": {
    "ExecuteTime": {
     "end_time": "2022-11-01T09:08:48.656428Z",
     "start_time": "2022-11-01T09:08:48.656423Z"
    }
   },
   "outputs": [],
   "source": [
    "def f(x):\n",
    "    match x:\n",
    "        case 'a':\n",
    "            return 1\n",
    "        case 'b':\n",
    "            return 2\n",
    "        case _:\n",
    "            return 0   # 0 is the default case if x is not found"
   ]
  },
  {
   "cell_type": "code",
   "execution_count": null,
   "id": "0b179f5c",
   "metadata": {},
   "outputs": [],
   "source": []
  }
 ],
 "metadata": {
  "hide_input": false,
  "kernelspec": {
   "display_name": "Python 3 (ipykernel)",
   "language": "python",
   "name": "python3"
  },
  "language_info": {
   "codemirror_mode": {
    "name": "ipython",
    "version": 3
   },
   "file_extension": ".py",
   "mimetype": "text/x-python",
   "name": "python",
   "nbconvert_exporter": "python",
   "pygments_lexer": "ipython3",
   "version": "3.9.12"
  },
  "latex_envs": {
   "LaTeX_envs_menu_present": true,
   "autoclose": false,
   "autocomplete": true,
   "bibliofile": "biblio.bib",
   "cite_by": "apalike",
   "current_citInitial": 1,
   "eqLabelWithNumbers": true,
   "eqNumInitial": 1,
   "hotkeys": {
    "equation": "Ctrl-E",
    "itemize": "Ctrl-I"
   },
   "labels_anchors": false,
   "latex_user_defs": false,
   "report_style_numbering": false,
   "user_envs_cfg": false
  },
  "nbTranslate": {
   "displayLangs": [
    "*"
   ],
   "hotkey": "alt-t",
   "langInMainMenu": true,
   "sourceLang": "en",
   "targetLang": "fr",
   "useGoogleTranslate": true
  },
  "toc": {
   "base_numbering": 1,
   "nav_menu": {},
   "number_sections": true,
   "sideBar": true,
   "skip_h1_title": false,
   "title_cell": "Table of Contents",
   "title_sidebar": "Contents",
   "toc_cell": false,
   "toc_position": {
    "height": "716px",
    "left": "51px",
    "top": "180px",
    "width": "345.594px"
   },
   "toc_section_display": false,
   "toc_window_display": true
  },
  "varInspector": {
   "cols": {
    "lenName": 16,
    "lenType": 16,
    "lenVar": 40
   },
   "kernels_config": {
    "python": {
     "delete_cmd_postfix": "",
     "delete_cmd_prefix": "del ",
     "library": "var_list.py",
     "varRefreshCmd": "print(var_dic_list())"
    },
    "r": {
     "delete_cmd_postfix": ") ",
     "delete_cmd_prefix": "rm(",
     "library": "var_list.r",
     "varRefreshCmd": "cat(var_dic_list()) "
    }
   },
   "types_to_exclude": [
    "module",
    "function",
    "builtin_function_or_method",
    "instance",
    "_Feature"
   ],
   "window_display": false
  }
 },
 "nbformat": 4,
 "nbformat_minor": 5
}

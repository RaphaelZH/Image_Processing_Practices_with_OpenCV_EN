{
 "cells": [
  {
   "cell_type": "markdown",
   "id": "9f6c4e1c",
   "metadata": {},
   "source": [
    "# Importing Libraries"
   ]
  },
  {
   "cell_type": "code",
   "execution_count": 1,
   "id": "f04cab30",
   "metadata": {
    "ExecuteTime": {
     "end_time": "2022-09-05T06:18:55.295194Z",
     "start_time": "2022-09-05T06:18:54.248141Z"
    }
   },
   "outputs": [],
   "source": [
    "import numpy as np\n",
    "import colorsys\n",
    "from sklearn import datasets\n",
    "import matplotlib.pyplot as plt\n",
    "import torch\n",
    "import torch.nn as nn\n",
    "import random\n",
    "from termcolor import colored"
   ]
  },
  {
   "cell_type": "markdown",
   "id": "489034ab",
   "metadata": {},
   "source": [
    "# Pre-installing Required Functions"
   ]
  },
  {
   "cell_type": "code",
   "execution_count": 2,
   "id": "851a5125",
   "metadata": {
    "ExecuteTime": {
     "end_time": "2022-09-05T06:18:55.299490Z",
     "start_time": "2022-09-05T06:18:55.296625Z"
    }
   },
   "outputs": [],
   "source": [
    "def bright_colors(n):\n",
    "    colors = []\n",
    "    random_degree = np.random.random()\n",
    "    hue = np.repeat(random_degree / n, n)\n",
    "    hue_interval = np.linspace(0, 1, n, endpoint=False)\n",
    "    saturation = 0.5 + np.random.random() / 2.0\n",
    "    lightness = 0.4 + np.random.random() / 5.0\n",
    "    h = hue + hue_interval\n",
    "    s = np.repeat(saturation, n)\n",
    "    l = np.repeat(lightness, n)\n",
    "    array_hls = np.concatenate((h, l, s)).reshape(-1, n).T\n",
    "    for hls in array_hls:\n",
    "        r, g, b = [\n",
    "            int(256 * e) for e in colorsys.hls_to_rgb(hls[0], hls[1], hls[2])\n",
    "        ]\n",
    "        colors.append('#%02X%02X%02X' % (r, g, b))\n",
    "    return colors"
   ]
  },
  {
   "cell_type": "markdown",
   "id": "7d56a291",
   "metadata": {},
   "source": [
    "# Creating Dataset"
   ]
  },
  {
   "cell_type": "code",
   "execution_count": 3,
   "id": "13bfb650",
   "metadata": {
    "ExecuteTime": {
     "end_time": "2022-09-05T06:18:55.303567Z",
     "start_time": "2022-09-05T06:18:55.300538Z"
    },
    "scrolled": true
   },
   "outputs": [
    {
     "name": "stdout",
     "output_type": "stream",
     "text": [
      "[[-0.13715792 -0.07147228]\n",
      " [-0.62590326  0.06563904]\n",
      " [-0.09837844  0.65447456]\n",
      " [ 0.57181979 -1.24479028]\n",
      " [ 0.164381    0.82292327]\n",
      " [ 0.66123438  0.08877175]\n",
      " [-0.93382716 -0.04538862]\n",
      " [ 0.3922826  -0.54434029]\n",
      " [ 0.76626138 -0.85936918]\n",
      " [ 0.17062744 -0.44791402]]\n",
      "[0 0 0 1 0 1 0 1 1 1]\n"
     ]
    }
   ],
   "source": [
    "n_pts = 100\n",
    "centers = [[-0.5, 0.5], [0.5, -0.5]]\n",
    "X, y = datasets.make_blobs(n_samples=n_pts,\n",
    "                           random_state=123,\n",
    "                           centers=centers,\n",
    "                           cluster_std=0.4)\n",
    "print(X[::10])\n",
    "print(y[::10])"
   ]
  },
  {
   "cell_type": "code",
   "execution_count": 4,
   "id": "a497f57a",
   "metadata": {
    "ExecuteTime": {
     "end_time": "2022-09-05T06:18:55.306971Z",
     "start_time": "2022-09-05T06:18:55.305079Z"
    }
   },
   "outputs": [
    {
     "name": "stdout",
     "output_type": "stream",
     "text": [
      "-0.1371579216798795 -0.07147228009038764\n",
      "[ True  True]\n"
     ]
    }
   ],
   "source": [
    "print(X[y == y[0], 0][0], X[y == y[0], 1][0])\n",
    "print([X[y == y[0], 0][0], X[y == y[0], 1][0]] == X[0])"
   ]
  },
  {
   "cell_type": "code",
   "execution_count": 5,
   "id": "5d820213",
   "metadata": {
    "ExecuteTime": {
     "end_time": "2022-09-05T06:18:55.374335Z",
     "start_time": "2022-09-05T06:18:55.307769Z"
    }
   },
   "outputs": [
    {
     "data": {
      "text/plain": [
       "<matplotlib.collections.PathCollection at 0x1759a5bb0>"
      ]
     },
     "execution_count": 5,
     "metadata": {},
     "output_type": "execute_result"
    },
    {
     "data": {
      "image/png": "[encoded data removed]",
      "text/plain": [
       "<Figure size 432x288 with 1 Axes>"
      ]
     },
     "metadata": {
      "needs_background": "light"
     },
     "output_type": "display_data"
    }
   ],
   "source": [
    "colors = bright_colors(1)\n",
    "plt.scatter(X[y == 0, 0], X[y == 0, 1], color=colors[0])"
   ]
  },
  {
   "cell_type": "code",
   "execution_count": 6,
   "id": "77d294db",
   "metadata": {
    "ExecuteTime": {
     "end_time": "2022-09-05T06:18:55.419068Z",
     "start_time": "2022-09-05T06:18:55.375330Z"
    }
   },
   "outputs": [
    {
     "data": {
      "text/plain": [
       "<matplotlib.collections.PathCollection at 0x175b0cd00>"
      ]
     },
     "execution_count": 6,
     "metadata": {},
     "output_type": "execute_result"
    },
    {
     "data": {
      "image/png": "[encoded data removed]",
      "text/plain": [
       "<Figure size 432x288 with 1 Axes>"
      ]
     },
     "metadata": {
      "needs_background": "light"
     },
     "output_type": "display_data"
    }
   ],
   "source": [
    "colors = bright_colors(1)\n",
    "plt.scatter(X[y == 1, 0], X[y == 1, 1], color=colors[0])"
   ]
  },
  {
   "cell_type": "code",
   "execution_count": 7,
   "id": "d0098c14",
   "metadata": {
    "ExecuteTime": {
     "end_time": "2022-09-05T06:18:55.469307Z",
     "start_time": "2022-09-05T06:18:55.420488Z"
    }
   },
   "outputs": [
    {
     "data": {
      "text/plain": [
       "<matplotlib.collections.PathCollection at 0x175b7fc40>"
      ]
     },
     "execution_count": 7,
     "metadata": {},
     "output_type": "execute_result"
    },
    {
     "data": {
      "image/png": "[encoded data removed]",
      "text/plain": [
       "<Figure size 432x288 with 1 Axes>"
      ]
     },
     "metadata": {
      "needs_background": "light"
     },
     "output_type": "display_data"
    }
   ],
   "source": [
    "colors = bright_colors(2)\n",
    "plt.scatter(X[y == 0, 0], X[y == 0, 1], color=colors[0])\n",
    "plt.scatter(X[y == 1, 0], X[y == 1, 1], color=colors[1])"
   ]
  },
  {
   "cell_type": "code",
   "execution_count": 8,
   "id": "78d86b99",
   "metadata": {
    "ExecuteTime": {
     "end_time": "2022-09-05T06:18:55.474020Z",
     "start_time": "2022-09-05T06:18:55.470881Z"
    }
   },
   "outputs": [
    {
     "name": "stdout",
     "output_type": "stream",
     "text": [
      "tensor([[-0.1372, -0.0715],\n",
      "        [-0.6259,  0.0656],\n",
      "        [-0.0984,  0.6545],\n",
      "        [ 0.5718, -1.2448],\n",
      "        [ 0.1644,  0.8229],\n",
      "        [ 0.6612,  0.0888],\n",
      "        [-0.9338, -0.0454],\n",
      "        [ 0.3923, -0.5443],\n",
      "        [ 0.7663, -0.8594],\n",
      "        [ 0.1706, -0.4479]])\n",
      "tensor([0., 0., 0., 1., 0., 1., 0., 1., 1., 1.])\n"
     ]
    }
   ],
   "source": [
    "X_data = torch.Tensor(X)\n",
    "y_data = torch.Tensor(y)\n",
    "print(X_data[::10])\n",
    "print(y_data[::10])"
   ]
  },
  {
   "cell_type": "markdown",
   "id": "37aa7c56",
   "metadata": {},
   "source": [
    "# Model Setup"
   ]
  },
  {
   "cell_type": "code",
   "execution_count": 9,
   "id": "093a43e8",
   "metadata": {
    "ExecuteTime": {
     "end_time": "2022-09-05T06:18:55.476668Z",
     "start_time": "2022-09-05T06:18:55.474829Z"
    }
   },
   "outputs": [],
   "source": [
    "class Model(nn.Module):\n",
    "\n",
    "    def __init__(self, input_size, output_size):\n",
    "        super().__init__()\n",
    "        self.linear = nn.Linear(input_size, output_size)\n",
    "\n",
    "    def forward(self, x):\n",
    "        pred = torch.sigmoid(self.linear(x))\n",
    "        return pred"
   ]
  },
  {
   "cell_type": "code",
   "execution_count": 10,
   "id": "4b34284b",
   "metadata": {
    "ExecuteTime": {
     "end_time": "2022-09-05T06:18:55.482838Z",
     "start_time": "2022-09-05T06:18:55.479367Z"
    }
   },
   "outputs": [
    {
     "name": "stdout",
     "output_type": "stream",
     "text": [
      "[Parameter containing:\n",
      "tensor([[ 0.1622, -0.1683]], requires_grad=True), Parameter containing:\n",
      "tensor([0.1939], requires_grad=True)]\n"
     ]
    }
   ],
   "source": [
    "torch.manual_seed(2)\n",
    "model = Model(2, 1)\n",
    "print(list(model.parameters()))"
   ]
  },
  {
   "cell_type": "code",
   "execution_count": 11,
   "id": "e54a2797",
   "metadata": {
    "ExecuteTime": {
     "end_time": "2022-09-05T06:18:55.486265Z",
     "start_time": "2022-09-05T06:18:55.483702Z"
    }
   },
   "outputs": [
    {
     "name": "stdout",
     "output_type": "stream",
     "text": [
      "[Parameter containing:\n",
      "tensor([[ 0.1622, -0.1683]], requires_grad=True), Parameter containing:\n",
      "tensor([0.1939], requires_grad=True)]\n"
     ]
    }
   ],
   "source": [
    "[w, b] = model.parameters()\n",
    "print([w, b])"
   ]
  },
  {
   "cell_type": "code",
   "execution_count": 12,
   "id": "4cf1c02b",
   "metadata": {
    "ExecuteTime": {
     "end_time": "2022-09-05T06:18:55.489957Z",
     "start_time": "2022-09-05T06:18:55.487384Z"
    }
   },
   "outputs": [
    {
     "name": "stdout",
     "output_type": "stream",
     "text": [
      "tensor(0.1622, grad_fn=<UnbindBackward0>) tensor(-0.1683, grad_fn=<UnbindBackward0>) tensor(0.1939, grad_fn=<SelectBackward0>)\n"
     ]
    }
   ],
   "source": [
    "w1, w2 = w.view(2)\n",
    "b1 = b[0]\n",
    "print(w1, w2, b1)"
   ]
  },
  {
   "cell_type": "code",
   "execution_count": 13,
   "id": "ff224056",
   "metadata": {
    "ExecuteTime": {
     "end_time": "2022-09-05T06:18:55.492811Z",
     "start_time": "2022-09-05T06:18:55.490780Z"
    }
   },
   "outputs": [
    {
     "name": "stdout",
     "output_type": "stream",
     "text": [
      "0.16220331192016602 -0.1682732105255127 0.19390898942947388\n"
     ]
    }
   ],
   "source": [
    "print(w1.item(), w2.item(), b1.item())"
   ]
  },
  {
   "cell_type": "code",
   "execution_count": 14,
   "id": "04d3b635",
   "metadata": {
    "ExecuteTime": {
     "end_time": "2022-09-05T06:18:55.495221Z",
     "start_time": "2022-09-05T06:18:55.493637Z"
    }
   },
   "outputs": [],
   "source": [
    "def get_params():\n",
    "    return (w1.item(), w2.item(), b[0].item())"
   ]
  },
  {
   "cell_type": "code",
   "execution_count": 15,
   "id": "9df216af",
   "metadata": {
    "ExecuteTime": {
     "end_time": "2022-09-05T06:18:55.497837Z",
     "start_time": "2022-09-05T06:18:55.496107Z"
    }
   },
   "outputs": [],
   "source": [
    "def scatter_plot():\n",
    "    colors = bright_colors(2)\n",
    "    plt.scatter(X[y == 0, 0], X[y == 0, 1], color=colors[0])\n",
    "    plt.scatter(X[y == 1, 0], X[y == 1, 1], color=colors[1])"
   ]
  },
  {
   "cell_type": "code",
   "execution_count": 16,
   "id": "f9a7ebf6",
   "metadata": {
    "ExecuteTime": {
     "end_time": "2022-09-05T06:18:55.543734Z",
     "start_time": "2022-09-05T06:18:55.498536Z"
    }
   },
   "outputs": [
    {
     "data": {
      "image/png": "[encoded data removed]",
      "text/plain": [
       "<Figure size 432x288 with 1 Axes>"
      ]
     },
     "metadata": {
      "needs_background": "light"
     },
     "output_type": "display_data"
    }
   ],
   "source": [
    "scatter_plot()"
   ]
  },
  {
   "cell_type": "code",
   "execution_count": 17,
   "id": "85d26300",
   "metadata": {
    "ExecuteTime": {
     "end_time": "2022-09-05T06:18:55.547105Z",
     "start_time": "2022-09-05T06:18:55.545016Z"
    }
   },
   "outputs": [],
   "source": [
    "def plot_fit(title):\n",
    "    plt.title = title\n",
    "    w1, w2, b1 = get_params()\n",
    "    x1 = np.array([-2.0, 2.0])\n",
    "    # 0 = w1 * x1 + w2 * x2 + b1\n",
    "    x2 = (w1 * x1 + b1) / -w2\n",
    "    plt.plot(x1, x2, 'r')\n",
    "    scatter_plot()"
   ]
  },
  {
   "cell_type": "code",
   "execution_count": 18,
   "id": "b8c10e86",
   "metadata": {
    "ExecuteTime": {
     "end_time": "2022-09-05T06:18:55.596052Z",
     "start_time": "2022-09-05T06:18:55.548255Z"
    }
   },
   "outputs": [
    {
     "data": {
      "image/png": "[encoded data removed]",
      "text/plain": [
       "<Figure size 432x288 with 1 Axes>"
      ]
     },
     "metadata": {
      "needs_background": "light"
     },
     "output_type": "display_data"
    }
   ],
   "source": [
    "plot_fit('Initial Model')"
   ]
  },
  {
   "cell_type": "markdown",
   "id": "99005cfe",
   "metadata": {},
   "source": [
    "# Model Training"
   ]
  },
  {
   "cell_type": "code",
   "execution_count": 19,
   "id": "3c313efc",
   "metadata": {
    "ExecuteTime": {
     "end_time": "2022-09-05T06:18:55.600856Z",
     "start_time": "2022-09-05T06:18:55.597184Z"
    }
   },
   "outputs": [
    {
     "name": "stdout",
     "output_type": "stream",
     "text": [
      "tensor([[-0.1372, -0.0715],\n",
      "        [-0.6259,  0.0656],\n",
      "        [-0.0984,  0.6545],\n",
      "        [ 0.5718, -1.2448],\n",
      "        [ 0.1644,  0.8229],\n",
      "        [ 0.6612,  0.0888],\n",
      "        [-0.9338, -0.0454],\n",
      "        [ 0.3923, -0.5443],\n",
      "        [ 0.7663, -0.8594],\n",
      "        [ 0.1706, -0.4479]])\n",
      "tensor([[0.],\n",
      "        [0.],\n",
      "        [0.],\n",
      "        [1.],\n",
      "        [0.],\n",
      "        [1.],\n",
      "        [0.],\n",
      "        [1.],\n",
      "        [1.],\n",
      "        [1.]])\n"
     ]
    }
   ],
   "source": [
    "X_data = torch.Tensor(X)\n",
    "y_data = torch.Tensor(y).reshape(-1, 1)\n",
    "print(X_data[::10])\n",
    "print(y_data[::10])"
   ]
  },
  {
   "cell_type": "code",
   "execution_count": 20,
   "id": "588cf8d2",
   "metadata": {
    "ExecuteTime": {
     "end_time": "2022-09-05T06:18:55.604209Z",
     "start_time": "2022-09-05T06:18:55.602061Z"
    }
   },
   "outputs": [],
   "source": [
    "criterion = nn.BCELoss()\n",
    "optimizer = torch.optim.SGD(model.parameters(), lr=0.01)"
   ]
  },
  {
   "cell_type": "code",
   "execution_count": 21,
   "id": "a97131c4",
   "metadata": {
    "ExecuteTime": {
     "end_time": "2022-09-05T06:18:55.698397Z",
     "start_time": "2022-09-05T06:18:55.605155Z"
    }
   },
   "outputs": [
    {
     "name": "stdout",
     "output_type": "stream",
     "text": [
      "\u001b[1m\u001b[36mepoch:\u001b[0m 1 \u001b[31mloss:\u001b[0m 0.6185115575790405\n",
      "\u001b[31mweight:\u001b[0m 0.16220331192016602 \u001b[31mbias:\u001b[0m 0.19390898942947388\n",
      "\u001b[1m\u001b[36mepoch:\u001b[0m 100 \u001b[31mloss:\u001b[0m 0.5297437906265259\n",
      "\u001b[31mweight:\u001b[0m 0.3663676977157593 \u001b[31mbias:\u001b[0m 0.14645132422447205\n",
      "\u001b[1m\u001b[36mepoch:\u001b[0m 200 \u001b[31mloss:\u001b[0m 0.46398743987083435\n",
      "\u001b[31mweight:\u001b[0m 0.544032633304596 \u001b[31mbias:\u001b[0m 0.10616383701562881\n",
      "\u001b[1m\u001b[36mepoch:\u001b[0m 300 \u001b[31mloss:\u001b[0m 0.4145326316356659\n",
      "\u001b[31mweight:\u001b[0m 0.699062168598175 \u001b[31mbias:\u001b[0m 0.07229255139827728\n",
      "\u001b[1m\u001b[36mepoch:\u001b[0m 400 \u001b[31mloss:\u001b[0m 0.3762793242931366\n",
      "\u001b[31mweight:\u001b[0m 0.8362248539924622 \u001b[31mbias:\u001b[0m 0.04353271797299385\n",
      "\u001b[1m\u001b[36mepoch:\u001b[0m 500 \u001b[31mloss:\u001b[0m 0.3459121584892273\n",
      "\u001b[31mweight:\u001b[0m 0.9591237306594849 \u001b[31mbias:\u001b[0m 0.018785258755087852\n",
      "\u001b[1m\u001b[36mepoch:\u001b[0m 600 \u001b[31mloss:\u001b[0m 0.32124823331832886\n",
      "\u001b[31mweight:\u001b[0m 1.0704656839370728 \u001b[31mbias:\u001b[0m -0.0028109699487686157\n",
      "\u001b[1m\u001b[36mepoch:\u001b[0m 700 \u001b[31mloss:\u001b[0m 0.3008173108100891\n",
      "\u001b[31mweight:\u001b[0m 1.1722986698150635 \u001b[31mbias:\u001b[0m -0.0219130702316761\n",
      "\u001b[1m\u001b[36mepoch:\u001b[0m 800 \u001b[31mloss:\u001b[0m 0.28360408544540405\n",
      "\u001b[31mweight:\u001b[0m 1.2661937475204468 \u001b[31mbias:\u001b[0m -0.03901940956711769\n",
      "\u001b[1m\u001b[36mepoch:\u001b[0m 900 \u001b[31mloss:\u001b[0m 0.26888951659202576\n",
      "\u001b[31mweight:\u001b[0m 1.3533738851547241 \u001b[31mbias:\u001b[0m -0.05450921133160591\n",
      "\u001b[1m\u001b[36mepoch:\u001b[0m 1000 \u001b[31mloss:\u001b[0m 0.2561521530151367\n",
      "\u001b[31mweight:\u001b[0m 1.4348064661026 \u001b[31mbias:\u001b[0m -0.06867344677448273\n"
     ]
    }
   ],
   "source": [
    "epochs = 1000\n",
    "losses = []\n",
    "termcolors = [\n",
    "    'grey', 'red', 'green', 'yellow', 'blue', 'magenta', 'cyan', 'white'\n",
    "]\n",
    "font_colors = random.choices(termcolors, k=2)\n",
    "for i in range(epochs):\n",
    "    i += 1\n",
    "    y_pred = model.forward(X_data)\n",
    "    loss = criterion(y_pred, y_data)\n",
    "    if i == 1 or i % 100 == 0:\n",
    "        print(colored(\"epoch:\", font_colors[0], attrs=['bold']), i,\n",
    "              colored(\"loss:\", font_colors[1]), loss.item())\n",
    "        print(colored(\"weight:\", font_colors[1]),\n",
    "              list(model.parameters())[0][0][0].item(),\n",
    "              colored(\"bias:\", font_colors[1]),\n",
    "              list(model.parameters())[1][0].item())\n",
    "    losses.append(loss.item())\n",
    "    optimizer.zero_grad()\n",
    "    loss.backward()\n",
    "    optimizer.step()"
   ]
  },
  {
   "cell_type": "code",
   "execution_count": 22,
   "id": "12139759",
   "metadata": {
    "ExecuteTime": {
     "end_time": "2022-09-05T06:18:55.746045Z",
     "start_time": "2022-09-05T06:18:55.699393Z"
    }
   },
   "outputs": [
    {
     "data": {
      "text/plain": [
       "Text(0.5, 0, 'Epoch')"
      ]
     },
     "execution_count": 22,
     "metadata": {},
     "output_type": "execute_result"
    },
    {
     "data": {
      "image/png": "[encoded data removed]",
      "text/plain": [
       "<Figure size 432x288 with 1 Axes>"
      ]
     },
     "metadata": {
      "needs_background": "light"
     },
     "output_type": "display_data"
    }
   ],
   "source": [
    "colors = bright_colors(1)\n",
    "plt.plot(range(epochs), losses, c=colors[0])\n",
    "plt.ylabel('Loss')\n",
    "plt.xlabel('Epoch')"
   ]
  },
  {
   "cell_type": "code",
   "execution_count": 23,
   "id": "e5a0948d",
   "metadata": {
    "ExecuteTime": {
     "end_time": "2022-09-05T06:18:55.839502Z",
     "start_time": "2022-09-05T06:18:55.747370Z"
    }
   },
   "outputs": [
    {
     "data": {
      "image/png": "[encoded data removed]",
      "text/plain": [
       "<Figure size 432x288 with 1 Axes>"
      ]
     },
     "metadata": {
      "needs_background": "light"
     },
     "output_type": "display_data"
    }
   ],
   "source": [
    "plot_fit(\"Trained Model\")"
   ]
  },
  {
   "cell_type": "markdown",
   "id": "7d2cb0fc",
   "metadata": {},
   "source": [
    "# Model Testing"
   ]
  },
  {
   "cell_type": "code",
   "execution_count": 24,
   "id": "7105db58",
   "metadata": {
    "ExecuteTime": {
     "end_time": "2022-09-05T06:18:55.892344Z",
     "start_time": "2022-09-05T06:18:55.840509Z"
    }
   },
   "outputs": [
    {
     "name": "stdout",
     "output_type": "stream",
     "text": [
      "Red point positive probability = 0.9424158334732056\n",
      "Black point positive probability = 0.05055497586727142\n"
     ]
    },
    {
     "data": {
      "image/png": "[encoded data removed]",
      "text/plain": [
       "<Figure size 432x288 with 1 Axes>"
      ]
     },
     "metadata": {
      "needs_background": "light"
     },
     "output_type": "display_data"
    }
   ],
   "source": [
    "point1 = torch.Tensor([1.0, -1.0])\n",
    "point2 = torch.Tensor([-1.0, 1.0])\n",
    "plt.plot(point1.numpy()[0], point1.numpy()[1], 'ro')\n",
    "plt.plot(point2.numpy()[0], point2.numpy()[1], 'ko')\n",
    "print(\"Red point positive probability = {}\".format(\n",
    "    model.forward(point1).item()))\n",
    "print(\"Black point positive probability = {}\".format(\n",
    "    model.forward(point2).item()))\n",
    "plot_fit(\"Trained Model\")"
   ]
  },
  {
   "cell_type": "code",
   "execution_count": 25,
   "id": "6314a0c7",
   "metadata": {
    "ExecuteTime": {
     "end_time": "2022-09-05T06:18:55.895609Z",
     "start_time": "2022-09-05T06:18:55.893232Z"
    }
   },
   "outputs": [],
   "source": [
    "class Model(nn.Module):\n",
    "\n",
    "    def __init__(self, input_size, output_size):\n",
    "        super().__init__()\n",
    "        self.linear = nn.Linear(input_size, output_size)\n",
    "\n",
    "    def forward(self, x):\n",
    "        pred = torch.sigmoid(self.linear(x))\n",
    "        return pred\n",
    "\n",
    "    def predict(self, x):\n",
    "        pred = self.forward(x)\n",
    "        if pred >= 0.5:\n",
    "            return 1\n",
    "        else:\n",
    "            return 0"
   ]
  },
  {
   "cell_type": "code",
   "execution_count": 26,
   "id": "01ea8850",
   "metadata": {
    "ExecuteTime": {
     "end_time": "2022-09-05T06:18:55.986205Z",
     "start_time": "2022-09-05T06:18:55.896542Z"
    }
   },
   "outputs": [],
   "source": [
    "torch.manual_seed(2)\n",
    "model = Model(2, 1)\n",
    "[w, b] = model.parameters()\n",
    "w1, w2 = w.view(2)\n",
    "criterion = nn.BCELoss()\n",
    "optimizer = torch.optim.SGD(model.parameters(), lr=0.01)\n",
    "epochs = 1000\n",
    "for i in range(epochs):\n",
    "    i += 1\n",
    "    y_pred = model.forward(X_data)\n",
    "    loss = criterion(y_pred, y_data)\n",
    "    losses.append(loss.item())\n",
    "    optimizer.zero_grad()\n",
    "    loss.backward()\n",
    "    optimizer.step()"
   ]
  },
  {
   "cell_type": "code",
   "execution_count": 27,
   "id": "6078567d",
   "metadata": {
    "ExecuteTime": {
     "end_time": "2022-09-05T06:18:56.050561Z",
     "start_time": "2022-09-05T06:18:55.994606Z"
    }
   },
   "outputs": [
    {
     "name": "stdout",
     "output_type": "stream",
     "text": [
      "Red point positive probability = 0.9424158334732056\n",
      "Black point positive probability = 0.05055497586727142\n",
      "Red point in class 1\n",
      "Black point in class 0\n"
     ]
    },
    {
     "data": {
      "image/png": "[encoded data removed]",
      "text/plain": [
       "<Figure size 432x288 with 1 Axes>"
      ]
     },
     "metadata": {
      "needs_background": "light"
     },
     "output_type": "display_data"
    }
   ],
   "source": [
    "point1 = torch.Tensor([1.0, -1.0])\n",
    "point2 = torch.Tensor([-1.0, 1.0])\n",
    "plt.plot(point1.numpy()[0], point1.numpy()[1], 'ro')\n",
    "plt.plot(point2.numpy()[0], point2.numpy()[1], 'ko')\n",
    "print(\"Red point positive probability = {}\".format(\n",
    "    model.forward(point1).item()))\n",
    "print(\"Black point positive probability = {}\".format(\n",
    "    model.forward(point2).item()))\n",
    "print(\"Red point in class {}\".format(model.predict(point1)))\n",
    "print(\"Black point in class {}\".format(model.predict(point2)))\n",
    "plot_fit(\"Trained Model\")"
   ]
  }
 ],
 "metadata": {
  "hide_input": false,
  "kernelspec": {
   "display_name": "Python 3 (ipykernel)",
   "language": "python",
   "name": "python3"
  },
  "language_info": {
   "codemirror_mode": {
    "name": "ipython",
    "version": 3
   },
   "file_extension": ".py",
   "mimetype": "text/x-python",
   "name": "python",
   "nbconvert_exporter": "python",
   "pygments_lexer": "ipython3",
   "version": "3.9.12"
  },
  "latex_envs": {
   "LaTeX_envs_menu_present": true,
   "autoclose": false,
   "autocomplete": true,
   "bibliofile": "biblio.bib",
   "cite_by": "apalike",
   "current_citInitial": 1,
   "eqLabelWithNumbers": true,
   "eqNumInitial": 1,
   "hotkeys": {
    "equation": "Ctrl-E",
    "itemize": "Ctrl-I"
   },
   "labels_anchors": false,
   "latex_user_defs": false,
   "report_style_numbering": false,
   "user_envs_cfg": false
  },
  "nbTranslate": {
   "displayLangs": [
    "*"
   ],
   "hotkey": "alt-t",
   "langInMainMenu": true,
   "sourceLang": "en",
   "targetLang": "fr",
   "useGoogleTranslate": true
  },
  "toc": {
   "base_numbering": 1,
   "nav_menu": {},
   "number_sections": true,
   "sideBar": true,
   "skip_h1_title": false,
   "title_cell": "Table of Contents",
   "title_sidebar": "Contents",
   "toc_cell": false,
   "toc_position": {},
   "toc_section_display": true,
   "toc_window_display": true
  }
 },
 "nbformat": 4,
 "nbformat_minor": 5
}

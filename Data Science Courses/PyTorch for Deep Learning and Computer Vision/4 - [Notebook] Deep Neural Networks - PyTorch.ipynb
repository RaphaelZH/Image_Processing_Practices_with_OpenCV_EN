{
 "cells": [
  {
   "cell_type": "markdown",
   "id": "446dc587",
   "metadata": {},
   "source": [
    "# Importing the Libraries"
   ]
  },
  {
   "cell_type": "code",
   "execution_count": 1,
   "id": "de6a5177",
   "metadata": {
    "ExecuteTime": {
     "end_time": "2022-09-22T11:58:57.560629Z",
     "start_time": "2022-09-22T11:58:56.648117Z"
    }
   },
   "outputs": [],
   "source": [
    "import numpy as np\n",
    "import colorsys\n",
    "from sklearn import datasets\n",
    "import torch\n",
    "import matplotlib.pyplot as plt"
   ]
  },
  {
   "cell_type": "markdown",
   "id": "c529e130",
   "metadata": {},
   "source": [
    "# Pre-installing Required Functions"
   ]
  },
  {
   "cell_type": "code",
   "execution_count": 2,
   "id": "6a0d4a15",
   "metadata": {
    "ExecuteTime": {
     "end_time": "2022-09-22T11:58:57.565374Z",
     "start_time": "2022-09-22T11:58:57.561991Z"
    }
   },
   "outputs": [],
   "source": [
    "def bright_colors(n):\n",
    "    colors = []\n",
    "    random_degree = np.random.random()\n",
    "    hue = np.repeat(random_degree / n, n)\n",
    "    hue_interval = np.linspace(0, 1, n, endpoint=False)\n",
    "    saturation = 0.875 + np.random.random() / 8.0 * np.random.choice([-1, 1])\n",
    "    lightness = 0.6 + np.random.random() / 10.0 * np.random.choice([-1, 1])\n",
    "    h = hue + hue_interval\n",
    "    s = np.repeat(saturation, n)\n",
    "    l = np.repeat(lightness, n)\n",
    "    array_hls = np.concatenate((h, l, s)).reshape(-1, n).T\n",
    "    for hls in array_hls:\n",
    "        r, g, b = [\n",
    "            int(256 * e) for e in colorsys.hls_to_rgb(hls[0], hls[1], hls[2])\n",
    "        ]\n",
    "        colors.append('#%02X%02X%02X' % (r, g, b))\n",
    "    return colors"
   ]
  },
  {
   "cell_type": "markdown",
   "id": "35509fab",
   "metadata": {},
   "source": [
    "# Code Implementation"
   ]
  },
  {
   "cell_type": "code",
   "execution_count": 3,
   "id": "13c67b78",
   "metadata": {
    "ExecuteTime": {
     "end_time": "2022-09-22T11:58:57.569595Z",
     "start_time": "2022-09-22T11:58:57.566601Z"
    }
   },
   "outputs": [],
   "source": [
    "n_pts = 100\n",
    "centers = [[-0.5, 0.5], [0.5, -0.5]]\n",
    "X, y = datasets.make_blobs(n_samples=n_pts,\n",
    "                           random_state=123,\n",
    "                           centers=centers,\n",
    "                           cluster_std=0.4)\n",
    "X_data = torch.Tensor(X)\n",
    "y_data = torch.Tensor(y).reshape(100, 1)"
   ]
  },
  {
   "cell_type": "code",
   "execution_count": 4,
   "id": "c50702bb",
   "metadata": {
    "ExecuteTime": {
     "end_time": "2022-09-22T11:58:57.573041Z",
     "start_time": "2022-09-22T11:58:57.570961Z"
    }
   },
   "outputs": [],
   "source": [
    "def scatter_plot():\n",
    "    colors = bright_colors(2)\n",
    "    plt.scatter(X[y == 0, 0], X[y == 0, 1], color=colors[0])\n",
    "    plt.scatter(X[y == 1, 0], X[y == 1, 1], color=colors[1])"
   ]
  },
  {
   "cell_type": "code",
   "execution_count": 5,
   "id": "a6142c36",
   "metadata": {
    "ExecuteTime": {
     "end_time": "2022-09-22T11:58:57.631305Z",
     "start_time": "2022-09-22T11:58:57.573840Z"
    }
   },
   "outputs": [
    {
     "data": {
      "image/png": "[encoded data removed]",
      "text/plain": [
       "<Figure size 432x288 with 1 Axes>"
      ]
     },
     "metadata": {
      "needs_background": "light"
     },
     "output_type": "display_data"
    }
   ],
   "source": [
    "scatter_plot()"
   ]
  },
  {
   "cell_type": "code",
   "execution_count": 6,
   "id": "544ec715",
   "metadata": {
    "ExecuteTime": {
     "end_time": "2022-09-22T11:58:57.635308Z",
     "start_time": "2022-09-22T11:58:57.632180Z"
    }
   },
   "outputs": [],
   "source": [
    "n_pts = 500\n",
    "X, y = datasets.make_circles(n_samples=n_pts,\n",
    "                             random_state=123,\n",
    "                             noise=0.1,\n",
    "                             factor=0.2)\n",
    "X_data = torch.Tensor(X)\n",
    "y_data = torch.Tensor(y).reshape(500, 1)"
   ]
  },
  {
   "cell_type": "code",
   "execution_count": 7,
   "id": "8e5c61c9",
   "metadata": {
    "ExecuteTime": {
     "end_time": "2022-09-22T11:58:57.678326Z",
     "start_time": "2022-09-22T11:58:57.636193Z"
    }
   },
   "outputs": [
    {
     "data": {
      "image/png": "[encoded data removed]",
      "text/plain": [
       "<Figure size 432x288 with 1 Axes>"
      ]
     },
     "metadata": {
      "needs_background": "light"
     },
     "output_type": "display_data"
    }
   ],
   "source": [
    "scatter_plot()"
   ]
  }
 ],
 "metadata": {
  "hide_input": false,
  "kernelspec": {
   "display_name": "Python 3 (ipykernel)",
   "language": "python",
   "name": "python3"
  },
  "language_info": {
   "codemirror_mode": {
    "name": "ipython",
    "version": 3
   },
   "file_extension": ".py",
   "mimetype": "text/x-python",
   "name": "python",
   "nbconvert_exporter": "python",
   "pygments_lexer": "ipython3",
   "version": "3.9.12"
  },
  "latex_envs": {
   "LaTeX_envs_menu_present": true,
   "autoclose": false,
   "autocomplete": true,
   "bibliofile": "biblio.bib",
   "cite_by": "apalike",
   "current_citInitial": 1,
   "eqLabelWithNumbers": true,
   "eqNumInitial": 1,
   "hotkeys": {
    "equation": "Ctrl-E",
    "itemize": "Ctrl-I"
   },
   "labels_anchors": false,
   "latex_user_defs": false,
   "report_style_numbering": false,
   "user_envs_cfg": false
  },
  "nbTranslate": {
   "displayLangs": [
    "*"
   ],
   "hotkey": "alt-t",
   "langInMainMenu": true,
   "sourceLang": "en",
   "targetLang": "fr",
   "useGoogleTranslate": true
  },
  "toc": {
   "base_numbering": 1,
   "nav_menu": {},
   "number_sections": true,
   "sideBar": true,
   "skip_h1_title": false,
   "title_cell": "Table of Contents",
   "title_sidebar": "Contents",
   "toc_cell": false,
   "toc_position": {},
   "toc_section_display": true,
   "toc_window_display": false
  }
 },
 "nbformat": 4,
 "nbformat_minor": 5
}

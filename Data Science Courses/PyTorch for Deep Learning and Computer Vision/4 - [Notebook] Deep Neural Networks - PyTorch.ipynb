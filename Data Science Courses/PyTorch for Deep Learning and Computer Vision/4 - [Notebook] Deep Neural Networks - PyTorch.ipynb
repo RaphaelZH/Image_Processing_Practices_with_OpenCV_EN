{
 "cells": [
  {
   "cell_type": "markdown",
   "id": "446dc587",
   "metadata": {},
   "source": [
    "# Importing the Libraries"
   ]
  },
  {
   "cell_type": "code",
   "execution_count": 1,
   "id": "de6a5177",
   "metadata": {
    "ExecuteTime": {
     "end_time": "2022-09-15T21:22:23.035029Z",
     "start_time": "2022-09-15T21:22:22.901644Z"
    }
   },
   "outputs": [],
   "source": [
    "import numpy as np\n",
    "import colorsys"
   ]
  },
  {
   "cell_type": "markdown",
   "id": "c529e130",
   "metadata": {},
   "source": [
    "# Pre-installing Required Functions"
   ]
  },
  {
   "cell_type": "code",
   "execution_count": 2,
   "id": "6a0d4a15",
   "metadata": {
    "ExecuteTime": {
     "end_time": "2022-09-15T21:22:25.320673Z",
     "start_time": "2022-09-15T21:22:25.305864Z"
    }
   },
   "outputs": [],
   "source": [
    "def bright_colors(n):\n",
    "    colors = []\n",
    "    random_degree = np.random.random()\n",
    "    hue = np.repeat(random_degree / n, n)\n",
    "    hue_interval = np.linspace(0, 1, n, endpoint=False)\n",
    "    saturation = 0.875 + np.random.random() / 8.0 * np.random.choice([-1, 1])\n",
    "    lightness = 0.6 + np.random.random() / 10.0 * np.random.choice([-1, 1])\n",
    "    h = hue + hue_interval\n",
    "    s = np.repeat(saturation, n)\n",
    "    l = np.repeat(lightness, n)\n",
    "    array_hls = np.concatenate((h, l, s)).reshape(-1, n).T\n",
    "    for hls in array_hls:\n",
    "        r, g, b = [\n",
    "            int(256 * e) for e in colorsys.hls_to_rgb(hls[0], hls[1], hls[2])\n",
    "        ]\n",
    "        colors.append('#%02X%02X%02X' % (r, g, b))\n",
    "    return colors"
   ]
  },
  {
   "cell_type": "code",
   "execution_count": 4,
   "id": "3cd33cbe",
   "metadata": {
    "ExecuteTime": {
     "end_time": "2022-09-04T18:54:40.678210Z",
     "start_time": "2022-09-04T18:54:40.664755Z"
    }
   },
   "outputs": [
    {
     "data": {
      "text/html": [
       "<svg  width=\"550\" height=\"55\"><rect x=\"0\" y=\"0\" width=\"55\" height=\"55\" style=\"fill:#db5f57;stroke-width:2;stroke:rgb(255,255,255)\"/><rect x=\"55\" y=\"0\" width=\"55\" height=\"55\" style=\"fill:#dbae57;stroke-width:2;stroke:rgb(255,255,255)\"/><rect x=\"110\" y=\"0\" width=\"55\" height=\"55\" style=\"fill:#b9db57;stroke-width:2;stroke:rgb(255,255,255)\"/><rect x=\"165\" y=\"0\" width=\"55\" height=\"55\" style=\"fill:#69db57;stroke-width:2;stroke:rgb(255,255,255)\"/><rect x=\"220\" y=\"0\" width=\"55\" height=\"55\" style=\"fill:#57db94;stroke-width:2;stroke:rgb(255,255,255)\"/><rect x=\"275\" y=\"0\" width=\"55\" height=\"55\" style=\"fill:#57d3db;stroke-width:2;stroke:rgb(255,255,255)\"/><rect x=\"330\" y=\"0\" width=\"55\" height=\"55\" style=\"fill:#5784db;stroke-width:2;stroke:rgb(255,255,255)\"/><rect x=\"385\" y=\"0\" width=\"55\" height=\"55\" style=\"fill:#7957db;stroke-width:2;stroke:rgb(255,255,255)\"/><rect x=\"440\" y=\"0\" width=\"55\" height=\"55\" style=\"fill:#c957db;stroke-width:2;stroke:rgb(255,255,255)\"/><rect x=\"495\" y=\"0\" width=\"55\" height=\"55\" style=\"fill:#db579e;stroke-width:2;stroke:rgb(255,255,255)\"/></svg>"
      ],
      "text/plain": [
       "[(0.86, 0.3712, 0.33999999999999997),\n",
       " (0.86, 0.6832, 0.33999999999999997),\n",
       " (0.7247999999999999, 0.86, 0.33999999999999997),\n",
       " (0.41279999999999994, 0.86, 0.33999999999999997),\n",
       " (0.33999999999999997, 0.86, 0.5792000000000002),\n",
       " (0.33999999999999997, 0.8287999999999999, 0.86),\n",
       " (0.33999999999999997, 0.5167999999999995, 0.86),\n",
       " (0.4752000000000003, 0.33999999999999997, 0.86),\n",
       " (0.7871999999999999, 0.33999999999999997, 0.86),\n",
       " (0.86, 0.33999999999999997, 0.6207999999999999)]"
      ]
     },
     "execution_count": 4,
     "metadata": {},
     "output_type": "execute_result"
    }
   ],
   "source": [
    "import seaborn as sns\n",
    "\n",
    "sns.color_palette(\"hls\",10)"
   ]
  },
  {
   "cell_type": "code",
   "execution_count": 14,
   "id": "5e294d8d",
   "metadata": {
    "ExecuteTime": {
     "end_time": "2022-09-04T18:58:24.117244Z",
     "start_time": "2022-09-04T18:58:24.093944Z"
    }
   },
   "outputs": [
    {
     "name": "stdout",
     "output_type": "stream",
     "text": [
      "<matplotlib.colors.ListedColormap object at 0x17f446070>\n"
     ]
    },
    {
     "data": {
      "image/png": "[encoded data removed]",
      "text/html": [
       "<div style=\"vertical-align: middle;\"><strong>hls</strong> </div><div class=\"cmap\"><img alt=\"hls colormap\" title=\"hls\" style=\"border: 1px solid #555;\" src=\"data:image/png;base64,iVBORw0KGgoAAAANSUhEUgAAAgAAAABACAYAAABsv8+/AAAAEnRFWHRUaXRsZQBobHMgY29sb3JtYXA3E7UyAAAAGHRFWHREZXNjcmlwdGlvbgBobHMgY29sb3JtYXA7O8doAAAAMHRFWHRBdXRob3IATWF0cGxvdGxpYiB2My41LjIsIGh0dHBzOi8vbWF0cGxvdGxpYi5vcmfCWnicAAAAMnRFWHRTb2Z0d2FyZQBNYXRwbG90bGliIHYzLjUuMiwgaHR0cHM6Ly9tYXRwbG90bGliLm9yZ+z857sAAAF8SURBVHic7dbLagJBEEDR8vGNWebH8ytRs7CXxiDMYsw9Z1MwQsE0PXIPX58ft5mZOc08nOdfnr8697Zn432Xw5rzfH7/8furc6t9e9tzmXWgLti2e67H+3zXi7HTD+h0W3Oez39+uzZ8v3WgLti2e47X+1wHvf4NAIASAQAAQQIAAIIEAAAECQAACBIAABAkAAAgSAAAQJAAAIAgAQAAQQIAAIIEAAAECQAACBIAABAkAAAgSAAAQJAAAIAgAQAAQQIAAIIEAAAECQAACBIAABAkAAAgSAAAQJAAAIAgAQAAQQIAAIIEAAAECQAACBIAABAkAAAgSAAAQJAAAIAgAQAAQQIAAIIEAAAECQAACBIAABAkAAAgSAAAQJAAAIAgAQAAQQIAAIIEAAAECQAACBIAABAkAAAgSAAAQJAAAIAgAQAAQQIAAIIEAAAECQAACBIAABAkAAAgSAAAQJAAAIAgAQAAQQIAAIIEAAAECQAACBIAABAkAAAg6AcOxYYLf1lEaQAAAABJRU5ErkJggg==\"></div><div style=\"vertical-align: middle; max-width: 514px; display: flex; justify-content: space-between;\"><div style=\"float: left;\"><div title=\"#db5f57ff\" style=\"display: inline-block; width: 1em; height: 1em; margin: 0; vertical-align: middle; border: 1px solid #555; background-color: #db5f57ff;\"></div> under</div><div style=\"margin: 0 auto; display: inline-block;\">bad <div title=\"#00000000\" style=\"display: inline-block; width: 1em; height: 1em; margin: 0; vertical-align: middle; border: 1px solid #555; background-color: #00000000;\"></div></div><div style=\"float: right;\">over <div title=\"#db5c57ff\" style=\"display: inline-block; width: 1em; height: 1em; margin: 0; vertical-align: middle; border: 1px solid #555; background-color: #db5c57ff;\"></div></div>"
      ],
      "text/plain": [
       "<matplotlib.colors.ListedColormap at 0x17f43cdc0>"
      ]
     },
     "execution_count": 14,
     "metadata": {},
     "output_type": "execute_result"
    }
   ],
   "source": [
    "pal = sns.color_palette(\"hls\", as_cmap=True)\n",
    "print(pal)\n",
    "sns.color_palette(\"hls\", as_cmap=True)"
   ]
  },
  {
   "cell_type": "code",
   "execution_count": 22,
   "id": "33fdd36a",
   "metadata": {
    "ExecuteTime": {
     "end_time": "2022-09-04T19:25:48.785290Z",
     "start_time": "2022-09-04T19:25:48.776611Z"
    }
   },
   "outputs": [
    {
     "name": "stdout",
     "output_type": "stream",
     "text": [
      "[(0.20973515, 0.09747934, 0.24238489), (0.43860848, 0.12177004, 0.34119475), (0.67824099, 0.09192342, 0.3504148), (0.8833417, 0.19830556, 0.26014181), (0.95381595, 0.46373781, 0.31769923), (0.96516917, 0.70776351, 0.5606593)]\n"
     ]
    }
   ],
   "source": [
    "pal = sns.color_palette(\"rocket\")\n",
    "print(pal)"
   ]
  },
  {
   "cell_type": "code",
   "execution_count": 11,
   "id": "1d5b70c2",
   "metadata": {
    "ExecuteTime": {
     "end_time": "2022-09-04T18:57:53.939447Z",
     "start_time": "2022-09-04T18:57:53.928944Z"
    }
   },
   "outputs": [
    {
     "data": {
      "text/html": [
       "<svg  width=\"330\" height=\"55\"><rect x=\"0\" y=\"0\" width=\"55\" height=\"55\" style=\"fill:#35193e;stroke-width:2;stroke:rgb(255,255,255)\"/><rect x=\"55\" y=\"0\" width=\"55\" height=\"55\" style=\"fill:#701f57;stroke-width:2;stroke:rgb(255,255,255)\"/><rect x=\"110\" y=\"0\" width=\"55\" height=\"55\" style=\"fill:#ad1759;stroke-width:2;stroke:rgb(255,255,255)\"/><rect x=\"165\" y=\"0\" width=\"55\" height=\"55\" style=\"fill:#e13342;stroke-width:2;stroke:rgb(255,255,255)\"/><rect x=\"220\" y=\"0\" width=\"55\" height=\"55\" style=\"fill:#f37651;stroke-width:2;stroke:rgb(255,255,255)\"/><rect x=\"275\" y=\"0\" width=\"55\" height=\"55\" style=\"fill:#f6b48f;stroke-width:2;stroke:rgb(255,255,255)\"/></svg>"
      ],
      "text/plain": [
       "[(0.20973515, 0.09747934, 0.24238489),\n",
       " (0.43860848, 0.12177004, 0.34119475),\n",
       " (0.67824099, 0.09192342, 0.3504148),\n",
       " (0.8833417, 0.19830556, 0.26014181),\n",
       " (0.95381595, 0.46373781, 0.31769923),\n",
       " (0.96516917, 0.70776351, 0.5606593)]"
      ]
     },
     "execution_count": 11,
     "metadata": {},
     "output_type": "execute_result"
    }
   ],
   "source": [
    "sns.color_palette(\"rocket\")"
   ]
  },
  {
   "cell_type": "code",
   "execution_count": 24,
   "id": "dc18270c",
   "metadata": {
    "ExecuteTime": {
     "end_time": "2022-09-04T19:29:36.306760Z",
     "start_time": "2022-09-04T19:29:36.284639Z"
    }
   },
   "outputs": [
    {
     "data": {
      "image/png": "[encoded data removed]",
      "text/html": [
       "<div style=\"vertical-align: middle;\"><strong>from_list</strong> </div><div class=\"cmap\"><img alt=\"from_list colormap\" title=\"from_list\" style=\"border: 1px solid #555;\" src=\"data:image/png;base64,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\"></div><div style=\"vertical-align: middle; max-width: 514px; display: flex; justify-content: space-between;\"><div style=\"float: left;\"><div title=\"#f5e84fff\" style=\"display: inline-block; width: 1em; height: 1em; margin: 0; vertical-align: middle; border: 1px solid #555; background-color: #f5e84fff;\"></div> under</div><div style=\"margin: 0 auto; display: inline-block;\">bad <div title=\"#00000000\" style=\"display: inline-block; width: 1em; height: 1em; margin: 0; vertical-align: middle; border: 1px solid #555; background-color: #00000000;\"></div></div><div style=\"float: right;\">over <div title=\"#136140ff\" style=\"display: inline-block; width: 1em; height: 1em; margin: 0; vertical-align: middle; border: 1px solid #555; background-color: #136140ff;\"></div></div>"
      ],
      "text/plain": [
       "<matplotlib.colors.ListedColormap at 0x17f673700>"
      ]
     },
     "execution_count": 24,
     "metadata": {},
     "output_type": "execute_result"
    }
   ],
   "source": [
    "import matplotlib,numpy\n",
    "\n",
    "cmap = matplotlib.colors.ListedColormap ( numpy.random.rand ( 256, 3))\n",
    "cmap"
   ]
  },
  {
   "cell_type": "code",
   "execution_count": 20,
   "id": "df4b12f3",
   "metadata": {
    "ExecuteTime": {
     "end_time": "2022-09-04T19:04:45.311759Z",
     "start_time": "2022-09-04T19:04:45.289317Z"
    }
   },
   "outputs": [
    {
     "data": {
      "image/png": "[encoded data removed]",
      "text/html": [
       "<div style=\"vertical-align: middle;\"><strong>from_list</strong> </div><div class=\"cmap\"><img alt=\"from_list colormap\" title=\"from_list\" style=\"border: 1px solid #555;\" src=\"data:image/png;base64,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\"></div><div style=\"vertical-align: middle; max-width: 514px; display: flex; justify-content: space-between;\"><div style=\"float: left;\"><div title=\"#8d0000ff\" style=\"display: inline-block; width: 1em; height: 1em; margin: 0; vertical-align: middle; border: 1px solid #555; background-color: #8d0000ff;\"></div> under</div><div style=\"margin: 0 auto; display: inline-block;\">bad <div title=\"#00000000\" style=\"display: inline-block; width: 1em; height: 1em; margin: 0; vertical-align: middle; border: 1px solid #555; background-color: #00000000;\"></div></div><div style=\"float: right;\">over <div title=\"#ffd000ff\" style=\"display: inline-block; width: 1em; height: 1em; margin: 0; vertical-align: middle; border: 1px solid #555; background-color: #ffd000ff;\"></div></div>"
      ],
      "text/plain": [
       "<matplotlib.colors.ListedColormap at 0x17f82bc40>"
      ]
     },
     "execution_count": 20,
     "metadata": {},
     "output_type": "execute_result"
    }
   ],
   "source": [
    "import numpy as np\n",
    "import matplotlib.pyplot as plt\n",
    "vals = np.linspace(0,1,256)\n",
    "np.random.shuffle(vals)\n",
    "cmap = plt.cm.colors.ListedColormap(plt.cm.jet(vals))\n",
    "cmap"
   ]
  },
  {
   "cell_type": "code",
   "execution_count": 26,
   "id": "6f45881a",
   "metadata": {
    "ExecuteTime": {
     "end_time": "2022-09-04T19:45:08.350349Z",
     "start_time": "2022-09-04T19:45:08.336967Z"
    }
   },
   "outputs": [
    {
     "data": {
      "text/html": [
       "<svg  width=\"660\" height=\"55\"><rect x=\"0\" y=\"0\" width=\"55\" height=\"55\" style=\"fill:#a6cee3;stroke-width:2;stroke:rgb(255,255,255)\"/><rect x=\"55\" y=\"0\" width=\"55\" height=\"55\" style=\"fill:#1f78b4;stroke-width:2;stroke:rgb(255,255,255)\"/><rect x=\"110\" y=\"0\" width=\"55\" height=\"55\" style=\"fill:#b2df8a;stroke-width:2;stroke:rgb(255,255,255)\"/><rect x=\"165\" y=\"0\" width=\"55\" height=\"55\" style=\"fill:#33a02c;stroke-width:2;stroke:rgb(255,255,255)\"/><rect x=\"220\" y=\"0\" width=\"55\" height=\"55\" style=\"fill:#fb9a99;stroke-width:2;stroke:rgb(255,255,255)\"/><rect x=\"275\" y=\"0\" width=\"55\" height=\"55\" style=\"fill:#e31a1c;stroke-width:2;stroke:rgb(255,255,255)\"/><rect x=\"330\" y=\"0\" width=\"55\" height=\"55\" style=\"fill:#fdbf6f;stroke-width:2;stroke:rgb(255,255,255)\"/><rect x=\"385\" y=\"0\" width=\"55\" height=\"55\" style=\"fill:#ff7f00;stroke-width:2;stroke:rgb(255,255,255)\"/><rect x=\"440\" y=\"0\" width=\"55\" height=\"55\" style=\"fill:#cab2d6;stroke-width:2;stroke:rgb(255,255,255)\"/><rect x=\"495\" y=\"0\" width=\"55\" height=\"55\" style=\"fill:#6a3d9a;stroke-width:2;stroke:rgb(255,255,255)\"/><rect x=\"550\" y=\"0\" width=\"55\" height=\"55\" style=\"fill:#ffff99;stroke-width:2;stroke:rgb(255,255,255)\"/><rect x=\"605\" y=\"0\" width=\"55\" height=\"55\" style=\"fill:#b15928;stroke-width:2;stroke:rgb(255,255,255)\"/></svg>"
      ],
      "text/plain": [
       "[(0.6509803921568628, 0.807843137254902, 0.8901960784313725),\n",
       " (0.12156862745098039, 0.47058823529411764, 0.7058823529411765),\n",
       " (0.6980392156862745, 0.8745098039215686, 0.5411764705882353),\n",
       " (0.2, 0.6274509803921569, 0.17254901960784313),\n",
       " (0.984313725490196, 0.6039215686274509, 0.6),\n",
       " (0.8901960784313725, 0.10196078431372549, 0.10980392156862745),\n",
       " (0.9921568627450981, 0.7490196078431373, 0.43529411764705883),\n",
       " (1.0, 0.4980392156862745, 0.0),\n",
       " (0.792156862745098, 0.6980392156862745, 0.8392156862745098),\n",
       " (0.41568627450980394, 0.23921568627450981, 0.6039215686274509),\n",
       " (1.0, 1.0, 0.6),\n",
       " (0.6941176470588235, 0.34901960784313724, 0.1568627450980392)]"
      ]
     },
     "execution_count": 26,
     "metadata": {},
     "output_type": "execute_result"
    }
   ],
   "source": [
    "sns.color_palette(\"Paired\")\n"
   ]
  },
  {
   "cell_type": "code",
   "execution_count": 31,
   "id": "68683f69",
   "metadata": {
    "ExecuteTime": {
     "end_time": "2022-09-04T19:49:26.199690Z",
     "start_time": "2022-09-04T19:49:26.189665Z"
    }
   },
   "outputs": [
    {
     "name": "stdout",
     "output_type": "stream",
     "text": [
      "[(0.6509803921568628, 0.807843137254902, 0.8901960784313725), (0.12156862745098039, 0.47058823529411764, 0.7058823529411765), (0.6980392156862745, 0.8745098039215686, 0.5411764705882353), (0.2, 0.6274509803921569, 0.17254901960784313), (0.984313725490196, 0.6039215686274509, 0.6), (0.8901960784313725, 0.10196078431372549, 0.10980392156862745), (0.9921568627450981, 0.7490196078431373, 0.43529411764705883), (1.0, 0.4980392156862745, 0.0), (0.792156862745098, 0.6980392156862745, 0.8392156862745098), (0.41568627450980394, 0.23921568627450981, 0.6039215686274509), (1.0, 1.0, 0.6), (0.6941176470588235, 0.34901960784313724, 0.1568627450980392)]\n"
     ]
    }
   ],
   "source": [
    "pal = sns.color_palette(\"Paired\")\n",
    "print(pal)"
   ]
  },
  {
   "cell_type": "code",
   "execution_count": 36,
   "id": "8f53d5d4",
   "metadata": {
    "ExecuteTime": {
     "end_time": "2022-09-04T20:28:58.919325Z",
     "start_time": "2022-09-04T20:28:58.911011Z"
    }
   },
   "outputs": [
    {
     "name": "stdout",
     "output_type": "stream",
     "text": [
      "0.4078936428300264 0.7023984202261528 0.5302421846036786\n"
     ]
    }
   ],
   "source": [
    "import random\n",
    "import colorsys\n",
    "\n",
    "h,s,l = random.random(), 0.5 + random.random()/2.0, 0.4 + random.random()/5.0\n",
    "r,g,b = [int(256*i) for i in colorsys.hls_to_rgb(h,l,s)]\n",
    "\n",
    "print(h, s, l)"
   ]
  },
  {
   "cell_type": "code",
   "execution_count": 40,
   "id": "752eebfb",
   "metadata": {
    "ExecuteTime": {
     "end_time": "2022-09-04T20:57:21.496930Z",
     "start_time": "2022-09-04T20:57:21.470853Z"
    }
   },
   "outputs": [
    {
     "ename": "NameError",
     "evalue": "name 'width1' is not defined",
     "output_type": "error",
     "traceback": [
      "\u001b[0;31m---------------------------------------------------------------------------\u001b[0m",
      "\u001b[0;31mNameError\u001b[0m                                 Traceback (most recent call last)",
      "Input \u001b[0;32mIn [40]\u001b[0m, in \u001b[0;36m<cell line: 31>\u001b[0;34m()\u001b[0m\n\u001b[1;32m     34\u001b[0m     g\u001b[38;5;241m=\u001b[39m\u001b[38;5;28mround\u001b[39m(g\u001b[38;5;241m*\u001b[39m\u001b[38;5;241m255\u001b[39m)\n\u001b[1;32m     35\u001b[0m     b\u001b[38;5;241m=\u001b[39m\u001b[38;5;28mround\u001b[39m(b\u001b[38;5;241m*\u001b[39m\u001b[38;5;241m255\u001b[39m)\n\u001b[0;32m---> 36\u001b[0m     image \u001b[38;5;241m=\u001b[39m create_blank(\u001b[43mwidth1\u001b[49m, height1, rgb_color\u001b[38;5;241m=\u001b[39m(r,g,b))\n\u001b[1;32m     37\u001b[0m cv2\u001b[38;5;241m.\u001b[39mimwrite(\u001b[38;5;124m'\u001b[39m\u001b[38;5;124mpath/to/folder\u001b[39m\u001b[38;5;124m'\u001b[39m\u001b[38;5;241m+\u001b[39m\u001b[38;5;28mstr\u001b[39m(r)\u001b[38;5;241m+\u001b[39m\u001b[38;5;28mstr\u001b[39m(g)\u001b[38;5;241m+\u001b[39m\u001b[38;5;28mstr\u001b[39m(b)\u001b[38;5;241m+\u001b[39m\u001b[38;5;124m'\u001b[39m\u001b[38;5;124m.jpg\u001b[39m\u001b[38;5;124m'\u001b[39m, image)\n",
      "\u001b[0;31mNameError\u001b[0m: name 'width1' is not defined"
     ]
    }
   ],
   "source": [
    "import colorsys\n",
    "import cv2\n",
    "import numpy as np\n",
    "import random\n",
    "#generates random colors in semi rgb format\n",
    "\n",
    "\n",
    "def create_blank(width, height, rgb_color=(0, 0, 0)):\n",
    "    \"\"\"Create new image(numpy array) filled with certain color in RGB\"\"\"\n",
    "    # Create black blank image\n",
    "    image = np.zeros((height, width, 3), np.uint8)\n",
    "\n",
    "    # Since OpenCV uses BGR, convert the color first\n",
    "    color = tuple(reversed(rgb_color))\n",
    "    # Fill image with color\n",
    "    image[:] = color\n",
    "\n",
    "    return image\n",
    "def random_colors(N, bright=True):\n",
    "    \"\"\"\n",
    "    Generate random colors.\n",
    "    To get visually distinct colors, generate them in HSV space then\n",
    "    convert to RGB.\n",
    "    \"\"\"\n",
    "    brightness = 1.0 if bright else 0.7\n",
    "    hsv = [(i / N, 1, brightness) for i in range(N)]\n",
    "    colors = list(map(lambda c: colorsys.hsv_to_rgb(*c), hsv))\n",
    "    random.shuffle(colors)\n",
    "    return colors\n",
    "colors=random_colors(100)\n",
    "for color in colors:\n",
    "    r,g,b=color\n",
    "    r=round(r*255)\n",
    "    g=round(g*255)\n",
    "    b=round(b*255)\n",
    "    image = create_blank(width1, height1, rgb_color=(r,g,b))\n",
    "cv2.imwrite('path/to/folder'+str(r)+str(g)+str(b)+'.jpg', image)"
   ]
  },
  {
   "cell_type": "code",
   "execution_count": 50,
   "id": "3dfe13a3",
   "metadata": {
    "ExecuteTime": {
     "end_time": "2022-09-04T22:13:08.541342Z",
     "start_time": "2022-09-04T22:13:08.512746Z"
    }
   },
   "outputs": [
    {
     "ename": "TypeError",
     "evalue": "%X format: an integer is required, not float",
     "output_type": "error",
     "traceback": [
      "\u001b[0;31m---------------------------------------------------------------------------\u001b[0m",
      "\u001b[0;31mTypeError\u001b[0m                                 Traceback (most recent call last)",
      "Input \u001b[0;32mIn [50]\u001b[0m, in \u001b[0;36m<cell line: 8>\u001b[0;34m()\u001b[0m\n\u001b[1;32m      5\u001b[0m     r,g,b \u001b[38;5;241m=\u001b[39m colorsys\u001b[38;5;241m.\u001b[39mhls_to_rgb(h,l,s)\n\u001b[1;32m      6\u001b[0m     \u001b[38;5;28;01mreturn\u001b[39;00m \u001b[38;5;124m'\u001b[39m\u001b[38;5;124m#\u001b[39m\u001b[38;5;132;01m%02X\u001b[39;00m\u001b[38;5;132;01m%02X\u001b[39;00m\u001b[38;5;132;01m%02X\u001b[39;00m\u001b[38;5;124m'\u001b[39m \u001b[38;5;241m%\u001b[39m (r, g, b)\n\u001b[0;32m----> 8\u001b[0m A \u001b[38;5;241m=\u001b[39m \u001b[43mbright_color_generator\u001b[49m\u001b[43m(\u001b[49m\u001b[43m)\u001b[49m\n\u001b[1;32m      9\u001b[0m A\n",
      "Input \u001b[0;32mIn [50]\u001b[0m, in \u001b[0;36mbright_color_generator\u001b[0;34m()\u001b[0m\n\u001b[1;32m      4\u001b[0m h,s,l \u001b[38;5;241m=\u001b[39m np\u001b[38;5;241m.\u001b[39mrandom\u001b[38;5;241m.\u001b[39mrandom(), \u001b[38;5;241m0.5\u001b[39m \u001b[38;5;241m+\u001b[39m np\u001b[38;5;241m.\u001b[39mrandom\u001b[38;5;241m.\u001b[39mrandom()\u001b[38;5;241m/\u001b[39m\u001b[38;5;241m2.0\u001b[39m, \u001b[38;5;241m0.4\u001b[39m \u001b[38;5;241m+\u001b[39m np\u001b[38;5;241m.\u001b[39mrandom\u001b[38;5;241m.\u001b[39mrandom()\u001b[38;5;241m/\u001b[39m\u001b[38;5;241m5.0\u001b[39m\n\u001b[1;32m      5\u001b[0m r,g,b \u001b[38;5;241m=\u001b[39m colorsys\u001b[38;5;241m.\u001b[39mhls_to_rgb(h,l,s)\n\u001b[0;32m----> 6\u001b[0m \u001b[38;5;28;01mreturn\u001b[39;00m \u001b[38;5;124;43m'\u001b[39;49m\u001b[38;5;124;43m#\u001b[39;49m\u001b[38;5;132;43;01m%02X\u001b[39;49;00m\u001b[38;5;132;43;01m%02X\u001b[39;49;00m\u001b[38;5;132;43;01m%02X\u001b[39;49;00m\u001b[38;5;124;43m'\u001b[39;49m\u001b[43m \u001b[49m\u001b[38;5;241;43m%\u001b[39;49m\u001b[43m \u001b[49m\u001b[43m(\u001b[49m\u001b[43mr\u001b[49m\u001b[43m,\u001b[49m\u001b[43m \u001b[49m\u001b[43mg\u001b[49m\u001b[43m,\u001b[49m\u001b[43m \u001b[49m\u001b[43mb\u001b[49m\u001b[43m)\u001b[49m\n",
      "\u001b[0;31mTypeError\u001b[0m: %X format: an integer is required, not float"
     ]
    }
   ],
   "source": [
    "import colorsys\n",
    "\n",
    "def bright_color_generator():\n",
    "    h,s,l = np.random.random(), 0.5 + np.random.random()/2.0, 0.4 + np.random.random()/5.0\n",
    "    r,g,b = [int(256*i) for i in colorsys.hls_to_rgb(h,l,s)]\n",
    "    return '#%02X%02X%02X' % (r, g, b)\n",
    "\n",
    "A = bright_color_generator()\n",
    "A"
   ]
  },
  {
   "cell_type": "code",
   "execution_count": 52,
   "id": "014e28b0",
   "metadata": {
    "ExecuteTime": {
     "end_time": "2022-09-04T22:13:29.145313Z",
     "start_time": "2022-09-04T22:13:29.131060Z"
    }
   },
   "outputs": [
    {
     "data": {
      "text/plain": [
       "(0.20028503718041346, 0.8601993320269437, 0.495505521570709)"
      ]
     },
     "execution_count": 52,
     "metadata": {},
     "output_type": "execute_result"
    }
   ],
   "source": [
    "colorsys.hls_to_rgb(h,l,s)"
   ]
  },
  {
   "cell_type": "code",
   "execution_count": 57,
   "id": "ebd3b5d7",
   "metadata": {
    "ExecuteTime": {
     "end_time": "2022-09-05T20:09:29.656666Z",
     "start_time": "2022-09-05T20:09:29.646189Z"
    }
   },
   "outputs": [
    {
     "data": {
      "text/plain": [
       "1"
      ]
     },
     "execution_count": 57,
     "metadata": {},
     "output_type": "execute_result"
    }
   ],
   "source": [
    "np.random.choice([-1, 1])"
   ]
  },
  {
   "cell_type": "code",
   "execution_count": 60,
   "id": "25cba1d1",
   "metadata": {
    "ExecuteTime": {
     "end_time": "2022-09-05T20:48:10.565938Z",
     "start_time": "2022-09-05T20:48:10.546746Z"
    }
   },
   "outputs": [
    {
     "name": "stdout",
     "output_type": "stream",
     "text": [
      "0.9268102746350191 0.5886348414988546\n",
      "0.7594021456041381 0.5730396756758077\n",
      "0.8650933971859814 0.5536361268632781\n",
      "0.8654933708555629 0.5474958249894476\n",
      "0.8847807972010141 0.6699822534756158\n",
      "0.753257600050331 0.659557577880236\n",
      "0.9980810458841477 0.6154429621112618\n",
      "0.8214266808528254 0.5983468100663833\n",
      "0.7532812863464629 0.5261131075317564\n",
      "0.8088362805641185 0.6294477695382583\n",
      "0.8790510388067957 0.6774323053043834\n",
      "0.879080869694421 0.5603501705118327\n",
      "0.93474413377599 0.5872835282288571\n",
      "0.7932617169731506 0.6461888977919009\n",
      "0.8919043206037385 0.550791298539783\n",
      "0.8420070467051867 0.6675078797834831\n",
      "0.9878880200532123 0.5359042951610556\n",
      "0.7983359486394337 0.606628753581603\n",
      "0.8129243663612014 0.5161767468304291\n",
      "0.9499493721622909 0.6153001612267158\n",
      "0.812010548995613 0.5642884071458022\n",
      "0.7862726480566212 0.5276301737325347\n",
      "0.932839395022473 0.5338816084726047\n",
      "0.7626845797569093 0.6190409421509337\n",
      "0.8121695400801086 0.5750607372487937\n",
      "0.8294226089411796 0.6705028971172958\n",
      "0.8741590921204001 0.549559185519036\n",
      "0.7504474001549776 0.675667529190777\n",
      "0.9020652533928951 0.6413129782297876\n",
      "0.924439956900843 0.695021367741264\n",
      "0.8802553932750697 0.6840215104442808\n",
      "0.9065835802861094 0.5705945467611141\n",
      "0.86149885074419 0.5239455641875399\n",
      "0.8497633489753267 0.5239072865691027\n",
      "0.9500988214695774 0.5448612969821723\n",
      "0.9449665111302998 0.5614146686497247\n",
      "0.796465267462404 0.6101109022148948\n",
      "0.751411775994036 0.6344363612780961\n",
      "0.9252724188295307 0.6998638733732258\n",
      "0.9906937537257702 0.5841312806148522\n",
      "0.8387198012874759 0.6527015908526855\n",
      "0.9999857734933163 0.5512255946564881\n",
      "0.9798910731187589 0.5173852681745371\n",
      "0.777582417203975 0.6839549880396426\n",
      "0.885953443173073 0.5725547983783675\n",
      "0.8959553900192997 0.5489379844844091\n",
      "0.9480671431404992 0.5412783305952464\n",
      "0.9672404609337258 0.6905677097732349\n",
      "0.853687480449501 0.5291005973600755\n",
      "0.8183339263003944 0.69821029985291\n",
      "0.8489721618577627 0.6139751768300334\n",
      "0.9908773803843814 0.51091787730327\n",
      "0.781526999396213 0.5812170997113588\n",
      "0.9981344583002612 0.5134633892119771\n",
      "0.8549073501893678 0.6503114370965809\n",
      "0.8939559642905559 0.5503348443497427\n",
      "0.8588691532173719 0.6653880784406903\n",
      "0.92432542167422 0.654301224496964\n",
      "0.8607090415300644 0.5505013867656524\n",
      "0.8839826316771227 0.5344436175245035\n",
      "0.8843881313817155 0.5655909376989076\n",
      "0.756880343685515 0.5819610217589857\n",
      "0.9091875903045978 0.592653414579246\n",
      "0.8975599168164284 0.5718421383916427\n",
      "0.8622713911523836 0.5285677554561752\n",
      "0.8406741012983523 0.6507594823336071\n",
      "0.7522157406404377 0.5032431809476645\n",
      "0.9191013415896272 0.5260608428939448\n",
      "0.9153537820756759 0.6012921838559215\n",
      "0.9466141028181778 0.685311658441215\n",
      "0.8476782662008978 0.5610454825536603\n",
      "0.8990620053953786 0.6459537978582014\n",
      "0.777406522183452 0.6029151145905369\n",
      "0.9339991192447467 0.6932497286223873\n",
      "0.9215378222948697 0.5194404677420671\n",
      "0.8806413805622931 0.5425943018988992\n",
      "0.8304944385661228 0.5973933987730041\n",
      "0.9922427591205166 0.5522468766122299\n",
      "0.775972697895296 0.5800738997199565\n",
      "0.947623185117301 0.6288910256827551\n",
      "0.9039383640286905 0.5713914562110269\n",
      "0.8815895862585978 0.5889657285316111\n",
      "0.7853738890442783 0.5290736534018364\n",
      "0.9222912792846142 0.6378577444399064\n",
      "0.8397552546032779 0.5176432647636815\n",
      "0.9844976120461145 0.597502551047803\n",
      "0.8948440217565645 0.5507418631310064\n",
      "0.9505846417093404 0.6943336134627168\n",
      "0.9743002402363049 0.5817676779901777\n",
      "0.7982141943872898 0.5482260038706793\n",
      "0.9139034073440059 0.5314340589708535\n",
      "0.8634415604767924 0.6073825008434276\n",
      "0.9703482275763889 0.5304863528232956\n",
      "0.9037864602549974 0.697959312204173\n",
      "0.9859688085715755 0.6323761078931205\n",
      "0.9163846486664767 0.6860633760990996\n",
      "0.8496912424763663 0.622828961588716\n",
      "0.960549968538731 0.6758984967852757\n",
      "0.8671007423787848 0.5989706246724944\n",
      "0.9557754841888482 0.5946182287360839\n"
     ]
    }
   ],
   "source": [
    "\n",
    "\n",
    "for i in range(100):\n",
    "    saturation = 0.875 + np.random.random() / 8.0 * np.random.choice([-1, 1])\n",
    "    lightness = 0.6 + np.random.random() / 10.0 * np.random.choice([-1, 1])\n",
    "    print(saturation, lightness)"
   ]
  },
  {
   "cell_type": "code",
   "execution_count": null,
   "id": "4c59bad9",
   "metadata": {},
   "outputs": [],
   "source": []
  }
 ],
 "metadata": {
  "hide_input": false,
  "kernelspec": {
   "display_name": "Python 3 (ipykernel)",
   "language": "python",
   "name": "python3"
  },
  "language_info": {
   "codemirror_mode": {
    "name": "ipython",
    "version": 3
   },
   "file_extension": ".py",
   "mimetype": "text/x-python",
   "name": "python",
   "nbconvert_exporter": "python",
   "pygments_lexer": "ipython3",
   "version": "3.9.12"
  },
  "latex_envs": {
   "LaTeX_envs_menu_present": true,
   "autoclose": false,
   "autocomplete": true,
   "bibliofile": "biblio.bib",
   "cite_by": "apalike",
   "current_citInitial": 1,
   "eqLabelWithNumbers": true,
   "eqNumInitial": 1,
   "hotkeys": {
    "equation": "Ctrl-E",
    "itemize": "Ctrl-I"
   },
   "labels_anchors": false,
   "latex_user_defs": false,
   "report_style_numbering": false,
   "user_envs_cfg": false
  },
  "nbTranslate": {
   "displayLangs": [
    "*"
   ],
   "hotkey": "alt-t",
   "langInMainMenu": true,
   "sourceLang": "en",
   "targetLang": "fr",
   "useGoogleTranslate": true
  },
  "toc": {
   "base_numbering": 1,
   "nav_menu": {},
   "number_sections": true,
   "sideBar": true,
   "skip_h1_title": false,
   "title_cell": "Table of Contents",
   "title_sidebar": "Contents",
   "toc_cell": false,
   "toc_position": {},
   "toc_section_display": true,
   "toc_window_display": false
  }
 },
 "nbformat": 4,
 "nbformat_minor": 5
}

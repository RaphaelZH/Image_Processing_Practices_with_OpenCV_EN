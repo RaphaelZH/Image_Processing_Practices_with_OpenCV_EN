{
 "cells": [
  {
   "cell_type": "markdown",
   "id": "38a7fe70",
   "metadata": {},
   "source": [
    "# Importing Libraries"
   ]
  },
  {
   "cell_type": "code",
   "execution_count": 1,
   "id": "c141e947",
   "metadata": {
    "ExecuteTime": {
     "end_time": "2022-10-13T15:36:29.030659Z",
     "start_time": "2022-10-13T15:36:28.407139Z"
    }
   },
   "outputs": [],
   "source": [
    "import torch\n",
    "\n",
    "import numpy as np\n",
    "\n",
    "import matplotlib as mpl\n",
    "import matplotlib.pyplot as plt\n",
    "\n",
    "import colorsys\n",
    "from termcolor import cprint\n",
    "import random"
   ]
  },
  {
   "cell_type": "markdown",
   "id": "fc0137a2",
   "metadata": {},
   "source": [
    "# Configuring Visualization Parameters"
   ]
  },
  {
   "cell_type": "code",
   "execution_count": 2,
   "id": "7340d12b",
   "metadata": {
    "ExecuteTime": {
     "end_time": "2022-10-13T15:36:29.039071Z",
     "start_time": "2022-10-13T15:36:29.032127Z"
    }
   },
   "outputs": [],
   "source": [
    "%matplotlib inline"
   ]
  },
  {
   "cell_type": "code",
   "execution_count": 3,
   "id": "e5d9f80b",
   "metadata": {
    "ExecuteTime": {
     "end_time": "2022-10-13T15:36:29.041663Z",
     "start_time": "2022-10-13T15:36:29.040104Z"
    }
   },
   "outputs": [],
   "source": [
    "XINHUI = '#7a7374'\n",
    "XUEBAI = '#fffef9'\n",
    "YINBAI = '#f1f0ed'\n",
    "YINHUI = '#918072'"
   ]
  },
  {
   "cell_type": "code",
   "execution_count": 4,
   "id": "eabed42f",
   "metadata": {
    "ExecuteTime": {
     "end_time": "2022-10-13T15:36:29.045346Z",
     "start_time": "2022-10-13T15:36:29.043082Z"
    }
   },
   "outputs": [],
   "source": [
    "custom_params = {\n",
    "    'axes.axisbelow': True,\n",
    "    'axes.edgecolor': YINBAI,\n",
    "    'axes.facecolor': XUEBAI,\n",
    "    'axes.grid': True,\n",
    "    'axes.labelcolor': XINHUI,\n",
    "    'axes.labelsize': 'large',\n",
    "    'axes.spines.right': False,\n",
    "    'axes.spines.top': False,\n",
    "    'axes.titlecolor': XINHUI,\n",
    "    'axes.titlesize': 'x-large',\n",
    "    'figure.edgecolor': YINBAI,\n",
    "    'figure.facecolor': XUEBAI,\n",
    "    'figure.figsize': (16, 9),\n",
    "    'figure.titlesize': 'x-large',\n",
    "    'grid.alpha': .8,\n",
    "    'grid.color': YINBAI,\n",
    "    'grid.linestyle': '--',\n",
    "    'grid.linewidth': 1.2,\n",
    "    'legend.edgecolor': YINHUI,\n",
    "    'patch.edgecolor': XUEBAI,\n",
    "    'patch.force_edgecolor': True,\n",
    "    'text.color': XINHUI,\n",
    "    'xtick.color': YINHUI,\n",
    "    'ytick.color': YINHUI,\n",
    "}\n",
    "\n",
    "mpl.rcParams.update(custom_params)"
   ]
  },
  {
   "cell_type": "markdown",
   "id": "7fc4fbe3",
   "metadata": {},
   "source": [
    "# Pre-installing Required Functions"
   ]
  },
  {
   "cell_type": "code",
   "execution_count": 5,
   "id": "471a088f",
   "metadata": {
    "ExecuteTime": {
     "end_time": "2022-10-13T15:36:29.047939Z",
     "start_time": "2022-10-13T15:36:29.046198Z"
    }
   },
   "outputs": [],
   "source": [
    "def list_head_checker(list_1, list_2):\n",
    "    for i in range(len(list_2)):\n",
    "        if list_1[-1] == list_2[0]:\n",
    "            head, list_2 = list_2[0], list_2[1:]\n",
    "            list_2.append(head)\n",
    "        else:\n",
    "            break\n",
    "    return list_2"
   ]
  },
  {
   "cell_type": "code",
   "execution_count": 6,
   "id": "a95749c9",
   "metadata": {
    "ExecuteTime": {
     "end_time": "2022-10-13T15:36:29.050527Z",
     "start_time": "2022-10-13T15:36:29.048747Z"
    }
   },
   "outputs": [],
   "source": [
    "def list_concatenator(list_1, list_2):\n",
    "    if list_1 != []:\n",
    "        list_2 = list_head_checker(list_1, list_2)\n",
    "    list_1 += list_2\n",
    "    return list_1"
   ]
  },
  {
   "cell_type": "code",
   "execution_count": 7,
   "id": "4fd22436",
   "metadata": {
    "ExecuteTime": {
     "end_time": "2022-10-13T15:36:29.054787Z",
     "start_time": "2022-10-13T15:36:29.051637Z"
    },
    "code_folding": []
   },
   "outputs": [],
   "source": [
    "def color_list_generator(n=100):\n",
    "    termcolors = [\n",
    "        'grey', 'red', 'green', 'yellow', 'blue', 'magenta', 'cyan', 'white'\n",
    "    ]\n",
    "    global font_colors_list\n",
    "    font_colors_list = []\n",
    "    for i in range(((n - 1) // 8 + 1)):\n",
    "        if n <= 8:\n",
    "            random_list = random.sample(termcolors, k=n)\n",
    "            list_concatenator(font_colors_list, random_list)\n",
    "        else:\n",
    "            if i < ((n - 1) // 8):\n",
    "                random_list = random.sample(termcolors, k=8)\n",
    "                list_concatenator(font_colors_list, random_list)\n",
    "            else:\n",
    "                k = n % 8\n",
    "                if k == 0:\n",
    "                    random_list = random.sample(termcolors, k=8)\n",
    "                    list_concatenator(font_colors_list, random_list)\n",
    "                elif k == 1:\n",
    "                    random_list = random.sample(termcolors, k=2)\n",
    "                    font_colors_list = list_concatenator(\n",
    "                        font_colors_list, random_list)[:-1]\n",
    "                else:\n",
    "                    random_list = random.sample(termcolors, k=k)\n",
    "                    list_concatenator(font_colors_list, random_list)"
   ]
  },
  {
   "cell_type": "code",
   "execution_count": 8,
   "id": "c089d10d",
   "metadata": {
    "ExecuteTime": {
     "end_time": "2022-10-13T15:36:29.057722Z",
     "start_time": "2022-10-13T15:36:29.055681Z"
    }
   },
   "outputs": [],
   "source": [
    "def font_color_printer(string, *args, **kwargs):\n",
    "    global font_colors_list, previous_color\n",
    "    try:\n",
    "        font_colors_list\n",
    "    except NameError:\n",
    "        color_list_generator()\n",
    "    if font_colors_list == []:\n",
    "        color_list_generator()\n",
    "    previous_color = font_colors_list.pop(0)\n",
    "    return cprint(string, previous_color, *args, **kwargs)"
   ]
  },
  {
   "cell_type": "code",
   "execution_count": 9,
   "id": "ad46b82b",
   "metadata": {
    "ExecuteTime": {
     "end_time": "2022-10-13T15:36:29.061477Z",
     "start_time": "2022-10-13T15:36:29.058574Z"
    }
   },
   "outputs": [],
   "source": [
    "def calm_color_generator(n):\n",
    "    colors = []\n",
    "    hue = np.repeat(np.random.random(), n)\n",
    "    hue_interval = np.linspace(0, 1, n, endpoint=False)\n",
    "    saturation = 0.6 + np.random.random() / 5.0 * np.random.choice([-1, 1])\n",
    "    lightness = 0.5 + np.random.random() / 10.0 * np.random.choice([-1, 1])\n",
    "    h = hue + hue_interval\n",
    "    h = np.where(h > 1, h - 1, h)\n",
    "    s = np.repeat(saturation, n)\n",
    "    l = np.repeat(lightness, n)\n",
    "    array_hls = np.concatenate((h, l, s)).reshape(-1, n).T\n",
    "    for hls in array_hls:\n",
    "        r, g, b = [\n",
    "            int(256 * e) for e in colorsys.hls_to_rgb(hls[0], hls[1], hls[2])\n",
    "        ]\n",
    "        colors.append('#%02X%02X%02X' % (r, g, b))\n",
    "    return colors"
   ]
  },
  {
   "cell_type": "markdown",
   "id": "8cd6fa88",
   "metadata": {},
   "source": [
    "# Practicing in Stages\n",
    "\n",
    "## 1 Dimensional Tensors"
   ]
  },
  {
   "cell_type": "code",
   "execution_count": 10,
   "id": "0152cded",
   "metadata": {
    "ExecuteTime": {
     "end_time": "2022-10-13T15:36:29.066571Z",
     "start_time": "2022-10-13T15:36:29.063961Z"
    }
   },
   "outputs": [
    {
     "name": "stdout",
     "output_type": "stream",
     "text": [
      "\u001b[4m\u001b[34mOne-dimensional default tensor:\u001b[0m\n",
      "\n",
      "    \u001b[1m\u001b[34mtensor([1, 2, 3, 4, 5, 6])\u001b[0m\n"
     ]
    }
   ],
   "source": [
    "v = torch.tensor([1, 2, 3, 4, 5, 6])\n",
    "font_color_printer(\"One-dimensional default tensor:\",\n",
    "                   attrs=['underline'],\n",
    "                   end='\\n\\n\\t'.expandtabs(4))\n",
    "cprint(v, previous_color, attrs=['bold'])"
   ]
  },
  {
   "cell_type": "code",
   "execution_count": 11,
   "id": "89908c01",
   "metadata": {
    "ExecuteTime": {
     "end_time": "2022-10-13T15:36:29.069731Z",
     "start_time": "2022-10-13T15:36:29.067321Z"
    }
   },
   "outputs": [
    {
     "name": "stdout",
     "output_type": "stream",
     "text": [
      "\u001b[4m\u001b[32mBasic information of default tensor:\u001b[0m\n",
      "\n",
      "    \u001b[1m\u001b[32mtorch.int64\u001b[0m\n",
      "\n",
      "    \u001b[1m\u001b[32mtorch.LongTensor\u001b[0m\n",
      "\n",
      "    \u001b[1m\u001b[32m<class 'torch.Tensor'>\u001b[0m\n",
      "\n",
      "    \u001b[1m\u001b[32mtorch.Size([6])\u001b[0m\n"
     ]
    }
   ],
   "source": [
    "font_color_printer(\"Basic information of default tensor:\",\n",
    "                   attrs=['underline'],\n",
    "                   end='\\n\\n\\t'.expandtabs(4))\n",
    "cprint(v.dtype, previous_color, attrs=['bold'],\n",
    "                   end='\\n\\n\\t'.expandtabs(4))\n",
    "cprint(v.type(), previous_color, attrs=['bold'],\n",
    "                   end='\\n\\n\\t'.expandtabs(4))\n",
    "cprint(type(v), previous_color, attrs=['bold'],\n",
    "                   end='\\n\\n\\t'.expandtabs(4))\n",
    "cprint(v.size(), previous_color, attrs=['bold'])"
   ]
  },
  {
   "cell_type": "code",
   "execution_count": 12,
   "id": "87033e2e",
   "metadata": {
    "ExecuteTime": {
     "end_time": "2022-10-13T15:36:29.074048Z",
     "start_time": "2022-10-13T15:36:29.070506Z"
    }
   },
   "outputs": [
    {
     "name": "stdout",
     "output_type": "stream",
     "text": [
      "\u001b[4m\u001b[35mElements of a 1D tensor:\u001b[0m\n",
      "\n",
      "    \u001b[1m\u001b[35mtensor(1)\u001b[0m\n",
      "\n",
      "    \u001b[1m\u001b[35mtensor(2)\u001b[0m\n",
      "\n",
      "    \u001b[1m\u001b[35mtensor(3)\u001b[0m\n",
      "\n",
      "    \u001b[1m\u001b[35mtensor(4)\u001b[0m\n",
      "\n",
      "    \u001b[1m\u001b[35mtensor(5)\u001b[0m\n",
      "\n",
      "    \u001b[1m\u001b[35mtensor(6)\u001b[0m\n"
     ]
    }
   ],
   "source": [
    "font_color_printer(\"Elements of a 1D tensor:\",\n",
    "                   attrs=['underline'],\n",
    "                   end='\\n\\n\\t'.expandtabs(4))\n",
    "cprint(v[0], previous_color, attrs=['bold'], end='\\n\\n\\t'.expandtabs(4))\n",
    "cprint(v[1], previous_color, attrs=['bold'], end='\\n\\n\\t'.expandtabs(4))\n",
    "cprint(v[2], previous_color, attrs=['bold'], end='\\n\\n\\t'.expandtabs(4))\n",
    "cprint(v[-3], previous_color, attrs=['bold'], end='\\n\\n\\t'.expandtabs(4))\n",
    "cprint(v[-2], previous_color, attrs=['bold'], end='\\n\\n\\t'.expandtabs(4))\n",
    "cprint(v[-1], previous_color, attrs=['bold'])"
   ]
  },
  {
   "cell_type": "code",
   "execution_count": 13,
   "id": "cc537858",
   "metadata": {
    "ExecuteTime": {
     "end_time": "2022-10-13T15:36:29.077357Z",
     "start_time": "2022-10-13T15:36:29.075212Z"
    }
   },
   "outputs": [
    {
     "name": "stdout",
     "output_type": "stream",
     "text": [
      "\u001b[4m\u001b[30mSlicing of a 1D tensor:\u001b[0m\n",
      "\n",
      "    \u001b[1m\u001b[30mtensor([2, 3, 4, 5])\u001b[0m\n"
     ]
    }
   ],
   "source": [
    "font_color_printer(\"Slicing of a 1D tensor:\",\n",
    "                   attrs=['underline'],\n",
    "                   end='\\n\\n\\t'.expandtabs(4))\n",
    "cprint(v[1:-1], previous_color, attrs=['bold'])"
   ]
  },
  {
   "cell_type": "code",
   "execution_count": 14,
   "id": "958ef057",
   "metadata": {
    "ExecuteTime": {
     "end_time": "2022-10-13T15:36:29.081032Z",
     "start_time": "2022-10-13T15:36:29.078385Z"
    }
   },
   "outputs": [
    {
     "name": "stdout",
     "output_type": "stream",
     "text": [
      "\u001b[4m\u001b[33mOne-dimensional float tensor:\u001b[0m\n",
      "\n",
      "    \u001b[1m\u001b[33mtensor([1., 2., 3., 4., 5., 6.])\u001b[0m\n"
     ]
    }
   ],
   "source": [
    "f = torch.FloatTensor([1, 2, 3, 4, 5, 6])\n",
    "font_color_printer(\"One-dimensional float tensor:\",\n",
    "                   attrs=['underline'],\n",
    "                   end='\\n\\n\\t'.expandtabs(4))\n",
    "cprint(f, previous_color, attrs=['bold'])"
   ]
  },
  {
   "cell_type": "code",
   "execution_count": 15,
   "id": "846cf858",
   "metadata": {
    "ExecuteTime": {
     "end_time": "2022-10-13T15:36:29.084401Z",
     "start_time": "2022-10-13T15:36:29.082034Z"
    }
   },
   "outputs": [
    {
     "name": "stdout",
     "output_type": "stream",
     "text": [
      "\u001b[4m\u001b[36mBasic information of float tensor:\u001b[0m\n",
      "\n",
      "    \u001b[1m\u001b[36mtorch.float32\u001b[0m\n",
      "\n",
      "    \u001b[1m\u001b[36mtorch.FloatTensor\u001b[0m\n",
      "\n",
      "    \u001b[1m\u001b[36m<class 'torch.Tensor'>\u001b[0m\n",
      "\n",
      "    \u001b[1m\u001b[36mtorch.Size([6])\u001b[0m\n"
     ]
    }
   ],
   "source": [
    "font_color_printer(\"Basic information of float tensor:\",\n",
    "                   attrs=['underline'],\n",
    "                   end='\\n\\n\\t'.expandtabs(4))\n",
    "cprint(f.dtype, previous_color, attrs=['bold'],\n",
    "                   end='\\n\\n\\t'.expandtabs(4))\n",
    "cprint(f.type(), previous_color, attrs=['bold'],\n",
    "                   end='\\n\\n\\t'.expandtabs(4))\n",
    "cprint(type(f), previous_color, attrs=['bold'],\n",
    "                   end='\\n\\n\\t'.expandtabs(4))\n",
    "cprint(f.size(), previous_color, attrs=['bold'])"
   ]
  },
  {
   "cell_type": "code",
   "execution_count": 16,
   "id": "988688da",
   "metadata": {
    "ExecuteTime": {
     "end_time": "2022-10-13T15:36:29.088761Z",
     "start_time": "2022-10-13T15:36:29.085409Z"
    }
   },
   "outputs": [
    {
     "name": "stdout",
     "output_type": "stream",
     "text": [
      "\u001b[4m\u001b[37mReshaping of 1D tensor:\u001b[0m\n",
      "\n",
      "    \u001b[1m\u001b[37mtensor([1, 2, 3, 4, 5, 6])\u001b[0m\n",
      "\n",
      "    \u001b[1m\u001b[37mtensor([[1, 2, 3, 4, 5, 6]])\u001b[0m\n",
      "\n",
      "    \u001b[1m\u001b[37mtensor([[1],\n",
      "        [2],\n",
      "        [3],\n",
      "        [4],\n",
      "        [5],\n",
      "        [6]])\u001b[0m\n",
      "\n",
      "    \u001b[1m\u001b[37mtensor([[1, 2],\n",
      "        [3, 4],\n",
      "        [5, 6]])\u001b[0m\n",
      "\n",
      "    \u001b[1m\u001b[37mtensor([[1, 2],\n",
      "        [3, 4],\n",
      "        [5, 6]])\u001b[0m\n"
     ]
    }
   ],
   "source": [
    "font_color_printer(\"Reshaping of 1D tensor:\",\n",
    "                   attrs=['underline'],\n",
    "                   end='\\n\\n\\t'.expandtabs(4))\n",
    "cprint(v.view(6), previous_color, attrs=['bold'],\n",
    "                   end='\\n\\n\\t'.expandtabs(4))\n",
    "cprint(v.view(1, 6), previous_color, attrs=['bold'],\n",
    "                   end='\\n\\n\\t'.expandtabs(4))\n",
    "cprint(v.view(6, 1), previous_color, attrs=['bold'],\n",
    "                   end='\\n\\n\\t'.expandtabs(4))\n",
    "cprint(v.view(3, 2), previous_color, attrs=['bold'],\n",
    "                   end='\\n\\n\\t'.expandtabs(4))\n",
    "cprint(v.view(3, -1), previous_color, attrs=['bold'])"
   ]
  },
  {
   "cell_type": "code",
   "execution_count": 17,
   "id": "3b074f46",
   "metadata": {
    "ExecuteTime": {
     "end_time": "2022-10-13T15:36:29.092860Z",
     "start_time": "2022-10-13T15:36:29.089505Z"
    }
   },
   "outputs": [
    {
     "name": "stdout",
     "output_type": "stream",
     "text": [
      "\u001b[4m\u001b[31mConversion between array and tensor:\u001b[0m\n",
      "\n",
      "    \u001b[1m\u001b[31mtensor([1, 2, 3, 4, 5, 6])\u001b[0m\n",
      "\n",
      "    \u001b[1m\u001b[31mtorch.LongTensor\u001b[0m\n",
      "\n",
      "    \u001b[1m\u001b[31m<class 'torch.Tensor'>\u001b[0m\n",
      "\n",
      "    \u001b[1m\u001b[31m[1 2 3 4 5 6]\u001b[0m\n",
      "\n",
      "    \u001b[1m\u001b[31m<class 'numpy.ndarray'>\u001b[0m\n"
     ]
    }
   ],
   "source": [
    "a = np.array([1, 2, 3, 4, 5, 6])\n",
    "tensor_cnv = torch.from_numpy(a)\n",
    "numpy_cnv = tensor_cnv.numpy()\n",
    "font_color_printer(\"Conversion between array and tensor:\",\n",
    "                   attrs=['underline'],\n",
    "                   end='\\n\\n\\t'.expandtabs(4))\n",
    "cprint(tensor_cnv, previous_color, attrs=['bold'],\n",
    "                   end='\\n\\n\\t'.expandtabs(4))\n",
    "cprint(tensor_cnv.type(), previous_color, attrs=['bold'],\n",
    "                   end='\\n\\n\\t'.expandtabs(4))\n",
    "cprint(type(tensor_cnv), previous_color, attrs=['bold'],\n",
    "                   end='\\n\\n\\t'.expandtabs(4))\n",
    "cprint(numpy_cnv, previous_color, attrs=['bold'],\n",
    "                   end='\\n\\n\\t'.expandtabs(4))\n",
    "cprint(type(numpy_cnv), previous_color, attrs=['bold'])"
   ]
  },
  {
   "cell_type": "markdown",
   "id": "b486bb0a",
   "metadata": {},
   "source": [
    "## Vector Operations"
   ]
  },
  {
   "cell_type": "code",
   "execution_count": 47,
   "id": "0d8db332",
   "metadata": {
    "ExecuteTime": {
     "end_time": "2022-10-13T19:04:52.383943Z",
     "start_time": "2022-10-13T19:04:52.371887Z"
    }
   },
   "outputs": [
    {
     "name": "stdout",
     "output_type": "stream",
     "text": [
      "\u001b[4m\u001b[36mOriginal tensors:\u001b[0m\n",
      "\n",
      "    \u001b[1m\u001b[36mtensor([1, 2, 3])\u001b[0m\n",
      "\n",
      "    \u001b[1m\u001b[36mtensor([1, 2, 3])\u001b[0m\n"
     ]
    }
   ],
   "source": [
    "t_one = torch.tensor([1, 2, 3])\n",
    "t_two = torch.tensor([1, 2, 3])\n",
    "font_color_printer(\"Original tensors:\",\n",
    "                   attrs=['underline'],\n",
    "                   end='\\n\\n\\t'.expandtabs(4))\n",
    "cprint(t_one, previous_color, attrs=['bold'],\n",
    "                   end='\\n\\n\\t'.expandtabs(4))\n",
    "cprint(t_two, previous_color, attrs=['bold'])"
   ]
  },
  {
   "cell_type": "code",
   "execution_count": 55,
   "id": "286863f8",
   "metadata": {
    "ExecuteTime": {
     "end_time": "2022-10-13T19:40:56.355694Z",
     "start_time": "2022-10-13T19:40:56.345727Z"
    }
   },
   "outputs": [
    {
     "name": "stdout",
     "output_type": "stream",
     "text": [
      "\u001b[31m-----  -----------------  ----------------\n",
      "Sun    tensor([1, 2, 3])  tensor([[1, 2],\n",
      "                                  [3, 4],\n",
      "                                  [5, 6]])\n",
      "Earth  6371               5973.6\n",
      "Moon   tensor([1, 2, 3])  tensor([[1, 2],\n",
      "                                  [3, 4],\n",
      "                                  [5, 6]])\n",
      "Mars   3390               641.85\n",
      "-----  -----------------  ----------------\u001b[0m\n"
     ]
    }
   ],
   "source": [
    "from tabulate import tabulate\n",
    "\n",
    "table = [[\"Sun\",t_one,v.view(3, 2)],[\"Earth\",6371,5973.6],\n",
    "         [\"Moon\",t_one,v.view(3, 2)],[\"Mars\",3390,641.85]]\n",
    "cprint(tabulate(table), 'red')"
   ]
  },
  {
   "cell_type": "code",
   "execution_count": null,
   "id": "4cadc3ac",
   "metadata": {},
   "outputs": [],
   "source": []
  },
  {
   "cell_type": "code",
   "execution_count": null,
   "id": "91f9d5fc",
   "metadata": {},
   "outputs": [],
   "source": []
  },
  {
   "cell_type": "code",
   "execution_count": 18,
   "id": "50782444",
   "metadata": {
    "ExecuteTime": {
     "end_time": "2022-10-13T15:36:29.095983Z",
     "start_time": "2022-10-13T15:36:29.093713Z"
    }
   },
   "outputs": [
    {
     "name": "stdout",
     "output_type": "stream",
     "text": [
      "tensor([2, 4, 6])\n",
      "tensor([1, 4, 9])\n",
      "tensor([ 5, 10, 15])\n"
     ]
    }
   ],
   "source": [
    "font_color_printer(\"Original tensors:\",\n",
    "                   attrs=['underline'],\n",
    "                   end='\\n\\n\\t'.expandtabs(4))\n",
    "\n",
    "\n",
    "\n",
    "\n",
    "\n",
    "\n",
    "\n",
    "\n",
    "\n",
    "\n",
    "t_one = torch.tensor([1, 2, 3])\n",
    "t_two = torch.tensor([1, 2, 3])\n",
    "print(t_one + t_two)\n",
    "print(t_one * t_two)\n",
    "print(t_one * 5)"
   ]
  },
  {
   "cell_type": "code",
   "execution_count": 19,
   "id": "0b840aea",
   "metadata": {
    "ExecuteTime": {
     "end_time": "2022-10-13T15:36:29.098753Z",
     "start_time": "2022-10-13T15:36:29.096865Z"
    }
   },
   "outputs": [
    {
     "name": "stdout",
     "output_type": "stream",
     "text": [
      "tensor(14)\n"
     ]
    }
   ],
   "source": [
    "dot_product = torch.dot(t_one, t_two)\n",
    "print(dot_product)"
   ]
  },
  {
   "cell_type": "code",
   "execution_count": 20,
   "id": "07d36773",
   "metadata": {
    "ExecuteTime": {
     "end_time": "2022-10-13T15:36:29.102431Z",
     "start_time": "2022-10-13T15:36:29.099606Z"
    }
   },
   "outputs": [
    {
     "name": "stdout",
     "output_type": "stream",
     "text": [
      "tensor([ 0.0000,  2.5000,  5.0000,  7.5000, 10.0000])\n",
      "tensor([1.0000e+00, 1.2182e+01, 1.4841e+02, 1.8080e+03, 2.2026e+04])\n"
     ]
    }
   ],
   "source": [
    "x = torch.linspace(0, 10, 5)\n",
    "y = torch.exp(x)\n",
    "print(x)\n",
    "print(y)"
   ]
  },
  {
   "cell_type": "code",
   "execution_count": 21,
   "id": "a87db616",
   "metadata": {
    "ExecuteTime": {
     "end_time": "2022-10-13T15:36:29.175175Z",
     "start_time": "2022-10-13T15:36:29.103341Z"
    }
   },
   "outputs": [
    {
     "data": {
      "text/plain": [
       "[<matplotlib.lines.Line2D at 0x10b4ac1c0>]"
      ]
     },
     "execution_count": 21,
     "metadata": {},
     "output_type": "execute_result"
    },
    {
     "data": {
      "image/png": "[encoded data removed]",
      "text/plain": [
       "<Figure size 1152x648 with 1 Axes>"
      ]
     },
     "metadata": {},
     "output_type": "display_data"
    }
   ],
   "source": [
    "colors = calm_color_generator(1)\n",
    "plt.plot(x.numpy(), y.numpy(), c=colors[0])"
   ]
  },
  {
   "cell_type": "code",
   "execution_count": 22,
   "id": "b6e4c53f",
   "metadata": {
    "ExecuteTime": {
     "end_time": "2022-10-13T15:36:29.241591Z",
     "start_time": "2022-10-13T15:36:29.176175Z"
    }
   },
   "outputs": [
    {
     "data": {
      "text/plain": [
       "[<matplotlib.lines.Line2D at 0x10b7b45e0>]"
      ]
     },
     "execution_count": 22,
     "metadata": {},
     "output_type": "execute_result"
    },
    {
     "data": {
      "image/png": "[encoded data removed]",
      "text/plain": [
       "<Figure size 1152x648 with 1 Axes>"
      ]
     },
     "metadata": {},
     "output_type": "display_data"
    }
   ],
   "source": [
    "x = torch.linspace(0, 10, 100)\n",
    "y = torch.exp(x)\n",
    "colors = calm_color_generator(1)\n",
    "plt.plot(x.numpy(), y.numpy(), c=colors[0])"
   ]
  },
  {
   "cell_type": "code",
   "execution_count": 23,
   "id": "2652775f",
   "metadata": {
    "ExecuteTime": {
     "end_time": "2022-10-13T15:36:29.318703Z",
     "start_time": "2022-10-13T15:36:29.242581Z"
    }
   },
   "outputs": [
    {
     "data": {
      "text/plain": [
       "[<matplotlib.lines.Line2D at 0x10b91cca0>]"
      ]
     },
     "execution_count": 23,
     "metadata": {},
     "output_type": "execute_result"
    },
    {
     "data": {
      "image/png": "[encoded data removed]",
      "text/plain": [
       "<Figure size 1152x648 with 1 Axes>"
      ]
     },
     "metadata": {},
     "output_type": "display_data"
    }
   ],
   "source": [
    "y = torch.sin(x)\n",
    "colors = calm_color_generator(1)\n",
    "plt.plot(x.numpy(), y.numpy(), c=colors[0])"
   ]
  },
  {
   "cell_type": "markdown",
   "id": "46c585e1",
   "metadata": {},
   "source": [
    "# 2 Dimensional Tensors"
   ]
  },
  {
   "cell_type": "code",
   "execution_count": 24,
   "id": "5d7e26bb",
   "metadata": {
    "ExecuteTime": {
     "end_time": "2022-10-13T15:36:29.322107Z",
     "start_time": "2022-10-13T15:36:29.319804Z"
    }
   },
   "outputs": [
    {
     "name": "stdout",
     "output_type": "stream",
     "text": [
      "tensor([2, 3, 4, 5, 6])\n"
     ]
    }
   ],
   "source": [
    "one_d = torch.arange(2, 7)\n",
    "print(one_d)"
   ]
  },
  {
   "cell_type": "code",
   "execution_count": 25,
   "id": "1f0767bb",
   "metadata": {
    "ExecuteTime": {
     "end_time": "2022-10-13T15:36:29.325158Z",
     "start_time": "2022-10-13T15:36:29.323297Z"
    }
   },
   "outputs": [
    {
     "name": "stdout",
     "output_type": "stream",
     "text": [
      "tensor([2, 4, 6])\n"
     ]
    }
   ],
   "source": [
    "one_d = torch.arange(2, 7, 2)\n",
    "print(one_d)"
   ]
  },
  {
   "cell_type": "code",
   "execution_count": 26,
   "id": "122749b3",
   "metadata": {
    "ExecuteTime": {
     "end_time": "2022-10-13T15:36:29.328334Z",
     "start_time": "2022-10-13T15:36:29.326206Z"
    }
   },
   "outputs": [
    {
     "name": "stdout",
     "output_type": "stream",
     "text": [
      "tensor([0, 1, 2, 3, 4, 5, 6, 7, 8])\n",
      "1\n"
     ]
    }
   ],
   "source": [
    "one_d = torch.arange(0, 9)\n",
    "print(one_d)\n",
    "print(one_d.dim())"
   ]
  },
  {
   "cell_type": "code",
   "execution_count": 27,
   "id": "36b6e479",
   "metadata": {
    "ExecuteTime": {
     "end_time": "2022-10-13T15:36:29.330989Z",
     "start_time": "2022-10-13T15:36:29.329222Z"
    }
   },
   "outputs": [
    {
     "name": "stdout",
     "output_type": "stream",
     "text": [
      "tensor([[0, 1, 2],\n",
      "        [3, 4, 5],\n",
      "        [6, 7, 8]])\n",
      "2\n"
     ]
    }
   ],
   "source": [
    "two_d = one_d.view(3, 3)\n",
    "print(two_d)\n",
    "print(two_d.dim())"
   ]
  },
  {
   "cell_type": "code",
   "execution_count": 28,
   "id": "d9bcd570",
   "metadata": {
    "ExecuteTime": {
     "end_time": "2022-10-13T15:36:29.337287Z",
     "start_time": "2022-10-13T15:36:29.334883Z"
    }
   },
   "outputs": [
    {
     "name": "stdout",
     "output_type": "stream",
     "text": [
      "tensor([0, 1, 2])\n",
      "tensor([0, 3, 6])\n",
      "tensor(0)\n",
      "tensor(5)\n"
     ]
    }
   ],
   "source": [
    "print(two_d[0])\n",
    "print(two_d[:, 0])\n",
    "print(two_d[0, 0])\n",
    "print(two_d[1, 2])"
   ]
  },
  {
   "cell_type": "code",
   "execution_count": 29,
   "id": "671e2a2a",
   "metadata": {
    "ExecuteTime": {
     "end_time": "2022-10-13T15:36:29.340458Z",
     "start_time": "2022-10-13T15:36:29.338542Z"
    }
   },
   "outputs": [
    {
     "name": "stdout",
     "output_type": "stream",
     "text": [
      "tensor([[[ 0,  1,  2],\n",
      "         [ 3,  4,  5],\n",
      "         [ 6,  7,  8]],\n",
      "\n",
      "        [[ 9, 10, 11],\n",
      "         [12, 13, 14],\n",
      "         [15, 16, 17]]])\n"
     ]
    }
   ],
   "source": [
    "three_d = torch.arange(18).view(2, 3, 3)\n",
    "print(three_d)"
   ]
  },
  {
   "cell_type": "code",
   "execution_count": 30,
   "id": "c95b629a",
   "metadata": {
    "ExecuteTime": {
     "end_time": "2022-10-13T15:36:29.343464Z",
     "start_time": "2022-10-13T15:36:29.341452Z"
    }
   },
   "outputs": [
    {
     "name": "stdout",
     "output_type": "stream",
     "text": [
      "tensor([[[ 0,  1,  2],\n",
      "         [ 3,  4,  5]],\n",
      "\n",
      "        [[ 6,  7,  8],\n",
      "         [ 9, 10, 11]],\n",
      "\n",
      "        [[12, 13, 14],\n",
      "         [15, 16, 17]]])\n"
     ]
    }
   ],
   "source": [
    "three_d = torch.arange(18).view(3, 2, 3)\n",
    "print(three_d)"
   ]
  },
  {
   "cell_type": "code",
   "execution_count": 31,
   "id": "e1c11f4e",
   "metadata": {
    "ExecuteTime": {
     "end_time": "2022-10-13T15:36:29.346400Z",
     "start_time": "2022-10-13T15:36:29.344212Z"
    }
   },
   "outputs": [
    {
     "name": "stdout",
     "output_type": "stream",
     "text": [
      "tensor([[[ 0,  1],\n",
      "         [ 2,  3],\n",
      "         [ 4,  5]],\n",
      "\n",
      "        [[ 6,  7],\n",
      "         [ 8,  9],\n",
      "         [10, 11]],\n",
      "\n",
      "        [[12, 13],\n",
      "         [14, 15],\n",
      "         [16, 17]]])\n"
     ]
    }
   ],
   "source": [
    "three_d = torch.arange(18).view(3, 3, 2)\n",
    "print(three_d)"
   ]
  },
  {
   "cell_type": "code",
   "execution_count": 32,
   "id": "e5a72399",
   "metadata": {
    "ExecuteTime": {
     "end_time": "2022-10-13T15:36:29.349455Z",
     "start_time": "2022-10-13T15:36:29.347111Z"
    }
   },
   "outputs": [
    {
     "name": "stdout",
     "output_type": "stream",
     "text": [
      "tensor([[[ 0,  1,  2,  3],\n",
      "         [ 4,  5,  6,  7],\n",
      "         [ 8,  9, 10, 11]],\n",
      "\n",
      "        [[12, 13, 14, 15],\n",
      "         [16, 17, 18, 19],\n",
      "         [20, 21, 22, 23]],\n",
      "\n",
      "        [[24, 25, 26, 27],\n",
      "         [28, 29, 30, 31],\n",
      "         [32, 33, 34, 35]]])\n"
     ]
    }
   ],
   "source": [
    "three_d = torch.arange(36).view(3, 3, 4)\n",
    "print(three_d)"
   ]
  },
  {
   "cell_type": "markdown",
   "id": "a3cdd36c",
   "metadata": {},
   "source": [
    "# Slicing 3D Tensors"
   ]
  },
  {
   "cell_type": "code",
   "execution_count": 33,
   "id": "a52007a8",
   "metadata": {
    "ExecuteTime": {
     "end_time": "2022-10-13T15:36:29.352462Z",
     "start_time": "2022-10-13T15:36:29.350116Z"
    }
   },
   "outputs": [
    {
     "name": "stdout",
     "output_type": "stream",
     "text": [
      "tensor([[[ 0,  1,  2],\n",
      "         [ 3,  4,  5]],\n",
      "\n",
      "        [[ 6,  7,  8],\n",
      "         [ 9, 10, 11]],\n",
      "\n",
      "        [[12, 13, 14],\n",
      "         [15, 16, 17]]])\n"
     ]
    }
   ],
   "source": [
    "three_d = torch.arange(18).view(3, 2, 3)\n",
    "print(three_d)"
   ]
  },
  {
   "cell_type": "code",
   "execution_count": 34,
   "id": "3c91fd5e",
   "metadata": {
    "ExecuteTime": {
     "end_time": "2022-10-13T15:36:29.355286Z",
     "start_time": "2022-10-13T15:36:29.353314Z"
    }
   },
   "outputs": [
    {
     "name": "stdout",
     "output_type": "stream",
     "text": [
      "tensor(10)\n"
     ]
    }
   ],
   "source": [
    "print(three_d[1, 1, 1])"
   ]
  },
  {
   "cell_type": "code",
   "execution_count": 35,
   "id": "3e83e705",
   "metadata": {
    "ExecuteTime": {
     "end_time": "2022-10-13T15:36:29.358372Z",
     "start_time": "2022-10-13T15:36:29.356151Z"
    }
   },
   "outputs": [
    {
     "name": "stdout",
     "output_type": "stream",
     "text": [
      "tensor([[ 7,  8],\n",
      "        [10, 11]])\n"
     ]
    }
   ],
   "source": [
    "print(three_d[1, 0:2, 1:3])"
   ]
  },
  {
   "cell_type": "code",
   "execution_count": 36,
   "id": "080fddf2",
   "metadata": {
    "ExecuteTime": {
     "end_time": "2022-10-13T15:36:29.361003Z",
     "start_time": "2022-10-13T15:36:29.359081Z"
    }
   },
   "outputs": [
    {
     "name": "stdout",
     "output_type": "stream",
     "text": [
      "tensor([[ 6,  7,  8],\n",
      "        [ 9, 10, 11]])\n"
     ]
    }
   ],
   "source": [
    "print(three_d[1, 0:2, 0:3])"
   ]
  },
  {
   "cell_type": "code",
   "execution_count": 37,
   "id": "87b4687c",
   "metadata": {
    "ExecuteTime": {
     "end_time": "2022-10-13T15:36:29.363278Z",
     "start_time": "2022-10-13T15:36:29.361755Z"
    }
   },
   "outputs": [
    {
     "name": "stdout",
     "output_type": "stream",
     "text": [
      "tensor([[ 6,  7,  8],\n",
      "        [ 9, 10, 11]])\n"
     ]
    }
   ],
   "source": [
    "print(three_d[1, :, :])"
   ]
  },
  {
   "cell_type": "markdown",
   "id": "22daeca9",
   "metadata": {},
   "source": [
    "# Matrix Multiplication"
   ]
  },
  {
   "cell_type": "code",
   "execution_count": 38,
   "id": "89c0a7cf",
   "metadata": {
    "ExecuteTime": {
     "end_time": "2022-10-13T15:36:29.365817Z",
     "start_time": "2022-10-13T15:36:29.363968Z"
    }
   },
   "outputs": [
    {
     "name": "stdout",
     "output_type": "stream",
     "text": [
      "tensor([[0, 3, 5],\n",
      "        [5, 5, 2]])\n"
     ]
    }
   ],
   "source": [
    "mat_a = torch.tensor([0, 3, 5, 5, 5, 2]).view(2, 3)\n",
    "print(mat_a)"
   ]
  },
  {
   "cell_type": "code",
   "execution_count": 39,
   "id": "222c3bb2",
   "metadata": {
    "ExecuteTime": {
     "end_time": "2022-10-13T15:36:29.368526Z",
     "start_time": "2022-10-13T15:36:29.366448Z"
    }
   },
   "outputs": [
    {
     "name": "stdout",
     "output_type": "stream",
     "text": [
      "tensor([[ 3,  4],\n",
      "        [ 3, -2],\n",
      "        [ 4, -2]])\n"
     ]
    }
   ],
   "source": [
    "mat_b = torch.tensor([3, 4, 3, -2, 4, -2]).view(3, 2)\n",
    "print(mat_b)"
   ]
  },
  {
   "cell_type": "code",
   "execution_count": 40,
   "id": "91e4e6c0",
   "metadata": {
    "ExecuteTime": {
     "end_time": "2022-10-13T15:36:29.371276Z",
     "start_time": "2022-10-13T15:36:29.369348Z"
    }
   },
   "outputs": [
    {
     "name": "stdout",
     "output_type": "stream",
     "text": [
      "tensor([[ 29, -16],\n",
      "        [ 38,   6]])\n"
     ]
    }
   ],
   "source": [
    "print(torch.matmul(mat_a, mat_b))"
   ]
  },
  {
   "cell_type": "code",
   "execution_count": 41,
   "id": "71ac47af",
   "metadata": {
    "ExecuteTime": {
     "end_time": "2022-10-13T15:36:29.373978Z",
     "start_time": "2022-10-13T15:36:29.372092Z"
    }
   },
   "outputs": [
    {
     "name": "stdout",
     "output_type": "stream",
     "text": [
      "tensor([[ 29, -16],\n",
      "        [ 38,   6]])\n"
     ]
    }
   ],
   "source": [
    "print(mat_a @ mat_b)"
   ]
  },
  {
   "cell_type": "markdown",
   "id": "838a8fc2",
   "metadata": {},
   "source": [
    "# Gradient with PyTorch"
   ]
  },
  {
   "cell_type": "code",
   "execution_count": 42,
   "id": "bac10dab",
   "metadata": {
    "ExecuteTime": {
     "end_time": "2022-10-13T15:36:29.379116Z",
     "start_time": "2022-10-13T15:36:29.376872Z"
    }
   },
   "outputs": [
    {
     "name": "stdout",
     "output_type": "stream",
     "text": [
      "tensor(2.)\n"
     ]
    }
   ],
   "source": [
    "x = torch.tensor(2.0)\n",
    "print(x)"
   ]
  },
  {
   "cell_type": "code",
   "execution_count": 43,
   "id": "4a05f209",
   "metadata": {
    "ExecuteTime": {
     "end_time": "2022-10-13T15:36:29.381984Z",
     "start_time": "2022-10-13T15:36:29.379935Z"
    }
   },
   "outputs": [
    {
     "name": "stdout",
     "output_type": "stream",
     "text": [
      "tensor(2., requires_grad=True)\n"
     ]
    }
   ],
   "source": [
    "x = torch.tensor(2.0, requires_grad=True)\n",
    "print(x)"
   ]
  },
  {
   "cell_type": "code",
   "execution_count": 44,
   "id": "d5935855",
   "metadata": {
    "ExecuteTime": {
     "end_time": "2022-10-13T15:36:29.395282Z",
     "start_time": "2022-10-13T15:36:29.382634Z"
    }
   },
   "outputs": [
    {
     "name": "stdout",
     "output_type": "stream",
     "text": [
      "tensor(330.)\n"
     ]
    }
   ],
   "source": [
    "y = 9 * x**4 + 2 * x**3 + 3 * x**2 + 6 * x + 1\n",
    "y.backward()\n",
    "print(x.grad)"
   ]
  },
  {
   "cell_type": "code",
   "execution_count": 45,
   "id": "96ff0389",
   "metadata": {
    "ExecuteTime": {
     "end_time": "2022-10-13T15:36:29.398813Z",
     "start_time": "2022-10-13T15:36:29.396200Z"
    }
   },
   "outputs": [
    {
     "name": "stdout",
     "output_type": "stream",
     "text": [
      "tensor(2.)\n",
      "tensor(12.)\n"
     ]
    }
   ],
   "source": [
    "x = torch.tensor(1.0, requires_grad=True)\n",
    "z = torch.tensor(2.0, requires_grad=True)\n",
    "y = x**2 + z**3\n",
    "y.backward()\n",
    "print(x.grad)\n",
    "print(z.grad)"
   ]
  }
 ],
 "metadata": {
  "hide_input": false,
  "kernelspec": {
   "display_name": "Python 3 (ipykernel)",
   "language": "python",
   "name": "python3"
  },
  "language_info": {
   "codemirror_mode": {
    "name": "ipython",
    "version": 3
   },
   "file_extension": ".py",
   "mimetype": "text/x-python",
   "name": "python",
   "nbconvert_exporter": "python",
   "pygments_lexer": "ipython3",
   "version": "3.9.12"
  },
  "latex_envs": {
   "LaTeX_envs_menu_present": true,
   "autoclose": false,
   "autocomplete": true,
   "bibliofile": "biblio.bib",
   "cite_by": "apalike",
   "current_citInitial": 1,
   "eqLabelWithNumbers": true,
   "eqNumInitial": 1,
   "hotkeys": {
    "equation": "Ctrl-E",
    "itemize": "Ctrl-I"
   },
   "labels_anchors": false,
   "latex_user_defs": false,
   "report_style_numbering": false,
   "user_envs_cfg": false
  },
  "nbTranslate": {
   "displayLangs": [
    "*"
   ],
   "hotkey": "alt-t",
   "langInMainMenu": true,
   "sourceLang": "en",
   "targetLang": "fr",
   "useGoogleTranslate": true
  },
  "toc": {
   "base_numbering": 1,
   "nav_menu": {},
   "number_sections": true,
   "sideBar": true,
   "skip_h1_title": false,
   "title_cell": "Table of Contents",
   "title_sidebar": "Contents",
   "toc_cell": false,
   "toc_position": {
    "height": "calc(100% - 180px)",
    "left": "10px",
    "top": "150px",
    "width": "345.594px"
   },
   "toc_section_display": true,
   "toc_window_display": true
  }
 },
 "nbformat": 4,
 "nbformat_minor": 5
}

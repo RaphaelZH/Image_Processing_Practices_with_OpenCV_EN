{
 "cells": [
  {
   "cell_type": "markdown",
   "id": "06d5b7bd",
   "metadata": {},
   "source": [
    "<h1><span class=\"tocSkip\"></span>Table of Contents</h1>\n",
    "\n",
    "* <a href=\"#Importing-Libraries\">1 Importing Libraries</a>\n",
    "\n",
    "* <a href=\"#Pre-installing-Required-Functions\">2 Pre-installing Required Functions</a>\n",
    "\n",
    "* <a href=\"#1-Dimensional-Tensors\">3 1 Dimensional Tensors</a>\n",
    "\n",
    "* <a href=\"#Vector-Operations\">4 Vector Operations</a>\n",
    "\n",
    "* <a href=\"#2-Dimensional-Tensors\">5 2 Dimensional Tensors</a>\n",
    "\n",
    "* <a href=\"#Slicing-3D-Tensors\">6 Slicing 3D Tensors</a>\n",
    "\n",
    "* <a href=\"#Matrix-Multiplication\">7 Matrix Multiplication</a>\n",
    "\n",
    "* <a href=\"#Gradient-with-PyTorch\">8 Gradient with PyTorch</a>"
   ]
  },
  {
   "cell_type": "markdown",
   "id": "38a7fe70",
   "metadata": {},
   "source": [
    "# Importing Libraries"
   ]
  },
  {
   "cell_type": "code",
   "execution_count": 1,
   "id": "c141e947",
   "metadata": {
    "ExecuteTime": {
     "end_time": "2022-10-02T20:29:30.331915Z",
     "start_time": "2022-10-02T20:29:29.709604Z"
    }
   },
   "outputs": [],
   "source": [
    "import matplotlib as mpl\n",
    "import numpy as np\n",
    "import colorsys\n",
    "import torch\n",
    "import matplotlib.pyplot as plt"
   ]
  },
  {
   "cell_type": "markdown",
   "id": "7fc4fbe3",
   "metadata": {},
   "source": [
    "# Pre-installing Required Functions"
   ]
  },
  {
   "cell_type": "code",
   "execution_count": 2,
   "id": "e700f2bf",
   "metadata": {
    "ExecuteTime": {
     "end_time": "2022-10-02T20:29:30.335483Z",
     "start_time": "2022-10-02T20:29:30.333066Z"
    }
   },
   "outputs": [],
   "source": [
    "bg_color = '#fdfcf6'\n",
    "\n",
    "custom_params = {\n",
    "    'axes.facecolor': bg_color,\n",
    "    'axes.edgecolor': 'white',\n",
    "    'axes.grid': True,\n",
    "    'axes.axisbelow': True,\n",
    "    'figure.facecolor': bg_color,\n",
    "    'grid.color': 'white',\n",
    "    'grid.linestyle': '-',\n",
    "    'grid.linewidth': 2,\n",
    "    'xtick.direction': 'out',\n",
    "    'ytick.direction': 'out',\n",
    "    'patch.edgecolor': 'w',\n",
    "    'patch.force_edgecolor': True,\n",
    "    'axes.spines.right': False,\n",
    "    'axes.spines.top': False\n",
    "}\n",
    "\n",
    "mpl.rcParams.update(custom_params)"
   ]
  },
  {
   "cell_type": "code",
   "execution_count": 3,
   "id": "ad46b82b",
   "metadata": {
    "ExecuteTime": {
     "end_time": "2022-10-02T20:29:30.339348Z",
     "start_time": "2022-10-02T20:29:30.336706Z"
    }
   },
   "outputs": [],
   "source": [
    "def bright_colors(n):\n",
    "    colors = []\n",
    "    random_degree = np.random.random()\n",
    "    hue = np.repeat(random_degree / n, n)\n",
    "    hue_interval = np.linspace(0, 1, n, endpoint=False)\n",
    "    saturation = 0.875 + np.random.random() / 8.0 * np.random.choice([-1, 1])\n",
    "    lightness = 0.625 + np.random.random() / 8.0 * np.random.choice([-1, 1])\n",
    "    h = hue + hue_interval\n",
    "    s = np.repeat(saturation, n)\n",
    "    l = np.repeat(lightness, n)\n",
    "    array_hls = np.concatenate((h, l, s)).reshape(-1, n).T\n",
    "    for hls in array_hls:\n",
    "        r, g, b = [\n",
    "            int(256 * e) for e in colorsys.hls_to_rgb(hls[0], hls[1], hls[2])\n",
    "        ]\n",
    "        colors.append('#%02X%02X%02X' % (r, g, b))\n",
    "    return colors"
   ]
  },
  {
   "cell_type": "markdown",
   "id": "8cd6fa88",
   "metadata": {},
   "source": [
    "# 1 Dimensional Tensors"
   ]
  },
  {
   "cell_type": "code",
   "execution_count": 4,
   "id": "0152cded",
   "metadata": {
    "ExecuteTime": {
     "end_time": "2022-10-02T20:29:30.343218Z",
     "start_time": "2022-10-02T20:29:30.340888Z"
    }
   },
   "outputs": [
    {
     "name": "stdout",
     "output_type": "stream",
     "text": [
      "tensor([1, 2, 3, 4, 5, 6])\n",
      "torch.int64\n",
      "torch.LongTensor\n"
     ]
    }
   ],
   "source": [
    "v = torch.tensor([1, 2, 3, 4, 5, 6])\n",
    "print(v)\n",
    "print(v.dtype)\n",
    "print(v.type())"
   ]
  },
  {
   "cell_type": "code",
   "execution_count": 5,
   "id": "87033e2e",
   "metadata": {
    "ExecuteTime": {
     "end_time": "2022-10-02T20:29:30.346276Z",
     "start_time": "2022-10-02T20:29:30.343972Z"
    }
   },
   "outputs": [
    {
     "name": "stdout",
     "output_type": "stream",
     "text": [
      "tensor(1)\n",
      "tensor([2, 3, 4, 5])\n",
      "tensor(6)\n"
     ]
    }
   ],
   "source": [
    "print(v[0])\n",
    "print(v[1:-1])\n",
    "print(v[-1])"
   ]
  },
  {
   "cell_type": "code",
   "execution_count": 6,
   "id": "64f06149",
   "metadata": {
    "ExecuteTime": {
     "end_time": "2022-10-02T20:29:30.349611Z",
     "start_time": "2022-10-02T20:29:30.347255Z"
    }
   },
   "outputs": [
    {
     "name": "stdout",
     "output_type": "stream",
     "text": [
      "tensor([1., 2., 3., 4., 5., 6.])\n",
      "torch.float32\n",
      "torch.FloatTensor\n"
     ]
    }
   ],
   "source": [
    "f = torch.FloatTensor([1, 2, 3, 4, 5, 6])\n",
    "print(f)\n",
    "print(f.dtype)\n",
    "print(f.type())"
   ]
  },
  {
   "cell_type": "code",
   "execution_count": 7,
   "id": "0fac75c0",
   "metadata": {
    "ExecuteTime": {
     "end_time": "2022-10-02T20:29:30.352551Z",
     "start_time": "2022-10-02T20:29:30.350392Z"
    }
   },
   "outputs": [
    {
     "name": "stdout",
     "output_type": "stream",
     "text": [
      "tensor([[1],\n",
      "        [2],\n",
      "        [3],\n",
      "        [4],\n",
      "        [5],\n",
      "        [6]])\n"
     ]
    }
   ],
   "source": [
    "print(v.view(6, 1))"
   ]
  },
  {
   "cell_type": "code",
   "execution_count": 8,
   "id": "a9b4fa2e",
   "metadata": {
    "ExecuteTime": {
     "end_time": "2022-10-02T20:29:30.355253Z",
     "start_time": "2022-10-02T20:29:30.353255Z"
    }
   },
   "outputs": [
    {
     "name": "stdout",
     "output_type": "stream",
     "text": [
      "tensor([[1, 2],\n",
      "        [3, 4],\n",
      "        [5, 6]])\n"
     ]
    }
   ],
   "source": [
    "print(v.view(3, 2))"
   ]
  },
  {
   "cell_type": "code",
   "execution_count": 9,
   "id": "9eaff7ad",
   "metadata": {
    "ExecuteTime": {
     "end_time": "2022-10-02T20:29:30.358012Z",
     "start_time": "2022-10-02T20:29:30.356118Z"
    }
   },
   "outputs": [
    {
     "name": "stdout",
     "output_type": "stream",
     "text": [
      "tensor([[1, 2],\n",
      "        [3, 4],\n",
      "        [5, 6]])\n"
     ]
    }
   ],
   "source": [
    "print(v.view(3, -1))"
   ]
  },
  {
   "cell_type": "code",
   "execution_count": 10,
   "id": "dca87da3",
   "metadata": {
    "ExecuteTime": {
     "end_time": "2022-10-02T20:29:30.362256Z",
     "start_time": "2022-10-02T20:29:30.360132Z"
    }
   },
   "outputs": [
    {
     "name": "stdout",
     "output_type": "stream",
     "text": [
      "tensor([1, 2, 3, 4, 5, 6])\n",
      "torch.LongTensor\n"
     ]
    }
   ],
   "source": [
    "a = np.array([1, 2, 3, 4, 5, 6])\n",
    "tensor_cnv = torch.from_numpy(a)\n",
    "print(tensor_cnv)\n",
    "print(tensor_cnv.type())"
   ]
  },
  {
   "cell_type": "code",
   "execution_count": 11,
   "id": "dc117667",
   "metadata": {
    "ExecuteTime": {
     "end_time": "2022-10-02T20:29:30.365129Z",
     "start_time": "2022-10-02T20:29:30.363289Z"
    }
   },
   "outputs": [
    {
     "name": "stdout",
     "output_type": "stream",
     "text": [
      "[1 2 3 4 5 6]\n",
      "<class 'numpy.ndarray'>\n"
     ]
    }
   ],
   "source": [
    "numpy_cnv = tensor_cnv.numpy()\n",
    "print(numpy_cnv)\n",
    "print(type(numpy_cnv))"
   ]
  },
  {
   "cell_type": "markdown",
   "id": "b486bb0a",
   "metadata": {},
   "source": [
    "# Vector Operations"
   ]
  },
  {
   "cell_type": "code",
   "execution_count": 12,
   "id": "50782444",
   "metadata": {
    "ExecuteTime": {
     "end_time": "2022-10-02T20:29:30.368541Z",
     "start_time": "2022-10-02T20:29:30.366039Z"
    }
   },
   "outputs": [
    {
     "name": "stdout",
     "output_type": "stream",
     "text": [
      "tensor([2, 4, 6])\n",
      "tensor([1, 4, 9])\n",
      "tensor([ 5, 10, 15])\n"
     ]
    }
   ],
   "source": [
    "t_one = torch.tensor([1, 2, 3])\n",
    "t_two = torch.tensor([1, 2, 3])\n",
    "print(t_one + t_two)\n",
    "print(t_one * t_two)\n",
    "print(t_one * 5)"
   ]
  },
  {
   "cell_type": "code",
   "execution_count": 13,
   "id": "0b840aea",
   "metadata": {
    "ExecuteTime": {
     "end_time": "2022-10-02T20:29:30.371277Z",
     "start_time": "2022-10-02T20:29:30.369412Z"
    }
   },
   "outputs": [
    {
     "name": "stdout",
     "output_type": "stream",
     "text": [
      "tensor(14)\n"
     ]
    }
   ],
   "source": [
    "dot_product = torch.dot(t_one, t_two)\n",
    "print(dot_product)"
   ]
  },
  {
   "cell_type": "code",
   "execution_count": 14,
   "id": "07d36773",
   "metadata": {
    "ExecuteTime": {
     "end_time": "2022-10-02T20:29:30.374671Z",
     "start_time": "2022-10-02T20:29:30.371969Z"
    }
   },
   "outputs": [
    {
     "name": "stdout",
     "output_type": "stream",
     "text": [
      "tensor([ 0.0000,  2.5000,  5.0000,  7.5000, 10.0000])\n",
      "tensor([1.0000e+00, 1.2182e+01, 1.4841e+02, 1.8080e+03, 2.2026e+04])\n"
     ]
    }
   ],
   "source": [
    "x = torch.linspace(0, 10, 5)\n",
    "y = torch.exp(x)\n",
    "print(x)\n",
    "print(y)"
   ]
  },
  {
   "cell_type": "code",
   "execution_count": 15,
   "id": "a87db616",
   "metadata": {
    "ExecuteTime": {
     "end_time": "2022-10-02T20:29:30.427646Z",
     "start_time": "2022-10-02T20:29:30.375484Z"
    }
   },
   "outputs": [
    {
     "data": {
      "text/plain": [
       "[<matplotlib.lines.Line2D at 0x146ee19d0>]"
      ]
     },
     "execution_count": 15,
     "metadata": {},
     "output_type": "execute_result"
    },
    {
     "data": {
      "image/png": "[encoded data removed]",
      "text/plain": [
       "<Figure size 432x288 with 1 Axes>"
      ]
     },
     "metadata": {
      "needs_background": "light"
     },
     "output_type": "display_data"
    }
   ],
   "source": [
    "colors = bright_colors(1)\n",
    "plt.plot(x.numpy(), y.numpy(), c=colors[0])"
   ]
  },
  {
   "cell_type": "code",
   "execution_count": 16,
   "id": "b6e4c53f",
   "metadata": {
    "ExecuteTime": {
     "end_time": "2022-10-02T20:29:30.468195Z",
     "start_time": "2022-10-02T20:29:30.428620Z"
    }
   },
   "outputs": [
    {
     "data": {
      "text/plain": [
       "[<matplotlib.lines.Line2D at 0x146feb100>]"
      ]
     },
     "execution_count": 16,
     "metadata": {},
     "output_type": "execute_result"
    },
    {
     "data": {
      "image/png": "[encoded data removed]",
      "text/plain": [
       "<Figure size 432x288 with 1 Axes>"
      ]
     },
     "metadata": {
      "needs_background": "light"
     },
     "output_type": "display_data"
    }
   ],
   "source": [
    "x = torch.linspace(0, 10, 100)\n",
    "y = torch.exp(x)\n",
    "colors = bright_colors(1)\n",
    "plt.plot(x.numpy(), y.numpy(), c=colors[0])"
   ]
  },
  {
   "cell_type": "code",
   "execution_count": 17,
   "id": "2652775f",
   "metadata": {
    "ExecuteTime": {
     "end_time": "2022-10-02T20:29:30.516082Z",
     "start_time": "2022-10-02T20:29:30.469117Z"
    }
   },
   "outputs": [
    {
     "data": {
      "text/plain": [
       "[<matplotlib.lines.Line2D at 0x14714ce20>]"
      ]
     },
     "execution_count": 17,
     "metadata": {},
     "output_type": "execute_result"
    },
    {
     "data": {
      "image/png": "[encoded data removed]",
      "text/plain": [
       "<Figure size 432x288 with 1 Axes>"
      ]
     },
     "metadata": {
      "needs_background": "light"
     },
     "output_type": "display_data"
    }
   ],
   "source": [
    "y = torch.sin(x)\n",
    "colors = bright_colors(1)\n",
    "plt.plot(x.numpy(), y.numpy(), c=colors[0])"
   ]
  },
  {
   "cell_type": "markdown",
   "id": "46c585e1",
   "metadata": {},
   "source": [
    "# 2 Dimensional Tensors"
   ]
  },
  {
   "cell_type": "code",
   "execution_count": 18,
   "id": "5d7e26bb",
   "metadata": {
    "ExecuteTime": {
     "end_time": "2022-10-02T20:29:30.519780Z",
     "start_time": "2022-10-02T20:29:30.517484Z"
    }
   },
   "outputs": [
    {
     "name": "stdout",
     "output_type": "stream",
     "text": [
      "tensor([2, 3, 4, 5, 6])\n"
     ]
    }
   ],
   "source": [
    "one_d = torch.arange(2, 7)\n",
    "print(one_d)"
   ]
  },
  {
   "cell_type": "code",
   "execution_count": 19,
   "id": "1f0767bb",
   "metadata": {
    "ExecuteTime": {
     "end_time": "2022-10-02T20:29:30.522953Z",
     "start_time": "2022-10-02T20:29:30.520912Z"
    }
   },
   "outputs": [
    {
     "name": "stdout",
     "output_type": "stream",
     "text": [
      "tensor([2, 4, 6])\n"
     ]
    }
   ],
   "source": [
    "one_d = torch.arange(2, 7, 2)\n",
    "print(one_d)"
   ]
  },
  {
   "cell_type": "code",
   "execution_count": 20,
   "id": "122749b3",
   "metadata": {
    "ExecuteTime": {
     "end_time": "2022-10-02T20:29:30.526070Z",
     "start_time": "2022-10-02T20:29:30.524050Z"
    }
   },
   "outputs": [
    {
     "name": "stdout",
     "output_type": "stream",
     "text": [
      "tensor([0, 1, 2, 3, 4, 5, 6, 7, 8])\n",
      "1\n"
     ]
    }
   ],
   "source": [
    "one_d = torch.arange(0, 9)\n",
    "print(one_d)\n",
    "print(one_d.dim())"
   ]
  },
  {
   "cell_type": "code",
   "execution_count": 21,
   "id": "36b6e479",
   "metadata": {
    "ExecuteTime": {
     "end_time": "2022-10-02T20:29:30.529446Z",
     "start_time": "2022-10-02T20:29:30.527349Z"
    }
   },
   "outputs": [
    {
     "name": "stdout",
     "output_type": "stream",
     "text": [
      "tensor([[0, 1, 2],\n",
      "        [3, 4, 5],\n",
      "        [6, 7, 8]])\n",
      "2\n"
     ]
    }
   ],
   "source": [
    "two_d = one_d.view(3, 3)\n",
    "print(two_d)\n",
    "print(two_d.dim())"
   ]
  },
  {
   "cell_type": "code",
   "execution_count": 22,
   "id": "d9bcd570",
   "metadata": {
    "ExecuteTime": {
     "end_time": "2022-10-02T20:29:30.533312Z",
     "start_time": "2022-10-02T20:29:30.530591Z"
    }
   },
   "outputs": [
    {
     "name": "stdout",
     "output_type": "stream",
     "text": [
      "tensor([0, 1, 2])\n",
      "tensor([0, 3, 6])\n",
      "tensor(0)\n",
      "tensor(5)\n"
     ]
    }
   ],
   "source": [
    "print(two_d[0])\n",
    "print(two_d[:, 0])\n",
    "print(two_d[0, 0])\n",
    "print(two_d[1, 2])"
   ]
  },
  {
   "cell_type": "code",
   "execution_count": 23,
   "id": "671e2a2a",
   "metadata": {
    "ExecuteTime": {
     "end_time": "2022-10-02T20:29:30.536511Z",
     "start_time": "2022-10-02T20:29:30.534358Z"
    }
   },
   "outputs": [
    {
     "name": "stdout",
     "output_type": "stream",
     "text": [
      "tensor([[[ 0,  1,  2],\n",
      "         [ 3,  4,  5],\n",
      "         [ 6,  7,  8]],\n",
      "\n",
      "        [[ 9, 10, 11],\n",
      "         [12, 13, 14],\n",
      "         [15, 16, 17]]])\n"
     ]
    }
   ],
   "source": [
    "three_d = torch.arange(18).view(2, 3, 3)\n",
    "print(three_d)"
   ]
  },
  {
   "cell_type": "code",
   "execution_count": 24,
   "id": "c95b629a",
   "metadata": {
    "ExecuteTime": {
     "end_time": "2022-10-02T20:29:30.539534Z",
     "start_time": "2022-10-02T20:29:30.537526Z"
    }
   },
   "outputs": [
    {
     "name": "stdout",
     "output_type": "stream",
     "text": [
      "tensor([[[ 0,  1,  2],\n",
      "         [ 3,  4,  5]],\n",
      "\n",
      "        [[ 6,  7,  8],\n",
      "         [ 9, 10, 11]],\n",
      "\n",
      "        [[12, 13, 14],\n",
      "         [15, 16, 17]]])\n"
     ]
    }
   ],
   "source": [
    "three_d = torch.arange(18).view(3, 2, 3)\n",
    "print(three_d)"
   ]
  },
  {
   "cell_type": "code",
   "execution_count": 25,
   "id": "e1c11f4e",
   "metadata": {
    "ExecuteTime": {
     "end_time": "2022-10-02T20:29:30.542985Z",
     "start_time": "2022-10-02T20:29:30.540957Z"
    }
   },
   "outputs": [
    {
     "name": "stdout",
     "output_type": "stream",
     "text": [
      "tensor([[[ 0,  1],\n",
      "         [ 2,  3],\n",
      "         [ 4,  5]],\n",
      "\n",
      "        [[ 6,  7],\n",
      "         [ 8,  9],\n",
      "         [10, 11]],\n",
      "\n",
      "        [[12, 13],\n",
      "         [14, 15],\n",
      "         [16, 17]]])\n"
     ]
    }
   ],
   "source": [
    "three_d = torch.arange(18).view(3, 3, 2)\n",
    "print(three_d)"
   ]
  },
  {
   "cell_type": "code",
   "execution_count": 26,
   "id": "e5a72399",
   "metadata": {
    "ExecuteTime": {
     "end_time": "2022-10-02T20:29:30.546391Z",
     "start_time": "2022-10-02T20:29:30.544186Z"
    }
   },
   "outputs": [
    {
     "name": "stdout",
     "output_type": "stream",
     "text": [
      "tensor([[[ 0,  1,  2,  3],\n",
      "         [ 4,  5,  6,  7],\n",
      "         [ 8,  9, 10, 11]],\n",
      "\n",
      "        [[12, 13, 14, 15],\n",
      "         [16, 17, 18, 19],\n",
      "         [20, 21, 22, 23]],\n",
      "\n",
      "        [[24, 25, 26, 27],\n",
      "         [28, 29, 30, 31],\n",
      "         [32, 33, 34, 35]]])\n"
     ]
    }
   ],
   "source": [
    "three_d = torch.arange(36).view(3, 3, 4)\n",
    "print(three_d)"
   ]
  },
  {
   "cell_type": "markdown",
   "id": "a3cdd36c",
   "metadata": {},
   "source": [
    "# Slicing 3D Tensors"
   ]
  },
  {
   "cell_type": "code",
   "execution_count": 27,
   "id": "a52007a8",
   "metadata": {
    "ExecuteTime": {
     "end_time": "2022-10-02T20:29:30.549571Z",
     "start_time": "2022-10-02T20:29:30.547390Z"
    }
   },
   "outputs": [
    {
     "name": "stdout",
     "output_type": "stream",
     "text": [
      "tensor([[[ 0,  1,  2],\n",
      "         [ 3,  4,  5]],\n",
      "\n",
      "        [[ 6,  7,  8],\n",
      "         [ 9, 10, 11]],\n",
      "\n",
      "        [[12, 13, 14],\n",
      "         [15, 16, 17]]])\n"
     ]
    }
   ],
   "source": [
    "three_d = torch.arange(18).view(3, 2, 3)\n",
    "print(three_d)"
   ]
  },
  {
   "cell_type": "code",
   "execution_count": 28,
   "id": "3c91fd5e",
   "metadata": {
    "ExecuteTime": {
     "end_time": "2022-10-02T20:29:30.555037Z",
     "start_time": "2022-10-02T20:29:30.553392Z"
    }
   },
   "outputs": [
    {
     "name": "stdout",
     "output_type": "stream",
     "text": [
      "tensor(10)\n"
     ]
    }
   ],
   "source": [
    "print(three_d[1, 1, 1])"
   ]
  },
  {
   "cell_type": "code",
   "execution_count": 29,
   "id": "3e83e705",
   "metadata": {
    "ExecuteTime": {
     "end_time": "2022-10-02T20:29:30.557504Z",
     "start_time": "2022-10-02T20:29:30.555716Z"
    }
   },
   "outputs": [
    {
     "name": "stdout",
     "output_type": "stream",
     "text": [
      "tensor([[ 7,  8],\n",
      "        [10, 11]])\n"
     ]
    }
   ],
   "source": [
    "print(three_d[1, 0:2, 1:3])"
   ]
  },
  {
   "cell_type": "code",
   "execution_count": 30,
   "id": "080fddf2",
   "metadata": {
    "ExecuteTime": {
     "end_time": "2022-10-02T20:29:30.560040Z",
     "start_time": "2022-10-02T20:29:30.558287Z"
    }
   },
   "outputs": [
    {
     "name": "stdout",
     "output_type": "stream",
     "text": [
      "tensor([[ 6,  7,  8],\n",
      "        [ 9, 10, 11]])\n"
     ]
    }
   ],
   "source": [
    "print(three_d[1, 0:2, 0:3])"
   ]
  },
  {
   "cell_type": "code",
   "execution_count": 31,
   "id": "87b4687c",
   "metadata": {
    "ExecuteTime": {
     "end_time": "2022-10-02T20:29:30.562380Z",
     "start_time": "2022-10-02T20:29:30.560902Z"
    }
   },
   "outputs": [
    {
     "name": "stdout",
     "output_type": "stream",
     "text": [
      "tensor([[ 6,  7,  8],\n",
      "        [ 9, 10, 11]])\n"
     ]
    }
   ],
   "source": [
    "print(three_d[1, :, :])"
   ]
  },
  {
   "cell_type": "markdown",
   "id": "22daeca9",
   "metadata": {},
   "source": [
    "# Matrix Multiplication"
   ]
  },
  {
   "cell_type": "code",
   "execution_count": 32,
   "id": "89c0a7cf",
   "metadata": {
    "ExecuteTime": {
     "end_time": "2022-10-02T20:29:30.565106Z",
     "start_time": "2022-10-02T20:29:30.562997Z"
    }
   },
   "outputs": [
    {
     "name": "stdout",
     "output_type": "stream",
     "text": [
      "tensor([[0, 3, 5],\n",
      "        [5, 5, 2]])\n"
     ]
    }
   ],
   "source": [
    "mat_a = torch.tensor([0, 3, 5, 5, 5, 2]).view(2, 3)\n",
    "print(mat_a)"
   ]
  },
  {
   "cell_type": "code",
   "execution_count": 33,
   "id": "222c3bb2",
   "metadata": {
    "ExecuteTime": {
     "end_time": "2022-10-02T20:29:30.567924Z",
     "start_time": "2022-10-02T20:29:30.565942Z"
    }
   },
   "outputs": [
    {
     "name": "stdout",
     "output_type": "stream",
     "text": [
      "tensor([[ 3,  4],\n",
      "        [ 3, -2],\n",
      "        [ 4, -2]])\n"
     ]
    }
   ],
   "source": [
    "mat_b = torch.tensor([3, 4, 3, -2, 4, -2]).view(3, 2)\n",
    "print(mat_b)"
   ]
  },
  {
   "cell_type": "code",
   "execution_count": 34,
   "id": "91e4e6c0",
   "metadata": {
    "ExecuteTime": {
     "end_time": "2022-10-02T20:29:30.570604Z",
     "start_time": "2022-10-02T20:29:30.568826Z"
    }
   },
   "outputs": [
    {
     "name": "stdout",
     "output_type": "stream",
     "text": [
      "tensor([[ 29, -16],\n",
      "        [ 38,   6]])\n"
     ]
    }
   ],
   "source": [
    "print(torch.matmul(mat_a, mat_b))"
   ]
  },
  {
   "cell_type": "code",
   "execution_count": 35,
   "id": "71ac47af",
   "metadata": {
    "ExecuteTime": {
     "end_time": "2022-10-02T20:29:30.573147Z",
     "start_time": "2022-10-02T20:29:30.571358Z"
    }
   },
   "outputs": [
    {
     "name": "stdout",
     "output_type": "stream",
     "text": [
      "tensor([[ 29, -16],\n",
      "        [ 38,   6]])\n"
     ]
    }
   ],
   "source": [
    "print(mat_a @ mat_b)"
   ]
  },
  {
   "cell_type": "markdown",
   "id": "838a8fc2",
   "metadata": {},
   "source": [
    "# Gradient with PyTorch"
   ]
  },
  {
   "cell_type": "code",
   "execution_count": 36,
   "id": "bac10dab",
   "metadata": {
    "ExecuteTime": {
     "end_time": "2022-10-02T20:29:30.618673Z",
     "start_time": "2022-10-02T20:29:30.616423Z"
    }
   },
   "outputs": [
    {
     "name": "stdout",
     "output_type": "stream",
     "text": [
      "tensor(2.)\n"
     ]
    }
   ],
   "source": [
    "x = torch.tensor(2.0)\n",
    "print(x)"
   ]
  },
  {
   "cell_type": "code",
   "execution_count": 37,
   "id": "4a05f209",
   "metadata": {
    "ExecuteTime": {
     "end_time": "2022-10-02T20:29:30.628434Z",
     "start_time": "2022-10-02T20:29:30.626433Z"
    }
   },
   "outputs": [
    {
     "name": "stdout",
     "output_type": "stream",
     "text": [
      "tensor(2., requires_grad=True)\n"
     ]
    }
   ],
   "source": [
    "x = torch.tensor(2.0, requires_grad=True)\n",
    "print(x)"
   ]
  },
  {
   "cell_type": "code",
   "execution_count": 38,
   "id": "d5935855",
   "metadata": {
    "ExecuteTime": {
     "end_time": "2022-10-02T20:29:30.657698Z",
     "start_time": "2022-10-02T20:29:30.634768Z"
    }
   },
   "outputs": [
    {
     "name": "stdout",
     "output_type": "stream",
     "text": [
      "tensor(330.)\n"
     ]
    }
   ],
   "source": [
    "y = 9 * x**4 + 2 * x**3 + 3 * x**2 + 6 * x + 1\n",
    "y.backward()\n",
    "print(x.grad)"
   ]
  },
  {
   "cell_type": "code",
   "execution_count": 39,
   "id": "96ff0389",
   "metadata": {
    "ExecuteTime": {
     "end_time": "2022-10-02T20:29:30.661630Z",
     "start_time": "2022-10-02T20:29:30.659011Z"
    }
   },
   "outputs": [
    {
     "name": "stdout",
     "output_type": "stream",
     "text": [
      "tensor(2.)\n",
      "tensor(12.)\n"
     ]
    }
   ],
   "source": [
    "x = torch.tensor(1.0, requires_grad=True)\n",
    "z = torch.tensor(2.0, requires_grad=True)\n",
    "y = x**2 + z**3\n",
    "y.backward()\n",
    "print(x.grad)\n",
    "print(z.grad)"
   ]
  }
 ],
 "metadata": {
  "hide_input": false,
  "kernelspec": {
   "display_name": "Python 3 (ipykernel)",
   "language": "python",
   "name": "python3"
  },
  "language_info": {
   "codemirror_mode": {
    "name": "ipython",
    "version": 3
   },
   "file_extension": ".py",
   "mimetype": "text/x-python",
   "name": "python",
   "nbconvert_exporter": "python",
   "pygments_lexer": "ipython3",
   "version": "3.9.12"
  },
  "latex_envs": {
   "LaTeX_envs_menu_present": true,
   "autoclose": false,
   "autocomplete": true,
   "bibliofile": "biblio.bib",
   "cite_by": "apalike",
   "current_citInitial": 1,
   "eqLabelWithNumbers": true,
   "eqNumInitial": 1,
   "hotkeys": {
    "equation": "Ctrl-E",
    "itemize": "Ctrl-I"
   },
   "labels_anchors": false,
   "latex_user_defs": false,
   "report_style_numbering": false,
   "user_envs_cfg": false
  },
  "nbTranslate": {
   "displayLangs": [
    "*"
   ],
   "hotkey": "alt-t",
   "langInMainMenu": true,
   "sourceLang": "en",
   "targetLang": "fr",
   "useGoogleTranslate": true
  },
  "toc": {
   "base_numbering": 1,
   "nav_menu": {},
   "number_sections": true,
   "sideBar": true,
   "skip_h1_title": false,
   "title_cell": "Table of Contents",
   "title_sidebar": "Contents",
   "toc_cell": false,
   "toc_position": {},
   "toc_section_display": true,
   "toc_window_display": true
  }
 },
 "nbformat": 4,
 "nbformat_minor": 5
}

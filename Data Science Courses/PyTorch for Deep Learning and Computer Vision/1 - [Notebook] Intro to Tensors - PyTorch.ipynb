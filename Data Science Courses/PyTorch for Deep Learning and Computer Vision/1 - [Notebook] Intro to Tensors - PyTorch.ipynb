{
 "cells": [
  {
   "cell_type": "markdown",
   "id": "38a7fe70",
   "metadata": {
    "hide_input": false
   },
   "source": [
    "# Importing Libraries"
   ]
  },
  {
   "cell_type": "code",
   "execution_count": 1,
   "id": "c141e947",
   "metadata": {
    "ExecuteTime": {
     "end_time": "2022-10-23T14:26:10.733777Z",
     "start_time": "2022-10-23T14:26:10.019780Z"
    }
   },
   "outputs": [],
   "source": [
    "import torch\n",
    "\n",
    "import numpy as np\n",
    "\n",
    "import matplotlib as mpl\n",
    "import matplotlib.pyplot as plt\n",
    "\n",
    "import colorsys\n",
    "import random\n",
    "from tabulate import tabulate\n",
    "from termcolor import cprint"
   ]
  },
  {
   "cell_type": "markdown",
   "id": "fc0137a2",
   "metadata": {},
   "source": [
    "# Configuring Visualization Parameters"
   ]
  },
  {
   "cell_type": "code",
   "execution_count": 2,
   "id": "7340d12b",
   "metadata": {
    "ExecuteTime": {
     "end_time": "2022-10-23T14:26:10.742970Z",
     "start_time": "2022-10-23T14:26:10.735154Z"
    }
   },
   "outputs": [],
   "source": [
    "%matplotlib inline"
   ]
  },
  {
   "cell_type": "code",
   "execution_count": 3,
   "id": "e5d9f80b",
   "metadata": {
    "ExecuteTime": {
     "end_time": "2022-10-23T14:26:10.745920Z",
     "start_time": "2022-10-23T14:26:10.744042Z"
    }
   },
   "outputs": [],
   "source": [
    "XINHUI = '#7a7374'\n",
    "XUEBAI = '#fffef9'\n",
    "YINBAI = '#f1f0ed'\n",
    "YINHUI = '#918072'\n",
    "\n",
    "figure_size = (16, 9)"
   ]
  },
  {
   "cell_type": "code",
   "execution_count": 4,
   "id": "eabed42f",
   "metadata": {
    "ExecuteTime": {
     "end_time": "2022-10-23T14:26:10.752735Z",
     "start_time": "2022-10-23T14:26:10.747584Z"
    }
   },
   "outputs": [],
   "source": [
    "custom_params = {\n",
    "    'axes.axisbelow': True,\n",
    "    'axes.edgecolor': YINBAI,\n",
    "    'axes.facecolor': XUEBAI,\n",
    "    'axes.grid': True,\n",
    "    'axes.labelcolor': XINHUI,\n",
    "    'axes.spines.right': False,\n",
    "    'axes.spines.top': False,\n",
    "    'axes.titlecolor': XINHUI,\n",
    "    'figure.edgecolor': YINBAI,\n",
    "    'figure.facecolor': XUEBAI,\n",
    "    'grid.alpha': .8,\n",
    "    'grid.color': YINBAI,\n",
    "    'grid.linestyle': '--',\n",
    "    'grid.linewidth': 1.2,\n",
    "    'legend.edgecolor': YINHUI,\n",
    "    'patch.edgecolor': XUEBAI,\n",
    "    'patch.force_edgecolor': True,\n",
    "    'text.color': XINHUI,\n",
    "    'xtick.color': YINHUI,\n",
    "    'ytick.color': YINHUI,\n",
    "}\n",
    "\n",
    "mpl.rcParams.update(custom_params)"
   ]
  },
  {
   "cell_type": "markdown",
   "id": "7fc4fbe3",
   "metadata": {},
   "source": [
    "# Pre-installing Required Functions"
   ]
  },
  {
   "cell_type": "code",
   "execution_count": 5,
   "id": "471a088f",
   "metadata": {
    "ExecuteTime": {
     "end_time": "2022-10-23T14:26:10.763414Z",
     "start_time": "2022-10-23T14:26:10.754711Z"
    }
   },
   "outputs": [],
   "source": [
    "def list_head_checker(list_1, list_2):\n",
    "    for i in range(len(list_2)):\n",
    "        if list_1[-1] == list_2[0]:\n",
    "            head, list_2 = list_2[0], list_2[1:]\n",
    "            list_2.append(head)\n",
    "        else:\n",
    "            break\n",
    "    return list_2"
   ]
  },
  {
   "cell_type": "code",
   "execution_count": 6,
   "id": "a95749c9",
   "metadata": {
    "ExecuteTime": {
     "end_time": "2022-10-23T14:26:10.769464Z",
     "start_time": "2022-10-23T14:26:10.766418Z"
    }
   },
   "outputs": [],
   "source": [
    "def list_connector(list_1, list_2):\n",
    "    if list_1 != []:\n",
    "        list_2 = list_head_checker(list_1, list_2)\n",
    "    list_1 += list_2\n",
    "    return list_1"
   ]
  },
  {
   "cell_type": "code",
   "execution_count": 7,
   "id": "4fd22436",
   "metadata": {
    "ExecuteTime": {
     "end_time": "2022-10-23T14:26:10.775549Z",
     "start_time": "2022-10-23T14:26:10.771669Z"
    },
    "code_folding": []
   },
   "outputs": [],
   "source": [
    "def color_list_generator(n=100):\n",
    "    termcolors = [\n",
    "        'grey', 'red', 'green', 'yellow', 'blue', 'magenta', 'cyan', 'white'\n",
    "    ]\n",
    "    global font_colors_list\n",
    "    font_colors_list = []\n",
    "    for i in range(((n - 1) // 8 + 1)):\n",
    "        if n <= 8:\n",
    "            random_list = random.sample(termcolors, k=n)\n",
    "            list_connector(font_colors_list, random_list)\n",
    "        else:\n",
    "            if i < ((n - 1) // 8):\n",
    "                random_list = random.sample(termcolors, k=8)\n",
    "                list_connector(font_colors_list, random_list)\n",
    "            else:\n",
    "                k = n % 8\n",
    "                if k == 0:\n",
    "                    random_list = random.sample(termcolors, k=8)\n",
    "                    list_connector(font_colors_list, random_list)\n",
    "                elif k == 1:\n",
    "                    random_list = random.sample(termcolors, k=2)\n",
    "                    font_colors_list = list_connector(font_colors_list,\n",
    "                                                      random_list)[:-1]\n",
    "                else:\n",
    "                    random_list = random.sample(termcolors, k=k)\n",
    "                    list_connector(font_colors_list, random_list)"
   ]
  },
  {
   "cell_type": "code",
   "execution_count": 8,
   "id": "c089d10d",
   "metadata": {
    "ExecuteTime": {
     "end_time": "2022-10-23T14:26:10.779647Z",
     "start_time": "2022-10-23T14:26:10.777133Z"
    }
   },
   "outputs": [],
   "source": [
    "def font_color_printer(string, *args, **kwargs):\n",
    "    global font_colors_list, previous_color\n",
    "    try:\n",
    "        font_colors_list\n",
    "    except NameError:\n",
    "        color_list_generator()\n",
    "    if font_colors_list == []:\n",
    "        color_list_generator()\n",
    "    previous_color = font_colors_list.pop(0)\n",
    "    return cprint(string, previous_color, *args, **kwargs)"
   ]
  },
  {
   "cell_type": "code",
   "execution_count": 9,
   "id": "ad46b82b",
   "metadata": {
    "ExecuteTime": {
     "end_time": "2022-10-23T14:26:10.783249Z",
     "start_time": "2022-10-23T14:26:10.780401Z"
    }
   },
   "outputs": [],
   "source": [
    "def calm_color_generator(n):\n",
    "    colors = []\n",
    "    hue = np.repeat(np.random.random(), n)\n",
    "    hue_interval = np.linspace(0, 1, n, endpoint=False)\n",
    "    saturation = 0.6 + np.random.random() / 5.0 * np.random.choice([-1, 1])\n",
    "    lightness = 0.5 + np.random.random() / 10.0 * np.random.choice([-1, 1])\n",
    "    h = hue + hue_interval\n",
    "    h = np.where(h > 1, h - 1, h)\n",
    "    s = np.repeat(saturation, n)\n",
    "    l = np.repeat(lightness, n)\n",
    "    array_hls = np.concatenate((h, l, s)).reshape(-1, n).T\n",
    "    for hls in array_hls:\n",
    "        r, g, b = [\n",
    "            int(256 * e) for e in colorsys.hls_to_rgb(hls[0], hls[1], hls[2])\n",
    "        ]\n",
    "        colors.append('#%02X%02X%02X' % (r, g, b))\n",
    "    return colors"
   ]
  },
  {
   "cell_type": "markdown",
   "id": "8cd6fa88",
   "metadata": {},
   "source": [
    "# Practicing in Stages\n",
    "\n",
    "## 1 Dimensional Tensors"
   ]
  },
  {
   "cell_type": "code",
   "execution_count": 10,
   "id": "0152cded",
   "metadata": {
    "ExecuteTime": {
     "end_time": "2022-10-23T14:26:10.789158Z",
     "start_time": "2022-10-23T14:26:10.785365Z"
    },
    "hide_input": true
   },
   "outputs": [
    {
     "name": "stdout",
     "output_type": "stream",
     "text": [
      "\u001b[4m\u001b[35mDefault one-dimensional tensor\u001b[0m\n",
      "\n",
      "\u001b[1m\u001b[35m    +--------------------------------------+\u001b[0m\n",
      "\u001b[1m\u001b[35m    | Statement                            |\u001b[0m\n",
      "\u001b[1m\u001b[35m    +--------------------------------------+\u001b[0m\n",
      "\u001b[1m\u001b[35m    | v = torch.tensor([1, 2, 3, 4, 5, 6]) |\u001b[0m\n",
      "\u001b[1m\u001b[35m    +--------------------------------------+\u001b[0m\n",
      "\u001b[1m\u001b[35m    +----------+----------------------------+\u001b[0m\n",
      "\u001b[1m\u001b[35m    | Variable | Value                      |\u001b[0m\n",
      "\u001b[1m\u001b[35m    +----------+----------------------------+\u001b[0m\n",
      "\u001b[1m\u001b[35m    | v        | tensor([1, 2, 3, 4, 5, 6]) |\u001b[0m\n",
      "\u001b[1m\u001b[35m    +----------+----------------------------+\u001b[0m\n"
     ]
    }
   ],
   "source": [
    "v = torch.tensor([1, 2, 3, 4, 5, 6])\n",
    "\n",
    "font_color_printer(\"Default one-dimensional tensor\",\n",
    "                   attrs=['underline'],\n",
    "                   end='\\n\\n')\n",
    "\n",
    "table = [[\"Statement\"], [\"v = torch.tensor([1, 2, 3, 4, 5, 6])\"]]\n",
    "table_list = tabulate(table,\n",
    "                      headers='firstrow',\n",
    "                      tablefmt='pretty',\n",
    "                      colalign=('left', )).split('\\n')\n",
    "for line in table_list:\n",
    "    cprint('\\t'.expandtabs(4) + line, previous_color, attrs=['bold'])\n",
    "\n",
    "table = [[\"Variable\", \"Value\"], [\"v\", str(v)]]\n",
    "table_list = tabulate(table,\n",
    "                      headers='firstrow',\n",
    "                      tablefmt='pretty',\n",
    "                      colalign=(\"left\", \"left\")).split('\\n')\n",
    "for line in table_list:\n",
    "    cprint('\\t'.expandtabs(4) + line, previous_color, attrs=['bold'])"
   ]
  },
  {
   "cell_type": "code",
   "execution_count": 11,
   "id": "89908c01",
   "metadata": {
    "ExecuteTime": {
     "end_time": "2022-10-23T14:26:10.792594Z",
     "start_time": "2022-10-23T14:26:10.790028Z"
    },
    "hide_input": true
   },
   "outputs": [
    {
     "name": "stdout",
     "output_type": "stream",
     "text": [
      "\u001b[4m\u001b[33mBasic information of default 1D tensor\u001b[0m\n",
      "\n",
      "\u001b[1m\u001b[33m    +------------+------------------------+\u001b[0m\n",
      "\u001b[1m\u001b[33m    | Expression | Result                 |\u001b[0m\n",
      "\u001b[1m\u001b[33m    +------------+------------------------+\u001b[0m\n",
      "\u001b[1m\u001b[33m    | v.dtype    | torch.int64            |\u001b[0m\n",
      "\u001b[1m\u001b[33m    | v.type()   | torch.LongTensor       |\u001b[0m\n",
      "\u001b[1m\u001b[33m    | type(v)    | <class 'torch.Tensor'> |\u001b[0m\n",
      "\u001b[1m\u001b[33m    | v.size()   | torch.Size([6])        |\u001b[0m\n",
      "\u001b[1m\u001b[33m    +------------+------------------------+\u001b[0m\n"
     ]
    }
   ],
   "source": [
    "font_color_printer(\"Basic information of default 1D tensor\",\n",
    "                   attrs=['underline'],\n",
    "                   end='\\n\\n')\n",
    "\n",
    "table = [[\"Expression\", \"Result\"], [\"v.dtype\", str(v.dtype)],\n",
    "         [\"v.type()\", str(v.type())], [\"type(v)\", str(type(v))],\n",
    "         [\"v.size()\", str(v.size())]]\n",
    "table_list = tabulate(table,\n",
    "                      headers='firstrow',\n",
    "                      tablefmt='pretty',\n",
    "                      colalign=(\"left\", \"left\")).split('\\n')\n",
    "for line in table_list:\n",
    "    cprint('\\t'.expandtabs(4) + line, previous_color, attrs=['bold'])"
   ]
  },
  {
   "cell_type": "code",
   "execution_count": 12,
   "id": "87033e2e",
   "metadata": {
    "ExecuteTime": {
     "end_time": "2022-10-23T14:26:10.796162Z",
     "start_time": "2022-10-23T14:26:10.793433Z"
    },
    "hide_input": true
   },
   "outputs": [
    {
     "name": "stdout",
     "output_type": "stream",
     "text": [
      "\u001b[4m\u001b[36mElement selection of 1D tensor\u001b[0m\n",
      "\n",
      "\u001b[1m\u001b[36m    +------------+-----------+\u001b[0m\n",
      "\u001b[1m\u001b[36m    | Expression | Result    |\u001b[0m\n",
      "\u001b[1m\u001b[36m    +------------+-----------+\u001b[0m\n",
      "\u001b[1m\u001b[36m    | v[0]       | tensor(1) |\u001b[0m\n",
      "\u001b[1m\u001b[36m    | v[-1]      | tensor(6) |\u001b[0m\n",
      "\u001b[1m\u001b[36m    +------------+-----------+\u001b[0m\n"
     ]
    }
   ],
   "source": [
    "font_color_printer(\"Element selection of 1D tensor\",\n",
    "                   attrs=['underline'],\n",
    "                   end='\\n\\n')\n",
    "\n",
    "table = [[\"Expression\", \"Result\"], [\"v[0]\", str(v[0])], [\"v[-1]\", str(v[-1])]]\n",
    "table_list = tabulate(table,\n",
    "                      headers='firstrow',\n",
    "                      tablefmt='pretty',\n",
    "                      colalign=(\"left\", \"left\")).split('\\n')\n",
    "for line in table_list:\n",
    "    cprint('\\t'.expandtabs(4) + line, previous_color, attrs=['bold'])"
   ]
  },
  {
   "cell_type": "code",
   "execution_count": 13,
   "id": "55b7f49f",
   "metadata": {
    "ExecuteTime": {
     "end_time": "2022-10-23T14:26:10.799565Z",
     "start_time": "2022-10-23T14:26:10.796979Z"
    },
    "hide_input": true
   },
   "outputs": [
    {
     "name": "stdout",
     "output_type": "stream",
     "text": [
      "\u001b[4m\u001b[30mSegment slicing of 1D tensor\u001b[0m\n",
      "\n",
      "\u001b[1m\u001b[30m    +------------+----------------------+\u001b[0m\n",
      "\u001b[1m\u001b[30m    | Expression | Result               |\u001b[0m\n",
      "\u001b[1m\u001b[30m    +------------+----------------------+\u001b[0m\n",
      "\u001b[1m\u001b[30m    | v[1:-1]    | tensor([2, 3, 4, 5]) |\u001b[0m\n",
      "\u001b[1m\u001b[30m    | v[1::2]    | tensor([2, 4, 6])    |\u001b[0m\n",
      "\u001b[1m\u001b[30m    +------------+----------------------+\u001b[0m\n"
     ]
    }
   ],
   "source": [
    "font_color_printer(\"Segment slicing of 1D tensor\",\n",
    "                   attrs=['underline'],\n",
    "                   end='\\n\\n')\n",
    "\n",
    "table = [[\"Expression\", \"Result\"], [\"v[1:-1]\", str(v[1:-1])],\n",
    "         [\"v[1::2]\", str(v[1::2])]]\n",
    "table_list = tabulate(table,\n",
    "                      headers='firstrow',\n",
    "                      tablefmt='pretty',\n",
    "                      colalign=(\"left\", \"left\")).split('\\n')\n",
    "for line in table_list:\n",
    "    cprint('\\t'.expandtabs(4) + line, previous_color, attrs=['bold'])"
   ]
  },
  {
   "cell_type": "code",
   "execution_count": 14,
   "id": "720b8056",
   "metadata": {
    "ExecuteTime": {
     "end_time": "2022-10-23T14:26:10.803845Z",
     "start_time": "2022-10-23T14:26:10.800438Z"
    },
    "hide_input": true
   },
   "outputs": [
    {
     "name": "stdout",
     "output_type": "stream",
     "text": [
      "\u001b[4m\u001b[34mFloat one-dimensional tensor\u001b[0m\n",
      "\n",
      "\u001b[1m\u001b[34m    +-------------------------------------------+\u001b[0m\n",
      "\u001b[1m\u001b[34m    | Statement                                 |\u001b[0m\n",
      "\u001b[1m\u001b[34m    +-------------------------------------------+\u001b[0m\n",
      "\u001b[1m\u001b[34m    | f = torch.FloatTensor([1, 2, 3, 4, 5, 6]) |\u001b[0m\n",
      "\u001b[1m\u001b[34m    +-------------------------------------------+\u001b[0m\n",
      "\u001b[1m\u001b[34m    +----------+----------------------------------+\u001b[0m\n",
      "\u001b[1m\u001b[34m    | Variable | Value                            |\u001b[0m\n",
      "\u001b[1m\u001b[34m    +----------+----------------------------------+\u001b[0m\n",
      "\u001b[1m\u001b[34m    | f        | tensor([1., 2., 3., 4., 5., 6.]) |\u001b[0m\n",
      "\u001b[1m\u001b[34m    +----------+----------------------------------+\u001b[0m\n"
     ]
    }
   ],
   "source": [
    "f = torch.FloatTensor([1, 2, 3, 4, 5, 6])\n",
    "\n",
    "font_color_printer(\"Float one-dimensional tensor\",\n",
    "                   attrs=['underline'],\n",
    "                   end='\\n\\n')\n",
    "\n",
    "table = [[\"Statement\"], [\"f = torch.FloatTensor([1, 2, 3, 4, 5, 6])\"]]\n",
    "table_list = tabulate(table,\n",
    "                      headers='firstrow',\n",
    "                      tablefmt='pretty',\n",
    "                      colalign=(\"left\", )).split('\\n')\n",
    "for line in table_list:\n",
    "    cprint('\\t'.expandtabs(4) + line, previous_color, attrs=['bold'])\n",
    "\n",
    "table = [[\"Variable\", \"Value\"], [\"f\", str(f)]]\n",
    "table_list = tabulate(table,\n",
    "                      headers='firstrow',\n",
    "                      tablefmt='pretty',\n",
    "                      colalign=(\"left\", \"left\")).split('\\n')\n",
    "for line in table_list:\n",
    "    cprint('\\t'.expandtabs(4) + line, previous_color, attrs=['bold'])"
   ]
  },
  {
   "cell_type": "code",
   "execution_count": 15,
   "id": "24ff7c02",
   "metadata": {
    "ExecuteTime": {
     "end_time": "2022-10-23T14:26:10.807251Z",
     "start_time": "2022-10-23T14:26:10.804624Z"
    },
    "hide_input": true
   },
   "outputs": [
    {
     "name": "stdout",
     "output_type": "stream",
     "text": [
      "\u001b[4m\u001b[37mBasic information of float 1D tensor\u001b[0m\n",
      "\n",
      "\u001b[1m\u001b[37m    +------------+------------------------+\u001b[0m\n",
      "\u001b[1m\u001b[37m    | Expression | Result                 |\u001b[0m\n",
      "\u001b[1m\u001b[37m    +------------+------------------------+\u001b[0m\n",
      "\u001b[1m\u001b[37m    | f.dtype    | torch.float32          |\u001b[0m\n",
      "\u001b[1m\u001b[37m    | f.type()   | torch.FloatTensor      |\u001b[0m\n",
      "\u001b[1m\u001b[37m    | type(f)    | <class 'torch.Tensor'> |\u001b[0m\n",
      "\u001b[1m\u001b[37m    | f.size()   | torch.Size([6])        |\u001b[0m\n",
      "\u001b[1m\u001b[37m    +------------+------------------------+\u001b[0m\n"
     ]
    }
   ],
   "source": [
    "font_color_printer(\"Basic information of float 1D tensor\",\n",
    "                   attrs=['underline'],\n",
    "                   end='\\n\\n')\n",
    "\n",
    "table = [[\"Expression\", \"Result\"], [\"f.dtype\", str(f.dtype)],\n",
    "         [\"f.type()\", str(f.type())], [\"type(f)\", str(type(f))],\n",
    "         [\"f.size()\", str(f.size())]]\n",
    "table_list = tabulate(table,\n",
    "                      headers='firstrow',\n",
    "                      tablefmt='pretty',\n",
    "                      colalign=(\"left\", \"left\")).split('\\n')\n",
    "for line in table_list:\n",
    "    cprint('\\t'.expandtabs(4) + line, previous_color, attrs=['bold'])"
   ]
  },
  {
   "cell_type": "code",
   "execution_count": 16,
   "id": "463ec85c",
   "metadata": {
    "ExecuteTime": {
     "end_time": "2022-10-23T14:26:10.811762Z",
     "start_time": "2022-10-23T14:26:10.808249Z"
    },
    "hide_input": true,
    "scrolled": true
   },
   "outputs": [
    {
     "name": "stdout",
     "output_type": "stream",
     "text": [
      "\u001b[4m\u001b[32mReshaping of 1D tensor\u001b[0m\n",
      "\n",
      "\u001b[1m\u001b[32m    +---------------+------------------------------+\u001b[0m\n",
      "\u001b[1m\u001b[32m    | Expression    | Result                       |\u001b[0m\n",
      "\u001b[1m\u001b[32m    +---------------+------------------------------+\u001b[0m\n",
      "\u001b[1m\u001b[32m    | v.view(6)     | tensor([1, 2, 3, 4, 5, 6])   |\u001b[0m\n",
      "\u001b[1m\u001b[32m    | v.view(1, 6)  | tensor([[1, 2, 3, 4, 5, 6]]) |\u001b[0m\n",
      "\u001b[1m\u001b[32m    | v.view(6, 1)  | tensor([[1],                 |\u001b[0m\n",
      "\u001b[1m\u001b[32m    |               |         [2],                 |\u001b[0m\n",
      "\u001b[1m\u001b[32m    |               |         [3],                 |\u001b[0m\n",
      "\u001b[1m\u001b[32m    |               |         [4],                 |\u001b[0m\n",
      "\u001b[1m\u001b[32m    |               |         [5],                 |\u001b[0m\n",
      "\u001b[1m\u001b[32m    |               |         [6]])                |\u001b[0m\n",
      "\u001b[1m\u001b[32m    | v.view(3, 2)  | tensor([[1, 2],              |\u001b[0m\n",
      "\u001b[1m\u001b[32m    |               |         [3, 4],              |\u001b[0m\n",
      "\u001b[1m\u001b[32m    |               |         [5, 6]])             |\u001b[0m\n",
      "\u001b[1m\u001b[32m    | v.view(3, -1) | tensor([[1, 2],              |\u001b[0m\n",
      "\u001b[1m\u001b[32m    |               |         [3, 4],              |\u001b[0m\n",
      "\u001b[1m\u001b[32m    |               |         [5, 6]])             |\u001b[0m\n",
      "\u001b[1m\u001b[32m    +---------------+------------------------------+\u001b[0m\n"
     ]
    }
   ],
   "source": [
    "font_color_printer(\"Reshaping of 1D tensor\", attrs=['underline'], end='\\n\\n')\n",
    "\n",
    "table = [[\"Expression\", \"Result\"], [\"v.view(6)\", str(v.view(6))],\n",
    "         [\"v.view(1, 6)\", str(v.view(1, 6))],\n",
    "         [\"v.view(6, 1)\", str(v.view(6, 1))],\n",
    "         [\"v.view(3, 2)\", str(v.view(3, 2))],\n",
    "         [\"v.view(3, -1)\", str(v.view(3, -1))]]\n",
    "table_list = tabulate(table,\n",
    "                      headers='firstrow',\n",
    "                      tablefmt='pretty',\n",
    "                      colalign=(\"left\", \"left\")).split('\\n')\n",
    "for line in table_list:\n",
    "    cprint('\\t'.expandtabs(4) + line, previous_color, attrs=['bold'])"
   ]
  },
  {
   "cell_type": "code",
   "execution_count": 17,
   "id": "3d69519b",
   "metadata": {
    "ExecuteTime": {
     "end_time": "2022-10-23T14:26:10.817155Z",
     "start_time": "2022-10-23T14:26:10.812585Z"
    },
    "hide_input": false,
    "scrolled": false
   },
   "outputs": [
    {
     "name": "stdout",
     "output_type": "stream",
     "text": [
      "\u001b[4m\u001b[31mConversion between array and tensor\u001b[0m\n",
      "\n",
      "\u001b[1m\u001b[31m    +----------------------------------+\u001b[0m\n",
      "\u001b[1m\u001b[31m    | Statement                        |\u001b[0m\n",
      "\u001b[1m\u001b[31m    +----------------------------------+\u001b[0m\n",
      "\u001b[1m\u001b[31m    | a = np.array([1, 2, 3, 4, 5, 6]) |\u001b[0m\n",
      "\u001b[1m\u001b[31m    | tensor_cnv = torch.from_numpy(a) |\u001b[0m\n",
      "\u001b[1m\u001b[31m    | numpy_cnv = tensor_cnv.numpy()   |\u001b[0m\n",
      "\u001b[1m\u001b[31m    +----------------------------------+\u001b[0m\n",
      "\u001b[1m\u001b[31m    +------------+----------------------------+\u001b[0m\n",
      "\u001b[1m\u001b[31m    | Variable   | Value                      |\u001b[0m\n",
      "\u001b[1m\u001b[31m    +------------+----------------------------+\u001b[0m\n",
      "\u001b[1m\u001b[31m    | a          | [1 2 3 4 5 6]              |\u001b[0m\n",
      "\u001b[1m\u001b[31m    | tensor_cnv | tensor([1, 2, 3, 4, 5, 6]) |\u001b[0m\n",
      "\u001b[1m\u001b[31m    | numpy_cnv  | [1 2 3 4 5 6]              |\u001b[0m\n",
      "\u001b[1m\u001b[31m    +------------+----------------------------+\u001b[0m\n",
      "\u001b[1m\u001b[31m    +-------------------+-------------------------+\u001b[0m\n",
      "\u001b[1m\u001b[31m    | Expression        | Result                  |\u001b[0m\n",
      "\u001b[1m\u001b[31m    +-------------------+-------------------------+\u001b[0m\n",
      "\u001b[1m\u001b[31m    | tensor_cnv.dtype  | torch.int64             |\u001b[0m\n",
      "\u001b[1m\u001b[31m    | tensor_cnv.type() | torch.LongTensor        |\u001b[0m\n",
      "\u001b[1m\u001b[31m    | type(tensor_cnv)  | <class 'torch.Tensor'>  |\u001b[0m\n",
      "\u001b[1m\u001b[31m    | numpy_cnv.dtype   | int64                   |\u001b[0m\n",
      "\u001b[1m\u001b[31m    | type(numpy_cnv)   | <class 'numpy.ndarray'> |\u001b[0m\n",
      "\u001b[1m\u001b[31m    +-------------------+-------------------------+\u001b[0m\n"
     ]
    }
   ],
   "source": [
    "a = np.array([1, 2, 3, 4, 5, 6])\n",
    "tensor_cnv = torch.from_numpy(a)\n",
    "numpy_cnv = tensor_cnv.numpy()\n",
    "\n",
    "font_color_printer(\"Conversion between array and tensor\",\n",
    "                   attrs=['underline'],\n",
    "                   end='\\n\\n')\n",
    "\n",
    "table = [[\"Statement\"], [\"a = np.array([1, 2, 3, 4, 5, 6])\"],\n",
    "         [\"tensor_cnv = torch.from_numpy(a)\"],\n",
    "         [\"numpy_cnv = tensor_cnv.numpy()\"]]\n",
    "table_list = tabulate(table,\n",
    "                      headers='firstrow',\n",
    "                      tablefmt='pretty',\n",
    "                      colalign=(\"left\", )).split('\\n')\n",
    "for line in table_list:\n",
    "    cprint('\\t'.expandtabs(4) + line, previous_color, attrs=['bold'])\n",
    "\n",
    "table = [[\"Variable\", \"Value\"], [\"a\", str(a)], [\"tensor_cnv\",\n",
    "                                                str(tensor_cnv)],\n",
    "         [\"numpy_cnv\", str(numpy_cnv)]]\n",
    "table_list = tabulate(table,\n",
    "                      headers='firstrow',\n",
    "                      tablefmt='pretty',\n",
    "                      colalign=(\"left\", \"left\")).split('\\n')\n",
    "for line in table_list:\n",
    "    cprint('\\t'.expandtabs(4) + line, previous_color, attrs=['bold'])\n",
    "\n",
    "table = [[\"Expression\", \"Result\"], [\"tensor_cnv.dtype\",\n",
    "                                    str(tensor_cnv.dtype)],\n",
    "         [\"tensor_cnv.type()\", str(tensor_cnv.type())],\n",
    "         [\"type(tensor_cnv)\", str(type(tensor_cnv))],\n",
    "         [\"numpy_cnv.dtype\", str(numpy_cnv.dtype)],\n",
    "         [\"type(numpy_cnv)\", str(type(numpy_cnv))]]\n",
    "table_list = tabulate(table,\n",
    "                      headers='firstrow',\n",
    "                      tablefmt='pretty',\n",
    "                      colalign=(\"left\", \"left\")).split('\\n')\n",
    "for line in table_list:\n",
    "    cprint('\\t'.expandtabs(4) + line, previous_color, attrs=['bold'])"
   ]
  },
  {
   "cell_type": "markdown",
   "id": "b486bb0a",
   "metadata": {},
   "source": [
    "## Vector Operations"
   ]
  },
  {
   "cell_type": "code",
   "execution_count": 18,
   "id": "6c8dd8f0",
   "metadata": {
    "ExecuteTime": {
     "end_time": "2022-10-23T14:26:10.821370Z",
     "start_time": "2022-10-23T14:26:10.817902Z"
    }
   },
   "outputs": [
    {
     "name": "stdout",
     "output_type": "stream",
     "text": [
      "\u001b[4m\u001b[34mOriginal tensors\u001b[0m\n",
      "\n",
      "\u001b[1m\u001b[34m    +---------------------------------+\u001b[0m\n",
      "\u001b[1m\u001b[34m    | Statement                       |\u001b[0m\n",
      "\u001b[1m\u001b[34m    +---------------------------------+\u001b[0m\n",
      "\u001b[1m\u001b[34m    | t_one = torch.tensor([1, 2, 3]) |\u001b[0m\n",
      "\u001b[1m\u001b[34m    | t_two = torch.tensor([1, 2, 3]) |\u001b[0m\n",
      "\u001b[1m\u001b[34m    +---------------------------------+\u001b[0m\n",
      "\u001b[1m\u001b[34m    +----------+-------------------+\u001b[0m\n",
      "\u001b[1m\u001b[34m    | Variable | Value             |\u001b[0m\n",
      "\u001b[1m\u001b[34m    +----------+-------------------+\u001b[0m\n",
      "\u001b[1m\u001b[34m    | t_one    | tensor([1, 2, 3]) |\u001b[0m\n",
      "\u001b[1m\u001b[34m    | t_two    | tensor([1, 2, 3]) |\u001b[0m\n",
      "\u001b[1m\u001b[34m    +----------+-------------------+\u001b[0m\n"
     ]
    }
   ],
   "source": [
    "t_one = torch.tensor([1, 2, 3])\n",
    "t_two = torch.tensor([1, 2, 3])\n",
    "\n",
    "font_color_printer(\"Original tensors\", attrs=['underline'], end='\\n\\n')\n",
    "\n",
    "table = [[\"Statement\"], [\"t_one = torch.tensor([1, 2, 3])\"],\n",
    "         [\"t_two = torch.tensor([1, 2, 3])\"]]\n",
    "table_list = tabulate(table,\n",
    "                      headers='firstrow',\n",
    "                      tablefmt='pretty',\n",
    "                      colalign=(\"left\", )).split('\\n')\n",
    "for line in table_list:\n",
    "    cprint('\\t'.expandtabs(4) + line, previous_color, attrs=['bold'])\n",
    "\n",
    "table = [[\"Variable\", \"Value\"], [\"t_one\", str(t_one)], [\"t_two\", str(t_two)]]\n",
    "table_list = tabulate(table,\n",
    "                      headers='firstrow',\n",
    "                      tablefmt='pretty',\n",
    "                      colalign=(\"left\", \"left\")).split('\\n')\n",
    "for line in table_list:\n",
    "    cprint('\\t'.expandtabs(4) + line, previous_color, attrs=['bold'])"
   ]
  },
  {
   "cell_type": "code",
   "execution_count": 19,
   "id": "e19b2539",
   "metadata": {
    "ExecuteTime": {
     "end_time": "2022-10-23T14:26:10.825452Z",
     "start_time": "2022-10-23T14:26:10.822199Z"
    }
   },
   "outputs": [
    {
     "name": "stdout",
     "output_type": "stream",
     "text": [
      "\u001b[4m\u001b[32mSimple operations\u001b[0m\n",
      "\n",
      "\u001b[1m\u001b[32m    +---------------+----------------------+\u001b[0m\n",
      "\u001b[1m\u001b[32m    | Expression    | Result               |\u001b[0m\n",
      "\u001b[1m\u001b[32m    +---------------+----------------------+\u001b[0m\n",
      "\u001b[1m\u001b[32m    | t_one + t_two | tensor([2, 4, 6])    |\u001b[0m\n",
      "\u001b[1m\u001b[32m    | t_one - t_two | tensor([0, 0, 0])    |\u001b[0m\n",
      "\u001b[1m\u001b[32m    | t_one * t_two | tensor([1, 4, 9])    |\u001b[0m\n",
      "\u001b[1m\u001b[32m    | t_one / t_two | tensor([1., 1., 1.]) |\u001b[0m\n",
      "\u001b[1m\u001b[32m    | t_one * 5     | tensor([ 5, 10, 15]) |\u001b[0m\n",
      "\u001b[1m\u001b[32m    +---------------+----------------------+\u001b[0m\n"
     ]
    }
   ],
   "source": [
    "font_color_printer(\"Simple operations\", attrs=['underline'], end='\\n\\n')\n",
    "\n",
    "table = [[\"Expression\", \"Result\"], [\"t_one + t_two\",\n",
    "                                    str(t_one + t_two)],\n",
    "         [\"t_one - t_two\", str(t_one - t_two)],\n",
    "         [\"t_one * t_two\", str(t_one * t_two)],\n",
    "         [\"t_one / t_two\", str(t_one / t_two)], [\"t_one * 5\",\n",
    "                                                 str(t_one * 5)]]\n",
    "table_list = tabulate(table,\n",
    "                      headers='firstrow',\n",
    "                      tablefmt='pretty',\n",
    "                      colalign=(\"left\", \"left\")).split('\\n')\n",
    "for line in table_list:\n",
    "    cprint('\\t'.expandtabs(4) + line, previous_color, attrs=['bold'])"
   ]
  },
  {
   "cell_type": "code",
   "execution_count": 20,
   "id": "4688ba2c",
   "metadata": {
    "ExecuteTime": {
     "end_time": "2022-10-23T14:26:10.829165Z",
     "start_time": "2022-10-23T14:26:10.826147Z"
    }
   },
   "outputs": [
    {
     "name": "stdout",
     "output_type": "stream",
     "text": [
      "\u001b[4m\u001b[35mDot product of tensors\u001b[0m\n",
      "\n",
      "\u001b[1m\u001b[35m    +---------------------------------------+\u001b[0m\n",
      "\u001b[1m\u001b[35m    | Statement                             |\u001b[0m\n",
      "\u001b[1m\u001b[35m    +---------------------------------------+\u001b[0m\n",
      "\u001b[1m\u001b[35m    | dot_product = torch.dot(t_one, t_two) |\u001b[0m\n",
      "\u001b[1m\u001b[35m    +---------------------------------------+\u001b[0m\n",
      "\u001b[1m\u001b[35m    +-------------+------------+\u001b[0m\n",
      "\u001b[1m\u001b[35m    | Variable    | Value      |\u001b[0m\n",
      "\u001b[1m\u001b[35m    +-------------+------------+\u001b[0m\n",
      "\u001b[1m\u001b[35m    | dot_product | tensor(14) |\u001b[0m\n",
      "\u001b[1m\u001b[35m    +-------------+------------+\u001b[0m\n"
     ]
    }
   ],
   "source": [
    "dot_product = torch.dot(t_one, t_two)\n",
    "\n",
    "font_color_printer(\"Dot product of tensors\", attrs=['underline'], end='\\n\\n')\n",
    "\n",
    "table = [[\"Statement\"], [\"dot_product = torch.dot(t_one, t_two)\"]]\n",
    "table_list = tabulate(table,\n",
    "                      headers='firstrow',\n",
    "                      tablefmt='pretty',\n",
    "                      colalign=(\"left\", )).split('\\n')\n",
    "for line in table_list:\n",
    "    cprint('\\t'.expandtabs(4) + line, previous_color, attrs=['bold'])\n",
    "\n",
    "table = [[\"Variable\", \"Value\"], [\"dot_product\", str(dot_product)]]\n",
    "table_list = tabulate(table,\n",
    "                      headers='firstrow',\n",
    "                      tablefmt='pretty',\n",
    "                      colalign=(\"left\", \"left\")).split('\\n')\n",
    "for line in table_list:\n",
    "    cprint('\\t'.expandtabs(4) + line, previous_color, attrs=['bold'])"
   ]
  },
  {
   "cell_type": "code",
   "execution_count": 21,
   "id": "23d84bc2",
   "metadata": {
    "ExecuteTime": {
     "end_time": "2022-10-23T14:26:10.833471Z",
     "start_time": "2022-10-23T14:26:10.829912Z"
    }
   },
   "outputs": [
    {
     "name": "stdout",
     "output_type": "stream",
     "text": [
      "\u001b[4m\u001b[30mCreating arithmetic sequence in 1D tensor\u001b[0m\n",
      "\n",
      "\u001b[1m\u001b[30m    +------------------------------+\u001b[0m\n",
      "\u001b[1m\u001b[30m    | Statement                    |\u001b[0m\n",
      "\u001b[1m\u001b[30m    +------------------------------+\u001b[0m\n",
      "\u001b[1m\u001b[30m    | x = torch.linspace(0, 10, 5) |\u001b[0m\n",
      "\u001b[1m\u001b[30m    +------------------------------+\u001b[0m\n",
      "\u001b[1m\u001b[30m    +----------+--------------------------------------+\u001b[0m\n",
      "\u001b[1m\u001b[30m    | Variable | Value                                |\u001b[0m\n",
      "\u001b[1m\u001b[30m    +----------+--------------------------------------+\u001b[0m\n",
      "\u001b[1m\u001b[30m    | x        | tensor([ 0.0000,  2.5000,  5.0000,   |\u001b[0m\n",
      "\u001b[1m\u001b[30m    |          | 7.5000, 10.0000])                    |\u001b[0m\n",
      "\u001b[1m\u001b[30m    +----------+--------------------------------------+\u001b[0m\n"
     ]
    }
   ],
   "source": [
    "x = torch.linspace(0, 10, 5)\n",
    "\n",
    "font_color_printer(\"Creating arithmetic sequence in 1D tensor\",\n",
    "                   attrs=['underline'],\n",
    "                   end='\\n\\n')\n",
    "\n",
    "table = [[\"Statement\"], [\"x = torch.linspace(0, 10, 5)\"]]\n",
    "table_list = tabulate(table,\n",
    "                      headers='firstrow',\n",
    "                      tablefmt='pretty',\n",
    "                      colalign=(\"left\", )).split('\\n')\n",
    "for line in table_list:\n",
    "    cprint('\\t'.expandtabs(4) + line, previous_color, attrs=['bold'])\n",
    "\n",
    "table = [[\"Variable\", \"Value\"], [\"x\", str(x)[:36] + \"\\n\" + str(x)[36:]]]\n",
    "table_list = tabulate(table,\n",
    "                      headers='firstrow',\n",
    "                      tablefmt='pretty',\n",
    "                      colalign=(\"left\", \"left\")).split('\\n')\n",
    "for line in table_list:\n",
    "    cprint('\\t'.expandtabs(4) + line, previous_color, attrs=['bold'])"
   ]
  },
  {
   "cell_type": "code",
   "execution_count": 22,
   "id": "f41a35be",
   "metadata": {
    "ExecuteTime": {
     "end_time": "2022-10-23T14:26:10.837583Z",
     "start_time": "2022-10-23T14:26:10.834145Z"
    }
   },
   "outputs": [
    {
     "name": "stdout",
     "output_type": "stream",
     "text": [
      "\u001b[4m\u001b[33mExponentiation of tensor elements\u001b[0m\n",
      "\n",
      "\u001b[1m\u001b[33m    +------------------+\u001b[0m\n",
      "\u001b[1m\u001b[33m    | Statement        |\u001b[0m\n",
      "\u001b[1m\u001b[33m    +------------------+\u001b[0m\n",
      "\u001b[1m\u001b[33m    | y = torch.exp(x) |\u001b[0m\n",
      "\u001b[1m\u001b[33m    +------------------+\u001b[0m\n",
      "\u001b[1m\u001b[33m    +----------+----------------------------------------------+\u001b[0m\n",
      "\u001b[1m\u001b[33m    | Variable | Value                                        |\u001b[0m\n",
      "\u001b[1m\u001b[33m    +----------+----------------------------------------------+\u001b[0m\n",
      "\u001b[1m\u001b[33m    | y        | tensor([1.0000e+00, 1.2182e+01, 1.4841e+02,  |\u001b[0m\n",
      "\u001b[1m\u001b[33m    |          | 1.8080e+03, 2.2026e+04])                     |\u001b[0m\n",
      "\u001b[1m\u001b[33m    +----------+----------------------------------------------+\u001b[0m\n"
     ]
    }
   ],
   "source": [
    "y = torch.exp(x)\n",
    "\n",
    "font_color_printer(\"Exponentiation of tensor elements\",\n",
    "                   attrs=['underline'],\n",
    "                   end='\\n\\n')\n",
    "\n",
    "table = [[\"Statement\"], [\"y = torch.exp(x)\"]]\n",
    "table_list = tabulate(table,\n",
    "                      headers='firstrow',\n",
    "                      tablefmt='pretty',\n",
    "                      colalign=(\"left\", )).split('\\n')\n",
    "for line in table_list:\n",
    "    cprint('\\t'.expandtabs(4) + line, previous_color, attrs=['bold'])\n",
    "\n",
    "table = [[\"Variable\", \"Value\"], [\"y\", str(y)[:44] + \"\\n\" + str(y)[44:]]]\n",
    "table_list = tabulate(table,\n",
    "                      headers='firstrow',\n",
    "                      tablefmt='pretty',\n",
    "                      colalign=(\"left\", \"left\")).split('\\n')\n",
    "for line in table_list:\n",
    "    cprint('\\t'.expandtabs(4) + line, previous_color, attrs=['bold'])"
   ]
  },
  {
   "cell_type": "code",
   "execution_count": 23,
   "id": "67e4afa7",
   "metadata": {
    "ExecuteTime": {
     "end_time": "2022-10-23T14:26:10.943233Z",
     "start_time": "2022-10-23T14:26:10.838366Z"
    }
   },
   "outputs": [
    {
     "data": {
      "image/png": "[encoded data removed]",
      "text/plain": [
       "<Figure size 1152x324 with 2 Axes>"
      ]
     },
     "metadata": {},
     "output_type": "display_data"
    }
   ],
   "source": [
    "colors = calm_color_generator(2)\n",
    "plt.rcParams['figure.figsize'] = (figure_size[0], figure_size[1] / 2)\n",
    "\n",
    "fig, axs = plt.subplots(1, 2, sharey=True)\n",
    "\n",
    "x1 = torch.linspace(0, 10, 5)\n",
    "y1 = torch.exp(x1)\n",
    "axs[0].plot(x1.numpy(), y1.numpy(), c=colors.pop(0))\n",
    "axs[0].set_title(\"Arithmetic sequence of 5 elements\", loc='center', pad=15)\n",
    "\n",
    "x2 = torch.linspace(0, 10, 100)\n",
    "y2 = torch.exp(x2)\n",
    "axs[1].plot(x2.numpy(), y2.numpy(), c=colors.pop(0))\n",
    "axs[1].set_title(\"Arithmetic sequence of 100 elements\", loc='center', pad=15)\n",
    "\n",
    "for ax in axs.flat:\n",
    "    ax.set(xlabel=\"arithmetic sequence\", ylabel=\"result of exponentiation\")\n",
    "    ax.tick_params(axis='y', labelrotation=90)\n",
    "    ax.label_outer()\n",
    "\n",
    "fig.suptitle(\"Visual Comparison of Exponentiation\",\n",
    "             fontsize='x-large',\n",
    "             x=0.5,\n",
    "             y=0)\n",
    "\n",
    "plt.tight_layout()\n",
    "plt.show()"
   ]
  },
  {
   "cell_type": "code",
   "execution_count": 24,
   "id": "07d36773",
   "metadata": {
    "ExecuteTime": {
     "end_time": "2022-10-23T14:26:11.330611Z",
     "start_time": "2022-10-23T14:26:10.944335Z"
    }
   },
   "outputs": [
    {
     "data": {
      "image/png": "[encoded data removed]",
      "text/plain": [
       "<Figure size 1152x972 with 6 Axes>"
      ]
     },
     "metadata": {},
     "output_type": "display_data"
    }
   ],
   "source": [
    "def csc(x):\n",
    "    return 1 / torch.sin(x)\n",
    "\n",
    "\n",
    "def sec(x):\n",
    "    return 1 / torch.cos(x)\n",
    "\n",
    "\n",
    "def cot(x):\n",
    "    return 1 / torch.tan(x)\n",
    "\n",
    "\n",
    "colors = calm_color_generator(6)\n",
    "plt.rcParams['figure.figsize'] = (figure_size[0], figure_size[1] / 2 * 3)\n",
    "\n",
    "value_list_1 = [0, torch.pi, 2 * torch.pi, 3 * torch.pi]\n",
    "value_list_2 = [i - .5 * torch.pi for i in value_list_1][1:]\n",
    "color_list_1 = calm_color_generator(4)\n",
    "color_list_2 = calm_color_generator(3)\n",
    "label_list_1 = ['0 π', '1 π', '2 π', '3 π']\n",
    "label_list_2 = ['0.5 π', '1.5 π', '2.5 π']\n",
    "\n",
    "fig, axs = plt.subplots(3, 2, sharex=True)\n",
    "\n",
    "x = torch.linspace(0, 10, 100)\n",
    "y1 = torch.sin(x)\n",
    "axs[0, 0].plot(x.numpy(), y1.numpy(), c=colors.pop(0))\n",
    "axs[0, 0].set_title(\"sine = opposite / hypotenuse\", loc='center', pad=15)\n",
    "\n",
    "y2 = csc(x)\n",
    "axs[0, 1].plot(x.numpy(), y2.numpy(), c=colors.pop(0))\n",
    "axs[0, 1].set_title(\"cosecant = hypotenuse / opposite\", loc='center', pad=15)\n",
    "\n",
    "y3 = torch.cos(x)\n",
    "axs[1, 0].plot(x.numpy(), y3.numpy(), c=colors.pop(0))\n",
    "axs[1, 0].set_title(\"cosine = adjacent / hypotenuse\", loc='center', pad=15)\n",
    "\n",
    "y4 = sec(x)\n",
    "axs[1, 1].plot(x.numpy(), y4.numpy(), c=colors.pop(0))\n",
    "axs[1, 1].set_title(\"secant = hypotenuse / adjacent\", loc='center', pad=15)\n",
    "\n",
    "y5 = torch.tan(x)\n",
    "axs[2, 0].plot(x.numpy(), y5.numpy(), c=colors.pop(0))\n",
    "axs[2, 0].set_title(\"tangent = opposite / adjacent\", loc='center', pad=15)\n",
    "\n",
    "y6 = cot(x)\n",
    "axs[2, 1].plot(x.numpy(), y6.numpy(), c=colors.pop(0))\n",
    "axs[2, 1].set_title(\"cotangent = adjacent / opposite\", loc='center', pad=15)\n",
    "\n",
    "for ax in axs.flat:\n",
    "    ax.set(xlabel=\"arithmetic sequence\", ylabel='result of trigonometry')\n",
    "    for x, c, label in zip(value_list_1, color_list_1, label_list_1):\n",
    "        ax.axvline(x=x,\n",
    "                   c=c,\n",
    "                   label=label,\n",
    "                   alpha=.2,\n",
    "                   linestyle='--',\n",
    "                   linewidth=3)\n",
    "    for x, c, label in zip(value_list_2, color_list_2, label_list_2):\n",
    "        ax.axvline(x=x, c=c, label=label, alpha=.2, linestyle=':', linewidth=3)\n",
    "\n",
    "fig.suptitle('Visual Comparison of Trigonometry',\n",
    "             fontsize='x-large',\n",
    "             x=0.5,\n",
    "             y=0)\n",
    "\n",
    "plt.legend(loc='lower right', borderpad=1, ncol=2)\n",
    "plt.tight_layout()\n",
    "plt.show()"
   ]
  },
  {
   "cell_type": "markdown",
   "id": "46c585e1",
   "metadata": {},
   "source": [
    "## 2 Dimensional Tensors"
   ]
  },
  {
   "cell_type": "code",
   "execution_count": 25,
   "id": "5f36e156",
   "metadata": {
    "ExecuteTime": {
     "end_time": "2022-10-23T14:26:11.335576Z",
     "start_time": "2022-10-23T14:26:11.331743Z"
    }
   },
   "outputs": [
    {
     "name": "stdout",
     "output_type": "stream",
     "text": [
      "\u001b[4m\u001b[36mCreation of 1D tensor from defined interval\u001b[0m\n",
      "\n",
      "\u001b[1m\u001b[36m    +----------------------------+\u001b[0m\n",
      "\u001b[1m\u001b[36m    | Statement                  |\u001b[0m\n",
      "\u001b[1m\u001b[36m    +----------------------------+\u001b[0m\n",
      "\u001b[1m\u001b[36m    | one_d = torch.arange(2, 7) |\u001b[0m\n",
      "\u001b[1m\u001b[36m    +----------------------------+\u001b[0m\n",
      "\u001b[1m\u001b[36m    +----------+-------------------------+\u001b[0m\n",
      "\u001b[1m\u001b[36m    | Variable | Value                   |\u001b[0m\n",
      "\u001b[1m\u001b[36m    +----------+-------------------------+\u001b[0m\n",
      "\u001b[1m\u001b[36m    | one_d    | tensor([2, 3, 4, 5, 6]) |\u001b[0m\n",
      "\u001b[1m\u001b[36m    +----------+-------------------------+\u001b[0m\n"
     ]
    }
   ],
   "source": [
    "one_d = torch.arange(2, 7)\n",
    "\n",
    "font_color_printer(\"Creation of 1D tensor from defined interval\",\n",
    "                   attrs=['underline'],\n",
    "                   end='\\n\\n')\n",
    "\n",
    "table = [[\"Statement\"], [\"one_d = torch.arange(2, 7)\"]]\n",
    "table_list = tabulate(table,\n",
    "                      headers='firstrow',\n",
    "                      tablefmt='pretty',\n",
    "                      colalign=(\"left\", )).split('\\n')\n",
    "for line in table_list:\n",
    "    cprint('\\t'.expandtabs(4) + line, previous_color, attrs=['bold'])\n",
    "\n",
    "table = [[\"Variable\", \"Value\"], [\"one_d\", str(one_d)]]\n",
    "table_list = tabulate(table,\n",
    "                      headers='firstrow',\n",
    "                      tablefmt='pretty',\n",
    "                      colalign=(\"left\", \"left\")).split('\\n')\n",
    "for line in table_list:\n",
    "    cprint('\\t'.expandtabs(4) + line, previous_color, attrs=['bold'])"
   ]
  },
  {
   "cell_type": "code",
   "execution_count": 26,
   "id": "5d7e26bb",
   "metadata": {
    "ExecuteTime": {
     "end_time": "2022-10-23T14:26:11.339651Z",
     "start_time": "2022-10-23T14:26:11.336628Z"
    }
   },
   "outputs": [
    {
     "name": "stdout",
     "output_type": "stream",
     "text": [
      "\u001b[4m\u001b[37mCreation of 1D tensor from defined interval and difference\u001b[0m\n",
      "\n",
      "\u001b[1m\u001b[37m    +-------------------------------+\u001b[0m\n",
      "\u001b[1m\u001b[37m    | Statement                     |\u001b[0m\n",
      "\u001b[1m\u001b[37m    +-------------------------------+\u001b[0m\n",
      "\u001b[1m\u001b[37m    | one_d = torch.arange(2, 7, 2) |\u001b[0m\n",
      "\u001b[1m\u001b[37m    +-------------------------------+\u001b[0m\n",
      "\u001b[1m\u001b[37m    +----------+-------------------+\u001b[0m\n",
      "\u001b[1m\u001b[37m    | Variable | Value             |\u001b[0m\n",
      "\u001b[1m\u001b[37m    +----------+-------------------+\u001b[0m\n",
      "\u001b[1m\u001b[37m    | one_d    | tensor([2, 4, 6]) |\u001b[0m\n",
      "\u001b[1m\u001b[37m    +----------+-------------------+\u001b[0m\n"
     ]
    }
   ],
   "source": [
    "one_d = torch.arange(2, 7, 2)\n",
    "\n",
    "font_color_printer(\n",
    "    \"Creation of 1D tensor from defined interval and difference\",\n",
    "    attrs=['underline'],\n",
    "    end='\\n\\n')\n",
    "\n",
    "table = [[\"Statement\"], [\"one_d = torch.arange(2, 7, 2)\"]]\n",
    "table_list = tabulate(table,\n",
    "                      headers='firstrow',\n",
    "                      tablefmt='pretty',\n",
    "                      colalign=(\"left\", )).split('\\n')\n",
    "for line in table_list:\n",
    "    cprint('\\t'.expandtabs(4) + line, previous_color, attrs=['bold'])\n",
    "\n",
    "table = [[\"Variable\", \"Value\"], [\"one_d\", str(one_d)]]\n",
    "table_list = tabulate(table,\n",
    "                      headers='firstrow',\n",
    "                      tablefmt='pretty',\n",
    "                      colalign=(\"left\", \"left\")).split('\\n')\n",
    "for line in table_list:\n",
    "    cprint('\\t'.expandtabs(4) + line, previous_color, attrs=['bold'])"
   ]
  },
  {
   "cell_type": "code",
   "execution_count": 27,
   "id": "122749b3",
   "metadata": {
    "ExecuteTime": {
     "end_time": "2022-10-23T14:26:11.344766Z",
     "start_time": "2022-10-23T14:26:11.340652Z"
    }
   },
   "outputs": [
    {
     "name": "stdout",
     "output_type": "stream",
     "text": [
      "\u001b[4m\u001b[31mCreation of 2D tensor from 1D tensor\u001b[0m\n",
      "\n",
      "\u001b[1m\u001b[31m    +----------------------------+\u001b[0m\n",
      "\u001b[1m\u001b[31m    | Statement                  |\u001b[0m\n",
      "\u001b[1m\u001b[31m    +----------------------------+\u001b[0m\n",
      "\u001b[1m\u001b[31m    | one_d = torch.arange(0, 9) |\u001b[0m\n",
      "\u001b[1m\u001b[31m    | two_d = one_d.view(3, 3)   |\u001b[0m\n",
      "\u001b[1m\u001b[31m    +----------------------------+\u001b[0m\n",
      "\u001b[1m\u001b[31m    +----------+-------------------------------------+\u001b[0m\n",
      "\u001b[1m\u001b[31m    | Variable | Value                               |\u001b[0m\n",
      "\u001b[1m\u001b[31m    +----------+-------------------------------------+\u001b[0m\n",
      "\u001b[1m\u001b[31m    | one_d    | tensor([0, 1, 2, 3, 4, 5, 6, 7, 8]) |\u001b[0m\n",
      "\u001b[1m\u001b[31m    | one_d    | tensor([[0, 1, 2],                  |\u001b[0m\n",
      "\u001b[1m\u001b[31m    |          |         [3, 4, 5],                  |\u001b[0m\n",
      "\u001b[1m\u001b[31m    |          |         [6, 7, 8]])                 |\u001b[0m\n",
      "\u001b[1m\u001b[31m    +----------+-------------------------------------+\u001b[0m\n",
      "\u001b[1m\u001b[31m    +-------------+--------+\u001b[0m\n",
      "\u001b[1m\u001b[31m    | Expression  | Result |\u001b[0m\n",
      "\u001b[1m\u001b[31m    +-------------+--------+\u001b[0m\n",
      "\u001b[1m\u001b[31m    | one_d.dim() | 1      |\u001b[0m\n",
      "\u001b[1m\u001b[31m    | two_d.dim() | 2      |\u001b[0m\n",
      "\u001b[1m\u001b[31m    +-------------+--------+\u001b[0m\n"
     ]
    }
   ],
   "source": [
    "one_d = torch.arange(0, 9)\n",
    "two_d = one_d.view(3, 3)\n",
    "\n",
    "font_color_printer(\"Creation of 2D tensor from 1D tensor\",\n",
    "                   attrs=['underline'],\n",
    "                   end='\\n\\n')\n",
    "\n",
    "table = [[\"Statement\"], [\"one_d = torch.arange(0, 9)\"],\n",
    "         [\"two_d = one_d.view(3, 3)\"]]\n",
    "table_list = tabulate(table,\n",
    "                      headers='firstrow',\n",
    "                      tablefmt='pretty',\n",
    "                      colalign=(\"left\", )).split('\\n')\n",
    "for line in table_list:\n",
    "    cprint('\\t'.expandtabs(4) + line, previous_color, attrs=['bold'])\n",
    "\n",
    "table = [[\"Variable\", \"Value\"], [\"one_d\", str(one_d)], [\"one_d\", str(two_d)]]\n",
    "table_list = tabulate(table,\n",
    "                      headers='firstrow',\n",
    "                      tablefmt='pretty',\n",
    "                      colalign=(\"left\", \"left\")).split('\\n')\n",
    "for line in table_list:\n",
    "    cprint('\\t'.expandtabs(4) + line, previous_color, attrs=['bold'])\n",
    "\n",
    "table = [[\"Expression\", \"Result\"], [\"one_d.dim()\",\n",
    "                                    str(one_d.dim())],\n",
    "         [\"two_d.dim()\", str(two_d.dim())]]\n",
    "table_list = tabulate(table,\n",
    "                      headers='firstrow',\n",
    "                      tablefmt='pretty',\n",
    "                      colalign=(\"left\", \"left\")).split('\\n')\n",
    "for line in table_list:\n",
    "    cprint('\\t'.expandtabs(4) + line, previous_color, attrs=['bold'])"
   ]
  },
  {
   "cell_type": "code",
   "execution_count": 28,
   "id": "36b6e479",
   "metadata": {
    "ExecuteTime": {
     "end_time": "2022-10-23T14:26:11.351344Z",
     "start_time": "2022-10-23T14:26:11.348595Z"
    }
   },
   "outputs": [
    {
     "name": "stdout",
     "output_type": "stream",
     "text": [
      "\u001b[4m\u001b[35mElement selection of 2D tensor\u001b[0m\n",
      "\n",
      "\u001b[1m\u001b[35m    +---------------+-----------+\u001b[0m\n",
      "\u001b[1m\u001b[35m    | Expression    | Result    |\u001b[0m\n",
      "\u001b[1m\u001b[35m    +---------------+-----------+\u001b[0m\n",
      "\u001b[1m\u001b[35m    | two_d[0, 0]   | tensor(0) |\u001b[0m\n",
      "\u001b[1m\u001b[35m    | two_d[1, 2]   | tensor(5) |\u001b[0m\n",
      "\u001b[1m\u001b[35m    | two_d[-2, -1] | tensor(5) |\u001b[0m\n",
      "\u001b[1m\u001b[35m    +---------------+-----------+\u001b[0m\n"
     ]
    }
   ],
   "source": [
    "font_color_printer(\"Element selection of 2D tensor\",\n",
    "                   attrs=['underline'],\n",
    "                   end='\\n\\n')\n",
    "\n",
    "table = [[\"Expression\", \"Result\"], [\"two_d[0, 0]\",\n",
    "                                    str(two_d[0, 0])],\n",
    "         [\"two_d[1, 2]\", str(two_d[1, 2])],\n",
    "         [\"two_d[-2, -1]\", str(two_d[-2, -1])]]\n",
    "table_list = tabulate(table,\n",
    "                      headers='firstrow',\n",
    "                      tablefmt='pretty',\n",
    "                      colalign=(\"left\", \"left\")).split('\\n')\n",
    "for line in table_list:\n",
    "    cprint('\\t'.expandtabs(4) + line, previous_color, attrs=['bold'])"
   ]
  },
  {
   "cell_type": "code",
   "execution_count": 29,
   "id": "d9bcd570",
   "metadata": {
    "ExecuteTime": {
     "end_time": "2022-10-23T14:26:11.355415Z",
     "start_time": "2022-10-23T14:26:11.352208Z"
    }
   },
   "outputs": [
    {
     "name": "stdout",
     "output_type": "stream",
     "text": [
      "\u001b[4m\u001b[36mSegment slicing of 2D tensor\u001b[0m\n",
      "\n",
      "\u001b[1m\u001b[36m    +---------------+---------------------+\u001b[0m\n",
      "\u001b[1m\u001b[36m    | Expression    | Result              |\u001b[0m\n",
      "\u001b[1m\u001b[36m    +---------------+---------------------+\u001b[0m\n",
      "\u001b[1m\u001b[36m    | two_d[0]      | tensor([0, 1, 2])   |\u001b[0m\n",
      "\u001b[1m\u001b[36m    | two_d[:-1, ]  | tensor([[0, 1, 2],  |\u001b[0m\n",
      "\u001b[1m\u001b[36m    |               |         [3, 4, 5]]) |\u001b[0m\n",
      "\u001b[1m\u001b[36m    | two_d[:, 0]   | tensor([0, 3, 6])   |\u001b[0m\n",
      "\u001b[1m\u001b[36m    | two_d[:, :-1] | tensor([[0, 1],     |\u001b[0m\n",
      "\u001b[1m\u001b[36m    |               |         [3, 4],     |\u001b[0m\n",
      "\u001b[1m\u001b[36m    |               |         [6, 7]])    |\u001b[0m\n",
      "\u001b[1m\u001b[36m    +---------------+---------------------+\u001b[0m\n"
     ]
    }
   ],
   "source": [
    "font_color_printer(\"Segment slicing of 2D tensor\",\n",
    "                   attrs=['underline'],\n",
    "                   end='\\n\\n')\n",
    "\n",
    "table = [[\"Expression\", \"Result\"], [\"two_d[0]\", str(two_d[0])],\n",
    "         [\"two_d[:-1, ]\", str(two_d[:-1, ])],\n",
    "         [\"two_d[:, 0]\", str(two_d[:, 0])],\n",
    "         [\"two_d[:, :-1]\", str(two_d[:, :-1])]]\n",
    "table_list = tabulate(table,\n",
    "                      headers='firstrow',\n",
    "                      tablefmt='pretty',\n",
    "                      colalign=(\"left\", \"left\")).split('\\n')\n",
    "for line in table_list:\n",
    "    cprint('\\t'.expandtabs(4) + line, previous_color, attrs=['bold'])"
   ]
  },
  {
   "cell_type": "code",
   "execution_count": 30,
   "id": "1bdeccb1",
   "metadata": {
    "ExecuteTime": {
     "end_time": "2022-10-23T14:26:11.360897Z",
     "start_time": "2022-10-23T14:26:11.356142Z"
    }
   },
   "outputs": [
    {
     "name": "stdout",
     "output_type": "stream",
     "text": [
      "\u001b[4m\u001b[31mCreation of 3D tensor from 1D tensor\u001b[0m\n",
      "\n",
      "\u001b[1m\u001b[31m    +--------------------------------------------+\u001b[0m\n",
      "\u001b[1m\u001b[31m    | Statement                                  |\u001b[0m\n",
      "\u001b[1m\u001b[31m    +--------------------------------------------+\u001b[0m\n",
      "\u001b[1m\u001b[31m    | three_d_1 = torch.arange(18).view(2, 3, 3) |\u001b[0m\n",
      "\u001b[1m\u001b[31m    | three_d_2 = torch.arange(18).view(3, 2, 3) |\u001b[0m\n",
      "\u001b[1m\u001b[31m    | three_d_3 = torch.arange(18).view(3, 3, 2) |\u001b[0m\n",
      "\u001b[1m\u001b[31m    +--------------------------------------------+\u001b[0m\n",
      "\u001b[1m\u001b[31m    +-----------+--------------------------+\u001b[0m\n",
      "\u001b[1m\u001b[31m    | Variable  | Value                    |\u001b[0m\n",
      "\u001b[1m\u001b[31m    +-----------+--------------------------+\u001b[0m\n",
      "\u001b[1m\u001b[31m    | three_d_1 | tensor([[[ 0,  1,  2],   |\u001b[0m\n",
      "\u001b[1m\u001b[31m    |           |          [ 3,  4,  5],   |\u001b[0m\n",
      "\u001b[1m\u001b[31m    |           |          [ 6,  7,  8]],  |\u001b[0m\n",
      "\u001b[1m\u001b[31m    |           |                          |\u001b[0m\n",
      "\u001b[1m\u001b[31m    |           |         [[ 9, 10, 11],   |\u001b[0m\n",
      "\u001b[1m\u001b[31m    |           |          [12, 13, 14],   |\u001b[0m\n",
      "\u001b[1m\u001b[31m    |           |          [15, 16, 17]]]) |\u001b[0m\n",
      "\u001b[1m\u001b[31m    | three_d_2 | tensor([[[ 0,  1,  2],   |\u001b[0m\n",
      "\u001b[1m\u001b[31m    |           |          [ 3,  4,  5]],  |\u001b[0m\n",
      "\u001b[1m\u001b[31m    |           |                          |\u001b[0m\n",
      "\u001b[1m\u001b[31m    |           |         [[ 6,  7,  8],   |\u001b[0m\n",
      "\u001b[1m\u001b[31m    |           |          [ 9, 10, 11]],  |\u001b[0m\n",
      "\u001b[1m\u001b[31m    |           |                          |\u001b[0m\n",
      "\u001b[1m\u001b[31m    |           |         [[12, 13, 14],   |\u001b[0m\n",
      "\u001b[1m\u001b[31m    |           |          [15, 16, 17]]]) |\u001b[0m\n",
      "\u001b[1m\u001b[31m    | three_d_3 | tensor([[[ 0,  1],       |\u001b[0m\n",
      "\u001b[1m\u001b[31m    |           |          [ 2,  3],       |\u001b[0m\n",
      "\u001b[1m\u001b[31m    |           |          [ 4,  5]],      |\u001b[0m\n",
      "\u001b[1m\u001b[31m    |           |                          |\u001b[0m\n",
      "\u001b[1m\u001b[31m    |           |         [[ 6,  7],       |\u001b[0m\n",
      "\u001b[1m\u001b[31m    |           |          [ 8,  9],       |\u001b[0m\n",
      "\u001b[1m\u001b[31m    |           |          [10, 11]],      |\u001b[0m\n",
      "\u001b[1m\u001b[31m    |           |                          |\u001b[0m\n",
      "\u001b[1m\u001b[31m    |           |         [[12, 13],       |\u001b[0m\n",
      "\u001b[1m\u001b[31m    |           |          [14, 15],       |\u001b[0m\n",
      "\u001b[1m\u001b[31m    |           |          [16, 17]]])     |\u001b[0m\n",
      "\u001b[1m\u001b[31m    +-----------+--------------------------+\u001b[0m\n",
      "\u001b[1m\u001b[31m    +-----------------+--------+\u001b[0m\n",
      "\u001b[1m\u001b[31m    | Expression      | Result |\u001b[0m\n",
      "\u001b[1m\u001b[31m    +-----------------+--------+\u001b[0m\n",
      "\u001b[1m\u001b[31m    | three_d_1.dim() | 3      |\u001b[0m\n",
      "\u001b[1m\u001b[31m    | three_d_2.dim() | 3      |\u001b[0m\n",
      "\u001b[1m\u001b[31m    | three_d_3.dim() | 3      |\u001b[0m\n",
      "\u001b[1m\u001b[31m    +-----------------+--------+\u001b[0m\n"
     ]
    }
   ],
   "source": [
    "three_d_1 = torch.arange(18).view(2, 3, 3)\n",
    "three_d_2 = torch.arange(18).view(3, 2, 3)\n",
    "three_d_3 = torch.arange(18).view(3, 3, 2)\n",
    "\n",
    "font_color_printer(\"Creation of 3D tensor from 1D tensor\",\n",
    "                   attrs=['underline'],\n",
    "                   end='\\n\\n')\n",
    "\n",
    "table = [[\"Statement\"], [\"three_d_1 = torch.arange(18).view(2, 3, 3)\"],\n",
    "         [\"three_d_2 = torch.arange(18).view(3, 2, 3)\"],\n",
    "         [\"three_d_3 = torch.arange(18).view(3, 3, 2)\"]]\n",
    "table_list = tabulate(table,\n",
    "                      headers='firstrow',\n",
    "                      tablefmt='pretty',\n",
    "                      colalign=(\"left\", )).split('\\n')\n",
    "for line in table_list:\n",
    "    cprint('\\t'.expandtabs(4) + line, previous_color, attrs=['bold'])\n",
    "\n",
    "table = [[\"Variable\", \"Value\"], [\"three_d_1\", str(three_d_1)],\n",
    "         [\"three_d_2\", str(three_d_2)], [\"three_d_3\",\n",
    "                                         str(three_d_3)]]\n",
    "table_list = tabulate(table,\n",
    "                      headers='firstrow',\n",
    "                      tablefmt='pretty',\n",
    "                      colalign=(\"left\", \"left\")).split('\\n')\n",
    "for line in table_list:\n",
    "    cprint('\\t'.expandtabs(4) + line, previous_color, attrs=['bold'])\n",
    "\n",
    "table = [[\"Expression\", \"Result\"], [\"three_d_1.dim()\",\n",
    "                                    str(three_d_1.dim())],\n",
    "         [\"three_d_2.dim()\", str(three_d_2.dim())],\n",
    "         [\"three_d_3.dim()\", str(three_d_3.dim())]]\n",
    "table_list = tabulate(table,\n",
    "                      headers='firstrow',\n",
    "                      tablefmt='pretty',\n",
    "                      colalign=(\"left\", \"left\")).split('\\n')\n",
    "for line in table_list:\n",
    "    cprint('\\t'.expandtabs(4) + line, previous_color, attrs=['bold'])"
   ]
  },
  {
   "cell_type": "markdown",
   "id": "a3cdd36c",
   "metadata": {},
   "source": [
    "## Slicing 3D Tensors"
   ]
  },
  {
   "cell_type": "code",
   "execution_count": 31,
   "id": "1f603097",
   "metadata": {
    "ExecuteTime": {
     "end_time": "2022-10-23T14:26:11.364801Z",
     "start_time": "2022-10-23T14:26:11.361661Z"
    }
   },
   "outputs": [
    {
     "name": "stdout",
     "output_type": "stream",
     "text": [
      "\u001b[4m\u001b[32mElement selection of 3D tensor\u001b[0m\n",
      "\n",
      "\u001b[1m\u001b[32m    +--------------------+------------+\u001b[0m\n",
      "\u001b[1m\u001b[32m    | Expression         | Result     |\u001b[0m\n",
      "\u001b[1m\u001b[32m    +--------------------+------------+\u001b[0m\n",
      "\u001b[1m\u001b[32m    | three_d_1[1, 1, 1] | tensor(13) |\u001b[0m\n",
      "\u001b[1m\u001b[32m    | three_d_2[1, 1, 1] | tensor(10) |\u001b[0m\n",
      "\u001b[1m\u001b[32m    | three_d_3[1, 1, 1] | tensor(9)  |\u001b[0m\n",
      "\u001b[1m\u001b[32m    +--------------------+------------+\u001b[0m\n"
     ]
    }
   ],
   "source": [
    "font_color_printer(\"Element selection of 3D tensor\",\n",
    "                   attrs=['underline'],\n",
    "                   end='\\n\\n')\n",
    "\n",
    "table = [[\"Expression\", \"Result\"],\n",
    "         [\"three_d_1[1, 1, 1]\", str(three_d_1[1, 1, 1])],\n",
    "         [\"three_d_2[1, 1, 1]\", str(three_d_2[1, 1, 1])],\n",
    "         [\"three_d_3[1, 1, 1]\", str(three_d_3[1, 1, 1])]]\n",
    "table_list = tabulate(table,\n",
    "                      headers='firstrow',\n",
    "                      tablefmt='pretty',\n",
    "                      colalign=(\"left\", \"left\")).split('\\n')\n",
    "for line in table_list:\n",
    "    cprint('\\t'.expandtabs(4) + line, previous_color, attrs=['bold'])"
   ]
  },
  {
   "cell_type": "code",
   "execution_count": 32,
   "id": "09954cda",
   "metadata": {
    "ExecuteTime": {
     "end_time": "2022-10-23T14:26:11.369341Z",
     "start_time": "2022-10-23T14:26:11.365692Z"
    }
   },
   "outputs": [
    {
     "name": "stdout",
     "output_type": "stream",
     "text": [
      "\u001b[4m\u001b[33mSegment slicing of 3D tensor\u001b[0m\n",
      "\n",
      "\u001b[1m\u001b[33m    +------------------------+------------------------+\u001b[0m\n",
      "\u001b[1m\u001b[33m    | Expression             | Result                 |\u001b[0m\n",
      "\u001b[1m\u001b[33m    +------------------------+------------------------+\u001b[0m\n",
      "\u001b[1m\u001b[33m    | three_d_2[1, 0:2, 0:3] | tensor([[ 6,  7,  8],  |\u001b[0m\n",
      "\u001b[1m\u001b[33m    |                        |         [ 9, 10, 11]]) |\u001b[0m\n",
      "\u001b[1m\u001b[33m    | three_d_2[1, :, :]     | tensor([[ 6,  7,  8],  |\u001b[0m\n",
      "\u001b[1m\u001b[33m    |                        |         [ 9, 10, 11]]) |\u001b[0m\n",
      "\u001b[1m\u001b[33m    | three_d_2[:, :2, :-1]  | tensor([[[ 0,  1],     |\u001b[0m\n",
      "\u001b[1m\u001b[33m    |                        |          [ 3,  4]],    |\u001b[0m\n",
      "\u001b[1m\u001b[33m    |                        |                        |\u001b[0m\n",
      "\u001b[1m\u001b[33m    |                        |         [[ 6,  7],     |\u001b[0m\n",
      "\u001b[1m\u001b[33m    |                        |          [ 9, 10]],    |\u001b[0m\n",
      "\u001b[1m\u001b[33m    |                        |                        |\u001b[0m\n",
      "\u001b[1m\u001b[33m    |                        |         [[12, 13],     |\u001b[0m\n",
      "\u001b[1m\u001b[33m    |                        |          [15, 16]]])   |\u001b[0m\n",
      "\u001b[1m\u001b[33m    +------------------------+------------------------+\u001b[0m\n"
     ]
    }
   ],
   "source": [
    "font_color_printer(\"Segment slicing of 3D tensor\",\n",
    "                   attrs=['underline'],\n",
    "                   end='\\n\\n')\n",
    "\n",
    "table = [\n",
    "    [\"Expression\", \"Result\"],\n",
    "    [\"three_d_2[1, 0:2, 0:3]\",\n",
    "     str(three_d_2[1, 0:2, 0:3])],\n",
    "    [\"three_d_2[1, :, :]\", str(three_d_2[1, :, :])],\n",
    "    [\"three_d_2[:, :2, :-1]\",\n",
    "     str(three_d_2[:, :2, :-1])],\n",
    "]\n",
    "table_list = tabulate(table,\n",
    "                      headers='firstrow',\n",
    "                      tablefmt='pretty',\n",
    "                      colalign=(\"left\", \"left\")).split('\\n')\n",
    "for line in table_list:\n",
    "    cprint('\\t'.expandtabs(4) + line, previous_color, attrs=['bold'])"
   ]
  },
  {
   "cell_type": "markdown",
   "id": "22daeca9",
   "metadata": {},
   "source": [
    "## Matrix Multiplication"
   ]
  },
  {
   "cell_type": "code",
   "execution_count": 33,
   "id": "53c7b563",
   "metadata": {
    "ExecuteTime": {
     "end_time": "2022-10-23T14:26:11.374849Z",
     "start_time": "2022-10-23T14:26:11.370203Z"
    }
   },
   "outputs": [
    {
     "name": "stdout",
     "output_type": "stream",
     "text": [
      "\u001b[4m\u001b[37mMatrix multiplication of tensors\u001b[0m\n",
      "\n",
      "\u001b[1m\u001b[37m    +-------------------------------------------------------+\u001b[0m\n",
      "\u001b[1m\u001b[37m    | Statement                                             |\u001b[0m\n",
      "\u001b[1m\u001b[37m    +-------------------------------------------------------+\u001b[0m\n",
      "\u001b[1m\u001b[37m    | mat_a = torch.tensor([0, 3, 5, 5, 5, 2]).view(2, 3)   |\u001b[0m\n",
      "\u001b[1m\u001b[37m    | mat_b = torch.tensor([3, 4, 3, -2, 4, -2]).view(3, 2) |\u001b[0m\n",
      "\u001b[1m\u001b[37m    +-------------------------------------------------------+\u001b[0m\n",
      "\u001b[1m\u001b[37m    +----------+---------------------+\u001b[0m\n",
      "\u001b[1m\u001b[37m    | Variable | Value               |\u001b[0m\n",
      "\u001b[1m\u001b[37m    +----------+---------------------+\u001b[0m\n",
      "\u001b[1m\u001b[37m    | mat_a    | tensor([[0, 3, 5],  |\u001b[0m\n",
      "\u001b[1m\u001b[37m    |          |         [5, 5, 2]]) |\u001b[0m\n",
      "\u001b[1m\u001b[37m    | mat_b    | tensor([[ 3,  4],   |\u001b[0m\n",
      "\u001b[1m\u001b[37m    |          |         [ 3, -2],   |\u001b[0m\n",
      "\u001b[1m\u001b[37m    |          |         [ 4, -2]])  |\u001b[0m\n",
      "\u001b[1m\u001b[37m    +----------+---------------------+\u001b[0m\n",
      "\u001b[1m\u001b[37m    +----------------------------+----------------------+\u001b[0m\n",
      "\u001b[1m\u001b[37m    | Expression                 | Result               |\u001b[0m\n",
      "\u001b[1m\u001b[37m    +----------------------------+----------------------+\u001b[0m\n",
      "\u001b[1m\u001b[37m    | torch.matmul(mat_a, mat_b) | tensor([[ 29, -16],  |\u001b[0m\n",
      "\u001b[1m\u001b[37m    |                            |         [ 38,   6]]) |\u001b[0m\n",
      "\u001b[1m\u001b[37m    | mat_a @ mat_b              | tensor([[ 29, -16],  |\u001b[0m\n",
      "\u001b[1m\u001b[37m    |                            |         [ 38,   6]]) |\u001b[0m\n",
      "\u001b[1m\u001b[37m    +----------------------------+----------------------+\u001b[0m\n"
     ]
    }
   ],
   "source": [
    "mat_a = torch.tensor([0, 3, 5, 5, 5, 2]).view(2, 3)\n",
    "mat_b = torch.tensor([3, 4, 3, -2, 4, -2]).view(3, 2)\n",
    "\n",
    "font_color_printer(\"Matrix multiplication of tensors\",\n",
    "                   attrs=['underline'],\n",
    "                   end='\\n\\n')\n",
    "\n",
    "table = [[\"Statement\"],\n",
    "         [\"mat_a = torch.tensor([0, 3, 5, 5, 5, 2]).view(2, 3)\"],\n",
    "         [\"mat_b = torch.tensor([3, 4, 3, -2, 4, -2]).view(3, 2)\"]]\n",
    "table_list = tabulate(table,\n",
    "                      headers='firstrow',\n",
    "                      tablefmt='pretty',\n",
    "                      colalign=(\"left\", )).split('\\n')\n",
    "for line in table_list:\n",
    "    cprint('\\t'.expandtabs(4) + line, previous_color, attrs=['bold'])\n",
    "\n",
    "table = [[\"Variable\", \"Value\"], [\"mat_a\", str(mat_a)], [\"mat_b\", str(mat_b)]]\n",
    "table_list = tabulate(table,\n",
    "                      headers='firstrow',\n",
    "                      tablefmt='pretty',\n",
    "                      colalign=(\"left\", \"left\")).split('\\n')\n",
    "for line in table_list:\n",
    "    cprint('\\t'.expandtabs(4) + line, previous_color, attrs=['bold'])\n",
    "\n",
    "table = [[\"Expression\", \"Result\"],\n",
    "         [\"torch.matmul(mat_a, mat_b)\",\n",
    "          str(torch.matmul(mat_a, mat_b))],\n",
    "         [\"mat_a @ mat_b\", str(mat_a @ mat_b)]]\n",
    "table_list = tabulate(table,\n",
    "                      headers='firstrow',\n",
    "                      tablefmt='pretty',\n",
    "                      colalign=(\"left\", \"left\")).split('\\n')\n",
    "for line in table_list:\n",
    "    cprint('\\t'.expandtabs(4) + line, previous_color, attrs=['bold'])"
   ]
  },
  {
   "cell_type": "markdown",
   "id": "838a8fc2",
   "metadata": {},
   "source": [
    "## Gradient with PyTorch"
   ]
  },
  {
   "cell_type": "code",
   "execution_count": 34,
   "id": "bac10dab",
   "metadata": {
    "ExecuteTime": {
     "end_time": "2022-10-23T14:26:11.389263Z",
     "start_time": "2022-10-23T14:26:11.375730Z"
    }
   },
   "outputs": [
    {
     "name": "stdout",
     "output_type": "stream",
     "text": [
      "\u001b[4m\u001b[34mMethod of making predictions\u001b[0m\n",
      "\n",
      "\u001b[1m\u001b[34m    +------------------------------------------------+\u001b[0m\n",
      "\u001b[1m\u001b[34m    | Statement                                      |\u001b[0m\n",
      "\u001b[1m\u001b[34m    +------------------------------------------------+\u001b[0m\n",
      "\u001b[1m\u001b[34m    | x = torch.tensor(2.0, requires_grad=True)      |\u001b[0m\n",
      "\u001b[1m\u001b[34m    | y = 9 * x**4 + 2 * x**3 + 3 * x**2 + 6 * x + 1 |\u001b[0m\n",
      "\u001b[1m\u001b[34m    | y.backward()                                   |\u001b[0m\n",
      "\u001b[1m\u001b[34m    +------------------------------------------------+\u001b[0m\n",
      "\u001b[1m\u001b[34m    +----------+--------------------------------------+\u001b[0m\n",
      "\u001b[1m\u001b[34m    | Variable | Value                                |\u001b[0m\n",
      "\u001b[1m\u001b[34m    +----------+--------------------------------------+\u001b[0m\n",
      "\u001b[1m\u001b[34m    | x        | tensor(2., requires_grad=True)       |\u001b[0m\n",
      "\u001b[1m\u001b[34m    | y        | tensor(185., grad_fn=<AddBackward0>) |\u001b[0m\n",
      "\u001b[1m\u001b[34m    +----------+--------------------------------------+\u001b[0m\n",
      "\u001b[1m\u001b[34m    +------------+--------------+\u001b[0m\n",
      "\u001b[1m\u001b[34m    | Expression | Result       |\u001b[0m\n",
      "\u001b[1m\u001b[34m    +------------+--------------+\u001b[0m\n",
      "\u001b[1m\u001b[34m    | x.grad     | tensor(330.) |\u001b[0m\n",
      "\u001b[1m\u001b[34m    +------------+--------------+\u001b[0m\n"
     ]
    }
   ],
   "source": [
    "x = torch.tensor(2.0, requires_grad=True)\n",
    "y = 9 * x**4 + 2 * x**3 + 3 * x**2 + 6 * x + 1\n",
    "y.backward()\n",
    "\n",
    "font_color_printer(\"Method of making predictions\",\n",
    "                   attrs=['underline'],\n",
    "                   end='\\n\\n')\n",
    "\n",
    "table = [[\"Statement\"], [\"x = torch.tensor(2.0, requires_grad=True)\"],\n",
    "         [\"y = 9 * x**4 + 2 * x**3 + 3 * x**2 + 6 * x + 1\"], [\"y.backward()\"]]\n",
    "table_list = tabulate(table,\n",
    "                      headers='firstrow',\n",
    "                      tablefmt='pretty',\n",
    "                      colalign=(\"left\", )).split('\\n')\n",
    "for line in table_list:\n",
    "    cprint('\\t'.expandtabs(4) + line, previous_color, attrs=['bold'])\n",
    "\n",
    "table = [[\"Variable\", \"Value\"], [\"x\", str(x)], [\"y\", str(y)]]\n",
    "table_list = tabulate(table,\n",
    "                      headers='firstrow',\n",
    "                      tablefmt='pretty',\n",
    "                      colalign=(\"left\", \"left\")).split('\\n')\n",
    "for line in table_list:\n",
    "    cprint('\\t'.expandtabs(4) + line, previous_color, attrs=['bold'])\n",
    "\n",
    "table = [[\"Expression\", \"Result\"], [\"x.grad\", str(x.grad)]]\n",
    "table_list = tabulate(table,\n",
    "                      headers='firstrow',\n",
    "                      tablefmt='pretty',\n",
    "                      colalign=(\"left\", \"left\")).split('\\n')\n",
    "for line in table_list:\n",
    "    cprint('\\t'.expandtabs(4) + line, previous_color, attrs=['bold'])"
   ]
  },
  {
   "cell_type": "code",
   "execution_count": 35,
   "id": "4a05f209",
   "metadata": {
    "ExecuteTime": {
     "end_time": "2022-10-23T14:26:11.394718Z",
     "start_time": "2022-10-23T14:26:11.390180Z"
    }
   },
   "outputs": [
    {
     "name": "stdout",
     "output_type": "stream",
     "text": [
      "\u001b[4m\u001b[30mCalculation of partial derivative\u001b[0m\n",
      "\n",
      "\u001b[1m\u001b[30m    +-------------------------------------------+\u001b[0m\n",
      "\u001b[1m\u001b[30m    | Statement                                 |\u001b[0m\n",
      "\u001b[1m\u001b[30m    +-------------------------------------------+\u001b[0m\n",
      "\u001b[1m\u001b[30m    | x = torch.tensor(1.0, requires_grad=True) |\u001b[0m\n",
      "\u001b[1m\u001b[30m    | z = torch.tensor(2.0, requires_grad=True) |\u001b[0m\n",
      "\u001b[1m\u001b[30m    | y = x**2 + z**3                           |\u001b[0m\n",
      "\u001b[1m\u001b[30m    | y.backward()                              |\u001b[0m\n",
      "\u001b[1m\u001b[30m    +-------------------------------------------+\u001b[0m\n",
      "\u001b[1m\u001b[30m    +----------+------------------------------------+\u001b[0m\n",
      "\u001b[1m\u001b[30m    | Variable | Value                              |\u001b[0m\n",
      "\u001b[1m\u001b[30m    +----------+------------------------------------+\u001b[0m\n",
      "\u001b[1m\u001b[30m    | x        | tensor(1., requires_grad=True)     |\u001b[0m\n",
      "\u001b[1m\u001b[30m    | z        | tensor(2., requires_grad=True)     |\u001b[0m\n",
      "\u001b[1m\u001b[30m    | y        | tensor(9., grad_fn=<AddBackward0>) |\u001b[0m\n",
      "\u001b[1m\u001b[30m    +----------+------------------------------------+\u001b[0m\n",
      "\u001b[1m\u001b[30m    +------------+-------------+\u001b[0m\n",
      "\u001b[1m\u001b[30m    | Expression | Result      |\u001b[0m\n",
      "\u001b[1m\u001b[30m    +------------+-------------+\u001b[0m\n",
      "\u001b[1m\u001b[30m    | x.grad     | tensor(2.)  |\u001b[0m\n",
      "\u001b[1m\u001b[30m    | z.grad     | tensor(12.) |\u001b[0m\n",
      "\u001b[1m\u001b[30m    +------------+-------------+\u001b[0m\n"
     ]
    }
   ],
   "source": [
    "x = torch.tensor(1.0, requires_grad=True)\n",
    "z = torch.tensor(2.0, requires_grad=True)\n",
    "y = x**2 + z**3\n",
    "y.backward()\n",
    "\n",
    "font_color_printer(\"Calculation of partial derivative\",\n",
    "                   attrs=['underline'],\n",
    "                   end='\\n\\n')\n",
    "\n",
    "table = [[\"Statement\"], [\"x = torch.tensor(1.0, requires_grad=True)\"],\n",
    "         [\"z = torch.tensor(2.0, requires_grad=True)\"], [\"y = x**2 + z**3\"],\n",
    "         [\"y.backward()\"]]\n",
    "table_list = tabulate(table,\n",
    "                      headers='firstrow',\n",
    "                      tablefmt='pretty',\n",
    "                      colalign=(\"left\", )).split('\\n')\n",
    "for line in table_list:\n",
    "    cprint('\\t'.expandtabs(4) + line, previous_color, attrs=['bold'])\n",
    "\n",
    "table = [[\"Variable\", \"Value\"], [\"x\", str(x)], [\"z\", str(z)], [\"y\", str(y)]]\n",
    "table_list = tabulate(table,\n",
    "                      headers='firstrow',\n",
    "                      tablefmt='pretty',\n",
    "                      colalign=(\"left\", \"left\")).split('\\n')\n",
    "for line in table_list:\n",
    "    cprint('\\t'.expandtabs(4) + line, previous_color, attrs=['bold'])\n",
    "\n",
    "table = [[\"Expression\", \"Result\"], [\"x.grad\", str(x.grad)],\n",
    "         [\"z.grad\", str(z.grad)]]\n",
    "table_list = tabulate(table,\n",
    "                      headers='firstrow',\n",
    "                      tablefmt='pretty',\n",
    "                      colalign=(\"left\", \"left\")).split('\\n')\n",
    "for line in table_list:\n",
    "    cprint('\\t'.expandtabs(4) + line, previous_color, attrs=['bold'])"
   ]
  }
 ],
 "metadata": {
  "hide_input": false,
  "kernelspec": {
   "display_name": "Python 3 (ipykernel)",
   "language": "python",
   "name": "python3"
  },
  "language_info": {
   "codemirror_mode": {
    "name": "ipython",
    "version": 3
   },
   "file_extension": ".py",
   "mimetype": "text/x-python",
   "name": "python",
   "nbconvert_exporter": "python",
   "pygments_lexer": "ipython3",
   "version": "3.9.12"
  },
  "latex_envs": {
   "LaTeX_envs_menu_present": true,
   "autoclose": false,
   "autocomplete": true,
   "bibliofile": "biblio.bib",
   "cite_by": "apalike",
   "current_citInitial": 1,
   "eqLabelWithNumbers": true,
   "eqNumInitial": 1,
   "hotkeys": {
    "equation": "Ctrl-E",
    "itemize": "Ctrl-I"
   },
   "labels_anchors": false,
   "latex_user_defs": false,
   "report_style_numbering": false,
   "user_envs_cfg": false
  },
  "nbTranslate": {
   "displayLangs": [
    "*"
   ],
   "hotkey": "alt-t",
   "langInMainMenu": true,
   "sourceLang": "en",
   "targetLang": "fr",
   "useGoogleTranslate": true
  },
  "toc": {
   "base_numbering": 1,
   "nav_menu": {},
   "number_sections": true,
   "sideBar": true,
   "skip_h1_title": false,
   "title_cell": "Table of Contents",
   "title_sidebar": "Contents",
   "toc_cell": false,
   "toc_position": {
    "height": "calc(100% - 180px)",
    "left": "10px",
    "top": "150px",
    "width": "345.594px"
   },
   "toc_section_display": true,
   "toc_window_display": true
  }
 },
 "nbformat": 4,
 "nbformat_minor": 5
}

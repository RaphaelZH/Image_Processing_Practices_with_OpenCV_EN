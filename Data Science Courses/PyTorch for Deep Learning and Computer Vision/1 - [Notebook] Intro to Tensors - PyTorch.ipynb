{
 "cells": [
  {
   "cell_type": "markdown",
   "id": "38a7fe70",
   "metadata": {},
   "source": [
    "# Importing Libraries"
   ]
  },
  {
   "cell_type": "code",
   "execution_count": 1,
   "id": "c141e947",
   "metadata": {
    "ExecuteTime": {
     "end_time": "2022-10-11T17:07:34.016705Z",
     "start_time": "2022-10-11T17:07:33.315768Z"
    }
   },
   "outputs": [],
   "source": [
    "import torch\n",
    "\n",
    "import numpy as np\n",
    "\n",
    "import matplotlib as mpl\n",
    "import matplotlib.pyplot as plt\n",
    "\n",
    "from termcolor import colored\n",
    "import colorsys\n",
    "import random"
   ]
  },
  {
   "cell_type": "markdown",
   "id": "fc0137a2",
   "metadata": {},
   "source": [
    "# Configuring Visualization Parameters"
   ]
  },
  {
   "cell_type": "code",
   "execution_count": 2,
   "id": "7340d12b",
   "metadata": {
    "ExecuteTime": {
     "end_time": "2022-10-11T17:07:34.025135Z",
     "start_time": "2022-10-11T17:07:34.017981Z"
    }
   },
   "outputs": [],
   "source": [
    "%matplotlib inline"
   ]
  },
  {
   "cell_type": "code",
   "execution_count": 3,
   "id": "e5d9f80b",
   "metadata": {
    "ExecuteTime": {
     "end_time": "2022-10-11T17:07:34.027513Z",
     "start_time": "2022-10-11T17:07:34.025947Z"
    }
   },
   "outputs": [],
   "source": [
    "XINHUI = '#7a7374'\n",
    "XUEBAI = '#fffef9'\n",
    "YINBAI = '#f1f0ed'\n",
    "YINHUI = '#918072'"
   ]
  },
  {
   "cell_type": "code",
   "execution_count": 4,
   "id": "eabed42f",
   "metadata": {
    "ExecuteTime": {
     "end_time": "2022-10-11T17:07:34.031561Z",
     "start_time": "2022-10-11T17:07:34.029189Z"
    }
   },
   "outputs": [],
   "source": [
    "custom_params = {\n",
    "    'axes.axisbelow': True,\n",
    "    'axes.edgecolor': YINBAI,\n",
    "    'axes.facecolor': XUEBAI,\n",
    "    'axes.grid': True,\n",
    "    'axes.labelcolor': XINHUI,\n",
    "    'axes.labelsize': 'large',\n",
    "    'axes.spines.right': False,\n",
    "    'axes.spines.top': False,\n",
    "    'axes.titlecolor': XINHUI,\n",
    "    'axes.titlesize': 'x-large',\n",
    "    'figure.edgecolor': YINBAI,\n",
    "    'figure.facecolor': XUEBAI,\n",
    "    'figure.figsize': (16, 9),\n",
    "    'figure.titlesize': 'x-large',\n",
    "    'grid.alpha': .8,\n",
    "    'grid.color': YINBAI,\n",
    "    'grid.linestyle': '--',\n",
    "    'grid.linewidth': 1.2,\n",
    "    'legend.edgecolor': YINHUI,\n",
    "    'patch.edgecolor': XUEBAI,\n",
    "    'patch.force_edgecolor': True,\n",
    "    'text.color': XINHUI,\n",
    "    'xtick.color': YINHUI,\n",
    "    'ytick.color': YINHUI,\n",
    "}\n",
    "\n",
    "mpl.rcParams.update(custom_params)"
   ]
  },
  {
   "cell_type": "markdown",
   "id": "7fc4fbe3",
   "metadata": {},
   "source": [
    "# Pre-installing Required Functions"
   ]
  },
  {
   "cell_type": "code",
   "execution_count": 14,
   "id": "f302b65c",
   "metadata": {
    "ExecuteTime": {
     "end_time": "2022-10-11T17:07:45.090927Z",
     "start_time": "2022-10-11T17:07:45.080023Z"
    }
   },
   "outputs": [],
   "source": [
    "def list_head_checker(list_1, list_2):\n",
    "    for i in range(len(list_2)):\n",
    "        if list_1[-1] == list_2[0]:\n",
    "            head, list_2 = list_2[0], list_2[1:]\n",
    "            list_2.append(head)\n",
    "        else:\n",
    "            break\n",
    "    return list_2"
   ]
  },
  {
   "cell_type": "code",
   "execution_count": 20,
   "id": "7b4a7ac5",
   "metadata": {
    "ExecuteTime": {
     "end_time": "2022-10-11T17:09:44.723915Z",
     "start_time": "2022-10-11T17:09:44.716823Z"
    }
   },
   "outputs": [],
   "source": [
    "def list_concatenator(list_1, list_2):\n",
    "    if list_1 != []:\n",
    "        list_2 = list_head_checker(list_1, list_2)\n",
    "    list_1 += list_2\n",
    "    return list_1"
   ]
  },
  {
   "cell_type": "code",
   "execution_count": 33,
   "id": "1388b337",
   "metadata": {
    "ExecuteTime": {
     "end_time": "2022-10-11T17:13:06.090332Z",
     "start_time": "2022-10-11T17:13:06.078413Z"
    },
    "code_folding": []
   },
   "outputs": [],
   "source": [
    "def color_list_generator(n = 100):\n",
    "    termcolors = [\n",
    "        'grey', 'red', 'green', 'yellow', 'blue', 'magenta', 'cyan', 'white'\n",
    "    ]\n",
    "    global font_colors\n",
    "    font_colors = []\n",
    "    for i in range(((n - 1) // 8 + 1)):\n",
    "        if n <= 8:\n",
    "            random_list = random.sample(termcolors, k=n)\n",
    "            list_concatenator(font_colors, random_list)\n",
    "        else:\n",
    "            if i < ((n - 1) // 8):\n",
    "                random_list = random.sample(termcolors, k=8)\n",
    "                if font_colors != []:\n",
    "                    list_concatenator(font_colors, random_list)\n",
    "                else:\n",
    "                    list_concatenator(font_colors, random_list)\n",
    "            else:\n",
    "                k = n % 8\n",
    "                if k == 0:\n",
    "                    random_list = random.sample(termcolors, k=8)\n",
    "                    list_concatenator(font_colors, random_list)\n",
    "                elif k == 1:\n",
    "                    random_list = random.sample(termcolors, k=2)\n",
    "                    font_colors = list_concatenator(font_colors,\n",
    "                                                     random_list)[:-1]\n",
    "                else:\n",
    "                    random_list = random.sample(termcolors, k=k)\n",
    "                    list_concatenator(font_colors, random_list)"
   ]
  },
  {
   "cell_type": "code",
   "execution_count": 36,
   "id": "39a9a22a",
   "metadata": {
    "ExecuteTime": {
     "end_time": "2022-10-11T17:14:33.324194Z",
     "start_time": "2022-10-11T17:14:33.318288Z"
    }
   },
   "outputs": [],
   "source": [
    "color_list_generator()"
   ]
  },
  {
   "cell_type": "code",
   "execution_count": 52,
   "id": "2d197388",
   "metadata": {
    "ExecuteTime": {
     "end_time": "2022-10-11T17:20:22.438769Z",
     "start_time": "2022-10-11T17:20:22.431794Z"
    }
   },
   "outputs": [],
   "source": [
    "def a():\n",
    "    global font_colors\n",
    "    try:\n",
    "        font_colors\n",
    "    except NameError:\n",
    "        color_list_generator()\n",
    "        print(\"1\")\n",
    "    else:\n",
    "        print(\"2\")"
   ]
  },
  {
   "cell_type": "code",
   "execution_count": 56,
   "id": "bfabc240",
   "metadata": {
    "ExecuteTime": {
     "end_time": "2022-10-11T17:20:30.580420Z",
     "start_time": "2022-10-11T17:20:30.569968Z"
    }
   },
   "outputs": [
    {
     "name": "stdout",
     "output_type": "stream",
     "text": [
      "2\n"
     ]
    }
   ],
   "source": [
    "a()"
   ]
  },
  {
   "cell_type": "code",
   "execution_count": 54,
   "id": "bd2c955c",
   "metadata": {
    "ExecuteTime": {
     "end_time": "2022-10-11T17:20:27.510119Z",
     "start_time": "2022-10-11T17:20:27.503350Z"
    }
   },
   "outputs": [],
   "source": [
    "del font_colors"
   ]
  },
  {
   "cell_type": "code",
   "execution_count": null,
   "id": "e18f6654",
   "metadata": {},
   "outputs": [],
   "source": []
  },
  {
   "cell_type": "code",
   "execution_count": 17,
   "id": "ad46b82b",
   "metadata": {
    "ExecuteTime": {
     "end_time": "2022-10-11T17:07:48.239043Z",
     "start_time": "2022-10-11T17:07:48.224865Z"
    }
   },
   "outputs": [],
   "source": [
    "def calm_color_generator(n):\n",
    "    colors = []\n",
    "    hue = np.repeat(np.random.random(), n)\n",
    "    hue_interval = np.linspace(0, 1, n, endpoint=False)\n",
    "    saturation = 0.6 + np.random.random() / 5.0 * np.random.choice([-1, 1])\n",
    "    lightness = 0.5 + np.random.random() / 10.0 * np.random.choice([-1, 1])\n",
    "    h = hue + hue_interval\n",
    "    h = np.where(h > 1, h - 1, h)\n",
    "    s = np.repeat(saturation, n)\n",
    "    l = np.repeat(lightness, n)\n",
    "    array_hls = np.concatenate((h, l, s)).reshape(-1, n).T\n",
    "    for hls in array_hls:\n",
    "        r, g, b = [\n",
    "            int(256 * e) for e in colorsys.hls_to_rgb(hls[0], hls[1], hls[2])\n",
    "        ]\n",
    "        colors.append('#%02X%02X%02X' % (r, g, b))\n",
    "    return colors"
   ]
  },
  {
   "cell_type": "code",
   "execution_count": 9,
   "id": "3c01d1eb",
   "metadata": {
    "ExecuteTime": {
     "end_time": "2022-10-11T17:07:34.284863Z",
     "start_time": "2022-10-11T17:07:34.045841Z"
    },
    "code_folding": []
   },
   "outputs": [
    {
     "ename": "AttributeError",
     "evalue": "module 'numpy.random' has no attribute 'choices'",
     "output_type": "error",
     "traceback": [
      "\u001b[0;31m---------------------------------------------------------------------------\u001b[0m",
      "\u001b[0;31mAttributeError\u001b[0m                            Traceback (most recent call last)",
      "Input \u001b[0;32mIn [9]\u001b[0m, in \u001b[0;36m<cell line: 4>\u001b[0;34m()\u001b[0m\n\u001b[1;32m      1\u001b[0m termcolors \u001b[38;5;241m=\u001b[39m [\n\u001b[1;32m      2\u001b[0m     \u001b[38;5;124m'\u001b[39m\u001b[38;5;124mgrey\u001b[39m\u001b[38;5;124m'\u001b[39m, \u001b[38;5;124m'\u001b[39m\u001b[38;5;124mred\u001b[39m\u001b[38;5;124m'\u001b[39m, \u001b[38;5;124m'\u001b[39m\u001b[38;5;124mgreen\u001b[39m\u001b[38;5;124m'\u001b[39m, \u001b[38;5;124m'\u001b[39m\u001b[38;5;124myellow\u001b[39m\u001b[38;5;124m'\u001b[39m, \u001b[38;5;124m'\u001b[39m\u001b[38;5;124mblue\u001b[39m\u001b[38;5;124m'\u001b[39m, \u001b[38;5;124m'\u001b[39m\u001b[38;5;124mmagenta\u001b[39m\u001b[38;5;124m'\u001b[39m, \u001b[38;5;124m'\u001b[39m\u001b[38;5;124mcyan\u001b[39m\u001b[38;5;124m'\u001b[39m, \u001b[38;5;124m'\u001b[39m\u001b[38;5;124mwhite\u001b[39m\u001b[38;5;124m'\u001b[39m\n\u001b[1;32m      3\u001b[0m ]\n\u001b[0;32m----> 4\u001b[0m font_colors \u001b[38;5;241m=\u001b[39m \u001b[43mnp\u001b[49m\u001b[38;5;241;43m.\u001b[39;49m\u001b[43mrandom\u001b[49m\u001b[38;5;241;43m.\u001b[39;49m\u001b[43mchoices\u001b[49m(termcolors, k\u001b[38;5;241m=\u001b[39m\u001b[38;5;241m2\u001b[39m)\n\u001b[1;32m      5\u001b[0m \u001b[38;5;28;01mfor\u001b[39;00m i \u001b[38;5;129;01min\u001b[39;00m \u001b[38;5;28mrange\u001b[39m(epochs):\n\u001b[1;32m      6\u001b[0m     i \u001b[38;5;241m+\u001b[39m\u001b[38;5;241m=\u001b[39m \u001b[38;5;241m1\u001b[39m\n",
      "\u001b[0;31mAttributeError\u001b[0m: module 'numpy.random' has no attribute 'choices'"
     ]
    }
   ],
   "source": [
    "termcolors = [\n",
    "    'grey', 'red', 'green', 'yellow', 'blue', 'magenta', 'cyan', 'white'\n",
    "]\n",
    "font_colors = np.random.choices(termcolors, k=2)\n",
    "for i in range(epochs):\n",
    "    i += 1\n",
    "    y_pred = model.forward(X_data)\n",
    "    loss = criterion(y_pred, y_data)\n",
    "    if i == 1 or i % 100 == 0:\n",
    "        print(colored(\"epoch:\", font_colors[0], attrs=['bold']), i,\n",
    "              colored(\"loss:\", font_colors[1]), loss.item())\n",
    "        print(colored(\"weight:\", font_colors[1]),\n",
    "              list(model.parameters())[0][0][0].item(),\n",
    "              colored(\"bias:\", font_colors[1]),\n",
    "              list(model.parameters())[1][0].item())\n",
    "    losses.append(loss.item())\n",
    "    optimizer.zero_grad()\n",
    "    loss.backward()\n",
    "    optimizer.step()"
   ]
  },
  {
   "cell_type": "code",
   "execution_count": null,
   "id": "6fa2476a",
   "metadata": {
    "ExecuteTime": {
     "end_time": "2022-10-11T17:07:34.287224Z",
     "start_time": "2022-10-11T17:07:34.287217Z"
    }
   },
   "outputs": [],
   "source": [
    "def bb(n, **kwargs):\n",
    "    termcolors = [\n",
    "        'grey', 'red', 'green', 'yellow', 'blue', 'magenta', 'cyan', 'white'\n",
    "    ]\n",
    "    if n > 8 :\n",
    "        \n",
    "    font_colors = random.choices(termcolors, k=n)\n",
    "    for \n",
    "    colored(\"epoch:\", font_colors[0], attrs=['bold'])\n",
    "    colored(\"epoch:\", font_colors[1], attrs=['bold'])"
   ]
  },
  {
   "cell_type": "code",
   "execution_count": null,
   "id": "abc44709",
   "metadata": {
    "ExecuteTime": {
     "end_time": "2022-10-11T17:07:34.287986Z",
     "start_time": "2022-10-11T17:07:34.287981Z"
    },
    "scrolled": true
   },
   "outputs": [],
   "source": [
    "import sys\n",
    "\n",
    "from termcolor import colored, cprint\n",
    "\n",
    "text = colored(\"Hello, World!\", \"red\", attrs=[\"reverse\", \"blink\"])\n",
    "print(text)\n",
    "cprint(\"Hello, World!\", \"green\", \"on_red\")\n",
    "\n",
    "print_red_on_cyan = lambda x: cprint(x, \"red\", \"on_cyan\")\n",
    "print_red_on_cyan(\"Hello, World!\")\n",
    "print_red_on_cyan(\"Hello, Universe!\")\n",
    "\n",
    "for i in range(10):\n",
    "    cprint(i, \"magenta\", end=\" \")\n",
    "\n",
    "cprint(\"Attention!\", \"red\", attrs=[\"bold\"], file=sys.stderr)"
   ]
  },
  {
   "cell_type": "code",
   "execution_count": null,
   "id": "39a94b2f",
   "metadata": {},
   "outputs": [],
   "source": []
  },
  {
   "cell_type": "code",
   "execution_count": null,
   "id": "d7c3d53c",
   "metadata": {
    "ExecuteTime": {
     "end_time": "2022-10-11T17:07:34.288819Z",
     "start_time": "2022-10-11T17:07:34.288813Z"
    }
   },
   "outputs": [],
   "source": [
    "def adjacent_non_repetitive(list_1, list_2):\n",
    "    for i in range(len(list_2)):\n",
    "        if list_1[-1] == list_2[0]:\n",
    "            head, list_2 = list_2[0], list_2[1:]\n",
    "            list_2.append(head)\n",
    "        else:\n",
    "            break\n",
    "    return list_2\n",
    "\n",
    "\n",
    "list_1 = [1, 2, 3, 3, 5]\n",
    "list_2 = [5, 5, 4, 2, 3, 3, 6]\n",
    "\n",
    "list_1 = list_concatenator(list_1, list_2)\n",
    "list_1"
   ]
  },
  {
   "cell_type": "code",
   "execution_count": null,
   "id": "b6203182",
   "metadata": {
    "ExecuteTime": {
     "end_time": "2022-10-11T17:07:34.289570Z",
     "start_time": "2022-10-11T17:07:34.289563Z"
    }
   },
   "outputs": [],
   "source": [
    "len(color_list_generator(15))"
   ]
  },
  {
   "cell_type": "code",
   "execution_count": null,
   "id": "7ad17c57",
   "metadata": {
    "ExecuteTime": {
     "end_time": "2022-10-11T17:07:34.290676Z",
     "start_time": "2022-10-11T17:07:34.290669Z"
    }
   },
   "outputs": [],
   "source": [
    "termcolors = [\n",
    "    'grey', 'red', 'green', 'yellow', 'blue', 'magenta', 'cyan', 'white'\n",
    "]\n",
    "\n",
    "n = 30\n",
    "\n",
    "font_colors = []\n",
    "for i in range(((n - 1) // 8 + 1)):\n",
    "    if n <= 8:\n",
    "        random_list = random.sample(termcolors, k=n)\n",
    "        list_concatenation(font_colors, random_list)\n",
    "    else:\n",
    "        if i < ((n - 1) // 8):\n",
    "            random_list = random.sample(termcolors, k=8)\n",
    "            if font_colors != []:\n",
    "                font_colors = list_concatenation(font_colors, random_list)\n",
    "            else:\n",
    "                list_concatenation(font_colors, random_list)\n",
    "        else:\n",
    "            k = n % 8\n",
    "            if k == 0:\n",
    "                random_list = random.sample(termcolors, k=8)\n",
    "                font_colors = list_concatenation(font_colors, random_list)\n",
    "            elif k == 1:\n",
    "                random_list = random.sample(termcolors, k=2)\n",
    "                font_colors = list_concatenation(font_colors,\n",
    "                                                 random_list)[:-1]\n",
    "            else:\n",
    "                random_list = random.sample(termcolors, k=k)\n",
    "                font_colors = list_concatenation(font_colors, random_list)\n",
    "\n",
    "\n",
    "font_colors"
   ]
  },
  {
   "cell_type": "code",
   "execution_count": null,
   "id": "fdf5a99c",
   "metadata": {
    "ExecuteTime": {
     "end_time": "2022-10-11T17:07:34.291276Z",
     "start_time": "2022-10-11T17:07:34.291271Z"
    }
   },
   "outputs": [],
   "source": [
    "a = font_colors.pop(0)\n",
    "print(a, font_colors)"
   ]
  },
  {
   "cell_type": "code",
   "execution_count": null,
   "id": "f2ba6c2d",
   "metadata": {
    "ExecuteTime": {
     "end_time": "2022-10-11T17:07:34.292109Z",
     "start_time": "2022-10-11T17:07:34.292101Z"
    }
   },
   "outputs": [],
   "source": [
    "font_colors = []\n",
    "list1 = random.sample(termcolors, k=8)\n",
    "\n",
    "font_colors = font_colors + list1"
   ]
  },
  {
   "cell_type": "code",
   "execution_count": null,
   "id": "5a4af0f2",
   "metadata": {
    "ExecuteTime": {
     "end_time": "2022-10-11T17:07:34.292988Z",
     "start_time": "2022-10-11T17:07:34.292980Z"
    }
   },
   "outputs": [],
   "source": [
    "print(font_colors)\n",
    "head, font_colors = font_colors[0], font_colors[1:]\n",
    "font_colors.append(head)\n",
    "print(font_colors)"
   ]
  },
  {
   "cell_type": "markdown",
   "id": "8cd6fa88",
   "metadata": {},
   "source": [
    "# Practicing in Stages\n",
    "\n",
    "## 1 Dimensional Tensors"
   ]
  },
  {
   "cell_type": "code",
   "execution_count": null,
   "id": "0152cded",
   "metadata": {
    "ExecuteTime": {
     "end_time": "2022-10-11T14:22:05.553149Z",
     "start_time": "2022-10-11T14:22:05.553140Z"
    }
   },
   "outputs": [],
   "source": [
    "v = torch.tensor([1, 2, 3, 4, 5, 6])\n",
    "print(v)\n",
    "print(v.dtype)\n",
    "print(v.type())"
   ]
  },
  {
   "cell_type": "code",
   "execution_count": null,
   "id": "87033e2e",
   "metadata": {
    "ExecuteTime": {
     "end_time": "2022-10-11T14:22:05.554039Z",
     "start_time": "2022-10-11T14:22:05.554033Z"
    }
   },
   "outputs": [],
   "source": [
    "print(v[0])\n",
    "print(v[1:-1])\n",
    "print(v[-1])"
   ]
  },
  {
   "cell_type": "code",
   "execution_count": null,
   "id": "64f06149",
   "metadata": {
    "ExecuteTime": {
     "end_time": "2022-10-11T14:22:05.554729Z",
     "start_time": "2022-10-11T14:22:05.554723Z"
    }
   },
   "outputs": [],
   "source": [
    "f = torch.FloatTensor([1, 2, 3, 4, 5, 6])\n",
    "print(f)\n",
    "print(f.dtype)\n",
    "print(f.type())"
   ]
  },
  {
   "cell_type": "code",
   "execution_count": null,
   "id": "0fac75c0",
   "metadata": {
    "ExecuteTime": {
     "end_time": "2022-10-11T14:22:05.555170Z",
     "start_time": "2022-10-11T14:22:05.555164Z"
    }
   },
   "outputs": [],
   "source": [
    "print(v.view(6, 1))"
   ]
  },
  {
   "cell_type": "code",
   "execution_count": null,
   "id": "a9b4fa2e",
   "metadata": {
    "ExecuteTime": {
     "end_time": "2022-10-11T14:22:05.555974Z",
     "start_time": "2022-10-11T14:22:05.555969Z"
    }
   },
   "outputs": [],
   "source": [
    "print(v.view(3, 2))"
   ]
  },
  {
   "cell_type": "code",
   "execution_count": null,
   "id": "9eaff7ad",
   "metadata": {
    "ExecuteTime": {
     "end_time": "2022-10-11T14:22:05.556562Z",
     "start_time": "2022-10-11T14:22:05.556557Z"
    }
   },
   "outputs": [],
   "source": [
    "print(v.view(3, -1))"
   ]
  },
  {
   "cell_type": "code",
   "execution_count": null,
   "id": "dca87da3",
   "metadata": {
    "ExecuteTime": {
     "end_time": "2022-10-11T14:22:05.557301Z",
     "start_time": "2022-10-11T14:22:05.557296Z"
    }
   },
   "outputs": [],
   "source": [
    "a = np.array([1, 2, 3, 4, 5, 6])\n",
    "tensor_cnv = torch.from_numpy(a)\n",
    "print(tensor_cnv)\n",
    "print(tensor_cnv.type())"
   ]
  },
  {
   "cell_type": "code",
   "execution_count": null,
   "id": "dc117667",
   "metadata": {
    "ExecuteTime": {
     "end_time": "2022-10-11T14:22:05.558390Z",
     "start_time": "2022-10-11T14:22:05.558385Z"
    }
   },
   "outputs": [],
   "source": [
    "numpy_cnv = tensor_cnv.numpy()\n",
    "print(numpy_cnv)\n",
    "print(type(numpy_cnv))"
   ]
  },
  {
   "cell_type": "markdown",
   "id": "b486bb0a",
   "metadata": {},
   "source": [
    "# Vector Operations"
   ]
  },
  {
   "cell_type": "code",
   "execution_count": null,
   "id": "50782444",
   "metadata": {
    "ExecuteTime": {
     "end_time": "2022-10-11T17:07:34.293755Z",
     "start_time": "2022-10-11T17:07:34.293749Z"
    }
   },
   "outputs": [],
   "source": [
    "t_one = torch.tensor([1, 2, 3])\n",
    "t_two = torch.tensor([1, 2, 3])\n",
    "print(t_one + t_two)\n",
    "print(t_one * t_two)\n",
    "print(t_one * 5)"
   ]
  },
  {
   "cell_type": "code",
   "execution_count": null,
   "id": "0b840aea",
   "metadata": {
    "ExecuteTime": {
     "end_time": "2022-10-11T17:07:34.294370Z",
     "start_time": "2022-10-11T17:07:34.294364Z"
    }
   },
   "outputs": [],
   "source": [
    "dot_product = torch.dot(t_one, t_two)\n",
    "print(dot_product)"
   ]
  },
  {
   "cell_type": "code",
   "execution_count": null,
   "id": "07d36773",
   "metadata": {
    "ExecuteTime": {
     "end_time": "2022-10-11T17:07:34.295261Z",
     "start_time": "2022-10-11T17:07:34.295255Z"
    }
   },
   "outputs": [],
   "source": [
    "x = torch.linspace(0, 10, 5)\n",
    "y = torch.exp(x)\n",
    "print(x)\n",
    "print(y)"
   ]
  },
  {
   "cell_type": "code",
   "execution_count": null,
   "id": "a87db616",
   "metadata": {
    "ExecuteTime": {
     "end_time": "2022-10-11T17:07:34.296080Z",
     "start_time": "2022-10-11T17:07:34.296070Z"
    }
   },
   "outputs": [],
   "source": [
    "colors = calm_color_generator(1)\n",
    "plt.plot(x.numpy(), y.numpy(), c=colors[0])"
   ]
  },
  {
   "cell_type": "code",
   "execution_count": null,
   "id": "b6e4c53f",
   "metadata": {
    "ExecuteTime": {
     "end_time": "2022-10-11T17:07:34.296937Z",
     "start_time": "2022-10-11T17:07:34.296932Z"
    }
   },
   "outputs": [],
   "source": [
    "x = torch.linspace(0, 10, 100)\n",
    "y = torch.exp(x)\n",
    "colors = calm_color_generator(1)\n",
    "plt.plot(x.numpy(), y.numpy(), c=colors[0])"
   ]
  },
  {
   "cell_type": "code",
   "execution_count": null,
   "id": "2652775f",
   "metadata": {
    "ExecuteTime": {
     "end_time": "2022-10-11T17:07:34.298035Z",
     "start_time": "2022-10-11T17:07:34.298028Z"
    }
   },
   "outputs": [],
   "source": [
    "y = torch.sin(x)\n",
    "colors = calm_color_generator(1)\n",
    "plt.plot(x.numpy(), y.numpy(), c=colors[0])"
   ]
  },
  {
   "cell_type": "markdown",
   "id": "46c585e1",
   "metadata": {},
   "source": [
    "# 2 Dimensional Tensors"
   ]
  },
  {
   "cell_type": "code",
   "execution_count": null,
   "id": "5d7e26bb",
   "metadata": {
    "ExecuteTime": {
     "end_time": "2022-10-11T17:07:34.298852Z",
     "start_time": "2022-10-11T17:07:34.298846Z"
    }
   },
   "outputs": [],
   "source": [
    "one_d = torch.arange(2, 7)\n",
    "print(one_d)"
   ]
  },
  {
   "cell_type": "code",
   "execution_count": null,
   "id": "1f0767bb",
   "metadata": {
    "ExecuteTime": {
     "end_time": "2022-10-11T17:07:34.299653Z",
     "start_time": "2022-10-11T17:07:34.299646Z"
    }
   },
   "outputs": [],
   "source": [
    "one_d = torch.arange(2, 7, 2)\n",
    "print(one_d)"
   ]
  },
  {
   "cell_type": "code",
   "execution_count": null,
   "id": "122749b3",
   "metadata": {
    "ExecuteTime": {
     "end_time": "2022-10-11T17:07:34.300202Z",
     "start_time": "2022-10-11T17:07:34.300197Z"
    }
   },
   "outputs": [],
   "source": [
    "one_d = torch.arange(0, 9)\n",
    "print(one_d)\n",
    "print(one_d.dim())"
   ]
  },
  {
   "cell_type": "code",
   "execution_count": null,
   "id": "36b6e479",
   "metadata": {
    "ExecuteTime": {
     "end_time": "2022-10-11T17:07:34.301147Z",
     "start_time": "2022-10-11T17:07:34.301140Z"
    }
   },
   "outputs": [],
   "source": [
    "two_d = one_d.view(3, 3)\n",
    "print(two_d)\n",
    "print(two_d.dim())"
   ]
  },
  {
   "cell_type": "code",
   "execution_count": null,
   "id": "d9bcd570",
   "metadata": {
    "ExecuteTime": {
     "end_time": "2022-10-11T17:07:34.301970Z",
     "start_time": "2022-10-11T17:07:34.301964Z"
    }
   },
   "outputs": [],
   "source": [
    "print(two_d[0])\n",
    "print(two_d[:, 0])\n",
    "print(two_d[0, 0])\n",
    "print(two_d[1, 2])"
   ]
  },
  {
   "cell_type": "code",
   "execution_count": null,
   "id": "671e2a2a",
   "metadata": {
    "ExecuteTime": {
     "end_time": "2022-10-11T17:07:34.302922Z",
     "start_time": "2022-10-11T17:07:34.302915Z"
    }
   },
   "outputs": [],
   "source": [
    "three_d = torch.arange(18).view(2, 3, 3)\n",
    "print(three_d)"
   ]
  },
  {
   "cell_type": "code",
   "execution_count": null,
   "id": "c95b629a",
   "metadata": {
    "ExecuteTime": {
     "end_time": "2022-10-11T17:07:34.303893Z",
     "start_time": "2022-10-11T17:07:34.303887Z"
    }
   },
   "outputs": [],
   "source": [
    "three_d = torch.arange(18).view(3, 2, 3)\n",
    "print(three_d)"
   ]
  },
  {
   "cell_type": "code",
   "execution_count": null,
   "id": "e1c11f4e",
   "metadata": {
    "ExecuteTime": {
     "end_time": "2022-10-11T17:07:34.304378Z",
     "start_time": "2022-10-11T17:07:34.304372Z"
    }
   },
   "outputs": [],
   "source": [
    "three_d = torch.arange(18).view(3, 3, 2)\n",
    "print(three_d)"
   ]
  },
  {
   "cell_type": "code",
   "execution_count": null,
   "id": "e5a72399",
   "metadata": {
    "ExecuteTime": {
     "end_time": "2022-10-11T17:07:34.305391Z",
     "start_time": "2022-10-11T17:07:34.305380Z"
    }
   },
   "outputs": [],
   "source": [
    "three_d = torch.arange(36).view(3, 3, 4)\n",
    "print(three_d)"
   ]
  },
  {
   "cell_type": "markdown",
   "id": "a3cdd36c",
   "metadata": {},
   "source": [
    "# Slicing 3D Tensors"
   ]
  },
  {
   "cell_type": "code",
   "execution_count": null,
   "id": "a52007a8",
   "metadata": {
    "ExecuteTime": {
     "end_time": "2022-10-11T17:07:34.306254Z",
     "start_time": "2022-10-11T17:07:34.306248Z"
    }
   },
   "outputs": [],
   "source": [
    "three_d = torch.arange(18).view(3, 2, 3)\n",
    "print(three_d)"
   ]
  },
  {
   "cell_type": "code",
   "execution_count": null,
   "id": "3c91fd5e",
   "metadata": {
    "ExecuteTime": {
     "end_time": "2022-10-11T17:07:34.306841Z",
     "start_time": "2022-10-11T17:07:34.306836Z"
    }
   },
   "outputs": [],
   "source": [
    "print(three_d[1, 1, 1])"
   ]
  },
  {
   "cell_type": "code",
   "execution_count": null,
   "id": "3e83e705",
   "metadata": {
    "ExecuteTime": {
     "end_time": "2022-10-11T17:07:34.307426Z",
     "start_time": "2022-10-11T17:07:34.307420Z"
    }
   },
   "outputs": [],
   "source": [
    "print(three_d[1, 0:2, 1:3])"
   ]
  },
  {
   "cell_type": "code",
   "execution_count": null,
   "id": "080fddf2",
   "metadata": {
    "ExecuteTime": {
     "end_time": "2022-10-11T17:07:34.308071Z",
     "start_time": "2022-10-11T17:07:34.308067Z"
    }
   },
   "outputs": [],
   "source": [
    "print(three_d[1, 0:2, 0:3])"
   ]
  },
  {
   "cell_type": "code",
   "execution_count": null,
   "id": "87b4687c",
   "metadata": {
    "ExecuteTime": {
     "end_time": "2022-10-11T17:07:34.308651Z",
     "start_time": "2022-10-11T17:07:34.308645Z"
    }
   },
   "outputs": [],
   "source": [
    "print(three_d[1, :, :])"
   ]
  },
  {
   "cell_type": "markdown",
   "id": "22daeca9",
   "metadata": {},
   "source": [
    "# Matrix Multiplication"
   ]
  },
  {
   "cell_type": "code",
   "execution_count": null,
   "id": "89c0a7cf",
   "metadata": {
    "ExecuteTime": {
     "end_time": "2022-10-11T17:07:34.309170Z",
     "start_time": "2022-10-11T17:07:34.309165Z"
    }
   },
   "outputs": [],
   "source": [
    "mat_a = torch.tensor([0, 3, 5, 5, 5, 2]).view(2, 3)\n",
    "print(mat_a)"
   ]
  },
  {
   "cell_type": "code",
   "execution_count": null,
   "id": "222c3bb2",
   "metadata": {
    "ExecuteTime": {
     "end_time": "2022-10-11T17:07:34.309937Z",
     "start_time": "2022-10-11T17:07:34.309932Z"
    }
   },
   "outputs": [],
   "source": [
    "mat_b = torch.tensor([3, 4, 3, -2, 4, -2]).view(3, 2)\n",
    "print(mat_b)"
   ]
  },
  {
   "cell_type": "code",
   "execution_count": null,
   "id": "91e4e6c0",
   "metadata": {
    "ExecuteTime": {
     "end_time": "2022-10-11T17:07:34.310793Z",
     "start_time": "2022-10-11T17:07:34.310787Z"
    }
   },
   "outputs": [],
   "source": [
    "print(torch.matmul(mat_a, mat_b))"
   ]
  },
  {
   "cell_type": "code",
   "execution_count": null,
   "id": "71ac47af",
   "metadata": {
    "ExecuteTime": {
     "end_time": "2022-10-11T17:07:34.311789Z",
     "start_time": "2022-10-11T17:07:34.311783Z"
    }
   },
   "outputs": [],
   "source": [
    "print(mat_a @ mat_b)"
   ]
  },
  {
   "cell_type": "markdown",
   "id": "838a8fc2",
   "metadata": {},
   "source": [
    "# Gradient with PyTorch"
   ]
  },
  {
   "cell_type": "code",
   "execution_count": 10,
   "id": "bac10dab",
   "metadata": {
    "ExecuteTime": {
     "end_time": "2022-10-11T17:07:34.342164Z",
     "start_time": "2022-10-11T17:07:34.339366Z"
    }
   },
   "outputs": [
    {
     "name": "stdout",
     "output_type": "stream",
     "text": [
      "tensor(2.)\n"
     ]
    }
   ],
   "source": [
    "x = torch.tensor(2.0)\n",
    "print(x)"
   ]
  },
  {
   "cell_type": "code",
   "execution_count": 11,
   "id": "4a05f209",
   "metadata": {
    "ExecuteTime": {
     "end_time": "2022-10-11T17:07:34.352136Z",
     "start_time": "2022-10-11T17:07:34.349975Z"
    }
   },
   "outputs": [
    {
     "name": "stdout",
     "output_type": "stream",
     "text": [
      "tensor(2., requires_grad=True)\n"
     ]
    }
   ],
   "source": [
    "x = torch.tensor(2.0, requires_grad=True)\n",
    "print(x)"
   ]
  },
  {
   "cell_type": "code",
   "execution_count": 12,
   "id": "d5935855",
   "metadata": {
    "ExecuteTime": {
     "end_time": "2022-10-11T17:07:34.381084Z",
     "start_time": "2022-10-11T17:07:34.360405Z"
    }
   },
   "outputs": [
    {
     "name": "stdout",
     "output_type": "stream",
     "text": [
      "tensor(330.)\n"
     ]
    }
   ],
   "source": [
    "y = 9 * x**4 + 2 * x**3 + 3 * x**2 + 6 * x + 1\n",
    "y.backward()\n",
    "print(x.grad)"
   ]
  },
  {
   "cell_type": "code",
   "execution_count": 13,
   "id": "96ff0389",
   "metadata": {
    "ExecuteTime": {
     "end_time": "2022-10-11T17:07:34.384875Z",
     "start_time": "2022-10-11T17:07:34.382238Z"
    }
   },
   "outputs": [
    {
     "name": "stdout",
     "output_type": "stream",
     "text": [
      "tensor(2.)\n",
      "tensor(12.)\n"
     ]
    }
   ],
   "source": [
    "x = torch.tensor(1.0, requires_grad=True)\n",
    "z = torch.tensor(2.0, requires_grad=True)\n",
    "y = x**2 + z**3\n",
    "y.backward()\n",
    "print(x.grad)\n",
    "print(z.grad)"
   ]
  }
 ],
 "metadata": {
  "hide_input": false,
  "kernelspec": {
   "display_name": "Python 3 (ipykernel)",
   "language": "python",
   "name": "python3"
  },
  "language_info": {
   "codemirror_mode": {
    "name": "ipython",
    "version": 3
   },
   "file_extension": ".py",
   "mimetype": "text/x-python",
   "name": "python",
   "nbconvert_exporter": "python",
   "pygments_lexer": "ipython3",
   "version": "3.9.12"
  },
  "latex_envs": {
   "LaTeX_envs_menu_present": true,
   "autoclose": false,
   "autocomplete": true,
   "bibliofile": "biblio.bib",
   "cite_by": "apalike",
   "current_citInitial": 1,
   "eqLabelWithNumbers": true,
   "eqNumInitial": 1,
   "hotkeys": {
    "equation": "Ctrl-E",
    "itemize": "Ctrl-I"
   },
   "labels_anchors": false,
   "latex_user_defs": false,
   "report_style_numbering": false,
   "user_envs_cfg": false
  },
  "nbTranslate": {
   "displayLangs": [
    "*"
   ],
   "hotkey": "alt-t",
   "langInMainMenu": true,
   "sourceLang": "en",
   "targetLang": "fr",
   "useGoogleTranslate": true
  },
  "toc": {
   "base_numbering": 1,
   "nav_menu": {},
   "number_sections": true,
   "sideBar": true,
   "skip_h1_title": false,
   "title_cell": "Table of Contents",
   "title_sidebar": "Contents",
   "toc_cell": false,
   "toc_position": {
    "height": "calc(100% - 180px)",
    "left": "10px",
    "top": "150px",
    "width": "345.594px"
   },
   "toc_section_display": true,
   "toc_window_display": true
  }
 },
 "nbformat": 4,
 "nbformat_minor": 5
}

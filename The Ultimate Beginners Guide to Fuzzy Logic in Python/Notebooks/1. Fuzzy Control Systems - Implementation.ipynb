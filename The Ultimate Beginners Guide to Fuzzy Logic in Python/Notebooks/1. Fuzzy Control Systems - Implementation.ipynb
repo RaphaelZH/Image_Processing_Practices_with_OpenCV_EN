{
 "cells": [
  {
   "cell_type": "markdown",
   "id": "a3414267",
   "metadata": {
    "hide_input": false
   },
   "source": [
    "# Importing Libraries"
   ]
  },
  {
   "cell_type": "code",
   "execution_count": 1,
   "id": "f180ba4e",
   "metadata": {
    "ExecuteTime": {
     "end_time": "2023-04-17T11:18:51.432685Z",
     "start_time": "2023-04-17T11:18:50.939317Z"
    },
    "hide_input": false
   },
   "outputs": [],
   "source": [
    "import numpy as np\n",
    "import skfuzzy as fuzz\n",
    "from skfuzzy import control as ctrl"
   ]
  },
  {
   "cell_type": "code",
   "execution_count": 2,
   "id": "4eecc209",
   "metadata": {
    "ExecuteTime": {
     "end_time": "2023-04-17T11:18:51.435803Z",
     "start_time": "2023-04-17T11:18:51.433890Z"
    }
   },
   "outputs": [],
   "source": [
    "import matplotlib as mpl\n",
    "import matplotlib.pyplot as plt"
   ]
  },
  {
   "cell_type": "code",
   "execution_count": 3,
   "id": "0ccb3c8a",
   "metadata": {
    "ExecuteTime": {
     "end_time": "2023-04-17T11:18:51.438244Z",
     "start_time": "2023-04-17T11:18:51.436576Z"
    }
   },
   "outputs": [],
   "source": [
    "import sys"
   ]
  },
  {
   "cell_type": "code",
   "execution_count": 4,
   "id": "a935b73c",
   "metadata": {
    "ExecuteTime": {
     "end_time": "2023-04-17T11:18:51.441281Z",
     "start_time": "2023-04-17T11:18:51.439671Z"
    }
   },
   "outputs": [],
   "source": [
    "import warnings\n",
    "\n",
    "warnings.filterwarnings(action=\"ignore\",\n",
    "                        category=UserWarning,\n",
    "                        module=\"skfuzzy\")"
   ]
  },
  {
   "cell_type": "markdown",
   "id": "be31ad1b",
   "metadata": {},
   "source": [
    "# Configuring Visualization Parameters"
   ]
  },
  {
   "cell_type": "code",
   "execution_count": 5,
   "id": "06b9b4d6",
   "metadata": {
    "ExecuteTime": {
     "end_time": "2023-04-17T11:18:51.449044Z",
     "start_time": "2023-04-17T11:18:51.442163Z"
    },
    "hide_input": false
   },
   "outputs": [],
   "source": [
    "%matplotlib inline"
   ]
  },
  {
   "cell_type": "code",
   "execution_count": 6,
   "id": "83ba15ab",
   "metadata": {
    "ExecuteTime": {
     "end_time": "2023-04-17T11:18:51.451576Z",
     "start_time": "2023-04-17T11:18:51.449923Z"
    }
   },
   "outputs": [],
   "source": [
    "XINHUI = \"#7a7374\"\n",
    "XUEBAI = \"#fffef9\"\n",
    "YINBAI = \"#f1f0ed\"\n",
    "YINHUI = \"#918072\"\n",
    "\n",
    "figure_size = (16, 9)"
   ]
  },
  {
   "cell_type": "code",
   "execution_count": 7,
   "id": "de31803f",
   "metadata": {
    "ExecuteTime": {
     "end_time": "2023-04-17T11:18:51.454315Z",
     "start_time": "2023-04-17T11:18:51.452201Z"
    }
   },
   "outputs": [],
   "source": [
    "custom_params = {\n",
    "    \"axes.axisbelow\": True,\n",
    "    \"axes.edgecolor\": YINBAI,\n",
    "    \"axes.facecolor\": XUEBAI,\n",
    "    \"axes.grid\": True,\n",
    "    \"axes.labelcolor\": XINHUI,\n",
    "    \"axes.spines.right\": False,\n",
    "    \"axes.spines.top\": False,\n",
    "    \"axes.titlecolor\": XINHUI,\n",
    "    \"figure.edgecolor\": YINBAI,\n",
    "    \"figure.facecolor\": XUEBAI,\n",
    "    \"grid.alpha\": .8,\n",
    "    \"grid.color\": YINBAI,\n",
    "    \"grid.linestyle\": \"--\",\n",
    "    \"grid.linewidth\": 1.2,\n",
    "    \"legend.edgecolor\": YINHUI,\n",
    "    \"patch.edgecolor\": XUEBAI,\n",
    "    \"patch.force_edgecolor\": True,\n",
    "    \"text.color\": XINHUI,\n",
    "    \"xtick.color\": YINHUI,\n",
    "    \"ytick.color\": YINHUI\n",
    "}\n",
    "\n",
    "mpl.rcParams.update(custom_params)"
   ]
  },
  {
   "cell_type": "markdown",
   "id": "b3f31405",
   "metadata": {},
   "source": [
    "# Pre-installing Custom Functions"
   ]
  },
  {
   "cell_type": "code",
   "execution_count": 8,
   "id": "d55fa0bc",
   "metadata": {
    "ExecuteTime": {
     "end_time": "2023-04-17T11:18:51.456647Z",
     "start_time": "2023-04-17T11:18:51.455170Z"
    }
   },
   "outputs": [],
   "source": [
    "sys.path.append(\"../\")"
   ]
  },
  {
   "cell_type": "code",
   "execution_count": 9,
   "id": "5491b492",
   "metadata": {
    "ExecuteTime": {
     "end_time": "2023-04-17T11:18:51.597946Z",
     "start_time": "2023-04-17T11:18:51.457386Z"
    }
   },
   "outputs": [],
   "source": [
    "from Modules import *"
   ]
  },
  {
   "cell_type": "markdown",
   "id": "79c37e21",
   "metadata": {},
   "source": [
    "# Practicing in Stages\n",
    "\n",
    "## *Antecedents and consequent"
   ]
  },
  {
   "cell_type": "code",
   "execution_count": 10,
   "id": "7f796ccd",
   "metadata": {
    "ExecuteTime": {
     "end_time": "2023-04-17T11:18:51.604971Z",
     "start_time": "2023-04-17T11:18:51.600455Z"
    }
   },
   "outputs": [
    {
     "name": "stdout",
     "output_type": "stream",
     "text": [
      "\u001b[4m\u001b[35mAntecedents\u001b[0m\n",
      "\n",
      "\u001b[1m\u001b[35m    +-----------------------------------------------------------+\u001b[0m\n",
      "\u001b[1m\u001b[35m    | Statement                                                 |\u001b[0m\n",
      "\u001b[1m\u001b[35m    +-----------------------------------------------------------+\u001b[0m\n",
      "\u001b[1m\u001b[35m    | food = ctrl.Antecedent(np.arange(0, 11, 1), \"food\")       |\u001b[0m\n",
      "\u001b[1m\u001b[35m    | service = ctrl.Antecedent(np.arange(0, 11, 1), \"service\") |\u001b[0m\n",
      "\u001b[1m\u001b[35m    +-----------------------------------------------------------+\u001b[0m\n",
      "\u001b[1m\u001b[35m    +----------+---------------------+\u001b[0m\n",
      "\u001b[1m\u001b[35m    | Variable | Value               |\u001b[0m\n",
      "\u001b[1m\u001b[35m    +----------+---------------------+\u001b[0m\n",
      "\u001b[1m\u001b[35m    | food     | Antecedent: food    |\u001b[0m\n",
      "\u001b[1m\u001b[35m    | service  | Antecedent: service |\u001b[0m\n",
      "\u001b[1m\u001b[35m    +----------+---------------------+\u001b[0m\n",
      "\u001b[1m\u001b[35m    +------------------+------------------------------------+\u001b[0m\n",
      "\u001b[1m\u001b[35m    | Expression       | Result                             |\u001b[0m\n",
      "\u001b[1m\u001b[35m    +------------------+------------------------------------+\u001b[0m\n",
      "\u001b[1m\u001b[35m    | food.universe    | [ 0  1  2  3  4  5  6  7  8  9 10] |\u001b[0m\n",
      "\u001b[1m\u001b[35m    | service.universe | [ 0  1  2  3  4  5  6  7  8  9 10] |\u001b[0m\n",
      "\u001b[1m\u001b[35m    +------------------+------------------------------------+\u001b[0m\n"
     ]
    }
   ],
   "source": [
    "food = ctrl.Antecedent(np.arange(0, 11, 1), \"food\")\n",
    "service = ctrl.Antecedent(np.arange(0, 11, 1), \"service\")\n",
    "\n",
    "tabulation = Form_Generator()\n",
    "tabulation.heading_printer(\"Antecedents\")\n",
    "\n",
    "statements = [\n",
    "    \"\"\"\n",
    "food = ctrl.Antecedent(np.arange(0, 11, 1), \"food\")\n",
    "service = ctrl.Antecedent(np.arange(0, 11, 1), \"service\")\n",
    "\"\"\"\n",
    "]\n",
    "tabulation.statement_generator(statements)\n",
    "\n",
    "variables = [\"food\", \"service\"]\n",
    "values = [str(food), str(service)]\n",
    "tabulation.variable_generator(variables, values)\n",
    "\n",
    "expressions = [\"food.universe\", \"service.universe\"]\n",
    "results = [str(food.universe), str(service.universe)]\n",
    "tabulation.expression_generator(expressions, results)"
   ]
  },
  {
   "cell_type": "code",
   "execution_count": 11,
   "id": "7aa3de18",
   "metadata": {
    "ExecuteTime": {
     "end_time": "2023-04-17T11:18:51.608834Z",
     "start_time": "2023-04-17T11:18:51.605984Z"
    }
   },
   "outputs": [
    {
     "name": "stdout",
     "output_type": "stream",
     "text": [
      "\u001b[4m\u001b[36mConsequent\u001b[0m\n",
      "\n",
      "\u001b[1m\u001b[36m    +---------------------------------------------------+\u001b[0m\n",
      "\u001b[1m\u001b[36m    | Statement                                         |\u001b[0m\n",
      "\u001b[1m\u001b[36m    +---------------------------------------------------+\u001b[0m\n",
      "\u001b[1m\u001b[36m    | tip = ctrl.Consequent(np.arange(0, 21, 1), \"tip\") |\u001b[0m\n",
      "\u001b[1m\u001b[36m    +---------------------------------------------------+\u001b[0m\n",
      "\u001b[1m\u001b[36m    +----------+-----------------+\u001b[0m\n",
      "\u001b[1m\u001b[36m    | Variable | Value           |\u001b[0m\n",
      "\u001b[1m\u001b[36m    +----------+-----------------+\u001b[0m\n",
      "\u001b[1m\u001b[36m    | tip      | Consequent: tip |\u001b[0m\n",
      "\u001b[1m\u001b[36m    +----------+-----------------+\u001b[0m\n",
      "\u001b[1m\u001b[36m    +--------------+--------------------------------------------+\u001b[0m\n",
      "\u001b[1m\u001b[36m    | Expression   | Result                                     |\u001b[0m\n",
      "\u001b[1m\u001b[36m    +--------------+--------------------------------------------+\u001b[0m\n",
      "\u001b[1m\u001b[36m    | tip.universe | [ 0  1  2  3  4  5  6  7  8  9 10 11 12 13 |\u001b[0m\n",
      "\u001b[1m\u001b[36m    |              |   14 15 16 17 18 19 20]                    |\u001b[0m\n",
      "\u001b[1m\u001b[36m    +--------------+--------------------------------------------+\u001b[0m\n"
     ]
    }
   ],
   "source": [
    "tip = ctrl.Consequent(np.arange(0, 21, 1), \"tip\")\n",
    "\n",
    "tabulation = Form_Generator()\n",
    "tabulation.heading_printer(\"Consequent\")\n",
    "\n",
    "statements = [\"tip = ctrl.Consequent(np.arange(0, 21, 1), \\\"tip\\\")\"]\n",
    "tabulation.statement_generator(statements)\n",
    "\n",
    "variables = [\"tip\"]\n",
    "values = [str(tip)]\n",
    "tabulation.variable_generator(variables, values)\n",
    "\n",
    "expressions = [\"tip.universe\"]\n",
    "results = [str(tip.universe)]\n",
    "tabulation.expression_generator(expressions, results, 2)"
   ]
  },
  {
   "cell_type": "code",
   "execution_count": 12,
   "id": "be318eff",
   "metadata": {
    "ExecuteTime": {
     "end_time": "2023-04-17T11:18:51.611669Z",
     "start_time": "2023-04-17T11:18:51.609630Z"
    }
   },
   "outputs": [],
   "source": [
    "food.automf(number=3, names=['bad', 'decent', 'great'])\n",
    "service.automf(number=3, names=['bad', 'decent', 'great'])"
   ]
  },
  {
   "cell_type": "code",
   "execution_count": 13,
   "id": "3488efa7",
   "metadata": {
    "ExecuteTime": {
     "end_time": "2023-04-17T11:18:51.969654Z",
     "start_time": "2023-04-17T11:18:51.612400Z"
    }
   },
   "outputs": [
    {
     "data": {
      "image/png": "[encoded data removed]",
      "text/plain": [
       "<Figure size 800x900 with 3 Axes>"
      ]
     },
     "metadata": {},
     "output_type": "display_data"
    }
   ],
   "source": [
    "import numpy as np\n",
    "import skfuzzy as fuzz\n",
    "import matplotlib.pyplot as plt\n",
    "\n",
    "# Generate universe variables\n",
    "#   * Quality and service on subjective ranges [0, 10]\n",
    "#   * Tip has a range of [0, 25] in units of percentage points\n",
    "x_qual = np.arange(0, 11, 1)\n",
    "x_serv = np.arange(0, 11, 1)\n",
    "x_tip = np.arange(0, 26, 1)\n",
    "\n",
    "# Generate fuzzy membership functions\n",
    "qual_lo = fuzz.trimf(x_qual, [0, 0, 5])\n",
    "qual_md = fuzz.trimf(x_qual, [0, 5, 10])\n",
    "qual_hi = fuzz.trimf(x_qual, [5, 10, 10])\n",
    "serv_lo = fuzz.trimf(x_serv, [0, 0, 5])\n",
    "serv_md = fuzz.trimf(x_serv, [0, 5, 10])\n",
    "serv_hi = fuzz.trimf(x_serv, [5, 10, 10])\n",
    "tip_lo = fuzz.trimf(x_tip, [0, 0, 13])\n",
    "tip_md = fuzz.trimf(x_tip, [0, 13, 25])\n",
    "tip_hi = fuzz.trimf(x_tip, [13, 25, 25])\n",
    "\n",
    "# Visualize these universes and membership functions\n",
    "fig, (ax0, ax1, ax2) = plt.subplots(nrows=3, figsize=(8, 9))\n",
    "\n",
    "ax0.plot(x_qual, qual_lo, 'b', linewidth=1.5, label='Bad')\n",
    "ax0.plot(x_qual, qual_md, 'g', linewidth=1.5, label='Decent')\n",
    "ax0.plot(x_qual, qual_hi, 'r', linewidth=1.5, label='Great')\n",
    "ax0.set_title('Food quality')\n",
    "ax0.legend()\n",
    "\n",
    "ax1.plot(x_serv, serv_lo, 'b', linewidth=1.5, label='Poor')\n",
    "ax1.plot(x_serv, serv_md, 'g', linewidth=1.5, label='Acceptable')\n",
    "ax1.plot(x_serv, serv_hi, 'r', linewidth=1.5, label='Amazing')\n",
    "ax1.set_title('Service quality')\n",
    "ax1.legend()\n",
    "\n",
    "ax2.plot(x_tip, tip_lo, 'b', linewidth=1.5, label='Low')\n",
    "ax2.plot(x_tip, tip_md, 'g', linewidth=1.5, label='Medium')\n",
    "ax2.plot(x_tip, tip_hi, 'r', linewidth=1.5, label='High')\n",
    "ax2.set_title('Tip amount')\n",
    "ax2.legend()\n",
    "\n",
    "# Turn off top/right axes\n",
    "for ax in (ax0, ax1, ax2):\n",
    "    ax.spines['top'].set_visible(False)\n",
    "    ax.spines['right'].set_visible(False)\n",
    "    ax.get_xaxis().tick_bottom()\n",
    "    ax.get_yaxis().tick_left()\n",
    "\n",
    "plt.tight_layout()"
   ]
  },
  {
   "cell_type": "code",
   "execution_count": 14,
   "id": "7bfa1641",
   "metadata": {
    "ExecuteTime": {
     "end_time": "2023-04-17T11:18:52.058697Z",
     "start_time": "2023-04-17T11:18:51.970756Z"
    }
   },
   "outputs": [
    {
     "data": {
      "image/png": "[encoded data removed]",
      "text/plain": [
       "<Figure size 640x480 with 1 Axes>"
      ]
     },
     "metadata": {},
     "output_type": "display_data"
    }
   ],
   "source": [
    "food.view()"
   ]
  },
  {
   "cell_type": "code",
   "execution_count": 15,
   "id": "4666453d",
   "metadata": {
    "ExecuteTime": {
     "end_time": "2023-04-17T11:18:52.147298Z",
     "start_time": "2023-04-17T11:18:52.059801Z"
    }
   },
   "outputs": [
    {
     "data": {
      "image/png": "[encoded data removed]",
      "text/plain": [
       "<Figure size 640x480 with 1 Axes>"
      ]
     },
     "metadata": {},
     "output_type": "display_data"
    }
   ],
   "source": [
    "service.view()"
   ]
  },
  {
   "cell_type": "code",
   "execution_count": null,
   "id": "adb9f103",
   "metadata": {},
   "outputs": [],
   "source": []
  },
  {
   "cell_type": "code",
   "execution_count": 16,
   "id": "718c35d6",
   "metadata": {
    "ExecuteTime": {
     "end_time": "2023-04-17T11:18:52.150795Z",
     "start_time": "2023-04-17T11:18:52.148246Z"
    }
   },
   "outputs": [
    {
     "name": "stdout",
     "output_type": "stream",
     "text": [
      "nombre de warnings : 1\n",
      "warning 0 : {message : DeprecationWarning('deprecated'), category : 'DeprecationWarning', filename : '/var/folders/14/8cfdj8xx3cz4cvvswzmnv11w0000gn/T/ipykernel_54862/2978958439.py', lineno : 2, line : None}\n"
     ]
    }
   ],
   "source": [
    "def fxn():\n",
    "    warnings.warn(\"deprecated\", DeprecationWarning)\n",
    "\n",
    "\n",
    "with warnings.catch_warnings(record=True) as ws:\n",
    "    warnings.simplefilter(\"always\")\n",
    "    fxn()\n",
    "\n",
    "    print(\"nombre de warnings :\", len(ws))\n",
    "\n",
    "    for i, w in enumerate(ws):\n",
    "        print(\"warning {0} : {1}\".format(i, w))"
   ]
  },
  {
   "cell_type": "code",
   "execution_count": null,
   "id": "2d1d494f",
   "metadata": {},
   "outputs": [],
   "source": []
  },
  {
   "cell_type": "code",
   "execution_count": 17,
   "id": "5451bd43",
   "metadata": {
    "ExecuteTime": {
     "end_time": "2023-04-17T11:18:52.339121Z",
     "start_time": "2023-04-17T11:18:52.151783Z"
    },
    "hide_input": false,
    "scrolled": true
   },
   "outputs": [
    {
     "ename": "NameError",
     "evalue": "name 'torch' is not defined",
     "output_type": "error",
     "traceback": [
      "\u001b[0;31m---------------------------------------------------------------------------\u001b[0m",
      "\u001b[0;31mNameError\u001b[0m                                 Traceback (most recent call last)",
      "Cell \u001b[0;32mIn[17], line 1\u001b[0m\n\u001b[0;32m----> 1\u001b[0m v \u001b[38;5;241m=\u001b[39m \u001b[43mtorch\u001b[49m\u001b[38;5;241m.\u001b[39mtensor([\u001b[38;5;241m1\u001b[39m, \u001b[38;5;241m2\u001b[39m, \u001b[38;5;241m3\u001b[39m, \u001b[38;5;241m4\u001b[39m, \u001b[38;5;241m5\u001b[39m, \u001b[38;5;241m6\u001b[39m])\n\u001b[1;32m      3\u001b[0m tabulation \u001b[38;5;241m=\u001b[39m Form_Generator()\n\u001b[1;32m      4\u001b[0m tabulation\u001b[38;5;241m.\u001b[39mheading_printer(\u001b[38;5;124m\"\u001b[39m\u001b[38;5;124mDefault one-dimensional tensor\u001b[39m\u001b[38;5;124m\"\u001b[39m)\n",
      "\u001b[0;31mNameError\u001b[0m: name 'torch' is not defined"
     ]
    }
   ],
   "source": [
    "v = torch.tensor([1, 2, 3, 4, 5, 6])\n",
    "\n",
    "tabulation = Form_Generator()\n",
    "tabulation.heading_printer(\"Default one-dimensional tensor\")\n",
    "\n",
    "statements = [\"v = torch.tensor([1, 2, 3, 4, 5, 6])\"]\n",
    "tabulation.statement_generator(statements)\n",
    "\n",
    "variables = [\"v\"]\n",
    "values = [str(v)]\n",
    "tabulation.variable_generator(variables, values)"
   ]
  },
  {
   "cell_type": "code",
   "execution_count": null,
   "id": "21bf37af",
   "metadata": {
    "ExecuteTime": {
     "end_time": "2023-04-17T11:18:52.370957Z",
     "start_time": "2023-04-17T11:18:52.370952Z"
    },
    "hide_input": false,
    "scrolled": true
   },
   "outputs": [],
   "source": [
    "tabulation = Form_Generator()\n",
    "tabulation.heading_printer(\"Basic information of default 1D tensor\")\n",
    "\n",
    "expressions = [\"v.dtype\", \"v.type()\", \"type(v)\", \"v.size()\"]\n",
    "results = [str(v.dtype), str(v.type()), str(type(v)), str(v.size())]\n",
    "tabulation.expression_generator(expressions, results)"
   ]
  },
  {
   "cell_type": "code",
   "execution_count": null,
   "id": "70f57438",
   "metadata": {
    "ExecuteTime": {
     "end_time": "2023-04-17T11:18:52.371459Z",
     "start_time": "2023-04-17T11:18:52.371454Z"
    },
    "hide_input": false,
    "scrolled": true
   },
   "outputs": [],
   "source": [
    "tabulation = Form_Generator()\n",
    "tabulation.heading_printer(\"Element selection of 1D tensor\")\n",
    "\n",
    "expressions = [\"v[0]\", \"v[-1]\"]\n",
    "results = [str(v[0]), str(v[-1])]\n",
    "tabulation.expression_generator(expressions, results)"
   ]
  },
  {
   "cell_type": "code",
   "execution_count": null,
   "id": "161d362e",
   "metadata": {
    "ExecuteTime": {
     "end_time": "2023-04-17T11:18:52.372430Z",
     "start_time": "2023-04-17T11:18:52.372425Z"
    },
    "hide_input": false,
    "scrolled": true
   },
   "outputs": [],
   "source": [
    "tabulation = Form_Generator()\n",
    "tabulation.heading_printer(\"Segment slicing of 1D tensor\")\n",
    "\n",
    "expressions = [\"v[1:-1]\", \"v[1::2]\"]\n",
    "results = [str(v[1:-1]), str(v[1::2])]\n",
    "tabulation.expression_generator(expressions, results)"
   ]
  },
  {
   "cell_type": "code",
   "execution_count": null,
   "id": "e98a3ec7",
   "metadata": {
    "ExecuteTime": {
     "end_time": "2023-04-17T11:18:52.372972Z",
     "start_time": "2023-04-17T11:18:52.372966Z"
    },
    "hide_input": false,
    "scrolled": true
   },
   "outputs": [],
   "source": [
    "f = torch.FloatTensor([1, 2, 3, 4, 5, 6])\n",
    "\n",
    "tabulation = Form_Generator()\n",
    "tabulation.heading_printer(\"Float one-dimensional tensor\")\n",
    "\n",
    "statements = [\"f = torch.FloatTensor([1, 2, 3, 4, 5, 6])\"]\n",
    "tabulation.statement_generator(statements)\n",
    "\n",
    "variables = [\"f\"]\n",
    "values = [str(f)]\n",
    "tabulation.variable_generator(variables, values)"
   ]
  },
  {
   "cell_type": "code",
   "execution_count": null,
   "id": "712d9b5f",
   "metadata": {
    "ExecuteTime": {
     "end_time": "2023-04-17T11:18:52.373767Z",
     "start_time": "2023-04-17T11:18:52.373760Z"
    },
    "hide_input": false
   },
   "outputs": [],
   "source": [
    "tabulation = Form_Generator()\n",
    "tabulation.heading_printer(\"Basic information of float 1D tensor\")\n",
    "\n",
    "expressions = [\"f.dtype\", \"f.type()\", \"type(f)\", \"f.size()\"]\n",
    "results = [str(f.dtype), str(f.type()), str(type(f)), str(f.size())]\n",
    "tabulation.expression_generator(expressions, results)"
   ]
  },
  {
   "cell_type": "code",
   "execution_count": null,
   "id": "1ea29818",
   "metadata": {
    "ExecuteTime": {
     "end_time": "2023-04-17T11:18:52.374363Z",
     "start_time": "2023-04-17T11:18:52.374358Z"
    },
    "hide_input": false
   },
   "outputs": [],
   "source": [
    "tabulation = Form_Generator()\n",
    "tabulation.heading_printer(\"Reshaping of 1D tensor\")\n",
    "\n",
    "expressions = [\n",
    "    \"v.view(6)\", \"v.view(1, 6)\", \"v.view(6, 1)\", \"v.view(3, 2)\",\n",
    "    \"v.view(3, -1)\"\n",
    "]\n",
    "results = [\n",
    "    str(v.view(6)),\n",
    "    str(v.view(1, 6)),\n",
    "    str(v.view(6, 1)),\n",
    "    str(v.view(3, 2)),\n",
    "    str(v.view(3, -1))\n",
    "]\n",
    "tabulation.expression_generator(expressions, results)"
   ]
  },
  {
   "cell_type": "code",
   "execution_count": null,
   "id": "556196c0",
   "metadata": {
    "ExecuteTime": {
     "end_time": "2023-04-17T11:18:52.375014Z",
     "start_time": "2023-04-17T11:18:52.375009Z"
    },
    "hide_input": false,
    "scrolled": false
   },
   "outputs": [],
   "source": [
    "a = np.array([1, 2, 3, 4, 5, 6])\n",
    "tensor_cnv = torch.from_numpy(a)\n",
    "numpy_cnv = tensor_cnv.numpy()\n",
    "\n",
    "tabulation = Form_Generator()\n",
    "tabulation.heading_printer(\"Conversion between array and tensor\")\n",
    "\n",
    "statements = [\n",
    "    \"\"\"\n",
    "a = np.array([1, 2, 3, 4, 5, 6])\n",
    "tensor_cnv = torch.from_numpy(a)\n",
    "numpy_cnv = tensor_cnv.numpy()\n",
    "\"\"\"\n",
    "]\n",
    "tabulation.statement_generator(statements)\n",
    "\n",
    "variables = [\"a\", \"tensor_cnv\", \"numpy_cnv\"]\n",
    "values = [str(a), str(tensor_cnv), str(numpy_cnv)]\n",
    "tabulation.variable_generator(variables, values)\n",
    "\n",
    "expressions = [\n",
    "    \"tensor_cnv.dtype\", \"tensor_cnv.type()\", \"type(tensor_cnv)\",\n",
    "    \"numpy_cnv.dtype\", \"type(numpy_cnv)\"\n",
    "]\n",
    "results = [\n",
    "    str(tensor_cnv.dtype),\n",
    "    str(tensor_cnv.type()),\n",
    "    str(type(tensor_cnv)),\n",
    "    str(numpy_cnv.dtype),\n",
    "    str(type(numpy_cnv))\n",
    "]\n",
    "tabulation.expression_generator(expressions, results)"
   ]
  },
  {
   "cell_type": "markdown",
   "id": "a3b406bf",
   "metadata": {},
   "source": [
    "## Vector Operations"
   ]
  },
  {
   "cell_type": "code",
   "execution_count": null,
   "id": "106b1697",
   "metadata": {
    "ExecuteTime": {
     "end_time": "2023-04-17T11:18:52.375542Z",
     "start_time": "2023-04-17T11:18:52.375537Z"
    }
   },
   "outputs": [],
   "source": [
    "t_one = torch.tensor([1, 2, 3])\n",
    "t_two = torch.tensor([1, 2, 3])\n",
    "\n",
    "tabulation = Form_Generator()\n",
    "tabulation.heading_printer(\"Original tensors\")\n",
    "\n",
    "statements = [\n",
    "    \"\"\"\n",
    "t_one = torch.tensor([1, 2, 3])\n",
    "t_two = torch.tensor([1, 2, 3])\n",
    "\"\"\"\n",
    "]\n",
    "tabulation.statement_generator(statements)\n",
    "\n",
    "variables = [\"t_one\", \"t_two\"]\n",
    "values = [str(t_one), str(t_two)]\n",
    "tabulation.variable_generator(variables, values)"
   ]
  },
  {
   "cell_type": "code",
   "execution_count": null,
   "id": "cc1136ef",
   "metadata": {
    "ExecuteTime": {
     "end_time": "2023-04-17T11:18:52.376203Z",
     "start_time": "2023-04-17T11:18:52.376198Z"
    }
   },
   "outputs": [],
   "source": [
    "tabulation = Form_Generator()\n",
    "tabulation.heading_printer(\"Simple operations\")\n",
    "\n",
    "expressions = [\n",
    "    \"t_one + t_two\", \"t_one - t_two\", \"t_one * t_two\", \"t_one / t_two\",\n",
    "    \"t_one * 5\"\n",
    "]\n",
    "results = [\n",
    "    str(t_one + t_two),\n",
    "    str(t_one - t_two),\n",
    "    str(t_one * t_two),\n",
    "    str(t_one / t_two),\n",
    "    str(t_one * 5)\n",
    "]\n",
    "tabulation.expression_generator(expressions, results)"
   ]
  },
  {
   "cell_type": "code",
   "execution_count": null,
   "id": "61b8080c",
   "metadata": {
    "ExecuteTime": {
     "end_time": "2023-04-17T11:18:52.376761Z",
     "start_time": "2023-04-17T11:18:52.376753Z"
    }
   },
   "outputs": [],
   "source": [
    "dot_product = torch.dot(t_one, t_two)\n",
    "\n",
    "tabulation = Form_Generator()\n",
    "tabulation.heading_printer(\"Dot product of tensors\")\n",
    "\n",
    "statements = [\"dot_product = torch.dot(t_one, t_two)\"]\n",
    "tabulation.statement_generator(statements)\n",
    "\n",
    "variables = [\"dot_product\"]\n",
    "values = [str(dot_product)]\n",
    "tabulation.variable_generator(variables, values)"
   ]
  },
  {
   "cell_type": "code",
   "execution_count": null,
   "id": "aad1fef4",
   "metadata": {
    "ExecuteTime": {
     "end_time": "2023-04-17T11:18:52.377527Z",
     "start_time": "2023-04-17T11:18:52.377522Z"
    }
   },
   "outputs": [],
   "source": [
    "x = torch.linspace(0, 10, 5)\n",
    "\n",
    "tabulation = Form_Generator()\n",
    "tabulation.heading_printer(\"Creation of arithmetic sequence in 1D tensor\")\n",
    "\n",
    "statements = [\"x = torch.linspace(0, 10, 5)\"]\n",
    "tabulation.statement_generator(statements)\n",
    "\n",
    "variables = [\"x\"]\n",
    "values = [str(x)]\n",
    "tabulation.variable_generator(variables, values)"
   ]
  },
  {
   "cell_type": "code",
   "execution_count": null,
   "id": "58513447",
   "metadata": {
    "ExecuteTime": {
     "end_time": "2023-04-17T11:18:52.378352Z",
     "start_time": "2023-04-17T11:18:52.378348Z"
    }
   },
   "outputs": [],
   "source": [
    "y = torch.exp(x)\n",
    "\n",
    "tabulation = Form_Generator()\n",
    "tabulation.heading_printer(\"Exponentiation of tensor elements\")\n",
    "\n",
    "statements = [\"y = torch.exp(x)\"]\n",
    "tabulation.statement_generator(statements)\n",
    "\n",
    "variables = [\"y\"]\n",
    "values = [str(y)]\n",
    "tabulation.variable_generator(variables, values)"
   ]
  },
  {
   "cell_type": "code",
   "execution_count": null,
   "id": "47f4512a",
   "metadata": {
    "ExecuteTime": {
     "end_time": "2023-04-17T11:18:52.379221Z",
     "start_time": "2023-04-17T11:18:52.379217Z"
    }
   },
   "outputs": [],
   "source": [
    "colors = calm_color_generator(2)\n",
    "plt.rcParams[\"figure.figsize\"] = (figure_size[0], figure_size[1] / 2)\n",
    "\n",
    "fig, axs = plt.subplots(1, 2, sharey=True)\n",
    "\n",
    "x = torch.linspace(0, 10, 5)\n",
    "y = torch.exp(x)\n",
    "axs[0].plot(x.numpy(), y.numpy(), c=colors.pop(0))\n",
    "axs[0].set_title(\"Arithmetic sequence of 5 elements\", loc=\"center\", pad=15)\n",
    "\n",
    "x = torch.linspace(0, 10, 100)\n",
    "y = torch.exp(x)\n",
    "axs[1].plot(x.numpy(), y.numpy(), c=colors.pop(0))\n",
    "axs[1].set_title(\"Arithmetic sequence of 100 elements\", loc=\"center\", pad=15)\n",
    "\n",
    "for ax in axs.flat:\n",
    "    ax.set(xlabel=\"arithmetic sequence\", ylabel=\"result of exponentiation\")\n",
    "    ax.tick_params(axis=\"y\", labelrotation=90)\n",
    "    ax.label_outer()\n",
    "\n",
    "fig.suptitle(\"Visual Comparison of Exponentiation\",\n",
    "             fontsize=\"x-large\",\n",
    "             x=0.5,\n",
    "             y=0)\n",
    "\n",
    "plt.tight_layout()\n",
    "plt.show()"
   ]
  },
  {
   "cell_type": "code",
   "execution_count": null,
   "id": "c22d66b9",
   "metadata": {
    "ExecuteTime": {
     "end_time": "2023-04-17T11:18:52.379881Z",
     "start_time": "2023-04-17T11:18:52.379871Z"
    }
   },
   "outputs": [],
   "source": [
    "def csc(x):\n",
    "    return 1 / torch.sin(x)\n",
    "\n",
    "\n",
    "def sec(x):\n",
    "    return 1 / torch.cos(x)\n",
    "\n",
    "\n",
    "def cot(x):\n",
    "    return 1 / torch.tan(x)\n",
    "\n",
    "\n",
    "colors = calm_color_generator(6)\n",
    "plt.rcParams[\"figure.figsize\"] = (figure_size[0], figure_size[1] / 2 * 3)\n",
    "\n",
    "value_list_1 = [0, torch.pi, 2 * torch.pi, 3 * torch.pi]\n",
    "value_list_2 = [i - .5 * torch.pi for i in value_list_1][1:]\n",
    "color_list_1 = calm_color_generator(4)\n",
    "color_list_2 = calm_color_generator(3)\n",
    "label_list_1 = [\"0 π\", \"1 π\", \"2 π\", \"3 π\"]\n",
    "label_list_2 = [\"0.5 π\", \"1.5 π\", \"2.5 π\"]\n",
    "\n",
    "fig, axs = plt.subplots(3, 2, sharex=True)\n",
    "\n",
    "x = torch.linspace(0, 10, 100)\n",
    "y = torch.sin(x)\n",
    "axs[0, 0].plot(x.numpy(), y.numpy(), c=colors.pop(0))\n",
    "axs[0, 0].set_title(\"Sine = opposite / hypotenuse\", loc=\"center\", pad=15)\n",
    "\n",
    "y = csc(x)\n",
    "axs[0, 1].plot(x.numpy(), y.numpy(), c=colors.pop(0))\n",
    "axs[0, 1].set_title(\"Cosecant = hypotenuse / opposite\", loc=\"center\", pad=15)\n",
    "\n",
    "y = torch.cos(x)\n",
    "axs[1, 0].plot(x.numpy(), y.numpy(), c=colors.pop(0))\n",
    "axs[1, 0].set_title(\"Cosine = adjacent / hypotenuse\", loc=\"center\", pad=15)\n",
    "\n",
    "y = sec(x)\n",
    "axs[1, 1].plot(x.numpy(), y.numpy(), c=colors.pop(0))\n",
    "axs[1, 1].set_title(\"Secant = hypotenuse / adjacent\", loc=\"center\", pad=15)\n",
    "\n",
    "y = torch.tan(x)\n",
    "axs[2, 0].plot(x.numpy(), y.numpy(), c=colors.pop(0))\n",
    "axs[2, 0].set_title(\"Tangent = opposite / adjacent\", loc=\"center\", pad=15)\n",
    "\n",
    "y = cot(x)\n",
    "axs[2, 1].plot(x.numpy(), y.numpy(), c=colors.pop(0))\n",
    "axs[2, 1].set_title(\"Cotangent = adjacent / opposite\", loc=\"center\", pad=15)\n",
    "\n",
    "for ax in axs.flat:\n",
    "    ax.set(xlabel=\"arithmetic sequence\", ylabel=\"result of trigonometry\")\n",
    "    for x, c, label in zip(value_list_1, color_list_1, label_list_1):\n",
    "        ax.axvline(x=x,\n",
    "                   c=c,\n",
    "                   label=label,\n",
    "                   alpha=.2,\n",
    "                   linestyle=\"--\",\n",
    "                   linewidth=3)\n",
    "    for x, c, label in zip(value_list_2, color_list_2, label_list_2):\n",
    "        ax.axvline(x=x, c=c, label=label, alpha=.2, linestyle=\":\", linewidth=3)\n",
    "\n",
    "fig.suptitle(\"Visual Comparison of Trigonometry\",\n",
    "             fontsize=\"x-large\",\n",
    "             x=0.5,\n",
    "             y=0)\n",
    "\n",
    "plt.legend(loc=\"lower right\", borderpad=1, ncol=2)\n",
    "plt.tight_layout()\n",
    "plt.show()"
   ]
  },
  {
   "cell_type": "markdown",
   "id": "456a11d9",
   "metadata": {},
   "source": [
    "## 2 Dimensional Tensors"
   ]
  },
  {
   "cell_type": "code",
   "execution_count": null,
   "id": "93ad29d3",
   "metadata": {
    "ExecuteTime": {
     "end_time": "2023-04-17T11:18:52.380348Z",
     "start_time": "2023-04-17T11:18:52.380343Z"
    }
   },
   "outputs": [],
   "source": [
    "one_d = torch.arange(2, 7)\n",
    "\n",
    "tabulation = Form_Generator()\n",
    "tabulation.heading_printer(\"Creation of 1D tensor from defined interval\")\n",
    "\n",
    "statements = [\"one_d = torch.arange(2, 7)\"]\n",
    "tabulation.statement_generator(statements)\n",
    "\n",
    "variables = [\"one_d\"]\n",
    "values = [str(one_d)]\n",
    "tabulation.variable_generator(variables, values)"
   ]
  },
  {
   "cell_type": "code",
   "execution_count": null,
   "id": "3bdf5948",
   "metadata": {
    "ExecuteTime": {
     "end_time": "2023-04-17T11:18:52.380791Z",
     "start_time": "2023-04-17T11:18:52.380785Z"
    }
   },
   "outputs": [],
   "source": [
    "one_d = torch.arange(2, 7, 2)\n",
    "\n",
    "tabulation = Form_Generator()\n",
    "tabulation.heading_printer(\n",
    "    \"Creation of 1D tensor from defined interval and difference\")\n",
    "\n",
    "statements = [\"one_d = torch.arange(2, 7, 2)\"]\n",
    "tabulation.statement_generator(statements)\n",
    "\n",
    "variables = [\"one_d\"]\n",
    "values = [str(one_d)]\n",
    "tabulation.variable_generator(variables, values)"
   ]
  },
  {
   "cell_type": "code",
   "execution_count": null,
   "id": "c0ad5673",
   "metadata": {
    "ExecuteTime": {
     "end_time": "2023-04-17T11:18:52.381728Z",
     "start_time": "2023-04-17T11:18:52.381723Z"
    }
   },
   "outputs": [],
   "source": [
    "one_d = torch.arange(0, 9)\n",
    "two_d = one_d.view(3, 3)\n",
    "\n",
    "tabulation = Form_Generator()\n",
    "tabulation.heading_printer(\"Creation of 2D tensor from 1D tensor\")\n",
    "\n",
    "statements = [\"\"\"\n",
    "one_d = torch.arange(0, 9)\n",
    "two_d = one_d.view(3, 3)\n",
    "\"\"\"]\n",
    "tabulation.statement_generator(statements)\n",
    "\n",
    "variables = [\"one_d\", \"two_d\"]\n",
    "values = [str(one_d), str(two_d)]\n",
    "tabulation.variable_generator(variables, values)\n",
    "\n",
    "expressions = [\"one_d.dim()\", \"two_d.dim()\"]\n",
    "results = [str(one_d.dim()), str(two_d.dim())]\n",
    "tabulation.expression_generator(expressions, results)"
   ]
  },
  {
   "cell_type": "code",
   "execution_count": null,
   "id": "9d5c54f1",
   "metadata": {
    "ExecuteTime": {
     "end_time": "2023-04-17T11:18:52.382173Z",
     "start_time": "2023-04-17T11:18:52.382168Z"
    }
   },
   "outputs": [],
   "source": [
    "tabulation = Form_Generator()\n",
    "tabulation.heading_printer(\"Element selection of 2D tensor\")\n",
    "\n",
    "expressions = [\"two_d[0, 0]\", \"two_d[1, 2]\", \"two_d[-2, -1]\"]\n",
    "results = [str(two_d[0, 0]), str(two_d[1, 2]), str(two_d[-2, -1])]\n",
    "tabulation.expression_generator(expressions, results)"
   ]
  },
  {
   "cell_type": "code",
   "execution_count": null,
   "id": "6769a7fd",
   "metadata": {
    "ExecuteTime": {
     "end_time": "2023-04-17T11:18:52.382745Z",
     "start_time": "2023-04-17T11:18:52.382740Z"
    }
   },
   "outputs": [],
   "source": [
    "tabulation = Form_Generator()\n",
    "tabulation.heading_printer(\"Segment slicing of 2D tensor\")\n",
    "\n",
    "expressions = [\n",
    "    \"two_d[0]\", \"two_d[0, ]\", \"two_d[:, 0]\", \"two_d[:-1, ]\", \"two_d[:, ::2]\"\n",
    "]\n",
    "results = [\n",
    "    str(two_d[0]),\n",
    "    str(two_d[0, ]),\n",
    "    str(two_d[:, 0]),\n",
    "    str(two_d[:-1, ]),\n",
    "    str(two_d[:, ::2])\n",
    "]\n",
    "tabulation.expression_generator(expressions, results)"
   ]
  },
  {
   "cell_type": "code",
   "execution_count": null,
   "id": "697f12ac",
   "metadata": {
    "ExecuteTime": {
     "end_time": "2023-04-17T11:18:52.383287Z",
     "start_time": "2023-04-17T11:18:52.383282Z"
    }
   },
   "outputs": [],
   "source": [
    "three_d_1 = torch.arange(18).view(2, 3, 3)\n",
    "three_d_2 = torch.arange(18).view(3, 2, 3)\n",
    "three_d_3 = torch.arange(18).view(3, 3, 2)\n",
    "\n",
    "tabulation = Form_Generator()\n",
    "tabulation.heading_printer(\"Creation of 3D tensor from 1D tensor\")\n",
    "\n",
    "statements = [\n",
    "    \"\"\"\n",
    "three_d_1 = torch.arange(18).view(2, 3, 3)\n",
    "three_d_2 = torch.arange(18).view(3, 2, 3)\n",
    "three_d_3 = torch.arange(18).view(3, 3, 2)\n",
    "\"\"\"\n",
    "]\n",
    "tabulation.statement_generator(statements)\n",
    "\n",
    "variables = [\"three_d_1\", \"three_d_2\", \"three_d_3\"]\n",
    "values = [str(three_d_1), str(three_d_2), str(three_d_3)]\n",
    "tabulation.variable_generator(variables, values)\n",
    "\n",
    "expressions = [\n",
    "    \"three_d_2.size()\", \"three_d_2.size(dim=0)\", \"three_d_2.size(dim=1)\",\n",
    "    \"three_d_2.size(dim=2)\", \"three_d_2.dim()\"\n",
    "]\n",
    "results = [\n",
    "    str(three_d_2.size()),\n",
    "    str(three_d_2.size(dim=0)),\n",
    "    str(three_d_2.size(dim=1)),\n",
    "    str(three_d_2.size(dim=2)),\n",
    "    str(three_d_2.dim()),\n",
    "]\n",
    "tabulation.expression_generator(expressions, results)"
   ]
  },
  {
   "cell_type": "markdown",
   "id": "e06e0781",
   "metadata": {},
   "source": [
    "## Slicing 3D Tensors"
   ]
  },
  {
   "cell_type": "code",
   "execution_count": null,
   "id": "bc0a47d6",
   "metadata": {
    "ExecuteTime": {
     "end_time": "2023-04-17T11:18:52.383797Z",
     "start_time": "2023-04-17T11:18:52.383792Z"
    }
   },
   "outputs": [],
   "source": [
    "tabulation = Form_Generator()\n",
    "tabulation.heading_printer(\"Element selection of 3D tensor\")\n",
    "\n",
    "expressions = [\n",
    "    \"three_d_1[1, 1, 1]\", \"three_d_2[1, 1, 1]\", \"three_d_3[1, 1, 1]\"\n",
    "]\n",
    "results = [\n",
    "    str(three_d_1[1, 1, 1]),\n",
    "    str(three_d_2[1, 1, 1]),\n",
    "    str(three_d_3[1, 1, 1])\n",
    "]\n",
    "tabulation.expression_generator(expressions, results)"
   ]
  },
  {
   "cell_type": "code",
   "execution_count": null,
   "id": "82dd6946",
   "metadata": {
    "ExecuteTime": {
     "end_time": "2023-04-17T11:18:52.384503Z",
     "start_time": "2023-04-17T11:18:52.384498Z"
    }
   },
   "outputs": [],
   "source": [
    "tabulation = Form_Generator()\n",
    "tabulation.heading_printer(\"Segment slicing of 3D tensor\")\n",
    "\n",
    "expressions = [\n",
    "    \"three_d_2[1]\", \"three_d_2[1, :, :]\", \"three_d_2[:, :-1, :]\",\n",
    "    \"three_d_2[:, :, ::2]\"\n",
    "]\n",
    "results = [\n",
    "    str(three_d_2[1]),\n",
    "    str(three_d_2[1, :, :]),\n",
    "    str(three_d_2[:, :-1, :]),\n",
    "    str(three_d_2[:, :, ::2])\n",
    "]\n",
    "tabulation.expression_generator(expressions, results)"
   ]
  },
  {
   "cell_type": "markdown",
   "id": "7031e274",
   "metadata": {},
   "source": [
    "## Matrix Multiplication"
   ]
  },
  {
   "cell_type": "code",
   "execution_count": null,
   "id": "2262df4b",
   "metadata": {
    "ExecuteTime": {
     "end_time": "2023-04-17T11:18:52.385059Z",
     "start_time": "2023-04-17T11:18:52.385055Z"
    }
   },
   "outputs": [],
   "source": [
    "mat_a = torch.tensor([0, 3, 5, 5, 5, 2]).view(2, 3)\n",
    "mat_b = torch.tensor([3, 4, 3, -2, 4, -2]).view(3, 2)\n",
    "\n",
    "tabulation = Form_Generator()\n",
    "tabulation.heading_printer(\"Matrix multiplication of tensors\")\n",
    "\n",
    "statements = [\n",
    "    \"\"\"\n",
    "mat_a = torch.tensor([0, 3, 5, 5, 5, 2]).view(2, 3)\n",
    "mat_b = torch.tensor([3, 4, 3, -2, 4, -2]).view(3, 2)\n",
    "\"\"\"\n",
    "]\n",
    "tabulation.statement_generator(statements)\n",
    "\n",
    "variables = [\"mat_a\", \"mat_b\"]\n",
    "values = [str(mat_a), str(mat_b)]\n",
    "tabulation.variable_generator(variables, values)\n",
    "\n",
    "expressions = [\"torch.matmul(mat_a, mat_b)\", \"mat_a @ mat_b\"]\n",
    "results = [str(torch.matmul(mat_a, mat_b)), str(mat_a @ mat_b)]\n",
    "tabulation.expression_generator(expressions, results)"
   ]
  },
  {
   "cell_type": "markdown",
   "id": "fa079f32",
   "metadata": {},
   "source": [
    "## Gradient with PyTorch"
   ]
  },
  {
   "cell_type": "code",
   "execution_count": null,
   "id": "8ce04990",
   "metadata": {
    "ExecuteTime": {
     "end_time": "2023-04-17T11:18:52.385416Z",
     "start_time": "2023-04-17T11:18:52.385411Z"
    }
   },
   "outputs": [],
   "source": [
    "x = torch.tensor(2.0, requires_grad=True)\n",
    "y = 9 * x**4 + 2 * x**3 + 3 * x**2 + 6 * x + 1\n",
    "y.backward()\n",
    "\n",
    "tabulation = Form_Generator()\n",
    "tabulation.heading_printer(\"Calculation of total derivative\")\n",
    "\n",
    "statements = [\n",
    "    \"\"\"\n",
    "x = torch.tensor(2.0, requires_grad=True)\n",
    "y = 9 * x**4 + 2 * x**3 + 3 * x**2 + 6 * x + 1\n",
    "y.backward()\n",
    "\"\"\"\n",
    "]\n",
    "tabulation.statement_generator(statements)\n",
    "\n",
    "variables = [\"x\", \"y\"]\n",
    "values = [str(x), str(y)]\n",
    "tabulation.variable_generator(variables, values)\n",
    "\n",
    "expressions = [\"x.grad\"]\n",
    "results = [str(x.grad)]\n",
    "tabulation.expression_generator(expressions, results)"
   ]
  },
  {
   "cell_type": "code",
   "execution_count": null,
   "id": "6f4fd9fb",
   "metadata": {
    "ExecuteTime": {
     "end_time": "2023-04-17T11:18:52.385854Z",
     "start_time": "2023-04-17T11:18:52.385849Z"
    }
   },
   "outputs": [],
   "source": [
    "x = torch.tensor(1.0, requires_grad=True)\n",
    "z = torch.tensor(2.0, requires_grad=True)\n",
    "y = x**2 + z**3\n",
    "y.backward()\n",
    "\n",
    "tabulation = Form_Generator()\n",
    "tabulation.heading_printer(\"Calculation of partial derivative\")\n",
    "\n",
    "statements = [\n",
    "    \"\"\"\n",
    "x = torch.tensor(1.0, requires_grad=True)\n",
    "z = torch.tensor(2.0, requires_grad=True)\n",
    "y = x**2 + z**3\n",
    "y.backward()\n",
    "\"\"\"\n",
    "]\n",
    "tabulation.statement_generator(statements)\n",
    "\n",
    "variables = [\"x\", \"z\", \"y\"]\n",
    "values = [str(x), str(z), str(y)]\n",
    "tabulation.variable_generator(variables, values)\n",
    "\n",
    "expressions = [\"x.grad\", \"z.grad\"]\n",
    "results = [str(x.grad), str(z.grad)]\n",
    "tabulation.expression_generator(expressions, results)"
   ]
  }
 ],
 "metadata": {
  "hide_input": false,
  "kernelspec": {
   "display_name": "Python 3 (ipykernel)",
   "language": "python",
   "name": "python3"
  },
  "language_info": {
   "codemirror_mode": {
    "name": "ipython",
    "version": 3
   },
   "file_extension": ".py",
   "mimetype": "text/x-python",
   "name": "python",
   "nbconvert_exporter": "python",
   "pygments_lexer": "ipython3",
   "version": "3.10.10"
  },
  "latex_envs": {
   "LaTeX_envs_menu_present": true,
   "autoclose": false,
   "autocomplete": true,
   "bibliofile": "biblio.bib",
   "cite_by": "apalike",
   "current_citInitial": 1,
   "eqLabelWithNumbers": true,
   "eqNumInitial": 1,
   "hotkeys": {
    "equation": "Ctrl-E",
    "itemize": "Ctrl-I"
   },
   "labels_anchors": false,
   "latex_user_defs": false,
   "report_style_numbering": false,
   "user_envs_cfg": false
  },
  "nbTranslate": {
   "displayLangs": [
    "*"
   ],
   "hotkey": "alt-t",
   "langInMainMenu": true,
   "sourceLang": "en",
   "targetLang": "fr",
   "useGoogleTranslate": true
  },
  "toc": {
   "base_numbering": 1,
   "nav_menu": {},
   "number_sections": true,
   "sideBar": true,
   "skip_h1_title": false,
   "title_cell": "Table of Contents",
   "title_sidebar": "Contents",
   "toc_cell": false,
   "toc_position": {
    "height": "716px",
    "left": "51px",
    "top": "180px",
    "width": "345.594px"
   },
   "toc_section_display": false,
   "toc_window_display": true
  },
  "varInspector": {
   "cols": {
    "lenName": 16,
    "lenType": 16,
    "lenVar": 40
   },
   "kernels_config": {
    "python": {
     "delete_cmd_postfix": "",
     "delete_cmd_prefix": "del ",
     "library": "var_list.py",
     "varRefreshCmd": "print(var_dic_list())"
    },
    "r": {
     "delete_cmd_postfix": ") ",
     "delete_cmd_prefix": "rm(",
     "library": "var_list.r",
     "varRefreshCmd": "cat(var_dic_list()) "
    }
   },
   "types_to_exclude": [
    "module",
    "function",
    "builtin_function_or_method",
    "instance",
    "_Feature"
   ],
   "window_display": false
  },
  "vscode": {
   "interpreter": {
    "hash": "4df6db6ee61ecce594abe4a5126666f3650dd9429b0086e59af8e3f897fc7111"
   }
  }
 },
 "nbformat": 4,
 "nbformat_minor": 5
}

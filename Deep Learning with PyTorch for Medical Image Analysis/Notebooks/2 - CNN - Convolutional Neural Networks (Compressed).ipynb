{
 "cells": [
  {
   "attachments": {},
   "cell_type": "markdown",
   "id": "6b2f0cbb",
   "metadata": {},
   "source": [
    "**Table of contents**<a id='toc0_'></a>    \n",
    "- [Importing Libraries](#toc1_)    \n",
    "- [Configuring Visualization Parameters](#toc2_)    \n",
    "- [Configuring Other Notebook Parameters](#toc3_)    \n",
    "- [Pre-installing Custom Functions](#toc4_)    \n",
    "- [Practicing in Stages](#toc5_)    \n",
    "  - [ANN with MNIST - Part One - Data](#toc5_1_)    \n",
    "    - [Loading the MNIST dataset](#toc5_1_1_)    \n",
    "- [Notebook Compression](#toc6_)    \n",
    "\n",
    "<!-- vscode-jupyter-toc-config\n",
    "\tnumbering=false\n",
    "\tanchor=true\n",
    "\tflat=false\n",
    "\tminLevel=1\n",
    "\tmaxLevel=6\n",
    "\t/vscode-jupyter-toc-config -->\n",
    "<!-- THIS CELL WILL BE REPLACED ON TOC UPDATE. DO NOT WRITE YOUR TEXT IN THIS CELL -->"
   ]
  },
  {
   "attachments": {},
   "cell_type": "markdown",
   "id": "22f66cd1",
   "metadata": {},
   "source": [
    "# <a id='toc1_'></a>[Importing Libraries](#toc0_)\n"
   ]
  },
  {
   "cell_type": "code",
   "execution_count": 1,
   "id": "4e49f7d6",
   "metadata": {},
   "outputs": [],
   "source": [
    "import torch\n",
    "import torch.nn as nn\n",
    "# Use an abbreviation to improve programming efficiency\n",
    "import torch.nn.functional as F"
   ]
  },
  {
   "cell_type": "code",
   "execution_count": 2,
   "id": "6324c9de",
   "metadata": {},
   "outputs": [],
   "source": [
    "# Batch load data through `DataLoader`\n",
    "from torch.utils.data import DataLoader\n",
    "from torchvision import datasets, transforms"
   ]
  },
  {
   "cell_type": "code",
   "execution_count": 3,
   "id": "57c419b2",
   "metadata": {},
   "outputs": [],
   "source": [
    "# Use `confusion_matrix` to evaluate the result\n",
    "from sklearn.metrics import confusion_matrix  "
   ]
  },
  {
   "cell_type": "code",
   "execution_count": 4,
   "id": "8d3f4a03",
   "metadata": {
    "ExecuteTime": {
     "end_time": "2023-06-01T23:33:24.637726Z",
     "start_time": "2023-06-01T23:33:24.445998Z"
    }
   },
   "outputs": [],
   "source": [
    "import matplotlib as mpl\n",
    "import matplotlib.pyplot as plt"
   ]
  },
  {
   "cell_type": "code",
   "execution_count": 5,
   "id": "cb612741",
   "metadata": {
    "ExecuteTime": {
     "end_time": "2023-06-01T23:33:24.748783Z",
     "start_time": "2023-06-01T23:33:24.645337Z"
    }
   },
   "outputs": [],
   "source": [
    "from ipynbcompress import compress\n",
    "import os\n",
    "import reprlib\n",
    "import sys"
   ]
  },
  {
   "attachments": {},
   "cell_type": "markdown",
   "id": "386b06f8",
   "metadata": {},
   "source": [
    "# <a id='toc2_'></a>[Configuring Visualization Parameters](#toc0_)\n"
   ]
  },
  {
   "cell_type": "code",
   "execution_count": 6,
   "id": "06b9b4d6",
   "metadata": {
    "ExecuteTime": {
     "end_time": "2023-06-01T23:33:24.755996Z",
     "start_time": "2023-06-01T23:33:24.749886Z"
    },
    "hide_input": false
   },
   "outputs": [],
   "source": [
    "%matplotlib inline"
   ]
  },
  {
   "cell_type": "code",
   "execution_count": 7,
   "id": "83ba15ab",
   "metadata": {
    "ExecuteTime": {
     "end_time": "2023-06-01T23:33:24.759431Z",
     "start_time": "2023-06-01T23:33:24.757721Z"
    }
   },
   "outputs": [],
   "source": [
    "XINHUI = \"#7a7374\"\n",
    "XUEBAI = \"#fffef9\"\n",
    "YINBAI = \"#f1f0ed\"\n",
    "YINHUI = \"#918072\"\n",
    "\n",
    "figure_size = (16, 9)"
   ]
  },
  {
   "cell_type": "code",
   "execution_count": 8,
   "id": "cc34225d",
   "metadata": {
    "ExecuteTime": {
     "end_time": "2023-06-01T23:33:24.762455Z",
     "start_time": "2023-06-01T23:33:24.760404Z"
    }
   },
   "outputs": [],
   "source": [
    "custom_params = {\n",
    "    \"axes.axisbelow\": True,\n",
    "    \"axes.edgecolor\": YINBAI,\n",
    "    \"axes.facecolor\": XUEBAI,\n",
    "    \"axes.grid\": True,\n",
    "    \"axes.labelcolor\": XINHUI,\n",
    "    \"axes.spines.right\": False,\n",
    "    \"axes.spines.top\": False,\n",
    "    \"axes.titlecolor\": XINHUI,\n",
    "    \"figure.edgecolor\": YINBAI,\n",
    "    \"figure.facecolor\": XUEBAI,\n",
    "    \"grid.alpha\": 0.8,\n",
    "    \"grid.color\": YINBAI,\n",
    "    \"grid.linestyle\": \"--\",\n",
    "    \"grid.linewidth\": 1.2,\n",
    "    \"legend.edgecolor\": YINHUI,\n",
    "    \"patch.edgecolor\": XUEBAI,\n",
    "    \"patch.force_edgecolor\": True,\n",
    "    \"text.color\": XINHUI,\n",
    "    \"xtick.color\": YINHUI,\n",
    "    \"ytick.color\": YINHUI,\n",
    "}\n",
    "\n",
    "mpl.rcParams.update(custom_params)"
   ]
  },
  {
   "attachments": {},
   "cell_type": "markdown",
   "id": "68d3761f",
   "metadata": {},
   "source": [
    "# <a id='toc3_'></a>[Configuring Other Notebook Parameters](#toc0_)\n"
   ]
  },
  {
   "cell_type": "code",
   "execution_count": 9,
   "id": "a021ddb4",
   "metadata": {
    "ExecuteTime": {
     "end_time": "2023-06-01T23:33:24.764768Z",
     "start_time": "2023-06-01T23:33:24.763317Z"
    }
   },
   "outputs": [],
   "source": [
    "reprlib_rules = reprlib.Repr()\n",
    "reprlib_rules.maxother = 250"
   ]
  },
  {
   "attachments": {},
   "cell_type": "markdown",
   "id": "2bb51896",
   "metadata": {},
   "source": [
    "# <a id='toc4_'></a>[Pre-installing Custom Functions](#toc0_)\n"
   ]
  },
  {
   "cell_type": "code",
   "execution_count": 10,
   "id": "d55fa0bc",
   "metadata": {
    "ExecuteTime": {
     "end_time": "2023-06-01T23:33:24.767279Z",
     "start_time": "2023-06-01T23:33:24.765474Z"
    }
   },
   "outputs": [],
   "source": [
    "sys.path.append(\"../\")"
   ]
  },
  {
   "cell_type": "code",
   "execution_count": 11,
   "id": "ba76706e",
   "metadata": {
    "ExecuteTime": {
     "end_time": "2023-06-01T23:33:24.948601Z",
     "start_time": "2023-06-01T23:33:24.768295Z"
    }
   },
   "outputs": [],
   "source": [
    "from Modules import *"
   ]
  },
  {
   "attachments": {},
   "cell_type": "markdown",
   "id": "e6bf9c0a",
   "metadata": {},
   "source": [
    "# <a id='toc5_'></a>[Practicing in Stages](#toc0_)\n",
    "\n",
    "## <a id='toc5_1_'></a>[ANN with MNIST - Part One - Data](#toc0_)\n",
    "\n",
    "### <a id='toc5_1_1_'></a>[Loading the MNIST dataset](#toc0_)\n"
   ]
  },
  {
   "cell_type": "code",
   "execution_count": 12,
   "id": "ca2b93f3",
   "metadata": {},
   "outputs": [
    {
     "name": "stdout",
     "output_type": "stream",
     "text": [
      "\u001b[4m\u001b[35mLoading the MNIST training and testing datasets\u001b[0m\n",
      "\n",
      "\u001b[1m\u001b[35m    +-----------------------------------------------------+\u001b[0m\n",
      "\u001b[1m\u001b[35m    | Statement                                           |\u001b[0m\n",
      "\u001b[1m\u001b[35m    +-----------------------------------------------------+\u001b[0m\n",
      "\u001b[1m\u001b[35m    | transform = transforms.ToTensor()                   |\u001b[0m\n",
      "\u001b[1m\u001b[35m    |                                                     |\u001b[0m\n",
      "\u001b[1m\u001b[35m    | train_data = datasets.MNIST(                        |\u001b[0m\n",
      "\u001b[1m\u001b[35m    |     root=\"../Datasets\", train=True, download=True,  |\u001b[0m\n",
      "\u001b[1m\u001b[35m    |     transform=transform                             |\u001b[0m\n",
      "\u001b[1m\u001b[35m    | )                                                   |\u001b[0m\n",
      "\u001b[1m\u001b[35m    | test_data = datasets.MNIST(                         |\u001b[0m\n",
      "\u001b[1m\u001b[35m    |     root=\"../Datasets\", train=False, download=True, |\u001b[0m\n",
      "\u001b[1m\u001b[35m    |     transform=transform                             |\u001b[0m\n",
      "\u001b[1m\u001b[35m    | )                                                   |\u001b[0m\n",
      "\u001b[1m\u001b[35m    +-----------------------------------------------------+\u001b[0m\n",
      "\u001b[1m\u001b[35m    +------------+---------------------------------+\u001b[0m\n",
      "\u001b[1m\u001b[35m    | Variable   | Value                           |\u001b[0m\n",
      "\u001b[1m\u001b[35m    +------------+---------------------------------+\u001b[0m\n",
      "\u001b[1m\u001b[35m    | transform  | ToTensor()                      |\u001b[0m\n",
      "\u001b[1m\u001b[35m    | train_data | Dataset MNIST                   |\u001b[0m\n",
      "\u001b[1m\u001b[35m    |            |     Number of datapoints: 60000 |\u001b[0m\n",
      "\u001b[1m\u001b[35m    |            |     Root location: ../Datasets  |\u001b[0m\n",
      "\u001b[1m\u001b[35m    |            |     Split: Train                |\u001b[0m\n",
      "\u001b[1m\u001b[35m    |            |     StandardTransform           |\u001b[0m\n",
      "\u001b[1m\u001b[35m    |            | Transform: ToTensor()           |\u001b[0m\n",
      "\u001b[1m\u001b[35m    | test_data  | Dataset MNIST                   |\u001b[0m\n",
      "\u001b[1m\u001b[35m    |            |     Number of datapoints: 10000 |\u001b[0m\n",
      "\u001b[1m\u001b[35m    |            |     Root location: ../Datasets  |\u001b[0m\n",
      "\u001b[1m\u001b[35m    |            |     Split: Test                 |\u001b[0m\n",
      "\u001b[1m\u001b[35m    |            |     StandardTransform           |\u001b[0m\n",
      "\u001b[1m\u001b[35m    |            | Transform: ToTensor()           |\u001b[0m\n",
      "\u001b[1m\u001b[35m    +------------+---------------------------------+\u001b[0m\n",
      "\u001b[1m\u001b[35m    +---------------------+------------------------------------+\u001b[0m\n",
      "\u001b[1m\u001b[35m    | Expression          | Result                             |\u001b[0m\n",
      "\u001b[1m\u001b[35m    +---------------------+------------------------------------+\u001b[0m\n",
      "\u001b[1m\u001b[35m    | len(train_data)     | 60000                              |\u001b[0m\n",
      "\u001b[1m\u001b[35m    | train_data[0]       | (tensor([[[0.0000, 0.0000, 0.0000, |\u001b[0m\n",
      "\u001b[1m\u001b[35m    |                     |         0.0000, 0.0000, 0.0000,    |\u001b[0m\n",
      "\u001b[1m\u001b[35m    |                     |         0.0000, 0.0000,            |\u001b[0m\n",
      "\u001b[1m\u001b[35m    |                     |           0.0000, 0.0000, 0.0000,  |\u001b[0m\n",
      "\u001b[1m\u001b[35m    |                     |         0.0000, 0.0000,...0000,    |\u001b[0m\n",
      "\u001b[1m\u001b[35m    |                     |           0.0000, 0.0000, 0.0000,  |\u001b[0m\n",
      "\u001b[1m\u001b[35m    |                     |         0.0000, 0.0000, 0.0000,    |\u001b[0m\n",
      "\u001b[1m\u001b[35m    |                     |         0.0000, 0.0000,            |\u001b[0m\n",
      "\u001b[1m\u001b[35m    |                     |           0.0000, 0.0000, 0.0000,  |\u001b[0m\n",
      "\u001b[1m\u001b[35m    |                     |         0.0000]]]), 5)             |\u001b[0m\n",
      "\u001b[1m\u001b[35m    | type(train_data[0]) | ⟨class 'tuple'⟩                    |\u001b[0m\n",
      "\u001b[1m\u001b[35m    | len(train_data[0])  | 2                                  |\u001b[0m\n",
      "\u001b[1m\u001b[35m    | len(test_data)      | 10000                              |\u001b[0m\n",
      "\u001b[1m\u001b[35m    | test_data[0]        | (tensor([[[0.0000, 0.0000, 0.0000, |\u001b[0m\n",
      "\u001b[1m\u001b[35m    |                     |         0.0000, 0.0000, 0.0000,    |\u001b[0m\n",
      "\u001b[1m\u001b[35m    |                     |         0.0000, 0.0000,            |\u001b[0m\n",
      "\u001b[1m\u001b[35m    |                     |           0.0000, 0.0000, 0.0000,  |\u001b[0m\n",
      "\u001b[1m\u001b[35m    |                     |         0.0000, 0.0000,...0000,    |\u001b[0m\n",
      "\u001b[1m\u001b[35m    |                     |           0.0000, 0.0000, 0.0000,  |\u001b[0m\n",
      "\u001b[1m\u001b[35m    |                     |         0.0000, 0.0000, 0.0000,    |\u001b[0m\n",
      "\u001b[1m\u001b[35m    |                     |         0.0000, 0.0000,            |\u001b[0m\n",
      "\u001b[1m\u001b[35m    |                     |           0.0000, 0.0000, 0.0000,  |\u001b[0m\n",
      "\u001b[1m\u001b[35m    |                     |         0.0000]]]), 7)             |\u001b[0m\n",
      "\u001b[1m\u001b[35m    | type(test_data[0])  | ⟨class 'tuple'⟩                    |\u001b[0m\n",
      "\u001b[1m\u001b[35m    | len(test_data[0])   | 2                                  |\u001b[0m\n",
      "\u001b[1m\u001b[35m    +---------------------+------------------------------------+\u001b[0m\n"
     ]
    }
   ],
   "source": [
    "# Convert MNIST images to tensors\n",
    "transform = transforms.ToTensor()\n",
    "\n",
    "train_data = datasets.MNIST(\n",
    "    root=\"../Datasets\", train=True, download=True, transform=transform\n",
    ")\n",
    "test_data = datasets.MNIST(\n",
    "    root=\"../Datasets\", train=False, download=True, transform=transform\n",
    ")\n",
    "\n",
    "tabulation = Form_Generator()\n",
    "tabulation.heading_printer(\"Loading the MNIST training and testing datasets\")\n",
    "\n",
    "statements = [\n",
    "    \"\"\"\n",
    "transform = transforms.ToTensor()\n",
    "\n",
    "train_data = datasets.MNIST(\n",
    "    root=\"../Datasets\", train=True, download=True, transform=transform\n",
    ")\n",
    "test_data = datasets.MNIST(\n",
    "    root=\"../Datasets\", train=False, download=True, transform=transform\n",
    ")\n",
    "\"\"\"\n",
    "]\n",
    "tabulation.long_statement_generator(statements)\n",
    "\n",
    "variables = [\"transform\", \"train_data\", \"test_data\"]\n",
    "values = [\n",
    "    str(transform),\n",
    "    str(reprlib_rules.repr(train_data)),\n",
    "    str(reprlib_rules.repr(test_data)),\n",
    "]\n",
    "tabulation.variable_generator(variables, values)\n",
    "\n",
    "expressions = [\n",
    "    \"len(train_data)\",\n",
    "    \"train_data[0]\",\n",
    "    \"type(train_data[0])\",\n",
    "    \"len(train_data[0])\",\n",
    "    \"len(test_data)\",\n",
    "    \"test_data[0]\",\n",
    "    \"type(test_data[0])\",\n",
    "    \"len(test_data[0])\",\n",
    "]\n",
    "results = [\n",
    "    str(len(train_data)),\n",
    "    str(reprlib_rules.repr(train_data[0])),\n",
    "    str(type(train_data[0])),\n",
    "    str(len(train_data[0])),\n",
    "    str(len(test_data)),\n",
    "    str(reprlib_rules.repr(test_data[0])),\n",
    "    str(type(test_data[0])),\n",
    "    str(len(test_data[0])),\n",
    "]\n",
    "tabulation.expression_generator(expressions, results)"
   ]
  },
  {
   "cell_type": "code",
   "execution_count": 13,
   "id": "cfb58cd4",
   "metadata": {},
   "outputs": [
    {
     "name": "stdout",
     "output_type": "stream",
     "text": [
      "\u001b[4m\u001b[36mExamining a training record\u001b[0m\n",
      "\n",
      "\u001b[1m\u001b[36m    +------------------------------+\u001b[0m\n",
      "\u001b[1m\u001b[36m    | Statement                    |\u001b[0m\n",
      "\u001b[1m\u001b[36m    +------------------------------+\u001b[0m\n",
      "\u001b[1m\u001b[36m    | image, label = train_data[0] |\u001b[0m\n",
      "\u001b[1m\u001b[36m    +------------------------------+\u001b[0m\n",
      "\u001b[1m\u001b[36m    +----------+----------------------------------------------+\u001b[0m\n",
      "\u001b[1m\u001b[36m    | Variable | Value                                        |\u001b[0m\n",
      "\u001b[1m\u001b[36m    +----------+----------------------------------------------+\u001b[0m\n",
      "\u001b[1m\u001b[36m    | image    | tensor([[[0.0000, 0.0000, 0.0000, 0.0000,    |\u001b[0m\n",
      "\u001b[1m\u001b[36m    |          |         0.0000, 0.0000, 0.0000, 0.0000,      |\u001b[0m\n",
      "\u001b[1m\u001b[36m    |          |           0.0000, 0.0000, 0.0000, 0.0000,    |\u001b[0m\n",
      "\u001b[1m\u001b[36m    |          |         0.0000,...0000,                      |\u001b[0m\n",
      "\u001b[1m\u001b[36m    |          |           0.0000, 0.0000, 0.0000, 0.0000,    |\u001b[0m\n",
      "\u001b[1m\u001b[36m    |          |         0.0000, 0.0000, 0.0000, 0.0000,      |\u001b[0m\n",
      "\u001b[1m\u001b[36m    |          |           0.0000, 0.0000, 0.0000, 0.0000]]]) |\u001b[0m\n",
      "\u001b[1m\u001b[36m    | label    | 5                                            |\u001b[0m\n",
      "\u001b[1m\u001b[36m    +----------+----------------------------------------------+\u001b[0m\n",
      "\u001b[1m\u001b[36m    +-------------+-------------------------+\u001b[0m\n",
      "\u001b[1m\u001b[36m    | Expression  | Result                  |\u001b[0m\n",
      "\u001b[1m\u001b[36m    +-------------+-------------------------+\u001b[0m\n",
      "\u001b[1m\u001b[36m    | image.shape | torch.Size([1, 28, 28]) |\u001b[0m\n",
      "\u001b[1m\u001b[36m    +-------------+-------------------------+\u001b[0m\n"
     ]
    }
   ],
   "source": [
    "# Each element in the training data or test data is a 2-element tuple\n",
    "image, label = train_data[0]\n",
    "\n",
    "tabulation = Form_Generator()\n",
    "tabulation.heading_printer(\"Examining a training record\")\n",
    "\n",
    "statements = [\"image, label = train_data[0]\"]\n",
    "tabulation.long_statement_generator(statements)\n",
    "\n",
    "variables = [\"image\", \"label\"]\n",
    "values = [str(reprlib_rules.repr(image)), str(label)]\n",
    "tabulation.variable_generator(variables, values)\n",
    "\n",
    "expressions = [\"image.shape\"]\n",
    "results = [str(image.shape)]\n",
    "tabulation.expression_generator(expressions, results)"
   ]
  },
  {
   "cell_type": "code",
   "execution_count": 14,
   "id": "8854b553",
   "metadata": {},
   "outputs": [
    {
     "data": {
      "image/png": "[encoded data removed]",
      "text/plain": [
       "<Figure size 1066.67x900 with 4 Axes>"
      ]
     },
     "metadata": {},
     "output_type": "display_data"
    }
   ],
   "source": [
    "plt.rcParams[\"figure.figsize\"] = (figure_size[0] / 3 * 2, figure_size[1])\n",
    "\n",
    "fig, axs = plt.subplots(nrows=2, ncols=2)\n",
    "\n",
    "# Data can be displayed as an image using `imshow`, but only on a 2D regular raster\n",
    "\n",
    "# Dates need to be reshaped into 2D arrays when displaying data using `imshow`\n",
    "axs[0, 0].imshow(train_data[0][0].reshape((28, 28)), cmap=\"gray\")\n",
    "axs[0, 0].grid(False)\n",
    "axs[0, 0].set_title(\"Image display using 'gray' as the colormap\", loc=\"center\", pad=15)\n",
    "\n",
    "axs[0, 1].imshow(train_data[0][0].reshape((28, 28)), cmap=\"gist_yarg\")\n",
    "axs[0, 1].grid(False)\n",
    "axs[0, 1].set_title(\"Image display using 'gist_yarg' as the colormap\", loc=\"center\", pad=15)\n",
    "\n",
    "axs[1, 0].imshow(test_data[0][0].reshape((28, 28)), cmap=\"binary_r\")\n",
    "axs[1, 0].grid(False)\n",
    "axs[1, 0].set_title(\"Image display using 'binary_r' as the colormap\", loc=\"center\", pad=15)\n",
    "\n",
    "axs[1, 1].imshow(test_data[0][0].reshape((28, 28)), cmap=\"binary\")\n",
    "axs[1, 1].grid(False)\n",
    "axs[1, 1].set_title(\"Image display using 'binary' as the colormap\", loc=\"center\", pad=15)\n",
    "\n",
    "fig.suptitle(\n",
    "    \"\",\n",
    "    fontsize=\"x-large\",\n",
    "    x=0.5,\n",
    "    y=0,\n",
    ")\n",
    "\n",
    "plt.tight_layout()\n",
    "plt.show()"
   ]
  },
  {
   "attachments": {},
   "cell_type": "markdown",
   "id": "dd9b7eef",
   "metadata": {},
   "source": [
    "# <a id='toc6_'></a>[Notebook Compression](#toc0_)\n"
   ]
  },
  {
   "cell_type": "code",
   "execution_count": 15,
   "id": "238a2074",
   "metadata": {
    "ExecuteTime": {
     "start_time": "2023-06-01T23:33:26.490Z"
    }
   },
   "outputs": [
    {
     "name": "stdout",
     "output_type": "stream",
     "text": [
      "64213\n",
      "2 - CNN - Convolutional Neural Networks.ipynb: warning: no compression - 28552 bytes gained\n",
      "92765\n"
     ]
    }
   ],
   "source": [
    "input_filename = \"2 - CNN - Convolutional Neural Networks.ipynb\"\n",
    "\n",
    "output_filename = \" (Compressed).\".join(input_filename.split(\".\"))\n",
    "\n",
    "print(os.stat(input_filename).st_size)\n",
    "\n",
    "# Keep the original file and create another compressed file to upload to GitHub by\n",
    "# specifying the width of the output image\n",
    "compress(\n",
    "    input_filename, output_filename=output_filename, img_width=800, img_format=\"png\"\n",
    ")\n",
    "\n",
    "print(os.stat(output_filename).st_size)"
   ]
  },
  {
   "cell_type": "code",
   "execution_count": null,
   "id": "fb518e6c",
   "metadata": {},
   "outputs": [],
   "source": []
  },
  {
   "cell_type": "code",
   "execution_count": null,
   "id": "6d44cfa9",
   "metadata": {},
   "outputs": [],
   "source": []
  }
 ],
 "metadata": {
  "hide_input": false,
  "kernelspec": {
   "display_name": "Python 3 (ipykernel)",
   "language": "python",
   "name": "python3"
  },
  "language_info": {
   "codemirror_mode": {
    "name": "ipython",
    "version": 3
   },
   "file_extension": ".py",
   "mimetype": "text/x-python",
   "name": "python",
   "nbconvert_exporter": "python",
   "pygments_lexer": "ipython3",
   "version": "3.10.10"
  },
  "latex_envs": {
   "LaTeX_envs_menu_present": true,
   "autoclose": false,
   "autocomplete": true,
   "bibliofile": "biblio.bib",
   "cite_by": "apalike",
   "current_citInitial": 1,
   "eqLabelWithNumbers": true,
   "eqNumInitial": 1,
   "hotkeys": {
    "equation": "Ctrl-E",
    "itemize": "Ctrl-I"
   },
   "labels_anchors": false,
   "latex_user_defs": false,
   "report_style_numbering": false,
   "user_envs_cfg": false
  },
  "nbTranslate": {
   "displayLangs": [
    "en"
   ],
   "hotkey": "alt-t",
   "langInMainMenu": true,
   "sourceLang": "en",
   "targetLang": "fr",
   "useGoogleTranslate": true
  },
  "toc": {
   "base_numbering": 1,
   "nav_menu": {},
   "number_sections": true,
   "sideBar": true,
   "skip_h1_title": false,
   "title_cell": "Table of Contents",
   "title_sidebar": "Contents",
   "toc_cell": false,
   "toc_position": {
    "height": "716px",
    "left": "51px",
    "top": "180px",
    "width": "345.594px"
   },
   "toc_section_display": false,
   "toc_window_display": true
  },
  "varInspector": {
   "cols": {
    "lenName": 16,
    "lenType": 16,
    "lenVar": 40
   },
   "kernels_config": {
    "python": {
     "delete_cmd_postfix": "",
     "delete_cmd_prefix": "del ",
     "library": "var_list.py",
     "varRefreshCmd": "print(var_dic_list())"
    },
    "r": {
     "delete_cmd_postfix": ") ",
     "delete_cmd_prefix": "rm(",
     "library": "var_list.r",
     "varRefreshCmd": "cat(var_dic_list()) "
    }
   },
   "types_to_exclude": [
    "module",
    "function",
    "builtin_function_or_method",
    "instance",
    "_Feature"
   ],
   "window_display": false
  },
  "vscode": {
   "interpreter": {
    "hash": "4df6db6ee61ecce594abe4a5126666f3650dd9429b0086e59af8e3f897fc7111"
   }
  }
 },
 "nbformat": 4,
 "nbformat_minor": 5
}

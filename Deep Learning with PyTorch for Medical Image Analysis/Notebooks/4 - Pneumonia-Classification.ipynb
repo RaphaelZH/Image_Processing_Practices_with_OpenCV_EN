{
 "cells": [
  {
   "cell_type": "markdown",
   "id": "fa2e3428",
   "metadata": {},
   "source": [
    "**Table of contents**<a id='toc0_'></a>\n",
    "\n",
    "- [Importing Libraries](#toc1_)\n",
    "- [Configuring Visualization Parameters](#toc2_)\n",
    "- [Configuring Other Notebook Parameters](#toc3_)\n",
    "- [Pre-installing Custom Functions](#toc4_)\n",
    "- [Practicing in Stages](#toc5_)\n",
    "  - [Preprocessing](#toc5_1_)\n",
    "\n",
    "<!-- vscode-jupyter-toc-config\n",
    "\tnumbering=false\n",
    "\tanchor=true\n",
    "\tflat=false\n",
    "\tminLevel=1\n",
    "\tmaxLevel=6\n",
    "\t/vscode-jupyter-toc-config -->\n",
    "<!-- THIS CELL WILL BE REPLACED ON TOC UPDATE. DO NOT WRITE YOUR TEXT IN THIS CELL -->\n"
   ]
  },
  {
   "cell_type": "markdown",
   "id": "6bc1aec1",
   "metadata": {},
   "source": [
    "# <a id='toc1_'></a>[Importing Libraries](#toc0_)\n"
   ]
  },
  {
   "cell_type": "code",
   "execution_count": 1,
   "id": "e1de3f67",
   "metadata": {},
   "outputs": [],
   "source": [
    "import pydicom"
   ]
  },
  {
   "cell_type": "code",
   "execution_count": 2,
   "id": "3a9c8045",
   "metadata": {},
   "outputs": [],
   "source": [
    "# import numpy as np\n",
    "import pandas as pd\n",
    "\n",
    "# import torch\n",
    "# from torchvision.utils import make_grid"
   ]
  },
  {
   "cell_type": "code",
   "execution_count": 3,
   "id": "8d3f4a03",
   "metadata": {
    "ExecuteTime": {
     "end_time": "2023-06-01T23:33:24.637726Z",
     "start_time": "2023-06-01T23:33:24.445998Z"
    }
   },
   "outputs": [],
   "source": [
    "import matplotlib as mpl\n",
    "\n",
    "# import matplotlib.gridspec as gridspec\n",
    "import matplotlib.pyplot as plt"
   ]
  },
  {
   "cell_type": "code",
   "execution_count": 4,
   "id": "cb612741",
   "metadata": {
    "ExecuteTime": {
     "end_time": "2023-06-01T23:33:24.748783Z",
     "start_time": "2023-06-01T23:33:24.645337Z"
    }
   },
   "outputs": [],
   "source": [
    "# from datetime import datetime\n",
    "# from functools import wraps\n",
    "# import itertools\n",
    "# import math\n",
    "# import random\n",
    "import reprlib\n",
    "\n",
    "# from scipy import ndimage\n",
    "import sys"
   ]
  },
  {
   "cell_type": "markdown",
   "id": "d0b5a055",
   "metadata": {},
   "source": [
    "# <a id='toc2_'></a>[Configuring Visualization Parameters](#toc0_)\n"
   ]
  },
  {
   "cell_type": "code",
   "execution_count": 5,
   "id": "06b9b4d6",
   "metadata": {
    "ExecuteTime": {
     "end_time": "2023-06-01T23:33:24.755996Z",
     "start_time": "2023-06-01T23:33:24.749886Z"
    },
    "hide_input": false
   },
   "outputs": [],
   "source": [
    "%matplotlib inline"
   ]
  },
  {
   "cell_type": "code",
   "execution_count": 6,
   "id": "83ba15ab",
   "metadata": {
    "ExecuteTime": {
     "end_time": "2023-06-01T23:33:24.759431Z",
     "start_time": "2023-06-01T23:33:24.757721Z"
    }
   },
   "outputs": [],
   "source": [
    "XINHUI = \"#7a7374\"\n",
    "XUEBAI = \"#fffef9\"\n",
    "YINBAI = \"#f1f0ed\"\n",
    "YINHUI = \"#918072\"\n",
    "\n",
    "figure_size = (16, 9)"
   ]
  },
  {
   "cell_type": "code",
   "execution_count": 7,
   "id": "cc34225d",
   "metadata": {
    "ExecuteTime": {
     "end_time": "2023-06-01T23:33:24.762455Z",
     "start_time": "2023-06-01T23:33:24.760404Z"
    }
   },
   "outputs": [],
   "source": [
    "custom_params = {\n",
    "    \"axes.axisbelow\": True,\n",
    "    \"axes.edgecolor\": YINBAI,\n",
    "    \"axes.facecolor\": XUEBAI,\n",
    "    \"axes.grid\": True,\n",
    "    \"axes.labelcolor\": XINHUI,\n",
    "    \"axes.spines.right\": False,\n",
    "    \"axes.spines.top\": False,\n",
    "    \"axes.titlecolor\": XINHUI,\n",
    "    \"figure.edgecolor\": YINBAI,\n",
    "    \"figure.facecolor\": XUEBAI,\n",
    "    \"grid.alpha\": 0.8,\n",
    "    \"grid.color\": YINBAI,\n",
    "    \"grid.linestyle\": \"--\",\n",
    "    \"grid.linewidth\": 1.2,\n",
    "    \"legend.edgecolor\": YINHUI,\n",
    "    \"patch.edgecolor\": XUEBAI,\n",
    "    \"patch.force_edgecolor\": True,\n",
    "    \"text.color\": XINHUI,\n",
    "    \"xtick.color\": YINHUI,\n",
    "    \"ytick.color\": YINHUI,\n",
    "}\n",
    "\n",
    "mpl.rcParams.update(custom_params)"
   ]
  },
  {
   "cell_type": "markdown",
   "id": "b9d8c80f",
   "metadata": {},
   "source": [
    "# <a id='toc3_'></a>[Configuring Other Notebook Parameters](#toc0_)\n"
   ]
  },
  {
   "cell_type": "code",
   "execution_count": 8,
   "id": "a021ddb4",
   "metadata": {
    "ExecuteTime": {
     "end_time": "2023-06-01T23:33:24.764768Z",
     "start_time": "2023-06-01T23:33:24.763317Z"
    }
   },
   "outputs": [],
   "source": [
    "reprlib_rules = reprlib.Repr()\n",
    "reprlib_rules.maxother = 250"
   ]
  },
  {
   "cell_type": "markdown",
   "id": "5dab13cf",
   "metadata": {},
   "source": [
    "# <a id='toc4_'></a>[Pre-installing Custom Functions](#toc0_)\n"
   ]
  },
  {
   "cell_type": "code",
   "execution_count": 9,
   "id": "d55fa0bc",
   "metadata": {
    "ExecuteTime": {
     "end_time": "2023-06-01T23:33:24.767279Z",
     "start_time": "2023-06-01T23:33:24.765474Z"
    }
   },
   "outputs": [],
   "source": [
    "sys.path.append(\"../\")"
   ]
  },
  {
   "cell_type": "code",
   "execution_count": 10,
   "id": "ba76706e",
   "metadata": {
    "ExecuteTime": {
     "end_time": "2023-06-01T23:33:24.948601Z",
     "start_time": "2023-06-01T23:33:24.768295Z"
    }
   },
   "outputs": [],
   "source": [
    "from Modules import *"
   ]
  },
  {
   "cell_type": "markdown",
   "id": "974f7e2d",
   "metadata": {},
   "source": [
    "# <a id='toc5_'></a>[Practicing in Stages](#toc0_)\n",
    "\n",
    "## <a id='toc5_1_'></a>[Preprocessing](#toc0_)\n"
   ]
  },
  {
   "cell_type": "code",
   "execution_count": 11,
   "id": "f3bba8c4",
   "metadata": {},
   "outputs": [
    {
     "name": "stdout",
     "output_type": "stream",
     "text": [
      "\u001b[4m\u001b[32m\u001b[0m\n",
      "\n",
      "\u001b[1m\u001b[32m    +------------------------------------------------+\u001b[0m\n",
      "\u001b[1m\u001b[32m    | Statement                                      |\u001b[0m\n",
      "\u001b[1m\u001b[32m    +------------------------------------------------+\u001b[0m\n",
      "\u001b[1m\u001b[32m    | labels = pd.read_csv(                          |\u001b[0m\n",
      "\u001b[1m\u001b[32m    | \"../Datasets/Kaggle - RSNA Pneumonia Detection |\u001b[0m\n",
      "\u001b[1m\u001b[32m    |     Challenge/stage_2_train_labels.csv\"        |\u001b[0m\n",
      "\u001b[1m\u001b[32m    | )                                              |\u001b[0m\n",
      "\u001b[1m\u001b[32m    +------------------------------------------------+\u001b[0m\n",
      "\u001b[1m\u001b[32m    +----+--------------------------------------+-----+-----+\u001b[0m\n",
      "\u001b[1m\u001b[32m    |    | patientId                            |   x |   y |\u001b[0m\n",
      "\u001b[1m\u001b[32m    |----+--------------------------------------+-----+-----+\u001b[0m\n",
      "\u001b[1m\u001b[32m    |  0 | 0004cfab-14fd-4e49-80ba-63a80b6bddd6 | nan | nan |\u001b[0m\n",
      "\u001b[1m\u001b[32m    |  1 | 00313ee0-9eaa-42f4-b0ab-c148ed3241cd | nan | nan |\u001b[0m\n",
      "\u001b[1m\u001b[32m    |  2 | 00322d4d-1c29-4943-afc9-b6754be640eb | nan | nan |\u001b[0m\n",
      "\u001b[1m\u001b[32m    |  3 | 003d8fa0-6bf1-40ed-b54c-ac657f8495c5 | nan | nan |\u001b[0m\n",
      "\u001b[1m\u001b[32m    |  4 | 00436515-870c-4b36-a041-de91049b9ab4 | 264 | 152 |\u001b[0m\n",
      "\u001b[1m\u001b[32m    |  5 | 00436515-870c-4b36-a041-de91049b9ab4 | 562 | 152 |\u001b[0m\n",
      "\u001b[1m\u001b[32m    |  6 | 00569f44-917d-4c86-a842-81832af98c30 | nan | nan |\u001b[0m\n",
      "\u001b[1m\u001b[32m    |  7 | 006cec2e-6ce2-4549-bffa-eadfcd1e9970 | nan | nan |\u001b[0m\n",
      "\u001b[1m\u001b[32m    |  8 | 00704310-78a8-4b38-8475-49f4573b2dbb | 323 | 577 |\u001b[0m\n",
      "\u001b[1m\u001b[32m    |  9 | 00704310-78a8-4b38-8475-49f4573b2dbb | 695 | 575 |\u001b[0m\n",
      "\u001b[1m\u001b[32m    +----+--------------------------------------+-----+-----+\u001b[0m\n",
      "\u001b[1m\u001b[32m    … +---------+----------+----------+\u001b[0m\n",
      "\u001b[1m\u001b[32m    … |   width |   height |   Target |\u001b[0m\n",
      "\u001b[1m\u001b[32m    … +---------+----------+----------|\u001b[0m\n",
      "\u001b[1m\u001b[32m    … |     nan |      nan |        0 |\u001b[0m\n",
      "\u001b[1m\u001b[32m    … |     nan |      nan |        0 |\u001b[0m\n",
      "\u001b[1m\u001b[32m    … |     nan |      nan |        0 |\u001b[0m\n",
      "\u001b[1m\u001b[32m    … |     nan |      nan |        0 |\u001b[0m\n",
      "\u001b[1m\u001b[32m    … |     213 |      379 |        1 |\u001b[0m\n",
      "\u001b[1m\u001b[32m    … |     256 |      453 |        1 |\u001b[0m\n",
      "\u001b[1m\u001b[32m    … |     nan |      nan |        0 |\u001b[0m\n",
      "\u001b[1m\u001b[32m    … |     nan |      nan |        0 |\u001b[0m\n",
      "\u001b[1m\u001b[32m    … |     160 |      104 |        1 |\u001b[0m\n",
      "\u001b[1m\u001b[32m    … |     162 |      137 |        1 |\u001b[0m\n",
      "\u001b[1m\u001b[32m    … +---------+----------+----------+\u001b[0m\n"
     ]
    }
   ],
   "source": [
    "labels = pd.read_csv(\n",
    "    \"../Datasets/Kaggle - RSNA Pneumonia Detection Challenge/stage_2_train_labels.csv\"\n",
    ")\n",
    "\n",
    "dataframe = DataFrame_Generator(labels.columns.to_list())\n",
    "\n",
    "for i in range(10):\n",
    "    dataframe.updater(labels.iloc[i].to_list())\n",
    "\n",
    "tabulation = Form_Generator()\n",
    "tabulation.heading_printer(\"\")\n",
    "\n",
    "statements = [\n",
    "    \"\"\"\n",
    "labels = pd.read_csv(\n",
    "\"../Datasets/Kaggle - RSNA Pneumonia Detection Challenge/stage_2_train_labels.csv\"\n",
    ")\n",
    "\"\"\"\n",
    "]\n",
    "tabulation.statement_generator(statements)\n",
    "\n",
    "df_table = dataframe.tabulation()\n",
    "tabulation.dataframe_generator(df_table)"
   ]
  },
  {
   "cell_type": "code",
   "execution_count": null,
   "id": "cf157a00",
   "metadata": {},
   "outputs": [],
   "source": []
  },
  {
   "cell_type": "code",
   "execution_count": null,
   "id": "15e3ff71",
   "metadata": {},
   "outputs": [],
   "source": []
  },
  {
   "cell_type": "code",
   "execution_count": null,
   "id": "1993d3a8",
   "metadata": {},
   "outputs": [],
   "source": []
  }
 ],
 "metadata": {
  "hide_input": false,
  "kernelspec": {
   "display_name": "Python 3 (ipykernel)",
   "language": "python",
   "name": "python3"
  },
  "language_info": {
   "codemirror_mode": {
    "name": "ipython",
    "version": 3
   },
   "file_extension": ".py",
   "mimetype": "text/x-python",
   "name": "python",
   "nbconvert_exporter": "python",
   "pygments_lexer": "ipython3",
   "version": "3.10.13"
  },
  "latex_envs": {
   "LaTeX_envs_menu_present": true,
   "autoclose": false,
   "autocomplete": true,
   "bibliofile": "biblio.bib",
   "cite_by": "apalike",
   "current_citInitial": 1,
   "eqLabelWithNumbers": true,
   "eqNumInitial": 1,
   "hotkeys": {
    "equation": "Ctrl-E",
    "itemize": "Ctrl-I"
   },
   "labels_anchors": false,
   "latex_user_defs": false,
   "report_style_numbering": false,
   "user_envs_cfg": false
  },
  "nbTranslate": {
   "displayLangs": [
    "en"
   ],
   "hotkey": "alt-t",
   "langInMainMenu": true,
   "sourceLang": "en",
   "targetLang": "fr",
   "useGoogleTranslate": true
  },
  "toc": {
   "base_numbering": 1,
   "nav_menu": {},
   "number_sections": true,
   "sideBar": true,
   "skip_h1_title": false,
   "title_cell": "Table of Contents",
   "title_sidebar": "Contents",
   "toc_cell": false,
   "toc_position": {
    "height": "716px",
    "left": "51px",
    "top": "180px",
    "width": "345.594px"
   },
   "toc_section_display": false,
   "toc_window_display": true
  },
  "varInspector": {
   "cols": {
    "lenName": 16,
    "lenType": 16,
    "lenVar": 40
   },
   "kernels_config": {
    "python": {
     "delete_cmd_postfix": "",
     "delete_cmd_prefix": "del ",
     "library": "var_list.py",
     "varRefreshCmd": "print(var_dic_list())"
    },
    "r": {
     "delete_cmd_postfix": ") ",
     "delete_cmd_prefix": "rm(",
     "library": "var_list.r",
     "varRefreshCmd": "cat(var_dic_list()) "
    }
   },
   "types_to_exclude": [
    "module",
    "function",
    "builtin_function_or_method",
    "instance",
    "_Feature"
   ],
   "window_display": false
  },
  "vscode": {
   "interpreter": {
    "hash": "4df6db6ee61ecce594abe4a5126666f3650dd9429b0086e59af8e3f897fc7111"
   }
  }
 },
 "nbformat": 4,
 "nbformat_minor": 5
}

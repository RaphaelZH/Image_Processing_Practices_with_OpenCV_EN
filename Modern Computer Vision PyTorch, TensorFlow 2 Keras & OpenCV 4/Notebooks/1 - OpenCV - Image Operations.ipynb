{
 "cells": [
  {
   "attachments": {},
   "cell_type": "markdown",
   "id": "a3414267",
   "metadata": {
    "hide_input": false
   },
   "source": [
    "# Importing Libraries\n"
   ]
  },
  {
   "cell_type": "code",
   "execution_count": 1,
   "id": "f180ba4e",
   "metadata": {
    "ExecuteTime": {
     "end_time": "2023-04-18T21:18:49.673605Z",
     "start_time": "2023-04-18T21:18:49.525667Z"
    },
    "hide_input": false
   },
   "outputs": [],
   "source": [
    "import cv2"
   ]
  },
  {
   "cell_type": "code",
   "execution_count": 2,
   "id": "8d3f4a03",
   "metadata": {
    "ExecuteTime": {
     "end_time": "2023-04-16T14:53:11.014699Z",
     "start_time": "2023-04-16T14:53:10.825479Z"
    }
   },
   "outputs": [],
   "source": [
    "import matplotlib as mpl\n",
    "import matplotlib.pyplot as plt"
   ]
  },
  {
   "cell_type": "code",
   "execution_count": 3,
   "id": "df01e59c",
   "metadata": {
    "ExecuteTime": {
     "end_time": "2023-04-16T14:53:11.017493Z",
     "start_time": "2023-04-16T14:53:11.015735Z"
    }
   },
   "outputs": [],
   "source": [
    "import io, os, reprlib, requests, sys, zipfile"
   ]
  },
  {
   "attachments": {},
   "cell_type": "markdown",
   "id": "be31ad1b",
   "metadata": {},
   "source": [
    "# Configuring Visualization Parameters\n"
   ]
  },
  {
   "cell_type": "code",
   "execution_count": 4,
   "id": "06b9b4d6",
   "metadata": {
    "ExecuteTime": {
     "end_time": "2023-04-16T14:53:11.024775Z",
     "start_time": "2023-04-16T14:53:11.018986Z"
    },
    "hide_input": false
   },
   "outputs": [],
   "source": [
    "%matplotlib inline"
   ]
  },
  {
   "cell_type": "code",
   "execution_count": 5,
   "id": "83ba15ab",
   "metadata": {
    "ExecuteTime": {
     "end_time": "2023-04-16T14:53:11.027491Z",
     "start_time": "2023-04-16T14:53:11.025816Z"
    }
   },
   "outputs": [],
   "source": [
    "XINHUI = \"#7a7374\"\n",
    "XUEBAI = \"#fffef9\"\n",
    "YINBAI = \"#f1f0ed\"\n",
    "YINHUI = \"#918072\"\n",
    "\n",
    "figure_size = (16, 9)"
   ]
  },
  {
   "cell_type": "code",
   "execution_count": 6,
   "id": "de31803f",
   "metadata": {
    "ExecuteTime": {
     "end_time": "2023-04-16T14:53:11.030791Z",
     "start_time": "2023-04-16T14:53:11.028376Z"
    }
   },
   "outputs": [],
   "source": [
    "custom_params = {\n",
    "    \"axes.axisbelow\": True,\n",
    "    \"axes.edgecolor\": YINBAI,\n",
    "    \"axes.facecolor\": XUEBAI,\n",
    "    \"axes.grid\": True,\n",
    "    \"axes.labelcolor\": XINHUI,\n",
    "    \"axes.spines.right\": False,\n",
    "    \"axes.spines.top\": False,\n",
    "    \"axes.titlecolor\": XINHUI,\n",
    "    \"figure.edgecolor\": YINBAI,\n",
    "    \"figure.facecolor\": XUEBAI,\n",
    "    \"grid.alpha\": .8,\n",
    "    \"grid.color\": YINBAI,\n",
    "    \"grid.linestyle\": \"--\",\n",
    "    \"grid.linewidth\": 1.2,\n",
    "    \"legend.edgecolor\": YINHUI,\n",
    "    \"patch.edgecolor\": XUEBAI,\n",
    "    \"patch.force_edgecolor\": True,\n",
    "    \"text.color\": XINHUI,\n",
    "    \"xtick.color\": YINHUI,\n",
    "    \"ytick.color\": YINHUI\n",
    "}\n",
    "\n",
    "mpl.rcParams.update(custom_params)"
   ]
  },
  {
   "attachments": {},
   "cell_type": "markdown",
   "id": "a0715261",
   "metadata": {},
   "source": [
    "# Configuring Other Notebook Parameters\n"
   ]
  },
  {
   "cell_type": "code",
   "execution_count": 7,
   "id": "938e989a",
   "metadata": {},
   "outputs": [],
   "source": [
    "reprlib_rules = reprlib.Repr()\n",
    "reprlib_rules.maxother = 250"
   ]
  },
  {
   "attachments": {},
   "cell_type": "markdown",
   "id": "b3f31405",
   "metadata": {},
   "source": [
    "# Pre-installing Custom Functions\n"
   ]
  },
  {
   "cell_type": "code",
   "execution_count": 8,
   "id": "d55fa0bc",
   "metadata": {
    "ExecuteTime": {
     "end_time": "2023-04-16T14:53:11.033260Z",
     "start_time": "2023-04-16T14:53:11.031783Z"
    }
   },
   "outputs": [],
   "source": [
    "sys.path.append(\"../\")"
   ]
  },
  {
   "cell_type": "code",
   "execution_count": 9,
   "id": "5491b492",
   "metadata": {
    "ExecuteTime": {
     "end_time": "2023-04-16T14:53:11.213693Z",
     "start_time": "2023-04-16T14:53:11.034169Z"
    }
   },
   "outputs": [],
   "source": [
    "from Modules import *"
   ]
  },
  {
   "attachments": {},
   "cell_type": "markdown",
   "id": "57517e47",
   "metadata": {},
   "source": [
    "# Downloading Images\n"
   ]
  },
  {
   "cell_type": "code",
   "execution_count": 10,
   "id": "7dc80036",
   "metadata": {},
   "outputs": [],
   "source": [
    "\n",
    "if os.path.exists(\"../Images/\") == False:\n",
    "    request = requests.get(\"https://moderncomputervision.s3.eu-west-2.amazonaws.com/images.zip\")\n",
    "    zipdata = zipfile.ZipFile(io.BytesIO(request.content))\n",
    "    zipinfos = zipdata.infolist()\n",
    "    for zipinfo in zipinfos:\n",
    "        infos = list(zipinfo.filename.split(\"/\"))\n",
    "        if infos[0] != \"__MACOSX\" and infos[-1] != \"\":\n",
    "            zipinfo.filename = infos[-1]\n",
    "            zipdata.extract(zipinfo, \"../Images/\")"
   ]
  },
  {
   "attachments": {},
   "cell_type": "markdown",
   "id": "79c37e21",
   "metadata": {},
   "source": [
    "# Practicing in Stages\n",
    "\n",
    "## Getting Started with OpenCV 4\n"
   ]
  },
  {
   "cell_type": "code",
   "execution_count": 11,
   "id": "cb28d810",
   "metadata": {},
   "outputs": [
    {
     "name": "stdout",
     "output_type": "stream",
     "text": [
      "\u001b[4m\u001b[34mLoading images by OpenCV\u001b[0m\n",
      "\n",
      "\u001b[1m\u001b[34m    +---------------------------------------------+\u001b[0m\n",
      "\u001b[1m\u001b[34m    | Statement                                   |\u001b[0m\n",
      "\u001b[1m\u001b[34m    +---------------------------------------------+\u001b[0m\n",
      "\u001b[1m\u001b[34m    | image = cv2.imread(\"./Images/castara.jpeg\") |\u001b[0m\n",
      "\u001b[1m\u001b[34m    +---------------------------------------------+\u001b[0m\n",
      "\u001b[1m\u001b[34m    +----------+-----------------------------------------+\u001b[0m\n",
      "\u001b[1m\u001b[34m    | Variable | Value                                   |\u001b[0m\n",
      "\u001b[1m\u001b[34m    +----------+-----------------------------------------+\u001b[0m\n",
      "\u001b[1m\u001b[34m    | image    | array([[[240, 153,  97],                |\u001b[0m\n",
      "\u001b[1m\u001b[34m    |          |         [240, 153,  97],                |\u001b[0m\n",
      "\u001b[1m\u001b[34m    |          |         [240, 153,  97],                |\u001b[0m\n",
      "\u001b[1m\u001b[34m    |          |         ...,                            |\u001b[0m\n",
      "\u001b[1m\u001b[34m    |          |         [ 40,  86, 104],                |\u001b[0m\n",
      "\u001b[1m\u001b[34m    |          |         [ ...     [ 29,  33,  38],      |\u001b[0m\n",
      "\u001b[1m\u001b[34m    |          |         ...,                            |\u001b[0m\n",
      "\u001b[1m\u001b[34m    |          |         [  9,  10,   8],                |\u001b[0m\n",
      "\u001b[1m\u001b[34m    |          |         [ 10,  11,   9],                |\u001b[0m\n",
      "\u001b[1m\u001b[34m    |          |         [ 11,  12,  10]]], dtype=uint8) |\u001b[0m\n",
      "\u001b[1m\u001b[34m    +----------+-----------------------------------------+\u001b[0m\n",
      "\u001b[1m\u001b[34m    +-------------+----------------+\u001b[0m\n",
      "\u001b[1m\u001b[34m    | Expression  | Result         |\u001b[0m\n",
      "\u001b[1m\u001b[34m    +-------------+----------------+\u001b[0m\n",
      "\u001b[1m\u001b[34m    | image.shape | (1280, 960, 3) |\u001b[0m\n",
      "\u001b[1m\u001b[34m    +-------------+----------------+\u001b[0m\n"
     ]
    }
   ],
   "source": [
    "image = cv2.imread(\"../Images/castara.jpeg\")\n",
    "\n",
    "tabulation = Form_Generator()\n",
    "tabulation.heading_printer(\"Loading images by OpenCV\")\n",
    "\n",
    "statements = [\"image = cv2.imread(\\\"./Images/castara.jpeg\\\")\"]\n",
    "tabulation.statement_generator(statements)\n",
    "\n",
    "variables = [\"image\"]\n",
    "values = [str(reprlib_rules.repr(image))]\n",
    "tabulation.variable_generator(variables, values)\n",
    "\n",
    "expressions = [\"image.shape\"]\n",
    "results = [str(image.shape)]\n",
    "tabulation.expression_generator(expressions, results)"
   ]
  },
  {
   "cell_type": "code",
   "execution_count": null,
   "id": "5451bd43",
   "metadata": {
    "ExecuteTime": {
     "end_time": "2023-04-16T14:53:11.226132Z",
     "start_time": "2023-04-16T14:53:11.214676Z"
    },
    "hide_input": false,
    "scrolled": true
   },
   "outputs": [],
   "source": []
  },
  {
   "cell_type": "code",
   "execution_count": null,
   "id": "21bf37af",
   "metadata": {
    "ExecuteTime": {
     "end_time": "2023-04-16T14:53:11.230645Z",
     "start_time": "2023-04-16T14:53:11.228418Z"
    },
    "hide_input": false,
    "scrolled": true
   },
   "outputs": [],
   "source": []
  }
 ],
 "metadata": {
  "hide_input": false,
  "kernelspec": {
   "display_name": "Python 3 (ipykernel)",
   "language": "python",
   "name": "python3"
  },
  "language_info": {
   "codemirror_mode": {
    "name": "ipython",
    "version": 3
   },
   "file_extension": ".py",
   "mimetype": "text/x-python",
   "name": "python",
   "nbconvert_exporter": "python",
   "pygments_lexer": "ipython3",
   "version": "3.10.10"
  },
  "latex_envs": {
   "LaTeX_envs_menu_present": true,
   "autoclose": false,
   "autocomplete": true,
   "bibliofile": "biblio.bib",
   "cite_by": "apalike",
   "current_citInitial": 1,
   "eqLabelWithNumbers": true,
   "eqNumInitial": 1,
   "hotkeys": {
    "equation": "Ctrl-E",
    "itemize": "Ctrl-I"
   },
   "labels_anchors": false,
   "latex_user_defs": false,
   "report_style_numbering": false,
   "user_envs_cfg": false
  },
  "nbTranslate": {
   "displayLangs": [
    "*"
   ],
   "hotkey": "alt-t",
   "langInMainMenu": true,
   "sourceLang": "en",
   "targetLang": "fr",
   "useGoogleTranslate": true
  },
  "toc": {
   "base_numbering": 1,
   "nav_menu": {},
   "number_sections": true,
   "sideBar": true,
   "skip_h1_title": false,
   "title_cell": "Table of Contents",
   "title_sidebar": "Contents",
   "toc_cell": false,
   "toc_position": {
    "height": "716px",
    "left": "51px",
    "top": "180px",
    "width": "345.594px"
   },
   "toc_section_display": false,
   "toc_window_display": true
  },
  "varInspector": {
   "cols": {
    "lenName": 16,
    "lenType": 16,
    "lenVar": 40
   },
   "kernels_config": {
    "python": {
     "delete_cmd_postfix": "",
     "delete_cmd_prefix": "del ",
     "library": "var_list.py",
     "varRefreshCmd": "print(var_dic_list())"
    },
    "r": {
     "delete_cmd_postfix": ") ",
     "delete_cmd_prefix": "rm(",
     "library": "var_list.r",
     "varRefreshCmd": "cat(var_dic_list()) "
    }
   },
   "types_to_exclude": [
    "module",
    "function",
    "builtin_function_or_method",
    "instance",
    "_Feature"
   ],
   "window_display": false
  },
  "vscode": {
   "interpreter": {
    "hash": "4df6db6ee61ecce594abe4a5126666f3650dd9429b0086e59af8e3f897fc7111"
   }
  }
 },
 "nbformat": 4,
 "nbformat_minor": 5
}

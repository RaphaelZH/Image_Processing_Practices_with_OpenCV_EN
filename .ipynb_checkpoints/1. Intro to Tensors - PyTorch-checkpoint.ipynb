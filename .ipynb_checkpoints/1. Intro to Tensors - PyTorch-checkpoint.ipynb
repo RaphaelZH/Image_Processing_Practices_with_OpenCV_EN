{
 "cells": [
  {
   "cell_type": "markdown",
   "id": "91832e71",
   "metadata": {},
   "source": [
    "# Importing the Libraries"
   ]
  },
  {
   "cell_type": "code",
   "execution_count": 1,
   "id": "5730c8dd",
   "metadata": {
    "ExecuteTime": {
     "end_time": "2022-07-18T14:44:10.679592Z",
     "start_time": "2022-07-18T14:44:09.856729Z"
    }
   },
   "outputs": [],
   "source": [
    "import torch\n",
    "import numpy as np\n",
    "import matplotlib.pyplot as plt"
   ]
  },
  {
   "cell_type": "markdown",
   "id": "c700ed7b",
   "metadata": {},
   "source": [
    "# 1 Dimensional Tensors"
   ]
  },
  {
   "cell_type": "code",
   "execution_count": 2,
   "id": "e4108c21",
   "metadata": {
    "ExecuteTime": {
     "end_time": "2022-07-18T14:44:10.688834Z",
     "start_time": "2022-07-18T14:44:10.683180Z"
    }
   },
   "outputs": [
    {
     "name": "stdout",
     "output_type": "stream",
     "text": [
      "tensor([1, 2, 3, 4, 5, 6])\n",
      "torch.int64\n",
      "torch.LongTensor\n"
     ]
    }
   ],
   "source": [
    "v = torch.tensor([1, 2, 3, 4, 5, 6])\n",
    "print(v)\n",
    "print(v.dtype)\n",
    "print(v.type())"
   ]
  },
  {
   "cell_type": "code",
   "execution_count": 3,
   "id": "8e3371e1",
   "metadata": {
    "ExecuteTime": {
     "end_time": "2022-07-18T14:44:10.695508Z",
     "start_time": "2022-07-18T14:44:10.690928Z"
    }
   },
   "outputs": [
    {
     "name": "stdout",
     "output_type": "stream",
     "text": [
      "tensor(1)\n",
      "tensor([2, 3, 4, 5])\n",
      "tensor(6)\n"
     ]
    }
   ],
   "source": [
    "print(v[0])\n",
    "print(v[1:-1])\n",
    "print(v[-1])"
   ]
  },
  {
   "cell_type": "code",
   "execution_count": 4,
   "id": "bb83b8ac",
   "metadata": {
    "ExecuteTime": {
     "end_time": "2022-07-18T14:44:10.704306Z",
     "start_time": "2022-07-18T14:44:10.701837Z"
    }
   },
   "outputs": [
    {
     "name": "stdout",
     "output_type": "stream",
     "text": [
      "tensor([1., 2., 3., 4., 5., 6.])\n",
      "torch.float32\n",
      "torch.FloatTensor\n"
     ]
    }
   ],
   "source": [
    "f = torch.FloatTensor([1, 2, 3, 4, 5, 6])\n",
    "print(f)\n",
    "print(f.dtype)\n",
    "print(f.type())"
   ]
  },
  {
   "cell_type": "code",
   "execution_count": 5,
   "id": "71911ec0",
   "metadata": {
    "ExecuteTime": {
     "end_time": "2022-07-18T14:44:10.707012Z",
     "start_time": "2022-07-18T14:44:10.705168Z"
    }
   },
   "outputs": [
    {
     "name": "stdout",
     "output_type": "stream",
     "text": [
      "tensor([[1],\n",
      "        [2],\n",
      "        [3],\n",
      "        [4],\n",
      "        [5],\n",
      "        [6]])\n"
     ]
    }
   ],
   "source": [
    "print(v.view(6, 1))"
   ]
  },
  {
   "cell_type": "code",
   "execution_count": 6,
   "id": "0d649a02",
   "metadata": {
    "ExecuteTime": {
     "end_time": "2022-07-18T14:44:10.710149Z",
     "start_time": "2022-07-18T14:44:10.708052Z"
    }
   },
   "outputs": [
    {
     "name": "stdout",
     "output_type": "stream",
     "text": [
      "tensor([[1, 2],\n",
      "        [3, 4],\n",
      "        [5, 6]])\n"
     ]
    }
   ],
   "source": [
    "print(v.view(3, 2))"
   ]
  },
  {
   "cell_type": "code",
   "execution_count": 7,
   "id": "5997f764",
   "metadata": {
    "ExecuteTime": {
     "end_time": "2022-07-18T14:44:10.712919Z",
     "start_time": "2022-07-18T14:44:10.710993Z"
    }
   },
   "outputs": [
    {
     "name": "stdout",
     "output_type": "stream",
     "text": [
      "tensor([[1, 2],\n",
      "        [3, 4],\n",
      "        [5, 6]])\n"
     ]
    }
   ],
   "source": [
    "print(v.view(3, -1))"
   ]
  },
  {
   "cell_type": "code",
   "execution_count": 8,
   "id": "242c42af",
   "metadata": {
    "ExecuteTime": {
     "end_time": "2022-07-18T14:44:10.715943Z",
     "start_time": "2022-07-18T14:44:10.713656Z"
    }
   },
   "outputs": [
    {
     "name": "stdout",
     "output_type": "stream",
     "text": [
      "tensor([1, 2, 3, 4, 5, 6])\n",
      "torch.LongTensor\n"
     ]
    }
   ],
   "source": [
    "a = np.array([1, 2, 3, 4, 5, 6])\n",
    "tensor_cnv = torch.from_numpy(a)\n",
    "print(tensor_cnv)\n",
    "print(tensor_cnv.type())"
   ]
  },
  {
   "cell_type": "code",
   "execution_count": 9,
   "id": "6cf25c44",
   "metadata": {
    "ExecuteTime": {
     "end_time": "2022-07-18T14:44:10.718514Z",
     "start_time": "2022-07-18T14:44:10.716787Z"
    }
   },
   "outputs": [
    {
     "name": "stdout",
     "output_type": "stream",
     "text": [
      "[1 2 3 4 5 6]\n",
      "<class 'numpy.ndarray'>\n"
     ]
    }
   ],
   "source": [
    "numpy_cnv = tensor_cnv.numpy()\n",
    "print(numpy_cnv)\n",
    "print(type(numpy_cnv))"
   ]
  },
  {
   "cell_type": "markdown",
   "id": "72762a1f",
   "metadata": {},
   "source": [
    "# Vector Operations"
   ]
  },
  {
   "cell_type": "code",
   "execution_count": 10,
   "id": "32e40746",
   "metadata": {
    "ExecuteTime": {
     "end_time": "2022-07-18T14:44:10.723813Z",
     "start_time": "2022-07-18T14:44:10.721307Z"
    }
   },
   "outputs": [
    {
     "name": "stdout",
     "output_type": "stream",
     "text": [
      "tensor([2, 4, 6])\n",
      "tensor([1, 4, 9])\n",
      "tensor([ 5, 10, 15])\n"
     ]
    }
   ],
   "source": [
    "t_one = torch.tensor([1, 2, 3])\n",
    "t_two = torch.tensor([1, 2, 3])\n",
    "print(t_one + t_two)\n",
    "print(t_one * t_two)\n",
    "print(t_one * 5)"
   ]
  },
  {
   "cell_type": "code",
   "execution_count": 11,
   "id": "2688ad89",
   "metadata": {
    "ExecuteTime": {
     "end_time": "2022-07-18T14:44:10.726339Z",
     "start_time": "2022-07-18T14:44:10.724680Z"
    }
   },
   "outputs": [
    {
     "name": "stdout",
     "output_type": "stream",
     "text": [
      "tensor(14)\n"
     ]
    }
   ],
   "source": [
    "dot_product = torch.dot(t_one, t_two)\n",
    "print(dot_product)"
   ]
  },
  {
   "cell_type": "code",
   "execution_count": 12,
   "id": "7305dc3a",
   "metadata": {
    "ExecuteTime": {
     "end_time": "2022-07-18T14:44:10.729933Z",
     "start_time": "2022-07-18T14:44:10.727340Z"
    }
   },
   "outputs": [
    {
     "name": "stdout",
     "output_type": "stream",
     "text": [
      "tensor([ 0.0000,  2.5000,  5.0000,  7.5000, 10.0000])\n",
      "tensor([1.0000e+00, 1.2182e+01, 1.4841e+02, 1.8080e+03, 2.2026e+04])\n"
     ]
    }
   ],
   "source": [
    "x = torch.linspace(0, 10, 5)\n",
    "y = torch.exp(x)\n",
    "print(x)\n",
    "print(y)"
   ]
  },
  {
   "cell_type": "code",
   "execution_count": 13,
   "id": "d1f62878",
   "metadata": {
    "ExecuteTime": {
     "end_time": "2022-07-18T14:44:10.784450Z",
     "start_time": "2022-07-18T14:44:10.730983Z"
    }
   },
   "outputs": [
    {
     "data": {
      "text/plain": [
       "[<matplotlib.lines.Line2D at 0x10d19c160>]"
      ]
     },
     "execution_count": 13,
     "metadata": {},
     "output_type": "execute_result"
    },
    {
     "data": {
      "image/png": "[encoded data removed]",
      "text/plain": [
       "<Figure size 432x288 with 1 Axes>"
      ]
     },
     "metadata": {
      "needs_background": "light"
     },
     "output_type": "display_data"
    }
   ],
   "source": [
    "plt.plot(x.numpy(), y.numpy(), c=np.random.rand(3))"
   ]
  },
  {
   "cell_type": "code",
   "execution_count": 14,
   "id": "58b32ca5",
   "metadata": {
    "ExecuteTime": {
     "end_time": "2022-07-18T14:44:10.823906Z",
     "start_time": "2022-07-18T14:44:10.785331Z"
    }
   },
   "outputs": [
    {
     "data": {
      "text/plain": [
       "[<matplotlib.lines.Line2D at 0x10d290280>]"
      ]
     },
     "execution_count": 14,
     "metadata": {},
     "output_type": "execute_result"
    },
    {
     "data": {
      "image/png": "[encoded data removed]",
      "text/plain": [
       "<Figure size 432x288 with 1 Axes>"
      ]
     },
     "metadata": {
      "needs_background": "light"
     },
     "output_type": "display_data"
    }
   ],
   "source": [
    "x = torch.linspace(0, 10, 100)\n",
    "y = torch.exp(x)\n",
    "plt.plot(x.numpy(), y.numpy(), c=np.random.rand(3))"
   ]
  },
  {
   "cell_type": "code",
   "execution_count": 15,
   "id": "514d4768",
   "metadata": {
    "ExecuteTime": {
     "end_time": "2022-07-18T14:44:10.870482Z",
     "start_time": "2022-07-18T14:44:10.824889Z"
    }
   },
   "outputs": [
    {
     "data": {
      "text/plain": [
       "[<matplotlib.lines.Line2D at 0x10d2f4a30>]"
      ]
     },
     "execution_count": 15,
     "metadata": {},
     "output_type": "execute_result"
    },
    {
     "data": {
      "image/png": "[encoded data removed]",
      "text/plain": [
       "<Figure size 432x288 with 1 Axes>"
      ]
     },
     "metadata": {
      "needs_background": "light"
     },
     "output_type": "display_data"
    }
   ],
   "source": [
    "y = torch.sin(x)\n",
    "plt.plot(x.numpy(), y.numpy(), c=np.random.rand(3))"
   ]
  },
  {
   "cell_type": "markdown",
   "id": "c1883977",
   "metadata": {},
   "source": [
    "# 2 Dimensional Tensors"
   ]
  },
  {
   "cell_type": "code",
   "execution_count": 16,
   "id": "3d4cf74a",
   "metadata": {
    "ExecuteTime": {
     "end_time": "2022-07-18T14:44:10.873892Z",
     "start_time": "2022-07-18T14:44:10.871746Z"
    }
   },
   "outputs": [
    {
     "name": "stdout",
     "output_type": "stream",
     "text": [
      "tensor([2, 3, 4, 5, 6])\n"
     ]
    }
   ],
   "source": [
    "one_d = torch.arange(2, 7)\n",
    "print(one_d)"
   ]
  },
  {
   "cell_type": "code",
   "execution_count": 17,
   "id": "b29bb076",
   "metadata": {
    "ExecuteTime": {
     "end_time": "2022-07-18T14:44:10.877285Z",
     "start_time": "2022-07-18T14:44:10.875051Z"
    }
   },
   "outputs": [
    {
     "name": "stdout",
     "output_type": "stream",
     "text": [
      "tensor([2, 4, 6])\n"
     ]
    }
   ],
   "source": [
    "one_d = torch.arange(2, 7, 2)\n",
    "print(one_d)"
   ]
  },
  {
   "cell_type": "code",
   "execution_count": 18,
   "id": "5943981e",
   "metadata": {
    "ExecuteTime": {
     "end_time": "2022-07-18T14:44:10.885496Z",
     "start_time": "2022-07-18T14:44:10.878671Z"
    }
   },
   "outputs": [
    {
     "name": "stdout",
     "output_type": "stream",
     "text": [
      "tensor([0, 1, 2, 3, 4, 5, 6, 7, 8])\n",
      "1\n"
     ]
    }
   ],
   "source": [
    "one_d = torch.arange(0, 9)\n",
    "print(one_d)\n",
    "print(one_d.dim())"
   ]
  },
  {
   "cell_type": "code",
   "execution_count": 19,
   "id": "b25dfd74",
   "metadata": {
    "ExecuteTime": {
     "end_time": "2022-07-18T14:45:01.229215Z",
     "start_time": "2022-07-18T14:45:01.219460Z"
    }
   },
   "outputs": [
    {
     "name": "stdout",
     "output_type": "stream",
     "text": [
      "tensor([[0, 1, 2],\n",
      "        [3, 4, 5],\n",
      "        [6, 7, 8]])\n",
      "2\n"
     ]
    }
   ],
   "source": [
    "two_d = one_d.view(3, 3)\n",
    "print(two_d)\n",
    "print(two_d.dim())"
   ]
  },
  {
   "cell_type": "code",
   "execution_count": 27,
   "id": "c53dde1c",
   "metadata": {
    "ExecuteTime": {
     "end_time": "2022-07-18T14:47:55.218466Z",
     "start_time": "2022-07-18T14:47:55.210763Z"
    }
   },
   "outputs": [
    {
     "name": "stdout",
     "output_type": "stream",
     "text": [
      "tensor([0, 1, 2])\n",
      "tensor([0, 3, 6])\n",
      "tensor(0)\n",
      "tensor(5)\n"
     ]
    }
   ],
   "source": [
    "print(two_d[0])\n",
    "print(two_d[:, 0])\n",
    "print(two_d[0, 0])\n",
    "print(two_d[1, 2])"
   ]
  },
  {
   "cell_type": "code",
   "execution_count": 28,
   "id": "6016d31f",
   "metadata": {
    "ExecuteTime": {
     "end_time": "2022-07-18T14:53:53.563612Z",
     "start_time": "2022-07-18T14:53:53.555096Z"
    }
   },
   "outputs": [
    {
     "name": "stdout",
     "output_type": "stream",
     "text": [
      "tensor([[[ 0,  1,  2],\n",
      "         [ 3,  4,  5],\n",
      "         [ 6,  7,  8]],\n",
      "\n",
      "        [[ 9, 10, 11],\n",
      "         [12, 13, 14],\n",
      "         [15, 16, 17]]])\n"
     ]
    }
   ],
   "source": [
    "three_d = torch.arange(18).view(2, 3, 3)\n",
    "print(three_d)"
   ]
  },
  {
   "cell_type": "code",
   "execution_count": 30,
   "id": "b19b721d",
   "metadata": {
    "ExecuteTime": {
     "end_time": "2022-07-18T14:54:38.273128Z",
     "start_time": "2022-07-18T14:54:38.262055Z"
    }
   },
   "outputs": [
    {
     "name": "stdout",
     "output_type": "stream",
     "text": [
      "tensor([[[ 0,  1,  2],\n",
      "         [ 3,  4,  5]],\n",
      "\n",
      "        [[ 6,  7,  8],\n",
      "         [ 9, 10, 11]],\n",
      "\n",
      "        [[12, 13, 14],\n",
      "         [15, 16, 17]]])\n"
     ]
    }
   ],
   "source": [
    "three_d = torch.arange(18).view(3, 2, 3)\n",
    "print(three_d)"
   ]
  },
  {
   "cell_type": "code",
   "execution_count": 32,
   "id": "00ca3e52",
   "metadata": {
    "ExecuteTime": {
     "end_time": "2022-07-18T14:54:52.190271Z",
     "start_time": "2022-07-18T14:54:52.181614Z"
    }
   },
   "outputs": [
    {
     "name": "stdout",
     "output_type": "stream",
     "text": [
      "tensor([[[ 0,  1],\n",
      "         [ 2,  3],\n",
      "         [ 4,  5]],\n",
      "\n",
      "        [[ 6,  7],\n",
      "         [ 8,  9],\n",
      "         [10, 11]],\n",
      "\n",
      "        [[12, 13],\n",
      "         [14, 15],\n",
      "         [16, 17]]])\n"
     ]
    }
   ],
   "source": [
    "three_d = torch.arange(18).view(3, 3, 2)\n",
    "print(three_d)"
   ]
  },
  {
   "cell_type": "code",
   "execution_count": 34,
   "id": "a6dc102c",
   "metadata": {
    "ExecuteTime": {
     "end_time": "2022-07-18T14:55:45.648631Z",
     "start_time": "2022-07-18T14:55:45.637375Z"
    }
   },
   "outputs": [
    {
     "name": "stdout",
     "output_type": "stream",
     "text": [
      "tensor([[[ 0,  1,  2,  3],\n",
      "         [ 4,  5,  6,  7],\n",
      "         [ 8,  9, 10, 11]],\n",
      "\n",
      "        [[12, 13, 14, 15],\n",
      "         [16, 17, 18, 19],\n",
      "         [20, 21, 22, 23]],\n",
      "\n",
      "        [[24, 25, 26, 27],\n",
      "         [28, 29, 30, 31],\n",
      "         [32, 33, 34, 35]]])\n"
     ]
    }
   ],
   "source": [
    "three_d = torch.arange(36).view(3, 3, 4)\n",
    "print(three_d)"
   ]
  },
  {
   "cell_type": "markdown",
   "id": "b82aee20",
   "metadata": {},
   "source": [
    "# Slicing 3D Tensors"
   ]
  },
  {
   "cell_type": "code",
   "execution_count": 35,
   "id": "a8307e77",
   "metadata": {
    "ExecuteTime": {
     "end_time": "2022-07-18T15:41:36.265602Z",
     "start_time": "2022-07-18T15:41:36.257097Z"
    }
   },
   "outputs": [
    {
     "name": "stdout",
     "output_type": "stream",
     "text": [
      "tensor([[[ 0,  1,  2],\n",
      "         [ 3,  4,  5]],\n",
      "\n",
      "        [[ 6,  7,  8],\n",
      "         [ 9, 10, 11]],\n",
      "\n",
      "        [[12, 13, 14],\n",
      "         [15, 16, 17]]])\n"
     ]
    }
   ],
   "source": [
    "three_d = torch.arange(18).view(3, 2, 3)\n",
    "print(three_d)"
   ]
  },
  {
   "cell_type": "code",
   "execution_count": 36,
   "id": "679b096c",
   "metadata": {
    "ExecuteTime": {
     "end_time": "2022-07-18T15:55:32.803482Z",
     "start_time": "2022-07-18T15:55:32.786481Z"
    }
   },
   "outputs": [
    {
     "name": "stdout",
     "output_type": "stream",
     "text": [
      "tensor(10)\n"
     ]
    }
   ],
   "source": [
    "print(three_d[1, 1, 1])"
   ]
  },
  {
   "cell_type": "code",
   "execution_count": 44,
   "id": "589600a6",
   "metadata": {
    "ExecuteTime": {
     "end_time": "2022-07-18T15:58:55.137183Z",
     "start_time": "2022-07-18T15:58:55.127830Z"
    }
   },
   "outputs": [
    {
     "name": "stdout",
     "output_type": "stream",
     "text": [
      "tensor([[ 7,  8],\n",
      "        [10, 11]])\n"
     ]
    }
   ],
   "source": [
    "print(three_d[1, 0:2, 1:3])"
   ]
  },
  {
   "cell_type": "code",
   "execution_count": 37,
   "id": "e2c3d37a",
   "metadata": {
    "ExecuteTime": {
     "end_time": "2022-07-18T15:55:58.636977Z",
     "start_time": "2022-07-18T15:55:58.627489Z"
    }
   },
   "outputs": [
    {
     "name": "stdout",
     "output_type": "stream",
     "text": [
      "tensor([[ 6,  7,  8],\n",
      "        [ 9, 10, 11]])\n"
     ]
    }
   ],
   "source": [
    "print(three_d[1, 0:2, 0:3])"
   ]
  },
  {
   "cell_type": "code",
   "execution_count": 38,
   "id": "0ed58ad6",
   "metadata": {
    "ExecuteTime": {
     "end_time": "2022-07-18T15:56:07.017686Z",
     "start_time": "2022-07-18T15:56:07.008246Z"
    }
   },
   "outputs": [
    {
     "name": "stdout",
     "output_type": "stream",
     "text": [
      "tensor([[ 6,  7,  8],\n",
      "        [ 9, 10, 11]])\n"
     ]
    }
   ],
   "source": [
    "print(three_d[1, :, :])"
   ]
  },
  {
   "cell_type": "markdown",
   "id": "81eda2ee",
   "metadata": {},
   "source": [
    "# Matrix Multiplication"
   ]
  },
  {
   "cell_type": "code",
   "execution_count": null,
   "id": "38acada4",
   "metadata": {},
   "outputs": [],
   "source": []
  },
  {
   "cell_type": "code",
   "execution_count": null,
   "id": "a257e6b3",
   "metadata": {},
   "outputs": [],
   "source": []
  },
  {
   "cell_type": "code",
   "execution_count": null,
   "id": "626c8aa8",
   "metadata": {},
   "outputs": [],
   "source": []
  },
  {
   "cell_type": "code",
   "execution_count": null,
   "id": "01fa6801",
   "metadata": {},
   "outputs": [],
   "source": []
  },
  {
   "cell_type": "code",
   "execution_count": null,
   "id": "f5754c48",
   "metadata": {},
   "outputs": [],
   "source": []
  },
  {
   "cell_type": "code",
   "execution_count": null,
   "id": "c5b29cea",
   "metadata": {},
   "outputs": [],
   "source": []
  },
  {
   "cell_type": "code",
   "execution_count": null,
   "id": "3bba7fb5",
   "metadata": {},
   "outputs": [],
   "source": []
  },
  {
   "cell_type": "code",
   "execution_count": null,
   "id": "1b625850",
   "metadata": {},
   "outputs": [],
   "source": []
  },
  {
   "cell_type": "code",
   "execution_count": null,
   "id": "f665b9f8",
   "metadata": {},
   "outputs": [],
   "source": []
  }
 ],
 "metadata": {
  "hide_input": false,
  "kernelspec": {
   "display_name": "Python 3 (ipykernel)",
   "language": "python",
   "name": "python3"
  },
  "language_info": {
   "codemirror_mode": {
    "name": "ipython",
    "version": 3
   },
   "file_extension": ".py",
   "mimetype": "text/x-python",
   "name": "python",
   "nbconvert_exporter": "python",
   "pygments_lexer": "ipython3",
   "version": "3.9.12"
  },
  "latex_envs": {
   "LaTeX_envs_menu_present": true,
   "autoclose": false,
   "autocomplete": true,
   "bibliofile": "biblio.bib",
   "cite_by": "apalike",
   "current_citInitial": 1,
   "eqLabelWithNumbers": true,
   "eqNumInitial": 1,
   "hotkeys": {
    "equation": "Ctrl-E",
    "itemize": "Ctrl-I"
   },
   "labels_anchors": false,
   "latex_user_defs": false,
   "report_style_numbering": false,
   "user_envs_cfg": false
  },
  "nbTranslate": {
   "displayLangs": [
    "*"
   ],
   "hotkey": "alt-t",
   "langInMainMenu": true,
   "sourceLang": "en",
   "targetLang": "fr",
   "useGoogleTranslate": true
  },
  "toc": {
   "base_numbering": 1,
   "nav_menu": {},
   "number_sections": true,
   "sideBar": true,
   "skip_h1_title": false,
   "title_cell": "Table of Contents",
   "title_sidebar": "Contents",
   "toc_cell": false,
   "toc_position": {},
   "toc_section_display": true,
   "toc_window_display": true
  }
 },
 "nbformat": 4,
 "nbformat_minor": 5
}
